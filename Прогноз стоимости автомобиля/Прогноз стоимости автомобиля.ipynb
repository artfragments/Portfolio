{
 "cells": [
  {
   "cell_type": "markdown",
   "metadata": {},
   "source": [
    "# Прогноз стоимости автомобилей"
   ]
  },
  {
   "cell_type": "markdown",
   "metadata": {},
   "source": [
    "Сервис по продаже автомобилей с пробегом «Не бит, не крашен» разрабатывает приложение для привлечения новых клиентов. В нём можно быстро узнать рыночную стоимость своего автомобиля. В вашем распоряжении исторические данные: технические характеристики, комплектации и цены автомобилей. Вам нужно построить модель для определения стоимости. \n",
    "\n",
    "Заказчику важны:\n",
    "\n",
    "- качество предсказания;\n",
    "- скорость предсказания;\n",
    "- время обучения."
   ]
  },
  {
   "cell_type": "markdown",
   "metadata": {},
   "source": [
    "## Подготовка данных"
   ]
  },
  {
   "cell_type": "markdown",
   "metadata": {},
   "source": [
    "Импортируем все необходимые библиотеки в следующей ячейке:"
   ]
  },
  {
   "cell_type": "code",
   "execution_count": 1,
   "metadata": {},
   "outputs": [],
   "source": [
    "import pandas as pd\n",
    "import numpy as np\n",
    "from sklearn.model_selection import train_test_split\n",
    "from sklearn.preprocessing import StandardScaler\n",
    "from sklearn.metrics import mean_squared_error\n",
    "from sklearn.linear_model import LinearRegression\n",
    "from catboost import CatBoostRegressor\n",
    "from lightgbm import LGBMRegressor\n",
    "from sklearn.model_selection import GridSearchCV\n",
    "from sklearn.metrics import make_scorer\n",
    "import math\n",
    "import time\n",
    "import warnings\n",
    "warnings.simplefilter(\"ignore\")"
   ]
  },
  {
   "cell_type": "markdown",
   "metadata": {},
   "source": [
    "Откроем датасет:"
   ]
  },
  {
   "cell_type": "code",
   "execution_count": 2,
   "metadata": {},
   "outputs": [
    {
     "data": {
      "text/html": [
       "<div>\n",
       "<style scoped>\n",
       "    .dataframe tbody tr th:only-of-type {\n",
       "        vertical-align: middle;\n",
       "    }\n",
       "\n",
       "    .dataframe tbody tr th {\n",
       "        vertical-align: top;\n",
       "    }\n",
       "\n",
       "    .dataframe thead th {\n",
       "        text-align: right;\n",
       "    }\n",
       "</style>\n",
       "<table border=\"1\" class=\"dataframe\">\n",
       "  <thead>\n",
       "    <tr style=\"text-align: right;\">\n",
       "      <th></th>\n",
       "      <th>DateCrawled</th>\n",
       "      <th>Price</th>\n",
       "      <th>VehicleType</th>\n",
       "      <th>RegistrationYear</th>\n",
       "      <th>Gearbox</th>\n",
       "      <th>Power</th>\n",
       "      <th>Model</th>\n",
       "      <th>Kilometer</th>\n",
       "      <th>RegistrationMonth</th>\n",
       "      <th>FuelType</th>\n",
       "      <th>Brand</th>\n",
       "      <th>NotRepaired</th>\n",
       "      <th>DateCreated</th>\n",
       "      <th>NumberOfPictures</th>\n",
       "      <th>PostalCode</th>\n",
       "      <th>LastSeen</th>\n",
       "    </tr>\n",
       "  </thead>\n",
       "  <tbody>\n",
       "    <tr>\n",
       "      <th>0</th>\n",
       "      <td>2016-03-24 11:52:17</td>\n",
       "      <td>480</td>\n",
       "      <td>NaN</td>\n",
       "      <td>1993</td>\n",
       "      <td>manual</td>\n",
       "      <td>0</td>\n",
       "      <td>golf</td>\n",
       "      <td>150000</td>\n",
       "      <td>0</td>\n",
       "      <td>petrol</td>\n",
       "      <td>volkswagen</td>\n",
       "      <td>NaN</td>\n",
       "      <td>2016-03-24 00:00:00</td>\n",
       "      <td>0</td>\n",
       "      <td>70435</td>\n",
       "      <td>2016-04-07 03:16:57</td>\n",
       "    </tr>\n",
       "    <tr>\n",
       "      <th>1</th>\n",
       "      <td>2016-03-24 10:58:45</td>\n",
       "      <td>18300</td>\n",
       "      <td>coupe</td>\n",
       "      <td>2011</td>\n",
       "      <td>manual</td>\n",
       "      <td>190</td>\n",
       "      <td>NaN</td>\n",
       "      <td>125000</td>\n",
       "      <td>5</td>\n",
       "      <td>gasoline</td>\n",
       "      <td>audi</td>\n",
       "      <td>yes</td>\n",
       "      <td>2016-03-24 00:00:00</td>\n",
       "      <td>0</td>\n",
       "      <td>66954</td>\n",
       "      <td>2016-04-07 01:46:50</td>\n",
       "    </tr>\n",
       "    <tr>\n",
       "      <th>2</th>\n",
       "      <td>2016-03-14 12:52:21</td>\n",
       "      <td>9800</td>\n",
       "      <td>suv</td>\n",
       "      <td>2004</td>\n",
       "      <td>auto</td>\n",
       "      <td>163</td>\n",
       "      <td>grand</td>\n",
       "      <td>125000</td>\n",
       "      <td>8</td>\n",
       "      <td>gasoline</td>\n",
       "      <td>jeep</td>\n",
       "      <td>NaN</td>\n",
       "      <td>2016-03-14 00:00:00</td>\n",
       "      <td>0</td>\n",
       "      <td>90480</td>\n",
       "      <td>2016-04-05 12:47:46</td>\n",
       "    </tr>\n",
       "    <tr>\n",
       "      <th>3</th>\n",
       "      <td>2016-03-17 16:54:04</td>\n",
       "      <td>1500</td>\n",
       "      <td>small</td>\n",
       "      <td>2001</td>\n",
       "      <td>manual</td>\n",
       "      <td>75</td>\n",
       "      <td>golf</td>\n",
       "      <td>150000</td>\n",
       "      <td>6</td>\n",
       "      <td>petrol</td>\n",
       "      <td>volkswagen</td>\n",
       "      <td>no</td>\n",
       "      <td>2016-03-17 00:00:00</td>\n",
       "      <td>0</td>\n",
       "      <td>91074</td>\n",
       "      <td>2016-03-17 17:40:17</td>\n",
       "    </tr>\n",
       "    <tr>\n",
       "      <th>4</th>\n",
       "      <td>2016-03-31 17:25:20</td>\n",
       "      <td>3600</td>\n",
       "      <td>small</td>\n",
       "      <td>2008</td>\n",
       "      <td>manual</td>\n",
       "      <td>69</td>\n",
       "      <td>fabia</td>\n",
       "      <td>90000</td>\n",
       "      <td>7</td>\n",
       "      <td>gasoline</td>\n",
       "      <td>skoda</td>\n",
       "      <td>no</td>\n",
       "      <td>2016-03-31 00:00:00</td>\n",
       "      <td>0</td>\n",
       "      <td>60437</td>\n",
       "      <td>2016-04-06 10:17:21</td>\n",
       "    </tr>\n",
       "    <tr>\n",
       "      <th>...</th>\n",
       "      <td>...</td>\n",
       "      <td>...</td>\n",
       "      <td>...</td>\n",
       "      <td>...</td>\n",
       "      <td>...</td>\n",
       "      <td>...</td>\n",
       "      <td>...</td>\n",
       "      <td>...</td>\n",
       "      <td>...</td>\n",
       "      <td>...</td>\n",
       "      <td>...</td>\n",
       "      <td>...</td>\n",
       "      <td>...</td>\n",
       "      <td>...</td>\n",
       "      <td>...</td>\n",
       "      <td>...</td>\n",
       "    </tr>\n",
       "    <tr>\n",
       "      <th>354364</th>\n",
       "      <td>2016-03-21 09:50:58</td>\n",
       "      <td>0</td>\n",
       "      <td>NaN</td>\n",
       "      <td>2005</td>\n",
       "      <td>manual</td>\n",
       "      <td>0</td>\n",
       "      <td>colt</td>\n",
       "      <td>150000</td>\n",
       "      <td>7</td>\n",
       "      <td>petrol</td>\n",
       "      <td>mitsubishi</td>\n",
       "      <td>yes</td>\n",
       "      <td>2016-03-21 00:00:00</td>\n",
       "      <td>0</td>\n",
       "      <td>2694</td>\n",
       "      <td>2016-03-21 10:42:49</td>\n",
       "    </tr>\n",
       "    <tr>\n",
       "      <th>354365</th>\n",
       "      <td>2016-03-14 17:48:27</td>\n",
       "      <td>2200</td>\n",
       "      <td>NaN</td>\n",
       "      <td>2005</td>\n",
       "      <td>NaN</td>\n",
       "      <td>0</td>\n",
       "      <td>NaN</td>\n",
       "      <td>20000</td>\n",
       "      <td>1</td>\n",
       "      <td>NaN</td>\n",
       "      <td>sonstige_autos</td>\n",
       "      <td>NaN</td>\n",
       "      <td>2016-03-14 00:00:00</td>\n",
       "      <td>0</td>\n",
       "      <td>39576</td>\n",
       "      <td>2016-04-06 00:46:52</td>\n",
       "    </tr>\n",
       "    <tr>\n",
       "      <th>354366</th>\n",
       "      <td>2016-03-05 19:56:21</td>\n",
       "      <td>1199</td>\n",
       "      <td>convertible</td>\n",
       "      <td>2000</td>\n",
       "      <td>auto</td>\n",
       "      <td>101</td>\n",
       "      <td>fortwo</td>\n",
       "      <td>125000</td>\n",
       "      <td>3</td>\n",
       "      <td>petrol</td>\n",
       "      <td>smart</td>\n",
       "      <td>no</td>\n",
       "      <td>2016-03-05 00:00:00</td>\n",
       "      <td>0</td>\n",
       "      <td>26135</td>\n",
       "      <td>2016-03-11 18:17:12</td>\n",
       "    </tr>\n",
       "    <tr>\n",
       "      <th>354367</th>\n",
       "      <td>2016-03-19 18:57:12</td>\n",
       "      <td>9200</td>\n",
       "      <td>bus</td>\n",
       "      <td>1996</td>\n",
       "      <td>manual</td>\n",
       "      <td>102</td>\n",
       "      <td>transporter</td>\n",
       "      <td>150000</td>\n",
       "      <td>3</td>\n",
       "      <td>gasoline</td>\n",
       "      <td>volkswagen</td>\n",
       "      <td>no</td>\n",
       "      <td>2016-03-19 00:00:00</td>\n",
       "      <td>0</td>\n",
       "      <td>87439</td>\n",
       "      <td>2016-04-07 07:15:26</td>\n",
       "    </tr>\n",
       "    <tr>\n",
       "      <th>354368</th>\n",
       "      <td>2016-03-20 19:41:08</td>\n",
       "      <td>3400</td>\n",
       "      <td>wagon</td>\n",
       "      <td>2002</td>\n",
       "      <td>manual</td>\n",
       "      <td>100</td>\n",
       "      <td>golf</td>\n",
       "      <td>150000</td>\n",
       "      <td>6</td>\n",
       "      <td>gasoline</td>\n",
       "      <td>volkswagen</td>\n",
       "      <td>NaN</td>\n",
       "      <td>2016-03-20 00:00:00</td>\n",
       "      <td>0</td>\n",
       "      <td>40764</td>\n",
       "      <td>2016-03-24 12:45:21</td>\n",
       "    </tr>\n",
       "  </tbody>\n",
       "</table>\n",
       "<p>354369 rows × 16 columns</p>\n",
       "</div>"
      ],
      "text/plain": [
       "                DateCrawled  Price  VehicleType  RegistrationYear Gearbox  \\\n",
       "0       2016-03-24 11:52:17    480          NaN              1993  manual   \n",
       "1       2016-03-24 10:58:45  18300        coupe              2011  manual   \n",
       "2       2016-03-14 12:52:21   9800          suv              2004    auto   \n",
       "3       2016-03-17 16:54:04   1500        small              2001  manual   \n",
       "4       2016-03-31 17:25:20   3600        small              2008  manual   \n",
       "...                     ...    ...          ...               ...     ...   \n",
       "354364  2016-03-21 09:50:58      0          NaN              2005  manual   \n",
       "354365  2016-03-14 17:48:27   2200          NaN              2005     NaN   \n",
       "354366  2016-03-05 19:56:21   1199  convertible              2000    auto   \n",
       "354367  2016-03-19 18:57:12   9200          bus              1996  manual   \n",
       "354368  2016-03-20 19:41:08   3400        wagon              2002  manual   \n",
       "\n",
       "        Power        Model  Kilometer  RegistrationMonth  FuelType  \\\n",
       "0           0         golf     150000                  0    petrol   \n",
       "1         190          NaN     125000                  5  gasoline   \n",
       "2         163        grand     125000                  8  gasoline   \n",
       "3          75         golf     150000                  6    petrol   \n",
       "4          69        fabia      90000                  7  gasoline   \n",
       "...       ...          ...        ...                ...       ...   \n",
       "354364      0         colt     150000                  7    petrol   \n",
       "354365      0          NaN      20000                  1       NaN   \n",
       "354366    101       fortwo     125000                  3    petrol   \n",
       "354367    102  transporter     150000                  3  gasoline   \n",
       "354368    100         golf     150000                  6  gasoline   \n",
       "\n",
       "                 Brand NotRepaired          DateCreated  NumberOfPictures  \\\n",
       "0           volkswagen         NaN  2016-03-24 00:00:00                 0   \n",
       "1                 audi         yes  2016-03-24 00:00:00                 0   \n",
       "2                 jeep         NaN  2016-03-14 00:00:00                 0   \n",
       "3           volkswagen          no  2016-03-17 00:00:00                 0   \n",
       "4                skoda          no  2016-03-31 00:00:00                 0   \n",
       "...                ...         ...                  ...               ...   \n",
       "354364      mitsubishi         yes  2016-03-21 00:00:00                 0   \n",
       "354365  sonstige_autos         NaN  2016-03-14 00:00:00                 0   \n",
       "354366           smart          no  2016-03-05 00:00:00                 0   \n",
       "354367      volkswagen          no  2016-03-19 00:00:00                 0   \n",
       "354368      volkswagen         NaN  2016-03-20 00:00:00                 0   \n",
       "\n",
       "        PostalCode             LastSeen  \n",
       "0            70435  2016-04-07 03:16:57  \n",
       "1            66954  2016-04-07 01:46:50  \n",
       "2            90480  2016-04-05 12:47:46  \n",
       "3            91074  2016-03-17 17:40:17  \n",
       "4            60437  2016-04-06 10:17:21  \n",
       "...            ...                  ...  \n",
       "354364        2694  2016-03-21 10:42:49  \n",
       "354365       39576  2016-04-06 00:46:52  \n",
       "354366       26135  2016-03-11 18:17:12  \n",
       "354367       87439  2016-04-07 07:15:26  \n",
       "354368       40764  2016-03-24 12:45:21  \n",
       "\n",
       "[354369 rows x 16 columns]"
      ]
     },
     "execution_count": 2,
     "metadata": {},
     "output_type": "execute_result"
    }
   ],
   "source": [
    "df = pd.read_csv('/datasets/autos.csv')\n",
    "df"
   ]
  },
  {
   "cell_type": "code",
   "execution_count": 3,
   "metadata": {},
   "outputs": [
    {
     "name": "stdout",
     "output_type": "stream",
     "text": [
      "<class 'pandas.core.frame.DataFrame'>\n",
      "RangeIndex: 354369 entries, 0 to 354368\n",
      "Data columns (total 16 columns):\n",
      " #   Column             Non-Null Count   Dtype \n",
      "---  ------             --------------   ----- \n",
      " 0   DateCrawled        354369 non-null  object\n",
      " 1   Price              354369 non-null  int64 \n",
      " 2   VehicleType        316879 non-null  object\n",
      " 3   RegistrationYear   354369 non-null  int64 \n",
      " 4   Gearbox            334536 non-null  object\n",
      " 5   Power              354369 non-null  int64 \n",
      " 6   Model              334664 non-null  object\n",
      " 7   Kilometer          354369 non-null  int64 \n",
      " 8   RegistrationMonth  354369 non-null  int64 \n",
      " 9   FuelType           321474 non-null  object\n",
      " 10  Brand              354369 non-null  object\n",
      " 11  NotRepaired        283215 non-null  object\n",
      " 12  DateCreated        354369 non-null  object\n",
      " 13  NumberOfPictures   354369 non-null  int64 \n",
      " 14  PostalCode         354369 non-null  int64 \n",
      " 15  LastSeen           354369 non-null  object\n",
      "dtypes: int64(7), object(9)\n",
      "memory usage: 43.3+ MB\n"
     ]
    }
   ],
   "source": [
    "df.info()"
   ]
  },
  {
   "cell_type": "markdown",
   "metadata": {},
   "source": [
    "В датасете много пропусков, сперва заполним столбец NotRepaired. Данный столбец как судя по всему все остальные имеющие пропуски заполняется вручную, и скорее всего столбец ремонта не заполнили намеренно, так как ремонт машины существенно влияет на стоимость, и некоторые пользователи могли хотеть скрыть этот факт, на мой взгляд лучше будет указать в нем not specified, для того чтобы модель и такие данные брала для предсказания."
   ]
  },
  {
   "cell_type": "code",
   "execution_count": 4,
   "metadata": {},
   "outputs": [
    {
     "data": {
      "text/plain": [
       "no               247161\n",
       "not specified     71154\n",
       "yes               36054\n",
       "Name: NotRepaired, dtype: int64"
      ]
     },
     "execution_count": 4,
     "metadata": {},
     "output_type": "execute_result"
    }
   ],
   "source": [
    "df['NotRepaired'] = df['NotRepaired'].fillna('not specified')\n",
    "df['NotRepaired'].value_counts()"
   ]
  },
  {
   "cell_type": "markdown",
   "metadata": {},
   "source": [
    "Далее удалим пустые значений в столбце Model, так как этот параметр имеет наибольший вес при оценке предсказаний будет не целесообразно заполнять пустые значения. Так же после заполним столбцы VehicleType значениями other, а так же Gearbox значениями auto. Gearbox заполняем значениями auto, так как скорее всего пропуски здесь остались потому что клиенты не знали что указать имея в машине коробку робот или вариатор, но будем считать их разновидностью автомата и заполним столбец значениями auto. "
   ]
  },
  {
   "cell_type": "code",
   "execution_count": 5,
   "metadata": {},
   "outputs": [
    {
     "data": {
      "text/plain": [
       "petrol      207162\n",
       "gasoline     95857\n",
       "lpg           4962\n",
       "cng            544\n",
       "hybrid         208\n",
       "other          133\n",
       "electric        66\n",
       "Name: FuelType, dtype: int64"
      ]
     },
     "execution_count": 5,
     "metadata": {},
     "output_type": "execute_result"
    }
   ],
   "source": [
    "df= df.dropna(subset=['Model'])\n",
    "df= df.dropna(subset=['Power'])\n",
    "df['VehicleType'] = df['VehicleType'].fillna('other')\n",
    "df['Gearbox'] = df['Gearbox'].fillna('auto')\n",
    "df['FuelType'].value_counts()"
   ]
  },
  {
   "cell_type": "markdown",
   "metadata": {},
   "source": [
    "Судя по всему, бензин записан в двух формах: petrol, gasoline. Лучше будет привести их к одной, и так как бензин все-таки преобладает как вид топлива пропуски лучше заполнить им:"
   ]
  },
  {
   "cell_type": "code",
   "execution_count": 6,
   "metadata": {},
   "outputs": [
    {
     "data": {
      "text/html": [
       "<div>\n",
       "<style scoped>\n",
       "    .dataframe tbody tr th:only-of-type {\n",
       "        vertical-align: middle;\n",
       "    }\n",
       "\n",
       "    .dataframe tbody tr th {\n",
       "        vertical-align: top;\n",
       "    }\n",
       "\n",
       "    .dataframe thead th {\n",
       "        text-align: right;\n",
       "    }\n",
       "</style>\n",
       "<table border=\"1\" class=\"dataframe\">\n",
       "  <thead>\n",
       "    <tr style=\"text-align: right;\">\n",
       "      <th></th>\n",
       "      <th>DateCrawled</th>\n",
       "      <th>Price</th>\n",
       "      <th>VehicleType</th>\n",
       "      <th>RegistrationYear</th>\n",
       "      <th>Gearbox</th>\n",
       "      <th>Power</th>\n",
       "      <th>Model</th>\n",
       "      <th>Kilometer</th>\n",
       "      <th>RegistrationMonth</th>\n",
       "      <th>FuelType</th>\n",
       "      <th>Brand</th>\n",
       "      <th>NotRepaired</th>\n",
       "      <th>DateCreated</th>\n",
       "      <th>NumberOfPictures</th>\n",
       "      <th>PostalCode</th>\n",
       "      <th>LastSeen</th>\n",
       "    </tr>\n",
       "  </thead>\n",
       "  <tbody>\n",
       "    <tr>\n",
       "      <th>0</th>\n",
       "      <td>2016-03-24 11:52:17</td>\n",
       "      <td>480</td>\n",
       "      <td>other</td>\n",
       "      <td>1993</td>\n",
       "      <td>manual</td>\n",
       "      <td>0</td>\n",
       "      <td>golf</td>\n",
       "      <td>150000</td>\n",
       "      <td>0</td>\n",
       "      <td>petrol</td>\n",
       "      <td>volkswagen</td>\n",
       "      <td>not specified</td>\n",
       "      <td>2016-03-24 00:00:00</td>\n",
       "      <td>0</td>\n",
       "      <td>70435</td>\n",
       "      <td>2016-04-07 03:16:57</td>\n",
       "    </tr>\n",
       "    <tr>\n",
       "      <th>2</th>\n",
       "      <td>2016-03-14 12:52:21</td>\n",
       "      <td>9800</td>\n",
       "      <td>suv</td>\n",
       "      <td>2004</td>\n",
       "      <td>auto</td>\n",
       "      <td>163</td>\n",
       "      <td>grand</td>\n",
       "      <td>125000</td>\n",
       "      <td>8</td>\n",
       "      <td>petrol</td>\n",
       "      <td>jeep</td>\n",
       "      <td>not specified</td>\n",
       "      <td>2016-03-14 00:00:00</td>\n",
       "      <td>0</td>\n",
       "      <td>90480</td>\n",
       "      <td>2016-04-05 12:47:46</td>\n",
       "    </tr>\n",
       "    <tr>\n",
       "      <th>3</th>\n",
       "      <td>2016-03-17 16:54:04</td>\n",
       "      <td>1500</td>\n",
       "      <td>small</td>\n",
       "      <td>2001</td>\n",
       "      <td>manual</td>\n",
       "      <td>75</td>\n",
       "      <td>golf</td>\n",
       "      <td>150000</td>\n",
       "      <td>6</td>\n",
       "      <td>petrol</td>\n",
       "      <td>volkswagen</td>\n",
       "      <td>no</td>\n",
       "      <td>2016-03-17 00:00:00</td>\n",
       "      <td>0</td>\n",
       "      <td>91074</td>\n",
       "      <td>2016-03-17 17:40:17</td>\n",
       "    </tr>\n",
       "    <tr>\n",
       "      <th>4</th>\n",
       "      <td>2016-03-31 17:25:20</td>\n",
       "      <td>3600</td>\n",
       "      <td>small</td>\n",
       "      <td>2008</td>\n",
       "      <td>manual</td>\n",
       "      <td>69</td>\n",
       "      <td>fabia</td>\n",
       "      <td>90000</td>\n",
       "      <td>7</td>\n",
       "      <td>petrol</td>\n",
       "      <td>skoda</td>\n",
       "      <td>no</td>\n",
       "      <td>2016-03-31 00:00:00</td>\n",
       "      <td>0</td>\n",
       "      <td>60437</td>\n",
       "      <td>2016-04-06 10:17:21</td>\n",
       "    </tr>\n",
       "    <tr>\n",
       "      <th>5</th>\n",
       "      <td>2016-04-04 17:36:23</td>\n",
       "      <td>650</td>\n",
       "      <td>sedan</td>\n",
       "      <td>1995</td>\n",
       "      <td>manual</td>\n",
       "      <td>102</td>\n",
       "      <td>3er</td>\n",
       "      <td>150000</td>\n",
       "      <td>10</td>\n",
       "      <td>petrol</td>\n",
       "      <td>bmw</td>\n",
       "      <td>yes</td>\n",
       "      <td>2016-04-04 00:00:00</td>\n",
       "      <td>0</td>\n",
       "      <td>33775</td>\n",
       "      <td>2016-04-06 19:17:07</td>\n",
       "    </tr>\n",
       "    <tr>\n",
       "      <th>...</th>\n",
       "      <td>...</td>\n",
       "      <td>...</td>\n",
       "      <td>...</td>\n",
       "      <td>...</td>\n",
       "      <td>...</td>\n",
       "      <td>...</td>\n",
       "      <td>...</td>\n",
       "      <td>...</td>\n",
       "      <td>...</td>\n",
       "      <td>...</td>\n",
       "      <td>...</td>\n",
       "      <td>...</td>\n",
       "      <td>...</td>\n",
       "      <td>...</td>\n",
       "      <td>...</td>\n",
       "      <td>...</td>\n",
       "    </tr>\n",
       "    <tr>\n",
       "      <th>354363</th>\n",
       "      <td>2016-03-27 20:36:20</td>\n",
       "      <td>1150</td>\n",
       "      <td>bus</td>\n",
       "      <td>2000</td>\n",
       "      <td>manual</td>\n",
       "      <td>0</td>\n",
       "      <td>zafira</td>\n",
       "      <td>150000</td>\n",
       "      <td>3</td>\n",
       "      <td>petrol</td>\n",
       "      <td>opel</td>\n",
       "      <td>no</td>\n",
       "      <td>2016-03-27 00:00:00</td>\n",
       "      <td>0</td>\n",
       "      <td>26624</td>\n",
       "      <td>2016-03-29 10:17:23</td>\n",
       "    </tr>\n",
       "    <tr>\n",
       "      <th>354364</th>\n",
       "      <td>2016-03-21 09:50:58</td>\n",
       "      <td>0</td>\n",
       "      <td>other</td>\n",
       "      <td>2005</td>\n",
       "      <td>manual</td>\n",
       "      <td>0</td>\n",
       "      <td>colt</td>\n",
       "      <td>150000</td>\n",
       "      <td>7</td>\n",
       "      <td>petrol</td>\n",
       "      <td>mitsubishi</td>\n",
       "      <td>yes</td>\n",
       "      <td>2016-03-21 00:00:00</td>\n",
       "      <td>0</td>\n",
       "      <td>2694</td>\n",
       "      <td>2016-03-21 10:42:49</td>\n",
       "    </tr>\n",
       "    <tr>\n",
       "      <th>354366</th>\n",
       "      <td>2016-03-05 19:56:21</td>\n",
       "      <td>1199</td>\n",
       "      <td>convertible</td>\n",
       "      <td>2000</td>\n",
       "      <td>auto</td>\n",
       "      <td>101</td>\n",
       "      <td>fortwo</td>\n",
       "      <td>125000</td>\n",
       "      <td>3</td>\n",
       "      <td>petrol</td>\n",
       "      <td>smart</td>\n",
       "      <td>no</td>\n",
       "      <td>2016-03-05 00:00:00</td>\n",
       "      <td>0</td>\n",
       "      <td>26135</td>\n",
       "      <td>2016-03-11 18:17:12</td>\n",
       "    </tr>\n",
       "    <tr>\n",
       "      <th>354367</th>\n",
       "      <td>2016-03-19 18:57:12</td>\n",
       "      <td>9200</td>\n",
       "      <td>bus</td>\n",
       "      <td>1996</td>\n",
       "      <td>manual</td>\n",
       "      <td>102</td>\n",
       "      <td>transporter</td>\n",
       "      <td>150000</td>\n",
       "      <td>3</td>\n",
       "      <td>petrol</td>\n",
       "      <td>volkswagen</td>\n",
       "      <td>no</td>\n",
       "      <td>2016-03-19 00:00:00</td>\n",
       "      <td>0</td>\n",
       "      <td>87439</td>\n",
       "      <td>2016-04-07 07:15:26</td>\n",
       "    </tr>\n",
       "    <tr>\n",
       "      <th>354368</th>\n",
       "      <td>2016-03-20 19:41:08</td>\n",
       "      <td>3400</td>\n",
       "      <td>wagon</td>\n",
       "      <td>2002</td>\n",
       "      <td>manual</td>\n",
       "      <td>100</td>\n",
       "      <td>golf</td>\n",
       "      <td>150000</td>\n",
       "      <td>6</td>\n",
       "      <td>petrol</td>\n",
       "      <td>volkswagen</td>\n",
       "      <td>not specified</td>\n",
       "      <td>2016-03-20 00:00:00</td>\n",
       "      <td>0</td>\n",
       "      <td>40764</td>\n",
       "      <td>2016-03-24 12:45:21</td>\n",
       "    </tr>\n",
       "  </tbody>\n",
       "</table>\n",
       "<p>334664 rows × 16 columns</p>\n",
       "</div>"
      ],
      "text/plain": [
       "                DateCrawled  Price  VehicleType  RegistrationYear Gearbox  \\\n",
       "0       2016-03-24 11:52:17    480        other              1993  manual   \n",
       "2       2016-03-14 12:52:21   9800          suv              2004    auto   \n",
       "3       2016-03-17 16:54:04   1500        small              2001  manual   \n",
       "4       2016-03-31 17:25:20   3600        small              2008  manual   \n",
       "5       2016-04-04 17:36:23    650        sedan              1995  manual   \n",
       "...                     ...    ...          ...               ...     ...   \n",
       "354363  2016-03-27 20:36:20   1150          bus              2000  manual   \n",
       "354364  2016-03-21 09:50:58      0        other              2005  manual   \n",
       "354366  2016-03-05 19:56:21   1199  convertible              2000    auto   \n",
       "354367  2016-03-19 18:57:12   9200          bus              1996  manual   \n",
       "354368  2016-03-20 19:41:08   3400        wagon              2002  manual   \n",
       "\n",
       "        Power        Model  Kilometer  RegistrationMonth FuelType       Brand  \\\n",
       "0           0         golf     150000                  0   petrol  volkswagen   \n",
       "2         163        grand     125000                  8   petrol        jeep   \n",
       "3          75         golf     150000                  6   petrol  volkswagen   \n",
       "4          69        fabia      90000                  7   petrol       skoda   \n",
       "5         102          3er     150000                 10   petrol         bmw   \n",
       "...       ...          ...        ...                ...      ...         ...   \n",
       "354363      0       zafira     150000                  3   petrol        opel   \n",
       "354364      0         colt     150000                  7   petrol  mitsubishi   \n",
       "354366    101       fortwo     125000                  3   petrol       smart   \n",
       "354367    102  transporter     150000                  3   petrol  volkswagen   \n",
       "354368    100         golf     150000                  6   petrol  volkswagen   \n",
       "\n",
       "          NotRepaired          DateCreated  NumberOfPictures  PostalCode  \\\n",
       "0       not specified  2016-03-24 00:00:00                 0       70435   \n",
       "2       not specified  2016-03-14 00:00:00                 0       90480   \n",
       "3                  no  2016-03-17 00:00:00                 0       91074   \n",
       "4                  no  2016-03-31 00:00:00                 0       60437   \n",
       "5                 yes  2016-04-04 00:00:00                 0       33775   \n",
       "...               ...                  ...               ...         ...   \n",
       "354363             no  2016-03-27 00:00:00                 0       26624   \n",
       "354364            yes  2016-03-21 00:00:00                 0        2694   \n",
       "354366             no  2016-03-05 00:00:00                 0       26135   \n",
       "354367             no  2016-03-19 00:00:00                 0       87439   \n",
       "354368  not specified  2016-03-20 00:00:00                 0       40764   \n",
       "\n",
       "                   LastSeen  \n",
       "0       2016-04-07 03:16:57  \n",
       "2       2016-04-05 12:47:46  \n",
       "3       2016-03-17 17:40:17  \n",
       "4       2016-04-06 10:17:21  \n",
       "5       2016-04-06 19:17:07  \n",
       "...                     ...  \n",
       "354363  2016-03-29 10:17:23  \n",
       "354364  2016-03-21 10:42:49  \n",
       "354366  2016-03-11 18:17:12  \n",
       "354367  2016-04-07 07:15:26  \n",
       "354368  2016-03-24 12:45:21  \n",
       "\n",
       "[334664 rows x 16 columns]"
      ]
     },
     "execution_count": 6,
     "metadata": {},
     "output_type": "execute_result"
    }
   ],
   "source": [
    "df.loc[df['FuelType'] == 'gasoline', 'FuelType'] = 'petrol'\n",
    "df['FuelType'] = df['FuelType'].fillna('petrol')\n",
    "df "
   ]
  },
  {
   "cell_type": "markdown",
   "metadata": {},
   "source": [
    "Далее удалим столбец DateCrawled он полностью соответствует столбцу DateCreated, к тому же даже если этот параметр и отличается то не думаю что он как-то повлияет на итоговую оценку стоиомсти авто. Аналогично поступим и с LastSeen и DateCreated, так как посещаемость пользователя не влияет на стоимость авто как и дата публикации объявления. "
   ]
  },
  {
   "cell_type": "code",
   "execution_count": 7,
   "metadata": {},
   "outputs": [
    {
     "data": {
      "text/plain": [
       "0    334664\n",
       "Name: NumberOfPictures, dtype: int64"
      ]
     },
     "execution_count": 7,
     "metadata": {},
     "output_type": "execute_result"
    }
   ],
   "source": [
    "df = df.drop(columns = ['DateCrawled'],axis = 1)\n",
    "df = df.drop(columns = ['LastSeen'],axis = 1)\n",
    "df = df.drop(columns = ['DateCreated'],axis = 1)\n",
    "df['NumberOfPictures'].value_counts()"
   ]
  },
  {
   "cell_type": "code",
   "execution_count": 8,
   "metadata": {},
   "outputs": [
    {
     "data": {
      "text/plain": [
       "0        8588\n",
       "500      5215\n",
       "1500     5001\n",
       "1200     4299\n",
       "1000     4251\n",
       "         ... \n",
       "3988        1\n",
       "14227       1\n",
       "11920       1\n",
       "1429        1\n",
       "8188        1\n",
       "Name: Price, Length: 3670, dtype: int64"
      ]
     },
     "execution_count": 8,
     "metadata": {},
     "output_type": "execute_result"
    }
   ],
   "source": [
    "df['Price'].value_counts()"
   ]
  },
  {
   "cell_type": "markdown",
   "metadata": {},
   "source": [
    "Похоже в столбце NumberOfPictures все значения нули, поэтому будет лучше убрать этот столбец, так как он никакой роли не сыграет. Так же сразу удалим столбец PostalCode, им возможно было бы воспользоваться, если бы знали о каком регионе или стране идет речь, но так как у нас нет такой информации и мы не можем понять регион, то его лучше удалить. Также судя по всему в столбце таргетов price есть нулевой показатель цены, возможно клиенты хотели чтобы им позвонили и после обговорить цену с возможным покупателем, так как в этом случае его возможно будет легче уговорить, в этом случае цена может быть завышена по отношению к другим авто такой же модели, поэтому пытаться заполнить нули ценой из других объявлений с такими же машинами не совсем корректно, потому что это может негативно сказаться на прогнозе модели, поэтому эти данные лучше удалить."
   ]
  },
  {
   "cell_type": "code",
   "execution_count": 9,
   "metadata": {},
   "outputs": [
    {
     "name": "stdout",
     "output_type": "stream",
     "text": [
      "<class 'pandas.core.frame.DataFrame'>\n",
      "Int64Index: 326076 entries, 0 to 354368\n",
      "Data columns (total 11 columns):\n",
      " #   Column             Non-Null Count   Dtype \n",
      "---  ------             --------------   ----- \n",
      " 0   Price              326076 non-null  int64 \n",
      " 1   VehicleType        326076 non-null  object\n",
      " 2   RegistrationYear   326076 non-null  int64 \n",
      " 3   Gearbox            326076 non-null  object\n",
      " 4   Power              326076 non-null  int64 \n",
      " 5   Model              326076 non-null  object\n",
      " 6   Kilometer          326076 non-null  int64 \n",
      " 7   RegistrationMonth  326076 non-null  int64 \n",
      " 8   FuelType           326076 non-null  object\n",
      " 9   Brand              326076 non-null  object\n",
      " 10  NotRepaired        326076 non-null  object\n",
      "dtypes: int64(5), object(6)\n",
      "memory usage: 29.9+ MB\n"
     ]
    }
   ],
   "source": [
    "df = df.drop(columns = ['NumberOfPictures'],axis = 1)\n",
    "df = df.drop(columns = ['PostalCode'],axis = 1)\n",
    "df= df.query('Price != 0')\n",
    "df.info()"
   ]
  },
  {
   "cell_type": "markdown",
   "metadata": {},
   "source": [
    "Ноли также встречаются в столбце Power, мощность авто может быть равной нулю, возможны варианты когда машина на разбор или она без двигателя, модели нужно также определять и предсказывать такие варианты."
   ]
  },
  {
   "cell_type": "markdown",
   "metadata": {},
   "source": [
    "Далее проверим год выпуска:"
   ]
  },
  {
   "cell_type": "code",
   "execution_count": 12,
   "metadata": {},
   "outputs": [
    {
     "data": {
      "text/plain": [
       "[1000,\n",
       " 1001,\n",
       " 1234,\n",
       " 1300,\n",
       " 1400,\n",
       " 1500,\n",
       " 1600,\n",
       " 1602,\n",
       " 1800,\n",
       " 1910,\n",
       " 1923,\n",
       " 1927,\n",
       " 1928,\n",
       " 1929,\n",
       " 1930,\n",
       " 1931,\n",
       " 1932,\n",
       " 1933,\n",
       " 1934,\n",
       " 1935,\n",
       " 1936,\n",
       " 1937,\n",
       " 1938,\n",
       " 1941,\n",
       " 1942,\n",
       " 1943,\n",
       " 1945,\n",
       " 1947,\n",
       " 1949,\n",
       " 1950,\n",
       " 1951,\n",
       " 1952,\n",
       " 1953,\n",
       " 1954,\n",
       " 1955,\n",
       " 1956,\n",
       " 1957,\n",
       " 1958,\n",
       " 1959,\n",
       " 1960,\n",
       " 1961,\n",
       " 1962,\n",
       " 1963,\n",
       " 1964,\n",
       " 1965,\n",
       " 1966,\n",
       " 1967,\n",
       " 1968,\n",
       " 1969,\n",
       " 1970,\n",
       " 1971,\n",
       " 1972,\n",
       " 1973,\n",
       " 1974,\n",
       " 1975,\n",
       " 1976,\n",
       " 1977,\n",
       " 1978,\n",
       " 1979,\n",
       " 1980,\n",
       " 1981,\n",
       " 1982,\n",
       " 1983,\n",
       " 1984,\n",
       " 1985,\n",
       " 1986,\n",
       " 1987,\n",
       " 1988,\n",
       " 1989,\n",
       " 1990,\n",
       " 1991,\n",
       " 1992,\n",
       " 1993,\n",
       " 1994,\n",
       " 1995,\n",
       " 1996,\n",
       " 1997,\n",
       " 1998,\n",
       " 1999,\n",
       " 2000,\n",
       " 2001,\n",
       " 2002,\n",
       " 2003,\n",
       " 2004,\n",
       " 2005,\n",
       " 2006,\n",
       " 2007,\n",
       " 2008,\n",
       " 2009,\n",
       " 2010,\n",
       " 2011,\n",
       " 2012,\n",
       " 2013,\n",
       " 2014,\n",
       " 2015,\n",
       " 2016,\n",
       " 2017,\n",
       " 2018,\n",
       " 2019,\n",
       " 2066,\n",
       " 2200,\n",
       " 2290,\n",
       " 2500,\n",
       " 2900,\n",
       " 3000,\n",
       " 3700,\n",
       " 4000,\n",
       " 4500,\n",
       " 5000,\n",
       " 5555,\n",
       " 5900,\n",
       " 5911,\n",
       " 6000,\n",
       " 6500,\n",
       " 7000,\n",
       " 7100,\n",
       " 7800,\n",
       " 8000,\n",
       " 8200,\n",
       " 8500,\n",
       " 9000,\n",
       " 9999]"
      ]
     },
     "execution_count": 12,
     "metadata": {},
     "output_type": "execute_result"
    }
   ],
   "source": [
    "sorted(df['RegistrationYear'].unique())"
   ]
  },
  {
   "cell_type": "markdown",
   "metadata": {},
   "source": [
    "Судя по всему пользователи заполняли год как захочется, нужно понять сколько проблемных данных и скажутся они на показателях или нет, границами будут 1910 и 2016 год, в этих пределах данные кажутся наиболее достоверными, так как до 1910 года идут даты в которые машин еще просто не было, а среди объявлений вполне могли попасться раритеты, а после 2016 данные не актуальны для датасета, так как самая поздняя регистрация объявления была в 2016."
   ]
  },
  {
   "cell_type": "code",
   "execution_count": 13,
   "metadata": {},
   "outputs": [
    {
     "name": "stdout",
     "output_type": "stream",
     "text": [
      "Price                28\n",
      "VehicleType          28\n",
      "RegistrationYear     28\n",
      "Gearbox              28\n",
      "Power                28\n",
      "Model                28\n",
      "Kilometer            28\n",
      "RegistrationMonth    28\n",
      "FuelType             28\n",
      "Brand                28\n",
      "NotRepaired          28\n",
      "dtype: int64\n",
      "Price                11920\n",
      "VehicleType          11920\n",
      "RegistrationYear     11920\n",
      "Gearbox              11920\n",
      "Power                11920\n",
      "Model                11920\n",
      "Kilometer            11920\n",
      "RegistrationMonth    11920\n",
      "FuelType             11920\n",
      "Brand                11920\n",
      "NotRepaired          11920\n",
      "dtype: int64\n"
     ]
    }
   ],
   "source": [
    "print(df[df['RegistrationYear'] < 1910].count())\n",
    "print(df[df['RegistrationYear'] > 2016].count())"
   ]
  },
  {
   "cell_type": "markdown",
   "metadata": {},
   "source": [
    "Данных много, лучше будет их заменить на медианные значения годов выпуска в зависимости от модели."
   ]
  },
  {
   "cell_type": "code",
   "execution_count": 14,
   "metadata": {},
   "outputs": [],
   "source": [
    "year = df[df['RegistrationYear'] != 0]\n",
    "year = year.groupby('Model')['RegistrationYear'].median().reset_index().rename(columns = {'RegistrationYear': 'RegistrationYear_mean'})\n",
    "year['RegistrationYear_mean'] = year['RegistrationYear_mean'].astype('int')\n",
    "df = pd.merge(df, year, on='Model', how = 'left')  \n",
    "df.loc[df['RegistrationYear'] > 2016, ['RegistrationYear']] = df['RegistrationYear_mean']\n",
    "df.loc[df['RegistrationYear'] < 1910, ['RegistrationYear']] = df['RegistrationYear_mean']\n",
    "df = df.drop(columns = ['RegistrationYear_mean'],axis = 1)\n",
    "df['RegistrationYear'] = df['RegistrationYear'].astype('int')"
   ]
  },
  {
   "cell_type": "code",
   "execution_count": 15,
   "metadata": {},
   "outputs": [
    {
     "data": {
      "text/plain": [
       "[1910,\n",
       " 1923,\n",
       " 1927,\n",
       " 1928,\n",
       " 1929,\n",
       " 1930,\n",
       " 1931,\n",
       " 1932,\n",
       " 1933,\n",
       " 1934,\n",
       " 1935,\n",
       " 1936,\n",
       " 1937,\n",
       " 1938,\n",
       " 1941,\n",
       " 1942,\n",
       " 1943,\n",
       " 1945,\n",
       " 1947,\n",
       " 1949,\n",
       " 1950,\n",
       " 1951,\n",
       " 1952,\n",
       " 1953,\n",
       " 1954,\n",
       " 1955,\n",
       " 1956,\n",
       " 1957,\n",
       " 1958,\n",
       " 1959,\n",
       " 1960,\n",
       " 1961,\n",
       " 1962,\n",
       " 1963,\n",
       " 1964,\n",
       " 1965,\n",
       " 1966,\n",
       " 1967,\n",
       " 1968,\n",
       " 1969,\n",
       " 1970,\n",
       " 1971,\n",
       " 1972,\n",
       " 1973,\n",
       " 1974,\n",
       " 1975,\n",
       " 1976,\n",
       " 1977,\n",
       " 1978,\n",
       " 1979,\n",
       " 1980,\n",
       " 1981,\n",
       " 1982,\n",
       " 1983,\n",
       " 1984,\n",
       " 1985,\n",
       " 1986,\n",
       " 1987,\n",
       " 1988,\n",
       " 1989,\n",
       " 1990,\n",
       " 1991,\n",
       " 1992,\n",
       " 1993,\n",
       " 1994,\n",
       " 1995,\n",
       " 1996,\n",
       " 1997,\n",
       " 1998,\n",
       " 1999,\n",
       " 2000,\n",
       " 2001,\n",
       " 2002,\n",
       " 2003,\n",
       " 2004,\n",
       " 2005,\n",
       " 2006,\n",
       " 2007,\n",
       " 2008,\n",
       " 2009,\n",
       " 2010,\n",
       " 2011,\n",
       " 2012,\n",
       " 2013,\n",
       " 2014,\n",
       " 2015,\n",
       " 2016]"
      ]
     },
     "execution_count": 15,
     "metadata": {},
     "output_type": "execute_result"
    }
   ],
   "source": [
    "sorted(df['RegistrationYear'].unique())"
   ]
  },
  {
   "cell_type": "markdown",
   "metadata": {},
   "source": [
    "Далее преобразуем датасет и создадим отдельный датасет для логистической регрессии и для буст моделей:"
   ]
  },
  {
   "cell_type": "code",
   "execution_count": 16,
   "metadata": {
    "scrolled": true
   },
   "outputs": [
    {
     "data": {
      "text/html": [
       "<div>\n",
       "<style scoped>\n",
       "    .dataframe tbody tr th:only-of-type {\n",
       "        vertical-align: middle;\n",
       "    }\n",
       "\n",
       "    .dataframe tbody tr th {\n",
       "        vertical-align: top;\n",
       "    }\n",
       "\n",
       "    .dataframe thead th {\n",
       "        text-align: right;\n",
       "    }\n",
       "</style>\n",
       "<table border=\"1\" class=\"dataframe\">\n",
       "  <thead>\n",
       "    <tr style=\"text-align: right;\">\n",
       "      <th></th>\n",
       "      <th>Price</th>\n",
       "      <th>RegistrationYear</th>\n",
       "      <th>Power</th>\n",
       "      <th>Kilometer</th>\n",
       "      <th>RegistrationMonth</th>\n",
       "      <th>VehicleType_convertible</th>\n",
       "      <th>VehicleType_coupe</th>\n",
       "      <th>VehicleType_other</th>\n",
       "      <th>VehicleType_sedan</th>\n",
       "      <th>VehicleType_small</th>\n",
       "      <th>...</th>\n",
       "      <th>Brand_skoda</th>\n",
       "      <th>Brand_smart</th>\n",
       "      <th>Brand_subaru</th>\n",
       "      <th>Brand_suzuki</th>\n",
       "      <th>Brand_toyota</th>\n",
       "      <th>Brand_trabant</th>\n",
       "      <th>Brand_volkswagen</th>\n",
       "      <th>Brand_volvo</th>\n",
       "      <th>NotRepaired_not specified</th>\n",
       "      <th>NotRepaired_yes</th>\n",
       "    </tr>\n",
       "  </thead>\n",
       "  <tbody>\n",
       "    <tr>\n",
       "      <th>0</th>\n",
       "      <td>480</td>\n",
       "      <td>1993</td>\n",
       "      <td>0</td>\n",
       "      <td>150000</td>\n",
       "      <td>0</td>\n",
       "      <td>0</td>\n",
       "      <td>0</td>\n",
       "      <td>1</td>\n",
       "      <td>0</td>\n",
       "      <td>0</td>\n",
       "      <td>...</td>\n",
       "      <td>0</td>\n",
       "      <td>0</td>\n",
       "      <td>0</td>\n",
       "      <td>0</td>\n",
       "      <td>0</td>\n",
       "      <td>0</td>\n",
       "      <td>1</td>\n",
       "      <td>0</td>\n",
       "      <td>1</td>\n",
       "      <td>0</td>\n",
       "    </tr>\n",
       "    <tr>\n",
       "      <th>1</th>\n",
       "      <td>9800</td>\n",
       "      <td>2004</td>\n",
       "      <td>163</td>\n",
       "      <td>125000</td>\n",
       "      <td>8</td>\n",
       "      <td>0</td>\n",
       "      <td>0</td>\n",
       "      <td>0</td>\n",
       "      <td>0</td>\n",
       "      <td>0</td>\n",
       "      <td>...</td>\n",
       "      <td>0</td>\n",
       "      <td>0</td>\n",
       "      <td>0</td>\n",
       "      <td>0</td>\n",
       "      <td>0</td>\n",
       "      <td>0</td>\n",
       "      <td>0</td>\n",
       "      <td>0</td>\n",
       "      <td>1</td>\n",
       "      <td>0</td>\n",
       "    </tr>\n",
       "    <tr>\n",
       "      <th>2</th>\n",
       "      <td>1500</td>\n",
       "      <td>2001</td>\n",
       "      <td>75</td>\n",
       "      <td>150000</td>\n",
       "      <td>6</td>\n",
       "      <td>0</td>\n",
       "      <td>0</td>\n",
       "      <td>0</td>\n",
       "      <td>0</td>\n",
       "      <td>1</td>\n",
       "      <td>...</td>\n",
       "      <td>0</td>\n",
       "      <td>0</td>\n",
       "      <td>0</td>\n",
       "      <td>0</td>\n",
       "      <td>0</td>\n",
       "      <td>0</td>\n",
       "      <td>1</td>\n",
       "      <td>0</td>\n",
       "      <td>0</td>\n",
       "      <td>0</td>\n",
       "    </tr>\n",
       "    <tr>\n",
       "      <th>3</th>\n",
       "      <td>3600</td>\n",
       "      <td>2008</td>\n",
       "      <td>69</td>\n",
       "      <td>90000</td>\n",
       "      <td>7</td>\n",
       "      <td>0</td>\n",
       "      <td>0</td>\n",
       "      <td>0</td>\n",
       "      <td>0</td>\n",
       "      <td>1</td>\n",
       "      <td>...</td>\n",
       "      <td>1</td>\n",
       "      <td>0</td>\n",
       "      <td>0</td>\n",
       "      <td>0</td>\n",
       "      <td>0</td>\n",
       "      <td>0</td>\n",
       "      <td>0</td>\n",
       "      <td>0</td>\n",
       "      <td>0</td>\n",
       "      <td>0</td>\n",
       "    </tr>\n",
       "    <tr>\n",
       "      <th>4</th>\n",
       "      <td>650</td>\n",
       "      <td>1995</td>\n",
       "      <td>102</td>\n",
       "      <td>150000</td>\n",
       "      <td>10</td>\n",
       "      <td>0</td>\n",
       "      <td>0</td>\n",
       "      <td>0</td>\n",
       "      <td>1</td>\n",
       "      <td>0</td>\n",
       "      <td>...</td>\n",
       "      <td>0</td>\n",
       "      <td>0</td>\n",
       "      <td>0</td>\n",
       "      <td>0</td>\n",
       "      <td>0</td>\n",
       "      <td>0</td>\n",
       "      <td>0</td>\n",
       "      <td>0</td>\n",
       "      <td>0</td>\n",
       "      <td>1</td>\n",
       "    </tr>\n",
       "    <tr>\n",
       "      <th>...</th>\n",
       "      <td>...</td>\n",
       "      <td>...</td>\n",
       "      <td>...</td>\n",
       "      <td>...</td>\n",
       "      <td>...</td>\n",
       "      <td>...</td>\n",
       "      <td>...</td>\n",
       "      <td>...</td>\n",
       "      <td>...</td>\n",
       "      <td>...</td>\n",
       "      <td>...</td>\n",
       "      <td>...</td>\n",
       "      <td>...</td>\n",
       "      <td>...</td>\n",
       "      <td>...</td>\n",
       "      <td>...</td>\n",
       "      <td>...</td>\n",
       "      <td>...</td>\n",
       "      <td>...</td>\n",
       "      <td>...</td>\n",
       "      <td>...</td>\n",
       "    </tr>\n",
       "    <tr>\n",
       "      <th>326071</th>\n",
       "      <td>3200</td>\n",
       "      <td>2004</td>\n",
       "      <td>225</td>\n",
       "      <td>150000</td>\n",
       "      <td>5</td>\n",
       "      <td>0</td>\n",
       "      <td>0</td>\n",
       "      <td>0</td>\n",
       "      <td>1</td>\n",
       "      <td>0</td>\n",
       "      <td>...</td>\n",
       "      <td>0</td>\n",
       "      <td>0</td>\n",
       "      <td>0</td>\n",
       "      <td>0</td>\n",
       "      <td>0</td>\n",
       "      <td>0</td>\n",
       "      <td>0</td>\n",
       "      <td>0</td>\n",
       "      <td>0</td>\n",
       "      <td>1</td>\n",
       "    </tr>\n",
       "    <tr>\n",
       "      <th>326072</th>\n",
       "      <td>1150</td>\n",
       "      <td>2000</td>\n",
       "      <td>0</td>\n",
       "      <td>150000</td>\n",
       "      <td>3</td>\n",
       "      <td>0</td>\n",
       "      <td>0</td>\n",
       "      <td>0</td>\n",
       "      <td>0</td>\n",
       "      <td>0</td>\n",
       "      <td>...</td>\n",
       "      <td>0</td>\n",
       "      <td>0</td>\n",
       "      <td>0</td>\n",
       "      <td>0</td>\n",
       "      <td>0</td>\n",
       "      <td>0</td>\n",
       "      <td>0</td>\n",
       "      <td>0</td>\n",
       "      <td>0</td>\n",
       "      <td>0</td>\n",
       "    </tr>\n",
       "    <tr>\n",
       "      <th>326073</th>\n",
       "      <td>1199</td>\n",
       "      <td>2000</td>\n",
       "      <td>101</td>\n",
       "      <td>125000</td>\n",
       "      <td>3</td>\n",
       "      <td>1</td>\n",
       "      <td>0</td>\n",
       "      <td>0</td>\n",
       "      <td>0</td>\n",
       "      <td>0</td>\n",
       "      <td>...</td>\n",
       "      <td>0</td>\n",
       "      <td>1</td>\n",
       "      <td>0</td>\n",
       "      <td>0</td>\n",
       "      <td>0</td>\n",
       "      <td>0</td>\n",
       "      <td>0</td>\n",
       "      <td>0</td>\n",
       "      <td>0</td>\n",
       "      <td>0</td>\n",
       "    </tr>\n",
       "    <tr>\n",
       "      <th>326074</th>\n",
       "      <td>9200</td>\n",
       "      <td>1996</td>\n",
       "      <td>102</td>\n",
       "      <td>150000</td>\n",
       "      <td>3</td>\n",
       "      <td>0</td>\n",
       "      <td>0</td>\n",
       "      <td>0</td>\n",
       "      <td>0</td>\n",
       "      <td>0</td>\n",
       "      <td>...</td>\n",
       "      <td>0</td>\n",
       "      <td>0</td>\n",
       "      <td>0</td>\n",
       "      <td>0</td>\n",
       "      <td>0</td>\n",
       "      <td>0</td>\n",
       "      <td>1</td>\n",
       "      <td>0</td>\n",
       "      <td>0</td>\n",
       "      <td>0</td>\n",
       "    </tr>\n",
       "    <tr>\n",
       "      <th>326075</th>\n",
       "      <td>3400</td>\n",
       "      <td>2002</td>\n",
       "      <td>100</td>\n",
       "      <td>150000</td>\n",
       "      <td>6</td>\n",
       "      <td>0</td>\n",
       "      <td>0</td>\n",
       "      <td>0</td>\n",
       "      <td>0</td>\n",
       "      <td>0</td>\n",
       "      <td>...</td>\n",
       "      <td>0</td>\n",
       "      <td>0</td>\n",
       "      <td>0</td>\n",
       "      <td>0</td>\n",
       "      <td>0</td>\n",
       "      <td>0</td>\n",
       "      <td>1</td>\n",
       "      <td>0</td>\n",
       "      <td>1</td>\n",
       "      <td>0</td>\n",
       "    </tr>\n",
       "  </tbody>\n",
       "</table>\n",
       "<p>326076 rows × 307 columns</p>\n",
       "</div>"
      ],
      "text/plain": [
       "        Price  RegistrationYear  Power  Kilometer  RegistrationMonth  \\\n",
       "0         480              1993      0     150000                  0   \n",
       "1        9800              2004    163     125000                  8   \n",
       "2        1500              2001     75     150000                  6   \n",
       "3        3600              2008     69      90000                  7   \n",
       "4         650              1995    102     150000                 10   \n",
       "...       ...               ...    ...        ...                ...   \n",
       "326071   3200              2004    225     150000                  5   \n",
       "326072   1150              2000      0     150000                  3   \n",
       "326073   1199              2000    101     125000                  3   \n",
       "326074   9200              1996    102     150000                  3   \n",
       "326075   3400              2002    100     150000                  6   \n",
       "\n",
       "        VehicleType_convertible  VehicleType_coupe  VehicleType_other  \\\n",
       "0                             0                  0                  1   \n",
       "1                             0                  0                  0   \n",
       "2                             0                  0                  0   \n",
       "3                             0                  0                  0   \n",
       "4                             0                  0                  0   \n",
       "...                         ...                ...                ...   \n",
       "326071                        0                  0                  0   \n",
       "326072                        0                  0                  0   \n",
       "326073                        1                  0                  0   \n",
       "326074                        0                  0                  0   \n",
       "326075                        0                  0                  0   \n",
       "\n",
       "        VehicleType_sedan  VehicleType_small  ...  Brand_skoda  Brand_smart  \\\n",
       "0                       0                  0  ...            0            0   \n",
       "1                       0                  0  ...            0            0   \n",
       "2                       0                  1  ...            0            0   \n",
       "3                       0                  1  ...            1            0   \n",
       "4                       1                  0  ...            0            0   \n",
       "...                   ...                ...  ...          ...          ...   \n",
       "326071                  1                  0  ...            0            0   \n",
       "326072                  0                  0  ...            0            0   \n",
       "326073                  0                  0  ...            0            1   \n",
       "326074                  0                  0  ...            0            0   \n",
       "326075                  0                  0  ...            0            0   \n",
       "\n",
       "        Brand_subaru  Brand_suzuki  Brand_toyota  Brand_trabant  \\\n",
       "0                  0             0             0              0   \n",
       "1                  0             0             0              0   \n",
       "2                  0             0             0              0   \n",
       "3                  0             0             0              0   \n",
       "4                  0             0             0              0   \n",
       "...              ...           ...           ...            ...   \n",
       "326071             0             0             0              0   \n",
       "326072             0             0             0              0   \n",
       "326073             0             0             0              0   \n",
       "326074             0             0             0              0   \n",
       "326075             0             0             0              0   \n",
       "\n",
       "        Brand_volkswagen  Brand_volvo  NotRepaired_not specified  \\\n",
       "0                      1            0                          1   \n",
       "1                      0            0                          1   \n",
       "2                      1            0                          0   \n",
       "3                      0            0                          0   \n",
       "4                      0            0                          0   \n",
       "...                  ...          ...                        ...   \n",
       "326071                 0            0                          0   \n",
       "326072                 0            0                          0   \n",
       "326073                 0            0                          0   \n",
       "326074                 1            0                          0   \n",
       "326075                 1            0                          1   \n",
       "\n",
       "        NotRepaired_yes  \n",
       "0                     0  \n",
       "1                     0  \n",
       "2                     0  \n",
       "3                     0  \n",
       "4                     1  \n",
       "...                 ...  \n",
       "326071                1  \n",
       "326072                0  \n",
       "326073                0  \n",
       "326074                0  \n",
       "326075                0  \n",
       "\n",
       "[326076 rows x 307 columns]"
      ]
     },
     "execution_count": 16,
     "metadata": {},
     "output_type": "execute_result"
    }
   ],
   "source": [
    "df_gd = df\n",
    "df = pd.get_dummies(df, drop_first=True)\n",
    "df"
   ]
  },
  {
   "cell_type": "markdown",
   "metadata": {},
   "source": [
    "Разделим датасет на выборки:"
   ]
  },
  {
   "cell_type": "code",
   "execution_count": 17,
   "metadata": {},
   "outputs": [],
   "source": [
    "target = df['Price']\n",
    "features = df.drop('Price', axis=1)\n",
    "features_train, features_valid, target_train, target_valid = train_test_split(\n",
    "    features, target, test_size=0.25, random_state=12345)\n",
    "target = df_gd['Price']\n",
    "features = df_gd.drop('Price', axis=1)\n",
    "features_train_gd, features_valid_gd, target_train_gd, target_valid_gd = train_test_split(\n",
    "    features, target, test_size=0.25, random_state=12345)\n"
   ]
  },
  {
   "cell_type": "markdown",
   "metadata": {},
   "source": [
    "Масштабируем признаки:"
   ]
  },
  {
   "cell_type": "code",
   "execution_count": 18,
   "metadata": {},
   "outputs": [],
   "source": [
    "numeric = ['RegistrationYear', 'Power', 'Kilometer', 'RegistrationMonth']\n",
    "\n",
    "scaler = StandardScaler()\n",
    "scaler.fit(features_train[numeric])\n",
    "features_train[numeric] = scaler.transform(features_train[numeric])\n",
    "features_valid[numeric] = scaler.transform(features_valid[numeric])\n",
    "\n",
    "scaler = StandardScaler()\n",
    "scaler.fit(features_train[numeric])\n",
    "features_train_gd[numeric] = scaler.transform(features_train_gd[numeric])\n",
    "features_valid_gd[numeric] = scaler.transform(features_valid_gd[numeric])"
   ]
  },
  {
   "cell_type": "markdown",
   "metadata": {},
   "source": [
    "**Вывод** В данных:\n",
    "* заменены значения NaN;\n",
    "* убраны ненужные для машинного обучения столбцы;\n",
    "* применен метод OHE;\n",
    "* датасет разделен на выборки;\n",
    "* произведено масштабирование.\n",
    "\n",
    "Теперь выборки готовы для обучения моделей."
   ]
  },
  {
   "cell_type": "markdown",
   "metadata": {},
   "source": [
    "## Обучение моделей"
   ]
  },
  {
   "cell_type": "markdown",
   "metadata": {},
   "source": [
    "### Логистическая регрессия"
   ]
  },
  {
   "cell_type": "code",
   "execution_count": 19,
   "metadata": {},
   "outputs": [
    {
     "name": "stdout",
     "output_type": "stream",
     "text": [
      "rmse = 2847.6545262508203\n",
      "CPU times: user 37.6 s, sys: 42.2 s, total: 1min 19s\n",
      "Wall time: 1min 19s\n"
     ]
    }
   ],
   "source": [
    "%%time\n",
    "start = time.time()\n",
    "model_lr = LinearRegression()\n",
    "model_lr.fit(features_train, target_train) \n",
    "end = time.time()\n",
    "time_lr = end - start\n",
    "start = time.time()\n",
    "predictions_valid_lr = model_lr.predict(features_valid) \n",
    "result_lr = mean_squared_error(target_valid, predictions_valid_lr, squared=False)\n",
    "end = time.time()\n",
    "time_lr_pred = end - start\n",
    "print('rmse =', result_lr)"
   ]
  },
  {
   "cell_type": "markdown",
   "metadata": {},
   "source": [
    "### Catboost"
   ]
  },
  {
   "cell_type": "markdown",
   "metadata": {},
   "source": [
    "Далее сделаем собственный скорер для gridsearch:"
   ]
  },
  {
   "cell_type": "code",
   "execution_count": 20,
   "metadata": {},
   "outputs": [],
   "source": [
    "def rmse(target, predict):\n",
    "    target = np.array(target)\n",
    "    predict = np.array(predict)\n",
    "    return np.sqrt(((predictions - targets) ** 2).mean())\n",
    "rmse_s = make_scorer(rmse, greater_is_better=False)\n",
    "cat_features = ['VehicleType', 'Gearbox', 'Model', 'FuelType', 'Brand', 'NotRepaired']"
   ]
  },
  {
   "cell_type": "code",
   "execution_count": 21,
   "metadata": {
    "scrolled": true
   },
   "outputs": [
    {
     "name": "stdout",
     "output_type": "stream",
     "text": [
      "Learning rate set to 0.5\n",
      "0:\tlearn: 3883.0799621\ttotal: 102ms\tremaining: 915ms\n",
      "1:\tlearn: 3538.7001972\ttotal: 140ms\tremaining: 559ms\n",
      "2:\tlearn: 3321.1835205\ttotal: 195ms\tremaining: 455ms\n",
      "3:\tlearn: 3184.0245692\ttotal: 229ms\tremaining: 344ms\n",
      "4:\tlearn: 3077.2736993\ttotal: 274ms\tremaining: 274ms\n",
      "5:\tlearn: 2970.1016320\ttotal: 303ms\tremaining: 202ms\n",
      "6:\tlearn: 2897.6173775\ttotal: 339ms\tremaining: 145ms\n",
      "7:\tlearn: 2824.8723057\ttotal: 378ms\tremaining: 94.5ms\n",
      "8:\tlearn: 2769.4045008\ttotal: 415ms\tremaining: 46.1ms\n",
      "9:\tlearn: 2711.3422053\ttotal: 459ms\tremaining: 0us\n",
      "Learning rate set to 0.5\n",
      "0:\tlearn: 3877.2477909\ttotal: 40.2ms\tremaining: 362ms\n",
      "1:\tlearn: 3532.7677657\ttotal: 69.7ms\tremaining: 279ms\n",
      "2:\tlearn: 3314.6445296\ttotal: 116ms\tremaining: 271ms\n",
      "3:\tlearn: 3177.2732842\ttotal: 144ms\tremaining: 216ms\n",
      "4:\tlearn: 3070.9752090\ttotal: 184ms\tremaining: 184ms\n",
      "5:\tlearn: 2968.7189725\ttotal: 228ms\tremaining: 152ms\n",
      "6:\tlearn: 2897.3840075\ttotal: 261ms\tremaining: 112ms\n",
      "7:\tlearn: 2824.3912832\ttotal: 295ms\tremaining: 73.7ms\n",
      "8:\tlearn: 2768.5808228\ttotal: 329ms\tremaining: 36.6ms\n",
      "9:\tlearn: 2710.2813885\ttotal: 360ms\tremaining: 0us\n",
      "Learning rate set to 0.5\n",
      "0:\tlearn: 3868.7005097\ttotal: 44.3ms\tremaining: 398ms\n",
      "1:\tlearn: 3525.0933767\ttotal: 84.6ms\tremaining: 338ms\n",
      "2:\tlearn: 3308.2716356\ttotal: 114ms\tremaining: 266ms\n",
      "3:\tlearn: 3169.9265202\ttotal: 143ms\tremaining: 215ms\n",
      "4:\tlearn: 3063.3339699\ttotal: 184ms\tremaining: 184ms\n",
      "5:\tlearn: 2959.5257542\ttotal: 218ms\tremaining: 145ms\n",
      "6:\tlearn: 2888.4672750\ttotal: 247ms\tremaining: 106ms\n",
      "7:\tlearn: 2816.2066006\ttotal: 274ms\tremaining: 68.6ms\n",
      "8:\tlearn: 2760.8189807\ttotal: 309ms\tremaining: 34.3ms\n",
      "9:\tlearn: 2703.2396220\ttotal: 339ms\tremaining: 0us\n",
      "Learning rate set to 0.5\n",
      "0:\tlearn: 3879.4655409\ttotal: 45.6ms\tremaining: 411ms\n",
      "1:\tlearn: 3531.3099085\ttotal: 86.8ms\tremaining: 347ms\n",
      "2:\tlearn: 3315.6034465\ttotal: 116ms\tremaining: 272ms\n",
      "3:\tlearn: 3177.4374803\ttotal: 149ms\tremaining: 223ms\n",
      "4:\tlearn: 3070.7023495\ttotal: 191ms\tremaining: 191ms\n",
      "5:\tlearn: 2966.7861574\ttotal: 220ms\tremaining: 147ms\n",
      "6:\tlearn: 2894.2844982\ttotal: 255ms\tremaining: 109ms\n",
      "7:\tlearn: 2821.5802287\ttotal: 292ms\tremaining: 73.1ms\n",
      "8:\tlearn: 2767.0725663\ttotal: 324ms\tremaining: 36ms\n",
      "9:\tlearn: 2709.8264314\ttotal: 359ms\tremaining: 0us\n",
      "Learning rate set to 0.5\n",
      "0:\tlearn: 3874.1208959\ttotal: 41.3ms\tremaining: 371ms\n",
      "1:\tlearn: 3531.5962006\ttotal: 99.6ms\tremaining: 399ms\n",
      "2:\tlearn: 3315.5737509\ttotal: 132ms\tremaining: 308ms\n",
      "3:\tlearn: 3177.0990651\ttotal: 161ms\tremaining: 242ms\n",
      "4:\tlearn: 3070.2031704\ttotal: 209ms\tremaining: 209ms\n",
      "5:\tlearn: 2966.5970047\ttotal: 239ms\tremaining: 159ms\n",
      "6:\tlearn: 2895.5665707\ttotal: 271ms\tremaining: 116ms\n",
      "7:\tlearn: 2822.8658060\ttotal: 299ms\tremaining: 74.8ms\n",
      "8:\tlearn: 2767.1706539\ttotal: 332ms\tremaining: 36.9ms\n",
      "9:\tlearn: 2708.8085301\ttotal: 368ms\tremaining: 0us\n",
      "Learning rate set to 0.5\n",
      "0:\tlearn: 3883.0799621\ttotal: 46.2ms\tremaining: 877ms\n",
      "1:\tlearn: 3538.7001972\ttotal: 75.8ms\tremaining: 682ms\n",
      "2:\tlearn: 3321.1835205\ttotal: 120ms\tremaining: 682ms\n",
      "3:\tlearn: 3184.0245692\ttotal: 152ms\tremaining: 606ms\n",
      "4:\tlearn: 3077.2736993\ttotal: 193ms\tremaining: 579ms\n",
      "5:\tlearn: 2970.1016320\ttotal: 226ms\tremaining: 528ms\n",
      "6:\tlearn: 2897.6173775\ttotal: 257ms\tremaining: 477ms\n",
      "7:\tlearn: 2824.8723057\ttotal: 285ms\tremaining: 427ms\n",
      "8:\tlearn: 2769.4045008\ttotal: 318ms\tremaining: 389ms\n",
      "9:\tlearn: 2711.3422053\ttotal: 351ms\tremaining: 351ms\n",
      "10:\tlearn: 2665.4370850\ttotal: 379ms\tremaining: 310ms\n",
      "11:\tlearn: 2628.1418462\ttotal: 410ms\tremaining: 273ms\n",
      "12:\tlearn: 2596.2045109\ttotal: 445ms\tremaining: 239ms\n",
      "13:\tlearn: 2573.6291279\ttotal: 474ms\tremaining: 203ms\n",
      "14:\tlearn: 2550.3789406\ttotal: 502ms\tremaining: 167ms\n",
      "15:\tlearn: 2527.0242786\ttotal: 536ms\tremaining: 134ms\n",
      "16:\tlearn: 2505.4443977\ttotal: 565ms\tremaining: 99.7ms\n",
      "17:\tlearn: 2490.6119800\ttotal: 594ms\tremaining: 66ms\n",
      "18:\tlearn: 2472.3841896\ttotal: 624ms\tremaining: 32.9ms\n",
      "19:\tlearn: 2443.0353827\ttotal: 655ms\tremaining: 0us\n",
      "Learning rate set to 0.5\n",
      "0:\tlearn: 3877.2477909\ttotal: 60ms\tremaining: 1.14s\n",
      "1:\tlearn: 3532.7677657\ttotal: 88.6ms\tremaining: 797ms\n",
      "2:\tlearn: 3314.6445296\ttotal: 136ms\tremaining: 768ms\n",
      "3:\tlearn: 3177.2732842\ttotal: 164ms\tremaining: 655ms\n",
      "4:\tlearn: 3070.9752090\ttotal: 204ms\tremaining: 611ms\n",
      "5:\tlearn: 2968.7189725\ttotal: 238ms\tremaining: 556ms\n",
      "6:\tlearn: 2897.3840075\ttotal: 267ms\tremaining: 496ms\n",
      "7:\tlearn: 2824.3912832\ttotal: 295ms\tremaining: 442ms\n",
      "8:\tlearn: 2768.5808228\ttotal: 331ms\tremaining: 405ms\n",
      "9:\tlearn: 2710.2813885\ttotal: 362ms\tremaining: 362ms\n",
      "10:\tlearn: 2663.8177812\ttotal: 392ms\tremaining: 321ms\n",
      "11:\tlearn: 2626.8768212\ttotal: 426ms\tremaining: 284ms\n",
      "12:\tlearn: 2595.0377954\ttotal: 457ms\tremaining: 246ms\n",
      "13:\tlearn: 2570.8131898\ttotal: 487ms\tremaining: 209ms\n",
      "14:\tlearn: 2547.3264773\ttotal: 522ms\tremaining: 174ms\n",
      "15:\tlearn: 2523.4424728\ttotal: 552ms\tremaining: 138ms\n",
      "16:\tlearn: 2503.4222127\ttotal: 580ms\tremaining: 102ms\n",
      "17:\tlearn: 2488.6332929\ttotal: 613ms\tremaining: 68.1ms\n",
      "18:\tlearn: 2471.7554779\ttotal: 644ms\tremaining: 33.9ms\n",
      "19:\tlearn: 2442.5929516\ttotal: 675ms\tremaining: 0us\n",
      "Learning rate set to 0.5\n",
      "0:\tlearn: 3868.7005097\ttotal: 51.2ms\tremaining: 972ms\n",
      "1:\tlearn: 3525.0933767\ttotal: 90.5ms\tremaining: 814ms\n",
      "2:\tlearn: 3308.2716356\ttotal: 119ms\tremaining: 672ms\n",
      "3:\tlearn: 3169.9265202\ttotal: 152ms\tremaining: 608ms\n",
      "4:\tlearn: 3063.3339699\ttotal: 196ms\tremaining: 589ms\n",
      "5:\tlearn: 2959.5257542\ttotal: 225ms\tremaining: 526ms\n",
      "6:\tlearn: 2888.4672750\ttotal: 260ms\tremaining: 482ms\n",
      "7:\tlearn: 2816.2066006\ttotal: 287ms\tremaining: 431ms\n",
      "8:\tlearn: 2760.8189807\ttotal: 318ms\tremaining: 389ms\n",
      "9:\tlearn: 2703.2396220\ttotal: 352ms\tremaining: 352ms\n",
      "10:\tlearn: 2655.6125916\ttotal: 381ms\tremaining: 312ms\n",
      "11:\tlearn: 2618.7113792\ttotal: 411ms\tremaining: 274ms\n",
      "12:\tlearn: 2586.8905168\ttotal: 445ms\tremaining: 240ms\n",
      "13:\tlearn: 2563.5573588\ttotal: 475ms\tremaining: 204ms\n",
      "14:\tlearn: 2539.7069628\ttotal: 504ms\tremaining: 168ms\n",
      "15:\tlearn: 2516.5162462\ttotal: 537ms\tremaining: 134ms\n",
      "16:\tlearn: 2495.6817783\ttotal: 579ms\tremaining: 102ms\n",
      "17:\tlearn: 2476.1998251\ttotal: 612ms\tremaining: 67.9ms\n",
      "18:\tlearn: 2445.6144629\ttotal: 648ms\tremaining: 34.1ms\n",
      "19:\tlearn: 2432.0063106\ttotal: 678ms\tremaining: 0us\n",
      "Learning rate set to 0.5\n",
      "0:\tlearn: 3879.4655409\ttotal: 42.8ms\tremaining: 813ms\n",
      "1:\tlearn: 3531.3099085\ttotal: 82.1ms\tremaining: 739ms\n",
      "2:\tlearn: 3315.6034465\ttotal: 111ms\tremaining: 628ms\n",
      "3:\tlearn: 3177.4374803\ttotal: 143ms\tremaining: 571ms\n",
      "4:\tlearn: 3070.7023495\ttotal: 186ms\tremaining: 557ms\n",
      "5:\tlearn: 2966.7861574\ttotal: 215ms\tremaining: 501ms\n",
      "6:\tlearn: 2894.2844982\ttotal: 248ms\tremaining: 460ms\n",
      "7:\tlearn: 2821.5802287\ttotal: 276ms\tremaining: 415ms\n",
      "8:\tlearn: 2767.0725663\ttotal: 307ms\tremaining: 376ms\n",
      "9:\tlearn: 2709.8264314\ttotal: 343ms\tremaining: 343ms\n",
      "10:\tlearn: 2664.2045019\ttotal: 372ms\tremaining: 305ms\n",
      "11:\tlearn: 2627.0491973\ttotal: 402ms\tremaining: 268ms\n",
      "12:\tlearn: 2595.4871485\ttotal: 440ms\tremaining: 237ms\n",
      "13:\tlearn: 2570.5523492\ttotal: 471ms\tremaining: 202ms\n",
      "14:\tlearn: 2547.4831813\ttotal: 501ms\tremaining: 167ms\n",
      "15:\tlearn: 2523.7926883\ttotal: 534ms\tremaining: 133ms\n",
      "16:\tlearn: 2503.1487884\ttotal: 562ms\tremaining: 99.2ms\n",
      "17:\tlearn: 2484.8184974\ttotal: 589ms\tremaining: 65.5ms\n",
      "18:\tlearn: 2456.1057069\ttotal: 623ms\tremaining: 32.8ms\n",
      "19:\tlearn: 2442.2972032\ttotal: 657ms\tremaining: 0us\n",
      "Learning rate set to 0.5\n",
      "0:\tlearn: 3874.1208959\ttotal: 44.4ms\tremaining: 843ms\n",
      "1:\tlearn: 3531.5962006\ttotal: 86.9ms\tremaining: 782ms\n",
      "2:\tlearn: 3315.5737509\ttotal: 116ms\tremaining: 656ms\n",
      "3:\tlearn: 3177.0990651\ttotal: 145ms\tremaining: 580ms\n",
      "4:\tlearn: 3070.2031704\ttotal: 192ms\tremaining: 575ms\n",
      "5:\tlearn: 2966.5970047\ttotal: 221ms\tremaining: 516ms\n",
      "6:\tlearn: 2895.5665707\ttotal: 251ms\tremaining: 466ms\n",
      "7:\tlearn: 2822.8658060\ttotal: 285ms\tremaining: 428ms\n",
      "8:\tlearn: 2767.1706539\ttotal: 319ms\tremaining: 389ms\n",
      "9:\tlearn: 2708.8085301\ttotal: 358ms\tremaining: 358ms\n",
      "10:\tlearn: 2661.9359867\ttotal: 392ms\tremaining: 321ms\n",
      "11:\tlearn: 2624.9731362\ttotal: 422ms\tremaining: 281ms\n",
      "12:\tlearn: 2593.2237674\ttotal: 453ms\tremaining: 244ms\n",
      "13:\tlearn: 2569.7494463\ttotal: 492ms\tremaining: 211ms\n",
      "14:\tlearn: 2546.1814679\ttotal: 523ms\tremaining: 174ms\n",
      "15:\tlearn: 2521.5829663\ttotal: 554ms\tremaining: 139ms\n",
      "16:\tlearn: 2500.5394878\ttotal: 590ms\tremaining: 104ms\n",
      "17:\tlearn: 2482.1077449\ttotal: 619ms\tremaining: 68.8ms\n",
      "18:\tlearn: 2467.4123453\ttotal: 648ms\tremaining: 34.1ms\n",
      "19:\tlearn: 2437.7178321\ttotal: 685ms\tremaining: 0us\n",
      "Learning rate set to 0.5\n",
      "0:\tlearn: 3883.0799621\ttotal: 42.7ms\tremaining: 1.24s\n",
      "1:\tlearn: 3538.7001972\ttotal: 75.1ms\tremaining: 1.05s\n",
      "2:\tlearn: 3321.1835205\ttotal: 116ms\tremaining: 1.04s\n",
      "3:\tlearn: 3184.0245692\ttotal: 147ms\tremaining: 954ms\n",
      "4:\tlearn: 3077.2736993\ttotal: 192ms\tremaining: 962ms\n",
      "5:\tlearn: 2970.1016320\ttotal: 222ms\tremaining: 887ms\n",
      "6:\tlearn: 2897.6173775\ttotal: 251ms\tremaining: 826ms\n",
      "7:\tlearn: 2824.8723057\ttotal: 284ms\tremaining: 780ms\n",
      "8:\tlearn: 2769.4045008\ttotal: 315ms\tremaining: 735ms\n",
      "9:\tlearn: 2711.3422053\ttotal: 345ms\tremaining: 691ms\n",
      "10:\tlearn: 2665.4370850\ttotal: 387ms\tremaining: 669ms\n",
      "11:\tlearn: 2628.1418462\ttotal: 420ms\tremaining: 630ms\n",
      "12:\tlearn: 2596.2045109\ttotal: 455ms\tremaining: 595ms\n",
      "13:\tlearn: 2573.6291279\ttotal: 487ms\tremaining: 557ms\n",
      "14:\tlearn: 2550.3789406\ttotal: 517ms\tremaining: 517ms\n",
      "15:\tlearn: 2527.0242786\ttotal: 547ms\tremaining: 478ms\n",
      "16:\tlearn: 2505.4443977\ttotal: 583ms\tremaining: 446ms\n",
      "17:\tlearn: 2490.6119800\ttotal: 613ms\tremaining: 409ms\n",
      "18:\tlearn: 2472.3841896\ttotal: 642ms\tremaining: 372ms\n",
      "19:\tlearn: 2443.0353827\ttotal: 680ms\tremaining: 340ms\n",
      "20:\tlearn: 2429.2313998\ttotal: 709ms\tremaining: 304ms\n",
      "21:\tlearn: 2418.4509273\ttotal: 738ms\tremaining: 268ms\n",
      "22:\tlearn: 2409.6074394\ttotal: 775ms\tremaining: 236ms\n",
      "23:\tlearn: 2401.8980681\ttotal: 805ms\tremaining: 201ms\n",
      "24:\tlearn: 2394.5586113\ttotal: 837ms\tremaining: 167ms\n",
      "25:\tlearn: 2387.5902807\ttotal: 870ms\tremaining: 134ms\n",
      "26:\tlearn: 2381.8780904\ttotal: 900ms\tremaining: 100ms\n",
      "27:\tlearn: 2375.9015190\ttotal: 930ms\tremaining: 66.4ms\n",
      "28:\tlearn: 2369.7487105\ttotal: 964ms\tremaining: 33.3ms\n",
      "29:\tlearn: 2363.2601913\ttotal: 993ms\tremaining: 0us\n",
      "Learning rate set to 0.5\n",
      "0:\tlearn: 3877.2477909\ttotal: 43.5ms\tremaining: 1.26s\n",
      "1:\tlearn: 3532.7677657\ttotal: 72.5ms\tremaining: 1.01s\n",
      "2:\tlearn: 3314.6445296\ttotal: 118ms\tremaining: 1.06s\n",
      "3:\tlearn: 3177.2732842\ttotal: 147ms\tremaining: 956ms\n",
      "4:\tlearn: 3070.9752090\ttotal: 193ms\tremaining: 967ms\n",
      "5:\tlearn: 2968.7189725\ttotal: 224ms\tremaining: 896ms\n",
      "6:\tlearn: 2897.3840075\ttotal: 254ms\tremaining: 833ms\n",
      "7:\tlearn: 2824.3912832\ttotal: 287ms\tremaining: 789ms\n",
      "8:\tlearn: 2768.5808228\ttotal: 327ms\tremaining: 764ms\n",
      "9:\tlearn: 2710.2813885\ttotal: 357ms\tremaining: 715ms\n",
      "10:\tlearn: 2663.8177812\ttotal: 390ms\tremaining: 674ms\n",
      "11:\tlearn: 2626.8768212\ttotal: 423ms\tremaining: 634ms\n",
      "12:\tlearn: 2595.0377954\ttotal: 457ms\tremaining: 598ms\n",
      "13:\tlearn: 2570.8131898\ttotal: 494ms\tremaining: 564ms\n",
      "14:\tlearn: 2547.3264773\ttotal: 523ms\tremaining: 523ms\n",
      "15:\tlearn: 2523.4424728\ttotal: 553ms\tremaining: 483ms\n",
      "16:\tlearn: 2503.4222127\ttotal: 584ms\tremaining: 447ms\n",
      "17:\tlearn: 2488.6332929\ttotal: 613ms\tremaining: 409ms\n",
      "18:\tlearn: 2471.7554779\ttotal: 642ms\tremaining: 371ms\n",
      "19:\tlearn: 2442.5929516\ttotal: 676ms\tremaining: 338ms\n",
      "20:\tlearn: 2429.1697577\ttotal: 706ms\tremaining: 302ms\n",
      "21:\tlearn: 2417.8868413\ttotal: 734ms\tremaining: 267ms\n",
      "22:\tlearn: 2408.1167377\ttotal: 765ms\tremaining: 233ms\n",
      "23:\tlearn: 2400.6017436\ttotal: 796ms\tremaining: 199ms\n",
      "24:\tlearn: 2392.6165620\ttotal: 824ms\tremaining: 165ms\n",
      "25:\tlearn: 2385.6792550\ttotal: 851ms\tremaining: 131ms\n",
      "26:\tlearn: 2379.8100626\ttotal: 883ms\tremaining: 98.2ms\n",
      "27:\tlearn: 2373.5301166\ttotal: 914ms\tremaining: 65.3ms\n",
      "28:\tlearn: 2368.1820889\ttotal: 945ms\tremaining: 32.6ms\n",
      "29:\tlearn: 2361.7014931\ttotal: 979ms\tremaining: 0us\n",
      "Learning rate set to 0.5\n",
      "0:\tlearn: 3868.7005097\ttotal: 43.7ms\tremaining: 1.27s\n",
      "1:\tlearn: 3525.0933767\ttotal: 86.9ms\tremaining: 1.22s\n",
      "2:\tlearn: 3308.2716356\ttotal: 128ms\tremaining: 1.16s\n",
      "3:\tlearn: 3169.9265202\ttotal: 160ms\tremaining: 1.04s\n",
      "4:\tlearn: 3063.3339699\ttotal: 209ms\tremaining: 1.04s\n",
      "5:\tlearn: 2959.5257542\ttotal: 240ms\tremaining: 959ms\n",
      "6:\tlearn: 2888.4672750\ttotal: 271ms\tremaining: 890ms\n",
      "7:\tlearn: 2816.2066006\ttotal: 303ms\tremaining: 834ms\n",
      "8:\tlearn: 2760.8189807\ttotal: 336ms\tremaining: 784ms\n",
      "9:\tlearn: 2703.2396220\ttotal: 367ms\tremaining: 734ms\n",
      "10:\tlearn: 2655.6125916\ttotal: 400ms\tremaining: 691ms\n",
      "11:\tlearn: 2618.7113792\ttotal: 433ms\tremaining: 649ms\n",
      "12:\tlearn: 2586.8905168\ttotal: 464ms\tremaining: 607ms\n",
      "13:\tlearn: 2563.5573588\ttotal: 498ms\tremaining: 569ms\n",
      "14:\tlearn: 2539.7069628\ttotal: 528ms\tremaining: 528ms\n",
      "15:\tlearn: 2516.5162462\ttotal: 559ms\tremaining: 489ms\n",
      "16:\tlearn: 2495.6817783\ttotal: 595ms\tremaining: 455ms\n",
      "17:\tlearn: 2476.1998251\ttotal: 624ms\tremaining: 416ms\n",
      "18:\tlearn: 2445.6144629\ttotal: 654ms\tremaining: 379ms\n",
      "19:\tlearn: 2432.0063106\ttotal: 687ms\tremaining: 343ms\n",
      "20:\tlearn: 2418.2605749\ttotal: 716ms\tremaining: 307ms\n",
      "21:\tlearn: 2407.8869047\ttotal: 746ms\tremaining: 271ms\n",
      "22:\tlearn: 2399.0564188\ttotal: 776ms\tremaining: 236ms\n",
      "23:\tlearn: 2391.1236842\ttotal: 808ms\tremaining: 202ms\n",
      "24:\tlearn: 2384.1087407\ttotal: 837ms\tremaining: 167ms\n",
      "25:\tlearn: 2377.2526342\ttotal: 865ms\tremaining: 133ms\n",
      "26:\tlearn: 2370.8399094\ttotal: 899ms\tremaining: 99.8ms\n",
      "27:\tlearn: 2364.7371620\ttotal: 929ms\tremaining: 66.3ms\n",
      "28:\tlearn: 2358.3768265\ttotal: 959ms\tremaining: 33.1ms\n",
      "29:\tlearn: 2353.2314849\ttotal: 993ms\tremaining: 0us\n",
      "Learning rate set to 0.5\n",
      "0:\tlearn: 3879.4655409\ttotal: 48.2ms\tremaining: 1.4s\n",
      "1:\tlearn: 3531.3099085\ttotal: 89.2ms\tremaining: 1.25s\n",
      "2:\tlearn: 3315.6034465\ttotal: 119ms\tremaining: 1.07s\n",
      "3:\tlearn: 3177.4374803\ttotal: 150ms\tremaining: 978ms\n",
      "4:\tlearn: 3070.7023495\ttotal: 196ms\tremaining: 978ms\n",
      "5:\tlearn: 2966.7861574\ttotal: 227ms\tremaining: 909ms\n",
      "6:\tlearn: 2894.2844982\ttotal: 261ms\tremaining: 858ms\n",
      "7:\tlearn: 2821.5802287\ttotal: 291ms\tremaining: 799ms\n",
      "8:\tlearn: 2767.0725663\ttotal: 326ms\tremaining: 762ms\n",
      "9:\tlearn: 2709.8264314\ttotal: 358ms\tremaining: 716ms\n",
      "10:\tlearn: 2664.2045019\ttotal: 388ms\tremaining: 671ms\n",
      "11:\tlearn: 2627.0491973\ttotal: 419ms\tremaining: 629ms\n",
      "12:\tlearn: 2595.4871485\ttotal: 451ms\tremaining: 590ms\n",
      "13:\tlearn: 2570.5523492\ttotal: 481ms\tremaining: 550ms\n",
      "14:\tlearn: 2547.4831813\ttotal: 512ms\tremaining: 512ms\n",
      "15:\tlearn: 2523.7926883\ttotal: 544ms\tremaining: 476ms\n",
      "16:\tlearn: 2503.1487884\ttotal: 575ms\tremaining: 440ms\n",
      "17:\tlearn: 2484.8184974\ttotal: 605ms\tremaining: 403ms\n",
      "18:\tlearn: 2456.1057069\ttotal: 644ms\tremaining: 373ms\n",
      "19:\tlearn: 2442.2972032\ttotal: 674ms\tremaining: 337ms\n",
      "20:\tlearn: 2428.6054393\ttotal: 706ms\tremaining: 302ms\n",
      "21:\tlearn: 2417.9157699\ttotal: 738ms\tremaining: 268ms\n",
      "22:\tlearn: 2409.1721728\ttotal: 766ms\tremaining: 233ms\n",
      "23:\tlearn: 2401.4662321\ttotal: 795ms\tremaining: 199ms\n",
      "24:\tlearn: 2394.4481779\ttotal: 829ms\tremaining: 166ms\n",
      "25:\tlearn: 2387.6858291\ttotal: 858ms\tremaining: 132ms\n",
      "26:\tlearn: 2381.3923873\ttotal: 888ms\tremaining: 98.7ms\n",
      "27:\tlearn: 2375.4651081\ttotal: 921ms\tremaining: 65.8ms\n",
      "28:\tlearn: 2369.7769309\ttotal: 951ms\tremaining: 32.8ms\n",
      "29:\tlearn: 2364.0923027\ttotal: 983ms\tremaining: 0us\n",
      "Learning rate set to 0.5\n",
      "0:\tlearn: 3874.1208959\ttotal: 42.7ms\tremaining: 1.24s\n",
      "1:\tlearn: 3531.5962006\ttotal: 96.5ms\tremaining: 1.35s\n",
      "2:\tlearn: 3315.5737509\ttotal: 125ms\tremaining: 1.12s\n",
      "3:\tlearn: 3177.0990651\ttotal: 157ms\tremaining: 1.02s\n",
      "4:\tlearn: 3070.2031704\ttotal: 199ms\tremaining: 994ms\n",
      "5:\tlearn: 2966.5970047\ttotal: 229ms\tremaining: 916ms\n",
      "6:\tlearn: 2895.5665707\ttotal: 262ms\tremaining: 862ms\n",
      "7:\tlearn: 2822.8658060\ttotal: 291ms\tremaining: 801ms\n",
      "8:\tlearn: 2767.1706539\ttotal: 323ms\tremaining: 754ms\n",
      "9:\tlearn: 2708.8085301\ttotal: 361ms\tremaining: 721ms\n",
      "10:\tlearn: 2661.9359867\ttotal: 391ms\tremaining: 676ms\n",
      "11:\tlearn: 2624.9731362\ttotal: 421ms\tremaining: 632ms\n",
      "12:\tlearn: 2593.2237674\ttotal: 459ms\tremaining: 600ms\n",
      "13:\tlearn: 2569.7494463\ttotal: 489ms\tremaining: 559ms\n",
      "14:\tlearn: 2546.1814679\ttotal: 518ms\tremaining: 518ms\n",
      "15:\tlearn: 2521.5829663\ttotal: 554ms\tremaining: 484ms\n",
      "16:\tlearn: 2500.5394878\ttotal: 582ms\tremaining: 445ms\n",
      "17:\tlearn: 2482.1077449\ttotal: 610ms\tremaining: 407ms\n",
      "18:\tlearn: 2467.4123453\ttotal: 645ms\tremaining: 374ms\n",
      "19:\tlearn: 2437.7178321\ttotal: 676ms\tremaining: 338ms\n",
      "20:\tlearn: 2423.9058657\ttotal: 706ms\tremaining: 302ms\n",
      "21:\tlearn: 2412.7611708\ttotal: 740ms\tremaining: 269ms\n",
      "22:\tlearn: 2403.8924778\ttotal: 776ms\tremaining: 236ms\n",
      "23:\tlearn: 2396.3557362\ttotal: 808ms\tremaining: 202ms\n",
      "24:\tlearn: 2389.4181414\ttotal: 844ms\tremaining: 169ms\n",
      "25:\tlearn: 2382.8660252\ttotal: 882ms\tremaining: 136ms\n",
      "26:\tlearn: 2376.4974169\ttotal: 912ms\tremaining: 101ms\n",
      "27:\tlearn: 2370.5505769\ttotal: 947ms\tremaining: 67.7ms\n",
      "28:\tlearn: 2364.5561963\ttotal: 977ms\tremaining: 33.7ms\n",
      "29:\tlearn: 2357.8394314\ttotal: 1s\tremaining: 0us\n",
      "Learning rate set to 0.5\n",
      "0:\tlearn: 3883.0799621\ttotal: 45.8ms\tremaining: 1.79s\n",
      "1:\tlearn: 3538.7001972\ttotal: 74.8ms\tremaining: 1.42s\n",
      "2:\tlearn: 3321.1835205\ttotal: 117ms\tremaining: 1.45s\n",
      "3:\tlearn: 3184.0245692\ttotal: 150ms\tremaining: 1.35s\n",
      "4:\tlearn: 3077.2736993\ttotal: 191ms\tremaining: 1.34s\n",
      "5:\tlearn: 2970.1016320\ttotal: 220ms\tremaining: 1.25s\n",
      "6:\tlearn: 2897.6173775\ttotal: 253ms\tremaining: 1.19s\n",
      "7:\tlearn: 2824.8723057\ttotal: 282ms\tremaining: 1.13s\n",
      "8:\tlearn: 2769.4045008\ttotal: 313ms\tremaining: 1.08s\n",
      "9:\tlearn: 2711.3422053\ttotal: 349ms\tremaining: 1.05s\n",
      "10:\tlearn: 2665.4370850\ttotal: 381ms\tremaining: 1s\n",
      "11:\tlearn: 2628.1418462\ttotal: 411ms\tremaining: 959ms\n",
      "12:\tlearn: 2596.2045109\ttotal: 448ms\tremaining: 931ms\n",
      "13:\tlearn: 2573.6291279\ttotal: 478ms\tremaining: 887ms\n",
      "14:\tlearn: 2550.3789406\ttotal: 507ms\tremaining: 845ms\n",
      "15:\tlearn: 2527.0242786\ttotal: 543ms\tremaining: 814ms\n",
      "16:\tlearn: 2505.4443977\ttotal: 573ms\tremaining: 775ms\n",
      "17:\tlearn: 2490.6119800\ttotal: 602ms\tremaining: 736ms\n",
      "18:\tlearn: 2472.3841896\ttotal: 636ms\tremaining: 703ms\n",
      "19:\tlearn: 2443.0353827\ttotal: 668ms\tremaining: 668ms\n",
      "20:\tlearn: 2429.2313998\ttotal: 698ms\tremaining: 632ms\n",
      "21:\tlearn: 2418.4509273\ttotal: 732ms\tremaining: 599ms\n",
      "22:\tlearn: 2409.6074394\ttotal: 760ms\tremaining: 562ms\n",
      "23:\tlearn: 2401.8980681\ttotal: 789ms\tremaining: 526ms\n",
      "24:\tlearn: 2394.5586113\ttotal: 823ms\tremaining: 494ms\n",
      "25:\tlearn: 2387.5902807\ttotal: 855ms\tremaining: 460ms\n",
      "26:\tlearn: 2381.8780904\ttotal: 886ms\tremaining: 426ms\n",
      "27:\tlearn: 2375.9015190\ttotal: 921ms\tremaining: 395ms\n",
      "28:\tlearn: 2369.7487105\ttotal: 950ms\tremaining: 360ms\n",
      "29:\tlearn: 2363.2601913\ttotal: 979ms\tremaining: 326ms\n",
      "30:\tlearn: 2357.8479584\ttotal: 1.01s\tremaining: 294ms\n",
      "31:\tlearn: 2354.0514005\ttotal: 1.04s\tremaining: 260ms\n",
      "32:\tlearn: 2350.3546746\ttotal: 1.07s\tremaining: 227ms\n",
      "33:\tlearn: 2346.1831638\ttotal: 1.1s\tremaining: 195ms\n",
      "34:\tlearn: 2342.5938870\ttotal: 1.14s\tremaining: 162ms\n",
      "35:\tlearn: 2339.1071472\ttotal: 1.17s\tremaining: 129ms\n",
      "36:\tlearn: 2334.4653569\ttotal: 1.19s\tremaining: 96.7ms\n",
      "37:\tlearn: 2331.0273097\ttotal: 1.23s\tremaining: 64.6ms\n",
      "38:\tlearn: 2326.6671782\ttotal: 1.25s\tremaining: 32.2ms\n",
      "39:\tlearn: 2323.3457739\ttotal: 1.28s\tremaining: 0us\n",
      "Learning rate set to 0.5\n",
      "0:\tlearn: 3877.2477909\ttotal: 41.3ms\tremaining: 1.61s\n",
      "1:\tlearn: 3532.7677657\ttotal: 73.2ms\tremaining: 1.39s\n",
      "2:\tlearn: 3314.6445296\ttotal: 114ms\tremaining: 1.4s\n",
      "3:\tlearn: 3177.2732842\ttotal: 142ms\tremaining: 1.28s\n",
      "4:\tlearn: 3070.9752090\ttotal: 186ms\tremaining: 1.3s\n",
      "5:\tlearn: 2968.7189725\ttotal: 214ms\tremaining: 1.21s\n",
      "6:\tlearn: 2897.3840075\ttotal: 244ms\tremaining: 1.15s\n",
      "7:\tlearn: 2824.3912832\ttotal: 275ms\tremaining: 1.1s\n",
      "8:\tlearn: 2768.5808228\ttotal: 305ms\tremaining: 1.05s\n",
      "9:\tlearn: 2710.2813885\ttotal: 335ms\tremaining: 1s\n",
      "10:\tlearn: 2663.8177812\ttotal: 366ms\tremaining: 964ms\n",
      "11:\tlearn: 2626.8768212\ttotal: 394ms\tremaining: 919ms\n",
      "12:\tlearn: 2595.0377954\ttotal: 428ms\tremaining: 888ms\n",
      "13:\tlearn: 2570.8131898\ttotal: 460ms\tremaining: 855ms\n",
      "14:\tlearn: 2547.3264773\ttotal: 491ms\tremaining: 818ms\n",
      "15:\tlearn: 2523.4424728\ttotal: 526ms\tremaining: 790ms\n",
      "16:\tlearn: 2503.4222127\ttotal: 560ms\tremaining: 757ms\n",
      "17:\tlearn: 2488.6332929\ttotal: 595ms\tremaining: 727ms\n",
      "18:\tlearn: 2471.7554779\ttotal: 624ms\tremaining: 690ms\n",
      "19:\tlearn: 2442.5929516\ttotal: 660ms\tremaining: 660ms\n",
      "20:\tlearn: 2429.1697577\ttotal: 690ms\tremaining: 624ms\n",
      "21:\tlearn: 2417.8868413\ttotal: 718ms\tremaining: 587ms\n",
      "22:\tlearn: 2408.1167377\ttotal: 750ms\tremaining: 554ms\n",
      "23:\tlearn: 2400.6017436\ttotal: 780ms\tremaining: 520ms\n",
      "24:\tlearn: 2392.6165620\ttotal: 809ms\tremaining: 485ms\n",
      "25:\tlearn: 2385.6792550\ttotal: 836ms\tremaining: 450ms\n",
      "26:\tlearn: 2379.8100626\ttotal: 871ms\tremaining: 419ms\n",
      "27:\tlearn: 2373.5301166\ttotal: 900ms\tremaining: 386ms\n",
      "28:\tlearn: 2368.1820889\ttotal: 928ms\tremaining: 352ms\n",
      "29:\tlearn: 2361.7014931\ttotal: 962ms\tremaining: 321ms\n",
      "30:\tlearn: 2356.6645569\ttotal: 992ms\tremaining: 288ms\n",
      "31:\tlearn: 2352.3251261\ttotal: 1.02s\tremaining: 256ms\n",
      "32:\tlearn: 2348.0604734\ttotal: 1.06s\tremaining: 224ms\n",
      "33:\tlearn: 2343.4569726\ttotal: 1.09s\tremaining: 192ms\n",
      "34:\tlearn: 2339.6069240\ttotal: 1.13s\tremaining: 161ms\n",
      "35:\tlearn: 2335.8148248\ttotal: 1.16s\tremaining: 129ms\n",
      "36:\tlearn: 2332.2525213\ttotal: 1.19s\tremaining: 96.5ms\n",
      "37:\tlearn: 2327.7251420\ttotal: 1.22s\tremaining: 64.2ms\n",
      "38:\tlearn: 2323.8333239\ttotal: 1.25s\tremaining: 32.1ms\n",
      "39:\tlearn: 2320.5614624\ttotal: 1.28s\tremaining: 0us\n",
      "Learning rate set to 0.5\n",
      "0:\tlearn: 3868.7005097\ttotal: 62.6ms\tremaining: 2.44s\n",
      "1:\tlearn: 3525.0933767\ttotal: 108ms\tremaining: 2.04s\n",
      "2:\tlearn: 3308.2716356\ttotal: 144ms\tremaining: 1.77s\n",
      "3:\tlearn: 3169.9265202\ttotal: 173ms\tremaining: 1.56s\n",
      "4:\tlearn: 3063.3339699\ttotal: 219ms\tremaining: 1.53s\n",
      "5:\tlearn: 2959.5257542\ttotal: 248ms\tremaining: 1.41s\n",
      "6:\tlearn: 2888.4672750\ttotal: 278ms\tremaining: 1.31s\n",
      "7:\tlearn: 2816.2066006\ttotal: 308ms\tremaining: 1.23s\n",
      "8:\tlearn: 2760.8189807\ttotal: 343ms\tremaining: 1.18s\n",
      "9:\tlearn: 2703.2396220\ttotal: 376ms\tremaining: 1.13s\n",
      "10:\tlearn: 2655.6125916\ttotal: 408ms\tremaining: 1.07s\n",
      "11:\tlearn: 2618.7113792\ttotal: 440ms\tremaining: 1.03s\n",
      "12:\tlearn: 2586.8905168\ttotal: 471ms\tremaining: 978ms\n",
      "13:\tlearn: 2563.5573588\ttotal: 502ms\tremaining: 933ms\n",
      "14:\tlearn: 2539.7069628\ttotal: 534ms\tremaining: 890ms\n",
      "15:\tlearn: 2516.5162462\ttotal: 565ms\tremaining: 847ms\n",
      "16:\tlearn: 2495.6817783\ttotal: 593ms\tremaining: 803ms\n",
      "17:\tlearn: 2476.1998251\ttotal: 625ms\tremaining: 764ms\n",
      "18:\tlearn: 2445.6144629\ttotal: 656ms\tremaining: 725ms\n",
      "19:\tlearn: 2432.0063106\ttotal: 684ms\tremaining: 684ms\n",
      "20:\tlearn: 2418.2605749\ttotal: 717ms\tremaining: 648ms\n",
      "21:\tlearn: 2407.8869047\ttotal: 746ms\tremaining: 610ms\n",
      "22:\tlearn: 2399.0564188\ttotal: 775ms\tremaining: 573ms\n",
      "23:\tlearn: 2391.1236842\ttotal: 809ms\tremaining: 539ms\n",
      "24:\tlearn: 2384.1087407\ttotal: 838ms\tremaining: 503ms\n",
      "25:\tlearn: 2377.2526342\ttotal: 866ms\tremaining: 466ms\n",
      "26:\tlearn: 2370.8399094\ttotal: 904ms\tremaining: 435ms\n",
      "27:\tlearn: 2364.7371620\ttotal: 934ms\tremaining: 400ms\n",
      "28:\tlearn: 2358.3768265\ttotal: 963ms\tremaining: 365ms\n",
      "29:\tlearn: 2353.2314849\ttotal: 993ms\tremaining: 331ms\n",
      "30:\tlearn: 2347.4386284\ttotal: 1.02s\tremaining: 297ms\n",
      "31:\tlearn: 2343.4176034\ttotal: 1.05s\tremaining: 263ms\n",
      "32:\tlearn: 2338.9424952\ttotal: 1.08s\tremaining: 229ms\n",
      "33:\tlearn: 2334.5052334\ttotal: 1.11s\tremaining: 197ms\n",
      "34:\tlearn: 2330.8094047\ttotal: 1.14s\tremaining: 163ms\n",
      "35:\tlearn: 2327.2025229\ttotal: 1.17s\tremaining: 130ms\n",
      "36:\tlearn: 2323.6786924\ttotal: 1.21s\tremaining: 98ms\n",
      "37:\tlearn: 2320.4003308\ttotal: 1.24s\tremaining: 65.1ms\n",
      "38:\tlearn: 2315.6216729\ttotal: 1.27s\tremaining: 32.5ms\n",
      "39:\tlearn: 2312.2880104\ttotal: 1.3s\tremaining: 0us\n",
      "Learning rate set to 0.5\n",
      "0:\tlearn: 3879.4655409\ttotal: 41.3ms\tremaining: 1.61s\n",
      "1:\tlearn: 3531.3099085\ttotal: 83.2ms\tremaining: 1.58s\n",
      "2:\tlearn: 3315.6034465\ttotal: 117ms\tremaining: 1.44s\n",
      "3:\tlearn: 3177.4374803\ttotal: 146ms\tremaining: 1.31s\n",
      "4:\tlearn: 3070.7023495\ttotal: 194ms\tremaining: 1.36s\n",
      "5:\tlearn: 2966.7861574\ttotal: 224ms\tremaining: 1.27s\n",
      "6:\tlearn: 2894.2844982\ttotal: 255ms\tremaining: 1.2s\n",
      "7:\tlearn: 2821.5802287\ttotal: 290ms\tremaining: 1.16s\n",
      "8:\tlearn: 2767.0725663\ttotal: 320ms\tremaining: 1.1s\n",
      "9:\tlearn: 2709.8264314\ttotal: 351ms\tremaining: 1.05s\n",
      "10:\tlearn: 2664.2045019\ttotal: 383ms\tremaining: 1.01s\n",
      "11:\tlearn: 2627.0491973\ttotal: 414ms\tremaining: 965ms\n",
      "12:\tlearn: 2595.4871485\ttotal: 444ms\tremaining: 922ms\n",
      "13:\tlearn: 2570.5523492\ttotal: 476ms\tremaining: 884ms\n",
      "14:\tlearn: 2547.4831813\ttotal: 517ms\tremaining: 861ms\n",
      "15:\tlearn: 2523.7926883\ttotal: 547ms\tremaining: 820ms\n",
      "16:\tlearn: 2503.1487884\ttotal: 581ms\tremaining: 786ms\n",
      "17:\tlearn: 2484.8184974\ttotal: 611ms\tremaining: 747ms\n",
      "18:\tlearn: 2456.1057069\ttotal: 643ms\tremaining: 710ms\n",
      "19:\tlearn: 2442.2972032\ttotal: 680ms\tremaining: 680ms\n",
      "20:\tlearn: 2428.6054393\ttotal: 710ms\tremaining: 642ms\n",
      "21:\tlearn: 2417.9157699\ttotal: 739ms\tremaining: 605ms\n",
      "22:\tlearn: 2409.1721728\ttotal: 769ms\tremaining: 568ms\n",
      "23:\tlearn: 2401.4662321\ttotal: 800ms\tremaining: 533ms\n",
      "24:\tlearn: 2394.4481779\ttotal: 830ms\tremaining: 498ms\n",
      "25:\tlearn: 2387.6858291\ttotal: 858ms\tremaining: 462ms\n",
      "26:\tlearn: 2381.3923873\ttotal: 895ms\tremaining: 431ms\n",
      "27:\tlearn: 2375.4651081\ttotal: 933ms\tremaining: 400ms\n",
      "28:\tlearn: 2369.7769309\ttotal: 963ms\tremaining: 365ms\n",
      "29:\tlearn: 2364.0923027\ttotal: 994ms\tremaining: 331ms\n",
      "30:\tlearn: 2357.4075841\ttotal: 1.02s\tremaining: 297ms\n",
      "31:\tlearn: 2353.0678135\ttotal: 1.05s\tremaining: 263ms\n",
      "32:\tlearn: 2349.5827116\ttotal: 1.09s\tremaining: 231ms\n",
      "33:\tlearn: 2345.9887120\ttotal: 1.12s\tremaining: 197ms\n",
      "34:\tlearn: 2342.6438424\ttotal: 1.15s\tremaining: 164ms\n",
      "35:\tlearn: 2337.9279389\ttotal: 1.19s\tremaining: 132ms\n",
      "36:\tlearn: 2334.5289497\ttotal: 1.22s\tremaining: 98.5ms\n",
      "37:\tlearn: 2330.8181306\ttotal: 1.25s\tremaining: 65.5ms\n",
      "38:\tlearn: 2326.9535043\ttotal: 1.28s\tremaining: 32.8ms\n",
      "39:\tlearn: 2323.5295405\ttotal: 1.31s\tremaining: 0us\n",
      "Learning rate set to 0.5\n",
      "0:\tlearn: 3874.1208959\ttotal: 46ms\tremaining: 1.79s\n",
      "1:\tlearn: 3531.5962006\ttotal: 86.4ms\tremaining: 1.64s\n",
      "2:\tlearn: 3315.5737509\ttotal: 115ms\tremaining: 1.42s\n",
      "3:\tlearn: 3177.0990651\ttotal: 148ms\tremaining: 1.33s\n",
      "4:\tlearn: 3070.2031704\ttotal: 191ms\tremaining: 1.34s\n",
      "5:\tlearn: 2966.5970047\ttotal: 222ms\tremaining: 1.26s\n",
      "6:\tlearn: 2895.5665707\ttotal: 267ms\tremaining: 1.26s\n",
      "7:\tlearn: 2822.8658060\ttotal: 295ms\tremaining: 1.18s\n",
      "8:\tlearn: 2767.1706539\ttotal: 340ms\tremaining: 1.17s\n",
      "9:\tlearn: 2708.8085301\ttotal: 376ms\tremaining: 1.13s\n",
      "10:\tlearn: 2661.9359867\ttotal: 406ms\tremaining: 1.07s\n",
      "11:\tlearn: 2624.9731362\ttotal: 441ms\tremaining: 1.03s\n",
      "12:\tlearn: 2593.2237674\ttotal: 474ms\tremaining: 984ms\n",
      "13:\tlearn: 2569.7494463\ttotal: 504ms\tremaining: 936ms\n",
      "14:\tlearn: 2546.1814679\ttotal: 538ms\tremaining: 897ms\n",
      "15:\tlearn: 2521.5829663\ttotal: 569ms\tremaining: 853ms\n",
      "16:\tlearn: 2500.5394878\ttotal: 598ms\tremaining: 809ms\n",
      "17:\tlearn: 2482.1077449\ttotal: 633ms\tremaining: 774ms\n",
      "18:\tlearn: 2467.4123453\ttotal: 665ms\tremaining: 735ms\n",
      "19:\tlearn: 2437.7178321\ttotal: 697ms\tremaining: 697ms\n",
      "20:\tlearn: 2423.9058657\ttotal: 733ms\tremaining: 663ms\n",
      "21:\tlearn: 2412.7611708\ttotal: 762ms\tremaining: 623ms\n",
      "22:\tlearn: 2403.8924778\ttotal: 790ms\tremaining: 584ms\n",
      "23:\tlearn: 2396.3557362\ttotal: 822ms\tremaining: 548ms\n",
      "24:\tlearn: 2389.4181414\ttotal: 853ms\tremaining: 512ms\n",
      "25:\tlearn: 2382.8660252\ttotal: 881ms\tremaining: 474ms\n",
      "26:\tlearn: 2376.4974169\ttotal: 912ms\tremaining: 439ms\n",
      "27:\tlearn: 2370.5505769\ttotal: 946ms\tremaining: 405ms\n",
      "28:\tlearn: 2364.5561963\ttotal: 976ms\tremaining: 370ms\n",
      "29:\tlearn: 2357.8394314\ttotal: 1.01s\tremaining: 336ms\n",
      "30:\tlearn: 2352.3925971\ttotal: 1.04s\tremaining: 302ms\n",
      "31:\tlearn: 2348.2408731\ttotal: 1.07s\tremaining: 267ms\n",
      "32:\tlearn: 2344.1720639\ttotal: 1.1s\tremaining: 233ms\n",
      "33:\tlearn: 2340.2049272\ttotal: 1.13s\tremaining: 200ms\n",
      "34:\tlearn: 2336.6541656\ttotal: 1.17s\tremaining: 167ms\n",
      "35:\tlearn: 2332.9827015\ttotal: 1.21s\tremaining: 134ms\n",
      "36:\tlearn: 2328.4740408\ttotal: 1.25s\tremaining: 102ms\n",
      "37:\tlearn: 2325.2745114\ttotal: 1.29s\tremaining: 68ms\n",
      "38:\tlearn: 2322.0776837\ttotal: 1.32s\tremaining: 33.8ms\n",
      "39:\tlearn: 2318.6796736\ttotal: 1.35s\tremaining: 0us\n",
      "Learning rate set to 0.5\n",
      "0:\tlearn: 3883.0799621\ttotal: 46.4ms\tremaining: 2.27s\n",
      "1:\tlearn: 3538.7001972\ttotal: 75.2ms\tremaining: 1.8s\n",
      "2:\tlearn: 3321.1835205\ttotal: 119ms\tremaining: 1.86s\n",
      "3:\tlearn: 3184.0245692\ttotal: 153ms\tremaining: 1.76s\n",
      "4:\tlearn: 3077.2736993\ttotal: 194ms\tremaining: 1.75s\n",
      "5:\tlearn: 2970.1016320\ttotal: 224ms\tremaining: 1.65s\n",
      "6:\tlearn: 2897.6173775\ttotal: 258ms\tremaining: 1.58s\n",
      "7:\tlearn: 2824.8723057\ttotal: 286ms\tremaining: 1.5s\n",
      "8:\tlearn: 2769.4045008\ttotal: 318ms\tremaining: 1.45s\n",
      "9:\tlearn: 2711.3422053\ttotal: 362ms\tremaining: 1.45s\n",
      "10:\tlearn: 2665.4370850\ttotal: 392ms\tremaining: 1.39s\n",
      "11:\tlearn: 2628.1418462\ttotal: 423ms\tremaining: 1.34s\n",
      "12:\tlearn: 2596.2045109\ttotal: 458ms\tremaining: 1.3s\n",
      "13:\tlearn: 2573.6291279\ttotal: 487ms\tremaining: 1.25s\n",
      "14:\tlearn: 2550.3789406\ttotal: 516ms\tremaining: 1.2s\n",
      "15:\tlearn: 2527.0242786\ttotal: 551ms\tremaining: 1.17s\n",
      "16:\tlearn: 2505.4443977\ttotal: 582ms\tremaining: 1.13s\n",
      "17:\tlearn: 2490.6119800\ttotal: 611ms\tremaining: 1.08s\n",
      "18:\tlearn: 2472.3841896\ttotal: 645ms\tremaining: 1.05s\n",
      "19:\tlearn: 2443.0353827\ttotal: 677ms\tremaining: 1.01s\n",
      "20:\tlearn: 2429.2313998\ttotal: 706ms\tremaining: 975ms\n",
      "21:\tlearn: 2418.4509273\ttotal: 739ms\tremaining: 941ms\n",
      "22:\tlearn: 2409.6074394\ttotal: 768ms\tremaining: 902ms\n",
      "23:\tlearn: 2401.8980681\ttotal: 797ms\tremaining: 864ms\n",
      "24:\tlearn: 2394.5586113\ttotal: 834ms\tremaining: 834ms\n",
      "25:\tlearn: 2387.5902807\ttotal: 862ms\tremaining: 795ms\n",
      "26:\tlearn: 2381.8780904\ttotal: 891ms\tremaining: 759ms\n",
      "27:\tlearn: 2375.9015190\ttotal: 924ms\tremaining: 726ms\n",
      "28:\tlearn: 2369.7487105\ttotal: 953ms\tremaining: 690ms\n",
      "29:\tlearn: 2363.2601913\ttotal: 981ms\tremaining: 654ms\n",
      "30:\tlearn: 2357.8479584\ttotal: 1.01s\tremaining: 620ms\n",
      "31:\tlearn: 2354.0514005\ttotal: 1.04s\tremaining: 587ms\n",
      "32:\tlearn: 2350.3546746\ttotal: 1.07s\tremaining: 552ms\n",
      "33:\tlearn: 2346.1831638\ttotal: 1.1s\tremaining: 518ms\n",
      "34:\tlearn: 2342.5938870\ttotal: 1.13s\tremaining: 486ms\n",
      "35:\tlearn: 2339.1071472\ttotal: 1.16s\tremaining: 452ms\n",
      "36:\tlearn: 2334.4653569\ttotal: 1.19s\tremaining: 418ms\n",
      "37:\tlearn: 2331.0273097\ttotal: 1.23s\tremaining: 388ms\n",
      "38:\tlearn: 2326.6671782\ttotal: 1.26s\tremaining: 356ms\n",
      "39:\tlearn: 2323.3457739\ttotal: 1.29s\tremaining: 322ms\n",
      "40:\tlearn: 2320.0223009\ttotal: 1.33s\tremaining: 292ms\n",
      "41:\tlearn: 2315.5776508\ttotal: 1.36s\tremaining: 259ms\n",
      "42:\tlearn: 2312.9520401\ttotal: 1.39s\tremaining: 227ms\n",
      "43:\tlearn: 2310.2871285\ttotal: 1.43s\tremaining: 194ms\n",
      "44:\tlearn: 2307.2331252\ttotal: 1.45s\tremaining: 162ms\n",
      "45:\tlearn: 2304.6821374\ttotal: 1.48s\tremaining: 129ms\n",
      "46:\tlearn: 2302.2722570\ttotal: 1.51s\tremaining: 96.7ms\n",
      "47:\tlearn: 2299.2968510\ttotal: 1.54s\tremaining: 64.3ms\n",
      "48:\tlearn: 2296.9182032\ttotal: 1.57s\tremaining: 32.1ms\n",
      "49:\tlearn: 2294.2512779\ttotal: 1.6s\tremaining: 0us\n",
      "Learning rate set to 0.5\n",
      "0:\tlearn: 3877.2477909\ttotal: 45.2ms\tremaining: 2.21s\n",
      "1:\tlearn: 3532.7677657\ttotal: 73.2ms\tremaining: 1.76s\n",
      "2:\tlearn: 3314.6445296\ttotal: 117ms\tremaining: 1.82s\n",
      "3:\tlearn: 3177.2732842\ttotal: 149ms\tremaining: 1.71s\n",
      "4:\tlearn: 3070.9752090\ttotal: 187ms\tremaining: 1.69s\n",
      "5:\tlearn: 2968.7189725\ttotal: 219ms\tremaining: 1.6s\n",
      "6:\tlearn: 2897.3840075\ttotal: 249ms\tremaining: 1.53s\n",
      "7:\tlearn: 2824.3912832\ttotal: 277ms\tremaining: 1.45s\n",
      "8:\tlearn: 2768.5808228\ttotal: 307ms\tremaining: 1.4s\n",
      "9:\tlearn: 2710.2813885\ttotal: 340ms\tremaining: 1.36s\n",
      "10:\tlearn: 2663.8177812\ttotal: 368ms\tremaining: 1.31s\n",
      "11:\tlearn: 2626.8768212\ttotal: 397ms\tremaining: 1.26s\n",
      "12:\tlearn: 2595.0377954\ttotal: 435ms\tremaining: 1.24s\n",
      "13:\tlearn: 2570.8131898\ttotal: 464ms\tremaining: 1.19s\n",
      "14:\tlearn: 2547.3264773\ttotal: 493ms\tremaining: 1.15s\n",
      "15:\tlearn: 2523.4424728\ttotal: 528ms\tremaining: 1.12s\n",
      "16:\tlearn: 2503.4222127\ttotal: 557ms\tremaining: 1.08s\n",
      "17:\tlearn: 2488.6332929\ttotal: 588ms\tremaining: 1.04s\n",
      "18:\tlearn: 2471.7554779\ttotal: 623ms\tremaining: 1.02s\n",
      "19:\tlearn: 2442.5929516\ttotal: 655ms\tremaining: 982ms\n",
      "20:\tlearn: 2429.1697577\ttotal: 684ms\tremaining: 944ms\n",
      "21:\tlearn: 2417.8868413\ttotal: 718ms\tremaining: 913ms\n",
      "22:\tlearn: 2408.1167377\ttotal: 746ms\tremaining: 875ms\n",
      "23:\tlearn: 2400.6017436\ttotal: 775ms\tremaining: 839ms\n",
      "24:\tlearn: 2392.6165620\ttotal: 807ms\tremaining: 807ms\n",
      "25:\tlearn: 2385.6792550\ttotal: 834ms\tremaining: 770ms\n",
      "26:\tlearn: 2379.8100626\ttotal: 862ms\tremaining: 734ms\n",
      "27:\tlearn: 2373.5301166\ttotal: 893ms\tremaining: 702ms\n",
      "28:\tlearn: 2368.1820889\ttotal: 924ms\tremaining: 669ms\n",
      "29:\tlearn: 2361.7014931\ttotal: 955ms\tremaining: 636ms\n",
      "30:\tlearn: 2356.6645569\ttotal: 986ms\tremaining: 604ms\n",
      "31:\tlearn: 2352.3251261\ttotal: 1.02s\tremaining: 572ms\n",
      "32:\tlearn: 2348.0604734\ttotal: 1.04s\tremaining: 538ms\n",
      "33:\tlearn: 2343.4569726\ttotal: 1.07s\tremaining: 505ms\n",
      "34:\tlearn: 2339.6069240\ttotal: 1.1s\tremaining: 474ms\n",
      "35:\tlearn: 2335.8148248\ttotal: 1.13s\tremaining: 441ms\n",
      "36:\tlearn: 2332.2525213\ttotal: 1.16s\tremaining: 408ms\n",
      "37:\tlearn: 2327.7251420\ttotal: 1.19s\tremaining: 376ms\n",
      "38:\tlearn: 2323.8333239\ttotal: 1.22s\tremaining: 345ms\n",
      "39:\tlearn: 2320.5614624\ttotal: 1.25s\tremaining: 313ms\n",
      "40:\tlearn: 2317.2917868\ttotal: 1.28s\tremaining: 282ms\n",
      "41:\tlearn: 2313.5483012\ttotal: 1.32s\tremaining: 251ms\n",
      "42:\tlearn: 2310.4719463\ttotal: 1.35s\tremaining: 220ms\n",
      "43:\tlearn: 2307.6396601\ttotal: 1.38s\tremaining: 188ms\n",
      "44:\tlearn: 2304.7989556\ttotal: 1.41s\tremaining: 157ms\n",
      "45:\tlearn: 2302.4017395\ttotal: 1.44s\tremaining: 125ms\n",
      "46:\tlearn: 2300.0717360\ttotal: 1.47s\tremaining: 93.8ms\n",
      "47:\tlearn: 2297.9951936\ttotal: 1.5s\tremaining: 62.7ms\n",
      "48:\tlearn: 2295.5387438\ttotal: 1.53s\tremaining: 31.3ms\n",
      "49:\tlearn: 2292.8035145\ttotal: 1.56s\tremaining: 0us\n",
      "Learning rate set to 0.5\n",
      "0:\tlearn: 3868.7005097\ttotal: 45ms\tremaining: 2.2s\n",
      "1:\tlearn: 3525.0933767\ttotal: 85.8ms\tremaining: 2.06s\n",
      "2:\tlearn: 3308.2716356\ttotal: 115ms\tremaining: 1.8s\n",
      "3:\tlearn: 3169.9265202\ttotal: 147ms\tremaining: 1.69s\n",
      "4:\tlearn: 3063.3339699\ttotal: 189ms\tremaining: 1.7s\n",
      "5:\tlearn: 2959.5257542\ttotal: 218ms\tremaining: 1.6s\n",
      "6:\tlearn: 2888.4672750\ttotal: 262ms\tremaining: 1.61s\n",
      "7:\tlearn: 2816.2066006\ttotal: 294ms\tremaining: 1.54s\n",
      "8:\tlearn: 2760.8189807\ttotal: 325ms\tremaining: 1.48s\n",
      "9:\tlearn: 2703.2396220\ttotal: 363ms\tremaining: 1.45s\n",
      "10:\tlearn: 2655.6125916\ttotal: 392ms\tremaining: 1.39s\n",
      "11:\tlearn: 2618.7113792\ttotal: 431ms\tremaining: 1.36s\n",
      "12:\tlearn: 2586.8905168\ttotal: 473ms\tremaining: 1.35s\n",
      "13:\tlearn: 2563.5573588\ttotal: 507ms\tremaining: 1.3s\n",
      "14:\tlearn: 2539.7069628\ttotal: 543ms\tremaining: 1.27s\n",
      "15:\tlearn: 2516.5162462\ttotal: 573ms\tremaining: 1.22s\n",
      "16:\tlearn: 2495.6817783\ttotal: 601ms\tremaining: 1.17s\n",
      "17:\tlearn: 2476.1998251\ttotal: 635ms\tremaining: 1.13s\n",
      "18:\tlearn: 2445.6144629\ttotal: 668ms\tremaining: 1.09s\n",
      "19:\tlearn: 2432.0063106\ttotal: 699ms\tremaining: 1.05s\n",
      "20:\tlearn: 2418.2605749\ttotal: 733ms\tremaining: 1.01s\n",
      "21:\tlearn: 2407.8869047\ttotal: 763ms\tremaining: 971ms\n",
      "22:\tlearn: 2399.0564188\ttotal: 792ms\tremaining: 930ms\n",
      "23:\tlearn: 2391.1236842\ttotal: 820ms\tremaining: 889ms\n",
      "24:\tlearn: 2384.1087407\ttotal: 854ms\tremaining: 854ms\n",
      "25:\tlearn: 2377.2526342\ttotal: 883ms\tremaining: 815ms\n",
      "26:\tlearn: 2370.8399094\ttotal: 912ms\tremaining: 777ms\n",
      "27:\tlearn: 2364.7371620\ttotal: 944ms\tremaining: 742ms\n",
      "28:\tlearn: 2358.3768265\ttotal: 972ms\tremaining: 704ms\n",
      "29:\tlearn: 2353.2314849\ttotal: 1.01s\tremaining: 676ms\n",
      "30:\tlearn: 2347.4386284\ttotal: 1.06s\tremaining: 650ms\n",
      "31:\tlearn: 2343.4176034\ttotal: 1.1s\tremaining: 619ms\n",
      "32:\tlearn: 2338.9424952\ttotal: 1.13s\tremaining: 584ms\n",
      "33:\tlearn: 2334.5052334\ttotal: 1.17s\tremaining: 549ms\n",
      "34:\tlearn: 2330.8094047\ttotal: 1.2s\tremaining: 512ms\n",
      "35:\tlearn: 2327.2025229\ttotal: 1.23s\tremaining: 478ms\n",
      "36:\tlearn: 2323.6786924\ttotal: 1.26s\tremaining: 442ms\n",
      "37:\tlearn: 2320.4003308\ttotal: 1.28s\tremaining: 406ms\n",
      "38:\tlearn: 2315.6216729\ttotal: 1.31s\tremaining: 371ms\n",
      "39:\tlearn: 2312.2880104\ttotal: 1.35s\tremaining: 337ms\n",
      "40:\tlearn: 2309.2293622\ttotal: 1.38s\tremaining: 302ms\n",
      "41:\tlearn: 2305.1620404\ttotal: 1.41s\tremaining: 268ms\n",
      "42:\tlearn: 2302.2076853\ttotal: 1.44s\tremaining: 234ms\n",
      "43:\tlearn: 2299.5291843\ttotal: 1.47s\tremaining: 200ms\n",
      "44:\tlearn: 2296.7736514\ttotal: 1.5s\tremaining: 166ms\n",
      "45:\tlearn: 2294.1194921\ttotal: 1.53s\tremaining: 133ms\n",
      "46:\tlearn: 2291.1793306\ttotal: 1.56s\tremaining: 99.6ms\n",
      "47:\tlearn: 2288.8854859\ttotal: 1.59s\tremaining: 66.3ms\n",
      "48:\tlearn: 2286.6959977\ttotal: 1.63s\tremaining: 33.2ms\n",
      "49:\tlearn: 2284.1067822\ttotal: 1.66s\tremaining: 0us\n",
      "Learning rate set to 0.5\n",
      "0:\tlearn: 3879.4655409\ttotal: 45.6ms\tremaining: 2.23s\n",
      "1:\tlearn: 3531.3099085\ttotal: 82.5ms\tremaining: 1.98s\n",
      "2:\tlearn: 3315.6034465\ttotal: 115ms\tremaining: 1.79s\n",
      "3:\tlearn: 3177.4374803\ttotal: 148ms\tremaining: 1.7s\n",
      "4:\tlearn: 3070.7023495\ttotal: 188ms\tremaining: 1.7s\n",
      "5:\tlearn: 2966.7861574\ttotal: 220ms\tremaining: 1.61s\n",
      "6:\tlearn: 2894.2844982\ttotal: 249ms\tremaining: 1.53s\n",
      "7:\tlearn: 2821.5802287\ttotal: 277ms\tremaining: 1.45s\n",
      "8:\tlearn: 2767.0725663\ttotal: 313ms\tremaining: 1.42s\n",
      "9:\tlearn: 2709.8264314\ttotal: 343ms\tremaining: 1.37s\n",
      "10:\tlearn: 2664.2045019\ttotal: 372ms\tremaining: 1.32s\n",
      "11:\tlearn: 2627.0491973\ttotal: 402ms\tremaining: 1.27s\n",
      "12:\tlearn: 2595.4871485\ttotal: 434ms\tremaining: 1.24s\n",
      "13:\tlearn: 2570.5523492\ttotal: 463ms\tremaining: 1.19s\n",
      "14:\tlearn: 2547.4831813\ttotal: 491ms\tremaining: 1.15s\n",
      "15:\tlearn: 2523.7926883\ttotal: 524ms\tremaining: 1.11s\n",
      "16:\tlearn: 2503.1487884\ttotal: 552ms\tremaining: 1.07s\n",
      "17:\tlearn: 2484.8184974\ttotal: 580ms\tremaining: 1.03s\n",
      "18:\tlearn: 2456.1057069\ttotal: 617ms\tremaining: 1.01s\n",
      "19:\tlearn: 2442.2972032\ttotal: 646ms\tremaining: 969ms\n",
      "20:\tlearn: 2428.6054393\ttotal: 675ms\tremaining: 932ms\n",
      "21:\tlearn: 2417.9157699\ttotal: 709ms\tremaining: 902ms\n",
      "22:\tlearn: 2409.1721728\ttotal: 737ms\tremaining: 865ms\n",
      "23:\tlearn: 2401.4662321\ttotal: 766ms\tremaining: 830ms\n",
      "24:\tlearn: 2394.4481779\ttotal: 805ms\tremaining: 805ms\n",
      "25:\tlearn: 2387.6858291\ttotal: 833ms\tremaining: 769ms\n",
      "26:\tlearn: 2381.3923873\ttotal: 861ms\tremaining: 734ms\n",
      "27:\tlearn: 2375.4651081\ttotal: 897ms\tremaining: 704ms\n",
      "28:\tlearn: 2369.7769309\ttotal: 927ms\tremaining: 671ms\n",
      "29:\tlearn: 2364.0923027\ttotal: 956ms\tremaining: 637ms\n",
      "30:\tlearn: 2357.4075841\ttotal: 989ms\tremaining: 606ms\n",
      "31:\tlearn: 2353.0678135\ttotal: 1.02s\tremaining: 574ms\n",
      "32:\tlearn: 2349.5827116\ttotal: 1.05s\tremaining: 540ms\n",
      "33:\tlearn: 2345.9887120\ttotal: 1.08s\tremaining: 508ms\n",
      "34:\tlearn: 2342.6438424\ttotal: 1.11s\tremaining: 477ms\n",
      "35:\tlearn: 2337.9279389\ttotal: 1.14s\tremaining: 444ms\n",
      "36:\tlearn: 2334.5289497\ttotal: 1.17s\tremaining: 411ms\n",
      "37:\tlearn: 2330.8181306\ttotal: 1.21s\tremaining: 381ms\n",
      "38:\tlearn: 2326.9535043\ttotal: 1.24s\tremaining: 349ms\n",
      "39:\tlearn: 2323.5295405\ttotal: 1.26s\tremaining: 316ms\n",
      "40:\tlearn: 2320.4346105\ttotal: 1.3s\tremaining: 286ms\n",
      "41:\tlearn: 2317.5316909\ttotal: 1.33s\tremaining: 254ms\n",
      "42:\tlearn: 2313.1446147\ttotal: 1.37s\tremaining: 223ms\n",
      "43:\tlearn: 2310.4452001\ttotal: 1.41s\tremaining: 192ms\n",
      "44:\tlearn: 2307.6152774\ttotal: 1.45s\tremaining: 161ms\n",
      "45:\tlearn: 2304.9212056\ttotal: 1.48s\tremaining: 129ms\n",
      "46:\tlearn: 2302.5453804\ttotal: 1.52s\tremaining: 96.8ms\n",
      "47:\tlearn: 2299.7543120\ttotal: 1.55s\tremaining: 64.4ms\n",
      "48:\tlearn: 2296.8831257\ttotal: 1.58s\tremaining: 32.3ms\n",
      "49:\tlearn: 2294.9005840\ttotal: 1.61s\tremaining: 0us\n",
      "Learning rate set to 0.5\n",
      "0:\tlearn: 3874.1208959\ttotal: 44.2ms\tremaining: 2.17s\n",
      "1:\tlearn: 3531.5962006\ttotal: 84.1ms\tremaining: 2.02s\n",
      "2:\tlearn: 3315.5737509\ttotal: 120ms\tremaining: 1.88s\n",
      "3:\tlearn: 3177.0990651\ttotal: 148ms\tremaining: 1.7s\n",
      "4:\tlearn: 3070.2031704\ttotal: 189ms\tremaining: 1.7s\n",
      "5:\tlearn: 2966.5970047\ttotal: 222ms\tremaining: 1.63s\n",
      "6:\tlearn: 2895.5665707\ttotal: 252ms\tremaining: 1.55s\n",
      "7:\tlearn: 2822.8658060\ttotal: 280ms\tremaining: 1.47s\n",
      "8:\tlearn: 2767.1706539\ttotal: 315ms\tremaining: 1.43s\n",
      "9:\tlearn: 2708.8085301\ttotal: 346ms\tremaining: 1.38s\n",
      "10:\tlearn: 2661.9359867\ttotal: 375ms\tremaining: 1.33s\n",
      "11:\tlearn: 2624.9731362\ttotal: 407ms\tremaining: 1.29s\n",
      "12:\tlearn: 2593.2237674\ttotal: 446ms\tremaining: 1.27s\n",
      "13:\tlearn: 2569.7494463\ttotal: 475ms\tremaining: 1.22s\n",
      "14:\tlearn: 2546.1814679\ttotal: 510ms\tremaining: 1.19s\n",
      "15:\tlearn: 2521.5829663\ttotal: 548ms\tremaining: 1.16s\n",
      "16:\tlearn: 2500.5394878\ttotal: 580ms\tremaining: 1.13s\n",
      "17:\tlearn: 2482.1077449\ttotal: 614ms\tremaining: 1.09s\n",
      "18:\tlearn: 2467.4123453\ttotal: 644ms\tremaining: 1.05s\n",
      "19:\tlearn: 2437.7178321\ttotal: 676ms\tremaining: 1.01s\n",
      "20:\tlearn: 2423.9058657\ttotal: 717ms\tremaining: 990ms\n",
      "21:\tlearn: 2412.7611708\ttotal: 746ms\tremaining: 949ms\n",
      "22:\tlearn: 2403.8924778\ttotal: 774ms\tremaining: 909ms\n",
      "23:\tlearn: 2396.3557362\ttotal: 807ms\tremaining: 874ms\n",
      "24:\tlearn: 2389.4181414\ttotal: 836ms\tremaining: 836ms\n",
      "25:\tlearn: 2382.8660252\ttotal: 864ms\tremaining: 798ms\n",
      "26:\tlearn: 2376.4974169\ttotal: 896ms\tremaining: 763ms\n",
      "27:\tlearn: 2370.5505769\ttotal: 926ms\tremaining: 728ms\n",
      "28:\tlearn: 2364.5561963\ttotal: 955ms\tremaining: 692ms\n",
      "29:\tlearn: 2357.8394314\ttotal: 985ms\tremaining: 657ms\n",
      "30:\tlearn: 2352.3925971\ttotal: 1.02s\tremaining: 624ms\n",
      "31:\tlearn: 2348.2408731\ttotal: 1.05s\tremaining: 590ms\n",
      "32:\tlearn: 2344.1720639\ttotal: 1.08s\tremaining: 556ms\n",
      "33:\tlearn: 2340.2049272\ttotal: 1.11s\tremaining: 524ms\n",
      "34:\tlearn: 2336.6541656\ttotal: 1.14s\tremaining: 490ms\n",
      "35:\tlearn: 2332.9827015\ttotal: 1.17s\tremaining: 456ms\n",
      "36:\tlearn: 2328.4740408\ttotal: 1.21s\tremaining: 423ms\n",
      "37:\tlearn: 2325.2745114\ttotal: 1.23s\tremaining: 390ms\n",
      "38:\tlearn: 2322.0776837\ttotal: 1.26s\tremaining: 356ms\n",
      "39:\tlearn: 2318.6796736\ttotal: 1.29s\tremaining: 324ms\n",
      "40:\tlearn: 2314.5324156\ttotal: 1.32s\tremaining: 290ms\n",
      "41:\tlearn: 2311.3283515\ttotal: 1.35s\tremaining: 258ms\n",
      "42:\tlearn: 2307.2528441\ttotal: 1.38s\tremaining: 225ms\n",
      "43:\tlearn: 2304.1792460\ttotal: 1.42s\tremaining: 193ms\n",
      "44:\tlearn: 2301.3685211\ttotal: 1.45s\tremaining: 161ms\n",
      "45:\tlearn: 2298.6258349\ttotal: 1.48s\tremaining: 129ms\n",
      "46:\tlearn: 2296.2094130\ttotal: 1.51s\tremaining: 96.5ms\n",
      "47:\tlearn: 2293.2694068\ttotal: 1.54s\tremaining: 64.3ms\n",
      "48:\tlearn: 2290.5226078\ttotal: 1.57s\tremaining: 32.1ms\n",
      "49:\tlearn: 2288.5705371\ttotal: 1.61s\tremaining: 0us\n",
      "Learning rate set to 0.5\n",
      "0:\tlearn: 3476.5963072\ttotal: 57.8ms\tremaining: 520ms\n",
      "1:\tlearn: 2986.7762891\ttotal: 110ms\tremaining: 438ms\n",
      "2:\tlearn: 2724.4036659\ttotal: 166ms\tremaining: 387ms\n",
      "3:\tlearn: 2535.7182752\ttotal: 228ms\tremaining: 342ms\n",
      "4:\tlearn: 2429.4969100\ttotal: 281ms\tremaining: 281ms\n",
      "5:\tlearn: 2348.7223789\ttotal: 331ms\tremaining: 221ms\n",
      "6:\tlearn: 2302.2038575\ttotal: 377ms\tremaining: 162ms\n",
      "7:\tlearn: 2251.4647524\ttotal: 427ms\tremaining: 107ms\n",
      "8:\tlearn: 2225.2232842\ttotal: 472ms\tremaining: 52.4ms\n",
      "9:\tlearn: 2186.5729148\ttotal: 526ms\tremaining: 0us\n",
      "Learning rate set to 0.5\n",
      "0:\tlearn: 3470.5767371\ttotal: 83.4ms\tremaining: 751ms\n",
      "1:\tlearn: 2977.7088613\ttotal: 129ms\tremaining: 516ms\n",
      "2:\tlearn: 2692.1136896\ttotal: 214ms\tremaining: 499ms\n",
      "3:\tlearn: 2525.8598331\ttotal: 270ms\tremaining: 406ms\n",
      "4:\tlearn: 2397.9133942\ttotal: 322ms\tremaining: 322ms\n",
      "5:\tlearn: 2311.8264519\ttotal: 381ms\tremaining: 254ms\n",
      "6:\tlearn: 2267.3876722\ttotal: 430ms\tremaining: 184ms\n",
      "7:\tlearn: 2220.5419979\ttotal: 484ms\tremaining: 121ms\n",
      "8:\tlearn: 2188.7966231\ttotal: 532ms\tremaining: 59.1ms\n",
      "9:\tlearn: 2151.8735459\ttotal: 591ms\tremaining: 0us\n",
      "Learning rate set to 0.5\n",
      "0:\tlearn: 3456.7154436\ttotal: 61.1ms\tremaining: 550ms\n",
      "1:\tlearn: 2987.6287552\ttotal: 117ms\tremaining: 469ms\n",
      "2:\tlearn: 2713.1891454\ttotal: 177ms\tremaining: 414ms\n",
      "3:\tlearn: 2548.7241365\ttotal: 255ms\tremaining: 383ms\n",
      "4:\tlearn: 2431.2029276\ttotal: 317ms\tremaining: 317ms\n",
      "5:\tlearn: 2359.2558057\ttotal: 362ms\tremaining: 241ms\n",
      "6:\tlearn: 2293.9582142\ttotal: 418ms\tremaining: 179ms\n",
      "7:\tlearn: 2242.1593963\ttotal: 463ms\tremaining: 116ms\n",
      "8:\tlearn: 2209.9972116\ttotal: 518ms\tremaining: 57.5ms\n",
      "9:\tlearn: 2184.6157330\ttotal: 564ms\tremaining: 0us\n",
      "Learning rate set to 0.5\n",
      "0:\tlearn: 3465.2132873\ttotal: 79.8ms\tremaining: 719ms\n",
      "1:\tlearn: 2999.4592034\ttotal: 128ms\tremaining: 513ms\n",
      "2:\tlearn: 2721.7354809\ttotal: 198ms\tremaining: 462ms\n",
      "3:\tlearn: 2558.8608243\ttotal: 264ms\tremaining: 396ms\n",
      "4:\tlearn: 2437.7256110\ttotal: 314ms\tremaining: 314ms\n",
      "5:\tlearn: 2357.0854299\ttotal: 369ms\tremaining: 246ms\n",
      "6:\tlearn: 2298.8214832\ttotal: 429ms\tremaining: 184ms\n",
      "7:\tlearn: 2243.6589243\ttotal: 480ms\tremaining: 120ms\n",
      "8:\tlearn: 2217.0688367\ttotal: 526ms\tremaining: 58.4ms\n",
      "9:\tlearn: 2175.6908824\ttotal: 584ms\tremaining: 0us\n",
      "Learning rate set to 0.5\n",
      "0:\tlearn: 3459.4257717\ttotal: 68.8ms\tremaining: 619ms\n",
      "1:\tlearn: 2995.3389318\ttotal: 115ms\tremaining: 460ms\n",
      "2:\tlearn: 2717.1240415\ttotal: 178ms\tremaining: 416ms\n",
      "3:\tlearn: 2554.0989865\ttotal: 245ms\tremaining: 368ms\n",
      "4:\tlearn: 2431.2580498\ttotal: 297ms\tremaining: 297ms\n",
      "5:\tlearn: 2355.4508197\ttotal: 349ms\tremaining: 233ms\n",
      "6:\tlearn: 2297.0097504\ttotal: 399ms\tremaining: 171ms\n",
      "7:\tlearn: 2257.0440420\ttotal: 454ms\tremaining: 113ms\n",
      "8:\tlearn: 2207.8949052\ttotal: 499ms\tremaining: 55.4ms\n",
      "9:\tlearn: 2172.7486554\ttotal: 554ms\tremaining: 0us\n",
      "Learning rate set to 0.5\n",
      "0:\tlearn: 3476.5963072\ttotal: 63ms\tremaining: 1.2s\n",
      "1:\tlearn: 2986.7762891\ttotal: 112ms\tremaining: 1s\n",
      "2:\tlearn: 2724.4036659\ttotal: 171ms\tremaining: 972ms\n",
      "3:\tlearn: 2535.7182752\ttotal: 232ms\tremaining: 928ms\n",
      "4:\tlearn: 2429.4969100\ttotal: 285ms\tremaining: 855ms\n",
      "5:\tlearn: 2348.7223789\ttotal: 344ms\tremaining: 804ms\n",
      "6:\tlearn: 2302.2038575\ttotal: 395ms\tremaining: 733ms\n",
      "7:\tlearn: 2251.4647524\ttotal: 445ms\tremaining: 668ms\n",
      "8:\tlearn: 2225.2232842\ttotal: 494ms\tremaining: 603ms\n",
      "9:\tlearn: 2186.5729148\ttotal: 549ms\tremaining: 549ms\n",
      "10:\tlearn: 2156.6910533\ttotal: 596ms\tremaining: 487ms\n",
      "11:\tlearn: 2136.3387126\ttotal: 647ms\tremaining: 431ms\n",
      "12:\tlearn: 2116.6169034\ttotal: 695ms\tremaining: 374ms\n",
      "13:\tlearn: 2105.7263823\ttotal: 747ms\tremaining: 320ms\n",
      "14:\tlearn: 2093.3949706\ttotal: 793ms\tremaining: 264ms\n",
      "15:\tlearn: 2081.9461757\ttotal: 843ms\tremaining: 211ms\n",
      "16:\tlearn: 2074.1142228\ttotal: 893ms\tremaining: 158ms\n",
      "17:\tlearn: 2067.1628864\ttotal: 943ms\tremaining: 105ms\n",
      "18:\tlearn: 2061.7084687\ttotal: 994ms\tremaining: 52.3ms\n",
      "19:\tlearn: 2050.6459777\ttotal: 1.05s\tremaining: 0us\n",
      "Learning rate set to 0.5\n",
      "0:\tlearn: 3470.5767371\ttotal: 66.7ms\tremaining: 1.27s\n",
      "1:\tlearn: 2977.7088613\ttotal: 111ms\tremaining: 1s\n",
      "2:\tlearn: 2692.1136896\ttotal: 179ms\tremaining: 1.01s\n",
      "3:\tlearn: 2525.8598331\ttotal: 227ms\tremaining: 907ms\n",
      "4:\tlearn: 2397.9133942\ttotal: 282ms\tremaining: 847ms\n",
      "5:\tlearn: 2311.8264519\ttotal: 327ms\tremaining: 763ms\n",
      "6:\tlearn: 2267.3876722\ttotal: 377ms\tremaining: 701ms\n",
      "7:\tlearn: 2220.5419979\ttotal: 422ms\tremaining: 633ms\n",
      "8:\tlearn: 2188.7966231\ttotal: 474ms\tremaining: 580ms\n",
      "9:\tlearn: 2151.8735459\ttotal: 526ms\tremaining: 526ms\n",
      "10:\tlearn: 2137.7394454\ttotal: 577ms\tremaining: 472ms\n",
      "11:\tlearn: 2125.6206269\ttotal: 626ms\tremaining: 417ms\n",
      "12:\tlearn: 2114.5272100\ttotal: 681ms\tremaining: 367ms\n",
      "13:\tlearn: 2091.9430650\ttotal: 731ms\tremaining: 313ms\n",
      "14:\tlearn: 2076.1026880\ttotal: 778ms\tremaining: 259ms\n",
      "15:\tlearn: 2062.7950588\ttotal: 827ms\tremaining: 207ms\n",
      "16:\tlearn: 2052.9980636\ttotal: 873ms\tremaining: 154ms\n",
      "17:\tlearn: 2045.9678952\ttotal: 920ms\tremaining: 102ms\n",
      "18:\tlearn: 2036.7538754\ttotal: 970ms\tremaining: 51.1ms\n",
      "19:\tlearn: 2029.9175764\ttotal: 1.02s\tremaining: 0us\n",
      "Learning rate set to 0.5\n",
      "0:\tlearn: 3456.7154436\ttotal: 63ms\tremaining: 1.2s\n",
      "1:\tlearn: 2987.6287552\ttotal: 108ms\tremaining: 974ms\n",
      "2:\tlearn: 2713.1891454\ttotal: 171ms\tremaining: 969ms\n",
      "3:\tlearn: 2548.7241365\ttotal: 236ms\tremaining: 945ms\n",
      "4:\tlearn: 2431.2029276\ttotal: 288ms\tremaining: 863ms\n",
      "5:\tlearn: 2359.2558057\ttotal: 344ms\tremaining: 802ms\n",
      "6:\tlearn: 2293.9582142\ttotal: 391ms\tremaining: 726ms\n",
      "7:\tlearn: 2242.1593963\ttotal: 447ms\tremaining: 670ms\n",
      "8:\tlearn: 2209.9972116\ttotal: 493ms\tremaining: 603ms\n",
      "9:\tlearn: 2184.6157330\ttotal: 548ms\tremaining: 548ms\n",
      "10:\tlearn: 2149.8477504\ttotal: 597ms\tremaining: 488ms\n",
      "11:\tlearn: 2129.5894419\ttotal: 649ms\tremaining: 433ms\n",
      "12:\tlearn: 2102.2792275\ttotal: 695ms\tremaining: 374ms\n",
      "13:\tlearn: 2091.2183357\ttotal: 749ms\tremaining: 321ms\n",
      "14:\tlearn: 2080.9778372\ttotal: 796ms\tremaining: 265ms\n",
      "15:\tlearn: 2069.4214507\ttotal: 848ms\tremaining: 212ms\n",
      "16:\tlearn: 2054.7114134\ttotal: 893ms\tremaining: 158ms\n",
      "17:\tlearn: 2039.3159259\ttotal: 947ms\tremaining: 105ms\n",
      "18:\tlearn: 2031.0836577\ttotal: 994ms\tremaining: 52.3ms\n",
      "19:\tlearn: 2023.9427461\ttotal: 1.05s\tremaining: 0us\n",
      "Learning rate set to 0.5\n",
      "0:\tlearn: 3465.2132873\ttotal: 65.7ms\tremaining: 1.25s\n",
      "1:\tlearn: 2999.4592034\ttotal: 112ms\tremaining: 1s\n",
      "2:\tlearn: 2721.7354809\ttotal: 174ms\tremaining: 987ms\n",
      "3:\tlearn: 2558.8608243\ttotal: 239ms\tremaining: 954ms\n",
      "4:\tlearn: 2437.7256110\ttotal: 293ms\tremaining: 879ms\n",
      "5:\tlearn: 2357.0854299\ttotal: 349ms\tremaining: 814ms\n",
      "6:\tlearn: 2298.8214832\ttotal: 395ms\tremaining: 734ms\n",
      "7:\tlearn: 2243.6589243\ttotal: 449ms\tremaining: 673ms\n",
      "8:\tlearn: 2217.0688367\ttotal: 494ms\tremaining: 604ms\n",
      "9:\tlearn: 2175.6908824\ttotal: 557ms\tremaining: 557ms\n",
      "10:\tlearn: 2152.5026810\ttotal: 602ms\tremaining: 492ms\n",
      "11:\tlearn: 2132.6121560\ttotal: 662ms\tremaining: 441ms\n",
      "12:\tlearn: 2120.5416127\ttotal: 729ms\tremaining: 393ms\n",
      "13:\tlearn: 2108.8706437\ttotal: 777ms\tremaining: 333ms\n",
      "14:\tlearn: 2095.9741535\ttotal: 830ms\tremaining: 277ms\n",
      "15:\tlearn: 2079.4663693\ttotal: 877ms\tremaining: 219ms\n",
      "16:\tlearn: 2061.8347464\ttotal: 932ms\tremaining: 165ms\n",
      "17:\tlearn: 2053.4907234\ttotal: 979ms\tremaining: 109ms\n",
      "18:\tlearn: 2044.7363668\ttotal: 1.04s\tremaining: 54.6ms\n",
      "19:\tlearn: 2039.4123926\ttotal: 1.08s\tremaining: 0us\n",
      "Learning rate set to 0.5\n",
      "0:\tlearn: 3459.4257717\ttotal: 62ms\tremaining: 1.18s\n",
      "1:\tlearn: 2995.3389318\ttotal: 116ms\tremaining: 1.04s\n",
      "2:\tlearn: 2717.1240415\ttotal: 172ms\tremaining: 974ms\n",
      "3:\tlearn: 2554.0989865\ttotal: 235ms\tremaining: 941ms\n",
      "4:\tlearn: 2431.2580498\ttotal: 286ms\tremaining: 858ms\n",
      "5:\tlearn: 2355.4508197\ttotal: 335ms\tremaining: 782ms\n",
      "6:\tlearn: 2297.0097504\ttotal: 383ms\tremaining: 712ms\n",
      "7:\tlearn: 2257.0440420\ttotal: 436ms\tremaining: 654ms\n",
      "8:\tlearn: 2207.8949052\ttotal: 486ms\tremaining: 594ms\n",
      "9:\tlearn: 2172.7486554\ttotal: 539ms\tremaining: 539ms\n",
      "10:\tlearn: 2145.6657956\ttotal: 609ms\tremaining: 499ms\n",
      "11:\tlearn: 2127.9087211\ttotal: 668ms\tremaining: 445ms\n",
      "12:\tlearn: 2112.8122860\ttotal: 725ms\tremaining: 391ms\n",
      "13:\tlearn: 2097.3073659\ttotal: 771ms\tremaining: 331ms\n",
      "14:\tlearn: 2077.1227018\ttotal: 826ms\tremaining: 275ms\n",
      "15:\tlearn: 2065.9688490\ttotal: 873ms\tremaining: 218ms\n",
      "16:\tlearn: 2052.9331608\ttotal: 924ms\tremaining: 163ms\n",
      "17:\tlearn: 2044.2930104\ttotal: 968ms\tremaining: 108ms\n",
      "18:\tlearn: 2033.4168306\ttotal: 1.03s\tremaining: 54.4ms\n",
      "19:\tlearn: 2026.5953433\ttotal: 1.08s\tremaining: 0us\n",
      "Learning rate set to 0.5\n",
      "0:\tlearn: 3476.5963072\ttotal: 60.6ms\tremaining: 1.76s\n",
      "1:\tlearn: 2986.7762891\ttotal: 108ms\tremaining: 1.51s\n",
      "2:\tlearn: 2724.4036659\ttotal: 165ms\tremaining: 1.48s\n",
      "3:\tlearn: 2535.7182752\ttotal: 227ms\tremaining: 1.47s\n",
      "4:\tlearn: 2429.4969100\ttotal: 277ms\tremaining: 1.39s\n",
      "5:\tlearn: 2348.7223789\ttotal: 333ms\tremaining: 1.33s\n",
      "6:\tlearn: 2302.2038575\ttotal: 384ms\tremaining: 1.26s\n",
      "7:\tlearn: 2251.4647524\ttotal: 434ms\tremaining: 1.19s\n",
      "8:\tlearn: 2225.2232842\ttotal: 481ms\tremaining: 1.12s\n",
      "9:\tlearn: 2186.5729148\ttotal: 538ms\tremaining: 1.07s\n",
      "10:\tlearn: 2156.6910533\ttotal: 598ms\tremaining: 1.03s\n",
      "11:\tlearn: 2136.3387126\ttotal: 669ms\tremaining: 1s\n",
      "12:\tlearn: 2116.6169034\ttotal: 734ms\tremaining: 960ms\n",
      "13:\tlearn: 2105.7263823\ttotal: 795ms\tremaining: 908ms\n",
      "14:\tlearn: 2093.3949706\ttotal: 853ms\tremaining: 853ms\n",
      "15:\tlearn: 2081.9461757\ttotal: 905ms\tremaining: 792ms\n",
      "16:\tlearn: 2074.1142228\ttotal: 957ms\tremaining: 731ms\n",
      "17:\tlearn: 2067.1628864\ttotal: 1.01s\tremaining: 676ms\n",
      "18:\tlearn: 2061.7084687\ttotal: 1.06s\tremaining: 614ms\n",
      "19:\tlearn: 2050.6459777\ttotal: 1.11s\tremaining: 557ms\n",
      "20:\tlearn: 2043.3714086\ttotal: 1.16s\tremaining: 496ms\n",
      "21:\tlearn: 2034.1591354\ttotal: 1.22s\tremaining: 442ms\n",
      "22:\tlearn: 2026.9113652\ttotal: 1.26s\tremaining: 385ms\n",
      "23:\tlearn: 2022.8208158\ttotal: 1.32s\tremaining: 330ms\n",
      "24:\tlearn: 2017.8061946\ttotal: 1.37s\tremaining: 274ms\n",
      "25:\tlearn: 2014.6690477\ttotal: 1.42s\tremaining: 219ms\n",
      "26:\tlearn: 2004.7719303\ttotal: 1.47s\tremaining: 163ms\n",
      "27:\tlearn: 2000.0833969\ttotal: 1.52s\tremaining: 109ms\n",
      "28:\tlearn: 1996.2845478\ttotal: 1.57s\tremaining: 54.1ms\n",
      "29:\tlearn: 1992.1537236\ttotal: 1.63s\tremaining: 0us\n",
      "Learning rate set to 0.5\n",
      "0:\tlearn: 3470.5767371\ttotal: 67.9ms\tremaining: 1.97s\n",
      "1:\tlearn: 2977.7088613\ttotal: 114ms\tremaining: 1.59s\n",
      "2:\tlearn: 2692.1136896\ttotal: 183ms\tremaining: 1.64s\n",
      "3:\tlearn: 2525.8598331\ttotal: 233ms\tremaining: 1.51s\n",
      "4:\tlearn: 2397.9133942\ttotal: 286ms\tremaining: 1.43s\n",
      "5:\tlearn: 2311.8264519\ttotal: 331ms\tremaining: 1.32s\n",
      "6:\tlearn: 2267.3876722\ttotal: 380ms\tremaining: 1.25s\n",
      "7:\tlearn: 2220.5419979\ttotal: 425ms\tremaining: 1.17s\n",
      "8:\tlearn: 2188.7966231\ttotal: 478ms\tremaining: 1.11s\n",
      "9:\tlearn: 2151.8735459\ttotal: 532ms\tremaining: 1.06s\n",
      "10:\tlearn: 2137.7394454\ttotal: 580ms\tremaining: 1s\n",
      "11:\tlearn: 2125.6206269\ttotal: 630ms\tremaining: 944ms\n",
      "12:\tlearn: 2114.5272100\ttotal: 679ms\tremaining: 888ms\n",
      "13:\tlearn: 2091.9430650\ttotal: 726ms\tremaining: 829ms\n",
      "14:\tlearn: 2076.1026880\ttotal: 773ms\tremaining: 773ms\n",
      "15:\tlearn: 2062.7950588\ttotal: 819ms\tremaining: 717ms\n",
      "16:\tlearn: 2052.9980636\ttotal: 866ms\tremaining: 662ms\n",
      "17:\tlearn: 2045.9678952\ttotal: 911ms\tremaining: 607ms\n",
      "18:\tlearn: 2036.7538754\ttotal: 962ms\tremaining: 557ms\n",
      "19:\tlearn: 2029.9175764\ttotal: 1.01s\tremaining: 504ms\n",
      "20:\tlearn: 2024.3048566\ttotal: 1.06s\tremaining: 455ms\n",
      "21:\tlearn: 2018.4757589\ttotal: 1.11s\tremaining: 403ms\n",
      "22:\tlearn: 2012.8661425\ttotal: 1.16s\tremaining: 353ms\n",
      "23:\tlearn: 2008.0237632\ttotal: 1.21s\tremaining: 302ms\n",
      "24:\tlearn: 2004.7104760\ttotal: 1.26s\tremaining: 252ms\n",
      "25:\tlearn: 2002.5402567\ttotal: 1.31s\tremaining: 201ms\n",
      "26:\tlearn: 1992.8200908\ttotal: 1.36s\tremaining: 151ms\n",
      "27:\tlearn: 1989.1123938\ttotal: 1.41s\tremaining: 101ms\n",
      "28:\tlearn: 1982.0505584\ttotal: 1.46s\tremaining: 50.4ms\n",
      "29:\tlearn: 1976.0695011\ttotal: 1.51s\tremaining: 0us\n",
      "Learning rate set to 0.5\n",
      "0:\tlearn: 3456.7154436\ttotal: 57.6ms\tremaining: 1.67s\n",
      "1:\tlearn: 2987.6287552\ttotal: 111ms\tremaining: 1.56s\n",
      "2:\tlearn: 2713.1891454\ttotal: 169ms\tremaining: 1.52s\n",
      "3:\tlearn: 2548.7241365\ttotal: 235ms\tremaining: 1.53s\n",
      "4:\tlearn: 2431.2029276\ttotal: 288ms\tremaining: 1.44s\n",
      "5:\tlearn: 2359.2558057\ttotal: 335ms\tremaining: 1.34s\n",
      "6:\tlearn: 2293.9582142\ttotal: 384ms\tremaining: 1.26s\n",
      "7:\tlearn: 2242.1593963\ttotal: 430ms\tremaining: 1.18s\n",
      "8:\tlearn: 2209.9972116\ttotal: 476ms\tremaining: 1.11s\n",
      "9:\tlearn: 2184.6157330\ttotal: 525ms\tremaining: 1.05s\n",
      "10:\tlearn: 2149.8477504\ttotal: 574ms\tremaining: 991ms\n",
      "11:\tlearn: 2129.5894419\ttotal: 623ms\tremaining: 935ms\n",
      "12:\tlearn: 2102.2792275\ttotal: 670ms\tremaining: 876ms\n",
      "13:\tlearn: 2091.2183357\ttotal: 724ms\tremaining: 827ms\n",
      "14:\tlearn: 2080.9778372\ttotal: 769ms\tremaining: 769ms\n",
      "15:\tlearn: 2069.4214507\ttotal: 819ms\tremaining: 717ms\n",
      "16:\tlearn: 2054.7114134\ttotal: 863ms\tremaining: 660ms\n",
      "17:\tlearn: 2039.3159259\ttotal: 916ms\tremaining: 610ms\n",
      "18:\tlearn: 2031.0836577\ttotal: 960ms\tremaining: 556ms\n",
      "19:\tlearn: 2023.9427461\ttotal: 1.01s\tremaining: 507ms\n",
      "20:\tlearn: 2017.6683530\ttotal: 1.06s\tremaining: 454ms\n",
      "21:\tlearn: 2011.8087415\ttotal: 1.12s\tremaining: 406ms\n",
      "22:\tlearn: 2004.5413459\ttotal: 1.16s\tremaining: 353ms\n",
      "23:\tlearn: 1999.5187138\ttotal: 1.21s\tremaining: 304ms\n",
      "24:\tlearn: 1990.8032505\ttotal: 1.26s\tremaining: 253ms\n",
      "25:\tlearn: 1987.2190722\ttotal: 1.32s\tremaining: 203ms\n",
      "26:\tlearn: 1980.7566499\ttotal: 1.36s\tremaining: 151ms\n",
      "27:\tlearn: 1972.8353273\ttotal: 1.42s\tremaining: 102ms\n",
      "28:\tlearn: 1967.7375364\ttotal: 1.47s\tremaining: 50.8ms\n",
      "29:\tlearn: 1964.2000472\ttotal: 1.52s\tremaining: 0us\n",
      "Learning rate set to 0.5\n",
      "0:\tlearn: 3465.2132873\ttotal: 63.2ms\tremaining: 1.83s\n",
      "1:\tlearn: 2999.4592034\ttotal: 115ms\tremaining: 1.61s\n",
      "2:\tlearn: 2721.7354809\ttotal: 183ms\tremaining: 1.65s\n",
      "3:\tlearn: 2558.8608243\ttotal: 247ms\tremaining: 1.6s\n",
      "4:\tlearn: 2437.7256110\ttotal: 302ms\tremaining: 1.51s\n",
      "5:\tlearn: 2357.0854299\ttotal: 353ms\tremaining: 1.41s\n",
      "6:\tlearn: 2298.8214832\ttotal: 404ms\tremaining: 1.33s\n",
      "7:\tlearn: 2243.6589243\ttotal: 456ms\tremaining: 1.25s\n",
      "8:\tlearn: 2217.0688367\ttotal: 507ms\tremaining: 1.18s\n",
      "9:\tlearn: 2175.6908824\ttotal: 570ms\tremaining: 1.14s\n",
      "10:\tlearn: 2152.5026810\ttotal: 621ms\tremaining: 1.07s\n",
      "11:\tlearn: 2132.6121560\ttotal: 681ms\tremaining: 1.02s\n",
      "12:\tlearn: 2120.5416127\ttotal: 730ms\tremaining: 954ms\n",
      "13:\tlearn: 2108.8706437\ttotal: 784ms\tremaining: 896ms\n",
      "14:\tlearn: 2095.9741535\ttotal: 833ms\tremaining: 833ms\n",
      "15:\tlearn: 2079.4663693\ttotal: 883ms\tremaining: 773ms\n",
      "16:\tlearn: 2061.8347464\ttotal: 934ms\tremaining: 714ms\n",
      "17:\tlearn: 2053.4907234\ttotal: 983ms\tremaining: 656ms\n",
      "18:\tlearn: 2044.7363668\ttotal: 1.03s\tremaining: 598ms\n",
      "19:\tlearn: 2039.4123926\ttotal: 1.08s\tremaining: 542ms\n",
      "20:\tlearn: 2035.2532876\ttotal: 1.14s\tremaining: 487ms\n",
      "21:\tlearn: 2023.1354295\ttotal: 1.19s\tremaining: 432ms\n",
      "22:\tlearn: 2014.5889350\ttotal: 1.25s\tremaining: 380ms\n",
      "23:\tlearn: 2009.7446233\ttotal: 1.3s\tremaining: 324ms\n",
      "24:\tlearn: 2003.0128623\ttotal: 1.35s\tremaining: 271ms\n",
      "25:\tlearn: 1990.5447463\ttotal: 1.4s\tremaining: 215ms\n",
      "26:\tlearn: 1983.6387359\ttotal: 1.45s\tremaining: 162ms\n",
      "27:\tlearn: 1979.3868964\ttotal: 1.5s\tremaining: 107ms\n",
      "28:\tlearn: 1975.1097359\ttotal: 1.56s\tremaining: 53.7ms\n",
      "29:\tlearn: 1971.6062498\ttotal: 1.6s\tremaining: 0us\n",
      "Learning rate set to 0.5\n",
      "0:\tlearn: 3459.4257717\ttotal: 63.8ms\tremaining: 1.85s\n",
      "1:\tlearn: 2995.3389318\ttotal: 123ms\tremaining: 1.72s\n",
      "2:\tlearn: 2717.1240415\ttotal: 184ms\tremaining: 1.66s\n",
      "3:\tlearn: 2554.0989865\ttotal: 248ms\tremaining: 1.61s\n",
      "4:\tlearn: 2431.2580498\ttotal: 302ms\tremaining: 1.51s\n",
      "5:\tlearn: 2355.4508197\ttotal: 348ms\tremaining: 1.39s\n",
      "6:\tlearn: 2297.0097504\ttotal: 405ms\tremaining: 1.33s\n",
      "7:\tlearn: 2257.0440420\ttotal: 466ms\tremaining: 1.28s\n",
      "8:\tlearn: 2207.8949052\ttotal: 520ms\tremaining: 1.21s\n",
      "9:\tlearn: 2172.7486554\ttotal: 569ms\tremaining: 1.14s\n",
      "10:\tlearn: 2145.6657956\ttotal: 623ms\tremaining: 1.08s\n",
      "11:\tlearn: 2127.9087211\ttotal: 669ms\tremaining: 1s\n",
      "12:\tlearn: 2112.8122860\ttotal: 724ms\tremaining: 946ms\n",
      "13:\tlearn: 2097.3073659\ttotal: 777ms\tremaining: 888ms\n",
      "14:\tlearn: 2077.1227018\ttotal: 842ms\tremaining: 842ms\n",
      "15:\tlearn: 2065.9688490\ttotal: 897ms\tremaining: 785ms\n",
      "16:\tlearn: 2052.9331608\ttotal: 944ms\tremaining: 722ms\n",
      "17:\tlearn: 2044.2930104\ttotal: 999ms\tremaining: 666ms\n",
      "18:\tlearn: 2033.4168306\ttotal: 1.04s\tremaining: 605ms\n",
      "19:\tlearn: 2026.5953433\ttotal: 1.1s\tremaining: 551ms\n",
      "20:\tlearn: 2019.7482619\ttotal: 1.15s\tremaining: 493ms\n",
      "21:\tlearn: 2011.9828307\ttotal: 1.21s\tremaining: 440ms\n",
      "22:\tlearn: 2004.9912927\ttotal: 1.26s\tremaining: 384ms\n",
      "23:\tlearn: 2001.3747787\ttotal: 1.32s\tremaining: 329ms\n",
      "24:\tlearn: 1995.2327819\ttotal: 1.36s\tremaining: 273ms\n",
      "25:\tlearn: 1990.0754746\ttotal: 1.42s\tremaining: 218ms\n",
      "26:\tlearn: 1986.7666744\ttotal: 1.46s\tremaining: 162ms\n",
      "27:\tlearn: 1982.4555264\ttotal: 1.52s\tremaining: 108ms\n",
      "28:\tlearn: 1976.4206480\ttotal: 1.56s\tremaining: 53.9ms\n",
      "29:\tlearn: 1970.6553621\ttotal: 1.61s\tremaining: 0us\n",
      "Learning rate set to 0.5\n",
      "0:\tlearn: 3476.5963072\ttotal: 72.9ms\tremaining: 2.84s\n",
      "1:\tlearn: 2986.7762891\ttotal: 129ms\tremaining: 2.46s\n",
      "2:\tlearn: 2724.4036659\ttotal: 185ms\tremaining: 2.28s\n",
      "3:\tlearn: 2535.7182752\ttotal: 242ms\tremaining: 2.18s\n",
      "4:\tlearn: 2429.4969100\ttotal: 296ms\tremaining: 2.07s\n",
      "5:\tlearn: 2348.7223789\ttotal: 344ms\tremaining: 1.95s\n",
      "6:\tlearn: 2302.2038575\ttotal: 393ms\tremaining: 1.85s\n",
      "7:\tlearn: 2251.4647524\ttotal: 444ms\tremaining: 1.77s\n",
      "8:\tlearn: 2225.2232842\ttotal: 492ms\tremaining: 1.69s\n",
      "9:\tlearn: 2186.5729148\ttotal: 545ms\tremaining: 1.64s\n",
      "10:\tlearn: 2156.6910533\ttotal: 594ms\tremaining: 1.56s\n",
      "11:\tlearn: 2136.3387126\ttotal: 641ms\tremaining: 1.5s\n",
      "12:\tlearn: 2116.6169034\ttotal: 692ms\tremaining: 1.44s\n",
      "13:\tlearn: 2105.7263823\ttotal: 744ms\tremaining: 1.38s\n",
      "14:\tlearn: 2093.3949706\ttotal: 792ms\tremaining: 1.32s\n",
      "15:\tlearn: 2081.9461757\ttotal: 840ms\tremaining: 1.26s\n",
      "16:\tlearn: 2074.1142228\ttotal: 894ms\tremaining: 1.21s\n",
      "17:\tlearn: 2067.1628864\ttotal: 945ms\tremaining: 1.15s\n",
      "18:\tlearn: 2061.7084687\ttotal: 993ms\tremaining: 1.1s\n",
      "19:\tlearn: 2050.6459777\ttotal: 1.04s\tremaining: 1.04s\n",
      "20:\tlearn: 2043.3714086\ttotal: 1.09s\tremaining: 987ms\n",
      "21:\tlearn: 2034.1591354\ttotal: 1.15s\tremaining: 942ms\n",
      "22:\tlearn: 2026.9113652\ttotal: 1.23s\tremaining: 906ms\n",
      "23:\tlearn: 2022.8208158\ttotal: 1.29s\tremaining: 858ms\n",
      "24:\tlearn: 2017.8061946\ttotal: 1.33s\tremaining: 801ms\n",
      "25:\tlearn: 2014.6690477\ttotal: 1.38s\tremaining: 745ms\n",
      "26:\tlearn: 2004.7719303\ttotal: 1.43s\tremaining: 689ms\n",
      "27:\tlearn: 2000.0833969\ttotal: 1.48s\tremaining: 633ms\n",
      "28:\tlearn: 1996.2845478\ttotal: 1.52s\tremaining: 579ms\n",
      "29:\tlearn: 1992.1537236\ttotal: 1.57s\tremaining: 524ms\n",
      "30:\tlearn: 1988.0369079\ttotal: 1.62s\tremaining: 471ms\n",
      "31:\tlearn: 1978.7828851\ttotal: 1.67s\tremaining: 417ms\n",
      "32:\tlearn: 1975.3335204\ttotal: 1.72s\tremaining: 365ms\n",
      "33:\tlearn: 1972.0292992\ttotal: 1.77s\tremaining: 312ms\n",
      "34:\tlearn: 1968.9121906\ttotal: 1.82s\tremaining: 260ms\n",
      "35:\tlearn: 1964.2135593\ttotal: 1.87s\tremaining: 208ms\n",
      "36:\tlearn: 1961.2243024\ttotal: 1.92s\tremaining: 156ms\n",
      "37:\tlearn: 1958.0045039\ttotal: 1.97s\tremaining: 104ms\n",
      "38:\tlearn: 1956.3657427\ttotal: 2.02s\tremaining: 51.8ms\n",
      "39:\tlearn: 1954.8403272\ttotal: 2.07s\tremaining: 0us\n",
      "Learning rate set to 0.5\n",
      "0:\tlearn: 3470.5767371\ttotal: 79.1ms\tremaining: 3.09s\n",
      "1:\tlearn: 2977.7088613\ttotal: 123ms\tremaining: 2.34s\n",
      "2:\tlearn: 2692.1136896\ttotal: 192ms\tremaining: 2.36s\n",
      "3:\tlearn: 2525.8598331\ttotal: 240ms\tremaining: 2.16s\n",
      "4:\tlearn: 2397.9133942\ttotal: 298ms\tremaining: 2.09s\n",
      "5:\tlearn: 2311.8264519\ttotal: 345ms\tremaining: 1.96s\n",
      "6:\tlearn: 2267.3876722\ttotal: 398ms\tremaining: 1.87s\n",
      "7:\tlearn: 2220.5419979\ttotal: 441ms\tremaining: 1.76s\n",
      "8:\tlearn: 2188.7966231\ttotal: 497ms\tremaining: 1.71s\n",
      "9:\tlearn: 2151.8735459\ttotal: 549ms\tremaining: 1.65s\n",
      "10:\tlearn: 2137.7394454\ttotal: 601ms\tremaining: 1.58s\n",
      "11:\tlearn: 2125.6206269\ttotal: 648ms\tremaining: 1.51s\n",
      "12:\tlearn: 2114.5272100\ttotal: 702ms\tremaining: 1.46s\n",
      "13:\tlearn: 2091.9430650\ttotal: 774ms\tremaining: 1.44s\n",
      "14:\tlearn: 2076.1026880\ttotal: 819ms\tremaining: 1.36s\n",
      "15:\tlearn: 2062.7950588\ttotal: 874ms\tremaining: 1.31s\n",
      "16:\tlearn: 2052.9980636\ttotal: 919ms\tremaining: 1.24s\n",
      "17:\tlearn: 2045.9678952\ttotal: 973ms\tremaining: 1.19s\n",
      "18:\tlearn: 2036.7538754\ttotal: 1.02s\tremaining: 1.13s\n",
      "19:\tlearn: 2029.9175764\ttotal: 1.08s\tremaining: 1.08s\n",
      "20:\tlearn: 2024.3048566\ttotal: 1.13s\tremaining: 1.02s\n",
      "21:\tlearn: 2018.4757589\ttotal: 1.18s\tremaining: 966ms\n",
      "22:\tlearn: 2012.8661425\ttotal: 1.23s\tremaining: 908ms\n",
      "23:\tlearn: 2008.0237632\ttotal: 1.28s\tremaining: 856ms\n",
      "24:\tlearn: 2004.7104760\ttotal: 1.33s\tremaining: 798ms\n",
      "25:\tlearn: 2002.5402567\ttotal: 1.38s\tremaining: 745ms\n",
      "26:\tlearn: 1992.8200908\ttotal: 1.43s\tremaining: 688ms\n",
      "27:\tlearn: 1989.1123938\ttotal: 1.48s\tremaining: 635ms\n",
      "28:\tlearn: 1982.0505584\ttotal: 1.53s\tremaining: 580ms\n",
      "29:\tlearn: 1976.0695011\ttotal: 1.58s\tremaining: 527ms\n",
      "30:\tlearn: 1971.8962862\ttotal: 1.63s\tremaining: 473ms\n",
      "31:\tlearn: 1964.5729255\ttotal: 1.69s\tremaining: 421ms\n",
      "32:\tlearn: 1961.4663353\ttotal: 1.73s\tremaining: 367ms\n",
      "33:\tlearn: 1958.7300360\ttotal: 1.78s\tremaining: 314ms\n",
      "34:\tlearn: 1956.5293805\ttotal: 1.83s\tremaining: 261ms\n",
      "35:\tlearn: 1952.3015795\ttotal: 1.88s\tremaining: 209ms\n",
      "36:\tlearn: 1949.7160647\ttotal: 1.93s\tremaining: 156ms\n",
      "37:\tlearn: 1935.4138941\ttotal: 1.98s\tremaining: 104ms\n",
      "38:\tlearn: 1931.9375945\ttotal: 2.05s\tremaining: 52.5ms\n",
      "39:\tlearn: 1930.2365850\ttotal: 2.1s\tremaining: 0us\n",
      "Learning rate set to 0.5\n",
      "0:\tlearn: 3456.7154436\ttotal: 60.4ms\tremaining: 2.35s\n",
      "1:\tlearn: 2987.6287552\ttotal: 110ms\tremaining: 2.09s\n",
      "2:\tlearn: 2713.1891454\ttotal: 175ms\tremaining: 2.16s\n",
      "3:\tlearn: 2548.7241365\ttotal: 235ms\tremaining: 2.12s\n",
      "4:\tlearn: 2431.2029276\ttotal: 294ms\tremaining: 2.06s\n",
      "5:\tlearn: 2359.2558057\ttotal: 341ms\tremaining: 1.93s\n",
      "6:\tlearn: 2293.9582142\ttotal: 396ms\tremaining: 1.86s\n",
      "7:\tlearn: 2242.1593963\ttotal: 443ms\tremaining: 1.77s\n",
      "8:\tlearn: 2209.9972116\ttotal: 500ms\tremaining: 1.72s\n",
      "9:\tlearn: 2184.6157330\ttotal: 547ms\tremaining: 1.64s\n",
      "10:\tlearn: 2149.8477504\ttotal: 603ms\tremaining: 1.59s\n",
      "11:\tlearn: 2129.5894419\ttotal: 652ms\tremaining: 1.52s\n",
      "12:\tlearn: 2102.2792275\ttotal: 700ms\tremaining: 1.45s\n",
      "13:\tlearn: 2091.2183357\ttotal: 749ms\tremaining: 1.39s\n",
      "14:\tlearn: 2080.9778372\ttotal: 800ms\tremaining: 1.33s\n",
      "15:\tlearn: 2069.4214507\ttotal: 848ms\tremaining: 1.27s\n",
      "16:\tlearn: 2054.7114134\ttotal: 899ms\tremaining: 1.22s\n",
      "17:\tlearn: 2039.3159259\ttotal: 954ms\tremaining: 1.17s\n",
      "18:\tlearn: 2031.0836577\ttotal: 1s\tremaining: 1.1s\n",
      "19:\tlearn: 2023.9427461\ttotal: 1.05s\tremaining: 1.05s\n",
      "20:\tlearn: 2017.6683530\ttotal: 1.09s\tremaining: 989ms\n",
      "21:\tlearn: 2011.8087415\ttotal: 1.14s\tremaining: 934ms\n",
      "22:\tlearn: 2004.5413459\ttotal: 1.19s\tremaining: 878ms\n",
      "23:\tlearn: 1999.5187138\ttotal: 1.23s\tremaining: 823ms\n",
      "24:\tlearn: 1990.8032505\ttotal: 1.28s\tremaining: 772ms\n",
      "25:\tlearn: 1987.2190722\ttotal: 1.34s\tremaining: 720ms\n",
      "26:\tlearn: 1980.7566499\ttotal: 1.39s\tremaining: 667ms\n",
      "27:\tlearn: 1972.8353273\ttotal: 1.43s\tremaining: 615ms\n",
      "28:\tlearn: 1967.7375364\ttotal: 1.49s\tremaining: 564ms\n",
      "29:\tlearn: 1964.2000472\ttotal: 1.54s\tremaining: 512ms\n",
      "30:\tlearn: 1958.5685365\ttotal: 1.58s\tremaining: 460ms\n",
      "31:\tlearn: 1953.3230692\ttotal: 1.63s\tremaining: 408ms\n",
      "32:\tlearn: 1948.0512619\ttotal: 1.68s\tremaining: 356ms\n",
      "33:\tlearn: 1942.7867143\ttotal: 1.72s\tremaining: 304ms\n",
      "34:\tlearn: 1940.0937018\ttotal: 1.77s\tremaining: 253ms\n",
      "35:\tlearn: 1937.3313664\ttotal: 1.82s\tremaining: 202ms\n",
      "36:\tlearn: 1934.6971654\ttotal: 1.87s\tremaining: 152ms\n",
      "37:\tlearn: 1931.7200671\ttotal: 1.91s\tremaining: 101ms\n",
      "38:\tlearn: 1928.8735321\ttotal: 1.97s\tremaining: 50.4ms\n",
      "39:\tlearn: 1917.9892848\ttotal: 2.01s\tremaining: 0us\n",
      "Learning rate set to 0.5\n",
      "0:\tlearn: 3465.2132873\ttotal: 91.4ms\tremaining: 3.56s\n",
      "1:\tlearn: 2999.4592034\ttotal: 161ms\tremaining: 3.05s\n",
      "2:\tlearn: 2721.7354809\ttotal: 224ms\tremaining: 2.77s\n",
      "3:\tlearn: 2558.8608243\ttotal: 287ms\tremaining: 2.58s\n",
      "4:\tlearn: 2437.7256110\ttotal: 356ms\tremaining: 2.49s\n",
      "5:\tlearn: 2357.0854299\ttotal: 410ms\tremaining: 2.32s\n",
      "6:\tlearn: 2298.8214832\ttotal: 459ms\tremaining: 2.16s\n",
      "7:\tlearn: 2243.6589243\ttotal: 516ms\tremaining: 2.06s\n",
      "8:\tlearn: 2217.0688367\ttotal: 580ms\tremaining: 2s\n",
      "9:\tlearn: 2175.6908824\ttotal: 634ms\tremaining: 1.9s\n",
      "10:\tlearn: 2152.5026810\ttotal: 684ms\tremaining: 1.8s\n",
      "11:\tlearn: 2132.6121560\ttotal: 741ms\tremaining: 1.73s\n",
      "12:\tlearn: 2120.5416127\ttotal: 798ms\tremaining: 1.66s\n",
      "13:\tlearn: 2108.8706437\ttotal: 846ms\tremaining: 1.57s\n",
      "14:\tlearn: 2095.9741535\ttotal: 922ms\tremaining: 1.53s\n",
      "15:\tlearn: 2079.4663693\ttotal: 969ms\tremaining: 1.45s\n",
      "16:\tlearn: 2061.8347464\ttotal: 1.02s\tremaining: 1.38s\n",
      "17:\tlearn: 2053.4907234\ttotal: 1.06s\tremaining: 1.3s\n",
      "18:\tlearn: 2044.7363668\ttotal: 1.11s\tremaining: 1.23s\n",
      "19:\tlearn: 2039.4123926\ttotal: 1.16s\tremaining: 1.16s\n",
      "20:\tlearn: 2035.2532876\ttotal: 1.21s\tremaining: 1.1s\n",
      "21:\tlearn: 2023.1354295\ttotal: 1.26s\tremaining: 1.03s\n",
      "22:\tlearn: 2014.5889350\ttotal: 1.31s\tremaining: 970ms\n",
      "23:\tlearn: 2009.7446233\ttotal: 1.36s\tremaining: 910ms\n",
      "24:\tlearn: 2003.0128623\ttotal: 1.43s\tremaining: 855ms\n",
      "25:\tlearn: 1990.5447463\ttotal: 1.48s\tremaining: 795ms\n",
      "26:\tlearn: 1983.6387359\ttotal: 1.52s\tremaining: 734ms\n",
      "27:\tlearn: 1979.3868964\ttotal: 1.58s\tremaining: 677ms\n",
      "28:\tlearn: 1975.1097359\ttotal: 1.63s\tremaining: 617ms\n",
      "29:\tlearn: 1971.6062498\ttotal: 1.68s\tremaining: 559ms\n",
      "30:\tlearn: 1965.1791539\ttotal: 1.72s\tremaining: 500ms\n",
      "31:\tlearn: 1962.8796455\ttotal: 1.78s\tremaining: 445ms\n",
      "32:\tlearn: 1960.1096068\ttotal: 1.83s\tremaining: 388ms\n",
      "33:\tlearn: 1955.1540889\ttotal: 1.89s\tremaining: 333ms\n",
      "34:\tlearn: 1950.2726160\ttotal: 1.93s\tremaining: 276ms\n",
      "35:\tlearn: 1946.1972332\ttotal: 1.99s\tremaining: 221ms\n",
      "36:\tlearn: 1940.9976824\ttotal: 2.03s\tremaining: 165ms\n",
      "37:\tlearn: 1935.8301632\ttotal: 2.09s\tremaining: 110ms\n",
      "38:\tlearn: 1933.3119626\ttotal: 2.14s\tremaining: 54.9ms\n",
      "39:\tlearn: 1930.5245538\ttotal: 2.19s\tremaining: 0us\n",
      "Learning rate set to 0.5\n",
      "0:\tlearn: 3459.4257717\ttotal: 70.1ms\tremaining: 2.73s\n",
      "1:\tlearn: 2995.3389318\ttotal: 117ms\tremaining: 2.23s\n",
      "2:\tlearn: 2717.1240415\ttotal: 181ms\tremaining: 2.23s\n",
      "3:\tlearn: 2554.0989865\ttotal: 243ms\tremaining: 2.19s\n",
      "4:\tlearn: 2431.2580498\ttotal: 295ms\tremaining: 2.07s\n",
      "5:\tlearn: 2355.4508197\ttotal: 350ms\tremaining: 1.98s\n",
      "6:\tlearn: 2297.0097504\ttotal: 399ms\tremaining: 1.88s\n",
      "7:\tlearn: 2257.0440420\ttotal: 454ms\tremaining: 1.81s\n",
      "8:\tlearn: 2207.8949052\ttotal: 509ms\tremaining: 1.75s\n",
      "9:\tlearn: 2172.7486554\ttotal: 566ms\tremaining: 1.7s\n",
      "10:\tlearn: 2145.6657956\ttotal: 614ms\tremaining: 1.62s\n",
      "11:\tlearn: 2127.9087211\ttotal: 667ms\tremaining: 1.56s\n",
      "12:\tlearn: 2112.8122860\ttotal: 714ms\tremaining: 1.48s\n",
      "13:\tlearn: 2097.3073659\ttotal: 766ms\tremaining: 1.42s\n",
      "14:\tlearn: 2077.1227018\ttotal: 814ms\tremaining: 1.36s\n",
      "15:\tlearn: 2065.9688490\ttotal: 870ms\tremaining: 1.3s\n",
      "16:\tlearn: 2052.9331608\ttotal: 915ms\tremaining: 1.24s\n",
      "17:\tlearn: 2044.2930104\ttotal: 971ms\tremaining: 1.19s\n",
      "18:\tlearn: 2033.4168306\ttotal: 1.02s\tremaining: 1.12s\n",
      "19:\tlearn: 2026.5953433\ttotal: 1.07s\tremaining: 1.07s\n",
      "20:\tlearn: 2019.7482619\ttotal: 1.11s\tremaining: 1.01s\n",
      "21:\tlearn: 2011.9828307\ttotal: 1.16s\tremaining: 952ms\n",
      "22:\tlearn: 2004.9912927\ttotal: 1.21s\tremaining: 895ms\n",
      "23:\tlearn: 2001.3747787\ttotal: 1.27s\tremaining: 845ms\n",
      "24:\tlearn: 1995.2327819\ttotal: 1.31s\tremaining: 787ms\n",
      "25:\tlearn: 1990.0754746\ttotal: 1.36s\tremaining: 735ms\n",
      "26:\tlearn: 1986.7666744\ttotal: 1.41s\tremaining: 679ms\n",
      "27:\tlearn: 1982.4555264\ttotal: 1.46s\tremaining: 628ms\n",
      "28:\tlearn: 1976.4206480\ttotal: 1.51s\tremaining: 573ms\n",
      "29:\tlearn: 1970.6553621\ttotal: 1.57s\tremaining: 523ms\n",
      "30:\tlearn: 1967.5541706\ttotal: 1.63s\tremaining: 473ms\n",
      "31:\tlearn: 1963.1185649\ttotal: 1.68s\tremaining: 419ms\n",
      "32:\tlearn: 1960.1008860\ttotal: 1.73s\tremaining: 366ms\n",
      "33:\tlearn: 1953.6089959\ttotal: 1.77s\tremaining: 313ms\n",
      "34:\tlearn: 1950.9041225\ttotal: 1.82s\tremaining: 261ms\n",
      "35:\tlearn: 1939.3932385\ttotal: 1.87s\tremaining: 208ms\n",
      "36:\tlearn: 1936.6682032\ttotal: 1.92s\tremaining: 156ms\n",
      "37:\tlearn: 1934.4633081\ttotal: 1.97s\tremaining: 104ms\n",
      "38:\tlearn: 1932.2271864\ttotal: 2.02s\tremaining: 51.7ms\n",
      "39:\tlearn: 1927.7127412\ttotal: 2.07s\tremaining: 0us\n",
      "Learning rate set to 0.5\n",
      "0:\tlearn: 3476.5963072\ttotal: 71.3ms\tremaining: 3.49s\n",
      "1:\tlearn: 2986.7762891\ttotal: 124ms\tremaining: 2.97s\n",
      "2:\tlearn: 2724.4036659\ttotal: 183ms\tremaining: 2.87s\n",
      "3:\tlearn: 2535.7182752\ttotal: 238ms\tremaining: 2.74s\n",
      "4:\tlearn: 2429.4969100\ttotal: 295ms\tremaining: 2.65s\n",
      "5:\tlearn: 2348.7223789\ttotal: 340ms\tremaining: 2.49s\n",
      "6:\tlearn: 2302.2038575\ttotal: 395ms\tremaining: 2.42s\n",
      "7:\tlearn: 2251.4647524\ttotal: 456ms\tremaining: 2.4s\n",
      "8:\tlearn: 2225.2232842\ttotal: 513ms\tremaining: 2.34s\n",
      "9:\tlearn: 2186.5729148\ttotal: 566ms\tremaining: 2.27s\n",
      "10:\tlearn: 2156.6910533\ttotal: 616ms\tremaining: 2.18s\n",
      "11:\tlearn: 2136.3387126\ttotal: 660ms\tremaining: 2.09s\n",
      "12:\tlearn: 2116.6169034\ttotal: 714ms\tremaining: 2.03s\n",
      "13:\tlearn: 2105.7263823\ttotal: 760ms\tremaining: 1.95s\n",
      "14:\tlearn: 2093.3949706\ttotal: 810ms\tremaining: 1.89s\n",
      "15:\tlearn: 2081.9461757\ttotal: 856ms\tremaining: 1.82s\n",
      "16:\tlearn: 2074.1142228\ttotal: 911ms\tremaining: 1.77s\n",
      "17:\tlearn: 2067.1628864\ttotal: 956ms\tremaining: 1.7s\n",
      "18:\tlearn: 2061.7084687\ttotal: 1.01s\tremaining: 1.65s\n",
      "19:\tlearn: 2050.6459777\ttotal: 1.06s\tremaining: 1.58s\n",
      "20:\tlearn: 2043.3714086\ttotal: 1.1s\tremaining: 1.52s\n",
      "21:\tlearn: 2034.1591354\ttotal: 1.15s\tremaining: 1.47s\n",
      "22:\tlearn: 2026.9113652\ttotal: 1.2s\tremaining: 1.41s\n",
      "23:\tlearn: 2022.8208158\ttotal: 1.25s\tremaining: 1.35s\n",
      "24:\tlearn: 2017.8061946\ttotal: 1.3s\tremaining: 1.3s\n",
      "25:\tlearn: 2014.6690477\ttotal: 1.34s\tremaining: 1.24s\n",
      "26:\tlearn: 2004.7719303\ttotal: 1.41s\tremaining: 1.2s\n",
      "27:\tlearn: 2000.0833969\ttotal: 1.45s\tremaining: 1.14s\n",
      "28:\tlearn: 1996.2845478\ttotal: 1.5s\tremaining: 1.09s\n",
      "29:\tlearn: 1992.1537236\ttotal: 1.55s\tremaining: 1.03s\n",
      "30:\tlearn: 1988.0369079\ttotal: 1.6s\tremaining: 983ms\n",
      "31:\tlearn: 1978.7828851\ttotal: 1.66s\tremaining: 933ms\n",
      "32:\tlearn: 1975.3335204\ttotal: 1.71s\tremaining: 880ms\n",
      "33:\tlearn: 1972.0292992\ttotal: 1.78s\tremaining: 838ms\n",
      "34:\tlearn: 1968.9121906\ttotal: 1.86s\tremaining: 797ms\n",
      "35:\tlearn: 1964.2135593\ttotal: 1.91s\tremaining: 741ms\n",
      "36:\tlearn: 1961.2243024\ttotal: 1.96s\tremaining: 688ms\n",
      "37:\tlearn: 1958.0045039\ttotal: 2s\tremaining: 633ms\n",
      "38:\tlearn: 1956.3657427\ttotal: 2.06s\tremaining: 581ms\n",
      "39:\tlearn: 1954.8403272\ttotal: 2.1s\tremaining: 526ms\n",
      "40:\tlearn: 1949.3080185\ttotal: 2.17s\tremaining: 476ms\n",
      "41:\tlearn: 1946.1752089\ttotal: 2.21s\tremaining: 422ms\n",
      "42:\tlearn: 1943.6976448\ttotal: 2.27s\tremaining: 370ms\n",
      "43:\tlearn: 1938.6793428\ttotal: 2.32s\tremaining: 316ms\n",
      "44:\tlearn: 1929.0635442\ttotal: 2.38s\tremaining: 264ms\n",
      "45:\tlearn: 1926.4609233\ttotal: 2.42s\tremaining: 211ms\n",
      "46:\tlearn: 1923.9604487\ttotal: 2.48s\tremaining: 158ms\n",
      "47:\tlearn: 1921.9718543\ttotal: 2.52s\tremaining: 105ms\n",
      "48:\tlearn: 1918.6093204\ttotal: 2.58s\tremaining: 52.6ms\n",
      "49:\tlearn: 1917.7466039\ttotal: 2.62s\tremaining: 0us\n",
      "Learning rate set to 0.5\n",
      "0:\tlearn: 3470.5767371\ttotal: 80.2ms\tremaining: 3.93s\n",
      "1:\tlearn: 2977.7088613\ttotal: 126ms\tremaining: 3.03s\n",
      "2:\tlearn: 2692.1136896\ttotal: 198ms\tremaining: 3.1s\n",
      "3:\tlearn: 2525.8598331\ttotal: 246ms\tremaining: 2.83s\n",
      "4:\tlearn: 2397.9133942\ttotal: 302ms\tremaining: 2.72s\n",
      "5:\tlearn: 2311.8264519\ttotal: 348ms\tremaining: 2.55s\n",
      "6:\tlearn: 2267.3876722\ttotal: 399ms\tremaining: 2.45s\n",
      "7:\tlearn: 2220.5419979\ttotal: 443ms\tremaining: 2.33s\n",
      "8:\tlearn: 2188.7966231\ttotal: 507ms\tremaining: 2.31s\n",
      "9:\tlearn: 2151.8735459\ttotal: 563ms\tremaining: 2.25s\n",
      "10:\tlearn: 2137.7394454\ttotal: 611ms\tremaining: 2.17s\n",
      "11:\tlearn: 2125.6206269\ttotal: 663ms\tremaining: 2.1s\n",
      "12:\tlearn: 2114.5272100\ttotal: 726ms\tremaining: 2.06s\n",
      "13:\tlearn: 2091.9430650\ttotal: 797ms\tremaining: 2.05s\n",
      "14:\tlearn: 2076.1026880\ttotal: 843ms\tremaining: 1.97s\n",
      "15:\tlearn: 2062.7950588\ttotal: 893ms\tremaining: 1.9s\n",
      "16:\tlearn: 2052.9980636\ttotal: 948ms\tremaining: 1.84s\n",
      "17:\tlearn: 2045.9678952\ttotal: 996ms\tremaining: 1.77s\n",
      "18:\tlearn: 2036.7538754\ttotal: 1.04s\tremaining: 1.7s\n",
      "19:\tlearn: 2029.9175764\ttotal: 1.09s\tremaining: 1.64s\n",
      "20:\tlearn: 2024.3048566\ttotal: 1.14s\tremaining: 1.57s\n",
      "21:\tlearn: 2018.4757589\ttotal: 1.19s\tremaining: 1.51s\n",
      "22:\tlearn: 2012.8661425\ttotal: 1.23s\tremaining: 1.45s\n",
      "23:\tlearn: 2008.0237632\ttotal: 1.28s\tremaining: 1.39s\n",
      "24:\tlearn: 2004.7104760\ttotal: 1.33s\tremaining: 1.33s\n",
      "25:\tlearn: 2002.5402567\ttotal: 1.38s\tremaining: 1.27s\n",
      "26:\tlearn: 1992.8200908\ttotal: 1.43s\tremaining: 1.21s\n",
      "27:\tlearn: 1989.1123938\ttotal: 1.49s\tremaining: 1.17s\n",
      "28:\tlearn: 1982.0505584\ttotal: 1.53s\tremaining: 1.11s\n",
      "29:\tlearn: 1976.0695011\ttotal: 1.58s\tremaining: 1.06s\n",
      "30:\tlearn: 1971.8962862\ttotal: 1.63s\tremaining: 1s\n",
      "31:\tlearn: 1964.5729255\ttotal: 1.68s\tremaining: 947ms\n",
      "32:\tlearn: 1961.4663353\ttotal: 1.73s\tremaining: 890ms\n",
      "33:\tlearn: 1958.7300360\ttotal: 1.78s\tremaining: 836ms\n",
      "34:\tlearn: 1956.5293805\ttotal: 1.82s\tremaining: 782ms\n",
      "35:\tlearn: 1952.3015795\ttotal: 1.88s\tremaining: 731ms\n",
      "36:\tlearn: 1949.7160647\ttotal: 1.93s\tremaining: 678ms\n",
      "37:\tlearn: 1935.4138941\ttotal: 1.98s\tremaining: 625ms\n",
      "38:\tlearn: 1931.9375945\ttotal: 2.03s\tremaining: 572ms\n",
      "39:\tlearn: 1930.2365850\ttotal: 2.08s\tremaining: 520ms\n",
      "40:\tlearn: 1926.1177351\ttotal: 2.14s\tremaining: 471ms\n",
      "41:\tlearn: 1923.1803646\ttotal: 2.19s\tremaining: 417ms\n",
      "42:\tlearn: 1922.2896967\ttotal: 2.24s\tremaining: 365ms\n",
      "43:\tlearn: 1919.2903413\ttotal: 2.29s\tremaining: 312ms\n",
      "44:\tlearn: 1915.9550123\ttotal: 2.34s\tremaining: 260ms\n",
      "45:\tlearn: 1912.8962260\ttotal: 2.39s\tremaining: 208ms\n",
      "46:\tlearn: 1909.5596529\ttotal: 2.46s\tremaining: 157ms\n",
      "47:\tlearn: 1907.0693541\ttotal: 2.51s\tremaining: 104ms\n",
      "48:\tlearn: 1905.2039474\ttotal: 2.56s\tremaining: 52.3ms\n",
      "49:\tlearn: 1902.1307874\ttotal: 2.61s\tremaining: 0us\n",
      "Learning rate set to 0.5\n",
      "0:\tlearn: 3456.7154436\ttotal: 91.8ms\tremaining: 4.5s\n",
      "1:\tlearn: 2987.6287552\ttotal: 158ms\tremaining: 3.8s\n",
      "2:\tlearn: 2713.1891454\ttotal: 217ms\tremaining: 3.4s\n",
      "3:\tlearn: 2548.7241365\ttotal: 283ms\tremaining: 3.26s\n",
      "4:\tlearn: 2431.2029276\ttotal: 339ms\tremaining: 3.05s\n",
      "5:\tlearn: 2359.2558057\ttotal: 384ms\tremaining: 2.81s\n",
      "6:\tlearn: 2293.9582142\ttotal: 438ms\tremaining: 2.69s\n",
      "7:\tlearn: 2242.1593963\ttotal: 483ms\tremaining: 2.53s\n",
      "8:\tlearn: 2209.9972116\ttotal: 536ms\tremaining: 2.44s\n",
      "9:\tlearn: 2184.6157330\ttotal: 581ms\tremaining: 2.32s\n",
      "10:\tlearn: 2149.8477504\ttotal: 647ms\tremaining: 2.29s\n",
      "11:\tlearn: 2129.5894419\ttotal: 693ms\tremaining: 2.19s\n",
      "12:\tlearn: 2102.2792275\ttotal: 750ms\tremaining: 2.13s\n",
      "13:\tlearn: 2091.2183357\ttotal: 796ms\tremaining: 2.05s\n",
      "14:\tlearn: 2080.9778372\ttotal: 852ms\tremaining: 1.99s\n",
      "15:\tlearn: 2069.4214507\ttotal: 896ms\tremaining: 1.9s\n",
      "16:\tlearn: 2054.7114134\ttotal: 950ms\tremaining: 1.84s\n",
      "17:\tlearn: 2039.3159259\ttotal: 995ms\tremaining: 1.77s\n",
      "18:\tlearn: 2031.0836577\ttotal: 1.05s\tremaining: 1.71s\n",
      "19:\tlearn: 2023.9427461\ttotal: 1.09s\tremaining: 1.64s\n",
      "20:\tlearn: 2017.6683530\ttotal: 1.15s\tremaining: 1.59s\n",
      "21:\tlearn: 2011.8087415\ttotal: 1.2s\tremaining: 1.52s\n",
      "22:\tlearn: 2004.5413459\ttotal: 1.25s\tremaining: 1.47s\n",
      "23:\tlearn: 1999.5187138\ttotal: 1.29s\tremaining: 1.4s\n",
      "24:\tlearn: 1990.8032505\ttotal: 1.35s\tremaining: 1.35s\n",
      "25:\tlearn: 1987.2190722\ttotal: 1.4s\tremaining: 1.29s\n",
      "26:\tlearn: 1980.7566499\ttotal: 1.45s\tremaining: 1.23s\n",
      "27:\tlearn: 1972.8353273\ttotal: 1.5s\tremaining: 1.18s\n",
      "28:\tlearn: 1967.7375364\ttotal: 1.56s\tremaining: 1.13s\n",
      "29:\tlearn: 1964.2000472\ttotal: 1.61s\tremaining: 1.07s\n",
      "30:\tlearn: 1958.5685365\ttotal: 1.66s\tremaining: 1.02s\n",
      "31:\tlearn: 1953.3230692\ttotal: 1.71s\tremaining: 959ms\n",
      "32:\tlearn: 1948.0512619\ttotal: 1.75s\tremaining: 904ms\n",
      "33:\tlearn: 1942.7867143\ttotal: 1.8s\tremaining: 849ms\n",
      "34:\tlearn: 1940.0937018\ttotal: 1.85s\tremaining: 794ms\n",
      "35:\tlearn: 1937.3313664\ttotal: 1.91s\tremaining: 742ms\n",
      "36:\tlearn: 1934.6971654\ttotal: 1.96s\tremaining: 688ms\n",
      "37:\tlearn: 1931.7200671\ttotal: 2.01s\tremaining: 634ms\n",
      "38:\tlearn: 1928.8735321\ttotal: 2.06s\tremaining: 580ms\n",
      "39:\tlearn: 1917.9892848\ttotal: 2.1s\tremaining: 526ms\n",
      "40:\tlearn: 1914.0974218\ttotal: 2.15s\tremaining: 473ms\n",
      "41:\tlearn: 1910.7743172\ttotal: 2.21s\tremaining: 420ms\n",
      "42:\tlearn: 1908.0301623\ttotal: 2.25s\tremaining: 367ms\n",
      "43:\tlearn: 1905.1464631\ttotal: 2.3s\tremaining: 314ms\n",
      "44:\tlearn: 1901.6512829\ttotal: 2.35s\tremaining: 261ms\n",
      "45:\tlearn: 1897.7648792\ttotal: 2.4s\tremaining: 209ms\n",
      "46:\tlearn: 1895.8586220\ttotal: 2.45s\tremaining: 156ms\n",
      "47:\tlearn: 1894.0137223\ttotal: 2.5s\tremaining: 104ms\n",
      "48:\tlearn: 1889.9661347\ttotal: 2.55s\tremaining: 52ms\n",
      "49:\tlearn: 1888.6543346\ttotal: 2.59s\tremaining: 0us\n",
      "Learning rate set to 0.5\n",
      "0:\tlearn: 3465.2132873\ttotal: 57.6ms\tremaining: 2.82s\n",
      "1:\tlearn: 2999.4592034\ttotal: 113ms\tremaining: 2.71s\n",
      "2:\tlearn: 2721.7354809\ttotal: 173ms\tremaining: 2.71s\n",
      "3:\tlearn: 2558.8608243\ttotal: 240ms\tremaining: 2.75s\n",
      "4:\tlearn: 2437.7256110\ttotal: 297ms\tremaining: 2.67s\n",
      "5:\tlearn: 2357.0854299\ttotal: 342ms\tremaining: 2.5s\n",
      "6:\tlearn: 2298.8214832\ttotal: 391ms\tremaining: 2.4s\n",
      "7:\tlearn: 2243.6589243\ttotal: 442ms\tremaining: 2.32s\n",
      "8:\tlearn: 2217.0688367\ttotal: 493ms\tremaining: 2.25s\n",
      "9:\tlearn: 2175.6908824\ttotal: 544ms\tremaining: 2.17s\n",
      "10:\tlearn: 2152.5026810\ttotal: 600ms\tremaining: 2.13s\n",
      "11:\tlearn: 2132.6121560\ttotal: 647ms\tremaining: 2.05s\n",
      "12:\tlearn: 2120.5416127\ttotal: 702ms\tremaining: 2s\n",
      "13:\tlearn: 2108.8706437\ttotal: 751ms\tremaining: 1.93s\n",
      "14:\tlearn: 2095.9741535\ttotal: 812ms\tremaining: 1.9s\n",
      "15:\tlearn: 2079.4663693\ttotal: 859ms\tremaining: 1.82s\n",
      "16:\tlearn: 2061.8347464\ttotal: 913ms\tremaining: 1.77s\n",
      "17:\tlearn: 2053.4907234\ttotal: 960ms\tremaining: 1.71s\n",
      "18:\tlearn: 2044.7363668\ttotal: 1.01s\tremaining: 1.65s\n",
      "19:\tlearn: 2039.4123926\ttotal: 1.06s\tremaining: 1.59s\n",
      "20:\tlearn: 2035.2532876\ttotal: 1.11s\tremaining: 1.54s\n",
      "21:\tlearn: 2023.1354295\ttotal: 1.16s\tremaining: 1.48s\n",
      "22:\tlearn: 2014.5889350\ttotal: 1.21s\tremaining: 1.43s\n",
      "23:\tlearn: 2009.7446233\ttotal: 1.26s\tremaining: 1.36s\n",
      "24:\tlearn: 2003.0128623\ttotal: 1.31s\tremaining: 1.31s\n",
      "25:\tlearn: 1990.5447463\ttotal: 1.36s\tremaining: 1.25s\n",
      "26:\tlearn: 1983.6387359\ttotal: 1.43s\tremaining: 1.22s\n",
      "27:\tlearn: 1979.3868964\ttotal: 1.5s\tremaining: 1.18s\n",
      "28:\tlearn: 1975.1097359\ttotal: 1.54s\tremaining: 1.12s\n",
      "29:\tlearn: 1971.6062498\ttotal: 1.6s\tremaining: 1.06s\n",
      "30:\tlearn: 1965.1791539\ttotal: 1.64s\tremaining: 1.01s\n",
      "31:\tlearn: 1962.8796455\ttotal: 1.7s\tremaining: 954ms\n",
      "32:\tlearn: 1960.1096068\ttotal: 1.75s\tremaining: 899ms\n",
      "33:\tlearn: 1955.1540889\ttotal: 1.8s\tremaining: 848ms\n",
      "34:\tlearn: 1950.2726160\ttotal: 1.85s\tremaining: 792ms\n",
      "35:\tlearn: 1946.1972332\ttotal: 1.91s\tremaining: 741ms\n",
      "36:\tlearn: 1940.9976824\ttotal: 1.95s\tremaining: 686ms\n",
      "37:\tlearn: 1935.8301632\ttotal: 2s\tremaining: 632ms\n",
      "38:\tlearn: 1933.3119626\ttotal: 2.05s\tremaining: 578ms\n",
      "39:\tlearn: 1930.5245538\ttotal: 2.1s\tremaining: 525ms\n",
      "40:\tlearn: 1928.6963524\ttotal: 2.16s\tremaining: 474ms\n",
      "41:\tlearn: 1925.2658079\ttotal: 2.24s\tremaining: 426ms\n",
      "42:\tlearn: 1921.7334395\ttotal: 2.3s\tremaining: 374ms\n",
      "43:\tlearn: 1918.4150591\ttotal: 2.34s\tremaining: 319ms\n",
      "44:\tlearn: 1916.4854452\ttotal: 2.4s\tremaining: 266ms\n",
      "45:\tlearn: 1911.9070787\ttotal: 2.44s\tremaining: 213ms\n",
      "46:\tlearn: 1908.3269710\ttotal: 2.5s\tremaining: 159ms\n",
      "47:\tlearn: 1905.0250259\ttotal: 2.54s\tremaining: 106ms\n",
      "48:\tlearn: 1901.5964413\ttotal: 2.6s\tremaining: 53.1ms\n",
      "49:\tlearn: 1900.8166143\ttotal: 2.65s\tremaining: 0us\n",
      "Learning rate set to 0.5\n",
      "0:\tlearn: 3459.4257717\ttotal: 65.4ms\tremaining: 3.2s\n",
      "1:\tlearn: 2995.3389318\ttotal: 114ms\tremaining: 2.73s\n",
      "2:\tlearn: 2717.1240415\ttotal: 183ms\tremaining: 2.87s\n",
      "3:\tlearn: 2554.0989865\ttotal: 243ms\tremaining: 2.79s\n",
      "4:\tlearn: 2431.2580498\ttotal: 297ms\tremaining: 2.67s\n",
      "5:\tlearn: 2355.4508197\ttotal: 343ms\tremaining: 2.52s\n",
      "6:\tlearn: 2297.0097504\ttotal: 395ms\tremaining: 2.43s\n",
      "7:\tlearn: 2257.0440420\ttotal: 443ms\tremaining: 2.33s\n",
      "8:\tlearn: 2207.8949052\ttotal: 491ms\tremaining: 2.24s\n",
      "9:\tlearn: 2172.7486554\ttotal: 539ms\tremaining: 2.15s\n",
      "10:\tlearn: 2145.6657956\ttotal: 583ms\tremaining: 2.06s\n",
      "11:\tlearn: 2127.9087211\ttotal: 629ms\tremaining: 1.99s\n",
      "12:\tlearn: 2112.8122860\ttotal: 676ms\tremaining: 1.92s\n",
      "13:\tlearn: 2097.3073659\ttotal: 720ms\tremaining: 1.85s\n",
      "14:\tlearn: 2077.1227018\ttotal: 770ms\tremaining: 1.79s\n",
      "15:\tlearn: 2065.9688490\ttotal: 815ms\tremaining: 1.73s\n",
      "16:\tlearn: 2052.9331608\ttotal: 864ms\tremaining: 1.68s\n",
      "17:\tlearn: 2044.2930104\ttotal: 909ms\tremaining: 1.61s\n",
      "18:\tlearn: 2033.4168306\ttotal: 961ms\tremaining: 1.57s\n",
      "19:\tlearn: 2026.5953433\ttotal: 1s\tremaining: 1.51s\n",
      "20:\tlearn: 2019.7482619\ttotal: 1.06s\tremaining: 1.46s\n",
      "21:\tlearn: 2011.9828307\ttotal: 1.11s\tremaining: 1.42s\n",
      "22:\tlearn: 2004.9912927\ttotal: 1.18s\tremaining: 1.39s\n",
      "23:\tlearn: 2001.3747787\ttotal: 1.24s\tremaining: 1.34s\n",
      "24:\tlearn: 1995.2327819\ttotal: 1.28s\tremaining: 1.28s\n",
      "25:\tlearn: 1990.0754746\ttotal: 1.34s\tremaining: 1.23s\n",
      "26:\tlearn: 1986.7666744\ttotal: 1.38s\tremaining: 1.18s\n",
      "27:\tlearn: 1982.4555264\ttotal: 1.43s\tremaining: 1.13s\n",
      "28:\tlearn: 1976.4206480\ttotal: 1.48s\tremaining: 1.07s\n",
      "29:\tlearn: 1970.6553621\ttotal: 1.53s\tremaining: 1.02s\n",
      "30:\tlearn: 1967.5541706\ttotal: 1.58s\tremaining: 968ms\n",
      "31:\tlearn: 1963.1185649\ttotal: 1.63s\tremaining: 920ms\n",
      "32:\tlearn: 1960.1008860\ttotal: 1.68s\tremaining: 866ms\n",
      "33:\tlearn: 1953.6089959\ttotal: 1.74s\tremaining: 817ms\n",
      "34:\tlearn: 1950.9041225\ttotal: 1.78s\tremaining: 765ms\n",
      "35:\tlearn: 1939.3932385\ttotal: 1.84s\tremaining: 715ms\n",
      "36:\tlearn: 1936.6682032\ttotal: 1.89s\tremaining: 663ms\n",
      "37:\tlearn: 1934.4633081\ttotal: 1.94s\tremaining: 614ms\n",
      "38:\tlearn: 1932.2271864\ttotal: 1.99s\tremaining: 561ms\n",
      "39:\tlearn: 1927.7127412\ttotal: 2.04s\tremaining: 511ms\n",
      "40:\tlearn: 1923.9991004\ttotal: 2.09s\tremaining: 459ms\n",
      "41:\tlearn: 1919.1590413\ttotal: 2.15s\tremaining: 409ms\n",
      "42:\tlearn: 1916.9047117\ttotal: 2.19s\tremaining: 357ms\n",
      "43:\tlearn: 1915.5908189\ttotal: 2.25s\tremaining: 307ms\n",
      "44:\tlearn: 1914.3458412\ttotal: 2.29s\tremaining: 255ms\n",
      "45:\tlearn: 1911.2899900\ttotal: 2.35s\tremaining: 204ms\n",
      "46:\tlearn: 1907.1025985\ttotal: 2.39s\tremaining: 153ms\n",
      "47:\tlearn: 1903.6754279\ttotal: 2.44s\tremaining: 102ms\n",
      "48:\tlearn: 1902.7543280\ttotal: 2.49s\tremaining: 50.8ms\n",
      "49:\tlearn: 1901.0102950\ttotal: 2.54s\tremaining: 0us\n",
      "Learning rate set to 0.5\n",
      "0:\tlearn: 3313.9782793\ttotal: 89.2ms\tremaining: 803ms\n",
      "1:\tlearn: 2741.3608096\ttotal: 171ms\tremaining: 683ms\n",
      "2:\tlearn: 2432.7202763\ttotal: 255ms\tremaining: 596ms\n",
      "3:\tlearn: 2289.4386523\ttotal: 343ms\tremaining: 515ms\n",
      "4:\tlearn: 2203.0101835\ttotal: 414ms\tremaining: 414ms\n",
      "5:\tlearn: 2142.5440123\ttotal: 491ms\tremaining: 327ms\n",
      "6:\tlearn: 2090.9344526\ttotal: 563ms\tremaining: 241ms\n",
      "7:\tlearn: 2063.2003386\ttotal: 628ms\tremaining: 157ms\n",
      "8:\tlearn: 2038.3145495\ttotal: 703ms\tremaining: 78.1ms\n",
      "9:\tlearn: 2020.9221485\ttotal: 779ms\tremaining: 0us\n",
      "Learning rate set to 0.5\n",
      "0:\tlearn: 3298.3643203\ttotal: 97.7ms\tremaining: 879ms\n",
      "1:\tlearn: 2729.6306189\ttotal: 223ms\tremaining: 892ms\n",
      "2:\tlearn: 2429.7211990\ttotal: 327ms\tremaining: 764ms\n",
      "3:\tlearn: 2280.4016804\ttotal: 409ms\tremaining: 613ms\n",
      "4:\tlearn: 2197.5162317\ttotal: 488ms\tremaining: 488ms\n",
      "5:\tlearn: 2133.3990865\ttotal: 573ms\tremaining: 382ms\n",
      "6:\tlearn: 2083.9070474\ttotal: 641ms\tremaining: 275ms\n",
      "7:\tlearn: 2054.8863843\ttotal: 721ms\tremaining: 180ms\n",
      "8:\tlearn: 2034.4675232\ttotal: 803ms\tremaining: 89.2ms\n",
      "9:\tlearn: 2015.0721835\ttotal: 896ms\tremaining: 0us\n",
      "Learning rate set to 0.5\n",
      "0:\tlearn: 3307.6337509\ttotal: 86.9ms\tremaining: 782ms\n",
      "1:\tlearn: 2720.2225593\ttotal: 176ms\tremaining: 705ms\n",
      "2:\tlearn: 2412.8847411\ttotal: 253ms\tremaining: 590ms\n",
      "3:\tlearn: 2264.4117292\ttotal: 339ms\tremaining: 508ms\n",
      "4:\tlearn: 2188.5734146\ttotal: 422ms\tremaining: 422ms\n",
      "5:\tlearn: 2107.4060082\ttotal: 495ms\tremaining: 330ms\n",
      "6:\tlearn: 2067.1153755\ttotal: 569ms\tremaining: 244ms\n",
      "7:\tlearn: 2039.4055691\ttotal: 630ms\tremaining: 158ms\n",
      "8:\tlearn: 2020.0143036\ttotal: 701ms\tremaining: 77.9ms\n",
      "9:\tlearn: 2002.3262382\ttotal: 775ms\tremaining: 0us\n",
      "Learning rate set to 0.5\n",
      "0:\tlearn: 3320.6360918\ttotal: 76.8ms\tremaining: 692ms\n",
      "1:\tlearn: 2717.6445394\ttotal: 165ms\tremaining: 660ms\n",
      "2:\tlearn: 2431.5666949\ttotal: 280ms\tremaining: 652ms\n",
      "3:\tlearn: 2279.3927432\ttotal: 397ms\tremaining: 596ms\n",
      "4:\tlearn: 2193.8790566\ttotal: 504ms\tremaining: 504ms\n",
      "5:\tlearn: 2124.9499826\ttotal: 573ms\tremaining: 382ms\n",
      "6:\tlearn: 2086.6258969\ttotal: 643ms\tremaining: 276ms\n",
      "7:\tlearn: 2059.8332751\ttotal: 721ms\tremaining: 180ms\n",
      "8:\tlearn: 2045.4846326\ttotal: 826ms\tremaining: 91.7ms\n",
      "9:\tlearn: 2022.7159637\ttotal: 903ms\tremaining: 0us\n",
      "Learning rate set to 0.5\n",
      "0:\tlearn: 3318.8282641\ttotal: 89.5ms\tremaining: 806ms\n",
      "1:\tlearn: 2741.4084017\ttotal: 174ms\tremaining: 695ms\n",
      "2:\tlearn: 2439.3097285\ttotal: 256ms\tremaining: 598ms\n",
      "3:\tlearn: 2288.5697051\ttotal: 322ms\tremaining: 484ms\n",
      "4:\tlearn: 2184.4177911\ttotal: 398ms\tremaining: 398ms\n",
      "5:\tlearn: 2132.2256928\ttotal: 471ms\tremaining: 314ms\n",
      "6:\tlearn: 2082.0768398\ttotal: 537ms\tremaining: 230ms\n",
      "7:\tlearn: 2059.5188474\ttotal: 609ms\tremaining: 152ms\n",
      "8:\tlearn: 2025.4392602\ttotal: 681ms\tremaining: 75.7ms\n",
      "9:\tlearn: 2008.5718311\ttotal: 752ms\tremaining: 0us\n",
      "Learning rate set to 0.5\n",
      "0:\tlearn: 3313.9782793\ttotal: 82.7ms\tremaining: 1.57s\n",
      "1:\tlearn: 2741.3608096\ttotal: 166ms\tremaining: 1.49s\n",
      "2:\tlearn: 2432.7202763\ttotal: 258ms\tremaining: 1.46s\n",
      "3:\tlearn: 2289.4386523\ttotal: 333ms\tremaining: 1.33s\n",
      "4:\tlearn: 2203.0101835\ttotal: 402ms\tremaining: 1.21s\n",
      "5:\tlearn: 2142.5440123\ttotal: 473ms\tremaining: 1.1s\n",
      "6:\tlearn: 2090.9344526\ttotal: 551ms\tremaining: 1.02s\n",
      "7:\tlearn: 2063.2003386\ttotal: 627ms\tremaining: 940ms\n",
      "8:\tlearn: 2038.3145495\ttotal: 692ms\tremaining: 845ms\n",
      "9:\tlearn: 2020.9221485\ttotal: 762ms\tremaining: 762ms\n",
      "10:\tlearn: 2006.8539724\ttotal: 845ms\tremaining: 691ms\n",
      "11:\tlearn: 1990.8573756\ttotal: 912ms\tremaining: 608ms\n",
      "12:\tlearn: 1977.7462363\ttotal: 976ms\tremaining: 525ms\n",
      "13:\tlearn: 1963.6668235\ttotal: 1.05s\tremaining: 449ms\n",
      "14:\tlearn: 1954.1968795\ttotal: 1.12s\tremaining: 374ms\n",
      "15:\tlearn: 1947.4481128\ttotal: 1.19s\tremaining: 297ms\n",
      "16:\tlearn: 1940.1412167\ttotal: 1.26s\tremaining: 222ms\n",
      "17:\tlearn: 1931.9377168\ttotal: 1.33s\tremaining: 148ms\n",
      "18:\tlearn: 1923.6349205\ttotal: 1.41s\tremaining: 74ms\n",
      "19:\tlearn: 1919.1346742\ttotal: 1.47s\tremaining: 0us\n",
      "Learning rate set to 0.5\n",
      "0:\tlearn: 3298.3643203\ttotal: 86.4ms\tremaining: 1.64s\n",
      "1:\tlearn: 2729.6306189\ttotal: 173ms\tremaining: 1.56s\n",
      "2:\tlearn: 2429.7211990\ttotal: 276ms\tremaining: 1.56s\n",
      "3:\tlearn: 2280.4016804\ttotal: 342ms\tremaining: 1.37s\n",
      "4:\tlearn: 2197.5162317\ttotal: 417ms\tremaining: 1.25s\n",
      "5:\tlearn: 2133.3990865\ttotal: 491ms\tremaining: 1.15s\n",
      "6:\tlearn: 2083.9070474\ttotal: 573ms\tremaining: 1.06s\n",
      "7:\tlearn: 2054.8863843\ttotal: 638ms\tremaining: 957ms\n",
      "8:\tlearn: 2034.4675232\ttotal: 706ms\tremaining: 863ms\n",
      "9:\tlearn: 2015.0721835\ttotal: 780ms\tremaining: 780ms\n",
      "10:\tlearn: 2003.6657991\ttotal: 845ms\tremaining: 692ms\n",
      "11:\tlearn: 1984.3512794\ttotal: 917ms\tremaining: 611ms\n",
      "12:\tlearn: 1967.5843842\ttotal: 993ms\tremaining: 535ms\n",
      "13:\tlearn: 1956.2780057\ttotal: 1.06s\tremaining: 457ms\n",
      "14:\tlearn: 1944.9926025\ttotal: 1.13s\tremaining: 376ms\n",
      "15:\tlearn: 1936.1481796\ttotal: 1.2s\tremaining: 299ms\n",
      "16:\tlearn: 1925.2740529\ttotal: 1.27s\tremaining: 224ms\n",
      "17:\tlearn: 1917.2053100\ttotal: 1.34s\tremaining: 149ms\n",
      "18:\tlearn: 1911.8100899\ttotal: 1.41s\tremaining: 74.2ms\n",
      "19:\tlearn: 1907.7080892\ttotal: 1.48s\tremaining: 0us\n",
      "Learning rate set to 0.5\n",
      "0:\tlearn: 3307.6337509\ttotal: 89.8ms\tremaining: 1.71s\n",
      "1:\tlearn: 2720.2225593\ttotal: 168ms\tremaining: 1.51s\n",
      "2:\tlearn: 2412.8847411\ttotal: 246ms\tremaining: 1.4s\n",
      "3:\tlearn: 2264.4117292\ttotal: 331ms\tremaining: 1.32s\n",
      "4:\tlearn: 2188.5734146\ttotal: 397ms\tremaining: 1.19s\n",
      "5:\tlearn: 2107.4060082\ttotal: 460ms\tremaining: 1.07s\n",
      "6:\tlearn: 2067.1153755\ttotal: 531ms\tremaining: 987ms\n",
      "7:\tlearn: 2039.4055691\ttotal: 602ms\tremaining: 903ms\n",
      "8:\tlearn: 2020.0143036\ttotal: 664ms\tremaining: 811ms\n",
      "9:\tlearn: 2002.3262382\ttotal: 733ms\tremaining: 733ms\n",
      "10:\tlearn: 1983.0799095\ttotal: 806ms\tremaining: 660ms\n",
      "11:\tlearn: 1970.1653521\ttotal: 868ms\tremaining: 579ms\n",
      "12:\tlearn: 1955.6706391\ttotal: 956ms\tremaining: 515ms\n",
      "13:\tlearn: 1948.5178348\ttotal: 1.03s\tremaining: 442ms\n",
      "14:\tlearn: 1938.1408618\ttotal: 1.1s\tremaining: 368ms\n",
      "15:\tlearn: 1928.6407523\ttotal: 1.17s\tremaining: 292ms\n",
      "16:\tlearn: 1923.9916295\ttotal: 1.25s\tremaining: 221ms\n",
      "17:\tlearn: 1914.5910331\ttotal: 1.33s\tremaining: 147ms\n",
      "18:\tlearn: 1903.5665895\ttotal: 1.4s\tremaining: 73.7ms\n",
      "19:\tlearn: 1893.1728394\ttotal: 1.46s\tremaining: 0us\n",
      "Learning rate set to 0.5\n",
      "0:\tlearn: 3320.6360918\ttotal: 109ms\tremaining: 2.08s\n",
      "1:\tlearn: 2717.6445394\ttotal: 193ms\tremaining: 1.73s\n",
      "2:\tlearn: 2431.5666949\ttotal: 262ms\tremaining: 1.48s\n",
      "3:\tlearn: 2279.3927432\ttotal: 348ms\tremaining: 1.39s\n",
      "4:\tlearn: 2193.8790566\ttotal: 422ms\tremaining: 1.26s\n",
      "5:\tlearn: 2124.9499826\ttotal: 494ms\tremaining: 1.15s\n",
      "6:\tlearn: 2086.6258969\ttotal: 557ms\tremaining: 1.03s\n",
      "7:\tlearn: 2059.8332751\ttotal: 630ms\tremaining: 945ms\n",
      "8:\tlearn: 2045.4846326\ttotal: 705ms\tremaining: 862ms\n",
      "9:\tlearn: 2022.7159637\ttotal: 773ms\tremaining: 773ms\n",
      "10:\tlearn: 1999.6777038\ttotal: 880ms\tremaining: 720ms\n",
      "11:\tlearn: 1980.3991158\ttotal: 956ms\tremaining: 638ms\n",
      "12:\tlearn: 1965.9114239\ttotal: 1.03s\tremaining: 553ms\n",
      "13:\tlearn: 1957.4163297\ttotal: 1.1s\tremaining: 472ms\n",
      "14:\tlearn: 1949.9467984\ttotal: 1.17s\tremaining: 390ms\n",
      "15:\tlearn: 1943.1010471\ttotal: 1.24s\tremaining: 310ms\n",
      "16:\tlearn: 1932.9718259\ttotal: 1.32s\tremaining: 232ms\n",
      "17:\tlearn: 1927.4883368\ttotal: 1.39s\tremaining: 155ms\n",
      "18:\tlearn: 1918.9702052\ttotal: 1.47s\tremaining: 77.1ms\n",
      "19:\tlearn: 1908.9041303\ttotal: 1.53s\tremaining: 0us\n",
      "Learning rate set to 0.5\n",
      "0:\tlearn: 3318.8282641\ttotal: 83.5ms\tremaining: 1.59s\n",
      "1:\tlearn: 2741.4084017\ttotal: 168ms\tremaining: 1.51s\n",
      "2:\tlearn: 2439.3097285\ttotal: 247ms\tremaining: 1.4s\n",
      "3:\tlearn: 2288.5697051\ttotal: 310ms\tremaining: 1.24s\n",
      "4:\tlearn: 2184.4177911\ttotal: 381ms\tremaining: 1.14s\n",
      "5:\tlearn: 2132.2256928\ttotal: 454ms\tremaining: 1.06s\n",
      "6:\tlearn: 2082.0768398\ttotal: 519ms\tremaining: 963ms\n",
      "7:\tlearn: 2059.5188474\ttotal: 586ms\tremaining: 879ms\n",
      "8:\tlearn: 2025.4392602\ttotal: 661ms\tremaining: 808ms\n",
      "9:\tlearn: 2008.5718311\ttotal: 731ms\tremaining: 731ms\n",
      "10:\tlearn: 1994.1013681\ttotal: 797ms\tremaining: 652ms\n",
      "11:\tlearn: 1981.9798899\ttotal: 870ms\tremaining: 580ms\n",
      "12:\tlearn: 1969.1802185\ttotal: 940ms\tremaining: 506ms\n",
      "13:\tlearn: 1958.7408275\ttotal: 1s\tremaining: 430ms\n",
      "14:\tlearn: 1952.3242842\ttotal: 1.08s\tremaining: 359ms\n",
      "15:\tlearn: 1943.0798026\ttotal: 1.15s\tremaining: 287ms\n",
      "16:\tlearn: 1934.4955833\ttotal: 1.21s\tremaining: 214ms\n",
      "17:\tlearn: 1925.4639527\ttotal: 1.28s\tremaining: 142ms\n",
      "18:\tlearn: 1915.1947525\ttotal: 1.35s\tremaining: 71.1ms\n",
      "19:\tlearn: 1907.5246082\ttotal: 1.41s\tremaining: 0us\n",
      "Learning rate set to 0.5\n",
      "0:\tlearn: 3313.9782793\ttotal: 79ms\tremaining: 2.29s\n",
      "1:\tlearn: 2741.3608096\ttotal: 158ms\tremaining: 2.21s\n",
      "2:\tlearn: 2432.7202763\ttotal: 243ms\tremaining: 2.19s\n",
      "3:\tlearn: 2289.4386523\ttotal: 320ms\tremaining: 2.08s\n",
      "4:\tlearn: 2203.0101835\ttotal: 383ms\tremaining: 1.92s\n",
      "5:\tlearn: 2142.5440123\ttotal: 456ms\tremaining: 1.82s\n",
      "6:\tlearn: 2090.9344526\ttotal: 535ms\tremaining: 1.76s\n",
      "7:\tlearn: 2063.2003386\ttotal: 613ms\tremaining: 1.69s\n",
      "8:\tlearn: 2038.3145495\ttotal: 688ms\tremaining: 1.61s\n",
      "9:\tlearn: 2020.9221485\ttotal: 753ms\tremaining: 1.51s\n",
      "10:\tlearn: 2006.8539724\ttotal: 829ms\tremaining: 1.43s\n",
      "11:\tlearn: 1990.8573756\ttotal: 896ms\tremaining: 1.34s\n",
      "12:\tlearn: 1977.7462363\ttotal: 958ms\tremaining: 1.25s\n",
      "13:\tlearn: 1963.6668235\ttotal: 1.03s\tremaining: 1.18s\n",
      "14:\tlearn: 1954.1968795\ttotal: 1.1s\tremaining: 1.1s\n",
      "15:\tlearn: 1947.4481128\ttotal: 1.17s\tremaining: 1.02s\n",
      "16:\tlearn: 1940.1412167\ttotal: 1.24s\tremaining: 949ms\n",
      "17:\tlearn: 1931.9377168\ttotal: 1.31s\tremaining: 876ms\n",
      "18:\tlearn: 1923.6349205\ttotal: 1.38s\tremaining: 800ms\n",
      "19:\tlearn: 1919.1346742\ttotal: 1.45s\tremaining: 726ms\n",
      "20:\tlearn: 1913.7142100\ttotal: 1.53s\tremaining: 656ms\n",
      "21:\tlearn: 1909.6402423\ttotal: 1.61s\tremaining: 584ms\n",
      "22:\tlearn: 1892.0411501\ttotal: 1.67s\tremaining: 507ms\n",
      "23:\tlearn: 1887.4110623\ttotal: 1.74s\tremaining: 434ms\n",
      "24:\tlearn: 1881.1546350\ttotal: 1.81s\tremaining: 362ms\n",
      "25:\tlearn: 1875.0035818\ttotal: 1.88s\tremaining: 289ms\n",
      "26:\tlearn: 1870.0099834\ttotal: 1.94s\tremaining: 216ms\n",
      "27:\tlearn: 1865.0606115\ttotal: 2.03s\tremaining: 145ms\n",
      "28:\tlearn: 1861.7071699\ttotal: 2.1s\tremaining: 72.6ms\n",
      "29:\tlearn: 1856.7621082\ttotal: 2.17s\tremaining: 0us\n",
      "Learning rate set to 0.5\n",
      "0:\tlearn: 3298.3643203\ttotal: 96.1ms\tremaining: 2.79s\n",
      "1:\tlearn: 2729.6306189\ttotal: 195ms\tremaining: 2.73s\n",
      "2:\tlearn: 2429.7211990\ttotal: 276ms\tremaining: 2.49s\n",
      "3:\tlearn: 2280.4016804\ttotal: 339ms\tremaining: 2.2s\n",
      "4:\tlearn: 2197.5162317\ttotal: 424ms\tremaining: 2.12s\n",
      "5:\tlearn: 2133.3990865\ttotal: 503ms\tremaining: 2.01s\n",
      "6:\tlearn: 2083.9070474\ttotal: 580ms\tremaining: 1.91s\n",
      "7:\tlearn: 2054.8863843\ttotal: 648ms\tremaining: 1.78s\n",
      "8:\tlearn: 2034.4675232\ttotal: 723ms\tremaining: 1.69s\n",
      "9:\tlearn: 2015.0721835\ttotal: 812ms\tremaining: 1.62s\n",
      "10:\tlearn: 2003.6657991\ttotal: 897ms\tremaining: 1.55s\n",
      "11:\tlearn: 1984.3512794\ttotal: 973ms\tremaining: 1.46s\n",
      "12:\tlearn: 1967.5843842\ttotal: 1.04s\tremaining: 1.36s\n",
      "13:\tlearn: 1956.2780057\ttotal: 1.11s\tremaining: 1.26s\n",
      "14:\tlearn: 1944.9926025\ttotal: 1.18s\tremaining: 1.18s\n",
      "15:\tlearn: 1936.1481796\ttotal: 1.25s\tremaining: 1.09s\n",
      "16:\tlearn: 1925.2740529\ttotal: 1.31s\tremaining: 1s\n",
      "17:\tlearn: 1917.2053100\ttotal: 1.39s\tremaining: 924ms\n",
      "18:\tlearn: 1911.8100899\ttotal: 1.46s\tremaining: 846ms\n",
      "19:\tlearn: 1907.7080892\ttotal: 1.52s\tremaining: 762ms\n",
      "20:\tlearn: 1902.4073382\ttotal: 1.59s\tremaining: 683ms\n",
      "21:\tlearn: 1897.2026265\ttotal: 1.69s\tremaining: 613ms\n",
      "22:\tlearn: 1892.3838093\ttotal: 1.76s\tremaining: 537ms\n",
      "23:\tlearn: 1884.5489692\ttotal: 1.85s\tremaining: 463ms\n",
      "24:\tlearn: 1879.8341905\ttotal: 1.92s\tremaining: 384ms\n",
      "25:\tlearn: 1873.7187983\ttotal: 1.99s\tremaining: 306ms\n",
      "26:\tlearn: 1869.1343494\ttotal: 2.06s\tremaining: 229ms\n",
      "27:\tlearn: 1856.4759615\ttotal: 2.12s\tremaining: 152ms\n",
      "28:\tlearn: 1851.7284823\ttotal: 2.19s\tremaining: 75.6ms\n",
      "29:\tlearn: 1846.2858655\ttotal: 2.27s\tremaining: 0us\n",
      "Learning rate set to 0.5\n",
      "0:\tlearn: 3307.6337509\ttotal: 73.6ms\tremaining: 2.13s\n",
      "1:\tlearn: 2720.2225593\ttotal: 156ms\tremaining: 2.18s\n",
      "2:\tlearn: 2412.8847411\ttotal: 240ms\tremaining: 2.16s\n",
      "3:\tlearn: 2264.4117292\ttotal: 324ms\tremaining: 2.11s\n",
      "4:\tlearn: 2188.5734146\ttotal: 408ms\tremaining: 2.04s\n",
      "5:\tlearn: 2107.4060082\ttotal: 470ms\tremaining: 1.88s\n",
      "6:\tlearn: 2067.1153755\ttotal: 541ms\tremaining: 1.78s\n",
      "7:\tlearn: 2039.4055691\ttotal: 615ms\tremaining: 1.69s\n",
      "8:\tlearn: 2020.0143036\ttotal: 683ms\tremaining: 1.59s\n",
      "9:\tlearn: 2002.3262382\ttotal: 753ms\tremaining: 1.5s\n",
      "10:\tlearn: 1983.0799095\ttotal: 829ms\tremaining: 1.43s\n",
      "11:\tlearn: 1970.1653521\ttotal: 922ms\tremaining: 1.38s\n",
      "12:\tlearn: 1955.6706391\ttotal: 1s\tremaining: 1.31s\n",
      "13:\tlearn: 1948.5178348\ttotal: 1.06s\tremaining: 1.22s\n",
      "14:\tlearn: 1938.1408618\ttotal: 1.13s\tremaining: 1.13s\n",
      "15:\tlearn: 1928.6407523\ttotal: 1.21s\tremaining: 1.06s\n",
      "16:\tlearn: 1923.9916295\ttotal: 1.27s\tremaining: 975ms\n",
      "17:\tlearn: 1914.5910331\ttotal: 1.35s\tremaining: 904ms\n",
      "18:\tlearn: 1903.5665895\ttotal: 1.43s\tremaining: 826ms\n",
      "19:\tlearn: 1893.1728394\ttotal: 1.5s\tremaining: 751ms\n",
      "20:\tlearn: 1886.2703018\ttotal: 1.56s\tremaining: 670ms\n",
      "21:\tlearn: 1880.3807731\ttotal: 1.63s\tremaining: 594ms\n",
      "22:\tlearn: 1870.4235597\ttotal: 1.71s\tremaining: 521ms\n",
      "23:\tlearn: 1866.4528139\ttotal: 1.77s\tremaining: 444ms\n",
      "24:\tlearn: 1861.0064348\ttotal: 1.84s\tremaining: 369ms\n",
      "25:\tlearn: 1854.0265015\ttotal: 1.92s\tremaining: 295ms\n",
      "26:\tlearn: 1850.0419137\ttotal: 1.99s\tremaining: 221ms\n",
      "27:\tlearn: 1845.2925816\ttotal: 2.05s\tremaining: 146ms\n",
      "28:\tlearn: 1841.5183366\ttotal: 2.12s\tremaining: 73.2ms\n",
      "29:\tlearn: 1839.0063698\ttotal: 2.19s\tremaining: 0us\n",
      "Learning rate set to 0.5\n",
      "0:\tlearn: 3320.6360918\ttotal: 83.5ms\tremaining: 2.42s\n",
      "1:\tlearn: 2717.6445394\ttotal: 172ms\tremaining: 2.41s\n",
      "2:\tlearn: 2431.5666949\ttotal: 238ms\tremaining: 2.14s\n",
      "3:\tlearn: 2279.3927432\ttotal: 313ms\tremaining: 2.04s\n",
      "4:\tlearn: 2193.8790566\ttotal: 385ms\tremaining: 1.93s\n",
      "5:\tlearn: 2124.9499826\ttotal: 459ms\tremaining: 1.83s\n",
      "6:\tlearn: 2086.6258969\ttotal: 526ms\tremaining: 1.73s\n",
      "7:\tlearn: 2059.8332751\ttotal: 596ms\tremaining: 1.64s\n",
      "8:\tlearn: 2045.4846326\ttotal: 670ms\tremaining: 1.56s\n",
      "9:\tlearn: 2022.7159637\ttotal: 747ms\tremaining: 1.49s\n",
      "10:\tlearn: 1999.6777038\ttotal: 814ms\tremaining: 1.41s\n",
      "11:\tlearn: 1980.3991158\ttotal: 886ms\tremaining: 1.33s\n",
      "12:\tlearn: 1965.9114239\ttotal: 957ms\tremaining: 1.25s\n",
      "13:\tlearn: 1957.4163297\ttotal: 1.05s\tremaining: 1.21s\n",
      "14:\tlearn: 1949.9467984\ttotal: 1.13s\tremaining: 1.13s\n",
      "15:\tlearn: 1943.1010471\ttotal: 1.2s\tremaining: 1.05s\n",
      "16:\tlearn: 1932.9718259\ttotal: 1.28s\tremaining: 980ms\n",
      "17:\tlearn: 1927.4883368\ttotal: 1.36s\tremaining: 905ms\n",
      "18:\tlearn: 1918.9702052\ttotal: 1.43s\tremaining: 827ms\n",
      "19:\tlearn: 1908.9041303\ttotal: 1.5s\tremaining: 750ms\n",
      "20:\tlearn: 1900.6064396\ttotal: 1.57s\tremaining: 675ms\n",
      "21:\tlearn: 1896.2194886\ttotal: 1.66s\tremaining: 602ms\n",
      "22:\tlearn: 1889.6986251\ttotal: 1.73s\tremaining: 526ms\n",
      "23:\tlearn: 1883.5784169\ttotal: 1.84s\tremaining: 460ms\n",
      "24:\tlearn: 1880.1302366\ttotal: 1.92s\tremaining: 384ms\n",
      "25:\tlearn: 1874.9766235\ttotal: 1.99s\tremaining: 306ms\n",
      "26:\tlearn: 1867.9491229\ttotal: 2.06s\tremaining: 229ms\n",
      "27:\tlearn: 1864.8441190\ttotal: 2.14s\tremaining: 153ms\n",
      "28:\tlearn: 1859.7831928\ttotal: 2.21s\tremaining: 76.1ms\n",
      "29:\tlearn: 1856.0384379\ttotal: 2.27s\tremaining: 0us\n",
      "Learning rate set to 0.5\n",
      "0:\tlearn: 3318.8282641\ttotal: 90ms\tremaining: 2.61s\n",
      "1:\tlearn: 2741.4084017\ttotal: 175ms\tremaining: 2.45s\n",
      "2:\tlearn: 2439.3097285\ttotal: 250ms\tremaining: 2.25s\n",
      "3:\tlearn: 2288.5697051\ttotal: 316ms\tremaining: 2.05s\n",
      "4:\tlearn: 2184.4177911\ttotal: 390ms\tremaining: 1.95s\n",
      "5:\tlearn: 2132.2256928\ttotal: 462ms\tremaining: 1.85s\n",
      "6:\tlearn: 2082.0768398\ttotal: 526ms\tremaining: 1.73s\n",
      "7:\tlearn: 2059.5188474\ttotal: 595ms\tremaining: 1.64s\n",
      "8:\tlearn: 2025.4392602\ttotal: 668ms\tremaining: 1.56s\n",
      "9:\tlearn: 2008.5718311\ttotal: 733ms\tremaining: 1.47s\n",
      "10:\tlearn: 1994.1013681\ttotal: 803ms\tremaining: 1.39s\n",
      "11:\tlearn: 1981.9798899\ttotal: 884ms\tremaining: 1.32s\n",
      "12:\tlearn: 1969.1802185\ttotal: 952ms\tremaining: 1.24s\n",
      "13:\tlearn: 1958.7408275\ttotal: 1.01s\tremaining: 1.16s\n",
      "14:\tlearn: 1952.3242842\ttotal: 1.09s\tremaining: 1.09s\n",
      "15:\tlearn: 1943.0798026\ttotal: 1.16s\tremaining: 1.01s\n",
      "16:\tlearn: 1934.4955833\ttotal: 1.22s\tremaining: 935ms\n",
      "17:\tlearn: 1925.4639527\ttotal: 1.29s\tremaining: 862ms\n",
      "18:\tlearn: 1915.1947525\ttotal: 1.36s\tremaining: 790ms\n",
      "19:\tlearn: 1907.5246082\ttotal: 1.43s\tremaining: 714ms\n",
      "20:\tlearn: 1904.0110617\ttotal: 1.5s\tremaining: 643ms\n",
      "21:\tlearn: 1894.2277972\ttotal: 1.57s\tremaining: 572ms\n",
      "22:\tlearn: 1888.3843798\ttotal: 1.64s\tremaining: 498ms\n",
      "23:\tlearn: 1880.9661696\ttotal: 1.72s\tremaining: 429ms\n",
      "24:\tlearn: 1877.4716550\ttotal: 1.79s\tremaining: 358ms\n",
      "25:\tlearn: 1871.9513166\ttotal: 1.86s\tremaining: 287ms\n",
      "26:\tlearn: 1868.1014246\ttotal: 1.93s\tremaining: 214ms\n",
      "27:\tlearn: 1862.9232461\ttotal: 2s\tremaining: 143ms\n",
      "28:\tlearn: 1855.6006659\ttotal: 2.08s\tremaining: 71.6ms\n",
      "29:\tlearn: 1848.6439274\ttotal: 2.14s\tremaining: 0us\n",
      "Learning rate set to 0.5\n",
      "0:\tlearn: 3313.9782793\ttotal: 75.5ms\tremaining: 2.94s\n",
      "1:\tlearn: 2741.3608096\ttotal: 158ms\tremaining: 3.01s\n",
      "2:\tlearn: 2432.7202763\ttotal: 244ms\tremaining: 3.01s\n",
      "3:\tlearn: 2289.4386523\ttotal: 323ms\tremaining: 2.91s\n",
      "4:\tlearn: 2203.0101835\ttotal: 399ms\tremaining: 2.79s\n",
      "5:\tlearn: 2142.5440123\ttotal: 464ms\tremaining: 2.63s\n",
      "6:\tlearn: 2090.9344526\ttotal: 551ms\tremaining: 2.6s\n",
      "7:\tlearn: 2063.2003386\ttotal: 630ms\tremaining: 2.52s\n",
      "8:\tlearn: 2038.3145495\ttotal: 705ms\tremaining: 2.43s\n",
      "9:\tlearn: 2020.9221485\ttotal: 770ms\tremaining: 2.31s\n",
      "10:\tlearn: 2006.8539724\ttotal: 839ms\tremaining: 2.21s\n",
      "11:\tlearn: 1990.8573756\ttotal: 912ms\tremaining: 2.13s\n",
      "12:\tlearn: 1977.7462363\ttotal: 981ms\tremaining: 2.04s\n",
      "13:\tlearn: 1963.6668235\ttotal: 1.05s\tremaining: 1.94s\n",
      "14:\tlearn: 1954.1968795\ttotal: 1.12s\tremaining: 1.87s\n",
      "15:\tlearn: 1947.4481128\ttotal: 1.2s\tremaining: 1.79s\n",
      "16:\tlearn: 1940.1412167\ttotal: 1.26s\tremaining: 1.71s\n",
      "17:\tlearn: 1931.9377168\ttotal: 1.33s\tremaining: 1.63s\n",
      "18:\tlearn: 1923.6349205\ttotal: 1.4s\tremaining: 1.55s\n",
      "19:\tlearn: 1919.1346742\ttotal: 1.47s\tremaining: 1.47s\n",
      "20:\tlearn: 1913.7142100\ttotal: 1.53s\tremaining: 1.39s\n",
      "21:\tlearn: 1909.6402423\ttotal: 1.61s\tremaining: 1.31s\n",
      "22:\tlearn: 1892.0411501\ttotal: 1.68s\tremaining: 1.24s\n",
      "23:\tlearn: 1887.4110623\ttotal: 1.75s\tremaining: 1.16s\n",
      "24:\tlearn: 1881.1546350\ttotal: 1.81s\tremaining: 1.09s\n",
      "25:\tlearn: 1875.0035818\ttotal: 1.89s\tremaining: 1.02s\n",
      "26:\tlearn: 1870.0099834\ttotal: 1.95s\tremaining: 939ms\n",
      "27:\tlearn: 1865.0606115\ttotal: 2.02s\tremaining: 866ms\n",
      "28:\tlearn: 1861.7071699\ttotal: 2.1s\tremaining: 795ms\n",
      "29:\tlearn: 1856.7621082\ttotal: 2.17s\tremaining: 723ms\n",
      "30:\tlearn: 1851.1634432\ttotal: 2.23s\tremaining: 647ms\n",
      "31:\tlearn: 1849.5540382\ttotal: 2.3s\tremaining: 576ms\n",
      "32:\tlearn: 1845.8481157\ttotal: 2.38s\tremaining: 505ms\n",
      "33:\tlearn: 1841.8712988\ttotal: 2.44s\tremaining: 432ms\n",
      "34:\tlearn: 1835.9524006\ttotal: 2.51s\tremaining: 359ms\n",
      "35:\tlearn: 1832.5667721\ttotal: 2.59s\tremaining: 288ms\n",
      "36:\tlearn: 1828.7671177\ttotal: 2.66s\tremaining: 215ms\n",
      "37:\tlearn: 1825.9744553\ttotal: 2.72s\tremaining: 143ms\n",
      "38:\tlearn: 1823.4883480\ttotal: 2.8s\tremaining: 71.8ms\n",
      "39:\tlearn: 1819.7263278\ttotal: 2.88s\tremaining: 0us\n",
      "Learning rate set to 0.5\n",
      "0:\tlearn: 3298.3643203\ttotal: 76.2ms\tremaining: 2.97s\n",
      "1:\tlearn: 2729.6306189\ttotal: 154ms\tremaining: 2.92s\n",
      "2:\tlearn: 2429.7211990\ttotal: 246ms\tremaining: 3.03s\n",
      "3:\tlearn: 2280.4016804\ttotal: 314ms\tremaining: 2.83s\n",
      "4:\tlearn: 2197.5162317\ttotal: 386ms\tremaining: 2.7s\n",
      "5:\tlearn: 2133.3990865\ttotal: 450ms\tremaining: 2.55s\n",
      "6:\tlearn: 2083.9070474\ttotal: 520ms\tremaining: 2.45s\n",
      "7:\tlearn: 2054.8863843\ttotal: 593ms\tremaining: 2.37s\n",
      "8:\tlearn: 2034.4675232\ttotal: 657ms\tremaining: 2.26s\n",
      "9:\tlearn: 2015.0721835\ttotal: 720ms\tremaining: 2.16s\n",
      "10:\tlearn: 2003.6657991\ttotal: 790ms\tremaining: 2.08s\n",
      "11:\tlearn: 1984.3512794\ttotal: 854ms\tremaining: 1.99s\n",
      "12:\tlearn: 1967.5843842\ttotal: 926ms\tremaining: 1.92s\n",
      "13:\tlearn: 1956.2780057\ttotal: 1s\tremaining: 1.86s\n",
      "14:\tlearn: 1944.9926025\ttotal: 1.07s\tremaining: 1.78s\n",
      "15:\tlearn: 1936.1481796\ttotal: 1.14s\tremaining: 1.7s\n",
      "16:\tlearn: 1925.2740529\ttotal: 1.22s\tremaining: 1.64s\n",
      "17:\tlearn: 1917.2053100\ttotal: 1.29s\tremaining: 1.58s\n",
      "18:\tlearn: 1911.8100899\ttotal: 1.36s\tremaining: 1.5s\n",
      "19:\tlearn: 1907.7080892\ttotal: 1.43s\tremaining: 1.43s\n",
      "20:\tlearn: 1902.4073382\ttotal: 1.5s\tremaining: 1.36s\n",
      "21:\tlearn: 1897.2026265\ttotal: 1.59s\tremaining: 1.3s\n",
      "22:\tlearn: 1892.3838093\ttotal: 1.66s\tremaining: 1.23s\n",
      "23:\tlearn: 1884.5489692\ttotal: 1.73s\tremaining: 1.15s\n",
      "24:\tlearn: 1879.8341905\ttotal: 1.8s\tremaining: 1.08s\n",
      "25:\tlearn: 1873.7187983\ttotal: 1.88s\tremaining: 1.01s\n",
      "26:\tlearn: 1869.1343494\ttotal: 1.94s\tremaining: 936ms\n",
      "27:\tlearn: 1856.4759615\ttotal: 2.02s\tremaining: 864ms\n",
      "28:\tlearn: 1851.7284823\ttotal: 2.09s\tremaining: 794ms\n",
      "29:\tlearn: 1846.2858655\ttotal: 2.16s\tremaining: 721ms\n",
      "30:\tlearn: 1840.3097793\ttotal: 2.23s\tremaining: 647ms\n",
      "31:\tlearn: 1837.7919904\ttotal: 2.31s\tremaining: 578ms\n",
      "32:\tlearn: 1832.4531984\ttotal: 2.38s\tremaining: 506ms\n",
      "33:\tlearn: 1826.9497496\ttotal: 2.46s\tremaining: 434ms\n",
      "34:\tlearn: 1824.0150346\ttotal: 2.52s\tremaining: 361ms\n",
      "35:\tlearn: 1819.3582124\ttotal: 2.6s\tremaining: 289ms\n",
      "36:\tlearn: 1815.9799897\ttotal: 2.68s\tremaining: 217ms\n",
      "37:\tlearn: 1814.3470008\ttotal: 2.74s\tremaining: 144ms\n",
      "38:\tlearn: 1812.6690700\ttotal: 2.81s\tremaining: 72.1ms\n",
      "39:\tlearn: 1810.1664186\ttotal: 2.89s\tremaining: 0us\n",
      "Learning rate set to 0.5\n",
      "0:\tlearn: 3307.6337509\ttotal: 84.1ms\tremaining: 3.28s\n",
      "1:\tlearn: 2720.2225593\ttotal: 171ms\tremaining: 3.25s\n",
      "2:\tlearn: 2412.8847411\ttotal: 250ms\tremaining: 3.08s\n",
      "3:\tlearn: 2264.4117292\ttotal: 327ms\tremaining: 2.94s\n",
      "4:\tlearn: 2188.5734146\ttotal: 390ms\tremaining: 2.73s\n",
      "5:\tlearn: 2107.4060082\ttotal: 463ms\tremaining: 2.62s\n",
      "6:\tlearn: 2067.1153755\ttotal: 539ms\tremaining: 2.54s\n",
      "7:\tlearn: 2039.4055691\ttotal: 609ms\tremaining: 2.44s\n",
      "8:\tlearn: 2020.0143036\ttotal: 678ms\tremaining: 2.33s\n",
      "9:\tlearn: 2002.3262382\ttotal: 750ms\tremaining: 2.25s\n",
      "10:\tlearn: 1983.0799095\ttotal: 813ms\tremaining: 2.14s\n",
      "11:\tlearn: 1970.1653521\ttotal: 878ms\tremaining: 2.05s\n",
      "12:\tlearn: 1955.6706391\ttotal: 950ms\tremaining: 1.97s\n",
      "13:\tlearn: 1948.5178348\ttotal: 1.02s\tremaining: 1.9s\n",
      "14:\tlearn: 1938.1408618\ttotal: 1.08s\tremaining: 1.8s\n",
      "15:\tlearn: 1928.6407523\ttotal: 1.15s\tremaining: 1.73s\n",
      "16:\tlearn: 1923.9916295\ttotal: 1.23s\tremaining: 1.66s\n",
      "17:\tlearn: 1914.5910331\ttotal: 1.29s\tremaining: 1.58s\n",
      "18:\tlearn: 1903.5665895\ttotal: 1.36s\tremaining: 1.51s\n",
      "19:\tlearn: 1893.1728394\ttotal: 1.45s\tremaining: 1.45s\n",
      "20:\tlearn: 1886.2703018\ttotal: 1.51s\tremaining: 1.37s\n",
      "21:\tlearn: 1880.3807731\ttotal: 1.57s\tremaining: 1.29s\n",
      "22:\tlearn: 1870.4235597\ttotal: 1.65s\tremaining: 1.22s\n",
      "23:\tlearn: 1866.4528139\ttotal: 1.71s\tremaining: 1.14s\n",
      "24:\tlearn: 1861.0064348\ttotal: 1.78s\tremaining: 1.07s\n",
      "25:\tlearn: 1854.0265015\ttotal: 1.85s\tremaining: 997ms\n",
      "26:\tlearn: 1850.0419137\ttotal: 1.92s\tremaining: 925ms\n",
      "27:\tlearn: 1845.2925816\ttotal: 1.98s\tremaining: 849ms\n",
      "28:\tlearn: 1841.5183366\ttotal: 2.06s\tremaining: 780ms\n",
      "29:\tlearn: 1839.0063698\ttotal: 2.13s\tremaining: 710ms\n",
      "30:\tlearn: 1836.7970718\ttotal: 2.2s\tremaining: 638ms\n",
      "31:\tlearn: 1834.5533998\ttotal: 2.27s\tremaining: 566ms\n",
      "32:\tlearn: 1831.1432452\ttotal: 2.34s\tremaining: 496ms\n",
      "33:\tlearn: 1826.7593617\ttotal: 2.4s\tremaining: 425ms\n",
      "34:\tlearn: 1824.7785015\ttotal: 2.47s\tremaining: 353ms\n",
      "35:\tlearn: 1820.6530119\ttotal: 2.54s\tremaining: 282ms\n",
      "36:\tlearn: 1817.8792731\ttotal: 2.61s\tremaining: 212ms\n",
      "37:\tlearn: 1815.0192673\ttotal: 2.68s\tremaining: 141ms\n",
      "38:\tlearn: 1810.7846330\ttotal: 2.75s\tremaining: 70.5ms\n",
      "39:\tlearn: 1807.6188506\ttotal: 2.82s\tremaining: 0us\n",
      "Learning rate set to 0.5\n",
      "0:\tlearn: 3320.6360918\ttotal: 78.5ms\tremaining: 3.06s\n",
      "1:\tlearn: 2717.6445394\ttotal: 163ms\tremaining: 3.1s\n",
      "2:\tlearn: 2431.5666949\ttotal: 237ms\tremaining: 2.93s\n",
      "3:\tlearn: 2279.3927432\ttotal: 315ms\tremaining: 2.84s\n",
      "4:\tlearn: 2193.8790566\ttotal: 377ms\tremaining: 2.64s\n",
      "5:\tlearn: 2124.9499826\ttotal: 453ms\tremaining: 2.57s\n",
      "6:\tlearn: 2086.6258969\ttotal: 526ms\tremaining: 2.48s\n",
      "7:\tlearn: 2059.8332751\ttotal: 587ms\tremaining: 2.35s\n",
      "8:\tlearn: 2045.4846326\ttotal: 659ms\tremaining: 2.27s\n",
      "9:\tlearn: 2022.7159637\ttotal: 730ms\tremaining: 2.19s\n",
      "10:\tlearn: 1999.6777038\ttotal: 794ms\tremaining: 2.09s\n",
      "11:\tlearn: 1980.3991158\ttotal: 862ms\tremaining: 2.01s\n",
      "12:\tlearn: 1965.9114239\ttotal: 934ms\tremaining: 1.94s\n",
      "13:\tlearn: 1957.4163297\ttotal: 1s\tremaining: 1.86s\n",
      "14:\tlearn: 1949.9467984\ttotal: 1.07s\tremaining: 1.78s\n",
      "15:\tlearn: 1943.1010471\ttotal: 1.14s\tremaining: 1.71s\n",
      "16:\tlearn: 1932.9718259\ttotal: 1.21s\tremaining: 1.64s\n",
      "17:\tlearn: 1927.4883368\ttotal: 1.28s\tremaining: 1.56s\n",
      "18:\tlearn: 1918.9702052\ttotal: 1.35s\tremaining: 1.49s\n",
      "19:\tlearn: 1908.9041303\ttotal: 1.42s\tremaining: 1.42s\n",
      "20:\tlearn: 1900.6064396\ttotal: 1.48s\tremaining: 1.34s\n",
      "21:\tlearn: 1896.2194886\ttotal: 1.55s\tremaining: 1.27s\n",
      "22:\tlearn: 1889.6986251\ttotal: 1.62s\tremaining: 1.2s\n",
      "23:\tlearn: 1883.5784169\ttotal: 1.7s\tremaining: 1.13s\n",
      "24:\tlearn: 1880.1302366\ttotal: 1.76s\tremaining: 1.06s\n",
      "25:\tlearn: 1874.9766235\ttotal: 1.83s\tremaining: 988ms\n",
      "26:\tlearn: 1867.9491229\ttotal: 1.9s\tremaining: 916ms\n",
      "27:\tlearn: 1864.8441190\ttotal: 1.97s\tremaining: 844ms\n",
      "28:\tlearn: 1859.7831928\ttotal: 2.04s\tremaining: 774ms\n",
      "29:\tlearn: 1856.0384379\ttotal: 2.11s\tremaining: 704ms\n",
      "30:\tlearn: 1850.8309942\ttotal: 2.18s\tremaining: 632ms\n",
      "31:\tlearn: 1847.8664174\ttotal: 2.25s\tremaining: 562ms\n",
      "32:\tlearn: 1844.0080138\ttotal: 2.32s\tremaining: 491ms\n",
      "33:\tlearn: 1837.9604451\ttotal: 2.38s\tremaining: 419ms\n",
      "34:\tlearn: 1835.2955850\ttotal: 2.44s\tremaining: 349ms\n",
      "35:\tlearn: 1832.4550972\ttotal: 2.51s\tremaining: 279ms\n",
      "36:\tlearn: 1828.9521828\ttotal: 2.57s\tremaining: 209ms\n",
      "37:\tlearn: 1824.6771554\ttotal: 2.64s\tremaining: 139ms\n",
      "38:\tlearn: 1822.8308320\ttotal: 2.71s\tremaining: 69.4ms\n",
      "39:\tlearn: 1818.2465663\ttotal: 2.78s\tremaining: 0us\n",
      "Learning rate set to 0.5\n",
      "0:\tlearn: 3318.8282641\ttotal: 85.8ms\tremaining: 3.35s\n",
      "1:\tlearn: 2741.4084017\ttotal: 167ms\tremaining: 3.18s\n",
      "2:\tlearn: 2439.3097285\ttotal: 240ms\tremaining: 2.96s\n",
      "3:\tlearn: 2288.5697051\ttotal: 302ms\tremaining: 2.72s\n",
      "4:\tlearn: 2184.4177911\ttotal: 376ms\tremaining: 2.63s\n",
      "5:\tlearn: 2132.2256928\ttotal: 442ms\tremaining: 2.5s\n",
      "6:\tlearn: 2082.0768398\ttotal: 511ms\tremaining: 2.41s\n",
      "7:\tlearn: 2059.5188474\ttotal: 583ms\tremaining: 2.33s\n",
      "8:\tlearn: 2025.4392602\ttotal: 648ms\tremaining: 2.23s\n",
      "9:\tlearn: 2008.5718311\ttotal: 710ms\tremaining: 2.13s\n",
      "10:\tlearn: 1994.1013681\ttotal: 776ms\tremaining: 2.04s\n",
      "11:\tlearn: 1981.9798899\ttotal: 839ms\tremaining: 1.96s\n",
      "12:\tlearn: 1969.1802185\ttotal: 901ms\tremaining: 1.87s\n",
      "13:\tlearn: 1958.7408275\ttotal: 968ms\tremaining: 1.8s\n",
      "14:\tlearn: 1952.3242842\ttotal: 1.03s\tremaining: 1.72s\n",
      "15:\tlearn: 1943.0798026\ttotal: 1.09s\tremaining: 1.64s\n",
      "16:\tlearn: 1934.4955833\ttotal: 1.16s\tremaining: 1.57s\n",
      "17:\tlearn: 1925.4639527\ttotal: 1.23s\tremaining: 1.5s\n",
      "18:\tlearn: 1915.1947525\ttotal: 1.29s\tremaining: 1.42s\n",
      "19:\tlearn: 1907.5246082\ttotal: 1.35s\tremaining: 1.35s\n",
      "20:\tlearn: 1904.0110617\ttotal: 1.42s\tremaining: 1.29s\n",
      "21:\tlearn: 1894.2277972\ttotal: 1.49s\tremaining: 1.22s\n",
      "22:\tlearn: 1888.3843798\ttotal: 1.56s\tremaining: 1.15s\n",
      "23:\tlearn: 1880.9661696\ttotal: 1.63s\tremaining: 1.09s\n",
      "24:\tlearn: 1877.4716550\ttotal: 1.69s\tremaining: 1.01s\n",
      "25:\tlearn: 1871.9513166\ttotal: 1.76s\tremaining: 949ms\n",
      "26:\tlearn: 1868.1014246\ttotal: 1.83s\tremaining: 883ms\n",
      "27:\tlearn: 1862.9232461\ttotal: 1.9s\tremaining: 813ms\n",
      "28:\tlearn: 1855.6006659\ttotal: 1.97s\tremaining: 746ms\n",
      "29:\tlearn: 1848.6439274\ttotal: 2.04s\tremaining: 680ms\n",
      "30:\tlearn: 1843.6937652\ttotal: 2.1s\tremaining: 610ms\n",
      "31:\tlearn: 1839.0219270\ttotal: 2.16s\tremaining: 541ms\n",
      "32:\tlearn: 1835.4040801\ttotal: 2.24s\tremaining: 476ms\n",
      "33:\tlearn: 1832.5677054\ttotal: 2.3s\tremaining: 407ms\n",
      "34:\tlearn: 1829.6650723\ttotal: 2.37s\tremaining: 338ms\n",
      "35:\tlearn: 1828.2071203\ttotal: 2.44s\tremaining: 271ms\n",
      "36:\tlearn: 1825.8007833\ttotal: 2.51s\tremaining: 203ms\n",
      "37:\tlearn: 1822.5069737\ttotal: 2.57s\tremaining: 135ms\n",
      "38:\tlearn: 1819.2562460\ttotal: 2.64s\tremaining: 67.8ms\n",
      "39:\tlearn: 1816.5932953\ttotal: 2.71s\tremaining: 0us\n",
      "Learning rate set to 0.5\n",
      "0:\tlearn: 3313.9782793\ttotal: 89.6ms\tremaining: 4.39s\n",
      "1:\tlearn: 2741.3608096\ttotal: 182ms\tremaining: 4.37s\n",
      "2:\tlearn: 2432.7202763\ttotal: 263ms\tremaining: 4.12s\n",
      "3:\tlearn: 2289.4386523\ttotal: 327ms\tremaining: 3.76s\n",
      "4:\tlearn: 2203.0101835\ttotal: 395ms\tremaining: 3.56s\n",
      "5:\tlearn: 2142.5440123\ttotal: 469ms\tremaining: 3.44s\n",
      "6:\tlearn: 2090.9344526\ttotal: 535ms\tremaining: 3.29s\n",
      "7:\tlearn: 2063.2003386\ttotal: 611ms\tremaining: 3.21s\n",
      "8:\tlearn: 2038.3145495\ttotal: 705ms\tremaining: 3.21s\n",
      "9:\tlearn: 2020.9221485\ttotal: 775ms\tremaining: 3.1s\n",
      "10:\tlearn: 2006.8539724\ttotal: 845ms\tremaining: 2.99s\n",
      "11:\tlearn: 1990.8573756\ttotal: 907ms\tremaining: 2.87s\n",
      "12:\tlearn: 1977.7462363\ttotal: 980ms\tremaining: 2.79s\n",
      "13:\tlearn: 1963.6668235\ttotal: 1.05s\tremaining: 2.71s\n",
      "14:\tlearn: 1954.1968795\ttotal: 1.12s\tremaining: 2.62s\n",
      "15:\tlearn: 1947.4481128\ttotal: 1.19s\tremaining: 2.53s\n",
      "16:\tlearn: 1940.1412167\ttotal: 1.27s\tremaining: 2.46s\n",
      "17:\tlearn: 1931.9377168\ttotal: 1.33s\tremaining: 2.38s\n",
      "18:\tlearn: 1923.6349205\ttotal: 1.4s\tremaining: 2.29s\n",
      "19:\tlearn: 1919.1346742\ttotal: 1.48s\tremaining: 2.21s\n",
      "20:\tlearn: 1913.7142100\ttotal: 1.56s\tremaining: 2.15s\n",
      "21:\tlearn: 1909.6402423\ttotal: 1.63s\tremaining: 2.08s\n",
      "22:\tlearn: 1892.0411501\ttotal: 1.7s\tremaining: 1.99s\n",
      "23:\tlearn: 1887.4110623\ttotal: 1.77s\tremaining: 1.92s\n",
      "24:\tlearn: 1881.1546350\ttotal: 1.84s\tremaining: 1.84s\n",
      "25:\tlearn: 1875.0035818\ttotal: 1.9s\tremaining: 1.75s\n",
      "26:\tlearn: 1870.0099834\ttotal: 1.97s\tremaining: 1.68s\n",
      "27:\tlearn: 1865.0606115\ttotal: 2.04s\tremaining: 1.61s\n",
      "28:\tlearn: 1861.7071699\ttotal: 2.11s\tremaining: 1.53s\n",
      "29:\tlearn: 1856.7621082\ttotal: 2.17s\tremaining: 1.45s\n",
      "30:\tlearn: 1851.1634432\ttotal: 2.25s\tremaining: 1.38s\n",
      "31:\tlearn: 1849.5540382\ttotal: 2.32s\tremaining: 1.3s\n",
      "32:\tlearn: 1845.8481157\ttotal: 2.38s\tremaining: 1.23s\n",
      "33:\tlearn: 1841.8712988\ttotal: 2.45s\tremaining: 1.16s\n",
      "34:\tlearn: 1835.9524006\ttotal: 2.53s\tremaining: 1.08s\n",
      "35:\tlearn: 1832.5667721\ttotal: 2.6s\tremaining: 1.01s\n",
      "36:\tlearn: 1828.7671177\ttotal: 2.67s\tremaining: 937ms\n",
      "37:\tlearn: 1825.9744553\ttotal: 2.75s\tremaining: 867ms\n",
      "38:\tlearn: 1823.4883480\ttotal: 2.84s\tremaining: 802ms\n",
      "39:\tlearn: 1819.7263278\ttotal: 2.91s\tremaining: 727ms\n",
      "40:\tlearn: 1817.2700410\ttotal: 2.98s\tremaining: 653ms\n",
      "41:\tlearn: 1815.7732208\ttotal: 3.05s\tremaining: 582ms\n",
      "42:\tlearn: 1812.9073659\ttotal: 3.12s\tremaining: 509ms\n",
      "43:\tlearn: 1811.0938698\ttotal: 3.19s\tremaining: 434ms\n",
      "44:\tlearn: 1808.3424163\ttotal: 3.25s\tremaining: 362ms\n",
      "45:\tlearn: 1805.9360244\ttotal: 3.33s\tremaining: 290ms\n",
      "46:\tlearn: 1802.6212500\ttotal: 3.39s\tremaining: 217ms\n",
      "47:\tlearn: 1800.5147042\ttotal: 3.46s\tremaining: 144ms\n",
      "48:\tlearn: 1798.0300006\ttotal: 3.53s\tremaining: 72.1ms\n",
      "49:\tlearn: 1795.7265702\ttotal: 3.6s\tremaining: 0us\n",
      "Learning rate set to 0.5\n",
      "0:\tlearn: 3298.3643203\ttotal: 85.1ms\tremaining: 4.17s\n",
      "1:\tlearn: 2729.6306189\ttotal: 165ms\tremaining: 3.96s\n",
      "2:\tlearn: 2429.7211990\ttotal: 242ms\tremaining: 3.79s\n",
      "3:\tlearn: 2280.4016804\ttotal: 311ms\tremaining: 3.57s\n",
      "4:\tlearn: 2197.5162317\ttotal: 393ms\tremaining: 3.54s\n",
      "5:\tlearn: 2133.3990865\ttotal: 466ms\tremaining: 3.42s\n",
      "6:\tlearn: 2083.9070474\ttotal: 535ms\tremaining: 3.28s\n",
      "7:\tlearn: 2054.8863843\ttotal: 607ms\tremaining: 3.19s\n",
      "8:\tlearn: 2034.4675232\ttotal: 680ms\tremaining: 3.1s\n",
      "9:\tlearn: 2015.0721835\ttotal: 745ms\tremaining: 2.98s\n",
      "10:\tlearn: 2003.6657991\ttotal: 813ms\tremaining: 2.88s\n",
      "11:\tlearn: 1984.3512794\ttotal: 887ms\tremaining: 2.81s\n",
      "12:\tlearn: 1967.5843842\ttotal: 954ms\tremaining: 2.71s\n",
      "13:\tlearn: 1956.2780057\ttotal: 1.02s\tremaining: 2.62s\n",
      "14:\tlearn: 1944.9926025\ttotal: 1.09s\tremaining: 2.55s\n",
      "15:\tlearn: 1936.1481796\ttotal: 1.16s\tremaining: 2.46s\n",
      "16:\tlearn: 1925.2740529\ttotal: 1.22s\tremaining: 2.37s\n",
      "17:\tlearn: 1917.2053100\ttotal: 1.3s\tremaining: 2.31s\n",
      "18:\tlearn: 1911.8100899\ttotal: 1.37s\tremaining: 2.23s\n",
      "19:\tlearn: 1907.7080892\ttotal: 1.43s\tremaining: 2.14s\n",
      "20:\tlearn: 1902.4073382\ttotal: 1.5s\tremaining: 2.07s\n",
      "21:\tlearn: 1897.2026265\ttotal: 1.57s\tremaining: 2s\n",
      "22:\tlearn: 1892.3838093\ttotal: 1.64s\tremaining: 1.92s\n",
      "23:\tlearn: 1884.5489692\ttotal: 1.71s\tremaining: 1.85s\n",
      "24:\tlearn: 1879.8341905\ttotal: 1.77s\tremaining: 1.77s\n",
      "25:\tlearn: 1873.7187983\ttotal: 1.84s\tremaining: 1.7s\n",
      "26:\tlearn: 1869.1343494\ttotal: 1.91s\tremaining: 1.63s\n",
      "27:\tlearn: 1856.4759615\ttotal: 2s\tremaining: 1.57s\n",
      "28:\tlearn: 1851.7284823\ttotal: 2.08s\tremaining: 1.5s\n",
      "29:\tlearn: 1846.2858655\ttotal: 2.14s\tremaining: 1.43s\n",
      "30:\tlearn: 1840.3097793\ttotal: 2.21s\tremaining: 1.35s\n",
      "31:\tlearn: 1837.7919904\ttotal: 2.28s\tremaining: 1.28s\n",
      "32:\tlearn: 1832.4531984\ttotal: 2.35s\tremaining: 1.21s\n",
      "33:\tlearn: 1826.9497496\ttotal: 2.42s\tremaining: 1.14s\n",
      "34:\tlearn: 1824.0150346\ttotal: 2.48s\tremaining: 1.06s\n",
      "35:\tlearn: 1819.3582124\ttotal: 2.56s\tremaining: 994ms\n",
      "36:\tlearn: 1815.9799897\ttotal: 2.62s\tremaining: 920ms\n",
      "37:\tlearn: 1814.3470008\ttotal: 2.69s\tremaining: 849ms\n",
      "38:\tlearn: 1812.6690700\ttotal: 2.76s\tremaining: 779ms\n",
      "39:\tlearn: 1810.1664186\ttotal: 2.84s\tremaining: 710ms\n",
      "40:\tlearn: 1807.1613693\ttotal: 2.9s\tremaining: 637ms\n",
      "41:\tlearn: 1803.7473469\ttotal: 2.97s\tremaining: 566ms\n",
      "42:\tlearn: 1800.7243788\ttotal: 3.05s\tremaining: 497ms\n",
      "43:\tlearn: 1797.7296911\ttotal: 3.12s\tremaining: 426ms\n",
      "44:\tlearn: 1794.3393048\ttotal: 3.19s\tremaining: 354ms\n",
      "45:\tlearn: 1792.9839066\ttotal: 3.26s\tremaining: 283ms\n",
      "46:\tlearn: 1791.7387426\ttotal: 3.32s\tremaining: 212ms\n",
      "47:\tlearn: 1789.6333405\ttotal: 3.39s\tremaining: 141ms\n",
      "48:\tlearn: 1788.8713760\ttotal: 3.47s\tremaining: 70.8ms\n",
      "49:\tlearn: 1785.7093698\ttotal: 3.54s\tremaining: 0us\n",
      "Learning rate set to 0.5\n",
      "0:\tlearn: 3307.6337509\ttotal: 79.4ms\tremaining: 3.89s\n",
      "1:\tlearn: 2720.2225593\ttotal: 161ms\tremaining: 3.87s\n",
      "2:\tlearn: 2412.8847411\ttotal: 232ms\tremaining: 3.64s\n",
      "3:\tlearn: 2264.4117292\ttotal: 308ms\tremaining: 3.55s\n",
      "4:\tlearn: 2188.5734146\ttotal: 382ms\tremaining: 3.44s\n",
      "5:\tlearn: 2107.4060082\ttotal: 454ms\tremaining: 3.33s\n",
      "6:\tlearn: 2067.1153755\ttotal: 525ms\tremaining: 3.22s\n",
      "7:\tlearn: 2039.4055691\ttotal: 587ms\tremaining: 3.08s\n",
      "8:\tlearn: 2020.0143036\ttotal: 655ms\tremaining: 2.98s\n",
      "9:\tlearn: 2002.3262382\ttotal: 718ms\tremaining: 2.87s\n",
      "10:\tlearn: 1983.0799095\ttotal: 783ms\tremaining: 2.77s\n",
      "11:\tlearn: 1970.1653521\ttotal: 856ms\tremaining: 2.71s\n",
      "12:\tlearn: 1955.6706391\ttotal: 917ms\tremaining: 2.61s\n",
      "13:\tlearn: 1948.5178348\ttotal: 984ms\tremaining: 2.53s\n",
      "14:\tlearn: 1938.1408618\ttotal: 1.05s\tremaining: 2.46s\n",
      "15:\tlearn: 1928.6407523\ttotal: 1.12s\tremaining: 2.38s\n",
      "16:\tlearn: 1923.9916295\ttotal: 1.19s\tremaining: 2.3s\n",
      "17:\tlearn: 1914.5910331\ttotal: 1.26s\tremaining: 2.24s\n",
      "18:\tlearn: 1903.5665895\ttotal: 1.32s\tremaining: 2.16s\n",
      "19:\tlearn: 1893.1728394\ttotal: 1.4s\tremaining: 2.1s\n",
      "20:\tlearn: 1886.2703018\ttotal: 1.47s\tremaining: 2.03s\n",
      "21:\tlearn: 1880.3807731\ttotal: 1.54s\tremaining: 1.96s\n",
      "22:\tlearn: 1870.4235597\ttotal: 1.62s\tremaining: 1.9s\n",
      "23:\tlearn: 1866.4528139\ttotal: 1.68s\tremaining: 1.82s\n",
      "24:\tlearn: 1861.0064348\ttotal: 1.77s\tremaining: 1.77s\n",
      "25:\tlearn: 1854.0265015\ttotal: 1.84s\tremaining: 1.7s\n",
      "26:\tlearn: 1850.0419137\ttotal: 1.9s\tremaining: 1.62s\n",
      "27:\tlearn: 1845.2925816\ttotal: 1.97s\tremaining: 1.55s\n",
      "28:\tlearn: 1841.5183366\ttotal: 2.04s\tremaining: 1.48s\n",
      "29:\tlearn: 1839.0063698\ttotal: 2.11s\tremaining: 1.4s\n",
      "30:\tlearn: 1836.7970718\ttotal: 2.17s\tremaining: 1.33s\n",
      "31:\tlearn: 1834.5533998\ttotal: 2.25s\tremaining: 1.26s\n",
      "32:\tlearn: 1831.1432452\ttotal: 2.32s\tremaining: 1.19s\n",
      "33:\tlearn: 1826.7593617\ttotal: 2.38s\tremaining: 1.12s\n",
      "34:\tlearn: 1824.7785015\ttotal: 2.45s\tremaining: 1.05s\n",
      "35:\tlearn: 1820.6530119\ttotal: 2.52s\tremaining: 981ms\n",
      "36:\tlearn: 1817.8792731\ttotal: 2.58s\tremaining: 908ms\n",
      "37:\tlearn: 1815.0192673\ttotal: 2.66s\tremaining: 840ms\n",
      "38:\tlearn: 1810.7846330\ttotal: 2.73s\tremaining: 769ms\n",
      "39:\tlearn: 1807.6188506\ttotal: 2.79s\tremaining: 697ms\n",
      "40:\tlearn: 1804.7181096\ttotal: 2.86s\tremaining: 627ms\n",
      "41:\tlearn: 1802.1345364\ttotal: 2.93s\tremaining: 558ms\n",
      "42:\tlearn: 1798.4653082\ttotal: 3s\tremaining: 488ms\n",
      "43:\tlearn: 1795.7982829\ttotal: 3.06s\tremaining: 418ms\n",
      "44:\tlearn: 1794.4934453\ttotal: 3.13s\tremaining: 348ms\n",
      "45:\tlearn: 1792.7984464\ttotal: 3.2s\tremaining: 278ms\n",
      "46:\tlearn: 1790.9413985\ttotal: 3.26s\tremaining: 208ms\n",
      "47:\tlearn: 1788.1902413\ttotal: 3.34s\tremaining: 139ms\n",
      "48:\tlearn: 1785.3656430\ttotal: 3.41s\tremaining: 69.7ms\n",
      "49:\tlearn: 1782.7502451\ttotal: 3.48s\tremaining: 0us\n",
      "Learning rate set to 0.5\n",
      "0:\tlearn: 3320.6360918\ttotal: 80.7ms\tremaining: 3.95s\n",
      "1:\tlearn: 2717.6445394\ttotal: 168ms\tremaining: 4.03s\n",
      "2:\tlearn: 2431.5666949\ttotal: 242ms\tremaining: 3.78s\n",
      "3:\tlearn: 2279.3927432\ttotal: 311ms\tremaining: 3.57s\n",
      "4:\tlearn: 2193.8790566\ttotal: 380ms\tremaining: 3.42s\n",
      "5:\tlearn: 2124.9499826\ttotal: 455ms\tremaining: 3.34s\n",
      "6:\tlearn: 2086.6258969\ttotal: 527ms\tremaining: 3.24s\n",
      "7:\tlearn: 2059.8332751\ttotal: 589ms\tremaining: 3.09s\n",
      "8:\tlearn: 2045.4846326\ttotal: 657ms\tremaining: 2.99s\n",
      "9:\tlearn: 2022.7159637\ttotal: 725ms\tremaining: 2.9s\n",
      "10:\tlearn: 1999.6777038\ttotal: 785ms\tremaining: 2.78s\n",
      "11:\tlearn: 1980.3991158\ttotal: 856ms\tremaining: 2.71s\n",
      "12:\tlearn: 1965.9114239\ttotal: 925ms\tremaining: 2.63s\n",
      "13:\tlearn: 1957.4163297\ttotal: 988ms\tremaining: 2.54s\n",
      "14:\tlearn: 1949.9467984\ttotal: 1.06s\tremaining: 2.47s\n",
      "15:\tlearn: 1943.1010471\ttotal: 1.13s\tremaining: 2.4s\n",
      "16:\tlearn: 1932.9718259\ttotal: 1.19s\tremaining: 2.31s\n",
      "17:\tlearn: 1927.4883368\ttotal: 1.26s\tremaining: 2.24s\n",
      "18:\tlearn: 1918.9702052\ttotal: 1.33s\tremaining: 2.17s\n",
      "19:\tlearn: 1908.9041303\ttotal: 1.39s\tremaining: 2.09s\n",
      "20:\tlearn: 1900.6064396\ttotal: 1.46s\tremaining: 2.02s\n",
      "21:\tlearn: 1896.2194886\ttotal: 1.54s\tremaining: 1.96s\n",
      "22:\tlearn: 1889.6986251\ttotal: 1.6s\tremaining: 1.88s\n",
      "23:\tlearn: 1883.5784169\ttotal: 1.67s\tremaining: 1.8s\n",
      "24:\tlearn: 1880.1302366\ttotal: 1.74s\tremaining: 1.74s\n",
      "25:\tlearn: 1874.9766235\ttotal: 1.8s\tremaining: 1.66s\n",
      "26:\tlearn: 1867.9491229\ttotal: 1.87s\tremaining: 1.59s\n",
      "27:\tlearn: 1864.8441190\ttotal: 1.94s\tremaining: 1.52s\n",
      "28:\tlearn: 1859.7831928\ttotal: 2s\tremaining: 1.45s\n",
      "29:\tlearn: 1856.0384379\ttotal: 2.07s\tremaining: 1.38s\n",
      "30:\tlearn: 1850.8309942\ttotal: 2.14s\tremaining: 1.31s\n",
      "31:\tlearn: 1847.8664174\ttotal: 2.21s\tremaining: 1.24s\n",
      "32:\tlearn: 1844.0080138\ttotal: 2.27s\tremaining: 1.17s\n",
      "33:\tlearn: 1837.9604451\ttotal: 2.34s\tremaining: 1.1s\n",
      "34:\tlearn: 1835.2955850\ttotal: 2.41s\tremaining: 1.03s\n",
      "35:\tlearn: 1832.4550972\ttotal: 2.47s\tremaining: 961ms\n",
      "36:\tlearn: 1828.9521828\ttotal: 2.55s\tremaining: 896ms\n",
      "37:\tlearn: 1824.6771554\ttotal: 2.61s\tremaining: 826ms\n",
      "38:\tlearn: 1822.8308320\ttotal: 2.68s\tremaining: 755ms\n",
      "39:\tlearn: 1818.2465663\ttotal: 2.75s\tremaining: 687ms\n",
      "40:\tlearn: 1816.5161816\ttotal: 2.82s\tremaining: 618ms\n",
      "41:\tlearn: 1814.6488142\ttotal: 2.88s\tremaining: 549ms\n",
      "42:\tlearn: 1811.4518206\ttotal: 2.95s\tremaining: 481ms\n",
      "43:\tlearn: 1808.6223381\ttotal: 3.02s\tremaining: 412ms\n",
      "44:\tlearn: 1802.4618927\ttotal: 3.08s\tremaining: 343ms\n",
      "45:\tlearn: 1801.6120515\ttotal: 3.15s\tremaining: 274ms\n",
      "46:\tlearn: 1798.7178658\ttotal: 3.22s\tremaining: 206ms\n",
      "47:\tlearn: 1797.7140658\ttotal: 3.28s\tremaining: 137ms\n",
      "48:\tlearn: 1795.1405566\ttotal: 3.35s\tremaining: 68.4ms\n",
      "49:\tlearn: 1792.9048260\ttotal: 3.42s\tremaining: 0us\n",
      "Learning rate set to 0.5\n",
      "0:\tlearn: 3318.8282641\ttotal: 73.3ms\tremaining: 3.59s\n",
      "1:\tlearn: 2741.4084017\ttotal: 161ms\tremaining: 3.86s\n",
      "2:\tlearn: 2439.3097285\ttotal: 239ms\tremaining: 3.74s\n",
      "3:\tlearn: 2288.5697051\ttotal: 309ms\tremaining: 3.55s\n",
      "4:\tlearn: 2184.4177911\ttotal: 379ms\tremaining: 3.41s\n",
      "5:\tlearn: 2132.2256928\ttotal: 452ms\tremaining: 3.31s\n",
      "6:\tlearn: 2082.0768398\ttotal: 522ms\tremaining: 3.21s\n",
      "7:\tlearn: 2059.5188474\ttotal: 601ms\tremaining: 3.16s\n",
      "8:\tlearn: 2025.4392602\ttotal: 671ms\tremaining: 3.06s\n",
      "9:\tlearn: 2008.5718311\ttotal: 735ms\tremaining: 2.94s\n",
      "10:\tlearn: 1994.1013681\ttotal: 806ms\tremaining: 2.86s\n",
      "11:\tlearn: 1981.9798899\ttotal: 876ms\tremaining: 2.77s\n",
      "12:\tlearn: 1969.1802185\ttotal: 948ms\tremaining: 2.7s\n",
      "13:\tlearn: 1958.7408275\ttotal: 1.01s\tremaining: 2.61s\n",
      "14:\tlearn: 1952.3242842\ttotal: 1.09s\tremaining: 2.53s\n",
      "15:\tlearn: 1943.0798026\ttotal: 1.15s\tremaining: 2.45s\n",
      "16:\tlearn: 1934.4955833\ttotal: 1.22s\tremaining: 2.37s\n",
      "17:\tlearn: 1925.4639527\ttotal: 1.29s\tremaining: 2.3s\n",
      "18:\tlearn: 1915.1947525\ttotal: 1.36s\tremaining: 2.21s\n",
      "19:\tlearn: 1907.5246082\ttotal: 1.42s\tremaining: 2.14s\n",
      "20:\tlearn: 1904.0110617\ttotal: 1.5s\tremaining: 2.08s\n",
      "21:\tlearn: 1894.2277972\ttotal: 1.57s\tremaining: 2s\n",
      "22:\tlearn: 1888.3843798\ttotal: 1.64s\tremaining: 1.92s\n",
      "23:\tlearn: 1880.9661696\ttotal: 1.71s\tremaining: 1.85s\n",
      "24:\tlearn: 1877.4716550\ttotal: 1.78s\tremaining: 1.78s\n",
      "25:\tlearn: 1871.9513166\ttotal: 1.84s\tremaining: 1.7s\n",
      "26:\tlearn: 1868.1014246\ttotal: 1.91s\tremaining: 1.63s\n",
      "27:\tlearn: 1862.9232461\ttotal: 1.98s\tremaining: 1.56s\n",
      "28:\tlearn: 1855.6006659\ttotal: 2.04s\tremaining: 1.48s\n",
      "29:\tlearn: 1848.6439274\ttotal: 2.11s\tremaining: 1.41s\n",
      "30:\tlearn: 1843.6937652\ttotal: 2.19s\tremaining: 1.34s\n",
      "31:\tlearn: 1839.0219270\ttotal: 2.25s\tremaining: 1.27s\n",
      "32:\tlearn: 1835.4040801\ttotal: 2.32s\tremaining: 1.19s\n",
      "33:\tlearn: 1832.5677054\ttotal: 2.39s\tremaining: 1.13s\n",
      "34:\tlearn: 1829.6650723\ttotal: 2.46s\tremaining: 1.06s\n",
      "35:\tlearn: 1828.2071203\ttotal: 2.53s\tremaining: 984ms\n",
      "36:\tlearn: 1825.8007833\ttotal: 2.6s\tremaining: 913ms\n",
      "37:\tlearn: 1822.5069737\ttotal: 2.67s\tremaining: 843ms\n",
      "38:\tlearn: 1819.2562460\ttotal: 2.73s\tremaining: 771ms\n",
      "39:\tlearn: 1816.5932953\ttotal: 2.8s\tremaining: 700ms\n",
      "40:\tlearn: 1813.9002691\ttotal: 2.87s\tremaining: 631ms\n",
      "41:\tlearn: 1811.1181283\ttotal: 2.94s\tremaining: 559ms\n",
      "42:\tlearn: 1809.2481219\ttotal: 3s\tremaining: 489ms\n",
      "43:\tlearn: 1807.2962963\ttotal: 3.07s\tremaining: 419ms\n",
      "44:\tlearn: 1804.1174818\ttotal: 3.13s\tremaining: 348ms\n",
      "45:\tlearn: 1800.5577176\ttotal: 3.19s\tremaining: 278ms\n",
      "46:\tlearn: 1797.0674398\ttotal: 3.26s\tremaining: 208ms\n",
      "47:\tlearn: 1794.4084976\ttotal: 3.32s\tremaining: 138ms\n",
      "48:\tlearn: 1792.3540611\ttotal: 3.39s\tremaining: 69.2ms\n",
      "49:\tlearn: 1789.6760285\ttotal: 3.46s\tremaining: 0us\n",
      "Learning rate set to 0.5\n",
      "0:\tlearn: 3216.7729552\ttotal: 113ms\tremaining: 1.02s\n",
      "1:\tlearn: 2599.5387991\ttotal: 225ms\tremaining: 899ms\n",
      "2:\tlearn: 2298.3150314\ttotal: 326ms\tremaining: 761ms\n",
      "3:\tlearn: 2154.6061281\ttotal: 415ms\tremaining: 622ms\n",
      "4:\tlearn: 2060.7857667\ttotal: 508ms\tremaining: 508ms\n",
      "5:\tlearn: 2025.7199321\ttotal: 598ms\tremaining: 399ms\n",
      "6:\tlearn: 1997.8261782\ttotal: 691ms\tremaining: 296ms\n",
      "7:\tlearn: 1969.3351162\ttotal: 784ms\tremaining: 196ms\n",
      "8:\tlearn: 1950.5080211\ttotal: 875ms\tremaining: 97.2ms\n",
      "9:\tlearn: 1929.8520216\ttotal: 964ms\tremaining: 0us\n",
      "Learning rate set to 0.5\n",
      "0:\tlearn: 3186.8897387\ttotal: 115ms\tremaining: 1.04s\n",
      "1:\tlearn: 2603.4741409\ttotal: 222ms\tremaining: 889ms\n",
      "2:\tlearn: 2294.5332494\ttotal: 312ms\tremaining: 729ms\n",
      "3:\tlearn: 2155.6445400\ttotal: 389ms\tremaining: 584ms\n",
      "4:\tlearn: 2072.4222710\ttotal: 470ms\tremaining: 470ms\n",
      "5:\tlearn: 2015.6752162\ttotal: 562ms\tremaining: 374ms\n",
      "6:\tlearn: 1988.1199620\ttotal: 650ms\tremaining: 279ms\n",
      "7:\tlearn: 1967.8220048\ttotal: 739ms\tremaining: 185ms\n",
      "8:\tlearn: 1948.9962124\ttotal: 829ms\tremaining: 92.1ms\n",
      "9:\tlearn: 1929.1184926\ttotal: 917ms\tremaining: 0us\n",
      "Learning rate set to 0.5\n",
      "0:\tlearn: 3186.1892891\ttotal: 94ms\tremaining: 846ms\n",
      "1:\tlearn: 2566.1273397\ttotal: 204ms\tremaining: 817ms\n",
      "2:\tlearn: 2253.1153109\ttotal: 299ms\tremaining: 698ms\n",
      "3:\tlearn: 2111.9543707\ttotal: 384ms\tremaining: 577ms\n",
      "4:\tlearn: 2046.9996901\ttotal: 470ms\tremaining: 470ms\n",
      "5:\tlearn: 1987.6063363\ttotal: 560ms\tremaining: 374ms\n",
      "6:\tlearn: 1958.9606887\ttotal: 652ms\tremaining: 279ms\n",
      "7:\tlearn: 1938.7981368\ttotal: 739ms\tremaining: 185ms\n",
      "8:\tlearn: 1918.3556351\ttotal: 834ms\tremaining: 92.6ms\n",
      "9:\tlearn: 1897.1068111\ttotal: 923ms\tremaining: 0us\n",
      "Learning rate set to 0.5\n",
      "0:\tlearn: 3210.2118710\ttotal: 95.3ms\tremaining: 858ms\n",
      "1:\tlearn: 2589.9251987\ttotal: 195ms\tremaining: 781ms\n",
      "2:\tlearn: 2289.9167105\ttotal: 286ms\tremaining: 668ms\n",
      "3:\tlearn: 2125.6882854\ttotal: 377ms\tremaining: 565ms\n",
      "4:\tlearn: 2043.6743314\ttotal: 467ms\tremaining: 467ms\n",
      "5:\tlearn: 2002.9339249\ttotal: 571ms\tremaining: 381ms\n",
      "6:\tlearn: 1971.4928232\ttotal: 657ms\tremaining: 281ms\n",
      "7:\tlearn: 1947.3654751\ttotal: 747ms\tremaining: 187ms\n",
      "8:\tlearn: 1929.3214089\ttotal: 846ms\tremaining: 93.9ms\n",
      "9:\tlearn: 1907.9355139\ttotal: 934ms\tremaining: 0us\n",
      "Learning rate set to 0.5\n",
      "0:\tlearn: 3174.2362613\ttotal: 104ms\tremaining: 933ms\n",
      "1:\tlearn: 2587.4556465\ttotal: 195ms\tremaining: 781ms\n",
      "2:\tlearn: 2301.7400426\ttotal: 285ms\tremaining: 664ms\n",
      "3:\tlearn: 2164.6889959\ttotal: 377ms\tremaining: 565ms\n",
      "4:\tlearn: 2065.7714694\ttotal: 465ms\tremaining: 465ms\n",
      "5:\tlearn: 2013.0226614\ttotal: 547ms\tremaining: 365ms\n",
      "6:\tlearn: 1986.2207688\ttotal: 631ms\tremaining: 270ms\n",
      "7:\tlearn: 1964.6823217\ttotal: 717ms\tremaining: 179ms\n",
      "8:\tlearn: 1945.6881975\ttotal: 800ms\tremaining: 88.9ms\n",
      "9:\tlearn: 1931.9523584\ttotal: 890ms\tremaining: 0us\n",
      "Learning rate set to 0.5\n",
      "0:\tlearn: 3216.7729552\ttotal: 107ms\tremaining: 2.04s\n",
      "1:\tlearn: 2599.5387991\ttotal: 212ms\tremaining: 1.91s\n",
      "2:\tlearn: 2298.3150314\ttotal: 301ms\tremaining: 1.71s\n",
      "3:\tlearn: 2154.6061281\ttotal: 380ms\tremaining: 1.52s\n",
      "4:\tlearn: 2060.7857667\ttotal: 467ms\tremaining: 1.4s\n",
      "5:\tlearn: 2025.7199321\ttotal: 550ms\tremaining: 1.28s\n",
      "6:\tlearn: 1997.8261782\ttotal: 637ms\tremaining: 1.18s\n",
      "7:\tlearn: 1969.3351162\ttotal: 724ms\tremaining: 1.08s\n",
      "8:\tlearn: 1950.5080211\ttotal: 810ms\tremaining: 991ms\n",
      "9:\tlearn: 1929.8520216\ttotal: 908ms\tremaining: 908ms\n",
      "10:\tlearn: 1911.3075067\ttotal: 993ms\tremaining: 812ms\n",
      "11:\tlearn: 1898.3481582\ttotal: 1.08s\tremaining: 718ms\n",
      "12:\tlearn: 1889.8918153\ttotal: 1.16s\tremaining: 625ms\n",
      "13:\tlearn: 1877.7157015\ttotal: 1.24s\tremaining: 532ms\n",
      "14:\tlearn: 1867.4771913\ttotal: 1.33s\tremaining: 444ms\n",
      "15:\tlearn: 1860.4549539\ttotal: 1.44s\tremaining: 360ms\n",
      "16:\tlearn: 1854.3791000\ttotal: 1.53s\tremaining: 270ms\n",
      "17:\tlearn: 1845.1922853\ttotal: 1.61s\tremaining: 179ms\n",
      "18:\tlearn: 1838.4431913\ttotal: 1.7s\tremaining: 89.3ms\n",
      "19:\tlearn: 1829.7337194\ttotal: 1.78s\tremaining: 0us\n",
      "Learning rate set to 0.5\n",
      "0:\tlearn: 3186.8897387\ttotal: 96.6ms\tremaining: 1.83s\n",
      "1:\tlearn: 2603.4741409\ttotal: 201ms\tremaining: 1.81s\n",
      "2:\tlearn: 2294.5332494\ttotal: 294ms\tremaining: 1.67s\n",
      "3:\tlearn: 2155.6445400\ttotal: 378ms\tremaining: 1.51s\n",
      "4:\tlearn: 2072.4222710\ttotal: 463ms\tremaining: 1.39s\n",
      "5:\tlearn: 2015.6752162\ttotal: 554ms\tremaining: 1.29s\n",
      "6:\tlearn: 1988.1199620\ttotal: 636ms\tremaining: 1.18s\n",
      "7:\tlearn: 1967.8220048\ttotal: 726ms\tremaining: 1.09s\n",
      "8:\tlearn: 1948.9962124\ttotal: 812ms\tremaining: 993ms\n",
      "9:\tlearn: 1929.1184926\ttotal: 894ms\tremaining: 894ms\n",
      "10:\tlearn: 1909.2344311\ttotal: 977ms\tremaining: 799ms\n",
      "11:\tlearn: 1889.9109356\ttotal: 1.07s\tremaining: 711ms\n",
      "12:\tlearn: 1878.1525226\ttotal: 1.17s\tremaining: 629ms\n",
      "13:\tlearn: 1870.1363811\ttotal: 1.25s\tremaining: 537ms\n",
      "14:\tlearn: 1857.1269173\ttotal: 1.34s\tremaining: 446ms\n",
      "15:\tlearn: 1850.6677785\ttotal: 1.43s\tremaining: 357ms\n",
      "16:\tlearn: 1843.9181859\ttotal: 1.51s\tremaining: 267ms\n",
      "17:\tlearn: 1838.2801886\ttotal: 1.59s\tremaining: 177ms\n",
      "18:\tlearn: 1832.8097224\ttotal: 1.68s\tremaining: 88.3ms\n",
      "19:\tlearn: 1828.0941439\ttotal: 1.76s\tremaining: 0us\n",
      "Learning rate set to 0.5\n",
      "0:\tlearn: 3186.1892891\ttotal: 95.6ms\tremaining: 1.82s\n",
      "1:\tlearn: 2566.1273397\ttotal: 199ms\tremaining: 1.79s\n",
      "2:\tlearn: 2253.1153109\ttotal: 290ms\tremaining: 1.64s\n",
      "3:\tlearn: 2111.9543707\ttotal: 375ms\tremaining: 1.5s\n",
      "4:\tlearn: 2046.9996901\ttotal: 457ms\tremaining: 1.37s\n",
      "5:\tlearn: 1987.6063363\ttotal: 538ms\tremaining: 1.25s\n",
      "6:\tlearn: 1958.9606887\ttotal: 628ms\tremaining: 1.17s\n",
      "7:\tlearn: 1938.7981368\ttotal: 710ms\tremaining: 1.06s\n",
      "8:\tlearn: 1918.3556351\ttotal: 798ms\tremaining: 976ms\n",
      "9:\tlearn: 1897.1068111\ttotal: 904ms\tremaining: 904ms\n",
      "10:\tlearn: 1888.9261173\ttotal: 990ms\tremaining: 810ms\n",
      "11:\tlearn: 1874.6971715\ttotal: 1.08s\tremaining: 718ms\n",
      "12:\tlearn: 1869.1090189\ttotal: 1.17s\tremaining: 629ms\n",
      "13:\tlearn: 1855.8284583\ttotal: 1.25s\tremaining: 537ms\n",
      "14:\tlearn: 1847.4874662\ttotal: 1.34s\tremaining: 447ms\n",
      "15:\tlearn: 1842.6544672\ttotal: 1.44s\tremaining: 360ms\n",
      "16:\tlearn: 1836.7925660\ttotal: 1.53s\tremaining: 271ms\n",
      "17:\tlearn: 1832.2739214\ttotal: 1.64s\tremaining: 182ms\n",
      "18:\tlearn: 1825.1885442\ttotal: 1.72s\tremaining: 90.6ms\n",
      "19:\tlearn: 1819.3947255\ttotal: 1.81s\tremaining: 0us\n",
      "Learning rate set to 0.5\n",
      "0:\tlearn: 3210.2118710\ttotal: 95.1ms\tremaining: 1.81s\n",
      "1:\tlearn: 2589.9251987\ttotal: 194ms\tremaining: 1.75s\n",
      "2:\tlearn: 2289.9167105\ttotal: 288ms\tremaining: 1.63s\n",
      "3:\tlearn: 2125.6882854\ttotal: 380ms\tremaining: 1.52s\n",
      "4:\tlearn: 2043.6743314\ttotal: 470ms\tremaining: 1.41s\n",
      "5:\tlearn: 2002.9339249\ttotal: 558ms\tremaining: 1.3s\n",
      "6:\tlearn: 1971.4928232\ttotal: 642ms\tremaining: 1.19s\n",
      "7:\tlearn: 1947.3654751\ttotal: 726ms\tremaining: 1.09s\n",
      "8:\tlearn: 1929.3214089\ttotal: 812ms\tremaining: 992ms\n",
      "9:\tlearn: 1907.9355139\ttotal: 895ms\tremaining: 895ms\n",
      "10:\tlearn: 1890.3110549\ttotal: 980ms\tremaining: 802ms\n",
      "11:\tlearn: 1880.2464200\ttotal: 1.07s\tremaining: 711ms\n",
      "12:\tlearn: 1872.4480905\ttotal: 1.16s\tremaining: 622ms\n",
      "13:\tlearn: 1864.6560212\ttotal: 1.25s\tremaining: 536ms\n",
      "14:\tlearn: 1854.9716299\ttotal: 1.33s\tremaining: 445ms\n",
      "15:\tlearn: 1843.0144147\ttotal: 1.42s\tremaining: 354ms\n",
      "16:\tlearn: 1838.4240647\ttotal: 1.5s\tremaining: 265ms\n",
      "17:\tlearn: 1832.1026018\ttotal: 1.61s\tremaining: 180ms\n",
      "18:\tlearn: 1826.5503633\ttotal: 1.7s\tremaining: 89.6ms\n",
      "19:\tlearn: 1819.0139907\ttotal: 1.79s\tremaining: 0us\n",
      "Learning rate set to 0.5\n",
      "0:\tlearn: 3174.2362613\ttotal: 109ms\tremaining: 2.08s\n",
      "1:\tlearn: 2587.4556465\ttotal: 204ms\tremaining: 1.83s\n",
      "2:\tlearn: 2301.7400426\ttotal: 298ms\tremaining: 1.69s\n",
      "3:\tlearn: 2164.6889959\ttotal: 388ms\tremaining: 1.55s\n",
      "4:\tlearn: 2065.7714694\ttotal: 474ms\tremaining: 1.42s\n",
      "5:\tlearn: 2013.0226614\ttotal: 555ms\tremaining: 1.29s\n",
      "6:\tlearn: 1986.2207688\ttotal: 635ms\tremaining: 1.18s\n",
      "7:\tlearn: 1964.6823217\ttotal: 720ms\tremaining: 1.08s\n",
      "8:\tlearn: 1945.6881975\ttotal: 803ms\tremaining: 981ms\n",
      "9:\tlearn: 1931.9523584\ttotal: 886ms\tremaining: 886ms\n",
      "10:\tlearn: 1915.7837876\ttotal: 973ms\tremaining: 796ms\n",
      "11:\tlearn: 1903.3628912\ttotal: 1.06s\tremaining: 708ms\n",
      "12:\tlearn: 1891.4377404\ttotal: 1.15s\tremaining: 621ms\n",
      "13:\tlearn: 1884.7426901\ttotal: 1.24s\tremaining: 533ms\n",
      "14:\tlearn: 1871.9800908\ttotal: 1.34s\tremaining: 447ms\n",
      "15:\tlearn: 1863.9019915\ttotal: 1.43s\tremaining: 358ms\n",
      "16:\tlearn: 1847.5348894\ttotal: 1.53s\tremaining: 270ms\n",
      "17:\tlearn: 1835.3827258\ttotal: 1.63s\tremaining: 181ms\n",
      "18:\tlearn: 1825.2040190\ttotal: 1.73s\tremaining: 91.1ms\n",
      "19:\tlearn: 1820.4681881\ttotal: 1.84s\tremaining: 0us\n",
      "Learning rate set to 0.5\n",
      "0:\tlearn: 3216.7729552\ttotal: 112ms\tremaining: 3.24s\n",
      "1:\tlearn: 2599.5387991\ttotal: 223ms\tremaining: 3.13s\n",
      "2:\tlearn: 2298.3150314\ttotal: 318ms\tremaining: 2.87s\n",
      "3:\tlearn: 2154.6061281\ttotal: 403ms\tremaining: 2.62s\n",
      "4:\tlearn: 2060.7857667\ttotal: 495ms\tremaining: 2.48s\n",
      "5:\tlearn: 2025.7199321\ttotal: 584ms\tremaining: 2.34s\n",
      "6:\tlearn: 1997.8261782\ttotal: 676ms\tremaining: 2.22s\n",
      "7:\tlearn: 1969.3351162\ttotal: 770ms\tremaining: 2.12s\n",
      "8:\tlearn: 1950.5080211\ttotal: 857ms\tremaining: 2s\n",
      "9:\tlearn: 1929.8520216\ttotal: 941ms\tremaining: 1.88s\n",
      "10:\tlearn: 1911.3075067\ttotal: 1.02s\tremaining: 1.77s\n",
      "11:\tlearn: 1898.3481582\ttotal: 1.1s\tremaining: 1.66s\n",
      "12:\tlearn: 1889.8918153\ttotal: 1.2s\tremaining: 1.57s\n",
      "13:\tlearn: 1877.7157015\ttotal: 1.29s\tremaining: 1.47s\n",
      "14:\tlearn: 1867.4771913\ttotal: 1.39s\tremaining: 1.39s\n",
      "15:\tlearn: 1860.4549539\ttotal: 1.48s\tremaining: 1.29s\n",
      "16:\tlearn: 1854.3791000\ttotal: 1.56s\tremaining: 1.2s\n",
      "17:\tlearn: 1845.1922853\ttotal: 1.65s\tremaining: 1.1s\n",
      "18:\tlearn: 1838.4431913\ttotal: 1.74s\tremaining: 1s\n",
      "19:\tlearn: 1829.7337194\ttotal: 1.81s\tremaining: 908ms\n",
      "20:\tlearn: 1825.6644692\ttotal: 1.9s\tremaining: 815ms\n",
      "21:\tlearn: 1818.2199807\ttotal: 1.99s\tremaining: 724ms\n",
      "22:\tlearn: 1813.4162614\ttotal: 2.08s\tremaining: 634ms\n",
      "23:\tlearn: 1807.0980031\ttotal: 2.18s\tremaining: 544ms\n",
      "24:\tlearn: 1802.6521507\ttotal: 2.27s\tremaining: 454ms\n",
      "25:\tlearn: 1796.3952134\ttotal: 2.36s\tremaining: 363ms\n",
      "26:\tlearn: 1789.9292899\ttotal: 2.45s\tremaining: 272ms\n",
      "27:\tlearn: 1787.7112189\ttotal: 2.54s\tremaining: 181ms\n",
      "28:\tlearn: 1783.9020535\ttotal: 2.62s\tremaining: 90.2ms\n",
      "29:\tlearn: 1779.2549594\ttotal: 2.7s\tremaining: 0us\n",
      "Learning rate set to 0.5\n",
      "0:\tlearn: 3186.8897387\ttotal: 101ms\tremaining: 2.94s\n",
      "1:\tlearn: 2603.4741409\ttotal: 204ms\tremaining: 2.85s\n",
      "2:\tlearn: 2294.5332494\ttotal: 299ms\tremaining: 2.69s\n",
      "3:\tlearn: 2155.6445400\ttotal: 382ms\tremaining: 2.48s\n",
      "4:\tlearn: 2072.4222710\ttotal: 470ms\tremaining: 2.35s\n",
      "5:\tlearn: 2015.6752162\ttotal: 561ms\tremaining: 2.24s\n",
      "6:\tlearn: 1988.1199620\ttotal: 641ms\tremaining: 2.11s\n",
      "7:\tlearn: 1967.8220048\ttotal: 724ms\tremaining: 1.99s\n",
      "8:\tlearn: 1948.9962124\ttotal: 803ms\tremaining: 1.87s\n",
      "9:\tlearn: 1929.1184926\ttotal: 884ms\tremaining: 1.77s\n",
      "10:\tlearn: 1909.2344311\ttotal: 963ms\tremaining: 1.66s\n",
      "11:\tlearn: 1889.9109356\ttotal: 1.04s\tremaining: 1.57s\n",
      "12:\tlearn: 1878.1525226\ttotal: 1.13s\tremaining: 1.48s\n",
      "13:\tlearn: 1870.1363811\ttotal: 1.22s\tremaining: 1.39s\n",
      "14:\tlearn: 1857.1269173\ttotal: 1.3s\tremaining: 1.3s\n",
      "15:\tlearn: 1850.6677785\ttotal: 1.39s\tremaining: 1.21s\n",
      "16:\tlearn: 1843.9181859\ttotal: 1.47s\tremaining: 1.12s\n",
      "17:\tlearn: 1838.2801886\ttotal: 1.55s\tremaining: 1.03s\n",
      "18:\tlearn: 1832.8097224\ttotal: 1.63s\tremaining: 941ms\n",
      "19:\tlearn: 1828.0941439\ttotal: 1.71s\tremaining: 855ms\n",
      "20:\tlearn: 1824.5323213\ttotal: 1.79s\tremaining: 768ms\n",
      "21:\tlearn: 1820.4533131\ttotal: 1.87s\tremaining: 680ms\n",
      "22:\tlearn: 1813.2845397\ttotal: 1.95s\tremaining: 594ms\n",
      "23:\tlearn: 1804.7632738\ttotal: 2.03s\tremaining: 509ms\n",
      "24:\tlearn: 1797.1405269\ttotal: 2.12s\tremaining: 423ms\n",
      "25:\tlearn: 1788.5202190\ttotal: 2.21s\tremaining: 339ms\n",
      "26:\tlearn: 1780.0367326\ttotal: 2.29s\tremaining: 255ms\n",
      "27:\tlearn: 1773.7283164\ttotal: 2.38s\tremaining: 170ms\n",
      "28:\tlearn: 1767.3094514\ttotal: 2.46s\tremaining: 85ms\n",
      "29:\tlearn: 1762.9960237\ttotal: 2.55s\tremaining: 0us\n",
      "Learning rate set to 0.5\n",
      "0:\tlearn: 3186.1892891\ttotal: 93.7ms\tremaining: 2.72s\n",
      "1:\tlearn: 2566.1273397\ttotal: 193ms\tremaining: 2.7s\n",
      "2:\tlearn: 2253.1153109\ttotal: 284ms\tremaining: 2.55s\n",
      "3:\tlearn: 2111.9543707\ttotal: 372ms\tremaining: 2.42s\n",
      "4:\tlearn: 2046.9996901\ttotal: 457ms\tremaining: 2.29s\n",
      "5:\tlearn: 1987.6063363\ttotal: 541ms\tremaining: 2.16s\n",
      "6:\tlearn: 1958.9606887\ttotal: 623ms\tremaining: 2.04s\n",
      "7:\tlearn: 1938.7981368\ttotal: 705ms\tremaining: 1.94s\n",
      "8:\tlearn: 1918.3556351\ttotal: 789ms\tremaining: 1.84s\n",
      "9:\tlearn: 1897.1068111\ttotal: 873ms\tremaining: 1.75s\n",
      "10:\tlearn: 1888.9261173\ttotal: 961ms\tremaining: 1.66s\n",
      "11:\tlearn: 1874.6971715\ttotal: 1.05s\tremaining: 1.57s\n",
      "12:\tlearn: 1869.1090189\ttotal: 1.17s\tremaining: 1.52s\n",
      "13:\tlearn: 1855.8284583\ttotal: 1.25s\tremaining: 1.43s\n",
      "14:\tlearn: 1847.4874662\ttotal: 1.33s\tremaining: 1.33s\n",
      "15:\tlearn: 1842.6544672\ttotal: 1.41s\tremaining: 1.24s\n",
      "16:\tlearn: 1836.7925660\ttotal: 1.5s\tremaining: 1.14s\n",
      "17:\tlearn: 1832.2739214\ttotal: 1.58s\tremaining: 1.06s\n",
      "18:\tlearn: 1825.1885442\ttotal: 1.68s\tremaining: 973ms\n",
      "19:\tlearn: 1819.3947255\ttotal: 1.77s\tremaining: 886ms\n",
      "20:\tlearn: 1815.9842891\ttotal: 1.86s\tremaining: 798ms\n",
      "21:\tlearn: 1803.6642435\ttotal: 1.95s\tremaining: 709ms\n",
      "22:\tlearn: 1797.1955595\ttotal: 2.04s\tremaining: 619ms\n",
      "23:\tlearn: 1789.6702949\ttotal: 2.12s\tremaining: 530ms\n",
      "24:\tlearn: 1785.8398953\ttotal: 2.21s\tremaining: 441ms\n",
      "25:\tlearn: 1780.8462681\ttotal: 2.29s\tremaining: 352ms\n",
      "26:\tlearn: 1775.8902349\ttotal: 2.38s\tremaining: 264ms\n",
      "27:\tlearn: 1771.8922347\ttotal: 2.46s\tremaining: 176ms\n",
      "28:\tlearn: 1767.9543329\ttotal: 2.55s\tremaining: 87.9ms\n",
      "29:\tlearn: 1765.3760874\ttotal: 2.64s\tremaining: 0us\n",
      "Learning rate set to 0.5\n",
      "0:\tlearn: 3210.2118710\ttotal: 94.5ms\tremaining: 2.74s\n",
      "1:\tlearn: 2589.9251987\ttotal: 192ms\tremaining: 2.69s\n",
      "2:\tlearn: 2289.9167105\ttotal: 280ms\tremaining: 2.52s\n",
      "3:\tlearn: 2125.6882854\ttotal: 367ms\tremaining: 2.38s\n",
      "4:\tlearn: 2043.6743314\ttotal: 453ms\tremaining: 2.27s\n",
      "5:\tlearn: 2002.9339249\ttotal: 541ms\tremaining: 2.16s\n",
      "6:\tlearn: 1971.4928232\ttotal: 629ms\tremaining: 2.07s\n",
      "7:\tlearn: 1947.3654751\ttotal: 716ms\tremaining: 1.97s\n",
      "8:\tlearn: 1929.3214089\ttotal: 802ms\tremaining: 1.87s\n",
      "9:\tlearn: 1907.9355139\ttotal: 892ms\tremaining: 1.78s\n",
      "10:\tlearn: 1890.3110549\ttotal: 978ms\tremaining: 1.69s\n",
      "11:\tlearn: 1880.2464200\ttotal: 1.06s\tremaining: 1.59s\n",
      "12:\tlearn: 1872.4480905\ttotal: 1.14s\tremaining: 1.49s\n",
      "13:\tlearn: 1864.6560212\ttotal: 1.23s\tremaining: 1.4s\n",
      "14:\tlearn: 1854.9716299\ttotal: 1.31s\tremaining: 1.31s\n",
      "15:\tlearn: 1843.0144147\ttotal: 1.4s\tremaining: 1.22s\n",
      "16:\tlearn: 1838.4240647\ttotal: 1.49s\tremaining: 1.14s\n",
      "17:\tlearn: 1832.1026018\ttotal: 1.58s\tremaining: 1.05s\n",
      "18:\tlearn: 1826.5503633\ttotal: 1.67s\tremaining: 967ms\n",
      "19:\tlearn: 1819.0139907\ttotal: 1.75s\tremaining: 878ms\n",
      "20:\tlearn: 1811.4870848\ttotal: 1.84s\tremaining: 787ms\n",
      "21:\tlearn: 1804.3394731\ttotal: 1.92s\tremaining: 699ms\n",
      "22:\tlearn: 1796.2023932\ttotal: 2s\tremaining: 611ms\n",
      "23:\tlearn: 1792.6263408\ttotal: 2.09s\tremaining: 523ms\n",
      "24:\tlearn: 1788.9869280\ttotal: 2.18s\tremaining: 436ms\n",
      "25:\tlearn: 1785.3229775\ttotal: 2.26s\tremaining: 348ms\n",
      "26:\tlearn: 1781.0898967\ttotal: 2.34s\tremaining: 261ms\n",
      "27:\tlearn: 1777.1379082\ttotal: 2.43s\tremaining: 174ms\n",
      "28:\tlearn: 1773.9281575\ttotal: 2.51s\tremaining: 86.7ms\n",
      "29:\tlearn: 1770.4610730\ttotal: 2.6s\tremaining: 0us\n",
      "Learning rate set to 0.5\n",
      "0:\tlearn: 3174.2362613\ttotal: 111ms\tremaining: 3.23s\n",
      "1:\tlearn: 2587.4556465\ttotal: 206ms\tremaining: 2.88s\n",
      "2:\tlearn: 2301.7400426\ttotal: 303ms\tremaining: 2.73s\n",
      "3:\tlearn: 2164.6889959\ttotal: 395ms\tremaining: 2.57s\n",
      "4:\tlearn: 2065.7714694\ttotal: 483ms\tremaining: 2.42s\n",
      "5:\tlearn: 2013.0226614\ttotal: 565ms\tremaining: 2.26s\n",
      "6:\tlearn: 1986.2207688\ttotal: 647ms\tremaining: 2.13s\n",
      "7:\tlearn: 1964.6823217\ttotal: 733ms\tremaining: 2.02s\n",
      "8:\tlearn: 1945.6881975\ttotal: 817ms\tremaining: 1.91s\n",
      "9:\tlearn: 1931.9523584\ttotal: 909ms\tremaining: 1.82s\n",
      "10:\tlearn: 1915.7837876\ttotal: 991ms\tremaining: 1.71s\n",
      "11:\tlearn: 1903.3628912\ttotal: 1.07s\tremaining: 1.61s\n",
      "12:\tlearn: 1891.4377404\ttotal: 1.15s\tremaining: 1.5s\n",
      "13:\tlearn: 1884.7426901\ttotal: 1.24s\tremaining: 1.41s\n",
      "14:\tlearn: 1871.9800908\ttotal: 1.32s\tremaining: 1.32s\n",
      "15:\tlearn: 1863.9019915\ttotal: 1.4s\tremaining: 1.22s\n",
      "16:\tlearn: 1847.5348894\ttotal: 1.48s\tremaining: 1.13s\n",
      "17:\tlearn: 1835.3827258\ttotal: 1.56s\tremaining: 1.04s\n",
      "18:\tlearn: 1825.2040190\ttotal: 1.64s\tremaining: 950ms\n",
      "19:\tlearn: 1820.4681881\ttotal: 1.73s\tremaining: 864ms\n",
      "20:\tlearn: 1814.5509317\ttotal: 1.82s\tremaining: 779ms\n",
      "21:\tlearn: 1809.7635038\ttotal: 1.9s\tremaining: 692ms\n",
      "22:\tlearn: 1800.0342386\ttotal: 1.99s\tremaining: 605ms\n",
      "23:\tlearn: 1795.1867758\ttotal: 2.07s\tremaining: 517ms\n",
      "24:\tlearn: 1790.4750109\ttotal: 2.15s\tremaining: 430ms\n",
      "25:\tlearn: 1782.9040434\ttotal: 2.24s\tremaining: 345ms\n",
      "26:\tlearn: 1778.9240725\ttotal: 2.33s\tremaining: 259ms\n",
      "27:\tlearn: 1775.1897810\ttotal: 2.42s\tremaining: 173ms\n",
      "28:\tlearn: 1770.8331549\ttotal: 2.5s\tremaining: 86.3ms\n",
      "29:\tlearn: 1765.7640627\ttotal: 2.58s\tremaining: 0us\n",
      "Learning rate set to 0.5\n",
      "0:\tlearn: 3216.7729552\ttotal: 96.7ms\tremaining: 3.77s\n",
      "1:\tlearn: 2599.5387991\ttotal: 230ms\tremaining: 4.37s\n",
      "2:\tlearn: 2298.3150314\ttotal: 325ms\tremaining: 4s\n",
      "3:\tlearn: 2154.6061281\ttotal: 402ms\tremaining: 3.62s\n",
      "4:\tlearn: 2060.7857667\ttotal: 488ms\tremaining: 3.42s\n",
      "5:\tlearn: 2025.7199321\ttotal: 577ms\tremaining: 3.27s\n",
      "6:\tlearn: 1997.8261782\ttotal: 676ms\tremaining: 3.19s\n",
      "7:\tlearn: 1969.3351162\ttotal: 764ms\tremaining: 3.06s\n",
      "8:\tlearn: 1950.5080211\ttotal: 855ms\tremaining: 2.94s\n",
      "9:\tlearn: 1929.8520216\ttotal: 938ms\tremaining: 2.81s\n",
      "10:\tlearn: 1911.3075067\ttotal: 1.02s\tremaining: 2.68s\n",
      "11:\tlearn: 1898.3481582\ttotal: 1.1s\tremaining: 2.56s\n",
      "12:\tlearn: 1889.8918153\ttotal: 1.18s\tremaining: 2.46s\n",
      "13:\tlearn: 1877.7157015\ttotal: 1.27s\tremaining: 2.36s\n",
      "14:\tlearn: 1867.4771913\ttotal: 1.36s\tremaining: 2.27s\n",
      "15:\tlearn: 1860.4549539\ttotal: 1.45s\tremaining: 2.18s\n",
      "16:\tlearn: 1854.3791000\ttotal: 1.54s\tremaining: 2.08s\n",
      "17:\tlearn: 1845.1922853\ttotal: 1.63s\tremaining: 1.99s\n",
      "18:\tlearn: 1838.4431913\ttotal: 1.72s\tremaining: 1.9s\n",
      "19:\tlearn: 1829.7337194\ttotal: 1.81s\tremaining: 1.81s\n",
      "20:\tlearn: 1825.6644692\ttotal: 1.9s\tremaining: 1.72s\n",
      "21:\tlearn: 1818.2199807\ttotal: 1.99s\tremaining: 1.63s\n",
      "22:\tlearn: 1813.4162614\ttotal: 2.07s\tremaining: 1.53s\n",
      "23:\tlearn: 1807.0980031\ttotal: 2.15s\tremaining: 1.43s\n",
      "24:\tlearn: 1802.6521507\ttotal: 2.23s\tremaining: 1.34s\n",
      "25:\tlearn: 1796.3952134\ttotal: 2.31s\tremaining: 1.24s\n",
      "26:\tlearn: 1789.9292899\ttotal: 2.39s\tremaining: 1.15s\n",
      "27:\tlearn: 1787.7112189\ttotal: 2.47s\tremaining: 1.06s\n",
      "28:\tlearn: 1783.9020535\ttotal: 2.56s\tremaining: 969ms\n",
      "29:\tlearn: 1779.2549594\ttotal: 2.64s\tremaining: 881ms\n",
      "30:\tlearn: 1777.0204027\ttotal: 2.73s\tremaining: 793ms\n",
      "31:\tlearn: 1770.8282074\ttotal: 2.81s\tremaining: 703ms\n",
      "32:\tlearn: 1765.7551641\ttotal: 2.9s\tremaining: 615ms\n",
      "33:\tlearn: 1763.1993523\ttotal: 2.98s\tremaining: 527ms\n",
      "34:\tlearn: 1757.8637763\ttotal: 3.06s\tremaining: 438ms\n",
      "35:\tlearn: 1752.0372633\ttotal: 3.14s\tremaining: 349ms\n",
      "36:\tlearn: 1748.4421668\ttotal: 3.22s\tremaining: 261ms\n",
      "37:\tlearn: 1745.5882684\ttotal: 3.3s\tremaining: 174ms\n",
      "38:\tlearn: 1742.2040613\ttotal: 3.38s\tremaining: 86.8ms\n",
      "39:\tlearn: 1741.2805075\ttotal: 3.46s\tremaining: 0us\n",
      "Learning rate set to 0.5\n",
      "0:\tlearn: 3186.8897387\ttotal: 95ms\tremaining: 3.71s\n",
      "1:\tlearn: 2603.4741409\ttotal: 223ms\tremaining: 4.24s\n",
      "2:\tlearn: 2294.5332494\ttotal: 327ms\tremaining: 4.04s\n",
      "3:\tlearn: 2155.6445400\ttotal: 412ms\tremaining: 3.71s\n",
      "4:\tlearn: 2072.4222710\ttotal: 493ms\tremaining: 3.45s\n",
      "5:\tlearn: 2015.6752162\ttotal: 584ms\tremaining: 3.31s\n",
      "6:\tlearn: 1988.1199620\ttotal: 667ms\tremaining: 3.15s\n",
      "7:\tlearn: 1967.8220048\ttotal: 763ms\tremaining: 3.05s\n",
      "8:\tlearn: 1948.9962124\ttotal: 846ms\tremaining: 2.91s\n",
      "9:\tlearn: 1929.1184926\ttotal: 926ms\tremaining: 2.78s\n",
      "10:\tlearn: 1909.2344311\ttotal: 1.01s\tremaining: 2.67s\n",
      "11:\tlearn: 1889.9109356\ttotal: 1.1s\tremaining: 2.57s\n",
      "12:\tlearn: 1878.1525226\ttotal: 1.19s\tremaining: 2.48s\n",
      "13:\tlearn: 1870.1363811\ttotal: 1.28s\tremaining: 2.37s\n",
      "14:\tlearn: 1857.1269173\ttotal: 1.36s\tremaining: 2.27s\n",
      "15:\tlearn: 1850.6677785\ttotal: 1.46s\tremaining: 2.19s\n",
      "16:\tlearn: 1843.9181859\ttotal: 1.54s\tremaining: 2.09s\n",
      "17:\tlearn: 1838.2801886\ttotal: 1.63s\tremaining: 1.99s\n",
      "18:\tlearn: 1832.8097224\ttotal: 1.71s\tremaining: 1.89s\n",
      "19:\tlearn: 1828.0941439\ttotal: 1.79s\tremaining: 1.79s\n",
      "20:\tlearn: 1824.5323213\ttotal: 1.88s\tremaining: 1.7s\n",
      "21:\tlearn: 1820.4533131\ttotal: 1.97s\tremaining: 1.61s\n",
      "22:\tlearn: 1813.2845397\ttotal: 2.06s\tremaining: 1.52s\n",
      "23:\tlearn: 1804.7632738\ttotal: 2.15s\tremaining: 1.43s\n",
      "24:\tlearn: 1797.1405269\ttotal: 2.23s\tremaining: 1.34s\n",
      "25:\tlearn: 1788.5202190\ttotal: 2.31s\tremaining: 1.25s\n",
      "26:\tlearn: 1780.0367326\ttotal: 2.4s\tremaining: 1.16s\n",
      "27:\tlearn: 1773.7283164\ttotal: 2.49s\tremaining: 1.07s\n",
      "28:\tlearn: 1767.3094514\ttotal: 2.58s\tremaining: 977ms\n",
      "29:\tlearn: 1762.9960237\ttotal: 2.7s\tremaining: 900ms\n",
      "30:\tlearn: 1760.1179843\ttotal: 2.79s\tremaining: 809ms\n",
      "31:\tlearn: 1755.3668953\ttotal: 2.87s\tremaining: 718ms\n",
      "32:\tlearn: 1753.3126083\ttotal: 2.96s\tremaining: 629ms\n",
      "33:\tlearn: 1751.3055678\ttotal: 3.05s\tremaining: 538ms\n",
      "34:\tlearn: 1749.3337164\ttotal: 3.13s\tremaining: 448ms\n",
      "35:\tlearn: 1745.6044216\ttotal: 3.22s\tremaining: 358ms\n",
      "36:\tlearn: 1741.6419676\ttotal: 3.31s\tremaining: 268ms\n",
      "37:\tlearn: 1738.7990483\ttotal: 3.4s\tremaining: 179ms\n",
      "38:\tlearn: 1735.9547593\ttotal: 3.48s\tremaining: 89.3ms\n",
      "39:\tlearn: 1733.3800229\ttotal: 3.57s\tremaining: 0us\n",
      "Learning rate set to 0.5\n",
      "0:\tlearn: 3186.1892891\ttotal: 99.2ms\tremaining: 3.87s\n",
      "1:\tlearn: 2566.1273397\ttotal: 197ms\tremaining: 3.75s\n",
      "2:\tlearn: 2253.1153109\ttotal: 301ms\tremaining: 3.71s\n",
      "3:\tlearn: 2111.9543707\ttotal: 390ms\tremaining: 3.51s\n",
      "4:\tlearn: 2046.9996901\ttotal: 473ms\tremaining: 3.31s\n",
      "5:\tlearn: 1987.6063363\ttotal: 566ms\tremaining: 3.21s\n",
      "6:\tlearn: 1958.9606887\ttotal: 648ms\tremaining: 3.05s\n",
      "7:\tlearn: 1938.7981368\ttotal: 726ms\tremaining: 2.9s\n",
      "8:\tlearn: 1918.3556351\ttotal: 810ms\tremaining: 2.79s\n",
      "9:\tlearn: 1897.1068111\ttotal: 891ms\tremaining: 2.67s\n",
      "10:\tlearn: 1888.9261173\ttotal: 979ms\tremaining: 2.58s\n",
      "11:\tlearn: 1874.6971715\ttotal: 1.07s\tremaining: 2.5s\n",
      "12:\tlearn: 1869.1090189\ttotal: 1.16s\tremaining: 2.4s\n",
      "13:\tlearn: 1855.8284583\ttotal: 1.24s\tremaining: 2.3s\n",
      "14:\tlearn: 1847.4874662\ttotal: 1.33s\tremaining: 2.22s\n",
      "15:\tlearn: 1842.6544672\ttotal: 1.42s\tremaining: 2.13s\n",
      "16:\tlearn: 1836.7925660\ttotal: 1.5s\tremaining: 2.03s\n",
      "17:\tlearn: 1832.2739214\ttotal: 1.59s\tremaining: 1.94s\n",
      "18:\tlearn: 1825.1885442\ttotal: 1.67s\tremaining: 1.85s\n",
      "19:\tlearn: 1819.3947255\ttotal: 1.76s\tremaining: 1.76s\n",
      "20:\tlearn: 1815.9842891\ttotal: 1.85s\tremaining: 1.67s\n",
      "21:\tlearn: 1803.6642435\ttotal: 1.93s\tremaining: 1.58s\n",
      "22:\tlearn: 1797.1955595\ttotal: 2.02s\tremaining: 1.49s\n",
      "23:\tlearn: 1789.6702949\ttotal: 2.1s\tremaining: 1.4s\n",
      "24:\tlearn: 1785.8398953\ttotal: 2.19s\tremaining: 1.32s\n",
      "25:\tlearn: 1780.8462681\ttotal: 2.28s\tremaining: 1.23s\n",
      "26:\tlearn: 1775.8902349\ttotal: 2.37s\tremaining: 1.14s\n",
      "27:\tlearn: 1771.8922347\ttotal: 2.46s\tremaining: 1.05s\n",
      "28:\tlearn: 1767.9543329\ttotal: 2.54s\tremaining: 964ms\n",
      "29:\tlearn: 1765.3760874\ttotal: 2.63s\tremaining: 878ms\n",
      "30:\tlearn: 1761.4503204\ttotal: 2.72s\tremaining: 789ms\n",
      "31:\tlearn: 1754.3777699\ttotal: 2.8s\tremaining: 701ms\n",
      "32:\tlearn: 1751.2521917\ttotal: 2.88s\tremaining: 612ms\n",
      "33:\tlearn: 1748.9184314\ttotal: 2.97s\tremaining: 524ms\n",
      "34:\tlearn: 1744.8333070\ttotal: 3.06s\tremaining: 437ms\n",
      "35:\tlearn: 1739.4448396\ttotal: 3.15s\tremaining: 350ms\n",
      "36:\tlearn: 1736.4109156\ttotal: 3.23s\tremaining: 262ms\n",
      "37:\tlearn: 1732.6895714\ttotal: 3.32s\tremaining: 175ms\n",
      "38:\tlearn: 1728.7161920\ttotal: 3.41s\tremaining: 87.4ms\n",
      "39:\tlearn: 1726.2345289\ttotal: 3.49s\tremaining: 0us\n",
      "Learning rate set to 0.5\n",
      "0:\tlearn: 3210.2118710\ttotal: 97.3ms\tremaining: 3.79s\n",
      "1:\tlearn: 2589.9251987\ttotal: 194ms\tremaining: 3.69s\n",
      "2:\tlearn: 2289.9167105\ttotal: 284ms\tremaining: 3.5s\n",
      "3:\tlearn: 2125.6882854\ttotal: 371ms\tremaining: 3.33s\n",
      "4:\tlearn: 2043.6743314\ttotal: 462ms\tremaining: 3.23s\n",
      "5:\tlearn: 2002.9339249\ttotal: 550ms\tremaining: 3.12s\n",
      "6:\tlearn: 1971.4928232\ttotal: 635ms\tremaining: 2.99s\n",
      "7:\tlearn: 1947.3654751\ttotal: 723ms\tremaining: 2.89s\n",
      "8:\tlearn: 1929.3214089\ttotal: 810ms\tremaining: 2.79s\n",
      "9:\tlearn: 1907.9355139\ttotal: 904ms\tremaining: 2.71s\n",
      "10:\tlearn: 1890.3110549\ttotal: 989ms\tremaining: 2.61s\n",
      "11:\tlearn: 1880.2464200\ttotal: 1.07s\tremaining: 2.5s\n",
      "12:\tlearn: 1872.4480905\ttotal: 1.16s\tremaining: 2.4s\n",
      "13:\tlearn: 1864.6560212\ttotal: 1.25s\tremaining: 2.32s\n",
      "14:\tlearn: 1854.9716299\ttotal: 1.33s\tremaining: 2.22s\n",
      "15:\tlearn: 1843.0144147\ttotal: 1.43s\tremaining: 2.14s\n",
      "16:\tlearn: 1838.4240647\ttotal: 1.52s\tremaining: 2.05s\n",
      "17:\tlearn: 1832.1026018\ttotal: 1.6s\tremaining: 1.96s\n",
      "18:\tlearn: 1826.5503633\ttotal: 1.69s\tremaining: 1.87s\n",
      "19:\tlearn: 1819.0139907\ttotal: 1.78s\tremaining: 1.78s\n",
      "20:\tlearn: 1811.4870848\ttotal: 1.87s\tremaining: 1.69s\n",
      "21:\tlearn: 1804.3394731\ttotal: 1.96s\tremaining: 1.6s\n",
      "22:\tlearn: 1796.2023932\ttotal: 2.04s\tremaining: 1.51s\n",
      "23:\tlearn: 1792.6263408\ttotal: 2.13s\tremaining: 1.42s\n",
      "24:\tlearn: 1788.9869280\ttotal: 2.22s\tremaining: 1.33s\n",
      "25:\tlearn: 1785.3229775\ttotal: 2.31s\tremaining: 1.25s\n",
      "26:\tlearn: 1781.0898967\ttotal: 2.4s\tremaining: 1.16s\n",
      "27:\tlearn: 1777.1379082\ttotal: 2.49s\tremaining: 1.07s\n",
      "28:\tlearn: 1773.9281575\ttotal: 2.57s\tremaining: 976ms\n",
      "29:\tlearn: 1770.4610730\ttotal: 2.66s\tremaining: 886ms\n",
      "30:\tlearn: 1765.3776032\ttotal: 2.75s\tremaining: 799ms\n",
      "31:\tlearn: 1761.0807638\ttotal: 2.84s\tremaining: 709ms\n",
      "32:\tlearn: 1757.3855374\ttotal: 2.92s\tremaining: 619ms\n",
      "33:\tlearn: 1755.3470805\ttotal: 3.01s\tremaining: 532ms\n",
      "34:\tlearn: 1753.6975363\ttotal: 3.09s\tremaining: 442ms\n",
      "35:\tlearn: 1751.0199893\ttotal: 3.18s\tremaining: 353ms\n",
      "36:\tlearn: 1748.0777927\ttotal: 3.26s\tremaining: 264ms\n",
      "37:\tlearn: 1744.8395777\ttotal: 3.34s\tremaining: 176ms\n",
      "38:\tlearn: 1740.9277715\ttotal: 3.43s\tremaining: 87.9ms\n",
      "39:\tlearn: 1737.9900410\ttotal: 3.52s\tremaining: 0us\n",
      "Learning rate set to 0.5\n",
      "0:\tlearn: 3174.2362613\ttotal: 104ms\tremaining: 4.07s\n",
      "1:\tlearn: 2587.4556465\ttotal: 199ms\tremaining: 3.78s\n",
      "2:\tlearn: 2301.7400426\ttotal: 291ms\tremaining: 3.59s\n",
      "3:\tlearn: 2164.6889959\ttotal: 389ms\tremaining: 3.5s\n",
      "4:\tlearn: 2065.7714694\ttotal: 475ms\tremaining: 3.32s\n",
      "5:\tlearn: 2013.0226614\ttotal: 556ms\tremaining: 3.15s\n",
      "6:\tlearn: 1986.2207688\ttotal: 641ms\tremaining: 3.02s\n",
      "7:\tlearn: 1964.6823217\ttotal: 726ms\tremaining: 2.9s\n",
      "8:\tlearn: 1945.6881975\ttotal: 803ms\tremaining: 2.77s\n",
      "9:\tlearn: 1931.9523584\ttotal: 887ms\tremaining: 2.66s\n",
      "10:\tlearn: 1915.7837876\ttotal: 977ms\tremaining: 2.57s\n",
      "11:\tlearn: 1903.3628912\ttotal: 1.08s\tremaining: 2.53s\n",
      "12:\tlearn: 1891.4377404\ttotal: 1.17s\tremaining: 2.43s\n",
      "13:\tlearn: 1884.7426901\ttotal: 1.26s\tremaining: 2.34s\n",
      "14:\tlearn: 1871.9800908\ttotal: 1.34s\tremaining: 2.24s\n",
      "15:\tlearn: 1863.9019915\ttotal: 1.43s\tremaining: 2.15s\n",
      "16:\tlearn: 1847.5348894\ttotal: 1.52s\tremaining: 2.06s\n",
      "17:\tlearn: 1835.3827258\ttotal: 1.61s\tremaining: 1.97s\n",
      "18:\tlearn: 1825.2040190\ttotal: 1.7s\tremaining: 1.88s\n",
      "19:\tlearn: 1820.4681881\ttotal: 1.79s\tremaining: 1.79s\n",
      "20:\tlearn: 1814.5509317\ttotal: 1.88s\tremaining: 1.7s\n",
      "21:\tlearn: 1809.7635038\ttotal: 1.96s\tremaining: 1.61s\n",
      "22:\tlearn: 1800.0342386\ttotal: 2.05s\tremaining: 1.51s\n",
      "23:\tlearn: 1795.1867758\ttotal: 2.13s\tremaining: 1.42s\n",
      "24:\tlearn: 1790.4750109\ttotal: 2.23s\tremaining: 1.33s\n",
      "25:\tlearn: 1782.9040434\ttotal: 2.32s\tremaining: 1.25s\n",
      "26:\tlearn: 1778.9240725\ttotal: 2.4s\tremaining: 1.16s\n",
      "27:\tlearn: 1775.1897810\ttotal: 2.48s\tremaining: 1.06s\n",
      "28:\tlearn: 1770.8331549\ttotal: 2.58s\tremaining: 977ms\n",
      "29:\tlearn: 1765.7640627\ttotal: 2.66s\tremaining: 887ms\n",
      "30:\tlearn: 1761.7558737\ttotal: 2.75s\tremaining: 799ms\n",
      "31:\tlearn: 1759.6717998\ttotal: 2.85s\tremaining: 713ms\n",
      "32:\tlearn: 1756.6154890\ttotal: 2.94s\tremaining: 624ms\n",
      "33:\tlearn: 1751.5126564\ttotal: 3.03s\tremaining: 535ms\n",
      "34:\tlearn: 1748.5151622\ttotal: 3.11s\tremaining: 445ms\n",
      "35:\tlearn: 1746.1918449\ttotal: 3.19s\tremaining: 355ms\n",
      "36:\tlearn: 1742.3429289\ttotal: 3.27s\tremaining: 266ms\n",
      "37:\tlearn: 1740.8228392\ttotal: 3.36s\tremaining: 177ms\n",
      "38:\tlearn: 1738.4623063\ttotal: 3.44s\tremaining: 88.3ms\n",
      "39:\tlearn: 1735.4648794\ttotal: 3.53s\tremaining: 0us\n",
      "Learning rate set to 0.5\n",
      "0:\tlearn: 3216.7729552\ttotal: 96.8ms\tremaining: 4.74s\n",
      "1:\tlearn: 2599.5387991\ttotal: 231ms\tremaining: 5.55s\n",
      "2:\tlearn: 2298.3150314\ttotal: 320ms\tremaining: 5.02s\n",
      "3:\tlearn: 2154.6061281\ttotal: 410ms\tremaining: 4.71s\n",
      "4:\tlearn: 2060.7857667\ttotal: 493ms\tremaining: 4.44s\n",
      "5:\tlearn: 2025.7199321\ttotal: 580ms\tremaining: 4.25s\n",
      "6:\tlearn: 1997.8261782\ttotal: 672ms\tremaining: 4.13s\n",
      "7:\tlearn: 1969.3351162\ttotal: 759ms\tremaining: 3.98s\n",
      "8:\tlearn: 1950.5080211\ttotal: 872ms\tremaining: 3.97s\n",
      "9:\tlearn: 1929.8520216\ttotal: 970ms\tremaining: 3.88s\n",
      "10:\tlearn: 1911.3075067\ttotal: 1.05s\tremaining: 3.73s\n",
      "11:\tlearn: 1898.3481582\ttotal: 1.13s\tremaining: 3.59s\n",
      "12:\tlearn: 1889.8918153\ttotal: 1.22s\tremaining: 3.46s\n",
      "13:\tlearn: 1877.7157015\ttotal: 1.3s\tremaining: 3.34s\n",
      "14:\tlearn: 1867.4771913\ttotal: 1.39s\tremaining: 3.23s\n",
      "15:\tlearn: 1860.4549539\ttotal: 1.47s\tremaining: 3.13s\n",
      "16:\tlearn: 1854.3791000\ttotal: 1.56s\tremaining: 3.03s\n",
      "17:\tlearn: 1845.1922853\ttotal: 1.65s\tremaining: 2.93s\n",
      "18:\tlearn: 1838.4431913\ttotal: 1.73s\tremaining: 2.83s\n",
      "19:\tlearn: 1829.7337194\ttotal: 1.81s\tremaining: 2.72s\n",
      "20:\tlearn: 1825.6644692\ttotal: 1.9s\tremaining: 2.62s\n",
      "21:\tlearn: 1818.2199807\ttotal: 1.99s\tremaining: 2.53s\n",
      "22:\tlearn: 1813.4162614\ttotal: 2.08s\tremaining: 2.44s\n",
      "23:\tlearn: 1807.0980031\ttotal: 2.17s\tremaining: 2.35s\n",
      "24:\tlearn: 1802.6521507\ttotal: 2.25s\tremaining: 2.25s\n",
      "25:\tlearn: 1796.3952134\ttotal: 2.33s\tremaining: 2.15s\n",
      "26:\tlearn: 1789.9292899\ttotal: 2.42s\tremaining: 2.06s\n",
      "27:\tlearn: 1787.7112189\ttotal: 2.5s\tremaining: 1.97s\n",
      "28:\tlearn: 1783.9020535\ttotal: 2.59s\tremaining: 1.87s\n",
      "29:\tlearn: 1779.2549594\ttotal: 2.68s\tremaining: 1.79s\n",
      "30:\tlearn: 1777.0204027\ttotal: 2.77s\tremaining: 1.7s\n",
      "31:\tlearn: 1770.8282074\ttotal: 2.85s\tremaining: 1.6s\n",
      "32:\tlearn: 1765.7551641\ttotal: 2.93s\tremaining: 1.51s\n",
      "33:\tlearn: 1763.1993523\ttotal: 3.02s\tremaining: 1.42s\n",
      "34:\tlearn: 1757.8637763\ttotal: 3.1s\tremaining: 1.33s\n",
      "35:\tlearn: 1752.0372633\ttotal: 3.18s\tremaining: 1.24s\n",
      "36:\tlearn: 1748.4421668\ttotal: 3.26s\tremaining: 1.15s\n",
      "37:\tlearn: 1745.5882684\ttotal: 3.34s\tremaining: 1.05s\n",
      "38:\tlearn: 1742.2040613\ttotal: 3.43s\tremaining: 967ms\n",
      "39:\tlearn: 1741.2805075\ttotal: 3.51s\tremaining: 878ms\n",
      "40:\tlearn: 1737.0765954\ttotal: 3.59s\tremaining: 788ms\n",
      "41:\tlearn: 1733.4330760\ttotal: 3.67s\tremaining: 700ms\n",
      "42:\tlearn: 1731.0181080\ttotal: 3.76s\tremaining: 612ms\n",
      "43:\tlearn: 1728.8764958\ttotal: 3.84s\tremaining: 524ms\n",
      "44:\tlearn: 1725.8251436\ttotal: 3.92s\tremaining: 436ms\n",
      "45:\tlearn: 1723.7583703\ttotal: 4s\tremaining: 348ms\n",
      "46:\tlearn: 1722.6677823\ttotal: 4.09s\tremaining: 261ms\n",
      "47:\tlearn: 1719.7808613\ttotal: 4.17s\tremaining: 174ms\n",
      "48:\tlearn: 1716.8882238\ttotal: 4.25s\tremaining: 86.7ms\n",
      "49:\tlearn: 1715.3059395\ttotal: 4.33s\tremaining: 0us\n",
      "Learning rate set to 0.5\n",
      "0:\tlearn: 3186.8897387\ttotal: 93.4ms\tremaining: 4.58s\n",
      "1:\tlearn: 2603.4741409\ttotal: 203ms\tremaining: 4.86s\n",
      "2:\tlearn: 2294.5332494\ttotal: 299ms\tremaining: 4.68s\n",
      "3:\tlearn: 2155.6445400\ttotal: 380ms\tremaining: 4.37s\n",
      "4:\tlearn: 2072.4222710\ttotal: 462ms\tremaining: 4.16s\n",
      "5:\tlearn: 2015.6752162\ttotal: 553ms\tremaining: 4.05s\n",
      "6:\tlearn: 1988.1199620\ttotal: 640ms\tremaining: 3.93s\n",
      "7:\tlearn: 1967.8220048\ttotal: 726ms\tremaining: 3.81s\n",
      "8:\tlearn: 1948.9962124\ttotal: 815ms\tremaining: 3.71s\n",
      "9:\tlearn: 1929.1184926\ttotal: 900ms\tremaining: 3.6s\n",
      "10:\tlearn: 1909.2344311\ttotal: 984ms\tremaining: 3.49s\n",
      "11:\tlearn: 1889.9109356\ttotal: 1.07s\tremaining: 3.4s\n",
      "12:\tlearn: 1878.1525226\ttotal: 1.2s\tremaining: 3.4s\n",
      "13:\tlearn: 1870.1363811\ttotal: 1.28s\tremaining: 3.29s\n",
      "14:\tlearn: 1857.1269173\ttotal: 1.37s\tremaining: 3.19s\n",
      "15:\tlearn: 1850.6677785\ttotal: 1.46s\tremaining: 3.1s\n",
      "16:\tlearn: 1843.9181859\ttotal: 1.54s\tremaining: 2.99s\n",
      "17:\tlearn: 1838.2801886\ttotal: 1.63s\tremaining: 2.9s\n",
      "18:\tlearn: 1832.8097224\ttotal: 1.71s\tremaining: 2.79s\n",
      "19:\tlearn: 1828.0941439\ttotal: 1.8s\tremaining: 2.7s\n",
      "20:\tlearn: 1824.5323213\ttotal: 1.88s\tremaining: 2.6s\n",
      "21:\tlearn: 1820.4533131\ttotal: 1.96s\tremaining: 2.5s\n",
      "22:\tlearn: 1813.2845397\ttotal: 2.05s\tremaining: 2.4s\n",
      "23:\tlearn: 1804.7632738\ttotal: 2.14s\tremaining: 2.31s\n",
      "24:\tlearn: 1797.1405269\ttotal: 2.22s\tremaining: 2.22s\n",
      "25:\tlearn: 1788.5202190\ttotal: 2.31s\tremaining: 2.14s\n",
      "26:\tlearn: 1780.0367326\ttotal: 2.4s\tremaining: 2.04s\n",
      "27:\tlearn: 1773.7283164\ttotal: 2.48s\tremaining: 1.95s\n",
      "28:\tlearn: 1767.3094514\ttotal: 2.57s\tremaining: 1.86s\n",
      "29:\tlearn: 1762.9960237\ttotal: 2.65s\tremaining: 1.77s\n",
      "30:\tlearn: 1760.1179843\ttotal: 2.74s\tremaining: 1.68s\n",
      "31:\tlearn: 1755.3668953\ttotal: 2.82s\tremaining: 1.59s\n",
      "32:\tlearn: 1753.3126083\ttotal: 2.9s\tremaining: 1.5s\n",
      "33:\tlearn: 1751.3055678\ttotal: 2.99s\tremaining: 1.41s\n",
      "34:\tlearn: 1749.3337164\ttotal: 3.07s\tremaining: 1.32s\n",
      "35:\tlearn: 1745.6044216\ttotal: 3.16s\tremaining: 1.23s\n",
      "36:\tlearn: 1741.6419676\ttotal: 3.25s\tremaining: 1.14s\n",
      "37:\tlearn: 1738.7990483\ttotal: 3.33s\tremaining: 1.05s\n",
      "38:\tlearn: 1735.9547593\ttotal: 3.41s\tremaining: 962ms\n",
      "39:\tlearn: 1733.3800229\ttotal: 3.5s\tremaining: 876ms\n",
      "40:\tlearn: 1732.4664024\ttotal: 3.58s\tremaining: 787ms\n",
      "41:\tlearn: 1729.3796739\ttotal: 3.67s\tremaining: 699ms\n",
      "42:\tlearn: 1726.7340699\ttotal: 3.75s\tremaining: 611ms\n",
      "43:\tlearn: 1724.2848717\ttotal: 3.84s\tremaining: 523ms\n",
      "44:\tlearn: 1722.3642128\ttotal: 3.92s\tremaining: 435ms\n",
      "45:\tlearn: 1720.2737955\ttotal: 4s\tremaining: 348ms\n",
      "46:\tlearn: 1718.1410361\ttotal: 4.1s\tremaining: 262ms\n",
      "47:\tlearn: 1716.8946172\ttotal: 4.18s\tremaining: 174ms\n",
      "48:\tlearn: 1714.4030298\ttotal: 4.26s\tremaining: 87ms\n",
      "49:\tlearn: 1711.4120288\ttotal: 4.34s\tremaining: 0us\n",
      "Learning rate set to 0.5\n",
      "0:\tlearn: 3186.1892891\ttotal: 92.3ms\tremaining: 4.52s\n",
      "1:\tlearn: 2566.1273397\ttotal: 193ms\tremaining: 4.62s\n",
      "2:\tlearn: 2253.1153109\ttotal: 285ms\tremaining: 4.47s\n",
      "3:\tlearn: 2111.9543707\ttotal: 377ms\tremaining: 4.33s\n",
      "4:\tlearn: 2046.9996901\ttotal: 462ms\tremaining: 4.16s\n",
      "5:\tlearn: 1987.6063363\ttotal: 549ms\tremaining: 4.02s\n",
      "6:\tlearn: 1958.9606887\ttotal: 637ms\tremaining: 3.91s\n",
      "7:\tlearn: 1938.7981368\ttotal: 720ms\tremaining: 3.78s\n",
      "8:\tlearn: 1918.3556351\ttotal: 807ms\tremaining: 3.67s\n",
      "9:\tlearn: 1897.1068111\ttotal: 901ms\tremaining: 3.6s\n",
      "10:\tlearn: 1888.9261173\ttotal: 991ms\tremaining: 3.51s\n",
      "11:\tlearn: 1874.6971715\ttotal: 1.08s\tremaining: 3.42s\n",
      "12:\tlearn: 1869.1090189\ttotal: 1.16s\tremaining: 3.31s\n",
      "13:\tlearn: 1855.8284583\ttotal: 1.25s\tremaining: 3.22s\n",
      "14:\tlearn: 1847.4874662\ttotal: 1.34s\tremaining: 3.13s\n",
      "15:\tlearn: 1842.6544672\ttotal: 1.43s\tremaining: 3.04s\n",
      "16:\tlearn: 1836.7925660\ttotal: 1.51s\tremaining: 2.94s\n",
      "17:\tlearn: 1832.2739214\ttotal: 1.6s\tremaining: 2.84s\n",
      "18:\tlearn: 1825.1885442\ttotal: 1.68s\tremaining: 2.75s\n",
      "19:\tlearn: 1819.3947255\ttotal: 1.77s\tremaining: 2.65s\n",
      "20:\tlearn: 1815.9842891\ttotal: 1.85s\tremaining: 2.56s\n",
      "21:\tlearn: 1803.6642435\ttotal: 1.95s\tremaining: 2.48s\n",
      "22:\tlearn: 1797.1955595\ttotal: 2.04s\tremaining: 2.4s\n",
      "23:\tlearn: 1789.6702949\ttotal: 2.13s\tremaining: 2.3s\n",
      "24:\tlearn: 1785.8398953\ttotal: 2.22s\tremaining: 2.22s\n",
      "25:\tlearn: 1780.8462681\ttotal: 2.3s\tremaining: 2.13s\n",
      "26:\tlearn: 1775.8902349\ttotal: 2.39s\tremaining: 2.04s\n",
      "27:\tlearn: 1771.8922347\ttotal: 2.48s\tremaining: 1.95s\n",
      "28:\tlearn: 1767.9543329\ttotal: 2.56s\tremaining: 1.85s\n",
      "29:\tlearn: 1765.3760874\ttotal: 2.65s\tremaining: 1.76s\n",
      "30:\tlearn: 1761.4503204\ttotal: 2.73s\tremaining: 1.67s\n",
      "31:\tlearn: 1754.3777699\ttotal: 2.82s\tremaining: 1.59s\n",
      "32:\tlearn: 1751.2521917\ttotal: 2.9s\tremaining: 1.5s\n",
      "33:\tlearn: 1748.9184314\ttotal: 2.99s\tremaining: 1.41s\n",
      "34:\tlearn: 1744.8333070\ttotal: 3.08s\tremaining: 1.32s\n",
      "35:\tlearn: 1739.4448396\ttotal: 3.17s\tremaining: 1.23s\n",
      "36:\tlearn: 1736.4109156\ttotal: 3.26s\tremaining: 1.14s\n",
      "37:\tlearn: 1732.6895714\ttotal: 3.34s\tremaining: 1.05s\n",
      "38:\tlearn: 1728.7161920\ttotal: 3.43s\tremaining: 967ms\n",
      "39:\tlearn: 1726.2345289\ttotal: 3.52s\tremaining: 879ms\n",
      "40:\tlearn: 1722.8575155\ttotal: 3.6s\tremaining: 790ms\n",
      "41:\tlearn: 1720.3284110\ttotal: 3.69s\tremaining: 702ms\n",
      "42:\tlearn: 1719.0749668\ttotal: 3.78s\tremaining: 615ms\n",
      "43:\tlearn: 1717.0225876\ttotal: 3.86s\tremaining: 527ms\n",
      "44:\tlearn: 1713.6210579\ttotal: 3.96s\tremaining: 440ms\n",
      "45:\tlearn: 1711.3369676\ttotal: 4.04s\tremaining: 351ms\n",
      "46:\tlearn: 1708.8970512\ttotal: 4.13s\tremaining: 263ms\n",
      "47:\tlearn: 1705.5334930\ttotal: 4.21s\tremaining: 176ms\n",
      "48:\tlearn: 1702.2082596\ttotal: 4.3s\tremaining: 87.9ms\n",
      "49:\tlearn: 1698.7816315\ttotal: 4.39s\tremaining: 0us\n",
      "Learning rate set to 0.5\n",
      "0:\tlearn: 3210.2118710\ttotal: 98.4ms\tremaining: 4.82s\n",
      "1:\tlearn: 2589.9251987\ttotal: 199ms\tremaining: 4.77s\n",
      "2:\tlearn: 2289.9167105\ttotal: 288ms\tremaining: 4.52s\n",
      "3:\tlearn: 2125.6882854\ttotal: 382ms\tremaining: 4.39s\n",
      "4:\tlearn: 2043.6743314\ttotal: 472ms\tremaining: 4.25s\n",
      "5:\tlearn: 2002.9339249\ttotal: 561ms\tremaining: 4.11s\n",
      "6:\tlearn: 1971.4928232\ttotal: 654ms\tremaining: 4.01s\n",
      "7:\tlearn: 1947.3654751\ttotal: 738ms\tremaining: 3.88s\n",
      "8:\tlearn: 1929.3214089\ttotal: 825ms\tremaining: 3.76s\n",
      "9:\tlearn: 1907.9355139\ttotal: 912ms\tremaining: 3.65s\n",
      "10:\tlearn: 1890.3110549\ttotal: 994ms\tremaining: 3.52s\n",
      "11:\tlearn: 1880.2464200\ttotal: 1.08s\tremaining: 3.41s\n",
      "12:\tlearn: 1872.4480905\ttotal: 1.16s\tremaining: 3.3s\n",
      "13:\tlearn: 1864.6560212\ttotal: 1.26s\tremaining: 3.25s\n",
      "14:\tlearn: 1854.9716299\ttotal: 1.34s\tremaining: 3.14s\n",
      "15:\tlearn: 1843.0144147\ttotal: 1.43s\tremaining: 3.03s\n",
      "16:\tlearn: 1838.4240647\ttotal: 1.52s\tremaining: 2.95s\n",
      "17:\tlearn: 1832.1026018\ttotal: 1.6s\tremaining: 2.84s\n",
      "18:\tlearn: 1826.5503633\ttotal: 1.7s\tremaining: 2.78s\n",
      "19:\tlearn: 1819.0139907\ttotal: 1.79s\tremaining: 2.69s\n",
      "20:\tlearn: 1811.4870848\ttotal: 1.88s\tremaining: 2.6s\n",
      "21:\tlearn: 1804.3394731\ttotal: 1.97s\tremaining: 2.51s\n",
      "22:\tlearn: 1796.2023932\ttotal: 2.1s\tremaining: 2.46s\n",
      "23:\tlearn: 1792.6263408\ttotal: 2.19s\tremaining: 2.37s\n",
      "24:\tlearn: 1788.9869280\ttotal: 2.27s\tremaining: 2.27s\n",
      "25:\tlearn: 1785.3229775\ttotal: 2.36s\tremaining: 2.18s\n",
      "26:\tlearn: 1781.0898967\ttotal: 2.45s\tremaining: 2.09s\n",
      "27:\tlearn: 1777.1379082\ttotal: 2.54s\tremaining: 2s\n",
      "28:\tlearn: 1773.9281575\ttotal: 2.62s\tremaining: 1.9s\n",
      "29:\tlearn: 1770.4610730\ttotal: 2.7s\tremaining: 1.8s\n",
      "30:\tlearn: 1765.3776032\ttotal: 2.79s\tremaining: 1.71s\n",
      "31:\tlearn: 1761.0807638\ttotal: 2.88s\tremaining: 1.62s\n",
      "32:\tlearn: 1757.3855374\ttotal: 2.96s\tremaining: 1.53s\n",
      "33:\tlearn: 1755.3470805\ttotal: 3.05s\tremaining: 1.43s\n",
      "34:\tlearn: 1753.6975363\ttotal: 3.13s\tremaining: 1.34s\n",
      "35:\tlearn: 1751.0199893\ttotal: 3.21s\tremaining: 1.25s\n",
      "36:\tlearn: 1748.0777927\ttotal: 3.3s\tremaining: 1.16s\n",
      "37:\tlearn: 1744.8395777\ttotal: 3.39s\tremaining: 1.07s\n",
      "38:\tlearn: 1740.9277715\ttotal: 3.48s\tremaining: 982ms\n",
      "39:\tlearn: 1737.9900410\ttotal: 3.56s\tremaining: 891ms\n",
      "40:\tlearn: 1734.7655450\ttotal: 3.65s\tremaining: 800ms\n",
      "41:\tlearn: 1732.6201235\ttotal: 3.74s\tremaining: 712ms\n",
      "42:\tlearn: 1729.4628624\ttotal: 3.82s\tremaining: 622ms\n",
      "43:\tlearn: 1728.2917505\ttotal: 3.91s\tremaining: 534ms\n",
      "44:\tlearn: 1725.8819047\ttotal: 4s\tremaining: 444ms\n",
      "45:\tlearn: 1723.9995721\ttotal: 4.09s\tremaining: 355ms\n",
      "46:\tlearn: 1722.8626103\ttotal: 4.18s\tremaining: 267ms\n",
      "47:\tlearn: 1719.7149041\ttotal: 4.27s\tremaining: 178ms\n",
      "48:\tlearn: 1716.0591976\ttotal: 4.36s\tremaining: 88.9ms\n",
      "49:\tlearn: 1714.1985867\ttotal: 4.44s\tremaining: 0us\n",
      "Learning rate set to 0.5\n",
      "0:\tlearn: 3174.2362613\ttotal: 102ms\tremaining: 5s\n",
      "1:\tlearn: 2587.4556465\ttotal: 199ms\tremaining: 4.79s\n",
      "2:\tlearn: 2301.7400426\ttotal: 290ms\tremaining: 4.55s\n",
      "3:\tlearn: 2164.6889959\ttotal: 375ms\tremaining: 4.32s\n",
      "4:\tlearn: 2065.7714694\ttotal: 455ms\tremaining: 4.1s\n",
      "5:\tlearn: 2013.0226614\ttotal: 533ms\tremaining: 3.91s\n",
      "6:\tlearn: 1986.2207688\ttotal: 611ms\tremaining: 3.75s\n",
      "7:\tlearn: 1964.6823217\ttotal: 692ms\tremaining: 3.63s\n",
      "8:\tlearn: 1945.6881975\ttotal: 788ms\tremaining: 3.59s\n",
      "9:\tlearn: 1931.9523584\ttotal: 911ms\tremaining: 3.64s\n",
      "10:\tlearn: 1915.7837876\ttotal: 991ms\tremaining: 3.51s\n",
      "11:\tlearn: 1903.3628912\ttotal: 1.07s\tremaining: 3.4s\n",
      "12:\tlearn: 1891.4377404\ttotal: 1.16s\tremaining: 3.29s\n",
      "13:\tlearn: 1884.7426901\ttotal: 1.24s\tremaining: 3.19s\n",
      "14:\tlearn: 1871.9800908\ttotal: 1.32s\tremaining: 3.08s\n",
      "15:\tlearn: 1863.9019915\ttotal: 1.4s\tremaining: 2.97s\n",
      "16:\tlearn: 1847.5348894\ttotal: 1.48s\tremaining: 2.87s\n",
      "17:\tlearn: 1835.3827258\ttotal: 1.56s\tremaining: 2.78s\n",
      "18:\tlearn: 1825.2040190\ttotal: 1.65s\tremaining: 2.69s\n",
      "19:\tlearn: 1820.4681881\ttotal: 1.73s\tremaining: 2.6s\n",
      "20:\tlearn: 1814.5509317\ttotal: 1.81s\tremaining: 2.5s\n",
      "21:\tlearn: 1809.7635038\ttotal: 1.9s\tremaining: 2.42s\n",
      "22:\tlearn: 1800.0342386\ttotal: 2s\tremaining: 2.35s\n",
      "23:\tlearn: 1795.1867758\ttotal: 2.1s\tremaining: 2.27s\n",
      "24:\tlearn: 1790.4750109\ttotal: 2.19s\tremaining: 2.19s\n",
      "25:\tlearn: 1782.9040434\ttotal: 2.28s\tremaining: 2.11s\n",
      "26:\tlearn: 1778.9240725\ttotal: 2.36s\tremaining: 2.01s\n",
      "27:\tlearn: 1775.1897810\ttotal: 2.45s\tremaining: 1.92s\n",
      "28:\tlearn: 1770.8331549\ttotal: 2.53s\tremaining: 1.83s\n",
      "29:\tlearn: 1765.7640627\ttotal: 2.62s\tremaining: 1.75s\n",
      "30:\tlearn: 1761.7558737\ttotal: 2.7s\tremaining: 1.66s\n",
      "31:\tlearn: 1759.6717998\ttotal: 2.79s\tremaining: 1.57s\n",
      "32:\tlearn: 1756.6154890\ttotal: 2.87s\tremaining: 1.48s\n",
      "33:\tlearn: 1751.5126564\ttotal: 2.95s\tremaining: 1.39s\n",
      "34:\tlearn: 1748.5151622\ttotal: 3.04s\tremaining: 1.3s\n",
      "35:\tlearn: 1746.1918449\ttotal: 3.12s\tremaining: 1.21s\n",
      "36:\tlearn: 1742.3429289\ttotal: 3.2s\tremaining: 1.13s\n",
      "37:\tlearn: 1740.8228392\ttotal: 3.29s\tremaining: 1.04s\n",
      "38:\tlearn: 1738.4623063\ttotal: 3.38s\tremaining: 952ms\n",
      "39:\tlearn: 1735.4648794\ttotal: 3.46s\tremaining: 866ms\n",
      "40:\tlearn: 1731.3378937\ttotal: 3.55s\tremaining: 779ms\n",
      "41:\tlearn: 1728.2444971\ttotal: 3.64s\tremaining: 693ms\n",
      "42:\tlearn: 1725.3457589\ttotal: 3.72s\tremaining: 606ms\n",
      "43:\tlearn: 1722.8985869\ttotal: 3.81s\tremaining: 519ms\n",
      "44:\tlearn: 1722.8267595\ttotal: 3.89s\tremaining: 432ms\n",
      "45:\tlearn: 1718.4436549\ttotal: 3.97s\tremaining: 345ms\n",
      "46:\tlearn: 1715.5889407\ttotal: 4.06s\tremaining: 259ms\n",
      "47:\tlearn: 1711.9356146\ttotal: 4.15s\tremaining: 173ms\n",
      "48:\tlearn: 1709.4794112\ttotal: 4.24s\tremaining: 86.5ms\n",
      "49:\tlearn: 1707.8389696\ttotal: 4.32s\tremaining: 0us\n",
      "Learning rate set to 0.5\n",
      "0:\tlearn: 3141.7277340\ttotal: 158ms\tremaining: 1.42s\n",
      "1:\tlearn: 2542.8233904\ttotal: 286ms\tremaining: 1.14s\n",
      "2:\tlearn: 2226.6038498\ttotal: 395ms\tremaining: 922ms\n",
      "3:\tlearn: 2073.3354383\ttotal: 508ms\tremaining: 762ms\n",
      "4:\tlearn: 1990.6656349\ttotal: 614ms\tremaining: 614ms\n",
      "5:\tlearn: 1949.4861910\ttotal: 719ms\tremaining: 480ms\n",
      "6:\tlearn: 1923.2818532\ttotal: 827ms\tremaining: 354ms\n",
      "7:\tlearn: 1893.8948657\ttotal: 935ms\tremaining: 234ms\n",
      "8:\tlearn: 1877.4590868\ttotal: 1.04s\tremaining: 116ms\n",
      "9:\tlearn: 1859.0747960\ttotal: 1.16s\tremaining: 0us\n",
      "Learning rate set to 0.5\n",
      "0:\tlearn: 3124.5726784\ttotal: 117ms\tremaining: 1.06s\n",
      "1:\tlearn: 2508.0675871\ttotal: 244ms\tremaining: 975ms\n",
      "2:\tlearn: 2197.4016202\ttotal: 357ms\tremaining: 833ms\n",
      "3:\tlearn: 2067.8828888\ttotal: 462ms\tremaining: 693ms\n",
      "4:\tlearn: 1976.9758607\ttotal: 576ms\tremaining: 576ms\n",
      "5:\tlearn: 1936.5120706\ttotal: 684ms\tremaining: 456ms\n",
      "6:\tlearn: 1907.0569220\ttotal: 788ms\tremaining: 338ms\n",
      "7:\tlearn: 1885.2799572\ttotal: 899ms\tremaining: 225ms\n",
      "8:\tlearn: 1860.8738854\ttotal: 1.01s\tremaining: 112ms\n",
      "9:\tlearn: 1840.7637184\ttotal: 1.12s\tremaining: 0us\n",
      "Learning rate set to 0.5\n",
      "0:\tlearn: 3112.4335447\ttotal: 121ms\tremaining: 1.09s\n",
      "1:\tlearn: 2502.6819379\ttotal: 250ms\tremaining: 999ms\n",
      "2:\tlearn: 2204.1176429\ttotal: 353ms\tremaining: 825ms\n",
      "3:\tlearn: 2071.9045336\ttotal: 462ms\tremaining: 692ms\n",
      "4:\tlearn: 1989.5231040\ttotal: 575ms\tremaining: 575ms\n",
      "5:\tlearn: 1931.3954834\ttotal: 690ms\tremaining: 460ms\n",
      "6:\tlearn: 1902.9870139\ttotal: 801ms\tremaining: 343ms\n",
      "7:\tlearn: 1866.3058116\ttotal: 919ms\tremaining: 230ms\n",
      "8:\tlearn: 1849.9668659\ttotal: 1.03s\tremaining: 114ms\n",
      "9:\tlearn: 1840.4839478\ttotal: 1.15s\tremaining: 0us\n",
      "Learning rate set to 0.5\n",
      "0:\tlearn: 3127.6933735\ttotal: 132ms\tremaining: 1.19s\n",
      "1:\tlearn: 2494.2995152\ttotal: 269ms\tremaining: 1.07s\n",
      "2:\tlearn: 2213.7758609\ttotal: 409ms\tremaining: 954ms\n",
      "3:\tlearn: 2086.0465750\ttotal: 533ms\tremaining: 799ms\n",
      "4:\tlearn: 1998.7252501\ttotal: 640ms\tremaining: 640ms\n",
      "5:\tlearn: 1926.0563639\ttotal: 753ms\tremaining: 502ms\n",
      "6:\tlearn: 1899.1678578\ttotal: 858ms\tremaining: 368ms\n",
      "7:\tlearn: 1879.9571834\ttotal: 968ms\tremaining: 242ms\n",
      "8:\tlearn: 1857.6437116\ttotal: 1.08s\tremaining: 120ms\n",
      "9:\tlearn: 1839.8566091\ttotal: 1.2s\tremaining: 0us\n",
      "Learning rate set to 0.5\n",
      "0:\tlearn: 3121.1397771\ttotal: 127ms\tremaining: 1.14s\n",
      "1:\tlearn: 2510.9265051\ttotal: 248ms\tremaining: 991ms\n",
      "2:\tlearn: 2224.9399502\ttotal: 357ms\tremaining: 833ms\n",
      "3:\tlearn: 2077.9980831\ttotal: 498ms\tremaining: 747ms\n",
      "4:\tlearn: 1978.8277692\ttotal: 614ms\tremaining: 614ms\n",
      "5:\tlearn: 1937.7710977\ttotal: 730ms\tremaining: 486ms\n",
      "6:\tlearn: 1912.4428858\ttotal: 837ms\tremaining: 359ms\n",
      "7:\tlearn: 1888.3214330\ttotal: 949ms\tremaining: 237ms\n",
      "8:\tlearn: 1872.2158991\ttotal: 1.05s\tremaining: 117ms\n",
      "9:\tlearn: 1857.3550584\ttotal: 1.16s\tremaining: 0us\n",
      "Learning rate set to 0.5\n",
      "0:\tlearn: 3141.7277340\ttotal: 126ms\tremaining: 2.39s\n",
      "1:\tlearn: 2542.8233904\ttotal: 258ms\tremaining: 2.32s\n",
      "2:\tlearn: 2226.6038498\ttotal: 378ms\tremaining: 2.14s\n",
      "3:\tlearn: 2073.3354383\ttotal: 498ms\tremaining: 1.99s\n",
      "4:\tlearn: 1990.6656349\ttotal: 610ms\tremaining: 1.83s\n",
      "5:\tlearn: 1949.4861910\ttotal: 721ms\tremaining: 1.68s\n",
      "6:\tlearn: 1923.2818532\ttotal: 832ms\tremaining: 1.54s\n",
      "7:\tlearn: 1893.8948657\ttotal: 949ms\tremaining: 1.42s\n",
      "8:\tlearn: 1877.4590868\ttotal: 1.07s\tremaining: 1.31s\n",
      "9:\tlearn: 1859.0747960\ttotal: 1.19s\tremaining: 1.19s\n",
      "10:\tlearn: 1840.5198290\ttotal: 1.3s\tremaining: 1.07s\n",
      "11:\tlearn: 1826.2080887\ttotal: 1.42s\tremaining: 946ms\n",
      "12:\tlearn: 1812.5463711\ttotal: 1.52s\tremaining: 821ms\n",
      "13:\tlearn: 1804.1311455\ttotal: 1.64s\tremaining: 702ms\n",
      "14:\tlearn: 1797.0627662\ttotal: 1.75s\tremaining: 582ms\n",
      "15:\tlearn: 1788.1063247\ttotal: 1.87s\tremaining: 468ms\n",
      "16:\tlearn: 1781.4911796\ttotal: 1.98s\tremaining: 350ms\n",
      "17:\tlearn: 1770.6710035\ttotal: 2.1s\tremaining: 233ms\n",
      "18:\tlearn: 1767.4880567\ttotal: 2.21s\tremaining: 116ms\n",
      "19:\tlearn: 1756.0671717\ttotal: 2.32s\tremaining: 0us\n",
      "Learning rate set to 0.5\n",
      "0:\tlearn: 3124.5726784\ttotal: 124ms\tremaining: 2.36s\n",
      "1:\tlearn: 2508.0675871\ttotal: 253ms\tremaining: 2.27s\n",
      "2:\tlearn: 2197.4016202\ttotal: 371ms\tremaining: 2.1s\n",
      "3:\tlearn: 2067.8828888\ttotal: 480ms\tremaining: 1.92s\n",
      "4:\tlearn: 1976.9758607\ttotal: 596ms\tremaining: 1.79s\n",
      "5:\tlearn: 1936.5120706\ttotal: 726ms\tremaining: 1.69s\n",
      "6:\tlearn: 1907.0569220\ttotal: 834ms\tremaining: 1.55s\n",
      "7:\tlearn: 1885.2799572\ttotal: 957ms\tremaining: 1.44s\n",
      "8:\tlearn: 1860.8738854\ttotal: 1.09s\tremaining: 1.33s\n",
      "9:\tlearn: 1840.7637184\ttotal: 1.2s\tremaining: 1.2s\n",
      "10:\tlearn: 1826.7040759\ttotal: 1.31s\tremaining: 1.07s\n",
      "11:\tlearn: 1813.9327488\ttotal: 1.43s\tremaining: 954ms\n",
      "12:\tlearn: 1804.9317388\ttotal: 1.56s\tremaining: 839ms\n",
      "13:\tlearn: 1797.6528376\ttotal: 1.67s\tremaining: 716ms\n",
      "14:\tlearn: 1791.5657466\ttotal: 1.79s\tremaining: 596ms\n",
      "15:\tlearn: 1781.0734466\ttotal: 1.9s\tremaining: 476ms\n",
      "16:\tlearn: 1767.9836098\ttotal: 2.01s\tremaining: 355ms\n",
      "17:\tlearn: 1758.7035497\ttotal: 2.13s\tremaining: 236ms\n",
      "18:\tlearn: 1754.6227557\ttotal: 2.23s\tremaining: 118ms\n",
      "19:\tlearn: 1748.4154697\ttotal: 2.35s\tremaining: 0us\n",
      "Learning rate set to 0.5\n",
      "0:\tlearn: 3112.4335447\ttotal: 135ms\tremaining: 2.57s\n",
      "1:\tlearn: 2502.6819379\ttotal: 272ms\tremaining: 2.45s\n",
      "2:\tlearn: 2204.1176429\ttotal: 400ms\tremaining: 2.27s\n",
      "3:\tlearn: 2071.9045336\ttotal: 512ms\tremaining: 2.05s\n",
      "4:\tlearn: 1989.5231040\ttotal: 624ms\tremaining: 1.87s\n",
      "5:\tlearn: 1931.3954834\ttotal: 744ms\tremaining: 1.74s\n",
      "6:\tlearn: 1902.9870139\ttotal: 855ms\tremaining: 1.59s\n",
      "7:\tlearn: 1866.3058116\ttotal: 965ms\tremaining: 1.45s\n",
      "8:\tlearn: 1849.9668659\ttotal: 1.07s\tremaining: 1.31s\n",
      "9:\tlearn: 1840.4839478\ttotal: 1.19s\tremaining: 1.19s\n",
      "10:\tlearn: 1822.8593735\ttotal: 1.32s\tremaining: 1.08s\n",
      "11:\tlearn: 1810.5948364\ttotal: 1.44s\tremaining: 957ms\n",
      "12:\tlearn: 1799.6616143\ttotal: 1.57s\tremaining: 845ms\n",
      "13:\tlearn: 1791.2799039\ttotal: 1.68s\tremaining: 722ms\n",
      "14:\tlearn: 1779.8835640\ttotal: 1.81s\tremaining: 604ms\n",
      "15:\tlearn: 1772.6602783\ttotal: 1.93s\tremaining: 484ms\n",
      "16:\tlearn: 1762.5970563\ttotal: 2.04s\tremaining: 360ms\n",
      "17:\tlearn: 1750.5268190\ttotal: 2.16s\tremaining: 240ms\n",
      "18:\tlearn: 1744.8466606\ttotal: 2.27s\tremaining: 119ms\n",
      "19:\tlearn: 1739.1303982\ttotal: 2.4s\tremaining: 0us\n",
      "Learning rate set to 0.5\n",
      "0:\tlearn: 3127.6933735\ttotal: 118ms\tremaining: 2.25s\n",
      "1:\tlearn: 2494.2995152\ttotal: 246ms\tremaining: 2.21s\n",
      "2:\tlearn: 2213.7758609\ttotal: 361ms\tremaining: 2.05s\n",
      "3:\tlearn: 2086.0465750\ttotal: 473ms\tremaining: 1.89s\n",
      "4:\tlearn: 1998.7252501\ttotal: 584ms\tremaining: 1.75s\n",
      "5:\tlearn: 1926.0563639\ttotal: 697ms\tremaining: 1.63s\n",
      "6:\tlearn: 1899.1678578\ttotal: 802ms\tremaining: 1.49s\n",
      "7:\tlearn: 1879.9571834\ttotal: 909ms\tremaining: 1.36s\n",
      "8:\tlearn: 1857.6437116\ttotal: 1.02s\tremaining: 1.24s\n",
      "9:\tlearn: 1839.8566091\ttotal: 1.13s\tremaining: 1.13s\n",
      "10:\tlearn: 1827.7426791\ttotal: 1.25s\tremaining: 1.02s\n",
      "11:\tlearn: 1815.0763312\ttotal: 1.36s\tremaining: 909ms\n",
      "12:\tlearn: 1806.9611392\ttotal: 1.5s\tremaining: 811ms\n",
      "13:\tlearn: 1797.9479016\ttotal: 1.62s\tremaining: 695ms\n",
      "14:\tlearn: 1786.2367296\ttotal: 1.78s\tremaining: 594ms\n",
      "15:\tlearn: 1773.3539428\ttotal: 1.98s\tremaining: 495ms\n",
      "16:\tlearn: 1769.1666246\ttotal: 2.14s\tremaining: 377ms\n",
      "17:\tlearn: 1758.0128528\ttotal: 2.32s\tremaining: 258ms\n",
      "18:\tlearn: 1750.8832761\ttotal: 2.48s\tremaining: 130ms\n",
      "19:\tlearn: 1744.6229143\ttotal: 2.58s\tremaining: 0us\n",
      "Learning rate set to 0.5\n",
      "0:\tlearn: 3121.1397771\ttotal: 129ms\tremaining: 2.45s\n",
      "1:\tlearn: 2510.9265051\ttotal: 254ms\tremaining: 2.29s\n",
      "2:\tlearn: 2224.9399502\ttotal: 362ms\tremaining: 2.05s\n",
      "3:\tlearn: 2077.9980831\ttotal: 476ms\tremaining: 1.9s\n",
      "4:\tlearn: 1978.8277692\ttotal: 584ms\tremaining: 1.75s\n",
      "5:\tlearn: 1937.7710977\ttotal: 692ms\tremaining: 1.61s\n",
      "6:\tlearn: 1912.4428858\ttotal: 805ms\tremaining: 1.49s\n",
      "7:\tlearn: 1888.3214330\ttotal: 921ms\tremaining: 1.38s\n",
      "8:\tlearn: 1872.2158991\ttotal: 1.03s\tremaining: 1.26s\n",
      "9:\tlearn: 1857.3550584\ttotal: 1.14s\tremaining: 1.14s\n",
      "10:\tlearn: 1838.2229133\ttotal: 1.25s\tremaining: 1.02s\n",
      "11:\tlearn: 1820.9053889\ttotal: 1.36s\tremaining: 908ms\n",
      "12:\tlearn: 1803.9858762\ttotal: 1.48s\tremaining: 795ms\n",
      "13:\tlearn: 1792.0517416\ttotal: 1.6s\tremaining: 684ms\n",
      "14:\tlearn: 1782.6828197\ttotal: 1.71s\tremaining: 570ms\n",
      "15:\tlearn: 1771.4804404\ttotal: 1.82s\tremaining: 455ms\n",
      "16:\tlearn: 1762.8397359\ttotal: 1.93s\tremaining: 340ms\n",
      "17:\tlearn: 1757.6779149\ttotal: 2.05s\tremaining: 227ms\n",
      "18:\tlearn: 1747.0149717\ttotal: 2.15s\tremaining: 113ms\n",
      "19:\tlearn: 1739.6241816\ttotal: 2.27s\tremaining: 0us\n",
      "Learning rate set to 0.5\n",
      "0:\tlearn: 3141.7277340\ttotal: 117ms\tremaining: 3.39s\n",
      "1:\tlearn: 2542.8233904\ttotal: 245ms\tremaining: 3.43s\n",
      "2:\tlearn: 2226.6038498\ttotal: 357ms\tremaining: 3.21s\n",
      "3:\tlearn: 2073.3354383\ttotal: 473ms\tremaining: 3.08s\n",
      "4:\tlearn: 1990.6656349\ttotal: 588ms\tremaining: 2.94s\n",
      "5:\tlearn: 1949.4861910\ttotal: 713ms\tremaining: 2.85s\n",
      "6:\tlearn: 1923.2818532\ttotal: 822ms\tremaining: 2.7s\n",
      "7:\tlearn: 1893.8948657\ttotal: 946ms\tremaining: 2.6s\n",
      "8:\tlearn: 1877.4590868\ttotal: 1.06s\tremaining: 2.47s\n",
      "9:\tlearn: 1859.0747960\ttotal: 1.18s\tremaining: 2.35s\n",
      "10:\tlearn: 1840.5198290\ttotal: 1.29s\tremaining: 2.23s\n",
      "11:\tlearn: 1826.2080887\ttotal: 1.4s\tremaining: 2.11s\n",
      "12:\tlearn: 1812.5463711\ttotal: 1.51s\tremaining: 1.98s\n",
      "13:\tlearn: 1804.1311455\ttotal: 1.63s\tremaining: 1.86s\n",
      "14:\tlearn: 1797.0627662\ttotal: 1.76s\tremaining: 1.76s\n",
      "15:\tlearn: 1788.1063247\ttotal: 1.9s\tremaining: 1.66s\n",
      "16:\tlearn: 1781.4911796\ttotal: 2s\tremaining: 1.53s\n",
      "17:\tlearn: 1770.6710035\ttotal: 2.12s\tremaining: 1.41s\n",
      "18:\tlearn: 1767.4880567\ttotal: 2.23s\tremaining: 1.29s\n",
      "19:\tlearn: 1756.0671717\ttotal: 2.35s\tremaining: 1.18s\n",
      "20:\tlearn: 1747.9293312\ttotal: 2.49s\tremaining: 1.07s\n",
      "21:\tlearn: 1737.7718408\ttotal: 2.6s\tremaining: 944ms\n",
      "22:\tlearn: 1732.5037131\ttotal: 2.71s\tremaining: 825ms\n",
      "23:\tlearn: 1727.3836631\ttotal: 2.83s\tremaining: 706ms\n",
      "24:\tlearn: 1722.6373522\ttotal: 2.93s\tremaining: 587ms\n",
      "25:\tlearn: 1718.0708037\ttotal: 3.05s\tremaining: 469ms\n",
      "26:\tlearn: 1708.5678307\ttotal: 3.16s\tremaining: 351ms\n",
      "27:\tlearn: 1705.7240395\ttotal: 3.27s\tremaining: 233ms\n",
      "28:\tlearn: 1702.7344281\ttotal: 3.38s\tremaining: 116ms\n",
      "29:\tlearn: 1696.5798059\ttotal: 3.49s\tremaining: 0us\n",
      "Learning rate set to 0.5\n",
      "0:\tlearn: 3124.5726784\ttotal: 141ms\tremaining: 4.08s\n",
      "1:\tlearn: 2508.0675871\ttotal: 301ms\tremaining: 4.21s\n",
      "2:\tlearn: 2197.4016202\ttotal: 412ms\tremaining: 3.71s\n",
      "3:\tlearn: 2067.8828888\ttotal: 519ms\tremaining: 3.38s\n",
      "4:\tlearn: 1976.9758607\ttotal: 644ms\tremaining: 3.22s\n",
      "5:\tlearn: 1936.5120706\ttotal: 768ms\tremaining: 3.07s\n",
      "6:\tlearn: 1907.0569220\ttotal: 874ms\tremaining: 2.87s\n",
      "7:\tlearn: 1885.2799572\ttotal: 1.01s\tremaining: 2.78s\n",
      "8:\tlearn: 1860.8738854\ttotal: 1.12s\tremaining: 2.6s\n",
      "9:\tlearn: 1840.7637184\ttotal: 1.23s\tremaining: 2.46s\n",
      "10:\tlearn: 1826.7040759\ttotal: 1.34s\tremaining: 2.31s\n",
      "11:\tlearn: 1813.9327488\ttotal: 1.45s\tremaining: 2.17s\n",
      "12:\tlearn: 1804.9317388\ttotal: 1.55s\tremaining: 2.03s\n",
      "13:\tlearn: 1797.6528376\ttotal: 1.67s\tremaining: 1.91s\n",
      "14:\tlearn: 1791.5657466\ttotal: 1.78s\tremaining: 1.78s\n",
      "15:\tlearn: 1781.0734466\ttotal: 1.89s\tremaining: 1.65s\n",
      "16:\tlearn: 1767.9836098\ttotal: 2s\tremaining: 1.52s\n",
      "17:\tlearn: 1758.7035497\ttotal: 2.1s\tremaining: 1.4s\n",
      "18:\tlearn: 1754.6227557\ttotal: 2.21s\tremaining: 1.28s\n",
      "19:\tlearn: 1748.4154697\ttotal: 2.37s\tremaining: 1.18s\n",
      "20:\tlearn: 1741.0193669\ttotal: 2.47s\tremaining: 1.06s\n",
      "21:\tlearn: 1734.3092218\ttotal: 2.59s\tremaining: 942ms\n",
      "22:\tlearn: 1730.4823484\ttotal: 2.71s\tremaining: 823ms\n",
      "23:\tlearn: 1726.9239049\ttotal: 2.82s\tremaining: 705ms\n",
      "24:\tlearn: 1720.5254024\ttotal: 2.94s\tremaining: 588ms\n",
      "25:\tlearn: 1717.1887747\ttotal: 3.1s\tremaining: 477ms\n",
      "26:\tlearn: 1714.2341426\ttotal: 3.21s\tremaining: 357ms\n",
      "27:\tlearn: 1710.0617813\ttotal: 3.34s\tremaining: 238ms\n",
      "28:\tlearn: 1703.1075013\ttotal: 3.46s\tremaining: 119ms\n",
      "29:\tlearn: 1697.3535698\ttotal: 3.58s\tremaining: 0us\n",
      "Learning rate set to 0.5\n",
      "0:\tlearn: 3112.4335447\ttotal: 131ms\tremaining: 3.81s\n",
      "1:\tlearn: 2502.6819379\ttotal: 260ms\tremaining: 3.65s\n",
      "2:\tlearn: 2204.1176429\ttotal: 370ms\tremaining: 3.33s\n",
      "3:\tlearn: 2071.9045336\ttotal: 482ms\tremaining: 3.13s\n",
      "4:\tlearn: 1989.5231040\ttotal: 600ms\tremaining: 3s\n",
      "5:\tlearn: 1931.3954834\ttotal: 717ms\tremaining: 2.87s\n",
      "6:\tlearn: 1902.9870139\ttotal: 830ms\tremaining: 2.73s\n",
      "7:\tlearn: 1866.3058116\ttotal: 945ms\tremaining: 2.6s\n",
      "8:\tlearn: 1849.9668659\ttotal: 1.05s\tremaining: 2.46s\n",
      "9:\tlearn: 1840.4839478\ttotal: 1.17s\tremaining: 2.34s\n",
      "10:\tlearn: 1822.8593735\ttotal: 1.28s\tremaining: 2.21s\n",
      "11:\tlearn: 1810.5948364\ttotal: 1.41s\tremaining: 2.11s\n",
      "12:\tlearn: 1799.6616143\ttotal: 1.51s\tremaining: 1.98s\n",
      "13:\tlearn: 1791.2799039\ttotal: 1.62s\tremaining: 1.86s\n",
      "14:\tlearn: 1779.8835640\ttotal: 1.74s\tremaining: 1.74s\n",
      "15:\tlearn: 1772.6602783\ttotal: 1.85s\tremaining: 1.62s\n",
      "16:\tlearn: 1762.5970563\ttotal: 1.97s\tremaining: 1.51s\n",
      "17:\tlearn: 1750.5268190\ttotal: 2.14s\tremaining: 1.42s\n",
      "18:\tlearn: 1744.8466606\ttotal: 2.25s\tremaining: 1.3s\n",
      "19:\tlearn: 1739.1303982\ttotal: 2.36s\tremaining: 1.18s\n",
      "20:\tlearn: 1734.8949817\ttotal: 2.48s\tremaining: 1.06s\n",
      "21:\tlearn: 1725.3538851\ttotal: 2.6s\tremaining: 944ms\n",
      "22:\tlearn: 1719.9529991\ttotal: 2.72s\tremaining: 828ms\n",
      "23:\tlearn: 1716.4153483\ttotal: 2.83s\tremaining: 707ms\n",
      "24:\tlearn: 1713.7738383\ttotal: 2.94s\tremaining: 588ms\n",
      "25:\tlearn: 1709.1983869\ttotal: 3.05s\tremaining: 470ms\n",
      "26:\tlearn: 1703.8312506\ttotal: 3.16s\tremaining: 351ms\n",
      "27:\tlearn: 1697.2330587\ttotal: 3.28s\tremaining: 234ms\n",
      "28:\tlearn: 1691.6682750\ttotal: 3.38s\tremaining: 117ms\n",
      "29:\tlearn: 1687.2765784\ttotal: 3.5s\tremaining: 0us\n",
      "Learning rate set to 0.5\n",
      "0:\tlearn: 3127.6933735\ttotal: 191ms\tremaining: 5.55s\n",
      "1:\tlearn: 2494.2995152\ttotal: 322ms\tremaining: 4.51s\n",
      "2:\tlearn: 2213.7758609\ttotal: 443ms\tremaining: 3.98s\n",
      "3:\tlearn: 2086.0465750\ttotal: 557ms\tremaining: 3.62s\n",
      "4:\tlearn: 1998.7252501\ttotal: 660ms\tremaining: 3.3s\n",
      "5:\tlearn: 1926.0563639\ttotal: 775ms\tremaining: 3.1s\n",
      "6:\tlearn: 1899.1678578\ttotal: 889ms\tremaining: 2.92s\n",
      "7:\tlearn: 1879.9571834\ttotal: 1s\tremaining: 2.76s\n",
      "8:\tlearn: 1857.6437116\ttotal: 1.12s\tremaining: 2.62s\n",
      "9:\tlearn: 1839.8566091\ttotal: 1.24s\tremaining: 2.48s\n",
      "10:\tlearn: 1827.7426791\ttotal: 1.38s\tremaining: 2.38s\n",
      "11:\tlearn: 1815.0763312\ttotal: 1.49s\tremaining: 2.24s\n",
      "12:\tlearn: 1806.9611392\ttotal: 1.61s\tremaining: 2.1s\n",
      "13:\tlearn: 1797.9479016\ttotal: 1.72s\tremaining: 1.97s\n",
      "14:\tlearn: 1786.2367296\ttotal: 1.83s\tremaining: 1.83s\n",
      "15:\tlearn: 1773.3539428\ttotal: 1.95s\tremaining: 1.7s\n",
      "16:\tlearn: 1769.1666246\ttotal: 2.05s\tremaining: 1.57s\n",
      "17:\tlearn: 1758.0128528\ttotal: 2.17s\tremaining: 1.45s\n",
      "18:\tlearn: 1750.8832761\ttotal: 2.29s\tremaining: 1.33s\n",
      "19:\tlearn: 1744.6229143\ttotal: 2.41s\tremaining: 1.21s\n",
      "20:\tlearn: 1742.0806397\ttotal: 2.53s\tremaining: 1.09s\n",
      "21:\tlearn: 1734.6169851\ttotal: 2.65s\tremaining: 963ms\n",
      "22:\tlearn: 1728.3603676\ttotal: 2.76s\tremaining: 840ms\n",
      "23:\tlearn: 1720.7536174\ttotal: 2.88s\tremaining: 721ms\n",
      "24:\tlearn: 1718.2552273\ttotal: 3s\tremaining: 600ms\n",
      "25:\tlearn: 1713.6834197\ttotal: 3.11s\tremaining: 478ms\n",
      "26:\tlearn: 1710.2382883\ttotal: 3.23s\tremaining: 359ms\n",
      "27:\tlearn: 1702.8586576\ttotal: 3.35s\tremaining: 239ms\n",
      "28:\tlearn: 1700.0390585\ttotal: 3.46s\tremaining: 119ms\n",
      "29:\tlearn: 1693.5024897\ttotal: 3.58s\tremaining: 0us\n",
      "Learning rate set to 0.5\n",
      "0:\tlearn: 3121.1397771\ttotal: 125ms\tremaining: 3.62s\n",
      "1:\tlearn: 2510.9265051\ttotal: 350ms\tremaining: 4.9s\n",
      "2:\tlearn: 2224.9399502\ttotal: 559ms\tremaining: 5.03s\n",
      "3:\tlearn: 2077.9980831\ttotal: 743ms\tremaining: 4.83s\n",
      "4:\tlearn: 1978.8277692\ttotal: 862ms\tremaining: 4.31s\n",
      "5:\tlearn: 1937.7710977\ttotal: 976ms\tremaining: 3.9s\n",
      "6:\tlearn: 1912.4428858\ttotal: 1.09s\tremaining: 3.57s\n",
      "7:\tlearn: 1888.3214330\ttotal: 1.2s\tremaining: 3.29s\n",
      "8:\tlearn: 1872.2158991\ttotal: 1.32s\tremaining: 3.08s\n",
      "9:\tlearn: 1857.3550584\ttotal: 1.46s\tremaining: 2.91s\n",
      "10:\tlearn: 1838.2229133\ttotal: 1.63s\tremaining: 2.81s\n",
      "11:\tlearn: 1820.9053889\ttotal: 1.78s\tremaining: 2.67s\n",
      "12:\tlearn: 1803.9858762\ttotal: 1.94s\tremaining: 2.53s\n",
      "13:\tlearn: 1792.0517416\ttotal: 2.05s\tremaining: 2.34s\n",
      "14:\tlearn: 1782.6828197\ttotal: 2.16s\tremaining: 2.16s\n",
      "15:\tlearn: 1771.4804404\ttotal: 2.31s\tremaining: 2.02s\n",
      "16:\tlearn: 1762.8397359\ttotal: 2.45s\tremaining: 1.87s\n",
      "17:\tlearn: 1757.6779149\ttotal: 2.58s\tremaining: 1.72s\n",
      "18:\tlearn: 1747.0149717\ttotal: 2.69s\tremaining: 1.56s\n",
      "19:\tlearn: 1739.6241816\ttotal: 2.8s\tremaining: 1.4s\n",
      "20:\tlearn: 1736.8329061\ttotal: 2.92s\tremaining: 1.25s\n",
      "21:\tlearn: 1730.9750965\ttotal: 3.03s\tremaining: 1.1s\n",
      "22:\tlearn: 1727.3501757\ttotal: 3.14s\tremaining: 955ms\n",
      "23:\tlearn: 1721.2938129\ttotal: 3.3s\tremaining: 825ms\n",
      "24:\tlearn: 1715.7205292\ttotal: 3.47s\tremaining: 694ms\n",
      "25:\tlearn: 1712.2837473\ttotal: 3.59s\tremaining: 552ms\n",
      "26:\tlearn: 1708.3280520\ttotal: 3.77s\tremaining: 419ms\n",
      "27:\tlearn: 1702.0613964\ttotal: 3.91s\tremaining: 279ms\n",
      "28:\tlearn: 1697.8439738\ttotal: 4.02s\tremaining: 139ms\n",
      "29:\tlearn: 1688.2641452\ttotal: 4.15s\tremaining: 0us\n",
      "Learning rate set to 0.5\n",
      "0:\tlearn: 3141.7277340\ttotal: 120ms\tremaining: 4.68s\n",
      "1:\tlearn: 2542.8233904\ttotal: 246ms\tremaining: 4.66s\n",
      "2:\tlearn: 2226.6038498\ttotal: 361ms\tremaining: 4.45s\n",
      "3:\tlearn: 2073.3354383\ttotal: 477ms\tremaining: 4.29s\n",
      "4:\tlearn: 1990.6656349\ttotal: 594ms\tremaining: 4.16s\n",
      "5:\tlearn: 1949.4861910\ttotal: 708ms\tremaining: 4.01s\n",
      "6:\tlearn: 1923.2818532\ttotal: 822ms\tremaining: 3.88s\n",
      "7:\tlearn: 1893.8948657\ttotal: 932ms\tremaining: 3.73s\n",
      "8:\tlearn: 1877.4590868\ttotal: 1.04s\tremaining: 3.57s\n",
      "9:\tlearn: 1859.0747960\ttotal: 1.15s\tremaining: 3.45s\n",
      "10:\tlearn: 1840.5198290\ttotal: 1.25s\tremaining: 3.3s\n",
      "11:\tlearn: 1826.2080887\ttotal: 1.36s\tremaining: 3.17s\n",
      "12:\tlearn: 1812.5463711\ttotal: 1.47s\tremaining: 3.06s\n",
      "13:\tlearn: 1804.1311455\ttotal: 1.58s\tremaining: 2.94s\n",
      "14:\tlearn: 1797.0627662\ttotal: 1.69s\tremaining: 2.81s\n",
      "15:\tlearn: 1788.1063247\ttotal: 1.8s\tremaining: 2.7s\n",
      "16:\tlearn: 1781.4911796\ttotal: 1.93s\tremaining: 2.61s\n",
      "17:\tlearn: 1770.6710035\ttotal: 2.12s\tremaining: 2.6s\n",
      "18:\tlearn: 1767.4880567\ttotal: 2.26s\tremaining: 2.5s\n",
      "19:\tlearn: 1756.0671717\ttotal: 2.42s\tremaining: 2.42s\n",
      "20:\tlearn: 1747.9293312\ttotal: 2.53s\tremaining: 2.29s\n",
      "21:\tlearn: 1737.7718408\ttotal: 2.65s\tremaining: 2.17s\n",
      "22:\tlearn: 1732.5037131\ttotal: 2.77s\tremaining: 2.04s\n",
      "23:\tlearn: 1727.3836631\ttotal: 2.88s\tremaining: 1.92s\n",
      "24:\tlearn: 1722.6373522\ttotal: 2.99s\tremaining: 1.79s\n",
      "25:\tlearn: 1718.0708037\ttotal: 3.11s\tremaining: 1.67s\n",
      "26:\tlearn: 1708.5678307\ttotal: 3.22s\tremaining: 1.55s\n",
      "27:\tlearn: 1705.7240395\ttotal: 3.38s\tremaining: 1.45s\n",
      "28:\tlearn: 1702.7344281\ttotal: 3.49s\tremaining: 1.32s\n",
      "29:\tlearn: 1696.5798059\ttotal: 3.6s\tremaining: 1.2s\n",
      "30:\tlearn: 1693.3367888\ttotal: 3.72s\tremaining: 1.08s\n",
      "31:\tlearn: 1688.3028857\ttotal: 3.84s\tremaining: 960ms\n",
      "32:\tlearn: 1685.3186169\ttotal: 3.95s\tremaining: 837ms\n",
      "33:\tlearn: 1678.0927304\ttotal: 4.06s\tremaining: 716ms\n",
      "34:\tlearn: 1675.8652471\ttotal: 4.17s\tremaining: 595ms\n",
      "35:\tlearn: 1672.1813823\ttotal: 4.29s\tremaining: 477ms\n",
      "36:\tlearn: 1669.7310354\ttotal: 4.4s\tremaining: 357ms\n",
      "37:\tlearn: 1664.8064329\ttotal: 4.52s\tremaining: 238ms\n",
      "38:\tlearn: 1661.8026537\ttotal: 4.62s\tremaining: 119ms\n",
      "39:\tlearn: 1658.2091602\ttotal: 4.74s\tremaining: 0us\n",
      "Learning rate set to 0.5\n",
      "0:\tlearn: 3124.5726784\ttotal: 135ms\tremaining: 5.28s\n",
      "1:\tlearn: 2508.0675871\ttotal: 265ms\tremaining: 5.04s\n",
      "2:\tlearn: 2197.4016202\ttotal: 376ms\tremaining: 4.63s\n",
      "3:\tlearn: 2067.8828888\ttotal: 481ms\tremaining: 4.33s\n",
      "4:\tlearn: 1976.9758607\ttotal: 597ms\tremaining: 4.18s\n",
      "5:\tlearn: 1936.5120706\ttotal: 734ms\tremaining: 4.16s\n",
      "6:\tlearn: 1907.0569220\ttotal: 884ms\tremaining: 4.17s\n",
      "7:\tlearn: 1885.2799572\ttotal: 1.03s\tremaining: 4.12s\n",
      "8:\tlearn: 1860.8738854\ttotal: 1.14s\tremaining: 3.93s\n",
      "9:\tlearn: 1840.7637184\ttotal: 1.25s\tremaining: 3.76s\n",
      "10:\tlearn: 1826.7040759\ttotal: 1.36s\tremaining: 3.58s\n",
      "11:\tlearn: 1813.9327488\ttotal: 1.48s\tremaining: 3.45s\n",
      "12:\tlearn: 1804.9317388\ttotal: 1.6s\tremaining: 3.32s\n",
      "13:\tlearn: 1797.6528376\ttotal: 1.72s\tremaining: 3.19s\n",
      "14:\tlearn: 1791.5657466\ttotal: 1.83s\tremaining: 3.06s\n",
      "15:\tlearn: 1781.0734466\ttotal: 1.95s\tremaining: 2.93s\n",
      "16:\tlearn: 1767.9836098\ttotal: 2.06s\tremaining: 2.79s\n",
      "17:\tlearn: 1758.7035497\ttotal: 2.18s\tremaining: 2.66s\n",
      "18:\tlearn: 1754.6227557\ttotal: 2.29s\tremaining: 2.53s\n",
      "19:\tlearn: 1748.4154697\ttotal: 2.41s\tremaining: 2.41s\n",
      "20:\tlearn: 1741.0193669\ttotal: 2.53s\tremaining: 2.29s\n",
      "21:\tlearn: 1734.3092218\ttotal: 2.64s\tremaining: 2.16s\n",
      "22:\tlearn: 1730.4823484\ttotal: 2.74s\tremaining: 2.03s\n",
      "23:\tlearn: 1726.9239049\ttotal: 2.85s\tremaining: 1.9s\n",
      "24:\tlearn: 1720.5254024\ttotal: 2.96s\tremaining: 1.78s\n",
      "25:\tlearn: 1717.1887747\ttotal: 3.08s\tremaining: 1.66s\n",
      "26:\tlearn: 1714.2341426\ttotal: 3.18s\tremaining: 1.53s\n",
      "27:\tlearn: 1710.0617813\ttotal: 3.3s\tremaining: 1.41s\n",
      "28:\tlearn: 1703.1075013\ttotal: 3.41s\tremaining: 1.29s\n",
      "29:\tlearn: 1697.3535698\ttotal: 3.56s\tremaining: 1.19s\n",
      "30:\tlearn: 1695.1004223\ttotal: 3.67s\tremaining: 1.06s\n",
      "31:\tlearn: 1685.8095937\ttotal: 3.78s\tremaining: 945ms\n",
      "32:\tlearn: 1680.8870631\ttotal: 3.89s\tremaining: 825ms\n",
      "33:\tlearn: 1678.5167662\ttotal: 4.01s\tremaining: 707ms\n",
      "34:\tlearn: 1676.5587629\ttotal: 4.15s\tremaining: 593ms\n",
      "35:\tlearn: 1671.8826728\ttotal: 4.27s\tremaining: 475ms\n",
      "36:\tlearn: 1667.0921488\ttotal: 4.39s\tremaining: 356ms\n",
      "37:\tlearn: 1661.5893770\ttotal: 4.51s\tremaining: 237ms\n",
      "38:\tlearn: 1657.3493500\ttotal: 4.63s\tremaining: 119ms\n",
      "39:\tlearn: 1654.5627502\ttotal: 4.75s\tremaining: 0us\n",
      "Learning rate set to 0.5\n",
      "0:\tlearn: 3112.4335447\ttotal: 194ms\tremaining: 7.56s\n",
      "1:\tlearn: 2502.6819379\ttotal: 330ms\tremaining: 6.27s\n",
      "2:\tlearn: 2204.1176429\ttotal: 439ms\tremaining: 5.42s\n",
      "3:\tlearn: 2071.9045336\ttotal: 549ms\tremaining: 4.94s\n",
      "4:\tlearn: 1989.5231040\ttotal: 662ms\tremaining: 4.64s\n",
      "5:\tlearn: 1931.3954834\ttotal: 773ms\tremaining: 4.38s\n",
      "6:\tlearn: 1902.9870139\ttotal: 881ms\tremaining: 4.15s\n",
      "7:\tlearn: 1866.3058116\ttotal: 1s\tremaining: 4s\n",
      "8:\tlearn: 1849.9668659\ttotal: 1.12s\tremaining: 3.85s\n",
      "9:\tlearn: 1840.4839478\ttotal: 1.23s\tremaining: 3.7s\n",
      "10:\tlearn: 1822.8593735\ttotal: 1.34s\tremaining: 3.55s\n",
      "11:\tlearn: 1810.5948364\ttotal: 1.46s\tremaining: 3.4s\n",
      "12:\tlearn: 1799.6616143\ttotal: 1.57s\tremaining: 3.26s\n",
      "13:\tlearn: 1791.2799039\ttotal: 1.69s\tremaining: 3.13s\n",
      "14:\tlearn: 1779.8835640\ttotal: 1.8s\tremaining: 3s\n",
      "15:\tlearn: 1772.6602783\ttotal: 1.92s\tremaining: 2.88s\n",
      "16:\tlearn: 1762.5970563\ttotal: 2.03s\tremaining: 2.74s\n",
      "17:\tlearn: 1750.5268190\ttotal: 2.14s\tremaining: 2.62s\n",
      "18:\tlearn: 1744.8466606\ttotal: 2.25s\tremaining: 2.49s\n",
      "19:\tlearn: 1739.1303982\ttotal: 2.37s\tremaining: 2.37s\n",
      "20:\tlearn: 1734.8949817\ttotal: 2.47s\tremaining: 2.24s\n",
      "21:\tlearn: 1725.3538851\ttotal: 2.58s\tremaining: 2.11s\n",
      "22:\tlearn: 1719.9529991\ttotal: 2.7s\tremaining: 1.99s\n",
      "23:\tlearn: 1716.4153483\ttotal: 2.83s\tremaining: 1.89s\n",
      "24:\tlearn: 1713.7738383\ttotal: 2.94s\tremaining: 1.76s\n",
      "25:\tlearn: 1709.1983869\ttotal: 3.05s\tremaining: 1.64s\n",
      "26:\tlearn: 1703.8312506\ttotal: 3.17s\tremaining: 1.52s\n",
      "27:\tlearn: 1697.2330587\ttotal: 3.28s\tremaining: 1.41s\n",
      "28:\tlearn: 1691.6682750\ttotal: 3.39s\tremaining: 1.29s\n",
      "29:\tlearn: 1687.2765784\ttotal: 3.51s\tremaining: 1.17s\n",
      "30:\tlearn: 1683.4544848\ttotal: 3.64s\tremaining: 1.05s\n",
      "31:\tlearn: 1678.9730572\ttotal: 3.75s\tremaining: 937ms\n",
      "32:\tlearn: 1677.4552664\ttotal: 3.86s\tremaining: 818ms\n",
      "33:\tlearn: 1673.9500366\ttotal: 3.97s\tremaining: 701ms\n",
      "34:\tlearn: 1668.4192979\ttotal: 4.08s\tremaining: 583ms\n",
      "35:\tlearn: 1666.7364703\ttotal: 4.19s\tremaining: 466ms\n",
      "36:\tlearn: 1664.6645263\ttotal: 4.3s\tremaining: 349ms\n",
      "37:\tlearn: 1660.5659164\ttotal: 4.41s\tremaining: 232ms\n",
      "38:\tlearn: 1654.1452579\ttotal: 4.51s\tremaining: 116ms\n",
      "39:\tlearn: 1647.7401135\ttotal: 4.63s\tremaining: 0us\n",
      "Learning rate set to 0.5\n",
      "0:\tlearn: 3127.6933735\ttotal: 134ms\tremaining: 5.21s\n",
      "1:\tlearn: 2494.2995152\ttotal: 284ms\tremaining: 5.39s\n",
      "2:\tlearn: 2213.7758609\ttotal: 413ms\tremaining: 5.1s\n",
      "3:\tlearn: 2086.0465750\ttotal: 532ms\tremaining: 4.78s\n",
      "4:\tlearn: 1998.7252501\ttotal: 713ms\tremaining: 4.99s\n",
      "5:\tlearn: 1926.0563639\ttotal: 838ms\tremaining: 4.75s\n",
      "6:\tlearn: 1899.1678578\ttotal: 952ms\tremaining: 4.49s\n",
      "7:\tlearn: 1879.9571834\ttotal: 1.08s\tremaining: 4.32s\n",
      "8:\tlearn: 1857.6437116\ttotal: 1.24s\tremaining: 4.27s\n",
      "9:\tlearn: 1839.8566091\ttotal: 1.37s\tremaining: 4.12s\n",
      "10:\tlearn: 1827.7426791\ttotal: 1.51s\tremaining: 3.99s\n",
      "11:\tlearn: 1815.0763312\ttotal: 1.64s\tremaining: 3.81s\n",
      "12:\tlearn: 1806.9611392\ttotal: 1.77s\tremaining: 3.67s\n",
      "13:\tlearn: 1797.9479016\ttotal: 1.89s\tremaining: 3.52s\n",
      "14:\tlearn: 1786.2367296\ttotal: 2s\tremaining: 3.34s\n",
      "15:\tlearn: 1773.3539428\ttotal: 2.13s\tremaining: 3.19s\n",
      "16:\tlearn: 1769.1666246\ttotal: 2.25s\tremaining: 3.05s\n",
      "17:\tlearn: 1758.0128528\ttotal: 2.43s\tremaining: 2.97s\n",
      "18:\tlearn: 1750.8832761\ttotal: 2.58s\tremaining: 2.85s\n",
      "19:\tlearn: 1744.6229143\ttotal: 2.74s\tremaining: 2.74s\n",
      "20:\tlearn: 1742.0806397\ttotal: 2.88s\tremaining: 2.61s\n",
      "21:\tlearn: 1734.6169851\ttotal: 3s\tremaining: 2.46s\n",
      "22:\tlearn: 1728.3603676\ttotal: 3.14s\tremaining: 2.32s\n",
      "23:\tlearn: 1720.7536174\ttotal: 3.38s\tremaining: 2.25s\n",
      "24:\tlearn: 1718.2552273\ttotal: 3.62s\tremaining: 2.17s\n",
      "25:\tlearn: 1713.6834197\ttotal: 3.79s\tremaining: 2.04s\n",
      "26:\tlearn: 1710.2382883\ttotal: 3.97s\tremaining: 1.91s\n",
      "27:\tlearn: 1702.8586576\ttotal: 4.12s\tremaining: 1.76s\n",
      "28:\tlearn: 1700.0390585\ttotal: 4.23s\tremaining: 1.6s\n",
      "29:\tlearn: 1693.5024897\ttotal: 4.34s\tremaining: 1.45s\n",
      "30:\tlearn: 1688.9927135\ttotal: 4.45s\tremaining: 1.29s\n",
      "31:\tlearn: 1685.4875718\ttotal: 4.56s\tremaining: 1.14s\n",
      "32:\tlearn: 1682.3126274\ttotal: 4.67s\tremaining: 991ms\n",
      "33:\tlearn: 1678.2571475\ttotal: 4.79s\tremaining: 845ms\n",
      "34:\tlearn: 1675.9917262\ttotal: 4.89s\tremaining: 699ms\n",
      "35:\tlearn: 1672.9556643\ttotal: 5.01s\tremaining: 556ms\n",
      "36:\tlearn: 1671.8636257\ttotal: 5.12s\tremaining: 415ms\n",
      "37:\tlearn: 1668.8082734\ttotal: 5.23s\tremaining: 275ms\n",
      "38:\tlearn: 1664.1544151\ttotal: 5.34s\tremaining: 137ms\n",
      "39:\tlearn: 1660.6294612\ttotal: 5.51s\tremaining: 0us\n",
      "Learning rate set to 0.5\n",
      "0:\tlearn: 3121.1397771\ttotal: 129ms\tremaining: 5.02s\n",
      "1:\tlearn: 2510.9265051\ttotal: 257ms\tremaining: 4.89s\n",
      "2:\tlearn: 2224.9399502\ttotal: 369ms\tremaining: 4.54s\n",
      "3:\tlearn: 2077.9980831\ttotal: 486ms\tremaining: 4.37s\n",
      "4:\tlearn: 1978.8277692\ttotal: 595ms\tremaining: 4.17s\n",
      "5:\tlearn: 1937.7710977\ttotal: 708ms\tremaining: 4.01s\n",
      "6:\tlearn: 1912.4428858\ttotal: 821ms\tremaining: 3.87s\n",
      "7:\tlearn: 1888.3214330\ttotal: 935ms\tremaining: 3.74s\n",
      "8:\tlearn: 1872.2158991\ttotal: 1.06s\tremaining: 3.65s\n",
      "9:\tlearn: 1857.3550584\ttotal: 1.17s\tremaining: 3.51s\n",
      "10:\tlearn: 1838.2229133\ttotal: 1.28s\tremaining: 3.37s\n",
      "11:\tlearn: 1820.9053889\ttotal: 1.4s\tremaining: 3.26s\n",
      "12:\tlearn: 1803.9858762\ttotal: 1.52s\tremaining: 3.15s\n",
      "13:\tlearn: 1792.0517416\ttotal: 1.63s\tremaining: 3.02s\n",
      "14:\tlearn: 1782.6828197\ttotal: 1.74s\tremaining: 2.9s\n",
      "15:\tlearn: 1771.4804404\ttotal: 1.86s\tremaining: 2.79s\n",
      "16:\tlearn: 1762.8397359\ttotal: 1.97s\tremaining: 2.67s\n",
      "17:\tlearn: 1757.6779149\ttotal: 2.09s\tremaining: 2.56s\n",
      "18:\tlearn: 1747.0149717\ttotal: 2.22s\tremaining: 2.45s\n",
      "19:\tlearn: 1739.6241816\ttotal: 2.34s\tremaining: 2.34s\n",
      "20:\tlearn: 1736.8329061\ttotal: 2.45s\tremaining: 2.21s\n",
      "21:\tlearn: 1730.9750965\ttotal: 2.56s\tremaining: 2.09s\n",
      "22:\tlearn: 1727.3501757\ttotal: 2.66s\tremaining: 1.97s\n",
      "23:\tlearn: 1721.2938129\ttotal: 2.8s\tremaining: 1.86s\n",
      "24:\tlearn: 1715.7205292\ttotal: 2.92s\tremaining: 1.75s\n",
      "25:\tlearn: 1712.2837473\ttotal: 3.03s\tremaining: 1.63s\n",
      "26:\tlearn: 1708.3280520\ttotal: 3.16s\tremaining: 1.52s\n",
      "27:\tlearn: 1702.0613964\ttotal: 3.29s\tremaining: 1.41s\n",
      "28:\tlearn: 1697.8439738\ttotal: 3.4s\tremaining: 1.29s\n",
      "29:\tlearn: 1688.2641452\ttotal: 3.51s\tremaining: 1.17s\n",
      "30:\tlearn: 1684.3649584\ttotal: 3.62s\tremaining: 1.05s\n",
      "31:\tlearn: 1681.9718675\ttotal: 3.74s\tremaining: 935ms\n",
      "32:\tlearn: 1679.5282981\ttotal: 3.85s\tremaining: 817ms\n",
      "33:\tlearn: 1674.2344812\ttotal: 3.96s\tremaining: 699ms\n",
      "34:\tlearn: 1672.2726621\ttotal: 4.07s\tremaining: 581ms\n",
      "35:\tlearn: 1668.9671457\ttotal: 4.18s\tremaining: 465ms\n",
      "36:\tlearn: 1667.3073126\ttotal: 4.29s\tremaining: 347ms\n",
      "37:\tlearn: 1663.9433616\ttotal: 4.4s\tremaining: 232ms\n",
      "38:\tlearn: 1658.4971078\ttotal: 4.5s\tremaining: 116ms\n",
      "39:\tlearn: 1655.0990689\ttotal: 4.62s\tremaining: 0us\n",
      "Learning rate set to 0.5\n",
      "0:\tlearn: 3141.7277340\ttotal: 118ms\tremaining: 5.8s\n",
      "1:\tlearn: 2542.8233904\ttotal: 248ms\tremaining: 5.95s\n",
      "2:\tlearn: 2226.6038498\ttotal: 360ms\tremaining: 5.64s\n",
      "3:\tlearn: 2073.3354383\ttotal: 478ms\tremaining: 5.5s\n",
      "4:\tlearn: 1990.6656349\ttotal: 588ms\tremaining: 5.29s\n",
      "5:\tlearn: 1949.4861910\ttotal: 713ms\tremaining: 5.23s\n",
      "6:\tlearn: 1923.2818532\ttotal: 823ms\tremaining: 5.06s\n",
      "7:\tlearn: 1893.8948657\ttotal: 938ms\tremaining: 4.92s\n",
      "8:\tlearn: 1877.4590868\ttotal: 1.05s\tremaining: 4.78s\n",
      "9:\tlearn: 1859.0747960\ttotal: 1.16s\tremaining: 4.65s\n",
      "10:\tlearn: 1840.5198290\ttotal: 1.27s\tremaining: 4.51s\n",
      "11:\tlearn: 1826.2080887\ttotal: 1.39s\tremaining: 4.39s\n",
      "12:\tlearn: 1812.5463711\ttotal: 1.49s\tremaining: 4.24s\n",
      "13:\tlearn: 1804.1311455\ttotal: 1.6s\tremaining: 4.13s\n",
      "14:\tlearn: 1797.0627662\ttotal: 1.72s\tremaining: 4.01s\n",
      "15:\tlearn: 1788.1063247\ttotal: 1.84s\tremaining: 3.92s\n",
      "16:\tlearn: 1781.4911796\ttotal: 1.95s\tremaining: 3.79s\n",
      "17:\tlearn: 1770.6710035\ttotal: 2.07s\tremaining: 3.68s\n",
      "18:\tlearn: 1767.4880567\ttotal: 2.19s\tremaining: 3.58s\n",
      "19:\tlearn: 1756.0671717\ttotal: 2.3s\tremaining: 3.46s\n",
      "20:\tlearn: 1747.9293312\ttotal: 2.41s\tremaining: 3.33s\n",
      "21:\tlearn: 1737.7718408\ttotal: 2.53s\tremaining: 3.22s\n",
      "22:\tlearn: 1732.5037131\ttotal: 2.64s\tremaining: 3.1s\n",
      "23:\tlearn: 1727.3836631\ttotal: 2.75s\tremaining: 2.98s\n",
      "24:\tlearn: 1722.6373522\ttotal: 2.9s\tremaining: 2.9s\n",
      "25:\tlearn: 1718.0708037\ttotal: 3.04s\tremaining: 2.81s\n",
      "26:\tlearn: 1708.5678307\ttotal: 3.15s\tremaining: 2.68s\n",
      "27:\tlearn: 1705.7240395\ttotal: 3.26s\tremaining: 2.56s\n",
      "28:\tlearn: 1702.7344281\ttotal: 3.37s\tremaining: 2.44s\n",
      "29:\tlearn: 1696.5798059\ttotal: 3.49s\tremaining: 2.32s\n",
      "30:\tlearn: 1693.3367888\ttotal: 3.6s\tremaining: 2.21s\n",
      "31:\tlearn: 1688.3028857\ttotal: 3.72s\tremaining: 2.09s\n",
      "32:\tlearn: 1685.3186169\ttotal: 3.83s\tremaining: 1.97s\n",
      "33:\tlearn: 1678.0927304\ttotal: 3.95s\tremaining: 1.86s\n",
      "34:\tlearn: 1675.8652471\ttotal: 4.07s\tremaining: 1.74s\n",
      "35:\tlearn: 1672.1813823\ttotal: 4.18s\tremaining: 1.63s\n",
      "36:\tlearn: 1669.7310354\ttotal: 4.3s\tremaining: 1.51s\n",
      "37:\tlearn: 1664.8064329\ttotal: 4.41s\tremaining: 1.39s\n",
      "38:\tlearn: 1661.8026537\ttotal: 4.54s\tremaining: 1.28s\n",
      "39:\tlearn: 1658.2091602\ttotal: 4.7s\tremaining: 1.17s\n",
      "40:\tlearn: 1655.7037607\ttotal: 4.82s\tremaining: 1.06s\n",
      "41:\tlearn: 1652.9331718\ttotal: 4.93s\tremaining: 939ms\n",
      "42:\tlearn: 1648.9985468\ttotal: 5.04s\tremaining: 820ms\n",
      "43:\tlearn: 1646.5154546\ttotal: 5.16s\tremaining: 704ms\n",
      "44:\tlearn: 1640.8955783\ttotal: 5.28s\tremaining: 587ms\n",
      "45:\tlearn: 1637.5633116\ttotal: 5.39s\tremaining: 469ms\n",
      "46:\tlearn: 1633.6402495\ttotal: 5.51s\tremaining: 352ms\n",
      "47:\tlearn: 1630.9439551\ttotal: 5.64s\tremaining: 235ms\n",
      "48:\tlearn: 1627.3508940\ttotal: 5.77s\tremaining: 118ms\n",
      "49:\tlearn: 1624.3131468\ttotal: 5.88s\tremaining: 0us\n",
      "Learning rate set to 0.5\n",
      "0:\tlearn: 3124.5726784\ttotal: 123ms\tremaining: 6.04s\n",
      "1:\tlearn: 2508.0675871\ttotal: 254ms\tremaining: 6.1s\n",
      "2:\tlearn: 2197.4016202\ttotal: 373ms\tremaining: 5.84s\n",
      "3:\tlearn: 2067.8828888\ttotal: 478ms\tremaining: 5.5s\n",
      "4:\tlearn: 1976.9758607\ttotal: 595ms\tremaining: 5.36s\n",
      "5:\tlearn: 1936.5120706\ttotal: 703ms\tremaining: 5.15s\n",
      "6:\tlearn: 1907.0569220\ttotal: 810ms\tremaining: 4.98s\n",
      "7:\tlearn: 1885.2799572\ttotal: 927ms\tremaining: 4.87s\n",
      "8:\tlearn: 1860.8738854\ttotal: 1.05s\tremaining: 4.77s\n",
      "9:\tlearn: 1840.7637184\ttotal: 1.17s\tremaining: 4.67s\n",
      "10:\tlearn: 1826.7040759\ttotal: 1.27s\tremaining: 4.52s\n",
      "11:\tlearn: 1813.9327488\ttotal: 1.4s\tremaining: 4.42s\n",
      "12:\tlearn: 1804.9317388\ttotal: 1.57s\tremaining: 4.48s\n",
      "13:\tlearn: 1797.6528376\ttotal: 1.75s\tremaining: 4.51s\n",
      "14:\tlearn: 1791.5657466\ttotal: 1.88s\tremaining: 4.38s\n",
      "15:\tlearn: 1781.0734466\ttotal: 1.99s\tremaining: 4.23s\n",
      "16:\tlearn: 1767.9836098\ttotal: 2.1s\tremaining: 4.07s\n",
      "17:\tlearn: 1758.7035497\ttotal: 2.21s\tremaining: 3.93s\n",
      "18:\tlearn: 1754.6227557\ttotal: 2.32s\tremaining: 3.79s\n",
      "19:\tlearn: 1748.4154697\ttotal: 2.44s\tremaining: 3.66s\n",
      "20:\tlearn: 1741.0193669\ttotal: 2.54s\tremaining: 3.52s\n",
      "21:\tlearn: 1734.3092218\ttotal: 2.66s\tremaining: 3.39s\n",
      "22:\tlearn: 1730.4823484\ttotal: 2.8s\tremaining: 3.28s\n",
      "23:\tlearn: 1726.9239049\ttotal: 2.92s\tremaining: 3.17s\n",
      "24:\tlearn: 1720.5254024\ttotal: 3.03s\tremaining: 3.03s\n",
      "25:\tlearn: 1717.1887747\ttotal: 3.14s\tremaining: 2.9s\n",
      "26:\tlearn: 1714.2341426\ttotal: 3.25s\tremaining: 2.77s\n",
      "27:\tlearn: 1710.0617813\ttotal: 3.37s\tremaining: 2.65s\n",
      "28:\tlearn: 1703.1075013\ttotal: 3.48s\tremaining: 2.52s\n",
      "29:\tlearn: 1697.3535698\ttotal: 3.6s\tremaining: 2.4s\n",
      "30:\tlearn: 1695.1004223\ttotal: 3.71s\tremaining: 2.27s\n",
      "31:\tlearn: 1685.8095937\ttotal: 3.83s\tremaining: 2.15s\n",
      "32:\tlearn: 1680.8870631\ttotal: 3.94s\tremaining: 2.03s\n",
      "33:\tlearn: 1678.5167662\ttotal: 4.05s\tremaining: 1.91s\n",
      "34:\tlearn: 1676.5587629\ttotal: 4.17s\tremaining: 1.79s\n",
      "35:\tlearn: 1671.8826728\ttotal: 4.29s\tremaining: 1.67s\n",
      "36:\tlearn: 1667.0921488\ttotal: 4.49s\tremaining: 1.58s\n",
      "37:\tlearn: 1661.5893770\ttotal: 4.67s\tremaining: 1.48s\n",
      "38:\tlearn: 1657.3493500\ttotal: 4.81s\tremaining: 1.36s\n",
      "39:\tlearn: 1654.5627502\ttotal: 4.98s\tremaining: 1.24s\n",
      "40:\tlearn: 1652.1687397\ttotal: 5.09s\tremaining: 1.12s\n",
      "41:\tlearn: 1646.7294900\ttotal: 5.21s\tremaining: 992ms\n",
      "42:\tlearn: 1643.7360663\ttotal: 5.32s\tremaining: 865ms\n",
      "43:\tlearn: 1640.1796795\ttotal: 5.47s\tremaining: 746ms\n",
      "44:\tlearn: 1637.0250083\ttotal: 5.67s\tremaining: 630ms\n",
      "45:\tlearn: 1634.1033567\ttotal: 5.78s\tremaining: 502ms\n",
      "46:\tlearn: 1630.3615680\ttotal: 5.93s\tremaining: 378ms\n",
      "47:\tlearn: 1627.3576134\ttotal: 6.06s\tremaining: 253ms\n",
      "48:\tlearn: 1624.4046252\ttotal: 6.18s\tremaining: 126ms\n",
      "49:\tlearn: 1621.3272925\ttotal: 6.29s\tremaining: 0us\n",
      "Learning rate set to 0.5\n",
      "0:\tlearn: 3112.4335447\ttotal: 118ms\tremaining: 5.76s\n",
      "1:\tlearn: 2502.6819379\ttotal: 246ms\tremaining: 5.9s\n",
      "2:\tlearn: 2204.1176429\ttotal: 356ms\tremaining: 5.58s\n",
      "3:\tlearn: 2071.9045336\ttotal: 464ms\tremaining: 5.34s\n",
      "4:\tlearn: 1989.5231040\ttotal: 578ms\tremaining: 5.2s\n",
      "5:\tlearn: 1931.3954834\ttotal: 694ms\tremaining: 5.09s\n",
      "6:\tlearn: 1902.9870139\ttotal: 826ms\tremaining: 5.08s\n",
      "7:\tlearn: 1866.3058116\ttotal: 949ms\tremaining: 4.98s\n",
      "8:\tlearn: 1849.9668659\ttotal: 1.05s\tremaining: 4.79s\n",
      "9:\tlearn: 1840.4839478\ttotal: 1.18s\tremaining: 4.7s\n",
      "10:\tlearn: 1822.8593735\ttotal: 1.28s\tremaining: 4.56s\n",
      "11:\tlearn: 1810.5948364\ttotal: 1.4s\tremaining: 4.42s\n",
      "12:\tlearn: 1799.6616143\ttotal: 1.5s\tremaining: 4.27s\n",
      "13:\tlearn: 1791.2799039\ttotal: 1.61s\tremaining: 4.14s\n",
      "14:\tlearn: 1779.8835640\ttotal: 1.74s\tremaining: 4.06s\n",
      "15:\tlearn: 1772.6602783\ttotal: 1.93s\tremaining: 4.1s\n",
      "16:\tlearn: 1762.5970563\ttotal: 2.05s\tremaining: 3.98s\n",
      "17:\tlearn: 1750.5268190\ttotal: 2.16s\tremaining: 3.85s\n",
      "18:\tlearn: 1744.8466606\ttotal: 2.27s\tremaining: 3.7s\n",
      "19:\tlearn: 1739.1303982\ttotal: 2.37s\tremaining: 3.56s\n",
      "20:\tlearn: 1734.8949817\ttotal: 2.48s\tremaining: 3.43s\n",
      "21:\tlearn: 1725.3538851\ttotal: 2.59s\tremaining: 3.3s\n",
      "22:\tlearn: 1719.9529991\ttotal: 2.73s\tremaining: 3.21s\n",
      "23:\tlearn: 1716.4153483\ttotal: 2.87s\tremaining: 3.11s\n",
      "24:\tlearn: 1713.7738383\ttotal: 3.03s\tremaining: 3.03s\n",
      "25:\tlearn: 1709.1983869\ttotal: 3.14s\tremaining: 2.9s\n",
      "26:\tlearn: 1703.8312506\ttotal: 3.25s\tremaining: 2.77s\n",
      "27:\tlearn: 1697.2330587\ttotal: 3.37s\tremaining: 2.65s\n",
      "28:\tlearn: 1691.6682750\ttotal: 3.48s\tremaining: 2.52s\n",
      "29:\tlearn: 1687.2765784\ttotal: 3.59s\tremaining: 2.39s\n",
      "30:\tlearn: 1683.4544848\ttotal: 3.7s\tremaining: 2.27s\n",
      "31:\tlearn: 1678.9730572\ttotal: 3.82s\tremaining: 2.15s\n",
      "32:\tlearn: 1677.4552664\ttotal: 3.93s\tremaining: 2.02s\n",
      "33:\tlearn: 1673.9500366\ttotal: 4.04s\tremaining: 1.9s\n",
      "34:\tlearn: 1668.4192979\ttotal: 4.15s\tremaining: 1.78s\n",
      "35:\tlearn: 1666.7364703\ttotal: 4.26s\tremaining: 1.66s\n",
      "36:\tlearn: 1664.6645263\ttotal: 4.37s\tremaining: 1.53s\n",
      "37:\tlearn: 1660.5659164\ttotal: 4.48s\tremaining: 1.41s\n",
      "38:\tlearn: 1654.1452579\ttotal: 4.58s\tremaining: 1.29s\n",
      "39:\tlearn: 1647.7401135\ttotal: 4.7s\tremaining: 1.18s\n",
      "40:\tlearn: 1643.4496869\ttotal: 4.81s\tremaining: 1.05s\n",
      "41:\tlearn: 1641.6081594\ttotal: 4.92s\tremaining: 937ms\n",
      "42:\tlearn: 1636.5703449\ttotal: 5.03s\tremaining: 819ms\n",
      "43:\tlearn: 1633.9030732\ttotal: 5.14s\tremaining: 701ms\n",
      "44:\tlearn: 1630.3995840\ttotal: 5.25s\tremaining: 584ms\n",
      "45:\tlearn: 1629.0056198\ttotal: 5.36s\tremaining: 466ms\n",
      "46:\tlearn: 1627.1095957\ttotal: 5.47s\tremaining: 349ms\n",
      "47:\tlearn: 1624.5913762\ttotal: 5.59s\tremaining: 233ms\n",
      "48:\tlearn: 1619.0791196\ttotal: 5.7s\tremaining: 116ms\n",
      "49:\tlearn: 1617.7607204\ttotal: 5.81s\tremaining: 0us\n",
      "Learning rate set to 0.5\n",
      "0:\tlearn: 3127.6933735\ttotal: 116ms\tremaining: 5.67s\n",
      "1:\tlearn: 2494.2995152\ttotal: 242ms\tremaining: 5.81s\n",
      "2:\tlearn: 2213.7758609\ttotal: 363ms\tremaining: 5.68s\n",
      "3:\tlearn: 2086.0465750\ttotal: 472ms\tremaining: 5.43s\n",
      "4:\tlearn: 1998.7252501\ttotal: 578ms\tremaining: 5.2s\n",
      "5:\tlearn: 1926.0563639\ttotal: 688ms\tremaining: 5.05s\n",
      "6:\tlearn: 1899.1678578\ttotal: 795ms\tremaining: 4.88s\n",
      "7:\tlearn: 1879.9571834\ttotal: 900ms\tremaining: 4.73s\n",
      "8:\tlearn: 1857.6437116\ttotal: 1.01s\tremaining: 4.6s\n",
      "9:\tlearn: 1839.8566091\ttotal: 1.13s\tremaining: 4.5s\n",
      "10:\tlearn: 1827.7426791\ttotal: 1.24s\tremaining: 4.39s\n",
      "11:\tlearn: 1815.0763312\ttotal: 1.35s\tremaining: 4.29s\n",
      "12:\tlearn: 1806.9611392\ttotal: 1.46s\tremaining: 4.17s\n",
      "13:\tlearn: 1797.9479016\ttotal: 1.59s\tremaining: 4.09s\n",
      "14:\tlearn: 1786.2367296\ttotal: 1.71s\tremaining: 3.99s\n",
      "15:\tlearn: 1773.3539428\ttotal: 1.82s\tremaining: 3.87s\n",
      "16:\tlearn: 1769.1666246\ttotal: 1.92s\tremaining: 3.74s\n",
      "17:\tlearn: 1758.0128528\ttotal: 2.04s\tremaining: 3.63s\n",
      "18:\tlearn: 1750.8832761\ttotal: 2.15s\tremaining: 3.5s\n",
      "19:\tlearn: 1744.6229143\ttotal: 2.27s\tremaining: 3.4s\n",
      "20:\tlearn: 1742.0806397\ttotal: 2.39s\tremaining: 3.29s\n",
      "21:\tlearn: 1734.6169851\ttotal: 2.52s\tremaining: 3.21s\n",
      "22:\tlearn: 1728.3603676\ttotal: 2.63s\tremaining: 3.09s\n",
      "23:\tlearn: 1720.7536174\ttotal: 2.74s\tremaining: 2.97s\n",
      "24:\tlearn: 1718.2552273\ttotal: 2.87s\tremaining: 2.87s\n",
      "25:\tlearn: 1713.6834197\ttotal: 3s\tremaining: 2.77s\n",
      "26:\tlearn: 1710.2382883\ttotal: 3.11s\tremaining: 2.65s\n",
      "27:\tlearn: 1702.8586576\ttotal: 3.23s\tremaining: 2.54s\n",
      "28:\tlearn: 1700.0390585\ttotal: 3.34s\tremaining: 2.42s\n",
      "29:\tlearn: 1693.5024897\ttotal: 3.46s\tremaining: 2.3s\n",
      "30:\tlearn: 1688.9927135\ttotal: 3.56s\tremaining: 2.18s\n",
      "31:\tlearn: 1685.4875718\ttotal: 3.67s\tremaining: 2.06s\n",
      "32:\tlearn: 1682.3126274\ttotal: 3.78s\tremaining: 1.95s\n",
      "33:\tlearn: 1678.2571475\ttotal: 3.9s\tremaining: 1.83s\n",
      "34:\tlearn: 1675.9917262\ttotal: 4s\tremaining: 1.72s\n",
      "35:\tlearn: 1672.9556643\ttotal: 4.11s\tremaining: 1.6s\n",
      "36:\tlearn: 1671.8636257\ttotal: 4.22s\tremaining: 1.48s\n",
      "37:\tlearn: 1668.8082734\ttotal: 4.34s\tremaining: 1.37s\n",
      "38:\tlearn: 1664.1544151\ttotal: 4.45s\tremaining: 1.25s\n",
      "39:\tlearn: 1660.6294612\ttotal: 4.57s\tremaining: 1.14s\n",
      "40:\tlearn: 1657.5855554\ttotal: 4.67s\tremaining: 1.03s\n",
      "41:\tlearn: 1652.5680203\ttotal: 4.79s\tremaining: 913ms\n",
      "42:\tlearn: 1650.6141440\ttotal: 4.91s\tremaining: 799ms\n",
      "43:\tlearn: 1649.8938934\ttotal: 5.03s\tremaining: 685ms\n",
      "44:\tlearn: 1646.8671044\ttotal: 5.14s\tremaining: 572ms\n",
      "45:\tlearn: 1643.8164199\ttotal: 5.27s\tremaining: 458ms\n",
      "46:\tlearn: 1639.4957250\ttotal: 5.38s\tremaining: 343ms\n",
      "47:\tlearn: 1635.6944445\ttotal: 5.49s\tremaining: 229ms\n",
      "48:\tlearn: 1632.3979840\ttotal: 5.59s\tremaining: 114ms\n",
      "49:\tlearn: 1630.0185530\ttotal: 5.7s\tremaining: 0us\n",
      "Learning rate set to 0.5\n",
      "0:\tlearn: 3121.1397771\ttotal: 142ms\tremaining: 6.96s\n",
      "1:\tlearn: 2510.9265051\ttotal: 283ms\tremaining: 6.79s\n",
      "2:\tlearn: 2224.9399502\ttotal: 415ms\tremaining: 6.5s\n",
      "3:\tlearn: 2077.9980831\ttotal: 554ms\tremaining: 6.37s\n",
      "4:\tlearn: 1978.8277692\ttotal: 684ms\tremaining: 6.15s\n",
      "5:\tlearn: 1937.7710977\ttotal: 819ms\tremaining: 6s\n",
      "6:\tlearn: 1912.4428858\ttotal: 1.01s\tremaining: 6.21s\n",
      "7:\tlearn: 1888.3214330\ttotal: 1.16s\tremaining: 6.07s\n",
      "8:\tlearn: 1872.2158991\ttotal: 1.28s\tremaining: 5.82s\n",
      "9:\tlearn: 1857.3550584\ttotal: 1.39s\tremaining: 5.55s\n",
      "10:\tlearn: 1838.2229133\ttotal: 1.5s\tremaining: 5.31s\n",
      "11:\tlearn: 1820.9053889\ttotal: 1.61s\tremaining: 5.1s\n",
      "12:\tlearn: 1803.9858762\ttotal: 1.72s\tremaining: 4.9s\n",
      "13:\tlearn: 1792.0517416\ttotal: 1.84s\tremaining: 4.73s\n",
      "14:\tlearn: 1782.6828197\ttotal: 1.95s\tremaining: 4.56s\n",
      "15:\tlearn: 1771.4804404\ttotal: 2.06s\tremaining: 4.39s\n",
      "16:\tlearn: 1762.8397359\ttotal: 2.18s\tremaining: 4.23s\n",
      "17:\tlearn: 1757.6779149\ttotal: 2.31s\tremaining: 4.11s\n",
      "18:\tlearn: 1747.0149717\ttotal: 2.43s\tremaining: 3.97s\n",
      "19:\tlearn: 1739.6241816\ttotal: 2.54s\tremaining: 3.82s\n",
      "20:\tlearn: 1736.8329061\ttotal: 2.67s\tremaining: 3.68s\n",
      "21:\tlearn: 1730.9750965\ttotal: 2.83s\tremaining: 3.6s\n",
      "22:\tlearn: 1727.3501757\ttotal: 2.94s\tremaining: 3.45s\n",
      "23:\tlearn: 1721.2938129\ttotal: 3.05s\tremaining: 3.31s\n",
      "24:\tlearn: 1715.7205292\ttotal: 3.16s\tremaining: 3.16s\n",
      "25:\tlearn: 1712.2837473\ttotal: 3.27s\tremaining: 3.02s\n",
      "26:\tlearn: 1708.3280520\ttotal: 3.38s\tremaining: 2.88s\n",
      "27:\tlearn: 1702.0613964\ttotal: 3.49s\tremaining: 2.74s\n",
      "28:\tlearn: 1697.8439738\ttotal: 3.6s\tremaining: 2.6s\n",
      "29:\tlearn: 1688.2641452\ttotal: 3.71s\tremaining: 2.47s\n",
      "30:\tlearn: 1684.3649584\ttotal: 3.82s\tremaining: 2.34s\n",
      "31:\tlearn: 1681.9718675\ttotal: 3.93s\tremaining: 2.21s\n",
      "32:\tlearn: 1679.5282981\ttotal: 4.04s\tremaining: 2.08s\n",
      "33:\tlearn: 1674.2344812\ttotal: 4.15s\tremaining: 1.95s\n",
      "34:\tlearn: 1672.2726621\ttotal: 4.25s\tremaining: 1.82s\n",
      "35:\tlearn: 1668.9671457\ttotal: 4.37s\tremaining: 1.7s\n",
      "36:\tlearn: 1667.3073126\ttotal: 4.47s\tremaining: 1.57s\n",
      "37:\tlearn: 1663.9433616\ttotal: 4.59s\tremaining: 1.45s\n",
      "38:\tlearn: 1658.4971078\ttotal: 4.7s\tremaining: 1.33s\n",
      "39:\tlearn: 1655.0990689\ttotal: 4.82s\tremaining: 1.2s\n",
      "40:\tlearn: 1649.3899438\ttotal: 4.92s\tremaining: 1.08s\n",
      "41:\tlearn: 1647.8607892\ttotal: 5.04s\tremaining: 959ms\n",
      "42:\tlearn: 1646.6069081\ttotal: 5.15s\tremaining: 839ms\n",
      "43:\tlearn: 1642.5140136\ttotal: 5.27s\tremaining: 719ms\n",
      "44:\tlearn: 1639.4078913\ttotal: 5.38s\tremaining: 598ms\n",
      "45:\tlearn: 1636.2777643\ttotal: 5.49s\tremaining: 477ms\n",
      "46:\tlearn: 1632.4166294\ttotal: 5.59s\tremaining: 357ms\n",
      "47:\tlearn: 1629.6150189\ttotal: 5.72s\tremaining: 238ms\n",
      "48:\tlearn: 1626.9692074\ttotal: 5.83s\tremaining: 119ms\n",
      "49:\tlearn: 1622.5670636\ttotal: 5.95s\tremaining: 0us\n",
      "Learning rate set to 0.5\n",
      "0:\tlearn: 3093.8297313\ttotal: 153ms\tremaining: 1.38s\n",
      "1:\tlearn: 2475.3796984\ttotal: 307ms\tremaining: 1.23s\n",
      "2:\tlearn: 2156.6266422\ttotal: 468ms\tremaining: 1.09s\n",
      "3:\tlearn: 2006.5714861\ttotal: 617ms\tremaining: 925ms\n",
      "4:\tlearn: 1914.8121367\ttotal: 769ms\tremaining: 769ms\n",
      "5:\tlearn: 1870.1531961\ttotal: 916ms\tremaining: 610ms\n",
      "6:\tlearn: 1839.5598768\ttotal: 1.06s\tremaining: 453ms\n",
      "7:\tlearn: 1810.7447002\ttotal: 1.21s\tremaining: 301ms\n",
      "8:\tlearn: 1796.8621761\ttotal: 1.35s\tremaining: 151ms\n",
      "9:\tlearn: 1778.9436425\ttotal: 1.5s\tremaining: 0us\n",
      "Learning rate set to 0.5\n",
      "0:\tlearn: 3078.6785423\ttotal: 232ms\tremaining: 2.09s\n",
      "1:\tlearn: 2455.8965272\ttotal: 381ms\tremaining: 1.52s\n",
      "2:\tlearn: 2136.8203559\ttotal: 539ms\tremaining: 1.26s\n",
      "3:\tlearn: 1994.9130417\ttotal: 683ms\tremaining: 1.02s\n",
      "4:\tlearn: 1905.4199172\ttotal: 828ms\tremaining: 828ms\n",
      "5:\tlearn: 1870.1687385\ttotal: 970ms\tremaining: 647ms\n",
      "6:\tlearn: 1848.1751975\ttotal: 1.12s\tremaining: 480ms\n",
      "7:\tlearn: 1825.9542196\ttotal: 1.26s\tremaining: 316ms\n",
      "8:\tlearn: 1807.8921426\ttotal: 1.41s\tremaining: 157ms\n",
      "9:\tlearn: 1796.1559876\ttotal: 1.57s\tremaining: 0us\n",
      "Learning rate set to 0.5\n",
      "0:\tlearn: 3069.6464563\ttotal: 153ms\tremaining: 1.38s\n",
      "1:\tlearn: 2447.9092335\ttotal: 310ms\tremaining: 1.24s\n",
      "2:\tlearn: 2146.2055485\ttotal: 459ms\tremaining: 1.07s\n",
      "3:\tlearn: 1989.2172990\ttotal: 600ms\tremaining: 900ms\n",
      "4:\tlearn: 1897.4432869\ttotal: 747ms\tremaining: 747ms\n",
      "5:\tlearn: 1850.4790565\ttotal: 884ms\tremaining: 589ms\n",
      "6:\tlearn: 1815.1366597\ttotal: 1.02s\tremaining: 439ms\n",
      "7:\tlearn: 1794.9628108\ttotal: 1.18s\tremaining: 294ms\n",
      "8:\tlearn: 1778.5889981\ttotal: 1.33s\tremaining: 148ms\n",
      "9:\tlearn: 1759.2541598\ttotal: 1.47s\tremaining: 0us\n",
      "Learning rate set to 0.5\n",
      "0:\tlearn: 3079.9261844\ttotal: 148ms\tremaining: 1.33s\n",
      "1:\tlearn: 2454.2345969\ttotal: 312ms\tremaining: 1.25s\n",
      "2:\tlearn: 2150.8376195\ttotal: 473ms\tremaining: 1.1s\n",
      "3:\tlearn: 1987.8104195\ttotal: 622ms\tremaining: 933ms\n",
      "4:\tlearn: 1900.5286725\ttotal: 773ms\tremaining: 773ms\n",
      "5:\tlearn: 1860.7711958\ttotal: 926ms\tremaining: 617ms\n",
      "6:\tlearn: 1832.9717384\ttotal: 1.08s\tremaining: 464ms\n",
      "7:\tlearn: 1814.7974935\ttotal: 1.23s\tremaining: 308ms\n",
      "8:\tlearn: 1796.8912266\ttotal: 1.39s\tremaining: 154ms\n",
      "9:\tlearn: 1784.0041278\ttotal: 1.54s\tremaining: 0us\n",
      "Learning rate set to 0.5\n",
      "0:\tlearn: 3082.0089477\ttotal: 161ms\tremaining: 1.45s\n",
      "1:\tlearn: 2454.6674101\ttotal: 307ms\tremaining: 1.23s\n",
      "2:\tlearn: 2148.5933600\ttotal: 454ms\tremaining: 1.06s\n",
      "3:\tlearn: 1999.9466312\ttotal: 598ms\tremaining: 898ms\n",
      "4:\tlearn: 1937.3286883\ttotal: 744ms\tremaining: 744ms\n",
      "5:\tlearn: 1868.8105334\ttotal: 889ms\tremaining: 592ms\n",
      "6:\tlearn: 1834.9909785\ttotal: 1.03s\tremaining: 443ms\n",
      "7:\tlearn: 1813.0726590\ttotal: 1.18s\tremaining: 295ms\n",
      "8:\tlearn: 1795.3892149\ttotal: 1.33s\tremaining: 147ms\n",
      "9:\tlearn: 1780.8056475\ttotal: 1.47s\tremaining: 0us\n",
      "Learning rate set to 0.5\n",
      "0:\tlearn: 3093.8297313\ttotal: 149ms\tremaining: 2.83s\n",
      "1:\tlearn: 2475.3796984\ttotal: 300ms\tremaining: 2.7s\n",
      "2:\tlearn: 2156.6266422\ttotal: 455ms\tremaining: 2.58s\n",
      "3:\tlearn: 2006.5714861\ttotal: 600ms\tremaining: 2.4s\n",
      "4:\tlearn: 1914.8121367\ttotal: 738ms\tremaining: 2.21s\n",
      "5:\tlearn: 1870.1531961\ttotal: 882ms\tremaining: 2.06s\n",
      "6:\tlearn: 1839.5598768\ttotal: 1.03s\tremaining: 1.91s\n",
      "7:\tlearn: 1810.7447002\ttotal: 1.18s\tremaining: 1.77s\n",
      "8:\tlearn: 1796.8621761\ttotal: 1.32s\tremaining: 1.62s\n",
      "9:\tlearn: 1778.9436425\ttotal: 1.47s\tremaining: 1.47s\n",
      "10:\tlearn: 1766.7746729\ttotal: 1.61s\tremaining: 1.32s\n",
      "11:\tlearn: 1749.7277323\ttotal: 1.76s\tremaining: 1.17s\n",
      "12:\tlearn: 1742.0548979\ttotal: 1.91s\tremaining: 1.03s\n",
      "13:\tlearn: 1734.0895904\ttotal: 2.04s\tremaining: 877ms\n",
      "14:\tlearn: 1726.4820614\ttotal: 2.18s\tremaining: 728ms\n",
      "15:\tlearn: 1720.1321770\ttotal: 2.33s\tremaining: 583ms\n",
      "16:\tlearn: 1712.2944225\ttotal: 2.48s\tremaining: 437ms\n",
      "17:\tlearn: 1707.2173341\ttotal: 2.63s\tremaining: 292ms\n",
      "18:\tlearn: 1700.4964923\ttotal: 2.77s\tremaining: 146ms\n",
      "19:\tlearn: 1692.1021686\ttotal: 2.92s\tremaining: 0us\n",
      "Learning rate set to 0.5\n",
      "0:\tlearn: 3078.6785423\ttotal: 154ms\tremaining: 2.93s\n",
      "1:\tlearn: 2455.8965272\ttotal: 310ms\tremaining: 2.79s\n",
      "2:\tlearn: 2136.8203559\ttotal: 462ms\tremaining: 2.62s\n",
      "3:\tlearn: 1994.9130417\ttotal: 601ms\tremaining: 2.4s\n",
      "4:\tlearn: 1905.4199172\ttotal: 742ms\tremaining: 2.23s\n",
      "5:\tlearn: 1870.1687385\ttotal: 880ms\tremaining: 2.05s\n",
      "6:\tlearn: 1848.1751975\ttotal: 1.02s\tremaining: 1.9s\n",
      "7:\tlearn: 1825.9542196\ttotal: 1.17s\tremaining: 1.76s\n",
      "8:\tlearn: 1807.8921426\ttotal: 1.31s\tremaining: 1.61s\n",
      "9:\tlearn: 1796.1559876\ttotal: 1.47s\tremaining: 1.47s\n",
      "10:\tlearn: 1784.6839826\ttotal: 1.63s\tremaining: 1.33s\n",
      "11:\tlearn: 1760.8732068\ttotal: 1.77s\tremaining: 1.18s\n",
      "12:\tlearn: 1744.0096878\ttotal: 1.91s\tremaining: 1.03s\n",
      "13:\tlearn: 1734.6633499\ttotal: 2.05s\tremaining: 878ms\n",
      "14:\tlearn: 1727.7114669\ttotal: 2.19s\tremaining: 731ms\n",
      "15:\tlearn: 1720.4046353\ttotal: 2.34s\tremaining: 586ms\n",
      "16:\tlearn: 1707.2505019\ttotal: 2.49s\tremaining: 440ms\n",
      "17:\tlearn: 1699.0421218\ttotal: 2.64s\tremaining: 293ms\n",
      "18:\tlearn: 1683.7236282\ttotal: 2.78s\tremaining: 146ms\n",
      "19:\tlearn: 1679.7105928\ttotal: 2.92s\tremaining: 0us\n",
      "Learning rate set to 0.5\n",
      "0:\tlearn: 3069.6464563\ttotal: 146ms\tremaining: 2.78s\n",
      "1:\tlearn: 2447.9092335\ttotal: 301ms\tremaining: 2.71s\n",
      "2:\tlearn: 2146.2055485\ttotal: 447ms\tremaining: 2.54s\n",
      "3:\tlearn: 1989.2172990\ttotal: 591ms\tremaining: 2.36s\n",
      "4:\tlearn: 1897.4432869\ttotal: 738ms\tremaining: 2.21s\n",
      "5:\tlearn: 1850.4790565\ttotal: 875ms\tremaining: 2.04s\n",
      "6:\tlearn: 1815.1366597\ttotal: 1.02s\tremaining: 1.9s\n",
      "7:\tlearn: 1794.9628108\ttotal: 1.16s\tremaining: 1.75s\n",
      "8:\tlearn: 1778.5889981\ttotal: 1.31s\tremaining: 1.6s\n",
      "9:\tlearn: 1759.2541598\ttotal: 1.45s\tremaining: 1.45s\n",
      "10:\tlearn: 1743.9550889\ttotal: 1.6s\tremaining: 1.31s\n",
      "11:\tlearn: 1734.8846737\ttotal: 1.73s\tremaining: 1.16s\n",
      "12:\tlearn: 1723.6663551\ttotal: 1.87s\tremaining: 1.01s\n",
      "13:\tlearn: 1718.7461189\ttotal: 2.02s\tremaining: 864ms\n",
      "14:\tlearn: 1701.9858780\ttotal: 2.15s\tremaining: 718ms\n",
      "15:\tlearn: 1698.3548365\ttotal: 2.3s\tremaining: 575ms\n",
      "16:\tlearn: 1685.2816945\ttotal: 2.44s\tremaining: 431ms\n",
      "17:\tlearn: 1679.6421186\ttotal: 2.59s\tremaining: 288ms\n",
      "18:\tlearn: 1672.3295994\ttotal: 2.73s\tremaining: 144ms\n",
      "19:\tlearn: 1666.8491067\ttotal: 2.87s\tremaining: 0us\n",
      "Learning rate set to 0.5\n",
      "0:\tlearn: 3079.9261844\ttotal: 151ms\tremaining: 2.86s\n",
      "1:\tlearn: 2454.2345969\ttotal: 305ms\tremaining: 2.75s\n",
      "2:\tlearn: 2150.8376195\ttotal: 445ms\tremaining: 2.52s\n",
      "3:\tlearn: 1987.8104195\ttotal: 581ms\tremaining: 2.32s\n",
      "4:\tlearn: 1900.5286725\ttotal: 720ms\tremaining: 2.16s\n",
      "5:\tlearn: 1860.7711958\ttotal: 858ms\tremaining: 2s\n",
      "6:\tlearn: 1832.9717384\ttotal: 1s\tremaining: 1.86s\n",
      "7:\tlearn: 1814.7974935\ttotal: 1.15s\tremaining: 1.72s\n",
      "8:\tlearn: 1796.8912266\ttotal: 1.3s\tremaining: 1.59s\n",
      "9:\tlearn: 1784.0041278\ttotal: 1.45s\tremaining: 1.45s\n",
      "10:\tlearn: 1769.9701710\ttotal: 1.59s\tremaining: 1.3s\n",
      "11:\tlearn: 1751.7279429\ttotal: 1.74s\tremaining: 1.16s\n",
      "12:\tlearn: 1735.8810532\ttotal: 1.89s\tremaining: 1.02s\n",
      "13:\tlearn: 1724.1922895\ttotal: 2.04s\tremaining: 873ms\n",
      "14:\tlearn: 1715.5604189\ttotal: 2.18s\tremaining: 727ms\n",
      "15:\tlearn: 1706.6826325\ttotal: 2.33s\tremaining: 583ms\n",
      "16:\tlearn: 1701.0492717\ttotal: 2.48s\tremaining: 437ms\n",
      "17:\tlearn: 1694.7493787\ttotal: 2.62s\tremaining: 291ms\n",
      "18:\tlearn: 1682.0505973\ttotal: 2.76s\tremaining: 145ms\n",
      "19:\tlearn: 1668.9442453\ttotal: 2.9s\tremaining: 0us\n",
      "Learning rate set to 0.5\n",
      "0:\tlearn: 3082.0089477\ttotal: 158ms\tremaining: 3s\n",
      "1:\tlearn: 2454.6674101\ttotal: 300ms\tremaining: 2.7s\n",
      "2:\tlearn: 2148.5933600\ttotal: 442ms\tremaining: 2.51s\n",
      "3:\tlearn: 1999.9466312\ttotal: 588ms\tremaining: 2.35s\n",
      "4:\tlearn: 1937.3286883\ttotal: 731ms\tremaining: 2.19s\n",
      "5:\tlearn: 1868.8105334\ttotal: 872ms\tremaining: 2.04s\n",
      "6:\tlearn: 1834.9909785\ttotal: 1.01s\tremaining: 1.87s\n",
      "7:\tlearn: 1813.0726590\ttotal: 1.15s\tremaining: 1.73s\n",
      "8:\tlearn: 1795.3892149\ttotal: 1.3s\tremaining: 1.58s\n",
      "9:\tlearn: 1780.8056475\ttotal: 1.44s\tremaining: 1.44s\n",
      "10:\tlearn: 1762.2603331\ttotal: 1.59s\tremaining: 1.3s\n",
      "11:\tlearn: 1749.6399061\ttotal: 1.73s\tremaining: 1.15s\n",
      "12:\tlearn: 1742.2203917\ttotal: 1.88s\tremaining: 1.01s\n",
      "13:\tlearn: 1727.8341892\ttotal: 2.02s\tremaining: 865ms\n",
      "14:\tlearn: 1720.4614372\ttotal: 2.16s\tremaining: 721ms\n",
      "15:\tlearn: 1712.9778295\ttotal: 2.31s\tremaining: 577ms\n",
      "16:\tlearn: 1710.0267234\ttotal: 2.45s\tremaining: 433ms\n",
      "17:\tlearn: 1702.5363970\ttotal: 2.6s\tremaining: 289ms\n",
      "18:\tlearn: 1690.7226252\ttotal: 2.74s\tremaining: 144ms\n",
      "19:\tlearn: 1683.6226218\ttotal: 2.89s\tremaining: 0us\n",
      "Learning rate set to 0.5\n",
      "0:\tlearn: 3093.8297313\ttotal: 158ms\tremaining: 4.58s\n",
      "1:\tlearn: 2475.3796984\ttotal: 314ms\tremaining: 4.39s\n",
      "2:\tlearn: 2156.6266422\ttotal: 475ms\tremaining: 4.27s\n",
      "3:\tlearn: 2006.5714861\ttotal: 621ms\tremaining: 4.04s\n",
      "4:\tlearn: 1914.8121367\ttotal: 771ms\tremaining: 3.85s\n",
      "5:\tlearn: 1870.1531961\ttotal: 920ms\tremaining: 3.68s\n",
      "6:\tlearn: 1839.5598768\ttotal: 1.07s\tremaining: 3.52s\n",
      "7:\tlearn: 1810.7447002\ttotal: 1.23s\tremaining: 3.37s\n",
      "8:\tlearn: 1796.8621761\ttotal: 1.38s\tremaining: 3.21s\n",
      "9:\tlearn: 1778.9436425\ttotal: 1.52s\tremaining: 3.04s\n",
      "10:\tlearn: 1766.7746729\ttotal: 1.68s\tremaining: 2.9s\n",
      "11:\tlearn: 1749.7277323\ttotal: 1.85s\tremaining: 2.77s\n",
      "12:\tlearn: 1742.0548979\ttotal: 2.02s\tremaining: 2.65s\n",
      "13:\tlearn: 1734.0895904\ttotal: 2.18s\tremaining: 2.49s\n",
      "14:\tlearn: 1726.4820614\ttotal: 2.34s\tremaining: 2.34s\n",
      "15:\tlearn: 1720.1321770\ttotal: 2.49s\tremaining: 2.18s\n",
      "16:\tlearn: 1712.2944225\ttotal: 2.65s\tremaining: 2.02s\n",
      "17:\tlearn: 1707.2173341\ttotal: 2.8s\tremaining: 1.87s\n",
      "18:\tlearn: 1700.4964923\ttotal: 2.95s\tremaining: 1.71s\n",
      "19:\tlearn: 1692.1021686\ttotal: 3.11s\tremaining: 1.55s\n",
      "20:\tlearn: 1686.0458564\ttotal: 3.26s\tremaining: 1.4s\n",
      "21:\tlearn: 1680.7293974\ttotal: 3.41s\tremaining: 1.24s\n",
      "22:\tlearn: 1672.4306641\ttotal: 3.56s\tremaining: 1.08s\n",
      "23:\tlearn: 1664.4014422\ttotal: 3.72s\tremaining: 931ms\n",
      "24:\tlearn: 1661.3006811\ttotal: 3.87s\tremaining: 775ms\n",
      "25:\tlearn: 1656.8821781\ttotal: 4.01s\tremaining: 618ms\n",
      "26:\tlearn: 1651.0633378\ttotal: 4.17s\tremaining: 464ms\n",
      "27:\tlearn: 1647.1453067\ttotal: 4.33s\tremaining: 309ms\n",
      "28:\tlearn: 1642.5447107\ttotal: 4.47s\tremaining: 154ms\n",
      "29:\tlearn: 1638.0848735\ttotal: 4.62s\tremaining: 0us\n",
      "Learning rate set to 0.5\n",
      "0:\tlearn: 3078.6785423\ttotal: 160ms\tremaining: 4.64s\n",
      "1:\tlearn: 2455.8965272\ttotal: 323ms\tremaining: 4.52s\n",
      "2:\tlearn: 2136.8203559\ttotal: 483ms\tremaining: 4.34s\n",
      "3:\tlearn: 1994.9130417\ttotal: 627ms\tremaining: 4.07s\n",
      "4:\tlearn: 1905.4199172\ttotal: 772ms\tremaining: 3.86s\n",
      "5:\tlearn: 1870.1687385\ttotal: 912ms\tremaining: 3.65s\n",
      "6:\tlearn: 1848.1751975\ttotal: 1.06s\tremaining: 3.49s\n",
      "7:\tlearn: 1825.9542196\ttotal: 1.21s\tremaining: 3.31s\n",
      "8:\tlearn: 1807.8921426\ttotal: 1.34s\tremaining: 3.13s\n",
      "9:\tlearn: 1796.1559876\ttotal: 1.49s\tremaining: 2.99s\n",
      "10:\tlearn: 1784.6839826\ttotal: 1.64s\tremaining: 2.84s\n",
      "11:\tlearn: 1760.8732068\ttotal: 1.79s\tremaining: 2.68s\n",
      "12:\tlearn: 1744.0096878\ttotal: 1.92s\tremaining: 2.52s\n",
      "13:\tlearn: 1734.6633499\ttotal: 2.07s\tremaining: 2.37s\n",
      "14:\tlearn: 1727.7114669\ttotal: 2.22s\tremaining: 2.22s\n",
      "15:\tlearn: 1720.4046353\ttotal: 2.36s\tremaining: 2.07s\n",
      "16:\tlearn: 1707.2505019\ttotal: 2.52s\tremaining: 1.93s\n",
      "17:\tlearn: 1699.0421218\ttotal: 2.66s\tremaining: 1.77s\n",
      "18:\tlearn: 1683.7236282\ttotal: 2.8s\tremaining: 1.62s\n",
      "19:\tlearn: 1679.7105928\ttotal: 2.94s\tremaining: 1.47s\n",
      "20:\tlearn: 1671.4068700\ttotal: 3.08s\tremaining: 1.32s\n",
      "21:\tlearn: 1666.0065707\ttotal: 3.23s\tremaining: 1.17s\n",
      "22:\tlearn: 1661.0538330\ttotal: 3.37s\tremaining: 1.02s\n",
      "23:\tlearn: 1650.4768218\ttotal: 3.51s\tremaining: 877ms\n",
      "24:\tlearn: 1645.7345784\ttotal: 3.65s\tremaining: 730ms\n",
      "25:\tlearn: 1638.0183810\ttotal: 3.79s\tremaining: 583ms\n",
      "26:\tlearn: 1632.0626781\ttotal: 3.93s\tremaining: 437ms\n",
      "27:\tlearn: 1619.9998592\ttotal: 4.09s\tremaining: 292ms\n",
      "28:\tlearn: 1610.1369802\ttotal: 4.25s\tremaining: 147ms\n",
      "29:\tlearn: 1604.0613094\ttotal: 4.4s\tremaining: 0us\n",
      "Learning rate set to 0.5\n",
      "0:\tlearn: 3069.6464563\ttotal: 153ms\tremaining: 4.43s\n",
      "1:\tlearn: 2447.9092335\ttotal: 312ms\tremaining: 4.37s\n",
      "2:\tlearn: 2146.2055485\ttotal: 452ms\tremaining: 4.07s\n",
      "3:\tlearn: 1989.2172990\ttotal: 589ms\tremaining: 3.83s\n",
      "4:\tlearn: 1897.4432869\ttotal: 734ms\tremaining: 3.67s\n",
      "5:\tlearn: 1850.4790565\ttotal: 881ms\tremaining: 3.52s\n",
      "6:\tlearn: 1815.1366597\ttotal: 1.02s\tremaining: 3.36s\n",
      "7:\tlearn: 1794.9628108\ttotal: 1.18s\tremaining: 3.24s\n",
      "8:\tlearn: 1778.5889981\ttotal: 1.32s\tremaining: 3.08s\n",
      "9:\tlearn: 1759.2541598\ttotal: 1.47s\tremaining: 2.94s\n",
      "10:\tlearn: 1743.9550889\ttotal: 1.61s\tremaining: 2.79s\n",
      "11:\tlearn: 1734.8846737\ttotal: 1.75s\tremaining: 2.63s\n",
      "12:\tlearn: 1723.6663551\ttotal: 1.9s\tremaining: 2.48s\n",
      "13:\tlearn: 1718.7461189\ttotal: 2.04s\tremaining: 2.33s\n",
      "14:\tlearn: 1701.9858780\ttotal: 2.18s\tremaining: 2.18s\n",
      "15:\tlearn: 1698.3548365\ttotal: 2.34s\tremaining: 2.04s\n",
      "16:\tlearn: 1685.2816945\ttotal: 2.5s\tremaining: 1.91s\n",
      "17:\tlearn: 1679.6421186\ttotal: 2.64s\tremaining: 1.76s\n",
      "18:\tlearn: 1672.3295994\ttotal: 2.79s\tremaining: 1.61s\n",
      "19:\tlearn: 1666.8491067\ttotal: 2.94s\tremaining: 1.47s\n",
      "20:\tlearn: 1663.0790186\ttotal: 3.08s\tremaining: 1.32s\n",
      "21:\tlearn: 1656.8678906\ttotal: 3.22s\tremaining: 1.17s\n",
      "22:\tlearn: 1645.8321661\ttotal: 3.37s\tremaining: 1.02s\n",
      "23:\tlearn: 1640.3915397\ttotal: 3.51s\tremaining: 877ms\n",
      "24:\tlearn: 1634.8431724\ttotal: 3.66s\tremaining: 733ms\n",
      "25:\tlearn: 1631.9855582\ttotal: 3.81s\tremaining: 586ms\n",
      "26:\tlearn: 1625.9843118\ttotal: 3.96s\tremaining: 439ms\n",
      "27:\tlearn: 1618.7628451\ttotal: 4.1s\tremaining: 293ms\n",
      "28:\tlearn: 1608.7984404\ttotal: 4.25s\tremaining: 147ms\n",
      "29:\tlearn: 1603.7518558\ttotal: 4.4s\tremaining: 0us\n",
      "Learning rate set to 0.5\n",
      "0:\tlearn: 3079.9261844\ttotal: 156ms\tremaining: 4.53s\n",
      "1:\tlearn: 2454.2345969\ttotal: 313ms\tremaining: 4.38s\n",
      "2:\tlearn: 2150.8376195\ttotal: 459ms\tremaining: 4.13s\n",
      "3:\tlearn: 1987.8104195\ttotal: 597ms\tremaining: 3.88s\n",
      "4:\tlearn: 1900.5286725\ttotal: 740ms\tremaining: 3.7s\n",
      "5:\tlearn: 1860.7711958\ttotal: 891ms\tremaining: 3.56s\n",
      "6:\tlearn: 1832.9717384\ttotal: 1.05s\tremaining: 3.45s\n",
      "7:\tlearn: 1814.7974935\ttotal: 1.2s\tremaining: 3.29s\n",
      "8:\tlearn: 1796.8912266\ttotal: 1.35s\tremaining: 3.15s\n",
      "9:\tlearn: 1784.0041278\ttotal: 1.5s\tremaining: 3.01s\n",
      "10:\tlearn: 1769.9701710\ttotal: 1.65s\tremaining: 2.85s\n",
      "11:\tlearn: 1751.7279429\ttotal: 1.8s\tremaining: 2.7s\n",
      "12:\tlearn: 1735.8810532\ttotal: 1.95s\tremaining: 2.54s\n",
      "13:\tlearn: 1724.1922895\ttotal: 2.1s\tremaining: 2.4s\n",
      "14:\tlearn: 1715.5604189\ttotal: 2.24s\tremaining: 2.24s\n",
      "15:\tlearn: 1706.6826325\ttotal: 2.39s\tremaining: 2.09s\n",
      "16:\tlearn: 1701.0492717\ttotal: 2.54s\tremaining: 1.94s\n",
      "17:\tlearn: 1694.7493787\ttotal: 2.67s\tremaining: 1.78s\n",
      "18:\tlearn: 1682.0505973\ttotal: 2.81s\tremaining: 1.63s\n",
      "19:\tlearn: 1668.9442453\ttotal: 2.95s\tremaining: 1.48s\n",
      "20:\tlearn: 1658.1962100\ttotal: 3.09s\tremaining: 1.33s\n",
      "21:\tlearn: 1651.6779525\ttotal: 3.24s\tremaining: 1.18s\n",
      "22:\tlearn: 1644.5328152\ttotal: 3.39s\tremaining: 1.03s\n",
      "23:\tlearn: 1639.3076107\ttotal: 3.54s\tremaining: 884ms\n",
      "24:\tlearn: 1633.4372811\ttotal: 3.69s\tremaining: 738ms\n",
      "25:\tlearn: 1622.4936230\ttotal: 3.84s\tremaining: 591ms\n",
      "26:\tlearn: 1615.4333300\ttotal: 3.98s\tremaining: 443ms\n",
      "27:\tlearn: 1609.4148713\ttotal: 4.15s\tremaining: 297ms\n",
      "28:\tlearn: 1606.0519524\ttotal: 4.29s\tremaining: 148ms\n",
      "29:\tlearn: 1598.5981350\ttotal: 4.45s\tremaining: 0us\n",
      "Learning rate set to 0.5\n",
      "0:\tlearn: 3082.0089477\ttotal: 168ms\tremaining: 4.87s\n",
      "1:\tlearn: 2454.6674101\ttotal: 323ms\tremaining: 4.53s\n",
      "2:\tlearn: 2148.5933600\ttotal: 490ms\tremaining: 4.41s\n",
      "3:\tlearn: 1999.9466312\ttotal: 640ms\tremaining: 4.16s\n",
      "4:\tlearn: 1937.3286883\ttotal: 783ms\tremaining: 3.91s\n",
      "5:\tlearn: 1868.8105334\ttotal: 927ms\tremaining: 3.71s\n",
      "6:\tlearn: 1834.9909785\ttotal: 1.07s\tremaining: 3.51s\n",
      "7:\tlearn: 1813.0726590\ttotal: 1.22s\tremaining: 3.34s\n",
      "8:\tlearn: 1795.3892149\ttotal: 1.36s\tremaining: 3.17s\n",
      "9:\tlearn: 1780.8056475\ttotal: 1.5s\tremaining: 3.01s\n",
      "10:\tlearn: 1762.2603331\ttotal: 1.66s\tremaining: 2.86s\n",
      "11:\tlearn: 1749.6399061\ttotal: 1.8s\tremaining: 2.7s\n",
      "12:\tlearn: 1742.2203917\ttotal: 1.96s\tremaining: 2.56s\n",
      "13:\tlearn: 1727.8341892\ttotal: 2.09s\tremaining: 2.39s\n",
      "14:\tlearn: 1720.4614372\ttotal: 2.24s\tremaining: 2.24s\n",
      "15:\tlearn: 1712.9778295\ttotal: 2.38s\tremaining: 2.09s\n",
      "16:\tlearn: 1710.0267234\ttotal: 2.54s\tremaining: 1.94s\n",
      "17:\tlearn: 1702.5363970\ttotal: 2.68s\tremaining: 1.78s\n",
      "18:\tlearn: 1690.7226252\ttotal: 2.83s\tremaining: 1.64s\n",
      "19:\tlearn: 1683.6226218\ttotal: 2.97s\tremaining: 1.48s\n",
      "20:\tlearn: 1677.4368759\ttotal: 3.11s\tremaining: 1.33s\n",
      "21:\tlearn: 1667.1114864\ttotal: 3.28s\tremaining: 1.19s\n",
      "22:\tlearn: 1655.3076190\ttotal: 3.41s\tremaining: 1.04s\n",
      "23:\tlearn: 1649.6356785\ttotal: 3.56s\tremaining: 890ms\n",
      "24:\tlearn: 1642.6822941\ttotal: 3.71s\tremaining: 742ms\n",
      "25:\tlearn: 1631.4692311\ttotal: 3.86s\tremaining: 593ms\n",
      "26:\tlearn: 1622.9608602\ttotal: 4s\tremaining: 444ms\n",
      "27:\tlearn: 1612.6003000\ttotal: 4.15s\tremaining: 297ms\n",
      "28:\tlearn: 1605.9098337\ttotal: 4.3s\tremaining: 148ms\n",
      "29:\tlearn: 1602.2422159\ttotal: 4.44s\tremaining: 0us\n",
      "Learning rate set to 0.5\n",
      "0:\tlearn: 3093.8297313\ttotal: 156ms\tremaining: 6.07s\n",
      "1:\tlearn: 2475.3796984\ttotal: 326ms\tremaining: 6.19s\n",
      "2:\tlearn: 2156.6266422\ttotal: 491ms\tremaining: 6.05s\n",
      "3:\tlearn: 2006.5714861\ttotal: 636ms\tremaining: 5.72s\n",
      "4:\tlearn: 1914.8121367\ttotal: 782ms\tremaining: 5.47s\n",
      "5:\tlearn: 1870.1531961\ttotal: 932ms\tremaining: 5.28s\n",
      "6:\tlearn: 1839.5598768\ttotal: 1.08s\tremaining: 5.09s\n",
      "7:\tlearn: 1810.7447002\ttotal: 1.31s\tremaining: 5.25s\n",
      "8:\tlearn: 1796.8621761\ttotal: 1.49s\tremaining: 5.12s\n",
      "9:\tlearn: 1778.9436425\ttotal: 1.64s\tremaining: 4.92s\n",
      "10:\tlearn: 1766.7746729\ttotal: 1.78s\tremaining: 4.7s\n",
      "11:\tlearn: 1749.7277323\ttotal: 1.93s\tremaining: 4.51s\n",
      "12:\tlearn: 1742.0548979\ttotal: 2.09s\tremaining: 4.34s\n",
      "13:\tlearn: 1734.0895904\ttotal: 2.23s\tremaining: 4.15s\n",
      "14:\tlearn: 1726.4820614\ttotal: 2.38s\tremaining: 3.97s\n",
      "15:\tlearn: 1720.1321770\ttotal: 2.54s\tremaining: 3.8s\n",
      "16:\tlearn: 1712.2944225\ttotal: 2.69s\tremaining: 3.64s\n",
      "17:\tlearn: 1707.2173341\ttotal: 2.84s\tremaining: 3.47s\n",
      "18:\tlearn: 1700.4964923\ttotal: 2.99s\tremaining: 3.3s\n",
      "19:\tlearn: 1692.1021686\ttotal: 3.14s\tremaining: 3.14s\n",
      "20:\tlearn: 1686.0458564\ttotal: 3.28s\tremaining: 2.97s\n",
      "21:\tlearn: 1680.7293974\ttotal: 3.43s\tremaining: 2.81s\n",
      "22:\tlearn: 1672.4306641\ttotal: 3.58s\tremaining: 2.65s\n",
      "23:\tlearn: 1664.4014422\ttotal: 3.73s\tremaining: 2.49s\n",
      "24:\tlearn: 1661.3006811\ttotal: 3.88s\tremaining: 2.33s\n",
      "25:\tlearn: 1656.8821781\ttotal: 4.05s\tremaining: 2.18s\n",
      "26:\tlearn: 1651.0633378\ttotal: 4.2s\tremaining: 2.02s\n",
      "27:\tlearn: 1647.1453067\ttotal: 4.35s\tremaining: 1.86s\n",
      "28:\tlearn: 1642.5447107\ttotal: 4.5s\tremaining: 1.71s\n",
      "29:\tlearn: 1638.0848735\ttotal: 4.66s\tremaining: 1.55s\n",
      "30:\tlearn: 1629.7948310\ttotal: 4.8s\tremaining: 1.39s\n",
      "31:\tlearn: 1624.2745815\ttotal: 4.94s\tremaining: 1.23s\n",
      "32:\tlearn: 1620.7815582\ttotal: 5.08s\tremaining: 1.08s\n",
      "33:\tlearn: 1612.6825776\ttotal: 5.23s\tremaining: 922ms\n",
      "34:\tlearn: 1609.3286524\ttotal: 5.37s\tremaining: 768ms\n",
      "35:\tlearn: 1599.9895081\ttotal: 5.52s\tremaining: 613ms\n",
      "36:\tlearn: 1593.9573034\ttotal: 5.67s\tremaining: 459ms\n",
      "37:\tlearn: 1591.7652070\ttotal: 5.81s\tremaining: 306ms\n",
      "38:\tlearn: 1584.8106534\ttotal: 5.96s\tremaining: 153ms\n",
      "39:\tlearn: 1582.1646548\ttotal: 6.11s\tremaining: 0us\n",
      "Learning rate set to 0.5\n",
      "0:\tlearn: 3078.6785423\ttotal: 154ms\tremaining: 6s\n",
      "1:\tlearn: 2455.8965272\ttotal: 299ms\tremaining: 5.68s\n",
      "2:\tlearn: 2136.8203559\ttotal: 452ms\tremaining: 5.58s\n",
      "3:\tlearn: 1994.9130417\ttotal: 596ms\tremaining: 5.36s\n",
      "4:\tlearn: 1905.4199172\ttotal: 741ms\tremaining: 5.18s\n",
      "5:\tlearn: 1870.1687385\ttotal: 879ms\tremaining: 4.98s\n",
      "6:\tlearn: 1848.1751975\ttotal: 1.02s\tremaining: 4.81s\n",
      "7:\tlearn: 1825.9542196\ttotal: 1.16s\tremaining: 4.64s\n",
      "8:\tlearn: 1807.8921426\ttotal: 1.31s\tremaining: 4.5s\n",
      "9:\tlearn: 1796.1559876\ttotal: 1.46s\tremaining: 4.38s\n",
      "10:\tlearn: 1784.6839826\ttotal: 1.62s\tremaining: 4.27s\n",
      "11:\tlearn: 1760.8732068\ttotal: 1.76s\tremaining: 4.1s\n",
      "12:\tlearn: 1744.0096878\ttotal: 1.9s\tremaining: 3.94s\n",
      "13:\tlearn: 1734.6633499\ttotal: 2.04s\tremaining: 3.78s\n",
      "14:\tlearn: 1727.7114669\ttotal: 2.19s\tremaining: 3.64s\n",
      "15:\tlearn: 1720.4046353\ttotal: 2.33s\tremaining: 3.5s\n",
      "16:\tlearn: 1707.2505019\ttotal: 2.49s\tremaining: 3.37s\n",
      "17:\tlearn: 1699.0421218\ttotal: 2.64s\tremaining: 3.23s\n",
      "18:\tlearn: 1683.7236282\ttotal: 2.79s\tremaining: 3.08s\n",
      "19:\tlearn: 1679.7105928\ttotal: 2.93s\tremaining: 2.93s\n",
      "20:\tlearn: 1671.4068700\ttotal: 3.07s\tremaining: 2.78s\n",
      "21:\tlearn: 1666.0065707\ttotal: 3.22s\tremaining: 2.64s\n",
      "22:\tlearn: 1661.0538330\ttotal: 3.36s\tremaining: 2.48s\n",
      "23:\tlearn: 1650.4768218\ttotal: 3.5s\tremaining: 2.33s\n",
      "24:\tlearn: 1645.7345784\ttotal: 3.64s\tremaining: 2.18s\n",
      "25:\tlearn: 1638.0183810\ttotal: 3.79s\tremaining: 2.04s\n",
      "26:\tlearn: 1632.0626781\ttotal: 3.93s\tremaining: 1.89s\n",
      "27:\tlearn: 1619.9998592\ttotal: 4.08s\tremaining: 1.75s\n",
      "28:\tlearn: 1610.1369802\ttotal: 4.22s\tremaining: 1.6s\n",
      "29:\tlearn: 1604.0613094\ttotal: 4.36s\tremaining: 1.45s\n",
      "30:\tlearn: 1598.4869231\ttotal: 4.51s\tremaining: 1.31s\n",
      "31:\tlearn: 1593.6634308\ttotal: 4.66s\tremaining: 1.17s\n",
      "32:\tlearn: 1586.1627002\ttotal: 4.81s\tremaining: 1.02s\n",
      "33:\tlearn: 1581.9184084\ttotal: 4.96s\tremaining: 876ms\n",
      "34:\tlearn: 1579.9512637\ttotal: 5.11s\tremaining: 730ms\n",
      "35:\tlearn: 1575.5457327\ttotal: 5.26s\tremaining: 585ms\n",
      "36:\tlearn: 1574.0256326\ttotal: 5.41s\tremaining: 439ms\n",
      "37:\tlearn: 1570.9535091\ttotal: 5.55s\tremaining: 292ms\n",
      "38:\tlearn: 1563.2721135\ttotal: 5.69s\tremaining: 146ms\n",
      "39:\tlearn: 1559.7284609\ttotal: 5.84s\tremaining: 0us\n",
      "Learning rate set to 0.5\n",
      "0:\tlearn: 3069.6464563\ttotal: 152ms\tremaining: 5.94s\n",
      "1:\tlearn: 2447.9092335\ttotal: 313ms\tremaining: 5.94s\n",
      "2:\tlearn: 2146.2055485\ttotal: 475ms\tremaining: 5.86s\n",
      "3:\tlearn: 1989.2172990\ttotal: 614ms\tremaining: 5.53s\n",
      "4:\tlearn: 1897.4432869\ttotal: 764ms\tremaining: 5.35s\n",
      "5:\tlearn: 1850.4790565\ttotal: 909ms\tremaining: 5.15s\n",
      "6:\tlearn: 1815.1366597\ttotal: 1.05s\tremaining: 4.97s\n",
      "7:\tlearn: 1794.9628108\ttotal: 1.2s\tremaining: 4.81s\n",
      "8:\tlearn: 1778.5889981\ttotal: 1.35s\tremaining: 4.64s\n",
      "9:\tlearn: 1759.2541598\ttotal: 1.5s\tremaining: 4.49s\n",
      "10:\tlearn: 1743.9550889\ttotal: 1.65s\tremaining: 4.34s\n",
      "11:\tlearn: 1734.8846737\ttotal: 1.79s\tremaining: 4.17s\n",
      "12:\tlearn: 1723.6663551\ttotal: 1.93s\tremaining: 4.01s\n",
      "13:\tlearn: 1718.7461189\ttotal: 2.08s\tremaining: 3.87s\n",
      "14:\tlearn: 1701.9858780\ttotal: 2.23s\tremaining: 3.72s\n",
      "15:\tlearn: 1698.3548365\ttotal: 2.38s\tremaining: 3.57s\n",
      "16:\tlearn: 1685.2816945\ttotal: 2.52s\tremaining: 3.41s\n",
      "17:\tlearn: 1679.6421186\ttotal: 2.67s\tremaining: 3.26s\n",
      "18:\tlearn: 1672.3295994\ttotal: 2.81s\tremaining: 3.11s\n",
      "19:\tlearn: 1666.8491067\ttotal: 2.96s\tremaining: 2.96s\n",
      "20:\tlearn: 1663.0790186\ttotal: 3.1s\tremaining: 2.8s\n",
      "21:\tlearn: 1656.8678906\ttotal: 3.23s\tremaining: 2.65s\n",
      "22:\tlearn: 1645.8321661\ttotal: 3.37s\tremaining: 2.49s\n",
      "23:\tlearn: 1640.3915397\ttotal: 3.51s\tremaining: 2.34s\n",
      "24:\tlearn: 1634.8431724\ttotal: 3.65s\tremaining: 2.19s\n",
      "25:\tlearn: 1631.9855582\ttotal: 3.8s\tremaining: 2.05s\n",
      "26:\tlearn: 1625.9843118\ttotal: 3.95s\tremaining: 1.9s\n",
      "27:\tlearn: 1618.7628451\ttotal: 4.1s\tremaining: 1.76s\n",
      "28:\tlearn: 1608.7984404\ttotal: 4.24s\tremaining: 1.61s\n",
      "29:\tlearn: 1603.7518558\ttotal: 4.38s\tremaining: 1.46s\n",
      "30:\tlearn: 1598.8769683\ttotal: 4.52s\tremaining: 1.31s\n",
      "31:\tlearn: 1593.2423637\ttotal: 4.67s\tremaining: 1.17s\n",
      "32:\tlearn: 1589.0458256\ttotal: 4.81s\tremaining: 1.02s\n",
      "33:\tlearn: 1584.2745032\ttotal: 4.95s\tremaining: 874ms\n",
      "34:\tlearn: 1580.6356225\ttotal: 5.1s\tremaining: 728ms\n",
      "35:\tlearn: 1574.8154950\ttotal: 5.24s\tremaining: 582ms\n",
      "36:\tlearn: 1568.3344043\ttotal: 5.38s\tremaining: 436ms\n",
      "37:\tlearn: 1563.2787929\ttotal: 5.52s\tremaining: 291ms\n",
      "38:\tlearn: 1555.4296644\ttotal: 5.67s\tremaining: 145ms\n",
      "39:\tlearn: 1550.4371128\ttotal: 5.82s\tremaining: 0us\n",
      "Learning rate set to 0.5\n",
      "0:\tlearn: 3079.9261844\ttotal: 150ms\tremaining: 5.83s\n",
      "1:\tlearn: 2454.2345969\ttotal: 300ms\tremaining: 5.71s\n",
      "2:\tlearn: 2150.8376195\ttotal: 446ms\tremaining: 5.5s\n",
      "3:\tlearn: 1987.8104195\ttotal: 583ms\tremaining: 5.25s\n",
      "4:\tlearn: 1900.5286725\ttotal: 726ms\tremaining: 5.08s\n",
      "5:\tlearn: 1860.7711958\ttotal: 873ms\tremaining: 4.95s\n",
      "6:\tlearn: 1832.9717384\ttotal: 1.03s\tremaining: 4.84s\n",
      "7:\tlearn: 1814.7974935\ttotal: 1.18s\tremaining: 4.71s\n",
      "8:\tlearn: 1796.8912266\ttotal: 1.34s\tremaining: 4.61s\n",
      "9:\tlearn: 1784.0041278\ttotal: 1.49s\tremaining: 4.46s\n",
      "10:\tlearn: 1769.9701710\ttotal: 1.64s\tremaining: 4.32s\n",
      "11:\tlearn: 1751.7279429\ttotal: 1.78s\tremaining: 4.16s\n",
      "12:\tlearn: 1735.8810532\ttotal: 1.93s\tremaining: 4.01s\n",
      "13:\tlearn: 1724.1922895\ttotal: 2.08s\tremaining: 3.85s\n",
      "14:\tlearn: 1715.5604189\ttotal: 2.23s\tremaining: 3.71s\n",
      "15:\tlearn: 1706.6826325\ttotal: 2.37s\tremaining: 3.56s\n",
      "16:\tlearn: 1701.0492717\ttotal: 2.53s\tremaining: 3.42s\n",
      "17:\tlearn: 1694.7493787\ttotal: 2.67s\tremaining: 3.26s\n",
      "18:\tlearn: 1682.0505973\ttotal: 2.82s\tremaining: 3.11s\n",
      "19:\tlearn: 1668.9442453\ttotal: 2.96s\tremaining: 2.96s\n",
      "20:\tlearn: 1658.1962100\ttotal: 3.11s\tremaining: 2.81s\n",
      "21:\tlearn: 1651.6779525\ttotal: 3.25s\tremaining: 2.66s\n",
      "22:\tlearn: 1644.5328152\ttotal: 3.4s\tremaining: 2.51s\n",
      "23:\tlearn: 1639.3076107\ttotal: 3.55s\tremaining: 2.37s\n",
      "24:\tlearn: 1633.4372811\ttotal: 3.7s\tremaining: 2.22s\n",
      "25:\tlearn: 1622.4936230\ttotal: 3.84s\tremaining: 2.07s\n",
      "26:\tlearn: 1615.4333300\ttotal: 3.98s\tremaining: 1.92s\n",
      "27:\tlearn: 1609.4148713\ttotal: 4.13s\tremaining: 1.77s\n",
      "28:\tlearn: 1606.0519524\ttotal: 4.27s\tremaining: 1.62s\n",
      "29:\tlearn: 1598.5981350\ttotal: 4.43s\tremaining: 1.48s\n",
      "30:\tlearn: 1591.4220232\ttotal: 4.58s\tremaining: 1.33s\n",
      "31:\tlearn: 1587.3497012\ttotal: 4.74s\tremaining: 1.18s\n",
      "32:\tlearn: 1583.8882908\ttotal: 4.89s\tremaining: 1.04s\n",
      "33:\tlearn: 1578.5962817\ttotal: 5.03s\tremaining: 887ms\n",
      "34:\tlearn: 1570.9480669\ttotal: 5.17s\tremaining: 739ms\n",
      "35:\tlearn: 1566.0240858\ttotal: 5.32s\tremaining: 591ms\n",
      "36:\tlearn: 1563.1722259\ttotal: 5.47s\tremaining: 443ms\n",
      "37:\tlearn: 1559.0125847\ttotal: 5.62s\tremaining: 296ms\n",
      "38:\tlearn: 1554.9632157\ttotal: 5.77s\tremaining: 148ms\n",
      "39:\tlearn: 1551.4971104\ttotal: 5.93s\tremaining: 0us\n",
      "Learning rate set to 0.5\n",
      "0:\tlearn: 3082.0089477\ttotal: 167ms\tremaining: 6.5s\n",
      "1:\tlearn: 2454.6674101\ttotal: 329ms\tremaining: 6.26s\n",
      "2:\tlearn: 2148.5933600\ttotal: 483ms\tremaining: 5.96s\n",
      "3:\tlearn: 1999.9466312\ttotal: 638ms\tremaining: 5.75s\n",
      "4:\tlearn: 1937.3286883\ttotal: 784ms\tremaining: 5.49s\n",
      "5:\tlearn: 1868.8105334\ttotal: 938ms\tremaining: 5.32s\n",
      "6:\tlearn: 1834.9909785\ttotal: 1.08s\tremaining: 5.08s\n",
      "7:\tlearn: 1813.0726590\ttotal: 1.23s\tremaining: 4.91s\n",
      "8:\tlearn: 1795.3892149\ttotal: 1.37s\tremaining: 4.73s\n",
      "9:\tlearn: 1780.8056475\ttotal: 1.52s\tremaining: 4.55s\n",
      "10:\tlearn: 1762.2603331\ttotal: 1.66s\tremaining: 4.38s\n",
      "11:\tlearn: 1749.6399061\ttotal: 1.82s\tremaining: 4.24s\n",
      "12:\tlearn: 1742.2203917\ttotal: 1.97s\tremaining: 4.1s\n",
      "13:\tlearn: 1727.8341892\ttotal: 2.12s\tremaining: 3.94s\n",
      "14:\tlearn: 1720.4614372\ttotal: 2.28s\tremaining: 3.79s\n",
      "15:\tlearn: 1712.9778295\ttotal: 2.43s\tremaining: 3.64s\n",
      "16:\tlearn: 1710.0267234\ttotal: 2.58s\tremaining: 3.49s\n",
      "17:\tlearn: 1702.5363970\ttotal: 2.73s\tremaining: 3.34s\n",
      "18:\tlearn: 1690.7226252\ttotal: 2.88s\tremaining: 3.18s\n",
      "19:\tlearn: 1683.6226218\ttotal: 3.03s\tremaining: 3.03s\n",
      "20:\tlearn: 1677.4368759\ttotal: 3.18s\tremaining: 2.88s\n",
      "21:\tlearn: 1667.1114864\ttotal: 3.33s\tremaining: 2.72s\n",
      "22:\tlearn: 1655.3076190\ttotal: 3.47s\tremaining: 2.56s\n",
      "23:\tlearn: 1649.6356785\ttotal: 3.62s\tremaining: 2.41s\n",
      "24:\tlearn: 1642.6822941\ttotal: 3.77s\tremaining: 2.26s\n",
      "25:\tlearn: 1631.4692311\ttotal: 3.92s\tremaining: 2.11s\n",
      "26:\tlearn: 1622.9608602\ttotal: 4.05s\tremaining: 1.95s\n",
      "27:\tlearn: 1612.6003000\ttotal: 4.21s\tremaining: 1.8s\n",
      "28:\tlearn: 1605.9098337\ttotal: 4.35s\tremaining: 1.65s\n",
      "29:\tlearn: 1602.2422159\ttotal: 4.5s\tremaining: 1.5s\n",
      "30:\tlearn: 1596.1436633\ttotal: 4.65s\tremaining: 1.35s\n",
      "31:\tlearn: 1590.7090661\ttotal: 4.81s\tremaining: 1.2s\n",
      "32:\tlearn: 1587.6407344\ttotal: 4.96s\tremaining: 1.05s\n",
      "33:\tlearn: 1581.2755490\ttotal: 5.12s\tremaining: 903ms\n",
      "34:\tlearn: 1572.9400346\ttotal: 5.26s\tremaining: 751ms\n",
      "35:\tlearn: 1569.1894103\ttotal: 5.41s\tremaining: 601ms\n",
      "36:\tlearn: 1561.6217922\ttotal: 5.57s\tremaining: 451ms\n",
      "37:\tlearn: 1558.1710032\ttotal: 5.72s\tremaining: 301ms\n",
      "38:\tlearn: 1554.2451268\ttotal: 5.85s\tremaining: 150ms\n",
      "39:\tlearn: 1548.3156374\ttotal: 6s\tremaining: 0us\n",
      "Learning rate set to 0.5\n",
      "0:\tlearn: 3093.8297313\ttotal: 163ms\tremaining: 7.97s\n",
      "1:\tlearn: 2475.3796984\ttotal: 333ms\tremaining: 8s\n",
      "2:\tlearn: 2156.6266422\ttotal: 492ms\tremaining: 7.7s\n",
      "3:\tlearn: 2006.5714861\ttotal: 640ms\tremaining: 7.36s\n",
      "4:\tlearn: 1914.8121367\ttotal: 787ms\tremaining: 7.08s\n",
      "5:\tlearn: 1870.1531961\ttotal: 938ms\tremaining: 6.88s\n",
      "6:\tlearn: 1839.5598768\ttotal: 1.09s\tremaining: 6.69s\n",
      "7:\tlearn: 1810.7447002\ttotal: 1.25s\tremaining: 6.54s\n",
      "8:\tlearn: 1796.8621761\ttotal: 1.4s\tremaining: 6.38s\n",
      "9:\tlearn: 1778.9436425\ttotal: 1.55s\tremaining: 6.2s\n",
      "10:\tlearn: 1766.7746729\ttotal: 1.69s\tremaining: 6s\n",
      "11:\tlearn: 1749.7277323\ttotal: 1.85s\tremaining: 5.86s\n",
      "12:\tlearn: 1742.0548979\ttotal: 2.01s\tremaining: 5.72s\n",
      "13:\tlearn: 1734.0895904\ttotal: 2.16s\tremaining: 5.56s\n",
      "14:\tlearn: 1726.4820614\ttotal: 2.31s\tremaining: 5.39s\n",
      "15:\tlearn: 1720.1321770\ttotal: 2.46s\tremaining: 5.24s\n",
      "16:\tlearn: 1712.2944225\ttotal: 2.62s\tremaining: 5.08s\n",
      "17:\tlearn: 1707.2173341\ttotal: 2.77s\tremaining: 4.92s\n",
      "18:\tlearn: 1700.4964923\ttotal: 2.92s\tremaining: 4.76s\n",
      "19:\tlearn: 1692.1021686\ttotal: 3.06s\tremaining: 4.6s\n",
      "20:\tlearn: 1686.0458564\ttotal: 3.21s\tremaining: 4.43s\n",
      "21:\tlearn: 1680.7293974\ttotal: 3.36s\tremaining: 4.28s\n",
      "22:\tlearn: 1672.4306641\ttotal: 3.51s\tremaining: 4.12s\n",
      "23:\tlearn: 1664.4014422\ttotal: 3.66s\tremaining: 3.96s\n",
      "24:\tlearn: 1661.3006811\ttotal: 3.8s\tremaining: 3.8s\n",
      "25:\tlearn: 1656.8821781\ttotal: 3.95s\tremaining: 3.64s\n",
      "26:\tlearn: 1651.0633378\ttotal: 4.1s\tremaining: 3.49s\n",
      "27:\tlearn: 1647.1453067\ttotal: 4.25s\tremaining: 3.34s\n",
      "28:\tlearn: 1642.5447107\ttotal: 4.4s\tremaining: 3.19s\n",
      "29:\tlearn: 1638.0848735\ttotal: 4.55s\tremaining: 3.03s\n",
      "30:\tlearn: 1629.7948310\ttotal: 4.7s\tremaining: 2.88s\n",
      "31:\tlearn: 1624.2745815\ttotal: 4.86s\tremaining: 2.73s\n",
      "32:\tlearn: 1620.7815582\ttotal: 5.01s\tremaining: 2.58s\n",
      "33:\tlearn: 1612.6825776\ttotal: 5.16s\tremaining: 2.43s\n",
      "34:\tlearn: 1609.3286524\ttotal: 5.32s\tremaining: 2.28s\n",
      "35:\tlearn: 1599.9895081\ttotal: 5.47s\tremaining: 2.13s\n",
      "36:\tlearn: 1593.9573034\ttotal: 5.62s\tremaining: 1.98s\n",
      "37:\tlearn: 1591.7652070\ttotal: 5.77s\tremaining: 1.82s\n",
      "38:\tlearn: 1584.8106534\ttotal: 5.93s\tremaining: 1.67s\n",
      "39:\tlearn: 1582.1646548\ttotal: 6.08s\tremaining: 1.52s\n",
      "40:\tlearn: 1576.8322243\ttotal: 6.24s\tremaining: 1.37s\n",
      "41:\tlearn: 1572.3069160\ttotal: 6.39s\tremaining: 1.22s\n",
      "42:\tlearn: 1564.9807023\ttotal: 6.53s\tremaining: 1.06s\n",
      "43:\tlearn: 1562.7422812\ttotal: 6.68s\tremaining: 910ms\n",
      "44:\tlearn: 1557.5817478\ttotal: 6.83s\tremaining: 759ms\n",
      "45:\tlearn: 1551.9860459\ttotal: 6.99s\tremaining: 608ms\n",
      "46:\tlearn: 1546.4096487\ttotal: 7.16s\tremaining: 457ms\n",
      "47:\tlearn: 1537.8740980\ttotal: 7.31s\tremaining: 305ms\n",
      "48:\tlearn: 1535.0872130\ttotal: 7.45s\tremaining: 152ms\n",
      "49:\tlearn: 1532.1645793\ttotal: 7.61s\tremaining: 0us\n",
      "Learning rate set to 0.5\n",
      "0:\tlearn: 3078.6785423\ttotal: 163ms\tremaining: 7.97s\n",
      "1:\tlearn: 2455.8965272\ttotal: 314ms\tremaining: 7.53s\n",
      "2:\tlearn: 2136.8203559\ttotal: 480ms\tremaining: 7.53s\n",
      "3:\tlearn: 1994.9130417\ttotal: 636ms\tremaining: 7.32s\n",
      "4:\tlearn: 1905.4199172\ttotal: 789ms\tremaining: 7.1s\n",
      "5:\tlearn: 1870.1687385\ttotal: 937ms\tremaining: 6.87s\n",
      "6:\tlearn: 1848.1751975\ttotal: 1.09s\tremaining: 6.67s\n",
      "7:\tlearn: 1825.9542196\ttotal: 1.24s\tremaining: 6.49s\n",
      "8:\tlearn: 1807.8921426\ttotal: 1.38s\tremaining: 6.28s\n",
      "9:\tlearn: 1796.1559876\ttotal: 1.54s\tremaining: 6.15s\n",
      "10:\tlearn: 1784.6839826\ttotal: 1.69s\tremaining: 6.01s\n",
      "11:\tlearn: 1760.8732068\ttotal: 1.84s\tremaining: 5.83s\n",
      "12:\tlearn: 1744.0096878\ttotal: 1.98s\tremaining: 5.64s\n",
      "13:\tlearn: 1734.6633499\ttotal: 2.13s\tremaining: 5.47s\n",
      "14:\tlearn: 1727.7114669\ttotal: 2.27s\tremaining: 5.3s\n",
      "15:\tlearn: 1720.4046353\ttotal: 2.42s\tremaining: 5.15s\n",
      "16:\tlearn: 1707.2505019\ttotal: 2.58s\tremaining: 5.01s\n",
      "17:\tlearn: 1699.0421218\ttotal: 2.73s\tremaining: 4.85s\n",
      "18:\tlearn: 1683.7236282\ttotal: 2.88s\tremaining: 4.7s\n",
      "19:\tlearn: 1679.7105928\ttotal: 3.02s\tremaining: 4.53s\n",
      "20:\tlearn: 1671.4068700\ttotal: 3.15s\tremaining: 4.36s\n",
      "21:\tlearn: 1666.0065707\ttotal: 3.31s\tremaining: 4.21s\n",
      "22:\tlearn: 1661.0538330\ttotal: 3.44s\tremaining: 4.04s\n",
      "23:\tlearn: 1650.4768218\ttotal: 3.6s\tremaining: 3.9s\n",
      "24:\tlearn: 1645.7345784\ttotal: 3.74s\tremaining: 3.74s\n",
      "25:\tlearn: 1638.0183810\ttotal: 3.89s\tremaining: 3.59s\n",
      "26:\tlearn: 1632.0626781\ttotal: 4.04s\tremaining: 3.44s\n",
      "27:\tlearn: 1619.9998592\ttotal: 4.2s\tremaining: 3.3s\n",
      "28:\tlearn: 1610.1369802\ttotal: 4.34s\tremaining: 3.15s\n",
      "29:\tlearn: 1604.0613094\ttotal: 4.49s\tremaining: 3s\n",
      "30:\tlearn: 1598.4869231\ttotal: 4.64s\tremaining: 2.85s\n",
      "31:\tlearn: 1593.6634308\ttotal: 4.8s\tremaining: 2.7s\n",
      "32:\tlearn: 1586.1627002\ttotal: 4.94s\tremaining: 2.54s\n",
      "33:\tlearn: 1581.9184084\ttotal: 5.1s\tremaining: 2.4s\n",
      "34:\tlearn: 1579.9512637\ttotal: 5.25s\tremaining: 2.25s\n",
      "35:\tlearn: 1575.5457327\ttotal: 5.4s\tremaining: 2.1s\n",
      "36:\tlearn: 1574.0256326\ttotal: 5.54s\tremaining: 1.95s\n",
      "37:\tlearn: 1570.9535091\ttotal: 5.69s\tremaining: 1.79s\n",
      "38:\tlearn: 1563.2721135\ttotal: 5.84s\tremaining: 1.65s\n",
      "39:\tlearn: 1559.7284609\ttotal: 6s\tremaining: 1.5s\n",
      "40:\tlearn: 1554.4367830\ttotal: 6.15s\tremaining: 1.35s\n",
      "41:\tlearn: 1549.4283788\ttotal: 6.3s\tremaining: 1.2s\n",
      "42:\tlearn: 1546.6168242\ttotal: 6.46s\tremaining: 1.05s\n",
      "43:\tlearn: 1544.4107754\ttotal: 6.6s\tremaining: 901ms\n",
      "44:\tlearn: 1539.3011048\ttotal: 6.75s\tremaining: 751ms\n",
      "45:\tlearn: 1534.1872128\ttotal: 6.91s\tremaining: 601ms\n",
      "46:\tlearn: 1530.3821871\ttotal: 7.06s\tremaining: 451ms\n",
      "47:\tlearn: 1528.1835195\ttotal: 7.21s\tremaining: 300ms\n",
      "48:\tlearn: 1523.9725218\ttotal: 7.37s\tremaining: 150ms\n",
      "49:\tlearn: 1520.7333659\ttotal: 7.52s\tremaining: 0us\n",
      "Learning rate set to 0.5\n",
      "0:\tlearn: 3069.6464563\ttotal: 154ms\tremaining: 7.52s\n",
      "1:\tlearn: 2447.9092335\ttotal: 313ms\tremaining: 7.5s\n",
      "2:\tlearn: 2146.2055485\ttotal: 464ms\tremaining: 7.27s\n",
      "3:\tlearn: 1989.2172990\ttotal: 609ms\tremaining: 7s\n",
      "4:\tlearn: 1897.4432869\ttotal: 763ms\tremaining: 6.87s\n",
      "5:\tlearn: 1850.4790565\ttotal: 910ms\tremaining: 6.67s\n",
      "6:\tlearn: 1815.1366597\ttotal: 1.06s\tremaining: 6.52s\n",
      "7:\tlearn: 1794.9628108\ttotal: 1.22s\tremaining: 6.38s\n",
      "8:\tlearn: 1778.5889981\ttotal: 1.37s\tremaining: 6.25s\n",
      "9:\tlearn: 1759.2541598\ttotal: 1.52s\tremaining: 6.09s\n",
      "10:\tlearn: 1743.9550889\ttotal: 1.69s\tremaining: 6s\n",
      "11:\tlearn: 1734.8846737\ttotal: 1.84s\tremaining: 5.81s\n",
      "12:\tlearn: 1723.6663551\ttotal: 1.99s\tremaining: 5.67s\n",
      "13:\tlearn: 1718.7461189\ttotal: 2.15s\tremaining: 5.52s\n",
      "14:\tlearn: 1701.9858780\ttotal: 2.3s\tremaining: 5.36s\n",
      "15:\tlearn: 1698.3548365\ttotal: 2.45s\tremaining: 5.22s\n",
      "16:\tlearn: 1685.2816945\ttotal: 2.61s\tremaining: 5.07s\n",
      "17:\tlearn: 1679.6421186\ttotal: 2.77s\tremaining: 4.92s\n",
      "18:\tlearn: 1672.3295994\ttotal: 2.92s\tremaining: 4.76s\n",
      "19:\tlearn: 1666.8491067\ttotal: 3.07s\tremaining: 4.6s\n",
      "20:\tlearn: 1663.0790186\ttotal: 3.21s\tremaining: 4.44s\n",
      "21:\tlearn: 1656.8678906\ttotal: 3.37s\tremaining: 4.28s\n",
      "22:\tlearn: 1645.8321661\ttotal: 3.51s\tremaining: 4.12s\n",
      "23:\tlearn: 1640.3915397\ttotal: 3.66s\tremaining: 3.96s\n",
      "24:\tlearn: 1634.8431724\ttotal: 3.81s\tremaining: 3.81s\n",
      "25:\tlearn: 1631.9855582\ttotal: 3.96s\tremaining: 3.66s\n",
      "26:\tlearn: 1625.9843118\ttotal: 4.11s\tremaining: 3.5s\n",
      "27:\tlearn: 1618.7628451\ttotal: 4.26s\tremaining: 3.35s\n",
      "28:\tlearn: 1608.7984404\ttotal: 4.4s\tremaining: 3.19s\n",
      "29:\tlearn: 1603.7518558\ttotal: 4.55s\tremaining: 3.04s\n",
      "30:\tlearn: 1598.8769683\ttotal: 4.7s\tremaining: 2.88s\n",
      "31:\tlearn: 1593.2423637\ttotal: 4.85s\tremaining: 2.73s\n",
      "32:\tlearn: 1589.0458256\ttotal: 5s\tremaining: 2.57s\n",
      "33:\tlearn: 1584.2745032\ttotal: 5.14s\tremaining: 2.42s\n",
      "34:\tlearn: 1580.6356225\ttotal: 5.29s\tremaining: 2.27s\n",
      "35:\tlearn: 1574.8154950\ttotal: 5.43s\tremaining: 2.11s\n",
      "36:\tlearn: 1568.3344043\ttotal: 5.57s\tremaining: 1.96s\n",
      "37:\tlearn: 1563.2787929\ttotal: 5.72s\tremaining: 1.81s\n",
      "38:\tlearn: 1555.4296644\ttotal: 5.88s\tremaining: 1.66s\n",
      "39:\tlearn: 1550.4371128\ttotal: 6.03s\tremaining: 1.51s\n",
      "40:\tlearn: 1544.5906268\ttotal: 6.17s\tremaining: 1.35s\n",
      "41:\tlearn: 1540.4565665\ttotal: 6.32s\tremaining: 1.2s\n",
      "42:\tlearn: 1537.5069975\ttotal: 6.47s\tremaining: 1.05s\n",
      "43:\tlearn: 1533.0259998\ttotal: 6.62s\tremaining: 903ms\n",
      "44:\tlearn: 1530.0458665\ttotal: 6.76s\tremaining: 752ms\n",
      "45:\tlearn: 1525.8516929\ttotal: 6.91s\tremaining: 601ms\n",
      "46:\tlearn: 1523.0323102\ttotal: 7.05s\tremaining: 450ms\n",
      "47:\tlearn: 1518.3600077\ttotal: 7.19s\tremaining: 300ms\n",
      "48:\tlearn: 1517.1866105\ttotal: 7.34s\tremaining: 150ms\n",
      "49:\tlearn: 1514.8990389\ttotal: 7.47s\tremaining: 0us\n",
      "Learning rate set to 0.5\n",
      "0:\tlearn: 3079.9261844\ttotal: 144ms\tremaining: 7.04s\n",
      "1:\tlearn: 2454.2345969\ttotal: 310ms\tremaining: 7.44s\n",
      "2:\tlearn: 2150.8376195\ttotal: 453ms\tremaining: 7.09s\n",
      "3:\tlearn: 1987.8104195\ttotal: 596ms\tremaining: 6.85s\n",
      "4:\tlearn: 1900.5286725\ttotal: 737ms\tremaining: 6.63s\n",
      "5:\tlearn: 1860.7711958\ttotal: 894ms\tremaining: 6.55s\n",
      "6:\tlearn: 1832.9717384\ttotal: 1.04s\tremaining: 6.41s\n",
      "7:\tlearn: 1814.7974935\ttotal: 1.2s\tremaining: 6.28s\n",
      "8:\tlearn: 1796.8912266\ttotal: 1.35s\tremaining: 6.14s\n",
      "9:\tlearn: 1784.0041278\ttotal: 1.49s\tremaining: 5.97s\n",
      "10:\tlearn: 1769.9701710\ttotal: 1.63s\tremaining: 5.78s\n",
      "11:\tlearn: 1751.7279429\ttotal: 1.77s\tremaining: 5.62s\n",
      "12:\tlearn: 1735.8810532\ttotal: 1.93s\tremaining: 5.49s\n",
      "13:\tlearn: 1724.1922895\ttotal: 2.08s\tremaining: 5.34s\n",
      "14:\tlearn: 1715.5604189\ttotal: 2.22s\tremaining: 5.18s\n",
      "15:\tlearn: 1706.6826325\ttotal: 2.37s\tremaining: 5.03s\n",
      "16:\tlearn: 1701.0492717\ttotal: 2.52s\tremaining: 4.88s\n",
      "17:\tlearn: 1694.7493787\ttotal: 2.65s\tremaining: 4.72s\n",
      "18:\tlearn: 1682.0505973\ttotal: 2.78s\tremaining: 4.54s\n",
      "19:\tlearn: 1668.9442453\ttotal: 2.92s\tremaining: 4.38s\n",
      "20:\tlearn: 1658.1962100\ttotal: 3.06s\tremaining: 4.22s\n",
      "21:\tlearn: 1651.6779525\ttotal: 3.2s\tremaining: 4.08s\n",
      "22:\tlearn: 1644.5328152\ttotal: 3.35s\tremaining: 3.93s\n",
      "23:\tlearn: 1639.3076107\ttotal: 3.5s\tremaining: 3.79s\n",
      "24:\tlearn: 1633.4372811\ttotal: 3.65s\tremaining: 3.65s\n",
      "25:\tlearn: 1622.4936230\ttotal: 3.79s\tremaining: 3.5s\n",
      "26:\tlearn: 1615.4333300\ttotal: 3.94s\tremaining: 3.36s\n",
      "27:\tlearn: 1609.4148713\ttotal: 4.09s\tremaining: 3.21s\n",
      "28:\tlearn: 1606.0519524\ttotal: 4.24s\tremaining: 3.07s\n",
      "29:\tlearn: 1598.5981350\ttotal: 4.39s\tremaining: 2.93s\n",
      "30:\tlearn: 1591.4220232\ttotal: 4.53s\tremaining: 2.78s\n",
      "31:\tlearn: 1587.3497012\ttotal: 4.67s\tremaining: 2.63s\n",
      "32:\tlearn: 1583.8882908\ttotal: 4.82s\tremaining: 2.48s\n",
      "33:\tlearn: 1578.5962817\ttotal: 4.96s\tremaining: 2.33s\n",
      "34:\tlearn: 1570.9480669\ttotal: 5.11s\tremaining: 2.19s\n",
      "35:\tlearn: 1566.0240858\ttotal: 5.25s\tremaining: 2.04s\n",
      "36:\tlearn: 1563.1722259\ttotal: 5.39s\tremaining: 1.89s\n",
      "37:\tlearn: 1559.0125847\ttotal: 5.54s\tremaining: 1.75s\n",
      "38:\tlearn: 1554.9632157\ttotal: 5.68s\tremaining: 1.6s\n",
      "39:\tlearn: 1551.4971104\ttotal: 5.83s\tremaining: 1.46s\n",
      "40:\tlearn: 1546.8216217\ttotal: 5.97s\tremaining: 1.31s\n",
      "41:\tlearn: 1543.4939862\ttotal: 6.13s\tremaining: 1.17s\n",
      "42:\tlearn: 1542.4030930\ttotal: 6.28s\tremaining: 1.02s\n",
      "43:\tlearn: 1541.4401838\ttotal: 6.42s\tremaining: 875ms\n",
      "44:\tlearn: 1535.1790803\ttotal: 6.57s\tremaining: 729ms\n",
      "45:\tlearn: 1532.3221808\ttotal: 6.71s\tremaining: 583ms\n",
      "46:\tlearn: 1529.1720591\ttotal: 6.86s\tremaining: 438ms\n",
      "47:\tlearn: 1526.7829034\ttotal: 7.02s\tremaining: 293ms\n",
      "48:\tlearn: 1524.3421904\ttotal: 7.17s\tremaining: 146ms\n",
      "49:\tlearn: 1521.1138144\ttotal: 7.32s\tremaining: 0us\n",
      "Learning rate set to 0.5\n",
      "0:\tlearn: 3082.0089477\ttotal: 160ms\tremaining: 7.86s\n",
      "1:\tlearn: 2454.6674101\ttotal: 312ms\tremaining: 7.5s\n",
      "2:\tlearn: 2148.5933600\ttotal: 467ms\tremaining: 7.31s\n",
      "3:\tlearn: 1999.9466312\ttotal: 622ms\tremaining: 7.16s\n",
      "4:\tlearn: 1937.3286883\ttotal: 767ms\tremaining: 6.9s\n",
      "5:\tlearn: 1868.8105334\ttotal: 920ms\tremaining: 6.74s\n",
      "6:\tlearn: 1834.9909785\ttotal: 1.06s\tremaining: 6.54s\n",
      "7:\tlearn: 1813.0726590\ttotal: 1.22s\tremaining: 6.39s\n",
      "8:\tlearn: 1795.3892149\ttotal: 1.37s\tremaining: 6.23s\n",
      "9:\tlearn: 1780.8056475\ttotal: 1.52s\tremaining: 6.06s\n",
      "10:\tlearn: 1762.2603331\ttotal: 1.67s\tremaining: 5.92s\n",
      "11:\tlearn: 1749.6399061\ttotal: 1.82s\tremaining: 5.77s\n",
      "12:\tlearn: 1742.2203917\ttotal: 1.97s\tremaining: 5.6s\n",
      "13:\tlearn: 1727.8341892\ttotal: 2.11s\tremaining: 5.42s\n",
      "14:\tlearn: 1720.4614372\ttotal: 2.26s\tremaining: 5.26s\n",
      "15:\tlearn: 1712.9778295\ttotal: 2.4s\tremaining: 5.1s\n",
      "16:\tlearn: 1710.0267234\ttotal: 2.54s\tremaining: 4.93s\n",
      "17:\tlearn: 1702.5363970\ttotal: 2.69s\tremaining: 4.78s\n",
      "18:\tlearn: 1690.7226252\ttotal: 2.83s\tremaining: 4.61s\n",
      "19:\tlearn: 1683.6226218\ttotal: 2.98s\tremaining: 4.46s\n",
      "20:\tlearn: 1677.4368759\ttotal: 3.13s\tremaining: 4.33s\n",
      "21:\tlearn: 1667.1114864\ttotal: 3.28s\tremaining: 4.17s\n",
      "22:\tlearn: 1655.3076190\ttotal: 3.41s\tremaining: 4s\n",
      "23:\tlearn: 1649.6356785\ttotal: 3.56s\tremaining: 3.86s\n",
      "24:\tlearn: 1642.6822941\ttotal: 3.71s\tremaining: 3.71s\n",
      "25:\tlearn: 1631.4692311\ttotal: 3.86s\tremaining: 3.57s\n",
      "26:\tlearn: 1622.9608602\ttotal: 4s\tremaining: 3.41s\n",
      "27:\tlearn: 1612.6003000\ttotal: 4.16s\tremaining: 3.27s\n",
      "28:\tlearn: 1605.9098337\ttotal: 4.3s\tremaining: 3.11s\n",
      "29:\tlearn: 1602.2422159\ttotal: 4.44s\tremaining: 2.96s\n",
      "30:\tlearn: 1596.1436633\ttotal: 4.58s\tremaining: 2.81s\n",
      "31:\tlearn: 1590.7090661\ttotal: 4.73s\tremaining: 2.66s\n",
      "32:\tlearn: 1587.6407344\ttotal: 4.88s\tremaining: 2.51s\n",
      "33:\tlearn: 1581.2755490\ttotal: 5.02s\tremaining: 2.36s\n",
      "34:\tlearn: 1572.9400346\ttotal: 5.17s\tremaining: 2.22s\n",
      "35:\tlearn: 1569.1894103\ttotal: 5.32s\tremaining: 2.07s\n",
      "36:\tlearn: 1561.6217922\ttotal: 5.47s\tremaining: 1.92s\n",
      "37:\tlearn: 1558.1710032\ttotal: 5.62s\tremaining: 1.77s\n",
      "38:\tlearn: 1554.2451268\ttotal: 5.75s\tremaining: 1.62s\n",
      "39:\tlearn: 1548.3156374\ttotal: 5.9s\tremaining: 1.47s\n",
      "40:\tlearn: 1544.3465490\ttotal: 6.05s\tremaining: 1.33s\n",
      "41:\tlearn: 1541.0280968\ttotal: 6.19s\tremaining: 1.18s\n",
      "42:\tlearn: 1537.7968833\ttotal: 6.34s\tremaining: 1.03s\n",
      "43:\tlearn: 1531.5951571\ttotal: 6.48s\tremaining: 884ms\n",
      "44:\tlearn: 1528.2339726\ttotal: 6.63s\tremaining: 737ms\n",
      "45:\tlearn: 1524.3519250\ttotal: 6.78s\tremaining: 590ms\n",
      "46:\tlearn: 1524.0499977\ttotal: 6.93s\tremaining: 442ms\n",
      "47:\tlearn: 1520.4160283\ttotal: 7.07s\tremaining: 295ms\n",
      "48:\tlearn: 1515.1647379\ttotal: 7.22s\tremaining: 147ms\n",
      "49:\tlearn: 1512.5620062\ttotal: 7.36s\tremaining: 0us\n",
      "Learning rate set to 0.5\n",
      "0:\tlearn: 3876.5315190\ttotal: 54.7ms\tremaining: 492ms\n",
      "1:\tlearn: 3531.3221713\ttotal: 91.2ms\tremaining: 365ms\n",
      "2:\tlearn: 3314.5674056\ttotal: 145ms\tremaining: 339ms\n",
      "3:\tlearn: 3176.6439953\ttotal: 179ms\tremaining: 269ms\n",
      "4:\tlearn: 3069.9720881\ttotal: 217ms\tremaining: 217ms\n",
      "5:\tlearn: 2966.3326225\ttotal: 268ms\tremaining: 179ms\n",
      "6:\tlearn: 2894.7233045\ttotal: 309ms\tremaining: 132ms\n",
      "7:\tlearn: 2822.1617164\ttotal: 342ms\tremaining: 85.6ms\n",
      "8:\tlearn: 2766.7664681\ttotal: 381ms\tremaining: 42.3ms\n",
      "9:\tlearn: 2708.9942482\ttotal: 420ms\tremaining: 0us\n"
     ]
    },
    {
     "data": {
      "text/plain": [
       "{'max_depth': 1, 'n_estimators': 10}"
      ]
     },
     "execution_count": 21,
     "metadata": {},
     "output_type": "execute_result"
    }
   ],
   "source": [
    "parametrs = {'n_estimators': range (10, 51, 10),\n",
    "              'max_depth': range (1,13, 2)            \n",
    "}\n",
    "catboost = CatBoostRegressor(random_state = 12345, cat_features = cat_features)\n",
    "grid_cb = GridSearchCV(catboost, parametrs, cv=5, scoring = rmse_s)\n",
    "grid_cb.fit(features_train_gd, target_train_gd)\n",
    "grid_cb.best_params_"
   ]
  },
  {
   "cell_type": "code",
   "execution_count": 22,
   "metadata": {},
   "outputs": [
    {
     "name": "stdout",
     "output_type": "stream",
     "text": [
      "Learning rate set to 0.171507\n",
      "0:\tlearn: 4034.0833587\ttotal: 330ms\tremaining: 2m 44s\n",
      "100:\tlearn: 1751.1664365\ttotal: 24.3s\tremaining: 1m 36s\n",
      "200:\tlearn: 1675.0330972\ttotal: 47.9s\tremaining: 1m 11s\n",
      "300:\tlearn: 1638.6991248\ttotal: 1m 12s\tremaining: 47.9s\n",
      "400:\tlearn: 1610.4895601\ttotal: 1m 39s\tremaining: 24.5s\n",
      "499:\tlearn: 1591.3018127\ttotal: 2m 5s\tremaining: 0us\n",
      "rmse = 1659.9391200352848\n",
      "CPU times: user 2min 6s, sys: 633 ms, total: 2min 7s\n",
      "Wall time: 2min 9s\n"
     ]
    }
   ],
   "source": [
    "%%time\n",
    "start = time.time()\n",
    "catboost = CatBoostRegressor(random_state = 12345, cat_features = cat_features, loss_function = 'RMSE', iterations = 500)\n",
    "catboost.fit(features_train_gd, target_train_gd, verbose = 100)\n",
    "end = time.time()\n",
    "time_cb = end - start\n",
    "start = time.time()\n",
    "predictions_valid_cb = catboost.predict(features_valid_gd) \n",
    "result_cb = mean_squared_error(target_valid_gd, predictions_valid_cb)**0.5\n",
    "end = time.time()\n",
    "time_cb_pred = end - start\n",
    "print('rmse =', result_cb)"
   ]
  },
  {
   "cell_type": "markdown",
   "metadata": {
    "scrolled": true
   },
   "source": [
    "### LightGBM"
   ]
  },
  {
   "cell_type": "code",
   "execution_count": 27,
   "metadata": {
    "scrolled": true
   },
   "outputs": [
    {
     "name": "stdout",
     "output_type": "stream",
     "text": [
      "<class 'pandas.core.frame.DataFrame'>\n",
      "Int64Index: 244557 entries, 197805 to 217570\n",
      "Data columns (total 10 columns):\n",
      " #   Column             Non-Null Count   Dtype   \n",
      "---  ------             --------------   -----   \n",
      " 0   VehicleType        244557 non-null  category\n",
      " 1   RegistrationYear   244557 non-null  float64 \n",
      " 2   Gearbox            244557 non-null  category\n",
      " 3   Power              244557 non-null  float64 \n",
      " 4   Model              244557 non-null  category\n",
      " 5   Kilometer          244557 non-null  float64 \n",
      " 6   RegistrationMonth  244557 non-null  float64 \n",
      " 7   FuelType           244557 non-null  category\n",
      " 8   Brand              244557 non-null  category\n",
      " 9   NotRepaired        244557 non-null  category\n",
      "dtypes: category(6), float64(4)\n",
      "memory usage: 11.0 MB\n"
     ]
    }
   ],
   "source": [
    "features_train_gd[['VehicleType', 'Gearbox', 'Model', 'FuelType', 'Brand', 'NotRepaired']] = features_train_gd[['VehicleType', 'Gearbox', 'Model', 'FuelType', 'Brand', 'NotRepaired']].astype('category')\n",
    "features_valid_gd[['VehicleType', 'Gearbox', 'Model', 'FuelType', 'Brand', 'NotRepaired']] = features_valid_gd[['VehicleType', 'Gearbox', 'Model', 'FuelType', 'Brand', 'NotRepaired']].astype('category')\n",
    "features_train_gd.info()"
   ]
  },
  {
   "cell_type": "code",
   "execution_count": 24,
   "metadata": {
    "scrolled": true
   },
   "outputs": [
    {
     "data": {
      "text/plain": [
       "{'max_depth': 1, 'n_estimators': 10}"
      ]
     },
     "execution_count": 24,
     "metadata": {},
     "output_type": "execute_result"
    }
   ],
   "source": [
    "parametrs = {'n_estimators': range (10, 51, 10),\n",
    "              'max_depth': range (1,13, 2)            \n",
    "}\n",
    "LGBM = LGBMRegressor(random_state = 12345)\n",
    "grid_lgbm = GridSearchCV(LGBM, parametrs, cv=5, scoring=rmse_s)\n",
    "grid_lgbm.fit(features_train_gd, target_train_gd)\n",
    "grid_lgbm.best_params_"
   ]
  },
  {
   "cell_type": "code",
   "execution_count": 36,
   "metadata": {},
   "outputs": [
    {
     "name": "stdout",
     "output_type": "stream",
     "text": [
      "rmse = 3617.4344295606793\n",
      "CPU times: user 4.72 s, sys: 43.9 ms, total: 4.77 s\n",
      "Wall time: 4.7 s\n"
     ]
    }
   ],
   "source": [
    "%%time\n",
    "start = time.time()\n",
    "model_lgbm = LGBMRegressor(random_state = 12345, max_depth = 1, n_estimators =10, metrics = 'rmse_s')\n",
    "model_lgbm.fit(features_train_gd, target_train_gd)\n",
    "end = time.time()\n",
    "time_lgbm = end - start\n",
    "start = time.time()\n",
    "predictions_valid_lgbm = model_lgbm.predict(features_valid_gd) \n",
    "result_lgbm = mean_squared_error(target_valid_gd, predictions_valid_lgbm)**0.5\n",
    "end = time.time()\n",
    "time_lgbm_pred = end - start\n",
    "print('rmse =', result_lgbm)"
   ]
  },
  {
   "cell_type": "markdown",
   "metadata": {
    "scrolled": true
   },
   "source": [
    "**Вывод**\n",
    "\n",
    "Лучшей по показателю rmse оказалась модель catboost."
   ]
  },
  {
   "cell_type": "markdown",
   "metadata": {},
   "source": [
    "## Анализ моделей\n",
    "\n",
    "Соберем результаты в один датасет:"
   ]
  },
  {
   "cell_type": "code",
   "execution_count": 31,
   "metadata": {},
   "outputs": [
    {
     "data": {
      "text/html": [
       "<div>\n",
       "<style scoped>\n",
       "    .dataframe tbody tr th:only-of-type {\n",
       "        vertical-align: middle;\n",
       "    }\n",
       "\n",
       "    .dataframe tbody tr th {\n",
       "        vertical-align: top;\n",
       "    }\n",
       "\n",
       "    .dataframe thead th {\n",
       "        text-align: right;\n",
       "    }\n",
       "</style>\n",
       "<table border=\"1\" class=\"dataframe\">\n",
       "  <thead>\n",
       "    <tr style=\"text-align: right;\">\n",
       "      <th></th>\n",
       "      <th>RMSE</th>\n",
       "      <th>Time</th>\n",
       "      <th>Time_pred</th>\n",
       "    </tr>\n",
       "  </thead>\n",
       "  <tbody>\n",
       "    <tr>\n",
       "      <th>LinearRegression</th>\n",
       "      <td>2847.654526</td>\n",
       "      <td>79.754377</td>\n",
       "      <td>0.202178</td>\n",
       "    </tr>\n",
       "    <tr>\n",
       "      <th>CatBoostRegressor</th>\n",
       "      <td>1659.939120</td>\n",
       "      <td>128.661971</td>\n",
       "      <td>0.464828</td>\n",
       "    </tr>\n",
       "    <tr>\n",
       "      <th>LGBMRegressor</th>\n",
       "      <td>3617.434430</td>\n",
       "      <td>4.229302</td>\n",
       "      <td>0.105499</td>\n",
       "    </tr>\n",
       "  </tbody>\n",
       "</table>\n",
       "</div>"
      ],
      "text/plain": [
       "                          RMSE        Time  Time_pred\n",
       "LinearRegression   2847.654526   79.754377   0.202178\n",
       "CatBoostRegressor  1659.939120  128.661971   0.464828\n",
       "LGBMRegressor      3617.434430    4.229302   0.105499"
      ]
     },
     "execution_count": 31,
     "metadata": {},
     "output_type": "execute_result"
    }
   ],
   "source": [
    "analysis = {'RMSE' : pd.Series([result_lr, result_cb, result_lgbm], index = ['LinearRegression', 'CatBoostRegressor', 'LGBMRegressor']),\n",
    "            'Time' : pd.Series([time_lr, time_cb, time_lgbm], index = ['LinearRegression', 'CatBoostRegressor', 'LGBMRegressor']),\n",
    "            'Time_pred' : pd.Series([time_lr_pred, time_cb_pred, time_lgbm_pred], index = ['LinearRegression', 'CatBoostRegressor', 'LGBMRegressor'])\n",
    "}\n",
    "df_analysis = pd.DataFrame(analysis)\n",
    "df_analysis"
   ]
  },
  {
   "cell_type": "markdown",
   "metadata": {
    "scrolled": true
   },
   "source": [
    "**Вывод**\n",
    "\n",
    "Лучшим по показателям RMSE является catboost, но при этом у этой модели самое долгое обучения и предсказание, далее идет линейная регрессия она имеет средние показатели, а после идет модель LGBM у неё самый низкий показатель RMSE, но при этому самая большая скорость."
   ]
  }
 ],
 "metadata": {
  "ExecuteTimeLog": [
   {
    "duration": 433,
    "start_time": "2022-04-17T09:23:40.478Z"
   },
   {
    "duration": 840,
    "start_time": "2022-04-17T09:23:59.239Z"
   },
   {
    "duration": 835,
    "start_time": "2022-04-17T09:24:02.989Z"
   },
   {
    "duration": 1166,
    "start_time": "2022-04-17T09:24:05.892Z"
   },
   {
    "duration": 913,
    "start_time": "2022-04-17T09:24:32.926Z"
   },
   {
    "duration": 1126,
    "start_time": "2022-04-17T09:26:49.858Z"
   },
   {
    "duration": 52,
    "start_time": "2022-04-17T09:30:17.509Z"
   },
   {
    "duration": 369,
    "start_time": "2022-04-17T09:30:21.541Z"
   },
   {
    "duration": 1204,
    "start_time": "2022-04-17T09:30:23.104Z"
   },
   {
    "duration": 841,
    "start_time": "2022-04-17T09:30:39.259Z"
   },
   {
    "duration": 193,
    "start_time": "2022-04-17T09:47:02.146Z"
   },
   {
    "duration": 3,
    "start_time": "2022-04-17T09:48:05.652Z"
   },
   {
    "duration": 3,
    "start_time": "2022-04-17T09:48:19.261Z"
   },
   {
    "duration": 2,
    "start_time": "2022-04-17T09:48:52.619Z"
   },
   {
    "duration": 23,
    "start_time": "2022-04-17T09:54:42.729Z"
   },
   {
    "duration": 50,
    "start_time": "2022-04-17T09:55:06.724Z"
   },
   {
    "duration": 26,
    "start_time": "2022-04-17T09:55:10.858Z"
   },
   {
    "duration": 29,
    "start_time": "2022-04-17T09:55:13.266Z"
   },
   {
    "duration": 43,
    "start_time": "2022-04-17T09:55:18.698Z"
   },
   {
    "duration": 97,
    "start_time": "2022-04-17T09:55:44.920Z"
   },
   {
    "duration": 36,
    "start_time": "2022-04-17T09:56:42.992Z"
   },
   {
    "duration": 49,
    "start_time": "2022-04-17T09:56:56.385Z"
   },
   {
    "duration": 10,
    "start_time": "2022-04-17T09:58:07.301Z"
   },
   {
    "duration": 3,
    "start_time": "2022-04-17T09:58:13.378Z"
   },
   {
    "duration": 810,
    "start_time": "2022-04-17T09:58:13.383Z"
   },
   {
    "duration": 147,
    "start_time": "2022-04-17T09:58:14.195Z"
   },
   {
    "duration": 64,
    "start_time": "2022-04-17T09:58:14.344Z"
   },
   {
    "duration": 9,
    "start_time": "2022-04-17T09:58:14.410Z"
   },
   {
    "duration": 50,
    "start_time": "2022-04-17T09:58:47.228Z"
   },
   {
    "duration": 168,
    "start_time": "2022-04-17T09:59:18.355Z"
   },
   {
    "duration": 178,
    "start_time": "2022-04-17T09:59:22.041Z"
   },
   {
    "duration": 176,
    "start_time": "2022-04-17T10:00:48.089Z"
   },
   {
    "duration": 2,
    "start_time": "2022-04-17T10:01:33.262Z"
   },
   {
    "duration": 843,
    "start_time": "2022-04-17T10:01:33.267Z"
   },
   {
    "duration": 153,
    "start_time": "2022-04-17T10:01:34.112Z"
   },
   {
    "duration": 74,
    "start_time": "2022-04-17T10:01:34.266Z"
   },
   {
    "duration": 199,
    "start_time": "2022-04-17T10:01:34.342Z"
   },
   {
    "duration": 138,
    "start_time": "2022-04-17T10:05:55.494Z"
   },
   {
    "duration": 139,
    "start_time": "2022-04-17T10:07:30.018Z"
   },
   {
    "duration": 141,
    "start_time": "2022-04-17T10:07:45.086Z"
   },
   {
    "duration": 147,
    "start_time": "2022-04-17T10:07:59.069Z"
   },
   {
    "duration": 100,
    "start_time": "2022-04-17T10:08:08.966Z"
   },
   {
    "duration": 87,
    "start_time": "2022-04-17T10:09:03.889Z"
   },
   {
    "duration": 94,
    "start_time": "2022-04-17T10:09:09.791Z"
   },
   {
    "duration": 93,
    "start_time": "2022-04-17T10:09:33.826Z"
   },
   {
    "duration": 106,
    "start_time": "2022-04-17T10:10:01.087Z"
   },
   {
    "duration": 94,
    "start_time": "2022-04-17T10:10:13.415Z"
   },
   {
    "duration": 95,
    "start_time": "2022-04-17T10:11:17.698Z"
   },
   {
    "duration": 136,
    "start_time": "2022-04-17T10:11:23.724Z"
   },
   {
    "duration": 154,
    "start_time": "2022-04-17T10:12:08.285Z"
   },
   {
    "duration": 87,
    "start_time": "2022-04-17T10:12:27.268Z"
   },
   {
    "duration": 294,
    "start_time": "2022-04-17T10:12:30.204Z"
   },
   {
    "duration": 2568,
    "start_time": "2022-04-17T10:14:05.401Z"
   },
   {
    "duration": 109,
    "start_time": "2022-04-17T10:14:13.875Z"
   },
   {
    "duration": 404,
    "start_time": "2022-04-17T10:14:28.126Z"
   },
   {
    "duration": 246,
    "start_time": "2022-04-17T10:14:58.947Z"
   },
   {
    "duration": 269,
    "start_time": "2022-04-17T10:16:33.368Z"
   },
   {
    "duration": 275,
    "start_time": "2022-04-17T10:17:04.154Z"
   },
   {
    "duration": 214,
    "start_time": "2022-04-17T10:17:07.393Z"
   },
   {
    "duration": 265,
    "start_time": "2022-04-17T10:17:20.038Z"
   },
   {
    "duration": 464,
    "start_time": "2022-04-17T10:25:03.185Z"
   },
   {
    "duration": 153,
    "start_time": "2022-04-17T10:25:13.187Z"
   },
   {
    "duration": 188,
    "start_time": "2022-04-17T10:25:39.635Z"
   },
   {
    "duration": 3,
    "start_time": "2022-04-17T10:38:31.594Z"
   },
   {
    "duration": 773,
    "start_time": "2022-04-17T10:38:31.598Z"
   },
   {
    "duration": 143,
    "start_time": "2022-04-17T10:38:32.373Z"
   },
   {
    "duration": 51,
    "start_time": "2022-04-17T10:38:32.518Z"
   },
   {
    "duration": 128,
    "start_time": "2022-04-17T10:38:32.571Z"
   },
   {
    "duration": 46,
    "start_time": "2022-04-17T10:38:32.701Z"
   },
   {
    "duration": 3,
    "start_time": "2022-04-17T10:39:05.136Z"
   },
   {
    "duration": 154,
    "start_time": "2022-04-17T10:39:12.610Z"
   },
   {
    "duration": 72,
    "start_time": "2022-04-17T10:39:16.129Z"
   },
   {
    "duration": 110,
    "start_time": "2022-04-17T10:39:44.389Z"
   },
   {
    "duration": 3,
    "start_time": "2022-04-17T10:39:47.429Z"
   },
   {
    "duration": 701,
    "start_time": "2022-04-17T10:39:47.434Z"
   },
   {
    "duration": 122,
    "start_time": "2022-04-17T10:39:48.137Z"
   },
   {
    "duration": 66,
    "start_time": "2022-04-17T10:39:48.261Z"
   },
   {
    "duration": 113,
    "start_time": "2022-04-17T10:39:48.329Z"
   },
   {
    "duration": 39,
    "start_time": "2022-04-17T10:39:48.443Z"
   },
   {
    "duration": 85,
    "start_time": "2022-04-17T10:43:45.595Z"
   },
   {
    "duration": 155,
    "start_time": "2022-04-17T10:47:46.988Z"
   },
   {
    "duration": 134,
    "start_time": "2022-04-17T10:47:51.948Z"
   },
   {
    "duration": 12,
    "start_time": "2022-04-17T10:53:53.229Z"
   },
   {
    "duration": 3,
    "start_time": "2022-04-17T10:54:02.961Z"
   },
   {
    "duration": 915,
    "start_time": "2022-04-17T10:54:02.968Z"
   },
   {
    "duration": 143,
    "start_time": "2022-04-17T10:54:03.885Z"
   },
   {
    "duration": 89,
    "start_time": "2022-04-17T10:54:04.030Z"
   },
   {
    "duration": 141,
    "start_time": "2022-04-17T10:54:04.126Z"
   },
   {
    "duration": 69,
    "start_time": "2022-04-17T10:54:04.269Z"
   },
   {
    "duration": 191,
    "start_time": "2022-04-17T10:54:04.340Z"
   },
   {
    "duration": 17,
    "start_time": "2022-04-17T10:54:36.638Z"
   },
   {
    "duration": 3,
    "start_time": "2022-04-17T10:54:44.743Z"
   },
   {
    "duration": 814,
    "start_time": "2022-04-17T10:54:44.749Z"
   },
   {
    "duration": 141,
    "start_time": "2022-04-17T10:54:45.565Z"
   },
   {
    "duration": 52,
    "start_time": "2022-04-17T10:54:45.708Z"
   },
   {
    "duration": 139,
    "start_time": "2022-04-17T10:54:45.763Z"
   },
   {
    "duration": 59,
    "start_time": "2022-04-17T10:54:45.904Z"
   },
   {
    "duration": 181,
    "start_time": "2022-04-17T10:54:45.965Z"
   },
   {
    "duration": 31,
    "start_time": "2022-04-17T10:56:41.665Z"
   },
   {
    "duration": 3,
    "start_time": "2022-04-17T11:06:12.155Z"
   },
   {
    "duration": 18,
    "start_time": "2022-04-17T11:07:31.201Z"
   },
   {
    "duration": 18,
    "start_time": "2022-04-17T11:07:41.111Z"
   },
   {
    "duration": 3,
    "start_time": "2022-04-17T11:07:47.613Z"
   },
   {
    "duration": 1224,
    "start_time": "2022-04-17T11:07:47.619Z"
   },
   {
    "duration": 158,
    "start_time": "2022-04-17T11:07:48.846Z"
   },
   {
    "duration": 106,
    "start_time": "2022-04-17T11:07:49.007Z"
   },
   {
    "duration": 147,
    "start_time": "2022-04-17T11:07:49.115Z"
   },
   {
    "duration": 67,
    "start_time": "2022-04-17T11:07:49.264Z"
   },
   {
    "duration": 88,
    "start_time": "2022-04-17T11:07:49.333Z"
   },
   {
    "duration": 28,
    "start_time": "2022-04-17T11:07:49.423Z"
   },
   {
    "duration": 14,
    "start_time": "2022-04-17T11:08:12.167Z"
   },
   {
    "duration": 5,
    "start_time": "2022-04-17T11:08:32.083Z"
   },
   {
    "duration": 1458,
    "start_time": "2022-04-17T11:08:32.091Z"
   },
   {
    "duration": 249,
    "start_time": "2022-04-17T11:08:33.552Z"
   },
   {
    "duration": 96,
    "start_time": "2022-04-17T11:08:33.805Z"
   },
   {
    "duration": 126,
    "start_time": "2022-04-17T11:08:33.903Z"
   },
   {
    "duration": 76,
    "start_time": "2022-04-17T11:08:34.031Z"
   },
   {
    "duration": 70,
    "start_time": "2022-04-17T11:08:34.109Z"
   },
   {
    "duration": 29,
    "start_time": "2022-04-17T11:08:34.193Z"
   },
   {
    "duration": 12,
    "start_time": "2022-04-17T11:08:34.225Z"
   },
   {
    "duration": 36,
    "start_time": "2022-04-17T12:06:12.421Z"
   },
   {
    "duration": 4,
    "start_time": "2022-04-17T12:24:00.620Z"
   },
   {
    "duration": 1193,
    "start_time": "2022-04-17T12:24:00.626Z"
   },
   {
    "duration": 262,
    "start_time": "2022-04-17T12:24:01.820Z"
   },
   {
    "duration": 57,
    "start_time": "2022-04-17T12:24:02.094Z"
   },
   {
    "duration": 143,
    "start_time": "2022-04-17T12:24:02.153Z"
   },
   {
    "duration": 109,
    "start_time": "2022-04-17T12:24:02.299Z"
   },
   {
    "duration": 87,
    "start_time": "2022-04-17T12:24:02.409Z"
   },
   {
    "duration": 40,
    "start_time": "2022-04-17T12:24:02.498Z"
   },
   {
    "duration": 4,
    "start_time": "2022-04-17T12:24:41.190Z"
   },
   {
    "duration": 1200,
    "start_time": "2022-04-17T12:24:41.197Z"
   },
   {
    "duration": 261,
    "start_time": "2022-04-17T12:24:42.399Z"
   },
   {
    "duration": 109,
    "start_time": "2022-04-17T12:24:42.664Z"
   },
   {
    "duration": 208,
    "start_time": "2022-04-17T12:24:42.775Z"
   },
   {
    "duration": 67,
    "start_time": "2022-04-17T12:24:42.985Z"
   },
   {
    "duration": 146,
    "start_time": "2022-04-17T12:24:43.054Z"
   },
   {
    "duration": 35,
    "start_time": "2022-04-17T12:24:43.203Z"
   },
   {
    "duration": 18,
    "start_time": "2022-04-17T12:24:51.249Z"
   },
   {
    "duration": 4,
    "start_time": "2022-04-17T12:24:53.613Z"
   },
   {
    "duration": 839,
    "start_time": "2022-04-17T12:24:53.619Z"
   },
   {
    "duration": 153,
    "start_time": "2022-04-17T12:24:54.460Z"
   },
   {
    "duration": 79,
    "start_time": "2022-04-17T12:24:54.616Z"
   },
   {
    "duration": 203,
    "start_time": "2022-04-17T12:24:54.699Z"
   },
   {
    "duration": 106,
    "start_time": "2022-04-17T12:24:54.904Z"
   },
   {
    "duration": 105,
    "start_time": "2022-04-17T12:24:55.012Z"
   },
   {
    "duration": 21,
    "start_time": "2022-04-17T12:24:55.119Z"
   },
   {
    "duration": 17,
    "start_time": "2022-04-17T12:26:40.674Z"
   },
   {
    "duration": 33,
    "start_time": "2022-04-17T12:26:45.917Z"
   },
   {
    "duration": 1224,
    "start_time": "2022-04-17T12:29:30.572Z"
   },
   {
    "duration": 4,
    "start_time": "2022-04-17T12:34:00.184Z"
   },
   {
    "duration": 956,
    "start_time": "2022-04-17T12:34:00.191Z"
   },
   {
    "duration": 199,
    "start_time": "2022-04-17T12:34:01.149Z"
   },
   {
    "duration": 81,
    "start_time": "2022-04-17T12:34:01.350Z"
   },
   {
    "duration": 155,
    "start_time": "2022-04-17T12:34:01.433Z"
   },
   {
    "duration": 84,
    "start_time": "2022-04-17T12:34:01.591Z"
   },
   {
    "duration": 113,
    "start_time": "2022-04-17T12:34:01.677Z"
   },
   {
    "duration": 34,
    "start_time": "2022-04-17T12:34:01.795Z"
   },
   {
    "duration": 1055,
    "start_time": "2022-04-17T12:34:01.832Z"
   },
   {
    "duration": 3,
    "start_time": "2022-04-17T12:34:17.195Z"
   },
   {
    "duration": 982,
    "start_time": "2022-04-17T12:34:17.201Z"
   },
   {
    "duration": 259,
    "start_time": "2022-04-17T12:34:18.185Z"
   },
   {
    "duration": 93,
    "start_time": "2022-04-17T12:34:18.446Z"
   },
   {
    "duration": 146,
    "start_time": "2022-04-17T12:34:18.542Z"
   },
   {
    "duration": 74,
    "start_time": "2022-04-17T12:34:18.689Z"
   },
   {
    "duration": 106,
    "start_time": "2022-04-17T12:34:18.765Z"
   },
   {
    "duration": 53,
    "start_time": "2022-04-17T12:34:18.873Z"
   },
   {
    "duration": 991,
    "start_time": "2022-04-17T12:34:18.928Z"
   },
   {
    "duration": 1165,
    "start_time": "2022-04-17T12:36:58.557Z"
   },
   {
    "duration": 5,
    "start_time": "2022-04-17T12:37:08.403Z"
   },
   {
    "duration": 8,
    "start_time": "2022-04-17T12:37:12.391Z"
   },
   {
    "duration": 879,
    "start_time": "2022-04-17T12:37:18.916Z"
   },
   {
    "duration": 43,
    "start_time": "2022-04-17T12:40:45.644Z"
   },
   {
    "duration": 3,
    "start_time": "2022-04-17T12:41:01.327Z"
   },
   {
    "duration": 4,
    "start_time": "2022-04-17T12:41:06.477Z"
   },
   {
    "duration": 456,
    "start_time": "2022-04-17T12:41:12.302Z"
   },
   {
    "duration": 12,
    "start_time": "2022-04-17T12:51:07.266Z"
   },
   {
    "duration": 24,
    "start_time": "2022-04-17T12:51:24.349Z"
   },
   {
    "duration": 1287,
    "start_time": "2022-04-17T12:51:55.628Z"
   },
   {
    "duration": 1033,
    "start_time": "2022-04-17T12:51:56.918Z"
   },
   {
    "duration": 201,
    "start_time": "2022-04-17T12:51:57.954Z"
   },
   {
    "duration": 91,
    "start_time": "2022-04-17T12:51:58.158Z"
   },
   {
    "duration": 166,
    "start_time": "2022-04-17T12:51:58.250Z"
   },
   {
    "duration": 80,
    "start_time": "2022-04-17T12:51:58.418Z"
   },
   {
    "duration": 136,
    "start_time": "2022-04-17T12:51:58.500Z"
   },
   {
    "duration": 67,
    "start_time": "2022-04-17T12:51:58.638Z"
   },
   {
    "duration": 1041,
    "start_time": "2022-04-17T12:51:58.707Z"
   },
   {
    "duration": 530,
    "start_time": "2022-04-17T12:51:59.751Z"
   },
   {
    "duration": 250,
    "start_time": "2022-04-17T12:52:00.283Z"
   },
   {
    "duration": 46243,
    "start_time": "2022-04-17T12:52:00.535Z"
   },
   {
    "duration": 4,
    "start_time": "2022-04-17T12:53:28.059Z"
   },
   {
    "duration": 44530,
    "start_time": "2022-04-17T12:53:34.889Z"
   },
   {
    "duration": 42800,
    "start_time": "2022-04-17T12:55:05.214Z"
   },
   {
    "duration": 12,
    "start_time": "2022-04-17T13:00:49.033Z"
   },
   {
    "duration": 15,
    "start_time": "2022-04-17T13:00:50.907Z"
   },
   {
    "duration": 4,
    "start_time": "2022-04-17T13:00:56.194Z"
   },
   {
    "duration": 6,
    "start_time": "2022-04-17T13:01:00.735Z"
   },
   {
    "duration": 44324,
    "start_time": "2022-04-17T13:01:10.789Z"
   },
   {
    "duration": 6,
    "start_time": "2022-04-17T13:01:57.777Z"
   },
   {
    "duration": 37336,
    "start_time": "2022-04-17T13:02:24.158Z"
   },
   {
    "duration": 73,
    "start_time": "2022-04-17T13:06:08.375Z"
   },
   {
    "duration": 9,
    "start_time": "2022-04-17T13:06:19.929Z"
   },
   {
    "duration": 19,
    "start_time": "2022-04-17T13:10:21.772Z"
   },
   {
    "duration": 19,
    "start_time": "2022-04-17T13:10:43.613Z"
   },
   {
    "duration": 12,
    "start_time": "2022-04-17T13:10:56.124Z"
   },
   {
    "duration": 188,
    "start_time": "2022-04-17T13:11:04.252Z"
   },
   {
    "duration": 1499,
    "start_time": "2022-04-17T13:11:08.384Z"
   },
   {
    "duration": 56070,
    "start_time": "2022-04-17T13:11:22.685Z"
   },
   {
    "duration": 20351,
    "start_time": "2022-04-17T13:14:16.760Z"
   },
   {
    "duration": 15,
    "start_time": "2022-04-17T13:20:43.317Z"
   },
   {
    "duration": 5,
    "start_time": "2022-04-17T13:21:00.305Z"
   },
   {
    "duration": 29,
    "start_time": "2022-04-17T13:21:08.669Z"
   },
   {
    "duration": 26,
    "start_time": "2022-04-17T13:21:29.513Z"
   },
   {
    "duration": 139,
    "start_time": "2022-04-17T13:21:44.315Z"
   },
   {
    "duration": 17,
    "start_time": "2022-04-17T13:21:49.818Z"
   },
   {
    "duration": 25,
    "start_time": "2022-04-17T13:21:55.939Z"
   },
   {
    "duration": 21,
    "start_time": "2022-04-17T13:22:11.217Z"
   },
   {
    "duration": 24,
    "start_time": "2022-04-17T13:22:22.947Z"
   },
   {
    "duration": 25291,
    "start_time": "2022-04-17T13:22:57.465Z"
   },
   {
    "duration": 22153,
    "start_time": "2022-04-17T13:26:21.197Z"
   },
   {
    "duration": 25688,
    "start_time": "2022-04-17T13:27:02.422Z"
   },
   {
    "duration": 48027,
    "start_time": "2022-04-17T13:27:58.136Z"
   },
   {
    "duration": 49474,
    "start_time": "2022-04-17T13:30:01.035Z"
   },
   {
    "duration": 54334,
    "start_time": "2022-04-17T13:31:00.117Z"
   },
   {
    "duration": 48750,
    "start_time": "2022-04-17T13:32:00.920Z"
   },
   {
    "duration": 51167,
    "start_time": "2022-04-17T13:33:15.594Z"
   },
   {
    "duration": 48554,
    "start_time": "2022-04-17T13:34:16.768Z"
   },
   {
    "duration": 44949,
    "start_time": "2022-04-17T13:35:16.738Z"
   },
   {
    "duration": 46674,
    "start_time": "2022-04-17T13:37:06.360Z"
   },
   {
    "duration": 81185,
    "start_time": "2022-04-17T14:10:19.123Z"
   },
   {
    "duration": 183,
    "start_time": "2022-04-17T14:12:00.923Z"
   },
   {
    "duration": 210,
    "start_time": "2022-04-17T14:12:07.066Z"
   },
   {
    "duration": 1452,
    "start_time": "2022-04-17T14:18:52.102Z"
   },
   {
    "duration": 885,
    "start_time": "2022-04-17T14:18:53.557Z"
   },
   {
    "duration": 165,
    "start_time": "2022-04-17T14:18:54.444Z"
   },
   {
    "duration": 51,
    "start_time": "2022-04-17T14:18:54.612Z"
   },
   {
    "duration": 140,
    "start_time": "2022-04-17T14:18:54.665Z"
   },
   {
    "duration": 60,
    "start_time": "2022-04-17T14:18:54.808Z"
   },
   {
    "duration": 130,
    "start_time": "2022-04-17T14:18:54.870Z"
   },
   {
    "duration": 46,
    "start_time": "2022-04-17T14:18:55.002Z"
   },
   {
    "duration": 857,
    "start_time": "2022-04-17T14:18:55.050Z"
   },
   {
    "duration": 487,
    "start_time": "2022-04-17T14:18:55.910Z"
   },
   {
    "duration": 228,
    "start_time": "2022-04-17T14:18:56.399Z"
   },
   {
    "duration": 40565,
    "start_time": "2022-04-17T14:18:56.629Z"
   },
   {
    "duration": 41342,
    "start_time": "2022-04-17T14:19:37.196Z"
   },
   {
    "duration": 127,
    "start_time": "2022-04-17T14:20:18.539Z"
   },
   {
    "duration": 0,
    "start_time": "2022-04-17T14:20:18.668Z"
   },
   {
    "duration": 96927,
    "start_time": "2022-04-17T14:27:03.939Z"
   },
   {
    "duration": 8021,
    "start_time": "2022-04-17T14:30:05.072Z"
   },
   {
    "duration": 114656,
    "start_time": "2022-04-17T14:30:16.579Z"
   },
   {
    "duration": 12,
    "start_time": "2022-04-17T14:37:16.069Z"
   },
   {
    "duration": 12,
    "start_time": "2022-04-17T14:37:51.334Z"
   },
   {
    "duration": 16310,
    "start_time": "2022-04-17T14:43:55.294Z"
   },
   {
    "duration": 10,
    "start_time": "2022-04-17T14:45:45.678Z"
   },
   {
    "duration": 581610,
    "start_time": "2022-04-17T14:45:56.981Z"
   },
   {
    "duration": 6164,
    "start_time": "2022-04-17T15:07:49.633Z"
   },
   {
    "duration": 146,
    "start_time": "2022-04-17T15:09:07.630Z"
   },
   {
    "duration": 6807,
    "start_time": "2022-04-17T15:09:47.545Z"
   },
   {
    "duration": 1945481,
    "start_time": "2022-04-17T15:11:59.613Z"
   },
   {
    "duration": 38204,
    "start_time": "2022-04-17T15:52:03.542Z"
   },
   {
    "duration": 174060,
    "start_time": "2022-04-17T15:56:38.765Z"
   },
   {
    "duration": 134,
    "start_time": "2022-04-17T16:02:11.985Z"
   },
   {
    "duration": 155,
    "start_time": "2022-04-17T16:02:20.552Z"
   },
   {
    "duration": 157,
    "start_time": "2022-04-17T16:02:39.592Z"
   },
   {
    "duration": 21,
    "start_time": "2022-04-17T16:03:05.194Z"
   },
   {
    "duration": 4,
    "start_time": "2022-04-17T16:03:16.788Z"
   },
   {
    "duration": 10,
    "start_time": "2022-04-17T16:04:02.440Z"
   },
   {
    "duration": 1211,
    "start_time": "2022-04-19T08:39:09.456Z"
   },
   {
    "duration": 813,
    "start_time": "2022-04-19T08:39:10.669Z"
   },
   {
    "duration": 135,
    "start_time": "2022-04-19T08:39:11.484Z"
   },
   {
    "duration": 53,
    "start_time": "2022-04-19T08:39:11.621Z"
   },
   {
    "duration": 145,
    "start_time": "2022-04-19T08:39:11.676Z"
   },
   {
    "duration": 61,
    "start_time": "2022-04-19T08:39:11.823Z"
   },
   {
    "duration": 124,
    "start_time": "2022-04-19T08:39:11.885Z"
   },
   {
    "duration": 44,
    "start_time": "2022-04-19T08:39:12.011Z"
   },
   {
    "duration": 848,
    "start_time": "2022-04-19T08:39:12.057Z"
   },
   {
    "duration": 509,
    "start_time": "2022-04-19T08:39:12.908Z"
   },
   {
    "duration": 5,
    "start_time": "2022-04-19T08:39:31.142Z"
   },
   {
    "duration": 803,
    "start_time": "2022-04-19T08:39:31.149Z"
   },
   {
    "duration": 136,
    "start_time": "2022-04-19T08:39:31.954Z"
   },
   {
    "duration": 63,
    "start_time": "2022-04-19T08:39:32.091Z"
   },
   {
    "duration": 127,
    "start_time": "2022-04-19T08:39:32.156Z"
   },
   {
    "duration": 65,
    "start_time": "2022-04-19T08:39:32.284Z"
   },
   {
    "duration": 101,
    "start_time": "2022-04-19T08:39:32.351Z"
   },
   {
    "duration": 53,
    "start_time": "2022-04-19T08:40:11.247Z"
   },
   {
    "duration": 116,
    "start_time": "2022-04-19T08:40:33.410Z"
   },
   {
    "duration": 625,
    "start_time": "2022-04-19T08:40:53.546Z"
   },
   {
    "duration": 397,
    "start_time": "2022-04-19T08:42:03.370Z"
   },
   {
    "duration": 9,
    "start_time": "2022-04-19T08:42:27.937Z"
   },
   {
    "duration": 14,
    "start_time": "2022-04-19T08:42:50.944Z"
   },
   {
    "duration": 22,
    "start_time": "2022-04-19T08:43:19.505Z"
   },
   {
    "duration": 492,
    "start_time": "2022-04-19T08:43:24.698Z"
   },
   {
    "duration": 14,
    "start_time": "2022-04-19T08:43:31.979Z"
   },
   {
    "duration": 14,
    "start_time": "2022-04-19T08:49:56.481Z"
   },
   {
    "duration": 4,
    "start_time": "2022-04-19T08:50:45.559Z"
   },
   {
    "duration": 834,
    "start_time": "2022-04-19T08:50:45.565Z"
   },
   {
    "duration": 133,
    "start_time": "2022-04-19T08:50:46.402Z"
   },
   {
    "duration": 51,
    "start_time": "2022-04-19T08:50:46.536Z"
   },
   {
    "duration": 133,
    "start_time": "2022-04-19T08:50:46.589Z"
   },
   {
    "duration": 60,
    "start_time": "2022-04-19T08:50:46.723Z"
   },
   {
    "duration": 107,
    "start_time": "2022-04-19T08:50:46.785Z"
   },
   {
    "duration": 19,
    "start_time": "2022-04-19T08:50:46.894Z"
   },
   {
    "duration": 73,
    "start_time": "2022-04-19T08:50:48.772Z"
   },
   {
    "duration": 8,
    "start_time": "2022-04-19T08:51:46.533Z"
   },
   {
    "duration": 30,
    "start_time": "2022-04-19T08:52:42.382Z"
   },
   {
    "duration": 8,
    "start_time": "2022-04-19T08:52:57.703Z"
   },
   {
    "duration": 25,
    "start_time": "2022-04-19T09:01:00.128Z"
   },
   {
    "duration": 30,
    "start_time": "2022-04-19T09:04:10.726Z"
   },
   {
    "duration": 84,
    "start_time": "2022-04-19T09:04:41.941Z"
   },
   {
    "duration": 55,
    "start_time": "2022-04-19T09:05:35.069Z"
   },
   {
    "duration": 143,
    "start_time": "2022-04-19T09:27:52.738Z"
   },
   {
    "duration": 154,
    "start_time": "2022-04-19T09:28:24.308Z"
   },
   {
    "duration": 155,
    "start_time": "2022-04-19T09:28:37.409Z"
   },
   {
    "duration": 864,
    "start_time": "2022-04-19T09:28:46.535Z"
   },
   {
    "duration": 66,
    "start_time": "2022-04-19T09:30:50.899Z"
   },
   {
    "duration": 60,
    "start_time": "2022-04-19T09:30:58.945Z"
   },
   {
    "duration": 1404,
    "start_time": "2022-04-19T09:31:35.178Z"
   },
   {
    "duration": 1131,
    "start_time": "2022-04-19T09:50:07.732Z"
   },
   {
    "duration": 69,
    "start_time": "2022-04-19T10:29:54.104Z"
   },
   {
    "duration": 71,
    "start_time": "2022-04-19T10:30:09.375Z"
   },
   {
    "duration": 3,
    "start_time": "2022-04-19T10:30:15.171Z"
   },
   {
    "duration": 778,
    "start_time": "2022-04-19T10:30:15.208Z"
   },
   {
    "duration": 135,
    "start_time": "2022-04-19T10:30:15.989Z"
   },
   {
    "duration": 54,
    "start_time": "2022-04-19T10:30:16.126Z"
   },
   {
    "duration": 143,
    "start_time": "2022-04-19T10:30:16.182Z"
   },
   {
    "duration": 61,
    "start_time": "2022-04-19T10:30:16.326Z"
   },
   {
    "duration": 106,
    "start_time": "2022-04-19T10:30:16.389Z"
   },
   {
    "duration": 17,
    "start_time": "2022-04-19T10:30:16.497Z"
   },
   {
    "duration": 92,
    "start_time": "2022-04-19T10:30:16.515Z"
   },
   {
    "duration": 67,
    "start_time": "2022-04-19T10:30:18.910Z"
   },
   {
    "duration": 86,
    "start_time": "2022-04-19T10:30:23.260Z"
   },
   {
    "duration": 83,
    "start_time": "2022-04-19T10:30:32.286Z"
   },
   {
    "duration": 68,
    "start_time": "2022-04-19T10:31:05.703Z"
   },
   {
    "duration": 4,
    "start_time": "2022-04-19T10:31:17.361Z"
   },
   {
    "duration": 795,
    "start_time": "2022-04-19T10:31:17.367Z"
   },
   {
    "duration": 126,
    "start_time": "2022-04-19T10:31:18.164Z"
   },
   {
    "duration": 60,
    "start_time": "2022-04-19T10:31:18.292Z"
   },
   {
    "duration": 127,
    "start_time": "2022-04-19T10:31:18.355Z"
   },
   {
    "duration": 59,
    "start_time": "2022-04-19T10:31:18.484Z"
   },
   {
    "duration": 105,
    "start_time": "2022-04-19T10:31:18.545Z"
   },
   {
    "duration": 8,
    "start_time": "2022-04-19T10:31:18.652Z"
   },
   {
    "duration": 4,
    "start_time": "2022-04-19T10:31:27.205Z"
   },
   {
    "duration": 777,
    "start_time": "2022-04-19T10:31:27.212Z"
   },
   {
    "duration": 131,
    "start_time": "2022-04-19T10:31:27.991Z"
   },
   {
    "duration": 50,
    "start_time": "2022-04-19T10:31:28.123Z"
   },
   {
    "duration": 124,
    "start_time": "2022-04-19T10:31:28.176Z"
   },
   {
    "duration": 58,
    "start_time": "2022-04-19T10:31:28.307Z"
   },
   {
    "duration": 103,
    "start_time": "2022-04-19T10:31:28.366Z"
   },
   {
    "duration": 8,
    "start_time": "2022-04-19T10:31:28.470Z"
   },
   {
    "duration": 112,
    "start_time": "2022-04-19T10:31:28.479Z"
   },
   {
    "duration": 61,
    "start_time": "2022-04-19T10:31:31.301Z"
   },
   {
    "duration": 3,
    "start_time": "2022-04-19T10:31:39.480Z"
   },
   {
    "duration": 778,
    "start_time": "2022-04-19T10:31:39.487Z"
   },
   {
    "duration": 129,
    "start_time": "2022-04-19T10:31:40.266Z"
   },
   {
    "duration": 54,
    "start_time": "2022-04-19T10:31:40.396Z"
   },
   {
    "duration": 130,
    "start_time": "2022-04-19T10:31:40.452Z"
   },
   {
    "duration": 61,
    "start_time": "2022-04-19T10:31:40.584Z"
   },
   {
    "duration": 98,
    "start_time": "2022-04-19T10:31:40.647Z"
   },
   {
    "duration": 8,
    "start_time": "2022-04-19T10:31:40.747Z"
   },
   {
    "duration": 103,
    "start_time": "2022-04-19T10:31:40.756Z"
   },
   {
    "duration": 64,
    "start_time": "2022-04-19T10:31:40.860Z"
   },
   {
    "duration": 63,
    "start_time": "2022-04-19T10:32:15.460Z"
   },
   {
    "duration": 3,
    "start_time": "2022-04-19T10:32:31.176Z"
   },
   {
    "duration": 755,
    "start_time": "2022-04-19T10:32:31.183Z"
   },
   {
    "duration": 130,
    "start_time": "2022-04-19T10:32:31.940Z"
   },
   {
    "duration": 65,
    "start_time": "2022-04-19T10:32:32.071Z"
   },
   {
    "duration": 119,
    "start_time": "2022-04-19T10:32:32.138Z"
   },
   {
    "duration": 70,
    "start_time": "2022-04-19T10:32:32.259Z"
   },
   {
    "duration": 97,
    "start_time": "2022-04-19T10:32:32.330Z"
   },
   {
    "duration": 8,
    "start_time": "2022-04-19T10:32:32.429Z"
   },
   {
    "duration": 110,
    "start_time": "2022-04-19T10:32:32.439Z"
   },
   {
    "duration": 16,
    "start_time": "2022-04-19T10:32:32.551Z"
   },
   {
    "duration": 30,
    "start_time": "2022-04-19T10:32:38.870Z"
   },
   {
    "duration": 66,
    "start_time": "2022-04-19T10:32:44.949Z"
   },
   {
    "duration": 84,
    "start_time": "2022-04-19T10:33:17.719Z"
   },
   {
    "duration": 50,
    "start_time": "2022-04-19T10:33:25.179Z"
   },
   {
    "duration": 64,
    "start_time": "2022-04-19T10:33:37.636Z"
   },
   {
    "duration": 49,
    "start_time": "2022-04-19T10:34:07.612Z"
   },
   {
    "duration": 49,
    "start_time": "2022-04-19T10:54:29.493Z"
   },
   {
    "duration": 48,
    "start_time": "2022-04-19T10:54:44.644Z"
   },
   {
    "duration": 48,
    "start_time": "2022-04-19T10:54:56.485Z"
   },
   {
    "duration": 50,
    "start_time": "2022-04-19T10:55:04.732Z"
   },
   {
    "duration": 66,
    "start_time": "2022-04-19T10:55:10.864Z"
   },
   {
    "duration": 86,
    "start_time": "2022-04-19T10:55:23.573Z"
   },
   {
    "duration": 64,
    "start_time": "2022-04-19T10:57:03.187Z"
   },
   {
    "duration": 48,
    "start_time": "2022-04-19T10:57:09.443Z"
   },
   {
    "duration": 47,
    "start_time": "2022-04-19T10:57:58.987Z"
   },
   {
    "duration": 49,
    "start_time": "2022-04-19T10:58:19.059Z"
   },
   {
    "duration": 44,
    "start_time": "2022-04-19T10:58:42.441Z"
   },
   {
    "duration": 67,
    "start_time": "2022-04-19T11:00:30.209Z"
   },
   {
    "duration": 48,
    "start_time": "2022-04-19T11:00:34.958Z"
   },
   {
    "duration": 49,
    "start_time": "2022-04-19T11:00:40.736Z"
   },
   {
    "duration": 46,
    "start_time": "2022-04-19T11:09:46.250Z"
   },
   {
    "duration": 4,
    "start_time": "2022-04-19T11:09:54.737Z"
   },
   {
    "duration": 44,
    "start_time": "2022-04-19T11:10:00.525Z"
   },
   {
    "duration": 48,
    "start_time": "2022-04-19T11:10:34.649Z"
   },
   {
    "duration": 47,
    "start_time": "2022-04-19T11:10:41.007Z"
   },
   {
    "duration": 49,
    "start_time": "2022-04-19T11:11:47.706Z"
   },
   {
    "duration": 47,
    "start_time": "2022-04-19T11:11:52.128Z"
   },
   {
    "duration": 49,
    "start_time": "2022-04-19T11:12:14.408Z"
   },
   {
    "duration": 46,
    "start_time": "2022-04-19T11:12:18.344Z"
   },
   {
    "duration": 45,
    "start_time": "2022-04-19T11:12:33.602Z"
   },
   {
    "duration": 43,
    "start_time": "2022-04-19T11:12:43.160Z"
   },
   {
    "duration": 44,
    "start_time": "2022-04-19T11:12:50.322Z"
   },
   {
    "duration": 43,
    "start_time": "2022-04-19T11:12:52.990Z"
   },
   {
    "duration": 50,
    "start_time": "2022-04-19T11:13:02.007Z"
   },
   {
    "duration": 220,
    "start_time": "2022-04-19T11:14:22.343Z"
   },
   {
    "duration": 230,
    "start_time": "2022-04-19T11:14:24.998Z"
   },
   {
    "duration": 215,
    "start_time": "2022-04-19T11:15:10.992Z"
   },
   {
    "duration": 1918,
    "start_time": "2022-04-19T11:22:04.531Z"
   },
   {
    "duration": 232,
    "start_time": "2022-04-19T11:22:26.393Z"
   },
   {
    "duration": 251,
    "start_time": "2022-04-19T11:37:13.433Z"
   },
   {
    "duration": 242,
    "start_time": "2022-04-19T11:38:20.191Z"
   },
   {
    "duration": 239,
    "start_time": "2022-04-19T11:43:31.088Z"
   },
   {
    "duration": 271,
    "start_time": "2022-04-19T11:44:02.003Z"
   },
   {
    "duration": 61,
    "start_time": "2022-04-19T12:03:31.070Z"
   },
   {
    "duration": 4,
    "start_time": "2022-04-19T12:03:56.963Z"
   },
   {
    "duration": 66,
    "start_time": "2022-04-19T12:04:10.932Z"
   },
   {
    "duration": 73,
    "start_time": "2022-04-19T12:07:31.801Z"
   },
   {
    "duration": 64,
    "start_time": "2022-04-19T12:08:35.272Z"
   },
   {
    "duration": 396,
    "start_time": "2022-04-19T12:08:47.512Z"
   },
   {
    "duration": 75,
    "start_time": "2022-04-19T12:09:09.721Z"
   },
   {
    "duration": 4,
    "start_time": "2022-04-19T12:09:17.803Z"
   },
   {
    "duration": 731,
    "start_time": "2022-04-19T12:09:17.810Z"
   },
   {
    "duration": 131,
    "start_time": "2022-04-19T12:09:18.543Z"
   },
   {
    "duration": 65,
    "start_time": "2022-04-19T12:09:18.676Z"
   },
   {
    "duration": 131,
    "start_time": "2022-04-19T12:09:18.744Z"
   },
   {
    "duration": 64,
    "start_time": "2022-04-19T12:09:18.877Z"
   },
   {
    "duration": 106,
    "start_time": "2022-04-19T12:09:18.943Z"
   },
   {
    "duration": 8,
    "start_time": "2022-04-19T12:09:19.051Z"
   },
   {
    "duration": 90,
    "start_time": "2022-04-19T12:09:19.061Z"
   },
   {
    "duration": 71,
    "start_time": "2022-04-19T12:09:19.153Z"
   },
   {
    "duration": 99,
    "start_time": "2022-04-19T12:09:35.168Z"
   },
   {
    "duration": 169,
    "start_time": "2022-04-19T12:09:44.887Z"
   },
   {
    "duration": 198,
    "start_time": "2022-04-19T12:17:21.971Z"
   },
   {
    "duration": 76,
    "start_time": "2022-04-19T12:18:36.650Z"
   },
   {
    "duration": 4,
    "start_time": "2022-04-19T12:19:14.423Z"
   },
   {
    "duration": 777,
    "start_time": "2022-04-19T12:19:14.430Z"
   },
   {
    "duration": 130,
    "start_time": "2022-04-19T12:19:15.209Z"
   },
   {
    "duration": 69,
    "start_time": "2022-04-19T12:19:15.340Z"
   },
   {
    "duration": 126,
    "start_time": "2022-04-19T12:19:15.412Z"
   },
   {
    "duration": 68,
    "start_time": "2022-04-19T12:19:15.540Z"
   },
   {
    "duration": 84,
    "start_time": "2022-04-19T12:19:15.611Z"
   },
   {
    "duration": 10,
    "start_time": "2022-04-19T12:19:15.708Z"
   },
   {
    "duration": 96,
    "start_time": "2022-04-19T12:19:15.720Z"
   },
   {
    "duration": 181,
    "start_time": "2022-04-19T12:19:15.818Z"
   },
   {
    "duration": 65,
    "start_time": "2022-04-19T12:19:20.041Z"
   },
   {
    "duration": 74,
    "start_time": "2022-04-19T12:19:28.232Z"
   },
   {
    "duration": 86,
    "start_time": "2022-04-19T12:20:09.113Z"
   },
   {
    "duration": 22,
    "start_time": "2022-04-19T12:50:11.868Z"
   },
   {
    "duration": 66,
    "start_time": "2022-04-19T12:50:53.870Z"
   },
   {
    "duration": 69,
    "start_time": "2022-04-19T12:51:12.282Z"
   },
   {
    "duration": 14,
    "start_time": "2022-04-19T12:51:58.634Z"
   },
   {
    "duration": 69,
    "start_time": "2022-04-19T12:55:19.816Z"
   },
   {
    "duration": 22,
    "start_time": "2022-04-19T12:55:46.802Z"
   },
   {
    "duration": 25,
    "start_time": "2022-04-19T12:55:50.832Z"
   },
   {
    "duration": 4,
    "start_time": "2022-04-19T12:57:26.323Z"
   },
   {
    "duration": 768,
    "start_time": "2022-04-19T12:57:26.329Z"
   },
   {
    "duration": 130,
    "start_time": "2022-04-19T12:57:27.099Z"
   },
   {
    "duration": 51,
    "start_time": "2022-04-19T12:57:27.231Z"
   },
   {
    "duration": 138,
    "start_time": "2022-04-19T12:57:27.284Z"
   },
   {
    "duration": 63,
    "start_time": "2022-04-19T12:57:27.424Z"
   },
   {
    "duration": 130,
    "start_time": "2022-04-19T12:57:27.489Z"
   },
   {
    "duration": 9,
    "start_time": "2022-04-19T12:57:27.620Z"
   },
   {
    "duration": 92,
    "start_time": "2022-04-19T12:57:27.631Z"
   },
   {
    "duration": 282,
    "start_time": "2022-04-19T12:57:27.724Z"
   },
   {
    "duration": 183,
    "start_time": "2022-04-19T12:58:15.207Z"
   },
   {
    "duration": 1508,
    "start_time": "2022-04-19T12:58:32.719Z"
   },
   {
    "duration": 4,
    "start_time": "2022-04-19T12:58:43.665Z"
   },
   {
    "duration": 742,
    "start_time": "2022-04-19T12:58:43.672Z"
   },
   {
    "duration": 127,
    "start_time": "2022-04-19T12:58:44.416Z"
   },
   {
    "duration": 63,
    "start_time": "2022-04-19T12:58:44.545Z"
   },
   {
    "duration": 125,
    "start_time": "2022-04-19T12:58:44.610Z"
   },
   {
    "duration": 57,
    "start_time": "2022-04-19T12:58:44.736Z"
   },
   {
    "duration": 97,
    "start_time": "2022-04-19T12:58:44.794Z"
   },
   {
    "duration": 23,
    "start_time": "2022-04-19T12:58:44.892Z"
   },
   {
    "duration": 74,
    "start_time": "2022-04-19T12:58:44.917Z"
   },
   {
    "duration": 223,
    "start_time": "2022-04-19T12:58:44.993Z"
   },
   {
    "duration": 85,
    "start_time": "2022-04-19T12:59:24.879Z"
   },
   {
    "duration": 1198,
    "start_time": "2022-04-19T13:01:35.677Z"
   },
   {
    "duration": 4,
    "start_time": "2022-04-19T13:01:43.943Z"
   },
   {
    "duration": 698,
    "start_time": "2022-04-19T13:01:43.949Z"
   },
   {
    "duration": 120,
    "start_time": "2022-04-19T13:01:44.649Z"
   },
   {
    "duration": 61,
    "start_time": "2022-04-19T13:01:44.770Z"
   },
   {
    "duration": 126,
    "start_time": "2022-04-19T13:01:44.833Z"
   },
   {
    "duration": 69,
    "start_time": "2022-04-19T13:01:44.961Z"
   },
   {
    "duration": 95,
    "start_time": "2022-04-19T13:01:45.031Z"
   },
   {
    "duration": 9,
    "start_time": "2022-04-19T13:01:45.127Z"
   },
   {
    "duration": 96,
    "start_time": "2022-04-19T13:01:45.137Z"
   },
   {
    "duration": 193,
    "start_time": "2022-04-19T13:01:45.235Z"
   },
   {
    "duration": 3,
    "start_time": "2022-04-19T13:02:15.080Z"
   },
   {
    "duration": 791,
    "start_time": "2022-04-19T13:02:15.085Z"
   },
   {
    "duration": 129,
    "start_time": "2022-04-19T13:02:15.878Z"
   },
   {
    "duration": 49,
    "start_time": "2022-04-19T13:02:16.009Z"
   },
   {
    "duration": 126,
    "start_time": "2022-04-19T13:02:16.060Z"
   },
   {
    "duration": 58,
    "start_time": "2022-04-19T13:02:16.188Z"
   },
   {
    "duration": 100,
    "start_time": "2022-04-19T13:02:16.247Z"
   },
   {
    "duration": 9,
    "start_time": "2022-04-19T13:02:16.348Z"
   },
   {
    "duration": 97,
    "start_time": "2022-04-19T13:02:16.359Z"
   },
   {
    "duration": 65,
    "start_time": "2022-04-19T13:02:16.458Z"
   },
   {
    "duration": 4,
    "start_time": "2022-04-19T13:02:34.217Z"
   },
   {
    "duration": 743,
    "start_time": "2022-04-19T13:02:34.225Z"
   },
   {
    "duration": 136,
    "start_time": "2022-04-19T13:02:34.971Z"
   },
   {
    "duration": 50,
    "start_time": "2022-04-19T13:02:35.109Z"
   },
   {
    "duration": 131,
    "start_time": "2022-04-19T13:02:35.161Z"
   },
   {
    "duration": 62,
    "start_time": "2022-04-19T13:02:35.294Z"
   },
   {
    "duration": 100,
    "start_time": "2022-04-19T13:02:35.358Z"
   },
   {
    "duration": 9,
    "start_time": "2022-04-19T13:02:35.460Z"
   },
   {
    "duration": 91,
    "start_time": "2022-04-19T13:02:35.470Z"
   },
   {
    "duration": 1448,
    "start_time": "2022-04-19T13:02:35.563Z"
   },
   {
    "duration": 4,
    "start_time": "2022-04-19T13:03:08.081Z"
   },
   {
    "duration": 724,
    "start_time": "2022-04-19T13:03:08.088Z"
   },
   {
    "duration": 130,
    "start_time": "2022-04-19T13:03:08.814Z"
   },
   {
    "duration": 65,
    "start_time": "2022-04-19T13:03:08.945Z"
   },
   {
    "duration": 129,
    "start_time": "2022-04-19T13:03:09.012Z"
   },
   {
    "duration": 65,
    "start_time": "2022-04-19T13:03:09.142Z"
   },
   {
    "duration": 88,
    "start_time": "2022-04-19T13:03:09.209Z"
   },
   {
    "duration": 8,
    "start_time": "2022-04-19T13:03:09.308Z"
   },
   {
    "duration": 73,
    "start_time": "2022-04-19T13:03:09.318Z"
   },
   {
    "duration": 195,
    "start_time": "2022-04-19T13:03:11.084Z"
   },
   {
    "duration": 125,
    "start_time": "2022-04-19T13:03:18.164Z"
   },
   {
    "duration": 4,
    "start_time": "2022-04-19T13:03:45.974Z"
   },
   {
    "duration": 2787,
    "start_time": "2022-04-19T13:03:45.982Z"
   },
   {
    "duration": 132,
    "start_time": "2022-04-19T13:03:48.770Z"
   },
   {
    "duration": 53,
    "start_time": "2022-04-19T13:03:48.903Z"
   },
   {
    "duration": 111,
    "start_time": "2022-04-19T13:03:48.958Z"
   },
   {
    "duration": 63,
    "start_time": "2022-04-19T13:03:49.071Z"
   },
   {
    "duration": 1753,
    "start_time": "2022-04-19T13:03:49.136Z"
   },
   {
    "duration": 8,
    "start_time": "2022-04-19T13:03:50.891Z"
   },
   {
    "duration": 76,
    "start_time": "2022-04-19T13:03:50.900Z"
   },
   {
    "duration": 234,
    "start_time": "2022-04-19T13:03:50.977Z"
   },
   {
    "duration": 4,
    "start_time": "2022-04-19T13:04:15.830Z"
   },
   {
    "duration": 1289,
    "start_time": "2022-04-19T13:04:33.777Z"
   },
   {
    "duration": 800,
    "start_time": "2022-04-19T13:04:35.068Z"
   },
   {
    "duration": 128,
    "start_time": "2022-04-19T13:04:35.869Z"
   },
   {
    "duration": 50,
    "start_time": "2022-04-19T13:04:35.998Z"
   },
   {
    "duration": 131,
    "start_time": "2022-04-19T13:04:36.049Z"
   },
   {
    "duration": 61,
    "start_time": "2022-04-19T13:04:36.181Z"
   },
   {
    "duration": 110,
    "start_time": "2022-04-19T13:04:36.244Z"
   },
   {
    "duration": 8,
    "start_time": "2022-04-19T13:04:36.356Z"
   },
   {
    "duration": 85,
    "start_time": "2022-04-19T13:04:36.366Z"
   },
   {
    "duration": 326,
    "start_time": "2022-04-19T13:04:36.454Z"
   },
   {
    "duration": 4,
    "start_time": "2022-04-19T13:06:54.059Z"
   },
   {
    "duration": 737,
    "start_time": "2022-04-19T13:06:54.065Z"
   },
   {
    "duration": 127,
    "start_time": "2022-04-19T13:06:54.808Z"
   },
   {
    "duration": 50,
    "start_time": "2022-04-19T13:06:54.937Z"
   },
   {
    "duration": 138,
    "start_time": "2022-04-19T13:06:54.989Z"
   },
   {
    "duration": 59,
    "start_time": "2022-04-19T13:06:55.128Z"
   },
   {
    "duration": 98,
    "start_time": "2022-04-19T13:06:55.188Z"
   },
   {
    "duration": 21,
    "start_time": "2022-04-19T13:06:55.287Z"
   },
   {
    "duration": 77,
    "start_time": "2022-04-19T13:06:55.310Z"
   },
   {
    "duration": 274,
    "start_time": "2022-04-19T13:06:55.389Z"
   },
   {
    "duration": 84,
    "start_time": "2022-04-19T13:07:14.065Z"
   },
   {
    "duration": 152,
    "start_time": "2022-04-19T13:19:30.330Z"
   },
   {
    "duration": 8,
    "start_time": "2022-04-19T13:19:37.560Z"
   },
   {
    "duration": 8,
    "start_time": "2022-04-19T13:19:57.189Z"
   },
   {
    "duration": 30,
    "start_time": "2022-04-19T13:20:42.448Z"
   },
   {
    "duration": 9,
    "start_time": "2022-04-19T13:21:08.774Z"
   },
   {
    "duration": 29,
    "start_time": "2022-04-19T13:21:15.464Z"
   },
   {
    "duration": 9,
    "start_time": "2022-04-19T13:21:36.767Z"
   },
   {
    "duration": 9,
    "start_time": "2022-04-19T13:22:24.646Z"
   },
   {
    "duration": 9,
    "start_time": "2022-04-19T13:22:47.798Z"
   },
   {
    "duration": 12,
    "start_time": "2022-04-19T13:23:35.327Z"
   },
   {
    "duration": 6,
    "start_time": "2022-04-19T13:23:41.285Z"
   },
   {
    "duration": 377,
    "start_time": "2022-04-19T13:24:14.541Z"
   },
   {
    "duration": 53,
    "start_time": "2022-04-19T13:29:16.665Z"
   },
   {
    "duration": 1257,
    "start_time": "2022-04-19T13:29:22.517Z"
   },
   {
    "duration": 855,
    "start_time": "2022-04-19T13:29:23.776Z"
   },
   {
    "duration": 138,
    "start_time": "2022-04-19T13:29:24.633Z"
   },
   {
    "duration": 67,
    "start_time": "2022-04-19T13:29:24.773Z"
   },
   {
    "duration": 140,
    "start_time": "2022-04-19T13:29:24.841Z"
   },
   {
    "duration": 66,
    "start_time": "2022-04-19T13:29:24.983Z"
   },
   {
    "duration": 119,
    "start_time": "2022-04-19T13:29:25.050Z"
   },
   {
    "duration": 8,
    "start_time": "2022-04-19T13:29:25.171Z"
   },
   {
    "duration": 93,
    "start_time": "2022-04-19T13:29:25.180Z"
   },
   {
    "duration": 305,
    "start_time": "2022-04-19T13:29:25.276Z"
   },
   {
    "duration": 0,
    "start_time": "2022-04-19T13:29:51.320Z"
   },
   {
    "duration": 8,
    "start_time": "2022-04-19T13:31:47.976Z"
   },
   {
    "duration": 9,
    "start_time": "2022-04-19T13:35:37.629Z"
   },
   {
    "duration": 7,
    "start_time": "2022-04-19T13:35:59.677Z"
   },
   {
    "duration": 33,
    "start_time": "2022-04-19T13:40:14.244Z"
   },
   {
    "duration": 29,
    "start_time": "2022-04-19T13:40:32.034Z"
   },
   {
    "duration": 4,
    "start_time": "2022-04-19T13:40:48.678Z"
   },
   {
    "duration": 812,
    "start_time": "2022-04-19T13:40:48.685Z"
   },
   {
    "duration": 127,
    "start_time": "2022-04-19T13:40:49.499Z"
   },
   {
    "duration": 51,
    "start_time": "2022-04-19T13:40:49.627Z"
   },
   {
    "duration": 134,
    "start_time": "2022-04-19T13:40:49.681Z"
   },
   {
    "duration": 790,
    "start_time": "2022-04-19T13:40:49.817Z"
   },
   {
    "duration": 99,
    "start_time": "2022-04-19T13:40:50.609Z"
   },
   {
    "duration": 9,
    "start_time": "2022-04-19T13:40:50.710Z"
   },
   {
    "duration": 96,
    "start_time": "2022-04-19T13:40:50.721Z"
   },
   {
    "duration": 268,
    "start_time": "2022-04-19T13:40:50.819Z"
   },
   {
    "duration": 34,
    "start_time": "2022-04-19T13:40:51.090Z"
   },
   {
    "duration": 8,
    "start_time": "2022-04-19T13:41:05.697Z"
   },
   {
    "duration": 14,
    "start_time": "2022-04-19T13:42:10.945Z"
   },
   {
    "duration": 19,
    "start_time": "2022-04-19T13:43:13.593Z"
   },
   {
    "duration": 10,
    "start_time": "2022-04-19T13:43:19.761Z"
   },
   {
    "duration": 9,
    "start_time": "2022-04-19T13:43:25.827Z"
   },
   {
    "duration": 9,
    "start_time": "2022-04-19T13:43:36.491Z"
   },
   {
    "duration": 12,
    "start_time": "2022-04-19T13:43:52.672Z"
   },
   {
    "duration": 8,
    "start_time": "2022-04-19T13:45:32.624Z"
   },
   {
    "duration": 9,
    "start_time": "2022-04-19T13:51:32.948Z"
   },
   {
    "duration": 9,
    "start_time": "2022-04-19T13:51:41.524Z"
   },
   {
    "duration": 15,
    "start_time": "2022-04-19T13:52:05.695Z"
   },
   {
    "duration": 8,
    "start_time": "2022-04-19T13:52:29.599Z"
   },
   {
    "duration": 10,
    "start_time": "2022-04-19T13:52:53.634Z"
   },
   {
    "duration": 1841,
    "start_time": "2022-04-20T13:25:11.846Z"
   },
   {
    "duration": 1758,
    "start_time": "2022-04-20T13:25:13.691Z"
   },
   {
    "duration": 1271,
    "start_time": "2022-04-20T13:25:25.369Z"
   },
   {
    "duration": 46,
    "start_time": "2022-04-20T13:29:28.920Z"
   },
   {
    "duration": 7,
    "start_time": "2022-04-20T13:29:58.717Z"
   },
   {
    "duration": 1725,
    "start_time": "2022-04-20T13:29:58.727Z"
   },
   {
    "duration": 197,
    "start_time": "2022-04-20T13:30:00.457Z"
   },
   {
    "duration": 88,
    "start_time": "2022-04-20T13:30:00.656Z"
   },
   {
    "duration": 200,
    "start_time": "2022-04-20T13:30:00.749Z"
   },
   {
    "duration": 105,
    "start_time": "2022-04-20T13:30:00.951Z"
   },
   {
    "duration": 158,
    "start_time": "2022-04-20T13:30:01.058Z"
   },
   {
    "duration": 19,
    "start_time": "2022-04-20T13:30:01.227Z"
   },
   {
    "duration": 145,
    "start_time": "2022-04-20T13:30:01.248Z"
   },
   {
    "duration": 513,
    "start_time": "2022-04-20T13:30:01.395Z"
   },
   {
    "duration": 21,
    "start_time": "2022-04-20T13:30:01.912Z"
   },
   {
    "duration": 41,
    "start_time": "2022-04-20T13:30:01.936Z"
   },
   {
    "duration": 1142,
    "start_time": "2022-04-20T13:30:24.169Z"
   },
   {
    "duration": 1792,
    "start_time": "2022-04-20T13:32:03.273Z"
   },
   {
    "duration": 34,
    "start_time": "2022-04-20T13:32:19.231Z"
   },
   {
    "duration": 19,
    "start_time": "2022-04-20T13:32:22.974Z"
   },
   {
    "duration": 14,
    "start_time": "2022-04-20T13:32:27.399Z"
   },
   {
    "duration": 1898,
    "start_time": "2022-04-20T13:33:22.133Z"
   },
   {
    "duration": 1324,
    "start_time": "2022-04-20T13:33:45.070Z"
   },
   {
    "duration": 10,
    "start_time": "2022-04-20T13:33:58.052Z"
   },
   {
    "duration": 1166,
    "start_time": "2022-04-20T13:33:58.065Z"
   },
   {
    "duration": 191,
    "start_time": "2022-04-20T13:33:59.233Z"
   },
   {
    "duration": 96,
    "start_time": "2022-04-20T13:33:59.428Z"
   },
   {
    "duration": 195,
    "start_time": "2022-04-20T13:33:59.529Z"
   },
   {
    "duration": 106,
    "start_time": "2022-04-20T13:33:59.729Z"
   },
   {
    "duration": 146,
    "start_time": "2022-04-20T13:33:59.838Z"
   },
   {
    "duration": 15,
    "start_time": "2022-04-20T13:33:59.987Z"
   },
   {
    "duration": 147,
    "start_time": "2022-04-20T13:34:00.024Z"
   },
   {
    "duration": 515,
    "start_time": "2022-04-20T13:34:00.175Z"
   },
   {
    "duration": 13,
    "start_time": "2022-04-20T13:34:00.693Z"
   },
   {
    "duration": 29,
    "start_time": "2022-04-20T13:34:07.639Z"
   },
   {
    "duration": 673,
    "start_time": "2022-04-20T13:40:23.073Z"
   },
   {
    "duration": 7,
    "start_time": "2022-04-20T13:40:43.524Z"
   },
   {
    "duration": 1175,
    "start_time": "2022-04-20T13:40:43.540Z"
   },
   {
    "duration": 197,
    "start_time": "2022-04-20T13:40:44.717Z"
   },
   {
    "duration": 84,
    "start_time": "2022-04-20T13:40:44.917Z"
   },
   {
    "duration": 215,
    "start_time": "2022-04-20T13:40:45.005Z"
   },
   {
    "duration": 118,
    "start_time": "2022-04-20T13:40:45.226Z"
   },
   {
    "duration": 152,
    "start_time": "2022-04-20T13:40:45.347Z"
   },
   {
    "duration": 31,
    "start_time": "2022-04-20T13:40:45.501Z"
   },
   {
    "duration": 158,
    "start_time": "2022-04-20T13:40:45.535Z"
   },
   {
    "duration": 696,
    "start_time": "2022-04-20T13:40:45.698Z"
   },
   {
    "duration": 29,
    "start_time": "2022-04-20T13:40:46.396Z"
   },
   {
    "duration": 38,
    "start_time": "2022-04-20T13:40:46.428Z"
   },
   {
    "duration": 641,
    "start_time": "2022-04-20T13:40:46.469Z"
   },
   {
    "duration": 5,
    "start_time": "2022-04-20T13:42:27.162Z"
   },
   {
    "duration": 1658,
    "start_time": "2022-04-20T13:42:27.174Z"
   },
   {
    "duration": 193,
    "start_time": "2022-04-20T13:42:28.836Z"
   },
   {
    "duration": 73,
    "start_time": "2022-04-20T13:42:29.032Z"
   },
   {
    "duration": 208,
    "start_time": "2022-04-20T13:42:29.108Z"
   },
   {
    "duration": 108,
    "start_time": "2022-04-20T13:42:29.323Z"
   },
   {
    "duration": 154,
    "start_time": "2022-04-20T13:42:29.434Z"
   },
   {
    "duration": 14,
    "start_time": "2022-04-20T13:42:29.591Z"
   },
   {
    "duration": 152,
    "start_time": "2022-04-20T13:42:29.625Z"
   },
   {
    "duration": 622,
    "start_time": "2022-04-20T13:42:29.780Z"
   },
   {
    "duration": 21,
    "start_time": "2022-04-20T13:42:30.405Z"
   },
   {
    "duration": 32,
    "start_time": "2022-04-20T13:42:30.430Z"
   },
   {
    "duration": 714,
    "start_time": "2022-04-20T13:42:30.465Z"
   },
   {
    "duration": 7,
    "start_time": "2022-04-20T13:43:57.914Z"
   },
   {
    "duration": 1144,
    "start_time": "2022-04-20T13:43:57.931Z"
   },
   {
    "duration": 188,
    "start_time": "2022-04-20T13:43:59.077Z"
   },
   {
    "duration": 97,
    "start_time": "2022-04-20T13:43:59.268Z"
   },
   {
    "duration": 194,
    "start_time": "2022-04-20T13:43:59.368Z"
   },
   {
    "duration": 99,
    "start_time": "2022-04-20T13:43:59.564Z"
   },
   {
    "duration": 160,
    "start_time": "2022-04-20T13:43:59.666Z"
   },
   {
    "duration": 19,
    "start_time": "2022-04-20T13:43:59.829Z"
   },
   {
    "duration": 167,
    "start_time": "2022-04-20T13:43:59.852Z"
   },
   {
    "duration": 508,
    "start_time": "2022-04-20T13:44:00.026Z"
   },
   {
    "duration": 12,
    "start_time": "2022-04-20T13:44:00.538Z"
   },
   {
    "duration": 26,
    "start_time": "2022-04-20T13:44:00.552Z"
   },
   {
    "duration": 359,
    "start_time": "2022-04-20T13:44:00.581Z"
   },
   {
    "duration": 119,
    "start_time": "2022-04-21T08:00:30.371Z"
   },
   {
    "duration": 1693,
    "start_time": "2022-04-21T08:00:37.313Z"
   },
   {
    "duration": 1102,
    "start_time": "2022-04-21T08:00:39.008Z"
   },
   {
    "duration": 170,
    "start_time": "2022-04-21T08:00:40.112Z"
   },
   {
    "duration": 69,
    "start_time": "2022-04-21T08:00:40.284Z"
   },
   {
    "duration": 200,
    "start_time": "2022-04-21T08:00:40.356Z"
   },
   {
    "duration": 95,
    "start_time": "2022-04-21T08:00:40.558Z"
   },
   {
    "duration": 176,
    "start_time": "2022-04-21T08:00:40.655Z"
   },
   {
    "duration": 15,
    "start_time": "2022-04-21T08:00:40.834Z"
   },
   {
    "duration": 162,
    "start_time": "2022-04-21T08:00:40.851Z"
   },
   {
    "duration": 490,
    "start_time": "2022-04-21T08:00:41.016Z"
   },
   {
    "duration": 10,
    "start_time": "2022-04-21T08:00:41.507Z"
   },
   {
    "duration": 22,
    "start_time": "2022-04-21T08:00:41.519Z"
   },
   {
    "duration": 478,
    "start_time": "2022-04-21T08:00:41.543Z"
   },
   {
    "duration": 5,
    "start_time": "2022-04-21T08:01:11.811Z"
   },
   {
    "duration": 1033,
    "start_time": "2022-04-21T08:01:11.819Z"
   },
   {
    "duration": 180,
    "start_time": "2022-04-21T08:01:12.854Z"
   },
   {
    "duration": 86,
    "start_time": "2022-04-21T08:01:13.036Z"
   },
   {
    "duration": 175,
    "start_time": "2022-04-21T08:01:13.125Z"
   },
   {
    "duration": 102,
    "start_time": "2022-04-21T08:01:13.302Z"
   },
   {
    "duration": 149,
    "start_time": "2022-04-21T08:01:13.407Z"
   },
   {
    "duration": 28,
    "start_time": "2022-04-21T08:01:13.558Z"
   },
   {
    "duration": 136,
    "start_time": "2022-04-21T08:01:13.588Z"
   },
   {
    "duration": 488,
    "start_time": "2022-04-21T08:01:13.726Z"
   },
   {
    "duration": 12,
    "start_time": "2022-04-21T08:01:14.218Z"
   },
   {
    "duration": 52,
    "start_time": "2022-04-21T08:01:14.232Z"
   },
   {
    "duration": 449,
    "start_time": "2022-04-21T08:01:14.286Z"
   },
   {
    "duration": 1492,
    "start_time": "2022-04-21T08:02:11.028Z"
   },
   {
    "duration": 937,
    "start_time": "2022-04-21T08:02:28.492Z"
   },
   {
    "duration": 12,
    "start_time": "2022-04-21T08:02:35.499Z"
   },
   {
    "duration": 12,
    "start_time": "2022-04-21T08:02:43.851Z"
   },
   {
    "duration": 5,
    "start_time": "2022-04-21T08:03:04.285Z"
   },
   {
    "duration": 1045,
    "start_time": "2022-04-21T08:03:04.293Z"
   },
   {
    "duration": 175,
    "start_time": "2022-04-21T08:03:05.341Z"
   },
   {
    "duration": 83,
    "start_time": "2022-04-21T08:03:05.518Z"
   },
   {
    "duration": 176,
    "start_time": "2022-04-21T08:03:05.603Z"
   },
   {
    "duration": 154,
    "start_time": "2022-04-21T08:03:05.782Z"
   },
   {
    "duration": 158,
    "start_time": "2022-04-21T08:03:05.937Z"
   },
   {
    "duration": 12,
    "start_time": "2022-04-21T08:03:06.097Z"
   },
   {
    "duration": 151,
    "start_time": "2022-04-21T08:03:06.111Z"
   },
   {
    "duration": 484,
    "start_time": "2022-04-21T08:03:06.265Z"
   },
   {
    "duration": 12,
    "start_time": "2022-04-21T08:03:06.753Z"
   },
   {
    "duration": 26,
    "start_time": "2022-04-21T08:03:06.782Z"
   },
   {
    "duration": 465,
    "start_time": "2022-04-21T08:03:06.810Z"
   },
   {
    "duration": 463,
    "start_time": "2022-04-21T08:09:41.391Z"
   },
   {
    "duration": 12,
    "start_time": "2022-04-21T08:09:51.799Z"
   },
   {
    "duration": 5,
    "start_time": "2022-04-21T08:11:48.458Z"
   },
   {
    "duration": 1063,
    "start_time": "2022-04-21T08:11:48.465Z"
   },
   {
    "duration": 169,
    "start_time": "2022-04-21T08:11:49.530Z"
   },
   {
    "duration": 85,
    "start_time": "2022-04-21T08:11:49.701Z"
   },
   {
    "duration": 176,
    "start_time": "2022-04-21T08:11:49.789Z"
   },
   {
    "duration": 92,
    "start_time": "2022-04-21T08:11:49.967Z"
   },
   {
    "duration": 146,
    "start_time": "2022-04-21T08:11:50.061Z"
   },
   {
    "duration": 12,
    "start_time": "2022-04-21T08:11:50.209Z"
   },
   {
    "duration": 159,
    "start_time": "2022-04-21T08:11:50.223Z"
   },
   {
    "duration": 488,
    "start_time": "2022-04-21T08:11:50.385Z"
   },
   {
    "duration": 10,
    "start_time": "2022-04-21T08:11:50.882Z"
   },
   {
    "duration": 23,
    "start_time": "2022-04-21T08:11:50.894Z"
   },
   {
    "duration": 473,
    "start_time": "2022-04-21T08:11:50.920Z"
   },
   {
    "duration": 10,
    "start_time": "2022-04-21T08:11:51.395Z"
   },
   {
    "duration": 12,
    "start_time": "2022-04-21T10:01:04.345Z"
   },
   {
    "duration": 5,
    "start_time": "2022-04-21T10:01:12.024Z"
   },
   {
    "duration": 11,
    "start_time": "2022-04-21T10:01:18.393Z"
   },
   {
    "duration": 5,
    "start_time": "2022-04-21T10:18:44.062Z"
   },
   {
    "duration": 105,
    "start_time": "2022-04-21T10:19:15.405Z"
   },
   {
    "duration": 11,
    "start_time": "2022-04-21T10:19:23.429Z"
   },
   {
    "duration": 5,
    "start_time": "2022-04-21T10:21:07.445Z"
   },
   {
    "duration": 5,
    "start_time": "2022-04-21T10:21:19.549Z"
   },
   {
    "duration": 4,
    "start_time": "2022-04-21T10:21:30.116Z"
   },
   {
    "duration": 7,
    "start_time": "2022-04-21T12:25:52.004Z"
   },
   {
    "duration": 1659,
    "start_time": "2022-04-21T12:25:52.036Z"
   },
   {
    "duration": 345,
    "start_time": "2022-04-21T12:25:53.699Z"
   },
   {
    "duration": 90,
    "start_time": "2022-04-21T12:25:54.047Z"
   },
   {
    "duration": 189,
    "start_time": "2022-04-21T12:25:54.141Z"
   },
   {
    "duration": 99,
    "start_time": "2022-04-21T12:25:54.333Z"
   },
   {
    "duration": 147,
    "start_time": "2022-04-21T12:25:54.435Z"
   },
   {
    "duration": 13,
    "start_time": "2022-04-21T12:25:54.584Z"
   },
   {
    "duration": 165,
    "start_time": "2022-04-21T12:25:54.599Z"
   },
   {
    "duration": 486,
    "start_time": "2022-04-21T12:25:54.767Z"
   },
   {
    "duration": 24,
    "start_time": "2022-04-21T12:25:55.258Z"
   },
   {
    "duration": 25,
    "start_time": "2022-04-21T12:25:55.285Z"
   },
   {
    "duration": 465,
    "start_time": "2022-04-21T12:25:55.313Z"
   },
   {
    "duration": 13,
    "start_time": "2022-04-21T12:25:55.780Z"
   },
   {
    "duration": 3,
    "start_time": "2022-04-21T12:25:55.796Z"
   },
   {
    "duration": 284,
    "start_time": "2022-04-21T12:25:55.802Z"
   },
   {
    "duration": 313,
    "start_time": "2022-04-21T12:25:56.088Z"
   },
   {
    "duration": 294,
    "start_time": "2022-04-21T12:25:56.404Z"
   },
   {
    "duration": 5,
    "start_time": "2022-04-21T12:27:16.250Z"
   },
   {
    "duration": 1053,
    "start_time": "2022-04-21T12:27:16.258Z"
   },
   {
    "duration": 171,
    "start_time": "2022-04-21T12:27:17.314Z"
   },
   {
    "duration": 67,
    "start_time": "2022-04-21T12:27:17.488Z"
   },
   {
    "duration": 185,
    "start_time": "2022-04-21T12:27:17.558Z"
   },
   {
    "duration": 97,
    "start_time": "2022-04-21T12:27:17.745Z"
   },
   {
    "duration": 153,
    "start_time": "2022-04-21T12:27:17.844Z"
   },
   {
    "duration": 12,
    "start_time": "2022-04-21T12:27:17.999Z"
   },
   {
    "duration": 168,
    "start_time": "2022-04-21T12:27:18.013Z"
   },
   {
    "duration": 476,
    "start_time": "2022-04-21T12:27:18.183Z"
   },
   {
    "duration": 21,
    "start_time": "2022-04-21T12:27:18.662Z"
   },
   {
    "duration": 25,
    "start_time": "2022-04-21T12:27:18.685Z"
   },
   {
    "duration": 558,
    "start_time": "2022-04-21T12:27:18.713Z"
   },
   {
    "duration": 15,
    "start_time": "2022-04-21T12:27:19.274Z"
   },
   {
    "duration": 1470,
    "start_time": "2022-04-21T12:27:19.292Z"
   },
   {
    "duration": 639,
    "start_time": "2022-04-21T12:27:20.764Z"
   },
   {
    "duration": 290,
    "start_time": "2022-04-21T12:27:21.406Z"
   },
   {
    "duration": 498,
    "start_time": "2022-04-21T12:27:21.698Z"
   },
   {
    "duration": 5,
    "start_time": "2022-04-21T12:32:36.945Z"
   },
   {
    "duration": 1128,
    "start_time": "2022-04-21T12:32:36.958Z"
   },
   {
    "duration": 195,
    "start_time": "2022-04-21T12:32:38.090Z"
   },
   {
    "duration": 72,
    "start_time": "2022-04-21T12:32:38.287Z"
   },
   {
    "duration": 198,
    "start_time": "2022-04-21T12:32:38.362Z"
   },
   {
    "duration": 92,
    "start_time": "2022-04-21T12:32:38.563Z"
   },
   {
    "duration": 162,
    "start_time": "2022-04-21T12:32:38.658Z"
   },
   {
    "duration": 12,
    "start_time": "2022-04-21T12:32:38.822Z"
   },
   {
    "duration": 156,
    "start_time": "2022-04-21T12:32:38.835Z"
   },
   {
    "duration": 483,
    "start_time": "2022-04-21T12:32:38.993Z"
   },
   {
    "duration": 10,
    "start_time": "2022-04-21T12:32:39.483Z"
   },
   {
    "duration": 23,
    "start_time": "2022-04-21T12:32:39.496Z"
   },
   {
    "duration": 2064,
    "start_time": "2022-04-21T12:32:39.521Z"
   },
   {
    "duration": 0,
    "start_time": "2022-04-21T12:32:41.587Z"
   },
   {
    "duration": 0,
    "start_time": "2022-04-21T12:32:41.588Z"
   },
   {
    "duration": 0,
    "start_time": "2022-04-21T12:32:41.590Z"
   },
   {
    "duration": 0,
    "start_time": "2022-04-21T12:32:41.591Z"
   },
   {
    "duration": 0,
    "start_time": "2022-04-21T12:32:41.592Z"
   },
   {
    "duration": 4091,
    "start_time": "2022-04-21T12:33:01.255Z"
   },
   {
    "duration": 0,
    "start_time": "2022-04-21T12:33:05.348Z"
   },
   {
    "duration": 5,
    "start_time": "2022-04-21T12:33:20.846Z"
   },
   {
    "duration": 1051,
    "start_time": "2022-04-21T12:33:20.853Z"
   },
   {
    "duration": 185,
    "start_time": "2022-04-21T12:33:21.907Z"
   },
   {
    "duration": 87,
    "start_time": "2022-04-21T12:33:22.095Z"
   },
   {
    "duration": 183,
    "start_time": "2022-04-21T12:33:22.186Z"
   },
   {
    "duration": 93,
    "start_time": "2022-04-21T12:33:22.372Z"
   },
   {
    "duration": 149,
    "start_time": "2022-04-21T12:33:22.482Z"
   },
   {
    "duration": 13,
    "start_time": "2022-04-21T12:33:22.633Z"
   },
   {
    "duration": 175,
    "start_time": "2022-04-21T12:33:22.648Z"
   },
   {
    "duration": 484,
    "start_time": "2022-04-21T12:33:22.825Z"
   },
   {
    "duration": 9,
    "start_time": "2022-04-21T12:33:23.313Z"
   },
   {
    "duration": 26,
    "start_time": "2022-04-21T12:33:23.324Z"
   },
   {
    "duration": 490,
    "start_time": "2022-04-21T12:33:23.352Z"
   },
   {
    "duration": 10,
    "start_time": "2022-04-21T12:33:23.844Z"
   },
   {
    "duration": 1366,
    "start_time": "2022-04-21T12:33:23.856Z"
   },
   {
    "duration": 649,
    "start_time": "2022-04-21T12:33:25.225Z"
   },
   {
    "duration": 305,
    "start_time": "2022-04-21T12:33:25.876Z"
   },
   {
    "duration": 537,
    "start_time": "2022-04-21T12:33:26.184Z"
   },
   {
    "duration": 6,
    "start_time": "2022-04-21T12:34:20.095Z"
   },
   {
    "duration": 1061,
    "start_time": "2022-04-21T12:34:20.106Z"
   },
   {
    "duration": 169,
    "start_time": "2022-04-21T12:34:21.169Z"
   },
   {
    "duration": 84,
    "start_time": "2022-04-21T12:34:21.341Z"
   },
   {
    "duration": 188,
    "start_time": "2022-04-21T12:34:21.428Z"
   },
   {
    "duration": 101,
    "start_time": "2022-04-21T12:34:21.618Z"
   },
   {
    "duration": 148,
    "start_time": "2022-04-21T12:34:21.721Z"
   },
   {
    "duration": 17,
    "start_time": "2022-04-21T12:34:21.871Z"
   },
   {
    "duration": 175,
    "start_time": "2022-04-21T12:34:21.890Z"
   },
   {
    "duration": 577,
    "start_time": "2022-04-21T12:34:22.067Z"
   },
   {
    "duration": 0,
    "start_time": "2022-04-21T12:34:22.647Z"
   },
   {
    "duration": 0,
    "start_time": "2022-04-21T12:34:22.648Z"
   },
   {
    "duration": 0,
    "start_time": "2022-04-21T12:34:22.650Z"
   },
   {
    "duration": 0,
    "start_time": "2022-04-21T12:34:22.651Z"
   },
   {
    "duration": 0,
    "start_time": "2022-04-21T12:34:22.652Z"
   },
   {
    "duration": 0,
    "start_time": "2022-04-21T12:34:22.653Z"
   },
   {
    "duration": 0,
    "start_time": "2022-04-21T12:34:22.655Z"
   },
   {
    "duration": 0,
    "start_time": "2022-04-21T12:34:22.656Z"
   },
   {
    "duration": 100,
    "start_time": "2022-04-21T12:35:47.234Z"
   },
   {
    "duration": 5,
    "start_time": "2022-04-21T12:36:10.229Z"
   },
   {
    "duration": 1031,
    "start_time": "2022-04-21T12:36:10.238Z"
   },
   {
    "duration": 172,
    "start_time": "2022-04-21T12:36:11.272Z"
   },
   {
    "duration": 80,
    "start_time": "2022-04-21T12:36:11.446Z"
   },
   {
    "duration": 287,
    "start_time": "2022-04-21T12:36:11.528Z"
   },
   {
    "duration": 96,
    "start_time": "2022-04-21T12:36:11.817Z"
   },
   {
    "duration": 149,
    "start_time": "2022-04-21T12:36:11.915Z"
   },
   {
    "duration": 25,
    "start_time": "2022-04-21T12:36:12.066Z"
   },
   {
    "duration": 154,
    "start_time": "2022-04-21T12:36:12.094Z"
   },
   {
    "duration": 474,
    "start_time": "2022-04-21T12:36:12.250Z"
   },
   {
    "duration": 521,
    "start_time": "2022-04-21T12:36:30.113Z"
   },
   {
    "duration": 5,
    "start_time": "2022-04-21T12:38:08.107Z"
   },
   {
    "duration": 1033,
    "start_time": "2022-04-21T12:38:08.116Z"
   },
   {
    "duration": 169,
    "start_time": "2022-04-21T12:38:09.151Z"
   },
   {
    "duration": 87,
    "start_time": "2022-04-21T12:38:09.322Z"
   },
   {
    "duration": 178,
    "start_time": "2022-04-21T12:38:09.412Z"
   },
   {
    "duration": 102,
    "start_time": "2022-04-21T12:38:09.592Z"
   },
   {
    "duration": 153,
    "start_time": "2022-04-21T12:38:09.696Z"
   },
   {
    "duration": 13,
    "start_time": "2022-04-21T12:38:09.851Z"
   },
   {
    "duration": 158,
    "start_time": "2022-04-21T12:38:09.866Z"
   },
   {
    "duration": 578,
    "start_time": "2022-04-21T12:38:10.026Z"
   },
   {
    "duration": 29,
    "start_time": "2022-04-21T12:38:27.405Z"
   },
   {
    "duration": 5,
    "start_time": "2022-04-21T12:39:11.360Z"
   },
   {
    "duration": 1055,
    "start_time": "2022-04-21T12:39:11.369Z"
   },
   {
    "duration": 178,
    "start_time": "2022-04-21T12:39:12.426Z"
   },
   {
    "duration": 85,
    "start_time": "2022-04-21T12:39:12.607Z"
   },
   {
    "duration": 190,
    "start_time": "2022-04-21T12:39:12.695Z"
   },
   {
    "duration": 100,
    "start_time": "2022-04-21T12:39:12.887Z"
   },
   {
    "duration": 150,
    "start_time": "2022-04-21T12:39:12.989Z"
   },
   {
    "duration": 12,
    "start_time": "2022-04-21T12:39:13.141Z"
   },
   {
    "duration": 148,
    "start_time": "2022-04-21T12:39:13.155Z"
   },
   {
    "duration": 463,
    "start_time": "2022-04-21T12:39:13.305Z"
   },
   {
    "duration": 0,
    "start_time": "2022-04-21T12:39:13.770Z"
   },
   {
    "duration": 0,
    "start_time": "2022-04-21T12:39:13.772Z"
   },
   {
    "duration": 0,
    "start_time": "2022-04-21T12:39:13.773Z"
   },
   {
    "duration": 0,
    "start_time": "2022-04-21T12:39:13.781Z"
   },
   {
    "duration": 0,
    "start_time": "2022-04-21T12:39:13.782Z"
   },
   {
    "duration": 0,
    "start_time": "2022-04-21T12:39:13.784Z"
   },
   {
    "duration": 0,
    "start_time": "2022-04-21T12:39:13.785Z"
   },
   {
    "duration": 0,
    "start_time": "2022-04-21T12:39:13.786Z"
   },
   {
    "duration": 136,
    "start_time": "2022-04-21T12:44:04.006Z"
   },
   {
    "duration": 5,
    "start_time": "2022-04-21T12:44:12.279Z"
   },
   {
    "duration": 1078,
    "start_time": "2022-04-21T12:44:12.287Z"
   },
   {
    "duration": 179,
    "start_time": "2022-04-21T12:44:13.369Z"
   },
   {
    "duration": 81,
    "start_time": "2022-04-21T12:44:13.551Z"
   },
   {
    "duration": 183,
    "start_time": "2022-04-21T12:44:13.635Z"
   },
   {
    "duration": 102,
    "start_time": "2022-04-21T12:44:13.820Z"
   },
   {
    "duration": 139,
    "start_time": "2022-04-21T12:44:13.924Z"
   },
   {
    "duration": 25,
    "start_time": "2022-04-21T12:44:14.066Z"
   },
   {
    "duration": 138,
    "start_time": "2022-04-21T12:44:14.093Z"
   },
   {
    "duration": 470,
    "start_time": "2022-04-21T12:44:14.233Z"
   },
   {
    "duration": 6,
    "start_time": "2022-04-21T12:44:49.421Z"
   },
   {
    "duration": 1042,
    "start_time": "2022-04-21T12:44:49.430Z"
   },
   {
    "duration": 181,
    "start_time": "2022-04-21T12:44:50.475Z"
   },
   {
    "duration": 80,
    "start_time": "2022-04-21T12:44:50.659Z"
   },
   {
    "duration": 195,
    "start_time": "2022-04-21T12:44:50.743Z"
   },
   {
    "duration": 98,
    "start_time": "2022-04-21T12:44:50.941Z"
   },
   {
    "duration": 158,
    "start_time": "2022-04-21T12:44:51.042Z"
   },
   {
    "duration": 13,
    "start_time": "2022-04-21T12:44:51.203Z"
   },
   {
    "duration": 155,
    "start_time": "2022-04-21T12:44:51.218Z"
   },
   {
    "duration": 30,
    "start_time": "2022-04-21T12:44:51.375Z"
   },
   {
    "duration": 30,
    "start_time": "2022-04-21T12:44:51.408Z"
   },
   {
    "duration": 46,
    "start_time": "2022-04-21T12:44:51.440Z"
   },
   {
    "duration": 459,
    "start_time": "2022-04-21T12:44:51.488Z"
   },
   {
    "duration": 9,
    "start_time": "2022-04-21T12:44:51.949Z"
   },
   {
    "duration": 1388,
    "start_time": "2022-04-21T12:44:51.961Z"
   },
   {
    "duration": 637,
    "start_time": "2022-04-21T12:44:53.351Z"
   },
   {
    "duration": 296,
    "start_time": "2022-04-21T12:44:53.991Z"
   },
   {
    "duration": 1745,
    "start_time": "2022-04-21T12:45:06.154Z"
   },
   {
    "duration": 1086,
    "start_time": "2022-04-21T12:45:07.902Z"
   },
   {
    "duration": 174,
    "start_time": "2022-04-21T12:45:08.990Z"
   },
   {
    "duration": 76,
    "start_time": "2022-04-21T12:45:09.168Z"
   },
   {
    "duration": 197,
    "start_time": "2022-04-21T12:45:09.246Z"
   },
   {
    "duration": 93,
    "start_time": "2022-04-21T12:45:09.445Z"
   },
   {
    "duration": 169,
    "start_time": "2022-04-21T12:45:09.540Z"
   },
   {
    "duration": 12,
    "start_time": "2022-04-21T12:45:09.712Z"
   },
   {
    "duration": 157,
    "start_time": "2022-04-21T12:45:09.726Z"
   },
   {
    "duration": 27,
    "start_time": "2022-04-21T12:45:09.886Z"
   },
   {
    "duration": 31,
    "start_time": "2022-04-21T12:45:09.915Z"
   },
   {
    "duration": 52,
    "start_time": "2022-04-21T12:45:09.948Z"
   },
   {
    "duration": 463,
    "start_time": "2022-04-21T12:45:10.002Z"
   },
   {
    "duration": 19,
    "start_time": "2022-04-21T12:45:10.467Z"
   },
   {
    "duration": 1307,
    "start_time": "2022-04-21T12:45:10.488Z"
   },
   {
    "duration": 629,
    "start_time": "2022-04-21T12:45:11.797Z"
   },
   {
    "duration": 293,
    "start_time": "2022-04-21T12:45:12.428Z"
   },
   {
    "duration": 28461,
    "start_time": "2022-04-21T12:45:12.723Z"
   },
   {
    "duration": 5,
    "start_time": "2022-04-21T12:46:42.340Z"
   },
   {
    "duration": 1074,
    "start_time": "2022-04-21T12:46:42.347Z"
   },
   {
    "duration": 176,
    "start_time": "2022-04-21T12:46:43.424Z"
   },
   {
    "duration": 82,
    "start_time": "2022-04-21T12:46:43.603Z"
   },
   {
    "duration": 175,
    "start_time": "2022-04-21T12:46:43.687Z"
   },
   {
    "duration": 97,
    "start_time": "2022-04-21T12:46:43.864Z"
   },
   {
    "duration": 155,
    "start_time": "2022-04-21T12:46:43.963Z"
   },
   {
    "duration": 13,
    "start_time": "2022-04-21T12:46:44.120Z"
   },
   {
    "duration": 220,
    "start_time": "2022-04-21T12:46:44.135Z"
   },
   {
    "duration": 727,
    "start_time": "2022-04-21T12:46:44.357Z"
   },
   {
    "duration": 104,
    "start_time": "2022-04-21T12:47:14.629Z"
   },
   {
    "duration": 6,
    "start_time": "2022-04-21T12:47:19.443Z"
   },
   {
    "duration": 1058,
    "start_time": "2022-04-21T12:47:19.463Z"
   },
   {
    "duration": 172,
    "start_time": "2022-04-21T12:47:20.524Z"
   },
   {
    "duration": 84,
    "start_time": "2022-04-21T12:47:20.699Z"
   },
   {
    "duration": 175,
    "start_time": "2022-04-21T12:47:20.786Z"
   },
   {
    "duration": 87,
    "start_time": "2022-04-21T12:47:20.967Z"
   },
   {
    "duration": 153,
    "start_time": "2022-04-21T12:47:21.056Z"
   },
   {
    "duration": 13,
    "start_time": "2022-04-21T12:47:21.211Z"
   },
   {
    "duration": 164,
    "start_time": "2022-04-21T12:47:21.226Z"
   },
   {
    "duration": 516,
    "start_time": "2022-04-21T12:47:21.393Z"
   },
   {
    "duration": 7,
    "start_time": "2022-04-21T12:53:05.427Z"
   },
   {
    "duration": 437,
    "start_time": "2022-04-21T12:53:35.069Z"
   },
   {
    "duration": 567,
    "start_time": "2022-04-21T12:53:48.901Z"
   },
   {
    "duration": 6,
    "start_time": "2022-04-21T12:53:57.284Z"
   },
   {
    "duration": 1061,
    "start_time": "2022-04-21T12:53:57.293Z"
   },
   {
    "duration": 179,
    "start_time": "2022-04-21T12:53:58.357Z"
   },
   {
    "duration": 79,
    "start_time": "2022-04-21T12:53:58.538Z"
   },
   {
    "duration": 177,
    "start_time": "2022-04-21T12:53:58.620Z"
   },
   {
    "duration": 102,
    "start_time": "2022-04-21T12:53:58.799Z"
   },
   {
    "duration": 139,
    "start_time": "2022-04-21T12:53:58.903Z"
   },
   {
    "duration": 12,
    "start_time": "2022-04-21T12:53:59.045Z"
   },
   {
    "duration": 146,
    "start_time": "2022-04-21T12:53:59.059Z"
   },
   {
    "duration": 568,
    "start_time": "2022-04-21T12:53:59.208Z"
   },
   {
    "duration": 0,
    "start_time": "2022-04-21T12:53:59.782Z"
   },
   {
    "duration": 0,
    "start_time": "2022-04-21T12:53:59.783Z"
   },
   {
    "duration": 1,
    "start_time": "2022-04-21T12:53:59.784Z"
   },
   {
    "duration": 434,
    "start_time": "2022-04-21T12:54:25.376Z"
   },
   {
    "duration": 446,
    "start_time": "2022-04-21T12:55:05.896Z"
   },
   {
    "duration": 5,
    "start_time": "2022-04-21T12:55:10.780Z"
   },
   {
    "duration": 1025,
    "start_time": "2022-04-21T12:55:10.790Z"
   },
   {
    "duration": 182,
    "start_time": "2022-04-21T12:55:11.818Z"
   },
   {
    "duration": 85,
    "start_time": "2022-04-21T12:55:12.002Z"
   },
   {
    "duration": 177,
    "start_time": "2022-04-21T12:55:12.091Z"
   },
   {
    "duration": 113,
    "start_time": "2022-04-21T12:55:12.270Z"
   },
   {
    "duration": 148,
    "start_time": "2022-04-21T12:55:12.386Z"
   },
   {
    "duration": 12,
    "start_time": "2022-04-21T12:55:12.536Z"
   },
   {
    "duration": 147,
    "start_time": "2022-04-21T12:55:12.550Z"
   },
   {
    "duration": 447,
    "start_time": "2022-04-21T12:55:12.699Z"
   },
   {
    "duration": 434,
    "start_time": "2022-04-21T12:55:57.319Z"
   },
   {
    "duration": 5,
    "start_time": "2022-04-21T12:59:37.256Z"
   },
   {
    "duration": 1048,
    "start_time": "2022-04-21T12:59:37.264Z"
   },
   {
    "duration": 191,
    "start_time": "2022-04-21T12:59:38.315Z"
   },
   {
    "duration": 134,
    "start_time": "2022-04-21T12:59:38.510Z"
   },
   {
    "duration": 275,
    "start_time": "2022-04-21T12:59:38.649Z"
   },
   {
    "duration": 116,
    "start_time": "2022-04-21T12:59:38.927Z"
   },
   {
    "duration": 171,
    "start_time": "2022-04-21T12:59:39.045Z"
   },
   {
    "duration": 18,
    "start_time": "2022-04-21T12:59:39.218Z"
   },
   {
    "duration": 197,
    "start_time": "2022-04-21T12:59:39.239Z"
   },
   {
    "duration": 703,
    "start_time": "2022-04-21T12:59:39.439Z"
   },
   {
    "duration": 439,
    "start_time": "2022-04-21T13:00:21.644Z"
   },
   {
    "duration": 562,
    "start_time": "2022-04-21T13:00:30.139Z"
   },
   {
    "duration": 428,
    "start_time": "2022-04-21T13:01:04.523Z"
   },
   {
    "duration": 460,
    "start_time": "2022-04-21T13:01:17.426Z"
   },
   {
    "duration": 5,
    "start_time": "2022-04-21T13:02:06.214Z"
   },
   {
    "duration": 2475,
    "start_time": "2022-04-21T13:02:06.221Z"
   },
   {
    "duration": 170,
    "start_time": "2022-04-21T13:02:08.698Z"
   },
   {
    "duration": 75,
    "start_time": "2022-04-21T13:02:08.870Z"
   },
   {
    "duration": 185,
    "start_time": "2022-04-21T13:02:08.948Z"
   },
   {
    "duration": 100,
    "start_time": "2022-04-21T13:02:09.135Z"
   },
   {
    "duration": 146,
    "start_time": "2022-04-21T13:02:09.237Z"
   },
   {
    "duration": 13,
    "start_time": "2022-04-21T13:02:09.385Z"
   },
   {
    "duration": 162,
    "start_time": "2022-04-21T13:02:09.400Z"
   },
   {
    "duration": 482,
    "start_time": "2022-04-21T13:02:09.565Z"
   },
   {
    "duration": 5,
    "start_time": "2022-04-21T13:05:02.420Z"
   },
   {
    "duration": 1191,
    "start_time": "2022-04-21T13:05:02.428Z"
   },
   {
    "duration": 181,
    "start_time": "2022-04-21T13:05:03.621Z"
   },
   {
    "duration": 89,
    "start_time": "2022-04-21T13:05:03.805Z"
   },
   {
    "duration": 366,
    "start_time": "2022-04-21T13:05:03.896Z"
   },
   {
    "duration": 95,
    "start_time": "2022-04-21T13:05:04.265Z"
   },
   {
    "duration": 143,
    "start_time": "2022-04-21T13:05:04.362Z"
   },
   {
    "duration": 13,
    "start_time": "2022-04-21T13:05:04.507Z"
   },
   {
    "duration": 148,
    "start_time": "2022-04-21T13:05:04.523Z"
   },
   {
    "duration": 442,
    "start_time": "2022-04-21T13:05:04.673Z"
   },
   {
    "duration": 110,
    "start_time": "2022-04-21T13:05:26.711Z"
   },
   {
    "duration": 460,
    "start_time": "2022-04-21T13:05:33.551Z"
   },
   {
    "duration": 426,
    "start_time": "2022-04-21T13:05:51.566Z"
   },
   {
    "duration": 6,
    "start_time": "2022-04-21T13:06:34.587Z"
   },
   {
    "duration": 1088,
    "start_time": "2022-04-21T13:06:34.595Z"
   },
   {
    "duration": 230,
    "start_time": "2022-04-21T13:06:35.686Z"
   },
   {
    "duration": 74,
    "start_time": "2022-04-21T13:06:35.919Z"
   },
   {
    "duration": 290,
    "start_time": "2022-04-21T13:06:35.997Z"
   },
   {
    "duration": 100,
    "start_time": "2022-04-21T13:06:36.289Z"
   },
   {
    "duration": 138,
    "start_time": "2022-04-21T13:06:36.391Z"
   },
   {
    "duration": 12,
    "start_time": "2022-04-21T13:06:36.531Z"
   },
   {
    "duration": 148,
    "start_time": "2022-04-21T13:06:36.545Z"
   },
   {
    "duration": 451,
    "start_time": "2022-04-21T13:06:36.695Z"
   },
   {
    "duration": 6,
    "start_time": "2022-04-21T13:06:51.826Z"
   },
   {
    "duration": 1085,
    "start_time": "2022-04-21T13:06:51.835Z"
   },
   {
    "duration": 181,
    "start_time": "2022-04-21T13:06:52.923Z"
   },
   {
    "duration": 84,
    "start_time": "2022-04-21T13:06:53.106Z"
   },
   {
    "duration": 269,
    "start_time": "2022-04-21T13:06:53.193Z"
   },
   {
    "duration": 99,
    "start_time": "2022-04-21T13:06:53.464Z"
   },
   {
    "duration": 142,
    "start_time": "2022-04-21T13:06:53.565Z"
   },
   {
    "duration": 13,
    "start_time": "2022-04-21T13:06:53.709Z"
   },
   {
    "duration": 149,
    "start_time": "2022-04-21T13:06:53.724Z"
   },
   {
    "duration": 333,
    "start_time": "2022-04-21T13:06:53.875Z"
   },
   {
    "duration": 10,
    "start_time": "2022-04-21T13:07:09.615Z"
   },
   {
    "duration": 10,
    "start_time": "2022-04-21T13:08:04.205Z"
   },
   {
    "duration": 6,
    "start_time": "2022-04-21T13:09:52.816Z"
   },
   {
    "duration": 1050,
    "start_time": "2022-04-21T13:09:52.825Z"
   },
   {
    "duration": 166,
    "start_time": "2022-04-21T13:09:53.881Z"
   },
   {
    "duration": 81,
    "start_time": "2022-04-21T13:09:54.050Z"
   },
   {
    "duration": 270,
    "start_time": "2022-04-21T13:09:54.134Z"
   },
   {
    "duration": 100,
    "start_time": "2022-04-21T13:09:54.406Z"
   },
   {
    "duration": 136,
    "start_time": "2022-04-21T13:09:54.508Z"
   },
   {
    "duration": 13,
    "start_time": "2022-04-21T13:09:54.646Z"
   },
   {
    "duration": 149,
    "start_time": "2022-04-21T13:09:54.661Z"
   },
   {
    "duration": 318,
    "start_time": "2022-04-21T13:09:54.812Z"
   },
   {
    "duration": 11,
    "start_time": "2022-04-21T13:10:15.995Z"
   },
   {
    "duration": 12,
    "start_time": "2022-04-21T13:12:15.611Z"
   },
   {
    "duration": 12,
    "start_time": "2022-04-21T13:12:18.786Z"
   },
   {
    "duration": 12,
    "start_time": "2022-04-21T13:12:23.634Z"
   },
   {
    "duration": 48,
    "start_time": "2022-04-21T13:12:28.890Z"
   },
   {
    "duration": 9,
    "start_time": "2022-04-21T13:12:33.453Z"
   },
   {
    "duration": 11,
    "start_time": "2022-04-21T13:13:37.208Z"
   },
   {
    "duration": 23,
    "start_time": "2022-04-21T13:15:03.831Z"
   },
   {
    "duration": 6,
    "start_time": "2022-04-21T13:15:14.356Z"
   },
   {
    "duration": 1024,
    "start_time": "2022-04-21T13:15:14.366Z"
   },
   {
    "duration": 170,
    "start_time": "2022-04-21T13:15:15.393Z"
   },
   {
    "duration": 80,
    "start_time": "2022-04-21T13:15:15.565Z"
   },
   {
    "duration": 279,
    "start_time": "2022-04-21T13:15:15.648Z"
   },
   {
    "duration": 118,
    "start_time": "2022-04-21T13:15:15.929Z"
   },
   {
    "duration": 147,
    "start_time": "2022-04-21T13:15:16.049Z"
   },
   {
    "duration": 13,
    "start_time": "2022-04-21T13:15:16.198Z"
   },
   {
    "duration": 154,
    "start_time": "2022-04-21T13:15:16.214Z"
   },
   {
    "duration": 331,
    "start_time": "2022-04-21T13:15:16.370Z"
   },
   {
    "duration": 62,
    "start_time": "2022-04-21T13:15:24.783Z"
   },
   {
    "duration": 39,
    "start_time": "2022-04-21T13:15:52.975Z"
   },
   {
    "duration": 24,
    "start_time": "2022-04-21T13:16:13.816Z"
   },
   {
    "duration": 6,
    "start_time": "2022-04-21T13:16:24.275Z"
   },
   {
    "duration": 1051,
    "start_time": "2022-04-21T13:16:24.283Z"
   },
   {
    "duration": 179,
    "start_time": "2022-04-21T13:16:25.338Z"
   },
   {
    "duration": 84,
    "start_time": "2022-04-21T13:16:25.519Z"
   },
   {
    "duration": 255,
    "start_time": "2022-04-21T13:16:25.606Z"
   },
   {
    "duration": 95,
    "start_time": "2022-04-21T13:16:25.863Z"
   },
   {
    "duration": 147,
    "start_time": "2022-04-21T13:16:25.960Z"
   },
   {
    "duration": 13,
    "start_time": "2022-04-21T13:16:26.109Z"
   },
   {
    "duration": 151,
    "start_time": "2022-04-21T13:16:26.124Z"
   },
   {
    "duration": 306,
    "start_time": "2022-04-21T13:16:26.281Z"
   },
   {
    "duration": 59,
    "start_time": "2022-04-21T13:16:28.670Z"
   },
   {
    "duration": 6,
    "start_time": "2022-04-21T13:18:46.866Z"
   },
   {
    "duration": 1129,
    "start_time": "2022-04-21T13:18:46.875Z"
   },
   {
    "duration": 177,
    "start_time": "2022-04-21T13:18:48.007Z"
   },
   {
    "duration": 67,
    "start_time": "2022-04-21T13:18:48.186Z"
   },
   {
    "duration": 283,
    "start_time": "2022-04-21T13:18:48.256Z"
   },
   {
    "duration": 123,
    "start_time": "2022-04-21T13:18:48.541Z"
   },
   {
    "duration": 155,
    "start_time": "2022-04-21T13:18:48.682Z"
   },
   {
    "duration": 17,
    "start_time": "2022-04-21T13:18:48.840Z"
   },
   {
    "duration": 168,
    "start_time": "2022-04-21T13:18:48.859Z"
   },
   {
    "duration": 97,
    "start_time": "2022-04-21T13:18:49.030Z"
   },
   {
    "duration": 309,
    "start_time": "2022-04-21T13:18:59.774Z"
   },
   {
    "duration": 130,
    "start_time": "2022-04-21T13:19:09.773Z"
   },
   {
    "duration": 2062,
    "start_time": "2022-04-21T13:19:41.071Z"
   },
   {
    "duration": 5,
    "start_time": "2022-04-21T13:19:50.226Z"
   },
   {
    "duration": 1025,
    "start_time": "2022-04-21T13:19:50.234Z"
   },
   {
    "duration": 187,
    "start_time": "2022-04-21T13:19:51.262Z"
   },
   {
    "duration": 95,
    "start_time": "2022-04-21T13:19:51.453Z"
   },
   {
    "duration": 277,
    "start_time": "2022-04-21T13:19:51.551Z"
   },
   {
    "duration": 101,
    "start_time": "2022-04-21T13:19:51.830Z"
   },
   {
    "duration": 134,
    "start_time": "2022-04-21T13:19:51.933Z"
   },
   {
    "duration": 21,
    "start_time": "2022-04-21T13:19:52.069Z"
   },
   {
    "duration": 137,
    "start_time": "2022-04-21T13:19:52.092Z"
   },
   {
    "duration": 312,
    "start_time": "2022-04-21T13:19:52.231Z"
   },
   {
    "duration": 140,
    "start_time": "2022-04-21T13:19:53.685Z"
   },
   {
    "duration": 28,
    "start_time": "2022-04-21T13:20:05.828Z"
   },
   {
    "duration": 176,
    "start_time": "2022-04-21T13:20:22.245Z"
   },
   {
    "duration": 9,
    "start_time": "2022-04-21T13:21:29.891Z"
   },
   {
    "duration": 5,
    "start_time": "2022-04-21T13:23:42.784Z"
   },
   {
    "duration": 1185,
    "start_time": "2022-04-21T13:23:42.796Z"
   },
   {
    "duration": 178,
    "start_time": "2022-04-21T13:23:43.984Z"
   },
   {
    "duration": 90,
    "start_time": "2022-04-21T13:23:44.166Z"
   },
   {
    "duration": 281,
    "start_time": "2022-04-21T13:23:44.258Z"
   },
   {
    "duration": 98,
    "start_time": "2022-04-21T13:23:44.542Z"
   },
   {
    "duration": 142,
    "start_time": "2022-04-21T13:23:44.643Z"
   },
   {
    "duration": 13,
    "start_time": "2022-04-21T13:23:44.787Z"
   },
   {
    "duration": 224,
    "start_time": "2022-04-21T13:23:44.802Z"
   },
   {
    "duration": 2106,
    "start_time": "2022-04-21T13:24:11.637Z"
   },
   {
    "duration": 1633,
    "start_time": "2022-04-21T13:24:13.746Z"
   },
   {
    "duration": 319,
    "start_time": "2022-04-21T13:24:15.383Z"
   },
   {
    "duration": 127,
    "start_time": "2022-04-21T13:24:15.706Z"
   },
   {
    "duration": 292,
    "start_time": "2022-04-21T13:24:15.835Z"
   },
   {
    "duration": 109,
    "start_time": "2022-04-21T13:24:16.130Z"
   },
   {
    "duration": 157,
    "start_time": "2022-04-21T13:24:16.241Z"
   },
   {
    "duration": 13,
    "start_time": "2022-04-21T13:24:16.400Z"
   },
   {
    "duration": 234,
    "start_time": "2022-04-21T13:24:16.415Z"
   },
   {
    "duration": 2837,
    "start_time": "2022-04-21T13:28:00.102Z"
   },
   {
    "duration": 6,
    "start_time": "2022-04-21T13:28:10.994Z"
   },
   {
    "duration": 1082,
    "start_time": "2022-04-21T13:28:11.003Z"
   },
   {
    "duration": 172,
    "start_time": "2022-04-21T13:28:12.088Z"
   },
   {
    "duration": 71,
    "start_time": "2022-04-21T13:28:12.262Z"
   },
   {
    "duration": 271,
    "start_time": "2022-04-21T13:28:12.336Z"
   },
   {
    "duration": 101,
    "start_time": "2022-04-21T13:28:12.609Z"
   },
   {
    "duration": 132,
    "start_time": "2022-04-21T13:28:12.712Z"
   },
   {
    "duration": 13,
    "start_time": "2022-04-21T13:28:12.846Z"
   },
   {
    "duration": 328,
    "start_time": "2022-04-21T13:28:12.861Z"
   },
   {
    "duration": 335,
    "start_time": "2022-04-21T13:28:13.192Z"
   },
   {
    "duration": 164,
    "start_time": "2022-04-21T13:28:13.531Z"
   },
   {
    "duration": 1983,
    "start_time": "2022-04-21T13:29:34.807Z"
   },
   {
    "duration": 5,
    "start_time": "2022-04-21T13:29:41.216Z"
   },
   {
    "duration": 1062,
    "start_time": "2022-04-21T13:29:41.224Z"
   },
   {
    "duration": 181,
    "start_time": "2022-04-21T13:29:42.288Z"
   },
   {
    "duration": 79,
    "start_time": "2022-04-21T13:29:42.471Z"
   },
   {
    "duration": 300,
    "start_time": "2022-04-21T13:29:42.553Z"
   },
   {
    "duration": 175,
    "start_time": "2022-04-21T13:29:42.855Z"
   },
   {
    "duration": 136,
    "start_time": "2022-04-21T13:29:43.033Z"
   },
   {
    "duration": 24,
    "start_time": "2022-04-21T13:29:43.172Z"
   },
   {
    "duration": 225,
    "start_time": "2022-04-21T13:29:43.199Z"
   },
   {
    "duration": 326,
    "start_time": "2022-04-21T13:29:43.427Z"
   },
   {
    "duration": 184,
    "start_time": "2022-04-21T13:29:43.756Z"
   },
   {
    "duration": 1668,
    "start_time": "2022-04-21T13:44:43.094Z"
   },
   {
    "duration": 8,
    "start_time": "2022-04-21T13:44:49.923Z"
   },
   {
    "duration": 1516,
    "start_time": "2022-04-21T13:44:49.934Z"
   },
   {
    "duration": 319,
    "start_time": "2022-04-21T13:44:51.453Z"
   },
   {
    "duration": 130,
    "start_time": "2022-04-21T13:44:51.783Z"
   },
   {
    "duration": 268,
    "start_time": "2022-04-21T13:44:51.915Z"
   },
   {
    "duration": 98,
    "start_time": "2022-04-21T13:44:52.185Z"
   },
   {
    "duration": 139,
    "start_time": "2022-04-21T13:44:52.286Z"
   },
   {
    "duration": 13,
    "start_time": "2022-04-21T13:44:52.427Z"
   },
   {
    "duration": 228,
    "start_time": "2022-04-21T13:44:52.443Z"
   },
   {
    "duration": 332,
    "start_time": "2022-04-21T13:44:52.674Z"
   },
   {
    "duration": 138,
    "start_time": "2022-04-21T13:44:53.008Z"
   },
   {
    "duration": 6,
    "start_time": "2022-04-21T13:45:18.315Z"
   },
   {
    "duration": 1037,
    "start_time": "2022-04-21T13:45:18.323Z"
   },
   {
    "duration": 169,
    "start_time": "2022-04-21T13:45:19.363Z"
   },
   {
    "duration": 89,
    "start_time": "2022-04-21T13:45:19.534Z"
   },
   {
    "duration": 257,
    "start_time": "2022-04-21T13:45:19.626Z"
   },
   {
    "duration": 103,
    "start_time": "2022-04-21T13:45:19.885Z"
   },
   {
    "duration": 135,
    "start_time": "2022-04-21T13:45:19.990Z"
   },
   {
    "duration": 12,
    "start_time": "2022-04-21T13:45:20.127Z"
   },
   {
    "duration": 132,
    "start_time": "2022-04-21T13:45:20.141Z"
   },
   {
    "duration": 1804,
    "start_time": "2022-04-21T16:37:19.705Z"
   },
   {
    "duration": 1191,
    "start_time": "2022-04-21T16:37:21.513Z"
   },
   {
    "duration": 187,
    "start_time": "2022-04-21T16:37:22.706Z"
   },
   {
    "duration": 90,
    "start_time": "2022-04-21T16:37:22.896Z"
   },
   {
    "duration": 286,
    "start_time": "2022-04-21T16:37:22.989Z"
   },
   {
    "duration": 106,
    "start_time": "2022-04-21T16:37:23.278Z"
   },
   {
    "duration": 158,
    "start_time": "2022-04-21T16:37:23.386Z"
   },
   {
    "duration": 15,
    "start_time": "2022-04-21T16:37:23.551Z"
   },
   {
    "duration": 239,
    "start_time": "2022-04-21T16:37:23.568Z"
   },
   {
    "duration": 4,
    "start_time": "2022-04-21T16:37:23.811Z"
   },
   {
    "duration": 8,
    "start_time": "2022-04-21T16:37:23.817Z"
   },
   {
    "duration": 38,
    "start_time": "2022-04-21T16:37:23.827Z"
   },
   {
    "duration": 25,
    "start_time": "2022-04-21T16:37:23.867Z"
   },
   {
    "duration": 499,
    "start_time": "2022-04-21T16:37:23.895Z"
   },
   {
    "duration": 12,
    "start_time": "2022-04-21T16:37:24.396Z"
   },
   {
    "duration": 1375,
    "start_time": "2022-04-21T16:37:24.411Z"
   },
   {
    "duration": 832,
    "start_time": "2022-04-21T16:37:25.789Z"
   },
   {
    "duration": 304,
    "start_time": "2022-04-21T16:37:26.623Z"
   },
   {
    "duration": 35771,
    "start_time": "2022-04-21T16:37:26.929Z"
   },
   {
    "duration": 5,
    "start_time": "2022-04-21T16:38:02.702Z"
   },
   {
    "duration": 21,
    "start_time": "2022-04-21T16:38:02.709Z"
   },
   {
    "duration": 5,
    "start_time": "2022-04-21T16:39:17.924Z"
   },
   {
    "duration": 1106,
    "start_time": "2022-04-21T16:39:17.932Z"
   },
   {
    "duration": 179,
    "start_time": "2022-04-21T16:39:19.040Z"
   },
   {
    "duration": 82,
    "start_time": "2022-04-21T16:39:19.221Z"
   },
   {
    "duration": 268,
    "start_time": "2022-04-21T16:39:19.306Z"
   },
   {
    "duration": 153,
    "start_time": "2022-04-21T16:39:19.576Z"
   },
   {
    "duration": 135,
    "start_time": "2022-04-21T16:39:19.731Z"
   },
   {
    "duration": 12,
    "start_time": "2022-04-21T16:39:19.869Z"
   },
   {
    "duration": 218,
    "start_time": "2022-04-21T16:39:19.884Z"
   },
   {
    "duration": 4,
    "start_time": "2022-04-21T16:39:20.105Z"
   },
   {
    "duration": 7,
    "start_time": "2022-04-21T16:39:20.111Z"
   },
   {
    "duration": 40,
    "start_time": "2022-04-21T16:39:20.121Z"
   },
   {
    "duration": 24,
    "start_time": "2022-04-21T16:39:20.163Z"
   },
   {
    "duration": 438,
    "start_time": "2022-04-21T16:39:20.190Z"
   },
   {
    "duration": 9,
    "start_time": "2022-04-21T16:39:20.630Z"
   },
   {
    "duration": 1305,
    "start_time": "2022-04-21T16:39:20.640Z"
   },
   {
    "duration": 792,
    "start_time": "2022-04-21T16:39:21.947Z"
   },
   {
    "duration": 562,
    "start_time": "2022-04-21T16:39:22.741Z"
   },
   {
    "duration": 38254,
    "start_time": "2022-04-21T16:39:23.306Z"
   },
   {
    "duration": 6,
    "start_time": "2022-04-21T16:40:01.563Z"
   },
   {
    "duration": 109,
    "start_time": "2022-04-21T16:40:01.572Z"
   },
   {
    "duration": 14,
    "start_time": "2022-04-21T16:40:46.930Z"
   },
   {
    "duration": 4,
    "start_time": "2022-04-21T16:40:51.366Z"
   },
   {
    "duration": 14,
    "start_time": "2022-04-21T16:40:53.165Z"
   },
   {
    "duration": 17,
    "start_time": "2022-04-21T16:41:12.157Z"
   },
   {
    "duration": 5,
    "start_time": "2022-04-21T16:47:23.252Z"
   },
   {
    "duration": 6,
    "start_time": "2022-04-21T16:47:25.804Z"
   },
   {
    "duration": 13,
    "start_time": "2022-04-21T16:47:27.843Z"
   },
   {
    "duration": 29755,
    "start_time": "2022-04-21T16:51:20.003Z"
   },
   {
    "duration": 43146,
    "start_time": "2022-04-21T16:52:00.314Z"
   },
   {
    "duration": 36003,
    "start_time": "2022-04-21T16:52:50.448Z"
   },
   {
    "duration": 35806,
    "start_time": "2022-04-21T16:54:39.453Z"
   },
   {
    "duration": 12,
    "start_time": "2022-04-21T16:56:30.886Z"
   },
   {
    "duration": 130,
    "start_time": "2022-04-21T17:03:46.741Z"
   },
   {
    "duration": 224,
    "start_time": "2022-04-21T17:03:59.207Z"
   },
   {
    "duration": 37,
    "start_time": "2022-04-21T17:04:11.093Z"
   },
   {
    "duration": 13,
    "start_time": "2022-04-21T17:08:05.002Z"
   },
   {
    "duration": 5,
    "start_time": "2022-04-21T17:09:09.611Z"
   },
   {
    "duration": 15,
    "start_time": "2022-04-21T17:09:11.519Z"
   },
   {
    "duration": 7,
    "start_time": "2022-04-21T17:09:27.769Z"
   },
   {
    "duration": 16,
    "start_time": "2022-04-21T17:09:29.671Z"
   },
   {
    "duration": 6,
    "start_time": "2022-04-21T17:09:52.975Z"
   },
   {
    "duration": 18,
    "start_time": "2022-04-21T17:09:54.305Z"
   },
   {
    "duration": 18,
    "start_time": "2022-04-21T17:11:13.501Z"
   },
   {
    "duration": 5,
    "start_time": "2022-04-21T17:11:15.865Z"
   },
   {
    "duration": 14,
    "start_time": "2022-04-21T17:11:17.161Z"
   },
   {
    "duration": 20,
    "start_time": "2022-04-21T17:11:53.269Z"
   },
   {
    "duration": 12,
    "start_time": "2022-04-21T17:12:27.470Z"
   },
   {
    "duration": 115,
    "start_time": "2022-04-21T17:12:34.158Z"
   },
   {
    "duration": 7,
    "start_time": "2022-04-21T17:12:45.838Z"
   },
   {
    "duration": 16,
    "start_time": "2022-04-21T17:12:47.941Z"
   },
   {
    "duration": 5,
    "start_time": "2022-04-21T17:14:08.669Z"
   },
   {
    "duration": 1099692,
    "start_time": "2022-04-21T17:14:09.540Z"
   },
   {
    "duration": 2070,
    "start_time": "2022-04-21T17:52:52.645Z"
   },
   {
    "duration": 509624,
    "start_time": "2022-04-21T17:53:07.588Z"
   },
   {
    "duration": 258916,
    "start_time": "2022-04-21T18:11:54.679Z"
   },
   {
    "duration": 1370,
    "start_time": "2022-04-22T05:08:48.396Z"
   },
   {
    "duration": 898,
    "start_time": "2022-04-22T05:08:49.767Z"
   },
   {
    "duration": 137,
    "start_time": "2022-04-22T05:08:50.667Z"
   },
   {
    "duration": 67,
    "start_time": "2022-04-22T05:08:50.807Z"
   },
   {
    "duration": 204,
    "start_time": "2022-04-22T05:08:50.875Z"
   },
   {
    "duration": 73,
    "start_time": "2022-04-22T05:08:51.080Z"
   },
   {
    "duration": 100,
    "start_time": "2022-04-22T05:08:51.155Z"
   },
   {
    "duration": 8,
    "start_time": "2022-04-22T05:08:51.257Z"
   },
   {
    "duration": 158,
    "start_time": "2022-04-22T05:08:51.267Z"
   },
   {
    "duration": 2,
    "start_time": "2022-04-22T05:08:51.433Z"
   },
   {
    "duration": 32,
    "start_time": "2022-04-22T05:08:51.437Z"
   },
   {
    "duration": 38,
    "start_time": "2022-04-22T05:09:07.742Z"
   },
   {
    "duration": 65,
    "start_time": "2022-04-22T05:14:45.109Z"
   },
   {
    "duration": 5,
    "start_time": "2022-04-22T05:49:38.499Z"
   },
   {
    "duration": 863,
    "start_time": "2022-04-22T05:49:38.507Z"
   },
   {
    "duration": 143,
    "start_time": "2022-04-22T05:49:39.372Z"
   },
   {
    "duration": 68,
    "start_time": "2022-04-22T05:49:39.517Z"
   },
   {
    "duration": 181,
    "start_time": "2022-04-22T05:49:39.586Z"
   },
   {
    "duration": 68,
    "start_time": "2022-04-22T05:49:39.768Z"
   },
   {
    "duration": 79,
    "start_time": "2022-04-22T05:49:39.838Z"
   },
   {
    "duration": 24,
    "start_time": "2022-04-22T05:49:39.919Z"
   },
   {
    "duration": 157,
    "start_time": "2022-04-22T05:49:39.946Z"
   },
   {
    "duration": 2,
    "start_time": "2022-04-22T05:49:40.106Z"
   },
   {
    "duration": 15,
    "start_time": "2022-04-22T05:49:40.110Z"
   },
   {
    "duration": 8,
    "start_time": "2022-04-22T05:49:40.133Z"
   },
   {
    "duration": 19,
    "start_time": "2022-04-22T05:49:40.143Z"
   },
   {
    "duration": 278,
    "start_time": "2022-04-22T05:49:40.164Z"
   },
   {
    "duration": 9,
    "start_time": "2022-04-22T05:49:40.444Z"
   },
   {
    "duration": 968,
    "start_time": "2022-04-22T05:49:40.455Z"
   },
   {
    "duration": 590,
    "start_time": "2022-04-22T05:49:41.426Z"
   },
   {
    "duration": 488,
    "start_time": "2022-04-22T05:49:42.018Z"
   },
   {
    "duration": 28328,
    "start_time": "2022-04-22T05:49:42.508Z"
   },
   {
    "duration": 5,
    "start_time": "2022-04-22T05:50:10.838Z"
   },
   {
    "duration": 107275,
    "start_time": "2022-04-22T05:52:30.594Z"
   },
   {
    "duration": 132388,
    "start_time": "2022-04-22T05:54:28.631Z"
   },
   {
    "duration": 122424,
    "start_time": "2022-04-22T05:59:31.090Z"
   },
   {
    "duration": 123062,
    "start_time": "2022-04-22T06:02:27.093Z"
   },
   {
    "duration": 119718,
    "start_time": "2022-04-22T06:04:38.861Z"
   },
   {
    "duration": 116684,
    "start_time": "2022-04-22T06:08:16.917Z"
   },
   {
    "duration": 175,
    "start_time": "2022-04-22T06:10:13.603Z"
   },
   {
    "duration": 173,
    "start_time": "2022-04-22T06:10:13.780Z"
   },
   {
    "duration": 0,
    "start_time": "2022-04-22T06:10:13.956Z"
   },
   {
    "duration": 0,
    "start_time": "2022-04-22T06:10:13.958Z"
   },
   {
    "duration": 1413,
    "start_time": "2022-04-22T06:52:01.412Z"
   },
   {
    "duration": 920,
    "start_time": "2022-04-22T06:52:02.827Z"
   },
   {
    "duration": 139,
    "start_time": "2022-04-22T06:52:03.749Z"
   },
   {
    "duration": 73,
    "start_time": "2022-04-22T06:52:03.890Z"
   },
   {
    "duration": 216,
    "start_time": "2022-04-22T06:52:03.966Z"
   },
   {
    "duration": 73,
    "start_time": "2022-04-22T06:52:04.184Z"
   },
   {
    "duration": 109,
    "start_time": "2022-04-22T06:52:04.259Z"
   },
   {
    "duration": 9,
    "start_time": "2022-04-22T06:52:04.370Z"
   },
   {
    "duration": 176,
    "start_time": "2022-04-22T06:52:04.381Z"
   },
   {
    "duration": 3,
    "start_time": "2022-04-22T06:52:04.560Z"
   },
   {
    "duration": 9,
    "start_time": "2022-04-22T06:52:04.564Z"
   },
   {
    "duration": 12,
    "start_time": "2022-04-22T06:52:04.575Z"
   },
   {
    "duration": 19,
    "start_time": "2022-04-22T06:52:04.588Z"
   },
   {
    "duration": 320,
    "start_time": "2022-04-22T06:52:04.608Z"
   },
   {
    "duration": 7,
    "start_time": "2022-04-22T06:52:04.932Z"
   },
   {
    "duration": 965,
    "start_time": "2022-04-22T06:52:04.941Z"
   },
   {
    "duration": 592,
    "start_time": "2022-04-22T06:52:05.907Z"
   },
   {
    "duration": 437,
    "start_time": "2022-04-22T06:52:06.501Z"
   },
   {
    "duration": 29203,
    "start_time": "2022-04-22T06:52:06.939Z"
   },
   {
    "duration": 3,
    "start_time": "2022-04-22T06:52:36.234Z"
   },
   {
    "duration": 167,
    "start_time": "2022-04-22T06:52:36.240Z"
   },
   {
    "duration": 1525,
    "start_time": "2022-04-22T08:28:52.505Z"
   },
   {
    "duration": 1141,
    "start_time": "2022-04-22T08:28:54.033Z"
   },
   {
    "duration": 177,
    "start_time": "2022-04-22T08:28:55.176Z"
   },
   {
    "duration": 58,
    "start_time": "2022-04-22T08:28:55.358Z"
   },
   {
    "duration": 237,
    "start_time": "2022-04-22T08:28:55.418Z"
   },
   {
    "duration": 64,
    "start_time": "2022-04-22T08:28:55.657Z"
   },
   {
    "duration": 123,
    "start_time": "2022-04-22T08:28:55.724Z"
   },
   {
    "duration": 14,
    "start_time": "2022-04-22T08:28:55.849Z"
   },
   {
    "duration": 201,
    "start_time": "2022-04-22T08:28:55.865Z"
   },
   {
    "duration": 2,
    "start_time": "2022-04-22T08:28:56.069Z"
   },
   {
    "duration": 9,
    "start_time": "2022-04-22T08:28:56.073Z"
   },
   {
    "duration": 11,
    "start_time": "2022-04-22T08:28:56.084Z"
   },
   {
    "duration": 18,
    "start_time": "2022-04-22T08:28:56.097Z"
   },
   {
    "duration": 357,
    "start_time": "2022-04-22T08:28:56.133Z"
   },
   {
    "duration": 7,
    "start_time": "2022-04-22T08:28:56.492Z"
   },
   {
    "duration": 1038,
    "start_time": "2022-04-22T08:28:56.501Z"
   },
   {
    "duration": 690,
    "start_time": "2022-04-22T08:28:57.542Z"
   },
   {
    "duration": 537,
    "start_time": "2022-04-22T08:28:58.237Z"
   },
   {
    "duration": 79963,
    "start_time": "2022-04-22T08:28:58.776Z"
   },
   {
    "duration": 6,
    "start_time": "2022-04-22T08:30:18.742Z"
   },
   {
    "duration": 672735,
    "start_time": "2022-04-22T08:30:18.752Z"
   },
   {
    "duration": 129132,
    "start_time": "2022-04-22T08:41:31.489Z"
   },
   {
    "duration": 175,
    "start_time": "2022-04-22T08:43:40.622Z"
   },
   {
    "duration": 2129945,
    "start_time": "2022-04-22T08:43:40.799Z"
   },
   {
    "duration": 204666,
    "start_time": "2022-04-22T09:19:10.746Z"
   },
   {
    "duration": 179,
    "start_time": "2022-04-22T09:22:35.414Z"
   },
   {
    "duration": 76,
    "start_time": "2022-04-22T09:26:00.535Z"
   },
   {
    "duration": 194114,
    "start_time": "2022-04-22T09:26:03.929Z"
   },
   {
    "duration": 4341,
    "start_time": "2022-04-22T09:29:56.504Z"
   },
   {
    "duration": 185,
    "start_time": "2022-04-22T09:31:00.406Z"
   },
   {
    "duration": 13,
    "start_time": "2022-04-22T09:31:19.942Z"
   },
   {
    "duration": 4493,
    "start_time": "2022-04-22T09:39:29.571Z"
   },
   {
    "duration": 220,
    "start_time": "2022-04-22T09:43:04.895Z"
   },
   {
    "duration": 4552,
    "start_time": "2022-04-22T09:43:14.504Z"
   },
   {
    "duration": 4706,
    "start_time": "2022-04-22T09:43:24.358Z"
   }
  ],
  "kernelspec": {
   "display_name": "Python 3 (ipykernel)",
   "language": "python",
   "name": "python3"
  },
  "language_info": {
   "codemirror_mode": {
    "name": "ipython",
    "version": 3
   },
   "file_extension": ".py",
   "mimetype": "text/x-python",
   "name": "python",
   "nbconvert_exporter": "python",
   "pygments_lexer": "ipython3",
   "version": "3.10.5"
  },
  "toc": {
   "base_numbering": 1,
   "nav_menu": {},
   "number_sections": true,
   "sideBar": true,
   "skip_h1_title": true,
   "title_cell": "Table of Contents",
   "title_sidebar": "Contents",
   "toc_cell": false,
   "toc_position": {},
   "toc_section_display": true,
   "toc_window_display": false
  }
 },
 "nbformat": 4,
 "nbformat_minor": 2
}
