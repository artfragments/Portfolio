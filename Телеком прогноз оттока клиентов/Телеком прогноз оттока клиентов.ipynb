{
 "cells": [
  {
   "cell_type": "markdown",
   "metadata": {
    "id": "rpmDA6yMdjZf"
   },
   "source": [
    "# Телеком — задача проекта\n",
    "\n",
    "Оператор связи «Ниединогоразрыва.ком» хочет научиться прогнозировать отток клиентов. Если выяснится, что пользователь планирует уйти, ему будут предложены промокоды и специальные условия. Команда оператора собрала персональные данные о некоторых клиентах, информацию об их тарифах и договорах.\n",
    "\n",
    "### Описание услуг\n",
    "\n",
    "Оператор предоставляет два основных типа услуг: \n",
    "\n",
    "1. Стационарную телефонную связь. Возможно подключение телефонного аппарата к нескольким линиям одновременно.\n",
    "2. Интернет. Подключение может быть двух типов: через телефонную линию (DSL*,* от англ. *digital subscriber line*, «цифровая абонентская линия») или оптоволоконный кабель (*Fiber optic*).  \n",
    "\n",
    "Также доступны такие услуги:\n",
    "\n",
    "- Интернет-безопасность: антивирус (*DeviceProtection*) и блокировка небезопасных сайтов (*OnlineSecurity*);\n",
    "- Выделенная линия технической поддержки (*TechSupport*);\n",
    "- Облачное хранилище файлов для резервного копирования данных (*OnlineBackup*);\n",
    "- Стриминговое телевидение (*StreamingTV*) и каталог фильмов (*StreamingMovies*).\n",
    "\n",
    "За услуги клиенты могут платить каждый месяц или заключить договор на 1–2 года. Доступны различные способы расчёта и возможность получения электронного чека.\n",
    "\n",
    "### Описание данных\n",
    "\n",
    "Данные состоят из файлов, полученных из разных источников:\n",
    "\n",
    "- `contract.csv` — информация о договоре;\n",
    "- `personal.csv` — персональные данные клиента;\n",
    "- `internet.csv` — информация об интернет-услугах;\n",
    "- `phone.csv` — информация об услугах телефонии.\n",
    "\n",
    "Во всех файлах столбец `customerID` содержит код клиента.\n",
    "\n",
    "Информация о договорах актуальна на 1 февраля 2020.\n",
    "\n",
    "Расшифровка колонок\n",
    "customerID - идентификационный номер клиента\n",
    "BeginDate - дата начала пользования услугами\n",
    "EndDate - дата окончания пользования услугами\n",
    "Type - тип оплаты: ежемесячный, годовой и тд\n",
    "PaperlessBilling – безналичный расчет\n",
    "PaymentMethod – способ оплаты\n",
    "MonthlyCharges – ежемесячные траты на услуги\n",
    "TotalCharges – всего потрачено денег на услуги\n",
    "Dependents – наличие иждивенцев\n",
    "Senior Citizen – наличие пенсионного статуса по возрасту\n",
    "Partner – наличие супруга(и)\n",
    "MultipleLines – наличие возможности ведения параллельных линий во время звонка\n",
    "\n",
    "### План работы:\n",
    "\n",
    "1. Подготовка данных к анализу:\n",
    "- Открыть файл, сделать первичные выводы о результате их соединения;\n",
    "\n",
    "- Проверить наличие дубликатов, пропусков, соответствие типов данных;\n",
    "\n",
    "- Объединить файл, заполнить пропуски, выделить целевой признак. \n",
    "\n",
    "2. Исследовательский анализ:\n",
    "\n",
    "- На основе анализа создать дополнительные признаки, возможно удалить признаки, с низкой корреляцией или просто не имеющих смысла для обучения модели;\n",
    "\n",
    "- Проверить дисбаланс классов.\n",
    "\n",
    "3. Подготовка данных к машинному обучению:\n",
    "\n",
    "- Провести кодирование категориальных признаков, возможно провести масштабирование числовых признаков;\n",
    "\n",
    "- Разбить выборку на обучающую и тестовую.\n",
    "\n",
    "4. Обучить модели:\n",
    "\n",
    "- Модели градиентного буста;\n",
    "\n",
    "- Возможно имеет смысл попробовать случайный лес и логистическую регрессию.\n",
    "\n",
    "\n",
    "## Предобработка данных \n",
    "\n",
    "Ниже импортируем все необходимые библиотеки и создадим переменные для датасетов:"
   ]
  },
  {
   "cell_type": "code",
   "execution_count": 1,
   "metadata": {
    "id": "13-zQEd05lo9"
   },
   "outputs": [],
   "source": [
    "import pandas as pd\n",
    "import matplotlib.pyplot as plt\n",
    "import math\n",
    "import numpy as np\n",
    "import seaborn as sns\n",
    "from sklearn.utils import shuffle\n",
    "from sklearn.preprocessing import StandardScaler, OrdinalEncoder\n",
    "from sklearn.model_selection import train_test_split, GridSearchCV\n",
    "from sklearn.metrics import roc_auc_score, accuracy_score, roc_curve\n",
    "from sklearn.ensemble import RandomForestClassifier\n",
    "from sklearn.tree import DecisionTreeClassifier\n",
    "from sklearn.linear_model import LogisticRegression\n",
    "from catboost import CatBoostClassifier, Pool, cv\n",
    "from lightgbm import LGBMClassifier\n",
    "import warnings\n",
    "pd.set_option('display.max_columns', None)\n",
    "\n",
    "warnings.filterwarnings(\"ignore\")\n"
   ]
  },
  {
   "cell_type": "code",
   "execution_count": 2,
   "metadata": {
    "id": "EnO1Ygrj-N72"
   },
   "outputs": [],
   "source": [
    "df_contract = pd.read_csv('/datasets/final_provider/contract.csv', index_col='customerID')\n",
    "df_internet = pd.read_csv('/datasets/final_provider/internet.csv', index_col='customerID')\n",
    "df_personal = pd.read_csv('/datasets/final_provider/personal.csv', index_col='customerID')\n",
    "df_phone = pd.read_csv('/datasets/final_provider/phone.csv', index_col='customerID')"
   ]
  },
  {
   "cell_type": "markdown",
   "metadata": {
    "id": "sgFvSRWMgotR"
   },
   "source": [
    "Откроем каждый датасет, проверим на наличие пропусков и сделаем по ним вывод:"
   ]
  },
  {
   "cell_type": "code",
   "execution_count": 3,
   "metadata": {
    "colab": {
     "base_uri": "https://localhost:8080/",
     "height": 455
    },
    "id": "sNTDUe7sK0cl",
    "outputId": "6df658ea-4aeb-4d64-c72a-2dc44a5c1e05"
   },
   "outputs": [
    {
     "data": {
      "text/html": [
       "<div>\n",
       "<style scoped>\n",
       "    .dataframe tbody tr th:only-of-type {\n",
       "        vertical-align: middle;\n",
       "    }\n",
       "\n",
       "    .dataframe tbody tr th {\n",
       "        vertical-align: top;\n",
       "    }\n",
       "\n",
       "    .dataframe thead th {\n",
       "        text-align: right;\n",
       "    }\n",
       "</style>\n",
       "<table border=\"1\" class=\"dataframe\">\n",
       "  <thead>\n",
       "    <tr style=\"text-align: right;\">\n",
       "      <th></th>\n",
       "      <th>BeginDate</th>\n",
       "      <th>EndDate</th>\n",
       "      <th>Type</th>\n",
       "      <th>PaperlessBilling</th>\n",
       "      <th>PaymentMethod</th>\n",
       "      <th>MonthlyCharges</th>\n",
       "      <th>TotalCharges</th>\n",
       "    </tr>\n",
       "    <tr>\n",
       "      <th>customerID</th>\n",
       "      <th></th>\n",
       "      <th></th>\n",
       "      <th></th>\n",
       "      <th></th>\n",
       "      <th></th>\n",
       "      <th></th>\n",
       "      <th></th>\n",
       "    </tr>\n",
       "  </thead>\n",
       "  <tbody>\n",
       "    <tr>\n",
       "      <th>7590-VHVEG</th>\n",
       "      <td>2020-01-01</td>\n",
       "      <td>No</td>\n",
       "      <td>Month-to-month</td>\n",
       "      <td>Yes</td>\n",
       "      <td>Electronic check</td>\n",
       "      <td>29.85</td>\n",
       "      <td>29.85</td>\n",
       "    </tr>\n",
       "    <tr>\n",
       "      <th>5575-GNVDE</th>\n",
       "      <td>2017-04-01</td>\n",
       "      <td>No</td>\n",
       "      <td>One year</td>\n",
       "      <td>No</td>\n",
       "      <td>Mailed check</td>\n",
       "      <td>56.95</td>\n",
       "      <td>1889.5</td>\n",
       "    </tr>\n",
       "    <tr>\n",
       "      <th>3668-QPYBK</th>\n",
       "      <td>2019-10-01</td>\n",
       "      <td>2019-12-01 00:00:00</td>\n",
       "      <td>Month-to-month</td>\n",
       "      <td>Yes</td>\n",
       "      <td>Mailed check</td>\n",
       "      <td>53.85</td>\n",
       "      <td>108.15</td>\n",
       "    </tr>\n",
       "    <tr>\n",
       "      <th>7795-CFOCW</th>\n",
       "      <td>2016-05-01</td>\n",
       "      <td>No</td>\n",
       "      <td>One year</td>\n",
       "      <td>No</td>\n",
       "      <td>Bank transfer (automatic)</td>\n",
       "      <td>42.30</td>\n",
       "      <td>1840.75</td>\n",
       "    </tr>\n",
       "    <tr>\n",
       "      <th>9237-HQITU</th>\n",
       "      <td>2019-09-01</td>\n",
       "      <td>2019-11-01 00:00:00</td>\n",
       "      <td>Month-to-month</td>\n",
       "      <td>Yes</td>\n",
       "      <td>Electronic check</td>\n",
       "      <td>70.70</td>\n",
       "      <td>151.65</td>\n",
       "    </tr>\n",
       "    <tr>\n",
       "      <th>...</th>\n",
       "      <td>...</td>\n",
       "      <td>...</td>\n",
       "      <td>...</td>\n",
       "      <td>...</td>\n",
       "      <td>...</td>\n",
       "      <td>...</td>\n",
       "      <td>...</td>\n",
       "    </tr>\n",
       "    <tr>\n",
       "      <th>6840-RESVB</th>\n",
       "      <td>2018-02-01</td>\n",
       "      <td>No</td>\n",
       "      <td>One year</td>\n",
       "      <td>Yes</td>\n",
       "      <td>Mailed check</td>\n",
       "      <td>84.80</td>\n",
       "      <td>1990.5</td>\n",
       "    </tr>\n",
       "    <tr>\n",
       "      <th>2234-XADUH</th>\n",
       "      <td>2014-02-01</td>\n",
       "      <td>No</td>\n",
       "      <td>One year</td>\n",
       "      <td>Yes</td>\n",
       "      <td>Credit card (automatic)</td>\n",
       "      <td>103.20</td>\n",
       "      <td>7362.9</td>\n",
       "    </tr>\n",
       "    <tr>\n",
       "      <th>4801-JZAZL</th>\n",
       "      <td>2019-03-01</td>\n",
       "      <td>No</td>\n",
       "      <td>Month-to-month</td>\n",
       "      <td>Yes</td>\n",
       "      <td>Electronic check</td>\n",
       "      <td>29.60</td>\n",
       "      <td>346.45</td>\n",
       "    </tr>\n",
       "    <tr>\n",
       "      <th>8361-LTMKD</th>\n",
       "      <td>2019-07-01</td>\n",
       "      <td>2019-11-01 00:00:00</td>\n",
       "      <td>Month-to-month</td>\n",
       "      <td>Yes</td>\n",
       "      <td>Mailed check</td>\n",
       "      <td>74.40</td>\n",
       "      <td>306.6</td>\n",
       "    </tr>\n",
       "    <tr>\n",
       "      <th>3186-AJIEK</th>\n",
       "      <td>2014-08-01</td>\n",
       "      <td>No</td>\n",
       "      <td>Two year</td>\n",
       "      <td>Yes</td>\n",
       "      <td>Bank transfer (automatic)</td>\n",
       "      <td>105.65</td>\n",
       "      <td>6844.5</td>\n",
       "    </tr>\n",
       "  </tbody>\n",
       "</table>\n",
       "<p>7043 rows × 7 columns</p>\n",
       "</div>"
      ],
      "text/plain": [
       "             BeginDate              EndDate            Type PaperlessBilling  \\\n",
       "customerID                                                                     \n",
       "7590-VHVEG  2020-01-01                   No  Month-to-month              Yes   \n",
       "5575-GNVDE  2017-04-01                   No        One year               No   \n",
       "3668-QPYBK  2019-10-01  2019-12-01 00:00:00  Month-to-month              Yes   \n",
       "7795-CFOCW  2016-05-01                   No        One year               No   \n",
       "9237-HQITU  2019-09-01  2019-11-01 00:00:00  Month-to-month              Yes   \n",
       "...                ...                  ...             ...              ...   \n",
       "6840-RESVB  2018-02-01                   No        One year              Yes   \n",
       "2234-XADUH  2014-02-01                   No        One year              Yes   \n",
       "4801-JZAZL  2019-03-01                   No  Month-to-month              Yes   \n",
       "8361-LTMKD  2019-07-01  2019-11-01 00:00:00  Month-to-month              Yes   \n",
       "3186-AJIEK  2014-08-01                   No        Two year              Yes   \n",
       "\n",
       "                        PaymentMethod  MonthlyCharges TotalCharges  \n",
       "customerID                                                          \n",
       "7590-VHVEG           Electronic check           29.85        29.85  \n",
       "5575-GNVDE               Mailed check           56.95       1889.5  \n",
       "3668-QPYBK               Mailed check           53.85       108.15  \n",
       "7795-CFOCW  Bank transfer (automatic)           42.30      1840.75  \n",
       "9237-HQITU           Electronic check           70.70       151.65  \n",
       "...                               ...             ...          ...  \n",
       "6840-RESVB               Mailed check           84.80       1990.5  \n",
       "2234-XADUH    Credit card (automatic)          103.20       7362.9  \n",
       "4801-JZAZL           Electronic check           29.60       346.45  \n",
       "8361-LTMKD               Mailed check           74.40        306.6  \n",
       "3186-AJIEK  Bank transfer (automatic)          105.65       6844.5  \n",
       "\n",
       "[7043 rows x 7 columns]"
      ]
     },
     "execution_count": 3,
     "metadata": {},
     "output_type": "execute_result"
    }
   ],
   "source": [
    "df_contract"
   ]
  },
  {
   "cell_type": "code",
   "execution_count": 4,
   "metadata": {
    "colab": {
     "base_uri": "https://localhost:8080/"
    },
    "id": "OGHNe9_1lga1",
    "outputId": "a8ff66f7-939a-45e4-ba9d-4acdbf8c8e3f"
   },
   "outputs": [
    {
     "name": "stdout",
     "output_type": "stream",
     "text": [
      "<class 'pandas.core.frame.DataFrame'>\n",
      "Index: 7043 entries, 7590-VHVEG to 3186-AJIEK\n",
      "Data columns (total 7 columns):\n",
      " #   Column            Non-Null Count  Dtype  \n",
      "---  ------            --------------  -----  \n",
      " 0   BeginDate         7043 non-null   object \n",
      " 1   EndDate           7043 non-null   object \n",
      " 2   Type              7043 non-null   object \n",
      " 3   PaperlessBilling  7043 non-null   object \n",
      " 4   PaymentMethod     7043 non-null   object \n",
      " 5   MonthlyCharges    7043 non-null   float64\n",
      " 6   TotalCharges      7043 non-null   object \n",
      "dtypes: float64(1), object(6)\n",
      "memory usage: 440.2+ KB\n"
     ]
    }
   ],
   "source": [
    "df_contract.info()"
   ]
  },
  {
   "cell_type": "code",
   "execution_count": 5,
   "metadata": {
    "colab": {
     "base_uri": "https://localhost:8080/"
    },
    "id": "y2_nJ7I4neQ5",
    "outputId": "267dac78-c05e-40aa-ef17-8bcc22070d15"
   },
   "outputs": [
    {
     "data": {
      "text/plain": [
       "False    6998\n",
       "True       45\n",
       "dtype: int64"
      ]
     },
     "execution_count": 5,
     "metadata": {},
     "output_type": "execute_result"
    }
   ],
   "source": [
    "df_contract.duplicated().value_counts()"
   ]
  },
  {
   "cell_type": "code",
   "execution_count": 6,
   "metadata": {
    "colab": {
     "base_uri": "https://localhost:8080/",
     "height": 455
    },
    "id": "PT2V1mAY-nf4",
    "outputId": "15728cc1-f463-443a-97ce-ca55d4a3d7a9"
   },
   "outputs": [
    {
     "data": {
      "text/html": [
       "<div>\n",
       "<style scoped>\n",
       "    .dataframe tbody tr th:only-of-type {\n",
       "        vertical-align: middle;\n",
       "    }\n",
       "\n",
       "    .dataframe tbody tr th {\n",
       "        vertical-align: top;\n",
       "    }\n",
       "\n",
       "    .dataframe thead th {\n",
       "        text-align: right;\n",
       "    }\n",
       "</style>\n",
       "<table border=\"1\" class=\"dataframe\">\n",
       "  <thead>\n",
       "    <tr style=\"text-align: right;\">\n",
       "      <th></th>\n",
       "      <th>InternetService</th>\n",
       "      <th>OnlineSecurity</th>\n",
       "      <th>OnlineBackup</th>\n",
       "      <th>DeviceProtection</th>\n",
       "      <th>TechSupport</th>\n",
       "      <th>StreamingTV</th>\n",
       "      <th>StreamingMovies</th>\n",
       "    </tr>\n",
       "    <tr>\n",
       "      <th>customerID</th>\n",
       "      <th></th>\n",
       "      <th></th>\n",
       "      <th></th>\n",
       "      <th></th>\n",
       "      <th></th>\n",
       "      <th></th>\n",
       "      <th></th>\n",
       "    </tr>\n",
       "  </thead>\n",
       "  <tbody>\n",
       "    <tr>\n",
       "      <th>7590-VHVEG</th>\n",
       "      <td>DSL</td>\n",
       "      <td>No</td>\n",
       "      <td>Yes</td>\n",
       "      <td>No</td>\n",
       "      <td>No</td>\n",
       "      <td>No</td>\n",
       "      <td>No</td>\n",
       "    </tr>\n",
       "    <tr>\n",
       "      <th>5575-GNVDE</th>\n",
       "      <td>DSL</td>\n",
       "      <td>Yes</td>\n",
       "      <td>No</td>\n",
       "      <td>Yes</td>\n",
       "      <td>No</td>\n",
       "      <td>No</td>\n",
       "      <td>No</td>\n",
       "    </tr>\n",
       "    <tr>\n",
       "      <th>3668-QPYBK</th>\n",
       "      <td>DSL</td>\n",
       "      <td>Yes</td>\n",
       "      <td>Yes</td>\n",
       "      <td>No</td>\n",
       "      <td>No</td>\n",
       "      <td>No</td>\n",
       "      <td>No</td>\n",
       "    </tr>\n",
       "    <tr>\n",
       "      <th>7795-CFOCW</th>\n",
       "      <td>DSL</td>\n",
       "      <td>Yes</td>\n",
       "      <td>No</td>\n",
       "      <td>Yes</td>\n",
       "      <td>Yes</td>\n",
       "      <td>No</td>\n",
       "      <td>No</td>\n",
       "    </tr>\n",
       "    <tr>\n",
       "      <th>9237-HQITU</th>\n",
       "      <td>Fiber optic</td>\n",
       "      <td>No</td>\n",
       "      <td>No</td>\n",
       "      <td>No</td>\n",
       "      <td>No</td>\n",
       "      <td>No</td>\n",
       "      <td>No</td>\n",
       "    </tr>\n",
       "    <tr>\n",
       "      <th>...</th>\n",
       "      <td>...</td>\n",
       "      <td>...</td>\n",
       "      <td>...</td>\n",
       "      <td>...</td>\n",
       "      <td>...</td>\n",
       "      <td>...</td>\n",
       "      <td>...</td>\n",
       "    </tr>\n",
       "    <tr>\n",
       "      <th>6840-RESVB</th>\n",
       "      <td>DSL</td>\n",
       "      <td>Yes</td>\n",
       "      <td>No</td>\n",
       "      <td>Yes</td>\n",
       "      <td>Yes</td>\n",
       "      <td>Yes</td>\n",
       "      <td>Yes</td>\n",
       "    </tr>\n",
       "    <tr>\n",
       "      <th>2234-XADUH</th>\n",
       "      <td>Fiber optic</td>\n",
       "      <td>No</td>\n",
       "      <td>Yes</td>\n",
       "      <td>Yes</td>\n",
       "      <td>No</td>\n",
       "      <td>Yes</td>\n",
       "      <td>Yes</td>\n",
       "    </tr>\n",
       "    <tr>\n",
       "      <th>4801-JZAZL</th>\n",
       "      <td>DSL</td>\n",
       "      <td>Yes</td>\n",
       "      <td>No</td>\n",
       "      <td>No</td>\n",
       "      <td>No</td>\n",
       "      <td>No</td>\n",
       "      <td>No</td>\n",
       "    </tr>\n",
       "    <tr>\n",
       "      <th>8361-LTMKD</th>\n",
       "      <td>Fiber optic</td>\n",
       "      <td>No</td>\n",
       "      <td>No</td>\n",
       "      <td>No</td>\n",
       "      <td>No</td>\n",
       "      <td>No</td>\n",
       "      <td>No</td>\n",
       "    </tr>\n",
       "    <tr>\n",
       "      <th>3186-AJIEK</th>\n",
       "      <td>Fiber optic</td>\n",
       "      <td>Yes</td>\n",
       "      <td>No</td>\n",
       "      <td>Yes</td>\n",
       "      <td>Yes</td>\n",
       "      <td>Yes</td>\n",
       "      <td>Yes</td>\n",
       "    </tr>\n",
       "  </tbody>\n",
       "</table>\n",
       "<p>5517 rows × 7 columns</p>\n",
       "</div>"
      ],
      "text/plain": [
       "           InternetService OnlineSecurity OnlineBackup DeviceProtection  \\\n",
       "customerID                                                                \n",
       "7590-VHVEG             DSL             No          Yes               No   \n",
       "5575-GNVDE             DSL            Yes           No              Yes   \n",
       "3668-QPYBK             DSL            Yes          Yes               No   \n",
       "7795-CFOCW             DSL            Yes           No              Yes   \n",
       "9237-HQITU     Fiber optic             No           No               No   \n",
       "...                    ...            ...          ...              ...   \n",
       "6840-RESVB             DSL            Yes           No              Yes   \n",
       "2234-XADUH     Fiber optic             No          Yes              Yes   \n",
       "4801-JZAZL             DSL            Yes           No               No   \n",
       "8361-LTMKD     Fiber optic             No           No               No   \n",
       "3186-AJIEK     Fiber optic            Yes           No              Yes   \n",
       "\n",
       "           TechSupport StreamingTV StreamingMovies  \n",
       "customerID                                          \n",
       "7590-VHVEG          No          No              No  \n",
       "5575-GNVDE          No          No              No  \n",
       "3668-QPYBK          No          No              No  \n",
       "7795-CFOCW         Yes          No              No  \n",
       "9237-HQITU          No          No              No  \n",
       "...                ...         ...             ...  \n",
       "6840-RESVB         Yes         Yes             Yes  \n",
       "2234-XADUH          No         Yes             Yes  \n",
       "4801-JZAZL          No          No              No  \n",
       "8361-LTMKD          No          No              No  \n",
       "3186-AJIEK         Yes         Yes             Yes  \n",
       "\n",
       "[5517 rows x 7 columns]"
      ]
     },
     "execution_count": 6,
     "metadata": {},
     "output_type": "execute_result"
    }
   ],
   "source": [
    "df_internet"
   ]
  },
  {
   "cell_type": "code",
   "execution_count": 7,
   "metadata": {
    "colab": {
     "base_uri": "https://localhost:8080/"
    },
    "id": "2hyw4u6H-mP7",
    "outputId": "de66e0f0-6774-413e-f1ea-05d05de6b0c1"
   },
   "outputs": [
    {
     "name": "stdout",
     "output_type": "stream",
     "text": [
      "<class 'pandas.core.frame.DataFrame'>\n",
      "Index: 5517 entries, 7590-VHVEG to 3186-AJIEK\n",
      "Data columns (total 7 columns):\n",
      " #   Column            Non-Null Count  Dtype \n",
      "---  ------            --------------  ----- \n",
      " 0   InternetService   5517 non-null   object\n",
      " 1   OnlineSecurity    5517 non-null   object\n",
      " 2   OnlineBackup      5517 non-null   object\n",
      " 3   DeviceProtection  5517 non-null   object\n",
      " 4   TechSupport       5517 non-null   object\n",
      " 5   StreamingTV       5517 non-null   object\n",
      " 6   StreamingMovies   5517 non-null   object\n",
      "dtypes: object(7)\n",
      "memory usage: 344.8+ KB\n"
     ]
    }
   ],
   "source": [
    "df_internet.info()"
   ]
  },
  {
   "cell_type": "code",
   "execution_count": 8,
   "metadata": {
    "colab": {
     "base_uri": "https://localhost:8080/"
    },
    "id": "4Bz_Ce_2KAb9",
    "outputId": "b3bda0a3-a7dc-4ed6-d4fe-ee8a7cb7178d"
   },
   "outputs": [
    {
     "data": {
      "text/plain": [
       "True     5389\n",
       "False     128\n",
       "dtype: int64"
      ]
     },
     "execution_count": 8,
     "metadata": {},
     "output_type": "execute_result"
    }
   ],
   "source": [
    "df_internet.duplicated().value_counts()\n"
   ]
  },
  {
   "cell_type": "code",
   "execution_count": 9,
   "metadata": {
    "colab": {
     "base_uri": "https://localhost:8080/",
     "height": 455
    },
    "id": "CXgdAV8s-q5n",
    "outputId": "89b0f810-0092-4416-dc60-9b6e10325cb0"
   },
   "outputs": [
    {
     "data": {
      "text/html": [
       "<div>\n",
       "<style scoped>\n",
       "    .dataframe tbody tr th:only-of-type {\n",
       "        vertical-align: middle;\n",
       "    }\n",
       "\n",
       "    .dataframe tbody tr th {\n",
       "        vertical-align: top;\n",
       "    }\n",
       "\n",
       "    .dataframe thead th {\n",
       "        text-align: right;\n",
       "    }\n",
       "</style>\n",
       "<table border=\"1\" class=\"dataframe\">\n",
       "  <thead>\n",
       "    <tr style=\"text-align: right;\">\n",
       "      <th></th>\n",
       "      <th>gender</th>\n",
       "      <th>SeniorCitizen</th>\n",
       "      <th>Partner</th>\n",
       "      <th>Dependents</th>\n",
       "    </tr>\n",
       "    <tr>\n",
       "      <th>customerID</th>\n",
       "      <th></th>\n",
       "      <th></th>\n",
       "      <th></th>\n",
       "      <th></th>\n",
       "    </tr>\n",
       "  </thead>\n",
       "  <tbody>\n",
       "    <tr>\n",
       "      <th>7590-VHVEG</th>\n",
       "      <td>Female</td>\n",
       "      <td>0</td>\n",
       "      <td>Yes</td>\n",
       "      <td>No</td>\n",
       "    </tr>\n",
       "    <tr>\n",
       "      <th>5575-GNVDE</th>\n",
       "      <td>Male</td>\n",
       "      <td>0</td>\n",
       "      <td>No</td>\n",
       "      <td>No</td>\n",
       "    </tr>\n",
       "    <tr>\n",
       "      <th>3668-QPYBK</th>\n",
       "      <td>Male</td>\n",
       "      <td>0</td>\n",
       "      <td>No</td>\n",
       "      <td>No</td>\n",
       "    </tr>\n",
       "    <tr>\n",
       "      <th>7795-CFOCW</th>\n",
       "      <td>Male</td>\n",
       "      <td>0</td>\n",
       "      <td>No</td>\n",
       "      <td>No</td>\n",
       "    </tr>\n",
       "    <tr>\n",
       "      <th>9237-HQITU</th>\n",
       "      <td>Female</td>\n",
       "      <td>0</td>\n",
       "      <td>No</td>\n",
       "      <td>No</td>\n",
       "    </tr>\n",
       "    <tr>\n",
       "      <th>...</th>\n",
       "      <td>...</td>\n",
       "      <td>...</td>\n",
       "      <td>...</td>\n",
       "      <td>...</td>\n",
       "    </tr>\n",
       "    <tr>\n",
       "      <th>6840-RESVB</th>\n",
       "      <td>Male</td>\n",
       "      <td>0</td>\n",
       "      <td>Yes</td>\n",
       "      <td>Yes</td>\n",
       "    </tr>\n",
       "    <tr>\n",
       "      <th>2234-XADUH</th>\n",
       "      <td>Female</td>\n",
       "      <td>0</td>\n",
       "      <td>Yes</td>\n",
       "      <td>Yes</td>\n",
       "    </tr>\n",
       "    <tr>\n",
       "      <th>4801-JZAZL</th>\n",
       "      <td>Female</td>\n",
       "      <td>0</td>\n",
       "      <td>Yes</td>\n",
       "      <td>Yes</td>\n",
       "    </tr>\n",
       "    <tr>\n",
       "      <th>8361-LTMKD</th>\n",
       "      <td>Male</td>\n",
       "      <td>1</td>\n",
       "      <td>Yes</td>\n",
       "      <td>No</td>\n",
       "    </tr>\n",
       "    <tr>\n",
       "      <th>3186-AJIEK</th>\n",
       "      <td>Male</td>\n",
       "      <td>0</td>\n",
       "      <td>No</td>\n",
       "      <td>No</td>\n",
       "    </tr>\n",
       "  </tbody>\n",
       "</table>\n",
       "<p>7043 rows × 4 columns</p>\n",
       "</div>"
      ],
      "text/plain": [
       "            gender  SeniorCitizen Partner Dependents\n",
       "customerID                                          \n",
       "7590-VHVEG  Female              0     Yes         No\n",
       "5575-GNVDE    Male              0      No         No\n",
       "3668-QPYBK    Male              0      No         No\n",
       "7795-CFOCW    Male              0      No         No\n",
       "9237-HQITU  Female              0      No         No\n",
       "...            ...            ...     ...        ...\n",
       "6840-RESVB    Male              0     Yes        Yes\n",
       "2234-XADUH  Female              0     Yes        Yes\n",
       "4801-JZAZL  Female              0     Yes        Yes\n",
       "8361-LTMKD    Male              1     Yes         No\n",
       "3186-AJIEK    Male              0      No         No\n",
       "\n",
       "[7043 rows x 4 columns]"
      ]
     },
     "execution_count": 9,
     "metadata": {},
     "output_type": "execute_result"
    }
   ],
   "source": [
    "df_personal"
   ]
  },
  {
   "cell_type": "code",
   "execution_count": 10,
   "metadata": {
    "colab": {
     "base_uri": "https://localhost:8080/"
    },
    "id": "RCUXjCWnoGvE",
    "outputId": "c7b8a5c4-11a5-4a9c-f198-565a02f0217c"
   },
   "outputs": [
    {
     "name": "stdout",
     "output_type": "stream",
     "text": [
      "<class 'pandas.core.frame.DataFrame'>\n",
      "Index: 7043 entries, 7590-VHVEG to 3186-AJIEK\n",
      "Data columns (total 4 columns):\n",
      " #   Column         Non-Null Count  Dtype \n",
      "---  ------         --------------  ----- \n",
      " 0   gender         7043 non-null   object\n",
      " 1   SeniorCitizen  7043 non-null   int64 \n",
      " 2   Partner        7043 non-null   object\n",
      " 3   Dependents     7043 non-null   object\n",
      "dtypes: int64(1), object(3)\n",
      "memory usage: 275.1+ KB\n"
     ]
    }
   ],
   "source": [
    "df_personal.info()"
   ]
  },
  {
   "cell_type": "code",
   "execution_count": 11,
   "metadata": {
    "colab": {
     "base_uri": "https://localhost:8080/"
    },
    "id": "5j_cXl9goG5t",
    "outputId": "bee61940-9664-4955-fd35-75f07b47473e"
   },
   "outputs": [
    {
     "data": {
      "text/plain": [
       "True     7027\n",
       "False      16\n",
       "dtype: int64"
      ]
     },
     "execution_count": 11,
     "metadata": {},
     "output_type": "execute_result"
    }
   ],
   "source": [
    "df_personal.duplicated().value_counts()"
   ]
  },
  {
   "cell_type": "code",
   "execution_count": 12,
   "metadata": {
    "colab": {
     "base_uri": "https://localhost:8080/",
     "height": 455
    },
    "id": "RCfL_z8H-ry8",
    "outputId": "1acb4e53-754c-4d24-9a42-20d262cbe80c"
   },
   "outputs": [
    {
     "data": {
      "text/html": [
       "<div>\n",
       "<style scoped>\n",
       "    .dataframe tbody tr th:only-of-type {\n",
       "        vertical-align: middle;\n",
       "    }\n",
       "\n",
       "    .dataframe tbody tr th {\n",
       "        vertical-align: top;\n",
       "    }\n",
       "\n",
       "    .dataframe thead th {\n",
       "        text-align: right;\n",
       "    }\n",
       "</style>\n",
       "<table border=\"1\" class=\"dataframe\">\n",
       "  <thead>\n",
       "    <tr style=\"text-align: right;\">\n",
       "      <th></th>\n",
       "      <th>MultipleLines</th>\n",
       "    </tr>\n",
       "    <tr>\n",
       "      <th>customerID</th>\n",
       "      <th></th>\n",
       "    </tr>\n",
       "  </thead>\n",
       "  <tbody>\n",
       "    <tr>\n",
       "      <th>5575-GNVDE</th>\n",
       "      <td>No</td>\n",
       "    </tr>\n",
       "    <tr>\n",
       "      <th>3668-QPYBK</th>\n",
       "      <td>No</td>\n",
       "    </tr>\n",
       "    <tr>\n",
       "      <th>9237-HQITU</th>\n",
       "      <td>No</td>\n",
       "    </tr>\n",
       "    <tr>\n",
       "      <th>9305-CDSKC</th>\n",
       "      <td>Yes</td>\n",
       "    </tr>\n",
       "    <tr>\n",
       "      <th>1452-KIOVK</th>\n",
       "      <td>Yes</td>\n",
       "    </tr>\n",
       "    <tr>\n",
       "      <th>...</th>\n",
       "      <td>...</td>\n",
       "    </tr>\n",
       "    <tr>\n",
       "      <th>2569-WGERO</th>\n",
       "      <td>No</td>\n",
       "    </tr>\n",
       "    <tr>\n",
       "      <th>6840-RESVB</th>\n",
       "      <td>Yes</td>\n",
       "    </tr>\n",
       "    <tr>\n",
       "      <th>2234-XADUH</th>\n",
       "      <td>Yes</td>\n",
       "    </tr>\n",
       "    <tr>\n",
       "      <th>8361-LTMKD</th>\n",
       "      <td>Yes</td>\n",
       "    </tr>\n",
       "    <tr>\n",
       "      <th>3186-AJIEK</th>\n",
       "      <td>No</td>\n",
       "    </tr>\n",
       "  </tbody>\n",
       "</table>\n",
       "<p>6361 rows × 1 columns</p>\n",
       "</div>"
      ],
      "text/plain": [
       "           MultipleLines\n",
       "customerID              \n",
       "5575-GNVDE            No\n",
       "3668-QPYBK            No\n",
       "9237-HQITU            No\n",
       "9305-CDSKC           Yes\n",
       "1452-KIOVK           Yes\n",
       "...                  ...\n",
       "2569-WGERO            No\n",
       "6840-RESVB           Yes\n",
       "2234-XADUH           Yes\n",
       "8361-LTMKD           Yes\n",
       "3186-AJIEK            No\n",
       "\n",
       "[6361 rows x 1 columns]"
      ]
     },
     "execution_count": 12,
     "metadata": {},
     "output_type": "execute_result"
    }
   ],
   "source": [
    "df_phone"
   ]
  },
  {
   "cell_type": "code",
   "execution_count": 13,
   "metadata": {
    "colab": {
     "base_uri": "https://localhost:8080/"
    },
    "id": "neejgpCToOma",
    "outputId": "09ab03c9-497d-41f2-f661-3cc67c424daa"
   },
   "outputs": [
    {
     "name": "stdout",
     "output_type": "stream",
     "text": [
      "<class 'pandas.core.frame.DataFrame'>\n",
      "Index: 6361 entries, 5575-GNVDE to 3186-AJIEK\n",
      "Data columns (total 1 columns):\n",
      " #   Column         Non-Null Count  Dtype \n",
      "---  ------         --------------  ----- \n",
      " 0   MultipleLines  6361 non-null   object\n",
      "dtypes: object(1)\n",
      "memory usage: 99.4+ KB\n"
     ]
    }
   ],
   "source": [
    "df_phone.info()"
   ]
  },
  {
   "cell_type": "code",
   "execution_count": 14,
   "metadata": {
    "colab": {
     "base_uri": "https://localhost:8080/"
    },
    "id": "V7qDBRPBoOq3",
    "outputId": "b9508d6b-d90e-455b-e5ba-fdc3fa7f50a0"
   },
   "outputs": [
    {
     "data": {
      "text/plain": [
       "True     6359\n",
       "False       2\n",
       "dtype: int64"
      ]
     },
     "execution_count": 14,
     "metadata": {},
     "output_type": "execute_result"
    }
   ],
   "source": [
    "df_phone.duplicated().value_counts()"
   ]
  },
  {
   "cell_type": "markdown",
   "metadata": {
    "id": "ly2eKHWUgxXH"
   },
   "source": [
    "Пропусков и дубликатов найдено не было, но так как в таблицах количество данных не совпадает они появятся при соединении. Столбец EndDate будет преобразован в бианрный целевой признак, который модели у будут пытаться предсказать. \n",
    "\n",
    "Далее соединим таблицы, но перед этим создадим признаки обозначающие пользуется ли клиент телефоном или интернетом или нет:\n"
   ]
  },
  {
   "cell_type": "code",
   "execution_count": 15,
   "metadata": {
    "id": "xkuOToBtxOgR"
   },
   "outputs": [],
   "source": [
    "datasets = [df_contract, df_personal, df_internet, df_phone]\n",
    "\n",
    "datasets[2]['internet'] = 'Yes'\n",
    "datasets[3]['phone'] = 'Yes'\n",
    "\n",
    "df = df_contract.join(datasets[1:]).reset_index()"
   ]
  },
  {
   "cell_type": "markdown",
   "metadata": {
    "id": "tWgVcCbxyjE_"
   },
   "source": [
    "Проверим появились ли дубли после соединения:"
   ]
  },
  {
   "cell_type": "code",
   "execution_count": 16,
   "metadata": {
    "colab": {
     "base_uri": "https://localhost:8080/"
    },
    "id": "s5VIAqZ5yppY",
    "outputId": "cf29f3bf-859f-4b95-e0d0-4c55e0b4bfb2"
   },
   "outputs": [
    {
     "data": {
      "text/plain": [
       "0"
      ]
     },
     "execution_count": 16,
     "metadata": {},
     "output_type": "execute_result"
    }
   ],
   "source": [
    "df.duplicated().sum()"
   ]
  },
  {
   "cell_type": "code",
   "execution_count": 17,
   "metadata": {
    "colab": {
     "base_uri": "https://localhost:8080/"
    },
    "id": "lhNQkLafzWrc",
    "outputId": "a5b28bda-b47e-41af-9f48-4d0243297de9"
   },
   "outputs": [
    {
     "name": "stdout",
     "output_type": "stream",
     "text": [
      "<class 'pandas.core.frame.DataFrame'>\n",
      "RangeIndex: 7043 entries, 0 to 7042\n",
      "Data columns (total 22 columns):\n",
      " #   Column            Non-Null Count  Dtype  \n",
      "---  ------            --------------  -----  \n",
      " 0   customerID        7043 non-null   object \n",
      " 1   BeginDate         7043 non-null   object \n",
      " 2   EndDate           7043 non-null   object \n",
      " 3   Type              7043 non-null   object \n",
      " 4   PaperlessBilling  7043 non-null   object \n",
      " 5   PaymentMethod     7043 non-null   object \n",
      " 6   MonthlyCharges    7043 non-null   float64\n",
      " 7   TotalCharges      7043 non-null   object \n",
      " 8   gender            7043 non-null   object \n",
      " 9   SeniorCitizen     7043 non-null   int64  \n",
      " 10  Partner           7043 non-null   object \n",
      " 11  Dependents        7043 non-null   object \n",
      " 12  InternetService   5517 non-null   object \n",
      " 13  OnlineSecurity    5517 non-null   object \n",
      " 14  OnlineBackup      5517 non-null   object \n",
      " 15  DeviceProtection  5517 non-null   object \n",
      " 16  TechSupport       5517 non-null   object \n",
      " 17  StreamingTV       5517 non-null   object \n",
      " 18  StreamingMovies   5517 non-null   object \n",
      " 19  internet          5517 non-null   object \n",
      " 20  MultipleLines     6361 non-null   object \n",
      " 21  phone             6361 non-null   object \n",
      "dtypes: float64(1), int64(1), object(20)\n",
      "memory usage: 1.2+ MB\n"
     ]
    }
   ],
   "source": [
    "df.info()"
   ]
  },
  {
   "cell_type": "markdown",
   "metadata": {
    "id": "0UjZy9QpzSjs"
   },
   "source": [
    "Дубликатов нет, но есть пропуски, их заполним значениями No\n"
   ]
  },
  {
   "cell_type": "code",
   "execution_count": 18,
   "metadata": {
    "colab": {
     "base_uri": "https://localhost:8080/"
    },
    "id": "TRBakkoFzu1N",
    "outputId": "aadfd6db-371c-46fd-b21a-5c361d3c28f2"
   },
   "outputs": [
    {
     "name": "stdout",
     "output_type": "stream",
     "text": [
      "<class 'pandas.core.frame.DataFrame'>\n",
      "RangeIndex: 7043 entries, 0 to 7042\n",
      "Data columns (total 22 columns):\n",
      " #   Column            Non-Null Count  Dtype  \n",
      "---  ------            --------------  -----  \n",
      " 0   customerID        7043 non-null   object \n",
      " 1   BeginDate         7043 non-null   object \n",
      " 2   EndDate           7043 non-null   object \n",
      " 3   Type              7043 non-null   object \n",
      " 4   PaperlessBilling  7043 non-null   object \n",
      " 5   PaymentMethod     7043 non-null   object \n",
      " 6   MonthlyCharges    7043 non-null   float64\n",
      " 7   TotalCharges      7043 non-null   object \n",
      " 8   gender            7043 non-null   object \n",
      " 9   SeniorCitizen     7043 non-null   int64  \n",
      " 10  Partner           7043 non-null   object \n",
      " 11  Dependents        7043 non-null   object \n",
      " 12  InternetService   7043 non-null   object \n",
      " 13  OnlineSecurity    7043 non-null   object \n",
      " 14  OnlineBackup      7043 non-null   object \n",
      " 15  DeviceProtection  7043 non-null   object \n",
      " 16  TechSupport       7043 non-null   object \n",
      " 17  StreamingTV       7043 non-null   object \n",
      " 18  StreamingMovies   7043 non-null   object \n",
      " 19  internet          7043 non-null   object \n",
      " 20  MultipleLines     7043 non-null   object \n",
      " 21  phone             7043 non-null   object \n",
      "dtypes: float64(1), int64(1), object(20)\n",
      "memory usage: 1.2+ MB\n"
     ]
    }
   ],
   "source": [
    "df = df.fillna('No')\n",
    "df.info()"
   ]
  },
  {
   "cell_type": "markdown",
   "metadata": {
    "id": "F6fnMKAp0obp"
   },
   "source": [
    "Данные подготовлены к анализу.\n",
    "\n",
    "## Исследовательский анализ\n",
    "\n",
    "Проверим есть ли в датасете клиенты, подключились и не успели сделать оплату на момент создания датасета:"
   ]
  },
  {
   "cell_type": "code",
   "execution_count": 19,
   "metadata": {
    "colab": {
     "base_uri": "https://localhost:8080/",
     "height": 678
    },
    "id": "LIX2T_yK5XI7",
    "outputId": "db8b20cc-6518-4b14-d9d4-b0a9b4b8b464"
   },
   "outputs": [
    {
     "data": {
      "text/html": [
       "<div>\n",
       "<style scoped>\n",
       "    .dataframe tbody tr th:only-of-type {\n",
       "        vertical-align: middle;\n",
       "    }\n",
       "\n",
       "    .dataframe tbody tr th {\n",
       "        vertical-align: top;\n",
       "    }\n",
       "\n",
       "    .dataframe thead th {\n",
       "        text-align: right;\n",
       "    }\n",
       "</style>\n",
       "<table border=\"1\" class=\"dataframe\">\n",
       "  <thead>\n",
       "    <tr style=\"text-align: right;\">\n",
       "      <th></th>\n",
       "      <th>customerID</th>\n",
       "      <th>BeginDate</th>\n",
       "      <th>EndDate</th>\n",
       "      <th>Type</th>\n",
       "      <th>PaperlessBilling</th>\n",
       "      <th>PaymentMethod</th>\n",
       "      <th>MonthlyCharges</th>\n",
       "      <th>TotalCharges</th>\n",
       "      <th>gender</th>\n",
       "      <th>SeniorCitizen</th>\n",
       "      <th>Partner</th>\n",
       "      <th>Dependents</th>\n",
       "      <th>InternetService</th>\n",
       "      <th>OnlineSecurity</th>\n",
       "      <th>OnlineBackup</th>\n",
       "      <th>DeviceProtection</th>\n",
       "      <th>TechSupport</th>\n",
       "      <th>StreamingTV</th>\n",
       "      <th>StreamingMovies</th>\n",
       "      <th>internet</th>\n",
       "      <th>MultipleLines</th>\n",
       "      <th>phone</th>\n",
       "    </tr>\n",
       "  </thead>\n",
       "  <tbody>\n",
       "    <tr>\n",
       "      <th>488</th>\n",
       "      <td>4472-LVYGI</td>\n",
       "      <td>2020-02-01</td>\n",
       "      <td>No</td>\n",
       "      <td>Two year</td>\n",
       "      <td>Yes</td>\n",
       "      <td>Bank transfer (automatic)</td>\n",
       "      <td>52.55</td>\n",
       "      <td></td>\n",
       "      <td>Female</td>\n",
       "      <td>0</td>\n",
       "      <td>Yes</td>\n",
       "      <td>Yes</td>\n",
       "      <td>DSL</td>\n",
       "      <td>Yes</td>\n",
       "      <td>No</td>\n",
       "      <td>Yes</td>\n",
       "      <td>Yes</td>\n",
       "      <td>Yes</td>\n",
       "      <td>No</td>\n",
       "      <td>Yes</td>\n",
       "      <td>No</td>\n",
       "      <td>No</td>\n",
       "    </tr>\n",
       "    <tr>\n",
       "      <th>753</th>\n",
       "      <td>3115-CZMZD</td>\n",
       "      <td>2020-02-01</td>\n",
       "      <td>No</td>\n",
       "      <td>Two year</td>\n",
       "      <td>No</td>\n",
       "      <td>Mailed check</td>\n",
       "      <td>20.25</td>\n",
       "      <td></td>\n",
       "      <td>Male</td>\n",
       "      <td>0</td>\n",
       "      <td>No</td>\n",
       "      <td>Yes</td>\n",
       "      <td>No</td>\n",
       "      <td>No</td>\n",
       "      <td>No</td>\n",
       "      <td>No</td>\n",
       "      <td>No</td>\n",
       "      <td>No</td>\n",
       "      <td>No</td>\n",
       "      <td>No</td>\n",
       "      <td>No</td>\n",
       "      <td>Yes</td>\n",
       "    </tr>\n",
       "    <tr>\n",
       "      <th>936</th>\n",
       "      <td>5709-LVOEQ</td>\n",
       "      <td>2020-02-01</td>\n",
       "      <td>No</td>\n",
       "      <td>Two year</td>\n",
       "      <td>No</td>\n",
       "      <td>Mailed check</td>\n",
       "      <td>80.85</td>\n",
       "      <td></td>\n",
       "      <td>Female</td>\n",
       "      <td>0</td>\n",
       "      <td>Yes</td>\n",
       "      <td>Yes</td>\n",
       "      <td>DSL</td>\n",
       "      <td>Yes</td>\n",
       "      <td>Yes</td>\n",
       "      <td>Yes</td>\n",
       "      <td>No</td>\n",
       "      <td>Yes</td>\n",
       "      <td>Yes</td>\n",
       "      <td>Yes</td>\n",
       "      <td>No</td>\n",
       "      <td>Yes</td>\n",
       "    </tr>\n",
       "    <tr>\n",
       "      <th>1082</th>\n",
       "      <td>4367-NUYAO</td>\n",
       "      <td>2020-02-01</td>\n",
       "      <td>No</td>\n",
       "      <td>Two year</td>\n",
       "      <td>No</td>\n",
       "      <td>Mailed check</td>\n",
       "      <td>25.75</td>\n",
       "      <td></td>\n",
       "      <td>Male</td>\n",
       "      <td>0</td>\n",
       "      <td>Yes</td>\n",
       "      <td>Yes</td>\n",
       "      <td>No</td>\n",
       "      <td>No</td>\n",
       "      <td>No</td>\n",
       "      <td>No</td>\n",
       "      <td>No</td>\n",
       "      <td>No</td>\n",
       "      <td>No</td>\n",
       "      <td>No</td>\n",
       "      <td>Yes</td>\n",
       "      <td>Yes</td>\n",
       "    </tr>\n",
       "    <tr>\n",
       "      <th>1340</th>\n",
       "      <td>1371-DWPAZ</td>\n",
       "      <td>2020-02-01</td>\n",
       "      <td>No</td>\n",
       "      <td>Two year</td>\n",
       "      <td>No</td>\n",
       "      <td>Credit card (automatic)</td>\n",
       "      <td>56.05</td>\n",
       "      <td></td>\n",
       "      <td>Female</td>\n",
       "      <td>0</td>\n",
       "      <td>Yes</td>\n",
       "      <td>Yes</td>\n",
       "      <td>DSL</td>\n",
       "      <td>Yes</td>\n",
       "      <td>Yes</td>\n",
       "      <td>Yes</td>\n",
       "      <td>Yes</td>\n",
       "      <td>Yes</td>\n",
       "      <td>No</td>\n",
       "      <td>Yes</td>\n",
       "      <td>No</td>\n",
       "      <td>No</td>\n",
       "    </tr>\n",
       "    <tr>\n",
       "      <th>3331</th>\n",
       "      <td>7644-OMVMY</td>\n",
       "      <td>2020-02-01</td>\n",
       "      <td>No</td>\n",
       "      <td>Two year</td>\n",
       "      <td>No</td>\n",
       "      <td>Mailed check</td>\n",
       "      <td>19.85</td>\n",
       "      <td></td>\n",
       "      <td>Male</td>\n",
       "      <td>0</td>\n",
       "      <td>Yes</td>\n",
       "      <td>Yes</td>\n",
       "      <td>No</td>\n",
       "      <td>No</td>\n",
       "      <td>No</td>\n",
       "      <td>No</td>\n",
       "      <td>No</td>\n",
       "      <td>No</td>\n",
       "      <td>No</td>\n",
       "      <td>No</td>\n",
       "      <td>No</td>\n",
       "      <td>Yes</td>\n",
       "    </tr>\n",
       "    <tr>\n",
       "      <th>3826</th>\n",
       "      <td>3213-VVOLG</td>\n",
       "      <td>2020-02-01</td>\n",
       "      <td>No</td>\n",
       "      <td>Two year</td>\n",
       "      <td>No</td>\n",
       "      <td>Mailed check</td>\n",
       "      <td>25.35</td>\n",
       "      <td></td>\n",
       "      <td>Male</td>\n",
       "      <td>0</td>\n",
       "      <td>Yes</td>\n",
       "      <td>Yes</td>\n",
       "      <td>No</td>\n",
       "      <td>No</td>\n",
       "      <td>No</td>\n",
       "      <td>No</td>\n",
       "      <td>No</td>\n",
       "      <td>No</td>\n",
       "      <td>No</td>\n",
       "      <td>No</td>\n",
       "      <td>Yes</td>\n",
       "      <td>Yes</td>\n",
       "    </tr>\n",
       "    <tr>\n",
       "      <th>4380</th>\n",
       "      <td>2520-SGTTA</td>\n",
       "      <td>2020-02-01</td>\n",
       "      <td>No</td>\n",
       "      <td>Two year</td>\n",
       "      <td>No</td>\n",
       "      <td>Mailed check</td>\n",
       "      <td>20.00</td>\n",
       "      <td></td>\n",
       "      <td>Female</td>\n",
       "      <td>0</td>\n",
       "      <td>Yes</td>\n",
       "      <td>Yes</td>\n",
       "      <td>No</td>\n",
       "      <td>No</td>\n",
       "      <td>No</td>\n",
       "      <td>No</td>\n",
       "      <td>No</td>\n",
       "      <td>No</td>\n",
       "      <td>No</td>\n",
       "      <td>No</td>\n",
       "      <td>No</td>\n",
       "      <td>Yes</td>\n",
       "    </tr>\n",
       "    <tr>\n",
       "      <th>5218</th>\n",
       "      <td>2923-ARZLG</td>\n",
       "      <td>2020-02-01</td>\n",
       "      <td>No</td>\n",
       "      <td>One year</td>\n",
       "      <td>Yes</td>\n",
       "      <td>Mailed check</td>\n",
       "      <td>19.70</td>\n",
       "      <td></td>\n",
       "      <td>Male</td>\n",
       "      <td>0</td>\n",
       "      <td>Yes</td>\n",
       "      <td>Yes</td>\n",
       "      <td>No</td>\n",
       "      <td>No</td>\n",
       "      <td>No</td>\n",
       "      <td>No</td>\n",
       "      <td>No</td>\n",
       "      <td>No</td>\n",
       "      <td>No</td>\n",
       "      <td>No</td>\n",
       "      <td>No</td>\n",
       "      <td>Yes</td>\n",
       "    </tr>\n",
       "    <tr>\n",
       "      <th>6670</th>\n",
       "      <td>4075-WKNIU</td>\n",
       "      <td>2020-02-01</td>\n",
       "      <td>No</td>\n",
       "      <td>Two year</td>\n",
       "      <td>No</td>\n",
       "      <td>Mailed check</td>\n",
       "      <td>73.35</td>\n",
       "      <td></td>\n",
       "      <td>Female</td>\n",
       "      <td>0</td>\n",
       "      <td>Yes</td>\n",
       "      <td>Yes</td>\n",
       "      <td>DSL</td>\n",
       "      <td>No</td>\n",
       "      <td>Yes</td>\n",
       "      <td>Yes</td>\n",
       "      <td>Yes</td>\n",
       "      <td>Yes</td>\n",
       "      <td>No</td>\n",
       "      <td>Yes</td>\n",
       "      <td>Yes</td>\n",
       "      <td>Yes</td>\n",
       "    </tr>\n",
       "    <tr>\n",
       "      <th>6754</th>\n",
       "      <td>2775-SEFEE</td>\n",
       "      <td>2020-02-01</td>\n",
       "      <td>No</td>\n",
       "      <td>Two year</td>\n",
       "      <td>Yes</td>\n",
       "      <td>Bank transfer (automatic)</td>\n",
       "      <td>61.90</td>\n",
       "      <td></td>\n",
       "      <td>Male</td>\n",
       "      <td>0</td>\n",
       "      <td>No</td>\n",
       "      <td>Yes</td>\n",
       "      <td>DSL</td>\n",
       "      <td>Yes</td>\n",
       "      <td>Yes</td>\n",
       "      <td>No</td>\n",
       "      <td>Yes</td>\n",
       "      <td>No</td>\n",
       "      <td>No</td>\n",
       "      <td>Yes</td>\n",
       "      <td>Yes</td>\n",
       "      <td>Yes</td>\n",
       "    </tr>\n",
       "  </tbody>\n",
       "</table>\n",
       "</div>"
      ],
      "text/plain": [
       "      customerID   BeginDate EndDate      Type PaperlessBilling  \\\n",
       "488   4472-LVYGI  2020-02-01      No  Two year              Yes   \n",
       "753   3115-CZMZD  2020-02-01      No  Two year               No   \n",
       "936   5709-LVOEQ  2020-02-01      No  Two year               No   \n",
       "1082  4367-NUYAO  2020-02-01      No  Two year               No   \n",
       "1340  1371-DWPAZ  2020-02-01      No  Two year               No   \n",
       "3331  7644-OMVMY  2020-02-01      No  Two year               No   \n",
       "3826  3213-VVOLG  2020-02-01      No  Two year               No   \n",
       "4380  2520-SGTTA  2020-02-01      No  Two year               No   \n",
       "5218  2923-ARZLG  2020-02-01      No  One year              Yes   \n",
       "6670  4075-WKNIU  2020-02-01      No  Two year               No   \n",
       "6754  2775-SEFEE  2020-02-01      No  Two year              Yes   \n",
       "\n",
       "                  PaymentMethod  MonthlyCharges TotalCharges  gender  \\\n",
       "488   Bank transfer (automatic)           52.55               Female   \n",
       "753                Mailed check           20.25                 Male   \n",
       "936                Mailed check           80.85               Female   \n",
       "1082               Mailed check           25.75                 Male   \n",
       "1340    Credit card (automatic)           56.05               Female   \n",
       "3331               Mailed check           19.85                 Male   \n",
       "3826               Mailed check           25.35                 Male   \n",
       "4380               Mailed check           20.00               Female   \n",
       "5218               Mailed check           19.70                 Male   \n",
       "6670               Mailed check           73.35               Female   \n",
       "6754  Bank transfer (automatic)           61.90                 Male   \n",
       "\n",
       "      SeniorCitizen Partner Dependents InternetService OnlineSecurity  \\\n",
       "488               0     Yes        Yes             DSL            Yes   \n",
       "753               0      No        Yes              No             No   \n",
       "936               0     Yes        Yes             DSL            Yes   \n",
       "1082              0     Yes        Yes              No             No   \n",
       "1340              0     Yes        Yes             DSL            Yes   \n",
       "3331              0     Yes        Yes              No             No   \n",
       "3826              0     Yes        Yes              No             No   \n",
       "4380              0     Yes        Yes              No             No   \n",
       "5218              0     Yes        Yes              No             No   \n",
       "6670              0     Yes        Yes             DSL             No   \n",
       "6754              0      No        Yes             DSL            Yes   \n",
       "\n",
       "     OnlineBackup DeviceProtection TechSupport StreamingTV StreamingMovies  \\\n",
       "488            No              Yes         Yes         Yes              No   \n",
       "753            No               No          No          No              No   \n",
       "936           Yes              Yes          No         Yes             Yes   \n",
       "1082           No               No          No          No              No   \n",
       "1340          Yes              Yes         Yes         Yes              No   \n",
       "3331           No               No          No          No              No   \n",
       "3826           No               No          No          No              No   \n",
       "4380           No               No          No          No              No   \n",
       "5218           No               No          No          No              No   \n",
       "6670          Yes              Yes         Yes         Yes              No   \n",
       "6754          Yes               No         Yes          No              No   \n",
       "\n",
       "     internet MultipleLines phone  \n",
       "488       Yes            No    No  \n",
       "753        No            No   Yes  \n",
       "936       Yes            No   Yes  \n",
       "1082       No           Yes   Yes  \n",
       "1340      Yes            No    No  \n",
       "3331       No            No   Yes  \n",
       "3826       No           Yes   Yes  \n",
       "4380       No            No   Yes  \n",
       "5218       No            No   Yes  \n",
       "6670      Yes           Yes   Yes  \n",
       "6754      Yes           Yes   Yes  "
      ]
     },
     "execution_count": 19,
     "metadata": {},
     "output_type": "execute_result"
    }
   ],
   "source": [
    "df.loc[df['TotalCharges']==' ']"
   ]
  },
  {
   "cell_type": "markdown",
   "metadata": {
    "id": "htXbrnrc5iJg"
   },
   "source": [
    "Всего 11 таких клиентов, они не будут что либо значить для обучения модели, поэтому удалим их."
   ]
  },
  {
   "cell_type": "code",
   "execution_count": 20,
   "metadata": {
    "id": "QwCxFVYB54gm"
   },
   "outputs": [],
   "source": [
    "df = df.loc[df['TotalCharges']!=' ']\n",
    "df['TotalCharges'] = pd.to_numeric(df['TotalCharges'])\n",
    "df['BeginDate'] = pd.to_datetime(df['BeginDate'])"
   ]
  },
  {
   "cell_type": "markdown",
   "metadata": {
    "id": "-ZVrgsWf6MJE"
   },
   "source": [
    "Далее создадим бинарный целевой признак:"
   ]
  },
  {
   "cell_type": "code",
   "execution_count": 21,
   "metadata": {
    "id": "_5MqCrXG6LxE"
   },
   "outputs": [],
   "source": [
    "df.loc[df['EndDate'] != 'No', 'target'] = 1\n",
    "df.loc[df['EndDate'] == 'No', 'target'] = 0  \n",
    "df['target'] = df['target'].astype(int)"
   ]
  },
  {
   "cell_type": "markdown",
   "metadata": {
    "id": "f9cZMRvyCqkD"
   },
   "source": [
    "Проверим целевой признак на наличие дисбаланса:"
   ]
  },
  {
   "cell_type": "code",
   "execution_count": 22,
   "metadata": {
    "colab": {
     "base_uri": "https://localhost:8080/",
     "height": 527
    },
    "id": "UKXJIswyz4q-",
    "outputId": "8e5f4dd1-bc64-4ac9-b666-b18baf7def0f"
   },
   "outputs": [
    {
     "data": {
      "text/plain": [
       "<AxesSubplot:title={'center':'Распределение целевого признака'}, xlabel='Значение признака', ylabel='Количество записей с соответствующим значением'>"
      ]
     },
     "execution_count": 22,
     "metadata": {},
     "output_type": "execute_result"
    },
    {
     "data": {
      "image/png": "[encoded data removed]",
      "text/plain": [
       "<Figure size 1152x576 with 1 Axes>"
      ]
     },
     "metadata": {
      "needs_background": "light"
     },
     "output_type": "display_data"
    }
   ],
   "source": [
    "df_target = df['target']\n",
    "fig, ax = plt.subplots(1)\n",
    "ax.set_title('Распределение целевого признака')\n",
    "ax.set_xlabel('Значение признака')\n",
    "ax.set_ylabel('Количество записей с соответствующим значением')\n",
    "df_target.value_counts().plot(kind='bar', figsize=(16,8), ax=ax)"
   ]
  },
  {
   "cell_type": "markdown",
   "metadata": {
    "id": "g-iO866uC07s"
   },
   "source": [
    "Виден дисбаланск классов, хорошим вариантом дальнейших действий будет upsampling. \n",
    "\n",
    "Далее проверим данные на наличие выбросов:\n"
   ]
  },
  {
   "cell_type": "code",
   "execution_count": 23,
   "metadata": {
    "colab": {
     "base_uri": "https://localhost:8080/",
     "height": 313
    },
    "id": "hhhxo-n1qvAC",
    "outputId": "b8b48a33-2e38-49c6-d30c-c07ba3c3fe44"
   },
   "outputs": [
    {
     "data": {
      "image/png": "[encoded data removed]",
      "text/plain": [
       "<Figure size 432x288 with 2 Axes>"
      ]
     },
     "metadata": {
      "needs_background": "light"
     },
     "output_type": "display_data"
    }
   ],
   "source": [
    "fig, ax = plt.subplots(2,1,constrained_layout=True)\n",
    "ax[0].boxplot(df['MonthlyCharges'], vert=False)\n",
    "ax[0].set_title('monthlycharges')\n",
    "ax[0].grid(True)\n",
    "ax[1].boxplot(df['TotalCharges'], vert=False)\n",
    "ax[1].set_title('totalcharges')\n",
    "ax[1].grid(True)\n",
    "plt.show()"
   ]
  },
  {
   "cell_type": "markdown",
   "metadata": {
    "id": "d0wZ538UxZ5H"
   },
   "source": [
    "Судя по всему выбросов и аномалий нет. Далее проверим какая категория клиентов платила больше:"
   ]
  },
  {
   "cell_type": "code",
   "execution_count": 24,
   "metadata": {
    "colab": {
     "base_uri": "https://localhost:8080/"
    },
    "id": "8PnYyMcZxZeA",
    "outputId": "b742fba1-67fd-4e6b-8573-074f65369fd7"
   },
   "outputs": [],
   "source": [
    "\n",
    "gone = df.loc[df['EndDate'] != 'No']\n",
    "stayed = df.loc[df['EndDate'] == 'No']\n",
    "gone['EndDate'] = pd.to_datetime(gone['EndDate'])\n",
    "gone['together'] = round((gone['EndDate'] - gone['BeginDate'])/np.timedelta64(1, 'D'))"
   ]
  },
  {
   "cell_type": "code",
   "execution_count": 25,
   "metadata": {
    "colab": {
     "base_uri": "https://localhost:8080/",
     "height": 694
    },
    "id": "MtsmB6QUz5LO",
    "outputId": "c6a0f26c-1343-455c-cd6d-430bd8884ffd"
   },
   "outputs": [
    {
     "data": {
      "image/png": "[encoded data removed]",
      "text/plain": [
       "<Figure size 1280x800 with 1 Axes>"
      ]
     },
     "metadata": {
      "needs_background": "light"
     },
     "output_type": "display_data"
    }
   ],
   "source": [
    "plt.figure(figsize=(16,10), dpi= 80)\n",
    "sns.distplot(gone['MonthlyCharges'], color=\"g\", label=\"Ушли\")\n",
    "sns.distplot(df['MonthlyCharges'], color=\"b\", label=\"Все\")\n",
    "\n",
    "plt.title('Сравнение распределений ежемесячных платежей ушедших и всех клиентов', fontsize=22)\n",
    "plt.legend()\n",
    "plt.xlabel('Сумма')\n",
    "plt.show()"
   ]
  },
  {
   "cell_type": "markdown",
   "metadata": {
    "id": "tiquKEpz0wvd"
   },
   "source": [
    "Похоже ушедшие платили больше чем те кто остался, возможно это и стало причиной их ухода."
   ]
  },
  {
   "cell_type": "code",
   "execution_count": 26,
   "metadata": {
    "colab": {
     "base_uri": "https://localhost:8080/"
    },
    "id": "HFRLqqPk1apE",
    "outputId": "863b399a-8dab-4fce-8dbb-114e24ffa65c"
   },
   "outputs": [
    {
     "data": {
      "text/plain": [
       "array(['Electronic check', 'Mailed check', 'Bank transfer (automatic)',\n",
       "       'Credit card (automatic)'], dtype=object)"
      ]
     },
     "execution_count": 26,
     "metadata": {},
     "output_type": "execute_result"
    }
   ],
   "source": [
    "df['PaymentMethod'].unique()"
   ]
  },
  {
   "cell_type": "code",
   "execution_count": 27,
   "metadata": {
    "colab": {
     "base_uri": "https://localhost:8080/",
     "height": 331
    },
    "id": "t4npxjZv11cp",
    "outputId": "4622dce9-728a-4091-bd79-754370b436f5"
   },
   "outputs": [
    {
     "data": {
      "text/html": [
       "<div>\n",
       "<style scoped>\n",
       "    .dataframe tbody tr th:only-of-type {\n",
       "        vertical-align: middle;\n",
       "    }\n",
       "\n",
       "    .dataframe tbody tr th {\n",
       "        vertical-align: top;\n",
       "    }\n",
       "\n",
       "    .dataframe thead th {\n",
       "        text-align: right;\n",
       "    }\n",
       "</style>\n",
       "<table border=\"1\" class=\"dataframe\">\n",
       "  <thead>\n",
       "    <tr style=\"text-align: right;\">\n",
       "      <th></th>\n",
       "      <th></th>\n",
       "      <th>MonthlyCharges</th>\n",
       "    </tr>\n",
       "    <tr>\n",
       "      <th>PaymentMethod</th>\n",
       "      <th>target</th>\n",
       "      <th></th>\n",
       "    </tr>\n",
       "  </thead>\n",
       "  <tbody>\n",
       "    <tr>\n",
       "      <th rowspan=\"2\" valign=\"top\">Bank transfer (automatic)</th>\n",
       "      <th>0</th>\n",
       "      <td>83539.10</td>\n",
       "    </tr>\n",
       "    <tr>\n",
       "      <th>1</th>\n",
       "      <td>20091.90</td>\n",
       "    </tr>\n",
       "    <tr>\n",
       "      <th rowspan=\"2\" valign=\"top\">Credit card (automatic)</th>\n",
       "      <th>0</th>\n",
       "      <td>83229.20</td>\n",
       "    </tr>\n",
       "    <tr>\n",
       "      <th>1</th>\n",
       "      <td>17946.60</td>\n",
       "    </tr>\n",
       "    <tr>\n",
       "      <th rowspan=\"2\" valign=\"top\">Electronic check</th>\n",
       "      <th>0</th>\n",
       "      <td>96056.25</td>\n",
       "    </tr>\n",
       "    <tr>\n",
       "      <th>1</th>\n",
       "      <td>84288.75</td>\n",
       "    </tr>\n",
       "    <tr>\n",
       "      <th rowspan=\"2\" valign=\"top\">Mailed check</th>\n",
       "      <th>0</th>\n",
       "      <td>53705.60</td>\n",
       "    </tr>\n",
       "    <tr>\n",
       "      <th>1</th>\n",
       "      <td>16803.60</td>\n",
       "    </tr>\n",
       "  </tbody>\n",
       "</table>\n",
       "</div>"
      ],
      "text/plain": [
       "                                  MonthlyCharges\n",
       "PaymentMethod             target                \n",
       "Bank transfer (automatic) 0             83539.10\n",
       "                          1             20091.90\n",
       "Credit card (automatic)   0             83229.20\n",
       "                          1             17946.60\n",
       "Electronic check          0             96056.25\n",
       "                          1             84288.75\n",
       "Mailed check              0             53705.60\n",
       "                          1             16803.60"
      ]
     },
     "execution_count": 27,
     "metadata": {},
     "output_type": "execute_result"
    }
   ],
   "source": [
    "pd.pivot_table(df, values=['MonthlyCharges'], index=['PaymentMethod', 'target'],\n",
    "                    aggfunc=sum)"
   ]
  },
  {
   "cell_type": "markdown",
   "metadata": {
    "id": "fH9YCWjr4Yrh"
   },
   "source": [
    "Возможно уход клиентов как-то связан с оплатой электронным чеком, так как больше всего оплат было именно через них, но так же это может быть просто самым популярным способом оплаты. Причину по которой клиенты ушли найти не удалось, но возможно она связана с их переплатами и компании нужно задуматься о перебалансировке платежей за услуги. \n",
    "\n",
    "Далее все признаки которые возможно приведем к бинарным:"
   ]
  },
  {
   "cell_type": "code",
   "execution_count": 28,
   "metadata": {
    "id": "soeQTb5l43N3"
   },
   "outputs": [],
   "source": [
    "df['Male'] = pd.get_dummies(df['gender'], drop_first=True)\n",
    "df = df.drop('gender',axis=1)\n",
    "df['PaperlessBilling'] = df['PaperlessBilling'].map({'Yes':1,'No':0})"
   ]
  },
  {
   "cell_type": "code",
   "execution_count": 29,
   "metadata": {
    "id": "jxarbBpE8Sg9"
   },
   "outputs": [],
   "source": [
    "cols = ['Partner','Dependents', 'OnlineSecurity','OnlineBackup','DeviceProtection','TechSupport','StreamingTV','StreamingMovies', 'internet', 'MultipleLines', 'phone']\n",
    "for i in cols:\n",
    "    df[i] = df[i].map({'Yes':1,'No':0})"
   ]
  },
  {
   "cell_type": "code",
   "execution_count": 30,
   "metadata": {
    "id": "AmaPdsEH8k8i"
   },
   "outputs": [],
   "source": [
    "def family(row):\n",
    "    if ((row['Partner']==1)&(row['Dependents']==1)):\n",
    "        return 1\n",
    "    else:\n",
    "        return 0"
   ]
  },
  {
   "cell_type": "code",
   "execution_count": 31,
   "metadata": {
    "id": "YhSgxBBV8qaL"
   },
   "outputs": [],
   "source": [
    "df['hasfamily'] = df.apply(family,axis=1)"
   ]
  },
  {
   "cell_type": "markdown",
   "metadata": {
    "id": "8JmVG_bA9rWf"
   },
   "source": [
    "Создадим признак в котором посчитаем количество сервисов:"
   ]
  },
  {
   "cell_type": "code",
   "execution_count": 32,
   "metadata": {
    "id": "gYVpzqi69b79"
   },
   "outputs": [],
   "source": [
    "df['NumofServices'] = df[['OnlineSecurity','OnlineBackup','DeviceProtection','TechSupport','StreamingTV','StreamingMovies']].sum(axis=1).astype('int')"
   ]
  },
  {
   "cell_type": "markdown",
   "metadata": {
    "id": "xFD_5x3OBEkC"
   },
   "source": [
    "Так же создадим признак в котром посчитаем сколько клиент обслуживался в компании:"
   ]
  },
  {
   "cell_type": "code",
   "execution_count": 33,
   "metadata": {
    "id": "u4KkH82mBLqs"
   },
   "outputs": [],
   "source": [
    "def usagetime(row):\n",
    "    if row['EndDate'] == 'No':\n",
    "        return int(round(((pd.to_datetime('2020-02-01') - pd.to_datetime(row['BeginDate']))/np.timedelta64(1,'D')),0))\n",
    "    else:\n",
    "        return int(round(((pd.to_datetime(row['EndDate']) - pd.to_datetime(row['BeginDate']))/np.timedelta64(1,'D')),0))"
   ]
  },
  {
   "cell_type": "code",
   "execution_count": 34,
   "metadata": {
    "id": "9qF1RplzBMn-"
   },
   "outputs": [],
   "source": [
    "df['Period'] = df.apply(usagetime, axis=1)"
   ]
  },
  {
   "cell_type": "markdown",
   "metadata": {
    "id": "nsNKWbXRCOAj"
   },
   "source": [
    "Создадим признак клиента, который подключился в последние 6 месяцев, таким образом для модели обозначим новых клиентов."
   ]
  },
  {
   "cell_type": "code",
   "execution_count": 35,
   "metadata": {
    "id": "tIKAfOZjCiDG"
   },
   "outputs": [],
   "source": [
    "def newclnt(rows):\n",
    "    if pd.to_datetime(rows['BeginDate'])>=pd.to_datetime('2019-08-01'):\n",
    "        return 1\n",
    "    else:\n",
    "        return 0"
   ]
  },
  {
   "cell_type": "code",
   "execution_count": 36,
   "metadata": {
    "id": "_DJfYaZ9CksC"
   },
   "outputs": [],
   "source": [
    "df['New'] = df.apply(newclnt,axis=1)"
   ]
  },
  {
   "cell_type": "markdown",
   "metadata": {
    "id": "oyjYbtMLFIIY"
   },
   "source": [
    "Далее посмотрим корреляцию:"
   ]
  },
  {
   "cell_type": "code",
   "execution_count": 37,
   "metadata": {
    "colab": {
     "base_uri": "https://localhost:8080/"
    },
    "id": "IUfK2ePTAPmF",
    "outputId": "0fc253e8-c91e-4004-8a34-c7659a019903"
   },
   "outputs": [
    {
     "data": {
      "text/plain": [
       "Period             -0.354496\n",
       "TotalCharges       -0.199484\n",
       "OnlineSecurity     -0.171270\n",
       "TechSupport        -0.164716\n",
       "Dependents         -0.163128\n",
       "hasfamily          -0.159245\n",
       "Partner            -0.149982\n",
       "NumofServices      -0.087882\n",
       "OnlineBackup       -0.082307\n",
       "DeviceProtection   -0.066193\n",
       "Male               -0.008545\n",
       "phone               0.011691\n",
       "MultipleLines       0.040033\n",
       "StreamingMovies     0.060860\n",
       "StreamingTV         0.063254\n",
       "SeniorCitizen       0.150541\n",
       "PaperlessBilling    0.191454\n",
       "MonthlyCharges      0.192858\n",
       "internet            0.227578\n",
       "New                 0.228056\n",
       "target              1.000000\n",
       "Name: target, dtype: float64"
      ]
     },
     "execution_count": 37,
     "metadata": {},
     "output_type": "execute_result"
    }
   ],
   "source": [
    "df_corr = df.corr()\n",
    "df_corr['target'].sort_values()"
   ]
  },
  {
   "cell_type": "markdown",
   "metadata": {
    "id": "4GHJGTWUFM-7"
   },
   "source": [
    "Судя по всему самая низкая корреляция с признаком пола клиента, в целом все признаки имею примерно одинаковую корреляцию и сильно выбивающихся значений нет, поэтому корреляция не может являться основанием для исключения признаков.\n",
    "\n",
    "\n",
    "## Подготовка данных для обучения моделей.\n",
    "\n",
    "Сначала уберем столбцы, которые нам не понадобятся и разделим датасет на target и features."
   ]
  },
  {
   "cell_type": "code",
   "execution_count": 38,
   "metadata": {
    "id": "c94rc9aKIAGu"
   },
   "outputs": [],
   "source": [
    "df = df.reset_index(drop=True)\n",
    "features = df.drop(['customerID','BeginDate','EndDate','target'], axis=1)\n",
    "target = df['target']"
   ]
  },
  {
   "cell_type": "markdown",
   "metadata": {
    "id": "3RCXS-cnU5Uk"
   },
   "source": [
    "Далее поделим выборки на train и test:"
   ]
  },
  {
   "cell_type": "code",
   "execution_count": 39,
   "metadata": {
    "colab": {
     "base_uri": "https://localhost:8080/"
    },
    "id": "6Jr8-DS8JKds",
    "outputId": "5de82683-a319-4027-9a30-1b046d6c9be8"
   },
   "outputs": [
    {
     "name": "stdout",
     "output_type": "stream",
     "text": [
      "Обучающая выборка:  (5625, 23) (5625,)\n",
      "Тестовая выборка:  (1407, 23) (1407,)\n"
     ]
    }
   ],
   "source": [
    "features_train, features_test, target_train, target_test = train_test_split(\n",
    "        features,target,stratify=target, test_size=0.2, random_state=12345)\n",
    "print('Обучающая выборка: ', features_train.shape,  target_train.shape)\n",
    "print('Тестовая выборка: ', features_test.shape,  target_test.shape)"
   ]
  },
  {
   "cell_type": "markdown",
   "metadata": {
    "id": "cHtCFSCJVGao"
   },
   "source": [
    "Разделилось корректно, теперь проведм кодирование категориальных признаков:"
   ]
  },
  {
   "cell_type": "code",
   "execution_count": 40,
   "metadata": {
    "id": "YixlBMB_Ip58"
   },
   "outputs": [],
   "source": [
    "features_train_ohe=pd.get_dummies(features_train, drop_first=True)\n",
    "features_test_ohe=pd.get_dummies(features_test, drop_first=True)"
   ]
  },
  {
   "cell_type": "markdown",
   "metadata": {
    "colab": {
     "base_uri": "https://localhost:8080/",
     "height": 335
    },
    "id": "WJ39_EaOV5Jd",
    "outputId": "5c414099-6454-4f71-9bf8-04149f7a7d05"
   },
   "source": [
    "Далее скалируем числовые признаки:"
   ]
  },
  {
   "cell_type": "code",
   "execution_count": 41,
   "metadata": {
    "colab": {
     "base_uri": "https://localhost:8080/",
     "height": 335
    },
    "id": "WJ39_EaOV5Jd",
    "outputId": "5c414099-6454-4f71-9bf8-04149f7a7d05"
   },
   "outputs": [],
   "source": [
    "numeric=['MonthlyCharges', 'TotalCharges', 'Period']\n",
    "scaler=StandardScaler()\n",
    "scaler.fit((features_train_ohe[numeric]))\n",
    "features_train_ohe[numeric]=scaler.transform(features_train_ohe[numeric])\n",
    "features_test_ohe[numeric]=scaler.transform(features_test_ohe[numeric])"
   ]
  },
  {
   "cell_type": "markdown",
   "metadata": {
    "colab": {
     "base_uri": "https://localhost:8080/",
     "height": 335
    },
    "id": "WJ39_EaOV5Jd",
    "outputId": "5c414099-6454-4f71-9bf8-04149f7a7d05"
   },
   "source": [
    "Далее сделаем upsampling:"
   ]
  },
  {
   "cell_type": "code",
   "execution_count": 42,
   "metadata": {
    "colab": {
     "base_uri": "https://localhost:8080/",
     "height": 335
    },
    "id": "WJ39_EaOV5Jd",
    "outputId": "5c414099-6454-4f71-9bf8-04149f7a7d05"
   },
   "outputs": [
    {
     "data": {
      "text/plain": [
       "1    4485\n",
       "0    4130\n",
       "Name: target, dtype: int64"
      ]
     },
     "execution_count": 42,
     "metadata": {},
     "output_type": "execute_result"
    }
   ],
   "source": [
    "coef = target_train[target_train == 1].count() / target_train[target_train == 0].count()\n",
    "coef\n",
    "\n",
    "def upsample(features, target, coef):\n",
    "    if (coef > 1):\n",
    "        print('Положительных значений больше чем отрицательных, увеличение не требуется, ', coef)\n",
    "        return features, target\n",
    "    \n",
    "    features_zeros = features[target == 0]\n",
    "    features_ones = features[target == 1]\n",
    "    target_zeros = target[target == 0]\n",
    "    target_ones = target[target == 1]\n",
    "\n",
    "    repeat = round(1 / coef)\n",
    "    features_upsampled = pd.concat([features_zeros] + [features_ones] * repeat)\n",
    "    target_upsampled = pd.concat([target_zeros] + [target_ones] * repeat)\n",
    "    features_upsampled, target_upsampled = shuffle(features_upsampled, target_upsampled, random_state=12345)\n",
    "    \n",
    "    return features_upsampled, target_upsampled\n",
    "\n",
    "features_upsampled, target_upsampled = upsample(features_train_ohe, target_train, coef)\n",
    "target_upsampled.value_counts()"
   ]
  },
  {
   "cell_type": "markdown",
   "metadata": {
    "id": "Idl7FcX-5mRy"
   },
   "source": [
    "В результате получили более близкое количество значений в каждом классе, подготовка данных завершена, можно приступать к обучению модели."
   ]
  },
  {
   "cell_type": "markdown",
   "metadata": {
    "colab": {
     "base_uri": "https://localhost:8080/",
     "height": 335
    },
    "id": "WJ39_EaOV5Jd",
    "outputId": "5c414099-6454-4f71-9bf8-04149f7a7d05"
   },
   "source": [
    "## Обучение моделей\n",
    "\n",
    "### Логистическая регрессия"
   ]
  },
  {
   "cell_type": "code",
   "execution_count": 43,
   "metadata": {
    "colab": {
     "base_uri": "https://localhost:8080/",
     "height": 335
    },
    "id": "WJ39_EaOV5Jd",
    "outputId": "5c414099-6454-4f71-9bf8-04149f7a7d05"
   },
   "outputs": [
    {
     "data": {
      "text/plain": [
       "{'C': 10}"
      ]
     },
     "execution_count": 43,
     "metadata": {},
     "output_type": "execute_result"
    }
   ],
   "source": [
    "param_grid = {'C': [0.001, 0.01, 0.1, 1, 10, 100, 1000] }\n",
    "model = LogisticRegression(solver='lbfgs', penalty='l2')\n",
    "grid = GridSearchCV(model, param_grid, cv=5, scoring='roc_auc')\n",
    "grid.fit(features_upsampled, target_upsampled)\n",
    "grid.best_params_"
   ]
  },
  {
   "cell_type": "code",
   "execution_count": 77,
   "metadata": {
    "colab": {
     "base_uri": "https://localhost:8080/",
     "height": 335
    },
    "id": "WJ39_EaOV5Jd",
    "outputId": "5c414099-6454-4f71-9bf8-04149f7a7d05"
   },
   "outputs": [
    {
     "data": {
      "text/plain": [
       "0.8522979639801006"
      ]
     },
     "execution_count": 77,
     "metadata": {},
     "output_type": "execute_result"
    }
   ],
   "source": [
    "model = LogisticRegression(solver='lbfgs', penalty='l2', C=10)\n",
    "model.fit(features_upsampled, target_upsampled)\n",
    "predict_true_probalities_lg = model.predict_proba(features_test_ohe)[:, 1]\n",
    "roc_auc_score(target_test, predict_true_probalities_lg)"
   ]
  },
  {
   "cell_type": "code",
   "execution_count": 63,
   "metadata": {
    "colab": {
     "base_uri": "https://localhost:8080/",
     "height": 335
    },
    "id": "WJ39_EaOV5Jd",
    "outputId": "5c414099-6454-4f71-9bf8-04149f7a7d05"
   },
   "outputs": [
    {
     "data": {
      "image/png": "[encoded data removed]",
      "text/plain": [
       "<Figure size 432x288 with 1 Axes>"
      ]
     },
     "metadata": {
      "needs_background": "light"
     },
     "output_type": "display_data"
    }
   ],
   "source": [
    "def make_roc_curve(target_test, predicted_test):\n",
    "    fpr, tpr, thresholds = roc_curve(target_test, predicted_test)\n",
    "\n",
    "    plt.figure()\n",
    "    plt.plot(fpr, tpr)\n",
    "    plt.plot([0, 1], [0, 1], linestyle='--')\n",
    "    plt.xlim([0.0, 1.0])\n",
    "    plt.ylim([0.0, 1.0])\n",
    "    plt.xlabel('False Positive Rate')\n",
    "    plt.ylabel('True Positive Rate')\n",
    "    plt.title('ROC-кривая')\n",
    "    plt.show()\n",
    "    \n",
    "make_roc_curve(target_test, predict_true_probalities_lg)"
   ]
  },
  {
   "cell_type": "markdown",
   "metadata": {
    "colab": {
     "base_uri": "https://localhost:8080/",
     "height": 335
    },
    "id": "WJ39_EaOV5Jd",
    "outputId": "5c414099-6454-4f71-9bf8-04149f7a7d05"
   },
   "source": [
    "Неплохой результат для логистической регрессии, но все равно еще далеко от желаемого результата более 0,88.\n",
    "\n",
    "### Случайный лес"
   ]
  },
  {
   "cell_type": "code",
   "execution_count": 45,
   "metadata": {
    "colab": {
     "base_uri": "https://localhost:8080/",
     "height": 335
    },
    "id": "WJ39_EaOV5Jd",
    "outputId": "5c414099-6454-4f71-9bf8-04149f7a7d05"
   },
   "outputs": [
    {
     "name": "stdout",
     "output_type": "stream",
     "text": [
      "CPU times: user 23min 21s, sys: 7.53 s, total: 23min 29s\n",
      "Wall time: 23min 30s\n"
     ]
    },
    {
     "data": {
      "text/plain": [
       "{'max_depth': 30,\n",
       " 'min_samples_leaf': 2,\n",
       " 'min_samples_split': 2,\n",
       " 'n_estimators': 100}"
      ]
     },
     "execution_count": 45,
     "metadata": {},
     "output_type": "execute_result"
    }
   ],
   "source": [
    "%%time\n",
    "\n",
    "param_grid = {\n",
    "    'max_depth': [2, 10, 20, 30, 40],\n",
    "    'min_samples_split': range(2, 11, 2),\n",
    "    'min_samples_leaf': range(2, 11, 2),\n",
    "    'n_estimators': range(50, 101, 10)\n",
    "}\n",
    "\n",
    "model = RandomForestClassifier(random_state=12345)\n",
    "\n",
    "grid_rfc = GridSearchCV(model, param_grid, cv=5, scoring='roc_auc')\n",
    "grid_rfc.fit(features_upsampled, target_upsampled)\n",
    "grid_rfc.best_params_"
   ]
  },
  {
   "cell_type": "code",
   "execution_count": 76,
   "metadata": {
    "colab": {
     "base_uri": "https://localhost:8080/",
     "height": 335
    },
    "id": "WJ39_EaOV5Jd",
    "outputId": "5c414099-6454-4f71-9bf8-04149f7a7d05"
   },
   "outputs": [
    {
     "data": {
      "text/plain": [
       "0.8737012802128684"
      ]
     },
     "execution_count": 76,
     "metadata": {},
     "output_type": "execute_result"
    }
   ],
   "source": [
    "model = RandomForestClassifier(random_state=12345, max_depth=30, min_samples_leaf=2, n_estimators=100, min_samples_split=2)\n",
    "model.fit(features_upsampled, target_upsampled)\n",
    "predict_true_probalities_rf = model.predict_proba(features_test_ohe)[:, 1]\n",
    "roc_auc_score(target_test, predict_true_probalities_rf)"
   ]
  },
  {
   "cell_type": "code",
   "execution_count": 65,
   "metadata": {
    "colab": {
     "base_uri": "https://localhost:8080/",
     "height": 335
    },
    "id": "WJ39_EaOV5Jd",
    "outputId": "5c414099-6454-4f71-9bf8-04149f7a7d05"
   },
   "outputs": [
    {
     "data": {
      "image/png": "[encoded data removed]",
      "text/plain": [
       "<Figure size 432x288 with 1 Axes>"
      ]
     },
     "metadata": {
      "needs_background": "light"
     },
     "output_type": "display_data"
    }
   ],
   "source": [
    "make_roc_curve(target_test, predict_true_probalities_rf)"
   ]
  },
  {
   "cell_type": "markdown",
   "metadata": {
    "colab": {
     "base_uri": "https://localhost:8080/",
     "height": 335
    },
    "id": "WJ39_EaOV5Jd",
    "outputId": "5c414099-6454-4f71-9bf8-04149f7a7d05"
   },
   "source": [
    "Уже лучше, на данный момент лучший результат.\n",
    "\n",
    "### Логистическая регрессия"
   ]
  },
  {
   "cell_type": "code",
   "execution_count": 47,
   "metadata": {
    "colab": {
     "base_uri": "https://localhost:8080/",
     "height": 335
    },
    "id": "WJ39_EaOV5Jd",
    "outputId": "5c414099-6454-4f71-9bf8-04149f7a7d05"
   },
   "outputs": [
    {
     "name": "stdout",
     "output_type": "stream",
     "text": [
      "CPU times: user 31.2 s, sys: 192 ms, total: 31.4 s\n",
      "Wall time: 31.5 s\n"
     ]
    },
    {
     "data": {
      "text/plain": [
       "{'criterion': 'entropy',\n",
       " 'max_depth': 41,\n",
       " 'min_samples_leaf': 4,\n",
       " 'min_samples_split': 14}"
      ]
     },
     "execution_count": 47,
     "metadata": {},
     "output_type": "execute_result"
    }
   ],
   "source": [
    "%%time\n",
    "\n",
    "param_grid = {\n",
    "    \"criterion\":[\"gini\", \"entropy\"],\n",
    "    \"max_depth\": (2, 41, 2),\n",
    "    \"min_samples_split\": range(2, 21, 2),\n",
    "    \"min_samples_leaf\": range(2, 11, 2)\n",
    "}\n",
    "\n",
    "model = DecisionTreeClassifier(random_state=12345)\n",
    "grid = GridSearchCV(model, param_grid, cv=5, scoring='roc_auc')\n",
    "grid.fit(features_upsampled, target_upsampled)\n",
    "grid.best_params_"
   ]
  },
  {
   "cell_type": "code",
   "execution_count": 67,
   "metadata": {
    "colab": {
     "base_uri": "https://localhost:8080/",
     "height": 335
    },
    "id": "WJ39_EaOV5Jd",
    "outputId": "5c414099-6454-4f71-9bf8-04149f7a7d05"
   },
   "outputs": [
    {
     "data": {
      "text/plain": [
       "0.7937048004099994"
      ]
     },
     "execution_count": 67,
     "metadata": {},
     "output_type": "execute_result"
    }
   ],
   "source": [
    "model = DecisionTreeClassifier(random_state=12345, criterion='entropy', max_depth=41, min_samples_split=14, min_samples_leaf=2)\n",
    "model.fit(features_upsampled, target_upsampled)\n",
    "predict_true_probalities_dt = model.predict_proba(features_test_ohe)[:, 1]\n",
    "roc_auc_score(target_test, predict_true_probalities_dt)"
   ]
  },
  {
   "cell_type": "code",
   "execution_count": 69,
   "metadata": {
    "colab": {
     "base_uri": "https://localhost:8080/",
     "height": 335
    },
    "id": "WJ39_EaOV5Jd",
    "outputId": "5c414099-6454-4f71-9bf8-04149f7a7d05"
   },
   "outputs": [
    {
     "data": {
      "image/png": "[encoded data removed]",
      "text/plain": [
       "<Figure size 432x288 with 1 Axes>"
      ]
     },
     "metadata": {
      "needs_background": "light"
     },
     "output_type": "display_data"
    }
   ],
   "source": [
    "make_roc_curve(target_test, predict_true_probalities_dt)"
   ]
  },
  {
   "cell_type": "markdown",
   "metadata": {
    "colab": {
     "base_uri": "https://localhost:8080/",
     "height": 335
    },
    "id": "WJ39_EaOV5Jd",
    "outputId": "5c414099-6454-4f71-9bf8-04149f7a7d05"
   },
   "source": [
    "Самый хучший результат у случайного дерево, но это не удивительно, модель проще чем случайный лес.\n",
    "\n",
    "### CatBoost"
   ]
  },
  {
   "cell_type": "code",
   "execution_count": 54,
   "metadata": {
    "colab": {
     "base_uri": "https://localhost:8080/",
     "height": 335
    },
    "id": "WJ39_EaOV5Jd",
    "outputId": "5c414099-6454-4f71-9bf8-04149f7a7d05"
   },
   "outputs": [
    {
     "name": "stdout",
     "output_type": "stream",
     "text": [
      "Fitting 3 folds for each of 18 candidates, totalling 54 fits\n",
      "CPU times: user 3min 17s, sys: 2.45 s, total: 3min 20s\n",
      "Wall time: 3min 53s\n"
     ]
    },
    {
     "data": {
      "text/plain": [
       "{'learning_rate': 0.1, 'max_depth': 10, 'n_estimators': 1000}"
      ]
     },
     "execution_count": 54,
     "metadata": {},
     "output_type": "execute_result"
    }
   ],
   "source": [
    "%%time\n",
    "CBC_model = CatBoostClassifier(random_state=12345, silent=True)\n",
    "\n",
    "parameters = {'learning_rate': [0.03, 0.1], 'max_depth': [0, 10, 2], 'n_estimators': [0, 1000, 100]}\n",
    "\n",
    "CBC_model_gscv = GridSearchCV(CBC_model, param_grid=parameters, scoring='roc_auc', \n",
    "                   cv=3, verbose=True, n_jobs=-1)\n",
    "CBC_model_gscv.fit(features_upsampled, target_upsampled)\n",
    "\n",
    "\n",
    "CBC_model_gscv.best_params_"
   ]
  },
  {
   "cell_type": "code",
   "execution_count": 74,
   "metadata": {
    "colab": {
     "base_uri": "https://localhost:8080/",
     "height": 335
    },
    "id": "WJ39_EaOV5Jd",
    "outputId": "5c414099-6454-4f71-9bf8-04149f7a7d05",
    "scrolled": true
   },
   "outputs": [
    {
     "name": "stdout",
     "output_type": "stream",
     "text": [
      "Learning rate set to 0.02584\n",
      "0:\ttotal: 22.8ms\tremaining: 22.8s\n",
      "100:\ttotal: 2.43s\tremaining: 21.6s\n",
      "200:\ttotal: 4.84s\tremaining: 19.2s\n",
      "300:\ttotal: 7.27s\tremaining: 16.9s\n",
      "400:\ttotal: 9.65s\tremaining: 14.4s\n",
      "500:\ttotal: 12.1s\tremaining: 12.1s\n",
      "600:\ttotal: 14.6s\tremaining: 9.7s\n",
      "700:\ttotal: 17.1s\tremaining: 7.28s\n",
      "800:\ttotal: 19.5s\tremaining: 4.84s\n",
      "900:\ttotal: 22s\tremaining: 2.41s\n",
      "999:\ttotal: 24.4s\tremaining: 0us\n",
      "CPU times: user 24.4 s, sys: 240 ms, total: 24.7 s\n",
      "Wall time: 26 s\n"
     ]
    },
    {
     "data": {
      "text/plain": [
       "0.9049520890816947"
      ]
     },
     "execution_count": 74,
     "metadata": {},
     "output_type": "execute_result"
    }
   ],
   "source": [
    "%%time\n",
    "\n",
    "model = CatBoostClassifier(max_depth=10, n_estimators=1000, eval_metric='AUC', random_seed=12345, verbose = 100)\n",
    "model.fit(features_upsampled, target_upsampled)\n",
    "predict_true_probalities_cb = model.predict_proba(features_test_ohe)[:, 1]\n",
    "roc_auc_score(target_test, predict_true_probalities_cb)"
   ]
  },
  {
   "cell_type": "code",
   "execution_count": 73,
   "metadata": {
    "colab": {
     "base_uri": "https://localhost:8080/",
     "height": 335
    },
    "id": "WJ39_EaOV5Jd",
    "outputId": "5c414099-6454-4f71-9bf8-04149f7a7d05"
   },
   "outputs": [
    {
     "data": {
      "image/png": "[encoded data removed]",
      "text/plain": [
       "<Figure size 432x288 with 1 Axes>"
      ]
     },
     "metadata": {
      "needs_background": "light"
     },
     "output_type": "display_data"
    }
   ],
   "source": [
    "make_roc_curve(target_test, predict_true_probalities_cb)"
   ]
  },
  {
   "cell_type": "markdown",
   "metadata": {
    "colab": {
     "base_uri": "https://localhost:8080/",
     "height": 335
    },
    "id": "WJ39_EaOV5Jd",
    "outputId": "5c414099-6454-4f71-9bf8-04149f7a7d05"
   },
   "source": [
    "Лучшая модель по показателю Roc-auc, площадь под auc кривой получилось равной 0.9049520890816947. \n",
    " \n",
    "## Вывод\n",
    "\n",
    "Ниже приведем список с результатами моделей:"
   ]
  },
  {
   "cell_type": "code",
   "execution_count": 79,
   "metadata": {
    "colab": {
     "base_uri": "https://localhost:8080/",
     "height": 335
    },
    "id": "WJ39_EaOV5Jd",
    "outputId": "5c414099-6454-4f71-9bf8-04149f7a7d05"
   },
   "outputs": [
    {
     "data": {
      "text/html": [
       "<div>\n",
       "<style scoped>\n",
       "    .dataframe tbody tr th:only-of-type {\n",
       "        vertical-align: middle;\n",
       "    }\n",
       "\n",
       "    .dataframe tbody tr th {\n",
       "        vertical-align: top;\n",
       "    }\n",
       "\n",
       "    .dataframe thead th {\n",
       "        text-align: right;\n",
       "    }\n",
       "</style>\n",
       "<table border=\"1\" class=\"dataframe\">\n",
       "  <thead>\n",
       "    <tr style=\"text-align: right;\">\n",
       "      <th></th>\n",
       "      <th>model</th>\n",
       "      <th>roc_auc</th>\n",
       "    </tr>\n",
       "  </thead>\n",
       "  <tbody>\n",
       "    <tr>\n",
       "      <th>1</th>\n",
       "      <td>LogisticRegression</td>\n",
       "      <td>0.852298</td>\n",
       "    </tr>\n",
       "    <tr>\n",
       "      <th>2</th>\n",
       "      <td>RandomForestClassifier</td>\n",
       "      <td>0.873701</td>\n",
       "    </tr>\n",
       "    <tr>\n",
       "      <th>3</th>\n",
       "      <td>DecisionTreeClassifier</td>\n",
       "      <td>0.793705</td>\n",
       "    </tr>\n",
       "    <tr>\n",
       "      <th>4</th>\n",
       "      <td>CatBoostClassifier</td>\n",
       "      <td>0.904952</td>\n",
       "    </tr>\n",
       "  </tbody>\n",
       "</table>\n",
       "</div>"
      ],
      "text/plain": [
       "                    model   roc_auc\n",
       "1      LogisticRegression  0.852298\n",
       "2  RandomForestClassifier  0.873701\n",
       "3  DecisionTreeClassifier  0.793705\n",
       "4      CatBoostClassifier  0.904952"
      ]
     },
     "execution_count": 79,
     "metadata": {},
     "output_type": "execute_result"
    }
   ],
   "source": [
    "total_result = pd.DataFrame(columns = ['model', 'roc_auc'])\n",
    "\n",
    "total_result.loc[1,'model'] = 'LogisticRegression'\n",
    "total_result.loc[1,'roc_auc'] = roc_auc_score(target_test, predict_true_probalities_lg)\n",
    "\n",
    "total_result.loc[2,'model'] = 'RandomForestClassifier'\n",
    "total_result.loc[2,'roc_auc'] = roc_auc_score(target_test, predict_true_probalities_rf)\n",
    "\n",
    "total_result.loc[3,'model'] = 'DecisionTreeClassifier'\n",
    "total_result.loc[3,'roc_auc'] = roc_auc_score(target_test, predict_true_probalities_dt)\n",
    "\n",
    "total_result.loc[4,'model'] = 'CatBoostClassifier'\n",
    "total_result.loc[4,'roc_auc'] = roc_auc_score(target_test, predict_true_probalities_cb)\n",
    "\n",
    "total_result"
   ]
  },
  {
   "cell_type": "markdown",
   "metadata": {
    "colab": {
     "base_uri": "https://localhost:8080/",
     "height": 335
    },
    "id": "WJ39_EaOV5Jd",
    "outputId": "5c414099-6454-4f71-9bf8-04149f7a7d05"
   },
   "source": [
    "Лучше моделью стала CatBoost, хотя что стало неожиданностью, так это то что случайный лес и логистическая регрессия показали хорошие результаты в целом почти достигнув желаемых 0,88. Далее приведем важность признаков для модели CatBoost:"
   ]
  },
  {
   "cell_type": "code",
   "execution_count": 80,
   "metadata": {
    "colab": {
     "base_uri": "https://localhost:8080/",
     "height": 335
    },
    "id": "WJ39_EaOV5Jd",
    "outputId": "5c414099-6454-4f71-9bf8-04149f7a7d05"
   },
   "outputs": [
    {
     "data": {
      "text/html": [
       "<div>\n",
       "<style scoped>\n",
       "    .dataframe tbody tr th:only-of-type {\n",
       "        vertical-align: middle;\n",
       "    }\n",
       "\n",
       "    .dataframe tbody tr th {\n",
       "        vertical-align: top;\n",
       "    }\n",
       "\n",
       "    .dataframe thead th {\n",
       "        text-align: right;\n",
       "    }\n",
       "</style>\n",
       "<table border=\"1\" class=\"dataframe\">\n",
       "  <thead>\n",
       "    <tr style=\"text-align: right;\">\n",
       "      <th></th>\n",
       "      <th>name</th>\n",
       "      <th>importance</th>\n",
       "    </tr>\n",
       "  </thead>\n",
       "  <tbody>\n",
       "    <tr>\n",
       "      <th>18</th>\n",
       "      <td>Period</td>\n",
       "      <td>26.934731</td>\n",
       "    </tr>\n",
       "    <tr>\n",
       "      <th>1</th>\n",
       "      <td>MonthlyCharges</td>\n",
       "      <td>9.180638</td>\n",
       "    </tr>\n",
       "    <tr>\n",
       "      <th>2</th>\n",
       "      <td>TotalCharges</td>\n",
       "      <td>8.203041</td>\n",
       "    </tr>\n",
       "    <tr>\n",
       "      <th>15</th>\n",
       "      <td>Male</td>\n",
       "      <td>5.140999</td>\n",
       "    </tr>\n",
       "    <tr>\n",
       "      <th>0</th>\n",
       "      <td>PaperlessBilling</td>\n",
       "      <td>4.084570</td>\n",
       "    </tr>\n",
       "    <tr>\n",
       "      <th>23</th>\n",
       "      <td>PaymentMethod_Electronic check</td>\n",
       "      <td>3.730239</td>\n",
       "    </tr>\n",
       "    <tr>\n",
       "      <th>4</th>\n",
       "      <td>Partner</td>\n",
       "      <td>3.708527</td>\n",
       "    </tr>\n",
       "    <tr>\n",
       "      <th>19</th>\n",
       "      <td>New</td>\n",
       "      <td>3.520591</td>\n",
       "    </tr>\n",
       "    <tr>\n",
       "      <th>17</th>\n",
       "      <td>NumofServices</td>\n",
       "      <td>3.333960</td>\n",
       "    </tr>\n",
       "    <tr>\n",
       "      <th>13</th>\n",
       "      <td>MultipleLines</td>\n",
       "      <td>2.974005</td>\n",
       "    </tr>\n",
       "    <tr>\n",
       "      <th>20</th>\n",
       "      <td>Type_One year</td>\n",
       "      <td>2.946678</td>\n",
       "    </tr>\n",
       "    <tr>\n",
       "      <th>3</th>\n",
       "      <td>SeniorCitizen</td>\n",
       "      <td>2.605430</td>\n",
       "    </tr>\n",
       "    <tr>\n",
       "      <th>7</th>\n",
       "      <td>OnlineBackup</td>\n",
       "      <td>2.465784</td>\n",
       "    </tr>\n",
       "    <tr>\n",
       "      <th>9</th>\n",
       "      <td>TechSupport</td>\n",
       "      <td>2.414469</td>\n",
       "    </tr>\n",
       "    <tr>\n",
       "      <th>6</th>\n",
       "      <td>OnlineSecurity</td>\n",
       "      <td>2.259898</td>\n",
       "    </tr>\n",
       "    <tr>\n",
       "      <th>5</th>\n",
       "      <td>Dependents</td>\n",
       "      <td>2.185635</td>\n",
       "    </tr>\n",
       "    <tr>\n",
       "      <th>22</th>\n",
       "      <td>PaymentMethod_Credit card (automatic)</td>\n",
       "      <td>1.995538</td>\n",
       "    </tr>\n",
       "    <tr>\n",
       "      <th>21</th>\n",
       "      <td>Type_Two year</td>\n",
       "      <td>1.909663</td>\n",
       "    </tr>\n",
       "    <tr>\n",
       "      <th>25</th>\n",
       "      <td>InternetService_Fiber optic</td>\n",
       "      <td>1.882150</td>\n",
       "    </tr>\n",
       "    <tr>\n",
       "      <th>8</th>\n",
       "      <td>DeviceProtection</td>\n",
       "      <td>1.810090</td>\n",
       "    </tr>\n",
       "    <tr>\n",
       "      <th>11</th>\n",
       "      <td>StreamingMovies</td>\n",
       "      <td>1.753443</td>\n",
       "    </tr>\n",
       "    <tr>\n",
       "      <th>24</th>\n",
       "      <td>PaymentMethod_Mailed check</td>\n",
       "      <td>1.491083</td>\n",
       "    </tr>\n",
       "    <tr>\n",
       "      <th>16</th>\n",
       "      <td>hasfamily</td>\n",
       "      <td>1.108711</td>\n",
       "    </tr>\n",
       "    <tr>\n",
       "      <th>10</th>\n",
       "      <td>StreamingTV</td>\n",
       "      <td>1.101133</td>\n",
       "    </tr>\n",
       "    <tr>\n",
       "      <th>14</th>\n",
       "      <td>phone</td>\n",
       "      <td>0.737002</td>\n",
       "    </tr>\n",
       "    <tr>\n",
       "      <th>26</th>\n",
       "      <td>InternetService_No</td>\n",
       "      <td>0.309600</td>\n",
       "    </tr>\n",
       "    <tr>\n",
       "      <th>12</th>\n",
       "      <td>internet</td>\n",
       "      <td>0.212392</td>\n",
       "    </tr>\n",
       "  </tbody>\n",
       "</table>\n",
       "</div>"
      ],
      "text/plain": [
       "                                     name  importance\n",
       "18                                 Period   26.934731\n",
       "1                          MonthlyCharges    9.180638\n",
       "2                            TotalCharges    8.203041\n",
       "15                                   Male    5.140999\n",
       "0                        PaperlessBilling    4.084570\n",
       "23         PaymentMethod_Electronic check    3.730239\n",
       "4                                 Partner    3.708527\n",
       "19                                    New    3.520591\n",
       "17                          NumofServices    3.333960\n",
       "13                          MultipleLines    2.974005\n",
       "20                          Type_One year    2.946678\n",
       "3                           SeniorCitizen    2.605430\n",
       "7                            OnlineBackup    2.465784\n",
       "9                             TechSupport    2.414469\n",
       "6                          OnlineSecurity    2.259898\n",
       "5                              Dependents    2.185635\n",
       "22  PaymentMethod_Credit card (automatic)    1.995538\n",
       "21                          Type_Two year    1.909663\n",
       "25            InternetService_Fiber optic    1.882150\n",
       "8                        DeviceProtection    1.810090\n",
       "11                        StreamingMovies    1.753443\n",
       "24             PaymentMethod_Mailed check    1.491083\n",
       "16                              hasfamily    1.108711\n",
       "10                            StreamingTV    1.101133\n",
       "14                                  phone    0.737002\n",
       "26                     InternetService_No    0.309600\n",
       "12                               internet    0.212392"
      ]
     },
     "execution_count": 80,
     "metadata": {},
     "output_type": "execute_result"
    }
   ],
   "source": [
    "features_train_importance = pd.DataFrame({'name' : features_upsampled.columns,\n",
    "                                          'importance' : CBC_model_gscv.best_estimator_.feature_importances_})\n",
    "features_train_importance = features_train_importance.sort_values('importance', ascending=False)\n",
    "features_train_importance"
   ]
  },
  {
   "cell_type": "markdown",
   "metadata": {
    "colab": {
     "base_uri": "https://localhost:8080/",
     "height": 335
    },
    "id": "WJ39_EaOV5Jd",
    "outputId": "5c414099-6454-4f71-9bf8-04149f7a7d05"
   },
   "source": [
    "Самым важным признаком ожидаемо стал период на протяжении которого клиент обслуживается в компании, ожидаемо, если клиент привык получать услуги в одном месте на протяжении долгого времени, то вряд ли он уйдет из компании и наоборот, новый клиент вероятнее уйдет из компании, если ему что-то не понравится или конкурент предоставит ему интересное предложение. Что более неожиданно модель оценила наличие телефона и интернета в списке услуг клиента в последней тройке, возможно доп услуги чаще влияют на присутствие клиента в компании. Так же советую компании обратить внимание на завышенные затраты клиентов которые ушли, так как судя по всему они платили больше чем те что остались, скорее всего нужно разработать индивидуальный тарифный план для них.\n"
   ]
  }
 ],
 "metadata": {
  "ExecuteTimeLog": [
   {
    "duration": 1618,
    "start_time": "2022-07-03T14:00:08.382Z"
   },
   {
    "duration": 121,
    "start_time": "2022-07-03T14:01:43.614Z"
   },
   {
    "duration": 256,
    "start_time": "2022-07-03T14:03:57.717Z"
   },
   {
    "duration": 74,
    "start_time": "2022-07-03T14:04:05.932Z"
   },
   {
    "duration": 4,
    "start_time": "2022-07-03T14:04:09.055Z"
   },
   {
    "duration": 97,
    "start_time": "2022-07-03T14:04:09.062Z"
   },
   {
    "duration": 20,
    "start_time": "2022-07-03T14:04:09.161Z"
   },
   {
    "duration": 13,
    "start_time": "2022-07-03T14:04:09.184Z"
   },
   {
    "duration": 29,
    "start_time": "2022-07-03T14:04:09.198Z"
   },
   {
    "duration": 13,
    "start_time": "2022-07-03T14:04:09.229Z"
   },
   {
    "duration": 16,
    "start_time": "2022-07-03T14:04:09.244Z"
   },
   {
    "duration": 22,
    "start_time": "2022-07-03T14:04:09.262Z"
   },
   {
    "duration": 42,
    "start_time": "2022-07-03T14:04:09.285Z"
   },
   {
    "duration": 16,
    "start_time": "2022-07-03T14:04:09.330Z"
   },
   {
    "duration": 16,
    "start_time": "2022-07-03T14:04:09.347Z"
   },
   {
    "duration": 22,
    "start_time": "2022-07-03T14:04:09.364Z"
   },
   {
    "duration": 18,
    "start_time": "2022-07-03T14:04:09.388Z"
   },
   {
    "duration": 30,
    "start_time": "2022-07-03T14:04:09.408Z"
   },
   {
    "duration": 21,
    "start_time": "2022-07-03T14:04:09.440Z"
   },
   {
    "duration": 21,
    "start_time": "2022-07-03T14:04:09.463Z"
   },
   {
    "duration": 44,
    "start_time": "2022-07-03T14:04:09.485Z"
   },
   {
    "duration": 31,
    "start_time": "2022-07-03T14:04:09.531Z"
   },
   {
    "duration": 64,
    "start_time": "2022-07-03T14:04:09.565Z"
   },
   {
    "duration": 23,
    "start_time": "2022-07-03T14:04:09.631Z"
   },
   {
    "duration": 13,
    "start_time": "2022-07-03T14:04:09.656Z"
   },
   {
    "duration": 245,
    "start_time": "2022-07-03T14:04:09.672Z"
   },
   {
    "duration": 536,
    "start_time": "2022-07-03T14:04:09.920Z"
   },
   {
    "duration": 18,
    "start_time": "2022-07-03T14:04:10.457Z"
   },
   {
    "duration": 370,
    "start_time": "2022-07-03T14:04:10.477Z"
   },
   {
    "duration": 5,
    "start_time": "2022-07-03T14:04:10.849Z"
   },
   {
    "duration": 33,
    "start_time": "2022-07-03T14:04:10.856Z"
   },
   {
    "duration": 33,
    "start_time": "2022-07-03T14:04:10.893Z"
   },
   {
    "duration": 23,
    "start_time": "2022-07-03T14:04:10.928Z"
   },
   {
    "duration": 4,
    "start_time": "2022-07-03T14:04:10.953Z"
   },
   {
    "duration": 195,
    "start_time": "2022-07-03T14:04:10.959Z"
   },
   {
    "duration": 7,
    "start_time": "2022-07-03T14:04:11.156Z"
   },
   {
    "duration": 18,
    "start_time": "2022-07-03T14:04:11.164Z"
   },
   {
    "duration": 856,
    "start_time": "2022-07-03T14:04:11.185Z"
   },
   {
    "duration": 3,
    "start_time": "2022-07-03T14:04:12.043Z"
   },
   {
    "duration": 537,
    "start_time": "2022-07-03T14:04:12.047Z"
   },
   {
    "duration": 17,
    "start_time": "2022-07-03T14:04:12.585Z"
   },
   {
    "duration": 29,
    "start_time": "2022-07-03T14:04:12.604Z"
   },
   {
    "duration": 17,
    "start_time": "2022-07-03T14:04:12.634Z"
   },
   {
    "duration": 18,
    "start_time": "2022-07-03T14:04:12.653Z"
   },
   {
    "duration": 20,
    "start_time": "2022-07-03T14:04:12.673Z"
   },
   {
    "duration": 40,
    "start_time": "2022-07-03T14:19:01.673Z"
   },
   {
    "duration": 4,
    "start_time": "2022-07-03T14:19:09.033Z"
   },
   {
    "duration": 27,
    "start_time": "2022-07-03T14:19:12.712Z"
   },
   {
    "duration": 23,
    "start_time": "2022-07-03T14:19:35.513Z"
   },
   {
    "duration": 11,
    "start_time": "2022-07-03T14:24:35.651Z"
   },
   {
    "duration": 6,
    "start_time": "2022-07-03T14:25:54.422Z"
   },
   {
    "duration": 203,
    "start_time": "2022-07-03T14:25:59.481Z"
   },
   {
    "duration": 62,
    "start_time": "2022-07-03T14:28:24.400Z"
   },
   {
    "duration": 1408,
    "start_time": "2022-07-03T14:29:07.564Z"
   },
   {
    "duration": 72,
    "start_time": "2022-07-03T14:29:08.973Z"
   },
   {
    "duration": 19,
    "start_time": "2022-07-03T14:29:09.046Z"
   },
   {
    "duration": 12,
    "start_time": "2022-07-03T14:29:09.067Z"
   },
   {
    "duration": 12,
    "start_time": "2022-07-03T14:29:09.081Z"
   },
   {
    "duration": 18,
    "start_time": "2022-07-03T14:29:09.095Z"
   },
   {
    "duration": 12,
    "start_time": "2022-07-03T14:29:09.126Z"
   },
   {
    "duration": 13,
    "start_time": "2022-07-03T14:29:09.139Z"
   },
   {
    "duration": 14,
    "start_time": "2022-07-03T14:29:09.153Z"
   },
   {
    "duration": 15,
    "start_time": "2022-07-03T14:29:09.169Z"
   },
   {
    "duration": 7,
    "start_time": "2022-07-03T14:29:09.185Z"
   },
   {
    "duration": 34,
    "start_time": "2022-07-03T14:29:09.193Z"
   },
   {
    "duration": 19,
    "start_time": "2022-07-03T14:29:09.229Z"
   },
   {
    "duration": 32,
    "start_time": "2022-07-03T14:29:09.250Z"
   },
   {
    "duration": 24,
    "start_time": "2022-07-03T14:29:09.284Z"
   },
   {
    "duration": 18,
    "start_time": "2022-07-03T14:29:09.310Z"
   },
   {
    "duration": 15,
    "start_time": "2022-07-03T14:29:09.330Z"
   },
   {
    "duration": 26,
    "start_time": "2022-07-03T14:29:09.347Z"
   },
   {
    "duration": 24,
    "start_time": "2022-07-03T14:29:09.374Z"
   },
   {
    "duration": 12,
    "start_time": "2022-07-03T14:29:09.425Z"
   },
   {
    "duration": 9,
    "start_time": "2022-07-03T14:29:09.439Z"
   },
   {
    "duration": 180,
    "start_time": "2022-07-03T14:29:09.450Z"
   },
   {
    "duration": 414,
    "start_time": "2022-07-03T14:29:09.631Z"
   },
   {
    "duration": 16,
    "start_time": "2022-07-03T14:29:10.047Z"
   },
   {
    "duration": 353,
    "start_time": "2022-07-03T14:29:10.065Z"
   },
   {
    "duration": 8,
    "start_time": "2022-07-03T14:29:10.420Z"
   },
   {
    "duration": 30,
    "start_time": "2022-07-03T14:29:10.429Z"
   },
   {
    "duration": 98,
    "start_time": "2022-07-03T14:29:10.460Z"
   },
   {
    "duration": 20,
    "start_time": "2022-07-03T14:29:10.559Z"
   },
   {
    "duration": 3,
    "start_time": "2022-07-03T14:29:10.581Z"
   },
   {
    "duration": 95,
    "start_time": "2022-07-03T14:29:10.585Z"
   },
   {
    "duration": 6,
    "start_time": "2022-07-03T14:29:10.681Z"
   },
   {
    "duration": 14,
    "start_time": "2022-07-03T14:29:10.688Z"
   },
   {
    "duration": 825,
    "start_time": "2022-07-03T14:29:10.704Z"
   },
   {
    "duration": 3,
    "start_time": "2022-07-03T14:29:11.531Z"
   },
   {
    "duration": 532,
    "start_time": "2022-07-03T14:29:11.536Z"
   },
   {
    "duration": 21,
    "start_time": "2022-07-03T14:29:12.070Z"
   },
   {
    "duration": 11,
    "start_time": "2022-07-03T14:29:12.094Z"
   },
   {
    "duration": 23,
    "start_time": "2022-07-03T14:29:12.106Z"
   },
   {
    "duration": 15,
    "start_time": "2022-07-03T14:29:12.130Z"
   },
   {
    "duration": 16,
    "start_time": "2022-07-03T14:29:12.148Z"
   },
   {
    "duration": 22,
    "start_time": "2022-07-03T14:29:12.165Z"
   },
   {
    "duration": 348,
    "start_time": "2022-07-03T14:29:12.188Z"
   },
   {
    "duration": 82,
    "start_time": "2022-07-03T14:30:04.823Z"
   },
   {
    "duration": 4,
    "start_time": "2022-07-03T14:30:11.981Z"
   },
   {
    "duration": 31,
    "start_time": "2022-07-03T14:31:13.115Z"
   },
   {
    "duration": 31,
    "start_time": "2022-07-03T14:32:52.627Z"
   },
   {
    "duration": 1440,
    "start_time": "2022-07-03T14:34:03.788Z"
   },
   {
    "duration": 82,
    "start_time": "2022-07-03T14:34:05.231Z"
   },
   {
    "duration": 20,
    "start_time": "2022-07-03T14:34:05.315Z"
   },
   {
    "duration": 16,
    "start_time": "2022-07-03T14:34:05.337Z"
   },
   {
    "duration": 17,
    "start_time": "2022-07-03T14:34:05.355Z"
   },
   {
    "duration": 16,
    "start_time": "2022-07-03T14:34:05.374Z"
   },
   {
    "duration": 21,
    "start_time": "2022-07-03T14:34:05.392Z"
   },
   {
    "duration": 16,
    "start_time": "2022-07-03T14:34:05.427Z"
   },
   {
    "duration": 12,
    "start_time": "2022-07-03T14:34:05.445Z"
   },
   {
    "duration": 17,
    "start_time": "2022-07-03T14:34:05.459Z"
   },
   {
    "duration": 13,
    "start_time": "2022-07-03T14:34:05.477Z"
   },
   {
    "duration": 34,
    "start_time": "2022-07-03T14:34:05.492Z"
   },
   {
    "duration": 11,
    "start_time": "2022-07-03T14:34:05.528Z"
   },
   {
    "duration": 10,
    "start_time": "2022-07-03T14:34:05.543Z"
   },
   {
    "duration": 32,
    "start_time": "2022-07-03T14:34:05.555Z"
   },
   {
    "duration": 47,
    "start_time": "2022-07-03T14:34:05.589Z"
   },
   {
    "duration": 18,
    "start_time": "2022-07-03T14:34:05.638Z"
   },
   {
    "duration": 48,
    "start_time": "2022-07-03T14:34:05.658Z"
   },
   {
    "duration": 34,
    "start_time": "2022-07-03T14:34:05.708Z"
   },
   {
    "duration": 13,
    "start_time": "2022-07-03T14:34:05.744Z"
   },
   {
    "duration": 8,
    "start_time": "2022-07-03T14:34:05.758Z"
   },
   {
    "duration": 192,
    "start_time": "2022-07-03T14:34:05.768Z"
   },
   {
    "duration": 481,
    "start_time": "2022-07-03T14:34:05.962Z"
   },
   {
    "duration": 17,
    "start_time": "2022-07-03T14:34:06.445Z"
   },
   {
    "duration": 350,
    "start_time": "2022-07-03T14:34:06.463Z"
   },
   {
    "duration": 16,
    "start_time": "2022-07-03T14:34:06.814Z"
   },
   {
    "duration": 24,
    "start_time": "2022-07-03T14:34:06.832Z"
   },
   {
    "duration": 112,
    "start_time": "2022-07-03T14:34:06.857Z"
   },
   {
    "duration": 23,
    "start_time": "2022-07-03T14:34:06.971Z"
   },
   {
    "duration": 4,
    "start_time": "2022-07-03T14:34:06.996Z"
   },
   {
    "duration": 127,
    "start_time": "2022-07-03T14:34:07.002Z"
   },
   {
    "duration": 8,
    "start_time": "2022-07-03T14:34:07.131Z"
   },
   {
    "duration": 15,
    "start_time": "2022-07-03T14:34:07.141Z"
   },
   {
    "duration": 923,
    "start_time": "2022-07-03T14:34:07.158Z"
   },
   {
    "duration": 3,
    "start_time": "2022-07-03T14:34:08.083Z"
   },
   {
    "duration": 557,
    "start_time": "2022-07-03T14:34:08.087Z"
   },
   {
    "duration": 15,
    "start_time": "2022-07-03T14:34:08.646Z"
   },
   {
    "duration": 6,
    "start_time": "2022-07-03T14:34:08.662Z"
   },
   {
    "duration": 13,
    "start_time": "2022-07-03T14:34:08.669Z"
   },
   {
    "duration": 17,
    "start_time": "2022-07-03T14:34:08.684Z"
   },
   {
    "duration": 22,
    "start_time": "2022-07-03T14:34:22.540Z"
   },
   {
    "duration": 25,
    "start_time": "2022-07-03T14:36:05.416Z"
   },
   {
    "duration": 23,
    "start_time": "2022-07-03T14:36:05.443Z"
   },
   {
    "duration": 25,
    "start_time": "2022-07-03T14:36:05.468Z"
   },
   {
    "duration": 6,
    "start_time": "2022-07-03T14:36:05.495Z"
   },
   {
    "duration": 827,
    "start_time": "2022-07-03T14:36:05.503Z"
   },
   {
    "duration": 0,
    "start_time": "2022-07-03T14:36:06.331Z"
   },
   {
    "duration": 27,
    "start_time": "2022-07-03T14:36:21.663Z"
   },
   {
    "duration": 17,
    "start_time": "2022-07-03T14:36:53.689Z"
   },
   {
    "duration": 6,
    "start_time": "2022-07-03T14:37:31.203Z"
   },
   {
    "duration": 10,
    "start_time": "2022-07-03T14:39:40.320Z"
   },
   {
    "duration": 12,
    "start_time": "2022-07-03T14:39:43.842Z"
   },
   {
    "duration": 1521,
    "start_time": "2022-07-03T14:40:08.157Z"
   },
   {
    "duration": 73,
    "start_time": "2022-07-03T14:40:09.679Z"
   },
   {
    "duration": 18,
    "start_time": "2022-07-03T14:40:09.753Z"
   },
   {
    "duration": 12,
    "start_time": "2022-07-03T14:40:09.773Z"
   },
   {
    "duration": 15,
    "start_time": "2022-07-03T14:40:09.787Z"
   },
   {
    "duration": 14,
    "start_time": "2022-07-03T14:40:09.803Z"
   },
   {
    "duration": 12,
    "start_time": "2022-07-03T14:40:09.825Z"
   },
   {
    "duration": 18,
    "start_time": "2022-07-03T14:40:09.839Z"
   },
   {
    "duration": 16,
    "start_time": "2022-07-03T14:40:09.858Z"
   },
   {
    "duration": 23,
    "start_time": "2022-07-03T14:40:09.877Z"
   },
   {
    "duration": 26,
    "start_time": "2022-07-03T14:40:09.902Z"
   },
   {
    "duration": 8,
    "start_time": "2022-07-03T14:40:09.930Z"
   },
   {
    "duration": 14,
    "start_time": "2022-07-03T14:40:09.940Z"
   },
   {
    "duration": 11,
    "start_time": "2022-07-03T14:40:09.956Z"
   },
   {
    "duration": 22,
    "start_time": "2022-07-03T14:40:09.969Z"
   },
   {
    "duration": 41,
    "start_time": "2022-07-03T14:40:09.993Z"
   },
   {
    "duration": 20,
    "start_time": "2022-07-03T14:40:10.036Z"
   },
   {
    "duration": 33,
    "start_time": "2022-07-03T14:40:10.058Z"
   },
   {
    "duration": 44,
    "start_time": "2022-07-03T14:40:10.093Z"
   },
   {
    "duration": 13,
    "start_time": "2022-07-03T14:40:10.138Z"
   },
   {
    "duration": 7,
    "start_time": "2022-07-03T14:40:10.152Z"
   },
   {
    "duration": 208,
    "start_time": "2022-07-03T14:40:10.161Z"
   },
   {
    "duration": 481,
    "start_time": "2022-07-03T14:40:10.371Z"
   },
   {
    "duration": 16,
    "start_time": "2022-07-03T14:40:10.855Z"
   },
   {
    "duration": 382,
    "start_time": "2022-07-03T14:40:10.873Z"
   },
   {
    "duration": 7,
    "start_time": "2022-07-03T14:40:11.257Z"
   },
   {
    "duration": 24,
    "start_time": "2022-07-03T14:40:11.269Z"
   },
   {
    "duration": 10,
    "start_time": "2022-07-03T14:40:11.297Z"
   },
   {
    "duration": 23,
    "start_time": "2022-07-03T14:40:11.309Z"
   },
   {
    "duration": 4,
    "start_time": "2022-07-03T14:40:11.333Z"
   },
   {
    "duration": 181,
    "start_time": "2022-07-03T14:40:11.340Z"
   },
   {
    "duration": 9,
    "start_time": "2022-07-03T14:40:11.523Z"
   },
   {
    "duration": 16,
    "start_time": "2022-07-03T14:40:11.534Z"
   },
   {
    "duration": 805,
    "start_time": "2022-07-03T14:40:11.551Z"
   },
   {
    "duration": 4,
    "start_time": "2022-07-03T14:40:12.357Z"
   },
   {
    "duration": 577,
    "start_time": "2022-07-03T14:40:12.362Z"
   },
   {
    "duration": 21,
    "start_time": "2022-07-03T14:40:12.941Z"
   },
   {
    "duration": 5,
    "start_time": "2022-07-03T14:40:12.964Z"
   },
   {
    "duration": 12,
    "start_time": "2022-07-03T14:40:12.971Z"
   },
   {
    "duration": 15,
    "start_time": "2022-07-03T14:40:12.985Z"
   },
   {
    "duration": 41,
    "start_time": "2022-07-03T14:40:13.002Z"
   },
   {
    "duration": 22,
    "start_time": "2022-07-03T14:40:13.045Z"
   },
   {
    "duration": 6,
    "start_time": "2022-07-03T14:40:13.069Z"
   },
   {
    "duration": 827,
    "start_time": "2022-07-03T14:40:13.076Z"
   },
   {
    "duration": 0,
    "start_time": "2022-07-03T14:40:13.906Z"
   },
   {
    "duration": 13,
    "start_time": "2022-07-03T14:40:21.761Z"
   },
   {
    "duration": 5,
    "start_time": "2022-07-03T14:43:35.914Z"
   },
   {
    "duration": 16,
    "start_time": "2022-07-03T14:43:59.445Z"
   },
   {
    "duration": 6,
    "start_time": "2022-07-03T14:44:11.892Z"
   },
   {
    "duration": 5,
    "start_time": "2022-07-03T14:44:19.168Z"
   },
   {
    "duration": 5,
    "start_time": "2022-07-03T14:44:50.315Z"
   },
   {
    "duration": 6,
    "start_time": "2022-07-03T14:45:11.152Z"
   },
   {
    "duration": 6,
    "start_time": "2022-07-03T14:45:16.641Z"
   },
   {
    "duration": 4,
    "start_time": "2022-07-03T14:45:21.773Z"
   },
   {
    "duration": 914,
    "start_time": "2022-07-03T14:45:27.349Z"
   },
   {
    "duration": 6,
    "start_time": "2022-07-03T14:45:30.272Z"
   },
   {
    "duration": 6,
    "start_time": "2022-07-03T14:45:36.373Z"
   },
   {
    "duration": 6,
    "start_time": "2022-07-03T14:45:42.240Z"
   },
   {
    "duration": 5,
    "start_time": "2022-07-03T14:45:49.664Z"
   },
   {
    "duration": 5,
    "start_time": "2022-07-03T14:45:58.752Z"
   },
   {
    "duration": 4,
    "start_time": "2022-07-03T14:46:04.688Z"
   },
   {
    "duration": 6,
    "start_time": "2022-07-03T14:46:10.870Z"
   },
   {
    "duration": 4,
    "start_time": "2022-07-03T14:46:20.815Z"
   },
   {
    "duration": 6,
    "start_time": "2022-07-03T14:46:27.989Z"
   },
   {
    "duration": 862,
    "start_time": "2022-07-03T14:46:34.347Z"
   },
   {
    "duration": 6,
    "start_time": "2022-07-03T14:46:39.251Z"
   },
   {
    "duration": 8,
    "start_time": "2022-07-03T14:46:45.215Z"
   },
   {
    "duration": 5,
    "start_time": "2022-07-03T14:46:53.553Z"
   },
   {
    "duration": 6,
    "start_time": "2022-07-03T14:47:01.683Z"
   },
   {
    "duration": 4,
    "start_time": "2022-07-03T14:47:11.290Z"
   },
   {
    "duration": 4,
    "start_time": "2022-07-03T14:49:40.803Z"
   },
   {
    "duration": 65,
    "start_time": "2022-07-03T14:49:49.607Z"
   },
   {
    "duration": 21,
    "start_time": "2022-07-03T14:49:52.894Z"
   },
   {
    "duration": 723,
    "start_time": "2022-07-03T14:51:09.698Z"
   },
   {
    "duration": 57,
    "start_time": "2022-07-03T14:53:17.393Z"
   },
   {
    "duration": 1401089,
    "start_time": "2022-07-03T14:53:27.311Z"
   },
   {
    "duration": 803,
    "start_time": "2022-07-03T15:18:08.380Z"
   },
   {
    "duration": 36231,
    "start_time": "2022-07-03T15:19:20.596Z"
   },
   {
    "duration": 1507,
    "start_time": "2022-07-03T15:20:09.621Z"
   },
   {
    "duration": 2552,
    "start_time": "2022-07-03T15:20:34.276Z"
   },
   {
    "duration": 58,
    "start_time": "2022-07-03T15:21:28.599Z"
   },
   {
    "duration": 70252,
    "start_time": "2022-07-03T15:21:42.295Z"
   },
   {
    "duration": 79,
    "start_time": "2022-07-03T15:23:28.104Z"
   },
   {
    "duration": 33998,
    "start_time": "2022-07-03T15:23:35.344Z"
   },
   {
    "duration": 11,
    "start_time": "2022-07-03T15:24:25.338Z"
   },
   {
    "duration": 16,
    "start_time": "2022-07-03T15:24:37.083Z"
   },
   {
    "duration": 69,
    "start_time": "2022-07-03T15:24:45.258Z"
   },
   {
    "duration": 63,
    "start_time": "2022-07-03T15:27:23.111Z"
   },
   {
    "duration": 56,
    "start_time": "2022-07-03T15:27:35.381Z"
   },
   {
    "duration": 71,
    "start_time": "2022-07-03T15:28:15.025Z"
   },
   {
    "duration": 4,
    "start_time": "2022-07-03T15:33:49.082Z"
   },
   {
    "duration": 11,
    "start_time": "2022-07-03T15:34:05.248Z"
   },
   {
    "duration": 6,
    "start_time": "2022-07-03T15:34:32.119Z"
   },
   {
    "duration": 58,
    "start_time": "2022-07-03T15:34:48.796Z"
   },
   {
    "duration": 66,
    "start_time": "2022-07-03T15:35:01.002Z"
   },
   {
    "duration": 51,
    "start_time": "2022-07-03T15:35:46.298Z"
   },
   {
    "duration": 53,
    "start_time": "2022-07-03T15:35:49.127Z"
   },
   {
    "duration": 646,
    "start_time": "2022-07-03T15:40:16.255Z"
   },
   {
    "duration": 7906,
    "start_time": "2022-07-03T15:40:57.285Z"
   },
   {
    "duration": 1599,
    "start_time": "2022-07-04T03:55:30.761Z"
   },
   {
    "duration": 205,
    "start_time": "2022-07-04T03:55:32.362Z"
   },
   {
    "duration": 20,
    "start_time": "2022-07-04T03:55:32.569Z"
   },
   {
    "duration": 14,
    "start_time": "2022-07-04T03:55:32.590Z"
   },
   {
    "duration": 15,
    "start_time": "2022-07-04T03:55:32.607Z"
   },
   {
    "duration": 14,
    "start_time": "2022-07-04T03:55:32.624Z"
   },
   {
    "duration": 14,
    "start_time": "2022-07-04T03:55:32.640Z"
   },
   {
    "duration": 14,
    "start_time": "2022-07-04T03:55:32.657Z"
   },
   {
    "duration": 13,
    "start_time": "2022-07-04T03:55:32.672Z"
   },
   {
    "duration": 13,
    "start_time": "2022-07-04T03:55:32.687Z"
   },
   {
    "duration": 27,
    "start_time": "2022-07-04T03:55:32.702Z"
   },
   {
    "duration": 8,
    "start_time": "2022-07-04T03:55:32.731Z"
   },
   {
    "duration": 12,
    "start_time": "2022-07-04T03:55:32.741Z"
   },
   {
    "duration": 9,
    "start_time": "2022-07-04T03:55:32.757Z"
   },
   {
    "duration": 20,
    "start_time": "2022-07-04T03:55:32.768Z"
   },
   {
    "duration": 53,
    "start_time": "2022-07-04T03:55:32.790Z"
   },
   {
    "duration": 24,
    "start_time": "2022-07-04T03:55:32.845Z"
   },
   {
    "duration": 26,
    "start_time": "2022-07-04T03:55:32.871Z"
   },
   {
    "duration": 49,
    "start_time": "2022-07-04T03:55:32.899Z"
   },
   {
    "duration": 16,
    "start_time": "2022-07-04T03:55:32.949Z"
   },
   {
    "duration": 7,
    "start_time": "2022-07-04T03:55:32.967Z"
   },
   {
    "duration": 188,
    "start_time": "2022-07-04T03:55:32.976Z"
   },
   {
    "duration": 479,
    "start_time": "2022-07-04T03:55:33.166Z"
   },
   {
    "duration": 16,
    "start_time": "2022-07-04T03:55:33.647Z"
   },
   {
    "duration": 387,
    "start_time": "2022-07-04T03:55:33.664Z"
   },
   {
    "duration": 5,
    "start_time": "2022-07-04T03:55:34.052Z"
   },
   {
    "duration": 16,
    "start_time": "2022-07-04T03:55:34.059Z"
   },
   {
    "duration": 83,
    "start_time": "2022-07-04T03:55:34.077Z"
   },
   {
    "duration": 19,
    "start_time": "2022-07-04T03:55:34.162Z"
   },
   {
    "duration": 5,
    "start_time": "2022-07-04T03:55:34.183Z"
   },
   {
    "duration": 103,
    "start_time": "2022-07-04T03:55:34.190Z"
   },
   {
    "duration": 5,
    "start_time": "2022-07-04T03:55:34.295Z"
   },
   {
    "duration": 11,
    "start_time": "2022-07-04T03:55:34.302Z"
   },
   {
    "duration": 776,
    "start_time": "2022-07-04T03:55:34.314Z"
   },
   {
    "duration": 3,
    "start_time": "2022-07-04T03:55:35.091Z"
   },
   {
    "duration": 524,
    "start_time": "2022-07-04T03:55:35.096Z"
   },
   {
    "duration": 15,
    "start_time": "2022-07-04T03:55:35.622Z"
   },
   {
    "duration": 8,
    "start_time": "2022-07-04T03:55:35.639Z"
   },
   {
    "duration": 28,
    "start_time": "2022-07-04T03:55:35.648Z"
   },
   {
    "duration": 30,
    "start_time": "2022-07-04T03:55:35.678Z"
   },
   {
    "duration": 18,
    "start_time": "2022-07-04T03:55:35.711Z"
   },
   {
    "duration": 21,
    "start_time": "2022-07-04T03:55:35.731Z"
   },
   {
    "duration": 26287,
    "start_time": "2022-07-04T03:55:35.754Z"
   },
   {
    "duration": 1000,
    "start_time": "2022-07-04T03:56:02.128Z"
   },
   {
    "duration": 1410161,
    "start_time": "2022-07-04T03:56:03.130Z"
   },
   {
    "duration": 812,
    "start_time": "2022-07-04T04:19:33.292Z"
   },
   {
    "duration": 31488,
    "start_time": "2022-07-04T04:19:34.106Z"
   },
   {
    "duration": 68,
    "start_time": "2022-07-04T04:20:05.596Z"
   },
   {
    "duration": 2,
    "start_time": "2022-07-04T04:20:05.665Z"
   },
   {
    "duration": 48,
    "start_time": "2022-07-04T04:20:05.671Z"
   },
   {
    "duration": 8190,
    "start_time": "2022-07-04T04:20:05.727Z"
   },
   {
    "duration": 5,
    "start_time": "2022-07-04T04:26:01.794Z"
   },
   {
    "duration": 583307,
    "start_time": "2022-07-04T04:26:23.720Z"
   },
   {
    "duration": 233289,
    "start_time": "2022-07-04T04:45:16.058Z"
   },
   {
    "duration": 134,
    "start_time": "2022-07-04T04:56:07.642Z"
   },
   {
    "duration": 13,
    "start_time": "2022-07-04T04:56:23.576Z"
   },
   {
    "duration": 900,
    "start_time": "2022-07-04T04:56:56.199Z"
   },
   {
    "duration": 23234,
    "start_time": "2022-07-04T04:57:11.587Z"
   },
   {
    "duration": 27021,
    "start_time": "2022-07-04T04:57:56.590Z"
   },
   {
    "duration": 137,
    "start_time": "2022-07-04T05:00:09.621Z"
   },
   {
    "duration": 146,
    "start_time": "2022-07-04T05:00:55.250Z"
   },
   {
    "duration": 3562,
    "start_time": "2022-07-04T05:01:38.493Z"
   },
   {
    "duration": 127,
    "start_time": "2022-07-04T05:01:47.055Z"
   },
   {
    "duration": 856,
    "start_time": "2022-07-04T05:02:04.112Z"
   },
   {
    "duration": 148,
    "start_time": "2022-07-04T05:02:08.904Z"
   },
   {
    "duration": 55,
    "start_time": "2022-07-04T05:02:54.953Z"
   },
   {
    "duration": 66,
    "start_time": "2022-07-04T05:03:01.499Z"
   },
   {
    "duration": 157,
    "start_time": "2022-07-04T05:03:14.656Z"
   },
   {
    "duration": 149,
    "start_time": "2022-07-04T05:03:19.224Z"
   },
   {
    "duration": 27427,
    "start_time": "2022-07-04T05:03:36.887Z"
   },
   {
    "duration": 11,
    "start_time": "2022-07-04T05:04:09.582Z"
   },
   {
    "duration": 28368,
    "start_time": "2022-07-04T05:04:32.090Z"
   },
   {
    "duration": 129,
    "start_time": "2022-07-04T05:05:02.919Z"
   },
   {
    "duration": 26050,
    "start_time": "2022-07-04T05:05:32.615Z"
   },
   {
    "duration": 4021,
    "start_time": "2022-07-04T05:21:11.410Z"
   },
   {
    "duration": 837,
    "start_time": "2022-07-04T05:22:29.441Z"
   },
   {
    "duration": 2908,
    "start_time": "2022-07-04T05:22:31.134Z"
   },
   {
    "duration": 24,
    "start_time": "2022-07-04T05:23:35.886Z"
   },
   {
    "duration": 20,
    "start_time": "2022-07-04T05:23:52.955Z"
   },
   {
    "duration": 12,
    "start_time": "2022-07-04T05:28:45.998Z"
   },
   {
    "duration": 1657,
    "start_time": "2022-07-04T05:48:53.525Z"
   },
   {
    "duration": 15,
    "start_time": "2022-07-04T05:51:08.309Z"
   },
   {
    "duration": 3037,
    "start_time": "2022-07-05T15:18:17.513Z"
   },
   {
    "duration": 71,
    "start_time": "2022-07-05T15:18:20.552Z"
   },
   {
    "duration": 19,
    "start_time": "2022-07-05T15:18:42.830Z"
   },
   {
    "duration": 13,
    "start_time": "2022-07-05T15:18:43.579Z"
   },
   {
    "duration": 13,
    "start_time": "2022-07-05T15:18:44.182Z"
   },
   {
    "duration": 21,
    "start_time": "2022-07-05T15:18:44.796Z"
   },
   {
    "duration": 17,
    "start_time": "2022-07-05T15:18:45.390Z"
   },
   {
    "duration": 10,
    "start_time": "2022-07-05T15:18:45.644Z"
   },
   {
    "duration": 14,
    "start_time": "2022-07-05T15:18:45.993Z"
   },
   {
    "duration": 10,
    "start_time": "2022-07-05T15:18:46.417Z"
   },
   {
    "duration": 7,
    "start_time": "2022-07-05T15:18:47.056Z"
   },
   {
    "duration": 11,
    "start_time": "2022-07-05T15:18:47.598Z"
   },
   {
    "duration": 9,
    "start_time": "2022-07-05T15:18:48.244Z"
   },
   {
    "duration": 8,
    "start_time": "2022-07-05T15:18:48.714Z"
   },
   {
    "duration": 20,
    "start_time": "2022-07-05T15:21:15.714Z"
   },
   {
    "duration": 17,
    "start_time": "2022-07-05T15:21:16.890Z"
   },
   {
    "duration": 17,
    "start_time": "2022-07-05T15:21:17.108Z"
   },
   {
    "duration": 26,
    "start_time": "2022-07-05T15:21:18.397Z"
   },
   {
    "duration": 28,
    "start_time": "2022-07-05T15:22:02.417Z"
   },
   {
    "duration": 13,
    "start_time": "2022-07-05T15:22:37.745Z"
   },
   {
    "duration": 6,
    "start_time": "2022-07-05T15:22:41.239Z"
   },
   {
    "duration": 166,
    "start_time": "2022-07-05T15:22:55.487Z"
   },
   {
    "duration": 479,
    "start_time": "2022-07-05T15:23:24.351Z"
   },
   {
    "duration": 12,
    "start_time": "2022-07-05T15:23:30.676Z"
   },
   {
    "duration": 362,
    "start_time": "2022-07-05T15:23:31.478Z"
   },
   {
    "duration": 5,
    "start_time": "2022-07-05T15:23:32.528Z"
   },
   {
    "duration": 17,
    "start_time": "2022-07-05T15:23:32.694Z"
   },
   {
    "duration": 11,
    "start_time": "2022-07-05T15:23:33.036Z"
   },
   {
    "duration": 21,
    "start_time": "2022-07-05T15:23:34.041Z"
   },
   {
    "duration": 3,
    "start_time": "2022-07-05T15:23:34.985Z"
   },
   {
    "duration": 176,
    "start_time": "2022-07-05T15:23:35.545Z"
   },
   {
    "duration": 6,
    "start_time": "2022-07-05T15:23:36.290Z"
   },
   {
    "duration": 3,
    "start_time": "2022-07-05T15:23:36.872Z"
   },
   {
    "duration": 824,
    "start_time": "2022-07-05T15:23:37.061Z"
   },
   {
    "duration": 3,
    "start_time": "2022-07-05T15:23:38.074Z"
   },
   {
    "duration": 565,
    "start_time": "2022-07-05T15:23:38.397Z"
   },
   {
    "duration": 21,
    "start_time": "2022-07-05T15:23:38.965Z"
   },
   {
    "duration": 7,
    "start_time": "2022-07-05T15:23:39.056Z"
   },
   {
    "duration": 13,
    "start_time": "2022-07-05T15:23:41.284Z"
   },
   {
    "duration": 18,
    "start_time": "2022-07-05T15:23:42.879Z"
   }
  ],
  "colab": {
   "collapsed_sections": [],
   "name": "Untitled2.ipynb",
   "provenance": []
  },
  "kernelspec": {
   "display_name": "Python 3 (ipykernel)",
   "language": "python",
   "name": "python3"
  },
  "language_info": {
   "codemirror_mode": {
    "name": "ipython",
    "version": 3
   },
   "file_extension": ".py",
   "mimetype": "text/x-python",
   "name": "python",
   "nbconvert_exporter": "python",
   "pygments_lexer": "ipython3",
   "version": "3.10.5"
  },
  "toc": {
   "base_numbering": 1,
   "nav_menu": {},
   "number_sections": true,
   "sideBar": true,
   "skip_h1_title": true,
   "title_cell": "Table of Contents",
   "title_sidebar": "Contents",
   "toc_cell": false,
   "toc_position": {},
   "toc_section_display": true,
   "toc_window_display": false
  }
 },
 "nbformat": 4,
 "nbformat_minor": 1
}
