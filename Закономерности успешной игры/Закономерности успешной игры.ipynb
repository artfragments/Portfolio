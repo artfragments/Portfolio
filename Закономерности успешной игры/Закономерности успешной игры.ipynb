{
 "cells": [
  {
   "cell_type": "markdown",
   "metadata": {},
   "source": [
    "# Выявление закономерностей определяющих успешность игры"
   ]
  },
  {
   "cell_type": "markdown",
   "metadata": {},
   "source": [
    "Интернет-магазин «Стримчик» продаёт по всему миру компьютерные игры, организации нужно выявить определяющие успешность игры закономерности, что позволит сделать ставку на потенциально популярный продукт и спланировать рекламные кампании. Из открытых источников доступны исторические данные по 2016 год.\n",
    "\n",
    "Анализ данных будет проведен в несколько этапов:\n",
    "* Изучение данных\n",
    "* Предобработка данных\n",
    "* Анализ данных\n",
    "* Изучение пользователей каждого региона\n",
    "* Проверка гипотез\n",
    "* Общий вывод"
   ]
  },
  {
   "cell_type": "markdown",
   "metadata": {},
   "source": [
    "## Изучение данных"
   ]
  },
  {
   "cell_type": "markdown",
   "metadata": {},
   "source": [
    "Импортируем все необходимые в дальнешей работе библиотеки в следующей ячейке:"
   ]
  },
  {
   "cell_type": "code",
   "execution_count": 114,
   "metadata": {},
   "outputs": [],
   "source": [
    "import pandas as pd\n",
    "import numpy as np\n",
    "import matplotlib.pyplot as plt\n",
    "from scipy.stats import levene\n",
    "from scipy import stats as st"
   ]
  },
  {
   "cell_type": "markdown",
   "metadata": {},
   "source": [
    "Прочтем файл взятый для анализа:"
   ]
  },
  {
   "cell_type": "code",
   "execution_count": 115,
   "metadata": {},
   "outputs": [
    {
     "data": {
      "text/html": [
       "<div>\n",
       "<style scoped>\n",
       "    .dataframe tbody tr th:only-of-type {\n",
       "        vertical-align: middle;\n",
       "    }\n",
       "\n",
       "    .dataframe tbody tr th {\n",
       "        vertical-align: top;\n",
       "    }\n",
       "\n",
       "    .dataframe thead th {\n",
       "        text-align: right;\n",
       "    }\n",
       "</style>\n",
       "<table border=\"1\" class=\"dataframe\">\n",
       "  <thead>\n",
       "    <tr style=\"text-align: right;\">\n",
       "      <th></th>\n",
       "      <th>Name</th>\n",
       "      <th>Platform</th>\n",
       "      <th>Year_of_Release</th>\n",
       "      <th>Genre</th>\n",
       "      <th>NA_sales</th>\n",
       "      <th>EU_sales</th>\n",
       "      <th>JP_sales</th>\n",
       "      <th>Other_sales</th>\n",
       "      <th>Critic_Score</th>\n",
       "      <th>User_Score</th>\n",
       "      <th>Rating</th>\n",
       "    </tr>\n",
       "  </thead>\n",
       "  <tbody>\n",
       "    <tr>\n",
       "      <td>0</td>\n",
       "      <td>Wii Sports</td>\n",
       "      <td>Wii</td>\n",
       "      <td>2006.0</td>\n",
       "      <td>Sports</td>\n",
       "      <td>41.36</td>\n",
       "      <td>28.96</td>\n",
       "      <td>3.77</td>\n",
       "      <td>8.45</td>\n",
       "      <td>76.0</td>\n",
       "      <td>8</td>\n",
       "      <td>E</td>\n",
       "    </tr>\n",
       "    <tr>\n",
       "      <td>1</td>\n",
       "      <td>Super Mario Bros.</td>\n",
       "      <td>NES</td>\n",
       "      <td>1985.0</td>\n",
       "      <td>Platform</td>\n",
       "      <td>29.08</td>\n",
       "      <td>3.58</td>\n",
       "      <td>6.81</td>\n",
       "      <td>0.77</td>\n",
       "      <td>NaN</td>\n",
       "      <td>NaN</td>\n",
       "      <td>NaN</td>\n",
       "    </tr>\n",
       "    <tr>\n",
       "      <td>2</td>\n",
       "      <td>Mario Kart Wii</td>\n",
       "      <td>Wii</td>\n",
       "      <td>2008.0</td>\n",
       "      <td>Racing</td>\n",
       "      <td>15.68</td>\n",
       "      <td>12.76</td>\n",
       "      <td>3.79</td>\n",
       "      <td>3.29</td>\n",
       "      <td>82.0</td>\n",
       "      <td>8.3</td>\n",
       "      <td>E</td>\n",
       "    </tr>\n",
       "    <tr>\n",
       "      <td>3</td>\n",
       "      <td>Wii Sports Resort</td>\n",
       "      <td>Wii</td>\n",
       "      <td>2009.0</td>\n",
       "      <td>Sports</td>\n",
       "      <td>15.61</td>\n",
       "      <td>10.93</td>\n",
       "      <td>3.28</td>\n",
       "      <td>2.95</td>\n",
       "      <td>80.0</td>\n",
       "      <td>8</td>\n",
       "      <td>E</td>\n",
       "    </tr>\n",
       "    <tr>\n",
       "      <td>4</td>\n",
       "      <td>Pokemon Red/Pokemon Blue</td>\n",
       "      <td>GB</td>\n",
       "      <td>1996.0</td>\n",
       "      <td>Role-Playing</td>\n",
       "      <td>11.27</td>\n",
       "      <td>8.89</td>\n",
       "      <td>10.22</td>\n",
       "      <td>1.00</td>\n",
       "      <td>NaN</td>\n",
       "      <td>NaN</td>\n",
       "      <td>NaN</td>\n",
       "    </tr>\n",
       "    <tr>\n",
       "      <td>...</td>\n",
       "      <td>...</td>\n",
       "      <td>...</td>\n",
       "      <td>...</td>\n",
       "      <td>...</td>\n",
       "      <td>...</td>\n",
       "      <td>...</td>\n",
       "      <td>...</td>\n",
       "      <td>...</td>\n",
       "      <td>...</td>\n",
       "      <td>...</td>\n",
       "      <td>...</td>\n",
       "    </tr>\n",
       "    <tr>\n",
       "      <td>16710</td>\n",
       "      <td>Samurai Warriors: Sanada Maru</td>\n",
       "      <td>PS3</td>\n",
       "      <td>2016.0</td>\n",
       "      <td>Action</td>\n",
       "      <td>0.00</td>\n",
       "      <td>0.00</td>\n",
       "      <td>0.01</td>\n",
       "      <td>0.00</td>\n",
       "      <td>NaN</td>\n",
       "      <td>NaN</td>\n",
       "      <td>NaN</td>\n",
       "    </tr>\n",
       "    <tr>\n",
       "      <td>16711</td>\n",
       "      <td>LMA Manager 2007</td>\n",
       "      <td>X360</td>\n",
       "      <td>2006.0</td>\n",
       "      <td>Sports</td>\n",
       "      <td>0.00</td>\n",
       "      <td>0.01</td>\n",
       "      <td>0.00</td>\n",
       "      <td>0.00</td>\n",
       "      <td>NaN</td>\n",
       "      <td>NaN</td>\n",
       "      <td>NaN</td>\n",
       "    </tr>\n",
       "    <tr>\n",
       "      <td>16712</td>\n",
       "      <td>Haitaka no Psychedelica</td>\n",
       "      <td>PSV</td>\n",
       "      <td>2016.0</td>\n",
       "      <td>Adventure</td>\n",
       "      <td>0.00</td>\n",
       "      <td>0.00</td>\n",
       "      <td>0.01</td>\n",
       "      <td>0.00</td>\n",
       "      <td>NaN</td>\n",
       "      <td>NaN</td>\n",
       "      <td>NaN</td>\n",
       "    </tr>\n",
       "    <tr>\n",
       "      <td>16713</td>\n",
       "      <td>Spirits &amp; Spells</td>\n",
       "      <td>GBA</td>\n",
       "      <td>2003.0</td>\n",
       "      <td>Platform</td>\n",
       "      <td>0.01</td>\n",
       "      <td>0.00</td>\n",
       "      <td>0.00</td>\n",
       "      <td>0.00</td>\n",
       "      <td>NaN</td>\n",
       "      <td>NaN</td>\n",
       "      <td>NaN</td>\n",
       "    </tr>\n",
       "    <tr>\n",
       "      <td>16714</td>\n",
       "      <td>Winning Post 8 2016</td>\n",
       "      <td>PSV</td>\n",
       "      <td>2016.0</td>\n",
       "      <td>Simulation</td>\n",
       "      <td>0.00</td>\n",
       "      <td>0.00</td>\n",
       "      <td>0.01</td>\n",
       "      <td>0.00</td>\n",
       "      <td>NaN</td>\n",
       "      <td>NaN</td>\n",
       "      <td>NaN</td>\n",
       "    </tr>\n",
       "  </tbody>\n",
       "</table>\n",
       "<p>16715 rows × 11 columns</p>\n",
       "</div>"
      ],
      "text/plain": [
       "                                Name Platform  Year_of_Release         Genre  \\\n",
       "0                         Wii Sports      Wii           2006.0        Sports   \n",
       "1                  Super Mario Bros.      NES           1985.0      Platform   \n",
       "2                     Mario Kart Wii      Wii           2008.0        Racing   \n",
       "3                  Wii Sports Resort      Wii           2009.0        Sports   \n",
       "4           Pokemon Red/Pokemon Blue       GB           1996.0  Role-Playing   \n",
       "...                              ...      ...              ...           ...   \n",
       "16710  Samurai Warriors: Sanada Maru      PS3           2016.0        Action   \n",
       "16711               LMA Manager 2007     X360           2006.0        Sports   \n",
       "16712        Haitaka no Psychedelica      PSV           2016.0     Adventure   \n",
       "16713               Spirits & Spells      GBA           2003.0      Platform   \n",
       "16714            Winning Post 8 2016      PSV           2016.0    Simulation   \n",
       "\n",
       "       NA_sales  EU_sales  JP_sales  Other_sales  Critic_Score User_Score  \\\n",
       "0         41.36     28.96      3.77         8.45          76.0          8   \n",
       "1         29.08      3.58      6.81         0.77           NaN        NaN   \n",
       "2         15.68     12.76      3.79         3.29          82.0        8.3   \n",
       "3         15.61     10.93      3.28         2.95          80.0          8   \n",
       "4         11.27      8.89     10.22         1.00           NaN        NaN   \n",
       "...         ...       ...       ...          ...           ...        ...   \n",
       "16710      0.00      0.00      0.01         0.00           NaN        NaN   \n",
       "16711      0.00      0.01      0.00         0.00           NaN        NaN   \n",
       "16712      0.00      0.00      0.01         0.00           NaN        NaN   \n",
       "16713      0.01      0.00      0.00         0.00           NaN        NaN   \n",
       "16714      0.00      0.00      0.01         0.00           NaN        NaN   \n",
       "\n",
       "      Rating  \n",
       "0          E  \n",
       "1        NaN  \n",
       "2          E  \n",
       "3          E  \n",
       "4        NaN  \n",
       "...      ...  \n",
       "16710    NaN  \n",
       "16711    NaN  \n",
       "16712    NaN  \n",
       "16713    NaN  \n",
       "16714    NaN  \n",
       "\n",
       "[16715 rows x 11 columns]"
      ]
     },
     "execution_count": 115,
     "metadata": {},
     "output_type": "execute_result"
    }
   ],
   "source": [
    "df = pd.read_csv('/datasets/games.csv')\n",
    "df"
   ]
  },
  {
   "cell_type": "code",
   "execution_count": 116,
   "metadata": {},
   "outputs": [
    {
     "name": "stdout",
     "output_type": "stream",
     "text": [
      "<class 'pandas.core.frame.DataFrame'>\n",
      "RangeIndex: 16715 entries, 0 to 16714\n",
      "Data columns (total 11 columns):\n",
      "Name               16713 non-null object\n",
      "Platform           16715 non-null object\n",
      "Year_of_Release    16446 non-null float64\n",
      "Genre              16713 non-null object\n",
      "NA_sales           16715 non-null float64\n",
      "EU_sales           16715 non-null float64\n",
      "JP_sales           16715 non-null float64\n",
      "Other_sales        16715 non-null float64\n",
      "Critic_Score       8137 non-null float64\n",
      "User_Score         10014 non-null object\n",
      "Rating             9949 non-null object\n",
      "dtypes: float64(6), object(5)\n",
      "memory usage: 1.4+ MB\n"
     ]
    }
   ],
   "source": [
    "df.info()"
   ]
  },
  {
   "cell_type": "markdown",
   "metadata": {},
   "source": [
    "При первом взгляде на датасет можно заметить, что название столбцов нужно привести к одному регистру, поменять тип данных в столбце Year_of_Release и заполнить пропусти. Так же возможно часть данных придется убрать, так как они предоставлены за всю историю, но какое-то время индустрия находилась в зачатке и было много провальных платформ, которые из за небольшого распространения ограничивали продажи игр, а следовательно лишь повредят анализу."
   ]
  },
  {
   "cell_type": "markdown",
   "metadata": {},
   "source": [
    "## Предобработка данных"
   ]
  },
  {
   "cell_type": "markdown",
   "metadata": {},
   "source": [
    "В этом шаге исправим в датасете следующее:\n",
    "* преобраузем названия столбцов в один регистр;\n",
    "* отбросим NaN значения в столбцах year_of_release, name, их количество от общего датасета составляет 1.6%, так что их отсутствие не повредит, а заполнить их медиальными значениями не получится,  пропуски здесь возникли скорее всего по причине простой ошибки или на начальной стадии ведения базы данных заполнение полей было свободным;\n",
    "* сменим тип данных в столбце year_of_release на int;\n",
    "* заменим значения NaN в столбцах critic_score, user_score и rating на более удобные для чтения;\n",
    "* добавим столбец с продажами по всему миру;"
   ]
  },
  {
   "cell_type": "code",
   "execution_count": 117,
   "metadata": {},
   "outputs": [
    {
     "data": {
      "text/plain": [
       "tbd    2376\n",
       "7.8     322\n",
       "8       285\n",
       "8.2     276\n",
       "8.3     252\n",
       "       ... \n",
       "0.5       2\n",
       "0.6       2\n",
       "0.9       2\n",
       "0         1\n",
       "9.7       1\n",
       "Name: user_score, Length: 96, dtype: int64"
      ]
     },
     "execution_count": 117,
     "metadata": {},
     "output_type": "execute_result"
    }
   ],
   "source": [
    "df = df.rename(columns = {'Name':'name', 'Platform': 'platform', 'Year_of_Release': 'year_of_release', 'Genre': 'genre', 'NA_sales': 'na_sales', 'EU_sales': 'eu_sales', 'JP_sales': 'jp_sales', 'Other_sales': 'other_sales', 'Critic_Score': 'critic_score', 'User_Score': 'user_score', 'Rating': 'rating'})\n",
    "df = df.dropna(subset=['year_of_release', 'name'])\n",
    "df['year_of_release'] = df['year_of_release'].astype('int')\n",
    "df['user_score'].value_counts()"
   ]
  },
  {
   "cell_type": "markdown",
   "metadata": {},
   "source": [
    "В столбцу user_score есть значение tbd оно расшифровывается как To Be Determined то есть будет определено позже, скорее всего пользователи начали играть в игру, собирались поставить оценку, но по какой-то причине не заполнили поле, заменим эти значения на NaN, чтобы позже заменить на более удобные значения, затем заменим тип данных всех оценок:"
   ]
  },
  {
   "cell_type": "code",
   "execution_count": 118,
   "metadata": {},
   "outputs": [
    {
     "name": "stdout",
     "output_type": "stream",
     "text": [
      "<class 'pandas.core.frame.DataFrame'>\n",
      "Int64Index: 16444 entries, 0 to 16714\n",
      "Data columns (total 11 columns):\n",
      "name               16444 non-null object\n",
      "platform           16444 non-null object\n",
      "year_of_release    16444 non-null int64\n",
      "genre              16444 non-null object\n",
      "na_sales           16444 non-null float64\n",
      "eu_sales           16444 non-null float64\n",
      "jp_sales           16444 non-null float64\n",
      "other_sales        16444 non-null float64\n",
      "critic_score       7983 non-null float64\n",
      "user_score         7463 non-null float64\n",
      "rating             9768 non-null object\n",
      "dtypes: float64(6), int64(1), object(4)\n",
      "memory usage: 1.5+ MB\n"
     ]
    }
   ],
   "source": [
    "df['user_score'] = df['user_score'].replace('tbd', np.nan)\n",
    "df['user_score'] = df['user_score'].astype('float')\n",
    "df.info()"
   ]
  },
  {
   "cell_type": "markdown",
   "metadata": {},
   "source": [
    "Остались значения NaN в столбцах critic_score, user_score, rating, возможно заполнить их медианными значениями по каждой платформе помогло бы, но на практике это бы исказило данные, так как таких значений будет больше половины, результаты приблизятся к медианным, лучшим решением в данном случае будет заполнить эти ячейки значениями, которые легко будет отбросить для дальнейшего анализа. Так же скорее всего эти пропуски возникли, потому что эти игры не оценивались по причине того что не имели рекламы или просто были ужасного качества, последний вариант на мой взгляд вероятнее, так как объективно плохие игры пользователи всегда стараются обходить стороной и ставить им медианные значения будет неправильно."
   ]
  },
  {
   "cell_type": "code",
   "execution_count": 119,
   "metadata": {},
   "outputs": [
    {
     "name": "stdout",
     "output_type": "stream",
     "text": [
      "<class 'pandas.core.frame.DataFrame'>\n",
      "Int64Index: 16444 entries, 0 to 16714\n",
      "Data columns (total 11 columns):\n",
      "name               16444 non-null object\n",
      "platform           16444 non-null object\n",
      "year_of_release    16444 non-null int64\n",
      "genre              16444 non-null object\n",
      "na_sales           16444 non-null float64\n",
      "eu_sales           16444 non-null float64\n",
      "jp_sales           16444 non-null float64\n",
      "other_sales        16444 non-null float64\n",
      "critic_score       16444 non-null object\n",
      "user_score         16444 non-null object\n",
      "rating             16444 non-null object\n",
      "dtypes: float64(4), int64(1), object(6)\n",
      "memory usage: 1.5+ MB\n"
     ]
    }
   ],
   "source": [
    "df['critic_score'] = df['critic_score'].fillna(value='no score')\n",
    "df['user_score'] = df['user_score'].fillna(value='no score')\n",
    "df['rating'] = df['rating'].fillna(value='not rated')\n",
    "df.info()"
   ]
  },
  {
   "cell_type": "markdown",
   "metadata": {},
   "source": [
    "Пропусков в данных нет. Создадим так же столбец с суммарными продажами всех регионов:"
   ]
  },
  {
   "cell_type": "code",
   "execution_count": 120,
   "metadata": {},
   "outputs": [],
   "source": [
    "df['sales_all'] = df['na_sales'] + df['eu_sales'] + df['jp_sales'] + df['other_sales']"
   ]
  },
  {
   "cell_type": "markdown",
   "metadata": {},
   "source": [
    "**Вывод** В результате предобработки данных:\n",
    "* tbd заменен на NaN в столбце user_score;\n",
    "* убраны NaN в year_of_release, name;\n",
    "* заменены все значения NaN в столбцах rating, user_score, critic_score;\n",
    "* изменен тип данных в столбцах user_score, year_of_release;\n",
    "* добавлен нвоый столбец sales_all с общемировыми продажами игр. \n",
    "\n",
    "Теперь можно приступить к анализу и проверке гипотез."
   ]
  },
  {
   "cell_type": "markdown",
   "metadata": {},
   "source": [
    "## Анализ данных"
   ]
  },
  {
   "cell_type": "markdown",
   "metadata": {},
   "source": [
    "В этом шаге будут произведены следующие исследования:\n",
    "* Анализ данных на актуальность;\n",
    "* Анализ актуальных платформ;\n",
    "* Анализ диапозонов продаж платформ;\n",
    "* Анализ оценок пользователей и критиков;\n",
    "* Анализ игр по жанрам\n",
    "\n",
    "### Анализ данных на актуальность"
   ]
  },
  {
   "cell_type": "markdown",
   "metadata": {},
   "source": [
    "\n",
    "Возможно вся база данных нам не нужна, игровая индустрия как и любая другая в начале своего существования была хаотична, лучше будет взглянуть на количество игр по годам:"
   ]
  },
  {
   "cell_type": "code",
   "execution_count": 121,
   "metadata": {},
   "outputs": [
    {
     "data": {
      "text/plain": [
       "2008    1427\n",
       "2009    1426\n",
       "2010    1255\n",
       "2007    1197\n",
       "2011    1136\n",
       "2006    1006\n",
       "2005     939\n",
       "2002     829\n",
       "2003     775\n",
       "2004     762\n",
       "2012     653\n",
       "2015     606\n",
       "2014     581\n",
       "2013     544\n",
       "2016     502\n",
       "2001     482\n",
       "1998     379\n",
       "2000     350\n",
       "1999     338\n",
       "1997     289\n",
       "1996     263\n",
       "1995     219\n",
       "1994     121\n",
       "1993      60\n",
       "1981      46\n",
       "1992      43\n",
       "1991      41\n",
       "1982      36\n",
       "1986      21\n",
       "1983      17\n",
       "1989      17\n",
       "1987      16\n",
       "1990      16\n",
       "1988      15\n",
       "1984      14\n",
       "1985      14\n",
       "1980       9\n",
       "Name: year_of_release, dtype: int64"
      ]
     },
     "execution_count": 121,
     "metadata": {},
     "output_type": "execute_result"
    }
   ],
   "source": [
    "df['year_of_release'].value_counts()"
   ]
  },
  {
   "cell_type": "code",
   "execution_count": 122,
   "metadata": {},
   "outputs": [
    {
     "data": {
      "text/plain": [
       "<matplotlib.axes._subplots.AxesSubplot at 0x7f32e2130610>"
      ]
     },
     "execution_count": 122,
     "metadata": {},
     "output_type": "execute_result"
    },
    {
     "data": {
      "image/png": "[encoded data removed]",
      "text/plain": [
       "<Figure size 432x288 with 1 Axes>"
      ]
     },
     "metadata": {
      "needs_background": "light"
     },
     "output_type": "display_data"
    }
   ],
   "source": [
    "df.groupby('year_of_release')['name'].count().plot()"
   ]
  },
  {
   "cell_type": "markdown",
   "metadata": {},
   "source": [
    "Свяше 100 игр в год начали выпускать с 1994.\n",
    "\n",
    "Для актуализации возможно стоит проанализаировать платформы. Посмотрим продажи по платформам:"
   ]
  },
  {
   "cell_type": "code",
   "execution_count": 123,
   "metadata": {},
   "outputs": [
    {
     "data": {
      "text/html": [
       "<div>\n",
       "<style scoped>\n",
       "    .dataframe tbody tr th:only-of-type {\n",
       "        vertical-align: middle;\n",
       "    }\n",
       "\n",
       "    .dataframe tbody tr th {\n",
       "        vertical-align: top;\n",
       "    }\n",
       "\n",
       "    .dataframe thead th {\n",
       "        text-align: right;\n",
       "    }\n",
       "</style>\n",
       "<table border=\"1\" class=\"dataframe\">\n",
       "  <thead>\n",
       "    <tr style=\"text-align: right;\">\n",
       "      <th></th>\n",
       "      <th>platform</th>\n",
       "      <th>sales_all</th>\n",
       "    </tr>\n",
       "  </thead>\n",
       "  <tbody>\n",
       "    <tr>\n",
       "      <td>0</td>\n",
       "      <td>PS2</td>\n",
       "      <td>1233.56</td>\n",
       "    </tr>\n",
       "    <tr>\n",
       "      <td>1</td>\n",
       "      <td>X360</td>\n",
       "      <td>961.24</td>\n",
       "    </tr>\n",
       "    <tr>\n",
       "      <td>2</td>\n",
       "      <td>PS3</td>\n",
       "      <td>931.34</td>\n",
       "    </tr>\n",
       "    <tr>\n",
       "      <td>3</td>\n",
       "      <td>Wii</td>\n",
       "      <td>891.18</td>\n",
       "    </tr>\n",
       "    <tr>\n",
       "      <td>4</td>\n",
       "      <td>DS</td>\n",
       "      <td>802.78</td>\n",
       "    </tr>\n",
       "    <tr>\n",
       "      <td>5</td>\n",
       "      <td>PS</td>\n",
       "      <td>727.58</td>\n",
       "    </tr>\n",
       "    <tr>\n",
       "      <td>6</td>\n",
       "      <td>PS4</td>\n",
       "      <td>314.14</td>\n",
       "    </tr>\n",
       "    <tr>\n",
       "      <td>7</td>\n",
       "      <td>GBA</td>\n",
       "      <td>312.88</td>\n",
       "    </tr>\n",
       "    <tr>\n",
       "      <td>8</td>\n",
       "      <td>PSP</td>\n",
       "      <td>289.53</td>\n",
       "    </tr>\n",
       "    <tr>\n",
       "      <td>9</td>\n",
       "      <td>3DS</td>\n",
       "      <td>257.81</td>\n",
       "    </tr>\n",
       "    <tr>\n",
       "      <td>10</td>\n",
       "      <td>PC</td>\n",
       "      <td>255.76</td>\n",
       "    </tr>\n",
       "    <tr>\n",
       "      <td>11</td>\n",
       "      <td>GB</td>\n",
       "      <td>254.43</td>\n",
       "    </tr>\n",
       "    <tr>\n",
       "      <td>12</td>\n",
       "      <td>XB</td>\n",
       "      <td>251.57</td>\n",
       "    </tr>\n",
       "    <tr>\n",
       "      <td>13</td>\n",
       "      <td>NES</td>\n",
       "      <td>251.05</td>\n",
       "    </tr>\n",
       "    <tr>\n",
       "      <td>14</td>\n",
       "      <td>N64</td>\n",
       "      <td>218.01</td>\n",
       "    </tr>\n",
       "    <tr>\n",
       "      <td>15</td>\n",
       "      <td>SNES</td>\n",
       "      <td>200.04</td>\n",
       "    </tr>\n",
       "    <tr>\n",
       "      <td>16</td>\n",
       "      <td>GC</td>\n",
       "      <td>196.73</td>\n",
       "    </tr>\n",
       "    <tr>\n",
       "      <td>17</td>\n",
       "      <td>XOne</td>\n",
       "      <td>159.32</td>\n",
       "    </tr>\n",
       "    <tr>\n",
       "      <td>18</td>\n",
       "      <td>2600</td>\n",
       "      <td>86.48</td>\n",
       "    </tr>\n",
       "    <tr>\n",
       "      <td>19</td>\n",
       "      <td>WiiU</td>\n",
       "      <td>82.19</td>\n",
       "    </tr>\n",
       "    <tr>\n",
       "      <td>20</td>\n",
       "      <td>PSV</td>\n",
       "      <td>53.81</td>\n",
       "    </tr>\n",
       "    <tr>\n",
       "      <td>21</td>\n",
       "      <td>SAT</td>\n",
       "      <td>33.59</td>\n",
       "    </tr>\n",
       "    <tr>\n",
       "      <td>22</td>\n",
       "      <td>GEN</td>\n",
       "      <td>28.35</td>\n",
       "    </tr>\n",
       "    <tr>\n",
       "      <td>23</td>\n",
       "      <td>DC</td>\n",
       "      <td>15.95</td>\n",
       "    </tr>\n",
       "    <tr>\n",
       "      <td>24</td>\n",
       "      <td>SCD</td>\n",
       "      <td>1.86</td>\n",
       "    </tr>\n",
       "    <tr>\n",
       "      <td>25</td>\n",
       "      <td>NG</td>\n",
       "      <td>1.44</td>\n",
       "    </tr>\n",
       "    <tr>\n",
       "      <td>26</td>\n",
       "      <td>WS</td>\n",
       "      <td>1.42</td>\n",
       "    </tr>\n",
       "    <tr>\n",
       "      <td>27</td>\n",
       "      <td>TG16</td>\n",
       "      <td>0.16</td>\n",
       "    </tr>\n",
       "    <tr>\n",
       "      <td>28</td>\n",
       "      <td>3DO</td>\n",
       "      <td>0.10</td>\n",
       "    </tr>\n",
       "    <tr>\n",
       "      <td>29</td>\n",
       "      <td>GG</td>\n",
       "      <td>0.04</td>\n",
       "    </tr>\n",
       "    <tr>\n",
       "      <td>30</td>\n",
       "      <td>PCFX</td>\n",
       "      <td>0.03</td>\n",
       "    </tr>\n",
       "  </tbody>\n",
       "</table>\n",
       "</div>"
      ],
      "text/plain": [
       "   platform  sales_all\n",
       "0       PS2    1233.56\n",
       "1      X360     961.24\n",
       "2       PS3     931.34\n",
       "3       Wii     891.18\n",
       "4        DS     802.78\n",
       "5        PS     727.58\n",
       "6       PS4     314.14\n",
       "7       GBA     312.88\n",
       "8       PSP     289.53\n",
       "9       3DS     257.81\n",
       "10       PC     255.76\n",
       "11       GB     254.43\n",
       "12       XB     251.57\n",
       "13      NES     251.05\n",
       "14      N64     218.01\n",
       "15     SNES     200.04\n",
       "16       GC     196.73\n",
       "17     XOne     159.32\n",
       "18     2600      86.48\n",
       "19     WiiU      82.19\n",
       "20      PSV      53.81\n",
       "21      SAT      33.59\n",
       "22      GEN      28.35\n",
       "23       DC      15.95\n",
       "24      SCD       1.86\n",
       "25       NG       1.44\n",
       "26       WS       1.42\n",
       "27     TG16       0.16\n",
       "28      3DO       0.10\n",
       "29       GG       0.04\n",
       "30     PCFX       0.03"
      ]
     },
     "execution_count": 123,
     "metadata": {},
     "output_type": "execute_result"
    }
   ],
   "source": [
    "df.pivot_table(index = 'platform', values = ['sales_all'], aggfunc = 'sum').sort_values(by='sales_all', ascending=False).reset_index()\n",
    "# создадим сводную таблицу с данными продаж по платформам"
   ]
  },
  {
   "cell_type": "markdown",
   "metadata": {},
   "source": [
    "Для анализа лучше будет взять первые 5 платформ лидеров, построим график продаж по годам по каждой:"
   ]
  },
  {
   "cell_type": "code",
   "execution_count": 124,
   "metadata": {},
   "outputs": [
    {
     "data": {
      "image/png": "[encoded data removed]",
      "text/plain": [
       "<Figure size 432x288 with 1 Axes>"
      ]
     },
     "metadata": {
      "needs_background": "light"
     },
     "output_type": "display_data"
    }
   ],
   "source": [
    "for platform in ['PS2', 'X360', 'PS3', 'Wii', 'DS']:\n",
    "    df[df['platform'] == platform].groupby('year_of_release')['sales_all'].sum().plot(label=platform)\n",
    "plt.legend()\n",
    "plt.title('Продажи игр на платформах по годам')\n",
    "plt.show()"
   ]
  },
  {
   "cell_type": "markdown",
   "metadata": {},
   "source": [
    "На графике видно, что в среднем пиковые продажи наблюдатся со второго года жизни по пятый, так же что срок жизни одной платформы 10 лет. Для того чтобы проанализировать когда одно поколение сменяет другое построим график для семейства платформ Playstation:"
   ]
  },
  {
   "cell_type": "code",
   "execution_count": 125,
   "metadata": {},
   "outputs": [
    {
     "data": {
      "image/png": "[encoded data removed]",
      "text/plain": [
       "<Figure size 432x288 with 1 Axes>"
      ]
     },
     "metadata": {
      "needs_background": "light"
     },
     "output_type": "display_data"
    }
   ],
   "source": [
    "for platform in ['PS2', 'PS3', 'PS', 'PS4']:\n",
    "    df[df['platform'] == platform].groupby('year_of_release')['sales_all'].sum().plot(label=platform)\n",
    "plt.legend()\n",
    "plt.title('Продажи игр на платформах Playstation по годам')\n",
    "plt.show()"
   ]
  },
  {
   "cell_type": "markdown",
   "metadata": {},
   "source": [
    "Судя по графику одно поколение сменяет другое примерно каждые 6 лет. \n",
    "\n",
    "По итогам анализа считаю, что актуальными являются данные за последние 3 года, так как будет учтено текущее поколение консолей PS4 и XOne, которые судя по графику вышли в 2013 году, это позволит нам учесть максимально актуальные данные."
   ]
  },
  {
   "cell_type": "code",
   "execution_count": 126,
   "metadata": {},
   "outputs": [],
   "source": [
    "df = df.query('year_of_release >= 2013')"
   ]
  },
  {
   "cell_type": "markdown",
   "metadata": {},
   "source": [
    "Данные актуализированы."
   ]
  },
  {
   "cell_type": "markdown",
   "metadata": {},
   "source": [
    "### Анализ актуальных платформ"
   ]
  },
  {
   "cell_type": "markdown",
   "metadata": {},
   "source": [
    "Выберим платформы для анализа по прадажам игр."
   ]
  },
  {
   "cell_type": "code",
   "execution_count": 127,
   "metadata": {},
   "outputs": [
    {
     "data": {
      "text/html": [
       "<div>\n",
       "<style scoped>\n",
       "    .dataframe tbody tr th:only-of-type {\n",
       "        vertical-align: middle;\n",
       "    }\n",
       "\n",
       "    .dataframe tbody tr th {\n",
       "        vertical-align: top;\n",
       "    }\n",
       "\n",
       "    .dataframe thead th {\n",
       "        text-align: right;\n",
       "    }\n",
       "</style>\n",
       "<table border=\"1\" class=\"dataframe\">\n",
       "  <thead>\n",
       "    <tr style=\"text-align: right;\">\n",
       "      <th></th>\n",
       "      <th>platform</th>\n",
       "      <th>sales_all</th>\n",
       "    </tr>\n",
       "  </thead>\n",
       "  <tbody>\n",
       "    <tr>\n",
       "      <td>0</td>\n",
       "      <td>PS4</td>\n",
       "      <td>314.14</td>\n",
       "    </tr>\n",
       "    <tr>\n",
       "      <td>1</td>\n",
       "      <td>PS3</td>\n",
       "      <td>181.43</td>\n",
       "    </tr>\n",
       "    <tr>\n",
       "      <td>2</td>\n",
       "      <td>XOne</td>\n",
       "      <td>159.32</td>\n",
       "    </tr>\n",
       "    <tr>\n",
       "      <td>3</td>\n",
       "      <td>3DS</td>\n",
       "      <td>143.25</td>\n",
       "    </tr>\n",
       "    <tr>\n",
       "      <td>4</td>\n",
       "      <td>X360</td>\n",
       "      <td>136.80</td>\n",
       "    </tr>\n",
       "    <tr>\n",
       "      <td>5</td>\n",
       "      <td>WiiU</td>\n",
       "      <td>64.63</td>\n",
       "    </tr>\n",
       "    <tr>\n",
       "      <td>6</td>\n",
       "      <td>PC</td>\n",
       "      <td>39.43</td>\n",
       "    </tr>\n",
       "    <tr>\n",
       "      <td>7</td>\n",
       "      <td>PSV</td>\n",
       "      <td>32.99</td>\n",
       "    </tr>\n",
       "    <tr>\n",
       "      <td>8</td>\n",
       "      <td>Wii</td>\n",
       "      <td>13.66</td>\n",
       "    </tr>\n",
       "    <tr>\n",
       "      <td>9</td>\n",
       "      <td>PSP</td>\n",
       "      <td>3.50</td>\n",
       "    </tr>\n",
       "    <tr>\n",
       "      <td>10</td>\n",
       "      <td>DS</td>\n",
       "      <td>1.54</td>\n",
       "    </tr>\n",
       "  </tbody>\n",
       "</table>\n",
       "</div>"
      ],
      "text/plain": [
       "   platform  sales_all\n",
       "0       PS4     314.14\n",
       "1       PS3     181.43\n",
       "2      XOne     159.32\n",
       "3       3DS     143.25\n",
       "4      X360     136.80\n",
       "5      WiiU      64.63\n",
       "6        PC      39.43\n",
       "7       PSV      32.99\n",
       "8       Wii      13.66\n",
       "9       PSP       3.50\n",
       "10       DS       1.54"
      ]
     },
     "execution_count": 127,
     "metadata": {},
     "output_type": "execute_result"
    }
   ],
   "source": [
    "df.pivot_table(index = 'platform', values = ['sales_all'], aggfunc = 'sum').sort_values(by='sales_all', ascending=False).reset_index()"
   ]
  },
  {
   "cell_type": "markdown",
   "metadata": {},
   "source": [
    "Можно определить топ 5 платформ, но следует исключить платформы PS3 и X360, так как это платформы прошлого поколения. В итоге топ-5 выглядит так:\n",
    "* PS4\n",
    "* XOne\n",
    "* 3DS\n",
    "* WiiU\n",
    "* PC"
   ]
  },
  {
   "cell_type": "code",
   "execution_count": 128,
   "metadata": {},
   "outputs": [
    {
     "data": {
      "image/png": "[encoded data removed]",
      "text/plain": [
       "<Figure size 432x288 with 1 Axes>"
      ]
     },
     "metadata": {
      "needs_background": "light"
     },
     "output_type": "display_data"
    }
   ],
   "source": [
    "for platform in ['XOne', 'PS4', 'WiiU', '3DS', 'PC']:\n",
    "    df[df['platform'] == platform].groupby('year_of_release')['sales_all'].sum().plot(label=platform)\n",
    "plt.legend()\n",
    "plt.title('Продажи игр на актуальных платформах')\n",
    "plt.show()"
   ]
  },
  {
   "cell_type": "markdown",
   "metadata": {},
   "source": [
    "По графику можно заметить, что текущее поколение консолей PS4 и XOne не идут нога в ногу, PS4 опережает по продажам платформу XOne в два раза, это связано с неудачной рекламной компанией и позиционированием своего продукта XOne компанией Microsoft. Хоть продажи 3DS стартовали до начала выбранного периода, но всего лишь за два года, она начала продаваться в феврале 2011, обычно у приставок в этот периода наступает пик продаж, но судя по всему 3DS не удалось обогнать PS4. WiiU похоже была коммерчески не успешной, так как продажи для консоли были очень низкими. Показатели PC достаточно низки, но идут более или менее равномерно, увеличение продаж видно в 2014 году, но дальше идет спад.\n",
    "\n",
    "### Анализ диапозонов продаж платформ.\n",
    "\n",
    "Посмотрим в каком диапазоне было больше всего продаж:"
   ]
  },
  {
   "cell_type": "code",
   "execution_count": 129,
   "metadata": {
    "scrolled": true
   },
   "outputs": [
    {
     "name": "stderr",
     "output_type": "stream",
     "text": [
      "/opt/conda/lib/python3.7/site-packages/numpy/core/_asarray.py:83: VisibleDeprecationWarning: Creating an ndarray from ragged nested sequences (which is a list-or-tuple of lists-or-tuples-or ndarrays with different lengths or shapes) is deprecated. If you meant to do this, you must specify 'dtype=object' when creating the ndarray\n",
      "  return array(a, dtype, copy=False, order=order)\n"
     ]
    },
    {
     "data": {
      "text/plain": [
       "<matplotlib.axes._subplots.AxesSubplot at 0x7f32e2784b90>"
      ]
     },
     "execution_count": 129,
     "metadata": {},
     "output_type": "execute_result"
    },
    {
     "data": {
      "image/png": "[encoded data removed]",
      "text/plain": [
       "<Figure size 432x288 with 1 Axes>"
      ]
     },
     "metadata": {
      "needs_background": "light"
     },
     "output_type": "display_data"
    }
   ],
   "source": [
    "platform = ['XOne', 'PS4', 'WiiU', '3DS', 'PC']\n",
    "df.query('platform in @platform and sales_all <= 3').boxplot('sales_all', by='platform') \n",
    "# построим график ящик с усами по выбранным платформам\n",
    "# так же ограничим продажи 3 млн копий, чтобы убрать выбросы и укрупнить график для наглядности"
   ]
  },
  {
   "cell_type": "markdown",
   "metadata": {},
   "source": [
    "Для всех платформ за исключением PC и WiiU медианные значения находятся примерно на одном уровне 0.2-0.3 млн, впрочем как все 4 квартиля. PC имеет такое низкое положение ящика, потому что на платформе нет наценки магазина платформы, так же там больше маленьких игр независимых студий, который менее трудоемки, а значит цена на них ниже. WiiU имеет низкие продажи, возможно они немного выше чем у PC, но это ужасный показатель для консоли, так как внутренний магазин любой консоли закладывает еще наценку в среднем 30%, соответственно, выручка от продаж игр гораздо меньше."
   ]
  },
  {
   "cell_type": "markdown",
   "metadata": {},
   "source": [
    "### Анализ оценок пользователей и критиков\n",
    "\n",
    "Посмотрим как влияют оценки критиков и пользователей на продажи игр на платформах XOne, PS4, WiiU, 3DS, PC предварительно нужно будет убрать значения no score. \n",
    "\n",
    "#### PS4\n",
    "\n",
    "Первой возьмем платформу PS4 и построим диаграмму рассеивания."
   ]
  },
  {
   "cell_type": "code",
   "execution_count": 130,
   "metadata": {},
   "outputs": [
    {
     "name": "stderr",
     "output_type": "stream",
     "text": [
      "/opt/conda/lib/python3.7/site-packages/ipykernel_launcher.py:2: SettingWithCopyWarning: \n",
      "A value is trying to be set on a copy of a slice from a DataFrame.\n",
      "Try using .loc[row_indexer,col_indexer] = value instead\n",
      "\n",
      "See the caveats in the documentation: http://pandas.pydata.org/pandas-docs/stable/user_guide/indexing.html#returning-a-view-versus-a-copy\n",
      "  \n"
     ]
    },
    {
     "data": {
      "text/plain": [
       "<matplotlib.axes._subplots.AxesSubplot at 0x7f32e1e05b90>"
      ]
     },
     "execution_count": 130,
     "metadata": {},
     "output_type": "execute_result"
    },
    {
     "data": {
      "image/png": "[encoded data removed]",
      "text/plain": [
       "<Figure size 432x288 with 1 Axes>"
      ]
     },
     "metadata": {
      "needs_background": "light"
     },
     "output_type": "display_data"
    }
   ],
   "source": [
    "user_score_ps = df.query('platform == \"PS4\" and user_score != \"no score\"')\n",
    "user_score_ps['user_score'] = user_score_ps['user_score'].astype('float')\n",
    "user_score_ps.plot(x='user_score', y='sales_all', kind='scatter')"
   ]
  },
  {
   "cell_type": "code",
   "execution_count": 131,
   "metadata": {},
   "outputs": [
    {
     "name": "stderr",
     "output_type": "stream",
     "text": [
      "/opt/conda/lib/python3.7/site-packages/ipykernel_launcher.py:2: SettingWithCopyWarning: \n",
      "A value is trying to be set on a copy of a slice from a DataFrame.\n",
      "Try using .loc[row_indexer,col_indexer] = value instead\n",
      "\n",
      "See the caveats in the documentation: http://pandas.pydata.org/pandas-docs/stable/user_guide/indexing.html#returning-a-view-versus-a-copy\n",
      "  \n"
     ]
    },
    {
     "data": {
      "text/plain": [
       "<matplotlib.axes._subplots.AxesSubplot at 0x7f32e1e0b890>"
      ]
     },
     "execution_count": 131,
     "metadata": {},
     "output_type": "execute_result"
    },
    {
     "data": {
      "image/png": "[encoded data removed]",
      "text/plain": [
       "<Figure size 432x288 with 1 Axes>"
      ]
     },
     "metadata": {
      "needs_background": "light"
     },
     "output_type": "display_data"
    }
   ],
   "source": [
    "critic_score_ps = df.query('platform == \"PS4\" and critic_score != \"no score\"')\n",
    "critic_score_ps['critic_score'] = critic_score_ps['critic_score'].astype('float')\n",
    "critic_score_ps.plot(x='critic_score', y='sales_all', kind='scatter')"
   ]
  },
  {
   "cell_type": "markdown",
   "metadata": {},
   "source": [
    "Так же посчитаем корреляцию:"
   ]
  },
  {
   "cell_type": "code",
   "execution_count": 132,
   "metadata": {},
   "outputs": [
    {
     "name": "stdout",
     "output_type": "stream",
     "text": [
      "Корреляция user_score и sales_all: -0.031957110204556376\n",
      "Корреляция critic_score и sales_all: 0.40656790206178095\n"
     ]
    }
   ],
   "source": [
    "print('Корреляция user_score и sales_all:', user_score_ps['user_score'].corr(user_score_ps['sales_all']))\n",
    "print('Корреляция critic_score и sales_all:', critic_score_ps['critic_score'].corr(critic_score_ps['sales_all']))"
   ]
  },
  {
   "cell_type": "markdown",
   "metadata": {},
   "source": [
    "Из двух диаграмм можно сделать выводы, что пользовательские оценки более хаотичны, игры оцененные 3-4 баллов могут иметь продажи в 1 и более млн, в то время как у критиков распределение более закономерно и продажи более 1 млн в основном начинаются от оценки свыше 60 баллов, это подтверждает и корреляция, у пользовательского рейтинга она почти равна нулю. Скорее всего это связано с тем, что критик оценивает игру более профессионально, а пользователи скорее эмоционально, поэтому распределение неравномерно. Так же из этих диаграмм можно вынести закономерность, что независимо от оценки большинство игр не продается на общую сумму свыше 1 млн, что совпадает с ранее построенным графиком ящик с усами по всем платформам, большинство игр на всех платформах редко приносит более 1 млн. \n",
    "\n",
    "Построим аналогичные диаграммы и посчитаем корреляцию для другой актуальной платформы XOne:"
   ]
  },
  {
   "cell_type": "markdown",
   "metadata": {},
   "source": [
    "#### XOne\n",
    "\n",
    "Построим аналогичные диаграммы и посчитаем корреляцию для другой актуальной платформы XOne:"
   ]
  },
  {
   "cell_type": "code",
   "execution_count": 133,
   "metadata": {},
   "outputs": [
    {
     "name": "stderr",
     "output_type": "stream",
     "text": [
      "/opt/conda/lib/python3.7/site-packages/ipykernel_launcher.py:2: SettingWithCopyWarning: \n",
      "A value is trying to be set on a copy of a slice from a DataFrame.\n",
      "Try using .loc[row_indexer,col_indexer] = value instead\n",
      "\n",
      "See the caveats in the documentation: http://pandas.pydata.org/pandas-docs/stable/user_guide/indexing.html#returning-a-view-versus-a-copy\n",
      "  \n"
     ]
    },
    {
     "data": {
      "text/plain": [
       "<matplotlib.axes._subplots.AxesSubplot at 0x7f32e1cfe090>"
      ]
     },
     "execution_count": 133,
     "metadata": {},
     "output_type": "execute_result"
    },
    {
     "data": {
      "image/png": "[encoded data removed]",
      "text/plain": [
       "<Figure size 432x288 with 1 Axes>"
      ]
     },
     "metadata": {
      "needs_background": "light"
     },
     "output_type": "display_data"
    }
   ],
   "source": [
    "user_score_xbox = df.query('platform == \"XOne\" and user_score != \"no score\"')\n",
    "user_score_xbox['user_score'] = user_score_xbox['user_score'].astype('float')\n",
    "user_score_xbox.plot(x='user_score', y='sales_all', kind='scatter')"
   ]
  },
  {
   "cell_type": "code",
   "execution_count": 134,
   "metadata": {},
   "outputs": [
    {
     "name": "stderr",
     "output_type": "stream",
     "text": [
      "/opt/conda/lib/python3.7/site-packages/ipykernel_launcher.py:2: SettingWithCopyWarning: \n",
      "A value is trying to be set on a copy of a slice from a DataFrame.\n",
      "Try using .loc[row_indexer,col_indexer] = value instead\n",
      "\n",
      "See the caveats in the documentation: http://pandas.pydata.org/pandas-docs/stable/user_guide/indexing.html#returning-a-view-versus-a-copy\n",
      "  \n"
     ]
    },
    {
     "data": {
      "text/plain": [
       "<matplotlib.axes._subplots.AxesSubplot at 0x7f32e1cf0690>"
      ]
     },
     "execution_count": 134,
     "metadata": {},
     "output_type": "execute_result"
    },
    {
     "data": {
      "image/png": "[encoded data removed]",
      "text/plain": [
       "<Figure size 432x288 with 1 Axes>"
      ]
     },
     "metadata": {
      "needs_background": "light"
     },
     "output_type": "display_data"
    }
   ],
   "source": [
    "critic_score_xbox = df.query('platform == \"XOne\" and critic_score != \"no score\"')\n",
    "critic_score_xbox['critic_score'] = critic_score_xbox['critic_score'].astype('float')\n",
    "critic_score_xbox.plot(x='critic_score', y='sales_all', kind='scatter')"
   ]
  },
  {
   "cell_type": "code",
   "execution_count": 135,
   "metadata": {},
   "outputs": [
    {
     "name": "stdout",
     "output_type": "stream",
     "text": [
      "Корреляция user_score и sales_all: -0.06892505328279414\n",
      "Корреляция critic_score и sales_all: 0.4169983280084017\n"
     ]
    }
   ],
   "source": [
    "print('Корреляция user_score и sales_all:', user_score_xbox['user_score'].corr(user_score_xbox['sales_all']))\n",
    "print('Корреляция critic_score и sales_all:', critic_score_xbox['critic_score'].corr(critic_score_xbox['sales_all']))"
   ]
  },
  {
   "cell_type": "markdown",
   "metadata": {},
   "source": [
    "Результаты схожы с результатами PS4, так же в оценках критиков больше закономерности и корреляциа выше."
   ]
  },
  {
   "cell_type": "markdown",
   "metadata": {},
   "source": [
    "#### PC\n",
    "\n",
    "Посмотрим оценки на PC:"
   ]
  },
  {
   "cell_type": "code",
   "execution_count": 136,
   "metadata": {},
   "outputs": [
    {
     "name": "stderr",
     "output_type": "stream",
     "text": [
      "/opt/conda/lib/python3.7/site-packages/ipykernel_launcher.py:2: SettingWithCopyWarning: \n",
      "A value is trying to be set on a copy of a slice from a DataFrame.\n",
      "Try using .loc[row_indexer,col_indexer] = value instead\n",
      "\n",
      "See the caveats in the documentation: http://pandas.pydata.org/pandas-docs/stable/user_guide/indexing.html#returning-a-view-versus-a-copy\n",
      "  \n"
     ]
    },
    {
     "data": {
      "text/plain": [
       "<matplotlib.axes._subplots.AxesSubplot at 0x7f32e1c6c050>"
      ]
     },
     "execution_count": 136,
     "metadata": {},
     "output_type": "execute_result"
    },
    {
     "data": {
      "image/png": "[encoded data removed]",
      "text/plain": [
       "<Figure size 432x288 with 1 Axes>"
      ]
     },
     "metadata": {
      "needs_background": "light"
     },
     "output_type": "display_data"
    }
   ],
   "source": [
    "user_score_pc = df.query('platform == \"PC\" and user_score != \"no score\"')\n",
    "user_score_pc['user_score'] = user_score_pc['user_score'].astype('float')\n",
    "user_score_pc.plot(x='user_score', y='sales_all', kind='scatter')"
   ]
  },
  {
   "cell_type": "code",
   "execution_count": 137,
   "metadata": {},
   "outputs": [
    {
     "name": "stderr",
     "output_type": "stream",
     "text": [
      "/opt/conda/lib/python3.7/site-packages/ipykernel_launcher.py:2: SettingWithCopyWarning: \n",
      "A value is trying to be set on a copy of a slice from a DataFrame.\n",
      "Try using .loc[row_indexer,col_indexer] = value instead\n",
      "\n",
      "See the caveats in the documentation: http://pandas.pydata.org/pandas-docs/stable/user_guide/indexing.html#returning-a-view-versus-a-copy\n",
      "  \n"
     ]
    },
    {
     "data": {
      "text/plain": [
       "<matplotlib.axes._subplots.AxesSubplot at 0x7f32e1eb7fd0>"
      ]
     },
     "execution_count": 137,
     "metadata": {},
     "output_type": "execute_result"
    },
    {
     "data": {
      "image/png": "[encoded data removed]",
      "text/plain": [
       "<Figure size 432x288 with 1 Axes>"
      ]
     },
     "metadata": {
      "needs_background": "light"
     },
     "output_type": "display_data"
    }
   ],
   "source": [
    "critic_score_pc = df.query('platform == \"PC\" and critic_score != \"no score\"')\n",
    "critic_score_pc['critic_score'] = critic_score_pc['critic_score'].astype('float')\n",
    "critic_score_pc.plot(x='critic_score', y='sales_all', kind='scatter')"
   ]
  },
  {
   "cell_type": "code",
   "execution_count": 138,
   "metadata": {},
   "outputs": [
    {
     "name": "stdout",
     "output_type": "stream",
     "text": [
      "Корреляция user_score и sales_all: -0.0938418695247674\n",
      "Корреляция critic_score и sales_all: 0.19603028294369382\n"
     ]
    }
   ],
   "source": [
    "print('Корреляция user_score и sales_all:', user_score_pc['user_score'].corr(user_score_pc['sales_all']))\n",
    "print('Корреляция critic_score и sales_all:', critic_score_pc['critic_score'].corr(critic_score_pc['sales_all']))"
   ]
  },
  {
   "cell_type": "markdown",
   "metadata": {},
   "source": [
    "В целом результаты схоже с тем, что было на других платформах с одним отличаем, корреляция оценок критиков ниже, скорее всего это связано с большим количеством игр от независимых студий, которые хоть и не всегда получаются хорошими в плане качества, но стоят они гораздо дешевле чем продукт крупных издателей, соответственно, купить их может большее количество человек, тем более что платформа есть практически у всех."
   ]
  },
  {
   "cell_type": "markdown",
   "metadata": {},
   "source": [
    "#### WiiU\n",
    "\n",
    "Посмотрим оценки на WiiU:"
   ]
  },
  {
   "cell_type": "code",
   "execution_count": 139,
   "metadata": {},
   "outputs": [
    {
     "name": "stderr",
     "output_type": "stream",
     "text": [
      "/opt/conda/lib/python3.7/site-packages/ipykernel_launcher.py:2: SettingWithCopyWarning: \n",
      "A value is trying to be set on a copy of a slice from a DataFrame.\n",
      "Try using .loc[row_indexer,col_indexer] = value instead\n",
      "\n",
      "See the caveats in the documentation: http://pandas.pydata.org/pandas-docs/stable/user_guide/indexing.html#returning-a-view-versus-a-copy\n",
      "  \n"
     ]
    },
    {
     "data": {
      "text/plain": [
       "<matplotlib.axes._subplots.AxesSubplot at 0x7f32e1fc5950>"
      ]
     },
     "execution_count": 139,
     "metadata": {},
     "output_type": "execute_result"
    },
    {
     "data": {
      "image/png": "[encoded data removed]",
      "text/plain": [
       "<Figure size 432x288 with 1 Axes>"
      ]
     },
     "metadata": {
      "needs_background": "light"
     },
     "output_type": "display_data"
    }
   ],
   "source": [
    "user_score_wiiu = df.query('platform == \"WiiU\" and user_score != \"no score\"')\n",
    "user_score_wiiu['user_score'] = user_score_wiiu['user_score'].astype('float')\n",
    "user_score_wiiu.plot(x='user_score', y='sales_all', kind='scatter')"
   ]
  },
  {
   "cell_type": "code",
   "execution_count": 140,
   "metadata": {},
   "outputs": [
    {
     "name": "stderr",
     "output_type": "stream",
     "text": [
      "/opt/conda/lib/python3.7/site-packages/ipykernel_launcher.py:2: SettingWithCopyWarning: \n",
      "A value is trying to be set on a copy of a slice from a DataFrame.\n",
      "Try using .loc[row_indexer,col_indexer] = value instead\n",
      "\n",
      "See the caveats in the documentation: http://pandas.pydata.org/pandas-docs/stable/user_guide/indexing.html#returning-a-view-versus-a-copy\n",
      "  \n"
     ]
    },
    {
     "data": {
      "text/plain": [
       "<matplotlib.axes._subplots.AxesSubplot at 0x7f32e2d49c90>"
      ]
     },
     "execution_count": 140,
     "metadata": {},
     "output_type": "execute_result"
    },
    {
     "data": {
      "image/png": "[encoded data removed]",
      "text/plain": [
       "<Figure size 432x288 with 1 Axes>"
      ]
     },
     "metadata": {
      "needs_background": "light"
     },
     "output_type": "display_data"
    }
   ],
   "source": [
    "critic_score_wiiu = df.query('platform == \"WiiU\" and critic_score != \"no score\"')\n",
    "critic_score_wiiu['critic_score'] = critic_score_wiiu['critic_score'].astype('float')\n",
    "critic_score_wiiu.plot(x='critic_score', y='sales_all', kind='scatter')"
   ]
  },
  {
   "cell_type": "code",
   "execution_count": 141,
   "metadata": {},
   "outputs": [
    {
     "name": "stdout",
     "output_type": "stream",
     "text": [
      "Корреляция user_score и sales_all: 0.4193304819266187\n",
      "Корреляция critic_score и sales_all: 0.3764149065423912\n"
     ]
    }
   ],
   "source": [
    "print('Корреляция user_score и sales_all:', user_score_wiiu['user_score'].corr(user_score_wiiu['sales_all']))\n",
    "print('Корреляция critic_score и sales_all:', critic_score_wiiu['critic_score'].corr(critic_score_wiiu['sales_all']))"
   ]
  },
  {
   "cell_type": "markdown",
   "metadata": {},
   "source": [
    "Похоже, что при низких продажах консоли и игр к ней корреляция и количество положительных оценок возросло, наверно это связано с базой поклонников Nintendo, как правило это люди с большим игровым опытом, возможно поэтому оценки игры получили ближе к оценкам критиков. Возможно это так же связано и с самой Nintendo, так как она старается поддерживать определенную планку качества, ведь по сути консольный рынок такой каким он сейчас является начался именно с того, что Nintendo внедрила контроль качества для игр своей консоли."
   ]
  },
  {
   "cell_type": "markdown",
   "metadata": {},
   "source": [
    "#### 3DS\n",
    "\n",
    "Посмотрим оценки на X360:"
   ]
  },
  {
   "cell_type": "code",
   "execution_count": 142,
   "metadata": {},
   "outputs": [
    {
     "name": "stderr",
     "output_type": "stream",
     "text": [
      "/opt/conda/lib/python3.7/site-packages/ipykernel_launcher.py:2: SettingWithCopyWarning: \n",
      "A value is trying to be set on a copy of a slice from a DataFrame.\n",
      "Try using .loc[row_indexer,col_indexer] = value instead\n",
      "\n",
      "See the caveats in the documentation: http://pandas.pydata.org/pandas-docs/stable/user_guide/indexing.html#returning-a-view-versus-a-copy\n",
      "  \n"
     ]
    },
    {
     "data": {
      "text/plain": [
       "<matplotlib.axes._subplots.AxesSubplot at 0x7f32e1f6c490>"
      ]
     },
     "execution_count": 142,
     "metadata": {},
     "output_type": "execute_result"
    },
    {
     "data": {
      "image/png": "[encoded data removed]",
      "text/plain": [
       "<Figure size 432x288 with 1 Axes>"
      ]
     },
     "metadata": {
      "needs_background": "light"
     },
     "output_type": "display_data"
    }
   ],
   "source": [
    "user_score_3ds = df.query('platform == \"3DS\" and user_score != \"no score\"')\n",
    "user_score_3ds['user_score'] = user_score_3ds['user_score'].astype('float')\n",
    "user_score_3ds.plot(x='user_score', y='sales_all', kind='scatter')"
   ]
  },
  {
   "cell_type": "code",
   "execution_count": 143,
   "metadata": {},
   "outputs": [
    {
     "name": "stderr",
     "output_type": "stream",
     "text": [
      "/opt/conda/lib/python3.7/site-packages/ipykernel_launcher.py:2: SettingWithCopyWarning: \n",
      "A value is trying to be set on a copy of a slice from a DataFrame.\n",
      "Try using .loc[row_indexer,col_indexer] = value instead\n",
      "\n",
      "See the caveats in the documentation: http://pandas.pydata.org/pandas-docs/stable/user_guide/indexing.html#returning-a-view-versus-a-copy\n",
      "  \n"
     ]
    },
    {
     "data": {
      "text/plain": [
       "<matplotlib.axes._subplots.AxesSubplot at 0x7f32e2cf7410>"
      ]
     },
     "execution_count": 143,
     "metadata": {},
     "output_type": "execute_result"
    },
    {
     "data": {
      "image/png": "[encoded data removed]",
      "text/plain": [
       "<Figure size 432x288 with 1 Axes>"
      ]
     },
     "metadata": {
      "needs_background": "light"
     },
     "output_type": "display_data"
    }
   ],
   "source": [
    "critic_score_3ds = df.query('platform == \"3DS\" and critic_score != \"no score\"')\n",
    "critic_score_3ds['critic_score'] = critic_score_3ds['critic_score'].astype('float')\n",
    "critic_score_3ds.plot(x='critic_score', y='sales_all', kind='scatter')"
   ]
  },
  {
   "cell_type": "code",
   "execution_count": 144,
   "metadata": {},
   "outputs": [
    {
     "name": "stdout",
     "output_type": "stream",
     "text": [
      "Корреляция user_score и sales_all: 0.24150411773563016\n",
      "Корреляция critic_score и sales_all: 0.3570566142288103\n"
     ]
    }
   ],
   "source": [
    "print('Корреляция user_score и sales_all:', user_score_3ds['user_score'].corr(user_score_3ds['sales_all']))\n",
    "print('Корреляция critic_score и sales_all:', critic_score_3ds['critic_score'].corr(critic_score_3ds['sales_all']))"
   ]
  },
  {
   "cell_type": "markdown",
   "metadata": {},
   "source": [
    "Данные похожи на WiiU, но все же рейтинг пользователей ощутимо ниже коррелирует с продажами. В любом случае это позволяет предположить, что пользователи консолей Nintendo лучше разбираются в играх, а так же сама компания производитель осуществляет контроль качества."
   ]
  },
  {
   "cell_type": "markdown",
   "metadata": {},
   "source": [
    "#### Анализ игр по жанрам\n",
    "\n",
    "Построим график и посмотрим средние продажи игр по жанрам:"
   ]
  },
  {
   "cell_type": "code",
   "execution_count": 145,
   "metadata": {},
   "outputs": [
    {
     "data": {
      "text/plain": [
       "<matplotlib.axes._subplots.AxesSubplot at 0x7f32e204dd10>"
      ]
     },
     "execution_count": 145,
     "metadata": {},
     "output_type": "execute_result"
    },
    {
     "data": {
      "image/png": "[encoded data removed]",
      "text/plain": [
       "<Figure size 432x288 with 1 Axes>"
      ]
     },
     "metadata": {
      "needs_background": "light"
     },
     "output_type": "display_data"
    }
   ],
   "source": [
    "df.groupby('genre')['sales_all'].mean().plot(kind = 'bar')"
   ]
  },
  {
   "cell_type": "markdown",
   "metadata": {},
   "source": [
    "По графику видно, что три наиболее продаваемых жанра это шутер, спортивные игры и платформер, а три жанра с низкими продажами это стратегия, головоломки и адвенчуры. Платформеры и шутеры является популярными жанрами, так как чаще всего не требуют большего вовлечения пользователя в процесс, а спорт имеет основу спортивных игр, в которые люди играют с детства или смотрят по телевизору, поэтому пользователи зачастую покупают, то что им нравится и что хорошо знакомо. Стратегии и адвенчуры давно в плане развития уперлись в потолок, поэтому игр в данном жанре выходит очень мало, головоломки люди не всегда любят, так как они требуют максимального погружение пользователя в ситуацию, которую поставил перед ним разработчик.\n",
    "\n",
    "**Вывод**  \n",
    "\n",
    "Из анализа выше можно определить:\n",
    "* Основными и актуальными платформами на текущий момент являются PS4 и XOne, так же и PC.\n",
    "* Больше всего продаж в диапазоне до 0,5 миллиона, опять же выделяется PC. \n",
    "* При определении успешности игры лучше всего обращать внимание на рейтинг критиков, так как он ближе всего показывает будут ли высокими продажи или нет. \n",
    "* Самые прибыльные жанры платформер, спорт и шутер."
   ]
  },
  {
   "cell_type": "markdown",
   "metadata": {},
   "source": [
    "## Портрет пользователей регионов\n",
    "\n",
    "В это шаге будут исследованы:\n",
    "\n",
    "* Пользователи региона Северной Америки\n",
    "* Пользователи региона Европа\n",
    "* Пользователи региона Япония\n",
    "\n",
    "### Пользователи региона Северной Америки\n",
    "\n",
    "Проанализируем предпочтения пользователей по платформам, жанрам и возростным рейтингам:\n"
   ]
  },
  {
   "cell_type": "code",
   "execution_count": 146,
   "metadata": {},
   "outputs": [
    {
     "data": {
      "text/html": [
       "<div>\n",
       "<style scoped>\n",
       "    .dataframe tbody tr th:only-of-type {\n",
       "        vertical-align: middle;\n",
       "    }\n",
       "\n",
       "    .dataframe tbody tr th {\n",
       "        vertical-align: top;\n",
       "    }\n",
       "\n",
       "    .dataframe thead th {\n",
       "        text-align: right;\n",
       "    }\n",
       "</style>\n",
       "<table border=\"1\" class=\"dataframe\">\n",
       "  <thead>\n",
       "    <tr style=\"text-align: right;\">\n",
       "      <th></th>\n",
       "      <th>platform</th>\n",
       "      <th>na_sales</th>\n",
       "    </tr>\n",
       "  </thead>\n",
       "  <tbody>\n",
       "    <tr>\n",
       "      <td>4</td>\n",
       "      <td>PS4</td>\n",
       "      <td>108.74</td>\n",
       "    </tr>\n",
       "    <tr>\n",
       "      <td>10</td>\n",
       "      <td>XOne</td>\n",
       "      <td>93.12</td>\n",
       "    </tr>\n",
       "    <tr>\n",
       "      <td>9</td>\n",
       "      <td>X360</td>\n",
       "      <td>81.66</td>\n",
       "    </tr>\n",
       "    <tr>\n",
       "      <td>3</td>\n",
       "      <td>PS3</td>\n",
       "      <td>63.50</td>\n",
       "    </tr>\n",
       "    <tr>\n",
       "      <td>0</td>\n",
       "      <td>3DS</td>\n",
       "      <td>38.20</td>\n",
       "    </tr>\n",
       "    <tr>\n",
       "      <td>8</td>\n",
       "      <td>WiiU</td>\n",
       "      <td>29.21</td>\n",
       "    </tr>\n",
       "    <tr>\n",
       "      <td>2</td>\n",
       "      <td>PC</td>\n",
       "      <td>11.11</td>\n",
       "    </tr>\n",
       "    <tr>\n",
       "      <td>7</td>\n",
       "      <td>Wii</td>\n",
       "      <td>6.56</td>\n",
       "    </tr>\n",
       "    <tr>\n",
       "      <td>6</td>\n",
       "      <td>PSV</td>\n",
       "      <td>5.04</td>\n",
       "    </tr>\n",
       "    <tr>\n",
       "      <td>1</td>\n",
       "      <td>DS</td>\n",
       "      <td>0.57</td>\n",
       "    </tr>\n",
       "    <tr>\n",
       "      <td>5</td>\n",
       "      <td>PSP</td>\n",
       "      <td>0.00</td>\n",
       "    </tr>\n",
       "  </tbody>\n",
       "</table>\n",
       "</div>"
      ],
      "text/plain": [
       "   platform  na_sales\n",
       "4       PS4    108.74\n",
       "10     XOne     93.12\n",
       "9      X360     81.66\n",
       "3       PS3     63.50\n",
       "0       3DS     38.20\n",
       "8      WiiU     29.21\n",
       "2        PC     11.11\n",
       "7       Wii      6.56\n",
       "6       PSV      5.04\n",
       "1        DS      0.57\n",
       "5       PSP      0.00"
      ]
     },
     "execution_count": 146,
     "metadata": {},
     "output_type": "execute_result"
    }
   ],
   "source": [
    "df.pivot_table(index = ['platform'], values=['na_sales'], aggfunc='sum').reset_index().sort_values(by='na_sales', ascending=False)\n"
   ]
  },
  {
   "cell_type": "code",
   "execution_count": 147,
   "metadata": {},
   "outputs": [
    {
     "data": {
      "text/html": [
       "<div>\n",
       "<style scoped>\n",
       "    .dataframe tbody tr th:only-of-type {\n",
       "        vertical-align: middle;\n",
       "    }\n",
       "\n",
       "    .dataframe tbody tr th {\n",
       "        vertical-align: top;\n",
       "    }\n",
       "\n",
       "    .dataframe thead th {\n",
       "        text-align: right;\n",
       "    }\n",
       "</style>\n",
       "<table border=\"1\" class=\"dataframe\">\n",
       "  <thead>\n",
       "    <tr style=\"text-align: right;\">\n",
       "      <th></th>\n",
       "      <th>genre</th>\n",
       "      <th>na_sales</th>\n",
       "    </tr>\n",
       "  </thead>\n",
       "  <tbody>\n",
       "    <tr>\n",
       "      <td>0</td>\n",
       "      <td>Action</td>\n",
       "      <td>126.05</td>\n",
       "    </tr>\n",
       "    <tr>\n",
       "      <td>8</td>\n",
       "      <td>Shooter</td>\n",
       "      <td>109.74</td>\n",
       "    </tr>\n",
       "    <tr>\n",
       "      <td>10</td>\n",
       "      <td>Sports</td>\n",
       "      <td>65.27</td>\n",
       "    </tr>\n",
       "    <tr>\n",
       "      <td>7</td>\n",
       "      <td>Role-Playing</td>\n",
       "      <td>46.40</td>\n",
       "    </tr>\n",
       "    <tr>\n",
       "      <td>3</td>\n",
       "      <td>Misc</td>\n",
       "      <td>27.49</td>\n",
       "    </tr>\n",
       "    <tr>\n",
       "      <td>4</td>\n",
       "      <td>Platform</td>\n",
       "      <td>18.14</td>\n",
       "    </tr>\n",
       "    <tr>\n",
       "      <td>2</td>\n",
       "      <td>Fighting</td>\n",
       "      <td>15.55</td>\n",
       "    </tr>\n",
       "    <tr>\n",
       "      <td>6</td>\n",
       "      <td>Racing</td>\n",
       "      <td>12.96</td>\n",
       "    </tr>\n",
       "    <tr>\n",
       "      <td>1</td>\n",
       "      <td>Adventure</td>\n",
       "      <td>7.14</td>\n",
       "    </tr>\n",
       "    <tr>\n",
       "      <td>9</td>\n",
       "      <td>Simulation</td>\n",
       "      <td>4.86</td>\n",
       "    </tr>\n",
       "    <tr>\n",
       "      <td>11</td>\n",
       "      <td>Strategy</td>\n",
       "      <td>3.28</td>\n",
       "    </tr>\n",
       "    <tr>\n",
       "      <td>5</td>\n",
       "      <td>Puzzle</td>\n",
       "      <td>0.83</td>\n",
       "    </tr>\n",
       "  </tbody>\n",
       "</table>\n",
       "</div>"
      ],
      "text/plain": [
       "           genre  na_sales\n",
       "0         Action    126.05\n",
       "8        Shooter    109.74\n",
       "10        Sports     65.27\n",
       "7   Role-Playing     46.40\n",
       "3           Misc     27.49\n",
       "4       Platform     18.14\n",
       "2       Fighting     15.55\n",
       "6         Racing     12.96\n",
       "1      Adventure      7.14\n",
       "9     Simulation      4.86\n",
       "11      Strategy      3.28\n",
       "5         Puzzle      0.83"
      ]
     },
     "execution_count": 147,
     "metadata": {},
     "output_type": "execute_result"
    }
   ],
   "source": [
    "df.pivot_table(index = ['genre'], values=['na_sales'], aggfunc='sum').reset_index().sort_values(by='na_sales', ascending=False)"
   ]
  },
  {
   "cell_type": "code",
   "execution_count": 148,
   "metadata": {},
   "outputs": [
    {
     "data": {
      "text/html": [
       "<div>\n",
       "<style scoped>\n",
       "    .dataframe tbody tr th:only-of-type {\n",
       "        vertical-align: middle;\n",
       "    }\n",
       "\n",
       "    .dataframe tbody tr th {\n",
       "        vertical-align: top;\n",
       "    }\n",
       "\n",
       "    .dataframe thead th {\n",
       "        text-align: right;\n",
       "    }\n",
       "</style>\n",
       "<table border=\"1\" class=\"dataframe\">\n",
       "  <thead>\n",
       "    <tr style=\"text-align: right;\">\n",
       "      <th></th>\n",
       "      <th>rating</th>\n",
       "      <th>na_sales</th>\n",
       "    </tr>\n",
       "  </thead>\n",
       "  <tbody>\n",
       "    <tr>\n",
       "      <td>2</td>\n",
       "      <td>M</td>\n",
       "      <td>165.21</td>\n",
       "    </tr>\n",
       "    <tr>\n",
       "      <td>4</td>\n",
       "      <td>not rated</td>\n",
       "      <td>89.42</td>\n",
       "    </tr>\n",
       "    <tr>\n",
       "      <td>0</td>\n",
       "      <td>E</td>\n",
       "      <td>79.05</td>\n",
       "    </tr>\n",
       "    <tr>\n",
       "      <td>1</td>\n",
       "      <td>E10+</td>\n",
       "      <td>54.24</td>\n",
       "    </tr>\n",
       "    <tr>\n",
       "      <td>3</td>\n",
       "      <td>T</td>\n",
       "      <td>49.79</td>\n",
       "    </tr>\n",
       "  </tbody>\n",
       "</table>\n",
       "</div>"
      ],
      "text/plain": [
       "      rating  na_sales\n",
       "2          M    165.21\n",
       "4  not rated     89.42\n",
       "0          E     79.05\n",
       "1       E10+     54.24\n",
       "3          T     49.79"
      ]
     },
     "execution_count": 148,
     "metadata": {},
     "output_type": "execute_result"
    }
   ],
   "source": [
    "df.pivot_table(index = ['rating'], values=['na_sales'], aggfunc='sum').reset_index().sort_values(by='na_sales', ascending=False)"
   ]
  },
  {
   "cell_type": "markdown",
   "metadata": {},
   "source": [
    "Пользователи Северной Америки предпочитают платформы за исключением не актуальных: PS4, XOne, 3DS, WiiU, PC. Большим спросом среди текущего поколения пользуется PS4, что удивительно, так как США это целевая аудитория компании производителя Microsoft, но PS4 обогнала XOne. WiiU пользовалась здесь большим спросом чем PC. Самые популярные жанры: экшн, спорт, шутер, разное, рпг. Результат не сильно отличается от общей картины по всему миру. Самые популярные рейтинги E, М, Т, Е10+, что интересно есть так же неоцененные игры, их продано примерно 20% от общего количества."
   ]
  },
  {
   "cell_type": "markdown",
   "metadata": {},
   "source": [
    "### Пользователи региона Европа\n",
    "\n",
    "Проанализируем предпочтения пользователей по платформам, жанрам и возростным рейтингам:"
   ]
  },
  {
   "cell_type": "code",
   "execution_count": 149,
   "metadata": {},
   "outputs": [
    {
     "data": {
      "text/html": [
       "<div>\n",
       "<style scoped>\n",
       "    .dataframe tbody tr th:only-of-type {\n",
       "        vertical-align: middle;\n",
       "    }\n",
       "\n",
       "    .dataframe tbody tr th {\n",
       "        vertical-align: top;\n",
       "    }\n",
       "\n",
       "    .dataframe thead th {\n",
       "        text-align: right;\n",
       "    }\n",
       "</style>\n",
       "<table border=\"1\" class=\"dataframe\">\n",
       "  <thead>\n",
       "    <tr style=\"text-align: right;\">\n",
       "      <th></th>\n",
       "      <th>platform</th>\n",
       "      <th>eu_sales</th>\n",
       "    </tr>\n",
       "  </thead>\n",
       "  <tbody>\n",
       "    <tr>\n",
       "      <td>4</td>\n",
       "      <td>PS4</td>\n",
       "      <td>141.09</td>\n",
       "    </tr>\n",
       "    <tr>\n",
       "      <td>3</td>\n",
       "      <td>PS3</td>\n",
       "      <td>67.81</td>\n",
       "    </tr>\n",
       "    <tr>\n",
       "      <td>10</td>\n",
       "      <td>XOne</td>\n",
       "      <td>51.59</td>\n",
       "    </tr>\n",
       "    <tr>\n",
       "      <td>9</td>\n",
       "      <td>X360</td>\n",
       "      <td>42.52</td>\n",
       "    </tr>\n",
       "    <tr>\n",
       "      <td>0</td>\n",
       "      <td>3DS</td>\n",
       "      <td>30.96</td>\n",
       "    </tr>\n",
       "    <tr>\n",
       "      <td>2</td>\n",
       "      <td>PC</td>\n",
       "      <td>25.36</td>\n",
       "    </tr>\n",
       "    <tr>\n",
       "      <td>8</td>\n",
       "      <td>WiiU</td>\n",
       "      <td>19.85</td>\n",
       "    </tr>\n",
       "    <tr>\n",
       "      <td>6</td>\n",
       "      <td>PSV</td>\n",
       "      <td>6.10</td>\n",
       "    </tr>\n",
       "    <tr>\n",
       "      <td>7</td>\n",
       "      <td>Wii</td>\n",
       "      <td>5.93</td>\n",
       "    </tr>\n",
       "    <tr>\n",
       "      <td>1</td>\n",
       "      <td>DS</td>\n",
       "      <td>0.85</td>\n",
       "    </tr>\n",
       "    <tr>\n",
       "      <td>5</td>\n",
       "      <td>PSP</td>\n",
       "      <td>0.17</td>\n",
       "    </tr>\n",
       "  </tbody>\n",
       "</table>\n",
       "</div>"
      ],
      "text/plain": [
       "   platform  eu_sales\n",
       "4       PS4    141.09\n",
       "3       PS3     67.81\n",
       "10     XOne     51.59\n",
       "9      X360     42.52\n",
       "0       3DS     30.96\n",
       "2        PC     25.36\n",
       "8      WiiU     19.85\n",
       "6       PSV      6.10\n",
       "7       Wii      5.93\n",
       "1        DS      0.85\n",
       "5       PSP      0.17"
      ]
     },
     "execution_count": 149,
     "metadata": {},
     "output_type": "execute_result"
    }
   ],
   "source": [
    "df.pivot_table(index = ['platform'], values=['eu_sales'], aggfunc='sum').reset_index().sort_values(by='eu_sales', ascending=False)"
   ]
  },
  {
   "cell_type": "code",
   "execution_count": 150,
   "metadata": {},
   "outputs": [
    {
     "data": {
      "text/html": [
       "<div>\n",
       "<style scoped>\n",
       "    .dataframe tbody tr th:only-of-type {\n",
       "        vertical-align: middle;\n",
       "    }\n",
       "\n",
       "    .dataframe tbody tr th {\n",
       "        vertical-align: top;\n",
       "    }\n",
       "\n",
       "    .dataframe thead th {\n",
       "        text-align: right;\n",
       "    }\n",
       "</style>\n",
       "<table border=\"1\" class=\"dataframe\">\n",
       "  <thead>\n",
       "    <tr style=\"text-align: right;\">\n",
       "      <th></th>\n",
       "      <th>genre</th>\n",
       "      <th>eu_sales</th>\n",
       "    </tr>\n",
       "  </thead>\n",
       "  <tbody>\n",
       "    <tr>\n",
       "      <td>0</td>\n",
       "      <td>Action</td>\n",
       "      <td>118.13</td>\n",
       "    </tr>\n",
       "    <tr>\n",
       "      <td>8</td>\n",
       "      <td>Shooter</td>\n",
       "      <td>87.86</td>\n",
       "    </tr>\n",
       "    <tr>\n",
       "      <td>10</td>\n",
       "      <td>Sports</td>\n",
       "      <td>60.52</td>\n",
       "    </tr>\n",
       "    <tr>\n",
       "      <td>7</td>\n",
       "      <td>Role-Playing</td>\n",
       "      <td>36.97</td>\n",
       "    </tr>\n",
       "    <tr>\n",
       "      <td>6</td>\n",
       "      <td>Racing</td>\n",
       "      <td>20.19</td>\n",
       "    </tr>\n",
       "    <tr>\n",
       "      <td>3</td>\n",
       "      <td>Misc</td>\n",
       "      <td>20.04</td>\n",
       "    </tr>\n",
       "    <tr>\n",
       "      <td>4</td>\n",
       "      <td>Platform</td>\n",
       "      <td>15.58</td>\n",
       "    </tr>\n",
       "    <tr>\n",
       "      <td>9</td>\n",
       "      <td>Simulation</td>\n",
       "      <td>10.92</td>\n",
       "    </tr>\n",
       "    <tr>\n",
       "      <td>2</td>\n",
       "      <td>Fighting</td>\n",
       "      <td>8.55</td>\n",
       "    </tr>\n",
       "    <tr>\n",
       "      <td>1</td>\n",
       "      <td>Adventure</td>\n",
       "      <td>8.25</td>\n",
       "    </tr>\n",
       "    <tr>\n",
       "      <td>11</td>\n",
       "      <td>Strategy</td>\n",
       "      <td>4.22</td>\n",
       "    </tr>\n",
       "    <tr>\n",
       "      <td>5</td>\n",
       "      <td>Puzzle</td>\n",
       "      <td>1.00</td>\n",
       "    </tr>\n",
       "  </tbody>\n",
       "</table>\n",
       "</div>"
      ],
      "text/plain": [
       "           genre  eu_sales\n",
       "0         Action    118.13\n",
       "8        Shooter     87.86\n",
       "10        Sports     60.52\n",
       "7   Role-Playing     36.97\n",
       "6         Racing     20.19\n",
       "3           Misc     20.04\n",
       "4       Platform     15.58\n",
       "9     Simulation     10.92\n",
       "2       Fighting      8.55\n",
       "1      Adventure      8.25\n",
       "11      Strategy      4.22\n",
       "5         Puzzle      1.00"
      ]
     },
     "execution_count": 150,
     "metadata": {},
     "output_type": "execute_result"
    }
   ],
   "source": [
    "df.pivot_table(index = ['genre'], values=['eu_sales'], aggfunc='sum').reset_index().sort_values(by='eu_sales', ascending=False)"
   ]
  },
  {
   "cell_type": "code",
   "execution_count": 151,
   "metadata": {},
   "outputs": [
    {
     "data": {
      "text/html": [
       "<div>\n",
       "<style scoped>\n",
       "    .dataframe tbody tr th:only-of-type {\n",
       "        vertical-align: middle;\n",
       "    }\n",
       "\n",
       "    .dataframe tbody tr th {\n",
       "        vertical-align: top;\n",
       "    }\n",
       "\n",
       "    .dataframe thead th {\n",
       "        text-align: right;\n",
       "    }\n",
       "</style>\n",
       "<table border=\"1\" class=\"dataframe\">\n",
       "  <thead>\n",
       "    <tr style=\"text-align: right;\">\n",
       "      <th></th>\n",
       "      <th>rating</th>\n",
       "      <th>eu_sales</th>\n",
       "    </tr>\n",
       "  </thead>\n",
       "  <tbody>\n",
       "    <tr>\n",
       "      <td>2</td>\n",
       "      <td>M</td>\n",
       "      <td>145.32</td>\n",
       "    </tr>\n",
       "    <tr>\n",
       "      <td>0</td>\n",
       "      <td>E</td>\n",
       "      <td>83.36</td>\n",
       "    </tr>\n",
       "    <tr>\n",
       "      <td>4</td>\n",
       "      <td>not rated</td>\n",
       "      <td>78.91</td>\n",
       "    </tr>\n",
       "    <tr>\n",
       "      <td>1</td>\n",
       "      <td>E10+</td>\n",
       "      <td>42.69</td>\n",
       "    </tr>\n",
       "    <tr>\n",
       "      <td>3</td>\n",
       "      <td>T</td>\n",
       "      <td>41.95</td>\n",
       "    </tr>\n",
       "  </tbody>\n",
       "</table>\n",
       "</div>"
      ],
      "text/plain": [
       "      rating  eu_sales\n",
       "2          M    145.32\n",
       "0          E     83.36\n",
       "4  not rated     78.91\n",
       "1       E10+     42.69\n",
       "3          T     41.95"
      ]
     },
     "execution_count": 151,
     "metadata": {},
     "output_type": "execute_result"
    }
   ],
   "source": [
    "df.pivot_table(index = ['rating'], values=['eu_sales'], aggfunc='sum').reset_index().sort_values(by='eu_sales', ascending=False)"
   ]
  },
  {
   "cell_type": "markdown",
   "metadata": {},
   "source": [
    "В Европе наиболее популярны платформы: PS4, XOne, 3DS, WiiU, PC. В целом результат схож с Северной Америкой, за исключением того что WiiU здесь уступило PC. Самые популярные жанры: экшн, спорт, шутер, разное, гонки. В целом данные схожи с общемировыми, гонки обогнали разное на 150 тыс копий, но разница не существенна. Самые популярные рейтинги E, М, Т, Е10+, не оцененных игр в этом регионе продано в общем соотношении так же как и в америке, но все они уступили свои позиции играм с рейтингом E."
   ]
  },
  {
   "cell_type": "markdown",
   "metadata": {},
   "source": [
    "### Пользователи региона Япония\n",
    "\n",
    "Проанализируем предпочтения пользователей по платформам, жанрам и возростным рейтингам:"
   ]
  },
  {
   "cell_type": "code",
   "execution_count": 152,
   "metadata": {},
   "outputs": [
    {
     "data": {
      "text/html": [
       "<div>\n",
       "<style scoped>\n",
       "    .dataframe tbody tr th:only-of-type {\n",
       "        vertical-align: middle;\n",
       "    }\n",
       "\n",
       "    .dataframe tbody tr th {\n",
       "        vertical-align: top;\n",
       "    }\n",
       "\n",
       "    .dataframe thead th {\n",
       "        text-align: right;\n",
       "    }\n",
       "</style>\n",
       "<table border=\"1\" class=\"dataframe\">\n",
       "  <thead>\n",
       "    <tr style=\"text-align: right;\">\n",
       "      <th></th>\n",
       "      <th>platform</th>\n",
       "      <th>jp_sales</th>\n",
       "    </tr>\n",
       "  </thead>\n",
       "  <tbody>\n",
       "    <tr>\n",
       "      <td>0</td>\n",
       "      <td>3DS</td>\n",
       "      <td>67.81</td>\n",
       "    </tr>\n",
       "    <tr>\n",
       "      <td>3</td>\n",
       "      <td>PS3</td>\n",
       "      <td>23.35</td>\n",
       "    </tr>\n",
       "    <tr>\n",
       "      <td>6</td>\n",
       "      <td>PSV</td>\n",
       "      <td>18.59</td>\n",
       "    </tr>\n",
       "    <tr>\n",
       "      <td>4</td>\n",
       "      <td>PS4</td>\n",
       "      <td>15.96</td>\n",
       "    </tr>\n",
       "    <tr>\n",
       "      <td>8</td>\n",
       "      <td>WiiU</td>\n",
       "      <td>10.88</td>\n",
       "    </tr>\n",
       "    <tr>\n",
       "      <td>5</td>\n",
       "      <td>PSP</td>\n",
       "      <td>3.29</td>\n",
       "    </tr>\n",
       "    <tr>\n",
       "      <td>9</td>\n",
       "      <td>X360</td>\n",
       "      <td>0.51</td>\n",
       "    </tr>\n",
       "    <tr>\n",
       "      <td>10</td>\n",
       "      <td>XOne</td>\n",
       "      <td>0.34</td>\n",
       "    </tr>\n",
       "    <tr>\n",
       "      <td>7</td>\n",
       "      <td>Wii</td>\n",
       "      <td>0.05</td>\n",
       "    </tr>\n",
       "    <tr>\n",
       "      <td>1</td>\n",
       "      <td>DS</td>\n",
       "      <td>0.00</td>\n",
       "    </tr>\n",
       "    <tr>\n",
       "      <td>2</td>\n",
       "      <td>PC</td>\n",
       "      <td>0.00</td>\n",
       "    </tr>\n",
       "  </tbody>\n",
       "</table>\n",
       "</div>"
      ],
      "text/plain": [
       "   platform  jp_sales\n",
       "0       3DS     67.81\n",
       "3       PS3     23.35\n",
       "6       PSV     18.59\n",
       "4       PS4     15.96\n",
       "8      WiiU     10.88\n",
       "5       PSP      3.29\n",
       "9      X360      0.51\n",
       "10     XOne      0.34\n",
       "7       Wii      0.05\n",
       "1        DS      0.00\n",
       "2        PC      0.00"
      ]
     },
     "execution_count": 152,
     "metadata": {},
     "output_type": "execute_result"
    }
   ],
   "source": [
    "df.pivot_table(index = ['platform'], values=['jp_sales'], aggfunc='sum').reset_index().sort_values(by='jp_sales', ascending=False)"
   ]
  },
  {
   "cell_type": "code",
   "execution_count": 153,
   "metadata": {},
   "outputs": [
    {
     "data": {
      "text/html": [
       "<div>\n",
       "<style scoped>\n",
       "    .dataframe tbody tr th:only-of-type {\n",
       "        vertical-align: middle;\n",
       "    }\n",
       "\n",
       "    .dataframe tbody tr th {\n",
       "        vertical-align: top;\n",
       "    }\n",
       "\n",
       "    .dataframe thead th {\n",
       "        text-align: right;\n",
       "    }\n",
       "</style>\n",
       "<table border=\"1\" class=\"dataframe\">\n",
       "  <thead>\n",
       "    <tr style=\"text-align: right;\">\n",
       "      <th></th>\n",
       "      <th>genre</th>\n",
       "      <th>jp_sales</th>\n",
       "    </tr>\n",
       "  </thead>\n",
       "  <tbody>\n",
       "    <tr>\n",
       "      <td>7</td>\n",
       "      <td>Role-Playing</td>\n",
       "      <td>51.04</td>\n",
       "    </tr>\n",
       "    <tr>\n",
       "      <td>0</td>\n",
       "      <td>Action</td>\n",
       "      <td>40.49</td>\n",
       "    </tr>\n",
       "    <tr>\n",
       "      <td>3</td>\n",
       "      <td>Misc</td>\n",
       "      <td>9.20</td>\n",
       "    </tr>\n",
       "    <tr>\n",
       "      <td>2</td>\n",
       "      <td>Fighting</td>\n",
       "      <td>7.65</td>\n",
       "    </tr>\n",
       "    <tr>\n",
       "      <td>8</td>\n",
       "      <td>Shooter</td>\n",
       "      <td>6.61</td>\n",
       "    </tr>\n",
       "    <tr>\n",
       "      <td>1</td>\n",
       "      <td>Adventure</td>\n",
       "      <td>5.82</td>\n",
       "    </tr>\n",
       "    <tr>\n",
       "      <td>10</td>\n",
       "      <td>Sports</td>\n",
       "      <td>5.41</td>\n",
       "    </tr>\n",
       "    <tr>\n",
       "      <td>4</td>\n",
       "      <td>Platform</td>\n",
       "      <td>4.79</td>\n",
       "    </tr>\n",
       "    <tr>\n",
       "      <td>9</td>\n",
       "      <td>Simulation</td>\n",
       "      <td>4.52</td>\n",
       "    </tr>\n",
       "    <tr>\n",
       "      <td>6</td>\n",
       "      <td>Racing</td>\n",
       "      <td>2.30</td>\n",
       "    </tr>\n",
       "    <tr>\n",
       "      <td>11</td>\n",
       "      <td>Strategy</td>\n",
       "      <td>1.77</td>\n",
       "    </tr>\n",
       "    <tr>\n",
       "      <td>5</td>\n",
       "      <td>Puzzle</td>\n",
       "      <td>1.18</td>\n",
       "    </tr>\n",
       "  </tbody>\n",
       "</table>\n",
       "</div>"
      ],
      "text/plain": [
       "           genre  jp_sales\n",
       "7   Role-Playing     51.04\n",
       "0         Action     40.49\n",
       "3           Misc      9.20\n",
       "2       Fighting      7.65\n",
       "8        Shooter      6.61\n",
       "1      Adventure      5.82\n",
       "10        Sports      5.41\n",
       "4       Platform      4.79\n",
       "9     Simulation      4.52\n",
       "6         Racing      2.30\n",
       "11      Strategy      1.77\n",
       "5         Puzzle      1.18"
      ]
     },
     "execution_count": 153,
     "metadata": {},
     "output_type": "execute_result"
    }
   ],
   "source": [
    "df.pivot_table(index = ['genre'], values=['jp_sales'], aggfunc='sum').reset_index().sort_values(by='jp_sales', ascending=False)"
   ]
  },
  {
   "cell_type": "code",
   "execution_count": 154,
   "metadata": {},
   "outputs": [
    {
     "data": {
      "text/html": [
       "<div>\n",
       "<style scoped>\n",
       "    .dataframe tbody tr th:only-of-type {\n",
       "        vertical-align: middle;\n",
       "    }\n",
       "\n",
       "    .dataframe tbody tr th {\n",
       "        vertical-align: top;\n",
       "    }\n",
       "\n",
       "    .dataframe thead th {\n",
       "        text-align: right;\n",
       "    }\n",
       "</style>\n",
       "<table border=\"1\" class=\"dataframe\">\n",
       "  <thead>\n",
       "    <tr style=\"text-align: right;\">\n",
       "      <th></th>\n",
       "      <th>rating</th>\n",
       "      <th>jp_sales</th>\n",
       "    </tr>\n",
       "  </thead>\n",
       "  <tbody>\n",
       "    <tr>\n",
       "      <td>4</td>\n",
       "      <td>not rated</td>\n",
       "      <td>85.05</td>\n",
       "    </tr>\n",
       "    <tr>\n",
       "      <td>3</td>\n",
       "      <td>T</td>\n",
       "      <td>20.59</td>\n",
       "    </tr>\n",
       "    <tr>\n",
       "      <td>0</td>\n",
       "      <td>E</td>\n",
       "      <td>15.14</td>\n",
       "    </tr>\n",
       "    <tr>\n",
       "      <td>2</td>\n",
       "      <td>M</td>\n",
       "      <td>14.11</td>\n",
       "    </tr>\n",
       "    <tr>\n",
       "      <td>1</td>\n",
       "      <td>E10+</td>\n",
       "      <td>5.89</td>\n",
       "    </tr>\n",
       "  </tbody>\n",
       "</table>\n",
       "</div>"
      ],
      "text/plain": [
       "      rating  jp_sales\n",
       "4  not rated     85.05\n",
       "3          T     20.59\n",
       "0          E     15.14\n",
       "2          M     14.11\n",
       "1       E10+      5.89"
      ]
     },
     "execution_count": 154,
     "metadata": {},
     "output_type": "execute_result"
    }
   ],
   "source": [
    "df.pivot_table(index = ['rating'], values=['jp_sales'], aggfunc='sum').reset_index().sort_values(by='jp_sales', ascending=False)"
   ]
  },
  {
   "cell_type": "markdown",
   "metadata": {},
   "source": [
    "В Японии наиболее популярны платформы: 3DS, PS4, WiiU, XOne, PC.  Наибольшей популярностью здесь пользуются консоли местных брендов Sony и Nintendo, так как местное население является целевой аудиторией, но что выделяет местный регион среди остальных это то что продажи игр на 3DS превосходят продажи своего ближайшего конкурента текущего поколения в 4 раза, портативные консоли судя по всему очень популярны в этой стране, так как и попавшие из предыдущих поколений PSP и PSV тоже попали в рейтинг, хоть мы их и не учитываем. Самые популярные жанры: рпг, экшн, разное, файтинги, шутеры. Судя по предпочтениям Япония особый рынок со своей игровой культурой, соответственно, и популярность жанров распределена по-другому. Самый популярный рейтинг это отсутствующий, скорее всего местные игроки предпочитают игры произведенные в их стране, которые не оценены международным рейтингом, что неудивительно ведь практически все игры произведенные в Японии не выходят за пределы страны от части из за язкового барьера, поэтому и не получают рейтинг.\n",
    "\n",
    "**Вывод** В целом рынок Европы не сильно отличается от рынка Северной Америки, по выбору платформ они идентичны, предпочтения в жанрах так же схожи, единственное европейцы предпочитают гонки, хоть и отрыв  от жанра разное не велик. Япония это особенный рынок, по части платформ и жанров они сильно отличаются от других, к примеру самой популярной платформой оказалась 3DS в отличие от PS4 в других регионах. Так же они предпочитают игры, которые произведены в их стране. При выборе стратегии выдачи игр в рекламе для разных регионов следует учесть выше указанные данные."
   ]
  },
  {
   "cell_type": "markdown",
   "metadata": {},
   "source": [
    "## Проверка гипотез\n",
    "\n",
    "Выдвинем гипотезы:\n",
    "\n",
    "* Средние пользовательские рейтинги платформ Xbox One и PC одинаковые;\n",
    "* Средние пользовательские рейтинги жанров Action и Sports разные.\n",
    "\n",
    "На основе этих гипотез проведем тесты.\n",
    "\n",
    "### Средние пользовательские рейтинги платформ Xbox One и PC одинаковые\n",
    "\n",
    "Введем нулевую гипотезу, что средние пользовательские рейтинги платформ Xbox One и PC одинаковые, а альтернативную, что средние пользовательские рейтинги платформ Xbox One и PC разные. Выборки для тестов уже были подготовлены, поэтому можно проверить сразу дисперсии обоих тестом Левена:"
   ]
  },
  {
   "cell_type": "code",
   "execution_count": 155,
   "metadata": {},
   "outputs": [
    {
     "data": {
      "text/plain": [
       "0.003897553110130418"
      ]
     },
     "execution_count": 155,
     "metadata": {},
     "output_type": "execute_result"
    }
   ],
   "source": [
    "stat, p = levene(user_score_pc['user_score'], user_score_xbox['user_score'])\n",
    "p"
   ]
  },
  {
   "cell_type": "markdown",
   "metadata": {},
   "source": [
    "Показатель ниже 0.05, поэтому считаем выборки неоднородными и указываем в дальнейшем тесте equal_var = False. Далее проверим гипотезу, отбросим в том случае если результат будет меньше 5%."
   ]
  },
  {
   "cell_type": "code",
   "execution_count": 161,
   "metadata": {},
   "outputs": [
    {
     "name": "stdout",
     "output_type": "stream",
     "text": [
      "p-значение:  0.14759594013430463\n",
      "Не получилось отвергнуть нулевую гипотезу\n"
     ]
    }
   ],
   "source": [
    "alpha = .05\n",
    "result_first = st.ttest_ind(user_score_pc['user_score'], user_score_xbox['user_score'], equal_var=False)\n",
    "\n",
    "print('p-значение: ', result_first.pvalue)\n",
    "\n",
    "if result_first.pvalue < alpha:\n",
    "    print(\"Отвергаем нулевую гипотезу\")\n",
    "else:\n",
    "    print(\"Не получилось отвергнуть нулевую гипотезу\") "
   ]
  },
  {
   "cell_type": "markdown",
   "metadata": {},
   "source": [
    "По результату теста принимаем нулевую гипотезу, которая гласит: Средние пользовательские рейтинги платформ Xbox One и PC одинаковые.\n",
    "\n",
    "### Средние пользовательские рейтинги жанров Action и Sports разные.\n",
    "\n",
    "Введем нулевую гипотезу, что cредние пользовательские рейтинги жанров Action и Sports одинаковые, а альтернативную, что средние пользовательские рейтинги жанров Action и Sports разные. Подготовим выборки для тестов:\n"
   ]
  },
  {
   "cell_type": "code",
   "execution_count": 158,
   "metadata": {},
   "outputs": [],
   "source": [
    "action_games_users = df.query('genre == \"Action\" and user_score != \"no score\"')\n",
    "sports_games_users = df.query('genre == \"Sports\" and user_score != \"no score\"')"
   ]
  },
  {
   "cell_type": "markdown",
   "metadata": {},
   "source": [
    "Проверим дисперсии обоих выборок тестом Левена:"
   ]
  },
  {
   "cell_type": "code",
   "execution_count": 162,
   "metadata": {},
   "outputs": [
    {
     "data": {
      "text/plain": [
       "4.2566688218274047e-07"
      ]
     },
     "execution_count": 162,
     "metadata": {},
     "output_type": "execute_result"
    }
   ],
   "source": [
    "stat, p = levene(action_games_users['user_score'], sports_games_users['user_score'])\n",
    "print('{:0.9f}'.format(p))"
   ]
  },
  {
   "cell_type": "markdown",
   "metadata": {},
   "source": [
    "Показатель ниже 0.05, поэтому считаем выборки неоднородными и указываем в дальнейшем тесте equal_var = False. Далее проверим гипотезу, отбросим в том случае если результат будет меньше 5%."
   ]
  },
  {
   "cell_type": "code",
   "execution_count": 160,
   "metadata": {},
   "outputs": [
    {
     "name": "stdout",
     "output_type": "stream",
     "text": [
      "p-значение:  0.000000000\n",
      "Отвергаем нулевую гипотезу\n"
     ]
    }
   ],
   "source": [
    "alpha = .05\n",
    "result_first = st.ttest_ind(action_games_users['user_score'], sports_games_users['user_score'], equal_var=False)\n",
    "\n",
    "print('p-значение: ', '{:0.9f}'.format(result_first.pvalue))\n",
    "\n",
    "if result_first.pvalue < alpha:\n",
    "    print(\"Отвергаем нулевую гипотезу\")\n",
    "else:\n",
    "    print(\"Не получилось отвергнуть нулевую гипотезу\") "
   ]
  },
  {
   "cell_type": "markdown",
   "metadata": {},
   "source": [
    "По результату теста отвергаем нулевую гипотезу и принимаем альтернативную, которая гласит, что средние пользовательские рейтинги жанров Action и Sports разные."
   ]
  },
  {
   "cell_type": "markdown",
   "metadata": {},
   "source": [
    "## Общий вывод\n",
    "\n",
    "Из анализа можно определить, что основными критериями определяющими продажи игры являются оценки критиков и выбранная платформа. Самыми прибыльными платформами являются платформы Sony, и абсолютным лидером на текущий момент является платформа PS4, самые продаваемые проекты сейчас на ней. Оценки критиков, которые чаще указывают на продоваемый продукт находятся выше 60 баллов. Самые популярные жанры платформер, спорт, шутер. Чаще всего игры не продаются тиражем более 0.5 млн копий. На продажи игр так же влияет выбор рынка, в случае с Северной Америкой и Европой критерии почти схожи, в целом их можно рассматривать как идентичный рынок, но в Японии преобладает платформа 3DS, и при этом выбор жанров кардинально отличается. Топ 5 жанров по регионам:\n",
    "\n",
    "* Северная Америка: экшн, спорт, шутер, разное, рпг;\n",
    "* Европа: экшн, спорт, шутер, разное, гонки;\n",
    "* Япония: рпг, экшн, разное, файтинги, шутеры.\n",
    "\n",
    "Так же в результате проверки были приняты следующие гипотезы, которые можно принять к рассмотрению:\n",
    "\n",
    "* Средние пользовательские рейтинги платформ Xbox One и PC одинаковые;\n",
    "* Cредние пользовательские рейтинги жанров Action и Sports разные.\n",
    "\n",
    "Эти данные необходимо учесть для того, чтобы понимать какие жанры предлагать покупателям в выдаче."
   ]
  }
 ],
 "metadata": {
  "ExecuteTimeLog": [
   {
    "duration": 100,
    "start_time": "2022-01-12T10:20:17.513Z"
   },
   {
    "duration": 797,
    "start_time": "2022-01-12T10:41:09.550Z"
   },
   {
    "duration": 14,
    "start_time": "2022-01-12T10:42:27.811Z"
   },
   {
    "duration": 19,
    "start_time": "2022-01-12T10:54:55.048Z"
   },
   {
    "duration": 14,
    "start_time": "2022-01-12T10:58:36.820Z"
   },
   {
    "duration": 33,
    "start_time": "2022-01-12T11:32:30.323Z"
   },
   {
    "duration": -142,
    "start_time": "2022-01-12T11:56:35.869Z"
   },
   {
    "duration": 69,
    "start_time": "2022-01-12T11:56:49.881Z"
   },
   {
    "duration": 12,
    "start_time": "2022-01-12T11:56:49.953Z"
   },
   {
    "duration": 297,
    "start_time": "2022-01-12T11:56:49.968Z"
   },
   {
    "duration": 63,
    "start_time": "2022-01-12T11:57:03.570Z"
   },
   {
    "duration": 12,
    "start_time": "2022-01-12T11:57:03.635Z"
   },
   {
    "duration": 285,
    "start_time": "2022-01-12T11:57:03.650Z"
   },
   {
    "duration": 349,
    "start_time": "2022-01-12T11:57:23.061Z"
   },
   {
    "duration": 315,
    "start_time": "2022-01-12T11:57:45.781Z"
   },
   {
    "duration": 316,
    "start_time": "2022-01-12T11:58:00.349Z"
   },
   {
    "duration": 347,
    "start_time": "2022-01-12T11:58:12.765Z"
   },
   {
    "duration": 320,
    "start_time": "2022-01-12T11:58:54.908Z"
   },
   {
    "duration": 362,
    "start_time": "2022-01-12T12:23:21.173Z"
   },
   {
    "duration": 13,
    "start_time": "2022-01-12T12:24:27.173Z"
   },
   {
    "duration": 347,
    "start_time": "2022-01-12T12:34:18.179Z"
   },
   {
    "duration": 70,
    "start_time": "2022-01-12T12:34:22.599Z"
   },
   {
    "duration": 13,
    "start_time": "2022-01-12T12:34:22.699Z"
   },
   {
    "duration": 420,
    "start_time": "2022-01-12T12:34:22.715Z"
   },
   {
    "duration": 321,
    "start_time": "2022-01-12T12:37:16.207Z"
   },
   {
    "duration": 301,
    "start_time": "2022-01-12T12:45:39.420Z"
   },
   {
    "duration": 311,
    "start_time": "2022-01-12T12:51:05.008Z"
   },
   {
    "duration": 389,
    "start_time": "2022-01-12T12:51:21.552Z"
   },
   {
    "duration": 34,
    "start_time": "2022-01-12T12:52:21.734Z"
   },
   {
    "duration": 35,
    "start_time": "2022-01-12T12:52:40.115Z"
   },
   {
    "duration": 21,
    "start_time": "2022-01-12T12:52:46.328Z"
   },
   {
    "duration": 319,
    "start_time": "2022-01-12T12:53:13.750Z"
   },
   {
    "duration": 299,
    "start_time": "2022-01-12T12:53:19.398Z"
   },
   {
    "duration": 281,
    "start_time": "2022-01-12T13:01:10.391Z"
   },
   {
    "duration": 67,
    "start_time": "2022-01-12T13:01:18.053Z"
   },
   {
    "duration": 12,
    "start_time": "2022-01-12T13:01:18.123Z"
   },
   {
    "duration": 394,
    "start_time": "2022-01-12T13:01:18.138Z"
   },
   {
    "duration": 301,
    "start_time": "2022-01-12T13:05:30.638Z"
   },
   {
    "duration": 70,
    "start_time": "2022-01-12T13:05:33.201Z"
   },
   {
    "duration": 44,
    "start_time": "2022-01-12T13:05:33.274Z"
   },
   {
    "duration": 322,
    "start_time": "2022-01-12T13:05:33.321Z"
   },
   {
    "duration": 19,
    "start_time": "2022-01-12T13:05:42.037Z"
   },
   {
    "duration": 21,
    "start_time": "2022-01-12T13:10:50.611Z"
   },
   {
    "duration": 17,
    "start_time": "2022-01-12T13:15:23.071Z"
   },
   {
    "duration": 21,
    "start_time": "2022-01-12T13:15:37.287Z"
   },
   {
    "duration": 4051,
    "start_time": "2022-01-12T13:15:52.143Z"
   },
   {
    "duration": 3759,
    "start_time": "2022-01-12T13:16:06.579Z"
   },
   {
    "duration": 65,
    "start_time": "2022-01-12T13:16:12.379Z"
   },
   {
    "duration": 16,
    "start_time": "2022-01-12T13:16:12.447Z"
   },
   {
    "duration": 19,
    "start_time": "2022-01-12T13:16:12.465Z"
   },
   {
    "duration": 371,
    "start_time": "2022-01-12T13:18:42.663Z"
   },
   {
    "duration": 392,
    "start_time": "2022-01-12T13:18:54.183Z"
   },
   {
    "duration": 23,
    "start_time": "2022-01-12T13:19:05.317Z"
   },
   {
    "duration": 16,
    "start_time": "2022-01-12T13:19:19.650Z"
   },
   {
    "duration": 320,
    "start_time": "2022-01-12T13:19:49.382Z"
   },
   {
    "duration": 307,
    "start_time": "2022-01-12T13:20:04.100Z"
   },
   {
    "duration": 15,
    "start_time": "2022-01-12T13:20:34.796Z"
   },
   {
    "duration": 288,
    "start_time": "2022-01-12T13:30:58.578Z"
   },
   {
    "duration": 16,
    "start_time": "2022-01-12T13:31:16.190Z"
   },
   {
    "duration": 20,
    "start_time": "2022-01-12T13:31:21.772Z"
   },
   {
    "duration": 37,
    "start_time": "2022-01-12T13:31:26.060Z"
   },
   {
    "duration": 25,
    "start_time": "2022-01-12T13:31:36.138Z"
   },
   {
    "duration": 24,
    "start_time": "2022-01-12T13:32:13.460Z"
   },
   {
    "duration": 34,
    "start_time": "2022-01-12T13:37:43.809Z"
   },
   {
    "duration": 452,
    "start_time": "2022-01-12T13:38:51.296Z"
   },
   {
    "duration": 32,
    "start_time": "2022-01-12T13:41:50.374Z"
   },
   {
    "duration": 26,
    "start_time": "2022-01-12T13:43:28.765Z"
   },
   {
    "duration": 28,
    "start_time": "2022-01-12T13:48:00.448Z"
   },
   {
    "duration": 352,
    "start_time": "2022-01-13T06:51:32.057Z"
   },
   {
    "duration": 862,
    "start_time": "2022-01-13T06:51:34.549Z"
   },
   {
    "duration": 14,
    "start_time": "2022-01-13T06:51:35.414Z"
   },
   {
    "duration": 165,
    "start_time": "2022-01-13T06:51:35.431Z"
   },
   {
    "duration": 423,
    "start_time": "2022-01-13T06:51:46.588Z"
   },
   {
    "duration": 313,
    "start_time": "2022-01-13T06:52:13.890Z"
   },
   {
    "duration": 642,
    "start_time": "2022-01-13T06:58:01.134Z"
   },
   {
    "duration": 342,
    "start_time": "2022-01-13T06:58:19.048Z"
   },
   {
    "duration": 356,
    "start_time": "2022-01-13T07:04:33.630Z"
   },
   {
    "duration": 28,
    "start_time": "2022-01-13T07:04:42.867Z"
   },
   {
    "duration": 301,
    "start_time": "2022-01-13T07:06:27.923Z"
   },
   {
    "duration": 36,
    "start_time": "2022-01-13T07:06:40.957Z"
   },
   {
    "duration": 36,
    "start_time": "2022-01-13T07:06:48.229Z"
   },
   {
    "duration": 37,
    "start_time": "2022-01-13T07:08:07.432Z"
   },
   {
    "duration": 352,
    "start_time": "2022-01-13T07:56:03.941Z"
   },
   {
    "duration": 325,
    "start_time": "2022-01-13T07:56:21.635Z"
   },
   {
    "duration": 31,
    "start_time": "2022-01-13T07:56:31.281Z"
   },
   {
    "duration": 31,
    "start_time": "2022-01-13T07:57:35.810Z"
   },
   {
    "duration": 30,
    "start_time": "2022-01-13T07:57:46.635Z"
   },
   {
    "duration": 32,
    "start_time": "2022-01-13T08:04:12.814Z"
   },
   {
    "duration": 38,
    "start_time": "2022-01-13T08:04:38.670Z"
   },
   {
    "duration": 53,
    "start_time": "2022-01-13T08:06:08.875Z"
   },
   {
    "duration": 68,
    "start_time": "2022-01-13T08:06:28.456Z"
   },
   {
    "duration": 51,
    "start_time": "2022-01-13T08:06:36.589Z"
   },
   {
    "duration": 72,
    "start_time": "2022-01-13T08:06:43.760Z"
   },
   {
    "duration": 13,
    "start_time": "2022-01-13T08:06:43.835Z"
   },
   {
    "duration": 53,
    "start_time": "2022-01-13T08:06:43.851Z"
   },
   {
    "duration": 26,
    "start_time": "2022-01-13T08:08:37.604Z"
   },
   {
    "duration": 12,
    "start_time": "2022-01-13T08:22:14.854Z"
   },
   {
    "duration": 11,
    "start_time": "2022-01-13T08:22:21.986Z"
   },
   {
    "duration": 26,
    "start_time": "2022-01-13T08:22:25.427Z"
   },
   {
    "duration": -1150,
    "start_time": "2022-01-13T08:53:41.527Z"
   },
   {
    "duration": -1150,
    "start_time": "2022-01-13T08:53:41.530Z"
   },
   {
    "duration": -1180,
    "start_time": "2022-01-13T08:53:41.562Z"
   },
   {
    "duration": -1179,
    "start_time": "2022-01-13T08:53:41.563Z"
   },
   {
    "duration": -1178,
    "start_time": "2022-01-13T08:53:41.565Z"
   },
   {
    "duration": 71,
    "start_time": "2022-01-13T08:53:48.712Z"
   },
   {
    "duration": 15,
    "start_time": "2022-01-13T08:53:48.786Z"
   },
   {
    "duration": 29,
    "start_time": "2022-01-13T08:53:48.804Z"
   },
   {
    "duration": 24,
    "start_time": "2022-01-13T08:53:48.864Z"
   },
   {
    "duration": 11999,
    "start_time": "2022-01-13T08:53:48.891Z"
   },
   {
    "duration": 11,
    "start_time": "2022-01-13T08:54:08.966Z"
   },
   {
    "duration": 16,
    "start_time": "2022-01-13T08:54:28.403Z"
   },
   {
    "duration": 22,
    "start_time": "2022-01-13T08:56:43.110Z"
   },
   {
    "duration": 16,
    "start_time": "2022-01-13T08:57:13.946Z"
   },
   {
    "duration": 72,
    "start_time": "2022-01-13T08:57:52.489Z"
   },
   {
    "duration": 13,
    "start_time": "2022-01-13T08:57:52.563Z"
   },
   {
    "duration": 27,
    "start_time": "2022-01-13T08:57:52.579Z"
   },
   {
    "duration": 56,
    "start_time": "2022-01-13T08:57:52.608Z"
   },
   {
    "duration": 15,
    "start_time": "2022-01-13T08:57:52.667Z"
   },
   {
    "duration": 16,
    "start_time": "2022-01-13T08:58:06.969Z"
   },
   {
    "duration": 16,
    "start_time": "2022-01-13T08:58:12.547Z"
   },
   {
    "duration": 16,
    "start_time": "2022-01-13T08:58:18.801Z"
   },
   {
    "duration": 7447,
    "start_time": "2022-01-13T08:58:51.825Z"
   },
   {
    "duration": 15,
    "start_time": "2022-01-13T08:59:20.653Z"
   },
   {
    "duration": 299,
    "start_time": "2022-01-13T09:03:57.670Z"
   },
   {
    "duration": 86,
    "start_time": "2022-01-13T09:04:01.356Z"
   },
   {
    "duration": 36,
    "start_time": "2022-01-13T09:04:01.445Z"
   },
   {
    "duration": 31,
    "start_time": "2022-01-13T09:04:01.484Z"
   },
   {
    "duration": 26,
    "start_time": "2022-01-13T09:04:01.518Z"
   },
   {
    "duration": 561,
    "start_time": "2022-01-13T09:04:01.546Z"
   },
   {
    "duration": 10,
    "start_time": "2022-01-13T09:05:38.466Z"
   },
   {
    "duration": 291,
    "start_time": "2022-01-13T09:06:39.884Z"
   },
   {
    "duration": 1234,
    "start_time": "2022-01-13T09:07:04.203Z"
   },
   {
    "duration": 15,
    "start_time": "2022-01-13T09:07:43.441Z"
   },
   {
    "duration": 322,
    "start_time": "2022-01-13T09:11:11.442Z"
   },
   {
    "duration": 38,
    "start_time": "2022-01-13T09:12:01.273Z"
   },
   {
    "duration": 55,
    "start_time": "2022-01-13T09:13:13.431Z"
   },
   {
    "duration": 39,
    "start_time": "2022-01-13T09:14:50.694Z"
   },
   {
    "duration": 26,
    "start_time": "2022-01-13T09:18:47.610Z"
   },
   {
    "duration": 30,
    "start_time": "2022-01-13T09:19:41.154Z"
   },
   {
    "duration": 35,
    "start_time": "2022-01-13T09:20:04.172Z"
   },
   {
    "duration": 37,
    "start_time": "2022-01-13T09:24:35.695Z"
   },
   {
    "duration": 71,
    "start_time": "2022-01-13T09:24:43.333Z"
   },
   {
    "duration": 295,
    "start_time": "2022-01-13T09:33:28.092Z"
   },
   {
    "duration": 9,
    "start_time": "2022-01-13T09:33:34.064Z"
   },
   {
    "duration": 9,
    "start_time": "2022-01-13T09:47:50.158Z"
   },
   {
    "duration": 15,
    "start_time": "2022-01-13T09:48:00.462Z"
   },
   {
    "duration": 69,
    "start_time": "2022-01-13T09:48:20.238Z"
   },
   {
    "duration": 14,
    "start_time": "2022-01-13T09:48:20.310Z"
   },
   {
    "duration": 41,
    "start_time": "2022-01-13T09:48:20.327Z"
   },
   {
    "duration": 26,
    "start_time": "2022-01-13T09:48:20.371Z"
   },
   {
    "duration": 8,
    "start_time": "2022-01-13T09:48:20.400Z"
   },
   {
    "duration": 12,
    "start_time": "2022-01-13T09:48:20.411Z"
   },
   {
    "duration": 69,
    "start_time": "2022-01-13T09:48:20.426Z"
   },
   {
    "duration": 37,
    "start_time": "2022-01-13T09:54:57.131Z"
   },
   {
    "duration": 36,
    "start_time": "2022-01-13T10:01:36.450Z"
   },
   {
    "duration": 6,
    "start_time": "2022-01-13T10:01:48.538Z"
   },
   {
    "duration": 452,
    "start_time": "2022-01-13T10:02:53.050Z"
   },
   {
    "duration": 23,
    "start_time": "2022-01-13T10:02:57.991Z"
   },
   {
    "duration": 316,
    "start_time": "2022-01-13T10:03:20.956Z"
   },
   {
    "duration": 23,
    "start_time": "2022-01-13T10:05:29.701Z"
   },
   {
    "duration": 25,
    "start_time": "2022-01-13T10:06:01.402Z"
   },
   {
    "duration": 23,
    "start_time": "2022-01-13T10:06:44.296Z"
   },
   {
    "duration": 26,
    "start_time": "2022-01-13T10:06:51.051Z"
   },
   {
    "duration": 24,
    "start_time": "2022-01-13T10:12:11.982Z"
   },
   {
    "duration": 446,
    "start_time": "2022-01-13T10:32:51.201Z"
   },
   {
    "duration": 334,
    "start_time": "2022-01-13T10:33:28.906Z"
   },
   {
    "duration": 303,
    "start_time": "2022-01-13T10:34:47.616Z"
   },
   {
    "duration": 317,
    "start_time": "2022-01-13T10:37:31.358Z"
   },
   {
    "duration": 343,
    "start_time": "2022-01-13T10:37:42.887Z"
   },
   {
    "duration": 100,
    "start_time": "2022-01-13T10:37:45.437Z"
   },
   {
    "duration": 23,
    "start_time": "2022-01-13T10:37:45.540Z"
   },
   {
    "duration": 27,
    "start_time": "2022-01-13T10:37:45.568Z"
   },
   {
    "duration": 64,
    "start_time": "2022-01-13T10:37:45.599Z"
   },
   {
    "duration": 11,
    "start_time": "2022-01-13T10:37:45.666Z"
   },
   {
    "duration": 12,
    "start_time": "2022-01-13T10:37:45.680Z"
   },
   {
    "duration": 6,
    "start_time": "2022-01-13T10:37:45.694Z"
   },
   {
    "duration": 9,
    "start_time": "2022-01-13T10:37:45.702Z"
   },
   {
    "duration": 67,
    "start_time": "2022-01-13T10:37:45.714Z"
   },
   {
    "duration": 320,
    "start_time": "2022-01-13T10:37:45.783Z"
   },
   {
    "duration": 303,
    "start_time": "2022-01-13T10:40:03.460Z"
   },
   {
    "duration": 100,
    "start_time": "2022-01-13T10:40:34.164Z"
   },
   {
    "duration": 21,
    "start_time": "2022-01-13T10:40:34.268Z"
   },
   {
    "duration": 39,
    "start_time": "2022-01-13T10:40:34.294Z"
   },
   {
    "duration": 39,
    "start_time": "2022-01-13T10:40:34.365Z"
   },
   {
    "duration": 11,
    "start_time": "2022-01-13T10:40:34.407Z"
   },
   {
    "duration": 44,
    "start_time": "2022-01-13T10:40:34.422Z"
   },
   {
    "duration": 7,
    "start_time": "2022-01-13T10:40:34.469Z"
   },
   {
    "duration": 5,
    "start_time": "2022-01-13T10:40:34.478Z"
   },
   {
    "duration": 4,
    "start_time": "2022-01-13T10:40:34.487Z"
   },
   {
    "duration": 505,
    "start_time": "2022-01-13T10:40:34.494Z"
   },
   {
    "duration": 42,
    "start_time": "2022-01-13T10:44:48.188Z"
   },
   {
    "duration": 38,
    "start_time": "2022-01-13T10:51:35.863Z"
   },
   {
    "duration": 296,
    "start_time": "2022-01-13T10:51:51.031Z"
   },
   {
    "duration": 104,
    "start_time": "2022-01-13T11:00:12.898Z"
   },
   {
    "duration": 390,
    "start_time": "2022-01-13T11:00:37.836Z"
   },
   {
    "duration": 486,
    "start_time": "2022-01-13T11:01:23.847Z"
   },
   {
    "duration": 448,
    "start_time": "2022-01-13T11:02:33.639Z"
   },
   {
    "duration": 73,
    "start_time": "2022-01-13T11:02:37.327Z"
   },
   {
    "duration": 16,
    "start_time": "2022-01-13T11:02:37.404Z"
   },
   {
    "duration": 50,
    "start_time": "2022-01-13T11:02:37.423Z"
   },
   {
    "duration": 23,
    "start_time": "2022-01-13T11:02:37.476Z"
   },
   {
    "duration": 9,
    "start_time": "2022-01-13T11:02:37.501Z"
   },
   {
    "duration": 9,
    "start_time": "2022-01-13T11:02:37.512Z"
   },
   {
    "duration": 41,
    "start_time": "2022-01-13T11:02:37.524Z"
   },
   {
    "duration": 6,
    "start_time": "2022-01-13T11:02:37.568Z"
   },
   {
    "duration": 26,
    "start_time": "2022-01-13T11:02:37.577Z"
   },
   {
    "duration": 419,
    "start_time": "2022-01-13T11:02:37.606Z"
   },
   {
    "duration": 376,
    "start_time": "2022-01-13T11:14:29.795Z"
   },
   {
    "duration": 802,
    "start_time": "2022-01-13T11:15:32.375Z"
   },
   {
    "duration": 372,
    "start_time": "2022-01-13T11:15:46.561Z"
   },
   {
    "duration": 75,
    "start_time": "2022-01-13T11:16:40.301Z"
   },
   {
    "duration": 13,
    "start_time": "2022-01-13T11:16:40.378Z"
   },
   {
    "duration": 26,
    "start_time": "2022-01-13T11:16:40.395Z"
   },
   {
    "duration": 55,
    "start_time": "2022-01-13T11:16:40.425Z"
   },
   {
    "duration": 10,
    "start_time": "2022-01-13T11:16:40.483Z"
   },
   {
    "duration": 11,
    "start_time": "2022-01-13T11:16:40.496Z"
   },
   {
    "duration": 7,
    "start_time": "2022-01-13T11:16:40.510Z"
   },
   {
    "duration": 43,
    "start_time": "2022-01-13T11:16:40.520Z"
   },
   {
    "duration": 28,
    "start_time": "2022-01-13T11:16:40.567Z"
   },
   {
    "duration": 520,
    "start_time": "2022-01-13T11:16:40.598Z"
   },
   {
    "duration": 407,
    "start_time": "2022-01-13T11:16:41.121Z"
   },
   {
    "duration": 383,
    "start_time": "2022-01-13T11:16:41.531Z"
   },
   {
    "duration": 9,
    "start_time": "2022-01-13T11:27:59.696Z"
   },
   {
    "duration": 4,
    "start_time": "2022-01-13T11:36:03.629Z"
   },
   {
    "duration": 73,
    "start_time": "2022-01-13T11:36:06.049Z"
   },
   {
    "duration": 14,
    "start_time": "2022-01-13T11:36:06.126Z"
   },
   {
    "duration": 26,
    "start_time": "2022-01-13T11:36:06.163Z"
   },
   {
    "duration": 25,
    "start_time": "2022-01-13T11:36:06.192Z"
   },
   {
    "duration": 8,
    "start_time": "2022-01-13T11:36:06.220Z"
   },
   {
    "duration": 35,
    "start_time": "2022-01-13T11:36:06.230Z"
   },
   {
    "duration": 8,
    "start_time": "2022-01-13T11:36:06.268Z"
   },
   {
    "duration": 5,
    "start_time": "2022-01-13T11:36:06.279Z"
   },
   {
    "duration": 10,
    "start_time": "2022-01-13T11:36:06.289Z"
   },
   {
    "duration": 80,
    "start_time": "2022-01-13T11:36:06.302Z"
   },
   {
    "duration": 390,
    "start_time": "2022-01-13T11:36:06.385Z"
   },
   {
    "duration": 409,
    "start_time": "2022-01-13T11:36:06.777Z"
   },
   {
    "duration": 4,
    "start_time": "2022-01-13T11:59:11.307Z"
   },
   {
    "duration": 27,
    "start_time": "2022-01-13T12:00:16.849Z"
   },
   {
    "duration": 386,
    "start_time": "2022-01-13T12:04:13.241Z"
   },
   {
    "duration": 13,
    "start_time": "2022-01-13T12:04:26.743Z"
   },
   {
    "duration": 76,
    "start_time": "2022-01-13T12:04:30.468Z"
   },
   {
    "duration": 22,
    "start_time": "2022-01-13T12:04:30.548Z"
   },
   {
    "duration": 32,
    "start_time": "2022-01-13T12:04:30.574Z"
   },
   {
    "duration": 33,
    "start_time": "2022-01-13T12:04:30.610Z"
   },
   {
    "duration": 21,
    "start_time": "2022-01-13T12:04:30.646Z"
   },
   {
    "duration": 33,
    "start_time": "2022-01-13T12:04:30.670Z"
   },
   {
    "duration": 51,
    "start_time": "2022-01-13T12:04:30.706Z"
   },
   {
    "duration": 27,
    "start_time": "2022-01-13T12:04:30.760Z"
   },
   {
    "duration": 422,
    "start_time": "2022-01-13T12:04:30.791Z"
   },
   {
    "duration": 482,
    "start_time": "2022-01-13T12:04:31.215Z"
   },
   {
    "duration": 20,
    "start_time": "2022-01-13T12:04:31.700Z"
   },
   {
    "duration": 10,
    "start_time": "2022-01-13T12:04:50.763Z"
   },
   {
    "duration": 313,
    "start_time": "2022-01-13T12:05:18.752Z"
   },
   {
    "duration": 77,
    "start_time": "2022-01-13T12:05:22.148Z"
   },
   {
    "duration": 36,
    "start_time": "2022-01-13T12:05:22.227Z"
   },
   {
    "duration": 28,
    "start_time": "2022-01-13T12:05:22.267Z"
   },
   {
    "duration": 24,
    "start_time": "2022-01-13T12:05:22.298Z"
   },
   {
    "duration": 38,
    "start_time": "2022-01-13T12:05:22.325Z"
   },
   {
    "duration": 3,
    "start_time": "2022-01-13T12:05:22.366Z"
   },
   {
    "duration": 558,
    "start_time": "2022-01-13T12:05:22.372Z"
   },
   {
    "duration": -1238,
    "start_time": "2022-01-13T12:05:24.172Z"
   },
   {
    "duration": -1242,
    "start_time": "2022-01-13T12:05:24.178Z"
   },
   {
    "duration": -1244,
    "start_time": "2022-01-13T12:05:24.181Z"
   },
   {
    "duration": -1253,
    "start_time": "2022-01-13T12:05:24.192Z"
   },
   {
    "duration": 74,
    "start_time": "2022-01-13T12:05:47.278Z"
   },
   {
    "duration": 14,
    "start_time": "2022-01-13T12:05:47.354Z"
   },
   {
    "duration": 24,
    "start_time": "2022-01-13T12:05:47.372Z"
   },
   {
    "duration": 25,
    "start_time": "2022-01-13T12:05:47.399Z"
   },
   {
    "duration": 38,
    "start_time": "2022-01-13T12:05:47.427Z"
   },
   {
    "duration": 5,
    "start_time": "2022-01-13T12:05:47.469Z"
   },
   {
    "duration": 11,
    "start_time": "2022-01-13T12:05:47.477Z"
   },
   {
    "duration": 33,
    "start_time": "2022-01-13T12:05:47.491Z"
   },
   {
    "duration": 571,
    "start_time": "2022-01-13T12:05:47.528Z"
   },
   {
    "duration": 531,
    "start_time": "2022-01-13T12:05:48.102Z"
   },
   {
    "duration": 37,
    "start_time": "2022-01-13T12:05:48.636Z"
   },
   {
    "duration": 921,
    "start_time": "2022-01-13T14:30:25.281Z"
   },
   {
    "duration": 19,
    "start_time": "2022-01-13T14:30:26.206Z"
   },
   {
    "duration": 47,
    "start_time": "2022-01-13T14:30:26.228Z"
   },
   {
    "duration": 25,
    "start_time": "2022-01-13T14:30:26.278Z"
   },
   {
    "duration": 7,
    "start_time": "2022-01-13T14:30:26.305Z"
   },
   {
    "duration": 5,
    "start_time": "2022-01-13T14:30:26.314Z"
   },
   {
    "duration": 12,
    "start_time": "2022-01-13T14:30:26.322Z"
   },
   {
    "duration": 55,
    "start_time": "2022-01-13T14:30:26.336Z"
   },
   {
    "duration": 524,
    "start_time": "2022-01-13T14:30:26.396Z"
   },
   {
    "duration": 396,
    "start_time": "2022-01-13T14:30:26.924Z"
   },
   {
    "duration": 20,
    "start_time": "2022-01-13T14:30:27.322Z"
   },
   {
    "duration": 479,
    "start_time": "2022-01-13T14:34:18.183Z"
   },
   {
    "duration": 70,
    "start_time": "2022-01-13T14:34:25.945Z"
   },
   {
    "duration": 14,
    "start_time": "2022-01-13T14:34:26.017Z"
   },
   {
    "duration": 52,
    "start_time": "2022-01-13T14:34:26.035Z"
   },
   {
    "duration": 26,
    "start_time": "2022-01-13T14:34:26.090Z"
   },
   {
    "duration": 5,
    "start_time": "2022-01-13T14:34:26.119Z"
   },
   {
    "duration": 5,
    "start_time": "2022-01-13T14:34:26.127Z"
   },
   {
    "duration": 36,
    "start_time": "2022-01-13T14:34:26.135Z"
   },
   {
    "duration": 26,
    "start_time": "2022-01-13T14:34:26.173Z"
   },
   {
    "duration": 453,
    "start_time": "2022-01-13T14:34:26.202Z"
   },
   {
    "duration": 445,
    "start_time": "2022-01-13T14:34:26.658Z"
   },
   {
    "duration": 343,
    "start_time": "2022-01-13T14:34:27.106Z"
   },
   {
    "duration": 298,
    "start_time": "2022-01-13T14:35:01.409Z"
   },
   {
    "duration": 17,
    "start_time": "2022-01-13T14:35:21.489Z"
   },
   {
    "duration": 17,
    "start_time": "2022-01-13T14:36:48.799Z"
   },
   {
    "duration": 15,
    "start_time": "2022-01-13T14:36:55.314Z"
   },
   {
    "duration": 77,
    "start_time": "2022-01-13T14:37:05.364Z"
   },
   {
    "duration": 15,
    "start_time": "2022-01-13T14:37:05.444Z"
   },
   {
    "duration": 28,
    "start_time": "2022-01-13T14:37:05.469Z"
   },
   {
    "duration": 27,
    "start_time": "2022-01-13T14:37:05.499Z"
   },
   {
    "duration": 6,
    "start_time": "2022-01-13T14:37:05.529Z"
   },
   {
    "duration": 3,
    "start_time": "2022-01-13T14:37:05.569Z"
   },
   {
    "duration": 15,
    "start_time": "2022-01-13T14:37:05.574Z"
   },
   {
    "duration": 25,
    "start_time": "2022-01-13T14:37:05.591Z"
   },
   {
    "duration": 423,
    "start_time": "2022-01-13T14:37:05.619Z"
   },
   {
    "duration": 526,
    "start_time": "2022-01-13T14:37:06.044Z"
   },
   {
    "duration": 15,
    "start_time": "2022-01-13T14:37:06.572Z"
   },
   {
    "duration": 70,
    "start_time": "2022-01-13T14:37:12.995Z"
   },
   {
    "duration": 13,
    "start_time": "2022-01-13T14:37:13.068Z"
   },
   {
    "duration": 26,
    "start_time": "2022-01-13T14:37:13.084Z"
   },
   {
    "duration": 56,
    "start_time": "2022-01-13T14:37:13.113Z"
   },
   {
    "duration": 5,
    "start_time": "2022-01-13T14:37:13.172Z"
   },
   {
    "duration": 6,
    "start_time": "2022-01-13T14:37:13.179Z"
   },
   {
    "duration": 11,
    "start_time": "2022-01-13T14:37:13.187Z"
   },
   {
    "duration": 27,
    "start_time": "2022-01-13T14:37:13.201Z"
   },
   {
    "duration": 435,
    "start_time": "2022-01-13T14:37:13.232Z"
   },
   {
    "duration": 394,
    "start_time": "2022-01-13T14:37:13.669Z"
   },
   {
    "duration": 16,
    "start_time": "2022-01-13T14:37:14.068Z"
   },
   {
    "duration": 24,
    "start_time": "2022-01-13T14:38:09.326Z"
   },
   {
    "duration": 71,
    "start_time": "2022-01-13T14:38:38.794Z"
   },
   {
    "duration": 16,
    "start_time": "2022-01-13T14:38:38.867Z"
   },
   {
    "duration": 25,
    "start_time": "2022-01-13T14:38:38.886Z"
   },
   {
    "duration": 58,
    "start_time": "2022-01-13T14:38:38.914Z"
   },
   {
    "duration": 7,
    "start_time": "2022-01-13T14:38:38.974Z"
   },
   {
    "duration": 9,
    "start_time": "2022-01-13T14:38:38.983Z"
   },
   {
    "duration": 12,
    "start_time": "2022-01-13T14:38:38.995Z"
   },
   {
    "duration": 57,
    "start_time": "2022-01-13T14:38:39.010Z"
   },
   {
    "duration": 385,
    "start_time": "2022-01-13T14:38:39.071Z"
   },
   {
    "duration": 389,
    "start_time": "2022-01-13T14:38:39.459Z"
   },
   {
    "duration": 24,
    "start_time": "2022-01-13T14:38:39.851Z"
   },
   {
    "duration": 16,
    "start_time": "2022-01-13T14:46:13.765Z"
   },
   {
    "duration": 20,
    "start_time": "2022-01-13T14:48:13.211Z"
   },
   {
    "duration": 10,
    "start_time": "2022-01-13T14:48:17.761Z"
   },
   {
    "duration": 10,
    "start_time": "2022-01-13T14:48:40.950Z"
   },
   {
    "duration": 75,
    "start_time": "2022-01-13T14:49:28.389Z"
   },
   {
    "duration": 13,
    "start_time": "2022-01-13T14:49:28.466Z"
   },
   {
    "duration": 24,
    "start_time": "2022-01-13T14:49:28.482Z"
   },
   {
    "duration": 25,
    "start_time": "2022-01-13T14:49:28.509Z"
   },
   {
    "duration": 36,
    "start_time": "2022-01-13T14:49:28.536Z"
   },
   {
    "duration": 6,
    "start_time": "2022-01-13T14:49:28.575Z"
   },
   {
    "duration": 23,
    "start_time": "2022-01-13T14:49:28.583Z"
   },
   {
    "duration": 27,
    "start_time": "2022-01-13T14:49:28.609Z"
   },
   {
    "duration": 432,
    "start_time": "2022-01-13T14:49:28.640Z"
   },
   {
    "duration": 399,
    "start_time": "2022-01-13T14:49:29.075Z"
   },
   {
    "duration": 9,
    "start_time": "2022-01-13T14:49:29.477Z"
   },
   {
    "duration": 9,
    "start_time": "2022-01-13T14:49:29.488Z"
   },
   {
    "duration": 70,
    "start_time": "2022-01-13T14:50:24.357Z"
   },
   {
    "duration": 15,
    "start_time": "2022-01-13T14:50:24.429Z"
   },
   {
    "duration": 45,
    "start_time": "2022-01-13T14:50:24.447Z"
   },
   {
    "duration": 28,
    "start_time": "2022-01-13T14:50:24.496Z"
   },
   {
    "duration": 40,
    "start_time": "2022-01-13T14:50:24.527Z"
   },
   {
    "duration": 5,
    "start_time": "2022-01-13T14:50:24.570Z"
   },
   {
    "duration": 16,
    "start_time": "2022-01-13T14:50:24.577Z"
   },
   {
    "duration": 33,
    "start_time": "2022-01-13T14:50:24.596Z"
   },
   {
    "duration": 513,
    "start_time": "2022-01-13T14:50:24.634Z"
   },
   {
    "duration": 456,
    "start_time": "2022-01-13T14:50:25.150Z"
   },
   {
    "duration": 9,
    "start_time": "2022-01-13T14:50:25.609Z"
   },
   {
    "duration": 9,
    "start_time": "2022-01-13T14:50:25.621Z"
   },
   {
    "duration": 79,
    "start_time": "2022-01-13T14:51:27.847Z"
   },
   {
    "duration": 15,
    "start_time": "2022-01-13T14:51:27.930Z"
   },
   {
    "duration": 120,
    "start_time": "2022-01-13T14:51:27.948Z"
   },
   {
    "duration": 26,
    "start_time": "2022-01-13T14:51:28.072Z"
   },
   {
    "duration": 6,
    "start_time": "2022-01-13T14:51:28.101Z"
   },
   {
    "duration": 16,
    "start_time": "2022-01-13T14:51:28.110Z"
   },
   {
    "duration": 10,
    "start_time": "2022-01-13T14:51:28.129Z"
   },
   {
    "duration": 26,
    "start_time": "2022-01-13T14:51:28.168Z"
   },
   {
    "duration": 415,
    "start_time": "2022-01-13T14:51:28.197Z"
   },
   {
    "duration": 388,
    "start_time": "2022-01-13T14:51:28.614Z"
   },
   {
    "duration": 12,
    "start_time": "2022-01-13T14:51:29.005Z"
   },
   {
    "duration": 19,
    "start_time": "2022-01-13T14:51:29.019Z"
   },
   {
    "duration": 69,
    "start_time": "2022-01-13T14:54:59.540Z"
   },
   {
    "duration": 13,
    "start_time": "2022-01-13T14:54:59.612Z"
   },
   {
    "duration": 45,
    "start_time": "2022-01-13T14:54:59.628Z"
   },
   {
    "duration": 25,
    "start_time": "2022-01-13T14:54:59.676Z"
   },
   {
    "duration": 7,
    "start_time": "2022-01-13T14:54:59.703Z"
   },
   {
    "duration": 5,
    "start_time": "2022-01-13T14:54:59.712Z"
   },
   {
    "duration": 12,
    "start_time": "2022-01-13T14:54:59.720Z"
   },
   {
    "duration": 27,
    "start_time": "2022-01-13T14:54:59.767Z"
   },
   {
    "duration": 434,
    "start_time": "2022-01-13T14:54:59.799Z"
   },
   {
    "duration": 434,
    "start_time": "2022-01-13T14:55:00.236Z"
   },
   {
    "duration": 9,
    "start_time": "2022-01-13T14:55:00.672Z"
   },
   {
    "duration": 11,
    "start_time": "2022-01-13T14:55:00.683Z"
   },
   {
    "duration": 68,
    "start_time": "2022-01-13T14:55:29.947Z"
   },
   {
    "duration": 14,
    "start_time": "2022-01-13T14:55:30.017Z"
   },
   {
    "duration": 43,
    "start_time": "2022-01-13T14:55:30.034Z"
   },
   {
    "duration": 27,
    "start_time": "2022-01-13T14:55:30.079Z"
   },
   {
    "duration": 6,
    "start_time": "2022-01-13T14:55:30.109Z"
   },
   {
    "duration": 13,
    "start_time": "2022-01-13T14:55:30.117Z"
   },
   {
    "duration": 38,
    "start_time": "2022-01-13T14:55:30.132Z"
   },
   {
    "duration": 42,
    "start_time": "2022-01-13T14:55:30.173Z"
   },
   {
    "duration": 404,
    "start_time": "2022-01-13T14:55:30.217Z"
   },
   {
    "duration": 403,
    "start_time": "2022-01-13T14:55:30.624Z"
   },
   {
    "duration": 11,
    "start_time": "2022-01-13T14:55:31.029Z"
   },
   {
    "duration": 32,
    "start_time": "2022-01-13T14:55:31.042Z"
   },
   {
    "duration": 14,
    "start_time": "2022-01-13T15:08:47.068Z"
   },
   {
    "duration": 16,
    "start_time": "2022-01-13T15:09:26.669Z"
   },
   {
    "duration": 17,
    "start_time": "2022-01-13T15:09:52.419Z"
   },
   {
    "duration": 341,
    "start_time": "2022-01-13T15:10:42.207Z"
   },
   {
    "duration": 941,
    "start_time": "2022-01-13T15:19:10.637Z"
   },
   {
    "duration": 15,
    "start_time": "2022-01-13T15:19:11.581Z"
   },
   {
    "duration": 24,
    "start_time": "2022-01-13T15:19:11.600Z"
   },
   {
    "duration": 59,
    "start_time": "2022-01-13T15:19:11.627Z"
   },
   {
    "duration": 11,
    "start_time": "2022-01-13T15:19:11.688Z"
   },
   {
    "duration": 4,
    "start_time": "2022-01-13T15:19:11.701Z"
   },
   {
    "duration": 10,
    "start_time": "2022-01-13T15:19:11.707Z"
   },
   {
    "duration": 63,
    "start_time": "2022-01-13T15:19:11.720Z"
   },
   {
    "duration": 531,
    "start_time": "2022-01-13T15:19:11.786Z"
   },
   {
    "duration": 425,
    "start_time": "2022-01-13T15:19:12.322Z"
   },
   {
    "duration": 20,
    "start_time": "2022-01-13T15:19:12.750Z"
   },
   {
    "duration": 851,
    "start_time": "2022-01-13T15:23:14.911Z"
   },
   {
    "duration": 14,
    "start_time": "2022-01-13T15:23:15.765Z"
   },
   {
    "duration": 28,
    "start_time": "2022-01-13T15:23:15.783Z"
   },
   {
    "duration": 57,
    "start_time": "2022-01-13T15:23:15.814Z"
   },
   {
    "duration": 7,
    "start_time": "2022-01-13T15:23:15.874Z"
   },
   {
    "duration": 3,
    "start_time": "2022-01-13T15:23:15.884Z"
   },
   {
    "duration": 11,
    "start_time": "2022-01-13T15:23:15.889Z"
   },
   {
    "duration": 64,
    "start_time": "2022-01-13T15:23:15.903Z"
   },
   {
    "duration": 499,
    "start_time": "2022-01-13T15:23:15.971Z"
   },
   {
    "duration": 403,
    "start_time": "2022-01-13T15:23:16.472Z"
   },
   {
    "duration": 10,
    "start_time": "2022-01-13T15:23:16.878Z"
   },
   {
    "duration": 135,
    "start_time": "2022-01-13T15:23:50.468Z"
   },
   {
    "duration": 117,
    "start_time": "2022-01-13T15:25:47.855Z"
   },
   {
    "duration": 117,
    "start_time": "2022-01-13T15:25:59.968Z"
   },
   {
    "duration": 111,
    "start_time": "2022-01-13T15:26:40.866Z"
   },
   {
    "duration": 86,
    "start_time": "2022-01-13T15:26:50.690Z"
   },
   {
    "duration": 100,
    "start_time": "2022-01-13T15:27:04.291Z"
   },
   {
    "duration": 573,
    "start_time": "2022-01-13T15:27:29.224Z"
   },
   {
    "duration": 716,
    "start_time": "2022-01-13T15:29:34.139Z"
   },
   {
    "duration": 625,
    "start_time": "2022-01-14T05:50:10.613Z"
   },
   {
    "duration": 10,
    "start_time": "2022-01-14T05:50:11.240Z"
   },
   {
    "duration": 20,
    "start_time": "2022-01-14T05:50:11.251Z"
   },
   {
    "duration": 34,
    "start_time": "2022-01-14T05:50:11.272Z"
   },
   {
    "duration": 5,
    "start_time": "2022-01-14T05:50:11.308Z"
   },
   {
    "duration": 5,
    "start_time": "2022-01-14T05:50:11.315Z"
   },
   {
    "duration": 13,
    "start_time": "2022-01-14T05:50:11.322Z"
   },
   {
    "duration": 19,
    "start_time": "2022-01-14T05:50:11.337Z"
   },
   {
    "duration": 339,
    "start_time": "2022-01-14T05:50:11.358Z"
   },
   {
    "duration": 253,
    "start_time": "2022-01-14T05:50:11.698Z"
   },
   {
    "duration": 7,
    "start_time": "2022-01-14T05:50:11.953Z"
   },
   {
    "duration": 24,
    "start_time": "2022-01-14T05:50:11.961Z"
   },
   {
    "duration": 371,
    "start_time": "2022-01-14T05:50:11.991Z"
   },
   {
    "duration": 315,
    "start_time": "2022-01-14T06:01:31.490Z"
   },
   {
    "duration": 260,
    "start_time": "2022-01-14T06:02:32.236Z"
   },
   {
    "duration": 364,
    "start_time": "2022-01-14T06:31:50.605Z"
   },
   {
    "duration": 189,
    "start_time": "2022-01-14T06:32:45.716Z"
   },
   {
    "duration": 14,
    "start_time": "2022-01-14T06:33:13.270Z"
   },
   {
    "duration": 336,
    "start_time": "2022-01-14T06:33:30.612Z"
   },
   {
    "duration": 482,
    "start_time": "2022-01-14T06:34:10.409Z"
   },
   {
    "duration": 719,
    "start_time": "2022-01-14T06:34:34.103Z"
   },
   {
    "duration": 54,
    "start_time": "2022-01-14T06:34:37.006Z"
   },
   {
    "duration": 10,
    "start_time": "2022-01-14T06:34:37.062Z"
   },
   {
    "duration": 18,
    "start_time": "2022-01-14T06:34:37.073Z"
   },
   {
    "duration": 16,
    "start_time": "2022-01-14T06:34:37.093Z"
   },
   {
    "duration": 4,
    "start_time": "2022-01-14T06:34:37.110Z"
   },
   {
    "duration": 4,
    "start_time": "2022-01-14T06:34:37.116Z"
   },
   {
    "duration": 7,
    "start_time": "2022-01-14T06:34:37.122Z"
   },
   {
    "duration": 16,
    "start_time": "2022-01-14T06:34:37.131Z"
   },
   {
    "duration": 258,
    "start_time": "2022-01-14T06:34:37.149Z"
   },
   {
    "duration": 247,
    "start_time": "2022-01-14T06:34:37.409Z"
   },
   {
    "duration": 7,
    "start_time": "2022-01-14T06:34:37.658Z"
   },
   {
    "duration": 27,
    "start_time": "2022-01-14T06:34:37.666Z"
   },
   {
    "duration": 269,
    "start_time": "2022-01-14T06:34:37.695Z"
   },
   {
    "duration": 777,
    "start_time": "2022-01-14T06:34:37.965Z"
   },
   {
    "duration": 659,
    "start_time": "2022-01-14T06:35:31.734Z"
   },
   {
    "duration": 458,
    "start_time": "2022-01-14T06:37:30.315Z"
   },
   {
    "duration": 243,
    "start_time": "2022-01-14T06:40:06.941Z"
   },
   {
    "duration": 6,
    "start_time": "2022-01-14T06:43:44.631Z"
   },
   {
    "duration": 52,
    "start_time": "2022-01-14T06:43:47.044Z"
   },
   {
    "duration": 9,
    "start_time": "2022-01-14T06:43:47.098Z"
   },
   {
    "duration": 15,
    "start_time": "2022-01-14T06:43:47.109Z"
   },
   {
    "duration": 17,
    "start_time": "2022-01-14T06:43:47.126Z"
   },
   {
    "duration": 5,
    "start_time": "2022-01-14T06:43:47.144Z"
   },
   {
    "duration": 4,
    "start_time": "2022-01-14T06:43:47.150Z"
   },
   {
    "duration": 37,
    "start_time": "2022-01-14T06:43:47.156Z"
   },
   {
    "duration": 27,
    "start_time": "2022-01-14T06:43:47.195Z"
   },
   {
    "duration": 253,
    "start_time": "2022-01-14T06:43:47.224Z"
   },
   {
    "duration": 246,
    "start_time": "2022-01-14T06:43:47.479Z"
   },
   {
    "duration": 6,
    "start_time": "2022-01-14T06:43:47.727Z"
   },
   {
    "duration": 40,
    "start_time": "2022-01-14T06:43:47.735Z"
   },
   {
    "duration": 284,
    "start_time": "2022-01-14T06:43:47.778Z"
   },
   {
    "duration": 269,
    "start_time": "2022-01-14T06:43:48.064Z"
   },
   {
    "duration": 52,
    "start_time": "2022-01-14T06:44:12.047Z"
   },
   {
    "duration": 9,
    "start_time": "2022-01-14T06:44:12.101Z"
   },
   {
    "duration": 29,
    "start_time": "2022-01-14T06:44:12.112Z"
   },
   {
    "duration": 25,
    "start_time": "2022-01-14T06:44:12.142Z"
   },
   {
    "duration": 4,
    "start_time": "2022-01-14T06:44:12.168Z"
   },
   {
    "duration": 12,
    "start_time": "2022-01-14T06:44:12.173Z"
   },
   {
    "duration": 20,
    "start_time": "2022-01-14T06:44:12.187Z"
   },
   {
    "duration": 33,
    "start_time": "2022-01-14T06:44:12.209Z"
   },
   {
    "duration": 246,
    "start_time": "2022-01-14T06:44:12.245Z"
   },
   {
    "duration": 327,
    "start_time": "2022-01-14T06:44:12.493Z"
   },
   {
    "duration": 7,
    "start_time": "2022-01-14T06:44:12.822Z"
   },
   {
    "duration": 37,
    "start_time": "2022-01-14T06:44:12.831Z"
   },
   {
    "duration": 274,
    "start_time": "2022-01-14T06:44:12.869Z"
   },
   {
    "duration": 260,
    "start_time": "2022-01-14T06:44:13.144Z"
   },
   {
    "duration": 51,
    "start_time": "2022-01-14T06:44:51.863Z"
   },
   {
    "duration": 10,
    "start_time": "2022-01-14T06:44:51.916Z"
   },
   {
    "duration": 17,
    "start_time": "2022-01-14T06:44:51.928Z"
   },
   {
    "duration": 18,
    "start_time": "2022-01-14T06:44:51.947Z"
   },
   {
    "duration": 26,
    "start_time": "2022-01-14T06:44:51.967Z"
   },
   {
    "duration": 5,
    "start_time": "2022-01-14T06:44:51.995Z"
   },
   {
    "duration": 19,
    "start_time": "2022-01-14T06:44:52.002Z"
   },
   {
    "duration": 20,
    "start_time": "2022-01-14T06:44:52.023Z"
   },
   {
    "duration": 249,
    "start_time": "2022-01-14T06:44:52.046Z"
   },
   {
    "duration": 251,
    "start_time": "2022-01-14T06:44:52.296Z"
   },
   {
    "duration": 7,
    "start_time": "2022-01-14T06:44:52.549Z"
   },
   {
    "duration": 23,
    "start_time": "2022-01-14T06:44:52.557Z"
   },
   {
    "duration": 282,
    "start_time": "2022-01-14T06:44:52.581Z"
   },
   {
    "duration": 250,
    "start_time": "2022-01-14T06:44:52.865Z"
   },
   {
    "duration": 118,
    "start_time": "2022-01-14T06:46:55.724Z"
   },
   {
    "duration": 234,
    "start_time": "2022-01-14T06:47:00.632Z"
   },
   {
    "duration": 249,
    "start_time": "2022-01-14T06:51:05.484Z"
   },
   {
    "duration": 240,
    "start_time": "2022-01-14T06:51:27.982Z"
   },
   {
    "duration": 242,
    "start_time": "2022-01-14T06:51:40.832Z"
   },
   {
    "duration": 334,
    "start_time": "2022-01-14T06:51:49.333Z"
   },
   {
    "duration": 243,
    "start_time": "2022-01-14T06:53:57.646Z"
   },
   {
    "duration": 238,
    "start_time": "2022-01-14T06:55:52.240Z"
   },
   {
    "duration": 238,
    "start_time": "2022-01-14T06:56:06.357Z"
   },
   {
    "duration": 198,
    "start_time": "2022-01-14T07:31:37.160Z"
   },
   {
    "duration": 6,
    "start_time": "2022-01-14T07:41:39.742Z"
   },
   {
    "duration": 4,
    "start_time": "2022-01-14T07:41:53.928Z"
   },
   {
    "duration": 8,
    "start_time": "2022-01-14T07:42:05.321Z"
   },
   {
    "duration": 52,
    "start_time": "2022-01-14T07:43:33.578Z"
   },
   {
    "duration": 10,
    "start_time": "2022-01-14T07:43:33.632Z"
   },
   {
    "duration": 32,
    "start_time": "2022-01-14T07:43:33.646Z"
   },
   {
    "duration": 17,
    "start_time": "2022-01-14T07:43:33.680Z"
   },
   {
    "duration": 41,
    "start_time": "2022-01-14T07:43:33.699Z"
   },
   {
    "duration": 13,
    "start_time": "2022-01-14T07:43:33.742Z"
   },
   {
    "duration": 22,
    "start_time": "2022-01-14T07:43:33.757Z"
   },
   {
    "duration": 33,
    "start_time": "2022-01-14T07:43:33.781Z"
   },
   {
    "duration": 29,
    "start_time": "2022-01-14T07:43:33.816Z"
   },
   {
    "duration": 247,
    "start_time": "2022-01-14T07:43:33.847Z"
   },
   {
    "duration": 244,
    "start_time": "2022-01-14T07:43:34.096Z"
   },
   {
    "duration": 7,
    "start_time": "2022-01-14T07:43:34.342Z"
   },
   {
    "duration": 42,
    "start_time": "2022-01-14T07:43:34.350Z"
   },
   {
    "duration": 269,
    "start_time": "2022-01-14T07:43:34.394Z"
   },
   {
    "duration": 255,
    "start_time": "2022-01-14T07:43:34.665Z"
   },
   {
    "duration": 247,
    "start_time": "2022-01-14T07:43:34.921Z"
   },
   {
    "duration": 181,
    "start_time": "2022-01-14T07:44:26.311Z"
   },
   {
    "duration": 53,
    "start_time": "2022-01-14T07:45:13.171Z"
   },
   {
    "duration": 9,
    "start_time": "2022-01-14T07:45:13.226Z"
   },
   {
    "duration": 16,
    "start_time": "2022-01-14T07:45:13.237Z"
   },
   {
    "duration": 15,
    "start_time": "2022-01-14T07:45:13.255Z"
   },
   {
    "duration": 35,
    "start_time": "2022-01-14T07:45:13.271Z"
   },
   {
    "duration": 5,
    "start_time": "2022-01-14T07:45:13.307Z"
   },
   {
    "duration": 5,
    "start_time": "2022-01-14T07:45:13.313Z"
   },
   {
    "duration": 9,
    "start_time": "2022-01-14T07:45:13.320Z"
   },
   {
    "duration": 16,
    "start_time": "2022-01-14T07:45:13.332Z"
   },
   {
    "duration": 272,
    "start_time": "2022-01-14T07:45:13.349Z"
   },
   {
    "duration": 249,
    "start_time": "2022-01-14T07:45:13.623Z"
   },
   {
    "duration": 7,
    "start_time": "2022-01-14T07:45:13.873Z"
   },
   {
    "duration": 21,
    "start_time": "2022-01-14T07:45:13.881Z"
   },
   {
    "duration": 279,
    "start_time": "2022-01-14T07:45:13.903Z"
   },
   {
    "duration": 349,
    "start_time": "2022-01-14T07:45:14.184Z"
   },
   {
    "duration": 192,
    "start_time": "2022-01-14T07:45:14.534Z"
   },
   {
    "duration": 200,
    "start_time": "2022-01-14T07:45:57.992Z"
   },
   {
    "duration": 2389,
    "start_time": "2022-01-14T07:46:11.461Z"
   },
   {
    "duration": 61,
    "start_time": "2022-01-14T07:47:06.359Z"
   },
   {
    "duration": 2398,
    "start_time": "2022-01-14T07:47:16.388Z"
   },
   {
    "duration": 2220,
    "start_time": "2022-01-14T07:51:07.536Z"
   },
   {
    "duration": 51,
    "start_time": "2022-01-14T07:51:11.251Z"
   },
   {
    "duration": 9,
    "start_time": "2022-01-14T07:51:11.304Z"
   },
   {
    "duration": 19,
    "start_time": "2022-01-14T07:51:11.315Z"
   },
   {
    "duration": 180,
    "start_time": "2022-01-14T07:51:11.335Z"
   },
   {
    "duration": -757,
    "start_time": "2022-01-14T07:51:12.274Z"
   },
   {
    "duration": -758,
    "start_time": "2022-01-14T07:51:12.276Z"
   },
   {
    "duration": -758,
    "start_time": "2022-01-14T07:51:12.277Z"
   },
   {
    "duration": -757,
    "start_time": "2022-01-14T07:51:12.278Z"
   },
   {
    "duration": -758,
    "start_time": "2022-01-14T07:51:12.280Z"
   },
   {
    "duration": -758,
    "start_time": "2022-01-14T07:51:12.281Z"
   },
   {
    "duration": -758,
    "start_time": "2022-01-14T07:51:12.282Z"
   },
   {
    "duration": -758,
    "start_time": "2022-01-14T07:51:12.283Z"
   },
   {
    "duration": -759,
    "start_time": "2022-01-14T07:51:12.285Z"
   },
   {
    "duration": -759,
    "start_time": "2022-01-14T07:51:12.286Z"
   },
   {
    "duration": -759,
    "start_time": "2022-01-14T07:51:12.287Z"
   },
   {
    "duration": -760,
    "start_time": "2022-01-14T07:51:12.289Z"
   },
   {
    "duration": 189,
    "start_time": "2022-01-14T07:56:53.985Z"
   },
   {
    "duration": 179,
    "start_time": "2022-01-14T07:59:21.373Z"
   },
   {
    "duration": 203,
    "start_time": "2022-01-14T08:00:09.341Z"
   },
   {
    "duration": 23,
    "start_time": "2022-01-14T08:02:34.057Z"
   },
   {
    "duration": 14,
    "start_time": "2022-01-14T08:02:45.916Z"
   },
   {
    "duration": 54,
    "start_time": "2022-01-14T08:02:49.415Z"
   },
   {
    "duration": 10,
    "start_time": "2022-01-14T08:02:49.470Z"
   },
   {
    "duration": 19,
    "start_time": "2022-01-14T08:02:49.482Z"
   },
   {
    "duration": 25,
    "start_time": "2022-01-14T08:02:49.504Z"
   },
   {
    "duration": 26,
    "start_time": "2022-01-14T08:02:49.531Z"
   },
   {
    "duration": 18,
    "start_time": "2022-01-14T08:02:49.560Z"
   },
   {
    "duration": 17,
    "start_time": "2022-01-14T08:02:49.579Z"
   },
   {
    "duration": 34,
    "start_time": "2022-01-14T08:02:49.598Z"
   },
   {
    "duration": 26,
    "start_time": "2022-01-14T08:02:49.635Z"
   },
   {
    "duration": 266,
    "start_time": "2022-01-14T08:02:49.664Z"
   },
   {
    "duration": 264,
    "start_time": "2022-01-14T08:02:49.932Z"
   },
   {
    "duration": 9,
    "start_time": "2022-01-14T08:02:50.198Z"
   },
   {
    "duration": 36,
    "start_time": "2022-01-14T08:02:50.209Z"
   },
   {
    "duration": 276,
    "start_time": "2022-01-14T08:02:50.247Z"
   },
   {
    "duration": 282,
    "start_time": "2022-01-14T08:02:50.525Z"
   },
   {
    "duration": 193,
    "start_time": "2022-01-14T08:02:50.809Z"
   },
   {
    "duration": 196,
    "start_time": "2022-01-14T08:05:37.153Z"
   },
   {
    "duration": 12,
    "start_time": "2022-01-14T08:06:25.665Z"
   },
   {
    "duration": 51,
    "start_time": "2022-01-14T08:06:39.272Z"
   },
   {
    "duration": 9,
    "start_time": "2022-01-14T08:06:39.325Z"
   },
   {
    "duration": 17,
    "start_time": "2022-01-14T08:06:39.336Z"
   },
   {
    "duration": 12,
    "start_time": "2022-01-14T08:06:39.355Z"
   },
   {
    "duration": 39,
    "start_time": "2022-01-14T08:06:39.369Z"
   },
   {
    "duration": 4,
    "start_time": "2022-01-14T08:06:39.410Z"
   },
   {
    "duration": 4,
    "start_time": "2022-01-14T08:06:39.416Z"
   },
   {
    "duration": 11,
    "start_time": "2022-01-14T08:06:39.422Z"
   },
   {
    "duration": 16,
    "start_time": "2022-01-14T08:06:39.436Z"
   },
   {
    "duration": 274,
    "start_time": "2022-01-14T08:06:39.454Z"
   },
   {
    "duration": 248,
    "start_time": "2022-01-14T08:06:39.730Z"
   },
   {
    "duration": 15,
    "start_time": "2022-01-14T08:06:39.980Z"
   },
   {
    "duration": 17,
    "start_time": "2022-01-14T08:06:39.996Z"
   },
   {
    "duration": 295,
    "start_time": "2022-01-14T08:06:40.015Z"
   },
   {
    "duration": 255,
    "start_time": "2022-01-14T08:06:40.311Z"
   },
   {
    "duration": 11,
    "start_time": "2022-01-14T08:06:40.568Z"
   },
   {
    "duration": 190,
    "start_time": "2022-01-14T08:08:33.429Z"
   },
   {
    "duration": 51,
    "start_time": "2022-01-14T08:14:18.484Z"
   },
   {
    "duration": 9,
    "start_time": "2022-01-14T08:14:18.537Z"
   },
   {
    "duration": 29,
    "start_time": "2022-01-14T08:14:18.548Z"
   },
   {
    "duration": 20,
    "start_time": "2022-01-14T08:14:18.580Z"
   },
   {
    "duration": 20,
    "start_time": "2022-01-14T08:14:18.602Z"
   },
   {
    "duration": 4,
    "start_time": "2022-01-14T08:14:18.623Z"
   },
   {
    "duration": 12,
    "start_time": "2022-01-14T08:14:18.629Z"
   },
   {
    "duration": 51,
    "start_time": "2022-01-14T08:14:18.642Z"
   },
   {
    "duration": 34,
    "start_time": "2022-01-14T08:14:18.696Z"
   },
   {
    "duration": 238,
    "start_time": "2022-01-14T08:14:18.732Z"
   },
   {
    "duration": 242,
    "start_time": "2022-01-14T08:14:18.972Z"
   },
   {
    "duration": 7,
    "start_time": "2022-01-14T08:14:19.215Z"
   },
   {
    "duration": 15,
    "start_time": "2022-01-14T08:14:19.223Z"
   },
   {
    "duration": 384,
    "start_time": "2022-01-14T08:14:19.240Z"
   },
   {
    "duration": 261,
    "start_time": "2022-01-14T08:14:19.625Z"
   },
   {
    "duration": 187,
    "start_time": "2022-01-14T08:14:19.887Z"
   },
   {
    "duration": 52,
    "start_time": "2022-01-14T08:14:29.357Z"
   },
   {
    "duration": 54,
    "start_time": "2022-01-14T08:14:32.286Z"
   },
   {
    "duration": 12,
    "start_time": "2022-01-14T08:14:32.342Z"
   },
   {
    "duration": 40,
    "start_time": "2022-01-14T08:14:32.357Z"
   },
   {
    "duration": 14,
    "start_time": "2022-01-14T08:14:32.399Z"
   },
   {
    "duration": 24,
    "start_time": "2022-01-14T08:14:32.415Z"
   },
   {
    "duration": 7,
    "start_time": "2022-01-14T08:14:32.441Z"
   },
   {
    "duration": 5,
    "start_time": "2022-01-14T08:14:32.450Z"
   },
   {
    "duration": 36,
    "start_time": "2022-01-14T08:14:32.457Z"
   },
   {
    "duration": 19,
    "start_time": "2022-01-14T08:14:32.495Z"
   },
   {
    "duration": 267,
    "start_time": "2022-01-14T08:14:32.516Z"
   },
   {
    "duration": 239,
    "start_time": "2022-01-14T08:14:32.791Z"
   },
   {
    "duration": 7,
    "start_time": "2022-01-14T08:14:33.032Z"
   },
   {
    "duration": 15,
    "start_time": "2022-01-14T08:14:33.040Z"
   },
   {
    "duration": 298,
    "start_time": "2022-01-14T08:14:33.057Z"
   },
   {
    "duration": 264,
    "start_time": "2022-01-14T08:14:33.356Z"
   },
   {
    "duration": 647,
    "start_time": "2022-01-14T08:14:33.621Z"
   },
   {
    "duration": 188,
    "start_time": "2022-01-14T08:15:56.283Z"
   },
   {
    "duration": 11,
    "start_time": "2022-01-14T08:16:12.029Z"
   },
   {
    "duration": 497,
    "start_time": "2022-01-14T08:16:58.698Z"
   },
   {
    "duration": 190,
    "start_time": "2022-01-14T08:17:24.573Z"
   },
   {
    "duration": 11,
    "start_time": "2022-01-14T08:18:46.608Z"
   },
   {
    "duration": 51,
    "start_time": "2022-01-14T08:19:00.983Z"
   },
   {
    "duration": 9,
    "start_time": "2022-01-14T08:19:01.036Z"
   },
   {
    "duration": 18,
    "start_time": "2022-01-14T08:19:01.048Z"
   },
   {
    "duration": 34,
    "start_time": "2022-01-14T08:19:01.068Z"
   },
   {
    "duration": 30,
    "start_time": "2022-01-14T08:19:01.104Z"
   },
   {
    "duration": 4,
    "start_time": "2022-01-14T08:19:01.135Z"
   },
   {
    "duration": 16,
    "start_time": "2022-01-14T08:19:01.141Z"
   },
   {
    "duration": 15,
    "start_time": "2022-01-14T08:19:01.158Z"
   },
   {
    "duration": 21,
    "start_time": "2022-01-14T08:19:01.175Z"
   },
   {
    "duration": 266,
    "start_time": "2022-01-14T08:19:01.198Z"
   },
   {
    "duration": 255,
    "start_time": "2022-01-14T08:19:01.465Z"
   },
   {
    "duration": 7,
    "start_time": "2022-01-14T08:19:01.722Z"
   },
   {
    "duration": 17,
    "start_time": "2022-01-14T08:19:01.731Z"
   },
   {
    "duration": 297,
    "start_time": "2022-01-14T08:19:01.750Z"
   },
   {
    "duration": 264,
    "start_time": "2022-01-14T08:19:02.049Z"
   },
   {
    "duration": 200,
    "start_time": "2022-01-14T08:19:02.315Z"
   },
   {
    "duration": 13,
    "start_time": "2022-01-14T08:19:15.281Z"
   },
   {
    "duration": 53,
    "start_time": "2022-01-14T08:20:00.984Z"
   },
   {
    "duration": 9,
    "start_time": "2022-01-14T08:20:01.039Z"
   },
   {
    "duration": 16,
    "start_time": "2022-01-14T08:20:01.050Z"
   },
   {
    "duration": 27,
    "start_time": "2022-01-14T08:20:01.068Z"
   },
   {
    "duration": 20,
    "start_time": "2022-01-14T08:20:01.097Z"
   },
   {
    "duration": 4,
    "start_time": "2022-01-14T08:20:01.119Z"
   },
   {
    "duration": 15,
    "start_time": "2022-01-14T08:20:01.125Z"
   },
   {
    "duration": 14,
    "start_time": "2022-01-14T08:20:01.142Z"
   },
   {
    "duration": 35,
    "start_time": "2022-01-14T08:20:01.158Z"
   },
   {
    "duration": 265,
    "start_time": "2022-01-14T08:20:01.195Z"
   },
   {
    "duration": 385,
    "start_time": "2022-01-14T08:20:01.462Z"
   },
   {
    "duration": 8,
    "start_time": "2022-01-14T08:20:01.849Z"
   },
   {
    "duration": 36,
    "start_time": "2022-01-14T08:20:01.858Z"
   },
   {
    "duration": 289,
    "start_time": "2022-01-14T08:20:01.896Z"
   },
   {
    "duration": 272,
    "start_time": "2022-01-14T08:20:02.187Z"
   },
   {
    "duration": 12,
    "start_time": "2022-01-14T08:20:02.461Z"
   },
   {
    "duration": 284,
    "start_time": "2022-01-14T08:20:14.519Z"
   },
   {
    "duration": 209,
    "start_time": "2022-01-14T08:21:17.130Z"
   },
   {
    "duration": 308,
    "start_time": "2022-01-14T08:21:20.999Z"
   },
   {
    "duration": 347,
    "start_time": "2022-01-14T08:22:49.276Z"
   },
   {
    "duration": 52,
    "start_time": "2022-01-14T08:36:22.039Z"
   },
   {
    "duration": 9,
    "start_time": "2022-01-14T08:36:22.093Z"
   },
   {
    "duration": 18,
    "start_time": "2022-01-14T08:36:22.104Z"
   },
   {
    "duration": 13,
    "start_time": "2022-01-14T08:36:22.124Z"
   },
   {
    "duration": 26,
    "start_time": "2022-01-14T08:36:22.138Z"
   },
   {
    "duration": 25,
    "start_time": "2022-01-14T08:36:22.166Z"
   },
   {
    "duration": 2,
    "start_time": "2022-01-14T08:36:22.193Z"
   },
   {
    "duration": 22,
    "start_time": "2022-01-14T08:36:22.196Z"
   },
   {
    "duration": 16,
    "start_time": "2022-01-14T08:36:22.221Z"
   },
   {
    "duration": 240,
    "start_time": "2022-01-14T08:36:22.239Z"
   },
   {
    "duration": 255,
    "start_time": "2022-01-14T08:36:22.481Z"
   },
   {
    "duration": 8,
    "start_time": "2022-01-14T08:36:22.738Z"
   },
   {
    "duration": 21,
    "start_time": "2022-01-14T08:36:22.747Z"
   },
   {
    "duration": 281,
    "start_time": "2022-01-14T08:36:22.770Z"
   },
   {
    "duration": 254,
    "start_time": "2022-01-14T08:36:23.053Z"
   },
   {
    "duration": 301,
    "start_time": "2022-01-14T08:36:23.309Z"
   },
   {
    "duration": 303,
    "start_time": "2022-01-14T08:36:23.612Z"
   },
   {
    "duration": 321,
    "start_time": "2022-01-14T08:36:46.452Z"
   },
   {
    "duration": 52,
    "start_time": "2022-01-14T08:39:26.200Z"
   },
   {
    "duration": 9,
    "start_time": "2022-01-14T08:39:26.254Z"
   },
   {
    "duration": 27,
    "start_time": "2022-01-14T08:39:26.265Z"
   },
   {
    "duration": 12,
    "start_time": "2022-01-14T08:39:26.293Z"
   },
   {
    "duration": 18,
    "start_time": "2022-01-14T08:39:26.307Z"
   },
   {
    "duration": 4,
    "start_time": "2022-01-14T08:39:26.327Z"
   },
   {
    "duration": 5,
    "start_time": "2022-01-14T08:39:26.332Z"
   },
   {
    "duration": 8,
    "start_time": "2022-01-14T08:39:26.338Z"
   },
   {
    "duration": 45,
    "start_time": "2022-01-14T08:39:26.349Z"
   },
   {
    "duration": 254,
    "start_time": "2022-01-14T08:39:26.396Z"
   },
   {
    "duration": 274,
    "start_time": "2022-01-14T08:39:26.652Z"
   },
   {
    "duration": 8,
    "start_time": "2022-01-14T08:39:26.928Z"
   },
   {
    "duration": 16,
    "start_time": "2022-01-14T08:39:26.938Z"
   },
   {
    "duration": 418,
    "start_time": "2022-01-14T08:39:26.956Z"
   },
   {
    "duration": 267,
    "start_time": "2022-01-14T08:39:27.377Z"
   },
   {
    "duration": 306,
    "start_time": "2022-01-14T08:39:27.646Z"
   },
   {
    "duration": 310,
    "start_time": "2022-01-14T08:39:27.953Z"
   },
   {
    "duration": 6,
    "start_time": "2022-01-14T08:39:28.264Z"
   },
   {
    "duration": 54,
    "start_time": "2022-01-14T08:58:15.045Z"
   },
   {
    "duration": 9,
    "start_time": "2022-01-14T08:58:15.101Z"
   },
   {
    "duration": 17,
    "start_time": "2022-01-14T08:58:15.112Z"
   },
   {
    "duration": 13,
    "start_time": "2022-01-14T08:58:15.131Z"
   },
   {
    "duration": 45,
    "start_time": "2022-01-14T08:58:15.146Z"
   },
   {
    "duration": 4,
    "start_time": "2022-01-14T08:58:15.193Z"
   },
   {
    "duration": 5,
    "start_time": "2022-01-14T08:58:15.198Z"
   },
   {
    "duration": 8,
    "start_time": "2022-01-14T08:58:15.205Z"
   },
   {
    "duration": 17,
    "start_time": "2022-01-14T08:58:15.214Z"
   },
   {
    "duration": 276,
    "start_time": "2022-01-14T08:58:15.233Z"
   },
   {
    "duration": 253,
    "start_time": "2022-01-14T08:58:15.511Z"
   },
   {
    "duration": 8,
    "start_time": "2022-01-14T08:58:15.765Z"
   },
   {
    "duration": 25,
    "start_time": "2022-01-14T08:58:15.774Z"
   },
   {
    "duration": 286,
    "start_time": "2022-01-14T08:58:15.801Z"
   },
   {
    "duration": 252,
    "start_time": "2022-01-14T08:58:16.089Z"
   },
   {
    "duration": 316,
    "start_time": "2022-01-14T08:58:16.343Z"
   },
   {
    "duration": 350,
    "start_time": "2022-01-14T08:58:16.661Z"
   },
   {
    "duration": 5,
    "start_time": "2022-01-14T08:58:17.013Z"
   },
   {
    "duration": 58,
    "start_time": "2022-01-14T08:59:54.333Z"
   },
   {
    "duration": 11,
    "start_time": "2022-01-14T08:59:54.394Z"
   },
   {
    "duration": 27,
    "start_time": "2022-01-14T08:59:54.407Z"
   },
   {
    "duration": 27,
    "start_time": "2022-01-14T08:59:54.437Z"
   },
   {
    "duration": 29,
    "start_time": "2022-01-14T08:59:54.466Z"
   },
   {
    "duration": 5,
    "start_time": "2022-01-14T08:59:54.497Z"
   },
   {
    "duration": 15,
    "start_time": "2022-01-14T08:59:54.504Z"
   },
   {
    "duration": 29,
    "start_time": "2022-01-14T08:59:54.521Z"
   },
   {
    "duration": 25,
    "start_time": "2022-01-14T08:59:54.553Z"
   },
   {
    "duration": 248,
    "start_time": "2022-01-14T08:59:54.581Z"
   },
   {
    "duration": 268,
    "start_time": "2022-01-14T08:59:54.831Z"
   },
   {
    "duration": 8,
    "start_time": "2022-01-14T08:59:55.102Z"
   },
   {
    "duration": 15,
    "start_time": "2022-01-14T08:59:55.112Z"
   },
   {
    "duration": 291,
    "start_time": "2022-01-14T08:59:55.129Z"
   },
   {
    "duration": 260,
    "start_time": "2022-01-14T08:59:55.422Z"
   },
   {
    "duration": 329,
    "start_time": "2022-01-14T08:59:55.684Z"
   },
   {
    "duration": 453,
    "start_time": "2022-01-14T08:59:56.014Z"
   },
   {
    "duration": 6,
    "start_time": "2022-01-14T08:59:56.469Z"
   },
   {
    "duration": 335,
    "start_time": "2022-01-14T08:59:56.476Z"
   },
   {
    "duration": 310,
    "start_time": "2022-01-14T08:59:56.813Z"
   },
   {
    "duration": 6,
    "start_time": "2022-01-14T08:59:57.125Z"
   },
   {
    "duration": 333,
    "start_time": "2022-01-14T09:04:15.371Z"
   },
   {
    "duration": 19,
    "start_time": "2022-01-14T09:04:53.184Z"
   },
   {
    "duration": 6,
    "start_time": "2022-01-14T09:05:05.707Z"
   },
   {
    "duration": 250,
    "start_time": "2022-01-14T09:11:51.015Z"
   },
   {
    "duration": 456,
    "start_time": "2022-01-14T09:11:56.158Z"
   },
   {
    "duration": 5,
    "start_time": "2022-01-14T09:12:33.019Z"
   },
   {
    "duration": 7,
    "start_time": "2022-01-14T09:12:48.312Z"
   },
   {
    "duration": 189,
    "start_time": "2022-01-14T09:12:54.906Z"
   },
   {
    "duration": 196,
    "start_time": "2022-01-14T09:13:17.097Z"
   },
   {
    "duration": 200,
    "start_time": "2022-01-14T09:13:56.355Z"
   },
   {
    "duration": 12,
    "start_time": "2022-01-14T09:14:51.384Z"
   },
   {
    "duration": 192,
    "start_time": "2022-01-14T09:15:35.575Z"
   },
   {
    "duration": 598,
    "start_time": "2022-01-14T09:23:33.006Z"
   },
   {
    "duration": 9,
    "start_time": "2022-01-14T09:23:33.607Z"
   },
   {
    "duration": 34,
    "start_time": "2022-01-14T09:23:33.618Z"
   },
   {
    "duration": 28,
    "start_time": "2022-01-14T09:23:33.654Z"
   },
   {
    "duration": 32,
    "start_time": "2022-01-14T09:23:33.684Z"
   },
   {
    "duration": 10,
    "start_time": "2022-01-14T09:23:33.717Z"
   },
   {
    "duration": 36,
    "start_time": "2022-01-14T09:23:33.729Z"
   },
   {
    "duration": 28,
    "start_time": "2022-01-14T09:23:33.768Z"
   },
   {
    "duration": 40,
    "start_time": "2022-01-14T09:23:33.799Z"
   },
   {
    "duration": 320,
    "start_time": "2022-01-14T09:23:33.841Z"
   },
   {
    "duration": 253,
    "start_time": "2022-01-14T09:23:34.163Z"
   },
   {
    "duration": 7,
    "start_time": "2022-01-14T09:23:34.418Z"
   },
   {
    "duration": 41,
    "start_time": "2022-01-14T09:23:34.426Z"
   },
   {
    "duration": 289,
    "start_time": "2022-01-14T09:23:34.468Z"
   },
   {
    "duration": 309,
    "start_time": "2022-01-14T09:23:34.759Z"
   },
   {
    "duration": 351,
    "start_time": "2022-01-14T09:23:35.070Z"
   },
   {
    "duration": 295,
    "start_time": "2022-01-14T09:23:35.423Z"
   },
   {
    "duration": 6,
    "start_time": "2022-01-14T09:23:35.720Z"
   },
   {
    "duration": 349,
    "start_time": "2022-01-14T09:23:35.728Z"
   },
   {
    "duration": 324,
    "start_time": "2022-01-14T09:23:36.078Z"
   },
   {
    "duration": 5,
    "start_time": "2022-01-14T09:23:36.404Z"
   },
   {
    "duration": 670,
    "start_time": "2022-01-14T09:24:10.163Z"
   },
   {
    "duration": 11,
    "start_time": "2022-01-14T09:24:10.835Z"
   },
   {
    "duration": 23,
    "start_time": "2022-01-14T09:24:10.848Z"
   },
   {
    "duration": 25,
    "start_time": "2022-01-14T09:24:10.874Z"
   },
   {
    "duration": 21,
    "start_time": "2022-01-14T09:24:10.901Z"
   },
   {
    "duration": 12,
    "start_time": "2022-01-14T09:24:10.924Z"
   },
   {
    "duration": 20,
    "start_time": "2022-01-14T09:24:10.938Z"
   },
   {
    "duration": 28,
    "start_time": "2022-01-14T09:24:10.960Z"
   },
   {
    "duration": 45,
    "start_time": "2022-01-14T09:24:10.991Z"
   },
   {
    "duration": 325,
    "start_time": "2022-01-14T09:24:11.038Z"
   },
   {
    "duration": 253,
    "start_time": "2022-01-14T09:24:11.365Z"
   },
   {
    "duration": 7,
    "start_time": "2022-01-14T09:24:11.619Z"
   },
   {
    "duration": 47,
    "start_time": "2022-01-14T09:24:11.627Z"
   },
   {
    "duration": 283,
    "start_time": "2022-01-14T09:24:11.675Z"
   },
   {
    "duration": 298,
    "start_time": "2022-01-14T09:24:11.959Z"
   },
   {
    "duration": 333,
    "start_time": "2022-01-14T09:24:12.259Z"
   },
   {
    "duration": 316,
    "start_time": "2022-01-14T09:24:12.593Z"
   },
   {
    "duration": 6,
    "start_time": "2022-01-14T09:24:12.910Z"
   },
   {
    "duration": 295,
    "start_time": "2022-01-14T09:24:12.918Z"
   },
   {
    "duration": 300,
    "start_time": "2022-01-14T09:24:13.215Z"
   },
   {
    "duration": 5,
    "start_time": "2022-01-14T09:24:13.516Z"
   },
   {
    "duration": 192,
    "start_time": "2022-01-14T09:24:13.523Z"
   },
   {
    "duration": 180,
    "start_time": "2022-01-14T09:24:25.741Z"
   },
   {
    "duration": 188,
    "start_time": "2022-01-14T09:24:35.358Z"
   },
   {
    "duration": 408,
    "start_time": "2022-01-14T12:42:34.946Z"
   },
   {
    "duration": 703,
    "start_time": "2022-01-14T12:42:41.346Z"
   },
   {
    "duration": 9,
    "start_time": "2022-01-14T12:42:42.051Z"
   },
   {
    "duration": 14,
    "start_time": "2022-01-14T12:42:42.062Z"
   },
   {
    "duration": 11,
    "start_time": "2022-01-14T12:42:42.078Z"
   },
   {
    "duration": 41,
    "start_time": "2022-01-14T12:42:42.090Z"
   },
   {
    "duration": 5,
    "start_time": "2022-01-14T12:42:42.133Z"
   },
   {
    "duration": 9,
    "start_time": "2022-01-14T12:42:42.139Z"
   },
   {
    "duration": 10,
    "start_time": "2022-01-14T12:42:42.151Z"
   },
   {
    "duration": 16,
    "start_time": "2022-01-14T12:42:42.163Z"
   },
   {
    "duration": 298,
    "start_time": "2022-01-14T12:42:42.181Z"
   },
   {
    "duration": 224,
    "start_time": "2022-01-14T12:42:42.481Z"
   },
   {
    "duration": 8,
    "start_time": "2022-01-14T12:42:42.707Z"
   },
   {
    "duration": 24,
    "start_time": "2022-01-14T12:42:42.716Z"
   },
   {
    "duration": 356,
    "start_time": "2022-01-14T12:42:42.742Z"
   },
   {
    "duration": 379,
    "start_time": "2022-01-14T12:42:43.100Z"
   },
   {
    "duration": 363,
    "start_time": "2022-01-14T12:42:43.481Z"
   },
   {
    "duration": 354,
    "start_time": "2022-01-14T12:42:43.846Z"
   },
   {
    "duration": 6,
    "start_time": "2022-01-14T12:42:44.202Z"
   },
   {
    "duration": 301,
    "start_time": "2022-01-14T12:42:44.209Z"
   },
   {
    "duration": 320,
    "start_time": "2022-01-14T12:42:44.512Z"
   },
   {
    "duration": 7,
    "start_time": "2022-01-14T12:42:44.833Z"
   },
   {
    "duration": 297,
    "start_time": "2022-01-14T12:42:44.841Z"
   },
   {
    "duration": 172,
    "start_time": "2022-01-14T12:42:45.141Z"
   },
   {
    "duration": 288,
    "start_time": "2022-01-14T12:43:26.329Z"
   },
   {
    "duration": 6,
    "start_time": "2022-01-14T12:44:30.460Z"
   },
   {
    "duration": 282,
    "start_time": "2022-01-14T12:51:36.005Z"
   },
   {
    "duration": 225,
    "start_time": "2022-01-14T12:57:26.873Z"
   },
   {
    "duration": 6,
    "start_time": "2022-01-14T12:58:04.544Z"
   },
   {
    "duration": 268,
    "start_time": "2022-01-14T13:00:49.934Z"
   },
   {
    "duration": 385,
    "start_time": "2022-01-14T13:07:33.671Z"
   },
   {
    "duration": 6,
    "start_time": "2022-01-14T13:08:03.201Z"
   },
   {
    "duration": 241,
    "start_time": "2022-01-14T13:09:37.563Z"
   },
   {
    "duration": 267,
    "start_time": "2022-01-14T13:10:23.071Z"
   },
   {
    "duration": 5,
    "start_time": "2022-01-14T13:10:47.642Z"
   },
   {
    "duration": 17,
    "start_time": "2022-01-14T13:52:50.280Z"
   },
   {
    "duration": 14,
    "start_time": "2022-01-14T13:57:28.772Z"
   },
   {
    "duration": 14,
    "start_time": "2022-01-14T14:04:39.599Z"
   },
   {
    "duration": 14,
    "start_time": "2022-01-14T14:05:02.526Z"
   },
   {
    "duration": 20,
    "start_time": "2022-01-14T14:06:03.412Z"
   },
   {
    "duration": 13,
    "start_time": "2022-01-14T14:06:27.616Z"
   },
   {
    "duration": 13,
    "start_time": "2022-01-14T14:06:35.169Z"
   },
   {
    "duration": 14,
    "start_time": "2022-01-14T14:23:48.520Z"
   },
   {
    "duration": 14,
    "start_time": "2022-01-14T14:23:51.978Z"
   },
   {
    "duration": 14,
    "start_time": "2022-01-14T14:34:40.139Z"
   },
   {
    "duration": 17,
    "start_time": "2022-01-14T14:43:08.990Z"
   },
   {
    "duration": 17,
    "start_time": "2022-01-14T14:43:59.304Z"
   },
   {
    "duration": 17,
    "start_time": "2022-01-14T14:44:04.926Z"
   },
   {
    "duration": 924,
    "start_time": "2022-01-15T06:01:14.458Z"
   },
   {
    "duration": 410,
    "start_time": "2022-01-15T06:01:17.028Z"
   },
   {
    "duration": 8,
    "start_time": "2022-01-15T06:01:17.440Z"
   },
   {
    "duration": 16,
    "start_time": "2022-01-15T06:01:17.450Z"
   },
   {
    "duration": 10,
    "start_time": "2022-01-15T06:01:17.468Z"
   },
   {
    "duration": 16,
    "start_time": "2022-01-15T06:01:17.480Z"
   },
   {
    "duration": 4,
    "start_time": "2022-01-15T06:01:17.497Z"
   },
   {
    "duration": 5,
    "start_time": "2022-01-15T06:01:17.527Z"
   },
   {
    "duration": 14,
    "start_time": "2022-01-15T06:01:17.534Z"
   },
   {
    "duration": 428,
    "start_time": "2022-01-15T06:01:17.550Z"
   },
   {
    "duration": 212,
    "start_time": "2022-01-15T06:01:17.980Z"
   },
   {
    "duration": 6,
    "start_time": "2022-01-15T06:01:18.194Z"
   },
   {
    "duration": 13,
    "start_time": "2022-01-15T06:01:18.201Z"
   },
   {
    "duration": 232,
    "start_time": "2022-01-15T06:01:18.227Z"
   },
   {
    "duration": 215,
    "start_time": "2022-01-15T06:01:18.461Z"
   },
   {
    "duration": 267,
    "start_time": "2022-01-15T06:01:18.678Z"
   },
   {
    "duration": 290,
    "start_time": "2022-01-15T06:01:18.946Z"
   },
   {
    "duration": 5,
    "start_time": "2022-01-15T06:01:19.238Z"
   },
   {
    "duration": 285,
    "start_time": "2022-01-15T06:01:19.245Z"
   },
   {
    "duration": 278,
    "start_time": "2022-01-15T06:01:19.532Z"
   },
   {
    "duration": 5,
    "start_time": "2022-01-15T06:01:19.812Z"
   },
   {
    "duration": 290,
    "start_time": "2022-01-15T06:01:19.828Z"
   },
   {
    "duration": 355,
    "start_time": "2022-01-15T06:01:20.127Z"
   },
   {
    "duration": 5,
    "start_time": "2022-01-15T06:01:20.484Z"
   },
   {
    "duration": 322,
    "start_time": "2022-01-15T06:01:20.491Z"
   },
   {
    "duration": 284,
    "start_time": "2022-01-15T06:01:20.815Z"
   },
   {
    "duration": 4,
    "start_time": "2022-01-15T06:01:21.101Z"
   },
   {
    "duration": 307,
    "start_time": "2022-01-15T06:01:21.107Z"
   },
   {
    "duration": 289,
    "start_time": "2022-01-15T06:01:21.415Z"
   },
   {
    "duration": 5,
    "start_time": "2022-01-15T06:01:21.705Z"
   },
   {
    "duration": 269,
    "start_time": "2022-01-15T06:01:21.727Z"
   },
   {
    "duration": 312,
    "start_time": "2022-01-15T06:01:21.997Z"
   },
   {
    "duration": 5,
    "start_time": "2022-01-15T06:01:22.310Z"
   },
   {
    "duration": 169,
    "start_time": "2022-01-15T06:01:22.327Z"
   },
   {
    "duration": 14,
    "start_time": "2022-01-15T06:01:22.497Z"
   },
   {
    "duration": 21,
    "start_time": "2022-01-15T06:01:22.512Z"
   },
   {
    "duration": 15,
    "start_time": "2022-01-15T06:01:22.534Z"
   },
   {
    "duration": 13,
    "start_time": "2022-01-15T06:01:22.550Z"
   },
   {
    "duration": 12,
    "start_time": "2022-01-15T06:01:22.564Z"
   },
   {
    "duration": 15,
    "start_time": "2022-01-15T06:01:22.577Z"
   },
   {
    "duration": 43,
    "start_time": "2022-01-15T06:01:22.593Z"
   },
   {
    "duration": 12,
    "start_time": "2022-01-15T06:01:22.637Z"
   },
   {
    "duration": 15,
    "start_time": "2022-01-15T06:01:22.650Z"
   },
   {
    "duration": 333,
    "start_time": "2022-01-15T06:01:22.667Z"
   },
   {
    "duration": 5,
    "start_time": "2022-01-15T06:01:55.045Z"
   },
   {
    "duration": 109,
    "start_time": "2022-01-15T06:08:56.903Z"
   },
   {
    "duration": 4,
    "start_time": "2022-01-15T06:09:11.023Z"
   },
   {
    "duration": 10,
    "start_time": "2022-01-15T06:19:31.724Z"
   },
   {
    "duration": 7,
    "start_time": "2022-01-15T06:20:54.181Z"
   },
   {
    "duration": 5,
    "start_time": "2022-01-15T06:26:16.680Z"
   },
   {
    "duration": 5,
    "start_time": "2022-01-15T06:26:21.291Z"
   },
   {
    "duration": 6,
    "start_time": "2022-01-15T06:27:04.417Z"
   },
   {
    "duration": 6,
    "start_time": "2022-01-15T06:27:11.138Z"
   },
   {
    "duration": 7,
    "start_time": "2022-01-15T06:27:21.021Z"
   },
   {
    "duration": 7,
    "start_time": "2022-01-15T06:28:28.055Z"
   },
   {
    "duration": 5,
    "start_time": "2022-01-15T06:28:33.724Z"
   },
   {
    "duration": 5,
    "start_time": "2022-01-15T06:31:01.931Z"
   },
   {
    "duration": 135,
    "start_time": "2022-01-15T06:31:27.081Z"
   },
   {
    "duration": 6,
    "start_time": "2022-01-15T06:31:34.834Z"
   },
   {
    "duration": 612,
    "start_time": "2022-01-17T13:29:52.808Z"
   },
   {
    "duration": 10,
    "start_time": "2022-01-17T13:29:53.421Z"
   },
   {
    "duration": 15,
    "start_time": "2022-01-17T13:29:53.433Z"
   },
   {
    "duration": 12,
    "start_time": "2022-01-17T13:29:53.449Z"
   },
   {
    "duration": 44,
    "start_time": "2022-01-17T13:29:53.463Z"
   },
   {
    "duration": 6,
    "start_time": "2022-01-17T13:29:53.508Z"
   },
   {
    "duration": 8,
    "start_time": "2022-01-17T13:29:53.515Z"
   },
   {
    "duration": 18,
    "start_time": "2022-01-17T13:29:53.525Z"
   },
   {
    "duration": 352,
    "start_time": "2022-01-17T13:29:53.545Z"
   },
   {
    "duration": 256,
    "start_time": "2022-01-17T13:29:53.900Z"
   },
   {
    "duration": 8,
    "start_time": "2022-01-17T13:29:54.158Z"
   },
   {
    "duration": 29,
    "start_time": "2022-01-17T13:29:54.168Z"
   },
   {
    "duration": 282,
    "start_time": "2022-01-17T13:29:54.200Z"
   },
   {
    "duration": 316,
    "start_time": "2022-01-17T13:29:54.491Z"
   },
   {
    "duration": 320,
    "start_time": "2022-01-17T13:29:54.809Z"
   },
   {
    "duration": 300,
    "start_time": "2022-01-17T13:29:55.131Z"
   },
   {
    "duration": 5,
    "start_time": "2022-01-17T13:29:55.433Z"
   },
   {
    "duration": 313,
    "start_time": "2022-01-17T13:29:55.440Z"
   },
   {
    "duration": 338,
    "start_time": "2022-01-17T13:29:55.755Z"
   },
   {
    "duration": 6,
    "start_time": "2022-01-17T13:29:56.095Z"
   },
   {
    "duration": 313,
    "start_time": "2022-01-17T13:29:56.103Z"
   },
   {
    "duration": 308,
    "start_time": "2022-01-17T13:29:56.417Z"
   },
   {
    "duration": 6,
    "start_time": "2022-01-17T13:29:56.729Z"
   },
   {
    "duration": 273,
    "start_time": "2022-01-17T13:29:56.737Z"
   },
   {
    "duration": 298,
    "start_time": "2022-01-17T13:29:57.012Z"
   },
   {
    "duration": 5,
    "start_time": "2022-01-17T13:29:57.312Z"
   },
   {
    "duration": 302,
    "start_time": "2022-01-17T13:29:57.319Z"
   },
   {
    "duration": 306,
    "start_time": "2022-01-17T13:29:57.623Z"
   },
   {
    "duration": 6,
    "start_time": "2022-01-17T13:29:57.931Z"
   },
   {
    "duration": 373,
    "start_time": "2022-01-17T13:29:57.938Z"
   },
   {
    "duration": 307,
    "start_time": "2022-01-17T13:29:58.313Z"
   },
   {
    "duration": 6,
    "start_time": "2022-01-17T13:29:58.621Z"
   },
   {
    "duration": 217,
    "start_time": "2022-01-17T13:29:58.629Z"
   },
   {
    "duration": 16,
    "start_time": "2022-01-17T13:29:58.848Z"
   },
   {
    "duration": 35,
    "start_time": "2022-01-17T13:29:58.865Z"
   },
   {
    "duration": 18,
    "start_time": "2022-01-17T13:29:58.901Z"
   },
   {
    "duration": 16,
    "start_time": "2022-01-17T13:29:58.921Z"
   },
   {
    "duration": 31,
    "start_time": "2022-01-17T13:29:58.939Z"
   },
   {
    "duration": 34,
    "start_time": "2022-01-17T13:29:58.972Z"
   },
   {
    "duration": 15,
    "start_time": "2022-01-17T13:29:59.007Z"
   },
   {
    "duration": 15,
    "start_time": "2022-01-17T13:29:59.023Z"
   },
   {
    "duration": 18,
    "start_time": "2022-01-17T13:29:59.039Z"
   },
   {
    "duration": 387,
    "start_time": "2022-01-17T13:29:59.059Z"
   },
   {
    "duration": 6,
    "start_time": "2022-01-17T13:29:59.447Z"
   },
   {
    "duration": 15,
    "start_time": "2022-01-17T13:29:59.455Z"
   },
   {
    "duration": 20,
    "start_time": "2022-01-17T13:29:59.472Z"
   },
   {
    "duration": 7,
    "start_time": "2022-01-17T13:29:59.494Z"
   },
   {
    "duration": 8,
    "start_time": "2022-01-17T13:46:42.488Z"
   },
   {
    "duration": 873,
    "start_time": "2022-01-17T15:22:51.437Z"
   },
   {
    "duration": 15,
    "start_time": "2022-01-17T15:22:52.312Z"
   },
   {
    "duration": 44,
    "start_time": "2022-01-17T15:22:52.330Z"
   },
   {
    "duration": 20,
    "start_time": "2022-01-17T15:22:52.377Z"
   },
   {
    "duration": 30,
    "start_time": "2022-01-17T15:22:52.399Z"
   },
   {
    "duration": 31,
    "start_time": "2022-01-17T15:22:52.432Z"
   },
   {
    "duration": 8,
    "start_time": "2022-01-17T15:22:52.466Z"
   },
   {
    "duration": 45,
    "start_time": "2022-01-17T15:22:52.478Z"
   },
   {
    "duration": 534,
    "start_time": "2022-01-17T15:22:52.526Z"
   },
   {
    "duration": 589,
    "start_time": "2022-01-17T15:22:53.064Z"
   },
   {
    "duration": 15,
    "start_time": "2022-01-17T15:22:53.655Z"
   },
   {
    "duration": 23,
    "start_time": "2022-01-17T15:22:53.672Z"
   },
   {
    "duration": 694,
    "start_time": "2022-01-17T15:22:53.698Z"
   },
   {
    "duration": 507,
    "start_time": "2022-01-17T15:22:54.395Z"
   },
   {
    "duration": 479,
    "start_time": "2022-01-17T15:22:54.905Z"
   },
   {
    "duration": 430,
    "start_time": "2022-01-17T15:22:55.387Z"
   },
   {
    "duration": 8,
    "start_time": "2022-01-17T15:22:55.819Z"
   },
   {
    "duration": 455,
    "start_time": "2022-01-17T15:22:55.829Z"
   },
   {
    "duration": 492,
    "start_time": "2022-01-17T15:22:56.287Z"
   },
   {
    "duration": 8,
    "start_time": "2022-01-17T15:22:56.782Z"
   },
   {
    "duration": 450,
    "start_time": "2022-01-17T15:22:56.793Z"
   },
   {
    "duration": 452,
    "start_time": "2022-01-17T15:22:57.246Z"
   },
   {
    "duration": 7,
    "start_time": "2022-01-17T15:22:57.704Z"
   },
   {
    "duration": 447,
    "start_time": "2022-01-17T15:22:57.716Z"
   },
   {
    "duration": 536,
    "start_time": "2022-01-17T15:22:58.165Z"
   },
   {
    "duration": 10,
    "start_time": "2022-01-17T15:22:58.704Z"
   },
   {
    "duration": 426,
    "start_time": "2022-01-17T15:22:58.717Z"
   },
   {
    "duration": 479,
    "start_time": "2022-01-17T15:22:59.146Z"
   },
   {
    "duration": 11,
    "start_time": "2022-01-17T15:22:59.628Z"
   },
   {
    "duration": 534,
    "start_time": "2022-01-17T15:22:59.642Z"
   },
   {
    "duration": 464,
    "start_time": "2022-01-17T15:23:00.179Z"
   },
   {
    "duration": 18,
    "start_time": "2022-01-17T15:23:00.645Z"
   },
   {
    "duration": 345,
    "start_time": "2022-01-17T15:23:00.666Z"
   },
   {
    "duration": 25,
    "start_time": "2022-01-17T15:23:01.013Z"
   },
   {
    "duration": 38,
    "start_time": "2022-01-17T15:23:01.040Z"
   },
   {
    "duration": 33,
    "start_time": "2022-01-17T15:23:01.081Z"
   },
   {
    "duration": 77,
    "start_time": "2022-01-17T15:23:01.118Z"
   },
   {
    "duration": 24,
    "start_time": "2022-01-17T15:23:01.198Z"
   },
   {
    "duration": 40,
    "start_time": "2022-01-17T15:23:01.225Z"
   },
   {
    "duration": 24,
    "start_time": "2022-01-17T15:23:01.268Z"
   },
   {
    "duration": 31,
    "start_time": "2022-01-17T15:23:01.295Z"
   },
   {
    "duration": 60,
    "start_time": "2022-01-17T15:23:01.329Z"
   },
   {
    "duration": 491,
    "start_time": "2022-01-17T15:23:01.392Z"
   },
   {
    "duration": 10,
    "start_time": "2022-01-17T15:23:01.886Z"
   },
   {
    "duration": 18,
    "start_time": "2022-01-17T15:23:01.899Z"
   },
   {
    "duration": 51,
    "start_time": "2022-01-17T15:23:01.920Z"
   },
   {
    "duration": 12,
    "start_time": "2022-01-17T15:23:01.974Z"
   },
   {
    "duration": 14,
    "start_time": "2022-01-17T15:23:01.989Z"
   },
   {
    "duration": 74,
    "start_time": "2022-01-17T15:28:14.569Z"
   },
   {
    "duration": 23,
    "start_time": "2022-01-17T15:28:14.646Z"
   },
   {
    "duration": 22,
    "start_time": "2022-01-17T15:28:14.672Z"
   },
   {
    "duration": 67,
    "start_time": "2022-01-17T15:28:14.697Z"
   },
   {
    "duration": 26,
    "start_time": "2022-01-17T15:28:14.767Z"
   },
   {
    "duration": 7,
    "start_time": "2022-01-17T15:28:14.796Z"
   },
   {
    "duration": 10,
    "start_time": "2022-01-17T15:28:14.806Z"
   },
   {
    "duration": 74,
    "start_time": "2022-01-17T15:28:14.822Z"
   },
   {
    "duration": 618,
    "start_time": "2022-01-17T15:28:14.900Z"
   },
   {
    "duration": 609,
    "start_time": "2022-01-17T15:28:15.522Z"
   },
   {
    "duration": 12,
    "start_time": "2022-01-17T15:28:16.135Z"
   },
   {
    "duration": 33,
    "start_time": "2022-01-17T15:28:16.162Z"
   },
   {
    "duration": 763,
    "start_time": "2022-01-17T15:28:16.199Z"
   },
   {
    "duration": 417,
    "start_time": "2022-01-17T15:28:16.965Z"
   },
   {
    "duration": 417,
    "start_time": "2022-01-17T15:28:17.385Z"
   },
   {
    "duration": 561,
    "start_time": "2022-01-17T15:28:17.805Z"
   },
   {
    "duration": 8,
    "start_time": "2022-01-17T15:28:18.369Z"
   },
   {
    "duration": 421,
    "start_time": "2022-01-17T15:28:18.379Z"
   },
   {
    "duration": 417,
    "start_time": "2022-01-17T15:28:18.802Z"
   },
   {
    "duration": 6,
    "start_time": "2022-01-17T15:28:19.222Z"
   },
   {
    "duration": 455,
    "start_time": "2022-01-17T15:28:19.231Z"
   },
   {
    "duration": 464,
    "start_time": "2022-01-17T15:28:19.689Z"
   },
   {
    "duration": 8,
    "start_time": "2022-01-17T15:28:20.162Z"
   },
   {
    "duration": 380,
    "start_time": "2022-01-17T15:28:20.173Z"
   },
   {
    "duration": 425,
    "start_time": "2022-01-17T15:28:20.562Z"
   },
   {
    "duration": 7,
    "start_time": "2022-01-17T15:28:20.990Z"
   },
   {
    "duration": 474,
    "start_time": "2022-01-17T15:28:20.999Z"
   },
   {
    "duration": 444,
    "start_time": "2022-01-17T15:28:21.476Z"
   },
   {
    "duration": 8,
    "start_time": "2022-01-17T15:28:21.923Z"
   },
   {
    "duration": 449,
    "start_time": "2022-01-17T15:28:21.933Z"
   },
   {
    "duration": 442,
    "start_time": "2022-01-17T15:28:22.385Z"
   },
   {
    "duration": -1064,
    "start_time": "2022-01-17T15:28:23.894Z"
   },
   {
    "duration": -1067,
    "start_time": "2022-01-17T15:28:23.898Z"
   },
   {
    "duration": -1067,
    "start_time": "2022-01-17T15:28:23.900Z"
   },
   {
    "duration": -1068,
    "start_time": "2022-01-17T15:28:23.902Z"
   },
   {
    "duration": -1068,
    "start_time": "2022-01-17T15:28:23.904Z"
   },
   {
    "duration": -1069,
    "start_time": "2022-01-17T15:28:23.906Z"
   },
   {
    "duration": -1070,
    "start_time": "2022-01-17T15:28:23.908Z"
   },
   {
    "duration": -1100,
    "start_time": "2022-01-17T15:28:23.940Z"
   },
   {
    "duration": -1101,
    "start_time": "2022-01-17T15:28:23.942Z"
   },
   {
    "duration": -1101,
    "start_time": "2022-01-17T15:28:23.943Z"
   },
   {
    "duration": -1102,
    "start_time": "2022-01-17T15:28:23.946Z"
   },
   {
    "duration": -1107,
    "start_time": "2022-01-17T15:28:23.952Z"
   },
   {
    "duration": -1107,
    "start_time": "2022-01-17T15:28:23.954Z"
   },
   {
    "duration": -1107,
    "start_time": "2022-01-17T15:28:23.955Z"
   },
   {
    "duration": -1107,
    "start_time": "2022-01-17T15:28:23.957Z"
   },
   {
    "duration": -1107,
    "start_time": "2022-01-17T15:28:23.959Z"
   },
   {
    "duration": -1108,
    "start_time": "2022-01-17T15:28:23.961Z"
   },
   {
    "duration": 586,
    "start_time": "2022-01-17T15:33:56.336Z"
   },
   {
    "duration": 380,
    "start_time": "2022-01-17T15:43:22.917Z"
   },
   {
    "duration": 426,
    "start_time": "2022-01-17T15:49:10.117Z"
   },
   {
    "duration": 420,
    "start_time": "2022-01-17T15:49:39.330Z"
   },
   {
    "duration": 74,
    "start_time": "2022-01-17T15:49:42.728Z"
   },
   {
    "duration": 15,
    "start_time": "2022-01-17T15:49:42.804Z"
   },
   {
    "duration": 57,
    "start_time": "2022-01-17T15:49:42.822Z"
   },
   {
    "duration": 18,
    "start_time": "2022-01-17T15:49:42.882Z"
   },
   {
    "duration": 61,
    "start_time": "2022-01-17T15:49:42.902Z"
   },
   {
    "duration": 7,
    "start_time": "2022-01-17T15:49:42.966Z"
   },
   {
    "duration": 12,
    "start_time": "2022-01-17T15:49:42.975Z"
   },
   {
    "duration": 26,
    "start_time": "2022-01-17T15:49:42.989Z"
   },
   {
    "duration": 431,
    "start_time": "2022-01-17T15:49:43.019Z"
   },
   {
    "duration": 408,
    "start_time": "2022-01-17T15:49:43.453Z"
   },
   {
    "duration": 9,
    "start_time": "2022-01-17T15:49:43.863Z"
   },
   {
    "duration": 36,
    "start_time": "2022-01-17T15:49:43.875Z"
   },
   {
    "duration": 501,
    "start_time": "2022-01-17T15:49:43.914Z"
   },
   {
    "duration": 426,
    "start_time": "2022-01-17T15:49:44.419Z"
   },
   {
    "duration": 422,
    "start_time": "2022-01-17T15:49:44.848Z"
   },
   {
    "duration": 425,
    "start_time": "2022-01-17T15:49:45.272Z"
   },
   {
    "duration": 7,
    "start_time": "2022-01-17T15:49:45.699Z"
   },
   {
    "duration": 483,
    "start_time": "2022-01-17T15:49:45.709Z"
   },
   {
    "duration": 480,
    "start_time": "2022-01-17T15:49:46.195Z"
   },
   {
    "duration": 8,
    "start_time": "2022-01-17T15:49:46.677Z"
   },
   {
    "duration": 403,
    "start_time": "2022-01-17T15:49:46.687Z"
   },
   {
    "duration": 416,
    "start_time": "2022-01-17T15:49:47.093Z"
   },
   {
    "duration": 7,
    "start_time": "2022-01-17T15:49:47.512Z"
   },
   {
    "duration": 530,
    "start_time": "2022-01-17T15:49:47.521Z"
   },
   {
    "duration": 517,
    "start_time": "2022-01-17T15:49:48.055Z"
   },
   {
    "duration": 8,
    "start_time": "2022-01-17T15:49:48.576Z"
   },
   {
    "duration": 421,
    "start_time": "2022-01-17T15:49:48.590Z"
   },
   {
    "duration": 463,
    "start_time": "2022-01-17T15:49:49.014Z"
   },
   {
    "duration": 8,
    "start_time": "2022-01-17T15:49:49.480Z"
   },
   {
    "duration": 387,
    "start_time": "2022-01-17T15:49:49.490Z"
   },
   {
    "duration": 294,
    "start_time": "2022-01-17T15:49:49.879Z"
   },
   {
    "duration": -1121,
    "start_time": "2022-01-17T15:49:51.297Z"
   },
   {
    "duration": -1121,
    "start_time": "2022-01-17T15:49:51.299Z"
   },
   {
    "duration": -1121,
    "start_time": "2022-01-17T15:49:51.301Z"
   },
   {
    "duration": -1122,
    "start_time": "2022-01-17T15:49:51.303Z"
   },
   {
    "duration": -1122,
    "start_time": "2022-01-17T15:49:51.305Z"
   },
   {
    "duration": -1122,
    "start_time": "2022-01-17T15:49:51.307Z"
   },
   {
    "duration": -1122,
    "start_time": "2022-01-17T15:49:51.308Z"
   },
   {
    "duration": -1122,
    "start_time": "2022-01-17T15:49:51.310Z"
   },
   {
    "duration": -1122,
    "start_time": "2022-01-17T15:49:51.312Z"
   },
   {
    "duration": -1154,
    "start_time": "2022-01-17T15:49:51.345Z"
   },
   {
    "duration": -1160,
    "start_time": "2022-01-17T15:49:51.353Z"
   },
   {
    "duration": -1162,
    "start_time": "2022-01-17T15:49:51.356Z"
   },
   {
    "duration": -1162,
    "start_time": "2022-01-17T15:49:51.358Z"
   },
   {
    "duration": -1163,
    "start_time": "2022-01-17T15:49:51.360Z"
   },
   {
    "duration": -1164,
    "start_time": "2022-01-17T15:49:51.362Z"
   },
   {
    "duration": -1164,
    "start_time": "2022-01-17T15:49:51.364Z"
   },
   {
    "duration": -1165,
    "start_time": "2022-01-17T15:49:51.366Z"
   },
   {
    "duration": 486,
    "start_time": "2022-01-17T15:50:05.720Z"
   },
   {
    "duration": 435,
    "start_time": "2022-01-17T15:50:08.043Z"
   },
   {
    "duration": 404,
    "start_time": "2022-01-17T15:51:32.750Z"
   },
   {
    "duration": 427,
    "start_time": "2022-01-17T15:51:35.727Z"
   },
   {
    "duration": 7,
    "start_time": "2022-01-17T15:51:56.454Z"
   },
   {
    "duration": 7,
    "start_time": "2022-01-17T15:52:04.824Z"
   },
   {
    "duration": 415,
    "start_time": "2022-01-17T15:56:53.462Z"
   },
   {
    "duration": 429,
    "start_time": "2022-01-17T15:56:55.707Z"
   },
   {
    "duration": 8,
    "start_time": "2022-01-17T15:57:13.020Z"
   },
   {
    "duration": 309,
    "start_time": "2022-01-17T16:03:35.861Z"
   },
   {
    "duration": 313,
    "start_time": "2022-01-17T16:03:52.270Z"
   },
   {
    "duration": 39,
    "start_time": "2022-01-17T16:09:03.599Z"
   },
   {
    "duration": 22,
    "start_time": "2022-01-17T16:09:07.870Z"
   },
   {
    "duration": 28,
    "start_time": "2022-01-17T16:09:10.687Z"
   },
   {
    "duration": 22,
    "start_time": "2022-01-17T16:09:19.484Z"
   },
   {
    "duration": 23,
    "start_time": "2022-01-17T16:09:22.522Z"
   },
   {
    "duration": 32,
    "start_time": "2022-01-17T16:09:24.780Z"
   },
   {
    "duration": 23,
    "start_time": "2022-01-17T16:09:29.880Z"
   },
   {
    "duration": 23,
    "start_time": "2022-01-17T16:09:32.523Z"
   },
   {
    "duration": 39,
    "start_time": "2022-01-17T16:09:35.142Z"
   },
   {
    "duration": 11,
    "start_time": "2022-01-17T16:10:17.567Z"
   },
   {
    "duration": 9,
    "start_time": "2022-01-17T16:10:27.683Z"
   },
   {
    "duration": 8,
    "start_time": "2022-01-17T16:12:44.807Z"
   },
   {
    "duration": 16,
    "start_time": "2022-01-17T16:13:22.929Z"
   },
   {
    "duration": 8,
    "start_time": "2022-01-17T16:13:25.445Z"
   },
   {
    "duration": 24,
    "start_time": "2022-01-17T16:29:28.953Z"
   },
   {
    "duration": 25,
    "start_time": "2022-01-17T16:33:22.627Z"
   },
   {
    "duration": 22,
    "start_time": "2022-01-17T16:38:12.540Z"
   },
   {
    "duration": 1071,
    "start_time": "2022-01-18T13:30:41.815Z"
   },
   {
    "duration": 904,
    "start_time": "2022-01-18T15:55:44.562Z"
   },
   {
    "duration": 47,
    "start_time": "2022-01-18T15:55:45.468Z"
   },
   {
    "duration": 8,
    "start_time": "2022-01-18T15:55:45.517Z"
   },
   {
    "duration": 13,
    "start_time": "2022-01-18T15:55:45.527Z"
   },
   {
    "duration": 11,
    "start_time": "2022-01-18T15:55:45.542Z"
   },
   {
    "duration": 16,
    "start_time": "2022-01-18T15:55:45.554Z"
   },
   {
    "duration": 4,
    "start_time": "2022-01-18T15:55:45.571Z"
   },
   {
    "duration": 37,
    "start_time": "2022-01-18T15:55:45.577Z"
   },
   {
    "duration": 276,
    "start_time": "2022-01-18T15:55:45.616Z"
   },
   {
    "duration": 19,
    "start_time": "2022-01-18T15:55:45.894Z"
   },
   {
    "duration": 224,
    "start_time": "2022-01-18T15:55:45.914Z"
   },
   {
    "duration": 215,
    "start_time": "2022-01-18T15:55:46.140Z"
   },
   {
    "duration": 5,
    "start_time": "2022-01-18T15:55:46.357Z"
   },
   {
    "duration": 15,
    "start_time": "2022-01-18T15:55:46.364Z"
   },
   {
    "duration": 225,
    "start_time": "2022-01-18T15:55:46.380Z"
   },
   {
    "duration": 206,
    "start_time": "2022-01-18T15:55:46.607Z"
   },
   {
    "duration": 286,
    "start_time": "2022-01-18T15:55:46.815Z"
   },
   {
    "duration": 294,
    "start_time": "2022-01-18T15:55:47.103Z"
   },
   {
    "duration": 5,
    "start_time": "2022-01-18T15:55:47.398Z"
   },
   {
    "duration": 282,
    "start_time": "2022-01-18T15:55:47.412Z"
   },
   {
    "duration": 301,
    "start_time": "2022-01-18T15:55:47.695Z"
   },
   {
    "duration": 4,
    "start_time": "2022-01-18T15:55:47.998Z"
   },
   {
    "duration": 314,
    "start_time": "2022-01-18T15:55:48.011Z"
   },
   {
    "duration": 272,
    "start_time": "2022-01-18T15:55:48.327Z"
   },
   {
    "duration": 13,
    "start_time": "2022-01-18T15:55:48.601Z"
   },
   {
    "duration": 278,
    "start_time": "2022-01-18T15:55:48.615Z"
   },
   {
    "duration": 295,
    "start_time": "2022-01-18T15:55:48.896Z"
   },
   {
    "duration": 5,
    "start_time": "2022-01-18T15:55:49.193Z"
   },
   {
    "duration": 302,
    "start_time": "2022-01-18T15:55:49.199Z"
   },
   {
    "duration": 286,
    "start_time": "2022-01-18T15:55:49.502Z"
   },
   {
    "duration": 4,
    "start_time": "2022-01-18T15:55:49.790Z"
   },
   {
    "duration": 181,
    "start_time": "2022-01-18T15:55:49.796Z"
   },
   {
    "duration": 14,
    "start_time": "2022-01-18T15:55:49.978Z"
   },
   {
    "duration": 24,
    "start_time": "2022-01-18T15:55:49.993Z"
   },
   {
    "duration": 12,
    "start_time": "2022-01-18T15:55:50.018Z"
   },
   {
    "duration": 14,
    "start_time": "2022-01-18T15:55:50.031Z"
   },
   {
    "duration": 12,
    "start_time": "2022-01-18T15:55:50.046Z"
   },
   {
    "duration": 11,
    "start_time": "2022-01-18T15:55:50.060Z"
   },
   {
    "duration": 40,
    "start_time": "2022-01-18T15:55:50.073Z"
   },
   {
    "duration": 12,
    "start_time": "2022-01-18T15:55:50.114Z"
   },
   {
    "duration": 11,
    "start_time": "2022-01-18T15:55:50.128Z"
   },
   {
    "duration": 4,
    "start_time": "2022-01-18T15:55:50.140Z"
   },
   {
    "duration": 9,
    "start_time": "2022-01-18T15:55:50.146Z"
   },
   {
    "duration": 6,
    "start_time": "2022-01-18T15:55:50.156Z"
   },
   {
    "duration": 14,
    "start_time": "2022-01-18T15:55:50.163Z"
   },
   {
    "duration": 9,
    "start_time": "2022-01-18T15:55:50.178Z"
   },
   {
    "duration": 4,
    "start_time": "2022-01-18T15:55:50.212Z"
   },
   {
    "duration": 257,
    "start_time": "2022-01-18T15:56:22.472Z"
   },
   {
    "duration": 134,
    "start_time": "2022-01-18T15:56:27.487Z"
   },
   {
    "duration": 346,
    "start_time": "2022-01-18T15:56:40.266Z"
   },
   {
    "duration": 336,
    "start_time": "2022-01-18T15:56:53.602Z"
   },
   {
    "duration": 338,
    "start_time": "2022-01-18T15:58:24.313Z"
   },
   {
    "duration": 184,
    "start_time": "2022-01-18T15:58:31.168Z"
   },
   {
    "duration": 276,
    "start_time": "2022-01-18T15:58:42.709Z"
   },
   {
    "duration": 7,
    "start_time": "2022-01-18T15:59:07.891Z"
   },
   {
    "duration": 5,
    "start_time": "2022-01-18T15:59:18.779Z"
   },
   {
    "duration": 3,
    "start_time": "2022-01-18T15:59:35.411Z"
   },
   {
    "duration": 50,
    "start_time": "2022-01-18T15:59:35.416Z"
   },
   {
    "duration": 7,
    "start_time": "2022-01-18T15:59:35.468Z"
   },
   {
    "duration": 36,
    "start_time": "2022-01-18T15:59:35.477Z"
   },
   {
    "duration": 11,
    "start_time": "2022-01-18T15:59:35.515Z"
   },
   {
    "duration": 17,
    "start_time": "2022-01-18T15:59:35.527Z"
   },
   {
    "duration": 3,
    "start_time": "2022-01-18T15:59:35.545Z"
   },
   {
    "duration": 6,
    "start_time": "2022-01-18T15:59:35.551Z"
   },
   {
    "duration": 223,
    "start_time": "2022-01-18T15:59:35.558Z"
   },
   {
    "duration": 15,
    "start_time": "2022-01-18T15:59:35.783Z"
   },
   {
    "duration": 217,
    "start_time": "2022-01-18T15:59:35.812Z"
   },
   {
    "duration": 209,
    "start_time": "2022-01-18T15:59:36.031Z"
   },
   {
    "duration": 5,
    "start_time": "2022-01-18T15:59:36.242Z"
   },
   {
    "duration": 12,
    "start_time": "2022-01-18T15:59:36.249Z"
   },
   {
    "duration": 229,
    "start_time": "2022-01-18T15:59:36.262Z"
   },
   {
    "duration": 210,
    "start_time": "2022-01-18T15:59:36.492Z"
   },
   {
    "duration": 290,
    "start_time": "2022-01-18T15:59:36.704Z"
   },
   {
    "duration": 304,
    "start_time": "2022-01-18T15:59:36.996Z"
   },
   {
    "duration": 13,
    "start_time": "2022-01-18T15:59:37.302Z"
   },
   {
    "duration": 281,
    "start_time": "2022-01-18T15:59:37.316Z"
   },
   {
    "duration": 297,
    "start_time": "2022-01-18T15:59:37.598Z"
   },
   {
    "duration": 4,
    "start_time": "2022-01-18T15:59:37.896Z"
   },
   {
    "duration": 287,
    "start_time": "2022-01-18T15:59:37.911Z"
   },
   {
    "duration": 301,
    "start_time": "2022-01-18T15:59:38.200Z"
   },
   {
    "duration": 10,
    "start_time": "2022-01-18T15:59:38.503Z"
   },
   {
    "duration": 398,
    "start_time": "2022-01-18T15:59:38.514Z"
   },
   {
    "duration": 284,
    "start_time": "2022-01-18T15:59:38.913Z"
   },
   {
    "duration": 13,
    "start_time": "2022-01-18T15:59:39.199Z"
   },
   {
    "duration": 271,
    "start_time": "2022-01-18T15:59:39.214Z"
   },
   {
    "duration": 288,
    "start_time": "2022-01-18T15:59:39.486Z"
   },
   {
    "duration": 4,
    "start_time": "2022-01-18T15:59:39.776Z"
   },
   {
    "duration": 180,
    "start_time": "2022-01-18T15:59:39.781Z"
   },
   {
    "duration": 13,
    "start_time": "2022-01-18T15:59:39.963Z"
   },
   {
    "duration": 12,
    "start_time": "2022-01-18T15:59:39.977Z"
   },
   {
    "duration": 28,
    "start_time": "2022-01-18T15:59:39.990Z"
   },
   {
    "duration": 13,
    "start_time": "2022-01-18T15:59:40.019Z"
   },
   {
    "duration": 14,
    "start_time": "2022-01-18T15:59:40.033Z"
   },
   {
    "duration": 13,
    "start_time": "2022-01-18T15:59:40.048Z"
   },
   {
    "duration": 12,
    "start_time": "2022-01-18T15:59:40.062Z"
   },
   {
    "duration": 45,
    "start_time": "2022-01-18T15:59:40.075Z"
   },
   {
    "duration": 11,
    "start_time": "2022-01-18T15:59:40.121Z"
   },
   {
    "duration": 4,
    "start_time": "2022-01-18T15:59:40.134Z"
   },
   {
    "duration": 6,
    "start_time": "2022-01-18T15:59:40.139Z"
   },
   {
    "duration": 5,
    "start_time": "2022-01-18T15:59:40.146Z"
   },
   {
    "duration": 12,
    "start_time": "2022-01-18T15:59:40.152Z"
   },
   {
    "duration": 6,
    "start_time": "2022-01-18T15:59:40.165Z"
   },
   {
    "duration": 5,
    "start_time": "2022-01-18T15:59:40.172Z"
   },
   {
    "duration": 3,
    "start_time": "2022-01-18T16:00:23.383Z"
   },
   {
    "duration": 48,
    "start_time": "2022-01-18T16:00:23.388Z"
   },
   {
    "duration": 9,
    "start_time": "2022-01-18T16:00:23.438Z"
   },
   {
    "duration": 15,
    "start_time": "2022-01-18T16:00:23.449Z"
   },
   {
    "duration": 50,
    "start_time": "2022-01-18T16:00:23.465Z"
   },
   {
    "duration": 24,
    "start_time": "2022-01-18T16:00:23.517Z"
   },
   {
    "duration": 5,
    "start_time": "2022-01-18T16:00:23.542Z"
   },
   {
    "duration": 7,
    "start_time": "2022-01-18T16:00:23.549Z"
   },
   {
    "duration": 360,
    "start_time": "2022-01-18T16:00:23.558Z"
   },
   {
    "duration": -59,
    "start_time": "2022-01-18T16:00:23.979Z"
   },
   {
    "duration": -61,
    "start_time": "2022-01-18T16:00:23.982Z"
   },
   {
    "duration": -93,
    "start_time": "2022-01-18T16:00:24.015Z"
   },
   {
    "duration": -95,
    "start_time": "2022-01-18T16:00:24.017Z"
   },
   {
    "duration": -97,
    "start_time": "2022-01-18T16:00:24.020Z"
   },
   {
    "duration": -100,
    "start_time": "2022-01-18T16:00:24.023Z"
   },
   {
    "duration": -101,
    "start_time": "2022-01-18T16:00:24.025Z"
   },
   {
    "duration": -102,
    "start_time": "2022-01-18T16:00:24.027Z"
   },
   {
    "duration": -103,
    "start_time": "2022-01-18T16:00:24.029Z"
   },
   {
    "duration": -106,
    "start_time": "2022-01-18T16:00:24.032Z"
   },
   {
    "duration": -106,
    "start_time": "2022-01-18T16:00:24.033Z"
   },
   {
    "duration": -112,
    "start_time": "2022-01-18T16:00:24.040Z"
   },
   {
    "duration": -114,
    "start_time": "2022-01-18T16:00:24.042Z"
   },
   {
    "duration": -115,
    "start_time": "2022-01-18T16:00:24.044Z"
   },
   {
    "duration": -116,
    "start_time": "2022-01-18T16:00:24.046Z"
   },
   {
    "duration": -117,
    "start_time": "2022-01-18T16:00:24.048Z"
   },
   {
    "duration": -118,
    "start_time": "2022-01-18T16:00:24.049Z"
   },
   {
    "duration": -119,
    "start_time": "2022-01-18T16:00:24.051Z"
   },
   {
    "duration": -120,
    "start_time": "2022-01-18T16:00:24.053Z"
   },
   {
    "duration": -121,
    "start_time": "2022-01-18T16:00:24.055Z"
   },
   {
    "duration": -123,
    "start_time": "2022-01-18T16:00:24.057Z"
   },
   {
    "duration": -124,
    "start_time": "2022-01-18T16:00:24.059Z"
   },
   {
    "duration": -124,
    "start_time": "2022-01-18T16:00:24.060Z"
   },
   {
    "duration": -126,
    "start_time": "2022-01-18T16:00:24.062Z"
   },
   {
    "duration": -127,
    "start_time": "2022-01-18T16:00:24.064Z"
   },
   {
    "duration": -128,
    "start_time": "2022-01-18T16:00:24.066Z"
   },
   {
    "duration": -130,
    "start_time": "2022-01-18T16:00:24.068Z"
   },
   {
    "duration": -131,
    "start_time": "2022-01-18T16:00:24.070Z"
   },
   {
    "duration": -132,
    "start_time": "2022-01-18T16:00:24.072Z"
   },
   {
    "duration": -134,
    "start_time": "2022-01-18T16:00:24.074Z"
   },
   {
    "duration": -134,
    "start_time": "2022-01-18T16:00:24.075Z"
   },
   {
    "duration": -135,
    "start_time": "2022-01-18T16:00:24.077Z"
   },
   {
    "duration": -137,
    "start_time": "2022-01-18T16:00:24.079Z"
   },
   {
    "duration": -138,
    "start_time": "2022-01-18T16:00:24.081Z"
   },
   {
    "duration": -138,
    "start_time": "2022-01-18T16:00:24.082Z"
   },
   {
    "duration": -139,
    "start_time": "2022-01-18T16:00:24.084Z"
   },
   {
    "duration": -141,
    "start_time": "2022-01-18T16:00:24.086Z"
   },
   {
    "duration": -142,
    "start_time": "2022-01-18T16:00:24.088Z"
   },
   {
    "duration": 159,
    "start_time": "2022-01-18T16:00:35.107Z"
   },
   {
    "duration": 3,
    "start_time": "2022-01-18T16:01:19.670Z"
   },
   {
    "duration": 51,
    "start_time": "2022-01-18T16:01:19.675Z"
   },
   {
    "duration": 9,
    "start_time": "2022-01-18T16:01:19.728Z"
   },
   {
    "duration": 13,
    "start_time": "2022-01-18T16:01:19.739Z"
   },
   {
    "duration": 11,
    "start_time": "2022-01-18T16:01:19.753Z"
   },
   {
    "duration": 52,
    "start_time": "2022-01-18T16:01:19.765Z"
   },
   {
    "duration": 3,
    "start_time": "2022-01-18T16:01:19.818Z"
   },
   {
    "duration": 7,
    "start_time": "2022-01-18T16:01:19.823Z"
   },
   {
    "duration": 172,
    "start_time": "2022-01-18T16:01:19.832Z"
   },
   {
    "duration": 19,
    "start_time": "2022-01-18T16:01:20.005Z"
   },
   {
    "duration": 226,
    "start_time": "2022-01-18T16:01:20.025Z"
   },
   {
    "duration": 210,
    "start_time": "2022-01-18T16:01:20.252Z"
   },
   {
    "duration": 5,
    "start_time": "2022-01-18T16:01:20.463Z"
   },
   {
    "duration": 12,
    "start_time": "2022-01-18T16:01:20.470Z"
   },
   {
    "duration": 224,
    "start_time": "2022-01-18T16:01:20.483Z"
   },
   {
    "duration": 207,
    "start_time": "2022-01-18T16:01:20.709Z"
   },
   {
    "duration": 295,
    "start_time": "2022-01-18T16:01:20.918Z"
   },
   {
    "duration": 287,
    "start_time": "2022-01-18T16:01:21.215Z"
   },
   {
    "duration": 11,
    "start_time": "2022-01-18T16:01:21.504Z"
   },
   {
    "duration": 278,
    "start_time": "2022-01-18T16:01:21.516Z"
   },
   {
    "duration": 298,
    "start_time": "2022-01-18T16:01:21.796Z"
   },
   {
    "duration": 4,
    "start_time": "2022-01-18T16:01:22.095Z"
   },
   {
    "duration": 389,
    "start_time": "2022-01-18T16:01:22.102Z"
   },
   {
    "duration": 296,
    "start_time": "2022-01-18T16:01:22.493Z"
   },
   {
    "duration": 5,
    "start_time": "2022-01-18T16:01:22.790Z"
   },
   {
    "duration": 298,
    "start_time": "2022-01-18T16:01:22.796Z"
   },
   {
    "duration": 294,
    "start_time": "2022-01-18T16:01:23.095Z"
   },
   {
    "duration": 4,
    "start_time": "2022-01-18T16:01:23.390Z"
   },
   {
    "duration": 298,
    "start_time": "2022-01-18T16:01:23.396Z"
   },
   {
    "duration": 284,
    "start_time": "2022-01-18T16:01:23.695Z"
   },
   {
    "duration": 5,
    "start_time": "2022-01-18T16:01:23.980Z"
   },
   {
    "duration": 182,
    "start_time": "2022-01-18T16:01:23.986Z"
   },
   {
    "duration": 13,
    "start_time": "2022-01-18T16:01:24.170Z"
   },
   {
    "duration": 28,
    "start_time": "2022-01-18T16:01:24.184Z"
   },
   {
    "duration": 11,
    "start_time": "2022-01-18T16:01:24.213Z"
   },
   {
    "duration": 11,
    "start_time": "2022-01-18T16:01:24.225Z"
   },
   {
    "duration": 11,
    "start_time": "2022-01-18T16:01:24.238Z"
   },
   {
    "duration": 15,
    "start_time": "2022-01-18T16:01:24.250Z"
   },
   {
    "duration": 12,
    "start_time": "2022-01-18T16:01:24.267Z"
   },
   {
    "duration": 40,
    "start_time": "2022-01-18T16:01:24.280Z"
   },
   {
    "duration": 12,
    "start_time": "2022-01-18T16:01:24.321Z"
   },
   {
    "duration": 4,
    "start_time": "2022-01-18T16:01:24.334Z"
   },
   {
    "duration": 4,
    "start_time": "2022-01-18T16:01:24.339Z"
   },
   {
    "duration": 5,
    "start_time": "2022-01-18T16:01:24.345Z"
   },
   {
    "duration": 7,
    "start_time": "2022-01-18T16:01:24.351Z"
   },
   {
    "duration": 3,
    "start_time": "2022-01-18T16:01:24.360Z"
   },
   {
    "duration": 5,
    "start_time": "2022-01-18T16:01:24.365Z"
   },
   {
    "duration": 4,
    "start_time": "2022-01-18T16:29:35.672Z"
   },
   {
    "duration": 5,
    "start_time": "2022-01-18T16:30:57.843Z"
   }
  ],
  "kernelspec": {
   "display_name": "Python 3 (ipykernel)",
   "language": "python",
   "name": "python3"
  },
  "language_info": {
   "codemirror_mode": {
    "name": "ipython",
    "version": 3
   },
   "file_extension": ".py",
   "mimetype": "text/x-python",
   "name": "python",
   "nbconvert_exporter": "python",
   "pygments_lexer": "ipython3",
   "version": "3.10.5"
  },
  "toc": {
   "base_numbering": 1,
   "nav_menu": {},
   "number_sections": false,
   "sideBar": true,
   "skip_h1_title": false,
   "title_cell": "Table of Contents",
   "title_sidebar": "Contents",
   "toc_cell": false,
   "toc_position": {
    "height": "calc(100% - 180px)",
    "left": "10px",
    "top": "150px",
    "width": "315.014px"
   },
   "toc_section_display": true,
   "toc_window_display": true
  }
 },
 "nbformat": 4,
 "nbformat_minor": 2
}
