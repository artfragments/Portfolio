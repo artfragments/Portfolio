{
 "cells": [
  {
   "cell_type": "markdown",
   "metadata": {
    "toc": true
   },
   "source": [
    "<h1>Содержание<span class=\"tocSkip\"></span></h1>\n",
    "<div class=\"toc\"><ul class=\"toc-item\"><li><span><a href=\"#Подготовка-данных\" data-toc-modified-id=\"Подготовка-данных-1\"><span class=\"toc-item-num\">1&nbsp;&nbsp;</span>Подготовка данных</a></span></li><li><span><a href=\"#Анализ-данных\" data-toc-modified-id=\"Анализ-данных-2\"><span class=\"toc-item-num\">2&nbsp;&nbsp;</span>Анализ данных</a></span></li><li><span><a href=\"#Модель\" data-toc-modified-id=\"Модель-3\"><span class=\"toc-item-num\">3&nbsp;&nbsp;</span>Модель</a></span><ul class=\"toc-item\"><li><span><a href=\"#Решающее-дерево\" data-toc-modified-id=\"Решающее-дерево-3.1\"><span class=\"toc-item-num\">3.1&nbsp;&nbsp;</span>Решающее дерево</a></span></li><li><span><a href=\"#Случайны-лес\" data-toc-modified-id=\"Случайны-лес-3.2\"><span class=\"toc-item-num\">3.2&nbsp;&nbsp;</span>Случайны лес</a></span></li><li><span><a href=\"#Линейная-регрессия\" data-toc-modified-id=\"Линейная-регрессия-3.3\"><span class=\"toc-item-num\">3.3&nbsp;&nbsp;</span>Линейная регрессия</a></span></li><li><span><a href=\"#Итоговая-sMAPE\" data-toc-modified-id=\"Итоговая-sMAPE-3.4\"><span class=\"toc-item-num\">3.4&nbsp;&nbsp;</span>Итоговая sMAPE</a></span></li></ul></li><li><span><a href=\"#Чек-лист-готовности-проекта\" data-toc-modified-id=\"Чек-лист-готовности-проекта-4\"><span class=\"toc-item-num\">4&nbsp;&nbsp;</span>Чек-лист готовности проекта</a></span></li></ul></div>"
   ]
  },
  {
   "cell_type": "markdown",
   "metadata": {},
   "source": [
    "# Восстановление золота из руды"
   ]
  },
  {
   "cell_type": "markdown",
   "metadata": {},
   "source": [
    "Подготовьте прототип модели машинного обучения для «Цифры». Компания разрабатывает решения для эффективной работы промышленных предприятий.\n",
    "\n",
    "Модель должна предсказать коэффициент восстановления золота из золотосодержащей руды. Используйте данные с параметрами добычи и очистки. \n",
    "\n",
    "Модель поможет оптимизировать производство, чтобы не запускать предприятие с убыточными характеристиками.\n",
    "\n",
    "Вам нужно:\n",
    "\n",
    "1. Подготовить данные;\n",
    "2. Провести исследовательский анализ данных;\n",
    "3. Построить и обучить модель.\n",
    "\n",
    "Чтобы выполнить проект, обращайтесь к библиотекам *pandas*, *matplotlib* и *sklearn.* Вам поможет их документация."
   ]
  },
  {
   "cell_type": "markdown",
   "metadata": {},
   "source": [
    "## Подготовка данных"
   ]
  },
  {
   "cell_type": "markdown",
   "metadata": {},
   "source": [
    "В следующей ячейке импортируем необходимые библиотеки:"
   ]
  },
  {
   "cell_type": "code",
   "execution_count": 1,
   "metadata": {},
   "outputs": [],
   "source": [
    "import pandas as pd\n",
    "import numpy as np\n",
    "from sklearn.metrics import mean_absolute_error \n",
    "import matplotlib.pyplot as plt\n",
    "from sklearn.preprocessing import StandardScaler\n",
    "from sklearn.metrics import make_scorer\n",
    "from sklearn.preprocessing import StandardScaler\n",
    "from sklearn.tree import DecisionTreeClassifier\n",
    "from sklearn.ensemble import RandomForestClassifier\n",
    "from sklearn.tree import DecisionTreeRegressor\n",
    "from sklearn.ensemble import RandomForestRegressor\n",
    "from sklearn.linear_model import LinearRegression\n",
    "from sklearn.linear_model import LogisticRegression\n",
    "from sklearn.model_selection import GridSearchCV\n",
    "from sklearn.model_selection import cross_val_score\n",
    "from sklearn.dummy import DummyClassifier\n",
    "import warnings\n",
    "warnings.simplefilter(\"ignore\")"
   ]
  },
  {
   "cell_type": "markdown",
   "metadata": {},
   "source": [
    "Откроем файл и просмотрим данные:"
   ]
  },
  {
   "cell_type": "code",
   "execution_count": 2,
   "metadata": {
    "scrolled": true
   },
   "outputs": [
    {
     "name": "stdout",
     "output_type": "stream",
     "text": [
      "<class 'pandas.core.frame.DataFrame'>\n",
      "RangeIndex: 19439 entries, 0 to 19438\n",
      "Data columns (total 87 columns):\n",
      " #   Column                                              Non-Null Count  Dtype  \n",
      "---  ------                                              --------------  -----  \n",
      " 0   date                                                19439 non-null  object \n",
      " 1   final.output.concentrate_ag                         19438 non-null  float64\n",
      " 2   final.output.concentrate_pb                         19438 non-null  float64\n",
      " 3   final.output.concentrate_sol                        19228 non-null  float64\n",
      " 4   final.output.concentrate_au                         19439 non-null  float64\n",
      " 5   final.output.recovery                               19439 non-null  float64\n",
      " 6   final.output.tail_ag                                19438 non-null  float64\n",
      " 7   final.output.tail_pb                                19338 non-null  float64\n",
      " 8   final.output.tail_sol                               19433 non-null  float64\n",
      " 9   final.output.tail_au                                19439 non-null  float64\n",
      " 10  primary_cleaner.input.sulfate                       19415 non-null  float64\n",
      " 11  primary_cleaner.input.depressant                    19402 non-null  float64\n",
      " 12  primary_cleaner.input.feed_size                     19439 non-null  float64\n",
      " 13  primary_cleaner.input.xanthate                      19335 non-null  float64\n",
      " 14  primary_cleaner.output.concentrate_ag               19439 non-null  float64\n",
      " 15  primary_cleaner.output.concentrate_pb               19323 non-null  float64\n",
      " 16  primary_cleaner.output.concentrate_sol              19069 non-null  float64\n",
      " 17  primary_cleaner.output.concentrate_au               19439 non-null  float64\n",
      " 18  primary_cleaner.output.tail_ag                      19435 non-null  float64\n",
      " 19  primary_cleaner.output.tail_pb                      19418 non-null  float64\n",
      " 20  primary_cleaner.output.tail_sol                     19377 non-null  float64\n",
      " 21  primary_cleaner.output.tail_au                      19439 non-null  float64\n",
      " 22  primary_cleaner.state.floatbank8_a_air              19435 non-null  float64\n",
      " 23  primary_cleaner.state.floatbank8_a_level            19438 non-null  float64\n",
      " 24  primary_cleaner.state.floatbank8_b_air              19435 non-null  float64\n",
      " 25  primary_cleaner.state.floatbank8_b_level            19438 non-null  float64\n",
      " 26  primary_cleaner.state.floatbank8_c_air              19437 non-null  float64\n",
      " 27  primary_cleaner.state.floatbank8_c_level            19438 non-null  float64\n",
      " 28  primary_cleaner.state.floatbank8_d_air              19436 non-null  float64\n",
      " 29  primary_cleaner.state.floatbank8_d_level            19438 non-null  float64\n",
      " 30  rougher.calculation.sulfate_to_au_concentrate       19437 non-null  float64\n",
      " 31  rougher.calculation.floatbank10_sulfate_to_au_feed  19437 non-null  float64\n",
      " 32  rougher.calculation.floatbank11_sulfate_to_au_feed  19437 non-null  float64\n",
      " 33  rougher.calculation.au_pb_ratio                     19439 non-null  float64\n",
      " 34  rougher.input.feed_ag                               19439 non-null  float64\n",
      " 35  rougher.input.feed_pb                               19339 non-null  float64\n",
      " 36  rougher.input.feed_rate                             19428 non-null  float64\n",
      " 37  rougher.input.feed_size                             19294 non-null  float64\n",
      " 38  rougher.input.feed_sol                              19340 non-null  float64\n",
      " 39  rougher.input.feed_au                               19439 non-null  float64\n",
      " 40  rougher.input.floatbank10_sulfate                   19405 non-null  float64\n",
      " 41  rougher.input.floatbank10_xanthate                  19431 non-null  float64\n",
      " 42  rougher.input.floatbank11_sulfate                   19395 non-null  float64\n",
      " 43  rougher.input.floatbank11_xanthate                  18986 non-null  float64\n",
      " 44  rougher.output.concentrate_ag                       19439 non-null  float64\n",
      " 45  rougher.output.concentrate_pb                       19439 non-null  float64\n",
      " 46  rougher.output.concentrate_sol                      19416 non-null  float64\n",
      " 47  rougher.output.concentrate_au                       19439 non-null  float64\n",
      " 48  rougher.output.recovery                             19439 non-null  float64\n",
      " 49  rougher.output.tail_ag                              19438 non-null  float64\n",
      " 50  rougher.output.tail_pb                              19439 non-null  float64\n",
      " 51  rougher.output.tail_sol                             19439 non-null  float64\n",
      " 52  rougher.output.tail_au                              19439 non-null  float64\n",
      " 53  rougher.state.floatbank10_a_air                     19438 non-null  float64\n",
      " 54  rougher.state.floatbank10_a_level                   19438 non-null  float64\n",
      " 55  rougher.state.floatbank10_b_air                     19438 non-null  float64\n",
      " 56  rougher.state.floatbank10_b_level                   19438 non-null  float64\n",
      " 57  rougher.state.floatbank10_c_air                     19438 non-null  float64\n",
      " 58  rougher.state.floatbank10_c_level                   19438 non-null  float64\n",
      " 59  rougher.state.floatbank10_d_air                     19439 non-null  float64\n",
      " 60  rougher.state.floatbank10_d_level                   19439 non-null  float64\n",
      " 61  rougher.state.floatbank10_e_air                     19003 non-null  float64\n",
      " 62  rougher.state.floatbank10_e_level                   19439 non-null  float64\n",
      " 63  rougher.state.floatbank10_f_air                     19439 non-null  float64\n",
      " 64  rougher.state.floatbank10_f_level                   19439 non-null  float64\n",
      " 65  secondary_cleaner.output.tail_ag                    19437 non-null  float64\n",
      " 66  secondary_cleaner.output.tail_pb                    19427 non-null  float64\n",
      " 67  secondary_cleaner.output.tail_sol                   17691 non-null  float64\n",
      " 68  secondary_cleaner.output.tail_au                    19439 non-null  float64\n",
      " 69  secondary_cleaner.state.floatbank2_a_air            19219 non-null  float64\n",
      " 70  secondary_cleaner.state.floatbank2_a_level          19438 non-null  float64\n",
      " 71  secondary_cleaner.state.floatbank2_b_air            19416 non-null  float64\n",
      " 72  secondary_cleaner.state.floatbank2_b_level          19438 non-null  float64\n",
      " 73  secondary_cleaner.state.floatbank3_a_air            19426 non-null  float64\n",
      " 74  secondary_cleaner.state.floatbank3_a_level          19438 non-null  float64\n",
      " 75  secondary_cleaner.state.floatbank3_b_air            19438 non-null  float64\n",
      " 76  secondary_cleaner.state.floatbank3_b_level          19438 non-null  float64\n",
      " 77  secondary_cleaner.state.floatbank4_a_air            19433 non-null  float64\n",
      " 78  secondary_cleaner.state.floatbank4_a_level          19438 non-null  float64\n",
      " 79  secondary_cleaner.state.floatbank4_b_air            19438 non-null  float64\n",
      " 80  secondary_cleaner.state.floatbank4_b_level          19438 non-null  float64\n",
      " 81  secondary_cleaner.state.floatbank5_a_air            19438 non-null  float64\n",
      " 82  secondary_cleaner.state.floatbank5_a_level          19438 non-null  float64\n",
      " 83  secondary_cleaner.state.floatbank5_b_air            19438 non-null  float64\n",
      " 84  secondary_cleaner.state.floatbank5_b_level          19438 non-null  float64\n",
      " 85  secondary_cleaner.state.floatbank6_a_air            19437 non-null  float64\n",
      " 86  secondary_cleaner.state.floatbank6_a_level          19438 non-null  float64\n",
      "dtypes: float64(86), object(1)\n",
      "memory usage: 12.9+ MB\n"
     ]
    }
   ],
   "source": [
    "df_train = pd.read_csv('/datasets/gold_recovery_train_new.csv')\n",
    "df_test = pd.read_csv('/datasets/gold_recovery_test_new.csv')\n",
    "df_full = pd.read_csv('/datasets/gold_recovery_full_new.csv')\n",
    "df_full.info()"
   ]
  },
  {
   "cell_type": "code",
   "execution_count": 3,
   "metadata": {
    "scrolled": true
   },
   "outputs": [
    {
     "name": "stdout",
     "output_type": "stream",
     "text": [
      "<class 'pandas.core.frame.DataFrame'>\n",
      "RangeIndex: 5290 entries, 0 to 5289\n",
      "Data columns (total 53 columns):\n",
      " #   Column                                      Non-Null Count  Dtype  \n",
      "---  ------                                      --------------  -----  \n",
      " 0   date                                        5290 non-null   object \n",
      " 1   primary_cleaner.input.sulfate               5286 non-null   float64\n",
      " 2   primary_cleaner.input.depressant            5285 non-null   float64\n",
      " 3   primary_cleaner.input.feed_size             5290 non-null   float64\n",
      " 4   primary_cleaner.input.xanthate              5286 non-null   float64\n",
      " 5   primary_cleaner.state.floatbank8_a_air      5290 non-null   float64\n",
      " 6   primary_cleaner.state.floatbank8_a_level    5290 non-null   float64\n",
      " 7   primary_cleaner.state.floatbank8_b_air      5290 non-null   float64\n",
      " 8   primary_cleaner.state.floatbank8_b_level    5290 non-null   float64\n",
      " 9   primary_cleaner.state.floatbank8_c_air      5290 non-null   float64\n",
      " 10  primary_cleaner.state.floatbank8_c_level    5290 non-null   float64\n",
      " 11  primary_cleaner.state.floatbank8_d_air      5290 non-null   float64\n",
      " 12  primary_cleaner.state.floatbank8_d_level    5290 non-null   float64\n",
      " 13  rougher.input.feed_ag                       5290 non-null   float64\n",
      " 14  rougher.input.feed_pb                       5290 non-null   float64\n",
      " 15  rougher.input.feed_rate                     5287 non-null   float64\n",
      " 16  rougher.input.feed_size                     5289 non-null   float64\n",
      " 17  rougher.input.feed_sol                      5269 non-null   float64\n",
      " 18  rougher.input.feed_au                       5290 non-null   float64\n",
      " 19  rougher.input.floatbank10_sulfate           5285 non-null   float64\n",
      " 20  rougher.input.floatbank10_xanthate          5290 non-null   float64\n",
      " 21  rougher.input.floatbank11_sulfate           5282 non-null   float64\n",
      " 22  rougher.input.floatbank11_xanthate          5265 non-null   float64\n",
      " 23  rougher.state.floatbank10_a_air             5290 non-null   float64\n",
      " 24  rougher.state.floatbank10_a_level           5290 non-null   float64\n",
      " 25  rougher.state.floatbank10_b_air             5290 non-null   float64\n",
      " 26  rougher.state.floatbank10_b_level           5290 non-null   float64\n",
      " 27  rougher.state.floatbank10_c_air             5290 non-null   float64\n",
      " 28  rougher.state.floatbank10_c_level           5290 non-null   float64\n",
      " 29  rougher.state.floatbank10_d_air             5290 non-null   float64\n",
      " 30  rougher.state.floatbank10_d_level           5290 non-null   float64\n",
      " 31  rougher.state.floatbank10_e_air             5290 non-null   float64\n",
      " 32  rougher.state.floatbank10_e_level           5290 non-null   float64\n",
      " 33  rougher.state.floatbank10_f_air             5290 non-null   float64\n",
      " 34  rougher.state.floatbank10_f_level           5290 non-null   float64\n",
      " 35  secondary_cleaner.state.floatbank2_a_air    5287 non-null   float64\n",
      " 36  secondary_cleaner.state.floatbank2_a_level  5290 non-null   float64\n",
      " 37  secondary_cleaner.state.floatbank2_b_air    5288 non-null   float64\n",
      " 38  secondary_cleaner.state.floatbank2_b_level  5290 non-null   float64\n",
      " 39  secondary_cleaner.state.floatbank3_a_air    5281 non-null   float64\n",
      " 40  secondary_cleaner.state.floatbank3_a_level  5290 non-null   float64\n",
      " 41  secondary_cleaner.state.floatbank3_b_air    5290 non-null   float64\n",
      " 42  secondary_cleaner.state.floatbank3_b_level  5290 non-null   float64\n",
      " 43  secondary_cleaner.state.floatbank4_a_air    5290 non-null   float64\n",
      " 44  secondary_cleaner.state.floatbank4_a_level  5290 non-null   float64\n",
      " 45  secondary_cleaner.state.floatbank4_b_air    5290 non-null   float64\n",
      " 46  secondary_cleaner.state.floatbank4_b_level  5290 non-null   float64\n",
      " 47  secondary_cleaner.state.floatbank5_a_air    5290 non-null   float64\n",
      " 48  secondary_cleaner.state.floatbank5_a_level  5290 non-null   float64\n",
      " 49  secondary_cleaner.state.floatbank5_b_air    5290 non-null   float64\n",
      " 50  secondary_cleaner.state.floatbank5_b_level  5290 non-null   float64\n",
      " 51  secondary_cleaner.state.floatbank6_a_air    5290 non-null   float64\n",
      " 52  secondary_cleaner.state.floatbank6_a_level  5290 non-null   float64\n",
      "dtypes: float64(52), object(1)\n",
      "memory usage: 2.1+ MB\n"
     ]
    }
   ],
   "source": [
    "df_test.info()"
   ]
  },
  {
   "cell_type": "code",
   "execution_count": 4,
   "metadata": {
    "scrolled": true
   },
   "outputs": [
    {
     "name": "stdout",
     "output_type": "stream",
     "text": [
      "<class 'pandas.core.frame.DataFrame'>\n",
      "RangeIndex: 14149 entries, 0 to 14148\n",
      "Data columns (total 87 columns):\n",
      " #   Column                                              Non-Null Count  Dtype  \n",
      "---  ------                                              --------------  -----  \n",
      " 0   date                                                14149 non-null  object \n",
      " 1   final.output.concentrate_ag                         14148 non-null  float64\n",
      " 2   final.output.concentrate_pb                         14148 non-null  float64\n",
      " 3   final.output.concentrate_sol                        13938 non-null  float64\n",
      " 4   final.output.concentrate_au                         14149 non-null  float64\n",
      " 5   final.output.recovery                               14149 non-null  float64\n",
      " 6   final.output.tail_ag                                14149 non-null  float64\n",
      " 7   final.output.tail_pb                                14049 non-null  float64\n",
      " 8   final.output.tail_sol                               14144 non-null  float64\n",
      " 9   final.output.tail_au                                14149 non-null  float64\n",
      " 10  primary_cleaner.input.sulfate                       14129 non-null  float64\n",
      " 11  primary_cleaner.input.depressant                    14117 non-null  float64\n",
      " 12  primary_cleaner.input.feed_size                     14149 non-null  float64\n",
      " 13  primary_cleaner.input.xanthate                      14049 non-null  float64\n",
      " 14  primary_cleaner.output.concentrate_ag               14149 non-null  float64\n",
      " 15  primary_cleaner.output.concentrate_pb               14063 non-null  float64\n",
      " 16  primary_cleaner.output.concentrate_sol              13863 non-null  float64\n",
      " 17  primary_cleaner.output.concentrate_au               14149 non-null  float64\n",
      " 18  primary_cleaner.output.tail_ag                      14148 non-null  float64\n",
      " 19  primary_cleaner.output.tail_pb                      14134 non-null  float64\n",
      " 20  primary_cleaner.output.tail_sol                     14103 non-null  float64\n",
      " 21  primary_cleaner.output.tail_au                      14149 non-null  float64\n",
      " 22  primary_cleaner.state.floatbank8_a_air              14145 non-null  float64\n",
      " 23  primary_cleaner.state.floatbank8_a_level            14148 non-null  float64\n",
      " 24  primary_cleaner.state.floatbank8_b_air              14145 non-null  float64\n",
      " 25  primary_cleaner.state.floatbank8_b_level            14148 non-null  float64\n",
      " 26  primary_cleaner.state.floatbank8_c_air              14147 non-null  float64\n",
      " 27  primary_cleaner.state.floatbank8_c_level            14148 non-null  float64\n",
      " 28  primary_cleaner.state.floatbank8_d_air              14146 non-null  float64\n",
      " 29  primary_cleaner.state.floatbank8_d_level            14148 non-null  float64\n",
      " 30  rougher.calculation.sulfate_to_au_concentrate       14148 non-null  float64\n",
      " 31  rougher.calculation.floatbank10_sulfate_to_au_feed  14148 non-null  float64\n",
      " 32  rougher.calculation.floatbank11_sulfate_to_au_feed  14148 non-null  float64\n",
      " 33  rougher.calculation.au_pb_ratio                     14149 non-null  float64\n",
      " 34  rougher.input.feed_ag                               14149 non-null  float64\n",
      " 35  rougher.input.feed_pb                               14049 non-null  float64\n",
      " 36  rougher.input.feed_rate                             14141 non-null  float64\n",
      " 37  rougher.input.feed_size                             14005 non-null  float64\n",
      " 38  rougher.input.feed_sol                              14071 non-null  float64\n",
      " 39  rougher.input.feed_au                               14149 non-null  float64\n",
      " 40  rougher.input.floatbank10_sulfate                   14120 non-null  float64\n",
      " 41  rougher.input.floatbank10_xanthate                  14141 non-null  float64\n",
      " 42  rougher.input.floatbank11_sulfate                   14113 non-null  float64\n",
      " 43  rougher.input.floatbank11_xanthate                  13721 non-null  float64\n",
      " 44  rougher.output.concentrate_ag                       14149 non-null  float64\n",
      " 45  rougher.output.concentrate_pb                       14149 non-null  float64\n",
      " 46  rougher.output.concentrate_sol                      14127 non-null  float64\n",
      " 47  rougher.output.concentrate_au                       14149 non-null  float64\n",
      " 48  rougher.output.recovery                             14149 non-null  float64\n",
      " 49  rougher.output.tail_ag                              14148 non-null  float64\n",
      " 50  rougher.output.tail_pb                              14149 non-null  float64\n",
      " 51  rougher.output.tail_sol                             14149 non-null  float64\n",
      " 52  rougher.output.tail_au                              14149 non-null  float64\n",
      " 53  rougher.state.floatbank10_a_air                     14148 non-null  float64\n",
      " 54  rougher.state.floatbank10_a_level                   14148 non-null  float64\n",
      " 55  rougher.state.floatbank10_b_air                     14148 non-null  float64\n",
      " 56  rougher.state.floatbank10_b_level                   14148 non-null  float64\n",
      " 57  rougher.state.floatbank10_c_air                     14148 non-null  float64\n",
      " 58  rougher.state.floatbank10_c_level                   14148 non-null  float64\n",
      " 59  rougher.state.floatbank10_d_air                     14149 non-null  float64\n",
      " 60  rougher.state.floatbank10_d_level                   14149 non-null  float64\n",
      " 61  rougher.state.floatbank10_e_air                     13713 non-null  float64\n",
      " 62  rougher.state.floatbank10_e_level                   14149 non-null  float64\n",
      " 63  rougher.state.floatbank10_f_air                     14149 non-null  float64\n",
      " 64  rougher.state.floatbank10_f_level                   14149 non-null  float64\n",
      " 65  secondary_cleaner.output.tail_ag                    14147 non-null  float64\n",
      " 66  secondary_cleaner.output.tail_pb                    14139 non-null  float64\n",
      " 67  secondary_cleaner.output.tail_sol                   12544 non-null  float64\n",
      " 68  secondary_cleaner.output.tail_au                    14149 non-null  float64\n",
      " 69  secondary_cleaner.state.floatbank2_a_air            13932 non-null  float64\n",
      " 70  secondary_cleaner.state.floatbank2_a_level          14148 non-null  float64\n",
      " 71  secondary_cleaner.state.floatbank2_b_air            14128 non-null  float64\n",
      " 72  secondary_cleaner.state.floatbank2_b_level          14148 non-null  float64\n",
      " 73  secondary_cleaner.state.floatbank3_a_air            14145 non-null  float64\n",
      " 74  secondary_cleaner.state.floatbank3_a_level          14148 non-null  float64\n",
      " 75  secondary_cleaner.state.floatbank3_b_air            14148 non-null  float64\n",
      " 76  secondary_cleaner.state.floatbank3_b_level          14148 non-null  float64\n",
      " 77  secondary_cleaner.state.floatbank4_a_air            14143 non-null  float64\n",
      " 78  secondary_cleaner.state.floatbank4_a_level          14148 non-null  float64\n",
      " 79  secondary_cleaner.state.floatbank4_b_air            14148 non-null  float64\n",
      " 80  secondary_cleaner.state.floatbank4_b_level          14148 non-null  float64\n",
      " 81  secondary_cleaner.state.floatbank5_a_air            14148 non-null  float64\n",
      " 82  secondary_cleaner.state.floatbank5_a_level          14148 non-null  float64\n",
      " 83  secondary_cleaner.state.floatbank5_b_air            14148 non-null  float64\n",
      " 84  secondary_cleaner.state.floatbank5_b_level          14148 non-null  float64\n",
      " 85  secondary_cleaner.state.floatbank6_a_air            14147 non-null  float64\n",
      " 86  secondary_cleaner.state.floatbank6_a_level          14148 non-null  float64\n",
      "dtypes: float64(86), object(1)\n",
      "memory usage: 9.4+ MB\n"
     ]
    }
   ],
   "source": [
    "df_train.info()"
   ]
  },
  {
   "cell_type": "code",
   "execution_count": 5,
   "metadata": {
    "scrolled": true
   },
   "outputs": [
    {
     "name": "stdout",
     "output_type": "stream",
     "text": [
      "<class 'pandas.core.frame.DataFrame'>\n",
      "RangeIndex: 5290 entries, 0 to 5289\n",
      "Data columns (total 53 columns):\n",
      " #   Column                                      Non-Null Count  Dtype  \n",
      "---  ------                                      --------------  -----  \n",
      " 0   date                                        5290 non-null   object \n",
      " 1   primary_cleaner.input.sulfate               5286 non-null   float64\n",
      " 2   primary_cleaner.input.depressant            5285 non-null   float64\n",
      " 3   primary_cleaner.input.feed_size             5290 non-null   float64\n",
      " 4   primary_cleaner.input.xanthate              5286 non-null   float64\n",
      " 5   primary_cleaner.state.floatbank8_a_air      5290 non-null   float64\n",
      " 6   primary_cleaner.state.floatbank8_a_level    5290 non-null   float64\n",
      " 7   primary_cleaner.state.floatbank8_b_air      5290 non-null   float64\n",
      " 8   primary_cleaner.state.floatbank8_b_level    5290 non-null   float64\n",
      " 9   primary_cleaner.state.floatbank8_c_air      5290 non-null   float64\n",
      " 10  primary_cleaner.state.floatbank8_c_level    5290 non-null   float64\n",
      " 11  primary_cleaner.state.floatbank8_d_air      5290 non-null   float64\n",
      " 12  primary_cleaner.state.floatbank8_d_level    5290 non-null   float64\n",
      " 13  rougher.input.feed_ag                       5290 non-null   float64\n",
      " 14  rougher.input.feed_pb                       5290 non-null   float64\n",
      " 15  rougher.input.feed_rate                     5287 non-null   float64\n",
      " 16  rougher.input.feed_size                     5289 non-null   float64\n",
      " 17  rougher.input.feed_sol                      5269 non-null   float64\n",
      " 18  rougher.input.feed_au                       5290 non-null   float64\n",
      " 19  rougher.input.floatbank10_sulfate           5285 non-null   float64\n",
      " 20  rougher.input.floatbank10_xanthate          5290 non-null   float64\n",
      " 21  rougher.input.floatbank11_sulfate           5282 non-null   float64\n",
      " 22  rougher.input.floatbank11_xanthate          5265 non-null   float64\n",
      " 23  rougher.state.floatbank10_a_air             5290 non-null   float64\n",
      " 24  rougher.state.floatbank10_a_level           5290 non-null   float64\n",
      " 25  rougher.state.floatbank10_b_air             5290 non-null   float64\n",
      " 26  rougher.state.floatbank10_b_level           5290 non-null   float64\n",
      " 27  rougher.state.floatbank10_c_air             5290 non-null   float64\n",
      " 28  rougher.state.floatbank10_c_level           5290 non-null   float64\n",
      " 29  rougher.state.floatbank10_d_air             5290 non-null   float64\n",
      " 30  rougher.state.floatbank10_d_level           5290 non-null   float64\n",
      " 31  rougher.state.floatbank10_e_air             5290 non-null   float64\n",
      " 32  rougher.state.floatbank10_e_level           5290 non-null   float64\n",
      " 33  rougher.state.floatbank10_f_air             5290 non-null   float64\n",
      " 34  rougher.state.floatbank10_f_level           5290 non-null   float64\n",
      " 35  secondary_cleaner.state.floatbank2_a_air    5287 non-null   float64\n",
      " 36  secondary_cleaner.state.floatbank2_a_level  5290 non-null   float64\n",
      " 37  secondary_cleaner.state.floatbank2_b_air    5288 non-null   float64\n",
      " 38  secondary_cleaner.state.floatbank2_b_level  5290 non-null   float64\n",
      " 39  secondary_cleaner.state.floatbank3_a_air    5281 non-null   float64\n",
      " 40  secondary_cleaner.state.floatbank3_a_level  5290 non-null   float64\n",
      " 41  secondary_cleaner.state.floatbank3_b_air    5290 non-null   float64\n",
      " 42  secondary_cleaner.state.floatbank3_b_level  5290 non-null   float64\n",
      " 43  secondary_cleaner.state.floatbank4_a_air    5290 non-null   float64\n",
      " 44  secondary_cleaner.state.floatbank4_a_level  5290 non-null   float64\n",
      " 45  secondary_cleaner.state.floatbank4_b_air    5290 non-null   float64\n",
      " 46  secondary_cleaner.state.floatbank4_b_level  5290 non-null   float64\n",
      " 47  secondary_cleaner.state.floatbank5_a_air    5290 non-null   float64\n",
      " 48  secondary_cleaner.state.floatbank5_a_level  5290 non-null   float64\n",
      " 49  secondary_cleaner.state.floatbank5_b_air    5290 non-null   float64\n",
      " 50  secondary_cleaner.state.floatbank5_b_level  5290 non-null   float64\n",
      " 51  secondary_cleaner.state.floatbank6_a_air    5290 non-null   float64\n",
      " 52  secondary_cleaner.state.floatbank6_a_level  5290 non-null   float64\n",
      "dtypes: float64(52), object(1)\n",
      "memory usage: 2.1+ MB\n"
     ]
    }
   ],
   "source": [
    "df_test.info()"
   ]
  },
  {
   "cell_type": "markdown",
   "metadata": {},
   "source": [
    "Похоже во всех списках есть значения NaN, можно их заменить значениями из соседних строк, так как по условию задачи данные в соседних строках не сильно отличаются."
   ]
  },
  {
   "cell_type": "code",
   "execution_count": 6,
   "metadata": {},
   "outputs": [],
   "source": [
    "df_test = df_test.fillna(method=\"ffill\")\n",
    "df_train = df_train.fillna(method=\"ffill\")\n"
   ]
  },
  {
   "cell_type": "markdown",
   "metadata": {},
   "source": [
    "Так же судя по всему есть недостающие столбцы с признаками в тестовой выборке, посмотрим на эти столбцы:"
   ]
  },
  {
   "cell_type": "code",
   "execution_count": 7,
   "metadata": {
    "scrolled": true
   },
   "outputs": [
    {
     "data": {
      "text/plain": [
       "['final.output.concentrate_ag',\n",
       " 'final.output.concentrate_au',\n",
       " 'final.output.concentrate_pb',\n",
       " 'final.output.concentrate_sol',\n",
       " 'final.output.recovery',\n",
       " 'final.output.tail_ag',\n",
       " 'final.output.tail_au',\n",
       " 'final.output.tail_pb',\n",
       " 'final.output.tail_sol',\n",
       " 'primary_cleaner.output.concentrate_ag',\n",
       " 'primary_cleaner.output.concentrate_au',\n",
       " 'primary_cleaner.output.concentrate_pb',\n",
       " 'primary_cleaner.output.concentrate_sol',\n",
       " 'primary_cleaner.output.tail_ag',\n",
       " 'primary_cleaner.output.tail_au',\n",
       " 'primary_cleaner.output.tail_pb',\n",
       " 'primary_cleaner.output.tail_sol',\n",
       " 'rougher.calculation.au_pb_ratio',\n",
       " 'rougher.calculation.floatbank10_sulfate_to_au_feed',\n",
       " 'rougher.calculation.floatbank11_sulfate_to_au_feed',\n",
       " 'rougher.calculation.sulfate_to_au_concentrate',\n",
       " 'rougher.output.concentrate_ag',\n",
       " 'rougher.output.concentrate_au',\n",
       " 'rougher.output.concentrate_pb',\n",
       " 'rougher.output.concentrate_sol',\n",
       " 'rougher.output.recovery',\n",
       " 'rougher.output.tail_ag',\n",
       " 'rougher.output.tail_au',\n",
       " 'rougher.output.tail_pb',\n",
       " 'rougher.output.tail_sol',\n",
       " 'secondary_cleaner.output.tail_ag',\n",
       " 'secondary_cleaner.output.tail_au',\n",
       " 'secondary_cleaner.output.tail_pb',\n",
       " 'secondary_cleaner.output.tail_sol']"
      ]
     },
     "execution_count": 7,
     "metadata": {},
     "output_type": "execute_result"
    }
   ],
   "source": [
    "data = sorted(list(set(df_train.columns.tolist()) - set(df_test.columns.tolist())))\n",
    "data"
   ]
  },
  {
   "cell_type": "markdown",
   "metadata": {
    "scrolled": true
   },
   "source": [
    "Похоже не хватает столбцов с целевыми признаками, а так же столбцов которые менее важны для модели, а именно данных о расчетах, о выходе хвостов и концентрации реагентов, если целевые признаки нужны, то остальные можно удалить:"
   ]
  },
  {
   "cell_type": "code",
   "execution_count": 8,
   "metadata": {
    "scrolled": true
   },
   "outputs": [],
   "source": [
    "data = sorted(list(set(data) - set(['final.output.recovery', 'rougher.output.recovery'])))\n",
    "df_train = df_train.drop(data, axis=1)\n",
    "df_add = df_full[['rougher.output.recovery', 'final.output.recovery', 'date']]\n",
    "df_test = pd.merge(df_test, df_add, on = 'date', how = 'left')"
   ]
  },
  {
   "cell_type": "markdown",
   "metadata": {
    "scrolled": true
   },
   "source": [
    "Далее проверим правильно был расчитан параметр rougher.output.recovery через MAE:"
   ]
  },
  {
   "cell_type": "code",
   "execution_count": 9,
   "metadata": {},
   "outputs": [
    {
     "data": {
      "text/plain": [
       "9.874045668302637e-15"
      ]
     },
     "execution_count": 9,
     "metadata": {},
     "output_type": "execute_result"
    }
   ],
   "source": [
    "def prediction(c, f, t):\n",
    "    recovery = (c * (f - t)) / (f * (c - t)) * 100\n",
    "    return recovery\n",
    "prediction_recovery = prediction(df_full['rougher.output.concentrate_au'], df_full['rougher.input.feed_au'], df_full['rougher.output.tail_au'])\n",
    "mean_absolute_error(df_full['rougher.output.recovery'], prediction_recovery)"
   ]
  },
  {
   "cell_type": "markdown",
   "metadata": {},
   "source": [
    "Отклонение получилось гораздо меньше 1%, что можно считать практически нулевой погрешностью.\n",
    "\n",
    "**Вывод:** Предобратока данных завершена."
   ]
  },
  {
   "cell_type": "markdown",
   "metadata": {},
   "source": [
    "## Анализ данных"
   ]
  },
  {
   "cell_type": "markdown",
   "metadata": {
    "scrolled": true
   },
   "source": [
    "Далее рассмотрим среднюю концентрацию веществ на каждом этапе:"
   ]
  },
  {
   "cell_type": "code",
   "execution_count": 51,
   "metadata": {},
   "outputs": [
    {
     "name": "stdout",
     "output_type": "stream",
     "text": [
      "Исходное сырье, ag: 8.794927425814688\n",
      "флотация, ag: 11.994759359873429\n",
      "первый этап очистки, ag: 8.44240807771906\n",
      "финальный концентрат, ag: 5.168470373676801\n",
      "Исходное сырье, pb: 3.598084975395463\n",
      "флотация, pb: 7.606272313195003\n",
      "первый этап очистки, pb: 9.829529774200518\n",
      "финальный концентрат, pb: 9.978894911181722\n",
      "Исходное сырье, au: 8.266097326589103\n",
      "флотация, au: 19.772000139486316\n",
      "первый этап очистки, au: 32.1194004078765\n",
      "финальный концентрат, au: 44.0765129419528\n"
     ]
    }
   ],
   "source": [
    "print('Исходное сырье, ag:', df_full['rougher.input.feed_ag'].mean())\n",
    "print('флотация, ag:', df_full['rougher.output.concentrate_ag'].mean())\n",
    "print('первый этап очистки, ag:', df_full['primary_cleaner.output.concentrate_ag'].mean())\n",
    "print('финальный концентрат, ag:', df_full['final.output.concentrate_ag'].mean())\n",
    "print('Исходное сырье, pb:',df_full['rougher.input.feed_pb'].mean())\n",
    "print('флотация, pb:',df_full['rougher.output.concentrate_pb'].mean())\n",
    "print('первый этап очистки, pb:', df_full['primary_cleaner.output.concentrate_pb'].mean())\n",
    "print('финальный концентрат, pb:', df_full['final.output.concentrate_pb'].mean())\n",
    "print('Исходное сырье, au:',df_full['rougher.input.feed_au'].mean())\n",
    "print('флотация, au:',df_full['rougher.output.concentrate_au'].mean())\n",
    "print('первый этап очистки, au:', df_full['primary_cleaner.output.concentrate_au'].mean())\n",
    "print('финальный концентрат, au:', df_full['final.output.concentrate_au'].mean())"
   ]
  },
  {
   "cell_type": "markdown",
   "metadata": {
    "scrolled": true
   },
   "source": [
    "Концентрация серебра на этапе флотации увеличивается и в дальнешем уменьшается, а концентрация свинца и золота увеличивается.\n",
    "\n",
    "Далее проверим распределение размеров гранул сырья:"
   ]
  },
  {
   "cell_type": "code",
   "execution_count": 53,
   "metadata": {
    "scrolled": true
   },
   "outputs": [
    {
     "data": {
      "image/png": "[encoded data removed]",
      "text/plain": [
       "<Figure size 432x288 with 1 Axes>"
      ]
     },
     "metadata": {
      "needs_background": "light"
     },
     "output_type": "display_data"
    }
   ],
   "source": [
    "plt.hist(df_train['rougher.input.feed_size'], bins = 50, range = (0, 200), label = 'train')\n",
    "plt.hist(df_test['rougher.input.feed_size'], bins = 50, range = (0, 200), label = 'test')\n",
    "plt.legend()\n",
    "plt.show()"
   ]
  },
  {
   "cell_type": "markdown",
   "metadata": {
    "scrolled": true
   },
   "source": [
    "Распределение примерно одинаково, есть заметная разница в количестве данных, но оба распределены нормально вокруг примерно одной и той же средней, если и есть смещение то оно не критичное.\n",
    "\n",
    "Далее исследуем суммарную концентрацию всех веществ на каждом этапе:"
   ]
  },
  {
   "cell_type": "code",
   "execution_count": 36,
   "metadata": {
    "scrolled": true
   },
   "outputs": [
    {
     "data": {
      "image/png": "[encoded data removed]",
      "text/plain": [
       "<Figure size 432x288 with 1 Axes>"
      ]
     },
     "metadata": {
      "needs_background": "light"
     },
     "output_type": "display_data"
    }
   ],
   "source": [
    "plt.hist(df_full['rougher.output.concentrate_ag'] + df_full['rougher.output.concentrate_au'] + df_full['rougher.output.concentrate_pb'] + df_full['rougher.output.concentrate_sol'], bins = 50, label = 'rougher')\n",
    "plt.hist(df_full['primary_cleaner.output.concentrate_ag'] + df_full['primary_cleaner.output.concentrate_au'] + df_full['primary_cleaner.output.concentrate_pb'] + df_full['primary_cleaner.output.concentrate_sol'], bins = 50, label = 'primary cleaner')\n",
    "plt.hist(df_full['final.output.concentrate_ag'] + df_full['final.output.concentrate_au'] + df_full['final.output.concentrate_pb'] + df_full['final.output.concentrate_sol'], bins = 50, label = 'final')\n",
    "plt.legend()\n",
    "plt.show()"
   ]
  },
  {
   "cell_type": "markdown",
   "metadata": {
    "scrolled": true
   },
   "source": [
    "Похоже есть аномалии, концентрация вещество во время рабочего процесса не может быть равной нулю, скорее всего рабочая установка была включена и фиксировала данные, когда в неё еще не загрузили смеси, их лучше удалить:"
   ]
  },
  {
   "cell_type": "code",
   "execution_count": 13,
   "metadata": {
    "scrolled": true
   },
   "outputs": [
    {
     "name": "stdout",
     "output_type": "stream",
     "text": [
      "<class 'pandas.core.frame.DataFrame'>\n",
      "Int64Index: 5193 entries, 0 to 5289\n",
      "Data columns (total 55 columns):\n",
      " #   Column                                      Non-Null Count  Dtype  \n",
      "---  ------                                      --------------  -----  \n",
      " 0   date                                        5193 non-null   object \n",
      " 1   primary_cleaner.input.sulfate               5193 non-null   float64\n",
      " 2   primary_cleaner.input.depressant            5193 non-null   float64\n",
      " 3   primary_cleaner.input.feed_size             5193 non-null   float64\n",
      " 4   primary_cleaner.input.xanthate              5193 non-null   float64\n",
      " 5   primary_cleaner.state.floatbank8_a_air      5193 non-null   float64\n",
      " 6   primary_cleaner.state.floatbank8_a_level    5193 non-null   float64\n",
      " 7   primary_cleaner.state.floatbank8_b_air      5193 non-null   float64\n",
      " 8   primary_cleaner.state.floatbank8_b_level    5193 non-null   float64\n",
      " 9   primary_cleaner.state.floatbank8_c_air      5193 non-null   float64\n",
      " 10  primary_cleaner.state.floatbank8_c_level    5193 non-null   float64\n",
      " 11  primary_cleaner.state.floatbank8_d_air      5193 non-null   float64\n",
      " 12  primary_cleaner.state.floatbank8_d_level    5193 non-null   float64\n",
      " 13  rougher.input.feed_ag                       5193 non-null   float64\n",
      " 14  rougher.input.feed_pb                       5193 non-null   float64\n",
      " 15  rougher.input.feed_rate                     5193 non-null   float64\n",
      " 16  rougher.input.feed_size                     5193 non-null   float64\n",
      " 17  rougher.input.feed_sol                      5193 non-null   float64\n",
      " 18  rougher.input.feed_au                       5193 non-null   float64\n",
      " 19  rougher.input.floatbank10_sulfate           5193 non-null   float64\n",
      " 20  rougher.input.floatbank10_xanthate          5193 non-null   float64\n",
      " 21  rougher.input.floatbank11_sulfate           5193 non-null   float64\n",
      " 22  rougher.input.floatbank11_xanthate          5193 non-null   float64\n",
      " 23  rougher.state.floatbank10_a_air             5193 non-null   float64\n",
      " 24  rougher.state.floatbank10_a_level           5193 non-null   float64\n",
      " 25  rougher.state.floatbank10_b_air             5193 non-null   float64\n",
      " 26  rougher.state.floatbank10_b_level           5193 non-null   float64\n",
      " 27  rougher.state.floatbank10_c_air             5193 non-null   float64\n",
      " 28  rougher.state.floatbank10_c_level           5193 non-null   float64\n",
      " 29  rougher.state.floatbank10_d_air             5193 non-null   float64\n",
      " 30  rougher.state.floatbank10_d_level           5193 non-null   float64\n",
      " 31  rougher.state.floatbank10_e_air             5193 non-null   float64\n",
      " 32  rougher.state.floatbank10_e_level           5193 non-null   float64\n",
      " 33  rougher.state.floatbank10_f_air             5193 non-null   float64\n",
      " 34  rougher.state.floatbank10_f_level           5193 non-null   float64\n",
      " 35  secondary_cleaner.state.floatbank2_a_air    5193 non-null   float64\n",
      " 36  secondary_cleaner.state.floatbank2_a_level  5193 non-null   float64\n",
      " 37  secondary_cleaner.state.floatbank2_b_air    5193 non-null   float64\n",
      " 38  secondary_cleaner.state.floatbank2_b_level  5193 non-null   float64\n",
      " 39  secondary_cleaner.state.floatbank3_a_air    5193 non-null   float64\n",
      " 40  secondary_cleaner.state.floatbank3_a_level  5193 non-null   float64\n",
      " 41  secondary_cleaner.state.floatbank3_b_air    5193 non-null   float64\n",
      " 42  secondary_cleaner.state.floatbank3_b_level  5193 non-null   float64\n",
      " 43  secondary_cleaner.state.floatbank4_a_air    5193 non-null   float64\n",
      " 44  secondary_cleaner.state.floatbank4_a_level  5193 non-null   float64\n",
      " 45  secondary_cleaner.state.floatbank4_b_air    5193 non-null   float64\n",
      " 46  secondary_cleaner.state.floatbank4_b_level  5193 non-null   float64\n",
      " 47  secondary_cleaner.state.floatbank5_a_air    5193 non-null   float64\n",
      " 48  secondary_cleaner.state.floatbank5_a_level  5193 non-null   float64\n",
      " 49  secondary_cleaner.state.floatbank5_b_air    5193 non-null   float64\n",
      " 50  secondary_cleaner.state.floatbank5_b_level  5193 non-null   float64\n",
      " 51  secondary_cleaner.state.floatbank6_a_air    5193 non-null   float64\n",
      " 52  secondary_cleaner.state.floatbank6_a_level  5193 non-null   float64\n",
      " 53  rougher.output.recovery                     5193 non-null   float64\n",
      " 54  final.output.recovery                       5193 non-null   float64\n",
      "dtypes: float64(54), object(1)\n",
      "memory usage: 2.2+ MB\n"
     ]
    }
   ],
   "source": [
    "df_drop = df_full[df_full['rougher.output.concentrate_ag'] == 0]\n",
    "df_test = df_test.loc[~df_test['date'].isin(df_drop['date'])]\n",
    "df_train = df_train.loc[~df_train['date'].isin(df_drop['date'])]\n",
    "df_test.info()"
   ]
  },
  {
   "cell_type": "markdown",
   "metadata": {
    "scrolled": true
   },
   "source": [
    "**Вывод** Аномалии убраны, можно приступать к обучению."
   ]
  },
  {
   "cell_type": "markdown",
   "metadata": {},
   "source": [
    "## Модель\n",
    "\n",
    "Перед созданием модели стоит разделить и масштабировать аднные:"
   ]
  },
  {
   "cell_type": "code",
   "execution_count": 14,
   "metadata": {
    "scrolled": true
   },
   "outputs": [],
   "source": [
    "target_train_r = df_train['rougher.output.recovery']\n",
    "target_train_f = df_train['final.output.recovery']\n",
    "features_train = df_train.drop(['rougher.output.recovery', 'final.output.recovery', 'date'], axis=1)\n",
    "scaler = StandardScaler()\n",
    "scaler.fit(features_train)\n",
    "features_train = scaler.transform(features_train)\n",
    "\n",
    "target_test_r = df_test['rougher.output.recovery']\n",
    "target_test_f = df_test['final.output.recovery']\n",
    "features_test = df_test.drop(['rougher.output.recovery', 'final.output.recovery', 'date'], axis=1)\n",
    "scaler.fit(features_test)\n",
    "features_test = scaler.transform(features_test)"
   ]
  },
  {
   "cell_type": "markdown",
   "metadata": {},
   "source": [
    "Далее напишем функцию sMAPE и итоговое sMAPE:"
   ]
  },
  {
   "cell_type": "code",
   "execution_count": 15,
   "metadata": {},
   "outputs": [],
   "source": [
    "def sMAPE(target, pred): # функция sMAPE\n",
    "    target = np.array(target)\n",
    "    n = len(target)\n",
    "    return 100/n * np.sum(np.abs(target - pred)/((np.abs(target) + np.abs(pred))/2))\n",
    "\n",
    "def total_sMAPE(smape_r, smape_f): # функция итоговой sMAPE\n",
    "    return 0.25*smape_r + 0.75*smape_f\n",
    " \n",
    "sMAPE_score = make_scorer(sMAPE, greater_is_better=False) # скоринг для подбора параметров модели"
   ]
  },
  {
   "cell_type": "markdown",
   "metadata": {
    "scrolled": true
   },
   "source": [
    "Создадим несколько моделей, подберем параметры и по результатам выберем лучшую из них. \n",
    "\n",
    "### Решающее дерево\n",
    "\n",
    "Найдем лучший параметр модели для таргета флотация и создадим модель:"
   ]
  },
  {
   "cell_type": "code",
   "execution_count": 20,
   "metadata": {
    "scrolled": true
   },
   "outputs": [
    {
     "name": "stdout",
     "output_type": "stream",
     "text": [
      "Fitting 5 folds for each of 69 candidates, totalling 345 fits\n",
      "[CV 1/5] END ....................................max_depth=1; total time=   0.1s\n",
      "[CV 2/5] END ....................................max_depth=1; total time=   0.1s\n",
      "[CV 3/5] END ....................................max_depth=1; total time=   0.1s\n",
      "[CV 4/5] END ....................................max_depth=1; total time=   0.1s\n",
      "[CV 5/5] END ....................................max_depth=1; total time=   0.1s\n",
      "[CV 1/5] END ....................................max_depth=2; total time=   0.2s\n",
      "[CV 2/5] END ....................................max_depth=2; total time=   0.2s\n",
      "[CV 3/5] END ....................................max_depth=2; total time=   0.2s\n",
      "[CV 4/5] END ....................................max_depth=2; total time=   0.1s\n",
      "[CV 5/5] END ....................................max_depth=2; total time=   0.2s\n",
      "[CV 1/5] END ....................................max_depth=3; total time=   0.2s\n",
      "[CV 2/5] END ....................................max_depth=3; total time=   0.2s\n",
      "[CV 3/5] END ....................................max_depth=3; total time=   0.2s\n",
      "[CV 4/5] END ....................................max_depth=3; total time=   0.2s\n",
      "[CV 5/5] END ....................................max_depth=3; total time=   0.2s\n",
      "[CV 1/5] END ....................................max_depth=4; total time=   0.3s\n",
      "[CV 2/5] END ....................................max_depth=4; total time=   0.3s\n",
      "[CV 3/5] END ....................................max_depth=4; total time=   0.3s\n",
      "[CV 4/5] END ....................................max_depth=4; total time=   0.3s\n",
      "[CV 5/5] END ....................................max_depth=4; total time=   0.3s\n",
      "[CV 1/5] END ....................................max_depth=5; total time=   0.4s\n",
      "[CV 2/5] END ....................................max_depth=5; total time=   0.3s\n",
      "[CV 3/5] END ....................................max_depth=5; total time=   0.3s\n",
      "[CV 4/5] END ....................................max_depth=5; total time=   0.3s\n",
      "[CV 5/5] END ....................................max_depth=5; total time=   0.3s\n",
      "[CV 1/5] END ....................................max_depth=6; total time=   0.4s\n",
      "[CV 2/5] END ....................................max_depth=6; total time=   0.4s\n",
      "[CV 3/5] END ....................................max_depth=6; total time=   0.4s\n",
      "[CV 4/5] END ....................................max_depth=6; total time=   0.4s\n",
      "[CV 5/5] END ....................................max_depth=6; total time=   0.4s\n",
      "[CV 1/5] END ....................................max_depth=7; total time=   0.5s\n",
      "[CV 2/5] END ....................................max_depth=7; total time=   0.5s\n",
      "[CV 3/5] END ....................................max_depth=7; total time=   0.5s\n",
      "[CV 4/5] END ....................................max_depth=7; total time=   0.4s\n",
      "[CV 5/5] END ....................................max_depth=7; total time=   0.5s\n",
      "[CV 1/5] END ....................................max_depth=8; total time=   0.5s\n",
      "[CV 2/5] END ....................................max_depth=8; total time=   0.5s\n",
      "[CV 3/5] END ....................................max_depth=8; total time=   0.5s\n",
      "[CV 4/5] END ....................................max_depth=8; total time=   0.5s\n",
      "[CV 5/5] END ....................................max_depth=8; total time=   0.5s\n",
      "[CV 1/5] END ....................................max_depth=9; total time=   0.6s\n",
      "[CV 2/5] END ....................................max_depth=9; total time=   0.6s\n",
      "[CV 3/5] END ....................................max_depth=9; total time=   0.6s\n",
      "[CV 4/5] END ....................................max_depth=9; total time=   0.6s\n",
      "[CV 5/5] END ....................................max_depth=9; total time=   0.6s\n",
      "[CV 1/5] END ...................................max_depth=10; total time=   0.6s\n",
      "[CV 2/5] END ...................................max_depth=10; total time=   0.6s\n",
      "[CV 3/5] END ...................................max_depth=10; total time=   0.7s\n",
      "[CV 4/5] END ...................................max_depth=10; total time=   0.6s\n",
      "[CV 5/5] END ...................................max_depth=10; total time=   0.6s\n",
      "[CV 1/5] END ...................................max_depth=11; total time=   0.7s\n",
      "[CV 2/5] END ...................................max_depth=11; total time=   0.7s\n",
      "[CV 3/5] END ...................................max_depth=11; total time=   0.7s\n",
      "[CV 4/5] END ...................................max_depth=11; total time=   0.7s\n",
      "[CV 5/5] END ...................................max_depth=11; total time=   0.7s\n",
      "[CV 1/5] END ...................................max_depth=12; total time=   0.7s\n",
      "[CV 2/5] END ...................................max_depth=12; total time=   0.7s\n",
      "[CV 3/5] END ...................................max_depth=12; total time=   0.7s\n",
      "[CV 4/5] END ...................................max_depth=12; total time=   0.7s\n",
      "[CV 5/5] END ...................................max_depth=12; total time=   0.7s\n",
      "[CV 1/5] END ...................................max_depth=13; total time=   0.8s\n",
      "[CV 2/5] END ...................................max_depth=13; total time=   0.7s\n",
      "[CV 3/5] END ...................................max_depth=13; total time=   0.7s\n",
      "[CV 4/5] END ...................................max_depth=13; total time=   0.8s\n",
      "[CV 5/5] END ...................................max_depth=13; total time=   0.8s\n",
      "[CV 1/5] END ...................................max_depth=14; total time=   0.8s\n",
      "[CV 2/5] END ...................................max_depth=14; total time=   0.8s\n",
      "[CV 3/5] END ...................................max_depth=14; total time=   0.8s\n",
      "[CV 4/5] END ...................................max_depth=14; total time=   0.8s\n",
      "[CV 5/5] END ...................................max_depth=14; total time=   0.8s\n",
      "[CV 1/5] END ...................................max_depth=15; total time=   0.8s\n",
      "[CV 2/5] END ...................................max_depth=15; total time=   0.8s\n",
      "[CV 3/5] END ...................................max_depth=15; total time=   0.8s\n",
      "[CV 4/5] END ...................................max_depth=15; total time=   0.8s\n",
      "[CV 5/5] END ...................................max_depth=15; total time=   0.8s\n",
      "[CV 1/5] END ...................................max_depth=16; total time=   0.8s\n",
      "[CV 2/5] END ...................................max_depth=16; total time=   0.8s\n",
      "[CV 3/5] END ...................................max_depth=16; total time=   0.8s\n",
      "[CV 4/5] END ...................................max_depth=16; total time=   0.8s\n",
      "[CV 5/5] END ...................................max_depth=16; total time=   0.9s\n",
      "[CV 1/5] END ...................................max_depth=17; total time=   0.9s\n",
      "[CV 2/5] END ...................................max_depth=17; total time=   0.9s\n",
      "[CV 3/5] END ...................................max_depth=17; total time=   0.9s\n",
      "[CV 4/5] END ...................................max_depth=17; total time=   0.9s\n",
      "[CV 5/5] END ...................................max_depth=17; total time=   1.0s\n",
      "[CV 1/5] END ...................................max_depth=18; total time=   0.9s\n",
      "[CV 2/5] END ...................................max_depth=18; total time=   0.9s\n",
      "[CV 3/5] END ...................................max_depth=18; total time=   0.9s\n",
      "[CV 4/5] END ...................................max_depth=18; total time=   0.9s\n",
      "[CV 5/5] END ...................................max_depth=18; total time=   0.9s\n",
      "[CV 1/5] END ...................................max_depth=19; total time=   0.9s\n",
      "[CV 2/5] END ...................................max_depth=19; total time=   0.9s\n",
      "[CV 3/5] END ...................................max_depth=19; total time=   0.9s\n",
      "[CV 4/5] END ...................................max_depth=19; total time=   0.9s\n",
      "[CV 5/5] END ...................................max_depth=19; total time=   0.9s\n",
      "[CV 1/5] END ...................................max_depth=20; total time=   1.0s\n",
      "[CV 2/5] END ...................................max_depth=20; total time=   0.9s\n",
      "[CV 3/5] END ...................................max_depth=20; total time=   0.9s\n",
      "[CV 4/5] END ...................................max_depth=20; total time=   0.9s\n",
      "[CV 5/5] END ...................................max_depth=20; total time=   1.0s\n",
      "[CV 1/5] END ...................................max_depth=21; total time=   1.0s\n",
      "[CV 2/5] END ...................................max_depth=21; total time=   0.9s\n",
      "[CV 3/5] END ...................................max_depth=21; total time=   0.9s\n",
      "[CV 4/5] END ...................................max_depth=21; total time=   0.9s\n",
      "[CV 5/5] END ...................................max_depth=21; total time=   1.0s\n",
      "[CV 1/5] END ...................................max_depth=22; total time=   1.0s\n",
      "[CV 2/5] END ...................................max_depth=22; total time=   1.0s\n",
      "[CV 3/5] END ...................................max_depth=22; total time=   0.9s\n",
      "[CV 4/5] END ...................................max_depth=22; total time=   0.9s\n",
      "[CV 5/5] END ...................................max_depth=22; total time=   1.0s\n",
      "[CV 1/5] END ...................................max_depth=23; total time=   1.0s\n",
      "[CV 2/5] END ...................................max_depth=23; total time=   1.0s\n",
      "[CV 3/5] END ...................................max_depth=23; total time=   1.0s\n",
      "[CV 4/5] END ...................................max_depth=23; total time=   1.0s\n",
      "[CV 5/5] END ...................................max_depth=23; total time=   1.0s\n",
      "[CV 1/5] END ...................................max_depth=24; total time=   1.0s\n",
      "[CV 2/5] END ...................................max_depth=24; total time=   1.0s\n",
      "[CV 3/5] END ...................................max_depth=24; total time=   1.0s\n",
      "[CV 4/5] END ...................................max_depth=24; total time=   1.0s\n",
      "[CV 5/5] END ...................................max_depth=24; total time=   1.0s\n",
      "[CV 1/5] END ...................................max_depth=25; total time=   1.0s\n",
      "[CV 2/5] END ...................................max_depth=25; total time=   1.0s\n",
      "[CV 3/5] END ...................................max_depth=25; total time=   1.0s\n",
      "[CV 4/5] END ...................................max_depth=25; total time=   1.0s\n",
      "[CV 5/5] END ...................................max_depth=25; total time=   1.0s\n",
      "[CV 1/5] END ...................................max_depth=26; total time=   1.0s\n",
      "[CV 2/5] END ...................................max_depth=26; total time=   1.0s\n",
      "[CV 3/5] END ...................................max_depth=26; total time=   1.0s\n",
      "[CV 4/5] END ...................................max_depth=26; total time=   1.0s\n",
      "[CV 5/5] END ...................................max_depth=26; total time=   1.0s\n",
      "[CV 1/5] END ...................................max_depth=27; total time=   1.0s\n",
      "[CV 2/5] END ...................................max_depth=27; total time=   1.0s\n",
      "[CV 3/5] END ...................................max_depth=27; total time=   1.0s\n",
      "[CV 4/5] END ...................................max_depth=27; total time=   1.0s\n",
      "[CV 5/5] END ...................................max_depth=27; total time=   1.0s\n",
      "[CV 1/5] END ...................................max_depth=28; total time=   1.0s\n",
      "[CV 2/5] END ...................................max_depth=28; total time=   1.0s\n",
      "[CV 3/5] END ...................................max_depth=28; total time=   1.0s\n",
      "[CV 4/5] END ...................................max_depth=28; total time=   1.0s\n",
      "[CV 5/5] END ...................................max_depth=28; total time=   1.0s\n",
      "[CV 1/5] END ...................................max_depth=29; total time=   1.0s\n",
      "[CV 2/5] END ...................................max_depth=29; total time=   1.0s\n",
      "[CV 3/5] END ...................................max_depth=29; total time=   1.0s\n",
      "[CV 4/5] END ...................................max_depth=29; total time=   1.0s\n",
      "[CV 5/5] END ...................................max_depth=29; total time=   1.0s\n",
      "[CV 1/5] END ...................................max_depth=30; total time=   1.0s\n",
      "[CV 2/5] END ...................................max_depth=30; total time=   1.0s\n",
      "[CV 3/5] END ...................................max_depth=30; total time=   1.0s\n",
      "[CV 4/5] END ...................................max_depth=30; total time=   1.0s\n",
      "[CV 5/5] END ...................................max_depth=30; total time=   1.0s\n",
      "[CV 1/5] END ...................................max_depth=31; total time=   1.1s\n",
      "[CV 2/5] END ...................................max_depth=31; total time=   1.1s\n",
      "[CV 3/5] END ...................................max_depth=31; total time=   1.0s\n",
      "[CV 4/5] END ...................................max_depth=31; total time=   1.1s\n",
      "[CV 5/5] END ...................................max_depth=31; total time=   1.0s\n",
      "[CV 1/5] END ...................................max_depth=32; total time=   1.1s\n",
      "[CV 2/5] END ...................................max_depth=32; total time=   1.1s\n",
      "[CV 3/5] END ...................................max_depth=32; total time=   1.0s\n",
      "[CV 4/5] END ...................................max_depth=32; total time=   1.0s\n",
      "[CV 5/5] END ...................................max_depth=32; total time=   1.1s\n",
      "[CV 1/5] END ...................................max_depth=33; total time=   1.0s\n",
      "[CV 2/5] END ...................................max_depth=33; total time=   1.0s\n",
      "[CV 3/5] END ...................................max_depth=33; total time=   1.0s\n",
      "[CV 4/5] END ...................................max_depth=33; total time=   1.0s\n",
      "[CV 5/5] END ...................................max_depth=33; total time=   1.1s\n",
      "[CV 1/5] END ...................................max_depth=34; total time=   1.1s\n",
      "[CV 2/5] END ...................................max_depth=34; total time=   1.0s\n",
      "[CV 3/5] END ...................................max_depth=34; total time=   1.0s\n",
      "[CV 4/5] END ...................................max_depth=34; total time=   1.0s\n",
      "[CV 5/5] END ...................................max_depth=34; total time=   1.0s\n",
      "[CV 1/5] END ...................................max_depth=35; total time=   1.0s\n",
      "[CV 2/5] END ...................................max_depth=35; total time=   1.0s\n",
      "[CV 3/5] END ...................................max_depth=35; total time=   1.0s\n",
      "[CV 4/5] END ...................................max_depth=35; total time=   1.0s\n",
      "[CV 5/5] END ...................................max_depth=35; total time=   1.0s\n",
      "[CV 1/5] END ...................................max_depth=36; total time=   1.0s\n",
      "[CV 2/5] END ...................................max_depth=36; total time=   1.0s\n",
      "[CV 3/5] END ...................................max_depth=36; total time=   1.0s\n",
      "[CV 4/5] END ...................................max_depth=36; total time=   1.0s\n",
      "[CV 5/5] END ...................................max_depth=36; total time=   1.0s\n",
      "[CV 1/5] END ...................................max_depth=37; total time=   1.0s\n",
      "[CV 2/5] END ...................................max_depth=37; total time=   1.0s\n",
      "[CV 3/5] END ...................................max_depth=37; total time=   1.0s\n",
      "[CV 4/5] END ...................................max_depth=37; total time=   1.0s\n",
      "[CV 5/5] END ...................................max_depth=37; total time=   1.1s\n",
      "[CV 1/5] END ...................................max_depth=38; total time=   1.1s\n",
      "[CV 2/5] END ...................................max_depth=38; total time=   1.0s\n",
      "[CV 3/5] END ...................................max_depth=38; total time=   1.0s\n",
      "[CV 4/5] END ...................................max_depth=38; total time=   1.0s\n",
      "[CV 5/5] END ...................................max_depth=38; total time=   1.1s\n",
      "[CV 1/5] END ...................................max_depth=39; total time=   1.0s\n",
      "[CV 2/5] END ...................................max_depth=39; total time=   1.0s\n",
      "[CV 3/5] END ...................................max_depth=39; total time=   1.1s\n",
      "[CV 4/5] END ...................................max_depth=39; total time=   1.0s\n",
      "[CV 5/5] END ...................................max_depth=39; total time=   1.0s\n",
      "[CV 1/5] END ...................................max_depth=40; total time=   1.0s\n",
      "[CV 2/5] END ...................................max_depth=40; total time=   1.0s\n",
      "[CV 3/5] END ...................................max_depth=40; total time=   1.0s\n",
      "[CV 4/5] END ...................................max_depth=40; total time=   1.0s\n",
      "[CV 5/5] END ...................................max_depth=40; total time=   1.0s\n",
      "[CV 1/5] END ...................................max_depth=41; total time=   1.1s\n",
      "[CV 2/5] END ...................................max_depth=41; total time=   1.0s\n",
      "[CV 3/5] END ...................................max_depth=41; total time=   1.0s\n",
      "[CV 4/5] END ...................................max_depth=41; total time=   1.0s\n",
      "[CV 5/5] END ...................................max_depth=41; total time=   1.0s\n",
      "[CV 1/5] END ...................................max_depth=42; total time=   1.0s\n",
      "[CV 2/5] END ...................................max_depth=42; total time=   1.0s\n",
      "[CV 3/5] END ...................................max_depth=42; total time=   1.0s\n",
      "[CV 4/5] END ...................................max_depth=42; total time=   1.0s\n",
      "[CV 5/5] END ...................................max_depth=42; total time=   1.1s\n",
      "[CV 1/5] END ...................................max_depth=43; total time=   1.0s\n",
      "[CV 2/5] END ...................................max_depth=43; total time=   1.0s\n",
      "[CV 3/5] END ...................................max_depth=43; total time=   1.0s\n",
      "[CV 4/5] END ...................................max_depth=43; total time=   1.0s\n",
      "[CV 5/5] END ...................................max_depth=43; total time=   1.0s\n",
      "[CV 1/5] END ...................................max_depth=44; total time=   1.0s\n",
      "[CV 2/5] END ...................................max_depth=44; total time=   1.1s\n",
      "[CV 3/5] END ...................................max_depth=44; total time=   1.0s\n",
      "[CV 4/5] END ...................................max_depth=44; total time=   1.1s\n",
      "[CV 5/5] END ...................................max_depth=44; total time=   1.0s\n",
      "[CV 1/5] END ...................................max_depth=45; total time=   1.0s\n",
      "[CV 2/5] END ...................................max_depth=45; total time=   1.0s\n",
      "[CV 3/5] END ...................................max_depth=45; total time=   1.0s\n",
      "[CV 4/5] END ...................................max_depth=45; total time=   1.0s\n",
      "[CV 5/5] END ...................................max_depth=45; total time=   1.0s\n",
      "[CV 1/5] END ...................................max_depth=46; total time=   1.0s\n",
      "[CV 2/5] END ...................................max_depth=46; total time=   1.0s\n",
      "[CV 3/5] END ...................................max_depth=46; total time=   1.0s\n",
      "[CV 4/5] END ...................................max_depth=46; total time=   1.0s\n",
      "[CV 5/5] END ...................................max_depth=46; total time=   1.1s\n",
      "[CV 1/5] END ...................................max_depth=47; total time=   1.0s\n",
      "[CV 2/5] END ...................................max_depth=47; total time=   1.1s\n",
      "[CV 3/5] END ...................................max_depth=47; total time=   1.0s\n",
      "[CV 4/5] END ...................................max_depth=47; total time=   1.0s\n",
      "[CV 5/5] END ...................................max_depth=47; total time=   1.0s\n",
      "[CV 1/5] END ...................................max_depth=48; total time=   1.2s\n",
      "[CV 2/5] END ...................................max_depth=48; total time=   1.1s\n",
      "[CV 3/5] END ...................................max_depth=48; total time=   1.0s\n",
      "[CV 4/5] END ...................................max_depth=48; total time=   1.0s\n",
      "[CV 5/5] END ...................................max_depth=48; total time=   1.1s\n",
      "[CV 1/5] END ...................................max_depth=49; total time=   1.1s\n",
      "[CV 2/5] END ...................................max_depth=49; total time=   1.0s\n",
      "[CV 3/5] END ...................................max_depth=49; total time=   1.0s\n",
      "[CV 4/5] END ...................................max_depth=49; total time=   1.0s\n",
      "[CV 5/5] END ...................................max_depth=49; total time=   1.1s\n",
      "[CV 1/5] END ...................................max_depth=50; total time=   1.1s\n",
      "[CV 2/5] END ...................................max_depth=50; total time=   1.0s\n",
      "[CV 3/5] END ...................................max_depth=50; total time=   1.0s\n",
      "[CV 4/5] END ...................................max_depth=50; total time=   1.0s\n",
      "[CV 5/5] END ...................................max_depth=50; total time=   1.0s\n",
      "[CV 1/5] END ...................................max_depth=51; total time=   1.0s\n",
      "[CV 2/5] END ...................................max_depth=51; total time=   1.0s\n",
      "[CV 3/5] END ...................................max_depth=51; total time=   1.0s\n",
      "[CV 4/5] END ...................................max_depth=51; total time=   1.0s\n",
      "[CV 5/5] END ...................................max_depth=51; total time=   1.1s\n",
      "[CV 1/5] END ...................................max_depth=52; total time=   1.0s\n",
      "[CV 2/5] END ...................................max_depth=52; total time=   1.0s\n",
      "[CV 3/5] END ...................................max_depth=52; total time=   1.0s\n",
      "[CV 4/5] END ...................................max_depth=52; total time=   1.1s\n",
      "[CV 5/5] END ...................................max_depth=52; total time=   1.0s\n",
      "[CV 1/5] END ...................................max_depth=53; total time=   1.0s\n",
      "[CV 2/5] END ...................................max_depth=53; total time=   1.0s\n",
      "[CV 3/5] END ...................................max_depth=53; total time=   1.0s\n",
      "[CV 4/5] END ...................................max_depth=53; total time=   1.0s\n",
      "[CV 5/5] END ...................................max_depth=53; total time=   1.0s\n",
      "[CV 1/5] END ...................................max_depth=54; total time=   1.1s\n",
      "[CV 2/5] END ...................................max_depth=54; total time=   1.1s\n",
      "[CV 3/5] END ...................................max_depth=54; total time=   1.1s\n",
      "[CV 4/5] END ...................................max_depth=54; total time=   1.0s\n",
      "[CV 5/5] END ...................................max_depth=54; total time=   1.0s\n",
      "[CV 1/5] END ...................................max_depth=55; total time=   1.0s\n",
      "[CV 2/5] END ...................................max_depth=55; total time=   1.0s\n",
      "[CV 3/5] END ...................................max_depth=55; total time=   1.0s\n",
      "[CV 4/5] END ...................................max_depth=55; total time=   1.0s\n",
      "[CV 5/5] END ...................................max_depth=55; total time=   1.0s\n",
      "[CV 1/5] END ...................................max_depth=56; total time=   1.0s\n",
      "[CV 2/5] END ...................................max_depth=56; total time=   1.0s\n",
      "[CV 3/5] END ...................................max_depth=56; total time=   1.0s\n",
      "[CV 4/5] END ...................................max_depth=56; total time=   1.0s\n",
      "[CV 5/5] END ...................................max_depth=56; total time=   1.1s\n",
      "[CV 1/5] END ...................................max_depth=57; total time=   1.0s\n",
      "[CV 2/5] END ...................................max_depth=57; total time=   1.0s\n",
      "[CV 3/5] END ...................................max_depth=57; total time=   1.0s\n",
      "[CV 4/5] END ...................................max_depth=57; total time=   1.0s\n",
      "[CV 5/5] END ...................................max_depth=57; total time=   1.0s\n",
      "[CV 1/5] END ...................................max_depth=58; total time=   1.0s\n",
      "[CV 2/5] END ...................................max_depth=58; total time=   1.0s\n",
      "[CV 3/5] END ...................................max_depth=58; total time=   1.1s\n",
      "[CV 4/5] END ...................................max_depth=58; total time=   1.0s\n",
      "[CV 5/5] END ...................................max_depth=58; total time=   1.0s\n",
      "[CV 1/5] END ...................................max_depth=59; total time=   1.0s\n",
      "[CV 2/5] END ...................................max_depth=59; total time=   1.0s\n",
      "[CV 3/5] END ...................................max_depth=59; total time=   1.0s\n",
      "[CV 4/5] END ...................................max_depth=59; total time=   1.0s\n",
      "[CV 5/5] END ...................................max_depth=59; total time=   1.0s\n",
      "[CV 1/5] END ...................................max_depth=60; total time=   1.0s\n",
      "[CV 2/5] END ...................................max_depth=60; total time=   1.0s\n",
      "[CV 3/5] END ...................................max_depth=60; total time=   1.0s\n",
      "[CV 4/5] END ...................................max_depth=60; total time=   1.0s\n",
      "[CV 5/5] END ...................................max_depth=60; total time=   1.0s\n",
      "[CV 1/5] END ...................................max_depth=61; total time=   1.0s\n",
      "[CV 2/5] END ...................................max_depth=61; total time=   1.0s\n",
      "[CV 3/5] END ...................................max_depth=61; total time=   1.0s\n",
      "[CV 4/5] END ...................................max_depth=61; total time=   1.0s\n",
      "[CV 5/5] END ...................................max_depth=61; total time=   1.0s\n",
      "[CV 1/5] END ...................................max_depth=62; total time=   1.0s\n",
      "[CV 2/5] END ...................................max_depth=62; total time=   1.0s\n",
      "[CV 3/5] END ...................................max_depth=62; total time=   1.0s\n",
      "[CV 4/5] END ...................................max_depth=62; total time=   1.0s\n",
      "[CV 5/5] END ...................................max_depth=62; total time=   1.1s\n",
      "[CV 1/5] END ...................................max_depth=63; total time=   1.0s\n",
      "[CV 2/5] END ...................................max_depth=63; total time=   1.0s\n",
      "[CV 3/5] END ...................................max_depth=63; total time=   1.0s\n",
      "[CV 4/5] END ...................................max_depth=63; total time=   1.0s\n",
      "[CV 5/5] END ...................................max_depth=63; total time=   1.1s\n",
      "[CV 1/5] END ...................................max_depth=64; total time=   1.0s\n",
      "[CV 2/5] END ...................................max_depth=64; total time=   1.1s\n",
      "[CV 3/5] END ...................................max_depth=64; total time=   1.1s\n",
      "[CV 4/5] END ...................................max_depth=64; total time=   1.0s\n",
      "[CV 5/5] END ...................................max_depth=64; total time=   1.1s\n",
      "[CV 1/5] END ...................................max_depth=65; total time=   1.0s\n",
      "[CV 2/5] END ...................................max_depth=65; total time=   1.1s\n",
      "[CV 3/5] END ...................................max_depth=65; total time=   1.0s\n",
      "[CV 4/5] END ...................................max_depth=65; total time=   1.0s\n",
      "[CV 5/5] END ...................................max_depth=65; total time=   1.0s\n",
      "[CV 1/5] END ...................................max_depth=66; total time=   1.0s\n",
      "[CV 2/5] END ...................................max_depth=66; total time=   1.1s\n",
      "[CV 3/5] END ...................................max_depth=66; total time=   1.2s\n",
      "[CV 4/5] END ...................................max_depth=66; total time=   1.0s\n",
      "[CV 5/5] END ...................................max_depth=66; total time=   1.0s\n",
      "[CV 1/5] END ...................................max_depth=67; total time=   1.0s\n",
      "[CV 2/5] END ...................................max_depth=67; total time=   1.0s\n",
      "[CV 3/5] END ...................................max_depth=67; total time=   1.0s\n",
      "[CV 4/5] END ...................................max_depth=67; total time=   1.0s\n",
      "[CV 5/5] END ...................................max_depth=67; total time=   1.0s\n",
      "[CV 1/5] END ...................................max_depth=68; total time=   1.0s\n",
      "[CV 2/5] END ...................................max_depth=68; total time=   1.0s\n",
      "[CV 3/5] END ...................................max_depth=68; total time=   1.0s\n",
      "[CV 4/5] END ...................................max_depth=68; total time=   1.0s\n",
      "[CV 5/5] END ...................................max_depth=68; total time=   1.0s\n",
      "[CV 1/5] END ...................................max_depth=69; total time=   1.1s\n",
      "[CV 2/5] END ...................................max_depth=69; total time=   1.0s\n",
      "[CV 3/5] END ...................................max_depth=69; total time=   1.0s\n",
      "[CV 4/5] END ...................................max_depth=69; total time=   1.0s\n",
      "[CV 5/5] END ...................................max_depth=69; total time=   1.0s\n"
     ]
    },
    {
     "data": {
      "text/plain": [
       "{'max_depth': 3}"
      ]
     },
     "execution_count": 20,
     "metadata": {},
     "output_type": "execute_result"
    }
   ],
   "source": [
    "parametrs = {'max_depth': range (1,70)}\n",
    "model_dtr_r = DecisionTreeRegressor(random_state=12345)\n",
    "grid_dtr_r = GridSearchCV(model_dtr_r, parametrs, cv=5, scoring = sMAPE_score, verbose = 3)\n",
    "grid_dtr_r.fit(features_train, target_train_r)\n",
    "grid_dtr_r.best_params_"
   ]
  },
  {
   "cell_type": "code",
   "execution_count": 39,
   "metadata": {},
   "outputs": [
    {
     "data": {
      "text/plain": [
       "7.189413348636007"
      ]
     },
     "execution_count": 39,
     "metadata": {},
     "output_type": "execute_result"
    }
   ],
   "source": [
    "model_dtr_r = DecisionTreeRegressor(random_state=12345, max_depth=3)\n",
    "#model_dtr_r.fit(features_train, target_train_r)\n",
    "#predictions_dtr_r = model_dtr_r.predict(features_test)\n",
    "score_dtr_r = cross_val_score(model_dtr_r, features_train, target_train_r, cv=5, scoring=sMAPE_score) \n",
    "score_dtr_r = score_dtr_r.mean()*-1\n",
    "score_dtr_r"
   ]
  },
  {
   "cell_type": "markdown",
   "metadata": {},
   "source": [
    "Далее сделаем тоже самое с параметром таргета финального концентрата:"
   ]
  },
  {
   "cell_type": "code",
   "execution_count": 22,
   "metadata": {},
   "outputs": [
    {
     "data": {
      "text/plain": [
       "{'max_depth': 2}"
      ]
     },
     "execution_count": 22,
     "metadata": {},
     "output_type": "execute_result"
    }
   ],
   "source": [
    "parametrs = {'max_depth': range (1,70)}\n",
    "model_dtr_f = DecisionTreeRegressor(random_state=12345)\n",
    "grid_dtr_f = GridSearchCV(model_dtr_f, parametrs, cv=5, scoring = sMAPE_score)\n",
    "grid_dtr_f.fit(features_train, target_train_f)\n",
    "grid_dtr_f.best_params_"
   ]
  },
  {
   "cell_type": "code",
   "execution_count": 42,
   "metadata": {},
   "outputs": [
    {
     "data": {
      "text/plain": [
       "10.763313910950188"
      ]
     },
     "execution_count": 42,
     "metadata": {},
     "output_type": "execute_result"
    }
   ],
   "source": [
    "model_dtr_f = DecisionTreeRegressor(random_state=12345, max_depth=2)\n",
    "#model_dtr_f.fit(features_train, target_train_f)\n",
    "#predictions_dtr_f = model_dtr_f.predict(features_test)\n",
    "score_dtr_f = cross_val_score(model_dtr_f, features_train, target_train_f, cv=5, scoring=sMAPE_score) \n",
    "score_dtr_f = score_dtr_f.mean()*-1\n",
    "score_dtr_f"
   ]
  },
  {
   "cell_type": "markdown",
   "metadata": {},
   "source": [
    "### Случайны лес\n",
    "\n",
    "Флотационный концентрат:"
   ]
  },
  {
   "cell_type": "code",
   "execution_count": 24,
   "metadata": {},
   "outputs": [
    {
     "data": {
      "text/plain": [
       "{'max_depth': 5, 'n_estimators': 20}"
      ]
     },
     "execution_count": 24,
     "metadata": {},
     "output_type": "execute_result"
    }
   ],
   "source": [
    "parametrs = { 'n_estimators': range (10, 51, 10),\n",
    "              'max_depth': range (1,13, 2)}\n",
    "model_rfr_r = RandomForestRegressor(random_state=12345)\n",
    "grid_rfr_r = GridSearchCV(model_rfr_r, parametrs, cv=5, scoring = sMAPE_score)\n",
    "grid_rfr_r.fit(features_train, target_train_r)\n",
    "grid_rfr_r.best_params_"
   ]
  },
  {
   "cell_type": "code",
   "execution_count": 43,
   "metadata": {},
   "outputs": [
    {
     "data": {
      "text/plain": [
       "6.716204550179898"
      ]
     },
     "execution_count": 43,
     "metadata": {},
     "output_type": "execute_result"
    }
   ],
   "source": [
    "model_rfr_r = RandomForestRegressor(random_state=12345, n_estimators=20, max_depth=5,)\n",
    "#model_rfr_r.fit(features_train, target_train_r)\n",
    "#predictions_rfr_r = model_rfr_r.predict(features_test)\n",
    "score_rfr_r = cross_val_score(model_rfr_r, features_train, target_train_r, cv=5, scoring=sMAPE_score) \n",
    "score_rfr_r = score_rfr_r.mean()*-1\n",
    "score_rfr_r"
   ]
  },
  {
   "cell_type": "markdown",
   "metadata": {},
   "source": [
    "Финальный концентрат:"
   ]
  },
  {
   "cell_type": "code",
   "execution_count": 26,
   "metadata": {},
   "outputs": [
    {
     "data": {
      "text/plain": [
       "{'max_depth': 5, 'n_estimators': 30}"
      ]
     },
     "execution_count": 26,
     "metadata": {},
     "output_type": "execute_result"
    }
   ],
   "source": [
    "parametrs = { 'n_estimators': range (10, 51, 10),\n",
    "              'max_depth': range (1,13, 2)}\n",
    "model_rfr_f = RandomForestRegressor(random_state=12345)\n",
    "grid_rfr_f = GridSearchCV(model_rfr_f, parametrs, cv=5, scoring = sMAPE_score)\n",
    "grid_rfr_f.fit(features_train, target_train_f)\n",
    "grid_rfr_f.best_params_"
   ]
  },
  {
   "cell_type": "code",
   "execution_count": 44,
   "metadata": {},
   "outputs": [
    {
     "data": {
      "text/plain": [
       "10.233466680343373"
      ]
     },
     "execution_count": 44,
     "metadata": {},
     "output_type": "execute_result"
    }
   ],
   "source": [
    "model_rfr_f = RandomForestRegressor(random_state=12345, n_estimators=30, max_depth=5,)\n",
    "#model_rfr_f.fit(features_train, target_train_f)\n",
    "#predictions_rfr_f = model_rfr_f.predict(features_test)\n",
    "score_rfr_f = cross_val_score(model_rfr_f, features_train, target_train_f, cv=5, scoring=sMAPE_score) \n",
    "score_rfr_f = score_rfr_f.mean()*-1\n",
    "score_rfr_f"
   ]
  },
  {
   "cell_type": "markdown",
   "metadata": {},
   "source": [
    "### Линейная регрессия\n",
    "\n",
    "Флотационный концентрат:"
   ]
  },
  {
   "cell_type": "code",
   "execution_count": 45,
   "metadata": {},
   "outputs": [
    {
     "data": {
      "text/plain": [
       "7.313959332552993"
      ]
     },
     "execution_count": 45,
     "metadata": {},
     "output_type": "execute_result"
    }
   ],
   "source": [
    "model_lr_r = LinearRegression()\n",
    "#model_lr_r.fit(features_train, target_train_r) \n",
    "#predictions_lr_r = model_lr_r.predict(features_test)\n",
    "score_lr_r = cross_val_score(model_lr_r, features_train, target_train_r, cv=5, scoring=sMAPE_score) \n",
    "score_lr_r = score_lr_r.mean()*-1\n",
    "score_lr_r"
   ]
  },
  {
   "cell_type": "markdown",
   "metadata": {},
   "source": [
    "Финальный концентрат:"
   ]
  },
  {
   "cell_type": "code",
   "execution_count": 46,
   "metadata": {},
   "outputs": [
    {
     "data": {
      "text/plain": [
       "12.249265437136184"
      ]
     },
     "execution_count": 46,
     "metadata": {},
     "output_type": "execute_result"
    }
   ],
   "source": [
    "model_lr_f = LinearRegression()\n",
    "#model_lr_f.fit(features_train, target_train_f) \n",
    "#predictions_lr_f = model_lr_f.predict(features_test)\n",
    "score_lr_f = cross_val_score(model_lr_f, features_train, target_train_f, cv=5, scoring=sMAPE_score) \n",
    "score_lr_f = score_lr_f.mean()*-1\n",
    "score_lr_f"
   ]
  },
  {
   "cell_type": "markdown",
   "metadata": {},
   "source": [
    "### Итоговая sMAPE\n",
    "\n",
    "Лучший показатель качества для предсказания флотационного концентрата и финального концентрата получился у модели линейной регрессии. Рассчитаем для этих моделей итоговый sMAPE: "
   ]
  },
  {
   "cell_type": "code",
   "execution_count": 48,
   "metadata": {},
   "outputs": [
    {
     "data": {
      "text/plain": [
       "9.669242731856118"
      ]
     },
     "execution_count": 48,
     "metadata": {},
     "output_type": "execute_result"
    }
   ],
   "source": [
    "model_lr_r.fit(features_train, target_train_r) \n",
    "predictions_lr_r = model_lr_r.predict(features_test)\n",
    "model_lr_f.fit(features_train, target_train_f) \n",
    "predictions_lr_f = model_lr_f.predict(features_test)\n",
    "sMAPE_r = sMAPE(target_test_r, predictions_lr_r)\n",
    "sMAPE_f = sMAPE(target_test_f, predictions_lr_f)\n",
    "total_sMAPE(sMAPE_r, sMAPE_f)"
   ]
  },
  {
   "cell_type": "markdown",
   "metadata": {},
   "source": [
    "**Вывод:** По итогам проекта для предсказания параметра rougher.output.recovery выбрана модель линейной регрессии её показатель качества по кросс валидации 7.31, для параметра final.output.recovery выбрана так же модель линейной регрессии её качество 12.24. Общий итоговое sMAPE у моделей 9.66."
   ]
  }
 ],
 "metadata": {
  "ExecuteTimeLog": [
   {
    "duration": 311,
    "start_time": "2022-03-12T06:09:18.892Z"
   },
   {
    "duration": 95,
    "start_time": "2022-03-12T06:09:20.853Z"
   },
   {
    "duration": 88,
    "start_time": "2022-03-12T06:09:37.878Z"
   },
   {
    "duration": 669,
    "start_time": "2022-03-12T06:09:44.281Z"
   },
   {
    "duration": 1938,
    "start_time": "2022-03-12T06:09:46.348Z"
   },
   {
    "duration": 1852,
    "start_time": "2022-03-12T06:10:12.136Z"
   },
   {
    "duration": 1852,
    "start_time": "2022-03-12T06:16:58.977Z"
   },
   {
    "duration": 1785,
    "start_time": "2022-03-12T06:17:12.908Z"
   },
   {
    "duration": 832,
    "start_time": "2022-03-12T06:20:02.090Z"
   },
   {
    "duration": 858,
    "start_time": "2022-03-12T06:20:10.993Z"
   },
   {
    "duration": 808,
    "start_time": "2022-03-12T06:23:57.922Z"
   },
   {
    "duration": 855,
    "start_time": "2022-03-12T06:39:42.663Z"
   },
   {
    "duration": 847,
    "start_time": "2022-03-12T06:45:59.175Z"
   },
   {
    "duration": 840,
    "start_time": "2022-03-12T06:46:35.789Z"
   },
   {
    "duration": 800,
    "start_time": "2022-03-12T06:46:52.796Z"
   },
   {
    "duration": 845,
    "start_time": "2022-03-12T06:48:40.906Z"
   },
   {
    "duration": 760,
    "start_time": "2022-03-12T06:52:39.925Z"
   },
   {
    "duration": 306,
    "start_time": "2022-03-12T07:49:10.607Z"
   },
   {
    "duration": 18,
    "start_time": "2022-03-12T07:49:16.970Z"
   },
   {
    "duration": 23,
    "start_time": "2022-03-12T07:49:37.553Z"
   },
   {
    "duration": 4,
    "start_time": "2022-03-12T08:09:28.037Z"
   },
   {
    "duration": 7,
    "start_time": "2022-03-12T08:09:33.981Z"
   },
   {
    "duration": 5,
    "start_time": "2022-03-12T08:09:59.076Z"
   },
   {
    "duration": 7,
    "start_time": "2022-03-12T08:12:15.554Z"
   },
   {
    "duration": 6,
    "start_time": "2022-03-12T09:32:59.427Z"
   },
   {
    "duration": 255,
    "start_time": "2022-03-12T09:37:36.559Z"
   },
   {
    "duration": 283,
    "start_time": "2022-03-12T09:37:40.710Z"
   },
   {
    "duration": 6,
    "start_time": "2022-03-12T09:38:42.345Z"
   },
   {
    "duration": 5,
    "start_time": "2022-03-12T09:38:59.372Z"
   },
   {
    "duration": 334,
    "start_time": "2022-03-12T09:39:06.723Z"
   },
   {
    "duration": 6,
    "start_time": "2022-03-12T09:39:35.462Z"
   },
   {
    "duration": 290,
    "start_time": "2022-03-12T09:48:21.304Z"
   },
   {
    "duration": 256,
    "start_time": "2022-03-12T09:48:40.741Z"
   },
   {
    "duration": 8,
    "start_time": "2022-03-12T09:51:01.925Z"
   },
   {
    "duration": 7,
    "start_time": "2022-03-12T09:51:11.219Z"
   },
   {
    "duration": 6010,
    "start_time": "2022-03-12T09:57:36.563Z"
   },
   {
    "duration": 128,
    "start_time": "2022-03-12T09:58:32.973Z"
   },
   {
    "duration": 9548,
    "start_time": "2022-03-12T09:58:55.044Z"
   },
   {
    "duration": 302,
    "start_time": "2022-03-12T09:59:08.136Z"
   },
   {
    "duration": 16,
    "start_time": "2022-03-12T10:00:49.659Z"
   },
   {
    "duration": 253,
    "start_time": "2022-03-12T10:03:13.876Z"
   },
   {
    "duration": 261,
    "start_time": "2022-03-12T10:03:31.542Z"
   },
   {
    "duration": 115,
    "start_time": "2022-03-12T10:03:49.957Z"
   },
   {
    "duration": 22,
    "start_time": "2022-03-12T10:03:54.186Z"
   },
   {
    "duration": 24,
    "start_time": "2022-03-12T10:04:12.228Z"
   },
   {
    "duration": 134,
    "start_time": "2022-03-12T10:04:39.842Z"
   },
   {
    "duration": 23,
    "start_time": "2022-03-12T10:04:43.248Z"
   },
   {
    "duration": 24,
    "start_time": "2022-03-12T10:05:33.071Z"
   },
   {
    "duration": 38,
    "start_time": "2022-03-12T10:05:42.856Z"
   },
   {
    "duration": 27,
    "start_time": "2022-03-12T10:05:56.902Z"
   },
   {
    "duration": 304,
    "start_time": "2022-03-12T10:12:32.683Z"
   },
   {
    "duration": 26,
    "start_time": "2022-03-12T10:19:30.330Z"
   },
   {
    "duration": 33,
    "start_time": "2022-03-12T10:33:46.641Z"
   },
   {
    "duration": 41,
    "start_time": "2022-03-12T10:34:03.074Z"
   },
   {
    "duration": 27,
    "start_time": "2022-03-12T10:35:31.851Z"
   },
   {
    "duration": 25,
    "start_time": "2022-03-12T10:36:24.585Z"
   },
   {
    "duration": 21,
    "start_time": "2022-03-12T10:37:22.136Z"
   },
   {
    "duration": 21,
    "start_time": "2022-03-12T10:37:36.190Z"
   },
   {
    "duration": 1174,
    "start_time": "2022-03-12T10:38:21.097Z"
   },
   {
    "duration": 19,
    "start_time": "2022-03-12T10:38:33.868Z"
   },
   {
    "duration": 36,
    "start_time": "2022-03-12T10:38:47.381Z"
   },
   {
    "duration": 37,
    "start_time": "2022-03-12T10:39:08.799Z"
   },
   {
    "duration": 11,
    "start_time": "2022-03-12T10:40:04.392Z"
   },
   {
    "duration": 11,
    "start_time": "2022-03-12T10:40:07.427Z"
   },
   {
    "duration": 280,
    "start_time": "2022-03-12T10:42:29.491Z"
   },
   {
    "duration": 17,
    "start_time": "2022-03-12T10:54:38.495Z"
   },
   {
    "duration": 557,
    "start_time": "2022-03-12T11:21:36.891Z"
   },
   {
    "duration": 263,
    "start_time": "2022-03-12T11:24:43.657Z"
   },
   {
    "duration": 255,
    "start_time": "2022-03-12T11:25:05.286Z"
   },
   {
    "duration": 318,
    "start_time": "2022-03-12T11:27:37.585Z"
   },
   {
    "duration": 311,
    "start_time": "2022-03-12T11:28:12.328Z"
   },
   {
    "duration": 294,
    "start_time": "2022-03-12T11:29:22.495Z"
   },
   {
    "duration": 389,
    "start_time": "2022-03-12T11:29:47.403Z"
   },
   {
    "duration": 6855,
    "start_time": "2022-03-12T11:30:41.686Z"
   },
   {
    "duration": 6207,
    "start_time": "2022-03-12T11:31:23.211Z"
   },
   {
    "duration": 6478,
    "start_time": "2022-03-12T11:31:35.975Z"
   },
   {
    "duration": 759,
    "start_time": "2022-03-12T11:32:37.803Z"
   },
   {
    "duration": 531,
    "start_time": "2022-03-12T11:33:00.862Z"
   },
   {
    "duration": 6611,
    "start_time": "2022-03-12T11:33:33.448Z"
   },
   {
    "duration": 6787,
    "start_time": "2022-03-12T11:47:51.754Z"
   },
   {
    "duration": 7789,
    "start_time": "2022-03-12T11:49:02.349Z"
   },
   {
    "duration": 36,
    "start_time": "2022-03-12T11:50:35.786Z"
   },
   {
    "duration": 7136,
    "start_time": "2022-03-12T11:50:37.573Z"
   },
   {
    "duration": 646,
    "start_time": "2022-03-12T12:40:45.786Z"
   },
   {
    "duration": 828,
    "start_time": "2022-03-12T12:40:46.435Z"
   },
   {
    "duration": 17,
    "start_time": "2022-03-12T12:40:47.267Z"
   },
   {
    "duration": 23,
    "start_time": "2022-03-12T12:40:47.287Z"
   },
   {
    "duration": 44,
    "start_time": "2022-03-12T12:40:47.312Z"
   },
   {
    "duration": 15,
    "start_time": "2022-03-12T12:40:47.359Z"
   },
   {
    "duration": 6114,
    "start_time": "2022-03-12T12:40:47.376Z"
   },
   {
    "duration": 583,
    "start_time": "2022-03-12T12:40:52.910Z"
   },
   {
    "duration": 19,
    "start_time": "2022-03-12T12:41:09.728Z"
   },
   {
    "duration": 6337,
    "start_time": "2022-03-12T12:41:38.624Z"
   },
   {
    "duration": 14,
    "start_time": "2022-03-12T12:43:56.039Z"
   },
   {
    "duration": 6482,
    "start_time": "2022-03-12T12:43:57.551Z"
   },
   {
    "duration": 7398,
    "start_time": "2022-03-12T12:45:06.421Z"
   },
   {
    "duration": 354,
    "start_time": "2022-03-12T12:46:19.617Z"
   },
   {
    "duration": 281,
    "start_time": "2022-03-12T12:47:11.252Z"
   },
   {
    "duration": 5,
    "start_time": "2022-03-12T12:47:56.048Z"
   },
   {
    "duration": 1301,
    "start_time": "2022-03-12T12:47:56.057Z"
   },
   {
    "duration": 16,
    "start_time": "2022-03-12T12:47:57.361Z"
   },
   {
    "duration": 24,
    "start_time": "2022-03-12T12:47:57.381Z"
   },
   {
    "duration": 50,
    "start_time": "2022-03-12T12:47:57.408Z"
   },
   {
    "duration": 15,
    "start_time": "2022-03-12T12:47:57.461Z"
   },
   {
    "duration": 271,
    "start_time": "2022-03-12T12:47:57.478Z"
   },
   {
    "duration": 588,
    "start_time": "2022-03-12T12:47:57.164Z"
   },
   {
    "duration": 15,
    "start_time": "2022-03-12T12:56:43.840Z"
   },
   {
    "duration": 15,
    "start_time": "2022-03-12T12:56:49.807Z"
   },
   {
    "duration": 9,
    "start_time": "2022-03-12T13:01:08.081Z"
   },
   {
    "duration": 298,
    "start_time": "2022-03-12T13:03:21.776Z"
   },
   {
    "duration": 4,
    "start_time": "2022-03-12T13:03:26.954Z"
   },
   {
    "duration": 867,
    "start_time": "2022-03-12T13:03:26.961Z"
   },
   {
    "duration": 23,
    "start_time": "2022-03-12T13:03:27.831Z"
   },
   {
    "duration": 24,
    "start_time": "2022-03-12T13:03:27.856Z"
   },
   {
    "duration": 12,
    "start_time": "2022-03-12T13:03:27.883Z"
   },
   {
    "duration": 15,
    "start_time": "2022-03-12T13:03:27.897Z"
   },
   {
    "duration": 304,
    "start_time": "2022-03-12T13:03:27.914Z"
   },
   {
    "duration": 578,
    "start_time": "2022-03-12T13:03:27.642Z"
   },
   {
    "duration": 304,
    "start_time": "2022-03-12T13:13:36.284Z"
   },
   {
    "duration": 18,
    "start_time": "2022-03-12T13:13:41.132Z"
   },
   {
    "duration": 125,
    "start_time": "2022-03-12T13:14:09.632Z"
   },
   {
    "duration": 100,
    "start_time": "2022-03-12T13:14:15.810Z"
   },
   {
    "duration": 1845,
    "start_time": "2022-03-12T13:14:23.557Z"
   },
   {
    "duration": 18,
    "start_time": "2022-03-12T13:15:49.313Z"
   },
   {
    "duration": 290,
    "start_time": "2022-03-12T13:24:29.822Z"
   },
   {
    "duration": 16,
    "start_time": "2022-03-12T13:24:41.748Z"
   },
   {
    "duration": 13,
    "start_time": "2022-03-12T13:24:44.344Z"
   },
   {
    "duration": 3,
    "start_time": "2022-03-12T13:24:55.415Z"
   },
   {
    "duration": 916,
    "start_time": "2022-03-12T13:24:55.421Z"
   },
   {
    "duration": 25,
    "start_time": "2022-03-12T13:24:56.340Z"
   },
   {
    "duration": 24,
    "start_time": "2022-03-12T13:24:56.368Z"
   },
   {
    "duration": 12,
    "start_time": "2022-03-12T13:24:56.395Z"
   },
   {
    "duration": 48,
    "start_time": "2022-03-12T13:24:56.410Z"
   },
   {
    "duration": 17,
    "start_time": "2022-03-12T13:24:56.460Z"
   },
   {
    "duration": 9,
    "start_time": "2022-03-12T13:24:56.480Z"
   },
   {
    "duration": 14,
    "start_time": "2022-03-12T13:25:15.620Z"
   },
   {
    "duration": 53,
    "start_time": "2022-03-12T13:26:37.446Z"
   },
   {
    "duration": 263,
    "start_time": "2022-03-12T13:30:37.528Z"
   },
   {
    "duration": 273,
    "start_time": "2022-03-12T13:30:49.912Z"
   },
   {
    "duration": 555,
    "start_time": "2022-03-12T13:32:35.462Z"
   },
   {
    "duration": 552,
    "start_time": "2022-03-12T13:32:35.467Z"
   },
   {
    "duration": 550,
    "start_time": "2022-03-12T13:32:35.471Z"
   },
   {
    "duration": 548,
    "start_time": "2022-03-12T13:32:35.475Z"
   },
   {
    "duration": 526,
    "start_time": "2022-03-12T13:32:35.499Z"
   },
   {
    "duration": 522,
    "start_time": "2022-03-12T13:32:35.505Z"
   },
   {
    "duration": 521,
    "start_time": "2022-03-12T13:32:35.507Z"
   },
   {
    "duration": 520,
    "start_time": "2022-03-12T13:32:35.510Z"
   },
   {
    "duration": 519,
    "start_time": "2022-03-12T13:33:02.379Z"
   },
   {
    "duration": 3,
    "start_time": "2022-03-12T13:33:14.452Z"
   },
   {
    "duration": 832,
    "start_time": "2022-03-12T13:33:14.462Z"
   },
   {
    "duration": 16,
    "start_time": "2022-03-12T13:33:15.296Z"
   },
   {
    "duration": 43,
    "start_time": "2022-03-12T13:33:15.315Z"
   },
   {
    "duration": 13,
    "start_time": "2022-03-12T13:33:15.360Z"
   },
   {
    "duration": 12,
    "start_time": "2022-03-12T13:33:15.375Z"
   },
   {
    "duration": 6183,
    "start_time": "2022-03-12T13:33:15.390Z"
   },
   {
    "duration": 563,
    "start_time": "2022-03-12T13:33:21.012Z"
   },
   {
    "duration": 293,
    "start_time": "2022-03-12T13:35:36.836Z"
   },
   {
    "duration": 275,
    "start_time": "2022-03-12T13:42:22.181Z"
   },
   {
    "duration": 6455,
    "start_time": "2022-03-12T13:42:34.460Z"
   },
   {
    "duration": 6810,
    "start_time": "2022-03-12T13:42:45.920Z"
   },
   {
    "duration": 3,
    "start_time": "2022-03-12T13:45:00.495Z"
   },
   {
    "duration": 851,
    "start_time": "2022-03-12T13:45:00.501Z"
   },
   {
    "duration": 28,
    "start_time": "2022-03-12T13:45:01.356Z"
   },
   {
    "duration": 65,
    "start_time": "2022-03-12T13:45:01.389Z"
   },
   {
    "duration": 15,
    "start_time": "2022-03-12T13:45:01.457Z"
   },
   {
    "duration": 23,
    "start_time": "2022-03-12T13:45:01.475Z"
   },
   {
    "duration": 55,
    "start_time": "2022-03-12T13:45:01.501Z"
   },
   {
    "duration": 13,
    "start_time": "2022-03-12T13:45:01.560Z"
   },
   {
    "duration": 11,
    "start_time": "2022-03-12T13:46:29.009Z"
   },
   {
    "duration": 7,
    "start_time": "2022-03-12T13:47:09.627Z"
   },
   {
    "duration": 14,
    "start_time": "2022-03-12T13:48:16.500Z"
   },
   {
    "duration": 4,
    "start_time": "2022-03-12T13:48:34.689Z"
   },
   {
    "duration": 845,
    "start_time": "2022-03-12T13:48:34.695Z"
   },
   {
    "duration": 17,
    "start_time": "2022-03-12T13:48:35.551Z"
   },
   {
    "duration": 24,
    "start_time": "2022-03-12T13:48:35.571Z"
   },
   {
    "duration": 13,
    "start_time": "2022-03-12T13:48:35.598Z"
   },
   {
    "duration": 48,
    "start_time": "2022-03-12T13:48:35.613Z"
   },
   {
    "duration": 15,
    "start_time": "2022-03-12T13:48:35.664Z"
   },
   {
    "duration": 13,
    "start_time": "2022-03-12T13:48:35.681Z"
   },
   {
    "duration": 9,
    "start_time": "2022-03-12T13:48:35.698Z"
   },
   {
    "duration": 260,
    "start_time": "2022-03-13T09:13:27.735Z"
   },
   {
    "duration": 1029,
    "start_time": "2022-03-13T09:13:42.730Z"
   },
   {
    "duration": 722,
    "start_time": "2022-03-13T09:13:43.761Z"
   },
   {
    "duration": 10,
    "start_time": "2022-03-13T09:13:44.485Z"
   },
   {
    "duration": 14,
    "start_time": "2022-03-13T09:13:44.497Z"
   },
   {
    "duration": 34,
    "start_time": "2022-03-13T09:13:44.512Z"
   },
   {
    "duration": 15,
    "start_time": "2022-03-13T09:13:44.550Z"
   },
   {
    "duration": 8,
    "start_time": "2022-03-13T09:13:44.567Z"
   },
   {
    "duration": 19,
    "start_time": "2022-03-13T09:13:44.577Z"
   },
   {
    "duration": 15,
    "start_time": "2022-03-13T09:13:44.598Z"
   },
   {
    "duration": 8,
    "start_time": "2022-03-13T09:13:44.615Z"
   },
   {
    "duration": 4,
    "start_time": "2022-03-13T09:13:57.385Z"
   },
   {
    "duration": 3,
    "start_time": "2022-03-13T09:14:00.882Z"
   },
   {
    "duration": 730,
    "start_time": "2022-03-13T09:14:00.887Z"
   },
   {
    "duration": 18,
    "start_time": "2022-03-13T09:14:01.620Z"
   },
   {
    "duration": 19,
    "start_time": "2022-03-13T09:14:01.640Z"
   },
   {
    "duration": 11,
    "start_time": "2022-03-13T09:14:01.663Z"
   },
   {
    "duration": 11,
    "start_time": "2022-03-13T09:14:01.676Z"
   },
   {
    "duration": 12,
    "start_time": "2022-03-13T09:14:01.690Z"
   },
   {
    "duration": 43,
    "start_time": "2022-03-13T09:14:01.704Z"
   },
   {
    "duration": 37,
    "start_time": "2022-03-13T09:14:01.751Z"
   },
   {
    "duration": 15,
    "start_time": "2022-03-13T09:14:01.790Z"
   },
   {
    "duration": 7,
    "start_time": "2022-03-13T09:17:49.825Z"
   },
   {
    "duration": 146,
    "start_time": "2022-03-13T09:18:25.670Z"
   },
   {
    "duration": 6,
    "start_time": "2022-03-13T09:18:30.107Z"
   },
   {
    "duration": 3,
    "start_time": "2022-03-13T09:21:22.558Z"
   },
   {
    "duration": 734,
    "start_time": "2022-03-13T09:21:22.562Z"
   },
   {
    "duration": 10,
    "start_time": "2022-03-13T09:21:23.298Z"
   },
   {
    "duration": 15,
    "start_time": "2022-03-13T09:21:23.309Z"
   },
   {
    "duration": 14,
    "start_time": "2022-03-13T09:21:23.343Z"
   },
   {
    "duration": 16,
    "start_time": "2022-03-13T09:21:23.361Z"
   },
   {
    "duration": 5,
    "start_time": "2022-03-13T09:21:23.378Z"
   },
   {
    "duration": 1267,
    "start_time": "2022-03-13T09:21:23.385Z"
   },
   {
    "duration": 1116,
    "start_time": "2022-03-13T09:21:23.538Z"
   },
   {
    "duration": 1116,
    "start_time": "2022-03-13T09:21:23.539Z"
   },
   {
    "duration": 298,
    "start_time": "2022-03-13T09:21:30.871Z"
   },
   {
    "duration": 3,
    "start_time": "2022-03-13T09:21:47.734Z"
   },
   {
    "duration": 738,
    "start_time": "2022-03-13T09:21:47.740Z"
   },
   {
    "duration": 11,
    "start_time": "2022-03-13T09:21:48.480Z"
   },
   {
    "duration": 14,
    "start_time": "2022-03-13T09:21:48.493Z"
   },
   {
    "duration": 9,
    "start_time": "2022-03-13T09:21:48.508Z"
   },
   {
    "duration": 31,
    "start_time": "2022-03-13T09:21:48.518Z"
   },
   {
    "duration": 5,
    "start_time": "2022-03-13T09:21:48.552Z"
   },
   {
    "duration": 204,
    "start_time": "2022-03-13T09:21:48.559Z"
   },
   {
    "duration": 1097,
    "start_time": "2022-03-13T09:21:47.668Z"
   },
   {
    "duration": 1096,
    "start_time": "2022-03-13T09:21:47.670Z"
   },
   {
    "duration": 218,
    "start_time": "2022-03-13T09:22:45.547Z"
   },
   {
    "duration": 198,
    "start_time": "2022-03-13T09:23:01.418Z"
   },
   {
    "duration": 4,
    "start_time": "2022-03-13T09:23:29.124Z"
   },
   {
    "duration": 223,
    "start_time": "2022-03-13T09:25:17.046Z"
   },
   {
    "duration": 3,
    "start_time": "2022-03-13T09:26:57.000Z"
   },
   {
    "duration": 720,
    "start_time": "2022-03-13T09:26:57.005Z"
   },
   {
    "duration": 15,
    "start_time": "2022-03-13T09:26:57.727Z"
   },
   {
    "duration": 18,
    "start_time": "2022-03-13T09:26:57.744Z"
   },
   {
    "duration": 10,
    "start_time": "2022-03-13T09:26:57.765Z"
   },
   {
    "duration": 15,
    "start_time": "2022-03-13T09:26:57.777Z"
   },
   {
    "duration": 4,
    "start_time": "2022-03-13T09:26:57.794Z"
   },
   {
    "duration": 1252,
    "start_time": "2022-03-13T09:26:57.800Z"
   },
   {
    "duration": 1085,
    "start_time": "2022-03-13T09:26:57.969Z"
   },
   {
    "duration": 1087,
    "start_time": "2022-03-13T09:26:57.971Z"
   },
   {
    "duration": 3,
    "start_time": "2022-03-13T09:39:19.964Z"
   },
   {
    "duration": 728,
    "start_time": "2022-03-13T09:39:19.969Z"
   },
   {
    "duration": 15,
    "start_time": "2022-03-13T09:39:20.700Z"
   },
   {
    "duration": 40,
    "start_time": "2022-03-13T09:39:20.717Z"
   },
   {
    "duration": 11,
    "start_time": "2022-03-13T09:39:20.760Z"
   },
   {
    "duration": 18,
    "start_time": "2022-03-13T09:39:20.773Z"
   },
   {
    "duration": 5,
    "start_time": "2022-03-13T09:39:20.793Z"
   },
   {
    "duration": 48,
    "start_time": "2022-03-13T09:39:20.800Z"
   },
   {
    "duration": 23,
    "start_time": "2022-03-13T09:39:20.851Z"
   },
   {
    "duration": 6,
    "start_time": "2022-03-13T09:39:20.876Z"
   },
   {
    "duration": 8,
    "start_time": "2022-03-13T09:48:38.804Z"
   },
   {
    "duration": 8,
    "start_time": "2022-03-13T09:48:56.061Z"
   },
   {
    "duration": 6,
    "start_time": "2022-03-13T10:30:23.238Z"
   },
   {
    "duration": 2,
    "start_time": "2022-03-13T10:30:26.293Z"
   },
   {
    "duration": 811,
    "start_time": "2022-03-13T10:30:26.297Z"
   },
   {
    "duration": 9,
    "start_time": "2022-03-13T10:30:27.110Z"
   },
   {
    "duration": 31,
    "start_time": "2022-03-13T10:30:27.121Z"
   },
   {
    "duration": 11,
    "start_time": "2022-03-13T10:30:27.155Z"
   },
   {
    "duration": 13,
    "start_time": "2022-03-13T10:30:27.168Z"
   },
   {
    "duration": 5,
    "start_time": "2022-03-13T10:30:27.182Z"
   },
   {
    "duration": 18,
    "start_time": "2022-03-13T10:30:27.189Z"
   },
   {
    "duration": 34,
    "start_time": "2022-03-13T10:30:27.210Z"
   },
   {
    "duration": 182,
    "start_time": "2022-03-13T10:30:27.246Z"
   },
   {
    "duration": 4,
    "start_time": "2022-03-13T10:30:41.887Z"
   },
   {
    "duration": 3,
    "start_time": "2022-03-13T10:30:41.970Z"
   },
   {
    "duration": 3,
    "start_time": "2022-03-13T10:31:42.417Z"
   },
   {
    "duration": 786,
    "start_time": "2022-03-13T10:31:42.421Z"
   },
   {
    "duration": 9,
    "start_time": "2022-03-13T10:31:43.209Z"
   },
   {
    "duration": 32,
    "start_time": "2022-03-13T10:31:43.220Z"
   },
   {
    "duration": 11,
    "start_time": "2022-03-13T10:31:43.255Z"
   },
   {
    "duration": 13,
    "start_time": "2022-03-13T10:31:43.267Z"
   },
   {
    "duration": 3,
    "start_time": "2022-03-13T10:31:43.282Z"
   },
   {
    "duration": 190,
    "start_time": "2022-03-13T10:31:43.288Z"
   },
   {
    "duration": 1073,
    "start_time": "2022-03-13T10:31:42.407Z"
   },
   {
    "duration": 1074,
    "start_time": "2022-03-13T10:31:42.408Z"
   },
   {
    "duration": 3,
    "start_time": "2022-03-13T10:38:01.286Z"
   },
   {
    "duration": 764,
    "start_time": "2022-03-13T10:38:01.291Z"
   },
   {
    "duration": 12,
    "start_time": "2022-03-13T10:38:02.058Z"
   },
   {
    "duration": 16,
    "start_time": "2022-03-13T10:38:02.072Z"
   },
   {
    "duration": 10,
    "start_time": "2022-03-13T10:38:02.090Z"
   },
   {
    "duration": 52,
    "start_time": "2022-03-13T10:38:02.101Z"
   },
   {
    "duration": 4,
    "start_time": "2022-03-13T10:38:02.155Z"
   },
   {
    "duration": 2814,
    "start_time": "2022-03-13T10:38:02.161Z"
   },
   {
    "duration": 1026,
    "start_time": "2022-03-13T10:38:03.951Z"
   },
   {
    "duration": 1025,
    "start_time": "2022-03-13T10:38:03.953Z"
   },
   {
    "duration": 1324,
    "start_time": "2022-03-13T10:38:34.715Z"
   },
   {
    "duration": 1228,
    "start_time": "2022-03-13T10:38:56.154Z"
   },
   {
    "duration": 178,
    "start_time": "2022-03-13T10:39:33.242Z"
   },
   {
    "duration": 191,
    "start_time": "2022-03-13T10:39:45.742Z"
   },
   {
    "duration": 239,
    "start_time": "2022-03-13T10:39:53.123Z"
   },
   {
    "duration": 1332,
    "start_time": "2022-03-13T10:40:04.097Z"
   },
   {
    "duration": 730,
    "start_time": "2022-03-13T10:40:40.379Z"
   },
   {
    "duration": 11,
    "start_time": "2022-03-13T10:41:56.244Z"
   },
   {
    "duration": 170,
    "start_time": "2022-03-13T10:44:27.911Z"
   },
   {
    "duration": 19,
    "start_time": "2022-03-13T10:44:42.272Z"
   },
   {
    "duration": 3,
    "start_time": "2022-03-13T10:45:06.503Z"
   },
   {
    "duration": 764,
    "start_time": "2022-03-13T10:45:06.508Z"
   },
   {
    "duration": 13,
    "start_time": "2022-03-13T10:45:07.274Z"
   },
   {
    "duration": 28,
    "start_time": "2022-03-13T10:45:07.289Z"
   },
   {
    "duration": 19,
    "start_time": "2022-03-13T10:45:07.319Z"
   },
   {
    "duration": 18,
    "start_time": "2022-03-13T10:45:07.340Z"
   },
   {
    "duration": 24,
    "start_time": "2022-03-13T10:45:07.360Z"
   },
   {
    "duration": 46,
    "start_time": "2022-03-13T10:45:07.386Z"
   },
   {
    "duration": 16,
    "start_time": "2022-03-13T10:45:07.435Z"
   },
   {
    "duration": 256,
    "start_time": "2022-03-13T10:45:07.453Z"
   },
   {
    "duration": 189,
    "start_time": "2022-03-13T10:51:59.566Z"
   },
   {
    "duration": 233,
    "start_time": "2022-03-13T10:56:17.665Z"
   },
   {
    "duration": 69,
    "start_time": "2022-03-13T10:56:38.525Z"
   },
   {
    "duration": 183,
    "start_time": "2022-03-13T10:56:44.631Z"
   },
   {
    "duration": 350,
    "start_time": "2022-03-13T10:57:02.086Z"
   },
   {
    "duration": 298,
    "start_time": "2022-03-13T10:57:15.202Z"
   },
   {
    "duration": 1048,
    "start_time": "2022-03-13T11:05:50.697Z"
   },
   {
    "duration": 86,
    "start_time": "2022-03-13T11:10:13.346Z"
   },
   {
    "duration": 8,
    "start_time": "2022-03-13T11:12:49.990Z"
   },
   {
    "duration": 61,
    "start_time": "2022-03-13T11:16:24.133Z"
   },
   {
    "duration": 11,
    "start_time": "2022-03-13T11:16:49.617Z"
   },
   {
    "duration": 10,
    "start_time": "2022-03-13T11:17:55.351Z"
   },
   {
    "duration": 203,
    "start_time": "2022-03-13T11:25:00.175Z"
   },
   {
    "duration": 210,
    "start_time": "2022-03-13T11:25:15.697Z"
   },
   {
    "duration": 483,
    "start_time": "2022-03-13T11:26:01.899Z"
   },
   {
    "duration": 375,
    "start_time": "2022-03-13T11:29:04.412Z"
   },
   {
    "duration": 57,
    "start_time": "2022-03-13T11:29:34.088Z"
   },
   {
    "duration": 370,
    "start_time": "2022-03-13T11:29:37.818Z"
   },
   {
    "duration": 386,
    "start_time": "2022-03-13T11:29:46.496Z"
   },
   {
    "duration": 217,
    "start_time": "2022-03-13T11:31:35.228Z"
   },
   {
    "duration": 238,
    "start_time": "2022-03-13T11:32:06.193Z"
   },
   {
    "duration": 230,
    "start_time": "2022-03-13T11:32:16.526Z"
   },
   {
    "duration": 216,
    "start_time": "2022-03-13T11:32:27.271Z"
   },
   {
    "duration": 218,
    "start_time": "2022-03-13T11:32:40.871Z"
   },
   {
    "duration": 230,
    "start_time": "2022-03-13T11:32:48.784Z"
   },
   {
    "duration": 226,
    "start_time": "2022-03-13T11:33:16.968Z"
   },
   {
    "duration": 217,
    "start_time": "2022-03-13T11:33:21.372Z"
   },
   {
    "duration": 268,
    "start_time": "2022-03-13T11:34:22.964Z"
   },
   {
    "duration": 202,
    "start_time": "2022-03-13T11:34:32.619Z"
   },
   {
    "duration": 224,
    "start_time": "2022-03-13T11:34:42.064Z"
   },
   {
    "duration": 9,
    "start_time": "2022-03-13T13:10:04.907Z"
   },
   {
    "duration": 3,
    "start_time": "2022-03-13T13:17:31.806Z"
   },
   {
    "duration": 704,
    "start_time": "2022-03-13T13:17:31.810Z"
   },
   {
    "duration": 11,
    "start_time": "2022-03-13T13:17:32.516Z"
   },
   {
    "duration": 22,
    "start_time": "2022-03-13T13:17:32.537Z"
   },
   {
    "duration": 18,
    "start_time": "2022-03-13T13:17:32.561Z"
   },
   {
    "duration": 15,
    "start_time": "2022-03-13T13:17:32.581Z"
   },
   {
    "duration": 4,
    "start_time": "2022-03-13T13:17:32.598Z"
   },
   {
    "duration": 19,
    "start_time": "2022-03-13T13:17:32.604Z"
   },
   {
    "duration": 18,
    "start_time": "2022-03-13T13:17:32.625Z"
   },
   {
    "duration": 16,
    "start_time": "2022-03-13T13:17:32.644Z"
   },
   {
    "duration": 254,
    "start_time": "2022-03-13T13:17:32.661Z"
   },
   {
    "duration": 224,
    "start_time": "2022-03-13T13:22:34.304Z"
   },
   {
    "duration": 439,
    "start_time": "2022-03-13T13:24:54.783Z"
   },
   {
    "duration": 264,
    "start_time": "2022-03-13T13:28:36.861Z"
   },
   {
    "duration": 62,
    "start_time": "2022-03-13T13:36:31.807Z"
   },
   {
    "duration": 30,
    "start_time": "2022-03-13T13:36:38.710Z"
   },
   {
    "duration": 4293,
    "start_time": "2022-03-13T13:38:32.686Z"
   },
   {
    "duration": 7,
    "start_time": "2022-03-13T13:38:41.903Z"
   },
   {
    "duration": 7,
    "start_time": "2022-03-13T13:38:51.974Z"
   },
   {
    "duration": 329,
    "start_time": "2022-03-13T13:40:00.644Z"
   },
   {
    "duration": 179,
    "start_time": "2022-03-13T13:40:35.790Z"
   },
   {
    "duration": 204,
    "start_time": "2022-03-13T13:42:12.493Z"
   },
   {
    "duration": 4879,
    "start_time": "2022-03-13T13:42:18.632Z"
   },
   {
    "duration": 281,
    "start_time": "2022-03-13T13:42:38.337Z"
   },
   {
    "duration": 4,
    "start_time": "2022-03-13T13:44:40.066Z"
   },
   {
    "duration": 686,
    "start_time": "2022-03-13T13:44:40.071Z"
   },
   {
    "duration": 11,
    "start_time": "2022-03-13T13:44:40.759Z"
   },
   {
    "duration": 16,
    "start_time": "2022-03-13T13:44:40.772Z"
   },
   {
    "duration": 9,
    "start_time": "2022-03-13T13:44:40.790Z"
   },
   {
    "duration": 40,
    "start_time": "2022-03-13T13:44:40.801Z"
   },
   {
    "duration": 4,
    "start_time": "2022-03-13T13:44:40.844Z"
   },
   {
    "duration": 24,
    "start_time": "2022-03-13T13:44:40.850Z"
   },
   {
    "duration": 15,
    "start_time": "2022-03-13T13:44:40.875Z"
   },
   {
    "duration": 11,
    "start_time": "2022-03-13T13:44:40.892Z"
   },
   {
    "duration": 249,
    "start_time": "2022-03-13T13:44:40.904Z"
   },
   {
    "duration": 260,
    "start_time": "2022-03-13T13:44:41.155Z"
   },
   {
    "duration": 186,
    "start_time": "2022-03-13T13:44:41.417Z"
   },
   {
    "duration": 9,
    "start_time": "2022-03-13T13:45:44.672Z"
   },
   {
    "duration": 10,
    "start_time": "2022-03-13T13:46:35.728Z"
   },
   {
    "duration": 6,
    "start_time": "2022-03-13T14:23:13.509Z"
   },
   {
    "duration": 184,
    "start_time": "2022-03-13T14:24:21.203Z"
   },
   {
    "duration": 3,
    "start_time": "2022-03-13T14:24:43.299Z"
   },
   {
    "duration": 183,
    "start_time": "2022-03-13T14:24:48.352Z"
   },
   {
    "duration": 175,
    "start_time": "2022-03-13T14:25:13.939Z"
   },
   {
    "duration": 8,
    "start_time": "2022-03-13T14:25:23.385Z"
   },
   {
    "duration": 1128,
    "start_time": "2022-03-14T11:40:27.914Z"
   },
   {
    "duration": 764,
    "start_time": "2022-03-14T11:40:29.043Z"
   },
   {
    "duration": 8,
    "start_time": "2022-03-14T11:40:29.809Z"
   },
   {
    "duration": 12,
    "start_time": "2022-03-14T11:40:29.819Z"
   },
   {
    "duration": 7,
    "start_time": "2022-03-14T11:40:29.832Z"
   },
   {
    "duration": 16,
    "start_time": "2022-03-14T11:40:29.840Z"
   },
   {
    "duration": 5,
    "start_time": "2022-03-14T11:40:29.881Z"
   },
   {
    "duration": 13,
    "start_time": "2022-03-14T11:40:29.888Z"
   },
   {
    "duration": 9,
    "start_time": "2022-03-14T11:40:29.902Z"
   },
   {
    "duration": 9,
    "start_time": "2022-03-14T11:40:29.912Z"
   },
   {
    "duration": 201,
    "start_time": "2022-03-14T11:40:29.922Z"
   },
   {
    "duration": 201,
    "start_time": "2022-03-14T11:40:30.124Z"
   },
   {
    "duration": 11,
    "start_time": "2022-03-14T11:40:30.326Z"
   },
   {
    "duration": 6,
    "start_time": "2022-03-14T11:40:30.339Z"
   },
   {
    "duration": 452,
    "start_time": "2022-03-14T11:40:30.347Z"
   },
   {
    "duration": 3,
    "start_time": "2022-03-14T11:59:28.465Z"
   },
   {
    "duration": 668,
    "start_time": "2022-03-14T11:59:28.469Z"
   },
   {
    "duration": 9,
    "start_time": "2022-03-14T11:59:29.139Z"
   },
   {
    "duration": 13,
    "start_time": "2022-03-14T11:59:29.150Z"
   },
   {
    "duration": 8,
    "start_time": "2022-03-14T11:59:29.181Z"
   },
   {
    "duration": 26,
    "start_time": "2022-03-14T11:59:29.190Z"
   },
   {
    "duration": 13,
    "start_time": "2022-03-14T11:59:29.218Z"
   },
   {
    "duration": 26,
    "start_time": "2022-03-14T11:59:29.232Z"
   },
   {
    "duration": 15,
    "start_time": "2022-03-14T11:59:29.260Z"
   },
   {
    "duration": 14,
    "start_time": "2022-03-14T11:59:29.277Z"
   },
   {
    "duration": 187,
    "start_time": "2022-03-14T11:59:29.292Z"
   },
   {
    "duration": 203,
    "start_time": "2022-03-14T11:59:29.481Z"
   },
   {
    "duration": 11,
    "start_time": "2022-03-14T11:59:29.686Z"
   },
   {
    "duration": 9,
    "start_time": "2022-03-14T11:59:29.698Z"
   },
   {
    "duration": 323,
    "start_time": "2022-03-14T11:59:29.708Z"
   },
   {
    "duration": -64,
    "start_time": "2022-03-14T11:59:30.096Z"
   },
   {
    "duration": 3,
    "start_time": "2022-03-14T11:59:51.079Z"
   },
   {
    "duration": 299,
    "start_time": "2022-03-14T12:19:21.765Z"
   },
   {
    "duration": 315,
    "start_time": "2022-03-14T12:19:44.541Z"
   },
   {
    "duration": 4,
    "start_time": "2022-03-14T12:20:28.380Z"
   },
   {
    "duration": 3,
    "start_time": "2022-03-14T12:25:45.228Z"
   },
   {
    "duration": 4,
    "start_time": "2022-03-14T12:25:52.816Z"
   },
   {
    "duration": 297,
    "start_time": "2022-03-14T12:26:37.809Z"
   },
   {
    "duration": 35,
    "start_time": "2022-03-14T12:27:14.720Z"
   },
   {
    "duration": 292,
    "start_time": "2022-03-14T12:27:18.992Z"
   },
   {
    "duration": 504,
    "start_time": "2022-03-14T12:28:24.992Z"
   },
   {
    "duration": 4,
    "start_time": "2022-03-14T12:28:47.990Z"
   },
   {
    "duration": 409,
    "start_time": "2022-03-14T12:28:54.567Z"
   },
   {
    "duration": 303,
    "start_time": "2022-03-14T12:41:36.470Z"
   },
   {
    "duration": 307,
    "start_time": "2022-03-14T12:42:30.951Z"
   },
   {
    "duration": 4330,
    "start_time": "2022-03-14T12:42:40.071Z"
   },
   {
    "duration": 296,
    "start_time": "2022-03-14T12:58:31.244Z"
   },
   {
    "duration": 316,
    "start_time": "2022-03-14T12:58:35.999Z"
   },
   {
    "duration": 478,
    "start_time": "2022-03-14T13:26:16.904Z"
   },
   {
    "duration": 4240,
    "start_time": "2022-03-14T13:26:23.416Z"
   },
   {
    "duration": 4417,
    "start_time": "2022-03-14T13:32:57.701Z"
   },
   {
    "duration": 430,
    "start_time": "2022-03-14T13:33:03.420Z"
   },
   {
    "duration": 4,
    "start_time": "2022-03-14T13:42:45.648Z"
   },
   {
    "duration": 1377,
    "start_time": "2022-03-14T15:55:40.635Z"
   },
   {
    "duration": 877,
    "start_time": "2022-03-14T15:55:42.015Z"
   },
   {
    "duration": 19,
    "start_time": "2022-03-14T15:55:42.896Z"
   },
   {
    "duration": 21,
    "start_time": "2022-03-14T15:55:42.918Z"
   },
   {
    "duration": 44,
    "start_time": "2022-03-14T15:55:42.942Z"
   },
   {
    "duration": 18,
    "start_time": "2022-03-14T15:55:42.988Z"
   },
   {
    "duration": 9,
    "start_time": "2022-03-14T15:55:43.008Z"
   },
   {
    "duration": 24,
    "start_time": "2022-03-14T15:55:43.020Z"
   },
   {
    "duration": 19,
    "start_time": "2022-03-14T15:55:43.085Z"
   },
   {
    "duration": 21,
    "start_time": "2022-03-14T15:55:43.106Z"
   },
   {
    "duration": 399,
    "start_time": "2022-03-14T15:55:43.131Z"
   },
   {
    "duration": 379,
    "start_time": "2022-03-14T15:55:43.533Z"
   },
   {
    "duration": 19,
    "start_time": "2022-03-14T15:55:43.915Z"
   },
   {
    "duration": 12,
    "start_time": "2022-03-14T15:55:43.936Z"
   },
   {
    "duration": 33,
    "start_time": "2022-03-14T15:55:43.950Z"
   },
   {
    "duration": 720,
    "start_time": "2022-03-14T15:55:43.985Z"
   },
   {
    "duration": 27,
    "start_time": "2022-03-14T15:55:44.708Z"
   },
   {
    "duration": 7569,
    "start_time": "2022-03-14T15:55:44.738Z"
   },
   {
    "duration": 414,
    "start_time": "2022-03-14T15:55:52.310Z"
   },
   {
    "duration": 3,
    "start_time": "2022-03-14T15:55:52.724Z"
   },
   {
    "duration": 17,
    "start_time": "2022-03-14T16:02:31.731Z"
   },
   {
    "duration": 46,
    "start_time": "2022-03-14T16:03:02.664Z"
   },
   {
    "duration": 14,
    "start_time": "2022-03-14T16:03:20.967Z"
   },
   {
    "duration": 8,
    "start_time": "2022-03-14T16:03:56.179Z"
   },
   {
    "duration": 834,
    "start_time": "2022-03-14T16:03:56.191Z"
   },
   {
    "duration": 15,
    "start_time": "2022-03-14T16:03:57.027Z"
   },
   {
    "duration": 43,
    "start_time": "2022-03-14T16:03:57.045Z"
   },
   {
    "duration": 11,
    "start_time": "2022-03-14T16:03:57.091Z"
   },
   {
    "duration": 19,
    "start_time": "2022-03-14T16:03:57.105Z"
   },
   {
    "duration": 6,
    "start_time": "2022-03-14T16:03:57.126Z"
   },
   {
    "duration": 54,
    "start_time": "2022-03-14T16:03:57.136Z"
   },
   {
    "duration": 15,
    "start_time": "2022-03-14T16:03:57.193Z"
   },
   {
    "duration": 28,
    "start_time": "2022-03-14T16:03:57.210Z"
   },
   {
    "duration": 359,
    "start_time": "2022-03-14T16:03:57.240Z"
   },
   {
    "duration": 436,
    "start_time": "2022-03-14T16:03:57.602Z"
   },
   {
    "duration": 19,
    "start_time": "2022-03-14T16:03:58.040Z"
   },
   {
    "duration": 28,
    "start_time": "2022-03-14T16:03:58.062Z"
   },
   {
    "duration": 6,
    "start_time": "2022-03-14T16:03:58.092Z"
   },
   {
    "duration": 739,
    "start_time": "2022-03-14T16:03:58.099Z"
   },
   {
    "duration": 22,
    "start_time": "2022-03-14T16:03:58.840Z"
   },
   {
    "duration": 7690,
    "start_time": "2022-03-14T16:03:58.864Z"
   },
   {
    "duration": 488,
    "start_time": "2022-03-14T16:04:06.556Z"
   },
   {
    "duration": -5,
    "start_time": "2022-03-14T16:04:07.052Z"
   },
   {
    "duration": 6,
    "start_time": "2022-03-14T16:04:41.738Z"
   },
   {
    "duration": 815,
    "start_time": "2022-03-14T16:04:41.748Z"
   },
   {
    "duration": 26,
    "start_time": "2022-03-14T16:04:42.566Z"
   },
   {
    "duration": 23,
    "start_time": "2022-03-14T16:04:42.595Z"
   },
   {
    "duration": 13,
    "start_time": "2022-03-14T16:04:42.620Z"
   },
   {
    "duration": 15,
    "start_time": "2022-03-14T16:04:42.636Z"
   },
   {
    "duration": 7,
    "start_time": "2022-03-14T16:04:42.682Z"
   },
   {
    "duration": 27,
    "start_time": "2022-03-14T16:04:42.691Z"
   },
   {
    "duration": 10,
    "start_time": "2022-03-14T16:04:42.722Z"
   },
   {
    "duration": 19,
    "start_time": "2022-03-14T16:04:42.734Z"
   },
   {
    "duration": 364,
    "start_time": "2022-03-14T16:04:42.755Z"
   },
   {
    "duration": 388,
    "start_time": "2022-03-14T16:04:43.121Z"
   },
   {
    "duration": 7,
    "start_time": "2022-03-14T16:04:43.512Z"
   },
   {
    "duration": 33,
    "start_time": "2022-03-14T16:04:43.522Z"
   },
   {
    "duration": 27,
    "start_time": "2022-03-14T16:04:43.558Z"
   },
   {
    "duration": 8,
    "start_time": "2022-03-14T16:04:43.587Z"
   },
   {
    "duration": 774,
    "start_time": "2022-03-14T16:04:43.597Z"
   },
   {
    "duration": 24,
    "start_time": "2022-03-14T16:04:44.373Z"
   },
   {
    "duration": 7940,
    "start_time": "2022-03-14T16:04:44.399Z"
   },
   {
    "duration": 286,
    "start_time": "2022-03-14T16:04:52.341Z"
   },
   {
    "duration": -35,
    "start_time": "2022-03-14T16:04:52.665Z"
   },
   {
    "duration": 307,
    "start_time": "2022-03-14T16:06:14.586Z"
   },
   {
    "duration": 7,
    "start_time": "2022-03-14T16:31:47.126Z"
   },
   {
    "duration": 851,
    "start_time": "2022-03-14T16:31:47.138Z"
   },
   {
    "duration": 16,
    "start_time": "2022-03-14T16:31:47.991Z"
   },
   {
    "duration": 23,
    "start_time": "2022-03-14T16:31:48.010Z"
   },
   {
    "duration": 50,
    "start_time": "2022-03-14T16:31:48.036Z"
   },
   {
    "duration": 16,
    "start_time": "2022-03-14T16:31:48.088Z"
   },
   {
    "duration": 7,
    "start_time": "2022-03-14T16:31:48.106Z"
   },
   {
    "duration": 22,
    "start_time": "2022-03-14T16:31:48.116Z"
   },
   {
    "duration": 47,
    "start_time": "2022-03-14T16:31:48.143Z"
   },
   {
    "duration": 19,
    "start_time": "2022-03-14T16:31:48.193Z"
   },
   {
    "duration": 460,
    "start_time": "2022-03-14T16:31:48.214Z"
   },
   {
    "duration": 379,
    "start_time": "2022-03-14T16:31:48.676Z"
   },
   {
    "duration": 7,
    "start_time": "2022-03-14T16:31:49.057Z"
   },
   {
    "duration": 34,
    "start_time": "2022-03-14T16:31:49.066Z"
   },
   {
    "duration": 27,
    "start_time": "2022-03-14T16:31:49.103Z"
   },
   {
    "duration": 5,
    "start_time": "2022-03-14T16:31:49.133Z"
   },
   {
    "duration": 334,
    "start_time": "2022-03-14T16:31:49.140Z"
   },
   {
    "duration": -51,
    "start_time": "2022-03-14T16:31:49.528Z"
   },
   {
    "duration": -66,
    "start_time": "2022-03-14T16:31:49.545Z"
   },
   {
    "duration": -66,
    "start_time": "2022-03-14T16:31:49.546Z"
   },
   {
    "duration": -66,
    "start_time": "2022-03-14T16:31:49.547Z"
   },
   {
    "duration": 394,
    "start_time": "2022-03-14T16:33:45.690Z"
   },
   {
    "duration": 353,
    "start_time": "2022-03-14T16:35:11.480Z"
   },
   {
    "duration": 8,
    "start_time": "2022-03-14T16:36:41.554Z"
   },
   {
    "duration": 891,
    "start_time": "2022-03-14T16:36:41.564Z"
   },
   {
    "duration": 29,
    "start_time": "2022-03-14T16:36:42.458Z"
   },
   {
    "duration": 25,
    "start_time": "2022-03-14T16:36:42.489Z"
   },
   {
    "duration": 13,
    "start_time": "2022-03-14T16:36:42.516Z"
   },
   {
    "duration": 12,
    "start_time": "2022-03-14T16:36:42.531Z"
   },
   {
    "duration": 37,
    "start_time": "2022-03-14T16:36:42.546Z"
   },
   {
    "duration": 23,
    "start_time": "2022-03-14T16:36:42.586Z"
   },
   {
    "duration": 15,
    "start_time": "2022-03-14T16:36:42.613Z"
   },
   {
    "duration": 16,
    "start_time": "2022-03-14T16:36:42.631Z"
   },
   {
    "duration": 363,
    "start_time": "2022-03-14T16:36:42.683Z"
   },
   {
    "duration": 387,
    "start_time": "2022-03-14T16:36:43.050Z"
   },
   {
    "duration": 8,
    "start_time": "2022-03-14T16:36:43.440Z"
   },
   {
    "duration": 310,
    "start_time": "2022-03-14T16:36:43.450Z"
   },
   {
    "duration": -51,
    "start_time": "2022-03-14T16:36:43.813Z"
   },
   {
    "duration": -51,
    "start_time": "2022-03-14T16:36:43.815Z"
   },
   {
    "duration": -53,
    "start_time": "2022-03-14T16:36:43.819Z"
   },
   {
    "duration": -56,
    "start_time": "2022-03-14T16:36:43.823Z"
   },
   {
    "duration": -56,
    "start_time": "2022-03-14T16:36:43.825Z"
   },
   {
    "duration": -57,
    "start_time": "2022-03-14T16:36:43.827Z"
   },
   {
    "duration": -57,
    "start_time": "2022-03-14T16:36:43.829Z"
   },
   {
    "duration": 6,
    "start_time": "2022-03-14T16:37:04.471Z"
   },
   {
    "duration": 986,
    "start_time": "2022-03-14T16:37:04.479Z"
   },
   {
    "duration": 23,
    "start_time": "2022-03-14T16:37:05.468Z"
   },
   {
    "duration": 21,
    "start_time": "2022-03-14T16:37:05.494Z"
   },
   {
    "duration": 12,
    "start_time": "2022-03-14T16:37:05.517Z"
   },
   {
    "duration": 51,
    "start_time": "2022-03-14T16:37:05.532Z"
   },
   {
    "duration": 8,
    "start_time": "2022-03-14T16:37:05.586Z"
   },
   {
    "duration": 29,
    "start_time": "2022-03-14T16:37:05.596Z"
   },
   {
    "duration": 13,
    "start_time": "2022-03-14T16:37:05.629Z"
   },
   {
    "duration": 43,
    "start_time": "2022-03-14T16:37:05.645Z"
   },
   {
    "duration": 350,
    "start_time": "2022-03-14T16:37:05.690Z"
   },
   {
    "duration": 381,
    "start_time": "2022-03-14T16:37:06.042Z"
   },
   {
    "duration": 7,
    "start_time": "2022-03-14T16:37:06.426Z"
   },
   {
    "duration": 49,
    "start_time": "2022-03-14T16:37:06.435Z"
   },
   {
    "duration": 306,
    "start_time": "2022-03-14T16:37:06.487Z"
   },
   {
    "duration": -7,
    "start_time": "2022-03-14T16:37:06.803Z"
   },
   {
    "duration": -10,
    "start_time": "2022-03-14T16:37:06.808Z"
   },
   {
    "duration": -15,
    "start_time": "2022-03-14T16:37:06.815Z"
   },
   {
    "duration": -14,
    "start_time": "2022-03-14T16:37:06.817Z"
   },
   {
    "duration": -13,
    "start_time": "2022-03-14T16:37:06.818Z"
   },
   {
    "duration": -13,
    "start_time": "2022-03-14T16:37:06.820Z"
   },
   {
    "duration": 27,
    "start_time": "2022-03-14T16:37:45.414Z"
   },
   {
    "duration": 42,
    "start_time": "2022-03-14T16:38:43.759Z"
   },
   {
    "duration": 6,
    "start_time": "2022-03-14T16:38:58.405Z"
   },
   {
    "duration": 869,
    "start_time": "2022-03-14T16:38:58.414Z"
   },
   {
    "duration": 15,
    "start_time": "2022-03-14T16:38:59.286Z"
   },
   {
    "duration": 24,
    "start_time": "2022-03-14T16:38:59.305Z"
   },
   {
    "duration": 12,
    "start_time": "2022-03-14T16:38:59.332Z"
   },
   {
    "duration": 13,
    "start_time": "2022-03-14T16:38:59.383Z"
   },
   {
    "duration": 7,
    "start_time": "2022-03-14T16:38:59.398Z"
   },
   {
    "duration": 25,
    "start_time": "2022-03-14T16:38:59.407Z"
   },
   {
    "duration": 46,
    "start_time": "2022-03-14T16:38:59.436Z"
   },
   {
    "duration": 14,
    "start_time": "2022-03-14T16:38:59.485Z"
   },
   {
    "duration": 349,
    "start_time": "2022-03-14T16:38:59.502Z"
   },
   {
    "duration": 377,
    "start_time": "2022-03-14T16:38:59.853Z"
   },
   {
    "duration": 7,
    "start_time": "2022-03-14T16:39:00.232Z"
   },
   {
    "duration": 53,
    "start_time": "2022-03-14T16:39:00.241Z"
   },
   {
    "duration": 43,
    "start_time": "2022-03-14T16:39:00.296Z"
   },
   {
    "duration": 6,
    "start_time": "2022-03-14T16:39:00.341Z"
   },
   {
    "duration": 353,
    "start_time": "2022-03-14T16:39:00.349Z"
   },
   {
    "duration": -83,
    "start_time": "2022-03-14T16:39:00.788Z"
   },
   {
    "duration": -84,
    "start_time": "2022-03-14T16:39:00.791Z"
   },
   {
    "duration": -84,
    "start_time": "2022-03-14T16:39:00.793Z"
   },
   {
    "duration": -98,
    "start_time": "2022-03-14T16:39:00.808Z"
   },
   {
    "duration": 39,
    "start_time": "2022-03-14T16:39:23.735Z"
   },
   {
    "duration": 395,
    "start_time": "2022-03-14T16:40:10.911Z"
   },
   {
    "duration": 38,
    "start_time": "2022-03-14T16:41:56.160Z"
   },
   {
    "duration": 36,
    "start_time": "2022-03-14T16:42:05.447Z"
   },
   {
    "duration": 7,
    "start_time": "2022-03-14T16:46:15.497Z"
   },
   {
    "duration": 853,
    "start_time": "2022-03-14T16:46:15.508Z"
   },
   {
    "duration": 28,
    "start_time": "2022-03-14T16:46:16.366Z"
   },
   {
    "duration": 25,
    "start_time": "2022-03-14T16:46:16.398Z"
   },
   {
    "duration": 14,
    "start_time": "2022-03-14T16:46:16.426Z"
   },
   {
    "duration": 51,
    "start_time": "2022-03-14T16:46:16.443Z"
   },
   {
    "duration": 6,
    "start_time": "2022-03-14T16:46:16.497Z"
   },
   {
    "duration": 25,
    "start_time": "2022-03-14T16:46:16.507Z"
   },
   {
    "duration": 49,
    "start_time": "2022-03-14T16:46:16.535Z"
   },
   {
    "duration": 17,
    "start_time": "2022-03-14T16:46:16.587Z"
   },
   {
    "duration": 362,
    "start_time": "2022-03-14T16:46:16.607Z"
   },
   {
    "duration": 378,
    "start_time": "2022-03-14T16:46:16.971Z"
   },
   {
    "duration": 51,
    "start_time": "2022-03-14T16:46:17.352Z"
   },
   {
    "duration": 48,
    "start_time": "2022-03-14T16:46:17.405Z"
   },
   {
    "duration": 6,
    "start_time": "2022-03-14T16:46:17.455Z"
   },
   {
    "duration": 342,
    "start_time": "2022-03-14T16:46:17.483Z"
   },
   {
    "duration": -159,
    "start_time": "2022-03-14T16:46:17.987Z"
   },
   {
    "duration": -160,
    "start_time": "2022-03-14T16:46:17.990Z"
   },
   {
    "duration": -161,
    "start_time": "2022-03-14T16:46:17.993Z"
   },
   {
    "duration": -163,
    "start_time": "2022-03-14T16:46:17.996Z"
   },
   {
    "duration": 29,
    "start_time": "2022-03-14T16:47:11.148Z"
   },
   {
    "duration": 54,
    "start_time": "2022-03-14T16:47:19.887Z"
   },
   {
    "duration": 28,
    "start_time": "2022-03-14T16:47:38.858Z"
   },
   {
    "duration": 47,
    "start_time": "2022-03-14T16:47:45.256Z"
   },
   {
    "duration": 40,
    "start_time": "2022-03-14T16:47:48.625Z"
   },
   {
    "duration": 1141,
    "start_time": "2022-03-15T06:27:49.839Z"
   },
   {
    "duration": 698,
    "start_time": "2022-03-15T06:27:50.982Z"
   },
   {
    "duration": 11,
    "start_time": "2022-03-15T06:27:51.682Z"
   },
   {
    "duration": 15,
    "start_time": "2022-03-15T06:27:51.695Z"
   },
   {
    "duration": 9,
    "start_time": "2022-03-15T06:27:51.711Z"
   },
   {
    "duration": 46,
    "start_time": "2022-03-15T06:27:51.722Z"
   },
   {
    "duration": 6,
    "start_time": "2022-03-15T06:27:51.770Z"
   },
   {
    "duration": 23,
    "start_time": "2022-03-15T06:27:51.778Z"
   },
   {
    "duration": 8,
    "start_time": "2022-03-15T06:27:51.803Z"
   },
   {
    "duration": 11,
    "start_time": "2022-03-15T06:27:51.813Z"
   },
   {
    "duration": 278,
    "start_time": "2022-03-15T06:27:51.825Z"
   },
   {
    "duration": 261,
    "start_time": "2022-03-15T06:27:52.105Z"
   },
   {
    "duration": 31,
    "start_time": "2022-03-15T06:27:52.368Z"
   },
   {
    "duration": 38,
    "start_time": "2022-03-15T06:27:52.401Z"
   },
   {
    "duration": 3,
    "start_time": "2022-03-15T06:27:52.459Z"
   },
   {
    "duration": 310,
    "start_time": "2022-03-15T06:27:52.464Z"
   },
   {
    "duration": -140,
    "start_time": "2022-03-15T06:27:52.916Z"
   },
   {
    "duration": -142,
    "start_time": "2022-03-15T06:27:52.919Z"
   },
   {
    "duration": -144,
    "start_time": "2022-03-15T06:27:52.922Z"
   },
   {
    "duration": -145,
    "start_time": "2022-03-15T06:27:52.924Z"
   },
   {
    "duration": 4,
    "start_time": "2022-03-15T06:29:21.288Z"
   },
   {
    "duration": 749,
    "start_time": "2022-03-15T06:29:21.295Z"
   },
   {
    "duration": 17,
    "start_time": "2022-03-15T06:29:22.046Z"
   },
   {
    "duration": 15,
    "start_time": "2022-03-15T06:29:22.065Z"
   },
   {
    "duration": 8,
    "start_time": "2022-03-15T06:29:22.082Z"
   },
   {
    "duration": 12,
    "start_time": "2022-03-15T06:29:22.092Z"
   },
   {
    "duration": 5,
    "start_time": "2022-03-15T06:29:22.107Z"
   },
   {
    "duration": 56,
    "start_time": "2022-03-15T06:29:22.114Z"
   },
   {
    "duration": 8,
    "start_time": "2022-03-15T06:29:22.172Z"
   },
   {
    "duration": 9,
    "start_time": "2022-03-15T06:29:22.182Z"
   },
   {
    "duration": 277,
    "start_time": "2022-03-15T06:29:22.193Z"
   },
   {
    "duration": 270,
    "start_time": "2022-03-15T06:29:22.471Z"
   },
   {
    "duration": 95,
    "start_time": "2022-03-15T06:29:22.743Z"
   },
   {
    "duration": 45,
    "start_time": "2022-03-15T06:29:22.839Z"
   },
   {
    "duration": 4,
    "start_time": "2022-03-15T06:29:22.885Z"
   },
   {
    "duration": 209,
    "start_time": "2022-03-15T06:29:22.891Z"
   },
   {
    "duration": -126,
    "start_time": "2022-03-15T06:29:23.228Z"
   },
   {
    "duration": -129,
    "start_time": "2022-03-15T06:29:23.232Z"
   },
   {
    "duration": -140,
    "start_time": "2022-03-15T06:29:23.244Z"
   },
   {
    "duration": -147,
    "start_time": "2022-03-15T06:29:23.252Z"
   },
   {
    "duration": 208,
    "start_time": "2022-03-15T06:31:50.494Z"
   },
   {
    "duration": 4,
    "start_time": "2022-03-15T06:31:55.086Z"
   },
   {
    "duration": 691,
    "start_time": "2022-03-15T06:31:55.092Z"
   },
   {
    "duration": 11,
    "start_time": "2022-03-15T06:31:55.785Z"
   },
   {
    "duration": 15,
    "start_time": "2022-03-15T06:31:55.798Z"
   },
   {
    "duration": 9,
    "start_time": "2022-03-15T06:31:55.814Z"
   },
   {
    "duration": 35,
    "start_time": "2022-03-15T06:31:55.825Z"
   },
   {
    "duration": 4,
    "start_time": "2022-03-15T06:31:55.863Z"
   },
   {
    "duration": 27,
    "start_time": "2022-03-15T06:31:55.869Z"
   },
   {
    "duration": 7,
    "start_time": "2022-03-15T06:31:55.898Z"
   },
   {
    "duration": 10,
    "start_time": "2022-03-15T06:31:55.906Z"
   },
   {
    "duration": 269,
    "start_time": "2022-03-15T06:31:55.918Z"
   },
   {
    "duration": 256,
    "start_time": "2022-03-15T06:31:56.188Z"
   },
   {
    "duration": 34,
    "start_time": "2022-03-15T06:31:56.445Z"
   },
   {
    "duration": 33,
    "start_time": "2022-03-15T06:31:56.481Z"
   },
   {
    "duration": 4,
    "start_time": "2022-03-15T06:31:56.515Z"
   },
   {
    "duration": 236,
    "start_time": "2022-03-15T06:31:56.521Z"
   },
   {
    "duration": -243,
    "start_time": "2022-03-15T06:31:57.001Z"
   },
   {
    "duration": -244,
    "start_time": "2022-03-15T06:31:57.004Z"
   },
   {
    "duration": -245,
    "start_time": "2022-03-15T06:31:57.006Z"
   },
   {
    "duration": -247,
    "start_time": "2022-03-15T06:31:57.009Z"
   },
   {
    "duration": 20,
    "start_time": "2022-03-15T06:32:44.844Z"
   },
   {
    "duration": 4,
    "start_time": "2022-03-15T06:32:47.278Z"
   },
   {
    "duration": 686,
    "start_time": "2022-03-15T06:32:47.285Z"
   },
   {
    "duration": 10,
    "start_time": "2022-03-15T06:32:47.974Z"
   },
   {
    "duration": 15,
    "start_time": "2022-03-15T06:32:47.986Z"
   },
   {
    "duration": 9,
    "start_time": "2022-03-15T06:32:48.003Z"
   },
   {
    "duration": 45,
    "start_time": "2022-03-15T06:32:48.014Z"
   },
   {
    "duration": 5,
    "start_time": "2022-03-15T06:32:48.061Z"
   },
   {
    "duration": 30,
    "start_time": "2022-03-15T06:32:48.069Z"
   },
   {
    "duration": 7,
    "start_time": "2022-03-15T06:32:48.101Z"
   },
   {
    "duration": 12,
    "start_time": "2022-03-15T06:32:48.110Z"
   },
   {
    "duration": 273,
    "start_time": "2022-03-15T06:32:48.123Z"
   },
   {
    "duration": 273,
    "start_time": "2022-03-15T06:32:48.397Z"
   },
   {
    "duration": 21,
    "start_time": "2022-03-15T06:32:48.672Z"
   },
   {
    "duration": 12,
    "start_time": "2022-03-15T06:32:48.695Z"
   },
   {
    "duration": 4,
    "start_time": "2022-03-15T06:32:48.709Z"
   },
   {
    "duration": 529,
    "start_time": "2022-03-15T06:32:48.715Z"
   },
   {
    "duration": 1098,
    "start_time": "2022-03-15T06:32:49.246Z"
   },
   {
    "duration": -64,
    "start_time": "2022-03-15T06:32:50.410Z"
   },
   {
    "duration": -65,
    "start_time": "2022-03-15T06:32:50.413Z"
   },
   {
    "duration": -68,
    "start_time": "2022-03-15T06:32:50.417Z"
   },
   {
    "duration": 15,
    "start_time": "2022-03-15T06:37:55.026Z"
   },
   {
    "duration": 4,
    "start_time": "2022-03-15T06:39:30.326Z"
   },
   {
    "duration": 736,
    "start_time": "2022-03-15T06:39:30.332Z"
   },
   {
    "duration": 11,
    "start_time": "2022-03-15T06:39:31.071Z"
   },
   {
    "duration": 15,
    "start_time": "2022-03-15T06:39:31.084Z"
   },
   {
    "duration": 12,
    "start_time": "2022-03-15T06:39:31.101Z"
   },
   {
    "duration": 11,
    "start_time": "2022-03-15T06:39:31.115Z"
   },
   {
    "duration": 33,
    "start_time": "2022-03-15T06:39:31.128Z"
   },
   {
    "duration": 49,
    "start_time": "2022-03-15T06:39:31.163Z"
   },
   {
    "duration": 8,
    "start_time": "2022-03-15T06:39:31.214Z"
   },
   {
    "duration": 18,
    "start_time": "2022-03-15T06:39:31.224Z"
   },
   {
    "duration": 254,
    "start_time": "2022-03-15T06:39:31.244Z"
   },
   {
    "duration": 274,
    "start_time": "2022-03-15T06:39:31.500Z"
   },
   {
    "duration": 21,
    "start_time": "2022-03-15T06:39:31.776Z"
   },
   {
    "duration": 9,
    "start_time": "2022-03-15T06:39:31.799Z"
   },
   {
    "duration": 4,
    "start_time": "2022-03-15T06:39:31.810Z"
   },
   {
    "duration": 534,
    "start_time": "2022-03-15T06:39:31.816Z"
   },
   {
    "duration": 215,
    "start_time": "2022-03-15T06:39:32.352Z"
   },
   {
    "duration": -54,
    "start_time": "2022-03-15T06:39:32.622Z"
   },
   {
    "duration": -56,
    "start_time": "2022-03-15T06:39:32.625Z"
   },
   {
    "duration": -58,
    "start_time": "2022-03-15T06:39:32.628Z"
   },
   {
    "duration": 30,
    "start_time": "2022-03-15T06:39:50.114Z"
   },
   {
    "duration": 4,
    "start_time": "2022-03-15T06:39:52.977Z"
   },
   {
    "duration": 696,
    "start_time": "2022-03-15T06:39:52.983Z"
   },
   {
    "duration": 11,
    "start_time": "2022-03-15T06:39:53.682Z"
   },
   {
    "duration": 22,
    "start_time": "2022-03-15T06:39:53.695Z"
   },
   {
    "duration": 9,
    "start_time": "2022-03-15T06:39:53.720Z"
   },
   {
    "duration": 32,
    "start_time": "2022-03-15T06:39:53.730Z"
   },
   {
    "duration": 5,
    "start_time": "2022-03-15T06:39:53.763Z"
   },
   {
    "duration": 28,
    "start_time": "2022-03-15T06:39:53.771Z"
   },
   {
    "duration": 6,
    "start_time": "2022-03-15T06:39:53.801Z"
   },
   {
    "duration": 20,
    "start_time": "2022-03-15T06:39:53.809Z"
   },
   {
    "duration": 250,
    "start_time": "2022-03-15T06:39:53.830Z"
   },
   {
    "duration": 331,
    "start_time": "2022-03-15T06:39:54.081Z"
   },
   {
    "duration": 126,
    "start_time": "2022-03-15T06:39:54.413Z"
   },
   {
    "duration": 46,
    "start_time": "2022-03-15T06:39:54.540Z"
   },
   {
    "duration": 3,
    "start_time": "2022-03-15T06:39:54.588Z"
   },
   {
    "duration": 238,
    "start_time": "2022-03-15T06:39:54.593Z"
   },
   {
    "duration": -93,
    "start_time": "2022-03-15T06:39:54.925Z"
   },
   {
    "duration": -95,
    "start_time": "2022-03-15T06:39:54.929Z"
   },
   {
    "duration": -96,
    "start_time": "2022-03-15T06:39:54.932Z"
   },
   {
    "duration": -116,
    "start_time": "2022-03-15T06:39:54.953Z"
   },
   {
    "duration": 117,
    "start_time": "2022-03-15T06:40:21.752Z"
   },
   {
    "duration": 4,
    "start_time": "2022-03-15T06:41:16.073Z"
   },
   {
    "duration": 643,
    "start_time": "2022-03-15T06:41:16.079Z"
   },
   {
    "duration": 10,
    "start_time": "2022-03-15T06:41:16.724Z"
   },
   {
    "duration": 25,
    "start_time": "2022-03-15T06:41:16.736Z"
   },
   {
    "duration": 8,
    "start_time": "2022-03-15T06:41:16.763Z"
   },
   {
    "duration": 10,
    "start_time": "2022-03-15T06:41:16.772Z"
   },
   {
    "duration": 4,
    "start_time": "2022-03-15T06:41:16.784Z"
   },
   {
    "duration": 27,
    "start_time": "2022-03-15T06:41:16.791Z"
   },
   {
    "duration": 7,
    "start_time": "2022-03-15T06:41:16.820Z"
   },
   {
    "duration": 10,
    "start_time": "2022-03-15T06:41:16.860Z"
   },
   {
    "duration": 246,
    "start_time": "2022-03-15T06:41:16.871Z"
   },
   {
    "duration": 264,
    "start_time": "2022-03-15T06:41:17.118Z"
   },
   {
    "duration": 223,
    "start_time": "2022-03-15T06:41:17.384Z"
   },
   {
    "duration": -144,
    "start_time": "2022-03-15T06:41:17.753Z"
   },
   {
    "duration": -147,
    "start_time": "2022-03-15T06:41:17.756Z"
   },
   {
    "duration": -150,
    "start_time": "2022-03-15T06:41:17.760Z"
   },
   {
    "duration": -152,
    "start_time": "2022-03-15T06:41:17.763Z"
   },
   {
    "duration": -154,
    "start_time": "2022-03-15T06:41:17.766Z"
   },
   {
    "duration": -155,
    "start_time": "2022-03-15T06:41:17.768Z"
   },
   {
    "duration": -157,
    "start_time": "2022-03-15T06:41:17.771Z"
   },
   {
    "duration": 120,
    "start_time": "2022-03-15T06:43:28.980Z"
   },
   {
    "duration": 5,
    "start_time": "2022-03-15T06:51:50.124Z"
   },
   {
    "duration": 673,
    "start_time": "2022-03-15T06:51:50.132Z"
   },
   {
    "duration": 11,
    "start_time": "2022-03-15T06:51:50.807Z"
   },
   {
    "duration": 15,
    "start_time": "2022-03-15T06:51:50.820Z"
   },
   {
    "duration": 29,
    "start_time": "2022-03-15T06:51:50.837Z"
   },
   {
    "duration": 10,
    "start_time": "2022-03-15T06:51:50.868Z"
   },
   {
    "duration": 5,
    "start_time": "2022-03-15T06:51:50.880Z"
   },
   {
    "duration": 27,
    "start_time": "2022-03-15T06:51:50.888Z"
   },
   {
    "duration": 7,
    "start_time": "2022-03-15T06:51:50.918Z"
   },
   {
    "duration": 12,
    "start_time": "2022-03-15T06:51:50.960Z"
   },
   {
    "duration": 260,
    "start_time": "2022-03-15T06:51:50.974Z"
   },
   {
    "duration": 264,
    "start_time": "2022-03-15T06:51:51.236Z"
   },
   {
    "duration": 77,
    "start_time": "2022-03-15T06:51:51.503Z"
   },
   {
    "duration": 30,
    "start_time": "2022-03-15T06:51:51.581Z"
   },
   {
    "duration": 4,
    "start_time": "2022-03-15T06:51:51.612Z"
   },
   {
    "duration": 202,
    "start_time": "2022-03-15T06:51:51.618Z"
   },
   {
    "duration": -69,
    "start_time": "2022-03-15T06:51:51.891Z"
   },
   {
    "duration": -75,
    "start_time": "2022-03-15T06:51:51.898Z"
   },
   {
    "duration": -79,
    "start_time": "2022-03-15T06:51:51.903Z"
   },
   {
    "duration": -85,
    "start_time": "2022-03-15T06:51:51.910Z"
   },
   {
    "duration": 4,
    "start_time": "2022-03-15T06:52:44.254Z"
   },
   {
    "duration": 713,
    "start_time": "2022-03-15T06:52:44.260Z"
   },
   {
    "duration": 11,
    "start_time": "2022-03-15T06:52:44.975Z"
   },
   {
    "duration": 16,
    "start_time": "2022-03-15T06:52:44.988Z"
   },
   {
    "duration": 10,
    "start_time": "2022-03-15T06:52:45.007Z"
   },
   {
    "duration": 59,
    "start_time": "2022-03-15T06:52:45.019Z"
   },
   {
    "duration": 6,
    "start_time": "2022-03-15T06:52:45.081Z"
   },
   {
    "duration": 39,
    "start_time": "2022-03-15T06:52:45.090Z"
   },
   {
    "duration": 9,
    "start_time": "2022-03-15T06:52:45.131Z"
   },
   {
    "duration": 23,
    "start_time": "2022-03-15T06:52:45.142Z"
   },
   {
    "duration": 263,
    "start_time": "2022-03-15T06:52:45.167Z"
   },
   {
    "duration": 282,
    "start_time": "2022-03-15T06:52:45.432Z"
   },
   {
    "duration": 194,
    "start_time": "2022-03-15T06:52:45.716Z"
   },
   {
    "duration": -9,
    "start_time": "2022-03-15T06:52:45.922Z"
   },
   {
    "duration": -48,
    "start_time": "2022-03-15T06:52:45.962Z"
   },
   {
    "duration": -50,
    "start_time": "2022-03-15T06:52:45.965Z"
   },
   {
    "duration": -53,
    "start_time": "2022-03-15T06:52:45.970Z"
   },
   {
    "duration": -69,
    "start_time": "2022-03-15T06:52:45.987Z"
   },
   {
    "duration": -70,
    "start_time": "2022-03-15T06:52:45.990Z"
   },
   {
    "duration": -71,
    "start_time": "2022-03-15T06:52:45.992Z"
   },
   {
    "duration": 3461,
    "start_time": "2022-03-15T06:53:17.688Z"
   },
   {
    "duration": 239,
    "start_time": "2022-03-15T06:56:10.700Z"
   },
   {
    "duration": 65,
    "start_time": "2022-03-15T06:57:32.946Z"
   },
   {
    "duration": 69,
    "start_time": "2022-03-15T06:57:46.024Z"
   },
   {
    "duration": 177,
    "start_time": "2022-03-15T06:57:54.400Z"
   },
   {
    "duration": 183,
    "start_time": "2022-03-15T06:58:24.143Z"
   },
   {
    "duration": 216,
    "start_time": "2022-03-15T06:59:37.486Z"
   },
   {
    "duration": 218,
    "start_time": "2022-03-15T07:06:17.646Z"
   },
   {
    "duration": 1905,
    "start_time": "2022-03-15T07:06:52.002Z"
   },
   {
    "duration": 207,
    "start_time": "2022-03-15T07:07:07.786Z"
   },
   {
    "duration": 4,
    "start_time": "2022-03-15T07:07:10.523Z"
   },
   {
    "duration": 836,
    "start_time": "2022-03-15T07:07:10.529Z"
   },
   {
    "duration": 10,
    "start_time": "2022-03-15T07:07:11.367Z"
   },
   {
    "duration": 17,
    "start_time": "2022-03-15T07:07:11.380Z"
   },
   {
    "duration": 8,
    "start_time": "2022-03-15T07:07:11.399Z"
   },
   {
    "duration": 13,
    "start_time": "2022-03-15T07:07:11.409Z"
   },
   {
    "duration": 36,
    "start_time": "2022-03-15T07:07:11.423Z"
   },
   {
    "duration": 215,
    "start_time": "2022-03-15T07:07:11.462Z"
   },
   {
    "duration": -3,
    "start_time": "2022-03-15T07:07:11.682Z"
   },
   {
    "duration": -4,
    "start_time": "2022-03-15T07:07:11.685Z"
   },
   {
    "duration": -12,
    "start_time": "2022-03-15T07:07:11.694Z"
   },
   {
    "duration": -41,
    "start_time": "2022-03-15T07:07:11.724Z"
   },
   {
    "duration": -43,
    "start_time": "2022-03-15T07:07:11.727Z"
   },
   {
    "duration": -45,
    "start_time": "2022-03-15T07:07:11.730Z"
   },
   {
    "duration": -48,
    "start_time": "2022-03-15T07:07:11.734Z"
   },
   {
    "duration": -53,
    "start_time": "2022-03-15T07:07:11.741Z"
   },
   {
    "duration": -65,
    "start_time": "2022-03-15T07:07:11.754Z"
   },
   {
    "duration": -75,
    "start_time": "2022-03-15T07:07:11.765Z"
   },
   {
    "duration": -77,
    "start_time": "2022-03-15T07:07:11.768Z"
   },
   {
    "duration": -78,
    "start_time": "2022-03-15T07:07:11.770Z"
   },
   {
    "duration": 4,
    "start_time": "2022-03-15T07:07:24.091Z"
   },
   {
    "duration": 787,
    "start_time": "2022-03-15T07:07:24.098Z"
   },
   {
    "duration": 11,
    "start_time": "2022-03-15T07:07:24.887Z"
   },
   {
    "duration": 19,
    "start_time": "2022-03-15T07:07:24.900Z"
   },
   {
    "duration": 9,
    "start_time": "2022-03-15T07:07:24.921Z"
   },
   {
    "duration": 32,
    "start_time": "2022-03-15T07:07:24.931Z"
   },
   {
    "duration": 5,
    "start_time": "2022-03-15T07:07:24.965Z"
   },
   {
    "duration": 26,
    "start_time": "2022-03-15T07:07:24.973Z"
   },
   {
    "duration": 8,
    "start_time": "2022-03-15T07:07:25.002Z"
   },
   {
    "duration": 53,
    "start_time": "2022-03-15T07:07:25.012Z"
   },
   {
    "duration": 353,
    "start_time": "2022-03-15T07:07:25.067Z"
   },
   {
    "duration": 278,
    "start_time": "2022-03-15T07:07:25.422Z"
   },
   {
    "duration": 207,
    "start_time": "2022-03-15T07:07:25.702Z"
   },
   {
    "duration": -182,
    "start_time": "2022-03-15T07:07:26.093Z"
   },
   {
    "duration": -193,
    "start_time": "2022-03-15T07:07:26.105Z"
   },
   {
    "duration": -196,
    "start_time": "2022-03-15T07:07:26.109Z"
   },
   {
    "duration": -198,
    "start_time": "2022-03-15T07:07:26.112Z"
   },
   {
    "duration": -201,
    "start_time": "2022-03-15T07:07:26.116Z"
   },
   {
    "duration": -203,
    "start_time": "2022-03-15T07:07:26.119Z"
   },
   {
    "duration": -206,
    "start_time": "2022-03-15T07:07:26.123Z"
   },
   {
    "duration": 185,
    "start_time": "2022-03-15T07:07:42.114Z"
   },
   {
    "duration": 4,
    "start_time": "2022-03-15T07:08:01.954Z"
   },
   {
    "duration": 650,
    "start_time": "2022-03-15T07:08:01.960Z"
   },
   {
    "duration": 10,
    "start_time": "2022-03-15T07:08:02.612Z"
   },
   {
    "duration": 15,
    "start_time": "2022-03-15T07:08:02.624Z"
   },
   {
    "duration": 26,
    "start_time": "2022-03-15T07:08:02.640Z"
   },
   {
    "duration": 11,
    "start_time": "2022-03-15T07:08:02.667Z"
   },
   {
    "duration": 5,
    "start_time": "2022-03-15T07:08:02.680Z"
   },
   {
    "duration": 25,
    "start_time": "2022-03-15T07:08:02.687Z"
   },
   {
    "duration": 6,
    "start_time": "2022-03-15T07:08:02.714Z"
   },
   {
    "duration": 42,
    "start_time": "2022-03-15T07:08:02.722Z"
   },
   {
    "duration": 244,
    "start_time": "2022-03-15T07:08:02.765Z"
   },
   {
    "duration": 264,
    "start_time": "2022-03-15T07:08:03.011Z"
   },
   {
    "duration": 214,
    "start_time": "2022-03-15T07:08:03.277Z"
   },
   {
    "duration": -128,
    "start_time": "2022-03-15T07:08:03.620Z"
   },
   {
    "duration": -131,
    "start_time": "2022-03-15T07:08:03.625Z"
   },
   {
    "duration": -134,
    "start_time": "2022-03-15T07:08:03.628Z"
   },
   {
    "duration": -136,
    "start_time": "2022-03-15T07:08:03.631Z"
   },
   {
    "duration": -137,
    "start_time": "2022-03-15T07:08:03.633Z"
   },
   {
    "duration": -139,
    "start_time": "2022-03-15T07:08:03.636Z"
   },
   {
    "duration": -141,
    "start_time": "2022-03-15T07:08:03.639Z"
   },
   {
    "duration": 334,
    "start_time": "2022-03-15T09:46:00.106Z"
   },
   {
    "duration": 1069,
    "start_time": "2022-03-15T09:46:03.289Z"
   },
   {
    "duration": 701,
    "start_time": "2022-03-15T09:46:04.359Z"
   },
   {
    "duration": 9,
    "start_time": "2022-03-15T09:46:05.062Z"
   },
   {
    "duration": 16,
    "start_time": "2022-03-15T09:46:05.073Z"
   },
   {
    "duration": 7,
    "start_time": "2022-03-15T09:46:05.090Z"
   },
   {
    "duration": 10,
    "start_time": "2022-03-15T09:46:05.099Z"
   },
   {
    "duration": 5,
    "start_time": "2022-03-15T09:46:05.110Z"
   },
   {
    "duration": 17,
    "start_time": "2022-03-15T09:46:05.117Z"
   },
   {
    "duration": 9,
    "start_time": "2022-03-15T09:46:05.136Z"
   },
   {
    "duration": 40,
    "start_time": "2022-03-15T09:46:05.147Z"
   },
   {
    "duration": 226,
    "start_time": "2022-03-15T09:46:05.189Z"
   },
   {
    "duration": 217,
    "start_time": "2022-03-15T09:46:05.417Z"
   },
   {
    "duration": 415,
    "start_time": "2022-03-15T09:46:05.635Z"
   },
   {
    "duration": -256,
    "start_time": "2022-03-15T09:46:06.307Z"
   },
   {
    "duration": -262,
    "start_time": "2022-03-15T09:46:06.314Z"
   },
   {
    "duration": -264,
    "start_time": "2022-03-15T09:46:06.317Z"
   },
   {
    "duration": -267,
    "start_time": "2022-03-15T09:46:06.320Z"
   },
   {
    "duration": -269,
    "start_time": "2022-03-15T09:46:06.323Z"
   },
   {
    "duration": -283,
    "start_time": "2022-03-15T09:46:06.338Z"
   },
   {
    "duration": -285,
    "start_time": "2022-03-15T09:46:06.341Z"
   },
   {
    "duration": 3800,
    "start_time": "2022-03-15T09:48:46.263Z"
   },
   {
    "duration": 3640,
    "start_time": "2022-03-15T09:49:29.471Z"
   },
   {
    "duration": 3767,
    "start_time": "2022-03-15T09:49:42.707Z"
   },
   {
    "duration": 3,
    "start_time": "2022-03-15T09:49:57.020Z"
   },
   {
    "duration": 691,
    "start_time": "2022-03-15T09:49:57.025Z"
   },
   {
    "duration": 10,
    "start_time": "2022-03-15T09:49:57.719Z"
   },
   {
    "duration": 14,
    "start_time": "2022-03-15T09:49:57.731Z"
   },
   {
    "duration": 35,
    "start_time": "2022-03-15T09:49:57.746Z"
   },
   {
    "duration": 13,
    "start_time": "2022-03-15T09:49:57.783Z"
   },
   {
    "duration": 4,
    "start_time": "2022-03-15T09:49:57.798Z"
   },
   {
    "duration": 15,
    "start_time": "2022-03-15T09:49:57.803Z"
   },
   {
    "duration": 7,
    "start_time": "2022-03-15T09:49:57.819Z"
   },
   {
    "duration": 11,
    "start_time": "2022-03-15T09:49:57.827Z"
   },
   {
    "duration": 218,
    "start_time": "2022-03-15T09:49:57.840Z"
   },
   {
    "duration": 214,
    "start_time": "2022-03-15T09:49:58.060Z"
   },
   {
    "duration": 4066,
    "start_time": "2022-03-15T09:49:58.275Z"
   },
   {
    "duration": -129,
    "start_time": "2022-03-15T09:50:02.471Z"
   },
   {
    "duration": -131,
    "start_time": "2022-03-15T09:50:02.474Z"
   },
   {
    "duration": -135,
    "start_time": "2022-03-15T09:50:02.479Z"
   },
   {
    "duration": -137,
    "start_time": "2022-03-15T09:50:02.482Z"
   },
   {
    "duration": -138,
    "start_time": "2022-03-15T09:50:02.484Z"
   },
   {
    "duration": -140,
    "start_time": "2022-03-15T09:50:02.487Z"
   },
   {
    "duration": -142,
    "start_time": "2022-03-15T09:50:02.489Z"
   },
   {
    "duration": 4,
    "start_time": "2022-03-15T09:52:23.580Z"
   },
   {
    "duration": 661,
    "start_time": "2022-03-15T09:52:23.639Z"
   },
   {
    "duration": 79,
    "start_time": "2022-03-15T09:52:24.302Z"
   },
   {
    "duration": 14,
    "start_time": "2022-03-15T09:52:24.383Z"
   },
   {
    "duration": 7,
    "start_time": "2022-03-15T09:52:24.399Z"
   },
   {
    "duration": 16,
    "start_time": "2022-03-15T09:52:24.407Z"
   },
   {
    "duration": 7,
    "start_time": "2022-03-15T09:52:24.425Z"
   },
   {
    "duration": 37,
    "start_time": "2022-03-15T09:52:24.433Z"
   },
   {
    "duration": 6,
    "start_time": "2022-03-15T09:52:24.481Z"
   },
   {
    "duration": 9,
    "start_time": "2022-03-15T09:52:24.489Z"
   },
   {
    "duration": 305,
    "start_time": "2022-03-15T09:52:24.499Z"
   },
   {
    "duration": 214,
    "start_time": "2022-03-15T09:52:24.805Z"
   },
   {
    "duration": 7557,
    "start_time": "2022-03-15T09:52:25.021Z"
   },
   {
    "duration": -140,
    "start_time": "2022-03-15T09:52:32.720Z"
   },
   {
    "duration": -144,
    "start_time": "2022-03-15T09:52:32.725Z"
   },
   {
    "duration": -154,
    "start_time": "2022-03-15T09:52:32.735Z"
   },
   {
    "duration": -156,
    "start_time": "2022-03-15T09:52:32.738Z"
   },
   {
    "duration": -163,
    "start_time": "2022-03-15T09:52:32.746Z"
   },
   {
    "duration": -166,
    "start_time": "2022-03-15T09:52:32.750Z"
   },
   {
    "duration": -171,
    "start_time": "2022-03-15T09:52:32.756Z"
   },
   {
    "duration": 10,
    "start_time": "2022-03-15T09:54:13.223Z"
   },
   {
    "duration": 3954,
    "start_time": "2022-03-15T09:55:03.317Z"
   },
   {
    "duration": 3935,
    "start_time": "2022-03-15T09:55:18.375Z"
   },
   {
    "duration": 3,
    "start_time": "2022-03-15T09:55:34.026Z"
   },
   {
    "duration": 708,
    "start_time": "2022-03-15T09:55:34.031Z"
   },
   {
    "duration": 9,
    "start_time": "2022-03-15T09:55:34.741Z"
   },
   {
    "duration": 30,
    "start_time": "2022-03-15T09:55:34.751Z"
   },
   {
    "duration": 9,
    "start_time": "2022-03-15T09:55:34.782Z"
   },
   {
    "duration": 11,
    "start_time": "2022-03-15T09:55:34.793Z"
   },
   {
    "duration": 4,
    "start_time": "2022-03-15T09:55:34.807Z"
   },
   {
    "duration": 14,
    "start_time": "2022-03-15T09:55:34.813Z"
   },
   {
    "duration": 5,
    "start_time": "2022-03-15T09:55:34.829Z"
   },
   {
    "duration": 44,
    "start_time": "2022-03-15T09:55:34.836Z"
   },
   {
    "duration": 191,
    "start_time": "2022-03-15T09:55:34.882Z"
   },
   {
    "duration": 209,
    "start_time": "2022-03-15T09:55:35.074Z"
   },
   {
    "duration": 273,
    "start_time": "2022-03-15T09:55:35.285Z"
   },
   {
    "duration": -143,
    "start_time": "2022-03-15T09:55:35.703Z"
   },
   {
    "duration": -144,
    "start_time": "2022-03-15T09:55:35.705Z"
   },
   {
    "duration": -145,
    "start_time": "2022-03-15T09:55:35.707Z"
   },
   {
    "duration": -148,
    "start_time": "2022-03-15T09:55:35.711Z"
   },
   {
    "duration": -150,
    "start_time": "2022-03-15T09:55:35.713Z"
   },
   {
    "duration": -152,
    "start_time": "2022-03-15T09:55:35.716Z"
   },
   {
    "duration": -153,
    "start_time": "2022-03-15T09:55:35.718Z"
   },
   {
    "duration": 4,
    "start_time": "2022-03-15T09:55:45.274Z"
   },
   {
    "duration": 707,
    "start_time": "2022-03-15T09:55:45.280Z"
   },
   {
    "duration": 10,
    "start_time": "2022-03-15T09:55:45.989Z"
   },
   {
    "duration": 14,
    "start_time": "2022-03-15T09:55:46.001Z"
   },
   {
    "duration": 7,
    "start_time": "2022-03-15T09:55:46.017Z"
   },
   {
    "duration": 11,
    "start_time": "2022-03-15T09:55:46.026Z"
   },
   {
    "duration": 4,
    "start_time": "2022-03-15T09:55:46.038Z"
   },
   {
    "duration": 51,
    "start_time": "2022-03-15T09:55:46.044Z"
   },
   {
    "duration": 8,
    "start_time": "2022-03-15T09:55:46.097Z"
   },
   {
    "duration": 10,
    "start_time": "2022-03-15T09:55:46.106Z"
   },
   {
    "duration": 211,
    "start_time": "2022-03-15T09:55:46.118Z"
   },
   {
    "duration": 210,
    "start_time": "2022-03-15T09:55:46.330Z"
   },
   {
    "duration": 2,
    "start_time": "2022-03-15T09:55:46.542Z"
   },
   {
    "duration": 40,
    "start_time": "2022-03-15T09:55:46.546Z"
   },
   {
    "duration": 5,
    "start_time": "2022-03-15T09:55:46.587Z"
   },
   {
    "duration": 328,
    "start_time": "2022-03-15T09:55:46.594Z"
   },
   {
    "duration": -209,
    "start_time": "2022-03-15T09:55:47.132Z"
   },
   {
    "duration": -214,
    "start_time": "2022-03-15T09:55:47.138Z"
   },
   {
    "duration": -215,
    "start_time": "2022-03-15T09:55:47.140Z"
   },
   {
    "duration": -217,
    "start_time": "2022-03-15T09:55:47.143Z"
   },
   {
    "duration": 4,
    "start_time": "2022-03-15T09:57:25.341Z"
   },
   {
    "duration": 661,
    "start_time": "2022-03-15T09:57:25.347Z"
   },
   {
    "duration": 9,
    "start_time": "2022-03-15T09:57:26.010Z"
   },
   {
    "duration": 14,
    "start_time": "2022-03-15T09:57:26.020Z"
   },
   {
    "duration": 8,
    "start_time": "2022-03-15T09:57:26.035Z"
   },
   {
    "duration": 39,
    "start_time": "2022-03-15T09:57:26.044Z"
   },
   {
    "duration": 4,
    "start_time": "2022-03-15T09:57:26.085Z"
   },
   {
    "duration": 21,
    "start_time": "2022-03-15T09:57:26.091Z"
   },
   {
    "duration": 6,
    "start_time": "2022-03-15T09:57:26.114Z"
   },
   {
    "duration": 11,
    "start_time": "2022-03-15T09:57:26.121Z"
   },
   {
    "duration": 214,
    "start_time": "2022-03-15T09:57:26.133Z"
   },
   {
    "duration": 212,
    "start_time": "2022-03-15T09:57:26.349Z"
   },
   {
    "duration": 2,
    "start_time": "2022-03-15T09:57:26.562Z"
   },
   {
    "duration": 20,
    "start_time": "2022-03-15T09:57:26.565Z"
   },
   {
    "duration": 5,
    "start_time": "2022-03-15T09:57:26.586Z"
   },
   {
    "duration": 339,
    "start_time": "2022-03-15T09:57:26.593Z"
   },
   {
    "duration": -214,
    "start_time": "2022-03-15T09:57:27.148Z"
   },
   {
    "duration": -216,
    "start_time": "2022-03-15T09:57:27.151Z"
   },
   {
    "duration": -219,
    "start_time": "2022-03-15T09:57:27.155Z"
   },
   {
    "duration": -220,
    "start_time": "2022-03-15T09:57:27.157Z"
   },
   {
    "duration": 345,
    "start_time": "2022-03-15T09:59:22.827Z"
   },
   {
    "duration": 4,
    "start_time": "2022-03-15T09:59:26.212Z"
   },
   {
    "duration": 663,
    "start_time": "2022-03-15T09:59:26.217Z"
   },
   {
    "duration": 10,
    "start_time": "2022-03-15T09:59:26.882Z"
   },
   {
    "duration": 15,
    "start_time": "2022-03-15T09:59:26.894Z"
   },
   {
    "duration": 8,
    "start_time": "2022-03-15T09:59:26.911Z"
   },
   {
    "duration": 12,
    "start_time": "2022-03-15T09:59:26.921Z"
   },
   {
    "duration": 5,
    "start_time": "2022-03-15T09:59:26.934Z"
   },
   {
    "duration": 54,
    "start_time": "2022-03-15T09:59:26.942Z"
   },
   {
    "duration": 7,
    "start_time": "2022-03-15T09:59:26.998Z"
   },
   {
    "duration": 13,
    "start_time": "2022-03-15T09:59:27.006Z"
   },
   {
    "duration": 207,
    "start_time": "2022-03-15T09:59:27.020Z"
   },
   {
    "duration": 210,
    "start_time": "2022-03-15T09:59:27.229Z"
   },
   {
    "duration": 2,
    "start_time": "2022-03-15T09:59:27.441Z"
   },
   {
    "duration": 38,
    "start_time": "2022-03-15T09:59:27.445Z"
   },
   {
    "duration": 3,
    "start_time": "2022-03-15T09:59:27.485Z"
   },
   {
    "duration": 325,
    "start_time": "2022-03-15T09:59:27.489Z"
   },
   {
    "duration": -304,
    "start_time": "2022-03-15T09:59:28.120Z"
   },
   {
    "duration": -306,
    "start_time": "2022-03-15T09:59:28.124Z"
   },
   {
    "duration": -308,
    "start_time": "2022-03-15T09:59:28.127Z"
   },
   {
    "duration": -308,
    "start_time": "2022-03-15T09:59:28.129Z"
   },
   {
    "duration": 4,
    "start_time": "2022-03-15T09:59:46.807Z"
   },
   {
    "duration": 684,
    "start_time": "2022-03-15T09:59:46.813Z"
   },
   {
    "duration": 10,
    "start_time": "2022-03-15T09:59:47.499Z"
   },
   {
    "duration": 13,
    "start_time": "2022-03-15T09:59:47.510Z"
   },
   {
    "duration": 6,
    "start_time": "2022-03-15T09:59:47.525Z"
   },
   {
    "duration": 8,
    "start_time": "2022-03-15T09:59:47.533Z"
   },
   {
    "duration": 4,
    "start_time": "2022-03-15T09:59:47.543Z"
   },
   {
    "duration": 48,
    "start_time": "2022-03-15T09:59:47.549Z"
   },
   {
    "duration": 7,
    "start_time": "2022-03-15T09:59:47.598Z"
   },
   {
    "duration": 15,
    "start_time": "2022-03-15T09:59:47.607Z"
   },
   {
    "duration": 213,
    "start_time": "2022-03-15T09:59:47.624Z"
   },
   {
    "duration": 287,
    "start_time": "2022-03-15T09:59:47.839Z"
   },
   {
    "duration": 2,
    "start_time": "2022-03-15T09:59:48.128Z"
   },
   {
    "duration": 37,
    "start_time": "2022-03-15T09:59:48.132Z"
   },
   {
    "duration": 12,
    "start_time": "2022-03-15T09:59:48.170Z"
   },
   {
    "duration": 366,
    "start_time": "2022-03-15T09:59:48.183Z"
   },
   {
    "duration": -216,
    "start_time": "2022-03-15T09:59:48.767Z"
   },
   {
    "duration": -219,
    "start_time": "2022-03-15T09:59:48.771Z"
   },
   {
    "duration": -231,
    "start_time": "2022-03-15T09:59:48.784Z"
   },
   {
    "duration": -234,
    "start_time": "2022-03-15T09:59:48.788Z"
   },
   {
    "duration": 4,
    "start_time": "2022-03-15T10:10:07.133Z"
   },
   {
    "duration": 680,
    "start_time": "2022-03-15T10:10:07.141Z"
   },
   {
    "duration": 9,
    "start_time": "2022-03-15T10:10:07.823Z"
   },
   {
    "duration": 22,
    "start_time": "2022-03-15T10:10:07.834Z"
   },
   {
    "duration": 8,
    "start_time": "2022-03-15T10:10:07.858Z"
   },
   {
    "duration": 23,
    "start_time": "2022-03-15T10:10:07.867Z"
   },
   {
    "duration": 16,
    "start_time": "2022-03-15T10:10:07.892Z"
   },
   {
    "duration": 24,
    "start_time": "2022-03-15T10:10:07.909Z"
   },
   {
    "duration": 16,
    "start_time": "2022-03-15T10:10:07.935Z"
   },
   {
    "duration": 24,
    "start_time": "2022-03-15T10:10:07.953Z"
   },
   {
    "duration": 224,
    "start_time": "2022-03-15T10:10:07.978Z"
   },
   {
    "duration": 220,
    "start_time": "2022-03-15T10:10:08.204Z"
   },
   {
    "duration": 10,
    "start_time": "2022-03-15T10:10:08.426Z"
   },
   {
    "duration": 17,
    "start_time": "2022-03-15T10:10:08.437Z"
   },
   {
    "duration": 7,
    "start_time": "2022-03-15T10:10:08.456Z"
   },
   {
    "duration": 447,
    "start_time": "2022-03-15T10:10:08.464Z"
   },
   {
    "duration": 16,
    "start_time": "2022-03-15T10:10:08.913Z"
   },
   {
    "duration": 4464,
    "start_time": "2022-03-15T10:10:08.930Z"
   },
   {
    "duration": 353,
    "start_time": "2022-03-15T10:10:13.395Z"
   },
   {
    "duration": -158,
    "start_time": "2022-03-15T10:10:13.908Z"
   },
   {
    "duration": 13,
    "start_time": "2022-03-15T10:10:37.287Z"
   },
   {
    "duration": 16,
    "start_time": "2022-03-15T10:10:48.602Z"
   },
   {
    "duration": 12,
    "start_time": "2022-03-15T10:13:29.913Z"
   },
   {
    "duration": 4,
    "start_time": "2022-03-15T10:13:32.613Z"
   },
   {
    "duration": 679,
    "start_time": "2022-03-15T10:13:32.619Z"
   },
   {
    "duration": 9,
    "start_time": "2022-03-15T10:13:33.300Z"
   },
   {
    "duration": 13,
    "start_time": "2022-03-15T10:13:33.311Z"
   },
   {
    "duration": 7,
    "start_time": "2022-03-15T10:13:33.326Z"
   },
   {
    "duration": 10,
    "start_time": "2022-03-15T10:13:33.334Z"
   },
   {
    "duration": 4,
    "start_time": "2022-03-15T10:13:33.345Z"
   },
   {
    "duration": 47,
    "start_time": "2022-03-15T10:13:33.351Z"
   },
   {
    "duration": 7,
    "start_time": "2022-03-15T10:13:33.400Z"
   },
   {
    "duration": 20,
    "start_time": "2022-03-15T10:13:33.408Z"
   },
   {
    "duration": 203,
    "start_time": "2022-03-15T10:13:33.429Z"
   },
   {
    "duration": 218,
    "start_time": "2022-03-15T10:13:33.633Z"
   },
   {
    "duration": 29,
    "start_time": "2022-03-15T10:13:33.852Z"
   },
   {
    "duration": 22,
    "start_time": "2022-03-15T10:13:33.883Z"
   },
   {
    "duration": 3,
    "start_time": "2022-03-15T10:13:33.907Z"
   },
   {
    "duration": 326,
    "start_time": "2022-03-15T10:13:33.911Z"
   },
   {
    "duration": -188,
    "start_time": "2022-03-15T10:13:34.427Z"
   },
   {
    "duration": -193,
    "start_time": "2022-03-15T10:13:34.433Z"
   },
   {
    "duration": -206,
    "start_time": "2022-03-15T10:13:34.447Z"
   },
   {
    "duration": -209,
    "start_time": "2022-03-15T10:13:34.451Z"
   },
   {
    "duration": 349,
    "start_time": "2022-03-15T10:14:23.028Z"
   },
   {
    "duration": 4,
    "start_time": "2022-03-15T10:17:38.278Z"
   },
   {
    "duration": 4,
    "start_time": "2022-03-15T10:25:03.198Z"
   },
   {
    "duration": 679,
    "start_time": "2022-03-15T10:25:03.204Z"
   },
   {
    "duration": 11,
    "start_time": "2022-03-15T10:25:03.885Z"
   },
   {
    "duration": 13,
    "start_time": "2022-03-15T10:25:03.898Z"
   },
   {
    "duration": 8,
    "start_time": "2022-03-15T10:25:03.912Z"
   },
   {
    "duration": 11,
    "start_time": "2022-03-15T10:25:03.922Z"
   },
   {
    "duration": 4,
    "start_time": "2022-03-15T10:25:03.934Z"
   },
   {
    "duration": 55,
    "start_time": "2022-03-15T10:25:03.939Z"
   },
   {
    "duration": 6,
    "start_time": "2022-03-15T10:25:03.997Z"
   },
   {
    "duration": 13,
    "start_time": "2022-03-15T10:25:04.004Z"
   },
   {
    "duration": 209,
    "start_time": "2022-03-15T10:25:04.018Z"
   },
   {
    "duration": 219,
    "start_time": "2022-03-15T10:25:04.229Z"
   },
   {
    "duration": 19,
    "start_time": "2022-03-15T10:25:04.450Z"
   },
   {
    "duration": 7,
    "start_time": "2022-03-15T10:25:04.481Z"
   },
   {
    "duration": 7,
    "start_time": "2022-03-15T10:25:04.490Z"
   },
   {
    "duration": 303,
    "start_time": "2022-03-15T10:25:04.499Z"
   },
   {
    "duration": -144,
    "start_time": "2022-03-15T10:25:04.948Z"
   },
   {
    "duration": -146,
    "start_time": "2022-03-15T10:25:04.951Z"
   },
   {
    "duration": -148,
    "start_time": "2022-03-15T10:25:04.954Z"
   },
   {
    "duration": -150,
    "start_time": "2022-03-15T10:25:04.957Z"
   },
   {
    "duration": 234104,
    "start_time": "2022-03-15T10:37:31.210Z"
   },
   {
    "duration": 307,
    "start_time": "2022-03-15T10:51:45.608Z"
   },
   {
    "duration": 502,
    "start_time": "2022-03-15T10:52:05.736Z"
   },
   {
    "duration": 1017,
    "start_time": "2022-03-15T10:52:24.208Z"
   },
   {
    "duration": 292,
    "start_time": "2022-03-15T10:52:40.406Z"
   },
   {
    "duration": 796590,
    "start_time": "2022-03-15T10:52:52.158Z"
   },
   {
    "duration": 448,
    "start_time": "2022-03-15T11:13:45.688Z"
   },
   {
    "duration": 494,
    "start_time": "2022-03-15T11:14:37.144Z"
   },
   {
    "duration": 4098,
    "start_time": "2022-03-15T11:14:40.415Z"
   },
   {
    "duration": 9523,
    "start_time": "2022-03-15T11:15:04.016Z"
   },
   {
    "duration": 4,
    "start_time": "2022-03-15T11:25:25.685Z"
   },
   {
    "duration": 674,
    "start_time": "2022-03-15T11:25:25.707Z"
   },
   {
    "duration": 10,
    "start_time": "2022-03-15T11:25:26.383Z"
   },
   {
    "duration": 15,
    "start_time": "2022-03-15T11:25:26.395Z"
   },
   {
    "duration": 8,
    "start_time": "2022-03-15T11:25:26.411Z"
   },
   {
    "duration": 14,
    "start_time": "2022-03-15T11:25:26.420Z"
   },
   {
    "duration": 7,
    "start_time": "2022-03-15T11:25:26.436Z"
   },
   {
    "duration": 43,
    "start_time": "2022-03-15T11:25:26.445Z"
   },
   {
    "duration": 6,
    "start_time": "2022-03-15T11:25:26.490Z"
   },
   {
    "duration": 17,
    "start_time": "2022-03-15T11:25:26.498Z"
   },
   {
    "duration": 286,
    "start_time": "2022-03-15T11:25:26.517Z"
   },
   {
    "duration": 255,
    "start_time": "2022-03-15T11:25:26.805Z"
   },
   {
    "duration": 29,
    "start_time": "2022-03-15T11:25:27.062Z"
   },
   {
    "duration": 24,
    "start_time": "2022-03-15T11:25:27.093Z"
   },
   {
    "duration": 4,
    "start_time": "2022-03-15T11:25:27.119Z"
   },
   {
    "duration": 245129,
    "start_time": "2022-03-15T11:25:27.125Z"
   },
   {
    "duration": 518,
    "start_time": "2022-03-15T11:29:32.256Z"
   },
   {
    "duration": 792419,
    "start_time": "2022-03-15T11:29:32.776Z"
   },
   {
    "duration": 9495,
    "start_time": "2022-03-15T11:42:45.196Z"
   },
   {
    "duration": 318,
    "start_time": "2022-03-15T11:42:54.692Z"
   },
   {
    "duration": 2339,
    "start_time": "2022-03-15T11:47:26.824Z"
   },
   {
    "duration": 5806,
    "start_time": "2022-03-15T11:47:43.376Z"
   },
   {
    "duration": 310,
    "start_time": "2022-03-15T11:49:51.169Z"
   },
   {
    "duration": 1350,
    "start_time": "2022-03-15T11:49:56.631Z"
   },
   {
    "duration": 330,
    "start_time": "2022-03-15T12:39:40.474Z"
   },
   {
    "duration": 280942,
    "start_time": "2022-03-15T12:39:55.685Z"
   },
   {
    "duration": 1004,
    "start_time": "2022-03-15T13:02:43.465Z"
   },
   {
    "duration": 1571,
    "start_time": "2022-03-15T13:02:53.596Z"
   },
   {
    "duration": 650,
    "start_time": "2022-03-15T13:02:57.188Z"
   },
   {
    "duration": 655,
    "start_time": "2022-03-15T13:03:46.404Z"
   },
   {
    "duration": 2067,
    "start_time": "2022-03-15T13:05:22.282Z"
   },
   {
    "duration": 848571,
    "start_time": "2022-03-15T13:05:58.154Z"
   },
   {
    "duration": 9695,
    "start_time": "2022-03-15T13:20:58.408Z"
   },
   {
    "duration": 630,
    "start_time": "2022-03-15T13:25:54.334Z"
   },
   {
    "duration": 716,
    "start_time": "2022-03-15T13:27:45.235Z"
   },
   {
    "duration": 263643,
    "start_time": "2022-03-15T13:27:48.562Z"
   },
   {
    "duration": 656,
    "start_time": "2022-03-15T13:37:36.909Z"
   },
   {
    "duration": 2068,
    "start_time": "2022-03-15T13:41:31.347Z"
   },
   {
    "duration": 964,
    "start_time": "2022-03-15T13:42:06.610Z"
   },
   {
    "duration": 673,
    "start_time": "2022-03-15T13:42:15.593Z"
   },
   {
    "duration": 645,
    "start_time": "2022-03-15T13:42:31.914Z"
   },
   {
    "duration": 4,
    "start_time": "2022-03-15T15:29:43.800Z"
   },
   {
    "duration": 604,
    "start_time": "2022-03-15T15:29:43.806Z"
   },
   {
    "duration": 9,
    "start_time": "2022-03-15T15:29:44.412Z"
   },
   {
    "duration": 14,
    "start_time": "2022-03-15T15:29:44.423Z"
   },
   {
    "duration": 7,
    "start_time": "2022-03-15T15:29:44.438Z"
   },
   {
    "duration": 35,
    "start_time": "2022-03-15T15:29:44.446Z"
   },
   {
    "duration": 7,
    "start_time": "2022-03-15T15:29:44.482Z"
   },
   {
    "duration": 19,
    "start_time": "2022-03-15T15:29:44.491Z"
   },
   {
    "duration": 6,
    "start_time": "2022-03-15T15:29:44.512Z"
   },
   {
    "duration": 10,
    "start_time": "2022-03-15T15:29:44.519Z"
   },
   {
    "duration": 216,
    "start_time": "2022-03-15T15:29:44.530Z"
   },
   {
    "duration": 223,
    "start_time": "2022-03-15T15:29:44.748Z"
   },
   {
    "duration": 23,
    "start_time": "2022-03-15T15:29:44.973Z"
   },
   {
    "duration": 24,
    "start_time": "2022-03-15T15:29:44.998Z"
   },
   {
    "duration": 4,
    "start_time": "2022-03-15T15:29:45.024Z"
   },
   {
    "duration": 233453,
    "start_time": "2022-03-15T15:29:45.029Z"
   },
   {
    "duration": 2025,
    "start_time": "2022-03-15T15:33:38.484Z"
   },
   {
    "duration": 1041,
    "start_time": "2022-03-15T15:39:50.414Z"
   },
   {
    "duration": 708,
    "start_time": "2022-03-15T15:39:51.457Z"
   },
   {
    "duration": 18,
    "start_time": "2022-03-15T15:39:52.167Z"
   },
   {
    "duration": 13,
    "start_time": "2022-03-15T15:39:52.187Z"
   },
   {
    "duration": 7,
    "start_time": "2022-03-15T15:39:52.201Z"
   },
   {
    "duration": 12,
    "start_time": "2022-03-15T15:39:52.210Z"
   },
   {
    "duration": 5,
    "start_time": "2022-03-15T15:39:52.224Z"
   },
   {
    "duration": 25,
    "start_time": "2022-03-15T15:39:52.230Z"
   },
   {
    "duration": 29,
    "start_time": "2022-03-15T15:39:52.257Z"
   },
   {
    "duration": 8,
    "start_time": "2022-03-15T15:39:52.288Z"
   },
   {
    "duration": 206,
    "start_time": "2022-03-15T15:39:52.297Z"
   },
   {
    "duration": 214,
    "start_time": "2022-03-15T15:39:52.505Z"
   },
   {
    "duration": 20,
    "start_time": "2022-03-15T15:39:52.721Z"
   },
   {
    "duration": 39,
    "start_time": "2022-03-15T15:39:52.742Z"
   },
   {
    "duration": 4,
    "start_time": "2022-03-15T15:39:52.782Z"
   },
   {
    "duration": 230535,
    "start_time": "2022-03-15T15:39:52.787Z"
   },
   {
    "duration": 2040,
    "start_time": "2022-03-15T15:43:43.323Z"
   },
   {
    "duration": 264468,
    "start_time": "2022-03-15T15:43:45.365Z"
   },
   {
    "duration": 648,
    "start_time": "2022-03-15T15:48:09.835Z"
   },
   {
    "duration": 800042,
    "start_time": "2022-03-15T15:48:10.484Z"
   },
   {
    "duration": 5569,
    "start_time": "2022-03-15T16:01:30.528Z"
   },
   {
    "duration": 805515,
    "start_time": "2022-03-15T16:01:36.098Z"
   },
   {
    "duration": 10007,
    "start_time": "2022-03-15T16:15:01.615Z"
   },
   {
    "duration": 1360,
    "start_time": "2022-03-15T16:15:11.623Z"
   },
   {
    "duration": 1697,
    "start_time": "2022-03-15T16:15:12.985Z"
   },
   {
    "duration": 639,
    "start_time": "2022-03-15T16:56:46.483Z"
   },
   {
    "duration": 1234,
    "start_time": "2022-03-16T06:51:43.917Z"
   },
   {
    "duration": 751,
    "start_time": "2022-03-16T06:51:45.153Z"
   },
   {
    "duration": 12,
    "start_time": "2022-03-16T06:51:45.906Z"
   },
   {
    "duration": 17,
    "start_time": "2022-03-16T06:51:45.920Z"
   },
   {
    "duration": 9,
    "start_time": "2022-03-16T06:51:45.939Z"
   },
   {
    "duration": 14,
    "start_time": "2022-03-16T06:51:45.950Z"
   },
   {
    "duration": 41,
    "start_time": "2022-03-16T06:51:45.966Z"
   },
   {
    "duration": 35,
    "start_time": "2022-03-16T06:51:46.011Z"
   },
   {
    "duration": 16,
    "start_time": "2022-03-16T06:51:46.049Z"
   },
   {
    "duration": 39,
    "start_time": "2022-03-16T06:51:46.067Z"
   },
   {
    "duration": 258,
    "start_time": "2022-03-16T06:51:46.109Z"
   },
   {
    "duration": 276,
    "start_time": "2022-03-16T06:51:46.369Z"
   },
   {
    "duration": 25,
    "start_time": "2022-03-16T06:51:46.648Z"
   },
   {
    "duration": 49,
    "start_time": "2022-03-16T06:51:46.674Z"
   },
   {
    "duration": 4,
    "start_time": "2022-03-16T06:51:46.725Z"
   },
   {
    "duration": 304112,
    "start_time": "2022-03-16T06:51:46.731Z"
   },
   {
    "duration": 2673,
    "start_time": "2022-03-16T06:56:50.845Z"
   },
   {
    "duration": 339585,
    "start_time": "2022-03-16T06:56:53.520Z"
   },
   {
    "duration": 1084,
    "start_time": "2022-03-16T07:02:33.108Z"
   },
   {
    "duration": 1030724,
    "start_time": "2022-03-16T07:02:34.202Z"
   },
   {
    "duration": 6491,
    "start_time": "2022-03-16T07:19:44.929Z"
   },
   {
    "duration": 1018170,
    "start_time": "2022-03-16T07:19:51.422Z"
   },
   {
    "duration": 13198,
    "start_time": "2022-03-16T07:36:49.595Z"
   },
   {
    "duration": 2716,
    "start_time": "2022-03-16T07:37:02.796Z"
   },
   {
    "duration": 2408,
    "start_time": "2022-03-16T07:37:05.514Z"
   },
   {
    "duration": 470,
    "start_time": "2022-03-16T08:19:19.571Z"
   },
   {
    "duration": 1920,
    "start_time": "2022-03-16T08:19:26.093Z"
   },
   {
    "duration": 5379,
    "start_time": "2022-03-16T08:19:45.658Z"
   },
   {
    "duration": 14768,
    "start_time": "2022-03-16T08:20:04.991Z"
   },
   {
    "duration": 25080,
    "start_time": "2022-03-16T08:20:54.374Z"
   },
   {
    "duration": 7,
    "start_time": "2022-03-16T08:59:04.616Z"
   },
   {
    "duration": 1584,
    "start_time": "2022-03-16T11:46:32.525Z"
   },
   {
    "duration": 1400,
    "start_time": "2022-03-16T11:46:35.109Z"
   },
   {
    "duration": 87,
    "start_time": "2022-03-16T13:07:38.535Z"
   },
   {
    "duration": 88,
    "start_time": "2022-03-16T13:07:52.194Z"
   },
   {
    "duration": 266,
    "start_time": "2022-03-16T13:07:58.941Z"
   },
   {
    "duration": 4,
    "start_time": "2022-03-16T13:08:14.532Z"
   },
   {
    "duration": 44,
    "start_time": "2022-03-16T13:08:19.164Z"
   },
   {
    "duration": 47,
    "start_time": "2022-03-16T13:09:29.292Z"
   },
   {
    "duration": 45,
    "start_time": "2022-03-16T13:09:39.220Z"
   },
   {
    "duration": 44,
    "start_time": "2022-03-16T13:10:27.051Z"
   },
   {
    "duration": 50,
    "start_time": "2022-03-16T13:11:05.219Z"
   },
   {
    "duration": 3969,
    "start_time": "2022-03-16T13:12:06.720Z"
   },
   {
    "duration": 4083,
    "start_time": "2022-03-16T13:13:25.913Z"
   },
   {
    "duration": 57,
    "start_time": "2022-03-16T13:14:03.116Z"
   },
   {
    "duration": 309,
    "start_time": "2022-03-16T13:14:14.542Z"
   },
   {
    "duration": 18,
    "start_time": "2022-03-16T13:31:01.797Z"
   },
   {
    "duration": 21,
    "start_time": "2022-03-16T13:31:30.868Z"
   },
   {
    "duration": 2271,
    "start_time": "2022-03-17T17:00:09.713Z"
   },
   {
    "duration": 1008,
    "start_time": "2022-03-17T17:00:11.988Z"
   },
   {
    "duration": 22,
    "start_time": "2022-03-17T17:00:12.999Z"
   },
   {
    "duration": 79,
    "start_time": "2022-03-17T17:00:13.023Z"
   },
   {
    "duration": 26,
    "start_time": "2022-03-17T17:00:13.106Z"
   },
   {
    "duration": 48,
    "start_time": "2022-03-17T17:00:13.134Z"
   },
   {
    "duration": 12,
    "start_time": "2022-03-17T17:00:13.185Z"
   },
   {
    "duration": 50,
    "start_time": "2022-03-17T17:00:13.199Z"
   },
   {
    "duration": 11,
    "start_time": "2022-03-17T17:00:13.251Z"
   },
   {
    "duration": 29,
    "start_time": "2022-03-17T17:00:13.264Z"
   },
   {
    "duration": 363,
    "start_time": "2022-03-17T17:00:13.295Z"
   },
   {
    "duration": 317,
    "start_time": "2022-03-17T17:00:13.660Z"
   },
   {
    "duration": 37,
    "start_time": "2022-03-17T17:00:13.984Z"
   },
   {
    "duration": 68,
    "start_time": "2022-03-17T17:00:14.025Z"
   },
   {
    "duration": 6,
    "start_time": "2022-03-17T17:00:14.096Z"
   },
   {
    "duration": 313828,
    "start_time": "2022-03-17T17:00:14.104Z"
   },
   {
    "duration": 6063,
    "start_time": "2022-03-17T17:05:27.934Z"
   },
   {
    "duration": 442450,
    "start_time": "2022-03-17T17:05:34.000Z"
   },
   {
    "duration": 1768,
    "start_time": "2022-03-17T17:12:56.452Z"
   },
   {
    "duration": 1171101,
    "start_time": "2022-03-17T17:12:58.223Z"
   },
   {
    "duration": 15946,
    "start_time": "2022-03-17T17:32:29.327Z"
   },
   {
    "duration": 1188080,
    "start_time": "2022-03-17T17:32:45.283Z"
   },
   {
    "duration": 33755,
    "start_time": "2022-03-17T17:52:33.367Z"
   },
   {
    "duration": 3261,
    "start_time": "2022-03-17T17:53:07.126Z"
   },
   {
    "duration": 2493,
    "start_time": "2022-03-17T17:53:10.391Z"
   },
   {
    "duration": 10,
    "start_time": "2022-03-17T17:53:12.888Z"
   },
   {
    "duration": 24,
    "start_time": "2022-03-17T17:57:31.187Z"
   },
   {
    "duration": 2182,
    "start_time": "2022-03-18T07:07:37.516Z"
   },
   {
    "duration": 929,
    "start_time": "2022-03-18T07:07:39.700Z"
   },
   {
    "duration": 22,
    "start_time": "2022-03-18T07:07:40.631Z"
   },
   {
    "duration": 36,
    "start_time": "2022-03-18T07:07:40.655Z"
   },
   {
    "duration": 17,
    "start_time": "2022-03-18T07:07:40.693Z"
   },
   {
    "duration": 16,
    "start_time": "2022-03-18T07:07:40.712Z"
   },
   {
    "duration": 45,
    "start_time": "2022-03-18T07:07:40.730Z"
   },
   {
    "duration": 29,
    "start_time": "2022-03-18T07:07:40.777Z"
   },
   {
    "duration": 13,
    "start_time": "2022-03-18T07:07:40.808Z"
   },
   {
    "duration": 13,
    "start_time": "2022-03-18T07:07:40.824Z"
   },
   {
    "duration": 276,
    "start_time": "2022-03-18T07:07:40.868Z"
   },
   {
    "duration": 299,
    "start_time": "2022-03-18T07:07:41.146Z"
   },
   {
    "duration": 40,
    "start_time": "2022-03-18T07:07:41.448Z"
   },
   {
    "duration": 40,
    "start_time": "2022-03-18T07:07:41.490Z"
   },
   {
    "duration": 5,
    "start_time": "2022-03-18T07:07:41.532Z"
   },
   {
    "duration": 307942,
    "start_time": "2022-03-18T07:07:52.186Z"
   },
   {
    "duration": 1086,
    "start_time": "2022-03-18T07:14:45.913Z"
   },
   {
    "duration": 316685,
    "start_time": "2022-03-18T07:15:18.335Z"
   },
   {
    "duration": 343836,
    "start_time": "2022-03-18T07:20:44.404Z"
   },
   {
    "duration": 310332,
    "start_time": "2022-03-18T07:28:33.934Z"
   },
   {
    "duration": 1109,
    "start_time": "2022-03-18T07:33:44.269Z"
   },
   {
    "duration": 351889,
    "start_time": "2022-03-18T07:33:45.380Z"
   },
   {
    "duration": 1392,
    "start_time": "2022-03-18T07:39:37.272Z"
   },
   {
    "duration": 1048451,
    "start_time": "2022-03-18T07:39:38.668Z"
   },
   {
    "duration": 11977,
    "start_time": "2022-03-18T07:57:07.121Z"
   },
   {
    "duration": 1078125,
    "start_time": "2022-03-18T07:57:19.101Z"
   },
   {
    "duration": 20403,
    "start_time": "2022-03-18T08:15:17.229Z"
   },
   {
    "duration": 1845,
    "start_time": "2022-03-18T08:15:37.634Z"
   },
   {
    "duration": 1692,
    "start_time": "2022-03-18T08:15:39.483Z"
   },
   {
    "duration": 266,
    "start_time": "2022-03-18T08:15:41.177Z"
   },
   {
    "duration": 418,
    "start_time": "2022-03-18T10:02:45.213Z"
   },
   {
    "duration": 252,
    "start_time": "2022-03-18T10:02:54.483Z"
   },
   {
    "duration": 224,
    "start_time": "2022-03-18T10:03:02.816Z"
   },
   {
    "duration": 401,
    "start_time": "2022-03-18T10:03:12.387Z"
   },
   {
    "duration": 431,
    "start_time": "2022-03-18T10:03:23.601Z"
   },
   {
    "duration": 679,
    "start_time": "2022-03-18T10:05:14.597Z"
   },
   {
    "duration": 1089,
    "start_time": "2022-03-18T10:12:08.906Z"
   },
   {
    "duration": 1091,
    "start_time": "2022-03-18T10:12:19.242Z"
   },
   {
    "duration": 1083,
    "start_time": "2022-03-18T10:12:52.522Z"
   },
   {
    "duration": 1416,
    "start_time": "2022-03-18T10:12:57.562Z"
   },
   {
    "duration": 13140,
    "start_time": "2022-03-18T10:13:00.483Z"
   },
   {
    "duration": 798,
    "start_time": "2022-03-18T10:13:28.504Z"
   },
   {
    "duration": 21215,
    "start_time": "2022-03-18T10:13:42.513Z"
   },
   {
    "duration": 31141,
    "start_time": "2022-03-18T10:14:30.449Z"
   },
   {
    "duration": 1567,
    "start_time": "2022-03-18T10:17:25.599Z"
   },
   {
    "duration": 1750,
    "start_time": "2022-03-18T10:17:28.821Z"
   },
   {
    "duration": 517,
    "start_time": "2022-03-18T10:19:23.377Z"
   },
   {
    "duration": 571,
    "start_time": "2022-03-18T10:19:49.695Z"
   },
   {
    "duration": 34,
    "start_time": "2022-03-18T10:37:03.762Z"
   },
   {
    "duration": 34,
    "start_time": "2022-03-18T10:37:05.690Z"
   },
   {
    "duration": 18,
    "start_time": "2022-03-18T10:52:11.665Z"
   },
   {
    "duration": 306,
    "start_time": "2022-03-18T10:55:26.676Z"
   },
   {
    "duration": 532,
    "start_time": "2022-03-18T10:55:41.351Z"
   },
   {
    "duration": 160,
    "start_time": "2022-03-18T11:16:10.839Z"
   }
  ],
  "kernelspec": {
   "display_name": "Python 3 (ipykernel)",
   "language": "python",
   "name": "python3"
  },
  "language_info": {
   "codemirror_mode": {
    "name": "ipython",
    "version": 3
   },
   "file_extension": ".py",
   "mimetype": "text/x-python",
   "name": "python",
   "nbconvert_exporter": "python",
   "pygments_lexer": "ipython3",
   "version": "3.10.5"
  },
  "toc": {
   "base_numbering": 1,
   "nav_menu": {},
   "number_sections": true,
   "sideBar": true,
   "skip_h1_title": true,
   "title_cell": "Содержание",
   "title_sidebar": "Contents",
   "toc_cell": true,
   "toc_position": {},
   "toc_section_display": true,
   "toc_window_display": true
  }
 },
 "nbformat": 4,
 "nbformat_minor": 2
}
