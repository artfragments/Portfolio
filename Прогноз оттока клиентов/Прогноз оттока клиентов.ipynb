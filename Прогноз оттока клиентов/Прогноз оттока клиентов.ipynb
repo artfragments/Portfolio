{
 "cells": [
  {
   "cell_type": "markdown",
   "metadata": {
    "toc": true
   },
   "source": [
    "<h1>Содержание<span class=\"tocSkip\"></span></h1>\n",
    "<div class=\"toc\"><ul class=\"toc-item\"><li><span><a href=\"#Подготовка-данных\" data-toc-modified-id=\"Подготовка-данных-1\"><span class=\"toc-item-num\">1&nbsp;&nbsp;</span>Подготовка данных</a></span></li><li><span><a href=\"#Исследование-задачи\" data-toc-modified-id=\"Исследование-задачи-2\"><span class=\"toc-item-num\">2&nbsp;&nbsp;</span>Исследование задачи</a></span><ul class=\"toc-item\"><li><span><a href=\"#Решающее-дерево\" data-toc-modified-id=\"Решающее-дерево-2.1\"><span class=\"toc-item-num\">2.1&nbsp;&nbsp;</span>Решающее дерево</a></span></li><li><span><a href=\"#Случайны-лес\" data-toc-modified-id=\"Случайны-лес-2.2\"><span class=\"toc-item-num\">2.2&nbsp;&nbsp;</span>Случайны лес</a></span></li><li><span><a href=\"#Линейная-регрессия\" data-toc-modified-id=\"Линейная-регрессия-2.3\"><span class=\"toc-item-num\">2.3&nbsp;&nbsp;</span>Линейная регрессия</a></span></li></ul></li><li><span><a href=\"#Борьба-с-дисбалансом\" data-toc-modified-id=\"Борьба-с-дисбалансом-3\"><span class=\"toc-item-num\">3&nbsp;&nbsp;</span>Борьба с дисбалансом</a></span></li><li><span><a href=\"#Тестирование-модели\" data-toc-modified-id=\"Тестирование-модели-4\"><span class=\"toc-item-num\">4&nbsp;&nbsp;</span>Тестирование модели</a></span><ul class=\"toc-item\"><li><span><a href=\"#Решающее-дерево\" data-toc-modified-id=\"Решающее-дерево-4.1\"><span class=\"toc-item-num\">4.1&nbsp;&nbsp;</span>Решающее дерево</a></span></li><li><span><a href=\"#Случайны-лес\" data-toc-modified-id=\"Случайны-лес-4.2\"><span class=\"toc-item-num\">4.2&nbsp;&nbsp;</span>Случайны лес</a></span></li><li><span><a href=\"#Линейная-регрессия\" data-toc-modified-id=\"Линейная-регрессия-4.3\"><span class=\"toc-item-num\">4.3&nbsp;&nbsp;</span>Линейная регрессия</a></span></li></ul></li><li><span><a href=\"#Чек-лист-готовности-проекта\" data-toc-modified-id=\"Чек-лист-готовности-проекта-5\"><span class=\"toc-item-num\">5&nbsp;&nbsp;</span>Чек-лист готовности проекта</a></span></li></ul></div>"
   ]
  },
  {
   "cell_type": "markdown",
   "metadata": {},
   "source": [
    "# Отток клиентов"
   ]
  },
  {
   "cell_type": "markdown",
   "metadata": {},
   "source": [
    "Из «Бета-Банка» стали уходить клиенты. Каждый месяц. Немного, но заметно. Банковские маркетологи посчитали: сохранять текущих клиентов дешевле, чем привлекать новых.\n",
    "\n",
    "Нужно спрогнозировать, уйдёт клиент из банка в ближайшее время или нет. Вам предоставлены исторические данные о поведении клиентов и расторжении договоров с банком. \n",
    "\n",
    "Постройте модель с предельно большим значением *F1*-меры. Чтобы сдать проект успешно, нужно довести метрику до 0.59. Проверьте *F1*-меру на тестовой выборке самостоятельно.\n",
    "\n",
    "Дополнительно измеряйте *AUC-ROC*, сравнивайте её значение с *F1*-мерой.\n",
    "\n",
    "Источник данных: [https://www.kaggle.com/barelydedicated/bank-customer-churn-modeling](https://www.kaggle.com/barelydedicated/bank-customer-churn-modeling)"
   ]
  },
  {
   "cell_type": "markdown",
   "metadata": {},
   "source": [
    "## Подготовка данных"
   ]
  },
  {
   "cell_type": "markdown",
   "metadata": {},
   "source": [
    "Импортируем необходимые библиотеки в следующей ячейке:"
   ]
  },
  {
   "cell_type": "code",
   "execution_count": 1,
   "metadata": {},
   "outputs": [],
   "source": [
    "import pandas as pd\n",
    "import numpy as np\n",
    "from sklearn.model_selection import train_test_split\n",
    "from sklearn.preprocessing import StandardScaler\n",
    "from sklearn.tree import DecisionTreeClassifier\n",
    "from sklearn.ensemble import RandomForestClassifier\n",
    "from sklearn.tree import DecisionTreeRegressor\n",
    "from sklearn.ensemble import RandomForestRegressor\n",
    "from sklearn.linear_model import LinearRegression\n",
    "from sklearn.linear_model import LogisticRegression\n",
    "from sklearn.model_selection import GridSearchCV\n",
    "from sklearn.metrics import f1_score \n",
    "from sklearn.metrics import roc_auc_score\n",
    "from sklearn.utils import shuffle\n",
    "import warnings\n",
    "warnings.simplefilter(\"ignore\")"
   ]
  },
  {
   "cell_type": "code",
   "execution_count": 2,
   "metadata": {},
   "outputs": [],
   "source": [
    "#КОД РЕВЬЮЕРА\n",
    "np.random.seed(12345)"
   ]
  },
  {
   "cell_type": "markdown",
   "metadata": {},
   "source": [
    "Прочитаем файл:"
   ]
  },
  {
   "cell_type": "code",
   "execution_count": 3,
   "metadata": {},
   "outputs": [
    {
     "name": "stdout",
     "output_type": "stream",
     "text": [
      "<class 'pandas.core.frame.DataFrame'>\n",
      "RangeIndex: 10000 entries, 0 to 9999\n",
      "Data columns (total 14 columns):\n",
      "RowNumber          10000 non-null int64\n",
      "CustomerId         10000 non-null int64\n",
      "Surname            10000 non-null object\n",
      "CreditScore        10000 non-null int64\n",
      "Geography          10000 non-null object\n",
      "Gender             10000 non-null object\n",
      "Age                10000 non-null int64\n",
      "Tenure             9091 non-null float64\n",
      "Balance            10000 non-null float64\n",
      "NumOfProducts      10000 non-null int64\n",
      "HasCrCard          10000 non-null int64\n",
      "IsActiveMember     10000 non-null int64\n",
      "EstimatedSalary    10000 non-null float64\n",
      "Exited             10000 non-null int64\n",
      "dtypes: float64(3), int64(8), object(3)\n",
      "memory usage: 1.1+ MB\n"
     ]
    }
   ],
   "source": [
    "df = pd.read_csv('/datasets/Churn.csv')\n",
    "df.info()"
   ]
  },
  {
   "cell_type": "markdown",
   "metadata": {},
   "source": [
    "Имеются пропуски в столбце Tenure, данные столбец вряд ли заполняется вручную, так как в него должны попадать значения промежутка с даты регистрации клиента в банке по дату формирования списка, поэтому можно предположить, что у клиентов с пустыми значениями дата регистрации была до начала ведения этой базы данных, поэтому стартовая дата не попала в алгоритм расчета, как следствие расчет выдал NaN, с другой стороны NaN значения могли попасть в столбец, если клиент появился в банке меньше года назад. В данном случае определить, что из этого верно не представляется возможным, поэтому заполним данные генератором случайных чисел."
   ]
  },
  {
   "cell_type": "code",
   "execution_count": 4,
   "metadata": {},
   "outputs": [
    {
     "name": "stdout",
     "output_type": "stream",
     "text": [
      "<class 'pandas.core.frame.DataFrame'>\n",
      "RangeIndex: 10000 entries, 0 to 9999\n",
      "Data columns (total 14 columns):\n",
      "RowNumber          10000 non-null int64\n",
      "CustomerId         10000 non-null int64\n",
      "Surname            10000 non-null object\n",
      "CreditScore        10000 non-null int64\n",
      "Geography          10000 non-null object\n",
      "Gender             10000 non-null object\n",
      "Age                10000 non-null int64\n",
      "Tenure             10000 non-null float64\n",
      "Balance            10000 non-null float64\n",
      "NumOfProducts      10000 non-null int64\n",
      "HasCrCard          10000 non-null int64\n",
      "IsActiveMember     10000 non-null int64\n",
      "EstimatedSalary    10000 non-null float64\n",
      "Exited             10000 non-null int64\n",
      "dtypes: float64(3), int64(8), object(3)\n",
      "memory usage: 1.1+ MB\n"
     ]
    }
   ],
   "source": [
    "tenure_random = pd.Series(np.random.randint(1, 10, 10000))\n",
    "df['Tenure'] = df['Tenure'].fillna(tenure_random)\n",
    "df.info()"
   ]
  },
  {
   "cell_type": "markdown",
   "metadata": {},
   "source": [
    "Далее нужно убрать столбцы, которые не помогут нам в машинном обучении:"
   ]
  },
  {
   "cell_type": "code",
   "execution_count": 5,
   "metadata": {},
   "outputs": [
    {
     "data": {
      "text/html": [
       "<div>\n",
       "<style scoped>\n",
       "    .dataframe tbody tr th:only-of-type {\n",
       "        vertical-align: middle;\n",
       "    }\n",
       "\n",
       "    .dataframe tbody tr th {\n",
       "        vertical-align: top;\n",
       "    }\n",
       "\n",
       "    .dataframe thead th {\n",
       "        text-align: right;\n",
       "    }\n",
       "</style>\n",
       "<table border=\"1\" class=\"dataframe\">\n",
       "  <thead>\n",
       "    <tr style=\"text-align: right;\">\n",
       "      <th></th>\n",
       "      <th>CreditScore</th>\n",
       "      <th>Geography</th>\n",
       "      <th>Gender</th>\n",
       "      <th>Age</th>\n",
       "      <th>Tenure</th>\n",
       "      <th>Balance</th>\n",
       "      <th>NumOfProducts</th>\n",
       "      <th>HasCrCard</th>\n",
       "      <th>IsActiveMember</th>\n",
       "      <th>EstimatedSalary</th>\n",
       "      <th>Exited</th>\n",
       "    </tr>\n",
       "  </thead>\n",
       "  <tbody>\n",
       "    <tr>\n",
       "      <td>0</td>\n",
       "      <td>619</td>\n",
       "      <td>France</td>\n",
       "      <td>Female</td>\n",
       "      <td>42</td>\n",
       "      <td>2.0</td>\n",
       "      <td>0.00</td>\n",
       "      <td>1</td>\n",
       "      <td>1</td>\n",
       "      <td>1</td>\n",
       "      <td>101348.88</td>\n",
       "      <td>1</td>\n",
       "    </tr>\n",
       "    <tr>\n",
       "      <td>1</td>\n",
       "      <td>608</td>\n",
       "      <td>Spain</td>\n",
       "      <td>Female</td>\n",
       "      <td>41</td>\n",
       "      <td>1.0</td>\n",
       "      <td>83807.86</td>\n",
       "      <td>1</td>\n",
       "      <td>0</td>\n",
       "      <td>1</td>\n",
       "      <td>112542.58</td>\n",
       "      <td>0</td>\n",
       "    </tr>\n",
       "    <tr>\n",
       "      <td>2</td>\n",
       "      <td>502</td>\n",
       "      <td>France</td>\n",
       "      <td>Female</td>\n",
       "      <td>42</td>\n",
       "      <td>8.0</td>\n",
       "      <td>159660.80</td>\n",
       "      <td>3</td>\n",
       "      <td>1</td>\n",
       "      <td>0</td>\n",
       "      <td>113931.57</td>\n",
       "      <td>1</td>\n",
       "    </tr>\n",
       "    <tr>\n",
       "      <td>3</td>\n",
       "      <td>699</td>\n",
       "      <td>France</td>\n",
       "      <td>Female</td>\n",
       "      <td>39</td>\n",
       "      <td>1.0</td>\n",
       "      <td>0.00</td>\n",
       "      <td>2</td>\n",
       "      <td>0</td>\n",
       "      <td>0</td>\n",
       "      <td>93826.63</td>\n",
       "      <td>0</td>\n",
       "    </tr>\n",
       "    <tr>\n",
       "      <td>4</td>\n",
       "      <td>850</td>\n",
       "      <td>Spain</td>\n",
       "      <td>Female</td>\n",
       "      <td>43</td>\n",
       "      <td>2.0</td>\n",
       "      <td>125510.82</td>\n",
       "      <td>1</td>\n",
       "      <td>1</td>\n",
       "      <td>1</td>\n",
       "      <td>79084.10</td>\n",
       "      <td>0</td>\n",
       "    </tr>\n",
       "    <tr>\n",
       "      <td>...</td>\n",
       "      <td>...</td>\n",
       "      <td>...</td>\n",
       "      <td>...</td>\n",
       "      <td>...</td>\n",
       "      <td>...</td>\n",
       "      <td>...</td>\n",
       "      <td>...</td>\n",
       "      <td>...</td>\n",
       "      <td>...</td>\n",
       "      <td>...</td>\n",
       "      <td>...</td>\n",
       "    </tr>\n",
       "    <tr>\n",
       "      <td>9995</td>\n",
       "      <td>771</td>\n",
       "      <td>France</td>\n",
       "      <td>Male</td>\n",
       "      <td>39</td>\n",
       "      <td>5.0</td>\n",
       "      <td>0.00</td>\n",
       "      <td>2</td>\n",
       "      <td>1</td>\n",
       "      <td>0</td>\n",
       "      <td>96270.64</td>\n",
       "      <td>0</td>\n",
       "    </tr>\n",
       "    <tr>\n",
       "      <td>9996</td>\n",
       "      <td>516</td>\n",
       "      <td>France</td>\n",
       "      <td>Male</td>\n",
       "      <td>35</td>\n",
       "      <td>10.0</td>\n",
       "      <td>57369.61</td>\n",
       "      <td>1</td>\n",
       "      <td>1</td>\n",
       "      <td>1</td>\n",
       "      <td>101699.77</td>\n",
       "      <td>0</td>\n",
       "    </tr>\n",
       "    <tr>\n",
       "      <td>9997</td>\n",
       "      <td>709</td>\n",
       "      <td>France</td>\n",
       "      <td>Female</td>\n",
       "      <td>36</td>\n",
       "      <td>7.0</td>\n",
       "      <td>0.00</td>\n",
       "      <td>1</td>\n",
       "      <td>0</td>\n",
       "      <td>1</td>\n",
       "      <td>42085.58</td>\n",
       "      <td>1</td>\n",
       "    </tr>\n",
       "    <tr>\n",
       "      <td>9998</td>\n",
       "      <td>772</td>\n",
       "      <td>Germany</td>\n",
       "      <td>Male</td>\n",
       "      <td>42</td>\n",
       "      <td>3.0</td>\n",
       "      <td>75075.31</td>\n",
       "      <td>2</td>\n",
       "      <td>1</td>\n",
       "      <td>0</td>\n",
       "      <td>92888.52</td>\n",
       "      <td>1</td>\n",
       "    </tr>\n",
       "    <tr>\n",
       "      <td>9999</td>\n",
       "      <td>792</td>\n",
       "      <td>France</td>\n",
       "      <td>Female</td>\n",
       "      <td>28</td>\n",
       "      <td>8.0</td>\n",
       "      <td>130142.79</td>\n",
       "      <td>1</td>\n",
       "      <td>1</td>\n",
       "      <td>0</td>\n",
       "      <td>38190.78</td>\n",
       "      <td>0</td>\n",
       "    </tr>\n",
       "  </tbody>\n",
       "</table>\n",
       "<p>10000 rows × 11 columns</p>\n",
       "</div>"
      ],
      "text/plain": [
       "      CreditScore Geography  Gender  Age  Tenure    Balance  NumOfProducts  \\\n",
       "0             619    France  Female   42     2.0       0.00              1   \n",
       "1             608     Spain  Female   41     1.0   83807.86              1   \n",
       "2             502    France  Female   42     8.0  159660.80              3   \n",
       "3             699    France  Female   39     1.0       0.00              2   \n",
       "4             850     Spain  Female   43     2.0  125510.82              1   \n",
       "...           ...       ...     ...  ...     ...        ...            ...   \n",
       "9995          771    France    Male   39     5.0       0.00              2   \n",
       "9996          516    France    Male   35    10.0   57369.61              1   \n",
       "9997          709    France  Female   36     7.0       0.00              1   \n",
       "9998          772   Germany    Male   42     3.0   75075.31              2   \n",
       "9999          792    France  Female   28     8.0  130142.79              1   \n",
       "\n",
       "      HasCrCard  IsActiveMember  EstimatedSalary  Exited  \n",
       "0             1               1        101348.88       1  \n",
       "1             0               1        112542.58       0  \n",
       "2             1               0        113931.57       1  \n",
       "3             0               0         93826.63       0  \n",
       "4             1               1         79084.10       0  \n",
       "...         ...             ...              ...     ...  \n",
       "9995          1               0         96270.64       0  \n",
       "9996          1               1        101699.77       0  \n",
       "9997          0               1         42085.58       1  \n",
       "9998          1               0         92888.52       1  \n",
       "9999          1               0         38190.78       0  \n",
       "\n",
       "[10000 rows x 11 columns]"
      ]
     },
     "execution_count": 5,
     "metadata": {},
     "output_type": "execute_result"
    }
   ],
   "source": [
    "df = df.drop(['RowNumber', 'CustomerId', 'Surname'], axis=1)\n",
    "df"
   ]
  },
  {
   "cell_type": "markdown",
   "metadata": {},
   "source": [
    "В результате убраны столбцы: RowNumber, CustomerId, Surname. Все 3 являются идентификаторами, которые могут негативно сказаться на обучении модели, ведь они не влияют на то уйдет клиент или нет.\n",
    "\n",
    "Далее стандартизируем название столбцов:"
   ]
  },
  {
   "cell_type": "code",
   "execution_count": 6,
   "metadata": {},
   "outputs": [
    {
     "data": {
      "text/html": [
       "<div>\n",
       "<style scoped>\n",
       "    .dataframe tbody tr th:only-of-type {\n",
       "        vertical-align: middle;\n",
       "    }\n",
       "\n",
       "    .dataframe tbody tr th {\n",
       "        vertical-align: top;\n",
       "    }\n",
       "\n",
       "    .dataframe thead th {\n",
       "        text-align: right;\n",
       "    }\n",
       "</style>\n",
       "<table border=\"1\" class=\"dataframe\">\n",
       "  <thead>\n",
       "    <tr style=\"text-align: right;\">\n",
       "      <th></th>\n",
       "      <th>credit_score</th>\n",
       "      <th>geography</th>\n",
       "      <th>gender</th>\n",
       "      <th>age</th>\n",
       "      <th>tenure</th>\n",
       "      <th>balance</th>\n",
       "      <th>num_of_products</th>\n",
       "      <th>has_cr_card</th>\n",
       "      <th>is_active_member</th>\n",
       "      <th>estimated_salary</th>\n",
       "      <th>exited</th>\n",
       "    </tr>\n",
       "  </thead>\n",
       "  <tbody>\n",
       "    <tr>\n",
       "      <td>0</td>\n",
       "      <td>619</td>\n",
       "      <td>France</td>\n",
       "      <td>Female</td>\n",
       "      <td>42</td>\n",
       "      <td>2.0</td>\n",
       "      <td>0.00</td>\n",
       "      <td>1</td>\n",
       "      <td>1</td>\n",
       "      <td>1</td>\n",
       "      <td>101348.88</td>\n",
       "      <td>1</td>\n",
       "    </tr>\n",
       "    <tr>\n",
       "      <td>1</td>\n",
       "      <td>608</td>\n",
       "      <td>Spain</td>\n",
       "      <td>Female</td>\n",
       "      <td>41</td>\n",
       "      <td>1.0</td>\n",
       "      <td>83807.86</td>\n",
       "      <td>1</td>\n",
       "      <td>0</td>\n",
       "      <td>1</td>\n",
       "      <td>112542.58</td>\n",
       "      <td>0</td>\n",
       "    </tr>\n",
       "    <tr>\n",
       "      <td>2</td>\n",
       "      <td>502</td>\n",
       "      <td>France</td>\n",
       "      <td>Female</td>\n",
       "      <td>42</td>\n",
       "      <td>8.0</td>\n",
       "      <td>159660.80</td>\n",
       "      <td>3</td>\n",
       "      <td>1</td>\n",
       "      <td>0</td>\n",
       "      <td>113931.57</td>\n",
       "      <td>1</td>\n",
       "    </tr>\n",
       "    <tr>\n",
       "      <td>3</td>\n",
       "      <td>699</td>\n",
       "      <td>France</td>\n",
       "      <td>Female</td>\n",
       "      <td>39</td>\n",
       "      <td>1.0</td>\n",
       "      <td>0.00</td>\n",
       "      <td>2</td>\n",
       "      <td>0</td>\n",
       "      <td>0</td>\n",
       "      <td>93826.63</td>\n",
       "      <td>0</td>\n",
       "    </tr>\n",
       "    <tr>\n",
       "      <td>4</td>\n",
       "      <td>850</td>\n",
       "      <td>Spain</td>\n",
       "      <td>Female</td>\n",
       "      <td>43</td>\n",
       "      <td>2.0</td>\n",
       "      <td>125510.82</td>\n",
       "      <td>1</td>\n",
       "      <td>1</td>\n",
       "      <td>1</td>\n",
       "      <td>79084.10</td>\n",
       "      <td>0</td>\n",
       "    </tr>\n",
       "    <tr>\n",
       "      <td>...</td>\n",
       "      <td>...</td>\n",
       "      <td>...</td>\n",
       "      <td>...</td>\n",
       "      <td>...</td>\n",
       "      <td>...</td>\n",
       "      <td>...</td>\n",
       "      <td>...</td>\n",
       "      <td>...</td>\n",
       "      <td>...</td>\n",
       "      <td>...</td>\n",
       "      <td>...</td>\n",
       "    </tr>\n",
       "    <tr>\n",
       "      <td>9995</td>\n",
       "      <td>771</td>\n",
       "      <td>France</td>\n",
       "      <td>Male</td>\n",
       "      <td>39</td>\n",
       "      <td>5.0</td>\n",
       "      <td>0.00</td>\n",
       "      <td>2</td>\n",
       "      <td>1</td>\n",
       "      <td>0</td>\n",
       "      <td>96270.64</td>\n",
       "      <td>0</td>\n",
       "    </tr>\n",
       "    <tr>\n",
       "      <td>9996</td>\n",
       "      <td>516</td>\n",
       "      <td>France</td>\n",
       "      <td>Male</td>\n",
       "      <td>35</td>\n",
       "      <td>10.0</td>\n",
       "      <td>57369.61</td>\n",
       "      <td>1</td>\n",
       "      <td>1</td>\n",
       "      <td>1</td>\n",
       "      <td>101699.77</td>\n",
       "      <td>0</td>\n",
       "    </tr>\n",
       "    <tr>\n",
       "      <td>9997</td>\n",
       "      <td>709</td>\n",
       "      <td>France</td>\n",
       "      <td>Female</td>\n",
       "      <td>36</td>\n",
       "      <td>7.0</td>\n",
       "      <td>0.00</td>\n",
       "      <td>1</td>\n",
       "      <td>0</td>\n",
       "      <td>1</td>\n",
       "      <td>42085.58</td>\n",
       "      <td>1</td>\n",
       "    </tr>\n",
       "    <tr>\n",
       "      <td>9998</td>\n",
       "      <td>772</td>\n",
       "      <td>Germany</td>\n",
       "      <td>Male</td>\n",
       "      <td>42</td>\n",
       "      <td>3.0</td>\n",
       "      <td>75075.31</td>\n",
       "      <td>2</td>\n",
       "      <td>1</td>\n",
       "      <td>0</td>\n",
       "      <td>92888.52</td>\n",
       "      <td>1</td>\n",
       "    </tr>\n",
       "    <tr>\n",
       "      <td>9999</td>\n",
       "      <td>792</td>\n",
       "      <td>France</td>\n",
       "      <td>Female</td>\n",
       "      <td>28</td>\n",
       "      <td>8.0</td>\n",
       "      <td>130142.79</td>\n",
       "      <td>1</td>\n",
       "      <td>1</td>\n",
       "      <td>0</td>\n",
       "      <td>38190.78</td>\n",
       "      <td>0</td>\n",
       "    </tr>\n",
       "  </tbody>\n",
       "</table>\n",
       "<p>10000 rows × 11 columns</p>\n",
       "</div>"
      ],
      "text/plain": [
       "      credit_score geography  gender  age  tenure    balance  num_of_products  \\\n",
       "0              619    France  Female   42     2.0       0.00                1   \n",
       "1              608     Spain  Female   41     1.0   83807.86                1   \n",
       "2              502    France  Female   42     8.0  159660.80                3   \n",
       "3              699    France  Female   39     1.0       0.00                2   \n",
       "4              850     Spain  Female   43     2.0  125510.82                1   \n",
       "...            ...       ...     ...  ...     ...        ...              ...   \n",
       "9995           771    France    Male   39     5.0       0.00                2   \n",
       "9996           516    France    Male   35    10.0   57369.61                1   \n",
       "9997           709    France  Female   36     7.0       0.00                1   \n",
       "9998           772   Germany    Male   42     3.0   75075.31                2   \n",
       "9999           792    France  Female   28     8.0  130142.79                1   \n",
       "\n",
       "      has_cr_card  is_active_member  estimated_salary  exited  \n",
       "0               1                 1         101348.88       1  \n",
       "1               0                 1         112542.58       0  \n",
       "2               1                 0         113931.57       1  \n",
       "3               0                 0          93826.63       0  \n",
       "4               1                 1          79084.10       0  \n",
       "...           ...               ...               ...     ...  \n",
       "9995            1                 0          96270.64       0  \n",
       "9996            1                 1         101699.77       0  \n",
       "9997            0                 1          42085.58       1  \n",
       "9998            1                 0          92888.52       1  \n",
       "9999            1                 0          38190.78       0  \n",
       "\n",
       "[10000 rows x 11 columns]"
      ]
     },
     "execution_count": 6,
     "metadata": {},
     "output_type": "execute_result"
    }
   ],
   "source": [
    "df = df.rename(columns = {'CreditScore': 'Credit_Score', 'NumOfProducts': 'Num_Of_Products', 'HasCrCard': 'Has_Cr_Card', 'IsActiveMember': 'Is_Active_Member', 'EstimatedSalary': 'Estimated_Salary'})\n",
    "df.columns = df.columns.str.lower() \n",
    "df"
   ]
  },
  {
   "cell_type": "markdown",
   "metadata": {},
   "source": [
    "Далее заменим значения в столбцах geography и gender методом OHE:"
   ]
  },
  {
   "cell_type": "code",
   "execution_count": 7,
   "metadata": {},
   "outputs": [
    {
     "data": {
      "text/html": [
       "<div>\n",
       "<style scoped>\n",
       "    .dataframe tbody tr th:only-of-type {\n",
       "        vertical-align: middle;\n",
       "    }\n",
       "\n",
       "    .dataframe tbody tr th {\n",
       "        vertical-align: top;\n",
       "    }\n",
       "\n",
       "    .dataframe thead th {\n",
       "        text-align: right;\n",
       "    }\n",
       "</style>\n",
       "<table border=\"1\" class=\"dataframe\">\n",
       "  <thead>\n",
       "    <tr style=\"text-align: right;\">\n",
       "      <th></th>\n",
       "      <th>credit_score</th>\n",
       "      <th>age</th>\n",
       "      <th>tenure</th>\n",
       "      <th>balance</th>\n",
       "      <th>num_of_products</th>\n",
       "      <th>has_cr_card</th>\n",
       "      <th>is_active_member</th>\n",
       "      <th>estimated_salary</th>\n",
       "      <th>exited</th>\n",
       "      <th>geography_Germany</th>\n",
       "      <th>geography_Spain</th>\n",
       "      <th>gender_Male</th>\n",
       "    </tr>\n",
       "  </thead>\n",
       "  <tbody>\n",
       "    <tr>\n",
       "      <td>0</td>\n",
       "      <td>619</td>\n",
       "      <td>42</td>\n",
       "      <td>2.0</td>\n",
       "      <td>0.00</td>\n",
       "      <td>1</td>\n",
       "      <td>1</td>\n",
       "      <td>1</td>\n",
       "      <td>101348.88</td>\n",
       "      <td>1</td>\n",
       "      <td>0</td>\n",
       "      <td>0</td>\n",
       "      <td>0</td>\n",
       "    </tr>\n",
       "    <tr>\n",
       "      <td>1</td>\n",
       "      <td>608</td>\n",
       "      <td>41</td>\n",
       "      <td>1.0</td>\n",
       "      <td>83807.86</td>\n",
       "      <td>1</td>\n",
       "      <td>0</td>\n",
       "      <td>1</td>\n",
       "      <td>112542.58</td>\n",
       "      <td>0</td>\n",
       "      <td>0</td>\n",
       "      <td>1</td>\n",
       "      <td>0</td>\n",
       "    </tr>\n",
       "    <tr>\n",
       "      <td>2</td>\n",
       "      <td>502</td>\n",
       "      <td>42</td>\n",
       "      <td>8.0</td>\n",
       "      <td>159660.80</td>\n",
       "      <td>3</td>\n",
       "      <td>1</td>\n",
       "      <td>0</td>\n",
       "      <td>113931.57</td>\n",
       "      <td>1</td>\n",
       "      <td>0</td>\n",
       "      <td>0</td>\n",
       "      <td>0</td>\n",
       "    </tr>\n",
       "    <tr>\n",
       "      <td>3</td>\n",
       "      <td>699</td>\n",
       "      <td>39</td>\n",
       "      <td>1.0</td>\n",
       "      <td>0.00</td>\n",
       "      <td>2</td>\n",
       "      <td>0</td>\n",
       "      <td>0</td>\n",
       "      <td>93826.63</td>\n",
       "      <td>0</td>\n",
       "      <td>0</td>\n",
       "      <td>0</td>\n",
       "      <td>0</td>\n",
       "    </tr>\n",
       "    <tr>\n",
       "      <td>4</td>\n",
       "      <td>850</td>\n",
       "      <td>43</td>\n",
       "      <td>2.0</td>\n",
       "      <td>125510.82</td>\n",
       "      <td>1</td>\n",
       "      <td>1</td>\n",
       "      <td>1</td>\n",
       "      <td>79084.10</td>\n",
       "      <td>0</td>\n",
       "      <td>0</td>\n",
       "      <td>1</td>\n",
       "      <td>0</td>\n",
       "    </tr>\n",
       "    <tr>\n",
       "      <td>...</td>\n",
       "      <td>...</td>\n",
       "      <td>...</td>\n",
       "      <td>...</td>\n",
       "      <td>...</td>\n",
       "      <td>...</td>\n",
       "      <td>...</td>\n",
       "      <td>...</td>\n",
       "      <td>...</td>\n",
       "      <td>...</td>\n",
       "      <td>...</td>\n",
       "      <td>...</td>\n",
       "      <td>...</td>\n",
       "    </tr>\n",
       "    <tr>\n",
       "      <td>9995</td>\n",
       "      <td>771</td>\n",
       "      <td>39</td>\n",
       "      <td>5.0</td>\n",
       "      <td>0.00</td>\n",
       "      <td>2</td>\n",
       "      <td>1</td>\n",
       "      <td>0</td>\n",
       "      <td>96270.64</td>\n",
       "      <td>0</td>\n",
       "      <td>0</td>\n",
       "      <td>0</td>\n",
       "      <td>1</td>\n",
       "    </tr>\n",
       "    <tr>\n",
       "      <td>9996</td>\n",
       "      <td>516</td>\n",
       "      <td>35</td>\n",
       "      <td>10.0</td>\n",
       "      <td>57369.61</td>\n",
       "      <td>1</td>\n",
       "      <td>1</td>\n",
       "      <td>1</td>\n",
       "      <td>101699.77</td>\n",
       "      <td>0</td>\n",
       "      <td>0</td>\n",
       "      <td>0</td>\n",
       "      <td>1</td>\n",
       "    </tr>\n",
       "    <tr>\n",
       "      <td>9997</td>\n",
       "      <td>709</td>\n",
       "      <td>36</td>\n",
       "      <td>7.0</td>\n",
       "      <td>0.00</td>\n",
       "      <td>1</td>\n",
       "      <td>0</td>\n",
       "      <td>1</td>\n",
       "      <td>42085.58</td>\n",
       "      <td>1</td>\n",
       "      <td>0</td>\n",
       "      <td>0</td>\n",
       "      <td>0</td>\n",
       "    </tr>\n",
       "    <tr>\n",
       "      <td>9998</td>\n",
       "      <td>772</td>\n",
       "      <td>42</td>\n",
       "      <td>3.0</td>\n",
       "      <td>75075.31</td>\n",
       "      <td>2</td>\n",
       "      <td>1</td>\n",
       "      <td>0</td>\n",
       "      <td>92888.52</td>\n",
       "      <td>1</td>\n",
       "      <td>1</td>\n",
       "      <td>0</td>\n",
       "      <td>1</td>\n",
       "    </tr>\n",
       "    <tr>\n",
       "      <td>9999</td>\n",
       "      <td>792</td>\n",
       "      <td>28</td>\n",
       "      <td>8.0</td>\n",
       "      <td>130142.79</td>\n",
       "      <td>1</td>\n",
       "      <td>1</td>\n",
       "      <td>0</td>\n",
       "      <td>38190.78</td>\n",
       "      <td>0</td>\n",
       "      <td>0</td>\n",
       "      <td>0</td>\n",
       "      <td>0</td>\n",
       "    </tr>\n",
       "  </tbody>\n",
       "</table>\n",
       "<p>10000 rows × 12 columns</p>\n",
       "</div>"
      ],
      "text/plain": [
       "      credit_score  age  tenure    balance  num_of_products  has_cr_card  \\\n",
       "0              619   42     2.0       0.00                1            1   \n",
       "1              608   41     1.0   83807.86                1            0   \n",
       "2              502   42     8.0  159660.80                3            1   \n",
       "3              699   39     1.0       0.00                2            0   \n",
       "4              850   43     2.0  125510.82                1            1   \n",
       "...            ...  ...     ...        ...              ...          ...   \n",
       "9995           771   39     5.0       0.00                2            1   \n",
       "9996           516   35    10.0   57369.61                1            1   \n",
       "9997           709   36     7.0       0.00                1            0   \n",
       "9998           772   42     3.0   75075.31                2            1   \n",
       "9999           792   28     8.0  130142.79                1            1   \n",
       "\n",
       "      is_active_member  estimated_salary  exited  geography_Germany  \\\n",
       "0                    1         101348.88       1                  0   \n",
       "1                    1         112542.58       0                  0   \n",
       "2                    0         113931.57       1                  0   \n",
       "3                    0          93826.63       0                  0   \n",
       "4                    1          79084.10       0                  0   \n",
       "...                ...               ...     ...                ...   \n",
       "9995                 0          96270.64       0                  0   \n",
       "9996                 1         101699.77       0                  0   \n",
       "9997                 1          42085.58       1                  0   \n",
       "9998                 0          92888.52       1                  1   \n",
       "9999                 0          38190.78       0                  0   \n",
       "\n",
       "      geography_Spain  gender_Male  \n",
       "0                   0            0  \n",
       "1                   1            0  \n",
       "2                   0            0  \n",
       "3                   0            0  \n",
       "4                   1            0  \n",
       "...               ...          ...  \n",
       "9995                0            1  \n",
       "9996                0            1  \n",
       "9997                0            0  \n",
       "9998                0            1  \n",
       "9999                0            0  \n",
       "\n",
       "[10000 rows x 12 columns]"
      ]
     },
     "execution_count": 7,
     "metadata": {},
     "output_type": "execute_result"
    }
   ],
   "source": [
    "df = pd.get_dummies(df, drop_first=True)\n",
    "df"
   ]
  },
  {
   "cell_type": "markdown",
   "metadata": {},
   "source": [
    "Далее разделим датасет на выборки:"
   ]
  },
  {
   "cell_type": "code",
   "execution_count": 8,
   "metadata": {},
   "outputs": [
    {
     "name": "stdout",
     "output_type": "stream",
     "text": [
      "Размер тренировочной выборки: 75.0 75.0\n",
      "Размер валидационной выборки: 25.0 25.0\n"
     ]
    }
   ],
   "source": [
    "target = df['exited']\n",
    "features = df.drop('exited', axis=1)\n",
    "features_train, features_valid, target_train, target_valid = train_test_split(\n",
    "    features, target, test_size=0.25, random_state=12345)\n",
    "print('Размер тренировочной выборки:', len(features_train)/len(df)*100, len(target_train)/len(df)*100)\n",
    "print('Размер валидационной выборки:', len(features_valid)/len(df)*100, len(target_valid)/len(df)*100)"
   ]
  },
  {
   "cell_type": "markdown",
   "metadata": {},
   "source": [
    "Для подбора параметров будем использовать методы кроссвалидации, поэтому созданы только тренировочные и тестовые выборки. Далее масштабируем признаки:"
   ]
  },
  {
   "cell_type": "code",
   "execution_count": 9,
   "metadata": {},
   "outputs": [],
   "source": [
    "numeric = ['credit_score', 'age', 'tenure', 'balance', 'estimated_salary']\n",
    "\n",
    "scaler = StandardScaler()\n",
    "scaler.fit(features_train[numeric])\n",
    "features_train[numeric] = scaler.transform(features_train[numeric])\n",
    "features_valid[numeric] = scaler.transform(features_valid[numeric])"
   ]
  },
  {
   "cell_type": "markdown",
   "metadata": {},
   "source": [
    "**Вывод** В данных:\n",
    "* заменены значения NaN;\n",
    "* стандартизированы заголовки столбцов;\n",
    "* убраны ненужные для машинного обучения столбцы;\n",
    "* применен метод OHE;\n",
    "* датасет разделен на выборки;\n",
    "* произведено масштабирование.\n",
    "\n",
    "Теперь выборки готовы для обучения моделей."
   ]
  },
  {
   "cell_type": "markdown",
   "metadata": {},
   "source": [
    "## Исследование задачи"
   ]
  },
  {
   "cell_type": "markdown",
   "metadata": {},
   "source": [
    "Создадим несколько моделей, подберем параметры и по результатам выберем лучшую из них. \n",
    "\n",
    "### Решающее дерево\n",
    "\n",
    "Найдем лучший параметр:"
   ]
  },
  {
   "cell_type": "code",
   "execution_count": 10,
   "metadata": {},
   "outputs": [
    {
     "data": {
      "text/plain": [
       "{'max_depth': 9}"
      ]
     },
     "execution_count": 10,
     "metadata": {},
     "output_type": "execute_result"
    }
   ],
   "source": [
    "parametrs = {'max_depth': range (1,70)}\n",
    "model_dtc = DecisionTreeClassifier(random_state=12345)\n",
    "grid_dtc = GridSearchCV(model_dtc, parametrs, cv=5, scoring='f1')\n",
    "grid_dtc.fit(features_train, target_train)\n",
    "grid_dtc.best_params_"
   ]
  },
  {
   "cell_type": "code",
   "execution_count": 11,
   "metadata": {},
   "outputs": [
    {
     "name": "stdout",
     "output_type": "stream",
     "text": [
      "auc_roc: 0.8002292454400609 f1: 0.5475372279495991\n"
     ]
    }
   ],
   "source": [
    "model_dtc = DecisionTreeClassifier(random_state=12345, max_depth=9)\n",
    "model_dtc.fit(features_train, target_train)\n",
    "predictions_valid_dtc = model_dtc.predict(features_valid)\n",
    "probabilities_valid = model_dtc.predict_proba(features_valid)\n",
    "probabilities_one_valid = probabilities_valid[:, 1]\n",
    "auc_roc = roc_auc_score(target_valid, probabilities_one_valid)\n",
    "print('auc_roc:', auc_roc, 'f1:',f1_score(target_valid, predictions_valid_dtc))"
   ]
  },
  {
   "cell_type": "markdown",
   "metadata": {},
   "source": [
    "### Случайны лес\n",
    "\n",
    "Находим лучшие параметры:"
   ]
  },
  {
   "cell_type": "code",
   "execution_count": 12,
   "metadata": {},
   "outputs": [
    {
     "data": {
      "text/plain": [
       "{'max_depth': 11, 'n_estimators': 50}"
      ]
     },
     "execution_count": 12,
     "metadata": {},
     "output_type": "execute_result"
    }
   ],
   "source": [
    "parametrs = { 'n_estimators': range (10, 51, 10),\n",
    "              'max_depth': range (1,13, 2)}\n",
    "model_dfc = RandomForestClassifier(random_state=12345)\n",
    "grid_dfc = GridSearchCV(model_dfc, parametrs, cv=5, scoring='f1')\n",
    "grid_dfc.fit(features_train, target_train)\n",
    "grid_dfc.best_params_"
   ]
  },
  {
   "cell_type": "code",
   "execution_count": 13,
   "metadata": {},
   "outputs": [
    {
     "name": "stdout",
     "output_type": "stream",
     "text": [
      "auc_roc: 0.8002292454400609 f1: 0.5470085470085471\n"
     ]
    }
   ],
   "source": [
    "model_dfc = RandomForestClassifier(random_state=12345, n_estimators=50, max_depth=11,)\n",
    "model_dfc.fit(features_train, target_train)\n",
    "predictions_valid_dfc = model_dfc.predict(features_valid)\n",
    "probabilities_one_valid = probabilities_valid[:, 1]\n",
    "auc_roc = roc_auc_score(target_valid, probabilities_one_valid)\n",
    "print('auc_roc:', auc_roc, 'f1:',f1_score(target_valid, predictions_valid_dfc))"
   ]
  },
  {
   "cell_type": "markdown",
   "metadata": {},
   "source": [
    "### Линейная регрессия\n",
    "\n",
    "Проверим подходит ли эта модель:"
   ]
  },
  {
   "cell_type": "code",
   "execution_count": 14,
   "metadata": {},
   "outputs": [
    {
     "name": "stdout",
     "output_type": "stream",
     "text": [
      "auc_roc: 0.7587995529238305 f1: 0.2948539638386648\n"
     ]
    }
   ],
   "source": [
    "model_log_r = LogisticRegression(random_state=12345, solver='liblinear')\n",
    "model_log_r.fit(features_train, target_train) \n",
    "predictions_valid_log_r = model_log_r.predict(features_valid)\n",
    "probabilities_valid = model_log_r.predict_proba(features_valid)\n",
    "probabilities_one_valid = probabilities_valid[:, 1]\n",
    "auc_roc = roc_auc_score(target_valid, probabilities_one_valid)\n",
    "print('auc_roc:', auc_roc, 'f1:',f1_score(target_valid, predictions_valid_log_r))"
   ]
  },
  {
   "cell_type": "markdown",
   "metadata": {},
   "source": [
    "Проверим соотномешние параметров в столбце exited:"
   ]
  },
  {
   "cell_type": "code",
   "execution_count": 15,
   "metadata": {},
   "outputs": [
    {
     "data": {
      "text/plain": [
       "0    0.7963\n",
       "1    0.2037\n",
       "Name: exited, dtype: float64"
      ]
     },
     "execution_count": 15,
     "metadata": {},
     "output_type": "execute_result"
    }
   ],
   "source": [
    "target.value_counts()/len(target)"
   ]
  },
  {
   "cell_type": "markdown",
   "metadata": {},
   "source": [
    "**Вывод** В результате получили низкие показатели, судя по всему проблема в том что соотношение отрицательных и положительных ответов в прогнозируемом признаке датасета равно 1:4, попробуем улучшить баланс модели, а затем снова создадим модель логистической регрессии и другие модели на измененных данных."
   ]
  },
  {
   "cell_type": "markdown",
   "metadata": {},
   "source": [
    "## Борьба с дисбалансом\n",
    "\n",
    "Для улучшения баланса сделаем upsample и downsample датасета:"
   ]
  },
  {
   "cell_type": "code",
   "execution_count": 16,
   "metadata": {},
   "outputs": [],
   "source": [
    "#def upsample(features, target, repeat):\n",
    "#    features_zeros = features[target == 0]\n",
    "#    features_ones = features[target == 1]\n",
    "#    target_zeros = target[target == 0]\n",
    "#    target_ones = target[target == 1]\n",
    "#    features_upsampled = pd.concat([features_zeros] + [features_ones] * repeat)\n",
    "#    target_upsampled = pd.concat([target_zeros] + [target_ones] * repeat)    \n",
    "#    features_upsampled, target_upsampled = shuffle(\n",
    "#        features_upsampled, target_upsampled, random_state=12345)\n",
    "#    \n",
    "#    return features_upsampled, target_upsampled\n",
    "#\n",
    "#features_upsampled, target_upsampled = upsample(features_train, target_train, 10)\n",
    "\n",
    "\n",
    "def downsample(features, target, fraction):\n",
    "    features_zeros = features[target == 0]\n",
    "    features_ones = features[target == 1]\n",
    "    target_zeros = target[target == 0]\n",
    "    target_ones = target[target == 1]\n",
    "    features_downsampled = pd.concat(\n",
    "        [features_zeros.sample(frac=fraction, random_state=12345)] + [features_ones])\n",
    "    target_downsampled = pd.concat(\n",
    "        [target_zeros.sample(frac=fraction, random_state=12345)] + [target_ones])    \n",
    "    features_downsampled, target_downsampled = shuffle(\n",
    "        features_downsampled, target_downsampled, random_state=12345)\n",
    "    \n",
    "    return features_downsampled, target_downsampled\n",
    "\n",
    "features_downsampled, target_downsampled = downsample(features_train, target_train, 0.20)"
   ]
  },
  {
   "cell_type": "markdown",
   "metadata": {},
   "source": [
    "**Вывод** В результате перебора параметров с последующей проверкой в моделях тренировочная выборка будет более сбалансирована, для лучшего баланса в дальнейшем укажем параметр: class_weight='balanced'"
   ]
  },
  {
   "cell_type": "markdown",
   "metadata": {},
   "source": [
    "## Тестирование модели\n",
    "\n",
    "### Решающее дерево\n",
    "\n",
    "Найдем лучший параметр:"
   ]
  },
  {
   "cell_type": "code",
   "execution_count": 17,
   "metadata": {},
   "outputs": [
    {
     "data": {
      "text/plain": [
       "{'max_depth': 7}"
      ]
     },
     "execution_count": 17,
     "metadata": {},
     "output_type": "execute_result"
    }
   ],
   "source": [
    "parametrs = {'max_depth': range (1,70)}\n",
    "model_dtc = DecisionTreeClassifier(random_state=12345, class_weight='balanced')\n",
    "grid_dtc = GridSearchCV(model_dtc, parametrs, cv=5, scoring='f1')\n",
    "grid_dtc.fit(features_downsampled, target_downsampled)\n",
    "grid_dtc.best_params_"
   ]
  },
  {
   "cell_type": "code",
   "execution_count": 18,
   "metadata": {},
   "outputs": [
    {
     "name": "stdout",
     "output_type": "stream",
     "text": [
      "auc_roc: 0.8108287555587262 f1: 0.5739130434782609\n"
     ]
    }
   ],
   "source": [
    "model_dtc = DecisionTreeClassifier(random_state=12345, max_depth=7, class_weight='balanced')\n",
    "model_dtc.fit(features_downsampled, target_downsampled)\n",
    "predictions_valid_dtc = model_dtc.predict(features_valid)\n",
    "probabilities_valid = model_dtc.predict_proba(features_valid)\n",
    "probabilities_one_valid = probabilities_valid[:, 1]\n",
    "auc_roc = roc_auc_score(target_valid, probabilities_one_valid)\n",
    "print('auc_roc:', auc_roc, 'f1:',f1_score(target_valid, predictions_valid_dtc))"
   ]
  },
  {
   "cell_type": "markdown",
   "metadata": {},
   "source": [
    "### Случайны лес\n",
    "\n",
    "Находим лучшие параметры:"
   ]
  },
  {
   "cell_type": "code",
   "execution_count": 1,
   "metadata": {},
   "outputs": [
    {
     "ename": "NameError",
     "evalue": "name 'RandomForestClassifier' is not defined",
     "output_type": "error",
     "traceback": [
      "\u001b[0;31m---------------------------------------------------------------------------\u001b[0m",
      "\u001b[0;31mNameError\u001b[0m                                 Traceback (most recent call last)",
      "\u001b[0;32m<ipython-input-1-409a41d54b93>\u001b[0m in \u001b[0;36m<module>\u001b[0;34m\u001b[0m\n\u001b[1;32m      1\u001b[0m parametrs = { 'n_estimators': range (10, 51, 10),\n\u001b[1;32m      2\u001b[0m               'max_depth': range (1,13, 2)}\n\u001b[0;32m----> 3\u001b[0;31m \u001b[0mmodel_dfc\u001b[0m \u001b[0;34m=\u001b[0m \u001b[0mRandomForestClassifier\u001b[0m\u001b[0;34m(\u001b[0m\u001b[0mrandom_state\u001b[0m\u001b[0;34m=\u001b[0m\u001b[0;36m12345\u001b[0m\u001b[0;34m,\u001b[0m \u001b[0mclass_weight\u001b[0m\u001b[0;34m=\u001b[0m\u001b[0;34m'balanced'\u001b[0m\u001b[0;34m)\u001b[0m\u001b[0;34m\u001b[0m\u001b[0;34m\u001b[0m\u001b[0m\n\u001b[0m\u001b[1;32m      4\u001b[0m \u001b[0mgrid_dfc\u001b[0m \u001b[0;34m=\u001b[0m \u001b[0mGridSearchCV\u001b[0m\u001b[0;34m(\u001b[0m\u001b[0mmodel_dfc\u001b[0m\u001b[0;34m,\u001b[0m \u001b[0mparametrs\u001b[0m\u001b[0;34m,\u001b[0m \u001b[0mcv\u001b[0m\u001b[0;34m=\u001b[0m\u001b[0;36m5\u001b[0m\u001b[0;34m)\u001b[0m\u001b[0;34m\u001b[0m\u001b[0;34m\u001b[0m\u001b[0m\n\u001b[1;32m      5\u001b[0m \u001b[0mgrid_dfc\u001b[0m\u001b[0;34m.\u001b[0m\u001b[0mfit\u001b[0m\u001b[0;34m(\u001b[0m\u001b[0mfeatures_downsampled\u001b[0m\u001b[0;34m,\u001b[0m \u001b[0mtarget_downsampled\u001b[0m\u001b[0;34m)\u001b[0m\u001b[0;34m\u001b[0m\u001b[0;34m\u001b[0m\u001b[0m\n",
      "\u001b[0;31mNameError\u001b[0m: name 'RandomForestClassifier' is not defined"
     ]
    }
   ],
   "source": [
    "parametrs = { 'n_estimators': range (10, 51, 10),\n",
    "              'max_depth': range (1,13, 2)}\n",
    "model_dfc = RandomForestClassifier(random_state=12345, class_weight='balanced')\n",
    "grid_dfc = GridSearchCV(model_dfc, parametrs, cv=5, scoring='f1')\n",
    "grid_dfc.fit(features_downsampled, target_downsampled)\n",
    "grid_dfc.best_params_"
   ]
  },
  {
   "cell_type": "code",
   "execution_count": 20,
   "metadata": {},
   "outputs": [
    {
     "name": "stdout",
     "output_type": "stream",
     "text": [
      "auc_roc: 0.8108287555587262 f1: 0.6071428571428571\n"
     ]
    }
   ],
   "source": [
    "model_dfc = RandomForestClassifier(random_state=12345, n_estimators=20, max_depth=9, class_weight='balanced')\n",
    "model_dfc.fit(features_downsampled, target_downsampled)\n",
    "predictions_valid_dfc = model_dfc.predict(features_valid)\n",
    "probabilities_one_valid = probabilities_valid[:, 1]\n",
    "auc_roc = roc_auc_score(target_valid, probabilities_one_valid)\n",
    "print('auc_roc:', auc_roc, 'f1:',f1_score(target_valid, predictions_valid_dfc))"
   ]
  },
  {
   "cell_type": "markdown",
   "metadata": {},
   "source": [
    "### Линейная регрессия\n",
    "\n",
    "Проверим подходит ли эта модель:"
   ]
  },
  {
   "cell_type": "code",
   "execution_count": 21,
   "metadata": {},
   "outputs": [
    {
     "name": "stdout",
     "output_type": "stream",
     "text": [
      "auc_roc: 0.7639390264202992 f1: 0.5110073382254836\n"
     ]
    }
   ],
   "source": [
    "model_log_r = LogisticRegression(random_state=12345, solver='liblinear', class_weight='balanced')\n",
    "model_log_r.fit(features_downsampled, target_downsampled) \n",
    "predictions_valid_log_r = model_log_r.predict(features_valid)\n",
    "probabilities_valid = model_log_r.predict_proba(features_valid)\n",
    "probabilities_one_valid = probabilities_valid[:, 1]\n",
    "auc_roc = roc_auc_score(target_valid, probabilities_one_valid)\n",
    "print('auc_roc:', auc_roc, 'f1:',f1_score(target_valid, predictions_valid_log_r))"
   ]
  },
  {
   "cell_type": "markdown",
   "metadata": {},
   "source": [
    "**Вывод** По условиям задачи нужно выбрать модель с лучшим показателем F1 выше 0.59, ей стала модель случайный лес, её показатель AUC-ROC так же высок, и он не находится на критической отметке в 0.5 равной случайной модели и не противоречит условию поставленной в проекте задачи."
   ]
  }
 ],
 "metadata": {
  "ExecuteTimeLog": [
   {
    "duration": 924,
    "start_time": "2022-02-19T12:53:58.929Z"
   },
   {
    "duration": 38,
    "start_time": "2022-02-19T12:54:25.393Z"
   },
   {
    "duration": 49,
    "start_time": "2022-02-19T12:55:04.590Z"
   },
   {
    "duration": 37,
    "start_time": "2022-02-19T12:57:11.495Z"
   },
   {
    "duration": 3,
    "start_time": "2022-02-19T12:58:07.695Z"
   },
   {
    "duration": 48,
    "start_time": "2022-02-19T12:58:11.177Z"
   },
   {
    "duration": 30,
    "start_time": "2022-02-19T13:09:56.293Z"
   },
   {
    "duration": 30,
    "start_time": "2022-02-19T13:10:03.112Z"
   },
   {
    "duration": 2,
    "start_time": "2022-02-19T13:12:48.276Z"
   },
   {
    "duration": 49,
    "start_time": "2022-02-19T13:12:48.280Z"
   },
   {
    "duration": 20,
    "start_time": "2022-02-19T13:12:48.331Z"
   },
   {
    "duration": 16,
    "start_time": "2022-02-19T13:14:50.159Z"
   },
   {
    "duration": 20,
    "start_time": "2022-02-19T13:15:02.162Z"
   },
   {
    "duration": 2,
    "start_time": "2022-02-19T13:15:04.744Z"
   },
   {
    "duration": 77,
    "start_time": "2022-02-19T13:15:04.748Z"
   },
   {
    "duration": 21,
    "start_time": "2022-02-19T13:15:04.827Z"
   },
   {
    "duration": 37,
    "start_time": "2022-02-19T13:15:22.131Z"
   },
   {
    "duration": 348,
    "start_time": "2022-02-19T13:17:13.879Z"
   },
   {
    "duration": 2,
    "start_time": "2022-02-19T13:17:19.673Z"
   },
   {
    "duration": 59,
    "start_time": "2022-02-19T13:17:19.677Z"
   },
   {
    "duration": 233,
    "start_time": "2022-02-19T13:17:19.739Z"
   },
   {
    "duration": 5,
    "start_time": "2022-02-19T13:17:53.087Z"
   },
   {
    "duration": 228,
    "start_time": "2022-02-19T13:18:07.857Z"
   },
   {
    "duration": 38,
    "start_time": "2022-02-19T13:18:14.714Z"
   },
   {
    "duration": 2,
    "start_time": "2022-02-19T13:18:23.680Z"
   },
   {
    "duration": 50,
    "start_time": "2022-02-19T13:18:23.685Z"
   },
   {
    "duration": 82,
    "start_time": "2022-02-19T13:18:23.737Z"
   },
   {
    "duration": 25,
    "start_time": "2022-02-19T13:18:38.748Z"
   },
   {
    "duration": 3,
    "start_time": "2022-02-19T13:18:42.436Z"
   },
   {
    "duration": 78,
    "start_time": "2022-02-19T13:18:42.453Z"
   },
   {
    "duration": 86,
    "start_time": "2022-02-19T13:18:42.533Z"
   },
   {
    "duration": 2,
    "start_time": "2022-02-19T13:19:55.343Z"
   },
   {
    "duration": 71,
    "start_time": "2022-02-19T13:19:55.348Z"
   },
   {
    "duration": 199,
    "start_time": "2022-02-19T13:19:55.422Z"
   },
   {
    "duration": 195,
    "start_time": "2022-02-19T13:20:07.914Z"
   },
   {
    "duration": 3,
    "start_time": "2022-02-19T13:20:16.948Z"
   },
   {
    "duration": 66,
    "start_time": "2022-02-19T13:20:16.953Z"
   },
   {
    "duration": 198,
    "start_time": "2022-02-19T13:20:17.021Z"
   },
   {
    "duration": 38,
    "start_time": "2022-02-19T13:24:28.205Z"
   },
   {
    "duration": 355,
    "start_time": "2022-02-19T13:35:16.719Z"
   },
   {
    "duration": 2,
    "start_time": "2022-02-19T13:35:23.130Z"
   },
   {
    "duration": 2,
    "start_time": "2022-02-19T13:35:25.998Z"
   },
   {
    "duration": 204,
    "start_time": "2022-02-19T13:35:37.665Z"
   },
   {
    "duration": 4,
    "start_time": "2022-02-19T13:35:42.791Z"
   },
   {
    "duration": 4,
    "start_time": "2022-02-19T13:36:13.556Z"
   },
   {
    "duration": 5,
    "start_time": "2022-02-19T13:36:49.187Z"
   },
   {
    "duration": 4,
    "start_time": "2022-02-19T13:37:18.234Z"
   },
   {
    "duration": 4,
    "start_time": "2022-02-19T13:38:58.319Z"
   },
   {
    "duration": 3,
    "start_time": "2022-02-19T13:39:08.203Z"
   },
   {
    "duration": 778,
    "start_time": "2022-02-19T13:39:19.753Z"
   },
   {
    "duration": 63,
    "start_time": "2022-02-19T13:44:42.928Z"
   },
   {
    "duration": 19,
    "start_time": "2022-02-19T13:44:46.205Z"
   },
   {
    "duration": 213,
    "start_time": "2022-02-19T13:49:33.770Z"
   },
   {
    "duration": 6,
    "start_time": "2022-02-19T13:49:49.965Z"
   },
   {
    "duration": 310,
    "start_time": "2022-02-20T08:29:45.872Z"
   },
   {
    "duration": 620,
    "start_time": "2022-02-20T08:29:51.313Z"
   },
   {
    "duration": 46,
    "start_time": "2022-02-20T08:29:51.935Z"
   },
   {
    "duration": 10,
    "start_time": "2022-02-20T08:29:51.983Z"
   },
   {
    "duration": 12,
    "start_time": "2022-02-20T08:29:51.994Z"
   },
   {
    "duration": 6,
    "start_time": "2022-02-20T08:30:26.211Z"
   },
   {
    "duration": 3,
    "start_time": "2022-02-20T08:30:53.123Z"
   },
   {
    "duration": 59,
    "start_time": "2022-02-20T08:30:53.128Z"
   },
   {
    "duration": 10,
    "start_time": "2022-02-20T08:30:53.189Z"
   },
   {
    "duration": 7,
    "start_time": "2022-02-20T08:30:53.201Z"
   },
   {
    "duration": 6,
    "start_time": "2022-02-20T08:31:23.758Z"
   },
   {
    "duration": 2,
    "start_time": "2022-02-20T08:31:32.155Z"
   },
   {
    "duration": 42,
    "start_time": "2022-02-20T08:31:32.159Z"
   },
   {
    "duration": 10,
    "start_time": "2022-02-20T08:31:32.203Z"
   },
   {
    "duration": 6,
    "start_time": "2022-02-20T08:31:32.216Z"
   },
   {
    "duration": 3,
    "start_time": "2022-02-20T08:31:50.382Z"
   },
   {
    "duration": 37,
    "start_time": "2022-02-20T08:31:50.387Z"
   },
   {
    "duration": 9,
    "start_time": "2022-02-20T08:31:50.426Z"
   },
   {
    "duration": 5,
    "start_time": "2022-02-20T08:31:50.437Z"
   },
   {
    "duration": 7,
    "start_time": "2022-02-20T08:32:15.009Z"
   },
   {
    "duration": 3,
    "start_time": "2022-02-20T08:32:35.867Z"
   },
   {
    "duration": 41,
    "start_time": "2022-02-20T08:32:35.872Z"
   },
   {
    "duration": 10,
    "start_time": "2022-02-20T08:32:35.915Z"
   },
   {
    "duration": 5,
    "start_time": "2022-02-20T08:32:35.927Z"
   },
   {
    "duration": 11,
    "start_time": "2022-02-20T08:32:46.081Z"
   },
   {
    "duration": 3,
    "start_time": "2022-02-20T08:32:49.343Z"
   },
   {
    "duration": 39,
    "start_time": "2022-02-20T08:32:49.348Z"
   },
   {
    "duration": 10,
    "start_time": "2022-02-20T08:32:49.389Z"
   },
   {
    "duration": 6,
    "start_time": "2022-02-20T08:32:49.401Z"
   },
   {
    "duration": 8,
    "start_time": "2022-02-20T08:33:01.568Z"
   },
   {
    "duration": 809,
    "start_time": "2022-02-20T08:40:03.999Z"
   },
   {
    "duration": 25,
    "start_time": "2022-02-20T08:40:13.662Z"
   },
   {
    "duration": 78,
    "start_time": "2022-02-20T08:41:36.781Z"
   },
   {
    "duration": 23,
    "start_time": "2022-02-20T08:41:41.261Z"
   },
   {
    "duration": 7,
    "start_time": "2022-02-20T08:45:02.161Z"
   },
   {
    "duration": 269,
    "start_time": "2022-02-20T08:54:54.142Z"
   },
   {
    "duration": 2,
    "start_time": "2022-02-20T08:55:00.504Z"
   },
   {
    "duration": 47,
    "start_time": "2022-02-20T08:55:00.508Z"
   },
   {
    "duration": 9,
    "start_time": "2022-02-20T08:55:00.557Z"
   },
   {
    "duration": 43,
    "start_time": "2022-02-20T08:55:00.568Z"
   },
   {
    "duration": 286,
    "start_time": "2022-02-20T08:55:00.613Z"
   },
   {
    "duration": -465,
    "start_time": "2022-02-20T08:55:01.366Z"
   },
   {
    "duration": 98,
    "start_time": "2022-02-20T08:57:09.801Z"
   },
   {
    "duration": 6,
    "start_time": "2022-02-20T08:57:15.704Z"
   },
   {
    "duration": 23,
    "start_time": "2022-02-20T08:57:18.857Z"
   },
   {
    "duration": 23,
    "start_time": "2022-02-20T08:58:18.364Z"
   },
   {
    "duration": 32,
    "start_time": "2022-02-20T09:09:52.550Z"
   },
   {
    "duration": 4,
    "start_time": "2022-02-20T09:10:37.283Z"
   },
   {
    "duration": 39,
    "start_time": "2022-02-20T09:10:37.289Z"
   },
   {
    "duration": 11,
    "start_time": "2022-02-20T09:10:37.331Z"
   },
   {
    "duration": 25,
    "start_time": "2022-02-20T09:10:37.345Z"
   },
   {
    "duration": 23,
    "start_time": "2022-02-20T09:10:37.372Z"
   },
   {
    "duration": 85,
    "start_time": "2022-02-20T09:10:37.397Z"
   },
   {
    "duration": -471,
    "start_time": "2022-02-20T09:10:37.955Z"
   },
   {
    "duration": 3399,
    "start_time": "2022-02-20T09:10:48.091Z"
   },
   {
    "duration": 14,
    "start_time": "2022-02-20T09:11:06.032Z"
   },
   {
    "duration": 3,
    "start_time": "2022-02-20T09:11:46.782Z"
   },
   {
    "duration": 37,
    "start_time": "2022-02-20T09:11:46.787Z"
   },
   {
    "duration": 9,
    "start_time": "2022-02-20T09:11:46.827Z"
   },
   {
    "duration": 24,
    "start_time": "2022-02-20T09:11:46.837Z"
   },
   {
    "duration": 21,
    "start_time": "2022-02-20T09:11:46.862Z"
   },
   {
    "duration": 20,
    "start_time": "2022-02-20T09:11:46.885Z"
   },
   {
    "duration": 6497,
    "start_time": "2022-02-20T09:11:46.907Z"
   },
   {
    "duration": 21,
    "start_time": "2022-02-20T09:12:11.705Z"
   },
   {
    "duration": 3,
    "start_time": "2022-02-20T09:12:16.806Z"
   },
   {
    "duration": 52,
    "start_time": "2022-02-20T09:12:16.811Z"
   },
   {
    "duration": 10,
    "start_time": "2022-02-20T09:12:16.865Z"
   },
   {
    "duration": 26,
    "start_time": "2022-02-20T09:12:16.877Z"
   },
   {
    "duration": 22,
    "start_time": "2022-02-20T09:12:16.905Z"
   },
   {
    "duration": 41,
    "start_time": "2022-02-20T09:12:16.928Z"
   },
   {
    "duration": 6824,
    "start_time": "2022-02-20T09:12:16.971Z"
   },
   {
    "duration": 8,
    "start_time": "2022-02-20T09:12:54.624Z"
   },
   {
    "duration": 2,
    "start_time": "2022-02-20T09:13:12.564Z"
   },
   {
    "duration": 50,
    "start_time": "2022-02-20T09:13:12.568Z"
   },
   {
    "duration": 10,
    "start_time": "2022-02-20T09:13:12.621Z"
   },
   {
    "duration": 20,
    "start_time": "2022-02-20T09:13:12.633Z"
   },
   {
    "duration": 23,
    "start_time": "2022-02-20T09:13:12.655Z"
   },
   {
    "duration": 6813,
    "start_time": "2022-02-20T09:13:12.684Z"
   },
   {
    "duration": -517,
    "start_time": "2022-02-20T09:15:05.978Z"
   },
   {
    "duration": -524,
    "start_time": "2022-02-20T09:15:05.986Z"
   },
   {
    "duration": -528,
    "start_time": "2022-02-20T09:15:05.991Z"
   },
   {
    "duration": -533,
    "start_time": "2022-02-20T09:15:05.997Z"
   },
   {
    "duration": -535,
    "start_time": "2022-02-20T09:15:06.000Z"
   },
   {
    "duration": -539,
    "start_time": "2022-02-20T09:15:06.005Z"
   },
   {
    "duration": 643,
    "start_time": "2022-02-20T09:15:27.602Z"
   },
   {
    "duration": 52,
    "start_time": "2022-02-20T09:15:28.247Z"
   },
   {
    "duration": 8,
    "start_time": "2022-02-20T09:15:28.301Z"
   },
   {
    "duration": 28,
    "start_time": "2022-02-20T09:15:28.312Z"
   },
   {
    "duration": 51,
    "start_time": "2022-02-20T09:15:28.342Z"
   },
   {
    "duration": 29,
    "start_time": "2022-02-20T09:15:28.395Z"
   },
   {
    "duration": 369,
    "start_time": "2022-02-20T10:05:37.932Z"
   },
   {
    "duration": 319,
    "start_time": "2022-02-20T10:05:47.294Z"
   },
   {
    "duration": 471,
    "start_time": "2022-02-20T10:06:02.041Z"
   },
   {
    "duration": 9,
    "start_time": "2022-02-20T10:06:05.946Z"
   },
   {
    "duration": 1087,
    "start_time": "2022-02-20T10:08:27.906Z"
   },
   {
    "duration": 45,
    "start_time": "2022-02-20T10:08:28.996Z"
   },
   {
    "duration": 10,
    "start_time": "2022-02-20T10:08:29.043Z"
   },
   {
    "duration": 31,
    "start_time": "2022-02-20T10:08:29.055Z"
   },
   {
    "duration": 21,
    "start_time": "2022-02-20T10:08:29.088Z"
   },
   {
    "duration": 58,
    "start_time": "2022-02-20T10:08:29.111Z"
   },
   {
    "duration": 28983,
    "start_time": "2022-02-20T10:08:29.171Z"
   },
   {
    "duration": 4,
    "start_time": "2022-02-20T10:09:36.082Z"
   },
   {
    "duration": 41,
    "start_time": "2022-02-20T10:09:36.088Z"
   },
   {
    "duration": 11,
    "start_time": "2022-02-20T10:09:36.131Z"
   },
   {
    "duration": 25,
    "start_time": "2022-02-20T10:09:36.144Z"
   },
   {
    "duration": 37,
    "start_time": "2022-02-20T10:09:36.171Z"
   },
   {
    "duration": 38,
    "start_time": "2022-02-20T10:09:36.210Z"
   },
   {
    "duration": 8,
    "start_time": "2022-02-20T10:09:36.250Z"
   },
   {
    "duration": 12,
    "start_time": "2022-02-20T10:10:10.347Z"
   },
   {
    "duration": 3,
    "start_time": "2022-02-20T10:10:46.416Z"
   },
   {
    "duration": 47,
    "start_time": "2022-02-20T10:10:46.422Z"
   },
   {
    "duration": 11,
    "start_time": "2022-02-20T10:10:46.472Z"
   },
   {
    "duration": 24,
    "start_time": "2022-02-20T10:10:46.486Z"
   },
   {
    "duration": 23,
    "start_time": "2022-02-20T10:10:46.513Z"
   },
   {
    "duration": 59,
    "start_time": "2022-02-20T10:10:46.538Z"
   },
   {
    "duration": 12,
    "start_time": "2022-02-20T10:10:46.599Z"
   },
   {
    "duration": 25,
    "start_time": "2022-02-20T10:13:17.391Z"
   },
   {
    "duration": 38,
    "start_time": "2022-02-20T10:13:29.132Z"
   },
   {
    "duration": 4,
    "start_time": "2022-02-20T10:15:54.322Z"
   },
   {
    "duration": 44,
    "start_time": "2022-02-20T10:15:54.328Z"
   },
   {
    "duration": 10,
    "start_time": "2022-02-20T10:15:54.375Z"
   },
   {
    "duration": 20,
    "start_time": "2022-02-20T10:15:54.387Z"
   },
   {
    "duration": 22,
    "start_time": "2022-02-20T10:15:54.409Z"
   },
   {
    "duration": 58,
    "start_time": "2022-02-20T10:15:54.433Z"
   },
   {
    "duration": 10,
    "start_time": "2022-02-20T10:15:54.493Z"
   },
   {
    "duration": 46,
    "start_time": "2022-02-20T10:15:54.505Z"
   },
   {
    "duration": 292,
    "start_time": "2022-02-20T11:32:01.903Z"
   },
   {
    "duration": 1181,
    "start_time": "2022-02-20T11:32:08.537Z"
   },
   {
    "duration": 312,
    "start_time": "2022-02-20T11:32:11.858Z"
   },
   {
    "duration": 4,
    "start_time": "2022-02-20T11:32:37.780Z"
   },
   {
    "duration": 72,
    "start_time": "2022-02-20T11:32:37.786Z"
   },
   {
    "duration": 9,
    "start_time": "2022-02-20T11:32:37.861Z"
   },
   {
    "duration": 50,
    "start_time": "2022-02-20T11:32:37.872Z"
   },
   {
    "duration": 20,
    "start_time": "2022-02-20T11:32:37.924Z"
   },
   {
    "duration": 29,
    "start_time": "2022-02-20T11:32:37.946Z"
   },
   {
    "duration": 12,
    "start_time": "2022-02-20T11:32:37.977Z"
   },
   {
    "duration": 49,
    "start_time": "2022-02-20T11:32:37.991Z"
   },
   {
    "duration": 10427,
    "start_time": "2022-02-20T11:32:38.043Z"
   },
   {
    "duration": 275,
    "start_time": "2022-02-20T11:33:24.618Z"
   },
   {
    "duration": 524,
    "start_time": "2022-02-20T11:35:56.277Z"
   },
   {
    "duration": 5,
    "start_time": "2022-02-20T11:36:04.154Z"
   },
   {
    "duration": 26,
    "start_time": "2022-02-20T11:36:08.623Z"
   },
   {
    "duration": 93,
    "start_time": "2022-02-20T11:42:01.578Z"
   },
   {
    "duration": 5,
    "start_time": "2022-02-20T11:44:01.609Z"
   },
   {
    "duration": 345,
    "start_time": "2022-02-20T11:46:13.837Z"
   },
   {
    "duration": 307,
    "start_time": "2022-02-20T11:46:23.649Z"
   },
   {
    "duration": 68,
    "start_time": "2022-02-20T11:46:31.802Z"
   },
   {
    "duration": 104,
    "start_time": "2022-02-20T12:08:01.965Z"
   },
   {
    "duration": 5,
    "start_time": "2022-02-20T12:08:38.446Z"
   },
   {
    "duration": 36,
    "start_time": "2022-02-20T12:08:38.453Z"
   },
   {
    "duration": 9,
    "start_time": "2022-02-20T12:08:38.491Z"
   },
   {
    "duration": 20,
    "start_time": "2022-02-20T12:08:38.502Z"
   },
   {
    "duration": 46,
    "start_time": "2022-02-20T12:08:38.524Z"
   },
   {
    "duration": 30,
    "start_time": "2022-02-20T12:08:38.572Z"
   },
   {
    "duration": 13,
    "start_time": "2022-02-20T12:08:38.604Z"
   },
   {
    "duration": 60,
    "start_time": "2022-02-20T12:08:38.619Z"
   },
   {
    "duration": 91,
    "start_time": "2022-02-20T12:08:38.681Z"
   },
   {
    "duration": 329,
    "start_time": "2022-02-20T12:15:29.984Z"
   },
   {
    "duration": 6,
    "start_time": "2022-02-20T12:16:10.629Z"
   },
   {
    "duration": 90,
    "start_time": "2022-02-20T12:16:25.754Z"
   },
   {
    "duration": 90,
    "start_time": "2022-02-20T12:16:34.940Z"
   },
   {
    "duration": 5,
    "start_time": "2022-02-20T12:16:56.848Z"
   },
   {
    "duration": 6,
    "start_time": "2022-02-20T12:17:30.373Z"
   },
   {
    "duration": 7,
    "start_time": "2022-02-20T12:19:01.588Z"
   },
   {
    "duration": 11,
    "start_time": "2022-02-20T12:19:26.363Z"
   },
   {
    "duration": 4,
    "start_time": "2022-02-20T12:24:49.156Z"
   },
   {
    "duration": 51,
    "start_time": "2022-02-20T12:24:49.162Z"
   },
   {
    "duration": 11,
    "start_time": "2022-02-20T12:24:49.215Z"
   },
   {
    "duration": 22,
    "start_time": "2022-02-20T12:24:49.228Z"
   },
   {
    "duration": 26,
    "start_time": "2022-02-20T12:24:49.252Z"
   },
   {
    "duration": 32,
    "start_time": "2022-02-20T12:24:49.281Z"
   },
   {
    "duration": 13,
    "start_time": "2022-02-20T12:24:49.315Z"
   },
   {
    "duration": 50,
    "start_time": "2022-02-20T12:24:49.331Z"
   },
   {
    "duration": 88,
    "start_time": "2022-02-20T12:24:49.384Z"
   },
   {
    "duration": 98,
    "start_time": "2022-02-20T12:24:49.474Z"
   },
   {
    "duration": 462,
    "start_time": "2022-02-20T12:38:16.729Z"
   },
   {
    "duration": 5,
    "start_time": "2022-02-20T12:38:33.320Z"
   },
   {
    "duration": 39,
    "start_time": "2022-02-20T12:38:38.824Z"
   },
   {
    "duration": 10498,
    "start_time": "2022-02-20T12:40:35.089Z"
   },
   {
    "duration": 32,
    "start_time": "2022-02-20T12:43:07.941Z"
   },
   {
    "duration": 9982,
    "start_time": "2022-02-20T12:44:34.734Z"
   },
   {
    "duration": 281,
    "start_time": "2022-02-20T12:46:33.446Z"
   },
   {
    "duration": 31,
    "start_time": "2022-02-20T12:46:35.179Z"
   },
   {
    "duration": 278,
    "start_time": "2022-02-20T12:50:57.249Z"
   },
   {
    "duration": 4,
    "start_time": "2022-02-20T12:52:39.855Z"
   },
   {
    "duration": 42,
    "start_time": "2022-02-20T12:52:39.861Z"
   },
   {
    "duration": 10,
    "start_time": "2022-02-20T12:52:39.905Z"
   },
   {
    "duration": 22,
    "start_time": "2022-02-20T12:52:39.917Z"
   },
   {
    "duration": 38,
    "start_time": "2022-02-20T12:52:39.941Z"
   },
   {
    "duration": 30,
    "start_time": "2022-02-20T12:52:39.981Z"
   },
   {
    "duration": 12,
    "start_time": "2022-02-20T12:52:40.013Z"
   },
   {
    "duration": 47,
    "start_time": "2022-02-20T12:52:40.028Z"
   },
   {
    "duration": 10441,
    "start_time": "2022-02-20T12:52:40.078Z"
   },
   {
    "duration": 29,
    "start_time": "2022-02-20T12:52:50.520Z"
   },
   {
    "duration": 9829,
    "start_time": "2022-02-20T12:52:50.550Z"
   },
   {
    "duration": 296,
    "start_time": "2022-02-20T12:53:00.381Z"
   },
   {
    "duration": -676,
    "start_time": "2022-02-20T12:53:01.355Z"
   },
   {
    "duration": -698,
    "start_time": "2022-02-20T12:53:01.378Z"
   },
   {
    "duration": -699,
    "start_time": "2022-02-20T12:53:01.380Z"
   },
   {
    "duration": 288,
    "start_time": "2022-02-20T12:53:30.024Z"
   },
   {
    "duration": 1139,
    "start_time": "2022-02-20T12:54:40.902Z"
   },
   {
    "duration": 38,
    "start_time": "2022-02-20T12:54:42.043Z"
   },
   {
    "duration": 10,
    "start_time": "2022-02-20T12:54:42.084Z"
   },
   {
    "duration": 27,
    "start_time": "2022-02-20T12:54:42.097Z"
   },
   {
    "duration": 43,
    "start_time": "2022-02-20T12:54:42.126Z"
   },
   {
    "duration": 33,
    "start_time": "2022-02-20T12:54:42.171Z"
   },
   {
    "duration": 11,
    "start_time": "2022-02-20T12:54:42.206Z"
   },
   {
    "duration": 22,
    "start_time": "2022-02-20T12:54:42.218Z"
   },
   {
    "duration": 10615,
    "start_time": "2022-02-20T12:54:42.242Z"
   },
   {
    "duration": 427,
    "start_time": "2022-02-20T12:54:52.859Z"
   },
   {
    "duration": -673,
    "start_time": "2022-02-20T12:54:53.961Z"
   },
   {
    "duration": -677,
    "start_time": "2022-02-20T12:54:53.966Z"
   },
   {
    "duration": -688,
    "start_time": "2022-02-20T12:54:53.978Z"
   },
   {
    "duration": 4,
    "start_time": "2022-02-20T12:58:38.341Z"
   },
   {
    "duration": 54,
    "start_time": "2022-02-20T12:58:38.347Z"
   },
   {
    "duration": 10,
    "start_time": "2022-02-20T12:58:38.404Z"
   },
   {
    "duration": 22,
    "start_time": "2022-02-20T12:58:38.417Z"
   },
   {
    "duration": 42,
    "start_time": "2022-02-20T12:58:38.441Z"
   },
   {
    "duration": 29,
    "start_time": "2022-02-20T12:58:38.485Z"
   },
   {
    "duration": 12,
    "start_time": "2022-02-20T12:58:38.516Z"
   },
   {
    "duration": 50,
    "start_time": "2022-02-20T12:58:38.530Z"
   },
   {
    "duration": 10346,
    "start_time": "2022-02-20T12:58:38.583Z"
   },
   {
    "duration": 351,
    "start_time": "2022-02-20T12:58:48.930Z"
   },
   {
    "duration": -668,
    "start_time": "2022-02-20T12:58:49.951Z"
   },
   {
    "duration": -669,
    "start_time": "2022-02-20T12:58:49.953Z"
   },
   {
    "duration": -772,
    "start_time": "2022-02-20T12:58:50.057Z"
   },
   {
    "duration": 1108,
    "start_time": "2022-02-20T12:59:11.431Z"
   },
   {
    "duration": 37,
    "start_time": "2022-02-20T12:59:12.541Z"
   },
   {
    "duration": 13,
    "start_time": "2022-02-20T12:59:12.581Z"
   },
   {
    "duration": 32,
    "start_time": "2022-02-20T12:59:12.596Z"
   },
   {
    "duration": 49,
    "start_time": "2022-02-20T12:59:12.630Z"
   },
   {
    "duration": 32,
    "start_time": "2022-02-20T12:59:12.680Z"
   },
   {
    "duration": 12,
    "start_time": "2022-02-20T12:59:12.714Z"
   },
   {
    "duration": 47,
    "start_time": "2022-02-20T12:59:12.729Z"
   },
   {
    "duration": 10952,
    "start_time": "2022-02-20T12:59:12.778Z"
   },
   {
    "duration": 439,
    "start_time": "2022-02-20T12:59:23.732Z"
   },
   {
    "duration": -698,
    "start_time": "2022-02-20T12:59:24.871Z"
   },
   {
    "duration": -716,
    "start_time": "2022-02-20T12:59:24.890Z"
   },
   {
    "duration": -722,
    "start_time": "2022-02-20T12:59:24.897Z"
   },
   {
    "duration": 1166,
    "start_time": "2022-02-20T12:59:48.383Z"
   },
   {
    "duration": 47,
    "start_time": "2022-02-20T12:59:49.552Z"
   },
   {
    "duration": 16,
    "start_time": "2022-02-20T12:59:49.601Z"
   },
   {
    "duration": 52,
    "start_time": "2022-02-20T12:59:49.619Z"
   },
   {
    "duration": 21,
    "start_time": "2022-02-20T12:59:49.674Z"
   },
   {
    "duration": 32,
    "start_time": "2022-02-20T12:59:49.698Z"
   },
   {
    "duration": 17,
    "start_time": "2022-02-20T12:59:49.733Z"
   },
   {
    "duration": 41,
    "start_time": "2022-02-20T12:59:49.771Z"
   },
   {
    "duration": 10902,
    "start_time": "2022-02-20T12:59:49.814Z"
   },
   {
    "duration": 33,
    "start_time": "2022-02-20T13:00:00.719Z"
   },
   {
    "duration": 565290,
    "start_time": "2022-02-20T13:00:00.754Z"
   },
   {
    "duration": 463,
    "start_time": "2022-02-20T13:09:26.046Z"
   },
   {
    "duration": -676,
    "start_time": "2022-02-20T13:09:27.187Z"
   },
   {
    "duration": 82,
    "start_time": "2022-02-20T13:12:42.844Z"
   },
   {
    "duration": 559,
    "start_time": "2022-02-20T13:12:49.923Z"
   },
   {
    "duration": 288,
    "start_time": "2022-02-20T13:13:31.837Z"
   },
   {
    "duration": 92,
    "start_time": "2022-02-20T13:13:47.679Z"
   },
   {
    "duration": 8,
    "start_time": "2022-02-20T13:14:51.366Z"
   },
   {
    "duration": 37,
    "start_time": "2022-02-20T13:18:30.750Z"
   },
   {
    "duration": 32,
    "start_time": "2022-02-20T13:23:15.257Z"
   },
   {
    "duration": 45,
    "start_time": "2022-02-20T13:23:49.755Z"
   },
   {
    "duration": 72,
    "start_time": "2022-02-20T13:24:16.027Z"
   },
   {
    "duration": 10690,
    "start_time": "2022-02-20T13:24:56.710Z"
   },
   {
    "duration": 19523,
    "start_time": "2022-02-20T13:25:50.207Z"
   },
   {
    "duration": 79,
    "start_time": "2022-02-20T13:26:15.637Z"
   },
   {
    "duration": 1108,
    "start_time": "2022-02-20T14:00:36.319Z"
   },
   {
    "duration": 47,
    "start_time": "2022-02-20T14:00:37.429Z"
   },
   {
    "duration": 10,
    "start_time": "2022-02-20T14:00:37.481Z"
   },
   {
    "duration": 40,
    "start_time": "2022-02-20T14:00:37.493Z"
   },
   {
    "duration": 21,
    "start_time": "2022-02-20T14:00:37.534Z"
   },
   {
    "duration": 41,
    "start_time": "2022-02-20T14:00:37.557Z"
   },
   {
    "duration": 13,
    "start_time": "2022-02-20T14:00:37.601Z"
   },
   {
    "duration": 52,
    "start_time": "2022-02-20T14:00:37.617Z"
   },
   {
    "duration": 10673,
    "start_time": "2022-02-20T14:00:37.672Z"
   },
   {
    "duration": 42,
    "start_time": "2022-02-20T14:00:48.347Z"
   },
   {
    "duration": 571690,
    "start_time": "2022-02-20T14:00:48.392Z"
   },
   {
    "duration": 316,
    "start_time": "2022-02-20T14:10:20.084Z"
   },
   {
    "duration": 80,
    "start_time": "2022-02-20T14:10:20.402Z"
   },
   {
    "duration": 92,
    "start_time": "2022-02-20T14:10:20.484Z"
   },
   {
    "duration": 46,
    "start_time": "2022-02-20T14:10:20.669Z"
   },
   {
    "duration": 17531,
    "start_time": "2022-02-20T14:10:20.717Z"
   },
   {
    "duration": 78,
    "start_time": "2022-02-20T14:10:38.250Z"
   },
   {
    "duration": 1276195,
    "start_time": "2022-02-20T14:10:38.330Z"
   },
   {
    "duration": 71,
    "start_time": "2022-02-20T14:32:19.548Z"
   },
   {
    "duration": 830,
    "start_time": "2022-02-20T14:33:05.383Z"
   },
   {
    "duration": 215,
    "start_time": "2022-02-20T14:34:04.056Z"
   },
   {
    "duration": 15,
    "start_time": "2022-02-20T14:35:02.209Z"
   },
   {
    "duration": 3668,
    "start_time": "2022-02-20T14:35:15.586Z"
   },
   {
    "duration": 25,
    "start_time": "2022-02-20T14:35:28.894Z"
   },
   {
    "duration": 275993,
    "start_time": "2022-02-20T14:36:16.412Z"
   },
   {
    "duration": 134,
    "start_time": "2022-02-20T14:45:36.233Z"
   },
   {
    "duration": 22,
    "start_time": "2022-02-20T14:45:54.914Z"
   },
   {
    "duration": 14,
    "start_time": "2022-02-20T14:46:04.828Z"
   },
   {
    "duration": 4268,
    "start_time": "2022-02-20T14:46:07.166Z"
   },
   {
    "duration": 21,
    "start_time": "2022-02-20T14:46:15.282Z"
   },
   {
    "duration": 17,
    "start_time": "2022-02-20T14:46:20.782Z"
   },
   {
    "duration": 6917,
    "start_time": "2022-02-20T14:46:23.454Z"
   },
   {
    "duration": 28,
    "start_time": "2022-02-20T14:46:35.733Z"
   },
   {
    "duration": 16,
    "start_time": "2022-02-20T14:46:44.383Z"
   },
   {
    "duration": 3034,
    "start_time": "2022-02-20T14:46:46.477Z"
   },
   {
    "duration": 19,
    "start_time": "2022-02-20T14:46:53.195Z"
   },
   {
    "duration": 13,
    "start_time": "2022-02-20T14:47:00.679Z"
   },
   {
    "duration": 13,
    "start_time": "2022-02-20T14:47:23.814Z"
   },
   {
    "duration": 3124,
    "start_time": "2022-02-20T14:47:25.577Z"
   },
   {
    "duration": 30,
    "start_time": "2022-02-20T14:47:33.484Z"
   },
   {
    "duration": 3033,
    "start_time": "2022-02-20T14:47:53.739Z"
   },
   {
    "duration": 20,
    "start_time": "2022-02-20T14:48:00.475Z"
   },
   {
    "duration": 16,
    "start_time": "2022-02-20T14:48:03.652Z"
   },
   {
    "duration": 4631,
    "start_time": "2022-02-20T14:48:05.505Z"
   },
   {
    "duration": 11779,
    "start_time": "2022-02-20T14:49:28.977Z"
   },
   {
    "duration": 180,
    "start_time": "2022-02-20T14:49:58.714Z"
   },
   {
    "duration": 14,
    "start_time": "2022-02-20T14:50:07.318Z"
   },
   {
    "duration": 9265,
    "start_time": "2022-02-20T14:50:09.786Z"
   },
   {
    "duration": 113,
    "start_time": "2022-02-20T14:50:27.497Z"
   },
   {
    "duration": 9286,
    "start_time": "2022-02-20T14:50:57.109Z"
   },
   {
    "duration": 124,
    "start_time": "2022-02-20T14:51:08.092Z"
   },
   {
    "duration": 15,
    "start_time": "2022-02-20T14:51:17.373Z"
   },
   {
    "duration": 14,
    "start_time": "2022-02-20T14:51:29.757Z"
   },
   {
    "duration": 10579,
    "start_time": "2022-02-20T14:51:34.545Z"
   },
   {
    "duration": 182,
    "start_time": "2022-02-20T14:51:50.984Z"
   },
   {
    "duration": 14,
    "start_time": "2022-02-20T14:51:57.138Z"
   },
   {
    "duration": 11503,
    "start_time": "2022-02-20T14:52:17.134Z"
   },
   {
    "duration": 49,
    "start_time": "2022-02-20T14:52:47.337Z"
   },
   {
    "duration": 14,
    "start_time": "2022-02-20T14:52:59.351Z"
   },
   {
    "duration": 9444,
    "start_time": "2022-02-20T14:53:02.467Z"
   },
   {
    "duration": 122,
    "start_time": "2022-02-20T14:53:22.605Z"
   },
   {
    "duration": 13,
    "start_time": "2022-02-20T14:53:28.121Z"
   },
   {
    "duration": 10044,
    "start_time": "2022-02-20T14:53:32.753Z"
   },
   {
    "duration": 124,
    "start_time": "2022-02-20T14:53:51.824Z"
   },
   {
    "duration": 135,
    "start_time": "2022-02-20T14:53:57.098Z"
   },
   {
    "duration": 10341,
    "start_time": "2022-02-20T14:54:15.006Z"
   },
   {
    "duration": 138,
    "start_time": "2022-02-20T14:55:08.256Z"
   },
   {
    "duration": 10566,
    "start_time": "2022-02-20T14:55:13.567Z"
   },
   {
    "duration": 22,
    "start_time": "2022-02-20T14:55:32.745Z"
   },
   {
    "duration": 11795,
    "start_time": "2022-02-20T14:55:37.242Z"
   },
   {
    "duration": 190,
    "start_time": "2022-02-20T14:55:55.677Z"
   },
   {
    "duration": 218,
    "start_time": "2022-02-20T14:56:09.051Z"
   },
   {
    "duration": 4668,
    "start_time": "2022-02-20T14:56:13.527Z"
   },
   {
    "duration": 22,
    "start_time": "2022-02-20T14:56:23.736Z"
   },
   {
    "duration": 20963,
    "start_time": "2022-02-20T14:57:12.212Z"
   },
   {
    "duration": 385,
    "start_time": "2022-02-20T14:57:45.010Z"
   },
   {
    "duration": 4,
    "start_time": "2022-02-20T15:07:22.015Z"
   },
   {
    "duration": 39,
    "start_time": "2022-02-20T15:07:22.021Z"
   },
   {
    "duration": 11,
    "start_time": "2022-02-20T15:07:22.083Z"
   },
   {
    "duration": 21,
    "start_time": "2022-02-20T15:07:22.156Z"
   },
   {
    "duration": 22,
    "start_time": "2022-02-20T15:07:22.229Z"
   },
   {
    "duration": 30,
    "start_time": "2022-02-20T15:07:22.253Z"
   },
   {
    "duration": 11,
    "start_time": "2022-02-20T15:07:22.286Z"
   },
   {
    "duration": 44,
    "start_time": "2022-02-20T15:07:22.299Z"
   },
   {
    "duration": 10650,
    "start_time": "2022-02-20T15:07:22.417Z"
   },
   {
    "duration": 33,
    "start_time": "2022-02-20T15:07:33.069Z"
   },
   {
    "duration": 20592,
    "start_time": "2022-02-20T15:07:33.105Z"
   },
   {
    "duration": 408,
    "start_time": "2022-02-20T15:07:53.699Z"
   },
   {
    "duration": 70,
    "start_time": "2022-02-20T15:07:54.109Z"
   },
   {
    "duration": 7,
    "start_time": "2022-02-20T15:07:54.270Z"
   },
   {
    "duration": 14,
    "start_time": "2022-02-20T15:07:54.279Z"
   },
   {
    "duration": 4489,
    "start_time": "2022-02-20T15:07:54.296Z"
   },
   {
    "duration": 20,
    "start_time": "2022-02-20T15:07:58.787Z"
   },
   {
    "duration": 11325,
    "start_time": "2022-02-20T15:07:58.809Z"
   },
   {
    "duration": 187,
    "start_time": "2022-02-20T15:08:10.136Z"
   },
   {
    "duration": 54,
    "start_time": "2022-02-20T15:08:10.325Z"
   },
   {
    "duration": 4,
    "start_time": "2022-02-20T15:08:55.107Z"
   },
   {
    "duration": 42,
    "start_time": "2022-02-20T15:08:55.113Z"
   },
   {
    "duration": 11,
    "start_time": "2022-02-20T15:08:55.157Z"
   },
   {
    "duration": 20,
    "start_time": "2022-02-20T15:08:55.170Z"
   },
   {
    "duration": 27,
    "start_time": "2022-02-20T15:08:55.192Z"
   },
   {
    "duration": 49,
    "start_time": "2022-02-20T15:08:55.221Z"
   },
   {
    "duration": 13,
    "start_time": "2022-02-20T15:08:55.272Z"
   },
   {
    "duration": 21,
    "start_time": "2022-02-20T15:08:55.289Z"
   },
   {
    "duration": 10622,
    "start_time": "2022-02-20T15:08:55.313Z"
   },
   {
    "duration": 42,
    "start_time": "2022-02-20T15:09:05.937Z"
   },
   {
    "duration": 20689,
    "start_time": "2022-02-20T15:09:05.981Z"
   },
   {
    "duration": 398,
    "start_time": "2022-02-20T15:09:26.671Z"
   },
   {
    "duration": 100,
    "start_time": "2022-02-20T15:09:27.071Z"
   },
   {
    "duration": 97,
    "start_time": "2022-02-20T15:09:27.174Z"
   },
   {
    "duration": 14,
    "start_time": "2022-02-20T15:09:27.272Z"
   },
   {
    "duration": 4438,
    "start_time": "2022-02-20T15:09:27.288Z"
   },
   {
    "duration": 20,
    "start_time": "2022-02-20T15:09:31.728Z"
   },
   {
    "duration": 11468,
    "start_time": "2022-02-20T15:09:31.750Z"
   },
   {
    "duration": 187,
    "start_time": "2022-02-20T15:09:43.220Z"
   },
   {
    "duration": 65,
    "start_time": "2022-02-20T15:09:43.410Z"
   },
   {
    "duration": 4,
    "start_time": "2022-02-20T15:10:25.436Z"
   },
   {
    "duration": 50,
    "start_time": "2022-02-20T15:10:25.443Z"
   },
   {
    "duration": 11,
    "start_time": "2022-02-20T15:10:25.496Z"
   },
   {
    "duration": 22,
    "start_time": "2022-02-20T15:10:25.509Z"
   },
   {
    "duration": 47,
    "start_time": "2022-02-20T15:10:25.533Z"
   },
   {
    "duration": 29,
    "start_time": "2022-02-20T15:10:25.581Z"
   },
   {
    "duration": 11,
    "start_time": "2022-02-20T15:10:25.612Z"
   },
   {
    "duration": 44,
    "start_time": "2022-02-20T15:10:25.625Z"
   },
   {
    "duration": 10595,
    "start_time": "2022-02-20T15:10:25.673Z"
   },
   {
    "duration": 30,
    "start_time": "2022-02-20T15:10:36.270Z"
   },
   {
    "duration": 20516,
    "start_time": "2022-02-20T15:10:36.302Z"
   },
   {
    "duration": 363,
    "start_time": "2022-02-20T15:10:56.821Z"
   },
   {
    "duration": 86,
    "start_time": "2022-02-20T15:10:57.186Z"
   },
   {
    "duration": 97,
    "start_time": "2022-02-20T15:10:57.274Z"
   },
   {
    "duration": 28,
    "start_time": "2022-02-20T15:10:57.373Z"
   },
   {
    "duration": 4512,
    "start_time": "2022-02-20T15:10:57.403Z"
   },
   {
    "duration": 20,
    "start_time": "2022-02-20T15:11:01.916Z"
   },
   {
    "duration": 11512,
    "start_time": "2022-02-20T15:11:01.938Z"
   },
   {
    "duration": 167,
    "start_time": "2022-02-20T15:11:13.451Z"
   },
   {
    "duration": 59,
    "start_time": "2022-02-20T15:11:13.620Z"
   },
   {
    "duration": 179,
    "start_time": "2022-02-20T15:11:25.219Z"
   },
   {
    "duration": 1112,
    "start_time": "2022-02-21T12:46:45.396Z"
   },
   {
    "duration": 35,
    "start_time": "2022-02-21T12:46:46.510Z"
   },
   {
    "duration": 8,
    "start_time": "2022-02-21T12:46:46.547Z"
   },
   {
    "duration": 25,
    "start_time": "2022-02-21T12:46:46.556Z"
   },
   {
    "duration": 18,
    "start_time": "2022-02-21T12:46:46.582Z"
   },
   {
    "duration": 27,
    "start_time": "2022-02-21T12:46:46.601Z"
   },
   {
    "duration": 33,
    "start_time": "2022-02-21T12:46:46.630Z"
   },
   {
    "duration": 18,
    "start_time": "2022-02-21T12:46:46.666Z"
   },
   {
    "duration": 9678,
    "start_time": "2022-02-21T12:46:46.686Z"
   },
   {
    "duration": 28,
    "start_time": "2022-02-21T12:46:56.366Z"
   },
   {
    "duration": 18121,
    "start_time": "2022-02-21T12:46:56.396Z"
   },
   {
    "duration": 297,
    "start_time": "2022-02-21T12:47:14.519Z"
   },
   {
    "duration": 48,
    "start_time": "2022-02-21T12:47:14.818Z"
   },
   {
    "duration": 13,
    "start_time": "2022-02-21T12:47:14.958Z"
   },
   {
    "duration": 16,
    "start_time": "2022-02-21T12:47:15.059Z"
   },
   {
    "duration": 3975,
    "start_time": "2022-02-21T12:47:15.077Z"
   },
   {
    "duration": 22,
    "start_time": "2022-02-21T12:47:19.054Z"
   },
   {
    "duration": 10306,
    "start_time": "2022-02-21T12:47:19.077Z"
   },
   {
    "duration": 171,
    "start_time": "2022-02-21T12:47:29.385Z"
   },
   {
    "duration": 22,
    "start_time": "2022-02-21T12:47:29.559Z"
   },
   {
    "duration": 4,
    "start_time": "2022-02-21T12:48:17.267Z"
   },
   {
    "duration": 900,
    "start_time": "2022-02-21T12:48:17.273Z"
   },
   {
    "duration": 9,
    "start_time": "2022-02-21T12:48:18.175Z"
   },
   {
    "duration": 27,
    "start_time": "2022-02-21T12:48:18.186Z"
   },
   {
    "duration": 18,
    "start_time": "2022-02-21T12:48:18.214Z"
   },
   {
    "duration": 44,
    "start_time": "2022-02-21T12:48:18.234Z"
   },
   {
    "duration": 10,
    "start_time": "2022-02-21T12:48:18.280Z"
   },
   {
    "duration": 25,
    "start_time": "2022-02-21T12:48:18.292Z"
   },
   {
    "duration": 10157,
    "start_time": "2022-02-21T12:48:18.319Z"
   },
   {
    "duration": 29,
    "start_time": "2022-02-21T12:48:28.478Z"
   },
   {
    "duration": 18537,
    "start_time": "2022-02-21T12:48:28.509Z"
   },
   {
    "duration": 321,
    "start_time": "2022-02-21T12:48:47.049Z"
   },
   {
    "duration": 87,
    "start_time": "2022-02-21T12:48:47.372Z"
   },
   {
    "duration": 97,
    "start_time": "2022-02-21T12:48:47.462Z"
   },
   {
    "duration": 15,
    "start_time": "2022-02-21T12:48:47.561Z"
   },
   {
    "duration": 4187,
    "start_time": "2022-02-21T12:48:47.578Z"
   },
   {
    "duration": 20,
    "start_time": "2022-02-21T12:48:51.766Z"
   },
   {
    "duration": 10518,
    "start_time": "2022-02-21T12:48:51.787Z"
   },
   {
    "duration": 178,
    "start_time": "2022-02-21T12:49:02.307Z"
   },
   {
    "duration": 73,
    "start_time": "2022-02-21T12:49:02.487Z"
   },
   {
    "duration": 4,
    "start_time": "2022-02-21T12:49:53.395Z"
   },
   {
    "duration": 45,
    "start_time": "2022-02-21T12:49:53.401Z"
   },
   {
    "duration": 8,
    "start_time": "2022-02-21T12:49:53.449Z"
   },
   {
    "duration": 18,
    "start_time": "2022-02-21T12:49:53.460Z"
   },
   {
    "duration": 19,
    "start_time": "2022-02-21T12:49:53.480Z"
   },
   {
    "duration": 26,
    "start_time": "2022-02-21T12:49:53.501Z"
   },
   {
    "duration": 38,
    "start_time": "2022-02-21T12:49:53.529Z"
   },
   {
    "duration": 18,
    "start_time": "2022-02-21T12:49:53.570Z"
   },
   {
    "duration": 9762,
    "start_time": "2022-02-21T12:49:53.590Z"
   },
   {
    "duration": 42,
    "start_time": "2022-02-21T12:50:03.353Z"
   },
   {
    "duration": 18414,
    "start_time": "2022-02-21T12:50:03.397Z"
   },
   {
    "duration": 181,
    "start_time": "2022-02-21T12:50:21.813Z"
   },
   {
    "duration": 72,
    "start_time": "2022-02-21T12:50:21.996Z"
   },
   {
    "duration": 7,
    "start_time": "2022-02-21T12:50:22.160Z"
   },
   {
    "duration": 14,
    "start_time": "2022-02-21T12:50:22.168Z"
   },
   {
    "duration": 4231,
    "start_time": "2022-02-21T12:50:22.183Z"
   },
   {
    "duration": 17,
    "start_time": "2022-02-21T12:50:26.416Z"
   },
   {
    "duration": 10336,
    "start_time": "2022-02-21T12:50:26.435Z"
   },
   {
    "duration": 174,
    "start_time": "2022-02-21T12:50:36.774Z"
   },
   {
    "duration": 26,
    "start_time": "2022-02-21T12:50:36.950Z"
   },
   {
    "duration": 214,
    "start_time": "2022-02-21T12:50:41.653Z"
   },
   {
    "duration": 35,
    "start_time": "2022-02-21T12:51:12.827Z"
   },
   {
    "duration": 20,
    "start_time": "2022-02-21T12:51:19.099Z"
   },
   {
    "duration": 3244,
    "start_time": "2022-02-21T12:51:23.315Z"
   },
   {
    "duration": 4,
    "start_time": "2022-02-21T12:51:34.495Z"
   },
   {
    "duration": 39,
    "start_time": "2022-02-21T12:51:34.501Z"
   },
   {
    "duration": 10,
    "start_time": "2022-02-21T12:51:34.542Z"
   },
   {
    "duration": 18,
    "start_time": "2022-02-21T12:51:34.553Z"
   },
   {
    "duration": 19,
    "start_time": "2022-02-21T12:51:34.573Z"
   },
   {
    "duration": 25,
    "start_time": "2022-02-21T12:51:34.594Z"
   },
   {
    "duration": 9,
    "start_time": "2022-02-21T12:51:34.621Z"
   },
   {
    "duration": 43,
    "start_time": "2022-02-21T12:51:34.632Z"
   },
   {
    "duration": 9796,
    "start_time": "2022-02-21T12:51:34.677Z"
   },
   {
    "duration": 35,
    "start_time": "2022-02-21T12:51:44.475Z"
   },
   {
    "duration": 18597,
    "start_time": "2022-02-21T12:51:44.512Z"
   },
   {
    "duration": 221,
    "start_time": "2022-02-21T12:52:03.111Z"
   },
   {
    "duration": 40,
    "start_time": "2022-02-21T12:52:03.334Z"
   },
   {
    "duration": 101,
    "start_time": "2022-02-21T12:52:03.459Z"
   },
   {
    "duration": 34,
    "start_time": "2022-02-21T12:52:03.561Z"
   },
   {
    "duration": 3443,
    "start_time": "2022-02-21T12:52:03.596Z"
   },
   {
    "duration": 21,
    "start_time": "2022-02-21T12:52:07.041Z"
   },
   {
    "duration": 9145,
    "start_time": "2022-02-21T12:52:07.064Z"
   },
   {
    "duration": 129,
    "start_time": "2022-02-21T12:52:16.213Z"
   },
   {
    "duration": 24,
    "start_time": "2022-02-21T12:52:16.344Z"
   },
   {
    "duration": 5,
    "start_time": "2022-02-21T12:58:33.907Z"
   },
   {
    "duration": 35,
    "start_time": "2022-02-21T12:58:33.914Z"
   },
   {
    "duration": 10,
    "start_time": "2022-02-21T12:58:33.952Z"
   },
   {
    "duration": 21,
    "start_time": "2022-02-21T12:58:33.964Z"
   },
   {
    "duration": 21,
    "start_time": "2022-02-21T12:58:33.987Z"
   },
   {
    "duration": 62,
    "start_time": "2022-02-21T12:58:34.010Z"
   },
   {
    "duration": 12,
    "start_time": "2022-02-21T12:58:34.074Z"
   },
   {
    "duration": 20,
    "start_time": "2022-02-21T12:58:34.089Z"
   },
   {
    "duration": 70,
    "start_time": "2022-02-21T12:58:34.111Z"
   },
   {
    "duration": 228,
    "start_time": "2022-02-21T12:58:34.183Z"
   },
   {
    "duration": 56,
    "start_time": "2022-02-21T12:58:34.413Z"
   },
   {
    "duration": 9,
    "start_time": "2022-02-21T12:58:34.560Z"
   },
   {
    "duration": 114,
    "start_time": "2022-02-21T12:58:34.571Z"
   },
   {
    "duration": 3878,
    "start_time": "2022-02-21T12:58:34.687Z"
   },
   {
    "duration": 19,
    "start_time": "2022-02-21T12:58:38.567Z"
   },
   {
    "duration": 9863,
    "start_time": "2022-02-21T12:58:38.588Z"
   },
   {
    "duration": 146,
    "start_time": "2022-02-21T12:58:48.453Z"
   },
   {
    "duration": 67,
    "start_time": "2022-02-21T12:58:48.601Z"
   },
   {
    "duration": 20,
    "start_time": "2022-02-21T12:59:07.646Z"
   },
   {
    "duration": 25,
    "start_time": "2022-02-21T12:59:59.766Z"
   },
   {
    "duration": 4,
    "start_time": "2022-02-21T13:00:03.634Z"
   },
   {
    "duration": 104,
    "start_time": "2022-02-21T13:00:03.640Z"
   },
   {
    "duration": 11,
    "start_time": "2022-02-21T13:00:03.746Z"
   },
   {
    "duration": 33,
    "start_time": "2022-02-21T13:00:03.759Z"
   },
   {
    "duration": 27,
    "start_time": "2022-02-21T13:00:03.794Z"
   },
   {
    "duration": 35,
    "start_time": "2022-02-21T13:00:03.823Z"
   },
   {
    "duration": 30,
    "start_time": "2022-02-21T13:00:03.860Z"
   },
   {
    "duration": 19,
    "start_time": "2022-02-21T13:00:03.894Z"
   },
   {
    "duration": 38,
    "start_time": "2022-02-21T13:00:03.915Z"
   },
   {
    "duration": 235,
    "start_time": "2022-02-21T13:00:03.959Z"
   },
   {
    "duration": 72,
    "start_time": "2022-02-21T13:00:04.196Z"
   },
   {
    "duration": 7,
    "start_time": "2022-02-21T13:00:04.360Z"
   },
   {
    "duration": 33,
    "start_time": "2022-02-21T13:00:04.369Z"
   },
   {
    "duration": 4414,
    "start_time": "2022-02-21T13:00:04.404Z"
   },
   {
    "duration": 22,
    "start_time": "2022-02-21T13:00:08.820Z"
   },
   {
    "duration": 10557,
    "start_time": "2022-02-21T13:00:08.844Z"
   },
   {
    "duration": 158,
    "start_time": "2022-02-21T13:00:19.403Z"
   },
   {
    "duration": 23,
    "start_time": "2022-02-21T13:00:19.563Z"
   },
   {
    "duration": 20,
    "start_time": "2022-02-21T13:00:34.088Z"
   },
   {
    "duration": 181,
    "start_time": "2022-02-21T13:00:40.629Z"
   },
   {
    "duration": 4,
    "start_time": "2022-02-21T13:02:37.160Z"
   },
   {
    "duration": 45,
    "start_time": "2022-02-21T13:02:37.165Z"
   },
   {
    "duration": 9,
    "start_time": "2022-02-21T13:02:37.212Z"
   },
   {
    "duration": 28,
    "start_time": "2022-02-21T13:02:37.223Z"
   },
   {
    "duration": 28,
    "start_time": "2022-02-21T13:02:37.253Z"
   },
   {
    "duration": 33,
    "start_time": "2022-02-21T13:02:37.283Z"
   },
   {
    "duration": 11,
    "start_time": "2022-02-21T13:02:37.319Z"
   },
   {
    "duration": 35,
    "start_time": "2022-02-21T13:02:37.332Z"
   },
   {
    "duration": 9878,
    "start_time": "2022-02-21T13:02:37.369Z"
   },
   {
    "duration": 44,
    "start_time": "2022-02-21T13:02:47.249Z"
   },
   {
    "duration": 18830,
    "start_time": "2022-02-21T13:02:47.295Z"
   },
   {
    "duration": 232,
    "start_time": "2022-02-21T13:03:06.127Z"
   },
   {
    "duration": 101,
    "start_time": "2022-02-21T13:03:06.361Z"
   },
   {
    "duration": 99,
    "start_time": "2022-02-21T13:03:06.464Z"
   },
   {
    "duration": 29,
    "start_time": "2022-02-21T13:03:06.565Z"
   },
   {
    "duration": 4336,
    "start_time": "2022-02-21T13:03:06.596Z"
   },
   {
    "duration": 28,
    "start_time": "2022-02-21T13:03:10.933Z"
   },
   {
    "duration": 10405,
    "start_time": "2022-02-21T13:03:10.963Z"
   },
   {
    "duration": 191,
    "start_time": "2022-02-21T13:03:21.371Z"
   },
   {
    "duration": 20,
    "start_time": "2022-02-21T13:03:21.564Z"
   },
   {
    "duration": 296,
    "start_time": "2022-02-21T13:03:30.260Z"
   },
   {
    "duration": 166,
    "start_time": "2022-02-21T13:05:21.552Z"
   },
   {
    "duration": 4,
    "start_time": "2022-02-21T13:05:59.638Z"
   },
   {
    "duration": 41,
    "start_time": "2022-02-21T13:05:59.645Z"
   },
   {
    "duration": 9,
    "start_time": "2022-02-21T13:05:59.688Z"
   },
   {
    "duration": 19,
    "start_time": "2022-02-21T13:05:59.699Z"
   },
   {
    "duration": 46,
    "start_time": "2022-02-21T13:05:59.720Z"
   },
   {
    "duration": 27,
    "start_time": "2022-02-21T13:05:59.768Z"
   },
   {
    "duration": 11,
    "start_time": "2022-02-21T13:05:59.797Z"
   },
   {
    "duration": 18,
    "start_time": "2022-02-21T13:05:59.810Z"
   },
   {
    "duration": 10164,
    "start_time": "2022-02-21T13:05:59.830Z"
   },
   {
    "duration": 38,
    "start_time": "2022-02-21T13:06:09.995Z"
   },
   {
    "duration": 18652,
    "start_time": "2022-02-21T13:06:10.035Z"
   },
   {
    "duration": 291,
    "start_time": "2022-02-21T13:06:28.689Z"
   },
   {
    "duration": 81,
    "start_time": "2022-02-21T13:06:28.982Z"
   },
   {
    "duration": 96,
    "start_time": "2022-02-21T13:06:29.065Z"
   },
   {
    "duration": 25,
    "start_time": "2022-02-21T13:06:29.163Z"
   },
   {
    "duration": 3939,
    "start_time": "2022-02-21T13:06:29.190Z"
   },
   {
    "duration": 29,
    "start_time": "2022-02-21T13:06:33.130Z"
   },
   {
    "duration": 9685,
    "start_time": "2022-02-21T13:06:33.161Z"
   },
   {
    "duration": 160,
    "start_time": "2022-02-21T13:06:42.849Z"
   },
   {
    "duration": 58,
    "start_time": "2022-02-21T13:06:43.010Z"
   },
   {
    "duration": 21,
    "start_time": "2022-02-21T13:07:02.505Z"
   },
   {
    "duration": 100,
    "start_time": "2022-02-21T13:07:12.504Z"
   },
   {
    "duration": 4,
    "start_time": "2022-02-21T13:07:44.813Z"
   },
   {
    "duration": 33,
    "start_time": "2022-02-21T13:07:44.819Z"
   },
   {
    "duration": 10,
    "start_time": "2022-02-21T13:07:44.854Z"
   },
   {
    "duration": 24,
    "start_time": "2022-02-21T13:07:44.865Z"
   },
   {
    "duration": 24,
    "start_time": "2022-02-21T13:07:44.891Z"
   },
   {
    "duration": 46,
    "start_time": "2022-02-21T13:07:44.917Z"
   },
   {
    "duration": 10,
    "start_time": "2022-02-21T13:07:44.966Z"
   },
   {
    "duration": 18,
    "start_time": "2022-02-21T13:07:44.978Z"
   },
   {
    "duration": 10047,
    "start_time": "2022-02-21T13:07:44.998Z"
   },
   {
    "duration": 44,
    "start_time": "2022-02-21T13:07:55.047Z"
   },
   {
    "duration": 19075,
    "start_time": "2022-02-21T13:07:55.093Z"
   },
   {
    "duration": 323,
    "start_time": "2022-02-21T13:08:14.170Z"
   },
   {
    "duration": 72,
    "start_time": "2022-02-21T13:08:14.496Z"
   },
   {
    "duration": 10,
    "start_time": "2022-02-21T13:08:14.659Z"
   },
   {
    "duration": 49,
    "start_time": "2022-02-21T13:08:14.759Z"
   },
   {
    "duration": 3989,
    "start_time": "2022-02-21T13:08:14.809Z"
   },
   {
    "duration": 20,
    "start_time": "2022-02-21T13:08:18.800Z"
   },
   {
    "duration": 9864,
    "start_time": "2022-02-21T13:08:18.822Z"
   },
   {
    "duration": 118,
    "start_time": "2022-02-21T13:08:28.689Z"
   },
   {
    "duration": 59,
    "start_time": "2022-02-21T13:08:28.809Z"
   },
   {
    "duration": 18,
    "start_time": "2022-02-21T13:08:40.153Z"
   },
   {
    "duration": 167,
    "start_time": "2022-02-21T13:08:42.295Z"
   },
   {
    "duration": 4,
    "start_time": "2022-02-21T13:09:01.828Z"
   },
   {
    "duration": 46,
    "start_time": "2022-02-21T13:09:01.834Z"
   },
   {
    "duration": 9,
    "start_time": "2022-02-21T13:09:01.882Z"
   },
   {
    "duration": 35,
    "start_time": "2022-02-21T13:09:01.893Z"
   },
   {
    "duration": 35,
    "start_time": "2022-02-21T13:09:01.930Z"
   },
   {
    "duration": 29,
    "start_time": "2022-02-21T13:09:01.966Z"
   },
   {
    "duration": 12,
    "start_time": "2022-02-21T13:09:01.998Z"
   },
   {
    "duration": 47,
    "start_time": "2022-02-21T13:09:02.012Z"
   },
   {
    "duration": 9956,
    "start_time": "2022-02-21T13:09:02.062Z"
   },
   {
    "duration": 42,
    "start_time": "2022-02-21T13:09:12.020Z"
   },
   {
    "duration": 18633,
    "start_time": "2022-02-21T13:09:12.064Z"
   },
   {
    "duration": 302,
    "start_time": "2022-02-21T13:09:30.699Z"
   },
   {
    "duration": 65,
    "start_time": "2022-02-21T13:09:31.003Z"
   },
   {
    "duration": 8,
    "start_time": "2022-02-21T13:09:31.158Z"
   },
   {
    "duration": 107,
    "start_time": "2022-02-21T13:09:31.168Z"
   },
   {
    "duration": 3896,
    "start_time": "2022-02-21T13:09:31.276Z"
   },
   {
    "duration": 21,
    "start_time": "2022-02-21T13:09:35.174Z"
   },
   {
    "duration": 9721,
    "start_time": "2022-02-21T13:09:35.197Z"
   },
   {
    "duration": 180,
    "start_time": "2022-02-21T13:09:44.921Z"
   },
   {
    "duration": 157,
    "start_time": "2022-02-21T13:09:45.103Z"
   },
   {
    "duration": 20,
    "start_time": "2022-02-21T13:41:23.892Z"
   },
   {
    "duration": 146,
    "start_time": "2022-02-21T13:41:32.754Z"
   },
   {
    "duration": 6,
    "start_time": "2022-02-21T13:41:44.094Z"
   },
   {
    "duration": 31,
    "start_time": "2022-02-21T13:41:44.102Z"
   },
   {
    "duration": 9,
    "start_time": "2022-02-21T13:41:44.136Z"
   },
   {
    "duration": 18,
    "start_time": "2022-02-21T13:41:44.147Z"
   },
   {
    "duration": 21,
    "start_time": "2022-02-21T13:41:44.166Z"
   },
   {
    "duration": 27,
    "start_time": "2022-02-21T13:41:44.188Z"
   },
   {
    "duration": 11,
    "start_time": "2022-02-21T13:41:44.217Z"
   },
   {
    "duration": 39,
    "start_time": "2022-02-21T13:41:44.230Z"
   },
   {
    "duration": 10074,
    "start_time": "2022-02-21T13:41:44.271Z"
   },
   {
    "duration": 45,
    "start_time": "2022-02-21T13:41:54.347Z"
   },
   {
    "duration": 19195,
    "start_time": "2022-02-21T13:41:54.394Z"
   },
   {
    "duration": 240,
    "start_time": "2022-02-21T13:42:13.591Z"
   },
   {
    "duration": 36,
    "start_time": "2022-02-21T13:42:13.832Z"
   },
   {
    "duration": 100,
    "start_time": "2022-02-21T13:42:13.959Z"
   },
   {
    "duration": 28,
    "start_time": "2022-02-21T13:42:14.061Z"
   },
   {
    "duration": 4462,
    "start_time": "2022-02-21T13:42:14.091Z"
   },
   {
    "duration": 19,
    "start_time": "2022-02-21T13:42:18.555Z"
   },
   {
    "duration": 10747,
    "start_time": "2022-02-21T13:42:18.576Z"
   },
   {
    "duration": 156,
    "start_time": "2022-02-21T13:42:29.325Z"
   },
   {
    "duration": 78,
    "start_time": "2022-02-21T13:42:29.483Z"
   },
   {
    "duration": 21,
    "start_time": "2022-02-21T13:44:20.866Z"
   },
   {
    "duration": 129,
    "start_time": "2022-02-21T13:44:34.209Z"
   },
   {
    "duration": 5,
    "start_time": "2022-02-21T13:45:24.149Z"
   },
   {
    "duration": 38,
    "start_time": "2022-02-21T13:45:24.157Z"
   },
   {
    "duration": 10,
    "start_time": "2022-02-21T13:45:24.197Z"
   },
   {
    "duration": 20,
    "start_time": "2022-02-21T13:45:24.209Z"
   },
   {
    "duration": 44,
    "start_time": "2022-02-21T13:45:24.231Z"
   },
   {
    "duration": 28,
    "start_time": "2022-02-21T13:45:24.277Z"
   },
   {
    "duration": 11,
    "start_time": "2022-02-21T13:45:24.308Z"
   },
   {
    "duration": 42,
    "start_time": "2022-02-21T13:45:24.321Z"
   },
   {
    "duration": 10043,
    "start_time": "2022-02-21T13:45:24.365Z"
   },
   {
    "duration": 34,
    "start_time": "2022-02-21T13:45:34.410Z"
   },
   {
    "duration": 19578,
    "start_time": "2022-02-21T13:45:34.458Z"
   },
   {
    "duration": 157,
    "start_time": "2022-02-21T13:45:54.038Z"
   },
   {
    "duration": 67,
    "start_time": "2022-02-21T13:45:54.196Z"
   },
   {
    "duration": 95,
    "start_time": "2022-02-21T13:45:54.265Z"
   },
   {
    "duration": 34,
    "start_time": "2022-02-21T13:45:54.362Z"
   },
   {
    "duration": 4292,
    "start_time": "2022-02-21T13:45:54.397Z"
   },
   {
    "duration": 18,
    "start_time": "2022-02-21T13:45:58.691Z"
   },
   {
    "duration": 10780,
    "start_time": "2022-02-21T13:45:58.711Z"
   },
   {
    "duration": 126,
    "start_time": "2022-02-21T13:46:09.494Z"
   },
   {
    "duration": 46,
    "start_time": "2022-02-21T13:46:09.622Z"
   },
   {
    "duration": 152,
    "start_time": "2022-02-21T13:46:51.954Z"
   },
   {
    "duration": 4,
    "start_time": "2022-02-21T13:47:03.063Z"
   },
   {
    "duration": 46,
    "start_time": "2022-02-21T13:47:03.069Z"
   },
   {
    "duration": 11,
    "start_time": "2022-02-21T13:47:03.117Z"
   },
   {
    "duration": 21,
    "start_time": "2022-02-21T13:47:03.130Z"
   },
   {
    "duration": 22,
    "start_time": "2022-02-21T13:47:03.153Z"
   },
   {
    "duration": 29,
    "start_time": "2022-02-21T13:47:03.178Z"
   },
   {
    "duration": 12,
    "start_time": "2022-02-21T13:47:03.209Z"
   },
   {
    "duration": 51,
    "start_time": "2022-02-21T13:47:03.224Z"
   },
   {
    "duration": 10024,
    "start_time": "2022-02-21T13:47:03.277Z"
   },
   {
    "duration": 36,
    "start_time": "2022-02-21T13:47:13.303Z"
   },
   {
    "duration": 18824,
    "start_time": "2022-02-21T13:47:13.340Z"
   },
   {
    "duration": 162,
    "start_time": "2022-02-21T13:47:32.166Z"
   },
   {
    "duration": 128,
    "start_time": "2022-02-21T13:47:32.330Z"
   },
   {
    "duration": 100,
    "start_time": "2022-02-21T13:47:32.461Z"
   },
   {
    "duration": 39,
    "start_time": "2022-02-21T13:47:32.563Z"
   },
   {
    "duration": 4256,
    "start_time": "2022-02-21T13:47:32.604Z"
   },
   {
    "duration": 20,
    "start_time": "2022-02-21T13:47:36.862Z"
   },
   {
    "duration": 10436,
    "start_time": "2022-02-21T13:47:36.883Z"
   },
   {
    "duration": 153,
    "start_time": "2022-02-21T13:47:47.321Z"
   },
   {
    "duration": 87,
    "start_time": "2022-02-21T13:47:47.476Z"
   },
   {
    "duration": 173,
    "start_time": "2022-02-21T13:47:47.566Z"
   },
   {
    "duration": 20,
    "start_time": "2022-02-21T13:48:12.313Z"
   },
   {
    "duration": 187,
    "start_time": "2022-02-21T13:48:14.655Z"
   },
   {
    "duration": 5,
    "start_time": "2022-02-21T13:48:21.098Z"
   },
   {
    "duration": 32,
    "start_time": "2022-02-21T13:48:21.104Z"
   },
   {
    "duration": 9,
    "start_time": "2022-02-21T13:48:21.138Z"
   },
   {
    "duration": 23,
    "start_time": "2022-02-21T13:48:21.149Z"
   },
   {
    "duration": 37,
    "start_time": "2022-02-21T13:48:21.174Z"
   },
   {
    "duration": 28,
    "start_time": "2022-02-21T13:48:21.212Z"
   },
   {
    "duration": 20,
    "start_time": "2022-02-21T13:48:21.242Z"
   },
   {
    "duration": 19,
    "start_time": "2022-02-21T13:48:21.264Z"
   },
   {
    "duration": 10050,
    "start_time": "2022-02-21T13:48:21.285Z"
   },
   {
    "duration": 43,
    "start_time": "2022-02-21T13:48:31.337Z"
   },
   {
    "duration": 18680,
    "start_time": "2022-02-21T13:48:31.382Z"
   },
   {
    "duration": 84,
    "start_time": "2022-02-21T13:48:50.063Z"
   },
   {
    "duration": 101,
    "start_time": "2022-02-21T13:48:50.158Z"
   },
   {
    "duration": 99,
    "start_time": "2022-02-21T13:48:50.262Z"
   },
   {
    "duration": 28,
    "start_time": "2022-02-21T13:48:50.362Z"
   },
   {
    "duration": 4290,
    "start_time": "2022-02-21T13:48:50.392Z"
   },
   {
    "duration": 18,
    "start_time": "2022-02-21T13:48:54.683Z"
   },
   {
    "duration": 10838,
    "start_time": "2022-02-21T13:48:54.702Z"
   },
   {
    "duration": 184,
    "start_time": "2022-02-21T13:49:05.543Z"
   },
   {
    "duration": 131,
    "start_time": "2022-02-21T13:49:05.729Z"
   },
   {
    "duration": 149,
    "start_time": "2022-02-21T13:49:17.614Z"
   },
   {
    "duration": 6,
    "start_time": "2022-02-21T13:51:36.000Z"
   },
   {
    "duration": 38,
    "start_time": "2022-02-21T13:51:36.008Z"
   },
   {
    "duration": 9,
    "start_time": "2022-02-21T13:51:36.049Z"
   },
   {
    "duration": 23,
    "start_time": "2022-02-21T13:51:36.060Z"
   },
   {
    "duration": 20,
    "start_time": "2022-02-21T13:51:36.085Z"
   },
   {
    "duration": 28,
    "start_time": "2022-02-21T13:51:36.107Z"
   },
   {
    "duration": 31,
    "start_time": "2022-02-21T13:51:36.137Z"
   },
   {
    "duration": 22,
    "start_time": "2022-02-21T13:51:36.170Z"
   },
   {
    "duration": 9877,
    "start_time": "2022-02-21T13:51:36.194Z"
   },
   {
    "duration": 35,
    "start_time": "2022-02-21T13:51:46.073Z"
   },
   {
    "duration": 18936,
    "start_time": "2022-02-21T13:51:46.110Z"
   },
   {
    "duration": 162,
    "start_time": "2022-02-21T13:52:05.048Z"
   },
   {
    "duration": 55,
    "start_time": "2022-02-21T13:52:05.212Z"
   },
   {
    "duration": 10,
    "start_time": "2022-02-21T13:52:05.360Z"
   },
   {
    "duration": 116,
    "start_time": "2022-02-21T13:52:05.372Z"
   },
   {
    "duration": 11844,
    "start_time": "2022-02-21T13:52:05.489Z"
   },
   {
    "duration": 41,
    "start_time": "2022-02-21T13:52:17.334Z"
   },
   {
    "duration": 28584,
    "start_time": "2022-02-21T13:52:17.377Z"
   },
   {
    "duration": 403,
    "start_time": "2022-02-21T13:52:45.964Z"
   },
   {
    "duration": 93,
    "start_time": "2022-02-21T13:52:46.369Z"
   },
   {
    "duration": 47,
    "start_time": "2022-02-21T13:52:54.947Z"
   },
   {
    "duration": 515,
    "start_time": "2022-02-21T13:53:04.916Z"
   },
   {
    "duration": 4,
    "start_time": "2022-02-21T13:53:39.335Z"
   },
   {
    "duration": 315,
    "start_time": "2022-02-21T13:53:39.341Z"
   },
   {
    "duration": 9,
    "start_time": "2022-02-21T13:53:39.658Z"
   },
   {
    "duration": 30,
    "start_time": "2022-02-21T13:53:39.669Z"
   },
   {
    "duration": 21,
    "start_time": "2022-02-21T13:53:39.700Z"
   },
   {
    "duration": 50,
    "start_time": "2022-02-21T13:53:39.723Z"
   },
   {
    "duration": 11,
    "start_time": "2022-02-21T13:53:39.775Z"
   },
   {
    "duration": 23,
    "start_time": "2022-02-21T13:53:39.789Z"
   },
   {
    "duration": 10428,
    "start_time": "2022-02-21T13:53:39.814Z"
   },
   {
    "duration": 45,
    "start_time": "2022-02-21T13:53:50.244Z"
   },
   {
    "duration": 20724,
    "start_time": "2022-02-21T13:53:50.291Z"
   },
   {
    "duration": 333,
    "start_time": "2022-02-21T13:54:11.017Z"
   },
   {
    "duration": 36,
    "start_time": "2022-02-21T13:54:11.352Z"
   },
   {
    "duration": 348,
    "start_time": "2022-02-21T13:54:11.461Z"
   },
   {
    "duration": 45,
    "start_time": "2022-02-21T13:54:11.812Z"
   },
   {
    "duration": 4847,
    "start_time": "2022-02-21T13:54:11.859Z"
   },
   {
    "duration": 25,
    "start_time": "2022-02-21T13:54:16.708Z"
   },
   {
    "duration": 10950,
    "start_time": "2022-02-21T13:54:16.735Z"
   },
   {
    "duration": 188,
    "start_time": "2022-02-21T13:54:27.688Z"
   },
   {
    "duration": 82,
    "start_time": "2022-02-21T13:54:27.878Z"
   },
   {
    "duration": 20,
    "start_time": "2022-02-21T13:56:48.599Z"
   },
   {
    "duration": 90,
    "start_time": "2022-02-21T13:57:01.145Z"
   },
   {
    "duration": 398,
    "start_time": "2022-02-21T13:57:25.553Z"
   },
   {
    "duration": 14,
    "start_time": "2022-02-21T14:00:34.049Z"
   },
   {
    "duration": 1220,
    "start_time": "2022-02-21T14:18:04.280Z"
   },
   {
    "duration": 318,
    "start_time": "2022-02-21T14:18:19.640Z"
   },
   {
    "duration": 3,
    "start_time": "2022-02-21T14:18:56.847Z"
   },
   {
    "duration": 1139,
    "start_time": "2022-02-21T14:19:05.468Z"
   },
   {
    "duration": 4,
    "start_time": "2022-02-21T14:19:06.610Z"
   },
   {
    "duration": 46,
    "start_time": "2022-02-21T14:19:06.620Z"
   },
   {
    "duration": 11,
    "start_time": "2022-02-21T14:19:06.669Z"
   },
   {
    "duration": 32,
    "start_time": "2022-02-21T14:19:06.682Z"
   },
   {
    "duration": 25,
    "start_time": "2022-02-21T14:19:06.718Z"
   },
   {
    "duration": 29,
    "start_time": "2022-02-21T14:19:06.746Z"
   },
   {
    "duration": 12,
    "start_time": "2022-02-21T14:19:06.778Z"
   },
   {
    "duration": 24,
    "start_time": "2022-02-21T14:19:06.824Z"
   },
   {
    "duration": 11914,
    "start_time": "2022-02-21T14:19:06.850Z"
   },
   {
    "duration": 52,
    "start_time": "2022-02-21T14:19:18.766Z"
   },
   {
    "duration": 21304,
    "start_time": "2022-02-21T14:19:18.820Z"
   },
   {
    "duration": 406,
    "start_time": "2022-02-21T14:19:40.126Z"
   },
   {
    "duration": 192,
    "start_time": "2022-02-21T14:19:40.535Z"
   },
   {
    "duration": 97,
    "start_time": "2022-02-21T14:19:40.730Z"
   },
   {
    "duration": 14,
    "start_time": "2022-02-21T14:19:40.829Z"
   },
   {
    "duration": 4605,
    "start_time": "2022-02-21T14:19:40.845Z"
   },
   {
    "duration": 22,
    "start_time": "2022-02-21T14:19:45.453Z"
   },
   {
    "duration": 11010,
    "start_time": "2022-02-21T14:19:45.477Z"
   },
   {
    "duration": 93,
    "start_time": "2022-02-21T14:19:56.489Z"
   },
   {
    "duration": 137,
    "start_time": "2022-02-21T14:19:56.584Z"
   },
   {
    "duration": 1150,
    "start_time": "2022-02-21T14:28:35.140Z"
   },
   {
    "duration": 2,
    "start_time": "2022-02-21T14:28:36.293Z"
   },
   {
    "duration": 39,
    "start_time": "2022-02-21T14:28:36.298Z"
   },
   {
    "duration": 10,
    "start_time": "2022-02-21T14:28:36.340Z"
   },
   {
    "duration": 29,
    "start_time": "2022-02-21T14:28:36.352Z"
   },
   {
    "duration": 42,
    "start_time": "2022-02-21T14:28:36.383Z"
   },
   {
    "duration": 29,
    "start_time": "2022-02-21T14:28:36.427Z"
   },
   {
    "duration": 11,
    "start_time": "2022-02-21T14:28:36.459Z"
   },
   {
    "duration": 47,
    "start_time": "2022-02-21T14:28:36.472Z"
   },
   {
    "duration": 11310,
    "start_time": "2022-02-21T14:28:36.521Z"
   },
   {
    "duration": 45,
    "start_time": "2022-02-21T14:28:47.833Z"
   },
   {
    "duration": 20339,
    "start_time": "2022-02-21T14:28:47.880Z"
   },
   {
    "duration": 387,
    "start_time": "2022-02-21T14:29:08.221Z"
   },
   {
    "duration": 209,
    "start_time": "2022-02-21T14:29:08.610Z"
   },
   {
    "duration": 14,
    "start_time": "2022-02-21T14:29:08.822Z"
   },
   {
    "duration": 20,
    "start_time": "2022-02-21T14:29:08.839Z"
   },
   {
    "duration": 4982,
    "start_time": "2022-02-21T14:29:08.861Z"
   },
   {
    "duration": 26,
    "start_time": "2022-02-21T14:29:13.845Z"
   },
   {
    "duration": 11352,
    "start_time": "2022-02-21T14:29:13.873Z"
   },
   {
    "duration": 93,
    "start_time": "2022-02-21T14:29:25.227Z"
   },
   {
    "duration": 99,
    "start_time": "2022-02-21T14:29:25.322Z"
   },
   {
    "duration": 398,
    "start_time": "2022-03-14T13:25:53.107Z"
   }
  ],
  "kernelspec": {
   "display_name": "Python 3 (ipykernel)",
   "language": "python",
   "name": "python3"
  },
  "language_info": {
   "codemirror_mode": {
    "name": "ipython",
    "version": 3
   },
   "file_extension": ".py",
   "mimetype": "text/x-python",
   "name": "python",
   "nbconvert_exporter": "python",
   "pygments_lexer": "ipython3",
   "version": "3.10.5"
  },
  "toc": {
   "base_numbering": 1,
   "nav_menu": {},
   "number_sections": true,
   "sideBar": true,
   "skip_h1_title": true,
   "title_cell": "Содержание",
   "title_sidebar": "Contents",
   "toc_cell": true,
   "toc_position": {},
   "toc_section_display": true,
   "toc_window_display": true
  }
 },
 "nbformat": 4,
 "nbformat_minor": 2
}
