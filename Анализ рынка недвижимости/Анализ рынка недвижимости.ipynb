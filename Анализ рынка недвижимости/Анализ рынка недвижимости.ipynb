{
 "cells": [
  {
   "cell_type": "markdown",
   "metadata": {
    "toc": true
   },
   "source": [
    "<h1>Содержание<span class=\"tocSkip\"></span></h1>\n",
    "<div class=\"toc\"><ul class=\"toc-item\"><li><span><a href=\"#Изучение-данных-из-файла\" data-toc-modified-id=\"Изучение-данных-из-файла-1\"><span class=\"toc-item-num\">1&nbsp;&nbsp;</span>Изучение данных из файла</a></span></li><li><span><a href=\"#Предобработка-данных\" data-toc-modified-id=\"Предобработка-данных-2\"><span class=\"toc-item-num\">2&nbsp;&nbsp;</span>Предобработка данных</a></span><ul class=\"toc-item\"><li><span><a href=\"#Обработка-даты-и-названий-столбцов.\" data-toc-modified-id=\"Обработка-даты-и-названий-столбцов.-2.1\"><span class=\"toc-item-num\">2.1&nbsp;&nbsp;</span>Обработка даты и названий столбцов.</a></span></li><li><span><a href=\"#Обработка-пропусков\" data-toc-modified-id=\"Обработка-пропусков-2.2\"><span class=\"toc-item-num\">2.2&nbsp;&nbsp;</span>Обработка пропусков</a></span></li></ul></li><li><span><a href=\"#Расчёты-и-добавление-результатов-в-таблицу\" data-toc-modified-id=\"Расчёты-и-добавление-результатов-в-таблицу-3\"><span class=\"toc-item-num\">3&nbsp;&nbsp;</span>Расчёты и добавление результатов в таблицу</a></span><ul class=\"toc-item\"><li><span><a href=\"#Цена-квадратного-метра\" data-toc-modified-id=\"Цена-квадратного-метра-3.1\"><span class=\"toc-item-num\">3.1&nbsp;&nbsp;</span>Цена квадратного метра</a></span></li><li><span><a href=\"#День-недели,-месяц-и-год-публикации-объявления\" data-toc-modified-id=\"День-недели,-месяц-и-год-публикации-объявления-3.2\"><span class=\"toc-item-num\">3.2&nbsp;&nbsp;</span>День недели, месяц и год публикации объявления</a></span></li><li><span><a href=\"#Классификация-этажей-квартиры\" data-toc-modified-id=\"Классификация-этажей-квартиры-3.3\"><span class=\"toc-item-num\">3.3&nbsp;&nbsp;</span>Классификация этажей квартиры</a></span></li><li><span><a href=\"#Cоотношение-жилой-и-общей-площади,-а-также-отношение-площади-кухни-к-общей\" data-toc-modified-id=\"Cоотношение-жилой-и-общей-площади,-а-также-отношение-площади-кухни-к-общей-3.4\"><span class=\"toc-item-num\">3.4&nbsp;&nbsp;</span>Cоотношение жилой и общей площади, а также отношение площади кухни к общей</a></span></li></ul></li><li><span><a href=\"#Исследовательский-анализ-данных\" data-toc-modified-id=\"Исследовательский-анализ-данных-4\"><span class=\"toc-item-num\">4&nbsp;&nbsp;</span>Исследовательский анализ данных</a></span><ul class=\"toc-item\"><li><span><a href=\"#Работа-с-выбросами\" data-toc-modified-id=\"Работа-с-выбросами-4.1\"><span class=\"toc-item-num\">4.1&nbsp;&nbsp;</span>Работа с выбросами</a></span></li><li><span><a href=\"#Время-продажи-квартиры\" data-toc-modified-id=\"Время-продажи-квартиры-4.2\"><span class=\"toc-item-num\">4.2&nbsp;&nbsp;</span>Время продажи квартиры</a></span></li><li><span><a href=\"#Факторы-влияющий-на-стоимость-квартиры\" data-toc-modified-id=\"Факторы-влияющий-на-стоимость-квартиры-4.3\"><span class=\"toc-item-num\">4.3&nbsp;&nbsp;</span>Факторы влияющий на стоимость квартиры</a></span><ul class=\"toc-item\"><li><span><a href=\"#Влияние-площади,-количества-комнат,-этажей-и-расстояния-от-центра-на-стоимость\" data-toc-modified-id=\"Влияние-площади,-количества-комнат,-этажей-и-расстояния-от-центра-на-стоимость-4.3.1\"><span class=\"toc-item-num\">4.3.1&nbsp;&nbsp;</span>Влияние площади, количества комнат, этажей и расстояния от центра на стоимость</a></span></li><li><span><a href=\"#Влияние-года,-месяца-и-дня-недели-на-стоимость-квартиры\" data-toc-modified-id=\"Влияние-года,-месяца-и-дня-недели-на-стоимость-квартиры-4.3.2\"><span class=\"toc-item-num\">4.3.2&nbsp;&nbsp;</span>Влияние года, месяца и дня недели на стоимость квартиры</a></span></li><li><span><a href=\"#Анализ-10-городов-с-самым-большим-числом-объявлений\" data-toc-modified-id=\"Анализ-10-городов-с-самым-большим-числом-объявлений-4.3.3\"><span class=\"toc-item-num\">4.3.3&nbsp;&nbsp;</span>Анализ 10 городов с самым большим числом объявлений</a></span></li></ul></li><li><span><a href=\"#Определение-центра-Санкт-Петербурга\" data-toc-modified-id=\"Определение-центра-Санкт-Петербурга-4.4\"><span class=\"toc-item-num\">4.4&nbsp;&nbsp;</span>Определение центра Санкт-Петербурга</a></span></li><li><span><a href=\"#Анализ-центра-Санкт-Петербурга\" data-toc-modified-id=\"Анализ-центра-Санкт-Петербурга-4.5\"><span class=\"toc-item-num\">4.5&nbsp;&nbsp;</span>Анализ центра Санкт-Петербурга</a></span></li></ul></li><li><span><a href=\"#Общий-вывод\" data-toc-modified-id=\"Общий-вывод-5\"><span class=\"toc-item-num\">5&nbsp;&nbsp;</span>Общий вывод</a></span></li><li><span><a href=\"#Чек-лист-готовности-проекта\" data-toc-modified-id=\"Чек-лист-готовности-проекта-6\"><span class=\"toc-item-num\">6&nbsp;&nbsp;</span>Чек-лист готовности проекта</a></span></li></ul></div>"
   ]
  },
  {
   "cell_type": "markdown",
   "metadata": {},
   "source": [
    "# Исследование объявлений о продаже квартир\n",
    "\n",
    "В вашем распоряжении данные сервиса Яндекс.Недвижимость — архив объявлений о продаже квартир в Санкт-Петербурге и соседних населённых пунктах за несколько лет. Нужно научиться определять рыночную стоимость объектов недвижимости. Ваша задача — установить параметры. Это позволит построить автоматизированную систему: она отследит аномалии и мошенническую деятельность. \n",
    "\n",
    "По каждой квартире на продажу доступны два вида данных. Первые вписаны пользователем, вторые получены автоматически на основе картографических данных. Например, расстояние до центра, аэропорта, ближайшего парка и водоёма. "
   ]
  },
  {
   "cell_type": "markdown",
   "metadata": {},
   "source": [
    "## Изучение данных из файла"
   ]
  },
  {
   "cell_type": "code",
   "execution_count": 525,
   "metadata": {
    "scrolled": false
   },
   "outputs": [
    {
     "data": {
      "text/html": [
       "<div>\n",
       "<style scoped>\n",
       "    .dataframe tbody tr th:only-of-type {\n",
       "        vertical-align: middle;\n",
       "    }\n",
       "\n",
       "    .dataframe tbody tr th {\n",
       "        vertical-align: top;\n",
       "    }\n",
       "\n",
       "    .dataframe thead th {\n",
       "        text-align: right;\n",
       "    }\n",
       "</style>\n",
       "<table border=\"1\" class=\"dataframe\">\n",
       "  <thead>\n",
       "    <tr style=\"text-align: right;\">\n",
       "      <th></th>\n",
       "      <th>total_images</th>\n",
       "      <th>last_price</th>\n",
       "      <th>total_area</th>\n",
       "      <th>first_day_exposition</th>\n",
       "      <th>rooms</th>\n",
       "      <th>ceiling_height</th>\n",
       "      <th>floors_total</th>\n",
       "      <th>living_area</th>\n",
       "      <th>floor</th>\n",
       "      <th>is_apartment</th>\n",
       "      <th>...</th>\n",
       "      <th>kitchen_area</th>\n",
       "      <th>balcony</th>\n",
       "      <th>locality_name</th>\n",
       "      <th>airports_nearest</th>\n",
       "      <th>cityCenters_nearest</th>\n",
       "      <th>parks_around3000</th>\n",
       "      <th>parks_nearest</th>\n",
       "      <th>ponds_around3000</th>\n",
       "      <th>ponds_nearest</th>\n",
       "      <th>days_exposition</th>\n",
       "    </tr>\n",
       "  </thead>\n",
       "  <tbody>\n",
       "    <tr>\n",
       "      <td>0</td>\n",
       "      <td>20</td>\n",
       "      <td>13000000.0</td>\n",
       "      <td>108.00</td>\n",
       "      <td>2019-03-07T00:00:00</td>\n",
       "      <td>3</td>\n",
       "      <td>2.70</td>\n",
       "      <td>16.0</td>\n",
       "      <td>51.0</td>\n",
       "      <td>8</td>\n",
       "      <td>NaN</td>\n",
       "      <td>...</td>\n",
       "      <td>25.00</td>\n",
       "      <td>NaN</td>\n",
       "      <td>Санкт-Петербург</td>\n",
       "      <td>18863.0</td>\n",
       "      <td>16028.0</td>\n",
       "      <td>1.0</td>\n",
       "      <td>482.0</td>\n",
       "      <td>2.0</td>\n",
       "      <td>755.0</td>\n",
       "      <td>NaN</td>\n",
       "    </tr>\n",
       "    <tr>\n",
       "      <td>1</td>\n",
       "      <td>7</td>\n",
       "      <td>3350000.0</td>\n",
       "      <td>40.40</td>\n",
       "      <td>2018-12-04T00:00:00</td>\n",
       "      <td>1</td>\n",
       "      <td>NaN</td>\n",
       "      <td>11.0</td>\n",
       "      <td>18.6</td>\n",
       "      <td>1</td>\n",
       "      <td>NaN</td>\n",
       "      <td>...</td>\n",
       "      <td>11.00</td>\n",
       "      <td>2.0</td>\n",
       "      <td>посёлок Шушары</td>\n",
       "      <td>12817.0</td>\n",
       "      <td>18603.0</td>\n",
       "      <td>0.0</td>\n",
       "      <td>NaN</td>\n",
       "      <td>0.0</td>\n",
       "      <td>NaN</td>\n",
       "      <td>81.0</td>\n",
       "    </tr>\n",
       "    <tr>\n",
       "      <td>2</td>\n",
       "      <td>10</td>\n",
       "      <td>5196000.0</td>\n",
       "      <td>56.00</td>\n",
       "      <td>2015-08-20T00:00:00</td>\n",
       "      <td>2</td>\n",
       "      <td>NaN</td>\n",
       "      <td>5.0</td>\n",
       "      <td>34.3</td>\n",
       "      <td>4</td>\n",
       "      <td>NaN</td>\n",
       "      <td>...</td>\n",
       "      <td>8.30</td>\n",
       "      <td>0.0</td>\n",
       "      <td>Санкт-Петербург</td>\n",
       "      <td>21741.0</td>\n",
       "      <td>13933.0</td>\n",
       "      <td>1.0</td>\n",
       "      <td>90.0</td>\n",
       "      <td>2.0</td>\n",
       "      <td>574.0</td>\n",
       "      <td>558.0</td>\n",
       "    </tr>\n",
       "    <tr>\n",
       "      <td>3</td>\n",
       "      <td>0</td>\n",
       "      <td>64900000.0</td>\n",
       "      <td>159.00</td>\n",
       "      <td>2015-07-24T00:00:00</td>\n",
       "      <td>3</td>\n",
       "      <td>NaN</td>\n",
       "      <td>14.0</td>\n",
       "      <td>NaN</td>\n",
       "      <td>9</td>\n",
       "      <td>NaN</td>\n",
       "      <td>...</td>\n",
       "      <td>NaN</td>\n",
       "      <td>0.0</td>\n",
       "      <td>Санкт-Петербург</td>\n",
       "      <td>28098.0</td>\n",
       "      <td>6800.0</td>\n",
       "      <td>2.0</td>\n",
       "      <td>84.0</td>\n",
       "      <td>3.0</td>\n",
       "      <td>234.0</td>\n",
       "      <td>424.0</td>\n",
       "    </tr>\n",
       "    <tr>\n",
       "      <td>4</td>\n",
       "      <td>2</td>\n",
       "      <td>10000000.0</td>\n",
       "      <td>100.00</td>\n",
       "      <td>2018-06-19T00:00:00</td>\n",
       "      <td>2</td>\n",
       "      <td>3.03</td>\n",
       "      <td>14.0</td>\n",
       "      <td>32.0</td>\n",
       "      <td>13</td>\n",
       "      <td>NaN</td>\n",
       "      <td>...</td>\n",
       "      <td>41.00</td>\n",
       "      <td>NaN</td>\n",
       "      <td>Санкт-Петербург</td>\n",
       "      <td>31856.0</td>\n",
       "      <td>8098.0</td>\n",
       "      <td>2.0</td>\n",
       "      <td>112.0</td>\n",
       "      <td>1.0</td>\n",
       "      <td>48.0</td>\n",
       "      <td>121.0</td>\n",
       "    </tr>\n",
       "    <tr>\n",
       "      <td>...</td>\n",
       "      <td>...</td>\n",
       "      <td>...</td>\n",
       "      <td>...</td>\n",
       "      <td>...</td>\n",
       "      <td>...</td>\n",
       "      <td>...</td>\n",
       "      <td>...</td>\n",
       "      <td>...</td>\n",
       "      <td>...</td>\n",
       "      <td>...</td>\n",
       "      <td>...</td>\n",
       "      <td>...</td>\n",
       "      <td>...</td>\n",
       "      <td>...</td>\n",
       "      <td>...</td>\n",
       "      <td>...</td>\n",
       "      <td>...</td>\n",
       "      <td>...</td>\n",
       "      <td>...</td>\n",
       "      <td>...</td>\n",
       "      <td>...</td>\n",
       "    </tr>\n",
       "    <tr>\n",
       "      <td>23694</td>\n",
       "      <td>9</td>\n",
       "      <td>9700000.0</td>\n",
       "      <td>133.81</td>\n",
       "      <td>2017-03-21T00:00:00</td>\n",
       "      <td>3</td>\n",
       "      <td>3.70</td>\n",
       "      <td>5.0</td>\n",
       "      <td>73.3</td>\n",
       "      <td>3</td>\n",
       "      <td>NaN</td>\n",
       "      <td>...</td>\n",
       "      <td>13.83</td>\n",
       "      <td>NaN</td>\n",
       "      <td>Санкт-Петербург</td>\n",
       "      <td>24665.0</td>\n",
       "      <td>4232.0</td>\n",
       "      <td>1.0</td>\n",
       "      <td>796.0</td>\n",
       "      <td>3.0</td>\n",
       "      <td>381.0</td>\n",
       "      <td>NaN</td>\n",
       "    </tr>\n",
       "    <tr>\n",
       "      <td>23695</td>\n",
       "      <td>14</td>\n",
       "      <td>3100000.0</td>\n",
       "      <td>59.00</td>\n",
       "      <td>2018-01-15T00:00:00</td>\n",
       "      <td>3</td>\n",
       "      <td>NaN</td>\n",
       "      <td>5.0</td>\n",
       "      <td>38.0</td>\n",
       "      <td>4</td>\n",
       "      <td>NaN</td>\n",
       "      <td>...</td>\n",
       "      <td>8.50</td>\n",
       "      <td>NaN</td>\n",
       "      <td>Тосно</td>\n",
       "      <td>NaN</td>\n",
       "      <td>NaN</td>\n",
       "      <td>NaN</td>\n",
       "      <td>NaN</td>\n",
       "      <td>NaN</td>\n",
       "      <td>NaN</td>\n",
       "      <td>45.0</td>\n",
       "    </tr>\n",
       "    <tr>\n",
       "      <td>23696</td>\n",
       "      <td>18</td>\n",
       "      <td>2500000.0</td>\n",
       "      <td>56.70</td>\n",
       "      <td>2018-02-11T00:00:00</td>\n",
       "      <td>2</td>\n",
       "      <td>NaN</td>\n",
       "      <td>3.0</td>\n",
       "      <td>29.7</td>\n",
       "      <td>1</td>\n",
       "      <td>NaN</td>\n",
       "      <td>...</td>\n",
       "      <td>NaN</td>\n",
       "      <td>NaN</td>\n",
       "      <td>село Рождествено</td>\n",
       "      <td>NaN</td>\n",
       "      <td>NaN</td>\n",
       "      <td>NaN</td>\n",
       "      <td>NaN</td>\n",
       "      <td>NaN</td>\n",
       "      <td>NaN</td>\n",
       "      <td>NaN</td>\n",
       "    </tr>\n",
       "    <tr>\n",
       "      <td>23697</td>\n",
       "      <td>13</td>\n",
       "      <td>11475000.0</td>\n",
       "      <td>76.75</td>\n",
       "      <td>2017-03-28T00:00:00</td>\n",
       "      <td>2</td>\n",
       "      <td>3.00</td>\n",
       "      <td>17.0</td>\n",
       "      <td>NaN</td>\n",
       "      <td>12</td>\n",
       "      <td>NaN</td>\n",
       "      <td>...</td>\n",
       "      <td>23.30</td>\n",
       "      <td>2.0</td>\n",
       "      <td>Санкт-Петербург</td>\n",
       "      <td>39140.0</td>\n",
       "      <td>10364.0</td>\n",
       "      <td>2.0</td>\n",
       "      <td>173.0</td>\n",
       "      <td>3.0</td>\n",
       "      <td>196.0</td>\n",
       "      <td>602.0</td>\n",
       "    </tr>\n",
       "    <tr>\n",
       "      <td>23698</td>\n",
       "      <td>4</td>\n",
       "      <td>1350000.0</td>\n",
       "      <td>32.30</td>\n",
       "      <td>2017-07-21T00:00:00</td>\n",
       "      <td>1</td>\n",
       "      <td>2.50</td>\n",
       "      <td>5.0</td>\n",
       "      <td>12.3</td>\n",
       "      <td>1</td>\n",
       "      <td>NaN</td>\n",
       "      <td>...</td>\n",
       "      <td>9.00</td>\n",
       "      <td>NaN</td>\n",
       "      <td>поселок Новый Учхоз</td>\n",
       "      <td>NaN</td>\n",
       "      <td>NaN</td>\n",
       "      <td>NaN</td>\n",
       "      <td>NaN</td>\n",
       "      <td>NaN</td>\n",
       "      <td>NaN</td>\n",
       "      <td>NaN</td>\n",
       "    </tr>\n",
       "  </tbody>\n",
       "</table>\n",
       "<p>23699 rows × 22 columns</p>\n",
       "</div>"
      ],
      "text/plain": [
       "       total_images  last_price  total_area first_day_exposition  rooms  \\\n",
       "0                20  13000000.0      108.00  2019-03-07T00:00:00      3   \n",
       "1                 7   3350000.0       40.40  2018-12-04T00:00:00      1   \n",
       "2                10   5196000.0       56.00  2015-08-20T00:00:00      2   \n",
       "3                 0  64900000.0      159.00  2015-07-24T00:00:00      3   \n",
       "4                 2  10000000.0      100.00  2018-06-19T00:00:00      2   \n",
       "...             ...         ...         ...                  ...    ...   \n",
       "23694             9   9700000.0      133.81  2017-03-21T00:00:00      3   \n",
       "23695            14   3100000.0       59.00  2018-01-15T00:00:00      3   \n",
       "23696            18   2500000.0       56.70  2018-02-11T00:00:00      2   \n",
       "23697            13  11475000.0       76.75  2017-03-28T00:00:00      2   \n",
       "23698             4   1350000.0       32.30  2017-07-21T00:00:00      1   \n",
       "\n",
       "       ceiling_height  floors_total  living_area  floor is_apartment  ...  \\\n",
       "0                2.70          16.0         51.0      8          NaN  ...   \n",
       "1                 NaN          11.0         18.6      1          NaN  ...   \n",
       "2                 NaN           5.0         34.3      4          NaN  ...   \n",
       "3                 NaN          14.0          NaN      9          NaN  ...   \n",
       "4                3.03          14.0         32.0     13          NaN  ...   \n",
       "...               ...           ...          ...    ...          ...  ...   \n",
       "23694            3.70           5.0         73.3      3          NaN  ...   \n",
       "23695             NaN           5.0         38.0      4          NaN  ...   \n",
       "23696             NaN           3.0         29.7      1          NaN  ...   \n",
       "23697            3.00          17.0          NaN     12          NaN  ...   \n",
       "23698            2.50           5.0         12.3      1          NaN  ...   \n",
       "\n",
       "       kitchen_area  balcony        locality_name  airports_nearest  \\\n",
       "0             25.00      NaN      Санкт-Петербург           18863.0   \n",
       "1             11.00      2.0       посёлок Шушары           12817.0   \n",
       "2              8.30      0.0      Санкт-Петербург           21741.0   \n",
       "3               NaN      0.0      Санкт-Петербург           28098.0   \n",
       "4             41.00      NaN      Санкт-Петербург           31856.0   \n",
       "...             ...      ...                  ...               ...   \n",
       "23694         13.83      NaN      Санкт-Петербург           24665.0   \n",
       "23695          8.50      NaN                Тосно               NaN   \n",
       "23696           NaN      NaN     село Рождествено               NaN   \n",
       "23697         23.30      2.0      Санкт-Петербург           39140.0   \n",
       "23698          9.00      NaN  поселок Новый Учхоз               NaN   \n",
       "\n",
       "      cityCenters_nearest  parks_around3000  parks_nearest  ponds_around3000  \\\n",
       "0                 16028.0               1.0          482.0               2.0   \n",
       "1                 18603.0               0.0            NaN               0.0   \n",
       "2                 13933.0               1.0           90.0               2.0   \n",
       "3                  6800.0               2.0           84.0               3.0   \n",
       "4                  8098.0               2.0          112.0               1.0   \n",
       "...                   ...               ...            ...               ...   \n",
       "23694              4232.0               1.0          796.0               3.0   \n",
       "23695                 NaN               NaN            NaN               NaN   \n",
       "23696                 NaN               NaN            NaN               NaN   \n",
       "23697             10364.0               2.0          173.0               3.0   \n",
       "23698                 NaN               NaN            NaN               NaN   \n",
       "\n",
       "       ponds_nearest  days_exposition  \n",
       "0              755.0              NaN  \n",
       "1                NaN             81.0  \n",
       "2              574.0            558.0  \n",
       "3              234.0            424.0  \n",
       "4               48.0            121.0  \n",
       "...              ...              ...  \n",
       "23694          381.0              NaN  \n",
       "23695            NaN             45.0  \n",
       "23696            NaN              NaN  \n",
       "23697          196.0            602.0  \n",
       "23698            NaN              NaN  \n",
       "\n",
       "[23699 rows x 22 columns]"
      ]
     },
     "execution_count": 525,
     "metadata": {},
     "output_type": "execute_result"
    }
   ],
   "source": [
    "import warnings # уберем предупреждения, которые возникли в последующих ячейках\n",
    "import pandas as pd\n",
    "warnings.simplefilter(\"ignore\")\n",
    "df = pd.read_csv('/datasets/real_estate_data.csv', sep = '\\t') # сохраняем файл в df, разделителем данных указываем /t\n",
    "df"
   ]
  },
  {
   "cell_type": "code",
   "execution_count": 526,
   "metadata": {},
   "outputs": [
    {
     "name": "stdout",
     "output_type": "stream",
     "text": [
      "<class 'pandas.core.frame.DataFrame'>\n",
      "RangeIndex: 23699 entries, 0 to 23698\n",
      "Data columns (total 22 columns):\n",
      "total_images            23699 non-null int64\n",
      "last_price              23699 non-null float64\n",
      "total_area              23699 non-null float64\n",
      "first_day_exposition    23699 non-null object\n",
      "rooms                   23699 non-null int64\n",
      "ceiling_height          14504 non-null float64\n",
      "floors_total            23613 non-null float64\n",
      "living_area             21796 non-null float64\n",
      "floor                   23699 non-null int64\n",
      "is_apartment            2775 non-null object\n",
      "studio                  23699 non-null bool\n",
      "open_plan               23699 non-null bool\n",
      "kitchen_area            21421 non-null float64\n",
      "balcony                 12180 non-null float64\n",
      "locality_name           23650 non-null object\n",
      "airports_nearest        18157 non-null float64\n",
      "cityCenters_nearest     18180 non-null float64\n",
      "parks_around3000        18181 non-null float64\n",
      "parks_nearest           8079 non-null float64\n",
      "ponds_around3000        18181 non-null float64\n",
      "ponds_nearest           9110 non-null float64\n",
      "days_exposition         20518 non-null float64\n",
      "dtypes: bool(2), float64(14), int64(3), object(3)\n",
      "memory usage: 3.7+ MB\n"
     ]
    }
   ],
   "source": [
    "df.info()"
   ]
  },
  {
   "cell_type": "markdown",
   "metadata": {},
   "source": [
    "**Вывод**\n",
    "\n",
    "При первом взгляде на таблицу можно сразу заметить дату из которой лучше убрать время и значения NaN, которые в дальнейшем необходимо будет исправить. Также перед анализом нужно исправить название столбцов cityCenters_nearest, parks_around3000, ponds_around3000, чтобы привести их к единому стандарту. В некоторых столбца лучше сменить тип данных с float на int для удобства чтения."
   ]
  },
  {
   "cell_type": "markdown",
   "metadata": {},
   "source": [
    "## Предобработка данных"
   ]
  },
  {
   "cell_type": "markdown",
   "metadata": {},
   "source": [
    "### Обработка даты и названий столбцов."
   ]
  },
  {
   "cell_type": "markdown",
   "metadata": {},
   "source": [
    "Уберем из даты размещения время и заменим название столбцов."
   ]
  },
  {
   "cell_type": "code",
   "execution_count": 527,
   "metadata": {
    "scrolled": true
   },
   "outputs": [
    {
     "data": {
      "text/html": [
       "<div>\n",
       "<style scoped>\n",
       "    .dataframe tbody tr th:only-of-type {\n",
       "        vertical-align: middle;\n",
       "    }\n",
       "\n",
       "    .dataframe tbody tr th {\n",
       "        vertical-align: top;\n",
       "    }\n",
       "\n",
       "    .dataframe thead th {\n",
       "        text-align: right;\n",
       "    }\n",
       "</style>\n",
       "<table border=\"1\" class=\"dataframe\">\n",
       "  <thead>\n",
       "    <tr style=\"text-align: right;\">\n",
       "      <th></th>\n",
       "      <th>total_images</th>\n",
       "      <th>last_price</th>\n",
       "      <th>total_area</th>\n",
       "      <th>first_day_exposition</th>\n",
       "      <th>rooms</th>\n",
       "      <th>ceiling_height</th>\n",
       "      <th>floors_total</th>\n",
       "      <th>living_area</th>\n",
       "      <th>floor</th>\n",
       "      <th>is_apartment</th>\n",
       "      <th>...</th>\n",
       "      <th>kitchen_area</th>\n",
       "      <th>balcony</th>\n",
       "      <th>locality_name</th>\n",
       "      <th>airports_nearest</th>\n",
       "      <th>city_centers_nearest</th>\n",
       "      <th>parks_around_3000</th>\n",
       "      <th>parks_nearest</th>\n",
       "      <th>ponds_around_3000</th>\n",
       "      <th>ponds_nearest</th>\n",
       "      <th>days_exposition</th>\n",
       "    </tr>\n",
       "  </thead>\n",
       "  <tbody>\n",
       "    <tr>\n",
       "      <td>0</td>\n",
       "      <td>20</td>\n",
       "      <td>13000000.0</td>\n",
       "      <td>108.00</td>\n",
       "      <td>2019-03-07</td>\n",
       "      <td>3</td>\n",
       "      <td>2.70</td>\n",
       "      <td>16.0</td>\n",
       "      <td>51.0</td>\n",
       "      <td>8</td>\n",
       "      <td>NaN</td>\n",
       "      <td>...</td>\n",
       "      <td>25.00</td>\n",
       "      <td>NaN</td>\n",
       "      <td>Санкт-Петербург</td>\n",
       "      <td>18863.0</td>\n",
       "      <td>16028.0</td>\n",
       "      <td>1.0</td>\n",
       "      <td>482.0</td>\n",
       "      <td>2.0</td>\n",
       "      <td>755.0</td>\n",
       "      <td>NaN</td>\n",
       "    </tr>\n",
       "    <tr>\n",
       "      <td>1</td>\n",
       "      <td>7</td>\n",
       "      <td>3350000.0</td>\n",
       "      <td>40.40</td>\n",
       "      <td>2018-12-04</td>\n",
       "      <td>1</td>\n",
       "      <td>NaN</td>\n",
       "      <td>11.0</td>\n",
       "      <td>18.6</td>\n",
       "      <td>1</td>\n",
       "      <td>NaN</td>\n",
       "      <td>...</td>\n",
       "      <td>11.00</td>\n",
       "      <td>2.0</td>\n",
       "      <td>посёлок Шушары</td>\n",
       "      <td>12817.0</td>\n",
       "      <td>18603.0</td>\n",
       "      <td>0.0</td>\n",
       "      <td>NaN</td>\n",
       "      <td>0.0</td>\n",
       "      <td>NaN</td>\n",
       "      <td>81.0</td>\n",
       "    </tr>\n",
       "    <tr>\n",
       "      <td>2</td>\n",
       "      <td>10</td>\n",
       "      <td>5196000.0</td>\n",
       "      <td>56.00</td>\n",
       "      <td>2015-08-20</td>\n",
       "      <td>2</td>\n",
       "      <td>NaN</td>\n",
       "      <td>5.0</td>\n",
       "      <td>34.3</td>\n",
       "      <td>4</td>\n",
       "      <td>NaN</td>\n",
       "      <td>...</td>\n",
       "      <td>8.30</td>\n",
       "      <td>0.0</td>\n",
       "      <td>Санкт-Петербург</td>\n",
       "      <td>21741.0</td>\n",
       "      <td>13933.0</td>\n",
       "      <td>1.0</td>\n",
       "      <td>90.0</td>\n",
       "      <td>2.0</td>\n",
       "      <td>574.0</td>\n",
       "      <td>558.0</td>\n",
       "    </tr>\n",
       "    <tr>\n",
       "      <td>3</td>\n",
       "      <td>0</td>\n",
       "      <td>64900000.0</td>\n",
       "      <td>159.00</td>\n",
       "      <td>2015-07-24</td>\n",
       "      <td>3</td>\n",
       "      <td>NaN</td>\n",
       "      <td>14.0</td>\n",
       "      <td>NaN</td>\n",
       "      <td>9</td>\n",
       "      <td>NaN</td>\n",
       "      <td>...</td>\n",
       "      <td>NaN</td>\n",
       "      <td>0.0</td>\n",
       "      <td>Санкт-Петербург</td>\n",
       "      <td>28098.0</td>\n",
       "      <td>6800.0</td>\n",
       "      <td>2.0</td>\n",
       "      <td>84.0</td>\n",
       "      <td>3.0</td>\n",
       "      <td>234.0</td>\n",
       "      <td>424.0</td>\n",
       "    </tr>\n",
       "    <tr>\n",
       "      <td>4</td>\n",
       "      <td>2</td>\n",
       "      <td>10000000.0</td>\n",
       "      <td>100.00</td>\n",
       "      <td>2018-06-19</td>\n",
       "      <td>2</td>\n",
       "      <td>3.03</td>\n",
       "      <td>14.0</td>\n",
       "      <td>32.0</td>\n",
       "      <td>13</td>\n",
       "      <td>NaN</td>\n",
       "      <td>...</td>\n",
       "      <td>41.00</td>\n",
       "      <td>NaN</td>\n",
       "      <td>Санкт-Петербург</td>\n",
       "      <td>31856.0</td>\n",
       "      <td>8098.0</td>\n",
       "      <td>2.0</td>\n",
       "      <td>112.0</td>\n",
       "      <td>1.0</td>\n",
       "      <td>48.0</td>\n",
       "      <td>121.0</td>\n",
       "    </tr>\n",
       "    <tr>\n",
       "      <td>...</td>\n",
       "      <td>...</td>\n",
       "      <td>...</td>\n",
       "      <td>...</td>\n",
       "      <td>...</td>\n",
       "      <td>...</td>\n",
       "      <td>...</td>\n",
       "      <td>...</td>\n",
       "      <td>...</td>\n",
       "      <td>...</td>\n",
       "      <td>...</td>\n",
       "      <td>...</td>\n",
       "      <td>...</td>\n",
       "      <td>...</td>\n",
       "      <td>...</td>\n",
       "      <td>...</td>\n",
       "      <td>...</td>\n",
       "      <td>...</td>\n",
       "      <td>...</td>\n",
       "      <td>...</td>\n",
       "      <td>...</td>\n",
       "      <td>...</td>\n",
       "    </tr>\n",
       "    <tr>\n",
       "      <td>23694</td>\n",
       "      <td>9</td>\n",
       "      <td>9700000.0</td>\n",
       "      <td>133.81</td>\n",
       "      <td>2017-03-21</td>\n",
       "      <td>3</td>\n",
       "      <td>3.70</td>\n",
       "      <td>5.0</td>\n",
       "      <td>73.3</td>\n",
       "      <td>3</td>\n",
       "      <td>NaN</td>\n",
       "      <td>...</td>\n",
       "      <td>13.83</td>\n",
       "      <td>NaN</td>\n",
       "      <td>Санкт-Петербург</td>\n",
       "      <td>24665.0</td>\n",
       "      <td>4232.0</td>\n",
       "      <td>1.0</td>\n",
       "      <td>796.0</td>\n",
       "      <td>3.0</td>\n",
       "      <td>381.0</td>\n",
       "      <td>NaN</td>\n",
       "    </tr>\n",
       "    <tr>\n",
       "      <td>23695</td>\n",
       "      <td>14</td>\n",
       "      <td>3100000.0</td>\n",
       "      <td>59.00</td>\n",
       "      <td>2018-01-15</td>\n",
       "      <td>3</td>\n",
       "      <td>NaN</td>\n",
       "      <td>5.0</td>\n",
       "      <td>38.0</td>\n",
       "      <td>4</td>\n",
       "      <td>NaN</td>\n",
       "      <td>...</td>\n",
       "      <td>8.50</td>\n",
       "      <td>NaN</td>\n",
       "      <td>Тосно</td>\n",
       "      <td>NaN</td>\n",
       "      <td>NaN</td>\n",
       "      <td>NaN</td>\n",
       "      <td>NaN</td>\n",
       "      <td>NaN</td>\n",
       "      <td>NaN</td>\n",
       "      <td>45.0</td>\n",
       "    </tr>\n",
       "    <tr>\n",
       "      <td>23696</td>\n",
       "      <td>18</td>\n",
       "      <td>2500000.0</td>\n",
       "      <td>56.70</td>\n",
       "      <td>2018-02-11</td>\n",
       "      <td>2</td>\n",
       "      <td>NaN</td>\n",
       "      <td>3.0</td>\n",
       "      <td>29.7</td>\n",
       "      <td>1</td>\n",
       "      <td>NaN</td>\n",
       "      <td>...</td>\n",
       "      <td>NaN</td>\n",
       "      <td>NaN</td>\n",
       "      <td>село Рождествено</td>\n",
       "      <td>NaN</td>\n",
       "      <td>NaN</td>\n",
       "      <td>NaN</td>\n",
       "      <td>NaN</td>\n",
       "      <td>NaN</td>\n",
       "      <td>NaN</td>\n",
       "      <td>NaN</td>\n",
       "    </tr>\n",
       "    <tr>\n",
       "      <td>23697</td>\n",
       "      <td>13</td>\n",
       "      <td>11475000.0</td>\n",
       "      <td>76.75</td>\n",
       "      <td>2017-03-28</td>\n",
       "      <td>2</td>\n",
       "      <td>3.00</td>\n",
       "      <td>17.0</td>\n",
       "      <td>NaN</td>\n",
       "      <td>12</td>\n",
       "      <td>NaN</td>\n",
       "      <td>...</td>\n",
       "      <td>23.30</td>\n",
       "      <td>2.0</td>\n",
       "      <td>Санкт-Петербург</td>\n",
       "      <td>39140.0</td>\n",
       "      <td>10364.0</td>\n",
       "      <td>2.0</td>\n",
       "      <td>173.0</td>\n",
       "      <td>3.0</td>\n",
       "      <td>196.0</td>\n",
       "      <td>602.0</td>\n",
       "    </tr>\n",
       "    <tr>\n",
       "      <td>23698</td>\n",
       "      <td>4</td>\n",
       "      <td>1350000.0</td>\n",
       "      <td>32.30</td>\n",
       "      <td>2017-07-21</td>\n",
       "      <td>1</td>\n",
       "      <td>2.50</td>\n",
       "      <td>5.0</td>\n",
       "      <td>12.3</td>\n",
       "      <td>1</td>\n",
       "      <td>NaN</td>\n",
       "      <td>...</td>\n",
       "      <td>9.00</td>\n",
       "      <td>NaN</td>\n",
       "      <td>поселок Новый Учхоз</td>\n",
       "      <td>NaN</td>\n",
       "      <td>NaN</td>\n",
       "      <td>NaN</td>\n",
       "      <td>NaN</td>\n",
       "      <td>NaN</td>\n",
       "      <td>NaN</td>\n",
       "      <td>NaN</td>\n",
       "    </tr>\n",
       "  </tbody>\n",
       "</table>\n",
       "<p>23699 rows × 22 columns</p>\n",
       "</div>"
      ],
      "text/plain": [
       "       total_images  last_price  total_area first_day_exposition  rooms  \\\n",
       "0                20  13000000.0      108.00           2019-03-07      3   \n",
       "1                 7   3350000.0       40.40           2018-12-04      1   \n",
       "2                10   5196000.0       56.00           2015-08-20      2   \n",
       "3                 0  64900000.0      159.00           2015-07-24      3   \n",
       "4                 2  10000000.0      100.00           2018-06-19      2   \n",
       "...             ...         ...         ...                  ...    ...   \n",
       "23694             9   9700000.0      133.81           2017-03-21      3   \n",
       "23695            14   3100000.0       59.00           2018-01-15      3   \n",
       "23696            18   2500000.0       56.70           2018-02-11      2   \n",
       "23697            13  11475000.0       76.75           2017-03-28      2   \n",
       "23698             4   1350000.0       32.30           2017-07-21      1   \n",
       "\n",
       "       ceiling_height  floors_total  living_area  floor is_apartment  ...  \\\n",
       "0                2.70          16.0         51.0      8          NaN  ...   \n",
       "1                 NaN          11.0         18.6      1          NaN  ...   \n",
       "2                 NaN           5.0         34.3      4          NaN  ...   \n",
       "3                 NaN          14.0          NaN      9          NaN  ...   \n",
       "4                3.03          14.0         32.0     13          NaN  ...   \n",
       "...               ...           ...          ...    ...          ...  ...   \n",
       "23694            3.70           5.0         73.3      3          NaN  ...   \n",
       "23695             NaN           5.0         38.0      4          NaN  ...   \n",
       "23696             NaN           3.0         29.7      1          NaN  ...   \n",
       "23697            3.00          17.0          NaN     12          NaN  ...   \n",
       "23698            2.50           5.0         12.3      1          NaN  ...   \n",
       "\n",
       "       kitchen_area  balcony        locality_name  airports_nearest  \\\n",
       "0             25.00      NaN      Санкт-Петербург           18863.0   \n",
       "1             11.00      2.0       посёлок Шушары           12817.0   \n",
       "2              8.30      0.0      Санкт-Петербург           21741.0   \n",
       "3               NaN      0.0      Санкт-Петербург           28098.0   \n",
       "4             41.00      NaN      Санкт-Петербург           31856.0   \n",
       "...             ...      ...                  ...               ...   \n",
       "23694         13.83      NaN      Санкт-Петербург           24665.0   \n",
       "23695          8.50      NaN                Тосно               NaN   \n",
       "23696           NaN      NaN     село Рождествено               NaN   \n",
       "23697         23.30      2.0      Санкт-Петербург           39140.0   \n",
       "23698          9.00      NaN  поселок Новый Учхоз               NaN   \n",
       "\n",
       "      city_centers_nearest  parks_around_3000  parks_nearest  \\\n",
       "0                  16028.0                1.0          482.0   \n",
       "1                  18603.0                0.0            NaN   \n",
       "2                  13933.0                1.0           90.0   \n",
       "3                   6800.0                2.0           84.0   \n",
       "4                   8098.0                2.0          112.0   \n",
       "...                    ...                ...            ...   \n",
       "23694               4232.0                1.0          796.0   \n",
       "23695                  NaN                NaN            NaN   \n",
       "23696                  NaN                NaN            NaN   \n",
       "23697              10364.0                2.0          173.0   \n",
       "23698                  NaN                NaN            NaN   \n",
       "\n",
       "       ponds_around_3000  ponds_nearest  days_exposition  \n",
       "0                    2.0          755.0              NaN  \n",
       "1                    0.0            NaN             81.0  \n",
       "2                    2.0          574.0            558.0  \n",
       "3                    3.0          234.0            424.0  \n",
       "4                    1.0           48.0            121.0  \n",
       "...                  ...            ...              ...  \n",
       "23694                3.0          381.0              NaN  \n",
       "23695                NaN            NaN             45.0  \n",
       "23696                NaN            NaN              NaN  \n",
       "23697                3.0          196.0            602.0  \n",
       "23698                NaN            NaN              NaN  \n",
       "\n",
       "[23699 rows x 22 columns]"
      ]
     },
     "execution_count": 527,
     "metadata": {},
     "output_type": "execute_result"
    }
   ],
   "source": [
    "df['first_day_exposition'] = pd.to_datetime(df['first_day_exposition'], format='%Y-%m-%d') # меняем формат даты убрав время\n",
    "df = df.rename(columns = {'cityCenters_nearest': 'city_centers_nearest', 'parks_around3000': 'parks_around_3000', 'ponds_around3000': 'ponds_around_3000'}) # заменяем название столбцов\n",
    "df"
   ]
  },
  {
   "cell_type": "markdown",
   "metadata": {},
   "source": [
    "### Обработка пропусков\n"
   ]
  },
  {
   "cell_type": "markdown",
   "metadata": {},
   "source": [
    "Далее заменим пустые значения столбца floors_total. NaN в этом столбце не много, возможно убрать эти значения, но их можно оставить, заменив их значениями из столбца floor, также заменим тип значений на int."
   ]
  },
  {
   "cell_type": "code",
   "execution_count": 528,
   "metadata": {},
   "outputs": [],
   "source": [
    "df['floors_total'] = df['floors_total'].fillna(df['floor']).astype('int') "
   ]
  },
  {
   "cell_type": "markdown",
   "metadata": {},
   "source": [
    "Заменим NaN в признаке апартаментов, предположим, ввиду не обезательно заполнения пользователи сервиса не видели смысла в заполнении данного параметра, так как выставляли на продажу квартиру, поэтому вместо пустых строк поставим False."
   ]
  },
  {
   "cell_type": "code",
   "execution_count": 529,
   "metadata": {},
   "outputs": [],
   "source": [
    "df['is_apartment'] = df['is_apartment'].fillna(value='False')"
   ]
  },
  {
   "cell_type": "markdown",
   "metadata": {},
   "source": [
    "Пропуски в столбце locality_name скорее всего обусловлены тем что недвижимость находится за пределами населенных пунктов, так как такой тип недвижимости может иметь свою специфику, такую как отсутствие удобств или наоборот это может быть роскошный дом вдалеке от города, а это в свою очередь влияет на цену, то лучше удалить их из датасета. Строки с пропущенными значениями в столбцах living_area, kitchen_area лучше заполнить, предварительно нужно высчитать среднюю долю от общей площади и добавить вместо пропусков общую площадь умноженную ну неё."
   ]
  },
  {
   "cell_type": "code",
   "execution_count": 530,
   "metadata": {},
   "outputs": [
    {
     "name": "stdout",
     "output_type": "stream",
     "text": [
      "<class 'pandas.core.frame.DataFrame'>\n",
      "Int64Index: 23650 entries, 0 to 23698\n",
      "Data columns (total 22 columns):\n",
      "total_images            23650 non-null int64\n",
      "last_price              23650 non-null float64\n",
      "total_area              23650 non-null float64\n",
      "first_day_exposition    23650 non-null datetime64[ns]\n",
      "rooms                   23650 non-null int64\n",
      "ceiling_height          14490 non-null float64\n",
      "floors_total            23650 non-null int64\n",
      "living_area             23650 non-null float64\n",
      "floor                   23650 non-null int64\n",
      "is_apartment            23650 non-null object\n",
      "studio                  23650 non-null bool\n",
      "open_plan               23650 non-null bool\n",
      "kitchen_area            23650 non-null float64\n",
      "balcony                 12137 non-null float64\n",
      "locality_name           23650 non-null object\n",
      "airports_nearest        18116 non-null float64\n",
      "city_centers_nearest    18139 non-null float64\n",
      "parks_around_3000       18140 non-null float64\n",
      "parks_nearest           8064 non-null float64\n",
      "ponds_around_3000       18140 non-null float64\n",
      "ponds_nearest           9085 non-null float64\n",
      "days_exposition         20470 non-null float64\n",
      "dtypes: bool(2), datetime64[ns](1), float64(13), int64(4), object(2)\n",
      "memory usage: 3.8+ MB\n"
     ]
    }
   ],
   "source": [
    "df = df.dropna(subset=['locality_name']) # убираем значения с пропусками\n",
    "living = df['living_area']/df['total_area'] # высчитываем долю жилой площади датасета\n",
    "living_mean = living.mean() # высчитываем среднюю долю жилой площади датасета\n",
    "df['living_area'] = df['living_area'].fillna(df['total_area']*living_mean) # заменяем пустые значения жилой площади\n",
    "kitchen = df['kitchen_area']/df['total_area'] # высчитываем долю кухонной площади датасета\n",
    "kitchen_mean = kitchen.mean() # высчитываем среднюю долю кухонной площади датасета\n",
    "df['kitchen_area'] = df['kitchen_area'].fillna(df['total_area']*kitchen_mean) # заменяем пустые значения кухонной площади\n",
    "df.info()"
   ]
  },
  {
   "cell_type": "markdown",
   "metadata": {},
   "source": [
    "В остальных столбцах поставим пока ноль, чтобы их было легко отбросить при построении графика, но при этом остальные данные мы не потеряем. Так же одновременно заменим тип данных на целочисленный для удобства чтения.\n"
   ]
  },
  {
   "cell_type": "code",
   "execution_count": 531,
   "metadata": {},
   "outputs": [],
   "source": [
    "df['balcony'] = df['balcony'].fillna(value='0').astype('int')\n",
    "df['airports_nearest'] = df['airports_nearest'].fillna(value='0').astype('int')\n",
    "df['city_centers_nearest'] = df['city_centers_nearest'].fillna(value='0').astype('int')\n",
    "df['parks_around_3000'] = df['parks_around_3000'].fillna(value='0').astype('int')\n",
    "df['parks_nearest'] = df['parks_nearest'].fillna(value='0').astype('int')\n",
    "df['ponds_around_3000'] = df['ponds_around_3000'].fillna(value='0').astype('int')\n",
    "df['ponds_nearest'] = df['ponds_nearest'].fillna(value='0').astype('int')\n",
    "df['days_exposition'] = df['days_exposition'].fillna(value='0').astype('int')"
   ]
  },
  {
   "cell_type": "markdown",
   "metadata": {},
   "source": [
    "С пустыми значения остался только столбец ceiling_height, посмотрим количество слишком высоких и низких потолков перед заполнением:"
   ]
  },
  {
   "cell_type": "code",
   "execution_count": 532,
   "metadata": {},
   "outputs": [
    {
     "name": "stdout",
     "output_type": "stream",
     "text": [
      "total_images            3\n",
      "last_price              3\n",
      "total_area              3\n",
      "first_day_exposition    3\n",
      "rooms                   3\n",
      "ceiling_height          3\n",
      "floors_total            3\n",
      "living_area             3\n",
      "floor                   3\n",
      "is_apartment            3\n",
      "studio                  3\n",
      "open_plan               3\n",
      "kitchen_area            3\n",
      "balcony                 3\n",
      "locality_name           3\n",
      "airports_nearest        3\n",
      "city_centers_nearest    3\n",
      "parks_around_3000       3\n",
      "parks_nearest           3\n",
      "ponds_around_3000       3\n",
      "ponds_nearest           3\n",
      "days_exposition         3\n",
      "dtype: int64\n"
     ]
    },
    {
     "data": {
      "text/plain": [
       "total_images            75\n",
       "last_price              75\n",
       "total_area              75\n",
       "first_day_exposition    75\n",
       "rooms                   75\n",
       "ceiling_height          75\n",
       "floors_total            75\n",
       "living_area             75\n",
       "floor                   75\n",
       "is_apartment            75\n",
       "studio                  75\n",
       "open_plan               75\n",
       "kitchen_area            75\n",
       "balcony                 75\n",
       "locality_name           75\n",
       "airports_nearest        75\n",
       "city_centers_nearest    75\n",
       "parks_around_3000       75\n",
       "parks_nearest           75\n",
       "ponds_around_3000       75\n",
       "ponds_nearest           75\n",
       "days_exposition         75\n",
       "dtype: int64"
      ]
     },
     "execution_count": 532,
     "metadata": {},
     "output_type": "execute_result"
    }
   ],
   "source": [
    "print(df.query('ceiling_height<2').count())\n",
    "df.query('ceiling_height>4').count()"
   ]
  },
  {
   "cell_type": "markdown",
   "metadata": {},
   "source": [
    "Выбросов в этом столбце менее 0.5%, эти данные ни на что не повлияют, поэтому можно взять медиану и заполнить столбец ей."
   ]
  },
  {
   "cell_type": "code",
   "execution_count": 533,
   "metadata": {
    "scrolled": true
   },
   "outputs": [
    {
     "name": "stdout",
     "output_type": "stream",
     "text": [
      "<class 'pandas.core.frame.DataFrame'>\n",
      "Int64Index: 23650 entries, 0 to 23698\n",
      "Data columns (total 22 columns):\n",
      "total_images            23650 non-null int64\n",
      "last_price              23650 non-null float64\n",
      "total_area              23650 non-null float64\n",
      "first_day_exposition    23650 non-null datetime64[ns]\n",
      "rooms                   23650 non-null int64\n",
      "ceiling_height          23650 non-null float64\n",
      "floors_total            23650 non-null int64\n",
      "living_area             23650 non-null float64\n",
      "floor                   23650 non-null int64\n",
      "is_apartment            23650 non-null object\n",
      "studio                  23650 non-null bool\n",
      "open_plan               23650 non-null bool\n",
      "kitchen_area            23650 non-null float64\n",
      "balcony                 23650 non-null int64\n",
      "locality_name           23650 non-null object\n",
      "airports_nearest        23650 non-null int64\n",
      "city_centers_nearest    23650 non-null int64\n",
      "parks_around_3000       23650 non-null int64\n",
      "parks_nearest           23650 non-null int64\n",
      "ponds_around_3000       23650 non-null int64\n",
      "ponds_nearest           23650 non-null int64\n",
      "days_exposition         23650 non-null int64\n",
      "dtypes: bool(2), datetime64[ns](1), float64(5), int64(12), object(2)\n",
      "memory usage: 3.8+ MB\n"
     ]
    }
   ],
   "source": [
    "df['ceiling_height'] = df['ceiling_height'].fillna(df['ceiling_height'].mean())\n",
    "df['ceiling_height'] = round(df['ceiling_height'], 2) # округлим значения до второй цифры после запятой, чтобы данные не были громоздкими.\n",
    "df.info()"
   ]
  },
  {
   "cell_type": "markdown",
   "metadata": {},
   "source": [
    "**Вывод**\n",
    "\n",
    "Предобработка завершена, возможно при работе с графиками придется отбросить некоторые значение, но на текущий момент дата сет приведен в надлежащий вид для анализа."
   ]
  },
  {
   "cell_type": "markdown",
   "metadata": {},
   "source": [
    "## Расчёты и добавление результатов в таблицу"
   ]
  },
  {
   "cell_type": "markdown",
   "metadata": {},
   "source": [
    "### Цена квадратного метра"
   ]
  },
  {
   "cell_type": "markdown",
   "metadata": {},
   "source": [
    "Добавим столбец с ценой за квадратный метр и построим график."
   ]
  },
  {
   "cell_type": "code",
   "execution_count": 534,
   "metadata": {},
   "outputs": [
    {
     "data": {
      "text/plain": [
       "Text(0.5, 0, 'Цена за квадратный метр')"
      ]
     },
     "execution_count": 534,
     "metadata": {},
     "output_type": "execute_result"
    },
    {
     "data": {
      "image/png": "[encoded data removed]",
      "text/plain": [
       "<Figure size 432x288 with 1 Axes>"
      ]
     },
     "metadata": {
      "needs_background": "light"
     },
     "output_type": "display_data"
    }
   ],
   "source": [
    "import matplotlib.pyplot as plt\n",
    "\n",
    "df['one_metere_price'] = df['last_price']/df['total_area']\n",
    "df['one_metere_price'].hist(range = (0, 800000))\n",
    "plt.title('Цена квадратного метра')\n",
    "plt.xlabel('Цена за квадратный метр')"
   ]
  },
  {
   "cell_type": "markdown",
   "metadata": {},
   "source": [
    "На диаграмме прекрасно видно, что больше всего квартир продается с ценой до 150000 за квадратный метр. На текущий момент средняя цена находится в районе 179 306  до  204 922, но данные могли устареть в связи с ростом цен за последние два года(данные в таблице заканчиваются маем 2019), поэтому имеет смысл доверять распределению на графике."
   ]
  },
  {
   "cell_type": "markdown",
   "metadata": {},
   "source": [
    "### День недели, месяц и год публикации объявления"
   ]
  },
  {
   "cell_type": "markdown",
   "metadata": {},
   "source": [
    "Добавим в таблицу значения и построим графики."
   ]
  },
  {
   "cell_type": "code",
   "execution_count": 535,
   "metadata": {},
   "outputs": [
    {
     "data": {
      "image/png": "[encoded data removed]",
      "text/plain": [
       "<Figure size 432x288 with 1 Axes>"
      ]
     },
     "metadata": {
      "needs_background": "light"
     },
     "output_type": "display_data"
    },
    {
     "data": {
      "image/png": "[encoded data removed]",
      "text/plain": [
       "<Figure size 432x288 with 1 Axes>"
      ]
     },
     "metadata": {
      "needs_background": "light"
     },
     "output_type": "display_data"
    },
    {
     "data": {
      "image/png": "[encoded data removed]",
      "text/plain": [
       "<Figure size 432x288 with 1 Axes>"
      ]
     },
     "metadata": {
      "needs_background": "light"
     },
     "output_type": "display_data"
    }
   ],
   "source": [
    "df['weekday'] = df['first_day_exposition'].dt.weekday\n",
    "df['month'] = df['first_day_exposition'].dt.month\n",
    "df['year'] = df['first_day_exposition'].dt.year\n",
    "df['weekday'].hist(range = (1,7))\n",
    "plt.title('Размещение по дням недели')\n",
    "plt.show()\n",
    "df['month'].hist(bins = 12, range = (1,12))\n",
    "plt.title('Размещение по месяцам')\n",
    "plt.show()\n",
    "df['year'].hist()\n",
    "plt.title('Размещение по Годам')\n",
    "plt.show()"
   ]
  },
  {
   "cell_type": "markdown",
   "metadata": {},
   "source": [
    "По первому графику видно, что чаще всего выкладывают объявления в первые четыре дня недели, скорее всего это связано с тем, что эти объявления чаще всего выкладывают риэлтерские агентства, так же возможно люди стараются делать рутинные или неприятные вещи в рабочее время, а не в выходные, когда люди отдыхают от работы.\n",
    "\n",
    "\n",
    "По второму графику, видно что чаще всего продают недвижимость с февраля по апрель и в ноябре. В первом промежутке это скорее всего связано с общим застойным периодом на производствах, вследствие чего люди хотят сменить место работы, а как следствие и место жительства. Во втором случае скорее всего предложение растет из за предновогодних акций у застройщиков, вследствие чего люди могут захотеть продать свою старую недвижимость.\n",
    "\n",
    "\n",
    "В третьем графике наблюдается рост предложения недвижимости, скорее всего он связан с восстановлением после кризиса 2014 года. В 2019 году показатели упали очень сильно, но думаю это связано с тем, что данные взяты не за полный год.\n"
   ]
  },
  {
   "cell_type": "code",
   "execution_count": 536,
   "metadata": {},
   "outputs": [
    {
     "data": {
      "text/plain": [
       "Timestamp('2019-05-03 00:00:00')"
      ]
     },
     "execution_count": 536,
     "metadata": {},
     "output_type": "execute_result"
    }
   ],
   "source": [
    "df['first_day_exposition'].max()"
   ]
  },
  {
   "cell_type": "markdown",
   "metadata": {},
   "source": [
    "Да, похоже в 2019 данные предоставлены только по май, поэтому данный год не показателен."
   ]
  },
  {
   "cell_type": "markdown",
   "metadata": {},
   "source": [
    "### Классификация этажей квартиры"
   ]
  },
  {
   "cell_type": "markdown",
   "metadata": {},
   "source": [
    "Разделим этажи на первый, средние этажи, последний:"
   ]
  },
  {
   "cell_type": "code",
   "execution_count": 537,
   "metadata": {},
   "outputs": [
    {
     "data": {
      "text/plain": [
       "Text(0.5, 1.0, 'Этажность')"
      ]
     },
     "execution_count": 537,
     "metadata": {},
     "output_type": "execute_result"
    },
    {
     "data": {
      "image/png": "[encoded data removed]",
      "text/plain": [
       "<Figure size 432x288 with 1 Axes>"
      ]
     },
     "metadata": {
      "needs_background": "light"
     },
     "output_type": "display_data"
    }
   ],
   "source": [
    "def floor_type(row): # напишем функцию, которая разделит этажи по категориям\n",
    "    floor = row['floor']\n",
    "    floors_total = row['floors_total']\n",
    "    if floor == 1:\n",
    "        return 'Первый'\n",
    "    if 1 < floor < floors_total:\n",
    "        return 'Средний этаж'\n",
    "    if floor == floors_total:\n",
    "        return 'Верхний этаж'\n",
    "df['floor_type'] = df.apply(floor_type, axis = 1)\n",
    "df['floor_type'].value_counts().plot()\n",
    "plt.title('Этажность')"
   ]
  },
  {
   "cell_type": "markdown",
   "metadata": {},
   "source": [
    "Чаще всего недвижимость продается на средних этажей, не удивительно там больше возможных значений, но интересней то что чаще люди покупают недвижимость на верхних этажах нежели на первых, хотя стоимость квартир на верху как правило значительно дороже чем внизу. Возможно это связано с тем что часто на первом этаже располагаются магазины."
   ]
  },
  {
   "cell_type": "markdown",
   "metadata": {},
   "source": [
    "### Cоотношение жилой и общей площади, а также отношение площади кухни к общей"
   ]
  },
  {
   "cell_type": "markdown",
   "metadata": {},
   "source": [
    "Рассчитаем соотношение площадей и построим графики:"
   ]
  },
  {
   "cell_type": "code",
   "execution_count": 538,
   "metadata": {},
   "outputs": [
    {
     "data": {
      "image/png": "[encoded data removed]",
      "text/plain": [
       "<Figure size 432x288 with 1 Axes>"
      ]
     },
     "metadata": {
      "needs_background": "light"
     },
     "output_type": "display_data"
    },
    {
     "data": {
      "image/png": "[encoded data removed]",
      "text/plain": [
       "<Figure size 432x288 with 1 Axes>"
      ]
     },
     "metadata": {
      "needs_background": "light"
     },
     "output_type": "display_data"
    }
   ],
   "source": [
    "df['living_to_total'] = df['living_area']/df['total_area']\n",
    "df['kitchen_to_total'] = df['kitchen_area']/df['total_area']\n",
    "df['living_to_total'].hist()\n",
    "plt.title('Соотношение жилой зоны к общей')\n",
    "plt.show()\n",
    "df['kitchen_to_total'].hist()\n",
    "plt.title('Соотношение кухонной зоны к общей')\n",
    "plt.show()"
   ]
  },
  {
   "cell_type": "markdown",
   "metadata": {},
   "source": [
    "Жилая зона в некоторых случаях в соотношении к остальной площади подозрительно мала, а зона кухни слишком велика, это может быть как ошибкой, так и следствим планировки квартиры, так как сейчас есть тип планировки \"евро двушка\", где зал и кухня изначально объеденены, соотвтственно, кухонная зона может занимать более половины квартиры, поэтому можно считать данные нормальными. В целом жилая зона занимает в большинстве случае примерно половину площади, а кухонная приблизительно 15%."
   ]
  },
  {
   "cell_type": "markdown",
   "metadata": {},
   "source": [
    "## Исследовательский анализ данных"
   ]
  },
  {
   "cell_type": "markdown",
   "metadata": {},
   "source": [
    "### Работа с выбросами\n",
    "Проверим дата сет на наличие выбросов в стоиомости квартиры."
   ]
  },
  {
   "cell_type": "code",
   "execution_count": 539,
   "metadata": {},
   "outputs": [
    {
     "data": {
      "text/plain": [
       "<matplotlib.axes._subplots.AxesSubplot at 0x7f3cacff9250>"
      ]
     },
     "execution_count": 539,
     "metadata": {},
     "output_type": "execute_result"
    },
    {
     "data": {
      "image/png": "[encoded data removed]",
      "text/plain": [
       "<Figure size 432x288 with 1 Axes>"
      ]
     },
     "metadata": {
      "needs_background": "light"
     },
     "output_type": "display_data"
    }
   ],
   "source": [
    "df.boxplot(column='last_price')"
   ]
  },
  {
   "cell_type": "markdown",
   "metadata": {},
   "source": [
    "Из графика видно, что он сильно смещен вниз, значит либо есть выбросы, которые смещают его в этом направлении либо там больше всего значений."
   ]
  },
  {
   "cell_type": "code",
   "execution_count": 540,
   "metadata": {},
   "outputs": [
    {
     "data": {
      "text/plain": [
       "12190.0"
      ]
     },
     "execution_count": 540,
     "metadata": {},
     "output_type": "execute_result"
    }
   ],
   "source": [
    "df['last_price'].min()"
   ]
  },
  {
   "cell_type": "markdown",
   "metadata": {},
   "source": [
    "Да, похоже на то что заполняя данные для объявлений пользователи допускали ошибки, забыв добавить нули. Так же нужно обратить внимание на редкие выбивающиеся значения при цене больше 100 млн. Построим график до 200 млн:"
   ]
  },
  {
   "cell_type": "code",
   "execution_count": 541,
   "metadata": {},
   "outputs": [
    {
     "data": {
      "text/plain": [
       "<matplotlib.axes._subplots.AxesSubplot at 0x7f3cacfe7110>"
      ]
     },
     "execution_count": 541,
     "metadata": {},
     "output_type": "execute_result"
    },
    {
     "data": {
      "image/png": "[encoded data removed]",
      "text/plain": [
       "<Figure size 432x288 with 1 Axes>"
      ]
     },
     "metadata": {
      "needs_background": "light"
     },
     "output_type": "display_data"
    }
   ],
   "source": [
    "plt.ylim(100000, 200000000)\n",
    "df.boxplot(column='last_price')"
   ]
  },
  {
   "cell_type": "markdown",
   "metadata": {},
   "source": [
    "Стоимость большинства квартир не превышает 100 млн. Скорее всего для дальнейшего анализа выбивающиеся значения можно отбросить, проверим их соотношение к общему числу объявлений:"
   ]
  },
  {
   "cell_type": "code",
   "execution_count": 542,
   "metadata": {},
   "outputs": [
    {
     "data": {
      "text/plain": [
       "total_images            99.839323\n",
       "last_price              99.839323\n",
       "total_area              99.839323\n",
       "first_day_exposition    99.839323\n",
       "rooms                   99.839323\n",
       "ceiling_height          99.839323\n",
       "floors_total            99.839323\n",
       "living_area             99.839323\n",
       "floor                   99.839323\n",
       "is_apartment            99.839323\n",
       "studio                  99.839323\n",
       "open_plan               99.839323\n",
       "kitchen_area            99.839323\n",
       "balcony                 99.839323\n",
       "locality_name           99.839323\n",
       "airports_nearest        99.839323\n",
       "city_centers_nearest    99.839323\n",
       "parks_around_3000       99.839323\n",
       "parks_nearest           99.839323\n",
       "ponds_around_3000       99.839323\n",
       "ponds_nearest           99.839323\n",
       "days_exposition         99.839323\n",
       "one_metere_price        99.839323\n",
       "weekday                 99.839323\n",
       "month                   99.839323\n",
       "year                    99.839323\n",
       "floor_type              99.839323\n",
       "living_to_total         99.839323\n",
       "kitchen_to_total        99.839323\n",
       "dtype: float64"
      ]
     },
     "execution_count": 542,
     "metadata": {},
     "output_type": "execute_result"
    }
   ],
   "source": [
    "df.query('100000 < last_price < 100000000').count()/df.count()*100"
   ]
  },
  {
   "cell_type": "markdown",
   "metadata": {},
   "source": [
    "Убрав эти значения мы ничего не потеряем, так как они составляют всего примерно 0.14% от общего числа данных."
   ]
  },
  {
   "cell_type": "code",
   "execution_count": 543,
   "metadata": {},
   "outputs": [],
   "source": [
    "df = df.query('100000 < last_price < 100000000')"
   ]
  },
  {
   "cell_type": "markdown",
   "metadata": {},
   "source": [
    "Графики построенные на основе доработанного датасета должны быть более равномерными и наглядными."
   ]
  },
  {
   "cell_type": "markdown",
   "metadata": {},
   "source": [
    "### Время продажи квартиры\n",
    "\n",
    "Построим гистограмму по стобцу days_exposition и уберем значения равные нулю, которые ранее добавил в столбце. "
   ]
  },
  {
   "cell_type": "code",
   "execution_count": 544,
   "metadata": {},
   "outputs": [
    {
     "data": {
      "image/png": "[encoded data removed]",
      "text/plain": [
       "<Figure size 432x288 with 1 Axes>"
      ]
     },
     "metadata": {
      "needs_background": "light"
     },
     "output_type": "display_data"
    },
    {
     "name": "stdout",
     "output_type": "stream",
     "text": [
      "Медиана: 73.0 Среднее: 156.24085210909706\n"
     ]
    }
   ],
   "source": [
    "df['days_exposition'].hist(range = (1,1600))\n",
    "plt.title('Время продажи квартиры')\n",
    "plt.show()\n",
    "print('Медиана:', df['days_exposition'].median(), 'Среднее:', df['days_exposition'].mean())"
   ]
  },
  {
   "cell_type": "markdown",
   "metadata": {},
   "source": [
    "По графику можно сказать, что большинство квартир продается в первые 150-200 дней, медианным значением является 78, соответственно, половина квартир продается в первые 2.5 месяца, логичный результат, квартиры в принципе дорогой продукт и соответственно время на реализацию у него может быть высоким, но есть результаты, которые продаются годами при этом их не мало. Есть возможность, что клиенты сервиса забывают снимать объявления либо закрывают их спустя время. Лучше будет рекомендовать сервису ограничить время размещения квартир в пределах одного года, если объявление не снято спустя 11 месяцев, то клиенту бы пришло несколько уведомлений с периодичностью в неделю с просьбой закрыть объявление и по истечению 12 месяца оно закрывалось.\n",
    "\n",
    "Посотрим график в пределах одного года:"
   ]
  },
  {
   "cell_type": "code",
   "execution_count": 545,
   "metadata": {},
   "outputs": [
    {
     "data": {
      "text/plain": [
       "Text(0.5, 1.0, 'Время продажи квартиры в пределах года')"
      ]
     },
     "execution_count": 545,
     "metadata": {},
     "output_type": "execute_result"
    },
    {
     "data": {
      "image/png": "[encoded data removed]",
      "text/plain": [
       "<Figure size 432x288 with 1 Axes>"
      ]
     },
     "metadata": {
      "needs_background": "light"
     },
     "output_type": "display_data"
    }
   ],
   "source": [
    "df['days_exposition'].hist(range = (1,365))\n",
    "plt.title('Время продажи квартиры в пределах года')"
   ]
  },
  {
   "cell_type": "markdown",
   "metadata": {},
   "source": [
    "Видно, что спад идет равномерно без каких либо серьезных выпадающих значений, соответственно в данных в этой группе нет отклонений. Период для закрытия объявление выбран корректно."
   ]
  },
  {
   "cell_type": "markdown",
   "metadata": {},
   "source": [
    "### Факторы влияющий на стоимость квартиры\n",
    "\n",
    "#### Влияние площади, количества комнат, этажей и расстояния от центра на стоимость\n",
    "\n",
    "Сначала изучим влияние площади на стоимость квартиры, для этого построим график и рассчитаем коэффициент корреляции показателей:"
   ]
  },
  {
   "cell_type": "code",
   "execution_count": 546,
   "metadata": {
    "scrolled": true
   },
   "outputs": [
    {
     "data": {
      "text/plain": [
       "Text(0.5, 1.0, 'Отношении стоимости квартиры к общей площади')"
      ]
     },
     "execution_count": 546,
     "metadata": {},
     "output_type": "execute_result"
    },
    {
     "data": {
      "image/png": "[encoded data removed]",
      "text/plain": [
       "<Figure size 432x288 with 1 Axes>"
      ]
     },
     "metadata": {
      "needs_background": "light"
     },
     "output_type": "display_data"
    }
   ],
   "source": [
    "df.groupby('total_area')['last_price'].mean().plot(x='total_area', y='last_price')\n",
    "plt.title('Отношении стоимости квартиры к общей площади')"
   ]
  },
  {
   "cell_type": "code",
   "execution_count": 547,
   "metadata": {},
   "outputs": [
    {
     "data": {
      "text/plain": [
       "0.7692442604174179"
      ]
     },
     "execution_count": 547,
     "metadata": {},
     "output_type": "execute_result"
    }
   ],
   "source": [
    "df['total_area'].corr(df['last_price'])"
   ]
  },
  {
   "cell_type": "markdown",
   "metadata": {
    "scrolled": true
   },
   "source": [
    "Общая площадь судя по груфику влияет на стоимость недвижимости, так как при росте одного показателя растет и другой, об этом так же говорит и высокий коэффициент корреляции.\n",
    "\n",
    "Предварительно стоит построить графики для Санкт петербурга и области:"
   ]
  },
  {
   "cell_type": "code",
   "execution_count": 548,
   "metadata": {
    "scrolled": true
   },
   "outputs": [
    {
     "data": {
      "image/png": "[encoded data removed]",
      "text/plain": [
       "<Figure size 432x288 with 1 Axes>"
      ]
     },
     "metadata": {
      "needs_background": "light"
     },
     "output_type": "display_data"
    },
    {
     "data": {
      "text/plain": [
       "Text(0.5, 1.0, 'Отношении стоимости квартиры к общей площади. Ленинградская область')"
      ]
     },
     "execution_count": 548,
     "metadata": {},
     "output_type": "execute_result"
    },
    {
     "data": {
      "image/png": "[encoded data removed]",
      "text/plain": [
       "<Figure size 432x288 with 1 Axes>"
      ]
     },
     "metadata": {
      "needs_background": "light"
     },
     "output_type": "display_data"
    }
   ],
   "source": [
    "df.query('locality_name == \"Санкт-Петербург\"').groupby('total_area')['last_price'].mean().plot(x='total_area', y='last_price')\n",
    "plt.title('Отношении стоимости квартиры к общей площадию. Санкт-Петербург')\n",
    "plt.show()\n",
    "df.query('locality_name != \"Санкт-Петербург\"').groupby('total_area')['last_price'].mean().plot(x='total_area', y='last_price')\n",
    "plt.title('Отношении стоимости квартиры к общей площади. Ленинградская область')"
   ]
  },
  {
   "cell_type": "markdown",
   "metadata": {
    "scrolled": true
   },
   "source": [
    "Судя по графикам более равномерно распределение идет за пределами Санкт-Петербурга, с меньшим кол-вом выбросов. Скорее всего цена на недвижимость имеет более сильную зависимость от нахождения в Санкт-Петербург. \n",
    "Рассчитаем корреляцию и построим график зависимости цены от количества команат, но построим сразу три графика: общий, Санкт-Петербург, область:"
   ]
  },
  {
   "cell_type": "code",
   "execution_count": 549,
   "metadata": {
    "scrolled": true
   },
   "outputs": [
    {
     "data": {
      "image/png": "[encoded data removed]",
      "text/plain": [
       "<Figure size 432x288 with 1 Axes>"
      ]
     },
     "metadata": {
      "needs_background": "light"
     },
     "output_type": "display_data"
    },
    {
     "data": {
      "image/png": "[encoded data removed]",
      "text/plain": [
       "<Figure size 432x288 with 1 Axes>"
      ]
     },
     "metadata": {
      "needs_background": "light"
     },
     "output_type": "display_data"
    },
    {
     "data": {
      "text/plain": [
       "Text(0.5, 1.0, 'Отношении стоимости квартиры к количеству комнат. Ленинградская область')"
      ]
     },
     "execution_count": 549,
     "metadata": {},
     "output_type": "execute_result"
    },
    {
     "data": {
      "image/png": "[encoded data removed]",
      "text/plain": [
       "<Figure size 432x288 with 1 Axes>"
      ]
     },
     "metadata": {
      "needs_background": "light"
     },
     "output_type": "display_data"
    }
   ],
   "source": [
    "df.groupby('rooms')['last_price'].mean().plot(x='rooms', y='last_price')\n",
    "plt.title('Отношении стоимости квартиры к количеству комнат')\n",
    "plt.show()\n",
    "df.query('locality_name == \"Санкт-Петербург\"').groupby('rooms')['last_price'].mean().plot(x='rooms', y='last_price')\n",
    "plt.title('Отношении стоимости квартиры к количеству комнат. Санкт-Петербург')\n",
    "plt.show()\n",
    "df.query('locality_name != \"Санкт-Петербург\"').groupby('rooms')['last_price'].mean().plot(x='rooms', y='last_price')\n",
    "plt.title('Отношении стоимости квартиры к количеству комнат. Ленинградская область')"
   ]
  },
  {
   "cell_type": "code",
   "execution_count": 550,
   "metadata": {},
   "outputs": [
    {
     "data": {
      "text/plain": [
       "0.472571349468329"
      ]
     },
     "execution_count": 550,
     "metadata": {},
     "output_type": "execute_result"
    }
   ],
   "source": [
    "df['rooms'].corr(df['last_price'])"
   ]
  },
  {
   "cell_type": "markdown",
   "metadata": {
    "scrolled": true
   },
   "source": [
    "В случае с количеством комнат распределение идет более равномерно, но есть выбивающееся значение, которое сильно повышают цену при количестве комнат 15, опять же влияние оказывают данные из Санкт-Петербурга. Корреляция данного показателя уже ниже 50%, но тем не менее она все еще достаточно высока, чтобы говорить, что данный показатель влияет на стоимость квартиры.\n",
    "\n",
    "Построим зависимость от этажа:"
   ]
  },
  {
   "cell_type": "code",
   "execution_count": 551,
   "metadata": {
    "scrolled": true
   },
   "outputs": [
    {
     "data": {
      "image/png": "[encoded data removed]",
      "text/plain": [
       "<Figure size 432x288 with 1 Axes>"
      ]
     },
     "metadata": {
      "needs_background": "light"
     },
     "output_type": "display_data"
    },
    {
     "data": {
      "image/png": "[encoded data removed]",
      "text/plain": [
       "<Figure size 432x288 with 1 Axes>"
      ]
     },
     "metadata": {
      "needs_background": "light"
     },
     "output_type": "display_data"
    },
    {
     "data": {
      "text/plain": [
       "Text(0.5, 1.0, 'Отношении стоимости квартиры к этажности. Ленинградская область')"
      ]
     },
     "execution_count": 551,
     "metadata": {},
     "output_type": "execute_result"
    },
    {
     "data": {
      "image/png": "[encoded data removed]",
      "text/plain": [
       "<Figure size 432x288 with 1 Axes>"
      ]
     },
     "metadata": {
      "needs_background": "light"
     },
     "output_type": "display_data"
    }
   ],
   "source": [
    "df.groupby('floor')['last_price'].mean().plot(x='floor', y='last_price')\n",
    "plt.title('Отношении стоимости квартиры к этажности')\n",
    "plt.show()\n",
    "df.query('locality_name == \"Санкт-Петербург\"').groupby('floor')['last_price'].mean().plot(x='floor', y='last_price')\n",
    "plt.title('Отношении стоимости квартиры к этажности. Санкт-Петербург')\n",
    "plt.show()\n",
    "df.query('locality_name != \"Санкт-Петербург\"').groupby('floor')['last_price'].mean().plot(x='floor', y='last_price')\n",
    "plt.title('Отношении стоимости квартиры к этажности. Ленинградская область')"
   ]
  },
  {
   "cell_type": "code",
   "execution_count": 552,
   "metadata": {},
   "outputs": [
    {
     "data": {
      "text/plain": [
       "0.03676638471243231"
      ]
     },
     "execution_count": 552,
     "metadata": {},
     "output_type": "execute_result"
    }
   ],
   "source": [
    "df['floor'].corr(df['last_price'])"
   ]
  },
  {
   "cell_type": "markdown",
   "metadata": {
    "scrolled": true
   },
   "source": [
    "Опять сильное влияние оказыват Санкт-Петербург. Этажность уже влияет на стоимость меньше, об этом говорит так же и корреляция.\n",
    "\n",
    "Попробуем проверить зависит ли цена от расстояния до центра города:"
   ]
  },
  {
   "cell_type": "code",
   "execution_count": 553,
   "metadata": {
    "scrolled": true
   },
   "outputs": [
    {
     "data": {
      "image/png": "[encoded data removed]",
      "text/plain": [
       "<Figure size 432x288 with 1 Axes>"
      ]
     },
     "metadata": {
      "needs_background": "light"
     },
     "output_type": "display_data"
    },
    {
     "data": {
      "image/png": "[encoded data removed]",
      "text/plain": [
       "<Figure size 432x288 with 1 Axes>"
      ]
     },
     "metadata": {
      "needs_background": "light"
     },
     "output_type": "display_data"
    },
    {
     "data": {
      "text/plain": [
       "Text(0.5, 1.0, 'Отношении стоимости квартиры к удаленности от центра города. Ленинградская область')"
      ]
     },
     "execution_count": 553,
     "metadata": {},
     "output_type": "execute_result"
    },
    {
     "data": {
      "image/png": "[encoded data removed]",
      "text/plain": [
       "<Figure size 432x288 with 1 Axes>"
      ]
     },
     "metadata": {
      "needs_background": "light"
     },
     "output_type": "display_data"
    }
   ],
   "source": [
    "df.groupby('city_centers_nearest')['last_price'].mean().plot(x='city_centers_nearest', y='last_price')\n",
    "plt.title('Отношении стоимости квартиры к удаленности от центра города')\n",
    "plt.show()\n",
    "df.query('locality_name == \"Санкт-Петербург\"').groupby('city_centers_nearest')['last_price'].mean().plot(x='city_centers_nearest', y='last_price')\n",
    "plt.title('Отношении стоимости квартиры к удаленности от центра города. Санкт-Петербург')\n",
    "plt.show()\n",
    "df.query('locality_name != \"Санкт-Петербург\"').groupby('city_centers_nearest')['last_price'].mean().plot(x='city_centers_nearest', y='last_price')\n",
    "plt.title('Отношении стоимости квартиры к удаленности от центра города. Ленинградская область')"
   ]
  },
  {
   "cell_type": "code",
   "execution_count": 554,
   "metadata": {},
   "outputs": [
    {
     "data": {
      "text/plain": [
       "-0.05472229172728196"
      ]
     },
     "execution_count": 554,
     "metadata": {},
     "output_type": "execute_result"
    }
   ],
   "source": [
    "df['city_centers_nearest'].corr(df['last_price'])"
   ]
  },
  {
   "cell_type": "markdown",
   "metadata": {
    "scrolled": true
   },
   "source": [
    "Наиболее сильно на стоимость квартиры влияет её расстояние от центра города при этом для области и Санкт-Петербурга принцип отличается. В Санкт-Петербурге чем ближе к центру тем больше высоких цен на недвижимость, возможно это связано с большим количеством элитной недвижимости. В случае с областью какие-либо предложения не равные нулю(которые мы заполнили ранее) начинаются примерно с 17 км, не думаю, что всё предложение в области находится более чем в 17 км от центра их населенных пунктов, поэтому предположу, что сервис по умолчанию считает расстояние от центра Санкт-Петербурга не зависимо от насленного пункта, соответственно, о каком либо влиянии этого параметра на стоимость за пределами Санкт-Петербурга говорить не стоит, но другие параметры взять во внимание можно. По этой же причине и корреляция низкая, судя по всему на данный параметр влияют данные из области. Попробуем очистить данные указав только Санкт-Петербург и посчитаем корреляцию."
   ]
  },
  {
   "cell_type": "code",
   "execution_count": 555,
   "metadata": {},
   "outputs": [
    {
     "data": {
      "text/plain": [
       "-0.37223401776956166"
      ]
     },
     "execution_count": 555,
     "metadata": {},
     "output_type": "execute_result"
    }
   ],
   "source": [
    "only_spb = df.query('locality_name == \"Санкт-Петербург\" and city_centers_nearest != 0')\n",
    "only_spb['city_centers_nearest'].corr(only_spb['last_price'])"
   ]
  },
  {
   "cell_type": "markdown",
   "metadata": {},
   "source": [
    "Коэффицент корреляции так же показывает хоть и не высокую, но зависимость, скорее сниженная зависимость связана с тем, что часто люди строят коттеджи или другую недвижимость с высокой стоимостью на окраине города, чтобы быть подальшей от городской суеты. По этой причине не буду исключать этот параметр из влияющих на стоимость жилья."
   ]
  },
  {
   "cell_type": "markdown",
   "metadata": {
    "scrolled": true
   },
   "source": [
    "#### Влияние года, месяца и дня недели на стоимость квартиры\n",
    "\n",
    "Рассмотрим в какие дни чаще всего размещают объявления с самой большой ценой:"
   ]
  },
  {
   "cell_type": "code",
   "execution_count": 556,
   "metadata": {
    "scrolled": false
   },
   "outputs": [
    {
     "data": {
      "text/plain": [
       "<matplotlib.axes._subplots.AxesSubplot at 0x7f3cae26abd0>"
      ]
     },
     "execution_count": 556,
     "metadata": {},
     "output_type": "execute_result"
    },
    {
     "data": {
      "image/png": "[encoded data removed]",
      "text/plain": [
       "<Figure size 432x288 with 1 Axes>"
      ]
     },
     "metadata": {
      "needs_background": "light"
     },
     "output_type": "display_data"
    }
   ],
   "source": [
    "df.groupby('weekday')['last_price'].mean().plot(x='weekday', y='last_price')\n"
   ]
  },
  {
   "cell_type": "markdown",
   "metadata": {
    "scrolled": true
   },
   "source": [
    "В среду чаще всего размещают дорогие объявления.\n",
    "\n",
    "Рассмотрим зависимость от месяца:"
   ]
  },
  {
   "cell_type": "code",
   "execution_count": 557,
   "metadata": {},
   "outputs": [
    {
     "data": {
      "text/plain": [
       "<matplotlib.axes._subplots.AxesSubplot at 0x7f3cae289110>"
      ]
     },
     "execution_count": 557,
     "metadata": {},
     "output_type": "execute_result"
    },
    {
     "data": {
      "image/png": "[encoded data removed]",
      "text/plain": [
       "<Figure size 432x288 with 1 Axes>"
      ]
     },
     "metadata": {
      "needs_background": "light"
     },
     "output_type": "display_data"
    }
   ],
   "source": [
    "df.groupby('month')['last_price'].mean().plot(x='month', y='last_price')"
   ]
  },
  {
   "cell_type": "markdown",
   "metadata": {
    "scrolled": true
   },
   "source": [
    "Чаще всего размещают дорогие объявления в декабре.\n",
    "\n",
    "Рассмотрим зависимость от года:"
   ]
  },
  {
   "cell_type": "code",
   "execution_count": 558,
   "metadata": {},
   "outputs": [
    {
     "data": {
      "text/plain": [
       "<matplotlib.axes._subplots.AxesSubplot at 0x7f3caedd1790>"
      ]
     },
     "execution_count": 558,
     "metadata": {},
     "output_type": "execute_result"
    },
    {
     "data": {
      "image/png": "[encoded data removed]",
      "text/plain": [
       "<Figure size 432x288 with 1 Axes>"
      ]
     },
     "metadata": {
      "needs_background": "light"
     },
     "output_type": "display_data"
    }
   ],
   "source": [
    "df.groupby('year')['last_price'].mean().plot(x='year', y='last_price')\n"
   ]
  },
  {
   "cell_type": "markdown",
   "metadata": {
    "scrolled": true
   },
   "source": [
    "Чаще всего добавляли дорогую недвижимость в сервис в 2014.\n"
   ]
  },
  {
   "cell_type": "markdown",
   "metadata": {
    "scrolled": true
   },
   "source": [
    "#### Анализ 10 городов с самым большим числом объявлений"
   ]
  },
  {
   "cell_type": "markdown",
   "metadata": {
    "scrolled": true
   },
   "source": [
    "Посмотрим название городов в первой десятке:"
   ]
  },
  {
   "cell_type": "code",
   "execution_count": 559,
   "metadata": {},
   "outputs": [
    {
     "data": {
      "text/plain": [
       "Санкт-Петербург      15683\n",
       "посёлок Мурино         522\n",
       "посёлок Шушары         440\n",
       "Всеволожск             398\n",
       "Пушкин                 369\n",
       "Колпино                338\n",
       "посёлок Парголово      327\n",
       "Гатчина                307\n",
       "деревня Кудрово        299\n",
       "Выборг                 237\n",
       "Name: locality_name, dtype: int64"
      ]
     },
     "execution_count": 559,
     "metadata": {},
     "output_type": "execute_result"
    }
   ],
   "source": [
    "df['locality_name'].value_counts(ascending=False).head(10)"
   ]
  },
  {
   "cell_type": "markdown",
   "metadata": {
    "scrolled": true
   },
   "source": [
    "Создадим датасет где сохраним данные этих городов:"
   ]
  },
  {
   "cell_type": "code",
   "execution_count": 560,
   "metadata": {},
   "outputs": [],
   "source": [
    "top_city = df.query('locality_name == \"Санкт-Петербург\" or locality_name == \"посёлок Мурино\" or locality_name == \"посёлок Шушары\" or locality_name == \"Всеволожск\" or locality_name == \"Пушкин\" or locality_name == \"Колпино\" or locality_name == \"Гатчина\" or locality_name == \"посёлок Парголово\" or locality_name == \"деревня Кудрово\" or locality_name == \"Выборг\"')\n",
    "# выберем методом query все нужные города и сохраним в датасете top_city"
   ]
  },
  {
   "cell_type": "markdown",
   "metadata": {
    "scrolled": true
   },
   "source": [
    "Средняя стоимость квадратного метра в этих городах:"
   ]
  },
  {
   "cell_type": "code",
   "execution_count": 561,
   "metadata": {},
   "outputs": [
    {
     "data": {
      "text/html": [
       "<div>\n",
       "<style scoped>\n",
       "    .dataframe tbody tr th:only-of-type {\n",
       "        vertical-align: middle;\n",
       "    }\n",
       "\n",
       "    .dataframe tbody tr th {\n",
       "        vertical-align: top;\n",
       "    }\n",
       "\n",
       "    .dataframe thead th {\n",
       "        text-align: right;\n",
       "    }\n",
       "</style>\n",
       "<table border=\"1\" class=\"dataframe\">\n",
       "  <thead>\n",
       "    <tr style=\"text-align: right;\">\n",
       "      <th></th>\n",
       "      <th>one_metere_price</th>\n",
       "    </tr>\n",
       "    <tr>\n",
       "      <th>locality_name</th>\n",
       "      <th></th>\n",
       "    </tr>\n",
       "  </thead>\n",
       "  <tbody>\n",
       "    <tr>\n",
       "      <td>Всеволожск</td>\n",
       "      <td>68654.473986</td>\n",
       "    </tr>\n",
       "    <tr>\n",
       "      <td>Выборг</td>\n",
       "      <td>58141.909153</td>\n",
       "    </tr>\n",
       "    <tr>\n",
       "      <td>Гатчина</td>\n",
       "      <td>68746.146763</td>\n",
       "    </tr>\n",
       "    <tr>\n",
       "      <td>Колпино</td>\n",
       "      <td>75424.579098</td>\n",
       "    </tr>\n",
       "    <tr>\n",
       "      <td>Пушкин</td>\n",
       "      <td>103125.819291</td>\n",
       "    </tr>\n",
       "    <tr>\n",
       "      <td>Санкт-Петербург</td>\n",
       "      <td>113604.178634</td>\n",
       "    </tr>\n",
       "    <tr>\n",
       "      <td>деревня Кудрово</td>\n",
       "      <td>92473.547576</td>\n",
       "    </tr>\n",
       "    <tr>\n",
       "      <td>посёлок Мурино</td>\n",
       "      <td>85752.189195</td>\n",
       "    </tr>\n",
       "    <tr>\n",
       "      <td>посёлок Парголово</td>\n",
       "      <td>90175.913458</td>\n",
       "    </tr>\n",
       "    <tr>\n",
       "      <td>посёлок Шушары</td>\n",
       "      <td>78677.364217</td>\n",
       "    </tr>\n",
       "  </tbody>\n",
       "</table>\n",
       "</div>"
      ],
      "text/plain": [
       "                   one_metere_price\n",
       "locality_name                      \n",
       "Всеволожск             68654.473986\n",
       "Выборг                 58141.909153\n",
       "Гатчина                68746.146763\n",
       "Колпино                75424.579098\n",
       "Пушкин                103125.819291\n",
       "Санкт-Петербург       113604.178634\n",
       "деревня Кудрово        92473.547576\n",
       "посёлок Мурино         85752.189195\n",
       "посёлок Парголово      90175.913458\n",
       "посёлок Шушары         78677.364217"
      ]
     },
     "execution_count": 561,
     "metadata": {},
     "output_type": "execute_result"
    }
   ],
   "source": [
    "top_city.pivot_table(index='locality_name', values='one_metere_price', aggfunc='mean')"
   ]
  },
  {
   "cell_type": "markdown",
   "metadata": {
    "scrolled": true
   },
   "source": [
    "Масимальные и минимальные значения стоимости квартир в этих городах:"
   ]
  },
  {
   "cell_type": "code",
   "execution_count": 562,
   "metadata": {},
   "outputs": [
    {
     "data": {
      "text/html": [
       "<div>\n",
       "<style scoped>\n",
       "    .dataframe tbody tr th:only-of-type {\n",
       "        vertical-align: middle;\n",
       "    }\n",
       "\n",
       "    .dataframe tbody tr th {\n",
       "        vertical-align: top;\n",
       "    }\n",
       "\n",
       "    .dataframe thead th {\n",
       "        text-align: right;\n",
       "    }\n",
       "</style>\n",
       "<table border=\"1\" class=\"dataframe\">\n",
       "  <thead>\n",
       "    <tr style=\"text-align: right;\">\n",
       "      <th></th>\n",
       "      <th>last_price</th>\n",
       "    </tr>\n",
       "    <tr>\n",
       "      <th>locality_name</th>\n",
       "      <th></th>\n",
       "    </tr>\n",
       "  </thead>\n",
       "  <tbody>\n",
       "    <tr>\n",
       "      <td>Всеволожск</td>\n",
       "      <td>965780.0</td>\n",
       "    </tr>\n",
       "    <tr>\n",
       "      <td>Выборг</td>\n",
       "      <td>600000.0</td>\n",
       "    </tr>\n",
       "    <tr>\n",
       "      <td>Гатчина</td>\n",
       "      <td>850000.0</td>\n",
       "    </tr>\n",
       "    <tr>\n",
       "      <td>Колпино</td>\n",
       "      <td>2100000.0</td>\n",
       "    </tr>\n",
       "    <tr>\n",
       "      <td>Пушкин</td>\n",
       "      <td>1990000.0</td>\n",
       "    </tr>\n",
       "    <tr>\n",
       "      <td>Санкт-Петербург</td>\n",
       "      <td>1190000.0</td>\n",
       "    </tr>\n",
       "    <tr>\n",
       "      <td>деревня Кудрово</td>\n",
       "      <td>1800000.0</td>\n",
       "    </tr>\n",
       "    <tr>\n",
       "      <td>посёлок Мурино</td>\n",
       "      <td>1730000.0</td>\n",
       "    </tr>\n",
       "    <tr>\n",
       "      <td>посёлок Парголово</td>\n",
       "      <td>1400000.0</td>\n",
       "    </tr>\n",
       "    <tr>\n",
       "      <td>посёлок Шушары</td>\n",
       "      <td>1500000.0</td>\n",
       "    </tr>\n",
       "  </tbody>\n",
       "</table>\n",
       "</div>"
      ],
      "text/plain": [
       "                   last_price\n",
       "locality_name                \n",
       "Всеволожск           965780.0\n",
       "Выборг               600000.0\n",
       "Гатчина              850000.0\n",
       "Колпино             2100000.0\n",
       "Пушкин              1990000.0\n",
       "Санкт-Петербург     1190000.0\n",
       "деревня Кудрово     1800000.0\n",
       "посёлок Мурино      1730000.0\n",
       "посёлок Парголово   1400000.0\n",
       "посёлок Шушары      1500000.0"
      ]
     },
     "execution_count": 562,
     "metadata": {},
     "output_type": "execute_result"
    }
   ],
   "source": [
    "top_city.pivot_table(index='locality_name', values='last_price', aggfunc='min')"
   ]
  },
  {
   "cell_type": "code",
   "execution_count": 563,
   "metadata": {},
   "outputs": [
    {
     "data": {
      "text/html": [
       "<div>\n",
       "<style scoped>\n",
       "    .dataframe tbody tr th:only-of-type {\n",
       "        vertical-align: middle;\n",
       "    }\n",
       "\n",
       "    .dataframe tbody tr th {\n",
       "        vertical-align: top;\n",
       "    }\n",
       "\n",
       "    .dataframe thead th {\n",
       "        text-align: right;\n",
       "    }\n",
       "</style>\n",
       "<table border=\"1\" class=\"dataframe\">\n",
       "  <thead>\n",
       "    <tr style=\"text-align: right;\">\n",
       "      <th></th>\n",
       "      <th>last_price</th>\n",
       "    </tr>\n",
       "    <tr>\n",
       "      <th>locality_name</th>\n",
       "      <th></th>\n",
       "    </tr>\n",
       "  </thead>\n",
       "  <tbody>\n",
       "    <tr>\n",
       "      <td>Всеволожск</td>\n",
       "      <td>24412900.0</td>\n",
       "    </tr>\n",
       "    <tr>\n",
       "      <td>Выборг</td>\n",
       "      <td>19990000.0</td>\n",
       "    </tr>\n",
       "    <tr>\n",
       "      <td>Гатчина</td>\n",
       "      <td>13900000.0</td>\n",
       "    </tr>\n",
       "    <tr>\n",
       "      <td>Колпино</td>\n",
       "      <td>36900000.0</td>\n",
       "    </tr>\n",
       "    <tr>\n",
       "      <td>Пушкин</td>\n",
       "      <td>42000000.0</td>\n",
       "    </tr>\n",
       "    <tr>\n",
       "      <td>Санкт-Петербург</td>\n",
       "      <td>99000000.0</td>\n",
       "    </tr>\n",
       "    <tr>\n",
       "      <td>деревня Кудрово</td>\n",
       "      <td>13000000.0</td>\n",
       "    </tr>\n",
       "    <tr>\n",
       "      <td>посёлок Мурино</td>\n",
       "      <td>8500000.0</td>\n",
       "    </tr>\n",
       "    <tr>\n",
       "      <td>посёлок Парголово</td>\n",
       "      <td>9140000.0</td>\n",
       "    </tr>\n",
       "    <tr>\n",
       "      <td>посёлок Шушары</td>\n",
       "      <td>10990000.0</td>\n",
       "    </tr>\n",
       "  </tbody>\n",
       "</table>\n",
       "</div>"
      ],
      "text/plain": [
       "                   last_price\n",
       "locality_name                \n",
       "Всеволожск         24412900.0\n",
       "Выборг             19990000.0\n",
       "Гатчина            13900000.0\n",
       "Колпино            36900000.0\n",
       "Пушкин             42000000.0\n",
       "Санкт-Петербург    99000000.0\n",
       "деревня Кудрово    13000000.0\n",
       "посёлок Мурино      8500000.0\n",
       "посёлок Парголово   9140000.0\n",
       "посёлок Шушары     10990000.0"
      ]
     },
     "execution_count": 563,
     "metadata": {},
     "output_type": "execute_result"
    }
   ],
   "source": [
    "top_city.pivot_table(index='locality_name', values='last_price', aggfunc='max')"
   ]
  },
  {
   "cell_type": "markdown",
   "metadata": {
    "scrolled": true
   },
   "source": [
    "Самая высокая средняя стоимость метра жилья в Санкт-Петербурге точно так же как и самая дорогая квартира. Самые дешевые квартиры можно найти в Выборге и Гатчине."
   ]
  },
  {
   "cell_type": "markdown",
   "metadata": {
    "scrolled": true
   },
   "source": [
    "### Определение центра Санкт-Петербурга\n",
    "\n",
    "Создадим датасет с данными из Санкт-Петербурга и добавим столбец с данными по километрам:\n"
   ]
  },
  {
   "cell_type": "code",
   "execution_count": 564,
   "metadata": {},
   "outputs": [],
   "source": [
    "spb = df.query('locality_name == \"Санкт-Петербург\"')\n",
    "spb['km'] = spb['city_centers_nearest']/1000\n",
    "spb['km'] = spb['km'].astype('int')"
   ]
  },
  {
   "cell_type": "markdown",
   "metadata": {
    "scrolled": true
   },
   "source": [
    "Посчитаем среднюю цену для каждого километра и отобразим на гистограмме:"
   ]
  },
  {
   "cell_type": "code",
   "execution_count": 565,
   "metadata": {},
   "outputs": [
    {
     "data": {
      "text/plain": [
       "<matplotlib.axes._subplots.AxesSubplot at 0x7f3cade2d210>"
      ]
     },
     "execution_count": 565,
     "metadata": {},
     "output_type": "execute_result"
    },
    {
     "data": {
      "image/png": "[encoded data removed]",
      "text/plain": [
       "<Figure size 432x288 with 1 Axes>"
      ]
     },
     "metadata": {
      "needs_background": "light"
     },
     "output_type": "display_data"
    }
   ],
   "source": [
    "spb.pivot_table(index='km', values='last_price', aggfunc='mean').plot()"
   ]
  },
  {
   "cell_type": "markdown",
   "metadata": {
    "scrolled": true
   },
   "source": [
    "Из графика можно сделать выводы, что центр ограничивается на отметке примерно в 6 км, так как с этого растояния заметен резкий спад цены."
   ]
  },
  {
   "cell_type": "markdown",
   "metadata": {
    "scrolled": true
   },
   "source": [
    "### Анализ центра Санкт-Петербурга\n",
    "\n",
    "Создадим датасет со значениями больше нуля(они являются выбрасами) и меньше 6 км, которые будут являються центром города."
   ]
  },
  {
   "cell_type": "code",
   "execution_count": 566,
   "metadata": {},
   "outputs": [],
   "source": [
    "spb_center = spb.query('0 < km < 6')"
   ]
  },
  {
   "cell_type": "markdown",
   "metadata": {
    "scrolled": true
   },
   "source": [
    "Посчитаем средние показатели площади, цены, числа комнат, высоты потолков, так же рассчитаем корреляцию:"
   ]
  },
  {
   "cell_type": "code",
   "execution_count": 567,
   "metadata": {},
   "outputs": [
    {
     "name": "stdout",
     "output_type": "stream",
     "text": [
      "Средняя площадь: 93.3679463629684 Средняя цена: 12985766.849375458\n",
      "Среднее количество комнат: 2.9180749448934606 Средняя высота потолков: 3.0213592946362966\n"
     ]
    },
    {
     "data": {
      "text/html": [
       "<div>\n",
       "<style scoped>\n",
       "    .dataframe tbody tr th:only-of-type {\n",
       "        vertical-align: middle;\n",
       "    }\n",
       "\n",
       "    .dataframe tbody tr th {\n",
       "        vertical-align: top;\n",
       "    }\n",
       "\n",
       "    .dataframe thead th {\n",
       "        text-align: right;\n",
       "    }\n",
       "</style>\n",
       "<table border=\"1\" class=\"dataframe\">\n",
       "  <thead>\n",
       "    <tr style=\"text-align: right;\">\n",
       "      <th></th>\n",
       "      <th>total_area</th>\n",
       "      <th>last_price</th>\n",
       "      <th>rooms</th>\n",
       "      <th>ceiling_height</th>\n",
       "    </tr>\n",
       "  </thead>\n",
       "  <tbody>\n",
       "    <tr>\n",
       "      <td>total_area</td>\n",
       "      <td>1.000000</td>\n",
       "      <td>0.723983</td>\n",
       "      <td>0.758274</td>\n",
       "      <td>0.093915</td>\n",
       "    </tr>\n",
       "    <tr>\n",
       "      <td>last_price</td>\n",
       "      <td>0.723983</td>\n",
       "      <td>1.000000</td>\n",
       "      <td>0.404802</td>\n",
       "      <td>0.063458</td>\n",
       "    </tr>\n",
       "    <tr>\n",
       "      <td>rooms</td>\n",
       "      <td>0.758274</td>\n",
       "      <td>0.404802</td>\n",
       "      <td>1.000000</td>\n",
       "      <td>0.063773</td>\n",
       "    </tr>\n",
       "    <tr>\n",
       "      <td>ceiling_height</td>\n",
       "      <td>0.093915</td>\n",
       "      <td>0.063458</td>\n",
       "      <td>0.063773</td>\n",
       "      <td>1.000000</td>\n",
       "    </tr>\n",
       "  </tbody>\n",
       "</table>\n",
       "</div>"
      ],
      "text/plain": [
       "                total_area  last_price     rooms  ceiling_height\n",
       "total_area        1.000000    0.723983  0.758274        0.093915\n",
       "last_price        0.723983    1.000000  0.404802        0.063458\n",
       "rooms             0.758274    0.404802  1.000000        0.063773\n",
       "ceiling_height    0.093915    0.063458  0.063773        1.000000"
      ]
     },
     "execution_count": 567,
     "metadata": {},
     "output_type": "execute_result"
    }
   ],
   "source": [
    "print('Средняя площадь:', spb_center['total_area'].mean(), 'Средняя цена:', spb_center['last_price'].mean())\n",
    "print('Среднее количество комнат:', spb_center['rooms'].mean(), 'Средняя высота потолков:', spb_center['ceiling_height'].mean())\n",
    "spb_center[['total_area', 'last_price', 'rooms', 'ceiling_height']].corr()"
   ]
  },
  {
   "cell_type": "markdown",
   "metadata": {},
   "source": [
    "Аналогичным образом посчитаем параметры для всего Санкт-Петербурга:"
   ]
  },
  {
   "cell_type": "code",
   "execution_count": 568,
   "metadata": {},
   "outputs": [
    {
     "name": "stdout",
     "output_type": "stream",
     "text": [
      "Средняя площадь: 64.12446279410827 Средняя цена: 7629004.06529363\n",
      "Среднее количество комнат: 2.1644455780144103 Средняя высота потолков: 2.7902046802269975\n"
     ]
    },
    {
     "data": {
      "text/html": [
       "<div>\n",
       "<style scoped>\n",
       "    .dataframe tbody tr th:only-of-type {\n",
       "        vertical-align: middle;\n",
       "    }\n",
       "\n",
       "    .dataframe tbody tr th {\n",
       "        vertical-align: top;\n",
       "    }\n",
       "\n",
       "    .dataframe thead th {\n",
       "        text-align: right;\n",
       "    }\n",
       "</style>\n",
       "<table border=\"1\" class=\"dataframe\">\n",
       "  <thead>\n",
       "    <tr style=\"text-align: right;\">\n",
       "      <th></th>\n",
       "      <th>total_area</th>\n",
       "      <th>last_price</th>\n",
       "      <th>rooms</th>\n",
       "      <th>ceiling_height</th>\n",
       "    </tr>\n",
       "  </thead>\n",
       "  <tbody>\n",
       "    <tr>\n",
       "      <td>total_area</td>\n",
       "      <td>1.000000</td>\n",
       "      <td>0.778769</td>\n",
       "      <td>0.769653</td>\n",
       "      <td>0.082427</td>\n",
       "    </tr>\n",
       "    <tr>\n",
       "      <td>last_price</td>\n",
       "      <td>0.778769</td>\n",
       "      <td>1.000000</td>\n",
       "      <td>0.488109</td>\n",
       "      <td>0.088597</td>\n",
       "    </tr>\n",
       "    <tr>\n",
       "      <td>rooms</td>\n",
       "      <td>0.769653</td>\n",
       "      <td>0.488109</td>\n",
       "      <td>1.000000</td>\n",
       "      <td>0.049505</td>\n",
       "    </tr>\n",
       "    <tr>\n",
       "      <td>ceiling_height</td>\n",
       "      <td>0.082427</td>\n",
       "      <td>0.088597</td>\n",
       "      <td>0.049505</td>\n",
       "      <td>1.000000</td>\n",
       "    </tr>\n",
       "  </tbody>\n",
       "</table>\n",
       "</div>"
      ],
      "text/plain": [
       "                total_area  last_price     rooms  ceiling_height\n",
       "total_area        1.000000    0.778769  0.769653        0.082427\n",
       "last_price        0.778769    1.000000  0.488109        0.088597\n",
       "rooms             0.769653    0.488109  1.000000        0.049505\n",
       "ceiling_height    0.082427    0.088597  0.049505        1.000000"
      ]
     },
     "execution_count": 568,
     "metadata": {},
     "output_type": "execute_result"
    }
   ],
   "source": [
    "print('Средняя площадь:', spb['total_area'].mean(), 'Средняя цена:', spb['last_price'].mean())\n",
    "print('Среднее количество комнат:', spb['rooms'].mean(), 'Средняя высота потолков:', spb['ceiling_height'].mean())\n",
    "spb[['total_area', 'last_price', 'rooms', 'ceiling_height']].corr()"
   ]
  },
  {
   "cell_type": "markdown",
   "metadata": {},
   "source": [
    "Если сравнивать среднее по центру города и остального Санкт-Петербурга, то в центре средняя площадь на треть больше чем по городу в целом, потолки не значительно выше, а киличество комнат больше, но и цена выростает почти в два раза, соотвтетсвенно, такой параметр как нахождение квартиры в центре города сильно влияет на её цену, так как выростает комфорт. Корреляция в обоих случаях примерно одинакова."
   ]
  },
  {
   "cell_type": "markdown",
   "metadata": {},
   "source": [
    "## Общий вывод\n",
    "\n",
    "В числе рекомендаций Яндекс.Недвижимости я бы внес ограничение времени размещения объявления в сервисе, это позволит убрать неактуальные объявления, также сервис должен определять центр в зависимости от выбранного населенного пункта, на текущий момент всегда выбирается центр Санкт-Петербурга.  К наиболее важным параметрам определяющих цену недвижимости советовал бы отнести количество квадратных метров, комнат, этаж. Все эти параметры влияют на цену, фактически она из них строится, а близость к центру может служить дополнительным коэффициентом, который увеличивает сумму, которую готов отдать покупатель. Также немаловажно будет разграничить цены на недвижимость по городам, так как средняя стоимость отличается от города к городу. "
   ]
  }
 ],
 "metadata": {
  "ExecuteTimeLog": [
   {
    "duration": 83,
    "start_time": "2021-12-15T12:58:32.535Z"
   },
   {
    "duration": 872,
    "start_time": "2021-12-15T12:58:55.393Z"
   },
   {
    "duration": 86,
    "start_time": "2021-12-15T12:59:19.500Z"
   },
   {
    "duration": 142,
    "start_time": "2021-12-15T12:59:26.792Z"
   },
   {
    "duration": 97,
    "start_time": "2021-12-15T13:16:57.195Z"
   },
   {
    "duration": 800,
    "start_time": "2021-12-15T13:17:34.276Z"
   },
   {
    "duration": 440,
    "start_time": "2021-12-15T13:17:39.159Z"
   },
   {
    "duration": 556,
    "start_time": "2021-12-15T13:17:42.220Z"
   },
   {
    "duration": 369,
    "start_time": "2021-12-15T13:17:53.956Z"
   },
   {
    "duration": 138,
    "start_time": "2021-12-15T13:19:13.699Z"
   },
   {
    "duration": 146,
    "start_time": "2021-12-15T13:19:17.772Z"
   },
   {
    "duration": 21,
    "start_time": "2021-12-15T13:19:59.639Z"
   },
   {
    "duration": 6392,
    "start_time": "2021-12-15T13:23:48.940Z"
   },
   {
    "duration": 85,
    "start_time": "2021-12-15T13:24:20.928Z"
   },
   {
    "duration": 85,
    "start_time": "2021-12-15T13:24:53.632Z"
   },
   {
    "duration": 134,
    "start_time": "2021-12-15T13:24:59.344Z"
   },
   {
    "duration": 12,
    "start_time": "2021-12-15T13:35:20.969Z"
   },
   {
    "duration": 6,
    "start_time": "2021-12-15T13:38:39.710Z"
   },
   {
    "duration": 9,
    "start_time": "2021-12-15T13:38:48.398Z"
   },
   {
    "duration": 62,
    "start_time": "2021-12-15T13:43:50.204Z"
   },
   {
    "duration": 9,
    "start_time": "2021-12-15T13:46:57.288Z"
   },
   {
    "duration": 381,
    "start_time": "2021-12-16T06:49:53.875Z"
   },
   {
    "duration": 798,
    "start_time": "2021-12-16T06:50:13.867Z"
   },
   {
    "duration": 11,
    "start_time": "2021-12-16T06:50:14.667Z"
   },
   {
    "duration": 452,
    "start_time": "2021-12-16T06:50:14.680Z"
   },
   {
    "duration": -129,
    "start_time": "2021-12-16T06:50:15.264Z"
   },
   {
    "duration": -130,
    "start_time": "2021-12-16T06:50:15.267Z"
   },
   {
    "duration": 104,
    "start_time": "2021-12-16T06:50:32.778Z"
   },
   {
    "duration": 12,
    "start_time": "2021-12-16T06:50:32.884Z"
   },
   {
    "duration": 393,
    "start_time": "2021-12-16T06:50:32.907Z"
   },
   {
    "duration": -77,
    "start_time": "2021-12-16T06:50:33.380Z"
   },
   {
    "duration": -78,
    "start_time": "2021-12-16T06:50:33.382Z"
   },
   {
    "duration": 338,
    "start_time": "2021-12-16T06:50:45.076Z"
   },
   {
    "duration": 100,
    "start_time": "2021-12-16T06:50:49.517Z"
   },
   {
    "duration": 11,
    "start_time": "2021-12-16T06:50:51.739Z"
   },
   {
    "duration": 333,
    "start_time": "2021-12-16T06:50:57.299Z"
   },
   {
    "duration": 349,
    "start_time": "2021-12-16T06:51:51.203Z"
   },
   {
    "duration": 345,
    "start_time": "2021-12-16T06:54:45.593Z"
   },
   {
    "duration": 407,
    "start_time": "2021-12-16T06:54:48.617Z"
   },
   {
    "duration": 123,
    "start_time": "2021-12-16T06:55:11.667Z"
   },
   {
    "duration": 24,
    "start_time": "2021-12-16T06:55:11.792Z"
   },
   {
    "duration": 340,
    "start_time": "2021-12-16T06:55:11.818Z"
   },
   {
    "duration": -85,
    "start_time": "2021-12-16T06:55:12.245Z"
   },
   {
    "duration": -88,
    "start_time": "2021-12-16T06:55:12.249Z"
   },
   {
    "duration": 43,
    "start_time": "2021-12-16T06:55:23.712Z"
   },
   {
    "duration": 13,
    "start_time": "2021-12-16T06:56:11.394Z"
   },
   {
    "duration": 5,
    "start_time": "2021-12-16T06:56:44.711Z"
   },
   {
    "duration": 5,
    "start_time": "2021-12-16T06:56:58.415Z"
   },
   {
    "duration": 65,
    "start_time": "2021-12-16T06:58:10.766Z"
   },
   {
    "duration": 9,
    "start_time": "2021-12-16T06:58:30.509Z"
   },
   {
    "duration": 9,
    "start_time": "2021-12-16T07:54:41.713Z"
   },
   {
    "duration": 43,
    "start_time": "2021-12-16T08:18:59.343Z"
   },
   {
    "duration": 14,
    "start_time": "2021-12-16T08:19:29.895Z"
   },
   {
    "duration": 13,
    "start_time": "2021-12-16T08:19:45.384Z"
   },
   {
    "duration": 14,
    "start_time": "2021-12-16T08:21:08.722Z"
   },
   {
    "duration": 43,
    "start_time": "2021-12-16T08:21:16.471Z"
   },
   {
    "duration": 42,
    "start_time": "2021-12-16T08:21:24.344Z"
   },
   {
    "duration": 63,
    "start_time": "2021-12-16T08:23:00.809Z"
   },
   {
    "duration": 108,
    "start_time": "2021-12-16T08:23:10.071Z"
   },
   {
    "duration": 119,
    "start_time": "2021-12-16T08:23:27.798Z"
   },
   {
    "duration": 6,
    "start_time": "2021-12-16T08:24:20.126Z"
   },
   {
    "duration": 7,
    "start_time": "2021-12-16T08:24:25.965Z"
   },
   {
    "duration": 43,
    "start_time": "2021-12-16T08:24:30.734Z"
   },
   {
    "duration": 44,
    "start_time": "2021-12-16T08:26:03.990Z"
   },
   {
    "duration": 52,
    "start_time": "2021-12-16T08:26:26.020Z"
   },
   {
    "duration": 42,
    "start_time": "2021-12-16T08:26:36.461Z"
   },
   {
    "duration": 43,
    "start_time": "2021-12-16T08:26:43.933Z"
   },
   {
    "duration": 57,
    "start_time": "2021-12-16T08:26:56.070Z"
   },
   {
    "duration": 40,
    "start_time": "2021-12-16T08:27:17.652Z"
   },
   {
    "duration": 40,
    "start_time": "2021-12-16T08:27:26.901Z"
   },
   {
    "duration": 48,
    "start_time": "2021-12-16T08:28:37.126Z"
   },
   {
    "duration": 7,
    "start_time": "2021-12-16T08:28:58.195Z"
   },
   {
    "duration": 8,
    "start_time": "2021-12-16T08:38:12.020Z"
   },
   {
    "duration": 414,
    "start_time": "2021-12-16T08:41:44.541Z"
   },
   {
    "duration": 348,
    "start_time": "2021-12-16T08:43:28.097Z"
   },
   {
    "duration": 348,
    "start_time": "2021-12-16T08:43:39.369Z"
   },
   {
    "duration": 383,
    "start_time": "2021-12-16T08:44:55.704Z"
   },
   {
    "duration": 6,
    "start_time": "2021-12-16T08:45:03.130Z"
   },
   {
    "duration": 49,
    "start_time": "2021-12-16T08:45:11.950Z"
   },
   {
    "duration": 46,
    "start_time": "2021-12-16T08:45:53.013Z"
   },
   {
    "duration": 49,
    "start_time": "2021-12-16T08:46:08.543Z"
   },
   {
    "duration": 6,
    "start_time": "2021-12-16T08:50:18.254Z"
   },
   {
    "duration": 359,
    "start_time": "2021-12-16T10:01:10.238Z"
   },
   {
    "duration": 105,
    "start_time": "2021-12-16T10:01:22.224Z"
   },
   {
    "duration": 15,
    "start_time": "2021-12-16T10:01:22.331Z"
   },
   {
    "duration": 12,
    "start_time": "2021-12-16T10:01:22.349Z"
   },
   {
    "duration": 67,
    "start_time": "2021-12-16T10:01:22.364Z"
   },
   {
    "duration": 335,
    "start_time": "2021-12-16T10:01:22.433Z"
   },
   {
    "duration": 64,
    "start_time": "2021-12-16T10:01:22.706Z"
   },
   {
    "duration": 58,
    "start_time": "2021-12-16T10:01:22.713Z"
   },
   {
    "duration": 57,
    "start_time": "2021-12-16T10:01:22.715Z"
   },
   {
    "duration": 455,
    "start_time": "2021-12-16T10:01:46.692Z"
   },
   {
    "duration": 44,
    "start_time": "2021-12-16T10:01:51.132Z"
   },
   {
    "duration": 14,
    "start_time": "2021-12-16T10:02:02.300Z"
   },
   {
    "duration": 49,
    "start_time": "2021-12-16T11:36:43.484Z"
   },
   {
    "duration": 45,
    "start_time": "2021-12-16T11:37:14.512Z"
   },
   {
    "duration": 100,
    "start_time": "2021-12-16T11:37:23.777Z"
   },
   {
    "duration": 10,
    "start_time": "2021-12-16T11:37:23.879Z"
   },
   {
    "duration": 20,
    "start_time": "2021-12-16T11:37:23.891Z"
   },
   {
    "duration": 44,
    "start_time": "2021-12-16T11:37:23.914Z"
   },
   {
    "duration": 14,
    "start_time": "2021-12-16T11:37:23.960Z"
   },
   {
    "duration": 73,
    "start_time": "2021-12-16T11:37:23.976Z"
   },
   {
    "duration": 4,
    "start_time": "2021-12-16T11:37:24.051Z"
   },
   {
    "duration": 65,
    "start_time": "2021-12-16T11:37:24.058Z"
   },
   {
    "duration": 15,
    "start_time": "2021-12-16T11:44:13.564Z"
   },
   {
    "duration": 13,
    "start_time": "2021-12-16T11:44:23.761Z"
   },
   {
    "duration": 8,
    "start_time": "2021-12-16T11:45:09.815Z"
   },
   {
    "duration": 110,
    "start_time": "2021-12-16T11:46:44.516Z"
   },
   {
    "duration": 10,
    "start_time": "2021-12-16T11:46:44.628Z"
   },
   {
    "duration": 12,
    "start_time": "2021-12-16T11:46:44.640Z"
   },
   {
    "duration": 64,
    "start_time": "2021-12-16T11:46:44.654Z"
   },
   {
    "duration": 15,
    "start_time": "2021-12-16T11:46:44.719Z"
   },
   {
    "duration": 41,
    "start_time": "2021-12-16T11:46:44.736Z"
   },
   {
    "duration": 4,
    "start_time": "2021-12-16T11:46:44.779Z"
   },
   {
    "duration": 35,
    "start_time": "2021-12-16T11:46:44.786Z"
   },
   {
    "duration": 18,
    "start_time": "2021-12-16T11:46:44.824Z"
   },
   {
    "duration": 6,
    "start_time": "2021-12-16T11:50:17.630Z"
   },
   {
    "duration": 8,
    "start_time": "2021-12-16T11:51:03.385Z"
   },
   {
    "duration": 8,
    "start_time": "2021-12-16T11:51:27.363Z"
   },
   {
    "duration": 6,
    "start_time": "2021-12-16T11:56:49.652Z"
   },
   {
    "duration": 40,
    "start_time": "2021-12-16T11:56:52.991Z"
   },
   {
    "duration": -636,
    "start_time": "2021-12-16T12:24:05.820Z"
   },
   {
    "duration": -639,
    "start_time": "2021-12-16T12:24:05.824Z"
   },
   {
    "duration": -642,
    "start_time": "2021-12-16T12:24:05.828Z"
   },
   {
    "duration": -644,
    "start_time": "2021-12-16T12:24:05.831Z"
   },
   {
    "duration": -646,
    "start_time": "2021-12-16T12:24:05.834Z"
   },
   {
    "duration": -648,
    "start_time": "2021-12-16T12:24:05.837Z"
   },
   {
    "duration": -654,
    "start_time": "2021-12-16T12:24:05.844Z"
   },
   {
    "duration": -656,
    "start_time": "2021-12-16T12:24:05.847Z"
   },
   {
    "duration": -658,
    "start_time": "2021-12-16T12:24:05.850Z"
   },
   {
    "duration": -659,
    "start_time": "2021-12-16T12:24:05.852Z"
   },
   {
    "duration": -660,
    "start_time": "2021-12-16T12:24:05.854Z"
   },
   {
    "duration": 100,
    "start_time": "2021-12-16T12:24:21.434Z"
   },
   {
    "duration": 10,
    "start_time": "2021-12-16T12:24:21.536Z"
   },
   {
    "duration": 12,
    "start_time": "2021-12-16T12:24:21.548Z"
   },
   {
    "duration": 63,
    "start_time": "2021-12-16T12:24:21.562Z"
   },
   {
    "duration": 12,
    "start_time": "2021-12-16T12:24:21.627Z"
   },
   {
    "duration": 4,
    "start_time": "2021-12-16T12:24:21.641Z"
   },
   {
    "duration": 63,
    "start_time": "2021-12-16T12:24:21.647Z"
   },
   {
    "duration": 4,
    "start_time": "2021-12-16T12:24:21.713Z"
   },
   {
    "duration": 20,
    "start_time": "2021-12-16T12:24:21.718Z"
   },
   {
    "duration": 606,
    "start_time": "2021-12-16T12:24:21.739Z"
   },
   {
    "duration": -1496,
    "start_time": "2021-12-16T12:24:23.843Z"
   },
   {
    "duration": 37,
    "start_time": "2021-12-16T12:28:24.519Z"
   },
   {
    "duration": 686,
    "start_time": "2021-12-16T15:42:10.513Z"
   },
   {
    "duration": 16,
    "start_time": "2021-12-16T15:42:11.201Z"
   },
   {
    "duration": 16,
    "start_time": "2021-12-16T15:42:11.219Z"
   },
   {
    "duration": 60,
    "start_time": "2021-12-16T15:42:11.237Z"
   },
   {
    "duration": 16,
    "start_time": "2021-12-16T15:42:11.299Z"
   },
   {
    "duration": 4,
    "start_time": "2021-12-16T15:42:11.317Z"
   },
   {
    "duration": 44,
    "start_time": "2021-12-16T15:42:11.323Z"
   },
   {
    "duration": 7,
    "start_time": "2021-12-16T15:42:11.391Z"
   },
   {
    "duration": 16,
    "start_time": "2021-12-16T15:42:11.400Z"
   },
   {
    "duration": 32,
    "start_time": "2021-12-16T15:42:11.418Z"
   },
   {
    "duration": 7,
    "start_time": "2021-12-16T15:42:11.452Z"
   },
   {
    "duration": 306,
    "start_time": "2021-12-16T15:42:37.610Z"
   },
   {
    "duration": 10,
    "start_time": "2021-12-16T15:42:48.610Z"
   },
   {
    "duration": 17,
    "start_time": "2021-12-16T15:51:42.676Z"
   },
   {
    "duration": 21,
    "start_time": "2021-12-16T16:03:21.124Z"
   },
   {
    "duration": 21,
    "start_time": "2021-12-16T16:04:08.110Z"
   },
   {
    "duration": 5,
    "start_time": "2021-12-16T16:04:19.612Z"
   },
   {
    "duration": 51,
    "start_time": "2021-12-16T16:04:33.643Z"
   },
   {
    "duration": 10,
    "start_time": "2021-12-16T16:05:06.957Z"
   },
   {
    "duration": 10,
    "start_time": "2021-12-16T16:06:14.809Z"
   },
   {
    "duration": 15,
    "start_time": "2021-12-16T16:06:29.075Z"
   },
   {
    "duration": 96,
    "start_time": "2021-12-16T16:06:46.942Z"
   },
   {
    "duration": 12,
    "start_time": "2021-12-16T16:06:47.040Z"
   },
   {
    "duration": 9,
    "start_time": "2021-12-16T16:06:47.054Z"
   },
   {
    "duration": 54,
    "start_time": "2021-12-16T16:06:47.065Z"
   },
   {
    "duration": 12,
    "start_time": "2021-12-16T16:06:47.120Z"
   },
   {
    "duration": 5,
    "start_time": "2021-12-16T16:06:47.134Z"
   },
   {
    "duration": 64,
    "start_time": "2021-12-16T16:06:47.141Z"
   },
   {
    "duration": 3,
    "start_time": "2021-12-16T16:06:47.208Z"
   },
   {
    "duration": 14,
    "start_time": "2021-12-16T16:06:47.213Z"
   },
   {
    "duration": 21,
    "start_time": "2021-12-16T16:06:47.229Z"
   },
   {
    "duration": 49,
    "start_time": "2021-12-16T16:06:47.252Z"
   },
   {
    "duration": 15,
    "start_time": "2021-12-16T16:06:59.408Z"
   },
   {
    "duration": 72,
    "start_time": "2021-12-16T16:09:33.440Z"
   },
   {
    "duration": 53,
    "start_time": "2021-12-16T16:09:44.190Z"
   },
   {
    "duration": 5,
    "start_time": "2021-12-16T16:10:24.562Z"
   },
   {
    "duration": 41,
    "start_time": "2021-12-16T16:10:30.157Z"
   },
   {
    "duration": 230,
    "start_time": "2021-12-17T07:40:01.829Z"
   },
   {
    "duration": 713,
    "start_time": "2021-12-17T07:40:06.182Z"
   },
   {
    "duration": 11,
    "start_time": "2021-12-17T07:40:06.896Z"
   },
   {
    "duration": 11,
    "start_time": "2021-12-17T07:40:06.909Z"
   },
   {
    "duration": 47,
    "start_time": "2021-12-17T07:40:06.922Z"
   },
   {
    "duration": 16,
    "start_time": "2021-12-17T07:40:06.992Z"
   },
   {
    "duration": 5,
    "start_time": "2021-12-17T07:40:07.009Z"
   },
   {
    "duration": 77,
    "start_time": "2021-12-17T07:40:07.016Z"
   },
   {
    "duration": 6,
    "start_time": "2021-12-17T07:40:07.095Z"
   },
   {
    "duration": 16,
    "start_time": "2021-12-17T07:40:07.103Z"
   },
   {
    "duration": 9,
    "start_time": "2021-12-17T07:40:07.121Z"
   },
   {
    "duration": 26,
    "start_time": "2021-12-17T07:40:07.132Z"
   },
   {
    "duration": 17,
    "start_time": "2021-12-17T07:41:52.891Z"
   },
   {
    "duration": 24,
    "start_time": "2021-12-17T07:44:46.361Z"
   },
   {
    "duration": 55,
    "start_time": "2021-12-17T07:47:44.032Z"
   },
   {
    "duration": 51,
    "start_time": "2021-12-17T07:48:41.175Z"
   },
   {
    "duration": 96,
    "start_time": "2021-12-17T07:49:08.595Z"
   },
   {
    "duration": 9,
    "start_time": "2021-12-17T07:49:08.693Z"
   },
   {
    "duration": 18,
    "start_time": "2021-12-17T07:49:08.704Z"
   },
   {
    "duration": 50,
    "start_time": "2021-12-17T07:49:08.723Z"
   },
   {
    "duration": 21,
    "start_time": "2021-12-17T07:49:08.775Z"
   },
   {
    "duration": 4,
    "start_time": "2021-12-17T07:49:08.798Z"
   },
   {
    "duration": 44,
    "start_time": "2021-12-17T07:49:08.804Z"
   },
   {
    "duration": 5,
    "start_time": "2021-12-17T07:49:08.850Z"
   },
   {
    "duration": 39,
    "start_time": "2021-12-17T07:49:08.856Z"
   },
   {
    "duration": 10,
    "start_time": "2021-12-17T07:49:08.897Z"
   },
   {
    "duration": 32,
    "start_time": "2021-12-17T07:49:08.909Z"
   },
   {
    "duration": 68,
    "start_time": "2021-12-17T07:49:08.942Z"
   },
   {
    "duration": 49,
    "start_time": "2021-12-17T07:49:38.320Z"
   },
   {
    "duration": 5737,
    "start_time": "2021-12-17T08:00:23.507Z"
   },
   {
    "duration": 64,
    "start_time": "2021-12-17T08:00:43.384Z"
   },
   {
    "duration": 18,
    "start_time": "2021-12-17T08:00:47.487Z"
   },
   {
    "duration": 20,
    "start_time": "2021-12-17T09:06:39.022Z"
   },
   {
    "duration": 19,
    "start_time": "2021-12-17T09:24:48.058Z"
   },
   {
    "duration": 45,
    "start_time": "2021-12-17T09:32:43.244Z"
   },
   {
    "duration": 44,
    "start_time": "2021-12-17T09:52:00.764Z"
   },
   {
    "duration": 45,
    "start_time": "2021-12-17T09:52:35.118Z"
   },
   {
    "duration": 68,
    "start_time": "2021-12-17T10:07:30.117Z"
   },
   {
    "duration": 81,
    "start_time": "2021-12-17T10:08:25.402Z"
   },
   {
    "duration": 100,
    "start_time": "2021-12-17T10:08:30.254Z"
   },
   {
    "duration": 10,
    "start_time": "2021-12-17T10:08:30.357Z"
   },
   {
    "duration": 99,
    "start_time": "2021-12-17T10:08:32.296Z"
   },
   {
    "duration": 10,
    "start_time": "2021-12-17T10:08:32.397Z"
   },
   {
    "duration": 88,
    "start_time": "2021-12-17T10:08:32.409Z"
   },
   {
    "duration": 5,
    "start_time": "2021-12-17T10:08:32.499Z"
   },
   {
    "duration": 6,
    "start_time": "2021-12-17T10:08:32.506Z"
   },
   {
    "duration": 18,
    "start_time": "2021-12-17T10:08:32.514Z"
   },
   {
    "duration": 74,
    "start_time": "2021-12-17T10:08:32.534Z"
   },
   {
    "duration": 4,
    "start_time": "2021-12-17T10:08:32.609Z"
   },
   {
    "duration": 18,
    "start_time": "2021-12-17T10:08:32.615Z"
   },
   {
    "duration": 67,
    "start_time": "2021-12-17T10:08:32.635Z"
   },
   {
    "duration": 97,
    "start_time": "2021-12-17T10:08:41.759Z"
   },
   {
    "duration": 11,
    "start_time": "2021-12-17T10:08:41.858Z"
   },
   {
    "duration": 85,
    "start_time": "2021-12-17T10:08:41.871Z"
   },
   {
    "duration": 5,
    "start_time": "2021-12-17T10:08:41.957Z"
   },
   {
    "duration": 5,
    "start_time": "2021-12-17T10:08:41.964Z"
   },
   {
    "duration": 33,
    "start_time": "2021-12-17T10:08:41.971Z"
   },
   {
    "duration": 46,
    "start_time": "2021-12-17T10:08:42.006Z"
   },
   {
    "duration": 5,
    "start_time": "2021-12-17T10:08:42.054Z"
   },
   {
    "duration": 42,
    "start_time": "2021-12-17T10:08:42.061Z"
   },
   {
    "duration": 45,
    "start_time": "2021-12-17T10:08:42.105Z"
   },
   {
    "duration": 101,
    "start_time": "2021-12-17T10:10:32.623Z"
   },
   {
    "duration": 10,
    "start_time": "2021-12-17T10:10:32.726Z"
   },
   {
    "duration": 86,
    "start_time": "2021-12-17T10:10:32.738Z"
   },
   {
    "duration": 5,
    "start_time": "2021-12-17T10:10:32.826Z"
   },
   {
    "duration": 5,
    "start_time": "2021-12-17T10:10:32.833Z"
   },
   {
    "duration": 18,
    "start_time": "2021-12-17T10:10:32.839Z"
   },
   {
    "duration": 67,
    "start_time": "2021-12-17T10:10:32.859Z"
   },
   {
    "duration": 3,
    "start_time": "2021-12-17T10:10:32.929Z"
   },
   {
    "duration": 17,
    "start_time": "2021-12-17T10:10:32.934Z"
   },
   {
    "duration": 60,
    "start_time": "2021-12-17T10:10:32.953Z"
   },
   {
    "duration": 104,
    "start_time": "2021-12-17T10:10:48.071Z"
   },
   {
    "duration": 18,
    "start_time": "2021-12-17T10:10:48.177Z"
   },
   {
    "duration": 72,
    "start_time": "2021-12-17T10:10:48.197Z"
   },
   {
    "duration": 22,
    "start_time": "2021-12-17T10:10:48.271Z"
   },
   {
    "duration": 6,
    "start_time": "2021-12-17T10:10:48.294Z"
   },
   {
    "duration": 20,
    "start_time": "2021-12-17T10:10:48.302Z"
   },
   {
    "duration": 68,
    "start_time": "2021-12-17T10:10:48.324Z"
   },
   {
    "duration": 4,
    "start_time": "2021-12-17T10:10:48.395Z"
   },
   {
    "duration": 18,
    "start_time": "2021-12-17T10:10:48.400Z"
   },
   {
    "duration": 40,
    "start_time": "2021-12-17T10:10:48.420Z"
   },
   {
    "duration": 78,
    "start_time": "2021-12-17T10:11:30.152Z"
   },
   {
    "duration": 71,
    "start_time": "2021-12-17T10:11:57.645Z"
   },
   {
    "duration": 4,
    "start_time": "2021-12-17T10:12:03.747Z"
   },
   {
    "duration": 5,
    "start_time": "2021-12-17T10:12:05.513Z"
   },
   {
    "duration": 8,
    "start_time": "2021-12-17T10:12:06.131Z"
   },
   {
    "duration": 15,
    "start_time": "2021-12-17T10:12:06.811Z"
   },
   {
    "duration": 4,
    "start_time": "2021-12-17T10:12:08.452Z"
   },
   {
    "duration": 15,
    "start_time": "2021-12-17T10:12:31.492Z"
   },
   {
    "duration": 3,
    "start_time": "2021-12-17T10:12:32.554Z"
   },
   {
    "duration": 13,
    "start_time": "2021-12-17T10:12:33.393Z"
   },
   {
    "duration": 42,
    "start_time": "2021-12-17T10:12:35.771Z"
   },
   {
    "duration": 9,
    "start_time": "2021-12-17T10:13:05.458Z"
   },
   {
    "duration": 44,
    "start_time": "2021-12-17T10:13:18.123Z"
   },
   {
    "duration": 111,
    "start_time": "2021-12-17T10:13:24.923Z"
   },
   {
    "duration": 11,
    "start_time": "2021-12-17T10:13:25.036Z"
   },
   {
    "duration": 57,
    "start_time": "2021-12-17T10:13:25.048Z"
   },
   {
    "duration": 5,
    "start_time": "2021-12-17T10:13:25.107Z"
   },
   {
    "duration": 6,
    "start_time": "2021-12-17T10:13:25.113Z"
   },
   {
    "duration": 19,
    "start_time": "2021-12-17T10:13:25.121Z"
   },
   {
    "duration": 62,
    "start_time": "2021-12-17T10:13:25.142Z"
   },
   {
    "duration": 4,
    "start_time": "2021-12-17T10:13:25.206Z"
   },
   {
    "duration": 17,
    "start_time": "2021-12-17T10:13:25.212Z"
   },
   {
    "duration": 40,
    "start_time": "2021-12-17T10:13:25.231Z"
   },
   {
    "duration": 43,
    "start_time": "2021-12-17T10:13:53.570Z"
   },
   {
    "duration": 99,
    "start_time": "2021-12-17T10:23:27.115Z"
   },
   {
    "duration": 11,
    "start_time": "2021-12-17T10:23:27.216Z"
   },
   {
    "duration": 44,
    "start_time": "2021-12-17T10:23:27.229Z"
   },
   {
    "duration": 6,
    "start_time": "2021-12-17T10:23:27.293Z"
   },
   {
    "duration": 6,
    "start_time": "2021-12-17T10:23:27.301Z"
   },
   {
    "duration": 18,
    "start_time": "2021-12-17T10:23:27.308Z"
   },
   {
    "duration": 37,
    "start_time": "2021-12-17T10:23:27.328Z"
   },
   {
    "duration": 4,
    "start_time": "2021-12-17T10:23:27.391Z"
   },
   {
    "duration": 17,
    "start_time": "2021-12-17T10:23:27.397Z"
   },
   {
    "duration": 40,
    "start_time": "2021-12-17T10:23:27.416Z"
   },
   {
    "duration": 20,
    "start_time": "2021-12-17T10:23:55.847Z"
   },
   {
    "duration": 97,
    "start_time": "2021-12-17T10:23:58.834Z"
   },
   {
    "duration": 10,
    "start_time": "2021-12-17T10:23:58.933Z"
   },
   {
    "duration": 19,
    "start_time": "2021-12-17T10:23:58.945Z"
   },
   {
    "duration": 28,
    "start_time": "2021-12-17T10:23:58.966Z"
   },
   {
    "duration": 5,
    "start_time": "2021-12-17T10:23:58.996Z"
   },
   {
    "duration": 15,
    "start_time": "2021-12-17T10:23:59.003Z"
   },
   {
    "duration": 35,
    "start_time": "2021-12-17T10:23:59.020Z"
   },
   {
    "duration": 4,
    "start_time": "2021-12-17T10:23:59.058Z"
   },
   {
    "duration": 46,
    "start_time": "2021-12-17T10:23:59.063Z"
   },
   {
    "duration": 50,
    "start_time": "2021-12-17T10:23:59.111Z"
   },
   {
    "duration": 4,
    "start_time": "2021-12-17T10:25:25.892Z"
   },
   {
    "duration": 4756,
    "start_time": "2021-12-17T11:31:13.791Z"
   },
   {
    "duration": 5,
    "start_time": "2021-12-17T11:31:39.894Z"
   },
   {
    "duration": 42,
    "start_time": "2021-12-17T12:19:15.766Z"
   },
   {
    "duration": 638,
    "start_time": "2021-12-18T13:19:15.175Z"
   },
   {
    "duration": 98,
    "start_time": "2021-12-18T13:19:29.362Z"
   },
   {
    "duration": 273,
    "start_time": "2021-12-18T13:19:32.805Z"
   },
   {
    "duration": 266,
    "start_time": "2021-12-18T13:19:45.759Z"
   },
   {
    "duration": 290,
    "start_time": "2021-12-18T13:20:12.960Z"
   },
   {
    "duration": 256,
    "start_time": "2021-12-18T13:20:27.626Z"
   },
   {
    "duration": 664,
    "start_time": "2021-12-18T13:20:31.008Z"
   },
   {
    "duration": 12,
    "start_time": "2021-12-18T13:20:31.674Z"
   },
   {
    "duration": 59,
    "start_time": "2021-12-18T13:20:31.689Z"
   },
   {
    "duration": 12,
    "start_time": "2021-12-18T13:20:31.751Z"
   },
   {
    "duration": 23,
    "start_time": "2021-12-18T13:20:31.765Z"
   },
   {
    "duration": 32,
    "start_time": "2021-12-18T13:20:31.790Z"
   },
   {
    "duration": 36,
    "start_time": "2021-12-18T13:20:31.824Z"
   },
   {
    "duration": 4,
    "start_time": "2021-12-18T13:20:31.862Z"
   },
   {
    "duration": 28,
    "start_time": "2021-12-18T13:20:31.868Z"
   },
   {
    "duration": 65,
    "start_time": "2021-12-18T13:20:31.898Z"
   },
   {
    "duration": 54,
    "start_time": "2021-12-18T13:21:57.948Z"
   },
   {
    "duration": 15,
    "start_time": "2021-12-18T13:30:48.172Z"
   },
   {
    "duration": 36,
    "start_time": "2021-12-18T13:52:47.405Z"
   },
   {
    "duration": 36,
    "start_time": "2021-12-18T13:53:16.971Z"
   },
   {
    "duration": 240,
    "start_time": "2021-12-18T13:53:40.428Z"
   },
   {
    "duration": 3,
    "start_time": "2021-12-18T13:53:51.235Z"
   },
   {
    "duration": 37,
    "start_time": "2021-12-18T13:53:54.133Z"
   },
   {
    "duration": 289,
    "start_time": "2021-12-18T13:55:20.601Z"
   },
   {
    "duration": 302,
    "start_time": "2021-12-18T13:55:25.220Z"
   },
   {
    "duration": 279,
    "start_time": "2021-12-18T13:56:02.362Z"
   },
   {
    "duration": 153,
    "start_time": "2021-12-18T13:56:07.509Z"
   },
   {
    "duration": 179,
    "start_time": "2021-12-18T13:57:00.829Z"
   },
   {
    "duration": 247,
    "start_time": "2021-12-18T13:57:50.091Z"
   },
   {
    "duration": 167,
    "start_time": "2021-12-18T13:57:56.954Z"
   },
   {
    "duration": 8,
    "start_time": "2021-12-18T14:03:17.988Z"
   },
   {
    "duration": 45,
    "start_time": "2021-12-18T14:03:22.859Z"
   },
   {
    "duration": 50,
    "start_time": "2021-12-18T14:05:34.343Z"
   },
   {
    "duration": 432,
    "start_time": "2021-12-18T14:06:36.303Z"
   },
   {
    "duration": 434,
    "start_time": "2021-12-18T14:07:19.280Z"
   },
   {
    "duration": 224,
    "start_time": "2021-12-18T14:07:40.088Z"
   },
   {
    "duration": 531,
    "start_time": "2021-12-18T14:08:03.057Z"
   },
   {
    "duration": 494,
    "start_time": "2021-12-18T14:08:37.510Z"
   },
   {
    "duration": 1055,
    "start_time": "2021-12-18T14:22:44.502Z"
   },
   {
    "duration": 7444,
    "start_time": "2021-12-18T14:22:55.900Z"
   },
   {
    "duration": 106,
    "start_time": "2021-12-18T14:25:52.078Z"
   },
   {
    "duration": 100,
    "start_time": "2021-12-18T14:26:01.118Z"
   },
   {
    "duration": 10102,
    "start_time": "2021-12-18T14:26:10.689Z"
   },
   {
    "duration": 6796,
    "start_time": "2021-12-18T14:27:20.429Z"
   },
   {
    "duration": 7358,
    "start_time": "2021-12-18T14:27:45.963Z"
   },
   {
    "duration": 10,
    "start_time": "2021-12-18T14:28:10.065Z"
   },
   {
    "duration": 40,
    "start_time": "2021-12-18T14:28:15.334Z"
   },
   {
    "duration": 777,
    "start_time": "2021-12-18T14:28:33.218Z"
   },
   {
    "duration": 738,
    "start_time": "2021-12-18T14:44:48.011Z"
   },
   {
    "duration": 20,
    "start_time": "2021-12-18T14:44:48.751Z"
   },
   {
    "duration": 59,
    "start_time": "2021-12-18T14:44:48.774Z"
   },
   {
    "duration": 6,
    "start_time": "2021-12-18T14:44:48.835Z"
   },
   {
    "duration": 6,
    "start_time": "2021-12-18T14:44:48.864Z"
   },
   {
    "duration": 20,
    "start_time": "2021-12-18T14:44:48.872Z"
   },
   {
    "duration": 40,
    "start_time": "2021-12-18T14:44:48.894Z"
   },
   {
    "duration": 27,
    "start_time": "2021-12-18T14:44:48.936Z"
   },
   {
    "duration": 27,
    "start_time": "2021-12-18T14:44:48.967Z"
   },
   {
    "duration": 76,
    "start_time": "2021-12-18T14:44:48.996Z"
   },
   {
    "duration": 265,
    "start_time": "2021-12-18T14:44:49.075Z"
   },
   {
    "duration": 597,
    "start_time": "2021-12-18T14:44:49.342Z"
   },
   {
    "duration": 893,
    "start_time": "2021-12-18T14:55:12.211Z"
   },
   {
    "duration": 11,
    "start_time": "2021-12-18T14:55:13.105Z"
   },
   {
    "duration": 63,
    "start_time": "2021-12-18T14:55:13.118Z"
   },
   {
    "duration": 5,
    "start_time": "2021-12-18T14:55:13.183Z"
   },
   {
    "duration": 8,
    "start_time": "2021-12-18T14:55:13.190Z"
   },
   {
    "duration": 21,
    "start_time": "2021-12-18T14:55:13.200Z"
   },
   {
    "duration": 70,
    "start_time": "2021-12-18T14:55:13.224Z"
   },
   {
    "duration": 4,
    "start_time": "2021-12-18T14:55:13.297Z"
   },
   {
    "duration": 36,
    "start_time": "2021-12-18T14:55:13.304Z"
   },
   {
    "duration": 69,
    "start_time": "2021-12-18T14:55:13.343Z"
   },
   {
    "duration": 300,
    "start_time": "2021-12-18T14:55:13.415Z"
   },
   {
    "duration": 565,
    "start_time": "2021-12-18T14:55:13.717Z"
   },
   {
    "duration": 2,
    "start_time": "2021-12-18T14:55:14.284Z"
   },
   {
    "duration": 639,
    "start_time": "2021-12-18T14:55:38.525Z"
   },
   {
    "duration": 418,
    "start_time": "2021-12-18T15:18:32.590Z"
   },
   {
    "duration": 893,
    "start_time": "2021-12-18T15:18:37.503Z"
   },
   {
    "duration": 10,
    "start_time": "2021-12-18T15:18:38.399Z"
   },
   {
    "duration": 86,
    "start_time": "2021-12-18T15:18:38.412Z"
   },
   {
    "duration": 5,
    "start_time": "2021-12-18T15:18:38.505Z"
   },
   {
    "duration": 6,
    "start_time": "2021-12-18T15:18:38.513Z"
   },
   {
    "duration": 42,
    "start_time": "2021-12-18T15:18:38.521Z"
   },
   {
    "duration": 54,
    "start_time": "2021-12-18T15:18:38.566Z"
   },
   {
    "duration": 4,
    "start_time": "2021-12-18T15:18:38.622Z"
   },
   {
    "duration": 48,
    "start_time": "2021-12-18T15:18:38.628Z"
   },
   {
    "duration": 63,
    "start_time": "2021-12-18T15:18:38.679Z"
   },
   {
    "duration": 421,
    "start_time": "2021-12-18T15:18:38.745Z"
   },
   {
    "duration": 884,
    "start_time": "2021-12-18T15:18:39.169Z"
   },
   {
    "duration": 502,
    "start_time": "2021-12-18T15:18:40.055Z"
   },
   {
    "duration": 18,
    "start_time": "2021-12-18T15:42:04.992Z"
   },
   {
    "duration": 9,
    "start_time": "2021-12-18T15:42:19.701Z"
   },
   {
    "duration": 58,
    "start_time": "2021-12-18T15:42:20.964Z"
   },
   {
    "duration": 24,
    "start_time": "2021-12-18T15:42:32.320Z"
   },
   {
    "duration": 16,
    "start_time": "2021-12-18T15:43:31.568Z"
   },
   {
    "duration": 317,
    "start_time": "2021-12-18T15:52:23.315Z"
   },
   {
    "duration": 34,
    "start_time": "2021-12-18T15:53:03.036Z"
   },
   {
    "duration": 25,
    "start_time": "2021-12-18T15:57:52.316Z"
   },
   {
    "duration": 12,
    "start_time": "2021-12-18T15:58:02.010Z"
   },
   {
    "duration": 24,
    "start_time": "2021-12-18T15:58:04.510Z"
   },
   {
    "duration": 6586,
    "start_time": "2021-12-18T16:03:49.803Z"
   },
   {
    "duration": 265,
    "start_time": "2021-12-18T16:04:09.317Z"
   },
   {
    "duration": 299,
    "start_time": "2021-12-18T16:04:19.546Z"
   },
   {
    "duration": 289,
    "start_time": "2021-12-18T16:05:10.597Z"
   },
   {
    "duration": 273,
    "start_time": "2021-12-18T16:05:21.225Z"
   },
   {
    "duration": 9,
    "start_time": "2021-12-18T16:05:45.171Z"
   },
   {
    "duration": 3607,
    "start_time": "2021-12-18T16:05:57.234Z"
   },
   {
    "duration": 277,
    "start_time": "2021-12-18T16:06:54.804Z"
   },
   {
    "duration": 258,
    "start_time": "2021-12-18T16:07:57.482Z"
   },
   {
    "duration": 270,
    "start_time": "2021-12-18T16:08:17.498Z"
   },
   {
    "duration": 3919,
    "start_time": "2021-12-18T16:09:32.666Z"
   },
   {
    "duration": 401,
    "start_time": "2021-12-18T16:09:47.302Z"
   },
   {
    "duration": 3668,
    "start_time": "2021-12-18T16:10:31.360Z"
   },
   {
    "duration": 3408,
    "start_time": "2021-12-18T16:10:47.296Z"
   },
   {
    "duration": 140,
    "start_time": "2021-12-18T16:11:17.603Z"
   },
   {
    "duration": 18,
    "start_time": "2021-12-18T16:11:17.745Z"
   },
   {
    "duration": 67,
    "start_time": "2021-12-18T16:11:17.766Z"
   },
   {
    "duration": 5,
    "start_time": "2021-12-18T16:11:17.836Z"
   },
   {
    "duration": 24,
    "start_time": "2021-12-18T16:11:17.843Z"
   },
   {
    "duration": 8,
    "start_time": "2021-12-18T16:11:17.869Z"
   },
   {
    "duration": 681,
    "start_time": "2021-12-18T16:11:17.879Z"
   },
   {
    "duration": -132,
    "start_time": "2021-12-18T16:11:18.694Z"
   },
   {
    "duration": -136,
    "start_time": "2021-12-18T16:11:18.700Z"
   },
   {
    "duration": -137,
    "start_time": "2021-12-18T16:11:18.703Z"
   },
   {
    "duration": -138,
    "start_time": "2021-12-18T16:11:18.705Z"
   },
   {
    "duration": -139,
    "start_time": "2021-12-18T16:11:18.708Z"
   },
   {
    "duration": -140,
    "start_time": "2021-12-18T16:11:18.710Z"
   },
   {
    "duration": -141,
    "start_time": "2021-12-18T16:11:18.713Z"
   },
   {
    "duration": -143,
    "start_time": "2021-12-18T16:11:18.716Z"
   },
   {
    "duration": 9,
    "start_time": "2021-12-18T16:12:18.085Z"
   },
   {
    "duration": 283,
    "start_time": "2021-12-18T16:12:20.337Z"
   },
   {
    "duration": 19,
    "start_time": "2021-12-18T16:12:27.937Z"
   },
   {
    "duration": 103,
    "start_time": "2021-12-18T16:12:59.239Z"
   },
   {
    "duration": 19,
    "start_time": "2021-12-18T16:12:59.344Z"
   },
   {
    "duration": 43,
    "start_time": "2021-12-18T16:12:59.365Z"
   },
   {
    "duration": 3,
    "start_time": "2021-12-18T16:12:59.410Z"
   },
   {
    "duration": 7,
    "start_time": "2021-12-18T16:12:59.415Z"
   },
   {
    "duration": 43,
    "start_time": "2021-12-18T16:12:59.424Z"
   },
   {
    "duration": 268,
    "start_time": "2021-12-18T16:12:59.469Z"
   },
   {
    "duration": -138,
    "start_time": "2021-12-18T16:12:59.877Z"
   },
   {
    "duration": -140,
    "start_time": "2021-12-18T16:12:59.880Z"
   },
   {
    "duration": -141,
    "start_time": "2021-12-18T16:12:59.882Z"
   },
   {
    "duration": -142,
    "start_time": "2021-12-18T16:12:59.884Z"
   },
   {
    "duration": -144,
    "start_time": "2021-12-18T16:12:59.887Z"
   },
   {
    "duration": -145,
    "start_time": "2021-12-18T16:12:59.889Z"
   },
   {
    "duration": -147,
    "start_time": "2021-12-18T16:12:59.892Z"
   },
   {
    "duration": -148,
    "start_time": "2021-12-18T16:12:59.894Z"
   },
   {
    "duration": 255,
    "start_time": "2021-12-18T16:14:11.195Z"
   },
   {
    "duration": 271,
    "start_time": "2021-12-18T16:14:16.811Z"
   },
   {
    "duration": 270,
    "start_time": "2021-12-18T16:14:21.563Z"
   },
   {
    "duration": 279,
    "start_time": "2021-12-18T16:14:37.271Z"
   },
   {
    "duration": 335,
    "start_time": "2021-12-18T16:20:42.569Z"
   },
   {
    "duration": 163,
    "start_time": "2021-12-18T16:21:58.891Z"
   },
   {
    "duration": 15,
    "start_time": "2021-12-18T16:21:59.063Z"
   },
   {
    "duration": 66,
    "start_time": "2021-12-18T16:21:59.080Z"
   },
   {
    "duration": 5,
    "start_time": "2021-12-18T16:21:59.164Z"
   },
   {
    "duration": 8,
    "start_time": "2021-12-18T16:21:59.171Z"
   },
   {
    "duration": 17,
    "start_time": "2021-12-18T16:21:59.181Z"
   },
   {
    "duration": 266,
    "start_time": "2021-12-18T16:21:59.200Z"
   },
   {
    "duration": -155,
    "start_time": "2021-12-18T16:21:59.624Z"
   },
   {
    "duration": -160,
    "start_time": "2021-12-18T16:21:59.630Z"
   },
   {
    "duration": -163,
    "start_time": "2021-12-18T16:21:59.634Z"
   },
   {
    "duration": -166,
    "start_time": "2021-12-18T16:21:59.638Z"
   },
   {
    "duration": -166,
    "start_time": "2021-12-18T16:21:59.639Z"
   },
   {
    "duration": -167,
    "start_time": "2021-12-18T16:21:59.641Z"
   },
   {
    "duration": -168,
    "start_time": "2021-12-18T16:21:59.643Z"
   },
   {
    "duration": -168,
    "start_time": "2021-12-18T16:21:59.644Z"
   },
   {
    "duration": 104,
    "start_time": "2021-12-18T16:25:52.315Z"
   },
   {
    "duration": 10,
    "start_time": "2021-12-18T16:25:52.421Z"
   },
   {
    "duration": 52,
    "start_time": "2021-12-18T16:25:52.433Z"
   },
   {
    "duration": 4,
    "start_time": "2021-12-18T16:25:52.486Z"
   },
   {
    "duration": 9,
    "start_time": "2021-12-18T16:25:52.492Z"
   },
   {
    "duration": 275,
    "start_time": "2021-12-18T16:25:52.503Z"
   },
   {
    "duration": -154,
    "start_time": "2021-12-18T16:25:52.934Z"
   },
   {
    "duration": -155,
    "start_time": "2021-12-18T16:25:52.936Z"
   },
   {
    "duration": -154,
    "start_time": "2021-12-18T16:25:52.937Z"
   },
   {
    "duration": -154,
    "start_time": "2021-12-18T16:25:52.938Z"
   },
   {
    "duration": -154,
    "start_time": "2021-12-18T16:25:52.939Z"
   },
   {
    "duration": -155,
    "start_time": "2021-12-18T16:25:52.941Z"
   },
   {
    "duration": -155,
    "start_time": "2021-12-18T16:25:52.942Z"
   },
   {
    "duration": -155,
    "start_time": "2021-12-18T16:25:52.943Z"
   },
   {
    "duration": -154,
    "start_time": "2021-12-18T16:25:52.944Z"
   },
   {
    "duration": 2,
    "start_time": "2021-12-18T16:26:02.493Z"
   },
   {
    "duration": 114,
    "start_time": "2021-12-18T16:29:33.810Z"
   },
   {
    "duration": 12,
    "start_time": "2021-12-18T16:29:33.926Z"
   },
   {
    "duration": 68,
    "start_time": "2021-12-18T16:29:33.941Z"
   },
   {
    "duration": 5,
    "start_time": "2021-12-18T16:29:34.011Z"
   },
   {
    "duration": 5,
    "start_time": "2021-12-18T16:29:34.018Z"
   },
   {
    "duration": 7,
    "start_time": "2021-12-18T16:29:34.025Z"
   },
   {
    "duration": 41,
    "start_time": "2021-12-18T16:29:34.033Z"
   },
   {
    "duration": 17,
    "start_time": "2021-12-18T16:29:34.076Z"
   },
   {
    "duration": 40,
    "start_time": "2021-12-18T16:29:34.095Z"
   },
   {
    "duration": 27,
    "start_time": "2021-12-18T16:29:34.137Z"
   },
   {
    "duration": 18,
    "start_time": "2021-12-18T16:29:34.165Z"
   },
   {
    "duration": 40,
    "start_time": "2021-12-18T16:29:34.185Z"
   },
   {
    "duration": 214,
    "start_time": "2021-12-18T16:29:34.227Z"
   },
   {
    "duration": 521,
    "start_time": "2021-12-18T16:29:34.442Z"
   },
   {
    "duration": 691,
    "start_time": "2021-12-18T16:29:34.965Z"
   },
   {
    "duration": 1025,
    "start_time": "2021-12-18T16:30:48.706Z"
   },
   {
    "duration": 771,
    "start_time": "2021-12-18T16:31:24.415Z"
   },
   {
    "duration": 748,
    "start_time": "2021-12-18T16:31:29.932Z"
   },
   {
    "duration": 831,
    "start_time": "2021-12-18T16:31:34.097Z"
   },
   {
    "duration": 664,
    "start_time": "2021-12-18T16:32:01.601Z"
   },
   {
    "duration": 479,
    "start_time": "2021-12-18T16:32:28.339Z"
   },
   {
    "duration": 1184,
    "start_time": "2021-12-18T16:32:40.272Z"
   },
   {
    "duration": 530,
    "start_time": "2021-12-18T16:34:43.283Z"
   },
   {
    "duration": 594,
    "start_time": "2021-12-18T16:35:38.515Z"
   },
   {
    "duration": 676,
    "start_time": "2021-12-18T16:35:51.830Z"
   },
   {
    "duration": 972,
    "start_time": "2021-12-18T16:35:57.405Z"
   },
   {
    "duration": 25,
    "start_time": "2021-12-18T16:41:05.438Z"
   },
   {
    "duration": 102,
    "start_time": "2021-12-18T16:41:10.424Z"
   },
   {
    "duration": 10,
    "start_time": "2021-12-18T16:41:10.529Z"
   },
   {
    "duration": 59,
    "start_time": "2021-12-18T16:41:10.541Z"
   },
   {
    "duration": 5,
    "start_time": "2021-12-18T16:41:10.602Z"
   },
   {
    "duration": 8,
    "start_time": "2021-12-18T16:41:10.609Z"
   },
   {
    "duration": 6,
    "start_time": "2021-12-18T16:41:10.619Z"
   },
   {
    "duration": 40,
    "start_time": "2021-12-18T16:41:10.627Z"
   },
   {
    "duration": 7,
    "start_time": "2021-12-18T16:41:10.669Z"
   },
   {
    "duration": 35,
    "start_time": "2021-12-18T16:41:10.679Z"
   },
   {
    "duration": 4,
    "start_time": "2021-12-18T16:41:10.716Z"
   },
   {
    "duration": 43,
    "start_time": "2021-12-18T16:41:10.722Z"
   },
   {
    "duration": 38,
    "start_time": "2021-12-18T16:41:10.767Z"
   },
   {
    "duration": 227,
    "start_time": "2021-12-18T16:41:10.806Z"
   },
   {
    "duration": 528,
    "start_time": "2021-12-18T16:41:11.035Z"
   },
   {
    "duration": 679,
    "start_time": "2021-12-18T16:41:11.565Z"
   },
   {
    "duration": 91,
    "start_time": "2021-12-18T16:41:12.246Z"
   },
   {
    "duration": 16,
    "start_time": "2021-12-18T16:41:59.473Z"
   },
   {
    "duration": 99,
    "start_time": "2021-12-18T16:42:39.060Z"
   },
   {
    "duration": 10,
    "start_time": "2021-12-18T16:42:39.161Z"
   },
   {
    "duration": 45,
    "start_time": "2021-12-18T16:42:39.173Z"
   },
   {
    "duration": 4,
    "start_time": "2021-12-18T16:42:39.220Z"
   },
   {
    "duration": 7,
    "start_time": "2021-12-18T16:42:39.226Z"
   },
   {
    "duration": 8,
    "start_time": "2021-12-18T16:42:39.235Z"
   },
   {
    "duration": 16,
    "start_time": "2021-12-18T16:42:39.263Z"
   },
   {
    "duration": 9,
    "start_time": "2021-12-18T16:42:39.281Z"
   },
   {
    "duration": 70,
    "start_time": "2021-12-18T16:42:39.293Z"
   },
   {
    "duration": 5,
    "start_time": "2021-12-18T16:42:39.366Z"
   },
   {
    "duration": 20,
    "start_time": "2021-12-18T16:42:39.373Z"
   },
   {
    "duration": 11,
    "start_time": "2021-12-18T16:42:39.395Z"
   },
   {
    "duration": 236,
    "start_time": "2021-12-18T16:42:39.408Z"
   },
   {
    "duration": 634,
    "start_time": "2021-12-18T16:42:39.645Z"
   },
   {
    "duration": 550,
    "start_time": "2021-12-18T16:42:40.281Z"
   },
   {
    "duration": 87,
    "start_time": "2021-12-18T16:42:40.833Z"
   },
   {
    "duration": 3,
    "start_time": "2021-12-18T16:52:00.588Z"
   },
   {
    "duration": 13,
    "start_time": "2021-12-18T16:52:02.502Z"
   },
   {
    "duration": 342,
    "start_time": "2021-12-18T16:55:20.587Z"
   },
   {
    "duration": 100,
    "start_time": "2021-12-18T16:56:04.363Z"
   },
   {
    "duration": 10,
    "start_time": "2021-12-18T16:56:04.464Z"
   },
   {
    "duration": 40,
    "start_time": "2021-12-18T16:56:04.476Z"
   },
   {
    "duration": 3,
    "start_time": "2021-12-18T16:56:04.518Z"
   },
   {
    "duration": 6,
    "start_time": "2021-12-18T16:56:04.522Z"
   },
   {
    "duration": 5,
    "start_time": "2021-12-18T16:56:04.530Z"
   },
   {
    "duration": 38,
    "start_time": "2021-12-18T16:56:04.537Z"
   },
   {
    "duration": 2,
    "start_time": "2021-12-18T16:56:04.577Z"
   },
   {
    "duration": 43,
    "start_time": "2021-12-18T16:56:04.581Z"
   },
   {
    "duration": 4,
    "start_time": "2021-12-18T16:56:04.626Z"
   },
   {
    "duration": 42,
    "start_time": "2021-12-18T16:56:04.631Z"
   },
   {
    "duration": 11,
    "start_time": "2021-12-18T16:56:04.675Z"
   },
   {
    "duration": 206,
    "start_time": "2021-12-18T16:56:04.688Z"
   },
   {
    "duration": 612,
    "start_time": "2021-12-18T16:56:04.896Z"
   },
   {
    "duration": 564,
    "start_time": "2021-12-18T16:56:05.510Z"
   },
   {
    "duration": 348,
    "start_time": "2021-12-18T16:56:06.075Z"
   },
   {
    "duration": 604,
    "start_time": "2021-12-19T06:09:05.145Z"
   },
   {
    "duration": 11,
    "start_time": "2021-12-19T06:09:05.751Z"
   },
   {
    "duration": 56,
    "start_time": "2021-12-19T06:09:05.765Z"
   },
   {
    "duration": 4,
    "start_time": "2021-12-19T06:09:05.823Z"
   },
   {
    "duration": 6,
    "start_time": "2021-12-19T06:09:05.829Z"
   },
   {
    "duration": 7,
    "start_time": "2021-12-19T06:09:05.837Z"
   },
   {
    "duration": 19,
    "start_time": "2021-12-19T06:09:05.845Z"
   },
   {
    "duration": 22,
    "start_time": "2021-12-19T06:09:05.866Z"
   },
   {
    "duration": 39,
    "start_time": "2021-12-19T06:09:05.891Z"
   },
   {
    "duration": 4,
    "start_time": "2021-12-19T06:09:05.932Z"
   },
   {
    "duration": 17,
    "start_time": "2021-12-19T06:09:05.937Z"
   },
   {
    "duration": 36,
    "start_time": "2021-12-19T06:09:05.955Z"
   },
   {
    "duration": 250,
    "start_time": "2021-12-19T06:09:05.992Z"
   },
   {
    "duration": 517,
    "start_time": "2021-12-19T06:09:06.244Z"
   },
   {
    "duration": 536,
    "start_time": "2021-12-19T06:09:06.762Z"
   },
   {
    "duration": 325,
    "start_time": "2021-12-19T06:09:07.300Z"
   },
   {
    "duration": 94,
    "start_time": "2021-12-19T06:10:27.623Z"
   },
   {
    "duration": -1225,
    "start_time": "2021-12-19T06:10:54.216Z"
   },
   {
    "duration": -1227,
    "start_time": "2021-12-19T06:10:54.219Z"
   },
   {
    "duration": -1231,
    "start_time": "2021-12-19T06:10:54.223Z"
   },
   {
    "duration": -1233,
    "start_time": "2021-12-19T06:10:54.226Z"
   },
   {
    "duration": -1235,
    "start_time": "2021-12-19T06:10:54.229Z"
   },
   {
    "duration": -1238,
    "start_time": "2021-12-19T06:10:54.233Z"
   },
   {
    "duration": -1241,
    "start_time": "2021-12-19T06:10:54.236Z"
   },
   {
    "duration": -1244,
    "start_time": "2021-12-19T06:10:54.240Z"
   },
   {
    "duration": -1245,
    "start_time": "2021-12-19T06:10:54.242Z"
   },
   {
    "duration": -1246,
    "start_time": "2021-12-19T06:10:54.244Z"
   },
   {
    "duration": -1246,
    "start_time": "2021-12-19T06:10:54.245Z"
   },
   {
    "duration": -1247,
    "start_time": "2021-12-19T06:10:54.246Z"
   },
   {
    "duration": -1248,
    "start_time": "2021-12-19T06:10:54.248Z"
   },
   {
    "duration": -1248,
    "start_time": "2021-12-19T06:10:54.249Z"
   },
   {
    "duration": -1248,
    "start_time": "2021-12-19T06:10:54.250Z"
   },
   {
    "duration": -1256,
    "start_time": "2021-12-19T06:10:54.258Z"
   },
   {
    "duration": 87,
    "start_time": "2021-12-19T06:11:17.770Z"
   },
   {
    "duration": 88,
    "start_time": "2021-12-19T06:11:25.640Z"
   },
   {
    "duration": 9,
    "start_time": "2021-12-19T06:11:25.729Z"
   },
   {
    "duration": 57,
    "start_time": "2021-12-19T06:11:25.739Z"
   },
   {
    "duration": 3,
    "start_time": "2021-12-19T06:11:25.798Z"
   },
   {
    "duration": 20,
    "start_time": "2021-12-19T06:11:25.802Z"
   },
   {
    "duration": 23,
    "start_time": "2021-12-19T06:11:25.824Z"
   },
   {
    "duration": 24,
    "start_time": "2021-12-19T06:11:25.848Z"
   },
   {
    "duration": 1,
    "start_time": "2021-12-19T06:11:25.874Z"
   },
   {
    "duration": 32,
    "start_time": "2021-12-19T06:11:25.877Z"
   },
   {
    "duration": 3,
    "start_time": "2021-12-19T06:11:25.911Z"
   },
   {
    "duration": 35,
    "start_time": "2021-12-19T06:11:25.915Z"
   },
   {
    "duration": 10,
    "start_time": "2021-12-19T06:11:25.951Z"
   },
   {
    "duration": 174,
    "start_time": "2021-12-19T06:11:25.962Z"
   },
   {
    "duration": 477,
    "start_time": "2021-12-19T06:11:26.138Z"
   },
   {
    "duration": 564,
    "start_time": "2021-12-19T06:11:26.617Z"
   },
   {
    "duration": 320,
    "start_time": "2021-12-19T06:11:27.188Z"
   },
   {
    "duration": 90,
    "start_time": "2021-12-19T06:20:43.308Z"
   },
   {
    "duration": 10,
    "start_time": "2021-12-19T06:20:43.400Z"
   },
   {
    "duration": 40,
    "start_time": "2021-12-19T06:20:43.412Z"
   },
   {
    "duration": 3,
    "start_time": "2021-12-19T06:20:43.454Z"
   },
   {
    "duration": 5,
    "start_time": "2021-12-19T06:20:43.459Z"
   },
   {
    "duration": 23,
    "start_time": "2021-12-19T06:20:43.465Z"
   },
   {
    "duration": 18,
    "start_time": "2021-12-19T06:20:43.490Z"
   },
   {
    "duration": 31,
    "start_time": "2021-12-19T06:20:43.510Z"
   },
   {
    "duration": 3,
    "start_time": "2021-12-19T06:20:43.543Z"
   },
   {
    "duration": 17,
    "start_time": "2021-12-19T06:20:43.548Z"
   },
   {
    "duration": 29,
    "start_time": "2021-12-19T06:20:43.566Z"
   },
   {
    "duration": 175,
    "start_time": "2021-12-19T06:20:43.596Z"
   },
   {
    "duration": 473,
    "start_time": "2021-12-19T06:20:43.773Z"
   },
   {
    "duration": 562,
    "start_time": "2021-12-19T06:20:44.247Z"
   },
   {
    "duration": 315,
    "start_time": "2021-12-19T06:20:44.811Z"
   },
   {
    "duration": 163,
    "start_time": "2021-12-19T06:42:30.162Z"
   },
   {
    "duration": 165,
    "start_time": "2021-12-19T06:42:45.882Z"
   },
   {
    "duration": 492,
    "start_time": "2021-12-19T06:53:02.763Z"
   },
   {
    "duration": 473,
    "start_time": "2021-12-19T06:53:26.867Z"
   },
   {
    "duration": 543,
    "start_time": "2021-12-19T06:53:52.724Z"
   },
   {
    "duration": 470,
    "start_time": "2021-12-19T06:54:21.908Z"
   },
   {
    "duration": 5,
    "start_time": "2021-12-19T07:12:40.316Z"
   },
   {
    "duration": 92,
    "start_time": "2021-12-19T07:13:20.817Z"
   },
   {
    "duration": 9,
    "start_time": "2021-12-19T07:13:20.911Z"
   },
   {
    "duration": 38,
    "start_time": "2021-12-19T07:13:20.922Z"
   },
   {
    "duration": 4,
    "start_time": "2021-12-19T07:13:20.961Z"
   },
   {
    "duration": 23,
    "start_time": "2021-12-19T07:13:20.967Z"
   },
   {
    "duration": 6,
    "start_time": "2021-12-19T07:13:20.991Z"
   },
   {
    "duration": 16,
    "start_time": "2021-12-19T07:13:20.998Z"
   },
   {
    "duration": 32,
    "start_time": "2021-12-19T07:13:21.016Z"
   },
   {
    "duration": 4,
    "start_time": "2021-12-19T07:13:21.050Z"
   },
   {
    "duration": 33,
    "start_time": "2021-12-19T07:13:21.055Z"
   },
   {
    "duration": 10,
    "start_time": "2021-12-19T07:13:21.090Z"
   },
   {
    "duration": 186,
    "start_time": "2021-12-19T07:13:21.101Z"
   },
   {
    "duration": 478,
    "start_time": "2021-12-19T07:13:21.289Z"
   },
   {
    "duration": 4,
    "start_time": "2021-12-19T07:13:21.769Z"
   },
   {
    "duration": 581,
    "start_time": "2021-12-19T07:13:21.774Z"
   },
   {
    "duration": 321,
    "start_time": "2021-12-19T07:13:22.356Z"
   },
   {
    "duration": 37,
    "start_time": "2021-12-19T07:13:22.679Z"
   },
   {
    "duration": 4,
    "start_time": "2021-12-19T07:13:43.743Z"
   },
   {
    "duration": 5,
    "start_time": "2021-12-19T07:13:47.241Z"
   },
   {
    "duration": 301,
    "start_time": "2021-12-19T07:22:51.511Z"
   },
   {
    "duration": 81,
    "start_time": "2021-12-19T07:23:14.437Z"
   },
   {
    "duration": 306,
    "start_time": "2021-12-19T07:23:23.791Z"
   },
   {
    "duration": 5,
    "start_time": "2021-12-19T07:24:32.347Z"
   },
   {
    "duration": 89,
    "start_time": "2021-12-19T07:24:35.259Z"
   },
   {
    "duration": 10,
    "start_time": "2021-12-19T07:24:35.349Z"
   },
   {
    "duration": 51,
    "start_time": "2021-12-19T07:24:35.360Z"
   },
   {
    "duration": 4,
    "start_time": "2021-12-19T07:24:35.413Z"
   },
   {
    "duration": 8,
    "start_time": "2021-12-19T07:24:35.419Z"
   },
   {
    "duration": 14,
    "start_time": "2021-12-19T07:24:35.428Z"
   },
   {
    "duration": 23,
    "start_time": "2021-12-19T07:24:35.443Z"
   },
   {
    "duration": 41,
    "start_time": "2021-12-19T07:24:35.469Z"
   },
   {
    "duration": 4,
    "start_time": "2021-12-19T07:24:35.512Z"
   },
   {
    "duration": 18,
    "start_time": "2021-12-19T07:24:35.517Z"
   },
   {
    "duration": 11,
    "start_time": "2021-12-19T07:24:35.537Z"
   },
   {
    "duration": 191,
    "start_time": "2021-12-19T07:24:35.549Z"
   },
   {
    "duration": 546,
    "start_time": "2021-12-19T07:24:35.741Z"
   },
   {
    "duration": 4,
    "start_time": "2021-12-19T07:24:36.289Z"
   },
   {
    "duration": 510,
    "start_time": "2021-12-19T07:24:36.294Z"
   },
   {
    "duration": 319,
    "start_time": "2021-12-19T07:24:36.806Z"
   },
   {
    "duration": 32,
    "start_time": "2021-12-19T07:24:37.127Z"
   },
   {
    "duration": 631,
    "start_time": "2021-12-19T07:25:44.899Z"
   },
   {
    "duration": 592,
    "start_time": "2021-12-19T07:25:57.753Z"
   },
   {
    "duration": 498,
    "start_time": "2021-12-19T07:26:09.917Z"
   },
   {
    "duration": 323,
    "start_time": "2021-12-19T10:30:28.678Z"
   },
   {
    "duration": 818,
    "start_time": "2021-12-19T10:30:39.261Z"
   },
   {
    "duration": 13,
    "start_time": "2021-12-19T10:30:40.082Z"
   },
   {
    "duration": 81,
    "start_time": "2021-12-19T10:30:40.098Z"
   },
   {
    "duration": 5,
    "start_time": "2021-12-19T10:30:40.181Z"
   },
   {
    "duration": 7,
    "start_time": "2021-12-19T10:30:40.188Z"
   },
   {
    "duration": 14,
    "start_time": "2021-12-19T10:30:40.197Z"
   },
   {
    "duration": 21,
    "start_time": "2021-12-19T10:30:40.213Z"
   },
   {
    "duration": 64,
    "start_time": "2021-12-19T10:30:40.237Z"
   },
   {
    "duration": 5,
    "start_time": "2021-12-19T10:30:40.303Z"
   },
   {
    "duration": 43,
    "start_time": "2021-12-19T10:30:40.309Z"
   },
   {
    "duration": 17,
    "start_time": "2021-12-19T10:30:40.354Z"
   },
   {
    "duration": 338,
    "start_time": "2021-12-19T10:30:40.373Z"
   },
   {
    "duration": 670,
    "start_time": "2021-12-19T10:30:40.713Z"
   },
   {
    "duration": 8,
    "start_time": "2021-12-19T10:30:41.385Z"
   },
   {
    "duration": 629,
    "start_time": "2021-12-19T10:30:41.395Z"
   },
   {
    "duration": 390,
    "start_time": "2021-12-19T10:30:42.027Z"
   },
   {
    "duration": 203,
    "start_time": "2021-12-19T10:30:42.420Z"
   },
   {
    "duration": 197,
    "start_time": "2021-12-19T10:31:28.921Z"
   },
   {
    "duration": 198,
    "start_time": "2021-12-19T10:32:37.010Z"
   },
   {
    "duration": 1576,
    "start_time": "2021-12-19T10:32:45.234Z"
   },
   {
    "duration": 183,
    "start_time": "2021-12-19T10:32:50.343Z"
   },
   {
    "duration": 249,
    "start_time": "2021-12-19T10:32:59.568Z"
   },
   {
    "duration": 185,
    "start_time": "2021-12-19T10:33:09.508Z"
   },
   {
    "duration": 8,
    "start_time": "2021-12-19T10:34:55.130Z"
   },
   {
    "duration": 113,
    "start_time": "2021-12-19T10:34:57.183Z"
   },
   {
    "duration": 12,
    "start_time": "2021-12-19T10:34:57.298Z"
   },
   {
    "duration": 74,
    "start_time": "2021-12-19T10:34:57.313Z"
   },
   {
    "duration": 6,
    "start_time": "2021-12-19T10:34:57.389Z"
   },
   {
    "duration": 5,
    "start_time": "2021-12-19T10:34:57.397Z"
   },
   {
    "duration": 4,
    "start_time": "2021-12-19T10:34:57.404Z"
   },
   {
    "duration": 19,
    "start_time": "2021-12-19T10:34:57.410Z"
   },
   {
    "duration": 73,
    "start_time": "2021-12-19T10:34:57.432Z"
   },
   {
    "duration": 4,
    "start_time": "2021-12-19T10:34:57.508Z"
   },
   {
    "duration": 18,
    "start_time": "2021-12-19T10:34:57.514Z"
   },
   {
    "duration": 45,
    "start_time": "2021-12-19T10:34:57.534Z"
   },
   {
    "duration": 298,
    "start_time": "2021-12-19T10:34:57.581Z"
   },
   {
    "duration": 804,
    "start_time": "2021-12-19T10:34:57.882Z"
   },
   {
    "duration": 5,
    "start_time": "2021-12-19T10:34:58.687Z"
   },
   {
    "duration": 849,
    "start_time": "2021-12-19T10:34:58.695Z"
   },
   {
    "duration": 566,
    "start_time": "2021-12-19T10:34:59.547Z"
   },
   {
    "duration": 417,
    "start_time": "2021-12-19T10:35:00.116Z"
   },
   {
    "duration": 186,
    "start_time": "2021-12-19T10:35:11.979Z"
   },
   {
    "duration": 276,
    "start_time": "2021-12-19T10:35:42.291Z"
   },
   {
    "duration": 280,
    "start_time": "2021-12-19T10:35:47.965Z"
   },
   {
    "duration": 91,
    "start_time": "2021-12-19T10:35:57.565Z"
   },
   {
    "duration": 184,
    "start_time": "2021-12-19T10:36:01.003Z"
   },
   {
    "duration": 127,
    "start_time": "2021-12-19T10:36:19.548Z"
   },
   {
    "duration": 13,
    "start_time": "2021-12-19T10:36:19.677Z"
   },
   {
    "duration": 83,
    "start_time": "2021-12-19T10:36:19.692Z"
   },
   {
    "duration": 5,
    "start_time": "2021-12-19T10:36:19.778Z"
   },
   {
    "duration": 8,
    "start_time": "2021-12-19T10:36:19.785Z"
   },
   {
    "duration": 4,
    "start_time": "2021-12-19T10:36:19.795Z"
   },
   {
    "duration": 27,
    "start_time": "2021-12-19T10:36:19.801Z"
   },
   {
    "duration": 74,
    "start_time": "2021-12-19T10:36:19.831Z"
   },
   {
    "duration": 4,
    "start_time": "2021-12-19T10:36:19.907Z"
   },
   {
    "duration": 18,
    "start_time": "2021-12-19T10:36:19.913Z"
   },
   {
    "duration": 40,
    "start_time": "2021-12-19T10:36:19.933Z"
   },
   {
    "duration": 231,
    "start_time": "2021-12-19T10:36:19.975Z"
   },
   {
    "duration": 618,
    "start_time": "2021-12-19T10:36:20.207Z"
   },
   {
    "duration": 5,
    "start_time": "2021-12-19T10:36:20.827Z"
   },
   {
    "duration": 651,
    "start_time": "2021-12-19T10:36:20.834Z"
   },
   {
    "duration": 634,
    "start_time": "2021-12-19T10:36:21.487Z"
   },
   {
    "duration": 301,
    "start_time": "2021-12-19T10:36:22.123Z"
   },
   {
    "duration": 186,
    "start_time": "2021-12-19T10:39:55.016Z"
   },
   {
    "duration": 183,
    "start_time": "2021-12-19T10:50:31.279Z"
   },
   {
    "duration": 186,
    "start_time": "2021-12-19T10:50:55.027Z"
   },
   {
    "duration": 185,
    "start_time": "2021-12-19T10:51:47.923Z"
   },
   {
    "duration": 206,
    "start_time": "2021-12-19T10:57:38.672Z"
   },
   {
    "duration": 535,
    "start_time": "2021-12-19T11:02:27.270Z"
   },
   {
    "duration": 205,
    "start_time": "2021-12-19T11:02:43.574Z"
   },
   {
    "duration": 84,
    "start_time": "2021-12-19T11:18:33.359Z"
   },
   {
    "duration": 271,
    "start_time": "2021-12-19T11:18:52.549Z"
   },
   {
    "duration": 267,
    "start_time": "2021-12-19T11:19:02.071Z"
   },
   {
    "duration": 312,
    "start_time": "2021-12-19T11:21:44.600Z"
   },
   {
    "duration": 272,
    "start_time": "2021-12-19T11:23:02.740Z"
   },
   {
    "duration": 272,
    "start_time": "2021-12-19T11:24:00.142Z"
   },
   {
    "duration": 287,
    "start_time": "2021-12-19T11:24:06.861Z"
   },
   {
    "duration": 180,
    "start_time": "2021-12-19T11:24:15.007Z"
   },
   {
    "duration": 126,
    "start_time": "2021-12-19T11:25:53.929Z"
   },
   {
    "duration": 10,
    "start_time": "2021-12-19T11:25:54.293Z"
   },
   {
    "duration": 55,
    "start_time": "2021-12-19T11:25:54.426Z"
   },
   {
    "duration": 7,
    "start_time": "2021-12-19T11:25:54.498Z"
   },
   {
    "duration": 6,
    "start_time": "2021-12-19T11:25:54.576Z"
   },
   {
    "duration": 7,
    "start_time": "2021-12-19T11:25:54.594Z"
   },
   {
    "duration": 24,
    "start_time": "2021-12-19T11:25:54.629Z"
   },
   {
    "duration": 49,
    "start_time": "2021-12-19T11:25:54.659Z"
   },
   {
    "duration": 3,
    "start_time": "2021-12-19T11:25:54.728Z"
   },
   {
    "duration": 28,
    "start_time": "2021-12-19T11:25:54.765Z"
   },
   {
    "duration": 22,
    "start_time": "2021-12-19T11:25:54.801Z"
   },
   {
    "duration": 245,
    "start_time": "2021-12-19T11:25:54.865Z"
   },
   {
    "duration": 537,
    "start_time": "2021-12-19T11:25:55.126Z"
   },
   {
    "duration": 6,
    "start_time": "2021-12-19T11:25:55.963Z"
   },
   {
    "duration": 857,
    "start_time": "2021-12-19T11:25:56.777Z"
   },
   {
    "duration": 548,
    "start_time": "2021-12-19T11:25:57.643Z"
   },
   {
    "duration": 205,
    "start_time": "2021-12-19T11:25:59.290Z"
   },
   {
    "duration": 259,
    "start_time": "2021-12-19T11:25:59.967Z"
   },
   {
    "duration": 2,
    "start_time": "2021-12-19T11:26:00.480Z"
   },
   {
    "duration": 203,
    "start_time": "2021-12-19T11:26:03.614Z"
   },
   {
    "duration": 8,
    "start_time": "2021-12-19T11:26:39.122Z"
   },
   {
    "duration": 6,
    "start_time": "2021-12-19T11:27:30.146Z"
   },
   {
    "duration": 221,
    "start_time": "2021-12-19T11:31:33.761Z"
   },
   {
    "duration": 174,
    "start_time": "2021-12-19T11:32:16.490Z"
   },
   {
    "duration": 11,
    "start_time": "2021-12-19T11:32:54.136Z"
   },
   {
    "duration": 411,
    "start_time": "2021-12-19T11:33:30.609Z"
   },
   {
    "duration": 180,
    "start_time": "2021-12-19T11:33:36.215Z"
   },
   {
    "duration": 171,
    "start_time": "2021-12-19T11:33:58.306Z"
   },
   {
    "duration": 224,
    "start_time": "2021-12-19T11:42:33.236Z"
   },
   {
    "duration": 173,
    "start_time": "2021-12-19T11:43:25.537Z"
   },
   {
    "duration": 289,
    "start_time": "2021-12-19T11:51:05.802Z"
   },
   {
    "duration": 235,
    "start_time": "2021-12-19T11:51:11.513Z"
   },
   {
    "duration": 237,
    "start_time": "2021-12-19T11:53:10.619Z"
   },
   {
    "duration": 180,
    "start_time": "2021-12-19T11:53:39.409Z"
   },
   {
    "duration": 304,
    "start_time": "2021-12-19T11:54:44.234Z"
   },
   {
    "duration": 301,
    "start_time": "2021-12-19T11:54:49.542Z"
   },
   {
    "duration": 199,
    "start_time": "2021-12-19T11:54:52.457Z"
   },
   {
    "duration": 178,
    "start_time": "2021-12-19T11:55:24.752Z"
   },
   {
    "duration": 188,
    "start_time": "2021-12-19T11:55:33.114Z"
   },
   {
    "duration": 172,
    "start_time": "2021-12-19T11:59:59.506Z"
   },
   {
    "duration": 160,
    "start_time": "2021-12-19T12:00:22.911Z"
   },
   {
    "duration": 171,
    "start_time": "2021-12-19T12:09:27.949Z"
   },
   {
    "duration": 239,
    "start_time": "2021-12-19T12:09:34.333Z"
   },
   {
    "duration": 263,
    "start_time": "2021-12-19T12:09:42.053Z"
   },
   {
    "duration": 168,
    "start_time": "2021-12-19T12:12:19.845Z"
   },
   {
    "duration": 531,
    "start_time": "2021-12-19T12:13:37.685Z"
   },
   {
    "duration": 181,
    "start_time": "2021-12-19T12:14:34.317Z"
   },
   {
    "duration": 175,
    "start_time": "2021-12-19T12:18:32.324Z"
   },
   {
    "duration": 191,
    "start_time": "2021-12-19T12:19:37.170Z"
   },
   {
    "duration": 500,
    "start_time": "2021-12-19T12:19:59.128Z"
   },
   {
    "duration": 179,
    "start_time": "2021-12-19T12:22:37.552Z"
   },
   {
    "duration": 668,
    "start_time": "2021-12-19T12:22:58.410Z"
   },
   {
    "duration": 529,
    "start_time": "2021-12-19T12:23:07.639Z"
   },
   {
    "duration": 198,
    "start_time": "2021-12-19T12:35:46.903Z"
   },
   {
    "duration": 683,
    "start_time": "2021-12-19T12:36:23.031Z"
   },
   {
    "duration": 12,
    "start_time": "2021-12-19T12:45:21.182Z"
   },
   {
    "duration": 40,
    "start_time": "2021-12-19T12:46:21.469Z"
   },
   {
    "duration": 12,
    "start_time": "2021-12-19T12:47:20.613Z"
   },
   {
    "duration": 278,
    "start_time": "2021-12-19T12:48:24.470Z"
   },
   {
    "duration": 38,
    "start_time": "2021-12-19T12:48:54.984Z"
   },
   {
    "duration": 6481,
    "start_time": "2021-12-19T13:21:09.033Z"
   },
   {
    "duration": 4,
    "start_time": "2021-12-19T13:24:09.730Z"
   },
   {
    "duration": 11,
    "start_time": "2021-12-19T13:24:25.483Z"
   },
   {
    "duration": 10,
    "start_time": "2021-12-19T13:24:54.308Z"
   },
   {
    "duration": 12,
    "start_time": "2021-12-19T13:25:39.559Z"
   },
   {
    "duration": 18,
    "start_time": "2021-12-19T13:27:25.380Z"
   },
   {
    "duration": 16,
    "start_time": "2021-12-19T13:27:38.924Z"
   },
   {
    "duration": 12,
    "start_time": "2021-12-19T13:28:07.209Z"
   },
   {
    "duration": 13,
    "start_time": "2021-12-19T13:28:38.001Z"
   },
   {
    "duration": 22,
    "start_time": "2021-12-19T13:28:47.955Z"
   },
   {
    "duration": 13,
    "start_time": "2021-12-19T13:28:55.202Z"
   },
   {
    "duration": 41,
    "start_time": "2021-12-19T13:49:15.510Z"
   },
   {
    "duration": 37,
    "start_time": "2021-12-19T14:17:51.220Z"
   },
   {
    "duration": 268,
    "start_time": "2021-12-19T14:21:36.163Z"
   },
   {
    "duration": 276,
    "start_time": "2021-12-19T14:21:50.109Z"
   },
   {
    "duration": 600,
    "start_time": "2021-12-19T14:22:13.756Z"
   },
   {
    "duration": 241,
    "start_time": "2021-12-19T14:23:31.563Z"
   },
   {
    "duration": 244,
    "start_time": "2021-12-19T14:30:45.894Z"
   },
   {
    "duration": 154,
    "start_time": "2021-12-19T14:35:25.068Z"
   },
   {
    "duration": -1643,
    "start_time": "2021-12-19T14:46:16.081Z"
   },
   {
    "duration": 8,
    "start_time": "2021-12-19T14:46:15.591Z"
   },
   {
    "duration": 8,
    "start_time": "2021-12-19T14:46:23.980Z"
   },
   {
    "duration": 19,
    "start_time": "2021-12-19T14:56:19.606Z"
   },
   {
    "duration": 51,
    "start_time": "2021-12-19T14:56:31.283Z"
   },
   {
    "duration": 21,
    "start_time": "2021-12-19T14:56:50.336Z"
   },
   {
    "duration": 284,
    "start_time": "2021-12-19T15:06:30.296Z"
   },
   {
    "duration": 17,
    "start_time": "2021-12-19T15:06:36.362Z"
   },
   {
    "duration": 14,
    "start_time": "2021-12-19T15:06:47.476Z"
   },
   {
    "duration": 16,
    "start_time": "2021-12-19T15:08:07.112Z"
   },
   {
    "duration": 15,
    "start_time": "2021-12-19T15:09:03.987Z"
   },
   {
    "duration": 9,
    "start_time": "2021-12-19T15:19:19.606Z"
   },
   {
    "duration": 22,
    "start_time": "2021-12-19T15:19:33.942Z"
   },
   {
    "duration": 41,
    "start_time": "2021-12-19T15:24:30.492Z"
   },
   {
    "duration": 13,
    "start_time": "2021-12-19T15:24:42.416Z"
   },
   {
    "duration": 10,
    "start_time": "2021-12-19T15:34:39.753Z"
   },
   {
    "duration": 469,
    "start_time": "2021-12-19T15:38:43.414Z"
   },
   {
    "duration": 10,
    "start_time": "2021-12-19T15:38:56.078Z"
   },
   {
    "duration": 315,
    "start_time": "2021-12-19T15:38:57.908Z"
   },
   {
    "duration": 923,
    "start_time": "2021-12-19T15:39:13.244Z"
   },
   {
    "duration": 284,
    "start_time": "2021-12-19T15:39:27.836Z"
   },
   {
    "duration": 15,
    "start_time": "2021-12-19T15:39:45.347Z"
   },
   {
    "duration": 295,
    "start_time": "2021-12-19T15:39:58.073Z"
   },
   {
    "duration": 15,
    "start_time": "2021-12-19T15:40:19.366Z"
   },
   {
    "duration": 90,
    "start_time": "2021-12-19T15:40:50.281Z"
   },
   {
    "duration": 11,
    "start_time": "2021-12-19T15:41:18.897Z"
   },
   {
    "duration": 16,
    "start_time": "2021-12-19T15:41:20.911Z"
   },
   {
    "duration": 14,
    "start_time": "2021-12-19T15:41:30.006Z"
   },
   {
    "duration": 10,
    "start_time": "2021-12-19T15:44:22.681Z"
   },
   {
    "duration": 176,
    "start_time": "2021-12-19T15:44:51.057Z"
   },
   {
    "duration": 178,
    "start_time": "2021-12-19T15:47:49.147Z"
   },
   {
    "duration": 473,
    "start_time": "2021-12-19T15:54:52.094Z"
   },
   {
    "duration": 278,
    "start_time": "2021-12-19T15:55:05.733Z"
   },
   {
    "duration": 179,
    "start_time": "2021-12-19T15:55:17.997Z"
   },
   {
    "duration": 9,
    "start_time": "2021-12-19T15:56:13.052Z"
   },
   {
    "duration": 4,
    "start_time": "2021-12-19T16:01:42.135Z"
   },
   {
    "duration": 17,
    "start_time": "2021-12-19T16:02:24.821Z"
   },
   {
    "duration": 93,
    "start_time": "2021-12-19T16:04:56.658Z"
   },
   {
    "duration": 7,
    "start_time": "2021-12-19T16:05:16.571Z"
   },
   {
    "duration": 9,
    "start_time": "2021-12-19T16:06:03.443Z"
   },
   {
    "duration": 7,
    "start_time": "2021-12-19T16:07:30.614Z"
   },
   {
    "duration": 7,
    "start_time": "2021-12-19T16:08:37.848Z"
   },
   {
    "duration": 2015,
    "start_time": "2021-12-20T06:57:21.121Z"
   },
   {
    "duration": 224,
    "start_time": "2021-12-20T08:27:42.253Z"
   },
   {
    "duration": 23,
    "start_time": "2021-12-20T08:27:42.480Z"
   },
   {
    "duration": 81,
    "start_time": "2021-12-20T08:27:42.506Z"
   },
   {
    "duration": 8,
    "start_time": "2021-12-20T08:27:42.649Z"
   },
   {
    "duration": 9,
    "start_time": "2021-12-20T08:27:42.821Z"
   },
   {
    "duration": 45,
    "start_time": "2021-12-20T08:27:42.833Z"
   },
   {
    "duration": 96,
    "start_time": "2021-12-20T08:27:42.881Z"
   },
   {
    "duration": 6,
    "start_time": "2021-12-20T08:27:42.980Z"
   },
   {
    "duration": 108,
    "start_time": "2021-12-20T08:27:42.989Z"
   },
   {
    "duration": 17,
    "start_time": "2021-12-20T08:27:43.100Z"
   },
   {
    "duration": 472,
    "start_time": "2021-12-20T08:27:43.119Z"
   },
   {
    "duration": 991,
    "start_time": "2021-12-20T08:27:43.595Z"
   },
   {
    "duration": 6,
    "start_time": "2021-12-20T08:27:44.590Z"
   },
   {
    "duration": 1074,
    "start_time": "2021-12-20T08:27:44.598Z"
   },
   {
    "duration": 809,
    "start_time": "2021-12-20T08:27:45.674Z"
   },
   {
    "duration": 511,
    "start_time": "2021-12-20T08:27:46.487Z"
   },
   {
    "duration": 512,
    "start_time": "2021-12-20T08:27:47.001Z"
   },
   {
    "duration": 332,
    "start_time": "2021-12-20T08:27:47.522Z"
   },
   {
    "duration": 669,
    "start_time": "2021-12-20T08:27:47.858Z"
   },
   {
    "duration": 983,
    "start_time": "2021-12-20T08:27:48.530Z"
   },
   {
    "duration": 905,
    "start_time": "2021-12-20T08:27:49.517Z"
   },
   {
    "duration": 1081,
    "start_time": "2021-12-20T08:27:50.425Z"
   },
   {
    "duration": 380,
    "start_time": "2021-12-20T08:27:51.509Z"
   },
   {
    "duration": 389,
    "start_time": "2021-12-20T08:27:51.893Z"
   },
   {
    "duration": 385,
    "start_time": "2021-12-20T08:27:52.285Z"
   },
   {
    "duration": 16,
    "start_time": "2021-12-20T08:27:52.674Z"
   },
   {
    "duration": 64,
    "start_time": "2021-12-20T08:27:52.700Z"
   },
   {
    "duration": 23,
    "start_time": "2021-12-20T08:27:52.768Z"
   },
   {
    "duration": 50,
    "start_time": "2021-12-20T08:27:52.793Z"
   },
   {
    "duration": 21,
    "start_time": "2021-12-20T08:27:52.847Z"
   },
   {
    "duration": 58,
    "start_time": "2021-12-20T08:27:52.872Z"
   },
   {
    "duration": 15,
    "start_time": "2021-12-20T08:27:52.933Z"
   },
   {
    "duration": 391,
    "start_time": "2021-12-20T08:27:52.953Z"
   },
   {
    "duration": 16,
    "start_time": "2021-12-20T08:27:53.347Z"
   },
   {
    "duration": 10,
    "start_time": "2021-12-20T08:27:53.367Z"
   },
   {
    "duration": 50,
    "start_time": "2021-12-20T08:27:53.380Z"
   },
   {
    "duration": 32,
    "start_time": "2021-12-20T08:28:24.803Z"
   },
   {
    "duration": 20,
    "start_time": "2021-12-20T08:30:53.881Z"
   },
   {
    "duration": 138,
    "start_time": "2021-12-20T10:04:13.953Z"
   },
   {
    "duration": 38,
    "start_time": "2021-12-20T10:04:14.094Z"
   },
   {
    "duration": 81,
    "start_time": "2021-12-20T10:04:14.135Z"
   },
   {
    "duration": 9,
    "start_time": "2021-12-20T10:04:14.219Z"
   },
   {
    "duration": 41,
    "start_time": "2021-12-20T10:04:14.230Z"
   },
   {
    "duration": 64,
    "start_time": "2021-12-20T10:04:14.274Z"
   },
   {
    "duration": 60,
    "start_time": "2021-12-20T10:04:14.341Z"
   },
   {
    "duration": 13,
    "start_time": "2021-12-20T10:04:14.405Z"
   },
   {
    "duration": 58,
    "start_time": "2021-12-20T10:04:14.421Z"
   },
   {
    "duration": 36,
    "start_time": "2021-12-20T10:04:14.481Z"
   },
   {
    "duration": 322,
    "start_time": "2021-12-20T10:04:14.519Z"
   },
   {
    "duration": 859,
    "start_time": "2021-12-20T10:04:14.844Z"
   },
   {
    "duration": 19,
    "start_time": "2021-12-20T10:04:15.707Z"
   },
   {
    "duration": 1027,
    "start_time": "2021-12-20T10:04:15.729Z"
   },
   {
    "duration": 558,
    "start_time": "2021-12-20T10:04:16.759Z"
   },
   {
    "duration": 305,
    "start_time": "2021-12-20T10:04:17.323Z"
   },
   {
    "duration": 321,
    "start_time": "2021-12-20T10:04:17.631Z"
   },
   {
    "duration": 290,
    "start_time": "2021-12-20T10:04:17.955Z"
   },
   {
    "duration": 539,
    "start_time": "2021-12-20T10:04:18.247Z"
   },
   {
    "duration": 782,
    "start_time": "2021-12-20T10:04:18.788Z"
   },
   {
    "duration": 872,
    "start_time": "2021-12-20T10:04:19.573Z"
   },
   {
    "duration": 901,
    "start_time": "2021-12-20T10:04:20.447Z"
   },
   {
    "duration": 284,
    "start_time": "2021-12-20T10:04:21.355Z"
   },
   {
    "duration": 286,
    "start_time": "2021-12-20T10:04:21.642Z"
   },
   {
    "duration": 281,
    "start_time": "2021-12-20T10:04:21.931Z"
   },
   {
    "duration": 15,
    "start_time": "2021-12-20T10:04:22.214Z"
   },
   {
    "duration": 68,
    "start_time": "2021-12-20T10:04:22.231Z"
   },
   {
    "duration": 30,
    "start_time": "2021-12-20T10:04:22.301Z"
   },
   {
    "duration": 67,
    "start_time": "2021-12-20T10:04:22.334Z"
   },
   {
    "duration": 26,
    "start_time": "2021-12-20T10:04:22.404Z"
   },
   {
    "duration": 41,
    "start_time": "2021-12-20T10:04:22.432Z"
   },
   {
    "duration": 12,
    "start_time": "2021-12-20T10:04:22.476Z"
   },
   {
    "duration": 312,
    "start_time": "2021-12-20T10:04:22.490Z"
   },
   {
    "duration": 19,
    "start_time": "2021-12-20T10:04:22.804Z"
   },
   {
    "duration": 16,
    "start_time": "2021-12-20T10:04:22.825Z"
   },
   {
    "duration": 36,
    "start_time": "2021-12-20T10:04:22.843Z"
   },
   {
    "duration": 297,
    "start_time": "2021-12-20T10:10:07.764Z"
   },
   {
    "duration": 273,
    "start_time": "2021-12-20T10:10:39.198Z"
   },
   {
    "duration": 274,
    "start_time": "2021-12-20T10:10:50.400Z"
   },
   {
    "duration": 314,
    "start_time": "2021-12-20T10:11:44.730Z"
   },
   {
    "duration": 893,
    "start_time": "2021-12-20T10:11:51.722Z"
   },
   {
    "duration": 106,
    "start_time": "2021-12-20T10:14:37.147Z"
   },
   {
    "duration": 100,
    "start_time": "2021-12-20T10:15:16.894Z"
   },
   {
    "duration": 97,
    "start_time": "2021-12-20T10:15:48.005Z"
   },
   {
    "duration": 28,
    "start_time": "2021-12-20T10:15:56.245Z"
   },
   {
    "duration": 26,
    "start_time": "2021-12-20T10:16:41.868Z"
   },
   {
    "duration": 6,
    "start_time": "2021-12-20T11:01:45.961Z"
   },
   {
    "duration": 14,
    "start_time": "2021-12-20T11:02:57.997Z"
   },
   {
    "duration": 14,
    "start_time": "2021-12-20T11:03:14.078Z"
   },
   {
    "duration": 27,
    "start_time": "2021-12-20T11:03:27.910Z"
   },
   {
    "duration": 38,
    "start_time": "2021-12-20T11:04:41.365Z"
   },
   {
    "duration": 37,
    "start_time": "2021-12-20T11:05:51.573Z"
   },
   {
    "duration": 10,
    "start_time": "2021-12-20T11:05:55.699Z"
   },
   {
    "duration": 46,
    "start_time": "2021-12-20T11:06:01.827Z"
   },
   {
    "duration": 49,
    "start_time": "2021-12-20T11:06:39.003Z"
   },
   {
    "duration": 35,
    "start_time": "2021-12-20T11:06:49.835Z"
   },
   {
    "duration": 385,
    "start_time": "2021-12-20T11:09:59.075Z"
   },
   {
    "duration": 1550,
    "start_time": "2021-12-20T11:10:35.464Z"
   },
   {
    "duration": 18,
    "start_time": "2021-12-20T11:11:24.479Z"
   },
   {
    "duration": 20,
    "start_time": "2021-12-20T11:12:18.766Z"
   },
   {
    "duration": 25,
    "start_time": "2021-12-20T11:25:31.084Z"
   },
   {
    "duration": 32,
    "start_time": "2021-12-20T11:34:27.418Z"
   },
   {
    "duration": 18,
    "start_time": "2021-12-20T12:27:16.477Z"
   },
   {
    "duration": 939,
    "start_time": "2021-12-20T12:31:43.720Z"
   },
   {
    "duration": 894,
    "start_time": "2021-12-21T06:41:30.668Z"
   },
   {
    "duration": 15,
    "start_time": "2021-12-21T06:41:31.565Z"
   },
   {
    "duration": 102,
    "start_time": "2021-12-21T06:41:31.583Z"
   },
   {
    "duration": 6,
    "start_time": "2021-12-21T06:41:31.687Z"
   },
   {
    "duration": 7,
    "start_time": "2021-12-21T06:41:31.695Z"
   },
   {
    "duration": 23,
    "start_time": "2021-12-21T06:41:31.704Z"
   },
   {
    "duration": 54,
    "start_time": "2021-12-21T06:41:31.762Z"
   },
   {
    "duration": 4,
    "start_time": "2021-12-21T06:41:31.819Z"
   },
   {
    "duration": 52,
    "start_time": "2021-12-21T06:41:31.827Z"
   },
   {
    "duration": 16,
    "start_time": "2021-12-21T06:41:31.882Z"
   },
   {
    "duration": 450,
    "start_time": "2021-12-21T06:41:31.900Z"
   },
   {
    "duration": 930,
    "start_time": "2021-12-21T06:41:32.352Z"
   },
   {
    "duration": 6,
    "start_time": "2021-12-21T06:41:33.284Z"
   },
   {
    "duration": 1112,
    "start_time": "2021-12-21T06:41:33.292Z"
   },
   {
    "duration": 591,
    "start_time": "2021-12-21T06:41:34.406Z"
   },
   {
    "duration": 314,
    "start_time": "2021-12-21T06:41:35.000Z"
   },
   {
    "duration": 349,
    "start_time": "2021-12-21T06:41:35.316Z"
   },
   {
    "duration": 290,
    "start_time": "2021-12-21T06:41:35.667Z"
   },
   {
    "duration": 562,
    "start_time": "2021-12-21T06:41:35.963Z"
   },
   {
    "duration": 964,
    "start_time": "2021-12-21T06:41:36.528Z"
   },
   {
    "duration": 831,
    "start_time": "2021-12-21T06:41:37.494Z"
   },
   {
    "duration": 924,
    "start_time": "2021-12-21T06:41:38.327Z"
   },
   {
    "duration": 344,
    "start_time": "2021-12-21T06:41:39.254Z"
   },
   {
    "duration": 562,
    "start_time": "2021-12-21T06:41:39.600Z"
   },
   {
    "duration": 411,
    "start_time": "2021-12-21T06:41:40.165Z"
   },
   {
    "duration": 10,
    "start_time": "2021-12-21T06:41:40.578Z"
   },
   {
    "duration": 79,
    "start_time": "2021-12-21T06:41:40.593Z"
   },
   {
    "duration": 21,
    "start_time": "2021-12-21T06:41:40.674Z"
   },
   {
    "duration": 18,
    "start_time": "2021-12-21T06:41:40.697Z"
   },
   {
    "duration": 19,
    "start_time": "2021-12-21T06:41:40.762Z"
   },
   {
    "duration": 83,
    "start_time": "2021-12-21T06:41:40.783Z"
   },
   {
    "duration": 18,
    "start_time": "2021-12-21T06:41:40.869Z"
   },
   {
    "duration": 357,
    "start_time": "2021-12-21T06:41:40.890Z"
   },
   {
    "duration": 15,
    "start_time": "2021-12-21T06:41:41.249Z"
   },
   {
    "duration": 9,
    "start_time": "2021-12-21T06:41:41.266Z"
   },
   {
    "duration": 10,
    "start_time": "2021-12-21T06:41:41.278Z"
   },
   {
    "duration": 906,
    "start_time": "2021-12-25T08:34:12.788Z"
   },
   {
    "duration": 17,
    "start_time": "2021-12-25T08:34:13.697Z"
   },
   {
    "duration": 94,
    "start_time": "2021-12-25T08:34:13.717Z"
   },
   {
    "duration": 7,
    "start_time": "2021-12-25T08:34:13.813Z"
   },
   {
    "duration": 8,
    "start_time": "2021-12-25T08:34:13.822Z"
   },
   {
    "duration": 51,
    "start_time": "2021-12-25T08:34:13.833Z"
   },
   {
    "duration": 52,
    "start_time": "2021-12-25T08:34:13.887Z"
   },
   {
    "duration": 27,
    "start_time": "2021-12-25T08:34:13.942Z"
   },
   {
    "duration": 31,
    "start_time": "2021-12-25T08:34:13.972Z"
   },
   {
    "duration": 19,
    "start_time": "2021-12-25T08:34:14.005Z"
   },
   {
    "duration": 461,
    "start_time": "2021-12-25T08:34:14.027Z"
   },
   {
    "duration": 1056,
    "start_time": "2021-12-25T08:34:14.491Z"
   },
   {
    "duration": 6,
    "start_time": "2021-12-25T08:34:15.549Z"
   },
   {
    "duration": 970,
    "start_time": "2021-12-25T08:34:15.568Z"
   },
   {
    "duration": 604,
    "start_time": "2021-12-25T08:34:16.540Z"
   },
   {
    "duration": 373,
    "start_time": "2021-12-25T08:34:17.146Z"
   },
   {
    "duration": -4855,
    "start_time": "2021-12-25T08:34:22.378Z"
   },
   {
    "duration": -4867,
    "start_time": "2021-12-25T08:34:22.391Z"
   },
   {
    "duration": -4871,
    "start_time": "2021-12-25T08:34:22.397Z"
   },
   {
    "duration": -4873,
    "start_time": "2021-12-25T08:34:22.401Z"
   },
   {
    "duration": -4873,
    "start_time": "2021-12-25T08:34:22.404Z"
   },
   {
    "duration": -4874,
    "start_time": "2021-12-25T08:34:22.407Z"
   },
   {
    "duration": -4881,
    "start_time": "2021-12-25T08:34:22.416Z"
   },
   {
    "duration": -4882,
    "start_time": "2021-12-25T08:34:22.419Z"
   },
   {
    "duration": -4883,
    "start_time": "2021-12-25T08:34:22.422Z"
   },
   {
    "duration": -4884,
    "start_time": "2021-12-25T08:34:22.425Z"
   },
   {
    "duration": -4885,
    "start_time": "2021-12-25T08:34:22.428Z"
   },
   {
    "duration": -4886,
    "start_time": "2021-12-25T08:34:22.431Z"
   },
   {
    "duration": -4887,
    "start_time": "2021-12-25T08:34:22.434Z"
   },
   {
    "duration": -4887,
    "start_time": "2021-12-25T08:34:22.436Z"
   },
   {
    "duration": -4888,
    "start_time": "2021-12-25T08:34:22.439Z"
   },
   {
    "duration": -4888,
    "start_time": "2021-12-25T08:34:22.441Z"
   },
   {
    "duration": -4889,
    "start_time": "2021-12-25T08:34:22.444Z"
   },
   {
    "duration": -4897,
    "start_time": "2021-12-25T08:34:22.454Z"
   },
   {
    "duration": -4889,
    "start_time": "2021-12-25T08:34:22.456Z"
   },
   {
    "duration": -4889,
    "start_time": "2021-12-25T08:34:22.458Z"
   },
   {
    "duration": -4888,
    "start_time": "2021-12-25T08:34:22.460Z"
   },
   {
    "duration": 152,
    "start_time": "2021-12-25T08:34:29.317Z"
   },
   {
    "duration": 16,
    "start_time": "2021-12-25T08:34:29.472Z"
   },
   {
    "duration": 92,
    "start_time": "2021-12-25T08:34:29.491Z"
   },
   {
    "duration": 6,
    "start_time": "2021-12-25T08:34:29.587Z"
   },
   {
    "duration": 7,
    "start_time": "2021-12-25T08:34:29.595Z"
   },
   {
    "duration": 29,
    "start_time": "2021-12-25T08:34:29.604Z"
   },
   {
    "duration": 85,
    "start_time": "2021-12-25T08:34:29.636Z"
   },
   {
    "duration": 5,
    "start_time": "2021-12-25T08:34:29.724Z"
   },
   {
    "duration": 45,
    "start_time": "2021-12-25T08:34:29.734Z"
   },
   {
    "duration": 18,
    "start_time": "2021-12-25T08:34:29.782Z"
   },
   {
    "duration": 365,
    "start_time": "2021-12-25T08:34:29.802Z"
   },
   {
    "duration": 921,
    "start_time": "2021-12-25T08:34:30.170Z"
   },
   {
    "duration": 6,
    "start_time": "2021-12-25T08:34:31.093Z"
   },
   {
    "duration": 1040,
    "start_time": "2021-12-25T08:34:31.101Z"
   },
   {
    "duration": 610,
    "start_time": "2021-12-25T08:34:32.144Z"
   },
   {
    "duration": 270,
    "start_time": "2021-12-25T08:34:32.757Z"
   },
   {
    "duration": -4835,
    "start_time": "2021-12-25T08:34:37.865Z"
   },
   {
    "duration": -4843,
    "start_time": "2021-12-25T08:34:37.874Z"
   },
   {
    "duration": -4847,
    "start_time": "2021-12-25T08:34:37.879Z"
   },
   {
    "duration": -4852,
    "start_time": "2021-12-25T08:34:37.886Z"
   },
   {
    "duration": -4855,
    "start_time": "2021-12-25T08:34:37.890Z"
   },
   {
    "duration": -4856,
    "start_time": "2021-12-25T08:34:37.892Z"
   },
   {
    "duration": -4864,
    "start_time": "2021-12-25T08:34:37.902Z"
   },
   {
    "duration": -4871,
    "start_time": "2021-12-25T08:34:37.910Z"
   },
   {
    "duration": -4873,
    "start_time": "2021-12-25T08:34:37.913Z"
   },
   {
    "duration": -4875,
    "start_time": "2021-12-25T08:34:37.916Z"
   },
   {
    "duration": -4878,
    "start_time": "2021-12-25T08:34:37.920Z"
   },
   {
    "duration": -4879,
    "start_time": "2021-12-25T08:34:37.923Z"
   },
   {
    "duration": -4881,
    "start_time": "2021-12-25T08:34:37.926Z"
   },
   {
    "duration": -4883,
    "start_time": "2021-12-25T08:34:37.929Z"
   },
   {
    "duration": -4884,
    "start_time": "2021-12-25T08:34:37.931Z"
   },
   {
    "duration": -4884,
    "start_time": "2021-12-25T08:34:37.933Z"
   },
   {
    "duration": -4885,
    "start_time": "2021-12-25T08:34:37.935Z"
   },
   {
    "duration": -4887,
    "start_time": "2021-12-25T08:34:37.938Z"
   },
   {
    "duration": -4892,
    "start_time": "2021-12-25T08:34:37.944Z"
   },
   {
    "duration": -4893,
    "start_time": "2021-12-25T08:34:37.947Z"
   },
   {
    "duration": -4894,
    "start_time": "2021-12-25T08:34:37.949Z"
   },
   {
    "duration": 287,
    "start_time": "2021-12-25T08:36:13.507Z"
   },
   {
    "duration": 308,
    "start_time": "2021-12-25T08:36:23.985Z"
   },
   {
    "duration": 558,
    "start_time": "2021-12-25T08:36:30.745Z"
   },
   {
    "duration": 1409,
    "start_time": "2021-12-25T08:36:40.634Z"
   },
   {
    "duration": 287,
    "start_time": "2021-12-25T08:39:31.697Z"
   },
   {
    "duration": -4876,
    "start_time": "2021-12-25T08:42:37.126Z"
   },
   {
    "duration": 146,
    "start_time": "2021-12-25T08:42:33.002Z"
   },
   {
    "duration": 29,
    "start_time": "2021-12-25T08:42:33.150Z"
   },
   {
    "duration": 90,
    "start_time": "2021-12-25T08:42:33.183Z"
   },
   {
    "duration": 6,
    "start_time": "2021-12-25T08:42:33.276Z"
   },
   {
    "duration": 10,
    "start_time": "2021-12-25T08:42:33.284Z"
   },
   {
    "duration": 26,
    "start_time": "2021-12-25T08:42:33.296Z"
   },
   {
    "duration": 81,
    "start_time": "2021-12-25T08:42:33.325Z"
   },
   {
    "duration": 6,
    "start_time": "2021-12-25T08:42:33.409Z"
   },
   {
    "duration": 25,
    "start_time": "2021-12-25T08:42:33.418Z"
   },
   {
    "duration": 17,
    "start_time": "2021-12-25T08:42:33.467Z"
   },
   {
    "duration": 351,
    "start_time": "2021-12-25T08:42:33.487Z"
   },
   {
    "duration": 989,
    "start_time": "2021-12-25T08:42:33.840Z"
   },
   {
    "duration": 6,
    "start_time": "2021-12-25T08:42:34.831Z"
   },
   {
    "duration": 1076,
    "start_time": "2021-12-25T08:42:34.839Z"
   },
   {
    "duration": 616,
    "start_time": "2021-12-25T08:42:35.918Z"
   },
   {
    "duration": 7124,
    "start_time": "2021-12-25T08:42:36.536Z"
   },
   {
    "duration": -4880,
    "start_time": "2021-12-25T08:42:48.544Z"
   },
   {
    "duration": -4881,
    "start_time": "2021-12-25T08:42:48.547Z"
   },
   {
    "duration": -4884,
    "start_time": "2021-12-25T08:42:48.551Z"
   },
   {
    "duration": -4886,
    "start_time": "2021-12-25T08:42:48.554Z"
   },
   {
    "duration": -4887,
    "start_time": "2021-12-25T08:42:48.557Z"
   },
   {
    "duration": -4888,
    "start_time": "2021-12-25T08:42:48.559Z"
   },
   {
    "duration": -4889,
    "start_time": "2021-12-25T08:42:48.562Z"
   },
   {
    "duration": -4890,
    "start_time": "2021-12-25T08:42:48.564Z"
   },
   {
    "duration": -4891,
    "start_time": "2021-12-25T08:42:48.566Z"
   },
   {
    "duration": -4891,
    "start_time": "2021-12-25T08:42:48.568Z"
   },
   {
    "duration": -4892,
    "start_time": "2021-12-25T08:42:48.570Z"
   },
   {
    "duration": -4893,
    "start_time": "2021-12-25T08:42:48.572Z"
   },
   {
    "duration": -4894,
    "start_time": "2021-12-25T08:42:48.574Z"
   },
   {
    "duration": -4894,
    "start_time": "2021-12-25T08:42:48.576Z"
   },
   {
    "duration": -4895,
    "start_time": "2021-12-25T08:42:48.578Z"
   },
   {
    "duration": -4900,
    "start_time": "2021-12-25T08:42:48.584Z"
   },
   {
    "duration": -4903,
    "start_time": "2021-12-25T08:42:48.588Z"
   },
   {
    "duration": -4903,
    "start_time": "2021-12-25T08:42:48.590Z"
   },
   {
    "duration": -4904,
    "start_time": "2021-12-25T08:42:48.592Z"
   },
   {
    "duration": -4904,
    "start_time": "2021-12-25T08:42:48.594Z"
   },
   {
    "duration": -4905,
    "start_time": "2021-12-25T08:42:48.596Z"
   },
   {
    "duration": 441,
    "start_time": "2021-12-25T08:43:21.872Z"
   },
   {
    "duration": 298,
    "start_time": "2021-12-25T08:43:28.184Z"
   },
   {
    "duration": 347,
    "start_time": "2021-12-25T08:44:44.604Z"
   },
   {
    "duration": 264,
    "start_time": "2021-12-25T08:45:16.614Z"
   },
   {
    "duration": 173,
    "start_time": "2021-12-25T08:45:59.857Z"
   },
   {
    "duration": 15,
    "start_time": "2021-12-25T08:46:00.033Z"
   },
   {
    "duration": 73,
    "start_time": "2021-12-25T08:46:00.067Z"
   },
   {
    "duration": 25,
    "start_time": "2021-12-25T08:46:00.144Z"
   },
   {
    "duration": 8,
    "start_time": "2021-12-25T08:46:00.172Z"
   },
   {
    "duration": 27,
    "start_time": "2021-12-25T08:46:00.183Z"
   },
   {
    "duration": 91,
    "start_time": "2021-12-25T08:46:00.213Z"
   },
   {
    "duration": 6,
    "start_time": "2021-12-25T08:46:00.306Z"
   },
   {
    "duration": 31,
    "start_time": "2021-12-25T08:46:00.316Z"
   },
   {
    "duration": 16,
    "start_time": "2021-12-25T08:46:00.368Z"
   },
   {
    "duration": 358,
    "start_time": "2021-12-25T08:46:00.387Z"
   },
   {
    "duration": 996,
    "start_time": "2021-12-25T08:46:00.747Z"
   },
   {
    "duration": 23,
    "start_time": "2021-12-25T08:46:01.746Z"
   },
   {
    "duration": 985,
    "start_time": "2021-12-25T08:46:01.772Z"
   },
   {
    "duration": 624,
    "start_time": "2021-12-25T08:46:02.760Z"
   },
   {
    "duration": 3,
    "start_time": "2021-12-25T08:46:03.386Z"
   },
   {
    "duration": 335,
    "start_time": "2021-12-25T08:46:03.392Z"
   },
   {
    "duration": 353,
    "start_time": "2021-12-25T08:46:03.730Z"
   },
   {
    "duration": 308,
    "start_time": "2021-12-25T08:46:04.085Z"
   },
   {
    "duration": 582,
    "start_time": "2021-12-25T08:46:04.396Z"
   },
   {
    "duration": 927,
    "start_time": "2021-12-25T08:46:04.981Z"
   },
   {
    "duration": 819,
    "start_time": "2021-12-25T08:46:05.910Z"
   },
   {
    "duration": 890,
    "start_time": "2021-12-25T08:46:06.731Z"
   },
   {
    "duration": 292,
    "start_time": "2021-12-25T08:46:07.623Z"
   },
   {
    "duration": 296,
    "start_time": "2021-12-25T08:46:07.917Z"
   },
   {
    "duration": 296,
    "start_time": "2021-12-25T08:46:08.216Z"
   },
   {
    "duration": 15,
    "start_time": "2021-12-25T08:46:08.519Z"
   },
   {
    "duration": 46,
    "start_time": "2021-12-25T08:46:08.536Z"
   },
   {
    "duration": 20,
    "start_time": "2021-12-25T08:46:08.585Z"
   },
   {
    "duration": 19,
    "start_time": "2021-12-25T08:46:08.608Z"
   },
   {
    "duration": 50,
    "start_time": "2021-12-25T08:46:08.630Z"
   },
   {
    "duration": 28,
    "start_time": "2021-12-25T08:46:08.682Z"
   },
   {
    "duration": 12,
    "start_time": "2021-12-25T08:46:08.713Z"
   },
   {
    "duration": 343,
    "start_time": "2021-12-25T08:46:08.727Z"
   },
   {
    "duration": 11,
    "start_time": "2021-12-25T08:46:09.072Z"
   },
   {
    "duration": 10,
    "start_time": "2021-12-25T08:46:09.086Z"
   },
   {
    "duration": 8,
    "start_time": "2021-12-25T08:46:09.098Z"
   },
   {
    "duration": 272,
    "start_time": "2021-12-25T08:47:20.692Z"
   },
   {
    "duration": 286,
    "start_time": "2021-12-25T08:47:25.800Z"
   },
   {
    "duration": 7,
    "start_time": "2021-12-25T08:59:38.520Z"
   },
   {
    "duration": 8740,
    "start_time": "2021-12-25T09:03:10.520Z"
   },
   {
    "duration": 505,
    "start_time": "2021-12-25T09:08:50.531Z"
   },
   {
    "duration": 1604,
    "start_time": "2021-12-25T09:11:42.957Z"
   },
   {
    "duration": 219,
    "start_time": "2021-12-25T09:13:26.908Z"
   },
   {
    "duration": 214,
    "start_time": "2021-12-25T09:13:57.305Z"
   },
   {
    "duration": 251,
    "start_time": "2021-12-25T09:16:35.569Z"
   },
   {
    "duration": 250,
    "start_time": "2021-12-25T09:16:47.952Z"
   },
   {
    "duration": 7,
    "start_time": "2021-12-25T09:17:20.136Z"
   },
   {
    "duration": 37,
    "start_time": "2021-12-25T09:25:38.227Z"
   },
   {
    "duration": 35,
    "start_time": "2021-12-25T09:25:48.460Z"
   },
   {
    "duration": 39,
    "start_time": "2021-12-25T09:26:05.050Z"
   },
   {
    "duration": 6820,
    "start_time": "2021-12-25T09:27:21.369Z"
   },
   {
    "duration": 11,
    "start_time": "2021-12-25T09:27:49.918Z"
   },
   {
    "duration": 209,
    "start_time": "2021-12-25T09:31:19.390Z"
   },
   {
    "duration": 242,
    "start_time": "2021-12-25T09:34:39.108Z"
   },
   {
    "duration": 241,
    "start_time": "2021-12-25T09:40:07.758Z"
   },
   {
    "duration": 27,
    "start_time": "2021-12-25T09:47:14.708Z"
   },
   {
    "duration": 29,
    "start_time": "2021-12-25T09:47:36.202Z"
   },
   {
    "duration": 12,
    "start_time": "2021-12-25T09:50:48.344Z"
   },
   {
    "duration": 68,
    "start_time": "2021-12-25T09:50:52.136Z"
   },
   {
    "duration": 13,
    "start_time": "2021-12-25T09:51:00.686Z"
   },
   {
    "duration": 151,
    "start_time": "2021-12-25T09:51:03.792Z"
   },
   {
    "duration": 33,
    "start_time": "2021-12-25T09:51:03.945Z"
   },
   {
    "duration": 96,
    "start_time": "2021-12-25T09:51:03.981Z"
   },
   {
    "duration": 7,
    "start_time": "2021-12-25T09:51:04.081Z"
   },
   {
    "duration": 10,
    "start_time": "2021-12-25T09:51:04.091Z"
   },
   {
    "duration": 27,
    "start_time": "2021-12-25T09:51:04.104Z"
   },
   {
    "duration": 82,
    "start_time": "2021-12-25T09:51:04.135Z"
   },
   {
    "duration": 5,
    "start_time": "2021-12-25T09:51:04.221Z"
   },
   {
    "duration": 50,
    "start_time": "2021-12-25T09:51:04.229Z"
   },
   {
    "duration": 15,
    "start_time": "2021-12-25T09:51:04.282Z"
   },
   {
    "duration": 354,
    "start_time": "2021-12-25T09:51:04.300Z"
   },
   {
    "duration": 1013,
    "start_time": "2021-12-25T09:51:04.657Z"
   },
   {
    "duration": 7,
    "start_time": "2021-12-25T09:51:05.672Z"
   },
   {
    "duration": 973,
    "start_time": "2021-12-25T09:51:05.682Z"
   },
   {
    "duration": 957,
    "start_time": "2021-12-25T09:51:06.658Z"
   },
   {
    "duration": 364,
    "start_time": "2021-12-25T09:51:07.618Z"
   },
   {
    "duration": 7,
    "start_time": "2021-12-25T09:51:07.985Z"
   },
   {
    "duration": 251,
    "start_time": "2021-12-25T09:51:07.994Z"
   },
   {
    "duration": 41,
    "start_time": "2021-12-25T09:51:08.248Z"
   },
   {
    "duration": 12,
    "start_time": "2021-12-25T09:51:08.292Z"
   },
   {
    "duration": 341,
    "start_time": "2021-12-25T09:51:08.307Z"
   },
   {
    "duration": 338,
    "start_time": "2021-12-25T09:51:08.651Z"
   },
   {
    "duration": 298,
    "start_time": "2021-12-25T09:51:08.994Z"
   },
   {
    "duration": 576,
    "start_time": "2021-12-25T09:51:09.295Z"
   },
   {
    "duration": 1026,
    "start_time": "2021-12-25T09:51:09.873Z"
   },
   {
    "duration": 976,
    "start_time": "2021-12-25T09:51:10.901Z"
   },
   {
    "duration": 900,
    "start_time": "2021-12-25T09:51:11.880Z"
   },
   {
    "duration": 286,
    "start_time": "2021-12-25T09:51:12.783Z"
   },
   {
    "duration": 300,
    "start_time": "2021-12-25T09:51:13.072Z"
   },
   {
    "duration": 289,
    "start_time": "2021-12-25T09:51:13.375Z"
   },
   {
    "duration": 12,
    "start_time": "2021-12-25T09:51:13.668Z"
   },
   {
    "duration": 34,
    "start_time": "2021-12-25T09:51:13.683Z"
   },
   {
    "duration": 51,
    "start_time": "2021-12-25T09:51:13.720Z"
   },
   {
    "duration": 22,
    "start_time": "2021-12-25T09:51:13.774Z"
   },
   {
    "duration": 19,
    "start_time": "2021-12-25T09:51:13.799Z"
   },
   {
    "duration": 63,
    "start_time": "2021-12-25T09:51:13.820Z"
   },
   {
    "duration": 13,
    "start_time": "2021-12-25T09:51:13.885Z"
   },
   {
    "duration": 325,
    "start_time": "2021-12-25T09:51:13.900Z"
   },
   {
    "duration": 12,
    "start_time": "2021-12-25T09:51:14.227Z"
   },
   {
    "duration": 30,
    "start_time": "2021-12-25T09:51:14.242Z"
   },
   {
    "duration": 10,
    "start_time": "2021-12-25T09:51:14.275Z"
   },
   {
    "duration": 53,
    "start_time": "2021-12-25T10:05:36.464Z"
   },
   {
    "duration": 59,
    "start_time": "2021-12-25T10:05:42.339Z"
   },
   {
    "duration": 292,
    "start_time": "2021-12-25T10:10:33.873Z"
   },
   {
    "duration": 389,
    "start_time": "2021-12-25T10:10:43.396Z"
   },
   {
    "duration": 339,
    "start_time": "2021-12-25T10:14:14.941Z"
   },
   {
    "duration": 270,
    "start_time": "2021-12-25T10:14:27.907Z"
   },
   {
    "duration": 7644,
    "start_time": "2021-12-25T10:14:37.845Z"
   },
   {
    "duration": 12383,
    "start_time": "2021-12-25T10:14:53.205Z"
   },
   {
    "duration": 10,
    "start_time": "2021-12-25T10:16:32.701Z"
   },
   {
    "duration": 912,
    "start_time": "2021-12-25T10:20:37.955Z"
   },
   {
    "duration": 6,
    "start_time": "2021-12-25T10:23:20.751Z"
   },
   {
    "duration": 885,
    "start_time": "2021-12-25T10:23:27.991Z"
   },
   {
    "duration": 7,
    "start_time": "2021-12-25T10:24:22.653Z"
   },
   {
    "duration": 7,
    "start_time": "2021-12-25T10:26:26.632Z"
   },
   {
    "duration": 103,
    "start_time": "2021-12-25T10:27:14.835Z"
   },
   {
    "duration": 13,
    "start_time": "2021-12-25T10:27:49.618Z"
   },
   {
    "duration": 18,
    "start_time": "2021-12-25T10:27:58.229Z"
   },
   {
    "duration": 8,
    "start_time": "2021-12-25T10:28:19.475Z"
   },
   {
    "duration": 14,
    "start_time": "2021-12-25T10:33:54.313Z"
   },
   {
    "duration": 22,
    "start_time": "2021-12-25T10:36:13.753Z"
   },
   {
    "duration": 31,
    "start_time": "2021-12-25T10:45:39.109Z"
   },
   {
    "duration": 22,
    "start_time": "2021-12-25T10:46:19.373Z"
   },
   {
    "duration": 339,
    "start_time": "2021-12-25T10:52:18.550Z"
   },
   {
    "duration": 1071,
    "start_time": "2021-12-25T10:53:44.684Z"
   },
   {
    "duration": 369,
    "start_time": "2021-12-25T10:54:38.447Z"
   },
   {
    "duration": 1005,
    "start_time": "2021-12-25T10:55:28.530Z"
   },
   {
    "duration": 620,
    "start_time": "2021-12-25T10:56:22.597Z"
   },
   {
    "duration": 331,
    "start_time": "2021-12-25T10:59:02.768Z"
   },
   {
    "duration": 331,
    "start_time": "2021-12-25T11:00:19.429Z"
   },
   {
    "duration": 299,
    "start_time": "2021-12-25T11:01:35.395Z"
   },
   {
    "duration": 629,
    "start_time": "2021-12-25T11:02:06.586Z"
   },
   {
    "duration": 922,
    "start_time": "2021-12-25T11:02:28.193Z"
   },
   {
    "duration": 910,
    "start_time": "2021-12-25T11:02:58.157Z"
   },
   {
    "duration": 1048,
    "start_time": "2021-12-25T11:03:44.344Z"
   },
   {
    "duration": 947,
    "start_time": "2021-12-25T11:05:28.253Z"
   },
   {
    "duration": 194,
    "start_time": "2021-12-25T11:28:18.747Z"
   },
   {
    "duration": 39,
    "start_time": "2021-12-25T11:28:18.943Z"
   },
   {
    "duration": 108,
    "start_time": "2021-12-25T11:28:18.985Z"
   },
   {
    "duration": 8,
    "start_time": "2021-12-25T11:28:19.097Z"
   },
   {
    "duration": 7,
    "start_time": "2021-12-25T11:28:19.108Z"
   },
   {
    "duration": 68,
    "start_time": "2021-12-25T11:28:19.117Z"
   },
   {
    "duration": 50,
    "start_time": "2021-12-25T11:28:19.188Z"
   },
   {
    "duration": 6,
    "start_time": "2021-12-25T11:28:19.242Z"
   },
   {
    "duration": 34,
    "start_time": "2021-12-25T11:28:19.271Z"
   },
   {
    "duration": 19,
    "start_time": "2021-12-25T11:28:19.307Z"
   },
   {
    "duration": 402,
    "start_time": "2021-12-25T11:28:19.329Z"
   },
   {
    "duration": 996,
    "start_time": "2021-12-25T11:28:19.733Z"
   },
   {
    "duration": 7,
    "start_time": "2021-12-25T11:28:20.733Z"
   },
   {
    "duration": 1033,
    "start_time": "2021-12-25T11:28:20.766Z"
   },
   {
    "duration": 682,
    "start_time": "2021-12-25T11:28:21.801Z"
   },
   {
    "duration": 238,
    "start_time": "2021-12-25T11:28:22.485Z"
   },
   {
    "duration": 5,
    "start_time": "2021-12-25T11:28:22.726Z"
   },
   {
    "duration": 266,
    "start_time": "2021-12-25T11:28:22.734Z"
   },
   {
    "duration": 27,
    "start_time": "2021-12-25T11:28:23.003Z"
   },
   {
    "duration": 43,
    "start_time": "2021-12-25T11:28:23.032Z"
   },
   {
    "duration": 352,
    "start_time": "2021-12-25T11:28:23.079Z"
   },
   {
    "duration": 397,
    "start_time": "2021-12-25T11:28:23.435Z"
   },
   {
    "duration": 480,
    "start_time": "2021-12-25T11:28:23.837Z"
   },
   {
    "duration": 8,
    "start_time": "2021-12-25T11:28:24.322Z"
   },
   {
    "duration": 671,
    "start_time": "2021-12-25T11:28:24.333Z"
   },
   {
    "duration": 1070,
    "start_time": "2021-12-25T11:28:25.007Z"
   },
   {
    "duration": 7,
    "start_time": "2021-12-25T11:28:26.080Z"
   },
   {
    "duration": 918,
    "start_time": "2021-12-25T11:28:26.090Z"
   },
   {
    "duration": 7,
    "start_time": "2021-12-25T11:28:27.010Z"
   },
   {
    "duration": 1004,
    "start_time": "2021-12-25T11:28:27.019Z"
   },
   {
    "duration": 6,
    "start_time": "2021-12-25T11:28:28.026Z"
   },
   {
    "duration": 42,
    "start_time": "2021-12-25T11:28:28.035Z"
   },
   {
    "duration": 302,
    "start_time": "2021-12-25T11:28:28.079Z"
   },
   {
    "duration": 305,
    "start_time": "2021-12-25T11:28:28.384Z"
   },
   {
    "duration": 281,
    "start_time": "2021-12-25T11:28:28.691Z"
   },
   {
    "duration": 11,
    "start_time": "2021-12-25T11:28:28.975Z"
   },
   {
    "duration": 29,
    "start_time": "2021-12-25T11:28:28.989Z"
   },
   {
    "duration": 64,
    "start_time": "2021-12-25T11:28:29.020Z"
   },
   {
    "duration": 22,
    "start_time": "2021-12-25T11:28:29.087Z"
   },
   {
    "duration": 57,
    "start_time": "2021-12-25T11:28:29.111Z"
   },
   {
    "duration": 14,
    "start_time": "2021-12-25T11:28:29.170Z"
   },
   {
    "duration": 328,
    "start_time": "2021-12-25T11:28:29.187Z"
   },
   {
    "duration": 11,
    "start_time": "2021-12-25T11:28:29.517Z"
   },
   {
    "duration": 10,
    "start_time": "2021-12-25T11:28:29.531Z"
   },
   {
    "duration": 7,
    "start_time": "2021-12-25T11:28:29.568Z"
   },
   {
    "duration": 21,
    "start_time": "2021-12-25T11:30:44.215Z"
   },
   {
    "duration": 96,
    "start_time": "2021-12-25T11:31:15.085Z"
   },
   {
    "duration": 20,
    "start_time": "2021-12-25T11:31:19.578Z"
   },
   {
    "duration": 275,
    "start_time": "2021-12-25T11:46:27.103Z"
   },
   {
    "duration": 289,
    "start_time": "2021-12-25T11:46:52.722Z"
   },
   {
    "duration": 147,
    "start_time": "2021-12-25T11:47:06.231Z"
   },
   {
    "duration": 20,
    "start_time": "2021-12-25T11:47:06.382Z"
   },
   {
    "duration": 126,
    "start_time": "2021-12-25T11:47:06.407Z"
   },
   {
    "duration": 33,
    "start_time": "2021-12-25T11:47:06.537Z"
   },
   {
    "duration": 7,
    "start_time": "2021-12-25T11:47:06.573Z"
   },
   {
    "duration": 311,
    "start_time": "2021-12-25T11:47:06.583Z"
   },
   {
    "duration": -5037,
    "start_time": "2021-12-25T11:47:11.935Z"
   },
   {
    "duration": -5038,
    "start_time": "2021-12-25T11:47:11.938Z"
   },
   {
    "duration": -5040,
    "start_time": "2021-12-25T11:47:11.941Z"
   },
   {
    "duration": -5040,
    "start_time": "2021-12-25T11:47:11.943Z"
   },
   {
    "duration": -5042,
    "start_time": "2021-12-25T11:47:11.947Z"
   },
   {
    "duration": -5043,
    "start_time": "2021-12-25T11:47:11.949Z"
   },
   {
    "duration": -5044,
    "start_time": "2021-12-25T11:47:11.952Z"
   },
   {
    "duration": -5046,
    "start_time": "2021-12-25T11:47:11.955Z"
   },
   {
    "duration": -5046,
    "start_time": "2021-12-25T11:47:11.957Z"
   },
   {
    "duration": -5047,
    "start_time": "2021-12-25T11:47:11.960Z"
   },
   {
    "duration": -5049,
    "start_time": "2021-12-25T11:47:11.963Z"
   },
   {
    "duration": -5050,
    "start_time": "2021-12-25T11:47:11.966Z"
   },
   {
    "duration": -5056,
    "start_time": "2021-12-25T11:47:11.973Z"
   },
   {
    "duration": -5057,
    "start_time": "2021-12-25T11:47:11.976Z"
   },
   {
    "duration": -5057,
    "start_time": "2021-12-25T11:47:11.978Z"
   },
   {
    "duration": -5059,
    "start_time": "2021-12-25T11:47:11.981Z"
   },
   {
    "duration": -5059,
    "start_time": "2021-12-25T11:47:11.983Z"
   },
   {
    "duration": -5061,
    "start_time": "2021-12-25T11:47:11.986Z"
   },
   {
    "duration": -5063,
    "start_time": "2021-12-25T11:47:11.990Z"
   },
   {
    "duration": -5065,
    "start_time": "2021-12-25T11:47:11.993Z"
   },
   {
    "duration": -5071,
    "start_time": "2021-12-25T11:47:12.000Z"
   },
   {
    "duration": -5073,
    "start_time": "2021-12-25T11:47:12.003Z"
   },
   {
    "duration": -5074,
    "start_time": "2021-12-25T11:47:12.006Z"
   },
   {
    "duration": -5076,
    "start_time": "2021-12-25T11:47:12.009Z"
   },
   {
    "duration": -5077,
    "start_time": "2021-12-25T11:47:12.011Z"
   },
   {
    "duration": -5047,
    "start_time": "2021-12-25T11:47:12.014Z"
   },
   {
    "duration": -5047,
    "start_time": "2021-12-25T11:47:12.016Z"
   },
   {
    "duration": -5049,
    "start_time": "2021-12-25T11:47:12.019Z"
   },
   {
    "duration": -5050,
    "start_time": "2021-12-25T11:47:12.022Z"
   },
   {
    "duration": -5051,
    "start_time": "2021-12-25T11:47:12.024Z"
   },
   {
    "duration": -5052,
    "start_time": "2021-12-25T11:47:12.027Z"
   },
   {
    "duration": -5053,
    "start_time": "2021-12-25T11:47:12.030Z"
   },
   {
    "duration": -5063,
    "start_time": "2021-12-25T11:47:12.041Z"
   },
   {
    "duration": -5065,
    "start_time": "2021-12-25T11:47:12.044Z"
   },
   {
    "duration": -5065,
    "start_time": "2021-12-25T11:47:12.046Z"
   },
   {
    "duration": -5067,
    "start_time": "2021-12-25T11:47:12.049Z"
   },
   {
    "duration": -5068,
    "start_time": "2021-12-25T11:47:12.052Z"
   },
   {
    "duration": -5070,
    "start_time": "2021-12-25T11:47:12.055Z"
   },
   {
    "duration": -5072,
    "start_time": "2021-12-25T11:47:12.058Z"
   },
   {
    "duration": 265,
    "start_time": "2021-12-25T11:47:43.708Z"
   },
   {
    "duration": 280,
    "start_time": "2021-12-25T11:48:02.462Z"
   },
   {
    "duration": 271,
    "start_time": "2021-12-25T11:49:14.668Z"
   },
   {
    "duration": 262,
    "start_time": "2021-12-25T11:49:21.922Z"
   },
   {
    "duration": 258,
    "start_time": "2021-12-25T11:49:37.344Z"
   },
   {
    "duration": 3392,
    "start_time": "2021-12-25T11:50:24.397Z"
   },
   {
    "duration": 284,
    "start_time": "2021-12-25T11:51:43.599Z"
   },
   {
    "duration": 269,
    "start_time": "2021-12-25T11:52:04.973Z"
   },
   {
    "duration": 268,
    "start_time": "2021-12-25T11:52:10.861Z"
   },
   {
    "duration": 269,
    "start_time": "2021-12-25T11:52:52.976Z"
   },
   {
    "duration": 183,
    "start_time": "2021-12-25T11:53:25.864Z"
   },
   {
    "duration": 27,
    "start_time": "2021-12-25T11:53:26.050Z"
   },
   {
    "duration": 97,
    "start_time": "2021-12-25T11:53:26.080Z"
   },
   {
    "duration": 6,
    "start_time": "2021-12-25T11:53:26.180Z"
   },
   {
    "duration": 7,
    "start_time": "2021-12-25T11:53:26.189Z"
   },
   {
    "duration": 287,
    "start_time": "2021-12-25T11:53:26.199Z"
   },
   {
    "duration": -5037,
    "start_time": "2021-12-25T11:53:31.527Z"
   },
   {
    "duration": -5039,
    "start_time": "2021-12-25T11:53:31.531Z"
   },
   {
    "duration": -5042,
    "start_time": "2021-12-25T11:53:31.536Z"
   },
   {
    "duration": -5050,
    "start_time": "2021-12-25T11:53:31.545Z"
   },
   {
    "duration": -5051,
    "start_time": "2021-12-25T11:53:31.548Z"
   },
   {
    "duration": -5052,
    "start_time": "2021-12-25T11:53:31.551Z"
   },
   {
    "duration": -5054,
    "start_time": "2021-12-25T11:53:31.554Z"
   },
   {
    "duration": -5054,
    "start_time": "2021-12-25T11:53:31.556Z"
   },
   {
    "duration": -5056,
    "start_time": "2021-12-25T11:53:31.559Z"
   },
   {
    "duration": -5057,
    "start_time": "2021-12-25T11:53:31.562Z"
   },
   {
    "duration": -5057,
    "start_time": "2021-12-25T11:53:31.564Z"
   },
   {
    "duration": -5059,
    "start_time": "2021-12-25T11:53:31.567Z"
   },
   {
    "duration": -5060,
    "start_time": "2021-12-25T11:53:31.570Z"
   },
   {
    "duration": -5061,
    "start_time": "2021-12-25T11:53:31.572Z"
   },
   {
    "duration": -5061,
    "start_time": "2021-12-25T11:53:31.574Z"
   },
   {
    "duration": -5062,
    "start_time": "2021-12-25T11:53:31.576Z"
   },
   {
    "duration": -5062,
    "start_time": "2021-12-25T11:53:31.578Z"
   },
   {
    "duration": -5070,
    "start_time": "2021-12-25T11:53:31.587Z"
   },
   {
    "duration": -5070,
    "start_time": "2021-12-25T11:53:31.589Z"
   },
   {
    "duration": -5072,
    "start_time": "2021-12-25T11:53:31.592Z"
   },
   {
    "duration": -5076,
    "start_time": "2021-12-25T11:53:31.598Z"
   },
   {
    "duration": -5077,
    "start_time": "2021-12-25T11:53:31.600Z"
   },
   {
    "duration": -5079,
    "start_time": "2021-12-25T11:53:31.604Z"
   },
   {
    "duration": -5080,
    "start_time": "2021-12-25T11:53:31.606Z"
   },
   {
    "duration": -5041,
    "start_time": "2021-12-25T11:53:31.608Z"
   },
   {
    "duration": -5042,
    "start_time": "2021-12-25T11:53:31.611Z"
   },
   {
    "duration": -5047,
    "start_time": "2021-12-25T11:53:31.617Z"
   },
   {
    "duration": -5048,
    "start_time": "2021-12-25T11:53:31.620Z"
   },
   {
    "duration": -5049,
    "start_time": "2021-12-25T11:53:31.622Z"
   },
   {
    "duration": -5050,
    "start_time": "2021-12-25T11:53:31.624Z"
   },
   {
    "duration": -5050,
    "start_time": "2021-12-25T11:53:31.626Z"
   },
   {
    "duration": -5051,
    "start_time": "2021-12-25T11:53:31.629Z"
   },
   {
    "duration": -5052,
    "start_time": "2021-12-25T11:53:31.631Z"
   },
   {
    "duration": -5060,
    "start_time": "2021-12-25T11:53:31.641Z"
   },
   {
    "duration": -5062,
    "start_time": "2021-12-25T11:53:31.644Z"
   },
   {
    "duration": -5062,
    "start_time": "2021-12-25T11:53:31.646Z"
   },
   {
    "duration": -5063,
    "start_time": "2021-12-25T11:53:31.648Z"
   },
   {
    "duration": -5063,
    "start_time": "2021-12-25T11:53:31.650Z"
   },
   {
    "duration": -5066,
    "start_time": "2021-12-25T11:53:31.654Z"
   },
   {
    "duration": 269,
    "start_time": "2021-12-25T11:54:06.366Z"
   },
   {
    "duration": 7,
    "start_time": "2021-12-25T11:54:17.748Z"
   },
   {
    "duration": 3933,
    "start_time": "2021-12-25T11:54:32.968Z"
   },
   {
    "duration": 317,
    "start_time": "2021-12-25T11:57:27.657Z"
   },
   {
    "duration": 326,
    "start_time": "2021-12-25T11:57:35.739Z"
   },
   {
    "duration": 341,
    "start_time": "2021-12-25T11:57:45.268Z"
   },
   {
    "duration": 163,
    "start_time": "2021-12-25T11:58:02.569Z"
   },
   {
    "duration": 36,
    "start_time": "2021-12-25T11:58:02.735Z"
   },
   {
    "duration": 103,
    "start_time": "2021-12-25T11:58:02.774Z"
   },
   {
    "duration": 7,
    "start_time": "2021-12-25T11:58:02.881Z"
   },
   {
    "duration": 18,
    "start_time": "2021-12-25T11:58:02.891Z"
   },
   {
    "duration": 33,
    "start_time": "2021-12-25T11:58:02.912Z"
   },
   {
    "duration": 65,
    "start_time": "2021-12-25T11:58:02.947Z"
   },
   {
    "duration": 5,
    "start_time": "2021-12-25T11:58:03.016Z"
   },
   {
    "duration": 50,
    "start_time": "2021-12-25T11:58:03.024Z"
   },
   {
    "duration": 17,
    "start_time": "2021-12-25T11:58:03.077Z"
   },
   {
    "duration": 381,
    "start_time": "2021-12-25T11:58:03.096Z"
   },
   {
    "duration": 1039,
    "start_time": "2021-12-25T11:58:03.480Z"
   },
   {
    "duration": 8,
    "start_time": "2021-12-25T11:58:04.522Z"
   },
   {
    "duration": 1292,
    "start_time": "2021-12-25T11:58:04.533Z"
   },
   {
    "duration": 642,
    "start_time": "2021-12-25T11:58:05.828Z"
   },
   {
    "duration": 247,
    "start_time": "2021-12-25T11:58:06.474Z"
   },
   {
    "duration": 7,
    "start_time": "2021-12-25T11:58:06.725Z"
   },
   {
    "duration": 261,
    "start_time": "2021-12-25T11:58:06.735Z"
   },
   {
    "duration": 29,
    "start_time": "2021-12-25T11:58:06.999Z"
   },
   {
    "duration": 36,
    "start_time": "2021-12-25T11:58:07.031Z"
   },
   {
    "duration": 341,
    "start_time": "2021-12-25T11:58:07.070Z"
   },
   {
    "duration": 489,
    "start_time": "2021-12-25T11:58:07.414Z"
   },
   {
    "duration": 429,
    "start_time": "2021-12-25T11:58:07.910Z"
   },
   {
    "duration": 8,
    "start_time": "2021-12-25T11:58:08.343Z"
   },
   {
    "duration": 865,
    "start_time": "2021-12-25T11:58:08.368Z"
   },
   {
    "duration": 1315,
    "start_time": "2021-12-25T11:58:09.237Z"
   },
   {
    "duration": 16,
    "start_time": "2021-12-25T11:58:10.556Z"
   },
   {
    "duration": 854,
    "start_time": "2021-12-25T11:58:10.574Z"
   },
   {
    "duration": 7,
    "start_time": "2021-12-25T11:58:11.431Z"
   },
   {
    "duration": 978,
    "start_time": "2021-12-25T11:58:11.440Z"
   },
   {
    "duration": 7,
    "start_time": "2021-12-25T11:58:12.421Z"
   },
   {
    "duration": 38,
    "start_time": "2021-12-25T11:58:12.431Z"
   },
   {
    "duration": 285,
    "start_time": "2021-12-25T11:58:12.472Z"
   },
   {
    "duration": 302,
    "start_time": "2021-12-25T11:58:12.760Z"
   },
   {
    "duration": 291,
    "start_time": "2021-12-25T11:58:13.068Z"
   },
   {
    "duration": 12,
    "start_time": "2021-12-25T11:58:13.367Z"
   },
   {
    "duration": 29,
    "start_time": "2021-12-25T11:58:13.382Z"
   },
   {
    "duration": 57,
    "start_time": "2021-12-25T11:58:13.414Z"
   },
   {
    "duration": 22,
    "start_time": "2021-12-25T11:58:13.474Z"
   },
   {
    "duration": 21,
    "start_time": "2021-12-25T11:58:13.499Z"
   },
   {
    "duration": 54,
    "start_time": "2021-12-25T11:58:13.524Z"
   },
   {
    "duration": 420,
    "start_time": "2021-12-25T11:58:13.581Z"
   },
   {
    "duration": 11,
    "start_time": "2021-12-25T11:58:14.003Z"
   },
   {
    "duration": 26,
    "start_time": "2021-12-25T11:58:14.016Z"
   },
   {
    "duration": 41,
    "start_time": "2021-12-25T11:58:14.045Z"
   },
   {
    "duration": 160,
    "start_time": "2021-12-25T11:58:33.290Z"
   },
   {
    "duration": 16,
    "start_time": "2021-12-25T11:58:33.467Z"
   },
   {
    "duration": 99,
    "start_time": "2021-12-25T11:58:33.485Z"
   },
   {
    "duration": 7,
    "start_time": "2021-12-25T11:58:33.586Z"
   },
   {
    "duration": 11,
    "start_time": "2021-12-25T11:58:33.595Z"
   },
   {
    "duration": 28,
    "start_time": "2021-12-25T11:58:33.608Z"
   },
   {
    "duration": 81,
    "start_time": "2021-12-25T11:58:33.639Z"
   },
   {
    "duration": 4,
    "start_time": "2021-12-25T11:58:33.723Z"
   },
   {
    "duration": 58,
    "start_time": "2021-12-25T11:58:33.731Z"
   },
   {
    "duration": 18,
    "start_time": "2021-12-25T11:58:33.792Z"
   },
   {
    "duration": 387,
    "start_time": "2021-12-25T11:58:33.812Z"
   },
   {
    "duration": 1119,
    "start_time": "2021-12-25T11:58:34.202Z"
   },
   {
    "duration": 6,
    "start_time": "2021-12-25T11:58:35.323Z"
   },
   {
    "duration": 1365,
    "start_time": "2021-12-25T11:58:35.331Z"
   },
   {
    "duration": 633,
    "start_time": "2021-12-25T11:58:36.699Z"
   },
   {
    "duration": 257,
    "start_time": "2021-12-25T11:58:37.334Z"
   },
   {
    "duration": 6,
    "start_time": "2021-12-25T11:58:37.594Z"
   },
   {
    "duration": 260,
    "start_time": "2021-12-25T11:58:37.603Z"
   },
   {
    "duration": 29,
    "start_time": "2021-12-25T11:58:37.868Z"
   },
   {
    "duration": 12,
    "start_time": "2021-12-25T11:58:37.900Z"
   },
   {
    "duration": 355,
    "start_time": "2021-12-25T11:58:37.915Z"
   },
   {
    "duration": 441,
    "start_time": "2021-12-25T11:58:38.273Z"
   },
   {
    "duration": 435,
    "start_time": "2021-12-25T11:58:38.717Z"
   },
   {
    "duration": 13,
    "start_time": "2021-12-25T11:58:39.156Z"
   },
   {
    "duration": 916,
    "start_time": "2021-12-25T11:58:39.172Z"
   },
   {
    "duration": 1305,
    "start_time": "2021-12-25T11:58:40.091Z"
   },
   {
    "duration": 9,
    "start_time": "2021-12-25T11:58:41.403Z"
   },
   {
    "duration": 882,
    "start_time": "2021-12-25T11:58:41.415Z"
   },
   {
    "duration": 7,
    "start_time": "2021-12-25T11:58:42.300Z"
   },
   {
    "duration": 978,
    "start_time": "2021-12-25T11:58:42.310Z"
   },
   {
    "duration": 8,
    "start_time": "2021-12-25T11:58:43.291Z"
   },
   {
    "duration": 24,
    "start_time": "2021-12-25T11:58:43.302Z"
   },
   {
    "duration": 448,
    "start_time": "2021-12-25T11:58:43.329Z"
   },
   {
    "duration": 297,
    "start_time": "2021-12-25T11:58:43.780Z"
   },
   {
    "duration": 283,
    "start_time": "2021-12-25T11:58:44.079Z"
   },
   {
    "duration": 12,
    "start_time": "2021-12-25T11:58:44.367Z"
   },
   {
    "duration": 33,
    "start_time": "2021-12-25T11:58:44.382Z"
   },
   {
    "duration": 51,
    "start_time": "2021-12-25T11:58:44.418Z"
   },
   {
    "duration": 28,
    "start_time": "2021-12-25T11:58:44.472Z"
   },
   {
    "duration": 20,
    "start_time": "2021-12-25T11:58:44.503Z"
   },
   {
    "duration": 42,
    "start_time": "2021-12-25T11:58:44.526Z"
   },
   {
    "duration": 323,
    "start_time": "2021-12-25T11:58:44.571Z"
   },
   {
    "duration": 13,
    "start_time": "2021-12-25T11:58:44.897Z"
   },
   {
    "duration": 23,
    "start_time": "2021-12-25T11:58:44.913Z"
   },
   {
    "duration": 22,
    "start_time": "2021-12-25T11:58:44.967Z"
   },
   {
    "duration": 7061,
    "start_time": "2021-12-25T12:00:56.788Z"
   },
   {
    "duration": 7082,
    "start_time": "2021-12-25T12:01:07.084Z"
   },
   {
    "duration": 6826,
    "start_time": "2021-12-25T12:01:39.706Z"
   },
   {
    "duration": 7316,
    "start_time": "2021-12-25T12:01:54.956Z"
   },
   {
    "duration": 8949,
    "start_time": "2021-12-25T12:02:13.287Z"
   },
   {
    "duration": 22,
    "start_time": "2021-12-25T12:02:35.339Z"
   },
   {
    "duration": 29,
    "start_time": "2021-12-25T12:03:19.067Z"
   },
   {
    "duration": 24,
    "start_time": "2021-12-25T12:03:24.867Z"
   },
   {
    "duration": 20,
    "start_time": "2021-12-25T12:04:21.087Z"
   },
   {
    "duration": 19,
    "start_time": "2021-12-25T12:05:13.156Z"
   },
   {
    "duration": 20,
    "start_time": "2021-12-25T12:06:01.408Z"
   },
   {
    "duration": 6713,
    "start_time": "2021-12-25T12:06:33.400Z"
   },
   {
    "duration": 18,
    "start_time": "2021-12-25T12:07:13.496Z"
   },
   {
    "duration": -5078,
    "start_time": "2021-12-25T12:07:53.720Z"
   },
   {
    "duration": 7213,
    "start_time": "2021-12-25T12:08:03.704Z"
   },
   {
    "duration": 6919,
    "start_time": "2021-12-25T12:08:26.394Z"
   },
   {
    "duration": 46,
    "start_time": "2021-12-25T12:08:39.277Z"
   },
   {
    "duration": 44,
    "start_time": "2021-12-25T12:09:23.466Z"
   },
   {
    "duration": 178,
    "start_time": "2021-12-25T12:09:28.525Z"
   },
   {
    "duration": 16,
    "start_time": "2021-12-25T12:09:28.706Z"
   },
   {
    "duration": 100,
    "start_time": "2021-12-25T12:09:28.726Z"
   },
   {
    "duration": 7,
    "start_time": "2021-12-25T12:09:28.830Z"
   },
   {
    "duration": 29,
    "start_time": "2021-12-25T12:09:28.840Z"
   },
   {
    "duration": 27,
    "start_time": "2021-12-25T12:09:28.872Z"
   },
   {
    "duration": 84,
    "start_time": "2021-12-25T12:09:28.902Z"
   },
   {
    "duration": 5,
    "start_time": "2021-12-25T12:09:28.990Z"
   },
   {
    "duration": 27,
    "start_time": "2021-12-25T12:09:28.998Z"
   },
   {
    "duration": 50,
    "start_time": "2021-12-25T12:09:29.027Z"
   },
   {
    "duration": 371,
    "start_time": "2021-12-25T12:09:29.080Z"
   },
   {
    "duration": 933,
    "start_time": "2021-12-25T12:09:29.454Z"
   },
   {
    "duration": 6,
    "start_time": "2021-12-25T12:09:30.390Z"
   },
   {
    "duration": 1402,
    "start_time": "2021-12-25T12:09:30.399Z"
   },
   {
    "duration": 644,
    "start_time": "2021-12-25T12:09:31.804Z"
   },
   {
    "duration": 270,
    "start_time": "2021-12-25T12:09:32.450Z"
   },
   {
    "duration": 6,
    "start_time": "2021-12-25T12:09:32.723Z"
   },
   {
    "duration": 267,
    "start_time": "2021-12-25T12:09:32.731Z"
   },
   {
    "duration": 31,
    "start_time": "2021-12-25T12:09:33.000Z"
   },
   {
    "duration": 38,
    "start_time": "2021-12-25T12:09:33.034Z"
   },
   {
    "duration": 336,
    "start_time": "2021-12-25T12:09:33.074Z"
   },
   {
    "duration": 340,
    "start_time": "2021-12-25T12:09:33.413Z"
   },
   {
    "duration": 324,
    "start_time": "2021-12-25T12:09:33.767Z"
   },
   {
    "duration": 9,
    "start_time": "2021-12-25T12:09:34.095Z"
   },
   {
    "duration": 926,
    "start_time": "2021-12-25T12:09:34.107Z"
   },
   {
    "duration": 903,
    "start_time": "2021-12-25T12:09:35.036Z"
   },
   {
    "duration": 6,
    "start_time": "2021-12-25T12:09:35.941Z"
   },
   {
    "duration": 868,
    "start_time": "2021-12-25T12:09:35.949Z"
   },
   {
    "duration": 7,
    "start_time": "2021-12-25T12:09:36.819Z"
   },
   {
    "duration": 1000,
    "start_time": "2021-12-25T12:09:36.830Z"
   },
   {
    "duration": 8,
    "start_time": "2021-12-25T12:09:37.834Z"
   },
   {
    "duration": 38,
    "start_time": "2021-12-25T12:09:37.845Z"
   },
   {
    "duration": 294,
    "start_time": "2021-12-25T12:09:37.886Z"
   },
   {
    "duration": 311,
    "start_time": "2021-12-25T12:09:38.182Z"
   },
   {
    "duration": 291,
    "start_time": "2021-12-25T12:09:38.496Z"
   },
   {
    "duration": 11,
    "start_time": "2021-12-25T12:09:38.789Z"
   },
   {
    "duration": 41,
    "start_time": "2021-12-25T12:09:38.803Z"
   },
   {
    "duration": 29,
    "start_time": "2021-12-25T12:09:38.867Z"
   },
   {
    "duration": 27,
    "start_time": "2021-12-25T12:09:38.899Z"
   },
   {
    "duration": 56,
    "start_time": "2021-12-25T12:09:38.929Z"
   },
   {
    "duration": 18,
    "start_time": "2021-12-25T12:09:38.988Z"
   },
   {
    "duration": 340,
    "start_time": "2021-12-25T12:09:39.009Z"
   },
   {
    "duration": 17,
    "start_time": "2021-12-25T12:09:39.351Z"
   },
   {
    "duration": 22,
    "start_time": "2021-12-25T12:09:39.370Z"
   },
   {
    "duration": 21,
    "start_time": "2021-12-25T12:09:39.395Z"
   },
   {
    "duration": 33,
    "start_time": "2021-12-25T12:10:32.477Z"
   },
   {
    "duration": 158,
    "start_time": "2021-12-25T12:10:47.679Z"
   },
   {
    "duration": 37,
    "start_time": "2021-12-25T12:10:47.840Z"
   },
   {
    "duration": 90,
    "start_time": "2021-12-25T12:10:47.880Z"
   },
   {
    "duration": 7,
    "start_time": "2021-12-25T12:10:47.973Z"
   },
   {
    "duration": 7,
    "start_time": "2021-12-25T12:10:47.983Z"
   },
   {
    "duration": 30,
    "start_time": "2021-12-25T12:10:47.992Z"
   },
   {
    "duration": 90,
    "start_time": "2021-12-25T12:10:48.024Z"
   },
   {
    "duration": 5,
    "start_time": "2021-12-25T12:10:48.118Z"
   },
   {
    "duration": 54,
    "start_time": "2021-12-25T12:10:48.126Z"
   },
   {
    "duration": 17,
    "start_time": "2021-12-25T12:10:48.183Z"
   },
   {
    "duration": 536,
    "start_time": "2021-12-25T12:10:48.202Z"
   },
   {
    "duration": 927,
    "start_time": "2021-12-25T12:10:48.740Z"
   },
   {
    "duration": 8,
    "start_time": "2021-12-25T12:10:49.670Z"
   },
   {
    "duration": 1342,
    "start_time": "2021-12-25T12:10:49.680Z"
   },
   {
    "duration": 649,
    "start_time": "2021-12-25T12:10:51.024Z"
   },
   {
    "duration": 262,
    "start_time": "2021-12-25T12:10:51.676Z"
   },
   {
    "duration": 6,
    "start_time": "2021-12-25T12:10:51.941Z"
   },
   {
    "duration": 278,
    "start_time": "2021-12-25T12:10:51.949Z"
   },
   {
    "duration": 44,
    "start_time": "2021-12-25T12:10:52.230Z"
   },
   {
    "duration": 13,
    "start_time": "2021-12-25T12:10:52.277Z"
   },
   {
    "duration": 343,
    "start_time": "2021-12-25T12:10:52.293Z"
   },
   {
    "duration": 349,
    "start_time": "2021-12-25T12:10:52.639Z"
   },
   {
    "duration": 304,
    "start_time": "2021-12-25T12:10:52.994Z"
   },
   {
    "duration": 8,
    "start_time": "2021-12-25T12:10:53.302Z"
   },
   {
    "duration": 679,
    "start_time": "2021-12-25T12:10:53.312Z"
   },
   {
    "duration": 921,
    "start_time": "2021-12-25T12:10:53.994Z"
   },
   {
    "duration": 6,
    "start_time": "2021-12-25T12:10:54.917Z"
   },
   {
    "duration": 875,
    "start_time": "2021-12-25T12:10:54.925Z"
   },
   {
    "duration": 9,
    "start_time": "2021-12-25T12:10:55.803Z"
   },
   {
    "duration": 1386,
    "start_time": "2021-12-25T12:10:55.815Z"
   },
   {
    "duration": 8,
    "start_time": "2021-12-25T12:10:57.204Z"
   },
   {
    "duration": 17,
    "start_time": "2021-12-25T12:10:57.214Z"
   },
   {
    "duration": 348,
    "start_time": "2021-12-25T12:10:57.233Z"
   },
   {
    "duration": 412,
    "start_time": "2021-12-25T12:10:57.584Z"
   },
   {
    "duration": 290,
    "start_time": "2021-12-25T12:10:57.999Z"
   },
   {
    "duration": 11,
    "start_time": "2021-12-25T12:10:58.292Z"
   },
   {
    "duration": 30,
    "start_time": "2021-12-25T12:10:58.305Z"
   },
   {
    "duration": 44,
    "start_time": "2021-12-25T12:10:58.338Z"
   },
   {
    "duration": 19,
    "start_time": "2021-12-25T12:10:58.385Z"
   },
   {
    "duration": 19,
    "start_time": "2021-12-25T12:10:58.406Z"
   },
   {
    "duration": 51,
    "start_time": "2021-12-25T12:10:58.427Z"
   },
   {
    "duration": 308,
    "start_time": "2021-12-25T12:10:58.480Z"
   },
   {
    "duration": 11,
    "start_time": "2021-12-25T12:10:58.791Z"
   },
   {
    "duration": 26,
    "start_time": "2021-12-25T12:10:58.805Z"
   },
   {
    "duration": 51,
    "start_time": "2021-12-25T12:10:58.834Z"
   },
   {
    "duration": 33,
    "start_time": "2021-12-25T12:11:40.596Z"
   },
   {
    "duration": 20,
    "start_time": "2021-12-25T12:12:49.153Z"
   },
   {
    "duration": 168,
    "start_time": "2021-12-25T12:13:14.203Z"
   },
   {
    "duration": 17,
    "start_time": "2021-12-25T12:13:14.373Z"
   },
   {
    "duration": 99,
    "start_time": "2021-12-25T12:13:14.393Z"
   },
   {
    "duration": 8,
    "start_time": "2021-12-25T12:13:14.495Z"
   },
   {
    "duration": 7,
    "start_time": "2021-12-25T12:13:14.505Z"
   },
   {
    "duration": 26,
    "start_time": "2021-12-25T12:13:14.515Z"
   },
   {
    "duration": 60,
    "start_time": "2021-12-25T12:13:14.567Z"
   },
   {
    "duration": 5,
    "start_time": "2021-12-25T12:13:14.632Z"
   },
   {
    "duration": 45,
    "start_time": "2021-12-25T12:13:14.640Z"
   },
   {
    "duration": 16,
    "start_time": "2021-12-25T12:13:14.688Z"
   },
   {
    "duration": 383,
    "start_time": "2021-12-25T12:13:14.707Z"
   },
   {
    "duration": 959,
    "start_time": "2021-12-25T12:13:15.092Z"
   },
   {
    "duration": 15,
    "start_time": "2021-12-25T12:13:16.054Z"
   },
   {
    "duration": 1070,
    "start_time": "2021-12-25T12:13:16.071Z"
   },
   {
    "duration": 630,
    "start_time": "2021-12-25T12:13:17.143Z"
   },
   {
    "duration": 272,
    "start_time": "2021-12-25T12:13:17.776Z"
   },
   {
    "duration": 6,
    "start_time": "2021-12-25T12:13:18.051Z"
   },
   {
    "duration": 533,
    "start_time": "2021-12-25T12:13:18.059Z"
   },
   {
    "duration": 34,
    "start_time": "2021-12-25T12:13:18.595Z"
   },
   {
    "duration": 36,
    "start_time": "2021-12-25T12:13:18.632Z"
   },
   {
    "duration": 331,
    "start_time": "2021-12-25T12:13:18.670Z"
   },
   {
    "duration": 354,
    "start_time": "2021-12-25T12:13:19.004Z"
   },
   {
    "duration": 314,
    "start_time": "2021-12-25T12:13:19.364Z"
   },
   {
    "duration": 8,
    "start_time": "2021-12-25T12:13:19.682Z"
   },
   {
    "duration": 627,
    "start_time": "2021-12-25T12:13:19.692Z"
   },
   {
    "duration": 1029,
    "start_time": "2021-12-25T12:13:20.321Z"
   },
   {
    "duration": 21,
    "start_time": "2021-12-25T12:13:21.353Z"
   },
   {
    "duration": 862,
    "start_time": "2021-12-25T12:13:21.378Z"
   },
   {
    "duration": 6,
    "start_time": "2021-12-25T12:13:22.242Z"
   },
   {
    "duration": 1004,
    "start_time": "2021-12-25T12:13:22.251Z"
   },
   {
    "duration": 14,
    "start_time": "2021-12-25T12:13:23.257Z"
   },
   {
    "duration": 17,
    "start_time": "2021-12-25T12:13:23.274Z"
   },
   {
    "duration": 402,
    "start_time": "2021-12-25T12:13:23.293Z"
   },
   {
    "duration": 298,
    "start_time": "2021-12-25T12:13:23.697Z"
   },
   {
    "duration": 289,
    "start_time": "2021-12-25T12:13:23.997Z"
   },
   {
    "duration": 11,
    "start_time": "2021-12-25T12:13:24.288Z"
   },
   {
    "duration": 32,
    "start_time": "2021-12-25T12:13:24.302Z"
   },
   {
    "duration": 46,
    "start_time": "2021-12-25T12:13:24.336Z"
   },
   {
    "duration": 20,
    "start_time": "2021-12-25T12:13:24.384Z"
   },
   {
    "duration": 20,
    "start_time": "2021-12-25T12:13:24.407Z"
   },
   {
    "duration": 47,
    "start_time": "2021-12-25T12:13:24.429Z"
   },
   {
    "duration": 323,
    "start_time": "2021-12-25T12:13:24.478Z"
   },
   {
    "duration": 12,
    "start_time": "2021-12-25T12:13:24.804Z"
   },
   {
    "duration": 49,
    "start_time": "2021-12-25T12:13:24.819Z"
   },
   {
    "duration": 23,
    "start_time": "2021-12-25T12:13:24.871Z"
   },
   {
    "duration": 36,
    "start_time": "2021-12-25T12:13:31.645Z"
   },
   {
    "duration": 56,
    "start_time": "2021-12-25T12:23:07.748Z"
   },
   {
    "duration": 10,
    "start_time": "2021-12-25T12:29:13.024Z"
   },
   {
    "duration": 22,
    "start_time": "2021-12-25T12:29:18.280Z"
   },
   {
    "duration": 25,
    "start_time": "2021-12-25T12:29:22.347Z"
   },
   {
    "duration": 147,
    "start_time": "2021-12-25T12:31:45.008Z"
   },
   {
    "duration": 22,
    "start_time": "2021-12-25T12:31:45.170Z"
   },
   {
    "duration": 112,
    "start_time": "2021-12-25T12:31:45.195Z"
   },
   {
    "duration": 6,
    "start_time": "2021-12-25T12:31:45.309Z"
   },
   {
    "duration": 7,
    "start_time": "2021-12-25T12:31:45.318Z"
   },
   {
    "duration": 43,
    "start_time": "2021-12-25T12:31:45.327Z"
   },
   {
    "duration": 58,
    "start_time": "2021-12-25T12:31:45.372Z"
   },
   {
    "duration": 53,
    "start_time": "2021-12-25T12:31:45.433Z"
   },
   {
    "duration": 18,
    "start_time": "2021-12-25T12:31:45.489Z"
   },
   {
    "duration": 394,
    "start_time": "2021-12-25T12:31:45.509Z"
   },
   {
    "duration": 952,
    "start_time": "2021-12-25T12:31:45.906Z"
   },
   {
    "duration": 8,
    "start_time": "2021-12-25T12:31:46.867Z"
   },
   {
    "duration": 1119,
    "start_time": "2021-12-25T12:31:46.877Z"
   },
   {
    "duration": 651,
    "start_time": "2021-12-25T12:31:47.999Z"
   },
   {
    "duration": 274,
    "start_time": "2021-12-25T12:31:48.654Z"
   },
   {
    "duration": 6,
    "start_time": "2021-12-25T12:31:48.930Z"
   },
   {
    "duration": 263,
    "start_time": "2021-12-25T12:31:48.938Z"
   },
   {
    "duration": 32,
    "start_time": "2021-12-25T12:31:49.204Z"
   },
   {
    "duration": 38,
    "start_time": "2021-12-25T12:31:49.240Z"
   },
   {
    "duration": 343,
    "start_time": "2021-12-25T12:31:49.281Z"
   },
   {
    "duration": 357,
    "start_time": "2021-12-25T12:31:49.626Z"
   },
   {
    "duration": 316,
    "start_time": "2021-12-25T12:31:49.985Z"
   },
   {
    "duration": 8,
    "start_time": "2021-12-25T12:31:50.306Z"
   },
   {
    "duration": 647,
    "start_time": "2021-12-25T12:31:50.318Z"
   },
   {
    "duration": 1253,
    "start_time": "2021-12-25T12:31:50.967Z"
   },
   {
    "duration": 8,
    "start_time": "2021-12-25T12:31:52.223Z"
   },
   {
    "duration": 904,
    "start_time": "2021-12-25T12:31:52.234Z"
   },
   {
    "duration": 8,
    "start_time": "2021-12-25T12:31:53.142Z"
   },
   {
    "duration": 1031,
    "start_time": "2021-12-25T12:31:53.176Z"
   },
   {
    "duration": 6,
    "start_time": "2021-12-25T12:31:54.209Z"
   },
   {
    "duration": 16,
    "start_time": "2021-12-25T12:31:54.218Z"
   },
   {
    "duration": 309,
    "start_time": "2021-12-25T12:31:54.236Z"
   },
   {
    "duration": 313,
    "start_time": "2021-12-25T12:31:54.548Z"
   },
   {
    "duration": 310,
    "start_time": "2021-12-25T12:31:54.863Z"
   },
   {
    "duration": 13,
    "start_time": "2021-12-25T12:31:55.176Z"
   },
   {
    "duration": 32,
    "start_time": "2021-12-25T12:31:55.193Z"
   },
   {
    "duration": 56,
    "start_time": "2021-12-25T12:31:55.228Z"
   },
   {
    "duration": 22,
    "start_time": "2021-12-25T12:31:55.287Z"
   },
   {
    "duration": 20,
    "start_time": "2021-12-25T12:31:55.311Z"
   },
   {
    "duration": 47,
    "start_time": "2021-12-25T12:31:55.334Z"
   },
   {
    "duration": 327,
    "start_time": "2021-12-25T12:31:55.385Z"
   },
   {
    "duration": 12,
    "start_time": "2021-12-25T12:31:55.715Z"
   },
   {
    "duration": 46,
    "start_time": "2021-12-25T12:31:55.729Z"
   },
   {
    "duration": 23,
    "start_time": "2021-12-25T12:31:55.777Z"
   }
  ],
  "kernelspec": {
   "display_name": "Python 3 (ipykernel)",
   "language": "python",
   "name": "python3"
  },
  "language_info": {
   "codemirror_mode": {
    "name": "ipython",
    "version": 3
   },
   "file_extension": ".py",
   "mimetype": "text/x-python",
   "name": "python",
   "nbconvert_exporter": "python",
   "pygments_lexer": "ipython3",
   "version": "3.10.5"
  },
  "toc": {
   "base_numbering": 1,
   "nav_menu": {},
   "number_sections": true,
   "sideBar": true,
   "skip_h1_title": true,
   "title_cell": "Содержание",
   "title_sidebar": "Contents",
   "toc_cell": true,
   "toc_position": {
    "height": "calc(100% - 180px)",
    "left": "10px",
    "top": "150px",
    "width": "277.275px"
   },
   "toc_section_display": true,
   "toc_window_display": false
  }
 },
 "nbformat": 4,
 "nbformat_minor": 2
}
