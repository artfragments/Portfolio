{
 "cells": [
  {
   "cell_type": "markdown",
   "metadata": {
    "toc": true
   },
   "source": [
    "<h1>Содержание<span class=\"tocSkip\"></span></h1>\n",
    "<div class=\"toc\"><ul class=\"toc-item\"><li><span><a href=\"#Загрузка-данных\" data-toc-modified-id=\"Загрузка-данных-1\"><span class=\"toc-item-num\">1&nbsp;&nbsp;</span>Загрузка данных</a></span></li><li><span><a href=\"#Умножение-матриц\" data-toc-modified-id=\"Умножение-матриц-2\"><span class=\"toc-item-num\">2&nbsp;&nbsp;</span>Умножение матриц</a></span></li><li><span><a href=\"#Алгоритм-преобразования\" data-toc-modified-id=\"Алгоритм-преобразования-3\"><span class=\"toc-item-num\">3&nbsp;&nbsp;</span>Алгоритм преобразования</a></span></li><li><span><a href=\"#Проверка-алгоритма\" data-toc-modified-id=\"Проверка-алгоритма-4\"><span class=\"toc-item-num\">4&nbsp;&nbsp;</span>Проверка алгоритма</a></span></li><li><span><a href=\"#Чек-лист-проверки\" data-toc-modified-id=\"Чек-лист-проверки-5\"><span class=\"toc-item-num\">5&nbsp;&nbsp;</span>Чек-лист проверки</a></span></li></ul></div>"
   ]
  },
  {
   "cell_type": "markdown",
   "metadata": {},
   "source": [
    "# Защита персональных данных клиентов"
   ]
  },
  {
   "cell_type": "markdown",
   "metadata": {},
   "source": [
    "Вам нужно защитить данные клиентов страховой компании «Хоть потоп». Разработайте такой метод преобразования данных, чтобы по ним было сложно восстановить персональную информацию. Обоснуйте корректность его работы.\n",
    "\n",
    "Нужно защитить данные, чтобы при преобразовании качество моделей машинного обучения не ухудшилось. Подбирать наилучшую модель не требуется."
   ]
  },
  {
   "cell_type": "markdown",
   "metadata": {},
   "source": [
    "## Загрузка данных"
   ]
  },
  {
   "cell_type": "markdown",
   "metadata": {},
   "source": [
    "Импортируем все необходимые инструменты:"
   ]
  },
  {
   "cell_type": "code",
   "execution_count": 53,
   "metadata": {},
   "outputs": [],
   "source": [
    "import pandas as pd\n",
    "import numpy as np\n",
    "from sklearn.model_selection import train_test_split\n",
    "from sklearn.linear_model import LinearRegression\n",
    "from sklearn.metrics import r2_score"
   ]
  },
  {
   "cell_type": "markdown",
   "metadata": {},
   "source": [
    "Прочитаем датасет:"
   ]
  },
  {
   "cell_type": "code",
   "execution_count": 54,
   "metadata": {},
   "outputs": [
    {
     "data": {
      "text/html": [
       "<div>\n",
       "<style scoped>\n",
       "    .dataframe tbody tr th:only-of-type {\n",
       "        vertical-align: middle;\n",
       "    }\n",
       "\n",
       "    .dataframe tbody tr th {\n",
       "        vertical-align: top;\n",
       "    }\n",
       "\n",
       "    .dataframe thead th {\n",
       "        text-align: right;\n",
       "    }\n",
       "</style>\n",
       "<table border=\"1\" class=\"dataframe\">\n",
       "  <thead>\n",
       "    <tr style=\"text-align: right;\">\n",
       "      <th></th>\n",
       "      <th>Пол</th>\n",
       "      <th>Возраст</th>\n",
       "      <th>Зарплата</th>\n",
       "      <th>Члены семьи</th>\n",
       "      <th>Страховые выплаты</th>\n",
       "    </tr>\n",
       "  </thead>\n",
       "  <tbody>\n",
       "    <tr>\n",
       "      <th>0</th>\n",
       "      <td>1</td>\n",
       "      <td>41.0</td>\n",
       "      <td>49600.0</td>\n",
       "      <td>1</td>\n",
       "      <td>0</td>\n",
       "    </tr>\n",
       "    <tr>\n",
       "      <th>1</th>\n",
       "      <td>0</td>\n",
       "      <td>46.0</td>\n",
       "      <td>38000.0</td>\n",
       "      <td>1</td>\n",
       "      <td>1</td>\n",
       "    </tr>\n",
       "    <tr>\n",
       "      <th>2</th>\n",
       "      <td>0</td>\n",
       "      <td>29.0</td>\n",
       "      <td>21000.0</td>\n",
       "      <td>0</td>\n",
       "      <td>0</td>\n",
       "    </tr>\n",
       "    <tr>\n",
       "      <th>3</th>\n",
       "      <td>0</td>\n",
       "      <td>21.0</td>\n",
       "      <td>41700.0</td>\n",
       "      <td>2</td>\n",
       "      <td>0</td>\n",
       "    </tr>\n",
       "    <tr>\n",
       "      <th>4</th>\n",
       "      <td>1</td>\n",
       "      <td>28.0</td>\n",
       "      <td>26100.0</td>\n",
       "      <td>0</td>\n",
       "      <td>0</td>\n",
       "    </tr>\n",
       "    <tr>\n",
       "      <th>...</th>\n",
       "      <td>...</td>\n",
       "      <td>...</td>\n",
       "      <td>...</td>\n",
       "      <td>...</td>\n",
       "      <td>...</td>\n",
       "    </tr>\n",
       "    <tr>\n",
       "      <th>4995</th>\n",
       "      <td>0</td>\n",
       "      <td>28.0</td>\n",
       "      <td>35700.0</td>\n",
       "      <td>2</td>\n",
       "      <td>0</td>\n",
       "    </tr>\n",
       "    <tr>\n",
       "      <th>4996</th>\n",
       "      <td>0</td>\n",
       "      <td>34.0</td>\n",
       "      <td>52400.0</td>\n",
       "      <td>1</td>\n",
       "      <td>0</td>\n",
       "    </tr>\n",
       "    <tr>\n",
       "      <th>4997</th>\n",
       "      <td>0</td>\n",
       "      <td>20.0</td>\n",
       "      <td>33900.0</td>\n",
       "      <td>2</td>\n",
       "      <td>0</td>\n",
       "    </tr>\n",
       "    <tr>\n",
       "      <th>4998</th>\n",
       "      <td>1</td>\n",
       "      <td>22.0</td>\n",
       "      <td>32700.0</td>\n",
       "      <td>3</td>\n",
       "      <td>0</td>\n",
       "    </tr>\n",
       "    <tr>\n",
       "      <th>4999</th>\n",
       "      <td>1</td>\n",
       "      <td>28.0</td>\n",
       "      <td>40600.0</td>\n",
       "      <td>1</td>\n",
       "      <td>0</td>\n",
       "    </tr>\n",
       "  </tbody>\n",
       "</table>\n",
       "<p>5000 rows × 5 columns</p>\n",
       "</div>"
      ],
      "text/plain": [
       "      Пол  Возраст  Зарплата  Члены семьи  Страховые выплаты\n",
       "0       1     41.0   49600.0            1                  0\n",
       "1       0     46.0   38000.0            1                  1\n",
       "2       0     29.0   21000.0            0                  0\n",
       "3       0     21.0   41700.0            2                  0\n",
       "4       1     28.0   26100.0            0                  0\n",
       "...   ...      ...       ...          ...                ...\n",
       "4995    0     28.0   35700.0            2                  0\n",
       "4996    0     34.0   52400.0            1                  0\n",
       "4997    0     20.0   33900.0            2                  0\n",
       "4998    1     22.0   32700.0            3                  0\n",
       "4999    1     28.0   40600.0            1                  0\n",
       "\n",
       "[5000 rows x 5 columns]"
      ]
     },
     "execution_count": 54,
     "metadata": {},
     "output_type": "execute_result"
    }
   ],
   "source": [
    "df = pd.read_csv('/datasets/insurance.csv')\n",
    "df"
   ]
  },
  {
   "cell_type": "markdown",
   "metadata": {},
   "source": [
    "Данный датасет не имеет каких либо серьезных ошибок, так же не имеет смысла преобразовывать, чтобы выровнять вес признаков, так как в постановке задачи не нужно добиваться максимального качества, а лишь сравнить оригинальный датасет и преобразованный по метрике R2."
   ]
  },
  {
   "cell_type": "markdown",
   "metadata": {},
   "source": [
    "## Умножение матриц"
   ]
  },
  {
   "cell_type": "markdown",
   "metadata": {},
   "source": [
    "В этом задании вы можете записывать формулы в *Jupyter Notebook.*\n",
    "\n",
    "Чтобы записать формулу внутри текста, окружите её символами доллара \\\\$; если снаружи —  двойными символами \\\\$\\\\$. Эти формулы записываются на языке вёрстки *LaTeX.* \n",
    "\n",
    "Для примера мы записали формулы линейной регрессии. Можете их скопировать и отредактировать, чтобы решить задачу.\n",
    "\n",
    "Работать в *LaTeX* необязательно."
   ]
  },
  {
   "cell_type": "markdown",
   "metadata": {},
   "source": [
    "Обозначения:\n",
    "\n",
    "- $X$ — матрица признаков (нулевой столбец состоит из единиц)\n",
    "\n",
    "- $y$ — вектор целевого признака\n",
    "\n",
    "- $P$ — матрица, на которую умножаются признаки\n",
    "\n",
    "- $w$ — вектор весов линейной регрессии (нулевой элемент равен сдвигу)"
   ]
  },
  {
   "cell_type": "markdown",
   "metadata": {},
   "source": [
    "Предсказания:\n",
    "\n",
    "$$\n",
    "a = Xw\n",
    "$$\n",
    "\n",
    "Задача обучения:\n",
    "\n",
    "$$\n",
    "w = \\arg\\min_w MSE(Xw, y)\n",
    "$$\n",
    "\n",
    "Формула обучения:\n",
    "\n",
    "$$\n",
    "w = (X^T X)^{-1} X^T y\n",
    "$$"
   ]
  },
  {
   "cell_type": "markdown",
   "metadata": {},
   "source": [
    "**Ответ:** Не изменится. \n",
    "\n",
    "**Обоснование:**\n",
    "Возьмем формулу весов и докажем, что итоговый результат не изменится:\n",
    "\n",
    "$\n",
    "w = (X^T X)^{-1} X^T y\n",
    "$\n",
    "\n",
    "$\n",
    "X' = XP\n",
    "$\n",
    "\n",
    "$\n",
    "w' = ((XP)^T(XP))^{-1}(XP)^Ty\n",
    "$\n",
    "\n",
    "$\n",
    "w' = (X^T(P^TXP))^{-1}X^TP^Ty\n",
    "$\n",
    "\n",
    "$\n",
    "w' = (X^TXP))^{-1}(P^T)^{-1}P^TX^Ty\n",
    "$\n",
    "\n",
    "$$\n",
    "E = AA^{-1}\n",
    "$$\n",
    "\n",
    "$\n",
    "w' = P^{-1}(X^T X)^{-1} X^T y\n",
    "$\n",
    "\n",
    "$$\n",
    "w = (X^T X)^{-1} X^T y\n",
    "$$\n",
    "\n",
    "$\n",
    "w' = P^{-1}w\n",
    "$\n",
    "\n",
    "Далее сделаем то же самое с формулой предсказаний:\n",
    "\n",
    "\n",
    "$\n",
    "a' = X'w'\n",
    "$\n",
    "\n",
    "$\n",
    "a' = XPP^{-1}w = Xw = a\n",
    "$\n"
   ]
  },
  {
   "cell_type": "markdown",
   "metadata": {},
   "source": [
    "## Алгоритм преобразования"
   ]
  },
  {
   "cell_type": "markdown",
   "metadata": {},
   "source": [
    "**Алгоритм**\n",
    "\n",
    "$\n",
    "X' = XP\n",
    "$"
   ]
  },
  {
   "cell_type": "markdown",
   "metadata": {},
   "source": [
    "**Обоснование**\n",
    "\n",
    "Использование данного алгоритма обосновано в пункте 2\n"
   ]
  },
  {
   "cell_type": "markdown",
   "metadata": {},
   "source": [
    "## Проверка алгоритма"
   ]
  },
  {
   "cell_type": "markdown",
   "metadata": {},
   "source": [
    "Создадим матрицу и проверим её на обратимость:"
   ]
  },
  {
   "cell_type": "code",
   "execution_count": 60,
   "metadata": {},
   "outputs": [
    {
     "data": {
      "text/plain": [
       "array([[-1.31136747,  0.3921804 ,  0.18868055, -0.67088287],\n",
       "       [ 1.75872714,  0.14106138, -0.17773045,  0.79787127],\n",
       "       [-0.41702659, -0.22854768,  0.3550602 ,  0.33039819],\n",
       "       [ 0.58912996,  0.19073027, -0.5545481 ,  0.6259302 ]])"
      ]
     },
     "execution_count": 60,
     "metadata": {},
     "output_type": "execute_result"
    }
   ],
   "source": [
    "np.random.seed(12345)\n",
    "P = np.random.normal(size = (4, 4))\n",
    "np.linalg.inv(P) "
   ]
  },
  {
   "cell_type": "markdown",
   "metadata": {},
   "source": [
    "Далее разделим датасет на выборки:"
   ]
  },
  {
   "cell_type": "code",
   "execution_count": 56,
   "metadata": {},
   "outputs": [],
   "source": [
    "target = df['Страховые выплаты']\n",
    "features = df.drop('Страховые выплаты', axis=1)\n",
    "features_train, features_valid, target_train, target_valid = train_test_split(\n",
    "    features, target, test_size=0.25, random_state=12345)"
   ]
  },
  {
   "cell_type": "markdown",
   "metadata": {},
   "source": [
    "Умножим выборку с признаками на матрицу и так же разделим на выборки для обучения модели:"
   ]
  },
  {
   "cell_type": "code",
   "execution_count": 57,
   "metadata": {},
   "outputs": [],
   "source": [
    "features_1 = features.dot(P)\n",
    "features_1\n",
    "features_train_1, features_valid_1, target_train_1, target_valid_1 = train_test_split(\n",
    "    features_1, target, test_size=0.25, random_state=12345)"
   ]
  },
  {
   "cell_type": "markdown",
   "metadata": {},
   "source": [
    "Далее посчитаем метрику R2 на признаках до умножения на матрицу:"
   ]
  },
  {
   "cell_type": "code",
   "execution_count": 58,
   "metadata": {},
   "outputs": [
    {
     "name": "stdout",
     "output_type": "stream",
     "text": [
      "R2 = 0.435227571270266\n"
     ]
    }
   ],
   "source": [
    "model_lr = LinearRegression()\n",
    "model_lr.fit(features_train, target_train) \n",
    "predictions_LR = model_lr.predict(features_valid)\n",
    "print(\"R2 =\", r2_score(target_valid, predictions_LR))"
   ]
  },
  {
   "cell_type": "markdown",
   "metadata": {},
   "source": [
    "Теперь посчитаем метрику R2 на датасете уже преобразованном матрицей:"
   ]
  },
  {
   "cell_type": "code",
   "execution_count": 59,
   "metadata": {},
   "outputs": [
    {
     "name": "stdout",
     "output_type": "stream",
     "text": [
      "R2 = 0.4352275712700221\n"
     ]
    }
   ],
   "source": [
    "model_lr_1 = LinearRegression()\n",
    "model_lr_1.fit(features_train_1, target_train_1) \n",
    "predictions_LR_1 = model_lr_1.predict(features_valid_1)\n",
    "print(\"R2 =\", r2_score(target_valid_1, predictions_LR_1))"
   ]
  },
  {
   "cell_type": "markdown",
   "metadata": {},
   "source": [
    "**Вывод**\n",
    "Как в доказательстве во второй части данного проекта так и на практике в четвертой умножение на обратимую матрицу не меняет качества предсказания модели. В обоих случаях получили метрику R2 равную 0.43"
   ]
  }
 ],
 "metadata": {
  "ExecuteTimeLog": [
   {
    "duration": 505,
    "start_time": "2022-04-02T10:23:47.253Z"
   },
   {
    "duration": 19,
    "start_time": "2022-04-02T10:27:26.390Z"
   },
   {
    "duration": 48,
    "start_time": "2022-04-02T10:27:30.692Z"
   },
   {
    "duration": 46,
    "start_time": "2022-04-10T08:03:40.343Z"
   },
   {
    "duration": 393,
    "start_time": "2022-04-10T08:03:57.685Z"
   },
   {
    "duration": 5,
    "start_time": "2022-04-10T08:04:01.138Z"
   },
   {
    "duration": 1457,
    "start_time": "2022-04-10T08:04:37.619Z"
   },
   {
    "duration": 104,
    "start_time": "2022-04-10T08:04:43.549Z"
   },
   {
    "duration": 3,
    "start_time": "2022-04-10T08:04:48.220Z"
   },
   {
    "duration": 4,
    "start_time": "2022-04-10T08:05:20.675Z"
   },
   {
    "duration": 4,
    "start_time": "2022-04-10T08:08:02.585Z"
   },
   {
    "duration": 3,
    "start_time": "2022-04-10T08:08:07.966Z"
   },
   {
    "duration": 7,
    "start_time": "2022-04-10T08:11:52.857Z"
   },
   {
    "duration": 14,
    "start_time": "2022-04-10T08:12:00.259Z"
   },
   {
    "duration": 7,
    "start_time": "2022-04-10T08:12:47.313Z"
   },
   {
    "duration": 5,
    "start_time": "2022-04-10T08:13:09.751Z"
   },
   {
    "duration": 5,
    "start_time": "2022-04-10T08:14:07.331Z"
   },
   {
    "duration": 22,
    "start_time": "2022-04-10T08:36:05.488Z"
   },
   {
    "duration": 11,
    "start_time": "2022-04-10T08:36:22.234Z"
   },
   {
    "duration": 4,
    "start_time": "2022-04-10T08:40:55.182Z"
   },
   {
    "duration": 10,
    "start_time": "2022-04-10T08:40:56.466Z"
   },
   {
    "duration": 3,
    "start_time": "2022-04-10T08:42:48.393Z"
   },
   {
    "duration": 10,
    "start_time": "2022-04-10T08:42:50.897Z"
   },
   {
    "duration": 3,
    "start_time": "2022-04-10T08:44:17.669Z"
   },
   {
    "duration": 11,
    "start_time": "2022-04-10T08:44:32.205Z"
   },
   {
    "duration": 657,
    "start_time": "2022-04-10T08:50:11.058Z"
   },
   {
    "duration": 39,
    "start_time": "2022-04-10T08:51:00.327Z"
   },
   {
    "duration": 11,
    "start_time": "2022-04-10T08:51:56.428Z"
   },
   {
    "duration": 10,
    "start_time": "2022-04-10T08:52:54.452Z"
   },
   {
    "duration": 14,
    "start_time": "2022-04-10T08:53:04.981Z"
   },
   {
    "duration": 3,
    "start_time": "2022-04-10T08:53:21.831Z"
   },
   {
    "duration": 30,
    "start_time": "2022-04-10T08:53:21.836Z"
   },
   {
    "duration": 11,
    "start_time": "2022-04-10T08:53:21.868Z"
   },
   {
    "duration": 15,
    "start_time": "2022-04-10T08:53:21.882Z"
   },
   {
    "duration": 7,
    "start_time": "2022-04-10T08:53:21.978Z"
   },
   {
    "duration": 5,
    "start_time": "2022-04-10T08:53:28.998Z"
   },
   {
    "duration": 9,
    "start_time": "2022-04-10T08:53:43.979Z"
   },
   {
    "duration": 4,
    "start_time": "2022-04-10T08:53:57.264Z"
   },
   {
    "duration": 10,
    "start_time": "2022-04-10T08:53:59.068Z"
   },
   {
    "duration": 8,
    "start_time": "2022-04-10T08:54:25.601Z"
   },
   {
    "duration": 10,
    "start_time": "2022-04-10T08:54:31.129Z"
   },
   {
    "duration": 3,
    "start_time": "2022-04-10T08:54:33.164Z"
   },
   {
    "duration": 25,
    "start_time": "2022-04-10T08:54:33.171Z"
   },
   {
    "duration": 4,
    "start_time": "2022-04-10T08:54:33.198Z"
   },
   {
    "duration": 76,
    "start_time": "2022-04-10T08:54:33.203Z"
   },
   {
    "duration": 12,
    "start_time": "2022-04-10T08:54:33.281Z"
   },
   {
    "duration": 22,
    "start_time": "2022-04-10T08:55:01.420Z"
   },
   {
    "duration": 8,
    "start_time": "2022-04-10T08:58:10.903Z"
   },
   {
    "duration": 5,
    "start_time": "2022-04-10T09:04:13.429Z"
   },
   {
    "duration": 6,
    "start_time": "2022-04-10T09:04:17.226Z"
   },
   {
    "duration": 7,
    "start_time": "2022-04-10T09:04:30.171Z"
   },
   {
    "duration": 15,
    "start_time": "2022-04-10T09:09:36.516Z"
   },
   {
    "duration": 3,
    "start_time": "2022-04-10T09:09:41.223Z"
   },
   {
    "duration": 8,
    "start_time": "2022-04-10T09:09:46.022Z"
   },
   {
    "duration": 8,
    "start_time": "2022-04-10T09:10:45.040Z"
   },
   {
    "duration": 3,
    "start_time": "2022-04-10T09:16:32.298Z"
   },
   {
    "duration": 35,
    "start_time": "2022-04-10T09:16:32.304Z"
   },
   {
    "duration": 7,
    "start_time": "2022-04-10T09:16:32.341Z"
   },
   {
    "duration": 29,
    "start_time": "2022-04-10T09:16:32.350Z"
   },
   {
    "duration": 11,
    "start_time": "2022-04-10T09:16:32.381Z"
   },
   {
    "duration": 87,
    "start_time": "2022-04-10T09:16:32.394Z"
   },
   {
    "duration": 10,
    "start_time": "2022-04-10T09:16:32.482Z"
   },
   {
    "duration": 7,
    "start_time": "2022-04-10T09:16:43.925Z"
   }
  ],
  "kernelspec": {
   "display_name": "Python 3 (ipykernel)",
   "language": "python",
   "name": "python3"
  },
  "language_info": {
   "codemirror_mode": {
    "name": "ipython",
    "version": 3
   },
   "file_extension": ".py",
   "mimetype": "text/x-python",
   "name": "python",
   "nbconvert_exporter": "python",
   "pygments_lexer": "ipython3",
   "version": "3.10.5"
  },
  "toc": {
   "base_numbering": 1,
   "nav_menu": {},
   "number_sections": true,
   "sideBar": true,
   "skip_h1_title": true,
   "title_cell": "Содержание",
   "title_sidebar": "Contents",
   "toc_cell": true,
   "toc_position": {},
   "toc_section_display": true,
   "toc_window_display": true
  }
 },
 "nbformat": 4,
 "nbformat_minor": 2
}
