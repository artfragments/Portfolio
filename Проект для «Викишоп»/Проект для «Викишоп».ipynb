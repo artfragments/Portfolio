{
 "cells": [
  {
   "cell_type": "markdown",
   "metadata": {},
   "source": [
    "# Проект для «Викишоп»"
   ]
  },
  {
   "cell_type": "markdown",
   "metadata": {},
   "source": [
    "Интернет-магазин «Викишоп» запускает новый сервис. Теперь пользователи могут редактировать и дополнять описания товаров, как в вики-сообществах. То есть клиенты предлагают свои правки и комментируют изменения других. Магазину нужен инструмент, который будет искать токсичные комментарии и отправлять их на модерацию. \n",
    "\n",
    "Обучите модель классифицировать комментарии на позитивные и негативные. В вашем распоряжении набор данных с разметкой о токсичности правок.\n",
    "\n",
    "Постройте модель со значением метрики качества *F1* не меньше 0.75. \n",
    "\n",
    "**Инструкция по выполнению проекта**\n",
    "\n",
    "1. Загрузите и подготовьте данные.\n",
    "2. Обучите разные модели. \n",
    "3. Сделайте выводы.\n",
    "\n",
    "Для выполнения проекта применять *BERT* необязательно, но вы можете попробовать.\n",
    "\n",
    "**Описание данных**\n",
    "\n",
    "Данные находятся в файле `toxic_comments.csv`. Столбец *text* в нём содержит текст комментария, а *toxic* — целевой признак."
   ]
  },
  {
   "cell_type": "markdown",
   "metadata": {},
   "source": [
    "## Подготовка"
   ]
  },
  {
   "cell_type": "markdown",
   "metadata": {},
   "source": [
    "Импортируем библиотеки в следующей ячейке."
   ]
  },
  {
   "cell_type": "code",
   "execution_count": 29,
   "metadata": {},
   "outputs": [],
   "source": [
    "import pandas as pd\n",
    "import nltk\n",
    "from nltk.corpus import stopwords as nltk_stopwords\n",
    "from sklearn.feature_extraction.text import TfidfVectorizer \n",
    "from nltk.stem import SnowballStemmer\n",
    "from nltk.stem import WordNetLemmatizer \n",
    "import re\n",
    "from sklearn.model_selection import train_test_split\n",
    "from sklearn.tree import DecisionTreeClassifier\n",
    "from sklearn.ensemble import RandomForestClassifier\n",
    "from sklearn.linear_model import LogisticRegression\n",
    "from sklearn.model_selection import GridSearchCV\n",
    "from sklearn.metrics import f1_score\n",
    "import numpy as np\n",
    "import warnings\n",
    "warnings.simplefilter(\"ignore\")"
   ]
  },
  {
   "cell_type": "markdown",
   "metadata": {},
   "source": [
    "Просмотрим файл:"
   ]
  },
  {
   "cell_type": "code",
   "execution_count": 21,
   "metadata": {},
   "outputs": [
    {
     "data": {
      "text/html": [
       "<div>\n",
       "<style scoped>\n",
       "    .dataframe tbody tr th:only-of-type {\n",
       "        vertical-align: middle;\n",
       "    }\n",
       "\n",
       "    .dataframe tbody tr th {\n",
       "        vertical-align: top;\n",
       "    }\n",
       "\n",
       "    .dataframe thead th {\n",
       "        text-align: right;\n",
       "    }\n",
       "</style>\n",
       "<table border=\"1\" class=\"dataframe\">\n",
       "  <thead>\n",
       "    <tr style=\"text-align: right;\">\n",
       "      <th></th>\n",
       "      <th>text</th>\n",
       "      <th>toxic</th>\n",
       "    </tr>\n",
       "  </thead>\n",
       "  <tbody>\n",
       "    <tr>\n",
       "      <th>0</th>\n",
       "      <td>Explanation\\nWhy the edits made under my usern...</td>\n",
       "      <td>0</td>\n",
       "    </tr>\n",
       "    <tr>\n",
       "      <th>1</th>\n",
       "      <td>D'aww! He matches this background colour I'm s...</td>\n",
       "      <td>0</td>\n",
       "    </tr>\n",
       "    <tr>\n",
       "      <th>2</th>\n",
       "      <td>Hey man, I'm really not trying to edit war. It...</td>\n",
       "      <td>0</td>\n",
       "    </tr>\n",
       "    <tr>\n",
       "      <th>3</th>\n",
       "      <td>\"\\nMore\\nI can't make any real suggestions on ...</td>\n",
       "      <td>0</td>\n",
       "    </tr>\n",
       "    <tr>\n",
       "      <th>4</th>\n",
       "      <td>You, sir, are my hero. Any chance you remember...</td>\n",
       "      <td>0</td>\n",
       "    </tr>\n",
       "    <tr>\n",
       "      <th>...</th>\n",
       "      <td>...</td>\n",
       "      <td>...</td>\n",
       "    </tr>\n",
       "    <tr>\n",
       "      <th>159566</th>\n",
       "      <td>\":::::And for the second time of asking, when ...</td>\n",
       "      <td>0</td>\n",
       "    </tr>\n",
       "    <tr>\n",
       "      <th>159567</th>\n",
       "      <td>You should be ashamed of yourself \\n\\nThat is ...</td>\n",
       "      <td>0</td>\n",
       "    </tr>\n",
       "    <tr>\n",
       "      <th>159568</th>\n",
       "      <td>Spitzer \\n\\nUmm, theres no actual article for ...</td>\n",
       "      <td>0</td>\n",
       "    </tr>\n",
       "    <tr>\n",
       "      <th>159569</th>\n",
       "      <td>And it looks like it was actually you who put ...</td>\n",
       "      <td>0</td>\n",
       "    </tr>\n",
       "    <tr>\n",
       "      <th>159570</th>\n",
       "      <td>\"\\nAnd ... I really don't think you understand...</td>\n",
       "      <td>0</td>\n",
       "    </tr>\n",
       "  </tbody>\n",
       "</table>\n",
       "<p>159571 rows × 2 columns</p>\n",
       "</div>"
      ],
      "text/plain": [
       "                                                     text  toxic\n",
       "0       Explanation\\nWhy the edits made under my usern...      0\n",
       "1       D'aww! He matches this background colour I'm s...      0\n",
       "2       Hey man, I'm really not trying to edit war. It...      0\n",
       "3       \"\\nMore\\nI can't make any real suggestions on ...      0\n",
       "4       You, sir, are my hero. Any chance you remember...      0\n",
       "...                                                   ...    ...\n",
       "159566  \":::::And for the second time of asking, when ...      0\n",
       "159567  You should be ashamed of yourself \\n\\nThat is ...      0\n",
       "159568  Spitzer \\n\\nUmm, theres no actual article for ...      0\n",
       "159569  And it looks like it was actually you who put ...      0\n",
       "159570  \"\\nAnd ... I really don't think you understand...      0\n",
       "\n",
       "[159571 rows x 2 columns]"
      ]
     },
     "execution_count": 21,
     "metadata": {},
     "output_type": "execute_result"
    }
   ],
   "source": [
    "df = pd.read_csv('/datasets/toxic_comments.csv')\n",
    "df"
   ]
  },
  {
   "cell_type": "markdown",
   "metadata": {},
   "source": [
    "Нужно лемматизировать, очистить от знаков комментарии, сделаем это в следующей ячейке:"
   ]
  },
  {
   "cell_type": "code",
   "execution_count": 22,
   "metadata": {},
   "outputs": [],
   "source": [
    "w_tokenizer = nltk.tokenize.WhitespaceTokenizer()\n",
    "lemmatizer = nltk.stem.WordNetLemmatizer()\n",
    "\n",
    "def lemmatize_text(text):\n",
    "    return \" \".join([lemmatizer.lemmatize(w) for w in w_tokenizer.tokenize(text)])\n",
    "\n",
    "def clear_text(text):\n",
    "    text = re.sub(r'[^a-zA-Z ]', ' ', text).split()\n",
    "    return \" \".join(text)\n",
    "\n",
    "df['lemm_text'] = df['text'].apply(lemmatize_text)\n",
    "df['lemm_text'] = df['text'].apply(clear_text)"
   ]
  },
  {
   "cell_type": "markdown",
   "metadata": {},
   "source": [
    "Далее почистим от стоп слов."
   ]
  },
  {
   "cell_type": "code",
   "execution_count": 23,
   "metadata": {},
   "outputs": [
    {
     "name": "stderr",
     "output_type": "stream",
     "text": [
      "[nltk_data] Downloading package stopwords to /home/jovyan/nltk_data...\n",
      "[nltk_data]   Package stopwords is already up-to-date!\n"
     ]
    }
   ],
   "source": [
    "nltk.download('stopwords')\n",
    "stopwords = set(nltk_stopwords.words('english'))"
   ]
  },
  {
   "cell_type": "markdown",
   "metadata": {},
   "source": [
    "Разделим датасет на выборки, а так же вычислим TF-IDF для корпуса текстов."
   ]
  },
  {
   "cell_type": "code",
   "execution_count": 24,
   "metadata": {},
   "outputs": [],
   "source": [
    "target = df['toxic']\n",
    "features = df['lemm_text']\n",
    "features_train, features_valid, target_train, target_valid = train_test_split(\n",
    "    features, target, test_size=0.25, random_state=12345)"
   ]
  },
  {
   "cell_type": "code",
   "execution_count": 25,
   "metadata": {},
   "outputs": [],
   "source": [
    "count_tf_idf = TfidfVectorizer(stop_words=stopwords) \n",
    "features_train = count_tf_idf.fit_transform(features_train) \n",
    "features_valid = count_tf_idf.transform(features_valid)"
   ]
  },
  {
   "cell_type": "markdown",
   "metadata": {},
   "source": [
    "**Вывод**\n",
    " \n",
    "Данные обработаны и готовы к обучению моделей."
   ]
  },
  {
   "cell_type": "markdown",
   "metadata": {},
   "source": [
    "## Обучение"
   ]
  },
  {
   "cell_type": "markdown",
   "metadata": {},
   "source": [
    "### Логистическая регрессия"
   ]
  },
  {
   "cell_type": "code",
   "execution_count": 26,
   "metadata": {},
   "outputs": [
    {
     "name": "stdout",
     "output_type": "stream",
     "text": [
      "f1: 0.7746947835738069\n"
     ]
    }
   ],
   "source": [
    "model_log_r = LogisticRegression(random_state=12345, solver='liblinear', penalty = 'l1')\n",
    "model_log_r.fit(features_train, target_train) \n",
    "predictions_valid_log_r = model_log_r.predict(features_valid)\n",
    "probabilities_valid = model_log_r.predict_proba(features_valid)\n",
    "print('f1:',f1_score(target_valid, predictions_valid_log_r))"
   ]
  },
  {
   "cell_type": "markdown",
   "metadata": {},
   "source": [
    "### Решающее дерево"
   ]
  },
  {
   "cell_type": "code",
   "execution_count": 7,
   "metadata": {},
   "outputs": [
    {
     "data": {
      "text/plain": [
       "{'max_depth': 69}"
      ]
     },
     "execution_count": 7,
     "metadata": {},
     "output_type": "execute_result"
    }
   ],
   "source": [
    "parametrs = {'max_depth': range (1,70)}\n",
    "model_dtc = DecisionTreeClassifier(random_state=12345)\n",
    "grid_dtc = GridSearchCV(model_dtc, parametrs, cv=5, scoring='f1')\n",
    "grid_dtc.fit(features_train, target_train)\n",
    "grid_dtc.best_params_"
   ]
  },
  {
   "cell_type": "code",
   "execution_count": 27,
   "metadata": {},
   "outputs": [
    {
     "name": "stdout",
     "output_type": "stream",
     "text": [
      "f1: 0.7112842632530958\n"
     ]
    }
   ],
   "source": [
    "model_dtc = DecisionTreeClassifier(random_state=12345, max_depth=69)\n",
    "model_dtc.fit(features_train, target_train)\n",
    "predictions_valid_dtc = model_dtc.predict(features_valid)\n",
    "probabilities_valid = model_dtc.predict_proba(features_valid)\n",
    "print('f1:',f1_score(target_valid, predictions_valid_dtc))"
   ]
  },
  {
   "cell_type": "markdown",
   "metadata": {},
   "source": [
    "## Выводы"
   ]
  },
  {
   "cell_type": "markdown",
   "metadata": {},
   "source": [
    "Лучше всего себя показала модель логистическая регрессия, её результат по метрике F1 = 0,774 против 0,711 у решающего дерева. Задачей проекта было добиться результата выше 0,75, модель так же преодолела этот порог, соответственно, для нашей задачи отбора токсичных комментариев лучше всего подойдет именно она."
   ]
  }
 ],
 "metadata": {
  "ExecuteTimeLog": [
   {
    "duration": 492,
    "start_time": "2022-05-02T14:15:15.362Z"
   },
   {
    "duration": 900,
    "start_time": "2022-05-02T14:15:46.014Z"
   },
   {
    "duration": 70,
    "start_time": "2022-05-03T06:43:15.559Z"
   },
   {
    "duration": 558,
    "start_time": "2022-05-03T06:43:19.044Z"
   },
   {
    "duration": 1257,
    "start_time": "2022-05-03T06:43:19.948Z"
   },
   {
    "duration": 1166,
    "start_time": "2022-05-03T06:43:31.066Z"
   },
   {
    "duration": 481,
    "start_time": "2022-05-03T12:28:23.052Z"
   },
   {
    "duration": 1128,
    "start_time": "2022-05-03T12:28:23.535Z"
   },
   {
    "duration": 1712,
    "start_time": "2022-05-07T11:20:33.270Z"
   },
   {
    "duration": 174,
    "start_time": "2022-05-07T11:26:05.738Z"
   },
   {
    "duration": 1075,
    "start_time": "2022-05-07T11:26:09.643Z"
   },
   {
    "duration": 33861,
    "start_time": "2022-05-07T11:26:12.688Z"
   },
   {
    "duration": 14,
    "start_time": "2022-05-07T11:27:10.489Z"
   },
   {
    "duration": 4,
    "start_time": "2022-05-07T11:27:53.095Z"
   },
   {
    "duration": 824,
    "start_time": "2022-05-07T11:27:53.101Z"
   },
   {
    "duration": 1722,
    "start_time": "2022-05-07T11:28:10.299Z"
   },
   {
    "duration": 1122,
    "start_time": "2022-05-07T11:28:12.023Z"
   },
   {
    "duration": 19463,
    "start_time": "2022-05-07T11:28:13.147Z"
   },
   {
    "duration": 11,
    "start_time": "2022-05-07T11:28:32.612Z"
   },
   {
    "duration": 426,
    "start_time": "2022-05-07T11:34:37.955Z"
   },
   {
    "duration": 3,
    "start_time": "2022-05-07T11:34:43.844Z"
   },
   {
    "duration": 3,
    "start_time": "2022-05-07T11:34:46.843Z"
   },
   {
    "duration": 3,
    "start_time": "2022-05-07T11:35:02.016Z"
   },
   {
    "duration": 67,
    "start_time": "2022-05-07T11:35:59.752Z"
   },
   {
    "duration": 1665,
    "start_time": "2022-05-07T11:36:02.724Z"
   },
   {
    "duration": 1224,
    "start_time": "2022-05-07T11:36:04.392Z"
   },
   {
    "duration": 3076,
    "start_time": "2022-05-07T11:36:05.617Z"
   },
   {
    "duration": 0,
    "start_time": "2022-05-07T11:36:08.694Z"
   },
   {
    "duration": 1640,
    "start_time": "2022-05-07T11:40:18.860Z"
   },
   {
    "duration": 770,
    "start_time": "2022-05-07T11:40:20.502Z"
   },
   {
    "duration": 243530,
    "start_time": "2022-05-07T11:40:21.273Z"
   },
   {
    "duration": 11,
    "start_time": "2022-05-07T11:44:24.805Z"
   },
   {
    "duration": 3,
    "start_time": "2022-05-07T11:45:04.081Z"
   },
   {
    "duration": 696,
    "start_time": "2022-05-07T11:45:04.086Z"
   },
   {
    "duration": 1324,
    "start_time": "2022-05-07T11:45:17.811Z"
   },
   {
    "duration": 752,
    "start_time": "2022-05-07T11:45:19.137Z"
   },
   {
    "duration": 153086,
    "start_time": "2022-05-07T11:45:19.891Z"
   },
   {
    "duration": 21,
    "start_time": "2022-05-07T11:47:52.979Z"
   },
   {
    "duration": 5,
    "start_time": "2022-05-07T11:49:21.593Z"
   },
   {
    "duration": 3,
    "start_time": "2022-05-07T11:53:32.503Z"
   },
   {
    "duration": 1013,
    "start_time": "2022-05-07T11:53:32.509Z"
   },
   {
    "duration": 44,
    "start_time": "2022-05-07T11:54:59.166Z"
   },
   {
    "duration": 1705,
    "start_time": "2022-05-07T11:55:10.596Z"
   },
   {
    "duration": 1122,
    "start_time": "2022-05-07T11:55:12.304Z"
   },
   {
    "duration": 37385,
    "start_time": "2022-05-07T11:55:13.428Z"
   },
   {
    "duration": 16,
    "start_time": "2022-05-07T11:55:50.815Z"
   },
   {
    "duration": 1817,
    "start_time": "2022-05-07T11:56:35.583Z"
   },
   {
    "duration": 1130,
    "start_time": "2022-05-07T11:56:37.403Z"
   },
   {
    "duration": 48297,
    "start_time": "2022-05-07T11:56:38.535Z"
   },
   {
    "duration": 14,
    "start_time": "2022-05-07T11:57:26.834Z"
   },
   {
    "duration": 2139,
    "start_time": "2022-05-07T12:03:53.061Z"
   },
   {
    "duration": 1188,
    "start_time": "2022-05-07T12:03:55.202Z"
   },
   {
    "duration": 52903,
    "start_time": "2022-05-07T12:03:56.392Z"
   },
   {
    "duration": 16,
    "start_time": "2022-05-07T12:04:49.301Z"
   },
   {
    "duration": 1612,
    "start_time": "2022-05-07T12:05:59.231Z"
   },
   {
    "duration": 1142,
    "start_time": "2022-05-07T12:06:00.846Z"
   },
   {
    "duration": 55515,
    "start_time": "2022-05-07T12:06:01.990Z"
   },
   {
    "duration": 16,
    "start_time": "2022-05-07T12:06:57.508Z"
   },
   {
    "duration": 1470,
    "start_time": "2022-05-07T12:08:06.524Z"
   },
   {
    "duration": 767,
    "start_time": "2022-05-07T12:08:07.996Z"
   },
   {
    "duration": 37984,
    "start_time": "2022-05-07T12:08:08.765Z"
   },
   {
    "duration": 0,
    "start_time": "2022-05-07T12:08:46.750Z"
   },
   {
    "duration": 1343,
    "start_time": "2022-05-07T12:46:31.116Z"
   },
   {
    "duration": 11702,
    "start_time": "2022-05-07T12:46:32.461Z"
   },
   {
    "duration": 31066,
    "start_time": "2022-05-07T12:46:44.165Z"
   },
   {
    "duration": 13,
    "start_time": "2022-05-07T12:47:15.233Z"
   },
   {
    "duration": 1386,
    "start_time": "2022-05-07T12:50:02.443Z"
   },
   {
    "duration": 794,
    "start_time": "2022-05-07T12:50:03.831Z"
   },
   {
    "duration": 209,
    "start_time": "2022-05-07T12:50:04.626Z"
   },
   {
    "duration": 0,
    "start_time": "2022-05-07T12:50:04.837Z"
   },
   {
    "duration": 1291,
    "start_time": "2022-05-07T12:50:32.545Z"
   },
   {
    "duration": 752,
    "start_time": "2022-05-07T12:50:33.838Z"
   },
   {
    "duration": 9,
    "start_time": "2022-05-07T12:50:34.591Z"
   },
   {
    "duration": 12,
    "start_time": "2022-05-07T12:50:34.602Z"
   },
   {
    "duration": 1715,
    "start_time": "2022-05-07T12:52:16.618Z"
   },
   {
    "duration": 748,
    "start_time": "2022-05-07T12:52:18.335Z"
   },
   {
    "duration": 30573,
    "start_time": "2022-05-07T12:52:19.085Z"
   },
   {
    "duration": 15,
    "start_time": "2022-05-07T12:52:49.660Z"
   },
   {
    "duration": 3,
    "start_time": "2022-05-07T12:53:20.888Z"
   },
   {
    "duration": 679,
    "start_time": "2022-05-07T12:53:20.897Z"
   },
   {
    "duration": 152021,
    "start_time": "2022-05-07T12:53:21.579Z"
   },
   {
    "duration": 18,
    "start_time": "2022-05-07T12:55:53.602Z"
   },
   {
    "duration": 1352,
    "start_time": "2022-05-07T13:37:05.232Z"
   },
   {
    "duration": 776,
    "start_time": "2022-05-07T13:37:06.586Z"
   },
   {
    "duration": 1917,
    "start_time": "2022-05-07T13:37:07.364Z"
   },
   {
    "duration": 0,
    "start_time": "2022-05-07T13:37:09.282Z"
   },
   {
    "duration": 1273,
    "start_time": "2022-05-07T13:37:58.748Z"
   },
   {
    "duration": 11998,
    "start_time": "2022-05-07T13:38:00.023Z"
   },
   {
    "duration": 1874,
    "start_time": "2022-05-07T13:38:12.023Z"
   },
   {
    "duration": 0,
    "start_time": "2022-05-07T13:38:13.900Z"
   },
   {
    "duration": 1601,
    "start_time": "2022-05-07T13:38:35.639Z"
   },
   {
    "duration": 1059,
    "start_time": "2022-05-07T13:38:37.242Z"
   },
   {
    "duration": 109,
    "start_time": "2022-05-07T13:38:38.302Z"
   },
   {
    "duration": 0,
    "start_time": "2022-05-07T13:38:38.413Z"
   },
   {
    "duration": 1566,
    "start_time": "2022-05-07T13:38:54.580Z"
   },
   {
    "duration": 732,
    "start_time": "2022-05-07T13:38:56.148Z"
   },
   {
    "duration": 120,
    "start_time": "2022-05-07T13:38:56.881Z"
   },
   {
    "duration": 0,
    "start_time": "2022-05-07T13:38:57.003Z"
   },
   {
    "duration": 1332,
    "start_time": "2022-05-07T13:39:14.205Z"
   },
   {
    "duration": 754,
    "start_time": "2022-05-07T13:39:15.539Z"
   },
   {
    "duration": 116,
    "start_time": "2022-05-07T13:39:16.294Z"
   },
   {
    "duration": 0,
    "start_time": "2022-05-07T13:39:16.411Z"
   },
   {
    "duration": 3,
    "start_time": "2022-05-07T13:41:15.259Z"
   },
   {
    "duration": 713,
    "start_time": "2022-05-07T13:41:15.265Z"
   },
   {
    "duration": 21,
    "start_time": "2022-05-07T13:41:15.980Z"
   },
   {
    "duration": 0,
    "start_time": "2022-05-07T13:41:16.002Z"
   },
   {
    "duration": 1321,
    "start_time": "2022-05-07T13:42:08.244Z"
   },
   {
    "duration": 744,
    "start_time": "2022-05-07T13:42:09.567Z"
   },
   {
    "duration": 1310,
    "start_time": "2022-05-07T13:42:25.244Z"
   },
   {
    "duration": 11783,
    "start_time": "2022-05-07T13:42:26.556Z"
   },
   {
    "duration": 193,
    "start_time": "2022-05-07T13:42:38.341Z"
   },
   {
    "duration": 0,
    "start_time": "2022-05-07T13:42:38.536Z"
   },
   {
    "duration": 1330,
    "start_time": "2022-05-07T13:42:51.294Z"
   },
   {
    "duration": 752,
    "start_time": "2022-05-07T13:42:52.626Z"
   },
   {
    "duration": 124,
    "start_time": "2022-05-07T13:42:53.380Z"
   },
   {
    "duration": 0,
    "start_time": "2022-05-07T13:42:53.505Z"
   },
   {
    "duration": 1329,
    "start_time": "2022-05-07T13:43:15.332Z"
   },
   {
    "duration": 784,
    "start_time": "2022-05-07T13:43:16.663Z"
   },
   {
    "duration": 29780,
    "start_time": "2022-05-07T13:43:17.449Z"
   },
   {
    "duration": 10,
    "start_time": "2022-05-07T13:43:47.231Z"
   },
   {
    "duration": 1971,
    "start_time": "2022-05-08T11:37:15.425Z"
   },
   {
    "duration": 1226,
    "start_time": "2022-05-08T11:37:17.399Z"
   },
   {
    "duration": 1757,
    "start_time": "2022-05-08T11:37:39.989Z"
   },
   {
    "duration": 981,
    "start_time": "2022-05-08T11:37:41.749Z"
   },
   {
    "duration": 2222,
    "start_time": "2022-05-08T11:37:54.433Z"
   },
   {
    "duration": 1047,
    "start_time": "2022-05-08T11:37:56.658Z"
   },
   {
    "duration": 3,
    "start_time": "2022-05-08T11:37:57.707Z"
   },
   {
    "duration": 9,
    "start_time": "2022-05-08T11:37:57.714Z"
   },
   {
    "duration": 1703,
    "start_time": "2022-05-08T11:38:08.026Z"
   },
   {
    "duration": 964,
    "start_time": "2022-05-08T11:38:09.731Z"
   },
   {
    "duration": 4,
    "start_time": "2022-05-08T11:38:10.698Z"
   },
   {
    "duration": 13,
    "start_time": "2022-05-08T11:38:10.706Z"
   },
   {
    "duration": 6,
    "start_time": "2022-05-08T11:38:27.386Z"
   },
   {
    "duration": 6,
    "start_time": "2022-05-08T11:38:32.698Z"
   },
   {
    "duration": 6716,
    "start_time": "2022-05-08T11:39:57.400Z"
   },
   {
    "duration": 4,
    "start_time": "2022-05-08T11:40:29.700Z"
   },
   {
    "duration": 7442,
    "start_time": "2022-05-08T11:40:33.086Z"
   },
   {
    "duration": 1845,
    "start_time": "2022-05-08T11:41:04.826Z"
   },
   {
    "duration": 1100,
    "start_time": "2022-05-08T11:41:06.673Z"
   },
   {
    "duration": 3,
    "start_time": "2022-05-08T11:41:07.775Z"
   },
   {
    "duration": 11254,
    "start_time": "2022-05-08T11:41:07.793Z"
   },
   {
    "duration": 18,
    "start_time": "2022-05-08T11:42:27.747Z"
   },
   {
    "duration": 1806,
    "start_time": "2022-05-08T11:47:56.446Z"
   },
   {
    "duration": 998,
    "start_time": "2022-05-08T11:47:58.255Z"
   },
   {
    "duration": 3,
    "start_time": "2022-05-08T11:47:59.255Z"
   },
   {
    "duration": 188,
    "start_time": "2022-05-08T11:47:59.261Z"
   },
   {
    "duration": 0,
    "start_time": "2022-05-08T11:47:59.452Z"
   },
   {
    "duration": 56415,
    "start_time": "2022-05-08T11:49:03.988Z"
   },
   {
    "duration": 1744,
    "start_time": "2022-05-08T11:56:46.331Z"
   },
   {
    "duration": 991,
    "start_time": "2022-05-08T11:56:48.078Z"
   },
   {
    "duration": 4,
    "start_time": "2022-05-08T11:56:49.071Z"
   },
   {
    "duration": 57545,
    "start_time": "2022-05-08T11:56:49.093Z"
   },
   {
    "duration": 17,
    "start_time": "2022-05-08T11:57:46.641Z"
   },
   {
    "duration": 1889,
    "start_time": "2022-05-08T11:58:50.806Z"
   },
   {
    "duration": 1000,
    "start_time": "2022-05-08T11:58:52.698Z"
   },
   {
    "duration": 4,
    "start_time": "2022-05-08T11:58:53.700Z"
   },
   {
    "duration": 62990,
    "start_time": "2022-05-08T11:58:53.706Z"
   },
   {
    "duration": 17,
    "start_time": "2022-05-08T11:59:56.698Z"
   },
   {
    "duration": 10898,
    "start_time": "2022-05-08T12:03:01.122Z"
   },
   {
    "duration": 1314,
    "start_time": "2022-05-08T12:03:56.632Z"
   },
   {
    "duration": 5,
    "start_time": "2022-05-08T12:04:32.458Z"
   },
   {
    "duration": 938,
    "start_time": "2022-05-08T12:04:32.466Z"
   },
   {
    "duration": 4,
    "start_time": "2022-05-08T12:04:33.407Z"
   },
   {
    "duration": 58087,
    "start_time": "2022-05-08T12:04:33.414Z"
   },
   {
    "duration": 10207,
    "start_time": "2022-05-08T12:05:31.504Z"
   },
   {
    "duration": 5,
    "start_time": "2022-05-08T12:05:56.617Z"
   },
   {
    "duration": 170,
    "start_time": "2022-05-08T12:06:24.951Z"
   },
   {
    "duration": 5,
    "start_time": "2022-05-08T12:06:47.558Z"
   },
   {
    "duration": 61,
    "start_time": "2022-05-08T12:06:51.818Z"
   },
   {
    "duration": 41,
    "start_time": "2022-05-08T12:09:18.302Z"
   },
   {
    "duration": 9624,
    "start_time": "2022-05-08T12:09:55.235Z"
   },
   {
    "duration": 1781,
    "start_time": "2022-05-08T14:08:04.332Z"
   },
   {
    "duration": 1034,
    "start_time": "2022-05-08T14:08:06.116Z"
   },
   {
    "duration": 70834,
    "start_time": "2022-05-08T14:08:07.152Z"
   },
   {
    "duration": 12200,
    "start_time": "2022-05-08T14:09:17.989Z"
   },
   {
    "duration": 72,
    "start_time": "2022-05-08T14:09:30.195Z"
   },
   {
    "duration": 7984,
    "start_time": "2022-05-08T14:09:30.269Z"
   },
   {
    "duration": 11832222,
    "start_time": "2022-05-08T14:09:38.255Z"
   },
   {
    "duration": 86015,
    "start_time": "2022-05-08T18:34:11.424Z"
   },
   {
    "duration": 84807,
    "start_time": "2022-05-08T18:36:17.670Z"
   },
   {
    "duration": 762550,
    "start_time": "2022-05-08T18:39:12.594Z"
   },
   {
    "duration": 3351,
    "start_time": "2022-05-08T19:05:48.073Z"
   },
   {
    "duration": 1452,
    "start_time": "2022-05-09T09:40:59.920Z"
   },
   {
    "duration": 875,
    "start_time": "2022-05-09T09:41:01.374Z"
   },
   {
    "duration": 38116,
    "start_time": "2022-05-09T09:41:02.251Z"
   },
   {
    "duration": 6958,
    "start_time": "2022-05-09T09:41:40.368Z"
   },
   {
    "duration": 41,
    "start_time": "2022-05-09T09:41:47.328Z"
   },
   {
    "duration": 7767,
    "start_time": "2022-05-09T09:41:47.370Z"
   },
   {
    "duration": 55,
    "start_time": "2022-05-09T09:44:22.414Z"
   },
   {
    "duration": 115,
    "start_time": "2022-05-09T09:44:31.488Z"
   },
   {
    "duration": 1257,
    "start_time": "2022-05-09T09:44:44.823Z"
   },
   {
    "duration": 10,
    "start_time": "2022-05-09T09:45:08.620Z"
   },
   {
    "duration": 9,
    "start_time": "2022-05-09T09:45:32.015Z"
   },
   {
    "duration": 1725,
    "start_time": "2022-05-09T09:45:36.662Z"
   },
   {
    "duration": 4,
    "start_time": "2022-05-09T09:48:44.313Z"
   },
   {
    "duration": 1450,
    "start_time": "2022-05-09T09:55:49.299Z"
   },
   {
    "duration": 1317,
    "start_time": "2022-05-11T08:49:02.238Z"
   },
   {
    "duration": 917,
    "start_time": "2022-05-11T08:49:03.557Z"
   },
   {
    "duration": 36156,
    "start_time": "2022-05-11T08:49:04.476Z"
   },
   {
    "duration": 140,
    "start_time": "2022-05-11T08:49:40.634Z"
   },
   {
    "duration": 30,
    "start_time": "2022-05-11T08:49:40.777Z"
   },
   {
    "duration": 5311,
    "start_time": "2022-05-11T08:49:40.808Z"
   },
   {
    "duration": 4,
    "start_time": "2022-05-11T08:50:49.479Z"
   },
   {
    "duration": 771,
    "start_time": "2022-05-11T08:50:49.485Z"
   },
   {
    "duration": 34875,
    "start_time": "2022-05-11T08:50:50.258Z"
   },
   {
    "duration": 4,
    "start_time": "2022-05-11T08:51:25.136Z"
   },
   {
    "duration": 35,
    "start_time": "2022-05-11T08:51:25.142Z"
   },
   {
    "duration": 5213,
    "start_time": "2022-05-11T08:51:25.179Z"
   },
   {
    "duration": 5,
    "start_time": "2022-05-11T08:56:31.511Z"
   },
   {
    "duration": 768,
    "start_time": "2022-05-11T08:56:31.518Z"
   },
   {
    "duration": 34669,
    "start_time": "2022-05-11T08:56:32.287Z"
   },
   {
    "duration": 4,
    "start_time": "2022-05-11T08:57:06.957Z"
   },
   {
    "duration": 35,
    "start_time": "2022-05-11T08:57:06.963Z"
   },
   {
    "duration": 7097,
    "start_time": "2022-05-11T08:57:07.000Z"
   },
   {
    "duration": 1501,
    "start_time": "2022-05-11T08:57:18.364Z"
   },
   {
    "duration": 3,
    "start_time": "2022-05-11T09:00:34.425Z"
   },
   {
    "duration": 779,
    "start_time": "2022-05-11T09:00:34.431Z"
   },
   {
    "duration": 36793,
    "start_time": "2022-05-11T09:00:35.212Z"
   },
   {
    "duration": 8,
    "start_time": "2022-05-11T09:01:12.006Z"
   },
   {
    "duration": 29,
    "start_time": "2022-05-11T09:01:12.017Z"
   },
   {
    "duration": 7625,
    "start_time": "2022-05-11T09:01:12.048Z"
   },
   {
    "duration": 1350,
    "start_time": "2022-05-11T09:01:22.933Z"
   },
   {
    "duration": 38129,
    "start_time": "2022-05-11T09:01:30.220Z"
   },
   {
    "duration": 11,
    "start_time": "2022-05-11T09:08:13.579Z"
   },
   {
    "duration": 4,
    "start_time": "2022-05-11T09:08:30.676Z"
   },
   {
    "duration": 12,
    "start_time": "2022-05-11T09:08:34.565Z"
   }
  ],
  "kernelspec": {
   "display_name": "Python 3 (ipykernel)",
   "language": "python",
   "name": "python3"
  },
  "language_info": {
   "codemirror_mode": {
    "name": "ipython",
    "version": 3
   },
   "file_extension": ".py",
   "mimetype": "text/x-python",
   "name": "python",
   "nbconvert_exporter": "python",
   "pygments_lexer": "ipython3",
   "version": "3.10.5"
  },
  "toc": {
   "base_numbering": 1,
   "nav_menu": {},
   "number_sections": true,
   "sideBar": true,
   "skip_h1_title": true,
   "title_cell": "Содержание",
   "title_sidebar": "Contents",
   "toc_cell": true,
   "toc_position": {
    "height": "calc(100% - 180px)",
    "left": "10px",
    "top": "150px",
    "width": "302.391px"
   },
   "toc_section_display": true,
   "toc_window_display": false
  }
 },
 "nbformat": 4,
 "nbformat_minor": 2
}
