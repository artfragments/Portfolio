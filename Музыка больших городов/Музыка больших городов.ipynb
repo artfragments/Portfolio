{
 "cells": [
  {
   "cell_type": "markdown",
   "metadata": {
    "id": "E0vqbgi9ay0H"
   },
   "source": [
    "# Яндекс.Музыка"
   ]
  },
  {
   "cell_type": "markdown",
   "metadata": {
    "id": "VUC88oWjTJw2"
   },
   "source": [
    "Сравнение Москвы и Петербурга окружено мифами. Например:\n",
    " * Москва — мегаполис, подчинённый жёсткому ритму рабочей недели;\n",
    " * Петербург — культурная столица, со своими вкусами.\n",
    "\n",
    "На данных Яндекс.Музыки вы сравните поведение пользователей двух столиц.\n",
    "\n",
    "**Цель исследования** — проверьте три гипотезы:\n",
    "1. Активность пользователей зависит от дня недели. Причём в Москве и Петербурге это проявляется по-разному.\n",
    "2. В понедельник утром в Москве преобладают одни жанры, а в Петербурге — другие. Так же и вечером пятницы преобладают разные жанры — в зависимости от города. \n",
    "3. Москва и Петербург предпочитают разные жанры музыки. В Москве чаще слушают поп-музыку, в Петербурге — русский рэп.\n",
    "\n",
    "**Ход исследования**\n",
    "\n",
    "Данные о поведении пользователей вы получите из файла `yandex_music_project.csv`. О качестве данных ничего не известно. Поэтому перед проверкой гипотез понадобится обзор данных. \n",
    "\n",
    "Вы проверите данные на ошибки и оцените их влияние на исследование. Затем, на этапе предобработки вы поищете возможность исправить самые критичные ошибки данных.\n",
    " \n",
    "Таким образом, исследование пройдёт в три этапа:\n",
    " 1. Обзор данных.\n",
    " 2. Предобработка данных.\n",
    " 3. Проверка гипотез.\n",
    "\n"
   ]
  },
  {
   "cell_type": "markdown",
   "metadata": {
    "id": "Ml1hmfXC_Zcs"
   },
   "source": [
    "## Обзор данных\n",
    "\n",
    "Составьте первое представление о данных Яндекс.Музыки.\n",
    "\n",
    "\n"
   ]
  },
  {
   "cell_type": "markdown",
   "metadata": {
    "id": "57eAOGIz_Zcs"
   },
   "source": [
    "Основной инструмент аналитика — `pandas`. Импортируйте эту библиотеку."
   ]
  },
  {
   "cell_type": "code",
   "execution_count": 1,
   "metadata": {
    "id": "AXN7PHPN_Zcs"
   },
   "outputs": [],
   "source": [
    "import pandas as pd # импорт библиотеки pandas"
   ]
  },
  {
   "cell_type": "markdown",
   "metadata": {
    "id": "SG23P8tt_Zcs"
   },
   "source": [
    "Прочитайте файл `yandex_music_project.csv` из папки `/datasets` и сохраните его в переменной `df`:"
   ]
  },
  {
   "cell_type": "code",
   "execution_count": 2,
   "metadata": {
    "id": "fFVu7vqh_Zct"
   },
   "outputs": [],
   "source": [
    "df = pd.read_csv('/datasets/yandex_music_project.csv') # чтение файла с данными и сохранение в df"
   ]
  },
  {
   "cell_type": "markdown",
   "metadata": {
    "id": "rDoOMd3uTqnZ"
   },
   "source": [
    "Выведите на экран первые десять строк таблицы:"
   ]
  },
  {
   "cell_type": "code",
   "execution_count": 3,
   "metadata": {
    "id": "oWTVX3gW_Zct"
   },
   "outputs": [
    {
     "data": {
      "text/html": [
       "<div>\n",
       "<style scoped>\n",
       "    .dataframe tbody tr th:only-of-type {\n",
       "        vertical-align: middle;\n",
       "    }\n",
       "\n",
       "    .dataframe tbody tr th {\n",
       "        vertical-align: top;\n",
       "    }\n",
       "\n",
       "    .dataframe thead th {\n",
       "        text-align: right;\n",
       "    }\n",
       "</style>\n",
       "<table border=\"1\" class=\"dataframe\">\n",
       "  <thead>\n",
       "    <tr style=\"text-align: right;\">\n",
       "      <th></th>\n",
       "      <th>userID</th>\n",
       "      <th>Track</th>\n",
       "      <th>artist</th>\n",
       "      <th>genre</th>\n",
       "      <th>City</th>\n",
       "      <th>time</th>\n",
       "      <th>Day</th>\n",
       "    </tr>\n",
       "  </thead>\n",
       "  <tbody>\n",
       "    <tr>\n",
       "      <td>0</td>\n",
       "      <td>FFB692EC</td>\n",
       "      <td>Kamigata To Boots</td>\n",
       "      <td>The Mass Missile</td>\n",
       "      <td>rock</td>\n",
       "      <td>Saint-Petersburg</td>\n",
       "      <td>20:28:33</td>\n",
       "      <td>Wednesday</td>\n",
       "    </tr>\n",
       "    <tr>\n",
       "      <td>1</td>\n",
       "      <td>55204538</td>\n",
       "      <td>Delayed Because of Accident</td>\n",
       "      <td>Andreas Rönnberg</td>\n",
       "      <td>rock</td>\n",
       "      <td>Moscow</td>\n",
       "      <td>14:07:09</td>\n",
       "      <td>Friday</td>\n",
       "    </tr>\n",
       "    <tr>\n",
       "      <td>2</td>\n",
       "      <td>20EC38</td>\n",
       "      <td>Funiculì funiculà</td>\n",
       "      <td>Mario Lanza</td>\n",
       "      <td>pop</td>\n",
       "      <td>Saint-Petersburg</td>\n",
       "      <td>20:58:07</td>\n",
       "      <td>Wednesday</td>\n",
       "    </tr>\n",
       "    <tr>\n",
       "      <td>3</td>\n",
       "      <td>A3DD03C9</td>\n",
       "      <td>Dragons in the Sunset</td>\n",
       "      <td>Fire + Ice</td>\n",
       "      <td>folk</td>\n",
       "      <td>Saint-Petersburg</td>\n",
       "      <td>08:37:09</td>\n",
       "      <td>Monday</td>\n",
       "    </tr>\n",
       "    <tr>\n",
       "      <td>4</td>\n",
       "      <td>E2DC1FAE</td>\n",
       "      <td>Soul People</td>\n",
       "      <td>Space Echo</td>\n",
       "      <td>dance</td>\n",
       "      <td>Moscow</td>\n",
       "      <td>08:34:34</td>\n",
       "      <td>Monday</td>\n",
       "    </tr>\n",
       "    <tr>\n",
       "      <td>5</td>\n",
       "      <td>842029A1</td>\n",
       "      <td>Преданная</td>\n",
       "      <td>IMPERVTOR</td>\n",
       "      <td>rusrap</td>\n",
       "      <td>Saint-Petersburg</td>\n",
       "      <td>13:09:41</td>\n",
       "      <td>Friday</td>\n",
       "    </tr>\n",
       "    <tr>\n",
       "      <td>6</td>\n",
       "      <td>4CB90AA5</td>\n",
       "      <td>True</td>\n",
       "      <td>Roman Messer</td>\n",
       "      <td>dance</td>\n",
       "      <td>Moscow</td>\n",
       "      <td>13:00:07</td>\n",
       "      <td>Wednesday</td>\n",
       "    </tr>\n",
       "    <tr>\n",
       "      <td>7</td>\n",
       "      <td>F03E1C1F</td>\n",
       "      <td>Feeling This Way</td>\n",
       "      <td>Polina Griffith</td>\n",
       "      <td>dance</td>\n",
       "      <td>Moscow</td>\n",
       "      <td>20:47:49</td>\n",
       "      <td>Wednesday</td>\n",
       "    </tr>\n",
       "    <tr>\n",
       "      <td>8</td>\n",
       "      <td>8FA1D3BE</td>\n",
       "      <td>И вновь продолжается бой</td>\n",
       "      <td>NaN</td>\n",
       "      <td>ruspop</td>\n",
       "      <td>Moscow</td>\n",
       "      <td>09:17:40</td>\n",
       "      <td>Friday</td>\n",
       "    </tr>\n",
       "    <tr>\n",
       "      <td>9</td>\n",
       "      <td>E772D5C0</td>\n",
       "      <td>Pessimist</td>\n",
       "      <td>NaN</td>\n",
       "      <td>dance</td>\n",
       "      <td>Saint-Petersburg</td>\n",
       "      <td>21:20:49</td>\n",
       "      <td>Wednesday</td>\n",
       "    </tr>\n",
       "  </tbody>\n",
       "</table>\n",
       "</div>"
      ],
      "text/plain": [
       "     userID                        Track            artist   genre  \\\n",
       "0  FFB692EC            Kamigata To Boots  The Mass Missile    rock   \n",
       "1  55204538  Delayed Because of Accident  Andreas Rönnberg    rock   \n",
       "2    20EC38            Funiculì funiculà       Mario Lanza     pop   \n",
       "3  A3DD03C9        Dragons in the Sunset        Fire + Ice    folk   \n",
       "4  E2DC1FAE                  Soul People        Space Echo   dance   \n",
       "5  842029A1                    Преданная         IMPERVTOR  rusrap   \n",
       "6  4CB90AA5                         True      Roman Messer   dance   \n",
       "7  F03E1C1F             Feeling This Way   Polina Griffith   dance   \n",
       "8  8FA1D3BE     И вновь продолжается бой               NaN  ruspop   \n",
       "9  E772D5C0                    Pessimist               NaN   dance   \n",
       "\n",
       "             City        time        Day  \n",
       "0  Saint-Petersburg  20:28:33  Wednesday  \n",
       "1            Moscow  14:07:09     Friday  \n",
       "2  Saint-Petersburg  20:58:07  Wednesday  \n",
       "3  Saint-Petersburg  08:37:09     Monday  \n",
       "4            Moscow  08:34:34     Monday  \n",
       "5  Saint-Petersburg  13:09:41     Friday  \n",
       "6            Moscow  13:00:07  Wednesday  \n",
       "7            Moscow  20:47:49  Wednesday  \n",
       "8            Moscow  09:17:40     Friday  \n",
       "9  Saint-Petersburg  21:20:49  Wednesday  "
      ]
     },
     "execution_count": 3,
     "metadata": {},
     "output_type": "execute_result"
    }
   ],
   "source": [
    "df.head(10) # получение первых 10 строк таблицы df"
   ]
  },
  {
   "cell_type": "markdown",
   "metadata": {
    "id": "EO73Kwic_Zct"
   },
   "source": [
    "Одной командой получить общую информацию о таблице:"
   ]
  },
  {
   "cell_type": "code",
   "execution_count": 4,
   "metadata": {
    "id": "DSf2kIb-_Zct"
   },
   "outputs": [
    {
     "name": "stdout",
     "output_type": "stream",
     "text": [
      "<class 'pandas.core.frame.DataFrame'>\n",
      "RangeIndex: 65079 entries, 0 to 65078\n",
      "Data columns (total 7 columns):\n",
      "  userID    65079 non-null object\n",
      "Track       63848 non-null object\n",
      "artist      57876 non-null object\n",
      "genre       63881 non-null object\n",
      "  City      65079 non-null object\n",
      "time        65079 non-null object\n",
      "Day         65079 non-null object\n",
      "dtypes: object(7)\n",
      "memory usage: 3.5+ MB\n"
     ]
    }
   ],
   "source": [
    "df.info() # получение общей информации о данных в таблице df"
   ]
  },
  {
   "cell_type": "markdown",
   "metadata": {
    "id": "TaQ2Iwbr_Zct"
   },
   "source": [
    "Итак, в таблице семь столбцов. Тип данных во всех столбцах — `object`.\n",
    "\n",
    "Согласно документации к данным:\n",
    "* `userID` — идентификатор пользователя;\n",
    "* `Track` — название трека;  \n",
    "* `artist` — имя исполнителя;\n",
    "* `genre` — название жанра;\n",
    "* `City` — город пользователя;\n",
    "* `time` — время начала прослушивания;\n",
    "* `Day` — день недели.\n",
    "\n",
    "В названиях колонок видны три нарушения стиля:\n",
    "1. Строчные буквы сочетаются с прописными.\n",
    "2. Встречаются пробелы.\n",
    "3. Есть название столбца в верблюжьем регистре.\n",
    "\n",
    "\n",
    "\n",
    "Количество значений в столбцах различается. Значит, в данных есть пропущенные значения.\n"
   ]
  },
  {
   "cell_type": "markdown",
   "metadata": {
    "id": "MCB6-dXG_Zct"
   },
   "source": [
    "**Выводы**\n",
    "\n",
    "В каждой строке таблицы — данные о прослушанном треке. Часть колонок описывает саму композицию: название, исполнителя и жанр. Остальные данные рассказывают о пользователе: из какого он города, когда он слушал музыку. \n",
    "\n",
    "Предварительно можно утверждать, что, данных достаточно для проверки гипотез. Но встречаются пропуски в данных, а в названиях колонок — расхождения с хорошим стилем.\n",
    "\n",
    "Чтобы двигаться дальше, нужно устранить проблемы в данных."
   ]
  },
  {
   "cell_type": "markdown",
   "metadata": {
    "id": "SjYF6Ub9_Zct"
   },
   "source": [
    "## Предобработка данных\n",
    "Исправьте стиль в заголовках столбцов, исключите пропуски. Затем проверьте данные на дубликаты."
   ]
  },
  {
   "cell_type": "markdown",
   "metadata": {
    "id": "dIaKXr29_Zct"
   },
   "source": [
    "### Стиль заголовков\n",
    "Выведите на экран названия столбцов:"
   ]
  },
  {
   "cell_type": "code",
   "execution_count": 5,
   "metadata": {
    "id": "oKOTdF_Q_Zct"
   },
   "outputs": [
    {
     "data": {
      "text/plain": [
       "Index(['  userID', 'Track', 'artist', 'genre', '  City  ', 'time', 'Day'], dtype='object')"
      ]
     },
     "execution_count": 5,
     "metadata": {},
     "output_type": "execute_result"
    }
   ],
   "source": [
    "df.columns # перечень названий столбцов таблицы df"
   ]
  },
  {
   "cell_type": "markdown",
   "metadata": {
    "id": "zj5534cv_Zct"
   },
   "source": [
    "Приведите названия в соответствие с хорошим стилем:\n",
    "* несколько слов в названии запишите в «змеином_регистре»,\n",
    "* все символы сделайте строчными,\n",
    "* устраните пробелы.\n",
    "\n",
    "Для этого переименуйте колонки так:\n",
    "* `'  userID'` → `'user_id'`;\n",
    "* `'Track'` → `'track'`;\n",
    "* `'  City  '` → `'city'`;\n",
    "* `'Day'` → `'day'`."
   ]
  },
  {
   "cell_type": "code",
   "execution_count": 6,
   "metadata": {
    "id": "ISlFqs5y_Zct"
   },
   "outputs": [],
   "source": [
    "df = df.rename(columns = {'  userID': 'user_id', 'Track': 'track', '  City  ': 'city', 'Day': 'day'}) # переименование столбцов"
   ]
  },
  {
   "cell_type": "markdown",
   "metadata": {
    "id": "1dqbh00J_Zct"
   },
   "source": [
    "Проверьте результат. Для этого ещё раз выведите на экран названия столбцов:"
   ]
  },
  {
   "cell_type": "code",
   "execution_count": 7,
   "metadata": {
    "id": "d4NOAmTW_Zct"
   },
   "outputs": [
    {
     "data": {
      "text/plain": [
       "Index(['user_id', 'track', 'artist', 'genre', 'city', 'time', 'day'], dtype='object')"
      ]
     },
     "execution_count": 7,
     "metadata": {},
     "output_type": "execute_result"
    }
   ],
   "source": [
    "df.columns # проверка результатов - перечень названий столбцов"
   ]
  },
  {
   "cell_type": "markdown",
   "metadata": {
    "id": "5ISfbcfY_Zct"
   },
   "source": [
    "### Пропуски значений\n",
    "Сначала посчитайте, сколько в таблице пропущенных значений. Для этого достаточно двух методов `pandas`:"
   ]
  },
  {
   "cell_type": "code",
   "execution_count": 8,
   "metadata": {
    "id": "RskX29qr_Zct"
   },
   "outputs": [
    {
     "data": {
      "text/plain": [
       "user_id       0\n",
       "track      1231\n",
       "artist     7203\n",
       "genre      1198\n",
       "city          0\n",
       "time          0\n",
       "day           0\n",
       "dtype: int64"
      ]
     },
     "execution_count": 8,
     "metadata": {},
     "output_type": "execute_result"
    }
   ],
   "source": [
    "df.isna().sum() # подсчёт пропусков"
   ]
  },
  {
   "cell_type": "markdown",
   "metadata": {
    "id": "qubhgnlO_Zct"
   },
   "source": [
    "Не все пропущенные значения влияют на исследование. Так в `track` и `artist` пропуски не важны для вашей работы. Достаточно заменить их явными обозначениями.\n",
    "\n",
    "Но пропуски в `genre` могут помешать сравнению музыкальных вкусов в Москве и Санкт-Петербурге. На практике было бы правильно установить причину пропусков и восстановить данные. Такой возможности нет в учебном проекте. Придётся:\n",
    "* заполнить и эти пропуски явными обозначениями,\n",
    "* оценить, насколько они повредят расчётам. "
   ]
  },
  {
   "cell_type": "markdown",
   "metadata": {
    "id": "fSv2laPA_Zct"
   },
   "source": [
    "Замените пропущенные значения в столбцах `track`, `artist` и `genre` на строку `'unknown'`. Для этого создайте список `columns_to_replace`, переберите его элементы циклом `for` и для каждого столбца выполните замену пропущенных значений:"
   ]
  },
  {
   "cell_type": "code",
   "execution_count": 9,
   "metadata": {
    "id": "KplB5qWs_Zct"
   },
   "outputs": [],
   "source": [
    "columns_to_replace = ['track', 'artist', 'genre']\n",
    "for column in columns_to_replace:\n",
    "    df[column] = df[column].fillna('unknown') # перебор названий столбцов в цикле и замена пропущенных значений на 'unknown'"
   ]
  },
  {
   "cell_type": "markdown",
   "metadata": {
    "id": "Ilsm-MZo_Zct"
   },
   "source": [
    "Убедитесь, что в таблице не осталось пропусков. Для этого ещё раз посчитайте пропущенные значения."
   ]
  },
  {
   "cell_type": "code",
   "execution_count": 10,
   "metadata": {
    "id": "Tq4nYRX4_Zct"
   },
   "outputs": [
    {
     "data": {
      "text/plain": [
       "user_id    0\n",
       "track      0\n",
       "artist     0\n",
       "genre      0\n",
       "city       0\n",
       "time       0\n",
       "day        0\n",
       "dtype: int64"
      ]
     },
     "execution_count": 10,
     "metadata": {},
     "output_type": "execute_result"
    }
   ],
   "source": [
    "df.isna().sum() # подсчёт пропусков"
   ]
  },
  {
   "cell_type": "markdown",
   "metadata": {
    "id": "BWKRtBJ3_Zct"
   },
   "source": [
    "### Дубликаты\n",
    "Посчитайте явные дубликаты в таблице одной командой:"
   ]
  },
  {
   "cell_type": "code",
   "execution_count": 11,
   "metadata": {
    "id": "36eES_S0_Zct"
   },
   "outputs": [
    {
     "data": {
      "text/plain": [
       "3826"
      ]
     },
     "execution_count": 11,
     "metadata": {},
     "output_type": "execute_result"
    }
   ],
   "source": [
    "df.duplicated().sum() # подсчёт явных дубликатов"
   ]
  },
  {
   "cell_type": "markdown",
   "metadata": {
    "id": "Ot25h6XR_Zct"
   },
   "source": [
    "Вызовите специальный метод `pandas`, чтобы удалить явные дубликаты:"
   ]
  },
  {
   "cell_type": "code",
   "execution_count": 12,
   "metadata": {
    "id": "exFHq6tt_Zct"
   },
   "outputs": [],
   "source": [
    "df = df.drop_duplicates().reset_index(drop= True) # (с удалением старых индексов и формированием новых)"
   ]
  },
  {
   "cell_type": "markdown",
   "metadata": {
    "id": "Im2YwBEG_Zct"
   },
   "source": [
    "Ещё раз посчитайте явные дубликаты в таблице — убедитесь, что полностью от них избавились:"
   ]
  },
  {
   "cell_type": "code",
   "execution_count": 13,
   "metadata": {
    "id": "-8PuNWQ0_Zct"
   },
   "outputs": [
    {
     "data": {
      "text/plain": [
       "0"
      ]
     },
     "execution_count": 13,
     "metadata": {},
     "output_type": "execute_result"
    }
   ],
   "source": [
    "df.duplicated().sum() # проверка на отсутствие дубликатов"
   ]
  },
  {
   "cell_type": "markdown",
   "metadata": {
    "id": "QlFBsxAr_Zct"
   },
   "source": [
    "Теперь избавьтесь от неявных дубликатов в колонке `genre`. Например, название одного и того же жанра может быть записано немного по-разному. Такие ошибки тоже повлияют на результат исследования."
   ]
  },
  {
   "cell_type": "markdown",
   "metadata": {
    "id": "eSjWwsOh_Zct"
   },
   "source": [
    "Выведите на экран список уникальных названий жанров, отсортированный в алфавитном порядке. Для этого:\n",
    "* извлеките нужный столбец датафрейма, \n",
    "* примените к нему метод сортировки,\n",
    "* для отсортированного столбца вызовите метод, который вернёт уникальные значения из столбца."
   ]
  },
  {
   "cell_type": "code",
   "execution_count": 14,
   "metadata": {
    "id": "JIUcqzZN_Zct"
   },
   "outputs": [
    {
     "data": {
      "text/plain": [
       "array(['acid', 'acoustic', 'action', 'adult', 'africa', 'afrikaans',\n",
       "       'alternative', 'alternativepunk', 'ambient', 'americana',\n",
       "       'animated', 'anime', 'arabesk', 'arabic', 'arena',\n",
       "       'argentinetango', 'art', 'audiobook', 'author', 'avantgarde',\n",
       "       'axé', 'baile', 'balkan', 'beats', 'bigroom', 'black', 'bluegrass',\n",
       "       'blues', 'bollywood', 'bossa', 'brazilian', 'breakbeat', 'breaks',\n",
       "       'broadway', 'cantautori', 'cantopop', 'canzone', 'caribbean',\n",
       "       'caucasian', 'celtic', 'chamber', 'chanson', 'children', 'chill',\n",
       "       'chinese', 'choral', 'christian', 'christmas', 'classical',\n",
       "       'classicmetal', 'club', 'colombian', 'comedy', 'conjazz',\n",
       "       'contemporary', 'country', 'cuban', 'dance', 'dancehall',\n",
       "       'dancepop', 'dark', 'death', 'deep', 'deutschrock', 'deutschspr',\n",
       "       'dirty', 'disco', 'dnb', 'documentary', 'downbeat', 'downtempo',\n",
       "       'drum', 'dub', 'dubstep', 'eastern', 'easy', 'electronic',\n",
       "       'electropop', 'emo', 'entehno', 'epicmetal', 'estrada', 'ethnic',\n",
       "       'eurofolk', 'european', 'experimental', 'extrememetal', 'fado',\n",
       "       'fairytail', 'film', 'fitness', 'flamenco', 'folk', 'folklore',\n",
       "       'folkmetal', 'folkrock', 'folktronica', 'forró', 'frankreich',\n",
       "       'französisch', 'french', 'funk', 'future', 'gangsta', 'garage',\n",
       "       'german', 'ghazal', 'gitarre', 'glitch', 'gospel', 'gothic',\n",
       "       'grime', 'grunge', 'gypsy', 'handsup', \"hard'n'heavy\", 'hardcore',\n",
       "       'hardstyle', 'hardtechno', 'hip', 'hip-hop', 'hiphop',\n",
       "       'historisch', 'holiday', 'hop', 'horror', 'house', 'hymn', 'idm',\n",
       "       'independent', 'indian', 'indie', 'indipop', 'industrial',\n",
       "       'inspirational', 'instrumental', 'international', 'irish', 'jam',\n",
       "       'japanese', 'jazz', 'jewish', 'jpop', 'jungle', 'k-pop',\n",
       "       'karadeniz', 'karaoke', 'kayokyoku', 'korean', 'laiko', 'latin',\n",
       "       'latino', 'leftfield', 'local', 'lounge', 'loungeelectronic',\n",
       "       'lovers', 'malaysian', 'mandopop', 'marschmusik', 'meditative',\n",
       "       'mediterranean', 'melodic', 'metal', 'metalcore', 'mexican',\n",
       "       'middle', 'minimal', 'miscellaneous', 'modern', 'mood', 'mpb',\n",
       "       'muslim', 'native', 'neoklassik', 'neue', 'new', 'newage',\n",
       "       'newwave', 'nu', 'nujazz', 'numetal', 'oceania', 'old', 'opera',\n",
       "       'orchestral', 'other', 'piano', 'podcasts', 'pop', 'popdance',\n",
       "       'popelectronic', 'popeurodance', 'poprussian', 'post',\n",
       "       'posthardcore', 'postrock', 'power', 'progmetal', 'progressive',\n",
       "       'psychedelic', 'punjabi', 'punk', 'quebecois', 'ragga', 'ram',\n",
       "       'rancheras', 'rap', 'rave', 'reggae', 'reggaeton', 'regional',\n",
       "       'relax', 'religious', 'retro', 'rhythm', 'rnb', 'rnr', 'rock',\n",
       "       'rockabilly', 'rockalternative', 'rockindie', 'rockother',\n",
       "       'romance', 'roots', 'ruspop', 'rusrap', 'rusrock', 'russian',\n",
       "       'salsa', 'samba', 'scenic', 'schlager', 'self', 'sertanejo',\n",
       "       'shanson', 'shoegazing', 'showtunes', 'singer', 'ska', 'skarock',\n",
       "       'slow', 'smooth', 'soft', 'soul', 'soulful', 'sound', 'soundtrack',\n",
       "       'southern', 'specialty', 'speech', 'spiritual', 'sport',\n",
       "       'stonerrock', 'surf', 'swing', 'synthpop', 'synthrock',\n",
       "       'sängerportrait', 'tango', 'tanzorchester', 'taraftar', 'tatar',\n",
       "       'tech', 'techno', 'teen', 'thrash', 'top', 'traditional',\n",
       "       'tradjazz', 'trance', 'tribal', 'trip', 'triphop', 'tropical',\n",
       "       'türk', 'türkçe', 'ukrrock', 'unknown', 'urban', 'uzbek',\n",
       "       'variété', 'vi', 'videogame', 'vocal', 'western', 'world',\n",
       "       'worldbeat', 'ïîï', 'электроника'], dtype=object)"
      ]
     },
     "execution_count": 14,
     "metadata": {},
     "output_type": "execute_result"
    }
   ],
   "source": [
    "df = df.sort_values(by = \"genre\")\n",
    "df[\"genre\"].unique() # Просмотр уникальных названий жанров"
   ]
  },
  {
   "cell_type": "markdown",
   "metadata": {
    "id": "qej-Qmuo_Zct"
   },
   "source": [
    "Просмотрите список и найдите неявные дубликаты названия `hiphop`. Это могут быть названия с ошибками или альтернативные названия того же жанра.\n",
    "\n",
    "Вы увидите следующие неявные дубликаты:\n",
    "* *hip*,\n",
    "* *hop*,\n",
    "* *hip-hop*.\n",
    "\n",
    "Чтобы очистить от них таблицу, напишите функцию `replace_wrong_genres()` с двумя параметрами: \n",
    "* `wrong_genres` — список дубликатов,\n",
    "* `correct_genre` — строка с правильным значением.\n",
    "\n",
    "Функция должна исправить колонку `genre` в таблице `df`: заменить каждое значение из списка `wrong_genres` на значение из `correct_genre`."
   ]
  },
  {
   "cell_type": "code",
   "execution_count": 15,
   "metadata": {
    "id": "ErNDkmns_Zct"
   },
   "outputs": [],
   "source": [
    "def replace_wrong_genres(wrong_genres, correct_genre):\n",
    "    for wrong_genre in wrong_genres:\n",
    "        df['genre'] = df['genre'].replace(wrong_genres, correct_genre) # Функция для замены неявных дубликатов"
   ]
  },
  {
   "cell_type": "markdown",
   "metadata": {
    "id": "aDoBJxbA_Zct"
   },
   "source": [
    "Вызовите `replace_wrong_genres()` и передайте ей такие аргументы, чтобы она устранила неявные дубликаты: вместо `hip`, `hop` и `hip-hop` в таблице должно быть значение `hiphop`:"
   ]
  },
  {
   "cell_type": "code",
   "execution_count": 16,
   "metadata": {
    "id": "YN5i2hpmSo09"
   },
   "outputs": [],
   "source": [
    "wrong_name = ['hip', 'hop', 'hip-hop']\n",
    "correct_name = 'hiphop'\n",
    "replace_wrong_genres(wrong_name, correct_name) # Устранение неявных дубликатов"
   ]
  },
  {
   "cell_type": "markdown",
   "metadata": {
    "id": "zQKF16_RG15m"
   },
   "source": [
    "Проверьте, что заменили неправильные названия:\n",
    "\n",
    "*   hip\n",
    "*   hop\n",
    "*   hip-hop\n",
    "\n",
    "Выведите отсортированный список уникальных значений столбца `genre`:"
   ]
  },
  {
   "cell_type": "code",
   "execution_count": 17,
   "metadata": {
    "id": "wvixALnFG15m"
   },
   "outputs": [
    {
     "data": {
      "text/plain": [
       "array(['acid', 'acoustic', 'action', 'adult', 'africa', 'afrikaans',\n",
       "       'alternative', 'alternativepunk', 'ambient', 'americana',\n",
       "       'animated', 'anime', 'arabesk', 'arabic', 'arena',\n",
       "       'argentinetango', 'art', 'audiobook', 'author', 'avantgarde',\n",
       "       'axé', 'baile', 'balkan', 'beats', 'bigroom', 'black', 'bluegrass',\n",
       "       'blues', 'bollywood', 'bossa', 'brazilian', 'breakbeat', 'breaks',\n",
       "       'broadway', 'cantautori', 'cantopop', 'canzone', 'caribbean',\n",
       "       'caucasian', 'celtic', 'chamber', 'chanson', 'children', 'chill',\n",
       "       'chinese', 'choral', 'christian', 'christmas', 'classical',\n",
       "       'classicmetal', 'club', 'colombian', 'comedy', 'conjazz',\n",
       "       'contemporary', 'country', 'cuban', 'dance', 'dancehall',\n",
       "       'dancepop', 'dark', 'death', 'deep', 'deutschrock', 'deutschspr',\n",
       "       'dirty', 'disco', 'dnb', 'documentary', 'downbeat', 'downtempo',\n",
       "       'drum', 'dub', 'dubstep', 'eastern', 'easy', 'electronic',\n",
       "       'electropop', 'emo', 'entehno', 'epicmetal', 'estrada', 'ethnic',\n",
       "       'eurofolk', 'european', 'experimental', 'extrememetal', 'fado',\n",
       "       'fairytail', 'film', 'fitness', 'flamenco', 'folk', 'folklore',\n",
       "       'folkmetal', 'folkrock', 'folktronica', 'forró', 'frankreich',\n",
       "       'französisch', 'french', 'funk', 'future', 'gangsta', 'garage',\n",
       "       'german', 'ghazal', 'gitarre', 'glitch', 'gospel', 'gothic',\n",
       "       'grime', 'grunge', 'gypsy', 'handsup', \"hard'n'heavy\", 'hardcore',\n",
       "       'hardstyle', 'hardtechno', 'hiphop', 'historisch', 'holiday',\n",
       "       'horror', 'house', 'hymn', 'idm', 'independent', 'indian', 'indie',\n",
       "       'indipop', 'industrial', 'inspirational', 'instrumental',\n",
       "       'international', 'irish', 'jam', 'japanese', 'jazz', 'jewish',\n",
       "       'jpop', 'jungle', 'k-pop', 'karadeniz', 'karaoke', 'kayokyoku',\n",
       "       'korean', 'laiko', 'latin', 'latino', 'leftfield', 'local',\n",
       "       'lounge', 'loungeelectronic', 'lovers', 'malaysian', 'mandopop',\n",
       "       'marschmusik', 'meditative', 'mediterranean', 'melodic', 'metal',\n",
       "       'metalcore', 'mexican', 'middle', 'minimal', 'miscellaneous',\n",
       "       'modern', 'mood', 'mpb', 'muslim', 'native', 'neoklassik', 'neue',\n",
       "       'new', 'newage', 'newwave', 'nu', 'nujazz', 'numetal', 'oceania',\n",
       "       'old', 'opera', 'orchestral', 'other', 'piano', 'podcasts', 'pop',\n",
       "       'popdance', 'popelectronic', 'popeurodance', 'poprussian', 'post',\n",
       "       'posthardcore', 'postrock', 'power', 'progmetal', 'progressive',\n",
       "       'psychedelic', 'punjabi', 'punk', 'quebecois', 'ragga', 'ram',\n",
       "       'rancheras', 'rap', 'rave', 'reggae', 'reggaeton', 'regional',\n",
       "       'relax', 'religious', 'retro', 'rhythm', 'rnb', 'rnr', 'rock',\n",
       "       'rockabilly', 'rockalternative', 'rockindie', 'rockother',\n",
       "       'romance', 'roots', 'ruspop', 'rusrap', 'rusrock', 'russian',\n",
       "       'salsa', 'samba', 'scenic', 'schlager', 'self', 'sertanejo',\n",
       "       'shanson', 'shoegazing', 'showtunes', 'singer', 'ska', 'skarock',\n",
       "       'slow', 'smooth', 'soft', 'soul', 'soulful', 'sound', 'soundtrack',\n",
       "       'southern', 'specialty', 'speech', 'spiritual', 'sport',\n",
       "       'stonerrock', 'surf', 'swing', 'synthpop', 'synthrock',\n",
       "       'sängerportrait', 'tango', 'tanzorchester', 'taraftar', 'tatar',\n",
       "       'tech', 'techno', 'teen', 'thrash', 'top', 'traditional',\n",
       "       'tradjazz', 'trance', 'tribal', 'trip', 'triphop', 'tropical',\n",
       "       'türk', 'türkçe', 'ukrrock', 'unknown', 'urban', 'uzbek',\n",
       "       'variété', 'vi', 'videogame', 'vocal', 'western', 'world',\n",
       "       'worldbeat', 'ïîï', 'электроника'], dtype=object)"
      ]
     },
     "execution_count": 17,
     "metadata": {},
     "output_type": "execute_result"
    }
   ],
   "source": [
    "df[\"genre\"].unique() # Проверка на неявные дубликаты"
   ]
  },
  {
   "cell_type": "markdown",
   "metadata": {
    "id": "jz6a9-7HQUDd"
   },
   "source": [
    "**Выводы**\n",
    "\n",
    "Предобработка обнаружила три проблемы в данных:\n",
    "\n",
    "- нарушения в стиле заголовков,\n",
    "- пропущенные значения,\n",
    "- дубликаты — явные и неявные.\n",
    "\n",
    "Вы исправили заголовки, чтобы упростить работу с таблицей. Без дубликатов исследование станет более точным.\n",
    "\n",
    "Пропущенные значения вы заменили на `'unknown'`. Ещё предстоит увидеть, не повредят ли исследованию пропуски в колонке `genre`.\n",
    "\n",
    "Теперь можно перейти к проверке гипотез. "
   ]
  },
  {
   "cell_type": "markdown",
   "metadata": {
    "id": "WttZHXH0SqKk"
   },
   "source": [
    "## Проверка гипотез"
   ]
  },
  {
   "cell_type": "markdown",
   "metadata": {
    "id": "Im936VVi_Zcu"
   },
   "source": [
    "### Сравнение поведения пользователей двух столиц"
   ]
  },
  {
   "cell_type": "markdown",
   "metadata": {
    "id": "nwt_MuaL_Zcu"
   },
   "source": [
    "Первая гипотеза утверждает, что пользователи по-разному слушают музыку в Москве и Санкт-Петербурге. Проверьте это предположение по данным о трёх днях недели — понедельнике, среде и пятнице. Для этого:\n",
    "\n",
    "* Разделите пользователей Москвы и Санкт-Петербурга\n",
    "* Сравните, сколько треков послушала каждая группа пользователей в понедельник, среду и пятницу.\n"
   ]
  },
  {
   "cell_type": "markdown",
   "metadata": {
    "id": "8Dw_YMmT_Zcu"
   },
   "source": [
    "Для тренировки сначала выполните каждый из расчётов по отдельности. \n",
    "\n",
    "Оцените активность пользователей в каждом городе. Сгруппируйте данные по городу и посчитайте прослушивания в каждой группе.\n",
    "\n"
   ]
  },
  {
   "cell_type": "code",
   "execution_count": 18,
   "metadata": {
    "id": "0_Qs96oh_Zcu"
   },
   "outputs": [
    {
     "data": {
      "text/plain": [
       "'Москва:'"
      ]
     },
     "metadata": {},
     "output_type": "display_data"
    },
    {
     "data": {
      "text/plain": [
       "42741"
      ]
     },
     "metadata": {},
     "output_type": "display_data"
    },
    {
     "data": {
      "text/plain": [
       "'Санкт-Петербург:'"
      ]
     },
     "metadata": {},
     "output_type": "display_data"
    },
    {
     "data": {
      "text/plain": [
       "18512"
      ]
     },
     "metadata": {},
     "output_type": "display_data"
    }
   ],
   "source": [
    "Moscow_count = 0\n",
    "SP_count = 0\n",
    "for i in df['city']:\n",
    "    if i == \"Moscow\":\n",
    "        Moscow_count += 1\n",
    "    else:\n",
    "        SP_count += 1 \n",
    "        \n",
    "display(\"Москва:\",Moscow_count, \"Санкт-Петербург:\", SP_count) # Подсчёт прослушиваний в каждом городе"
   ]
  },
  {
   "cell_type": "markdown",
   "metadata": {
    "id": "dzli3w8o_Zcu"
   },
   "source": [
    "В Москве прослушиваний больше, чем в Петербурге. Из этого не следует, что московские пользователи чаще слушают музыку. Просто самих пользователей в Москве больше.\n",
    "\n",
    "Теперь сгруппируйте данные по дню недели и подсчитайте прослушивания в понедельник, среду и пятницу. Учтите, что в данных есть информация только о прослушиваниях только за эти дни.\n"
   ]
  },
  {
   "cell_type": "code",
   "execution_count": 19,
   "metadata": {
    "id": "uZMKjiJz_Zcu"
   },
   "outputs": [
    {
     "data": {
      "text/plain": [
       "'Понедельник'"
      ]
     },
     "metadata": {},
     "output_type": "display_data"
    },
    {
     "data": {
      "text/plain": [
       "21354"
      ]
     },
     "metadata": {},
     "output_type": "display_data"
    },
    {
     "data": {
      "text/plain": [
       "'Среда'"
      ]
     },
     "metadata": {},
     "output_type": "display_data"
    },
    {
     "data": {
      "text/plain": [
       "18059"
      ]
     },
     "metadata": {},
     "output_type": "display_data"
    },
    {
     "data": {
      "text/plain": [
       "'Пятница'"
      ]
     },
     "metadata": {},
     "output_type": "display_data"
    },
    {
     "data": {
      "text/plain": [
       "21840"
      ]
     },
     "metadata": {},
     "output_type": "display_data"
    }
   ],
   "source": [
    "first_day = df[df['day'] == 'Monday'].count()\n",
    "third_day = df[df['day'] == 'Wednesday'].count()\n",
    "fifth_day = df[df['day'] == 'Friday'].count() \n",
    "display(\"Понедельник\", first_day['day'], \"Среда\", third_day['day'], \"Пятница\", fifth_day['day']) # Подсчёт прослушиваний в каждый из трёх дней"
   ]
  },
  {
   "cell_type": "markdown",
   "metadata": {
    "id": "cC2tNrlL_Zcu"
   },
   "source": [
    "В среднем пользователи из двух городов менее активны по средам. Но картина может измениться, если рассмотреть каждый город в отдельности."
   ]
  },
  {
   "cell_type": "markdown",
   "metadata": {
    "id": "POzs8bGa_Zcu"
   },
   "source": [
    "Вы видели, как работает группировка по городу и по дням недели. Теперь напишите функцию, которая объединит два эти расчёта.\n",
    "\n",
    "Создайте функцию `number_tracks()`, которая посчитает прослушивания для заданного дня и города. Ей понадобятся два параметра:\n",
    "* день недели,\n",
    "* название города.\n",
    "\n",
    "В функции сохраните в переменную строки исходной таблицы, у которых значение:\n",
    "  * в колонке `day` равно параметру `day`,\n",
    "  * в колонке `city` равно параметру `city`.\n",
    "\n",
    "Для этого примените последовательную фильтрацию с логической индексацией.\n",
    "\n",
    "Затем посчитайте значения в столбце `user_id` получившейся таблицы. Результат сохраните в новую переменную. Верните эту переменную из функции."
   ]
  },
  {
   "cell_type": "code",
   "execution_count": 20,
   "metadata": {
    "id": "Nz3GdQB1_Zcu"
   },
   "outputs": [],
   "source": [
    "def number_tracks(day, city):\n",
    "    track_list = df[df['day'] == day]\n",
    "    track_list = track_list[track_list['city'] == city]\n",
    "    track_list_count = track_list['user_id'].count()\n",
    "    return track_list_count\n",
    "# <создание функции number_tracks()>\n",
    "# Объявляется функция с двумя параметрами: day, city.\n",
    "# В переменной track_list сохраняются те строки таблицы df, для которых \n",
    "# значение в столбце 'day' равно параметру day и одновременно значение\n",
    "# в столбце 'city' равно параметру city (используйте последовательную фильтрацию\n",
    "# с помощью логической индексации).\n",
    "# В переменной track_list_count сохраняется число значений столбца 'user_id',\n",
    "# рассчитанное методом count() для таблицы track_list.\n",
    "# Функция возвращает число - значение track_list_count.\n",
    "\n",
    "# Функция для подсчёта прослушиваний для конкретного города и дня.\n",
    "# С помощью последовательной фильтрации с логической индексацией она \n",
    "# сначала получит из исходной таблицы строки с нужным днём,\n",
    "# затем из результата отфильтрует строки с нужным городом,\n",
    "# методом count() посчитает количество значений в колонке user_id. \n",
    "# Это количество функция вернёт в качестве результата"
   ]
  },
  {
   "cell_type": "markdown",
   "metadata": {
    "id": "ytf7xFrFJQ2r"
   },
   "source": [
    "Вызовите `number_tracks()` шесть раз, меняя значение параметров — так, чтобы получить данные для каждого города в каждый из трёх дней."
   ]
  },
  {
   "cell_type": "code",
   "execution_count": 21,
   "metadata": {
    "id": "rJcRATNQ_Zcu"
   },
   "outputs": [
    {
     "data": {
      "text/plain": [
       "15740"
      ]
     },
     "execution_count": 21,
     "metadata": {},
     "output_type": "execute_result"
    }
   ],
   "source": [
    "number_tracks('Monday', 'Moscow') # количество прослушиваний в Москве по понедельникам"
   ]
  },
  {
   "cell_type": "code",
   "execution_count": 22,
   "metadata": {
    "id": "hq_ncZ5T_Zcu"
   },
   "outputs": [
    {
     "data": {
      "text/plain": [
       "5614"
      ]
     },
     "execution_count": 22,
     "metadata": {},
     "output_type": "execute_result"
    }
   ],
   "source": [
    "number_tracks('Monday', 'Saint-Petersburg') # количество прослушиваний в Санкт-Петербурге по понедельникам"
   ]
  },
  {
   "cell_type": "code",
   "execution_count": 23,
   "metadata": {
    "id": "_NTy2VPU_Zcu"
   },
   "outputs": [
    {
     "data": {
      "text/plain": [
       "11056"
      ]
     },
     "execution_count": 23,
     "metadata": {},
     "output_type": "execute_result"
    }
   ],
   "source": [
    "number_tracks('Wednesday', 'Moscow') # количество прослушиваний в Москве по средам"
   ]
  },
  {
   "cell_type": "code",
   "execution_count": 24,
   "metadata": {
    "id": "j2y3TAwo_Zcu"
   },
   "outputs": [
    {
     "data": {
      "text/plain": [
       "7003"
      ]
     },
     "execution_count": 24,
     "metadata": {},
     "output_type": "execute_result"
    }
   ],
   "source": [
    "number_tracks('Wednesday', 'Saint-Petersburg') # количество прослушиваний в Санкт-Петербурге по средам"
   ]
  },
  {
   "cell_type": "code",
   "execution_count": 25,
   "metadata": {
    "id": "vYDw5u_K_Zcu"
   },
   "outputs": [
    {
     "data": {
      "text/plain": [
       "15945"
      ]
     },
     "execution_count": 25,
     "metadata": {},
     "output_type": "execute_result"
    }
   ],
   "source": [
    "number_tracks('Friday', 'Moscow') # количество прослушиваний в Москве по пятницам"
   ]
  },
  {
   "cell_type": "code",
   "execution_count": 26,
   "metadata": {
    "id": "8_yzFtW3_Zcu"
   },
   "outputs": [
    {
     "data": {
      "text/plain": [
       "5895"
      ]
     },
     "execution_count": 26,
     "metadata": {},
     "output_type": "execute_result"
    }
   ],
   "source": [
    "number_tracks('Friday', 'Saint-Petersburg') # количество прослушиваний в Санкт-Петербурге по пятницам"
   ]
  },
  {
   "cell_type": "markdown",
   "metadata": {
    "id": "7QXffbO-_Zcu"
   },
   "source": [
    "Создайте c помощью конструктора `pd.DataFrame` таблицу, где\n",
    "* названия колонок — `['city', 'monday', 'wednesday', 'friday']`;\n",
    "* данные — результаты, которые вы получили с помощью `number_tracks`."
   ]
  },
  {
   "cell_type": "code",
   "execution_count": 27,
   "metadata": {
    "id": "APAcLpOr_Zcu"
   },
   "outputs": [
    {
     "data": {
      "text/html": [
       "<div>\n",
       "<style scoped>\n",
       "    .dataframe tbody tr th:only-of-type {\n",
       "        vertical-align: middle;\n",
       "    }\n",
       "\n",
       "    .dataframe tbody tr th {\n",
       "        vertical-align: top;\n",
       "    }\n",
       "\n",
       "    .dataframe thead th {\n",
       "        text-align: right;\n",
       "    }\n",
       "</style>\n",
       "<table border=\"1\" class=\"dataframe\">\n",
       "  <thead>\n",
       "    <tr style=\"text-align: right;\">\n",
       "      <th></th>\n",
       "      <th>city</th>\n",
       "      <th>monday</th>\n",
       "      <th>wednesday</th>\n",
       "      <th>friday</th>\n",
       "    </tr>\n",
       "  </thead>\n",
       "  <tbody>\n",
       "    <tr>\n",
       "      <td>0</td>\n",
       "      <td>Moscow</td>\n",
       "      <td>15740</td>\n",
       "      <td>11056</td>\n",
       "      <td>15945</td>\n",
       "    </tr>\n",
       "    <tr>\n",
       "      <td>1</td>\n",
       "      <td>Saint-Petersburg</td>\n",
       "      <td>5614</td>\n",
       "      <td>7003</td>\n",
       "      <td>5895</td>\n",
       "    </tr>\n",
       "  </tbody>\n",
       "</table>\n",
       "</div>"
      ],
      "text/plain": [
       "               city  monday  wednesday  friday\n",
       "0            Moscow   15740      11056   15945\n",
       "1  Saint-Petersburg    5614       7003    5895"
      ]
     },
     "metadata": {},
     "output_type": "display_data"
    }
   ],
   "source": [
    "data_music = [['Moscow', 15740, 11056, 15945], ['Saint-Petersburg', 5614, 7003, 5895]]\n",
    "columns_music = ['city', 'monday', 'wednesday', 'friday'] \n",
    "week_music = pd.DataFrame(data=data_music, columns=columns_music) # Таблица с результатами\n",
    "display(week_music)"
   ]
  },
  {
   "cell_type": "markdown",
   "metadata": {
    "id": "-EgPIHYu_Zcu"
   },
   "source": [
    "**Выводы**\n",
    "\n",
    "Данные показывают разницу поведения пользователей:\n",
    "\n",
    "- В Москве пик прослушиваний приходится на понедельник и пятницу, а в среду заметен спад.\n",
    "- В Петербурге, наоборот, больше слушают музыку по средам. Активность в понедельник и пятницу здесь почти в равной мере уступает среде.\n",
    "\n",
    "Значит, данные говорят в пользу первой гипотезы."
   ]
  },
  {
   "cell_type": "markdown",
   "metadata": {
    "id": "atZAxtq4_Zcu"
   },
   "source": [
    "### Музыка в начале и в конце недели"
   ]
  },
  {
   "cell_type": "markdown",
   "metadata": {
    "id": "eXrQqXFH_Zcu"
   },
   "source": [
    "Согласно второй гипотезе, утром в понедельник в Москве преобладают одни жанры, а в Петербурге — другие. Так же и вечером пятницы преобладают разные жанры — в зависимости от города."
   ]
  },
  {
   "cell_type": "markdown",
   "metadata": {
    "id": "S8UcW6Hw_Zcu"
   },
   "source": [
    "Сохраните таблицы с данными в две переменные:\n",
    "* по Москве — в `moscow_general`;\n",
    "* по Санкт-Петербургу — в `spb_general`."
   ]
  },
  {
   "cell_type": "code",
   "execution_count": 28,
   "metadata": {
    "id": "qeaFfM_P_Zcu"
   },
   "outputs": [],
   "source": [
    "moscow_general = df[df['city'] == 'Moscow' ] # получение таблицы moscow_general из тех строк таблицы df, \n",
    "# для которых значение в столбце 'city' равно 'Moscow'\n"
   ]
  },
  {
   "cell_type": "code",
   "execution_count": 29,
   "metadata": {
    "id": "ORaVRKto_Zcu"
   },
   "outputs": [],
   "source": [
    "spb_general = df[df['city'] == 'Saint-Petersburg' ] # получение таблицы spb_general из тех строк таблицы df,\n",
    "# для которых значение в столбце 'city' равно 'Saint-Petersburg'\n"
   ]
  },
  {
   "cell_type": "markdown",
   "metadata": {
    "id": "MEJV-CX2_Zcu"
   },
   "source": [
    "Создайте функцию `genre_weekday()` с четырьмя параметрами:\n",
    "* таблица (датафрейм) с данными,\n",
    "* день недели,\n",
    "* начальная временная метка в формате 'hh:mm', \n",
    "* последняя временная метка в формате 'hh:mm'.\n",
    "\n",
    "Функция должна вернуть информацию о топ-10 жанров тех треков, которые прослушивали в указанный день, в промежутке между двумя отметками времени."
   ]
  },
  {
   "cell_type": "code",
   "execution_count": 30,
   "metadata": {
    "id": "laJT9BYl_Zcu"
   },
   "outputs": [],
   "source": [
    "def genre_weekday(table, day, time1, time2):\n",
    "    genre_df_day = table[df['day'] == day]\n",
    "    genre_df_time = genre_df_day[genre_df_day['time'] > time1]\n",
    "    genre_df = genre_df_time[genre_df_time['time'] < time2]\n",
    "    genre_df_count = genre_df.groupby('genre')['genre'].count()\n",
    "    genre_df_sorted = genre_df_count.sort_values(ascending=False)\n",
    "    return genre_df_sorted.head(10)\n",
    "# Объявление функции genre_weekday() с параметрами table, day, time1, time2,\n",
    "# которая возвращает информацию о самых популярных жанрах в указанный день в\n",
    "# заданное время:\n",
    "# 1) в переменную genre_df сохраняются те строки переданного датафрейма table, для\n",
    "#    которых одновременно:\n",
    "#    - значение в столбце day равно значению аргумента day\n",
    "#    - значение в столбце time больше значения аргумента time1\n",
    "#    - значение в столбце time меньше значения аргумента time2\n",
    "#    Используйте последовательную фильтрацию с помощью логической индексации.\n",
    "# 2) сгруппировать датафрейм genre_df по столбцу genre, взять один из его\n",
    "#    столбцов и посчитать методом count() количество записей для каждого из\n",
    "#    присутствующих жанров, получившийся Series записать в переменную\n",
    "#    genre_df_count\n",
    "# 3) отсортировать genre_df_count по убыванию встречаемости и сохранить\n",
    "#    в переменную genre_df_sorted\n",
    "# 4) вернуть Series из 10 первых значений genre_df_sorted, это будут топ-10\n",
    "#    популярных жанров (в указанный день, в заданное время)"
   ]
  },
  {
   "cell_type": "markdown",
   "metadata": {
    "id": "la2s2_PF_Zcu"
   },
   "source": [
    "Cравните результаты функции `genre_weekday()` для Москвы и Санкт-Петербурга в понедельник утром (с 7:00 до 11:00) и в пятницу вечером (с 17:00 до 23:00):"
   ]
  },
  {
   "cell_type": "code",
   "execution_count": 31,
   "metadata": {
    "id": "yz7itPUQ_Zcu"
   },
   "outputs": [
    {
     "name": "stderr",
     "output_type": "stream",
     "text": [
      "/opt/conda/lib/python3.7/site-packages/ipykernel_launcher.py:2: UserWarning: Boolean Series key will be reindexed to match DataFrame index.\n",
      "  \n"
     ]
    },
    {
     "data": {
      "text/plain": [
       "genre\n",
       "pop            781\n",
       "dance          549\n",
       "electronic     480\n",
       "rock           474\n",
       "hiphop         286\n",
       "ruspop         186\n",
       "world          181\n",
       "rusrap         175\n",
       "alternative    164\n",
       "unknown        161\n",
       "Name: genre, dtype: int64"
      ]
     },
     "execution_count": 31,
     "metadata": {},
     "output_type": "execute_result"
    }
   ],
   "source": [
    "genre_weekday(moscow_general, 'Monday', '07:00', '11:00')\n",
    "# вызов функции для утра понедельника в Москве (вместо df — таблица moscow_general)\n",
    "# объекты, хранящие время, являются строками и сравниваются как строки\n",
    "# пример вызова: genre_weekday(moscow_general, 'Monday', '07:00', '11:00')"
   ]
  },
  {
   "cell_type": "code",
   "execution_count": 32,
   "metadata": {
    "id": "kwUcHPdy_Zcu"
   },
   "outputs": [
    {
     "name": "stderr",
     "output_type": "stream",
     "text": [
      "/opt/conda/lib/python3.7/site-packages/ipykernel_launcher.py:2: UserWarning: Boolean Series key will be reindexed to match DataFrame index.\n",
      "  \n"
     ]
    },
    {
     "data": {
      "text/plain": [
       "genre\n",
       "pop            218\n",
       "dance          182\n",
       "rock           162\n",
       "electronic     147\n",
       "hiphop          80\n",
       "ruspop          64\n",
       "alternative     58\n",
       "rusrap          55\n",
       "jazz            44\n",
       "classical       40\n",
       "Name: genre, dtype: int64"
      ]
     },
     "execution_count": 32,
     "metadata": {},
     "output_type": "execute_result"
    }
   ],
   "source": [
    "genre_weekday(spb_general, 'Monday', '07:00', '11:00') # вызов функции для утра понедельника в Петербурге (вместо df — таблица spb_general)"
   ]
  },
  {
   "cell_type": "code",
   "execution_count": 33,
   "metadata": {
    "id": "EzXVRE1o_Zcu"
   },
   "outputs": [
    {
     "name": "stderr",
     "output_type": "stream",
     "text": [
      "/opt/conda/lib/python3.7/site-packages/ipykernel_launcher.py:2: UserWarning: Boolean Series key will be reindexed to match DataFrame index.\n",
      "  \n"
     ]
    },
    {
     "data": {
      "text/plain": [
       "genre\n",
       "pop            713\n",
       "rock           517\n",
       "dance          495\n",
       "electronic     482\n",
       "hiphop         273\n",
       "world          208\n",
       "ruspop         170\n",
       "alternative    163\n",
       "classical      163\n",
       "rusrap         142\n",
       "Name: genre, dtype: int64"
      ]
     },
     "execution_count": 33,
     "metadata": {},
     "output_type": "execute_result"
    }
   ],
   "source": [
    "genre_weekday(moscow_general, 'Friday', '18:00', '23:00') # вызов функции для вечера пятницы в Москве"
   ]
  },
  {
   "cell_type": "code",
   "execution_count": 34,
   "metadata": {
    "id": "JZaEKu5v_Zcu"
   },
   "outputs": [
    {
     "name": "stderr",
     "output_type": "stream",
     "text": [
      "/opt/conda/lib/python3.7/site-packages/ipykernel_launcher.py:2: UserWarning: Boolean Series key will be reindexed to match DataFrame index.\n",
      "  \n"
     ]
    },
    {
     "data": {
      "text/plain": [
       "genre\n",
       "pop            256\n",
       "rock           216\n",
       "electronic     216\n",
       "dance          210\n",
       "hiphop          97\n",
       "alternative     63\n",
       "jazz            61\n",
       "classical       60\n",
       "rusrap          59\n",
       "world           54\n",
       "Name: genre, dtype: int64"
      ]
     },
     "execution_count": 34,
     "metadata": {},
     "output_type": "execute_result"
    }
   ],
   "source": [
    "genre_weekday(spb_general, 'Friday', '18:00', '23:00') # вызов функции для вечера пятницы в Петербурге"
   ]
  },
  {
   "cell_type": "markdown",
   "metadata": {
    "id": "wrCe4MNX_Zcu"
   },
   "source": [
    "**Выводы**\n",
    "\n",
    "Если сравнить топ-10 жанров в понедельник утром, можно сделать такие выводы:\n",
    "\n",
    "1. В Москве и Петербурге слушают похожую музыку. Единственное отличие — в московский рейтинг вошёл жанр “world”, а в петербургский — джаз и классика.\n",
    "\n",
    "2. В Москве пропущенных значений оказалось так много, что значение `'unknown'` заняло десятое место среди самых популярных жанров. Значит, пропущенные значения занимают существенную долю в данных и угрожают достоверности исследования.\n",
    "\n",
    "Вечер пятницы не меняет эту картину. Некоторые жанры поднимаются немного выше, другие спускаются, но в целом топ-10 остаётся тем же самым.\n",
    "\n",
    "Таким образом, вторая гипотеза подтвердилась лишь частично:\n",
    "* Пользователи слушают похожую музыку в начале недели и в конце.\n",
    "* Разница между Москвой и Петербургом не слишком выражена. В Москве чаще слушают русскую популярную музыку, в Петербурге — джаз.\n",
    "\n",
    "Однако пропуски в данных ставят под сомнение этот результат. В Москве их так много, что рейтинг топ-10 мог бы выглядеть иначе, если бы не утерянные  данные о жанрах."
   ]
  },
  {
   "cell_type": "markdown",
   "metadata": {
    "id": "JolODAqr_Zcu"
   },
   "source": [
    "### Жанровые предпочтения в Москве и Петербурге\n",
    "\n",
    "Гипотеза: Петербург — столица рэпа, музыку этого жанра там слушают чаще, чем в Москве.  А Москва — город контрастов, в котором, тем не менее, преобладает поп-музыка."
   ]
  },
  {
   "cell_type": "markdown",
   "metadata": {
    "id": "DlegSvaT_Zcu"
   },
   "source": [
    "Сгруппируйте таблицу `moscow_general` по жанру и посчитайте прослушивания треков каждого жанра методом `count()`. Затем отсортируйте результат в порядке убывания и сохраните его в таблице `moscow_genres`."
   ]
  },
  {
   "cell_type": "code",
   "execution_count": 35,
   "metadata": {
    "id": "r19lIPke_Zcu"
   },
   "outputs": [],
   "source": [
    "moscow_genres = moscow_general.groupby('genre')['genre'].count().sort_values(ascending=False) \n",
    "# одной строкой: группировка таблицы moscow_general по столбцу 'genre', \n",
    "# подсчёт числа значений 'genre' в этой группировке методом count(), \n",
    "# сортировка получившегося Series в порядке убывания и сохранение в moscow_genres"
   ]
  },
  {
   "cell_type": "markdown",
   "metadata": {
    "id": "6kMuomxTiIr8"
   },
   "source": [
    "Выведите на экран первые десять строк `moscow_genres`:"
   ]
  },
  {
   "cell_type": "code",
   "execution_count": 36,
   "metadata": {
    "id": "WhCSooF8_Zcv"
   },
   "outputs": [
    {
     "data": {
      "text/plain": [
       "genre\n",
       "pop            5892\n",
       "dance          4435\n",
       "rock           3965\n",
       "electronic     3786\n",
       "hiphop         2096\n",
       "classical      1616\n",
       "world          1432\n",
       "alternative    1379\n",
       "ruspop         1372\n",
       "rusrap         1161\n",
       "Name: genre, dtype: int64"
      ]
     },
     "execution_count": 36,
     "metadata": {},
     "output_type": "execute_result"
    }
   ],
   "source": [
    "moscow_genres.head(10) # просмотр первых 10 строк moscow_genres"
   ]
  },
  {
   "cell_type": "markdown",
   "metadata": {
    "id": "cnPG2vnN_Zcv"
   },
   "source": [
    "Теперь повторите то же и для Петербурга.\n",
    "\n",
    "Сгруппируйте таблицу `spb_general` по жанру. Посчитайте прослушивания треков каждого жанра. Результат отсортируйте в порядке убывания и сохраните в таблице `spb_genres`:\n"
   ]
  },
  {
   "cell_type": "code",
   "execution_count": 37,
   "metadata": {
    "id": "gluLIpE7_Zcv"
   },
   "outputs": [],
   "source": [
    "spb_genres = spb_general.groupby('genre')['genre'].count().sort_values(ascending=False) # одной строкой: группировка таблицы spb_general по столбцу 'genre', \n",
    "# подсчёт числа значений 'genre' в этой группировке методом count(), \n",
    "# сортировка получившегося Series в порядке убывания и сохранение в spb_genres"
   ]
  },
  {
   "cell_type": "markdown",
   "metadata": {
    "id": "5Doha_ODgyQ8"
   },
   "source": [
    "Выведите на экран первые десять строк `spb_genres`:"
   ]
  },
  {
   "cell_type": "code",
   "execution_count": 38,
   "metadata": {
    "id": "uaGJHjVU_Zcv"
   },
   "outputs": [
    {
     "data": {
      "text/plain": [
       "genre\n",
       "pop            2431\n",
       "dance          1932\n",
       "rock           1879\n",
       "electronic     1736\n",
       "hiphop          960\n",
       "alternative     649\n",
       "classical       646\n",
       "rusrap          564\n",
       "ruspop          538\n",
       "world           515\n",
       "Name: genre, dtype: int64"
      ]
     },
     "execution_count": 38,
     "metadata": {},
     "output_type": "execute_result"
    }
   ],
   "source": [
    "spb_genres.head(10) # просмотр первых 10 строк spb_genres"
   ]
  },
  {
   "cell_type": "markdown",
   "metadata": {
    "id": "RY51YJYu_Zcv"
   },
   "source": [
    "**Выводы**"
   ]
  },
  {
   "cell_type": "markdown",
   "metadata": {
    "id": "nVhnJEm__Zcv"
   },
   "source": [
    "Гипотеза частично подтвердилась:\n",
    "* Поп-музыка — самый популярный жанр в Москве, как и предполагала гипотеза. Более того, в топ-10 жанров встречается близкий жанр — русская популярная музыка.\n",
    "* Вопреки ожиданиям, рэп одинаково популярен в Москве и Петербурге. \n"
   ]
  },
  {
   "cell_type": "markdown",
   "metadata": {
    "id": "ykKQ0N65_Zcv"
   },
   "source": [
    "## Итоги исследования"
   ]
  },
  {
   "cell_type": "markdown",
   "metadata": {
    "id": "tjUwbHb3_Zcv"
   },
   "source": [
    "Вы проверили три гипотезы и установили:\n",
    "\n",
    "1. День недели по-разному влияет на активность пользователей в Москве и Петербурге. \n",
    "\n",
    "Первая гипотеза полностью подтвердилась.\n",
    "\n",
    "2. Музыкальные предпочтения не сильно меняются в течение недели — будь то Москва или Петербург. Небольшие различия заметны в начале недели, по понедельникам:\n",
    "* в Москве слушают музыку жанра “world”,\n",
    "* в Петербурге — джаз и классику.\n",
    "\n",
    "Таким образом, вторая гипотеза подтвердилась лишь отчасти. Этот результат мог оказаться иным, если бы не пропуски в данных.\n",
    "\n",
    "3. Во вкусах пользователей Москвы и Петербурга больше общего чем различий. Вопреки ожиданиям, предпочтения жанров в Петербурге напоминают московские.\n",
    "\n",
    "Третья гипотеза не подтвердилась. Если различия в предпочтениях и существуют, на основной массе пользователей они незаметны.\n",
    "\n",
    "**На практике исследования содержат проверки статистических гипотез.**\n",
    "Из данных одного сервиса не всегда можно сделать вывод о всех жителях города.\n",
    "Проверки статистических гипотез покажут, насколько они достоверны, исходя из имеющихся данных. \n",
    "С методами проверок гипотез вы ещё познакомитесь в следующих темах."
   ]
  }
 ],
 "metadata": {
  "ExecuteTimeLog": [
   {
    "duration": 347,
    "start_time": "2021-11-16T11:58:34.580Z"
   },
   {
    "duration": 803,
    "start_time": "2021-11-16T11:59:00.492Z"
   },
   {
    "duration": 216,
    "start_time": "2021-11-16T11:59:38.588Z"
   },
   {
    "duration": 321,
    "start_time": "2021-11-16T12:01:15.155Z"
   },
   {
    "duration": 410,
    "start_time": "2021-11-16T12:01:30.474Z"
   },
   {
    "duration": 297,
    "start_time": "2021-11-16T12:01:36.383Z"
   },
   {
    "duration": 189,
    "start_time": "2021-11-16T12:02:47.873Z"
   },
   {
    "duration": 196,
    "start_time": "2021-11-16T12:02:51.586Z"
   },
   {
    "duration": 17,
    "start_time": "2021-11-16T12:02:57.353Z"
   },
   {
    "duration": 15,
    "start_time": "2021-11-16T12:03:15.490Z"
   },
   {
    "duration": 31,
    "start_time": "2021-11-16T12:03:37.379Z"
   },
   {
    "duration": 6,
    "start_time": "2021-11-16T13:33:42.772Z"
   },
   {
    "duration": 97,
    "start_time": "2021-11-16T13:37:38.397Z"
   },
   {
    "duration": 32,
    "start_time": "2021-11-16T13:43:57.140Z"
   },
   {
    "duration": 6,
    "start_time": "2021-11-16T13:44:53.783Z"
   },
   {
    "duration": 30,
    "start_time": "2021-11-16T13:45:00.158Z"
   },
   {
    "duration": 12,
    "start_time": "2021-11-16T13:45:04.648Z"
   },
   {
    "duration": 312,
    "start_time": "2021-11-16T13:46:31.374Z"
   },
   {
    "duration": 295,
    "start_time": "2021-11-16T13:46:47.245Z"
   },
   {
    "duration": 37,
    "start_time": "2021-11-16T13:47:05.550Z"
   },
   {
    "duration": 32,
    "start_time": "2021-11-16T13:48:06.205Z"
   },
   {
    "duration": 409,
    "start_time": "2021-11-16T16:32:27.264Z"
   },
   {
    "duration": 379,
    "start_time": "2021-11-16T16:48:47.001Z"
   },
   {
    "duration": 364,
    "start_time": "2021-11-16T16:48:56.014Z"
   },
   {
    "duration": 359,
    "start_time": "2021-11-16T16:49:14.847Z"
   },
   {
    "duration": 360,
    "start_time": "2021-11-16T16:49:23.502Z"
   },
   {
    "duration": 364,
    "start_time": "2021-11-16T16:51:27.196Z"
   },
   {
    "duration": 434,
    "start_time": "2021-11-16T16:52:28.566Z"
   },
   {
    "duration": 379,
    "start_time": "2021-11-16T16:54:06.059Z"
   },
   {
    "duration": 361,
    "start_time": "2021-11-16T16:54:17.607Z"
   },
   {
    "duration": 606,
    "start_time": "2021-11-16T16:54:21.463Z"
   },
   {
    "duration": 136,
    "start_time": "2021-11-16T16:54:23.681Z"
   },
   {
    "duration": 22,
    "start_time": "2021-11-16T16:54:33.358Z"
   },
   {
    "duration": 22,
    "start_time": "2021-11-16T16:54:36.413Z"
   },
   {
    "duration": 800,
    "start_time": "2021-11-16T16:56:27.303Z"
   },
   {
    "duration": 396,
    "start_time": "2021-11-16T16:56:37.489Z"
   },
   {
    "duration": 369,
    "start_time": "2021-11-16T16:58:10.452Z"
   },
   {
    "duration": 3,
    "start_time": "2021-11-16T16:58:58.663Z"
   },
   {
    "duration": 4,
    "start_time": "2021-11-16T16:59:03.283Z"
   },
   {
    "duration": 4,
    "start_time": "2021-11-16T16:59:12.283Z"
   },
   {
    "duration": 29,
    "start_time": "2021-11-16T17:01:00.024Z"
   },
   {
    "duration": 3,
    "start_time": "2021-11-16T17:01:37.731Z"
   },
   {
    "duration": 25,
    "start_time": "2021-11-16T17:01:40.717Z"
   },
   {
    "duration": 382,
    "start_time": "2021-11-16T17:04:37.995Z"
   },
   {
    "duration": 9037,
    "start_time": "2021-11-16T17:04:42.727Z"
   },
   {
    "duration": -465,
    "start_time": "2021-11-16T17:04:52.232Z"
   },
   {
    "duration": -459,
    "start_time": "2021-11-16T17:06:37.798Z"
   },
   {
    "duration": -460,
    "start_time": "2021-11-16T17:06:37.800Z"
   },
   {
    "duration": 9852,
    "start_time": "2021-11-16T17:06:50.194Z"
   },
   {
    "duration": 10075,
    "start_time": "2021-11-16T17:07:50.566Z"
   },
   {
    "duration": 355,
    "start_time": "2021-11-16T17:08:11.246Z"
   },
   {
    "duration": 17,
    "start_time": "2021-11-16T17:10:19.596Z"
   },
   {
    "duration": 23,
    "start_time": "2021-11-16T17:10:31.550Z"
   },
   {
    "duration": 1637,
    "start_time": "2021-11-16T17:11:58.043Z"
   },
   {
    "duration": 365,
    "start_time": "2021-11-16T17:12:52.101Z"
   },
   {
    "duration": 374,
    "start_time": "2021-11-16T17:13:29.197Z"
   },
   {
    "duration": 361,
    "start_time": "2021-11-16T17:13:42.916Z"
   },
   {
    "duration": 380,
    "start_time": "2021-11-16T17:18:14.262Z"
   },
   {
    "duration": 370,
    "start_time": "2021-11-16T17:18:40.651Z"
   },
   {
    "duration": 2729,
    "start_time": "2021-11-16T17:19:09.792Z"
   },
   {
    "duration": 2623,
    "start_time": "2021-11-16T17:19:37.532Z"
   },
   {
    "duration": 3383,
    "start_time": "2021-11-16T17:20:07.215Z"
   },
   {
    "duration": 357,
    "start_time": "2021-11-16T17:22:42.451Z"
   },
   {
    "duration": 501,
    "start_time": "2021-11-16T17:27:33.788Z"
   },
   {
    "duration": 529,
    "start_time": "2021-11-16T17:27:40.853Z"
   },
   {
    "duration": 473,
    "start_time": "2021-11-16T17:27:50.666Z"
   },
   {
    "duration": 588,
    "start_time": "2021-11-16T17:29:46.168Z"
   },
   {
    "duration": 381,
    "start_time": "2021-11-16T17:30:29.952Z"
   },
   {
    "duration": 384,
    "start_time": "2021-11-16T17:50:35.607Z"
   },
   {
    "duration": 431,
    "start_time": "2021-11-16T17:51:02.104Z"
   },
   {
    "duration": 421,
    "start_time": "2021-11-17T07:50:05.362Z"
   },
   {
    "duration": 404,
    "start_time": "2021-11-17T07:50:39.593Z"
   },
   {
    "duration": 503,
    "start_time": "2021-11-17T07:50:53.705Z"
   },
   {
    "duration": 772,
    "start_time": "2021-11-17T07:50:57.432Z"
   },
   {
    "duration": 184,
    "start_time": "2021-11-17T07:51:02.505Z"
   },
   {
    "duration": 184,
    "start_time": "2021-11-17T07:51:07.617Z"
   },
   {
    "duration": -96,
    "start_time": "2021-11-17T07:51:27.314Z"
   },
   {
    "duration": 3,
    "start_time": "2021-11-17T07:51:36.968Z"
   },
   {
    "duration": 182,
    "start_time": "2021-11-17T07:51:38.904Z"
   },
   {
    "duration": 12564,
    "start_time": "2021-11-17T07:51:51.456Z"
   },
   {
    "duration": 9866,
    "start_time": "2021-11-17T07:52:35.248Z"
   },
   {
    "duration": 9734,
    "start_time": "2021-11-17T07:53:05.136Z"
   },
   {
    "duration": 60,
    "start_time": "2021-11-17T07:57:10.983Z"
   },
   {
    "duration": 38,
    "start_time": "2021-11-17T07:57:17.141Z"
   },
   {
    "duration": 51,
    "start_time": "2021-11-17T07:57:27.212Z"
   },
   {
    "duration": 29,
    "start_time": "2021-11-17T07:57:29.996Z"
   },
   {
    "duration": 46,
    "start_time": "2021-11-17T08:07:01.783Z"
   },
   {
    "duration": 43,
    "start_time": "2021-11-17T08:07:03.757Z"
   },
   {
    "duration": 9274,
    "start_time": "2021-11-17T11:49:42.126Z"
   },
   {
    "duration": 9769,
    "start_time": "2021-11-17T11:50:18.118Z"
   },
   {
    "duration": 10376,
    "start_time": "2021-11-17T11:50:48.092Z"
   },
   {
    "duration": 16,
    "start_time": "2021-11-17T11:53:50.281Z"
   },
   {
    "duration": 5,
    "start_time": "2021-11-17T11:53:57.678Z"
   },
   {
    "duration": 4665,
    "start_time": "2021-11-17T11:54:00.867Z"
   },
   {
    "duration": 7029,
    "start_time": "2021-11-17T11:54:40.763Z"
   },
   {
    "duration": 359,
    "start_time": "2021-11-17T11:54:58.723Z"
   },
   {
    "duration": 3,
    "start_time": "2021-11-17T11:55:05.299Z"
   },
   {
    "duration": 181,
    "start_time": "2021-11-17T11:55:06.976Z"
   },
   {
    "duration": 20,
    "start_time": "2021-11-17T11:55:08.894Z"
   },
   {
    "duration": 26,
    "start_time": "2021-11-17T11:55:19.809Z"
   },
   {
    "duration": 6,
    "start_time": "2021-11-17T11:55:25.712Z"
   },
   {
    "duration": 4704,
    "start_time": "2021-11-17T11:55:29.425Z"
   },
   {
    "duration": 5477,
    "start_time": "2021-11-17T11:56:24.189Z"
   },
   {
    "duration": 5026,
    "start_time": "2021-11-17T12:12:46.531Z"
   },
   {
    "duration": 4705,
    "start_time": "2021-11-17T12:13:09.937Z"
   },
   {
    "duration": 4,
    "start_time": "2021-11-17T12:16:12.042Z"
   },
   {
    "duration": 212,
    "start_time": "2021-11-17T12:16:13.801Z"
   },
   {
    "duration": 16,
    "start_time": "2021-11-17T12:16:20.799Z"
   },
   {
    "duration": 23,
    "start_time": "2021-11-17T12:16:58.281Z"
   },
   {
    "duration": 5,
    "start_time": "2021-11-17T12:17:01.699Z"
   },
   {
    "duration": 21,
    "start_time": "2021-11-17T12:17:06.250Z"
   },
   {
    "duration": 29,
    "start_time": "2021-11-17T12:17:19.668Z"
   },
   {
    "duration": 18,
    "start_time": "2021-11-17T12:17:22.536Z"
   },
   {
    "duration": 29,
    "start_time": "2021-11-17T12:17:30.625Z"
   },
   {
    "duration": 19,
    "start_time": "2021-11-17T12:17:32.969Z"
   },
   {
    "duration": 18,
    "start_time": "2021-11-17T12:17:45.992Z"
   },
   {
    "duration": 30,
    "start_time": "2021-11-17T12:17:50.234Z"
   },
   {
    "duration": 22,
    "start_time": "2021-11-17T12:18:00.750Z"
   },
   {
    "duration": 5778,
    "start_time": "2021-11-17T12:18:19.961Z"
   },
   {
    "duration": 5435,
    "start_time": "2021-11-17T12:19:16.504Z"
   },
   {
    "duration": 3,
    "start_time": "2021-11-17T13:40:44.858Z"
   },
   {
    "duration": 188,
    "start_time": "2021-11-17T13:40:47.926Z"
   },
   {
    "duration": 8861,
    "start_time": "2021-11-17T13:41:32.910Z"
   },
   {
    "duration": 18,
    "start_time": "2021-11-17T13:42:29.357Z"
   },
   {
    "duration": 24,
    "start_time": "2021-11-17T13:42:32.681Z"
   },
   {
    "duration": 33,
    "start_time": "2021-11-17T13:42:56.644Z"
   },
   {
    "duration": 288,
    "start_time": "2021-11-17T16:20:44.328Z"
   },
   {
    "duration": 648,
    "start_time": "2021-11-17T16:20:50.226Z"
   },
   {
    "duration": 151,
    "start_time": "2021-11-17T16:20:51.640Z"
   },
   {
    "duration": 18,
    "start_time": "2021-11-17T16:20:55.162Z"
   },
   {
    "duration": 25,
    "start_time": "2021-11-17T16:20:57.488Z"
   },
   {
    "duration": 5,
    "start_time": "2021-11-17T16:21:13.287Z"
   },
   {
    "duration": 23,
    "start_time": "2021-11-17T16:21:17.664Z"
   },
   {
    "duration": 5,
    "start_time": "2021-11-17T16:21:21.447Z"
   },
   {
    "duration": 22,
    "start_time": "2021-11-17T16:21:25.657Z"
   },
   {
    "duration": 18,
    "start_time": "2021-11-17T16:21:27.942Z"
   },
   {
    "duration": 23,
    "start_time": "2021-11-17T16:21:29.686Z"
   },
   {
    "duration": 60,
    "start_time": "2021-11-17T16:21:39.823Z"
   },
   {
    "duration": 3,
    "start_time": "2021-11-17T16:21:42.512Z"
   },
   {
    "duration": 57,
    "start_time": "2021-11-17T16:22:12.058Z"
   },
   {
    "duration": 59,
    "start_time": "2021-11-17T16:22:22.102Z"
   },
   {
    "duration": 79,
    "start_time": "2021-11-17T16:23:44.276Z"
   },
   {
    "duration": 55,
    "start_time": "2021-11-17T16:24:09.328Z"
   },
   {
    "duration": 70,
    "start_time": "2021-11-17T16:24:21.594Z"
   },
   {
    "duration": 52,
    "start_time": "2021-11-17T16:24:24.589Z"
   },
   {
    "duration": 54,
    "start_time": "2021-11-17T16:24:34.330Z"
   },
   {
    "duration": 70,
    "start_time": "2021-11-17T16:25:59.587Z"
   },
   {
    "duration": 52,
    "start_time": "2021-11-17T16:26:07.987Z"
   },
   {
    "duration": 53,
    "start_time": "2021-11-17T16:26:21.444Z"
   },
   {
    "duration": -922,
    "start_time": "2021-11-17T16:26:48.197Z"
   },
   {
    "duration": -921,
    "start_time": "2021-11-17T16:27:19.466Z"
   },
   {
    "duration": 461,
    "start_time": "2021-11-17T16:27:30.712Z"
   },
   {
    "duration": 7,
    "start_time": "2021-11-17T16:28:02.519Z"
   },
   {
    "duration": 280,
    "start_time": "2021-11-17T16:37:51.867Z"
   },
   {
    "duration": 302,
    "start_time": "2021-11-17T16:38:06.321Z"
   },
   {
    "duration": 7,
    "start_time": "2021-11-17T16:38:12.821Z"
   },
   {
    "duration": 252,
    "start_time": "2021-11-17T16:44:30.005Z"
   },
   {
    "duration": 366,
    "start_time": "2021-11-17T16:44:36.758Z"
   },
   {
    "duration": 303,
    "start_time": "2021-11-17T16:45:07.965Z"
   },
   {
    "duration": 54,
    "start_time": "2021-11-17T16:45:18.947Z"
   },
   {
    "duration": 3,
    "start_time": "2021-11-17T16:54:19.594Z"
   },
   {
    "duration": 254,
    "start_time": "2021-11-17T16:54:21.142Z"
   },
   {
    "duration": 509,
    "start_time": "2021-11-17T16:54:40.614Z"
   },
   {
    "duration": 4,
    "start_time": "2021-11-17T16:55:07.595Z"
   },
   {
    "duration": 7232,
    "start_time": "2021-11-17T16:55:08.967Z"
   },
   {
    "duration": 3,
    "start_time": "2021-11-17T17:00:05.511Z"
   },
   {
    "duration": 15,
    "start_time": "2021-11-17T17:00:08.191Z"
   },
   {
    "duration": 7,
    "start_time": "2021-11-17T17:00:40.263Z"
   },
   {
    "duration": 266,
    "start_time": "2021-11-17T17:03:32.098Z"
   },
   {
    "duration": 37,
    "start_time": "2021-11-17T17:07:16.055Z"
   },
   {
    "duration": 38,
    "start_time": "2021-11-17T17:07:30.927Z"
   },
   {
    "duration": 6322,
    "start_time": "2021-11-17T17:09:12.209Z"
   },
   {
    "duration": 3,
    "start_time": "2021-11-17T17:12:24.234Z"
   },
   {
    "duration": 153,
    "start_time": "2021-11-17T17:12:24.241Z"
   },
   {
    "duration": 10,
    "start_time": "2021-11-17T17:12:24.396Z"
   },
   {
    "duration": 27,
    "start_time": "2021-11-17T17:12:24.409Z"
   },
   {
    "duration": 4,
    "start_time": "2021-11-17T17:12:24.438Z"
   },
   {
    "duration": 21,
    "start_time": "2021-11-17T17:12:24.464Z"
   },
   {
    "duration": 7,
    "start_time": "2021-11-17T17:12:24.487Z"
   },
   {
    "duration": 24,
    "start_time": "2021-11-17T17:12:24.496Z"
   },
   {
    "duration": 17,
    "start_time": "2021-11-17T17:12:24.521Z"
   },
   {
    "duration": 39,
    "start_time": "2021-11-17T17:12:24.541Z"
   },
   {
    "duration": 54,
    "start_time": "2021-11-17T17:12:24.582Z"
   },
   {
    "duration": 81,
    "start_time": "2021-11-17T17:12:24.638Z"
   },
   {
    "duration": 65,
    "start_time": "2021-11-17T17:12:24.721Z"
   },
   {
    "duration": 51,
    "start_time": "2021-11-17T17:12:24.788Z"
   },
   {
    "duration": 4,
    "start_time": "2021-11-17T17:12:24.841Z"
   },
   {
    "duration": 31,
    "start_time": "2021-11-17T17:12:24.847Z"
   },
   {
    "duration": 9,
    "start_time": "2021-11-17T17:12:24.880Z"
   },
   {
    "duration": 16,
    "start_time": "2021-11-17T17:12:28.113Z"
   },
   {
    "duration": 228,
    "start_time": "2021-11-17T17:12:52.598Z"
   },
   {
    "duration": 38,
    "start_time": "2021-11-17T17:13:00.982Z"
   },
   {
    "duration": 6238,
    "start_time": "2021-11-17T17:13:19.530Z"
   },
   {
    "duration": 37,
    "start_time": "2021-11-17T17:13:32.244Z"
   },
   {
    "duration": 62,
    "start_time": "2021-11-17T17:14:26.391Z"
   },
   {
    "duration": 1075,
    "start_time": "2021-11-17T17:15:38.283Z"
   },
   {
    "duration": 14,
    "start_time": "2021-11-17T17:19:23.301Z"
   },
   {
    "duration": 15,
    "start_time": "2021-11-17T17:19:52.212Z"
   },
   {
    "duration": 7,
    "start_time": "2021-11-17T17:28:57.611Z"
   },
   {
    "duration": 294,
    "start_time": "2021-11-17T17:28:57.683Z"
   },
   {
    "duration": 28,
    "start_time": "2021-11-17T17:28:57.984Z"
   },
   {
    "duration": 75,
    "start_time": "2021-11-17T17:28:58.300Z"
   },
   {
    "duration": 12,
    "start_time": "2021-11-17T17:28:58.398Z"
   },
   {
    "duration": 25,
    "start_time": "2021-11-17T17:28:58.490Z"
   },
   {
    "duration": 17,
    "start_time": "2021-11-17T17:28:58.578Z"
   },
   {
    "duration": 24,
    "start_time": "2021-11-17T17:28:58.663Z"
   },
   {
    "duration": 66,
    "start_time": "2021-11-17T17:28:58.704Z"
   },
   {
    "duration": 75,
    "start_time": "2021-11-17T17:28:58.797Z"
   },
   {
    "duration": 103,
    "start_time": "2021-11-17T17:28:58.893Z"
   },
   {
    "duration": 116,
    "start_time": "2021-11-17T17:28:59.075Z"
   },
   {
    "duration": 107,
    "start_time": "2021-11-17T17:28:59.297Z"
   },
   {
    "duration": 104,
    "start_time": "2021-11-17T17:28:59.576Z"
   },
   {
    "duration": 3,
    "start_time": "2021-11-17T17:28:59.897Z"
   },
   {
    "duration": 67,
    "start_time": "2021-11-17T17:29:00.007Z"
   },
   {
    "duration": 15,
    "start_time": "2021-11-17T17:29:00.080Z"
   },
   {
    "duration": 17,
    "start_time": "2021-11-17T17:29:00.164Z"
   },
   {
    "duration": 566,
    "start_time": "2021-11-18T06:07:52.961Z"
   },
   {
    "duration": 146,
    "start_time": "2021-11-18T06:07:53.529Z"
   },
   {
    "duration": 21,
    "start_time": "2021-11-18T06:07:53.677Z"
   },
   {
    "duration": 24,
    "start_time": "2021-11-18T06:07:53.699Z"
   },
   {
    "duration": 4,
    "start_time": "2021-11-18T06:07:53.724Z"
   },
   {
    "duration": 23,
    "start_time": "2021-11-18T06:07:53.730Z"
   },
   {
    "duration": 9,
    "start_time": "2021-11-18T06:07:53.755Z"
   },
   {
    "duration": 44,
    "start_time": "2021-11-18T06:07:53.766Z"
   },
   {
    "duration": 30,
    "start_time": "2021-11-18T06:07:53.812Z"
   },
   {
    "duration": 20,
    "start_time": "2021-11-18T06:07:53.844Z"
   },
   {
    "duration": 58,
    "start_time": "2021-11-18T06:07:53.866Z"
   },
   {
    "duration": 71,
    "start_time": "2021-11-18T06:07:53.926Z"
   },
   {
    "duration": 48,
    "start_time": "2021-11-18T06:07:53.999Z"
   },
   {
    "duration": 58,
    "start_time": "2021-11-18T06:07:54.049Z"
   },
   {
    "duration": 3,
    "start_time": "2021-11-18T06:07:54.108Z"
   },
   {
    "duration": 18,
    "start_time": "2021-11-18T06:07:54.112Z"
   },
   {
    "duration": 6,
    "start_time": "2021-11-18T06:07:54.131Z"
   },
   {
    "duration": 241,
    "start_time": "2021-11-18T06:07:54.138Z"
   },
   {
    "duration": -45,
    "start_time": "2021-11-18T06:07:54.427Z"
   },
   {
    "duration": -48,
    "start_time": "2021-11-18T06:07:54.431Z"
   },
   {
    "duration": -52,
    "start_time": "2021-11-18T06:07:54.436Z"
   },
   {
    "duration": -56,
    "start_time": "2021-11-18T06:07:54.441Z"
   },
   {
    "duration": -60,
    "start_time": "2021-11-18T06:07:54.445Z"
   },
   {
    "duration": -73,
    "start_time": "2021-11-18T06:07:54.459Z"
   },
   {
    "duration": -78,
    "start_time": "2021-11-18T06:07:54.465Z"
   },
   {
    "duration": -87,
    "start_time": "2021-11-18T06:07:54.475Z"
   },
   {
    "duration": -89,
    "start_time": "2021-11-18T06:07:54.478Z"
   },
   {
    "duration": -91,
    "start_time": "2021-11-18T06:07:54.481Z"
   },
   {
    "duration": -98,
    "start_time": "2021-11-18T06:07:54.489Z"
   },
   {
    "duration": -100,
    "start_time": "2021-11-18T06:07:54.492Z"
   },
   {
    "duration": -102,
    "start_time": "2021-11-18T06:07:54.495Z"
   },
   {
    "duration": -104,
    "start_time": "2021-11-18T06:07:54.498Z"
   },
   {
    "duration": -106,
    "start_time": "2021-11-18T06:07:54.501Z"
   },
   {
    "duration": -109,
    "start_time": "2021-11-18T06:07:54.504Z"
   },
   {
    "duration": -111,
    "start_time": "2021-11-18T06:07:54.507Z"
   },
   {
    "duration": -113,
    "start_time": "2021-11-18T06:07:54.510Z"
   },
   {
    "duration": -115,
    "start_time": "2021-11-18T06:07:54.513Z"
   },
   {
    "duration": -116,
    "start_time": "2021-11-18T06:07:54.515Z"
   },
   {
    "duration": 266,
    "start_time": "2021-11-18T06:08:15.514Z"
   },
   {
    "duration": 15,
    "start_time": "2021-11-18T06:08:21.617Z"
   },
   {
    "duration": 51,
    "start_time": "2021-11-18T06:16:02.970Z"
   },
   {
    "duration": 53,
    "start_time": "2021-11-18T06:16:27.620Z"
   },
   {
    "duration": 58,
    "start_time": "2021-11-18T06:16:55.424Z"
   },
   {
    "duration": 56,
    "start_time": "2021-11-18T06:18:27.167Z"
   },
   {
    "duration": 17,
    "start_time": "2021-11-18T06:30:03.448Z"
   },
   {
    "duration": 227,
    "start_time": "2021-11-18T06:31:09.778Z"
   },
   {
    "duration": 56,
    "start_time": "2021-11-18T06:31:22.913Z"
   },
   {
    "duration": 185,
    "start_time": "2021-11-18T11:09:51.574Z"
   },
   {
    "duration": 63,
    "start_time": "2021-11-18T11:09:55.186Z"
   },
   {
    "duration": 4,
    "start_time": "2021-11-18T11:10:15.451Z"
   },
   {
    "duration": 363,
    "start_time": "2021-11-18T11:10:17.780Z"
   },
   {
    "duration": 3,
    "start_time": "2021-11-18T11:10:45.147Z"
   },
   {
    "duration": 10,
    "start_time": "2021-11-18T11:10:47.804Z"
   },
   {
    "duration": 10,
    "start_time": "2021-11-18T11:11:01.395Z"
   },
   {
    "duration": 10,
    "start_time": "2021-11-18T11:13:01.690Z"
   },
   {
    "duration": 3,
    "start_time": "2021-11-18T11:13:04.285Z"
   },
   {
    "duration": 9,
    "start_time": "2021-11-18T11:13:06.026Z"
   },
   {
    "duration": 3,
    "start_time": "2021-11-18T11:13:09.595Z"
   },
   {
    "duration": 148,
    "start_time": "2021-11-18T11:13:09.600Z"
   },
   {
    "duration": 11,
    "start_time": "2021-11-18T11:13:09.750Z"
   },
   {
    "duration": 41,
    "start_time": "2021-11-18T11:13:09.763Z"
   },
   {
    "duration": 7,
    "start_time": "2021-11-18T11:13:09.806Z"
   },
   {
    "duration": 23,
    "start_time": "2021-11-18T11:13:09.815Z"
   },
   {
    "duration": 5,
    "start_time": "2021-11-18T11:13:09.840Z"
   },
   {
    "duration": 48,
    "start_time": "2021-11-18T11:13:09.847Z"
   },
   {
    "duration": 30,
    "start_time": "2021-11-18T11:13:09.897Z"
   },
   {
    "duration": 37,
    "start_time": "2021-11-18T11:13:09.929Z"
   },
   {
    "duration": 67,
    "start_time": "2021-11-18T11:13:09.968Z"
   },
   {
    "duration": 74,
    "start_time": "2021-11-18T11:13:10.037Z"
   },
   {
    "duration": 51,
    "start_time": "2021-11-18T11:13:10.113Z"
   },
   {
    "duration": 65,
    "start_time": "2021-11-18T11:13:10.166Z"
   },
   {
    "duration": 4,
    "start_time": "2021-11-18T11:13:10.233Z"
   },
   {
    "duration": 21,
    "start_time": "2021-11-18T11:13:10.238Z"
   },
   {
    "duration": 8,
    "start_time": "2021-11-18T11:13:10.261Z"
   },
   {
    "duration": 35,
    "start_time": "2021-11-18T11:13:10.270Z"
   },
   {
    "duration": 59,
    "start_time": "2021-11-18T11:13:10.307Z"
   },
   {
    "duration": 24,
    "start_time": "2021-11-18T11:13:10.368Z"
   },
   {
    "duration": 34,
    "start_time": "2021-11-18T11:13:10.393Z"
   },
   {
    "duration": 20,
    "start_time": "2021-11-18T11:13:10.429Z"
   },
   {
    "duration": 8,
    "start_time": "2021-11-18T11:13:10.450Z"
   },
   {
    "duration": 23,
    "start_time": "2021-11-18T11:13:10.460Z"
   },
   {
    "duration": 19,
    "start_time": "2021-11-18T11:13:10.485Z"
   },
   {
    "duration": 12,
    "start_time": "2021-11-18T11:13:10.506Z"
   },
   {
    "duration": 16,
    "start_time": "2021-11-18T11:13:10.519Z"
   },
   {
    "duration": 20,
    "start_time": "2021-11-18T11:13:10.537Z"
   },
   {
    "duration": 15,
    "start_time": "2021-11-18T11:13:10.558Z"
   },
   {
    "duration": 24,
    "start_time": "2021-11-18T11:13:10.574Z"
   },
   {
    "duration": 16,
    "start_time": "2021-11-18T11:13:10.599Z"
   },
   {
    "duration": 11,
    "start_time": "2021-11-18T11:13:10.616Z"
   },
   {
    "duration": 25,
    "start_time": "2021-11-18T11:13:10.629Z"
   },
   {
    "duration": 23,
    "start_time": "2021-11-18T11:13:10.655Z"
   },
   {
    "duration": 16,
    "start_time": "2021-11-18T11:13:10.680Z"
   },
   {
    "duration": 11,
    "start_time": "2021-11-18T11:13:10.697Z"
   },
   {
    "duration": 11,
    "start_time": "2021-11-18T11:13:10.709Z"
   },
   {
    "duration": 32,
    "start_time": "2021-11-18T11:13:10.722Z"
   },
   {
    "duration": 780,
    "start_time": "2021-11-18T13:31:20.793Z"
   },
   {
    "duration": 194,
    "start_time": "2021-11-18T13:31:21.576Z"
   },
   {
    "duration": 35,
    "start_time": "2021-11-18T13:31:21.772Z"
   },
   {
    "duration": 32,
    "start_time": "2021-11-18T13:31:21.810Z"
   },
   {
    "duration": 6,
    "start_time": "2021-11-18T13:31:21.845Z"
   },
   {
    "duration": 61,
    "start_time": "2021-11-18T13:31:21.853Z"
   },
   {
    "duration": 6,
    "start_time": "2021-11-18T13:31:21.916Z"
   },
   {
    "duration": 31,
    "start_time": "2021-11-18T13:31:21.926Z"
   },
   {
    "duration": 51,
    "start_time": "2021-11-18T13:31:21.960Z"
   },
   {
    "duration": 30,
    "start_time": "2021-11-18T13:31:22.014Z"
   },
   {
    "duration": 108,
    "start_time": "2021-11-18T13:31:22.046Z"
   },
   {
    "duration": 115,
    "start_time": "2021-11-18T13:31:22.156Z"
   },
   {
    "duration": 86,
    "start_time": "2021-11-18T13:31:22.274Z"
   },
   {
    "duration": 87,
    "start_time": "2021-11-18T13:31:22.362Z"
   },
   {
    "duration": 4,
    "start_time": "2021-11-18T13:31:22.451Z"
   },
   {
    "duration": 28,
    "start_time": "2021-11-18T13:31:22.457Z"
   },
   {
    "duration": 17,
    "start_time": "2021-11-18T13:31:22.488Z"
   },
   {
    "duration": 28,
    "start_time": "2021-11-18T13:31:22.507Z"
   },
   {
    "duration": 111,
    "start_time": "2021-11-18T13:31:22.538Z"
   },
   {
    "duration": 4,
    "start_time": "2021-11-18T13:31:22.652Z"
   },
   {
    "duration": 18,
    "start_time": "2021-11-18T13:31:22.658Z"
   },
   {
    "duration": 24,
    "start_time": "2021-11-18T13:31:22.678Z"
   },
   {
    "duration": 22,
    "start_time": "2021-11-18T13:31:22.706Z"
   },
   {
    "duration": 8,
    "start_time": "2021-11-18T13:31:22.730Z"
   },
   {
    "duration": 6,
    "start_time": "2021-11-18T13:31:22.740Z"
   },
   {
    "duration": 6,
    "start_time": "2021-11-18T13:31:22.748Z"
   },
   {
    "duration": 10,
    "start_time": "2021-11-18T13:31:22.757Z"
   },
   {
    "duration": 8,
    "start_time": "2021-11-18T13:31:22.770Z"
   },
   {
    "duration": 21,
    "start_time": "2021-11-18T13:31:22.781Z"
   },
   {
    "duration": 15,
    "start_time": "2021-11-18T13:31:22.804Z"
   },
   {
    "duration": 12,
    "start_time": "2021-11-18T13:31:22.821Z"
   },
   {
    "duration": 9,
    "start_time": "2021-11-18T13:31:22.835Z"
   },
   {
    "duration": 14,
    "start_time": "2021-11-18T13:31:22.846Z"
   },
   {
    "duration": 7,
    "start_time": "2021-11-18T13:31:22.863Z"
   },
   {
    "duration": 10,
    "start_time": "2021-11-18T13:31:22.873Z"
   },
   {
    "duration": 15,
    "start_time": "2021-11-18T13:31:22.885Z"
   },
   {
    "duration": 10,
    "start_time": "2021-11-18T13:31:22.902Z"
   },
   {
    "duration": 10,
    "start_time": "2021-11-18T13:31:22.914Z"
   },
   {
    "duration": 13,
    "start_time": "2021-11-18T13:31:29.778Z"
   },
   {
    "duration": 4,
    "start_time": "2021-11-18T13:33:59.845Z"
   },
   {
    "duration": 723,
    "start_time": "2021-11-18T13:34:03.283Z"
   },
   {
    "duration": 707,
    "start_time": "2021-11-18T13:34:35.246Z"
   },
   {
    "duration": 5,
    "start_time": "2021-11-18T13:34:37.932Z"
   },
   {
    "duration": 659,
    "start_time": "2021-11-18T13:34:40.060Z"
   },
   {
    "duration": 4,
    "start_time": "2021-11-18T13:35:17.004Z"
   },
   {
    "duration": 15,
    "start_time": "2021-11-18T13:35:19.067Z"
   },
   {
    "duration": 5,
    "start_time": "2021-11-18T13:37:20.506Z"
   },
   {
    "duration": 13,
    "start_time": "2021-11-18T13:37:23.586Z"
   },
   {
    "duration": 3,
    "start_time": "2021-11-18T13:37:27.421Z"
   },
   {
    "duration": 227,
    "start_time": "2021-11-18T13:37:27.427Z"
   },
   {
    "duration": 16,
    "start_time": "2021-11-18T13:37:27.658Z"
   },
   {
    "duration": 50,
    "start_time": "2021-11-18T13:37:27.678Z"
   },
   {
    "duration": 5,
    "start_time": "2021-11-18T13:37:27.731Z"
   },
   {
    "duration": 17,
    "start_time": "2021-11-18T13:37:27.738Z"
   },
   {
    "duration": 6,
    "start_time": "2021-11-18T13:37:27.758Z"
   },
   {
    "duration": 30,
    "start_time": "2021-11-18T13:37:27.802Z"
   },
   {
    "duration": 23,
    "start_time": "2021-11-18T13:37:27.834Z"
   },
   {
    "duration": 53,
    "start_time": "2021-11-18T13:37:27.859Z"
   },
   {
    "duration": 104,
    "start_time": "2021-11-18T13:37:27.915Z"
   },
   {
    "duration": 106,
    "start_time": "2021-11-18T13:37:28.021Z"
   },
   {
    "duration": 88,
    "start_time": "2021-11-18T13:37:28.129Z"
   },
   {
    "duration": 89,
    "start_time": "2021-11-18T13:37:28.220Z"
   },
   {
    "duration": 4,
    "start_time": "2021-11-18T13:37:28.311Z"
   },
   {
    "duration": 22,
    "start_time": "2021-11-18T13:37:28.318Z"
   },
   {
    "duration": 9,
    "start_time": "2021-11-18T13:37:28.343Z"
   },
   {
    "duration": 57,
    "start_time": "2021-11-18T13:37:28.355Z"
   },
   {
    "duration": 98,
    "start_time": "2021-11-18T13:37:28.416Z"
   },
   {
    "duration": 5,
    "start_time": "2021-11-18T13:37:28.517Z"
   },
   {
    "duration": 22,
    "start_time": "2021-11-18T13:37:28.524Z"
   },
   {
    "duration": 16,
    "start_time": "2021-11-18T13:37:28.549Z"
   },
   {
    "duration": 14,
    "start_time": "2021-11-18T13:37:28.567Z"
   },
   {
    "duration": 23,
    "start_time": "2021-11-18T13:37:28.584Z"
   },
   {
    "duration": 11,
    "start_time": "2021-11-18T13:37:28.609Z"
   },
   {
    "duration": 7,
    "start_time": "2021-11-18T13:37:28.622Z"
   },
   {
    "duration": 7,
    "start_time": "2021-11-18T13:37:28.632Z"
   },
   {
    "duration": 11,
    "start_time": "2021-11-18T13:37:28.642Z"
   },
   {
    "duration": 7,
    "start_time": "2021-11-18T13:37:28.656Z"
   },
   {
    "duration": 10,
    "start_time": "2021-11-18T13:37:28.665Z"
   },
   {
    "duration": 26,
    "start_time": "2021-11-18T13:37:28.677Z"
   },
   {
    "duration": 8,
    "start_time": "2021-11-18T13:37:28.706Z"
   },
   {
    "duration": 15,
    "start_time": "2021-11-18T13:37:28.717Z"
   },
   {
    "duration": 15,
    "start_time": "2021-11-18T13:37:28.734Z"
   },
   {
    "duration": 13,
    "start_time": "2021-11-18T13:37:28.751Z"
   },
   {
    "duration": 12,
    "start_time": "2021-11-18T13:37:28.767Z"
   },
   {
    "duration": 14,
    "start_time": "2021-11-18T13:37:28.782Z"
   },
   {
    "duration": 17,
    "start_time": "2021-11-18T13:37:28.799Z"
   },
   {
    "duration": 5,
    "start_time": "2021-11-18T13:39:22.737Z"
   },
   {
    "duration": 12,
    "start_time": "2021-11-18T13:39:24.803Z"
   },
   {
    "duration": 4,
    "start_time": "2021-11-18T13:39:39.569Z"
   },
   {
    "duration": 22,
    "start_time": "2021-11-18T13:39:41.624Z"
   },
   {
    "duration": 21,
    "start_time": "2021-11-18T13:41:27.000Z"
   },
   {
    "duration": 4,
    "start_time": "2021-11-18T13:41:30.156Z"
   },
   {
    "duration": 237,
    "start_time": "2021-11-18T13:41:30.163Z"
   },
   {
    "duration": 16,
    "start_time": "2021-11-18T13:41:30.404Z"
   },
   {
    "duration": 58,
    "start_time": "2021-11-18T13:41:30.423Z"
   },
   {
    "duration": 8,
    "start_time": "2021-11-18T13:41:30.484Z"
   },
   {
    "duration": 22,
    "start_time": "2021-11-18T13:41:30.500Z"
   },
   {
    "duration": 13,
    "start_time": "2021-11-18T13:41:30.526Z"
   },
   {
    "duration": 42,
    "start_time": "2021-11-18T13:41:30.542Z"
   },
   {
    "duration": 45,
    "start_time": "2021-11-18T13:41:30.586Z"
   },
   {
    "duration": 30,
    "start_time": "2021-11-18T13:41:30.634Z"
   },
   {
    "duration": 98,
    "start_time": "2021-11-18T13:41:30.667Z"
   },
   {
    "duration": 105,
    "start_time": "2021-11-18T13:41:30.768Z"
   },
   {
    "duration": 90,
    "start_time": "2021-11-18T13:41:30.875Z"
   },
   {
    "duration": 90,
    "start_time": "2021-11-18T13:41:30.967Z"
   },
   {
    "duration": 4,
    "start_time": "2021-11-18T13:41:31.059Z"
   },
   {
    "duration": 39,
    "start_time": "2021-11-18T13:41:31.065Z"
   },
   {
    "duration": 36,
    "start_time": "2021-11-18T13:41:31.106Z"
   },
   {
    "duration": 35,
    "start_time": "2021-11-18T13:41:31.144Z"
   },
   {
    "duration": 89,
    "start_time": "2021-11-18T13:41:31.183Z"
   },
   {
    "duration": 4,
    "start_time": "2021-11-18T13:41:31.275Z"
   },
   {
    "duration": 29,
    "start_time": "2021-11-18T13:41:31.301Z"
   },
   {
    "duration": 21,
    "start_time": "2021-11-18T13:41:31.332Z"
   },
   {
    "duration": 47,
    "start_time": "2021-11-18T13:41:31.355Z"
   },
   {
    "duration": 21,
    "start_time": "2021-11-18T13:41:31.405Z"
   },
   {
    "duration": 22,
    "start_time": "2021-11-18T13:41:31.429Z"
   },
   {
    "duration": 55,
    "start_time": "2021-11-18T13:41:31.454Z"
   },
   {
    "duration": 3,
    "start_time": "2021-11-18T13:41:31.511Z"
   },
   {
    "duration": 12,
    "start_time": "2021-11-18T13:41:31.516Z"
   },
   {
    "duration": 26,
    "start_time": "2021-11-18T13:41:31.531Z"
   },
   {
    "duration": 19,
    "start_time": "2021-11-18T13:41:31.560Z"
   },
   {
    "duration": 11,
    "start_time": "2021-11-18T13:41:31.582Z"
   },
   {
    "duration": 8,
    "start_time": "2021-11-18T13:41:31.595Z"
   },
   {
    "duration": 17,
    "start_time": "2021-11-18T13:41:31.605Z"
   },
   {
    "duration": 13,
    "start_time": "2021-11-18T13:41:31.624Z"
   },
   {
    "duration": 19,
    "start_time": "2021-11-18T13:41:31.639Z"
   },
   {
    "duration": 20,
    "start_time": "2021-11-18T13:41:31.661Z"
   },
   {
    "duration": 31,
    "start_time": "2021-11-18T13:41:31.683Z"
   },
   {
    "duration": 12,
    "start_time": "2021-11-18T13:41:31.716Z"
   },
   {
    "duration": 104,
    "start_time": "2021-11-18T14:04:23.331Z"
   },
   {
    "duration": 125,
    "start_time": "2021-11-18T14:04:38.437Z"
   },
   {
    "duration": 103,
    "start_time": "2021-11-18T14:05:28.583Z"
   },
   {
    "duration": 910,
    "start_time": "2021-11-18T16:18:07.635Z"
   },
   {
    "duration": 201,
    "start_time": "2021-11-18T16:18:08.548Z"
   },
   {
    "duration": 41,
    "start_time": "2021-11-18T16:18:08.752Z"
   },
   {
    "duration": 41,
    "start_time": "2021-11-18T16:18:08.796Z"
   },
   {
    "duration": 5,
    "start_time": "2021-11-18T16:18:08.840Z"
   },
   {
    "duration": 58,
    "start_time": "2021-11-18T16:18:08.849Z"
   },
   {
    "duration": 14,
    "start_time": "2021-11-18T16:18:08.910Z"
   },
   {
    "duration": 34,
    "start_time": "2021-11-18T16:18:08.926Z"
   },
   {
    "duration": 28,
    "start_time": "2021-11-18T16:18:08.984Z"
   },
   {
    "duration": 31,
    "start_time": "2021-11-18T16:18:09.015Z"
   },
   {
    "duration": 116,
    "start_time": "2021-11-18T16:18:09.049Z"
   },
   {
    "duration": 163,
    "start_time": "2021-11-18T16:18:09.167Z"
   },
   {
    "duration": 117,
    "start_time": "2021-11-18T16:18:09.333Z"
   },
   {
    "duration": 128,
    "start_time": "2021-11-18T16:18:09.453Z"
   },
   {
    "duration": 5,
    "start_time": "2021-11-18T16:18:09.584Z"
   },
   {
    "duration": 24,
    "start_time": "2021-11-18T16:18:09.592Z"
   },
   {
    "duration": 9,
    "start_time": "2021-11-18T16:18:09.619Z"
   },
   {
    "duration": 57,
    "start_time": "2021-11-18T16:18:09.631Z"
   },
   {
    "duration": 94,
    "start_time": "2021-11-18T16:18:09.691Z"
   },
   {
    "duration": 5,
    "start_time": "2021-11-18T16:18:09.788Z"
   },
   {
    "duration": 39,
    "start_time": "2021-11-18T16:18:09.796Z"
   },
   {
    "duration": 59,
    "start_time": "2021-11-18T16:18:09.838Z"
   },
   {
    "duration": 30,
    "start_time": "2021-11-18T16:18:09.900Z"
   },
   {
    "duration": 49,
    "start_time": "2021-11-18T16:18:09.933Z"
   },
   {
    "duration": 24,
    "start_time": "2021-11-18T16:18:09.985Z"
   },
   {
    "duration": 25,
    "start_time": "2021-11-18T16:18:10.011Z"
   },
   {
    "duration": 237,
    "start_time": "2021-11-18T16:18:10.043Z"
   },
   {
    "duration": -101,
    "start_time": "2021-11-18T16:18:10.385Z"
   },
   {
    "duration": -103,
    "start_time": "2021-11-18T16:18:10.389Z"
   },
   {
    "duration": -105,
    "start_time": "2021-11-18T16:18:10.393Z"
   },
   {
    "duration": -106,
    "start_time": "2021-11-18T16:18:10.396Z"
   },
   {
    "duration": -110,
    "start_time": "2021-11-18T16:18:10.403Z"
   },
   {
    "duration": -111,
    "start_time": "2021-11-18T16:18:10.406Z"
   },
   {
    "duration": -112,
    "start_time": "2021-11-18T16:18:10.409Z"
   },
   {
    "duration": -113,
    "start_time": "2021-11-18T16:18:10.412Z"
   },
   {
    "duration": -113,
    "start_time": "2021-11-18T16:18:10.415Z"
   },
   {
    "duration": -113,
    "start_time": "2021-11-18T16:18:10.417Z"
   },
   {
    "duration": -112,
    "start_time": "2021-11-18T16:18:10.418Z"
   },
   {
    "duration": 106,
    "start_time": "2021-11-18T16:19:34.253Z"
   },
   {
    "duration": 123,
    "start_time": "2021-11-18T16:19:47.761Z"
   },
   {
    "duration": 12,
    "start_time": "2021-11-18T16:20:25.610Z"
   },
   {
    "duration": 12,
    "start_time": "2021-11-18T16:20:41.639Z"
   },
   {
    "duration": 16,
    "start_time": "2021-11-18T16:23:02.262Z"
   },
   {
    "duration": 13,
    "start_time": "2021-11-18T16:23:04.138Z"
   },
   {
    "duration": 5,
    "start_time": "2021-11-18T16:39:33.286Z"
   },
   {
    "duration": 37,
    "start_time": "2021-11-18T16:39:43.765Z"
   },
   {
    "duration": 21,
    "start_time": "2021-11-18T16:41:49.986Z"
   },
   {
    "duration": 26,
    "start_time": "2021-11-18T16:44:23.547Z"
   },
   {
    "duration": 22,
    "start_time": "2021-11-18T16:44:26.218Z"
   },
   {
    "duration": 387,
    "start_time": "2021-11-18T16:58:19.853Z"
   },
   {
    "duration": 15,
    "start_time": "2021-11-18T16:59:02.440Z"
   },
   {
    "duration": 6,
    "start_time": "2021-11-18T16:59:05.406Z"
   },
   {
    "duration": 11,
    "start_time": "2021-11-18T17:00:03.449Z"
   },
   {
    "duration": 9,
    "start_time": "2021-11-18T17:00:05.217Z"
   },
   {
    "duration": 820,
    "start_time": "2021-11-19T04:26:32.860Z"
   },
   {
    "duration": 199,
    "start_time": "2021-11-19T04:26:33.683Z"
   },
   {
    "duration": 25,
    "start_time": "2021-11-19T04:26:33.885Z"
   },
   {
    "duration": 32,
    "start_time": "2021-11-19T04:26:33.913Z"
   },
   {
    "duration": 7,
    "start_time": "2021-11-19T04:26:33.968Z"
   },
   {
    "duration": 36,
    "start_time": "2021-11-19T04:26:33.977Z"
   },
   {
    "duration": 11,
    "start_time": "2021-11-19T04:26:34.016Z"
   },
   {
    "duration": 52,
    "start_time": "2021-11-19T04:26:34.031Z"
   },
   {
    "duration": 22,
    "start_time": "2021-11-19T04:26:34.087Z"
   },
   {
    "duration": 55,
    "start_time": "2021-11-19T04:26:34.112Z"
   },
   {
    "duration": 98,
    "start_time": "2021-11-19T04:26:34.169Z"
   },
   {
    "duration": 122,
    "start_time": "2021-11-19T04:26:34.269Z"
   },
   {
    "duration": 98,
    "start_time": "2021-11-19T04:26:34.394Z"
   },
   {
    "duration": 185,
    "start_time": "2021-11-19T04:26:34.494Z"
   },
   {
    "duration": 4,
    "start_time": "2021-11-19T04:26:34.681Z"
   },
   {
    "duration": 29,
    "start_time": "2021-11-19T04:26:34.688Z"
   },
   {
    "duration": 54,
    "start_time": "2021-11-19T04:26:34.719Z"
   },
   {
    "duration": 29,
    "start_time": "2021-11-19T04:26:34.776Z"
   },
   {
    "duration": 189,
    "start_time": "2021-11-19T04:26:34.807Z"
   },
   {
    "duration": 69,
    "start_time": "2021-11-19T04:26:34.998Z"
   },
   {
    "duration": 30,
    "start_time": "2021-11-19T04:26:35.070Z"
   },
   {
    "duration": 78,
    "start_time": "2021-11-19T04:26:35.102Z"
   },
   {
    "duration": 81,
    "start_time": "2021-11-19T04:26:35.185Z"
   },
   {
    "duration": 20,
    "start_time": "2021-11-19T04:26:35.269Z"
   },
   {
    "duration": 90,
    "start_time": "2021-11-19T04:26:35.291Z"
   },
   {
    "duration": 21,
    "start_time": "2021-11-19T04:26:35.383Z"
   },
   {
    "duration": 70,
    "start_time": "2021-11-19T04:26:35.406Z"
   },
   {
    "duration": 18,
    "start_time": "2021-11-19T04:26:35.480Z"
   },
   {
    "duration": 74,
    "start_time": "2021-11-19T04:26:35.501Z"
   },
   {
    "duration": 6,
    "start_time": "2021-11-19T04:26:35.578Z"
   },
   {
    "duration": 112,
    "start_time": "2021-11-19T04:26:35.587Z"
   },
   {
    "duration": 79,
    "start_time": "2021-11-19T04:26:35.702Z"
   },
   {
    "duration": 86,
    "start_time": "2021-11-19T04:26:35.783Z"
   },
   {
    "duration": 22,
    "start_time": "2021-11-19T04:26:35.871Z"
   },
   {
    "duration": 10,
    "start_time": "2021-11-19T04:26:35.896Z"
   },
   {
    "duration": 7,
    "start_time": "2021-11-19T04:26:35.967Z"
   },
   {
    "duration": 10,
    "start_time": "2021-11-19T04:26:35.976Z"
   },
   {
    "duration": 7,
    "start_time": "2021-11-19T04:26:35.988Z"
   },
   {
    "duration": 342,
    "start_time": "2021-11-19T05:53:04.371Z"
   },
   {
    "duration": 837,
    "start_time": "2021-11-19T05:53:10.749Z"
   },
   {
    "duration": 191,
    "start_time": "2021-11-19T05:53:11.588Z"
   },
   {
    "duration": 27,
    "start_time": "2021-11-19T05:53:11.782Z"
   },
   {
    "duration": 57,
    "start_time": "2021-11-19T05:53:11.812Z"
   },
   {
    "duration": 6,
    "start_time": "2021-11-19T05:53:11.871Z"
   },
   {
    "duration": 30,
    "start_time": "2021-11-19T05:53:11.881Z"
   },
   {
    "duration": 8,
    "start_time": "2021-11-19T05:53:11.914Z"
   },
   {
    "duration": 37,
    "start_time": "2021-11-19T05:53:11.966Z"
   },
   {
    "duration": 24,
    "start_time": "2021-11-19T05:53:12.007Z"
   },
   {
    "duration": 53,
    "start_time": "2021-11-19T05:53:12.034Z"
   },
   {
    "duration": 101,
    "start_time": "2021-11-19T05:53:12.089Z"
   },
   {
    "duration": 128,
    "start_time": "2021-11-19T05:53:12.192Z"
   },
   {
    "duration": 89,
    "start_time": "2021-11-19T05:53:12.323Z"
   },
   {
    "duration": 80,
    "start_time": "2021-11-19T05:53:12.415Z"
   },
   {
    "duration": 3,
    "start_time": "2021-11-19T05:53:12.498Z"
   },
   {
    "duration": 23,
    "start_time": "2021-11-19T05:53:12.504Z"
   },
   {
    "duration": 9,
    "start_time": "2021-11-19T05:53:12.529Z"
   },
   {
    "duration": 29,
    "start_time": "2021-11-19T05:53:12.566Z"
   },
   {
    "duration": 98,
    "start_time": "2021-11-19T05:53:12.597Z"
   },
   {
    "duration": 5,
    "start_time": "2021-11-19T05:53:12.697Z"
   },
   {
    "duration": 29,
    "start_time": "2021-11-19T05:53:12.704Z"
   },
   {
    "duration": 46,
    "start_time": "2021-11-19T05:53:12.736Z"
   },
   {
    "duration": 21,
    "start_time": "2021-11-19T05:53:12.788Z"
   },
   {
    "duration": 56,
    "start_time": "2021-11-19T05:53:12.812Z"
   },
   {
    "duration": 22,
    "start_time": "2021-11-19T05:53:12.870Z"
   },
   {
    "duration": 20,
    "start_time": "2021-11-19T05:53:12.894Z"
   },
   {
    "duration": 11,
    "start_time": "2021-11-19T05:53:12.917Z"
   },
   {
    "duration": 15,
    "start_time": "2021-11-19T05:53:12.967Z"
   },
   {
    "duration": 11,
    "start_time": "2021-11-19T05:53:12.984Z"
   },
   {
    "duration": 5,
    "start_time": "2021-11-19T05:53:12.998Z"
   },
   {
    "duration": 64,
    "start_time": "2021-11-19T05:53:13.005Z"
   },
   {
    "duration": 21,
    "start_time": "2021-11-19T05:53:13.071Z"
   },
   {
    "duration": 26,
    "start_time": "2021-11-19T05:53:13.094Z"
   },
   {
    "duration": 48,
    "start_time": "2021-11-19T05:53:13.123Z"
   },
   {
    "duration": 10,
    "start_time": "2021-11-19T05:53:13.174Z"
   },
   {
    "duration": 8,
    "start_time": "2021-11-19T05:53:13.186Z"
   },
   {
    "duration": 10,
    "start_time": "2021-11-19T05:53:13.197Z"
   },
   {
    "duration": 6,
    "start_time": "2021-11-19T05:53:13.209Z"
   },
   {
    "duration": 769,
    "start_time": "2021-11-19T19:25:53.891Z"
   },
   {
    "duration": 193,
    "start_time": "2021-11-19T19:25:54.663Z"
   },
   {
    "duration": 35,
    "start_time": "2021-11-19T19:25:54.859Z"
   },
   {
    "duration": 35,
    "start_time": "2021-11-19T19:25:54.898Z"
   },
   {
    "duration": 7,
    "start_time": "2021-11-19T19:25:54.936Z"
   },
   {
    "duration": 63,
    "start_time": "2021-11-19T19:25:54.946Z"
   },
   {
    "duration": 6,
    "start_time": "2021-11-19T19:25:55.012Z"
   },
   {
    "duration": 62,
    "start_time": "2021-11-19T19:25:55.022Z"
   },
   {
    "duration": 26,
    "start_time": "2021-11-19T19:25:55.087Z"
   },
   {
    "duration": 32,
    "start_time": "2021-11-19T19:25:55.116Z"
   },
   {
    "duration": 91,
    "start_time": "2021-11-19T19:25:55.184Z"
   },
   {
    "duration": 119,
    "start_time": "2021-11-19T19:25:55.283Z"
   },
   {
    "duration": 128,
    "start_time": "2021-11-19T19:25:55.405Z"
   },
   {
    "duration": 127,
    "start_time": "2021-11-19T19:25:55.536Z"
   },
   {
    "duration": 16,
    "start_time": "2021-11-19T19:25:55.666Z"
   },
   {
    "duration": 32,
    "start_time": "2021-11-19T19:25:55.685Z"
   },
   {
    "duration": 12,
    "start_time": "2021-11-19T19:25:55.720Z"
   },
   {
    "duration": 70,
    "start_time": "2021-11-19T19:25:55.736Z"
   },
   {
    "duration": 112,
    "start_time": "2021-11-19T19:25:55.809Z"
   },
   {
    "duration": 6,
    "start_time": "2021-11-19T19:25:55.924Z"
   },
   {
    "duration": 62,
    "start_time": "2021-11-19T19:25:55.933Z"
   },
   {
    "duration": 22,
    "start_time": "2021-11-19T19:25:55.997Z"
   },
   {
    "duration": 56,
    "start_time": "2021-11-19T19:25:56.026Z"
   },
   {
    "duration": 24,
    "start_time": "2021-11-19T19:25:56.085Z"
   },
   {
    "duration": 26,
    "start_time": "2021-11-19T19:25:56.114Z"
   },
   {
    "duration": 50,
    "start_time": "2021-11-19T19:25:56.143Z"
   },
   {
    "duration": 14,
    "start_time": "2021-11-19T19:25:56.196Z"
   },
   {
    "duration": 25,
    "start_time": "2021-11-19T19:25:56.213Z"
   },
   {
    "duration": 51,
    "start_time": "2021-11-19T19:25:56.241Z"
   },
   {
    "duration": 7,
    "start_time": "2021-11-19T19:25:56.295Z"
   },
   {
    "duration": 40,
    "start_time": "2021-11-19T19:25:56.304Z"
   },
   {
    "duration": 46,
    "start_time": "2021-11-19T19:25:56.347Z"
   },
   {
    "duration": 27,
    "start_time": "2021-11-19T19:25:56.396Z"
   },
   {
    "duration": 66,
    "start_time": "2021-11-19T19:25:56.426Z"
   },
   {
    "duration": 9,
    "start_time": "2021-11-19T19:25:56.495Z"
   },
   {
    "duration": 6,
    "start_time": "2021-11-19T19:25:56.507Z"
   },
   {
    "duration": 13,
    "start_time": "2021-11-19T19:25:56.515Z"
   },
   {
    "duration": 52,
    "start_time": "2021-11-19T19:25:56.531Z"
   },
   {
    "duration": 573,
    "start_time": "2021-11-20T03:51:18.295Z"
   },
   {
    "duration": 149,
    "start_time": "2021-11-20T03:51:18.870Z"
   },
   {
    "duration": 16,
    "start_time": "2021-11-20T03:51:19.021Z"
   },
   {
    "duration": 38,
    "start_time": "2021-11-20T03:51:19.040Z"
   },
   {
    "duration": 4,
    "start_time": "2021-11-20T03:51:19.080Z"
   },
   {
    "duration": 23,
    "start_time": "2021-11-20T03:51:19.086Z"
   },
   {
    "duration": 10,
    "start_time": "2021-11-20T03:51:19.110Z"
   },
   {
    "duration": 22,
    "start_time": "2021-11-20T03:51:19.122Z"
   },
   {
    "duration": 17,
    "start_time": "2021-11-20T03:51:19.163Z"
   },
   {
    "duration": 21,
    "start_time": "2021-11-20T03:51:19.181Z"
   },
   {
    "duration": 77,
    "start_time": "2021-11-20T03:51:19.204Z"
   },
   {
    "duration": 67,
    "start_time": "2021-11-20T03:51:19.282Z"
   },
   {
    "duration": 62,
    "start_time": "2021-11-20T03:51:19.350Z"
   },
   {
    "duration": 64,
    "start_time": "2021-11-20T03:51:19.413Z"
   },
   {
    "duration": 3,
    "start_time": "2021-11-20T03:51:19.478Z"
   },
   {
    "duration": 17,
    "start_time": "2021-11-20T03:51:19.483Z"
   },
   {
    "duration": 6,
    "start_time": "2021-11-20T03:51:19.502Z"
   },
   {
    "duration": 23,
    "start_time": "2021-11-20T03:51:19.510Z"
   },
   {
    "duration": 92,
    "start_time": "2021-11-20T03:51:19.535Z"
   },
   {
    "duration": 4,
    "start_time": "2021-11-20T03:51:19.630Z"
   },
   {
    "duration": 46,
    "start_time": "2021-11-20T03:51:19.636Z"
   },
   {
    "duration": 15,
    "start_time": "2021-11-20T03:51:19.683Z"
   },
   {
    "duration": 15,
    "start_time": "2021-11-20T03:51:19.701Z"
   },
   {
    "duration": 13,
    "start_time": "2021-11-20T03:51:19.718Z"
   },
   {
    "duration": 47,
    "start_time": "2021-11-20T03:51:19.733Z"
   },
   {
    "duration": 21,
    "start_time": "2021-11-20T03:51:19.782Z"
   },
   {
    "duration": 9,
    "start_time": "2021-11-20T03:51:19.804Z"
   },
   {
    "duration": 29,
    "start_time": "2021-11-20T03:51:19.814Z"
   },
   {
    "duration": 15,
    "start_time": "2021-11-20T03:51:19.845Z"
   },
   {
    "duration": 4,
    "start_time": "2021-11-20T03:51:19.863Z"
   },
   {
    "duration": 32,
    "start_time": "2021-11-20T03:51:19.869Z"
   },
   {
    "duration": 17,
    "start_time": "2021-11-20T03:51:19.903Z"
   },
   {
    "duration": 22,
    "start_time": "2021-11-20T03:51:19.922Z"
   },
   {
    "duration": 16,
    "start_time": "2021-11-20T03:51:19.964Z"
   },
   {
    "duration": 7,
    "start_time": "2021-11-20T03:51:19.982Z"
   },
   {
    "duration": 4,
    "start_time": "2021-11-20T03:51:19.991Z"
   },
   {
    "duration": 10,
    "start_time": "2021-11-20T03:51:19.996Z"
   },
   {
    "duration": 27,
    "start_time": "2021-11-20T03:51:20.008Z"
   }
  ],
  "colab": {
   "collapsed_sections": [
    "E0vqbgi9ay0H",
    "VUC88oWjTJw2"
   ],
   "name": "yandex_music_project_2021.2.ipynb",
   "provenance": []
  },
  "kernelspec": {
   "display_name": "Python 3 (ipykernel)",
   "language": "python",
   "name": "python3"
  },
  "language_info": {
   "codemirror_mode": {
    "name": "ipython",
    "version": 3
   },
   "file_extension": ".py",
   "mimetype": "text/x-python",
   "name": "python",
   "nbconvert_exporter": "python",
   "pygments_lexer": "ipython3",
   "version": "3.10.5"
  },
  "toc": {
   "base_numbering": 1,
   "nav_menu": {},
   "number_sections": true,
   "sideBar": true,
   "skip_h1_title": true,
   "title_cell": "Table of Contents",
   "title_sidebar": "Contents",
   "toc_cell": false,
   "toc_position": {
    "height": "calc(100% - 180px)",
    "left": "10px",
    "top": "150px",
    "width": "212.361px"
   },
   "toc_section_display": true,
   "toc_window_display": true
  }
 },
 "nbformat": 4,
 "nbformat_minor": 1
}
