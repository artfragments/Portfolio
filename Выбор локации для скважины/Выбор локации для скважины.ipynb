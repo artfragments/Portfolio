{
 "cells": [
  {
   "cell_type": "markdown",
   "metadata": {},
   "source": [
    "# Выбор локации для скважины"
   ]
  },
  {
   "cell_type": "markdown",
   "metadata": {},
   "source": [
    "Допустим, вы работаете в добывающей компании «ГлавРосГосНефть». Нужно решить, где бурить новую скважину.\n",
    "\n",
    "Вам предоставлены пробы нефти в трёх регионах: в каждом 10 000 месторождений, где измерили качество нефти и объём её запасов. Постройте модель машинного обучения, которая поможет определить регион, где добыча принесёт наибольшую прибыль. Проанализируйте возможную прибыль и риски техникой *Bootstrap.*\n",
    "\n",
    "Шаги для выбора локации:\n",
    "\n",
    "- В избранном регионе ищут месторождения, для каждого определяют значения признаков;\n",
    "- Строят модель и оценивают объём запасов;\n",
    "- Выбирают месторождения с самым высокими оценками значений. Количество месторождений зависит от бюджета компании и стоимости разработки одной скважины;\n",
    "- Прибыль равна суммарной прибыли отобранных месторождений."
   ]
  },
  {
   "cell_type": "markdown",
   "metadata": {},
   "source": [
    "## Загрузка и подготовка данных"
   ]
  },
  {
   "cell_type": "markdown",
   "metadata": {},
   "source": [
    "В следующей ячейке сохраним все инструменты, которые будем использовать:"
   ]
  },
  {
   "cell_type": "code",
   "execution_count": 15,
   "metadata": {},
   "outputs": [],
   "source": [
    "import pandas as pd\n",
    "import numpy as np\n",
    "from sklearn.model_selection import train_test_split\n",
    "from sklearn.linear_model import LinearRegression\n",
    "from sklearn.preprocessing import StandardScaler\n",
    "from sklearn.metrics import mean_squared_error\n",
    "import warnings\n",
    "warnings.simplefilter(\"ignore\")"
   ]
  },
  {
   "cell_type": "markdown",
   "metadata": {},
   "source": [
    "Далее откроем файлы и посмотрим данные:"
   ]
  },
  {
   "cell_type": "code",
   "execution_count": 16,
   "metadata": {},
   "outputs": [
    {
     "name": "stdout",
     "output_type": "stream",
     "text": [
      "<class 'pandas.core.frame.DataFrame'>\n",
      "RangeIndex: 100000 entries, 0 to 99999\n",
      "Data columns (total 5 columns):\n",
      "id         100000 non-null object\n",
      "f0         100000 non-null float64\n",
      "f1         100000 non-null float64\n",
      "f2         100000 non-null float64\n",
      "product    100000 non-null float64\n",
      "dtypes: float64(4), object(1)\n",
      "memory usage: 3.8+ MB\n",
      "None\n",
      "<class 'pandas.core.frame.DataFrame'>\n",
      "RangeIndex: 100000 entries, 0 to 99999\n",
      "Data columns (total 5 columns):\n",
      "id         100000 non-null object\n",
      "f0         100000 non-null float64\n",
      "f1         100000 non-null float64\n",
      "f2         100000 non-null float64\n",
      "product    100000 non-null float64\n",
      "dtypes: float64(4), object(1)\n",
      "memory usage: 3.8+ MB\n",
      "None\n",
      "<class 'pandas.core.frame.DataFrame'>\n",
      "RangeIndex: 100000 entries, 0 to 99999\n",
      "Data columns (total 5 columns):\n",
      "id         100000 non-null object\n",
      "f0         100000 non-null float64\n",
      "f1         100000 non-null float64\n",
      "f2         100000 non-null float64\n",
      "product    100000 non-null float64\n",
      "dtypes: float64(4), object(1)\n",
      "memory usage: 3.8+ MB\n",
      "None\n",
      "          id        f0        f1        f2     product\n",
      "0      txEyH  0.705745 -0.497823  1.221170  105.280062\n",
      "1      2acmU  1.334711 -0.340164  4.365080   73.037750\n",
      "2      409Wp  1.022732  0.151990  1.419926   85.265647\n",
      "3      iJLyR -0.032172  0.139033  2.978566  168.620776\n",
      "4      Xdl7t  1.988431  0.155413  4.751769  154.036647\n",
      "...      ...       ...       ...       ...         ...\n",
      "99995  DLsed  0.971957  0.370953  6.075346  110.744026\n",
      "99996  QKivN  1.392429 -0.382606  1.273912  122.346843\n",
      "99997  3rnvd  1.029585  0.018787 -1.348308   64.375443\n",
      "99998  7kl59  0.998163 -0.528582  1.583869   74.040764\n",
      "99999  1CWhH  1.764754 -0.266417  5.722849  149.633246\n",
      "\n",
      "[100000 rows x 5 columns]\n"
     ]
    }
   ],
   "source": [
    "df1 = pd.read_csv('/datasets/geo_data_0.csv')\n",
    "df2 = pd.read_csv('/datasets/geo_data_1.csv')\n",
    "df3 = pd.read_csv('/datasets/geo_data_2.csv')\n",
    "print(df1.info())\n",
    "print(df2.info())\n",
    "print(df3.info())\n",
    "print(df1)"
   ]
  },
  {
   "cell_type": "markdown",
   "metadata": {},
   "source": [
    "Данных много посмотрим число уникальных значений в столбце product:"
   ]
  },
  {
   "cell_type": "code",
   "execution_count": 17,
   "metadata": {},
   "outputs": [
    {
     "name": "stdout",
     "output_type": "stream",
     "text": [
      "100000\n",
      "12\n",
      "100000\n"
     ]
    }
   ],
   "source": [
    "print(len(df1['product'].unique()))\n",
    "print(len(df2['product'].unique()))\n",
    "print(len(df3['product'].unique()))"
   ]
  },
  {
   "cell_type": "markdown",
   "metadata": {},
   "source": [
    "В первом и втором файле уникальных значений слишком много, так же по данным из проверки функцией info, данные в этом столбце имеют формат float, возможно стоит перевести их в формат int во всех файлах и это уменьшит кол-во значений, так же переведет в удобный формат для будущей модели. "
   ]
  },
  {
   "cell_type": "code",
   "execution_count": 18,
   "metadata": {},
   "outputs": [
    {
     "name": "stdout",
     "output_type": "stream",
     "text": [
      "186\n",
      "12\n",
      "191\n"
     ]
    }
   ],
   "source": [
    "df1['product'] = df1['product'].astype(int)\n",
    "df2['product'] = df2['product'].astype(int)\n",
    "df3['product'] = df3['product'].astype(int)\n",
    "print(len(df1['product'].unique()))\n",
    "print(len(df2['product'].unique()))\n",
    "print(len(df3['product'].unique()))"
   ]
  },
  {
   "cell_type": "markdown",
   "metadata": {},
   "source": [
    "Далее разделим датасеты на выборки и сразу масштабируем признаки:"
   ]
  },
  {
   "cell_type": "code",
   "execution_count": 19,
   "metadata": {
    "scrolled": false
   },
   "outputs": [],
   "source": [
    "target_1 = df1['product']\n",
    "features_1 = df1.drop(['product', 'id'], axis=1)\n",
    "features_train_1, features_valid_1, target_train_1, target_valid_1 = train_test_split(\n",
    "    features_1, target_1, test_size=0.25, random_state=12345)\n",
    "numeric = ['f0', 'f1', 'f2']\n",
    "\n",
    "scaler = StandardScaler()\n",
    "scaler.fit(features_train_1[numeric])\n",
    "features_train_1[numeric] = scaler.transform(features_train_1[numeric])\n",
    "features_valid_1[numeric] = scaler.transform(features_valid_1[numeric])"
   ]
  },
  {
   "cell_type": "code",
   "execution_count": 20,
   "metadata": {},
   "outputs": [],
   "source": [
    "target_2 = df2['product']\n",
    "features_2 = df2.drop(['product', 'id'], axis=1)\n",
    "features_train_2, features_valid_2, target_train_2, target_valid_2 = train_test_split(\n",
    "    features_2, target_2, test_size=0.25, random_state=12345)\n",
    "\n",
    "scaler = StandardScaler()\n",
    "scaler.fit(features_train_2[numeric])\n",
    "features_train_2[numeric] = scaler.transform(features_train_2[numeric])\n",
    "features_valid_2[numeric] = scaler.transform(features_valid_2[numeric])"
   ]
  },
  {
   "cell_type": "code",
   "execution_count": 21,
   "metadata": {},
   "outputs": [],
   "source": [
    "target_3 = df3['product']\n",
    "features_3 = df3.drop(['product', 'id'], axis=1)\n",
    "features_train_3, features_valid_3, target_train_3, target_valid_3 = train_test_split(\n",
    "    features_3, target_3, test_size=0.25, random_state=12345)\n",
    "\n",
    "scaler = StandardScaler()\n",
    "scaler.fit(features_train_3[numeric])\n",
    "features_train_3[numeric] = scaler.transform(features_train_3[numeric])\n",
    "features_valid_3[numeric] = scaler.transform(features_valid_3[numeric])"
   ]
  },
  {
   "cell_type": "markdown",
   "metadata": {},
   "source": [
    "**Вывод:** Данные готовы к обучению модели. "
   ]
  },
  {
   "cell_type": "markdown",
   "metadata": {},
   "source": [
    "## Обучение и проверка модели"
   ]
  },
  {
   "cell_type": "markdown",
   "metadata": {},
   "source": [
    "Создадим модели на данных каждого региона посчитаем средний предсказанный объем сырья и rsme:"
   ]
  },
  {
   "cell_type": "code",
   "execution_count": 22,
   "metadata": {},
   "outputs": [
    {
     "name": "stdout",
     "output_type": "stream",
     "text": [
      "Средний запас сырья: 92.0933978221753 rmse = 37.58106136304993\n"
     ]
    }
   ],
   "source": [
    "model_lr_1 = LinearRegression()\n",
    "model_lr_1.fit(features_train_1, target_train_1) \n",
    "predictions_valid_lr_1 = model_lr_1.predict(features_valid_1) \n",
    "predictions_mean = predictions_valid_lr_1.mean()\n",
    "result_lr = mean_squared_error(target_valid_1, predictions_valid_lr_1)**0.5\n",
    "print('Средний запас сырья:', predictions_mean, 'rmse =', result_lr)"
   ]
  },
  {
   "cell_type": "code",
   "execution_count": 23,
   "metadata": {},
   "outputs": [
    {
     "name": "stdout",
     "output_type": "stream",
     "text": [
      "Средний запас сырья: 68.17320024946817 rmse = 1.0231340913429756\n"
     ]
    }
   ],
   "source": [
    "model_lr_2 = LinearRegression()\n",
    "model_lr_2.fit(features_train_2, target_train_2) \n",
    "predictions_valid_lr_2 = model_lr_2.predict(features_valid_2) \n",
    "predictions_mean = predictions_valid_lr_2.mean()\n",
    "result_lr = mean_squared_error(target_valid_2, predictions_valid_lr_2)**0.5\n",
    "print('Средний запас сырья:', predictions_mean, 'rmse =', result_lr)"
   ]
  },
  {
   "cell_type": "code",
   "execution_count": 24,
   "metadata": {},
   "outputs": [
    {
     "name": "stdout",
     "output_type": "stream",
     "text": [
      "Средний запас сырья: 94.46742884611454 rmse = 40.03077959471606\n"
     ]
    }
   ],
   "source": [
    "model_lr_3 = LinearRegression()\n",
    "model_lr_3.fit(features_train_3, target_train_3) \n",
    "predictions_valid_lr_3 = model_lr_3.predict(features_valid_3) \n",
    "predictions_mean = predictions_valid_lr_3.mean()\n",
    "result_lr = mean_squared_error(target_valid_3, predictions_valid_lr_3)**0.5\n",
    "print('Средний запас сырья:', predictions_mean, 'rmse =', result_lr)"
   ]
  },
  {
   "cell_type": "markdown",
   "metadata": {},
   "source": [
    "**Вывод:** Самый высокий средний запас сырья в третьем регионе, но там же самая высокая ошибка, во втором сырья меньше, но предсказания более точные, первая модель предсказала средний запас сырья относительно других моделей, так же ошибку ниже чем у модели построенной по третьему региону."
   ]
  },
  {
   "cell_type": "markdown",
   "metadata": {},
   "source": [
    "## Подготовка к расчёту прибыли"
   ]
  },
  {
   "cell_type": "markdown",
   "metadata": {},
   "source": [
    "Далее введем и пропишем в переменных параметры заданные задачей, так же посчитаем достаточный средний объем сырья для окупаемости добычи."
   ]
  },
  {
   "cell_type": "code",
   "execution_count": 25,
   "metadata": {
    "scrolled": true
   },
   "outputs": [
    {
     "data": {
      "text/plain": [
       "111.11111111111111"
      ]
     },
     "execution_count": 25,
     "metadata": {},
     "output_type": "execute_result"
    }
   ],
   "source": [
    "income = 450000 # доход с единицы сырья столбца income\n",
    "budget = 10000000000 # бюджет заложенный на разработку в регионе\n",
    "units = 200 # количество скважин для разработки\n",
    "enough_volume = budget/income/units # достаточный средний объем сырья в скважине\n",
    "enough_volume"
   ]
  },
  {
   "cell_type": "markdown",
   "metadata": {},
   "source": [
    "Достаточный средний объем для окупаемости 111 тыс баррелей на 200 разработанных скважинах это минимальный порог. Далее посчитаем прибыль по предсказанным на валидационной выборке результатам:"
   ]
  },
  {
   "cell_type": "code",
   "execution_count": 26,
   "metadata": {},
   "outputs": [
    {
     "name": "stdout",
     "output_type": "stream",
     "text": [
      "Прибыль в первом регионе: 3276350000\n",
      "Прибыль во втором регионе: 2330000000\n",
      "Прибыль в третьем регионе: 2665700000\n"
     ]
    }
   ],
   "source": [
    "def profit(predictions, target, units):     # функция рассчета прибыли\n",
    "    predictions = pd.Series(predictions, index=target.index)\n",
    "    predictions_best = predictions.sort_values(ascending=False)\n",
    "    target_best = target[predictions_best.index][:units]\n",
    "    return sum(target_best)*income - budget\n",
    "\n",
    "res_1 = profit(predictions_valid_lr_1, target_valid_1, units)\n",
    "res_2 = profit(predictions_valid_lr_2, target_valid_2, units)\n",
    "res_3 = profit(predictions_valid_lr_3, target_valid_3, units)\n",
    "print('Прибыль в первом регионе:', res_1)\n",
    "print('Прибыль во втором регионе:', res_2)\n",
    "print('Прибыль в третьем регионе:', res_3)"
   ]
  },
  {
   "cell_type": "markdown",
   "metadata": {},
   "source": [
    "**Вывод:** Самая высокая прибыль предсказанная на валидационной выборке в третьем регионе, после него идет третий регион, самый низкий результат у второго региона."
   ]
  },
  {
   "cell_type": "markdown",
   "metadata": {},
   "source": [
    "## Расчёт прибыли и рисков "
   ]
  },
  {
   "cell_type": "markdown",
   "metadata": {},
   "source": [
    "С помощью техники bootstrap определим среднюю прибыль, возможные риски не получить прибыль, доверительный интервал:"
   ]
  },
  {
   "cell_type": "code",
   "execution_count": 27,
   "metadata": {},
   "outputs": [
    {
     "name": "stdout",
     "output_type": "stream",
     "text": [
      "('Средняя прибыль:', 365167250.0, 'Риск:', 0.097, 'Нижний предел доверительного интервала:', -208461250.0, 'Верхний предел доверительного интервала:', 926629999.9999999)\n",
      "('Средняя прибыль:', 439985150.0, 'Риск:', 0.021, 'Нижний предел доверительного интервала:', 26292500.000000007, 'Верхний предел доверительного интервала:', 843728750.0)\n",
      "('Средняя прибыль:', 367620200.0, 'Риск:', 0.099, 'Нижний предел доверительного интервала:', -176511250.0, 'Верхний предел доверительного интервала:', 901789999.9999999)\n"
     ]
    }
   ],
   "source": [
    "def bootstrap(predictions, target): # функция для bootstrap с дальнейшим расчетом показателей \n",
    "    state = np.random.RandomState(0)\n",
    "    values = []\n",
    " \n",
    "    for i in range(1000):\n",
    "        target_subsamples = target.reset_index(drop=True).sample(n=500, replace=True, random_state=state)\n",
    "        predictions_subsamples = predictions[target_subsamples.index]\n",
    "        values.append(profit(predictions_subsamples, target_subsamples, units))\n",
    "        \n",
    "    values = pd.Series(values)\n",
    "    mean_profit = values.mean()\n",
    "    loss = np.mean(values < 0)\n",
    "    lower = values.quantile(0.025)\n",
    "    upper = values.quantile(0.975)\n",
    "    return 'Средняя прибыль:', mean_profit, 'Риск:', loss, 'Нижний предел доверительного интервала:', lower, 'Верхний предел доверительного интервала:', upper\n",
    "    \n",
    "bootstrap_1 = bootstrap(predictions_valid_lr_1, target_valid_1) \n",
    "bootstrap_2 = bootstrap(predictions_valid_lr_2, target_valid_2) \n",
    "bootstrap_3 = bootstrap(predictions_valid_lr_3, target_valid_3) \n",
    "print(bootstrap_1)\n",
    "print(bootstrap_2)\n",
    "print(bootstrap_3)"
   ]
  },
  {
   "cell_type": "markdown",
   "metadata": {},
   "source": [
    "**Вывод:** Из выше произведенного анализа можно представить следующие данные по каждому региону: \n",
    "\n",
    "Первый регион:\n",
    "* Предсказанный средний запас сырья: 92.0933978221753, квадратичная ошибка: 37.58106136304993;\n",
    "* Возможная прибыль в регионе: 3276350000;\n",
    "* Средняя прибыль: 365167250.0;\n",
    "* Риск: 0.097; \n",
    "* Нижний предел доверительного интервала: -208461250.0, Верхний предел доверительного интервала: 926629999.9999999.\n",
    "\n",
    "Второй регион: \n",
    "* Предсказанный средний запас сырья: 68.17320024946817, квадратичная ошибка: 1.0231340913429756;\n",
    "* Возможная прибыль в регионе: 2330000000;\n",
    "* Средняя прибыль: 439985150.0;\n",
    "* Риск: 0.021;\n",
    "* Нижний предел доверительного интервала: 26292500.000000007, Верхний предел доверительного интервала: 843728750.0.\n",
    "\n",
    "Третий регион: \n",
    "* Предсказанный средний запас сырья: 94.46742884611454, квадратичная ошибка: 40.03077959471606;\n",
    "* Возможная прибыль в регионе: 2665700000;\n",
    "* Средняя прибыль: 367620200.0;\n",
    "* Риск: 0.099; \n",
    "* Нижний предел доверительного интервала: -176511250.0, Верхний предел доверительного интервала: 901789999.9999999.\n",
    "\n",
    "Из выше приведенных данных наиболее вероятным регионом для разработки является второй, так как имеет наиболее низкий показатель рисков 2.1%, условиями задачи верхний порог задан на отметке 2.5%, поэтому этот регион удовлетворяет данному условию. Хотя этот регион и обладает низким предсказанным средним запасом сырья, но при этом модель имеет здесь наименьшую ошибку.\n"
   ]
  }
 ],
 "metadata": {
  "ExecuteTimeLog": [
   {
    "duration": 627,
    "start_time": "2022-03-01T12:39:44.882Z"
   },
   {
    "duration": 393,
    "start_time": "2022-03-01T12:41:05.563Z"
   },
   {
    "duration": 372,
    "start_time": "2022-03-01T12:41:33.986Z"
   },
   {
    "duration": 448,
    "start_time": "2022-03-01T12:42:03.387Z"
   },
   {
    "duration": 386,
    "start_time": "2022-03-01T12:44:17.448Z"
   },
   {
    "duration": 789,
    "start_time": "2022-03-01T12:52:46.922Z"
   },
   {
    "duration": 442,
    "start_time": "2022-03-01T12:53:45.979Z"
   },
   {
    "duration": 411,
    "start_time": "2022-03-01T12:53:53.490Z"
   },
   {
    "duration": 636,
    "start_time": "2022-03-01T12:54:13.951Z"
   },
   {
    "duration": 625,
    "start_time": "2022-03-01T12:54:18.377Z"
   },
   {
    "duration": 422,
    "start_time": "2022-03-01T12:54:25.835Z"
   },
   {
    "duration": 472,
    "start_time": "2022-03-01T12:54:42.226Z"
   },
   {
    "duration": 381,
    "start_time": "2022-03-01T12:55:32.161Z"
   },
   {
    "duration": 359,
    "start_time": "2022-03-01T13:07:18.903Z"
   },
   {
    "duration": 369,
    "start_time": "2022-03-01T13:07:52.104Z"
   },
   {
    "duration": 578,
    "start_time": "2022-03-01T13:08:18.208Z"
   },
   {
    "duration": 562,
    "start_time": "2022-03-01T13:11:24.677Z"
   },
   {
    "duration": 3,
    "start_time": "2022-03-01T13:11:28.441Z"
   },
   {
    "duration": 373,
    "start_time": "2022-03-01T13:11:29.292Z"
   },
   {
    "duration": 369,
    "start_time": "2022-03-01T13:12:56.566Z"
   },
   {
    "duration": 566,
    "start_time": "2022-03-05T08:21:42.867Z"
   },
   {
    "duration": 352,
    "start_time": "2022-03-05T08:21:44.681Z"
   },
   {
    "duration": 4457,
    "start_time": "2022-03-05T08:39:59.754Z"
   },
   {
    "duration": -108,
    "start_time": "2022-03-05T08:40:04.322Z"
   },
   {
    "duration": 1829,
    "start_time": "2022-03-05T08:40:16.294Z"
   },
   {
    "duration": 178,
    "start_time": "2022-03-05T08:40:33.252Z"
   },
   {
    "duration": 421,
    "start_time": "2022-03-05T08:40:54.018Z"
   },
   {
    "duration": 24,
    "start_time": "2022-03-05T08:40:56.171Z"
   },
   {
    "duration": 15,
    "start_time": "2022-03-05T08:41:10.168Z"
   },
   {
    "duration": 26,
    "start_time": "2022-03-05T08:41:13.034Z"
   },
   {
    "duration": 264,
    "start_time": "2022-03-05T08:41:15.155Z"
   },
   {
    "duration": 356,
    "start_time": "2022-03-05T08:42:08.647Z"
   },
   {
    "duration": 23,
    "start_time": "2022-03-05T08:42:39.230Z"
   },
   {
    "duration": 22,
    "start_time": "2022-03-05T08:42:46.810Z"
   },
   {
    "duration": 249,
    "start_time": "2022-03-05T08:49:43.261Z"
   },
   {
    "duration": 241,
    "start_time": "2022-03-05T08:49:54.412Z"
   },
   {
    "duration": 2,
    "start_time": "2022-03-05T09:02:37.590Z"
   },
   {
    "duration": 356,
    "start_time": "2022-03-05T09:02:39.019Z"
   },
   {
    "duration": 22,
    "start_time": "2022-03-05T09:02:43.437Z"
   },
   {
    "duration": 232,
    "start_time": "2022-03-05T09:02:45.646Z"
   },
   {
    "duration": 345,
    "start_time": "2022-03-05T09:04:13.931Z"
   },
   {
    "duration": 16,
    "start_time": "2022-03-05T09:04:52.989Z"
   },
   {
    "duration": 180,
    "start_time": "2022-03-05T09:04:57.165Z"
   },
   {
    "duration": 182,
    "start_time": "2022-03-05T09:06:18.166Z"
   },
   {
    "duration": 206,
    "start_time": "2022-03-05T09:22:17.738Z"
   },
   {
    "duration": 189,
    "start_time": "2022-03-05T09:22:23.985Z"
   },
   {
    "duration": 3,
    "start_time": "2022-03-05T09:23:00.059Z"
   },
   {
    "duration": 344,
    "start_time": "2022-03-05T09:23:00.064Z"
   },
   {
    "duration": 25,
    "start_time": "2022-03-05T09:23:00.410Z"
   },
   {
    "duration": 214,
    "start_time": "2022-03-05T09:23:00.437Z"
   },
   {
    "duration": 193,
    "start_time": "2022-03-05T09:25:18.480Z"
   },
   {
    "duration": 177,
    "start_time": "2022-03-05T09:25:21.967Z"
   },
   {
    "duration": 2,
    "start_time": "2022-03-05T09:25:25.805Z"
   },
   {
    "duration": 340,
    "start_time": "2022-03-05T09:25:25.809Z"
   },
   {
    "duration": 192,
    "start_time": "2022-03-05T09:25:26.151Z"
   },
   {
    "duration": -144,
    "start_time": "2022-03-05T09:25:26.489Z"
   },
   {
    "duration": 3,
    "start_time": "2022-03-05T09:25:45.341Z"
   },
   {
    "duration": 201,
    "start_time": "2022-03-05T09:25:47.223Z"
   },
   {
    "duration": 209,
    "start_time": "2022-03-05T09:25:53.037Z"
   },
   {
    "duration": 27,
    "start_time": "2022-03-05T09:26:08.334Z"
   },
   {
    "duration": 182,
    "start_time": "2022-03-05T09:26:12.024Z"
   },
   {
    "duration": 32,
    "start_time": "2022-03-05T09:26:24.697Z"
   },
   {
    "duration": 3,
    "start_time": "2022-03-05T09:26:47.514Z"
   },
   {
    "duration": 365,
    "start_time": "2022-03-05T09:26:47.519Z"
   },
   {
    "duration": 14,
    "start_time": "2022-03-05T09:26:47.886Z"
   },
   {
    "duration": 214,
    "start_time": "2022-03-05T09:26:47.901Z"
   },
   {
    "duration": 34,
    "start_time": "2022-03-05T09:36:00.575Z"
   },
   {
    "duration": 20,
    "start_time": "2022-03-05T09:36:50.242Z"
   },
   {
    "duration": 3,
    "start_time": "2022-03-05T09:36:53.276Z"
   },
   {
    "duration": 344,
    "start_time": "2022-03-05T09:36:53.283Z"
   },
   {
    "duration": 21,
    "start_time": "2022-03-05T09:36:53.629Z"
   },
   {
    "duration": 210,
    "start_time": "2022-03-05T09:36:53.652Z"
   },
   {
    "duration": 31,
    "start_time": "2022-03-05T09:37:21.786Z"
   },
   {
    "duration": 279,
    "start_time": "2022-03-05T09:43:10.697Z"
   },
   {
    "duration": 170,
    "start_time": "2022-03-05T09:43:28.978Z"
   },
   {
    "duration": 15,
    "start_time": "2022-03-05T09:43:46.525Z"
   },
   {
    "duration": 174,
    "start_time": "2022-03-05T09:43:50.982Z"
   },
   {
    "duration": 27,
    "start_time": "2022-03-05T09:52:26.452Z"
   },
   {
    "duration": 516,
    "start_time": "2022-03-05T10:03:39.208Z"
   },
   {
    "duration": 529,
    "start_time": "2022-03-05T10:03:49.277Z"
   },
   {
    "duration": 512,
    "start_time": "2022-03-05T10:05:05.301Z"
   },
   {
    "duration": 539,
    "start_time": "2022-03-05T10:05:11.463Z"
   },
   {
    "duration": 352,
    "start_time": "2022-03-05T10:06:06.093Z"
   },
   {
    "duration": 29,
    "start_time": "2022-03-05T10:06:14.557Z"
   },
   {
    "duration": 18970,
    "start_time": "2022-03-05T10:06:17.754Z"
   },
   {
    "duration": 354,
    "start_time": "2022-03-05T10:07:18.517Z"
   },
   {
    "duration": 3,
    "start_time": "2022-03-05T10:10:36.216Z"
   },
   {
    "duration": 357,
    "start_time": "2022-03-05T10:10:36.221Z"
   },
   {
    "duration": 28,
    "start_time": "2022-03-05T10:10:36.581Z"
   },
   {
    "duration": 32,
    "start_time": "2022-03-05T10:10:36.611Z"
   },
   {
    "duration": -140,
    "start_time": "2022-03-05T10:10:55.997Z"
   },
   {
    "duration": -142,
    "start_time": "2022-03-05T10:10:56.001Z"
   },
   {
    "duration": 38,
    "start_time": "2022-03-05T10:11:09.624Z"
   },
   {
    "duration": 29,
    "start_time": "2022-03-05T10:12:02.457Z"
   },
   {
    "duration": 3,
    "start_time": "2022-03-05T10:12:55.364Z"
   },
   {
    "duration": 348,
    "start_time": "2022-03-05T10:12:55.369Z"
   },
   {
    "duration": 34,
    "start_time": "2022-03-05T10:12:55.719Z"
   },
   {
    "duration": 12,
    "start_time": "2022-03-05T10:12:55.755Z"
   },
   {
    "duration": -91,
    "start_time": "2022-03-05T10:13:15.625Z"
   },
   {
    "duration": -131,
    "start_time": "2022-03-05T10:13:15.666Z"
   },
   {
    "duration": -132,
    "start_time": "2022-03-05T10:13:15.669Z"
   },
   {
    "duration": -134,
    "start_time": "2022-03-05T10:13:15.672Z"
   },
   {
    "duration": -135,
    "start_time": "2022-03-05T10:13:15.675Z"
   },
   {
    "duration": -137,
    "start_time": "2022-03-05T10:13:15.678Z"
   },
   {
    "duration": 968,
    "start_time": "2022-03-05T10:14:14.486Z"
   },
   {
    "duration": 373,
    "start_time": "2022-03-05T10:14:15.455Z"
   },
   {
    "duration": 32,
    "start_time": "2022-03-05T10:14:15.833Z"
   },
   {
    "duration": 14,
    "start_time": "2022-03-05T10:14:15.867Z"
   },
   {
    "duration": 17417,
    "start_time": "2022-03-05T10:14:15.882Z"
   },
   {
    "duration": -92,
    "start_time": "2022-03-05T10:14:33.393Z"
   },
   {
    "duration": 4,
    "start_time": "2022-03-05T10:15:32.702Z"
   },
   {
    "duration": 17474,
    "start_time": "2022-03-05T10:15:35.657Z"
   },
   {
    "duration": 17375,
    "start_time": "2022-03-05T10:16:02.873Z"
   },
   {
    "duration": 17243,
    "start_time": "2022-03-05T10:32:19.590Z"
   },
   {
    "duration": 37,
    "start_time": "2022-03-05T10:35:02.660Z"
   },
   {
    "duration": 1750,
    "start_time": "2022-03-05T10:39:51.096Z"
   },
   {
    "duration": 168,
    "start_time": "2022-03-05T10:47:02.452Z"
   },
   {
    "duration": 60,
    "start_time": "2022-03-05T10:47:13.613Z"
   },
   {
    "duration": 248,
    "start_time": "2022-03-05T10:47:16.578Z"
   },
   {
    "duration": 28,
    "start_time": "2022-03-05T10:47:34.642Z"
   },
   {
    "duration": 176,
    "start_time": "2022-03-05T10:47:36.887Z"
   },
   {
    "duration": 386,
    "start_time": "2022-03-05T10:47:44.494Z"
   },
   {
    "duration": 37,
    "start_time": "2022-03-05T10:47:48.161Z"
   },
   {
    "duration": 184,
    "start_time": "2022-03-05T10:47:50.379Z"
   },
   {
    "duration": 3,
    "start_time": "2022-03-05T10:49:41.100Z"
   },
   {
    "duration": 353,
    "start_time": "2022-03-05T10:49:41.105Z"
   },
   {
    "duration": 23,
    "start_time": "2022-03-05T10:49:41.459Z"
   },
   {
    "duration": 22,
    "start_time": "2022-03-05T10:49:41.484Z"
   },
   {
    "duration": 40,
    "start_time": "2022-03-05T10:49:41.508Z"
   },
   {
    "duration": 16388,
    "start_time": "2022-03-05T10:49:41.550Z"
   },
   {
    "duration": 206,
    "start_time": "2022-03-05T10:50:01.326Z"
   },
   {
    "duration": 987,
    "start_time": "2022-03-05T10:50:14.767Z"
   },
   {
    "duration": 3,
    "start_time": "2022-03-05T10:50:17.666Z"
   },
   {
    "duration": 372,
    "start_time": "2022-03-05T10:50:17.671Z"
   },
   {
    "duration": 30,
    "start_time": "2022-03-05T10:50:18.045Z"
   },
   {
    "duration": 28,
    "start_time": "2022-03-05T10:50:18.077Z"
   },
   {
    "duration": 45,
    "start_time": "2022-03-05T10:50:18.106Z"
   },
   {
    "duration": 16814,
    "start_time": "2022-03-05T10:50:18.153Z"
   },
   {
    "duration": -99,
    "start_time": "2022-03-05T10:50:35.068Z"
   },
   {
    "duration": -100,
    "start_time": "2022-03-05T10:50:35.070Z"
   },
   {
    "duration": 16897,
    "start_time": "2022-03-05T10:50:46.142Z"
   },
   {
    "duration": 1679,
    "start_time": "2022-03-05T10:51:19.420Z"
   },
   {
    "duration": 1666,
    "start_time": "2022-03-05T10:51:46.020Z"
   },
   {
    "duration": 1667,
    "start_time": "2022-03-05T10:52:11.613Z"
   },
   {
    "duration": 1469,
    "start_time": "2022-03-05T10:52:50.612Z"
   },
   {
    "duration": 1522,
    "start_time": "2022-03-05T10:53:00.140Z"
   },
   {
    "duration": 1037,
    "start_time": "2022-03-07T12:31:29.608Z"
   },
   {
    "duration": 359,
    "start_time": "2022-03-07T12:31:30.647Z"
   },
   {
    "duration": 8,
    "start_time": "2022-03-07T12:31:31.008Z"
   },
   {
    "duration": 28,
    "start_time": "2022-03-07T12:31:31.018Z"
   },
   {
    "duration": 33,
    "start_time": "2022-03-07T12:31:31.047Z"
   },
   {
    "duration": 28,
    "start_time": "2022-03-07T12:31:31.082Z"
   },
   {
    "duration": 46,
    "start_time": "2022-03-07T12:31:31.112Z"
   },
   {
    "duration": 17386,
    "start_time": "2022-03-07T12:31:31.160Z"
   },
   {
    "duration": 1613,
    "start_time": "2022-03-07T12:31:48.549Z"
   },
   {
    "duration": 1776,
    "start_time": "2022-03-07T12:31:50.164Z"
   },
   {
    "duration": 1003,
    "start_time": "2022-03-08T05:26:09.938Z"
   },
   {
    "duration": 395,
    "start_time": "2022-03-08T05:26:10.942Z"
   },
   {
    "duration": 10,
    "start_time": "2022-03-08T05:26:11.340Z"
   },
   {
    "duration": 13,
    "start_time": "2022-03-08T05:26:11.352Z"
   },
   {
    "duration": 30,
    "start_time": "2022-03-08T05:26:11.366Z"
   },
   {
    "duration": 52,
    "start_time": "2022-03-08T05:26:11.397Z"
   },
   {
    "duration": 27,
    "start_time": "2022-03-08T05:26:11.450Z"
   },
   {
    "duration": 17056,
    "start_time": "2022-03-08T05:26:11.478Z"
   },
   {
    "duration": 1599,
    "start_time": "2022-03-08T05:26:28.536Z"
   },
   {
    "duration": 1697,
    "start_time": "2022-03-08T05:26:30.138Z"
   },
   {
    "duration": 6,
    "start_time": "2022-03-08T05:26:36.584Z"
   },
   {
    "duration": 3,
    "start_time": "2022-03-08T06:14:15.094Z"
   },
   {
    "duration": 3,
    "start_time": "2022-03-08T06:15:39.615Z"
   },
   {
    "duration": 9,
    "start_time": "2022-03-08T06:15:46.465Z"
   },
   {
    "duration": 3,
    "start_time": "2022-03-08T06:16:01.481Z"
   },
   {
    "duration": 260,
    "start_time": "2022-03-08T06:30:56.171Z"
   },
   {
    "duration": 179,
    "start_time": "2022-03-08T06:31:16.669Z"
   },
   {
    "duration": 185,
    "start_time": "2022-03-08T06:32:13.774Z"
   },
   {
    "duration": 4,
    "start_time": "2022-03-08T06:49:56.938Z"
   },
   {
    "duration": 4,
    "start_time": "2022-03-08T06:50:03.709Z"
   },
   {
    "duration": 4,
    "start_time": "2022-03-08T06:50:34.157Z"
   },
   {
    "duration": 4,
    "start_time": "2022-03-08T06:51:55.232Z"
   },
   {
    "duration": 531,
    "start_time": "2022-03-08T06:51:55.238Z"
   },
   {
    "duration": 12,
    "start_time": "2022-03-08T06:51:55.771Z"
   },
   {
    "duration": 13,
    "start_time": "2022-03-08T06:51:55.785Z"
   },
   {
    "duration": 55,
    "start_time": "2022-03-08T06:51:55.800Z"
   },
   {
    "duration": 34,
    "start_time": "2022-03-08T06:51:55.857Z"
   },
   {
    "duration": 53,
    "start_time": "2022-03-08T06:51:55.894Z"
   },
   {
    "duration": 24189,
    "start_time": "2022-03-08T06:51:55.950Z"
   },
   {
    "duration": 1692,
    "start_time": "2022-03-08T06:52:20.141Z"
   },
   {
    "duration": 1627,
    "start_time": "2022-03-08T06:52:21.835Z"
   },
   {
    "duration": 70,
    "start_time": "2022-03-08T06:52:23.465Z"
   },
   {
    "duration": 264,
    "start_time": "2022-03-08T06:52:23.537Z"
   },
   {
    "duration": -128,
    "start_time": "2022-03-08T06:52:23.931Z"
   },
   {
    "duration": 289,
    "start_time": "2022-03-08T06:52:45.968Z"
   },
   {
    "duration": 3,
    "start_time": "2022-03-08T06:55:57.216Z"
   },
   {
    "duration": 366,
    "start_time": "2022-03-08T06:55:57.220Z"
   },
   {
    "duration": 10,
    "start_time": "2022-03-08T06:55:57.587Z"
   },
   {
    "duration": 11,
    "start_time": "2022-03-08T06:55:57.598Z"
   },
   {
    "duration": 42,
    "start_time": "2022-03-08T06:55:57.611Z"
   },
   {
    "duration": 27,
    "start_time": "2022-03-08T06:55:57.655Z"
   },
   {
    "duration": 24,
    "start_time": "2022-03-08T06:55:57.684Z"
   },
   {
    "duration": 18439,
    "start_time": "2022-03-08T06:55:57.710Z"
   },
   {
    "duration": 1689,
    "start_time": "2022-03-08T06:56:16.151Z"
   },
   {
    "duration": 1891,
    "start_time": "2022-03-08T06:56:17.842Z"
   },
   {
    "duration": 97,
    "start_time": "2022-03-08T06:56:19.736Z"
   },
   {
    "duration": 328,
    "start_time": "2022-03-08T06:56:19.835Z"
   },
   {
    "duration": -137,
    "start_time": "2022-03-08T06:56:20.302Z"
   },
   {
    "duration": 307,
    "start_time": "2022-03-08T06:57:39.414Z"
   },
   {
    "duration": 299,
    "start_time": "2022-03-08T06:58:13.608Z"
   },
   {
    "duration": 4,
    "start_time": "2022-03-08T07:00:45.094Z"
   },
   {
    "duration": 288,
    "start_time": "2022-03-08T07:00:46.677Z"
   },
   {
    "duration": 9,
    "start_time": "2022-03-08T07:02:44.352Z"
   },
   {
    "duration": 11,
    "start_time": "2022-03-08T07:02:49.230Z"
   },
   {
    "duration": 18,
    "start_time": "2022-03-08T07:03:43.756Z"
   },
   {
    "duration": 18,
    "start_time": "2022-03-08T07:04:02.516Z"
   },
   {
    "duration": 4,
    "start_time": "2022-03-08T07:11:23.680Z"
   },
   {
    "duration": 17,
    "start_time": "2022-03-08T07:11:25.474Z"
   },
   {
    "duration": 4,
    "start_time": "2022-03-08T07:11:59.218Z"
   },
   {
    "duration": 18,
    "start_time": "2022-03-08T07:12:01.108Z"
   },
   {
    "duration": 3,
    "start_time": "2022-03-08T08:21:43.270Z"
   },
   {
    "duration": 357,
    "start_time": "2022-03-08T08:21:43.275Z"
   },
   {
    "duration": 10,
    "start_time": "2022-03-08T08:21:43.634Z"
   },
   {
    "duration": 10,
    "start_time": "2022-03-08T08:21:43.646Z"
   },
   {
    "duration": 24,
    "start_time": "2022-03-08T08:21:43.657Z"
   },
   {
    "duration": 52,
    "start_time": "2022-03-08T08:21:43.683Z"
   },
   {
    "duration": 26,
    "start_time": "2022-03-08T08:21:43.737Z"
   },
   {
    "duration": 17874,
    "start_time": "2022-03-08T08:21:43.765Z"
   },
   {
    "duration": 1599,
    "start_time": "2022-03-08T08:22:01.641Z"
   },
   {
    "duration": 1791,
    "start_time": "2022-03-08T08:22:03.243Z"
   },
   {
    "duration": 95,
    "start_time": "2022-03-08T08:22:05.039Z"
   },
   {
    "duration": 105,
    "start_time": "2022-03-08T08:22:05.136Z"
   },
   {
    "duration": 188,
    "start_time": "2022-03-08T08:22:05.243Z"
   },
   {
    "duration": 190,
    "start_time": "2022-03-08T08:22:25.227Z"
   },
   {
    "duration": 279,
    "start_time": "2022-03-08T08:25:43.467Z"
   },
   {
    "duration": 2180,
    "start_time": "2022-03-08T08:26:11.269Z"
   },
   {
    "duration": 2295,
    "start_time": "2022-03-08T08:26:36.928Z"
   },
   {
    "duration": 2209,
    "start_time": "2022-03-08T08:26:42.077Z"
   },
   {
    "duration": 6779,
    "start_time": "2022-03-08T08:30:46.730Z"
   },
   {
    "duration": 16,
    "start_time": "2022-03-08T08:33:55.793Z"
   },
   {
    "duration": 6838,
    "start_time": "2022-03-08T08:36:07.438Z"
   },
   {
    "duration": 6836,
    "start_time": "2022-03-08T08:36:57.154Z"
   },
   {
    "duration": 61,
    "start_time": "2022-03-08T08:39:04.060Z"
   },
   {
    "duration": 66,
    "start_time": "2022-03-08T08:39:13.601Z"
   },
   {
    "duration": 57,
    "start_time": "2022-03-08T08:39:18.497Z"
   },
   {
    "duration": 6588,
    "start_time": "2022-03-08T08:39:25.938Z"
   },
   {
    "duration": 1150,
    "start_time": "2022-03-08T11:26:32.491Z"
   },
   {
    "duration": 394,
    "start_time": "2022-03-08T11:26:33.643Z"
   },
   {
    "duration": 14,
    "start_time": "2022-03-08T11:26:34.041Z"
   },
   {
    "duration": 15,
    "start_time": "2022-03-08T11:26:34.057Z"
   },
   {
    "duration": 55,
    "start_time": "2022-03-08T11:26:34.074Z"
   },
   {
    "duration": 30,
    "start_time": "2022-03-08T11:26:34.131Z"
   },
   {
    "duration": 51,
    "start_time": "2022-03-08T11:26:34.162Z"
   },
   {
    "duration": 21305,
    "start_time": "2022-03-08T11:26:34.215Z"
   },
   {
    "duration": 1606,
    "start_time": "2022-03-08T11:26:55.601Z"
   },
   {
    "duration": 1944,
    "start_time": "2022-03-08T11:26:57.210Z"
   },
   {
    "duration": 100,
    "start_time": "2022-03-08T11:26:59.203Z"
   },
   {
    "duration": 29,
    "start_time": "2022-03-08T11:26:59.306Z"
   },
   {
    "duration": 10041,
    "start_time": "2022-03-08T11:26:59.338Z"
   },
   {
    "duration": 3,
    "start_time": "2022-03-08T11:28:49.785Z"
   },
   {
    "duration": 399,
    "start_time": "2022-03-08T11:28:49.802Z"
   },
   {
    "duration": 13,
    "start_time": "2022-03-08T11:28:50.203Z"
   },
   {
    "duration": 12,
    "start_time": "2022-03-08T11:28:50.218Z"
   },
   {
    "duration": 28,
    "start_time": "2022-03-08T11:28:50.232Z"
   },
   {
    "duration": 57,
    "start_time": "2022-03-08T11:28:50.262Z"
   },
   {
    "duration": 28,
    "start_time": "2022-03-08T11:28:50.321Z"
   },
   {
    "duration": 22652,
    "start_time": "2022-03-08T11:28:50.351Z"
   },
   {
    "duration": 1594,
    "start_time": "2022-03-08T11:29:13.006Z"
   },
   {
    "duration": 1834,
    "start_time": "2022-03-08T11:29:14.603Z"
   },
   {
    "duration": 6,
    "start_time": "2022-03-08T11:29:16.502Z"
   },
   {
    "duration": 113,
    "start_time": "2022-03-08T11:29:16.511Z"
   },
   {
    "duration": 7875,
    "start_time": "2022-03-08T11:29:16.626Z"
   },
   {
    "duration": 4,
    "start_time": "2022-03-08T11:30:15.838Z"
   },
   {
    "duration": 434,
    "start_time": "2022-03-08T11:30:15.845Z"
   },
   {
    "duration": 13,
    "start_time": "2022-03-08T11:30:16.281Z"
   },
   {
    "duration": 12,
    "start_time": "2022-03-08T11:30:16.301Z"
   },
   {
    "duration": 28,
    "start_time": "2022-03-08T11:30:16.315Z"
   },
   {
    "duration": 29,
    "start_time": "2022-03-08T11:30:16.344Z"
   },
   {
    "duration": 52,
    "start_time": "2022-03-08T11:30:16.374Z"
   },
   {
    "duration": 21684,
    "start_time": "2022-03-08T11:30:16.428Z"
   },
   {
    "duration": 1687,
    "start_time": "2022-03-08T11:30:38.116Z"
   },
   {
    "duration": 20705,
    "start_time": "2022-03-08T11:30:39.806Z"
   },
   {
    "duration": 4,
    "start_time": "2022-03-08T11:31:00.513Z"
   },
   {
    "duration": 24,
    "start_time": "2022-03-08T11:31:00.519Z"
   },
   {
    "duration": 8324,
    "start_time": "2022-03-08T11:31:00.545Z"
   },
   {
    "duration": 5,
    "start_time": "2022-03-08T11:38:04.746Z"
   },
   {
    "duration": 5,
    "start_time": "2022-03-08T11:38:23.870Z"
   },
   {
    "duration": 19,
    "start_time": "2022-03-08T11:43:54.312Z"
   },
   {
    "duration": 20,
    "start_time": "2022-03-08T11:46:11.059Z"
   },
   {
    "duration": 7974,
    "start_time": "2022-03-08T12:21:20.177Z"
   },
   {
    "duration": 8088,
    "start_time": "2022-03-08T12:21:52.584Z"
   },
   {
    "duration": 4,
    "start_time": "2022-03-08T12:53:34.625Z"
   },
   {
    "duration": 442,
    "start_time": "2022-03-08T12:53:34.633Z"
   },
   {
    "duration": 13,
    "start_time": "2022-03-08T12:53:35.077Z"
   },
   {
    "duration": 31,
    "start_time": "2022-03-08T12:53:35.101Z"
   },
   {
    "duration": 58,
    "start_time": "2022-03-08T12:53:35.134Z"
   },
   {
    "duration": 45,
    "start_time": "2022-03-08T12:53:35.194Z"
   },
   {
    "duration": 43,
    "start_time": "2022-03-08T12:53:35.241Z"
   },
   {
    "duration": 21925,
    "start_time": "2022-03-08T12:53:35.286Z"
   },
   {
    "duration": 1589,
    "start_time": "2022-03-08T12:53:57.214Z"
   },
   {
    "duration": 21711,
    "start_time": "2022-03-08T12:53:58.806Z"
   },
   {
    "duration": 85,
    "start_time": "2022-03-08T12:54:20.520Z"
   },
   {
    "duration": 24,
    "start_time": "2022-03-08T12:54:20.607Z"
   },
   {
    "duration": 8318,
    "start_time": "2022-03-08T12:54:20.633Z"
   },
   {
    "duration": 1057,
    "start_time": "2022-03-08T19:15:42.029Z"
   },
   {
    "duration": 380,
    "start_time": "2022-03-08T19:15:43.099Z"
   },
   {
    "duration": 13,
    "start_time": "2022-03-08T19:15:44.764Z"
   },
   {
    "duration": 15,
    "start_time": "2022-03-08T19:15:45.142Z"
   },
   {
    "duration": 33,
    "start_time": "2022-03-08T19:15:46.179Z"
   },
   {
    "duration": 32,
    "start_time": "2022-03-08T19:15:46.631Z"
   },
   {
    "duration": 30,
    "start_time": "2022-03-08T19:15:47.251Z"
   },
   {
    "duration": 17399,
    "start_time": "2022-03-08T19:18:26.367Z"
   },
   {
    "duration": 1503,
    "start_time": "2022-03-08T19:18:43.768Z"
   },
   {
    "duration": 16500,
    "start_time": "2022-03-08T19:18:45.274Z"
   },
   {
    "duration": 9,
    "start_time": "2022-03-08T19:20:12.559Z"
   },
   {
    "duration": 18,
    "start_time": "2022-03-08T19:20:13.753Z"
   },
   {
    "duration": 7048,
    "start_time": "2022-03-08T19:25:51.382Z"
   },
   {
    "duration": 6820,
    "start_time": "2022-03-08T19:31:59.278Z"
   },
   {
    "duration": 14,
    "start_time": "2022-03-08T19:36:12.910Z"
   },
   {
    "duration": 14,
    "start_time": "2022-03-08T19:36:14.017Z"
   },
   {
    "duration": 15,
    "start_time": "2022-03-08T19:36:14.659Z"
   },
   {
    "duration": 25628,
    "start_time": "2022-03-08T19:36:18.041Z"
   },
   {
    "duration": 2492,
    "start_time": "2022-03-08T19:36:43.671Z"
   },
   {
    "duration": 21115,
    "start_time": "2022-03-08T19:36:46.165Z"
   },
   {
    "duration": 25463,
    "start_time": "2022-03-08T19:39:56.305Z"
   },
   {
    "duration": 2492,
    "start_time": "2022-03-08T19:40:21.770Z"
   },
   {
    "duration": 21104,
    "start_time": "2022-03-08T19:40:24.265Z"
   },
   {
    "duration": 17,
    "start_time": "2022-03-08T19:40:53.472Z"
   },
   {
    "duration": 7221,
    "start_time": "2022-03-08T19:41:06.297Z"
   },
   {
    "duration": 393,
    "start_time": "2022-03-08T19:43:30.335Z"
   },
   {
    "duration": 12,
    "start_time": "2022-03-08T19:43:31.477Z"
   },
   {
    "duration": 11,
    "start_time": "2022-03-08T19:43:32.617Z"
   },
   {
    "duration": 25,
    "start_time": "2022-03-08T19:43:33.022Z"
   },
   {
    "duration": 27,
    "start_time": "2022-03-08T19:43:33.173Z"
   },
   {
    "duration": 25,
    "start_time": "2022-03-08T19:43:33.347Z"
   },
   {
    "duration": 17328,
    "start_time": "2022-03-08T19:43:34.140Z"
   },
   {
    "duration": 1510,
    "start_time": "2022-03-08T19:43:51.470Z"
   },
   {
    "duration": 16390,
    "start_time": "2022-03-08T19:43:52.984Z"
   },
   {
    "duration": 5,
    "start_time": "2022-03-08T19:44:09.376Z"
   },
   {
    "duration": 18,
    "start_time": "2022-03-08T19:44:09.383Z"
   },
   {
    "duration": 7157,
    "start_time": "2022-03-08T19:44:09.403Z"
   },
   {
    "duration": 7147,
    "start_time": "2022-03-08T20:04:45.102Z"
   },
   {
    "duration": 1414,
    "start_time": "2022-03-09T07:10:49.324Z"
   },
   {
    "duration": 505,
    "start_time": "2022-03-09T07:10:50.740Z"
   },
   {
    "duration": 18,
    "start_time": "2022-03-09T07:10:51.249Z"
   },
   {
    "duration": 19,
    "start_time": "2022-03-09T07:10:51.270Z"
   },
   {
    "duration": 71,
    "start_time": "2022-03-09T07:10:51.292Z"
   },
   {
    "duration": 37,
    "start_time": "2022-03-09T07:10:51.365Z"
   },
   {
    "duration": 57,
    "start_time": "2022-03-09T07:10:51.404Z"
   },
   {
    "duration": 17,
    "start_time": "2022-03-09T07:10:51.464Z"
   },
   {
    "duration": 107,
    "start_time": "2022-03-09T07:10:51.536Z"
   },
   {
    "duration": 192,
    "start_time": "2022-03-09T07:10:51.646Z"
   },
   {
    "duration": 107,
    "start_time": "2022-03-09T07:10:51.841Z"
   },
   {
    "duration": 109,
    "start_time": "2022-03-09T07:10:51.950Z"
   },
   {
    "duration": 11435,
    "start_time": "2022-03-09T07:10:52.062Z"
   },
   {
    "duration": 114,
    "start_time": "2022-03-09T11:13:47.107Z"
   },
   {
    "duration": 5,
    "start_time": "2022-03-09T11:14:07.256Z"
   },
   {
    "duration": 517,
    "start_time": "2022-03-09T11:14:07.264Z"
   },
   {
    "duration": 17,
    "start_time": "2022-03-09T11:14:07.784Z"
   },
   {
    "duration": 34,
    "start_time": "2022-03-09T11:14:07.804Z"
   },
   {
    "duration": 35,
    "start_time": "2022-03-09T11:14:07.841Z"
   },
   {
    "duration": 56,
    "start_time": "2022-03-09T11:14:07.878Z"
   },
   {
    "duration": 42,
    "start_time": "2022-03-09T11:14:07.937Z"
   },
   {
    "duration": 64,
    "start_time": "2022-03-09T11:14:07.982Z"
   },
   {
    "duration": 97,
    "start_time": "2022-03-09T11:14:08.051Z"
   },
   {
    "duration": 187,
    "start_time": "2022-03-09T11:14:08.152Z"
   },
   {
    "duration": 96,
    "start_time": "2022-03-09T11:14:08.343Z"
   },
   {
    "duration": 122,
    "start_time": "2022-03-09T11:14:08.442Z"
   },
   {
    "duration": 12319,
    "start_time": "2022-03-09T11:14:08.566Z"
   }
  ],
  "kernelspec": {
   "display_name": "Python 3 (ipykernel)",
   "language": "python",
   "name": "python3"
  },
  "language_info": {
   "codemirror_mode": {
    "name": "ipython",
    "version": 3
   },
   "file_extension": ".py",
   "mimetype": "text/x-python",
   "name": "python",
   "nbconvert_exporter": "python",
   "pygments_lexer": "ipython3",
   "version": "3.10.5"
  },
  "toc": {
   "base_numbering": 1,
   "nav_menu": {},
   "number_sections": true,
   "sideBar": true,
   "skip_h1_title": true,
   "title_cell": "Table of Contents",
   "title_sidebar": "Contents",
   "toc_cell": false,
   "toc_position": {},
   "toc_section_display": true,
   "toc_window_display": false
  }
 },
 "nbformat": 4,
 "nbformat_minor": 2
}
