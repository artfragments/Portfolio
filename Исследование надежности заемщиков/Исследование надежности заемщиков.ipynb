{
 "cells": [
  {
   "cell_type": "markdown",
   "metadata": {},
   "source": [
    "# Исследование надёжности заёмщиков\n",
    "\n",
    "Заказчик — кредитный отдел банка. Нужно разобраться, влияет ли семейное положение и количество детей клиента на факт погашения кредита в срок. Входные данные от банка — статистика о платёжеспособности клиентов.\n",
    "\n",
    "Результаты исследования будут учтены при построении модели **кредитного скоринга** — специальной системы, которая оценивает способность потенциального заёмщика вернуть кредит банку."
   ]
  },
  {
   "cell_type": "markdown",
   "metadata": {},
   "source": [
    "## Шаг 1. Откроем файл с данными и изучим общую информацию"
   ]
  },
  {
   "cell_type": "code",
   "execution_count": 1,
   "metadata": {
    "scrolled": false
   },
   "outputs": [
    {
     "data": {
      "text/html": [
       "<div>\n",
       "<style scoped>\n",
       "    .dataframe tbody tr th:only-of-type {\n",
       "        vertical-align: middle;\n",
       "    }\n",
       "\n",
       "    .dataframe tbody tr th {\n",
       "        vertical-align: top;\n",
       "    }\n",
       "\n",
       "    .dataframe thead th {\n",
       "        text-align: right;\n",
       "    }\n",
       "</style>\n",
       "<table border=\"1\" class=\"dataframe\">\n",
       "  <thead>\n",
       "    <tr style=\"text-align: right;\">\n",
       "      <th></th>\n",
       "      <th>children</th>\n",
       "      <th>days_employed</th>\n",
       "      <th>dob_years</th>\n",
       "      <th>education</th>\n",
       "      <th>education_id</th>\n",
       "      <th>family_status</th>\n",
       "      <th>family_status_id</th>\n",
       "      <th>gender</th>\n",
       "      <th>income_type</th>\n",
       "      <th>debt</th>\n",
       "      <th>total_income</th>\n",
       "      <th>purpose</th>\n",
       "    </tr>\n",
       "  </thead>\n",
       "  <tbody>\n",
       "    <tr>\n",
       "      <td>0</td>\n",
       "      <td>1</td>\n",
       "      <td>-8437.673028</td>\n",
       "      <td>42</td>\n",
       "      <td>высшее</td>\n",
       "      <td>0</td>\n",
       "      <td>женат / замужем</td>\n",
       "      <td>0</td>\n",
       "      <td>F</td>\n",
       "      <td>сотрудник</td>\n",
       "      <td>0</td>\n",
       "      <td>253875.639453</td>\n",
       "      <td>покупка жилья</td>\n",
       "    </tr>\n",
       "    <tr>\n",
       "      <td>1</td>\n",
       "      <td>1</td>\n",
       "      <td>-4024.803754</td>\n",
       "      <td>36</td>\n",
       "      <td>среднее</td>\n",
       "      <td>1</td>\n",
       "      <td>женат / замужем</td>\n",
       "      <td>0</td>\n",
       "      <td>F</td>\n",
       "      <td>сотрудник</td>\n",
       "      <td>0</td>\n",
       "      <td>112080.014102</td>\n",
       "      <td>приобретение автомобиля</td>\n",
       "    </tr>\n",
       "    <tr>\n",
       "      <td>2</td>\n",
       "      <td>0</td>\n",
       "      <td>-5623.422610</td>\n",
       "      <td>33</td>\n",
       "      <td>Среднее</td>\n",
       "      <td>1</td>\n",
       "      <td>женат / замужем</td>\n",
       "      <td>0</td>\n",
       "      <td>M</td>\n",
       "      <td>сотрудник</td>\n",
       "      <td>0</td>\n",
       "      <td>145885.952297</td>\n",
       "      <td>покупка жилья</td>\n",
       "    </tr>\n",
       "    <tr>\n",
       "      <td>3</td>\n",
       "      <td>3</td>\n",
       "      <td>-4124.747207</td>\n",
       "      <td>32</td>\n",
       "      <td>среднее</td>\n",
       "      <td>1</td>\n",
       "      <td>женат / замужем</td>\n",
       "      <td>0</td>\n",
       "      <td>M</td>\n",
       "      <td>сотрудник</td>\n",
       "      <td>0</td>\n",
       "      <td>267628.550329</td>\n",
       "      <td>дополнительное образование</td>\n",
       "    </tr>\n",
       "    <tr>\n",
       "      <td>4</td>\n",
       "      <td>0</td>\n",
       "      <td>340266.072047</td>\n",
       "      <td>53</td>\n",
       "      <td>среднее</td>\n",
       "      <td>1</td>\n",
       "      <td>гражданский брак</td>\n",
       "      <td>1</td>\n",
       "      <td>F</td>\n",
       "      <td>пенсионер</td>\n",
       "      <td>0</td>\n",
       "      <td>158616.077870</td>\n",
       "      <td>сыграть свадьбу</td>\n",
       "    </tr>\n",
       "    <tr>\n",
       "      <td>...</td>\n",
       "      <td>...</td>\n",
       "      <td>...</td>\n",
       "      <td>...</td>\n",
       "      <td>...</td>\n",
       "      <td>...</td>\n",
       "      <td>...</td>\n",
       "      <td>...</td>\n",
       "      <td>...</td>\n",
       "      <td>...</td>\n",
       "      <td>...</td>\n",
       "      <td>...</td>\n",
       "      <td>...</td>\n",
       "    </tr>\n",
       "    <tr>\n",
       "      <td>21520</td>\n",
       "      <td>1</td>\n",
       "      <td>-4529.316663</td>\n",
       "      <td>43</td>\n",
       "      <td>среднее</td>\n",
       "      <td>1</td>\n",
       "      <td>гражданский брак</td>\n",
       "      <td>1</td>\n",
       "      <td>F</td>\n",
       "      <td>компаньон</td>\n",
       "      <td>0</td>\n",
       "      <td>224791.862382</td>\n",
       "      <td>операции с жильем</td>\n",
       "    </tr>\n",
       "    <tr>\n",
       "      <td>21521</td>\n",
       "      <td>0</td>\n",
       "      <td>343937.404131</td>\n",
       "      <td>67</td>\n",
       "      <td>среднее</td>\n",
       "      <td>1</td>\n",
       "      <td>женат / замужем</td>\n",
       "      <td>0</td>\n",
       "      <td>F</td>\n",
       "      <td>пенсионер</td>\n",
       "      <td>0</td>\n",
       "      <td>155999.806512</td>\n",
       "      <td>сделка с автомобилем</td>\n",
       "    </tr>\n",
       "    <tr>\n",
       "      <td>21522</td>\n",
       "      <td>1</td>\n",
       "      <td>-2113.346888</td>\n",
       "      <td>38</td>\n",
       "      <td>среднее</td>\n",
       "      <td>1</td>\n",
       "      <td>гражданский брак</td>\n",
       "      <td>1</td>\n",
       "      <td>M</td>\n",
       "      <td>сотрудник</td>\n",
       "      <td>1</td>\n",
       "      <td>89672.561153</td>\n",
       "      <td>недвижимость</td>\n",
       "    </tr>\n",
       "    <tr>\n",
       "      <td>21523</td>\n",
       "      <td>3</td>\n",
       "      <td>-3112.481705</td>\n",
       "      <td>38</td>\n",
       "      <td>среднее</td>\n",
       "      <td>1</td>\n",
       "      <td>женат / замужем</td>\n",
       "      <td>0</td>\n",
       "      <td>M</td>\n",
       "      <td>сотрудник</td>\n",
       "      <td>1</td>\n",
       "      <td>244093.050500</td>\n",
       "      <td>на покупку своего автомобиля</td>\n",
       "    </tr>\n",
       "    <tr>\n",
       "      <td>21524</td>\n",
       "      <td>2</td>\n",
       "      <td>-1984.507589</td>\n",
       "      <td>40</td>\n",
       "      <td>среднее</td>\n",
       "      <td>1</td>\n",
       "      <td>женат / замужем</td>\n",
       "      <td>0</td>\n",
       "      <td>F</td>\n",
       "      <td>сотрудник</td>\n",
       "      <td>0</td>\n",
       "      <td>82047.418899</td>\n",
       "      <td>на покупку автомобиля</td>\n",
       "    </tr>\n",
       "  </tbody>\n",
       "</table>\n",
       "<p>21525 rows × 12 columns</p>\n",
       "</div>"
      ],
      "text/plain": [
       "       children  days_employed  dob_years education  education_id  \\\n",
       "0             1   -8437.673028         42    высшее             0   \n",
       "1             1   -4024.803754         36   среднее             1   \n",
       "2             0   -5623.422610         33   Среднее             1   \n",
       "3             3   -4124.747207         32   среднее             1   \n",
       "4             0  340266.072047         53   среднее             1   \n",
       "...         ...            ...        ...       ...           ...   \n",
       "21520         1   -4529.316663         43   среднее             1   \n",
       "21521         0  343937.404131         67   среднее             1   \n",
       "21522         1   -2113.346888         38   среднее             1   \n",
       "21523         3   -3112.481705         38   среднее             1   \n",
       "21524         2   -1984.507589         40   среднее             1   \n",
       "\n",
       "          family_status  family_status_id gender income_type  debt  \\\n",
       "0       женат / замужем                 0      F   сотрудник     0   \n",
       "1       женат / замужем                 0      F   сотрудник     0   \n",
       "2       женат / замужем                 0      M   сотрудник     0   \n",
       "3       женат / замужем                 0      M   сотрудник     0   \n",
       "4      гражданский брак                 1      F   пенсионер     0   \n",
       "...                 ...               ...    ...         ...   ...   \n",
       "21520  гражданский брак                 1      F   компаньон     0   \n",
       "21521   женат / замужем                 0      F   пенсионер     0   \n",
       "21522  гражданский брак                 1      M   сотрудник     1   \n",
       "21523   женат / замужем                 0      M   сотрудник     1   \n",
       "21524   женат / замужем                 0      F   сотрудник     0   \n",
       "\n",
       "        total_income                       purpose  \n",
       "0      253875.639453                 покупка жилья  \n",
       "1      112080.014102       приобретение автомобиля  \n",
       "2      145885.952297                 покупка жилья  \n",
       "3      267628.550329    дополнительное образование  \n",
       "4      158616.077870               сыграть свадьбу  \n",
       "...              ...                           ...  \n",
       "21520  224791.862382             операции с жильем  \n",
       "21521  155999.806512          сделка с автомобилем  \n",
       "21522   89672.561153                  недвижимость  \n",
       "21523  244093.050500  на покупку своего автомобиля  \n",
       "21524   82047.418899         на покупку автомобиля  \n",
       "\n",
       "[21525 rows x 12 columns]"
      ]
     },
     "execution_count": 1,
     "metadata": {},
     "output_type": "execute_result"
    }
   ],
   "source": [
    "import pandas as pd\n",
    "df = pd.read_csv('/datasets/data.csv') # импортируем библиотеку pandas и сохраняем датасет в переменной df\n",
    "df # выводим на экран датасет"
   ]
  },
  {
   "cell_type": "code",
   "execution_count": 2,
   "metadata": {},
   "outputs": [
    {
     "name": "stdout",
     "output_type": "stream",
     "text": [
      "<class 'pandas.core.frame.DataFrame'>\n",
      "RangeIndex: 21525 entries, 0 to 21524\n",
      "Data columns (total 12 columns):\n",
      "children            21525 non-null int64\n",
      "days_employed       19351 non-null float64\n",
      "dob_years           21525 non-null int64\n",
      "education           21525 non-null object\n",
      "education_id        21525 non-null int64\n",
      "family_status       21525 non-null object\n",
      "family_status_id    21525 non-null int64\n",
      "gender              21525 non-null object\n",
      "income_type         21525 non-null object\n",
      "debt                21525 non-null int64\n",
      "total_income        19351 non-null float64\n",
      "purpose             21525 non-null object\n",
      "dtypes: float64(2), int64(5), object(5)\n",
      "memory usage: 2.0+ MB\n"
     ]
    }
   ],
   "source": [
    "df.info() # проверяем столбцы датасета для оформления выводов перед предобработкой\n"
   ]
  },
  {
   "cell_type": "markdown",
   "metadata": {},
   "source": [
    "**Вывод**\n",
    "\n",
    "При первом взгляде на данные уже видно проблемы в столбцах:\n",
    "* days_employed содержит минусовые значения, что возможно только если за точку отсчета брали какую либо определенную дату как в системе Unix, данные было бы возможно обработать, если бы мы знали дату в которую взяли кредит, есть так же и данные исчисляемые тысячей лет, что могло произойти если запятая находится не на своем месте, эти данные могут оказаться бесполезными ввиду невозможности запросить дополнительную информацию у разработчиков;\n",
    "* в purpose одни и те же причины записаны по-разному. Пример: недвижимость, операции с жильем;\n",
    "* total_income и days_employed включают пропуски. Возможно, эти столбцы являются не обязательными для заполнения."
   ]
  },
  {
   "cell_type": "markdown",
   "metadata": {},
   "source": [
    "## Шаг 2. Предобработка данных"
   ]
  },
  {
   "cell_type": "markdown",
   "metadata": {},
   "source": [
    "### Обработка пропусков\n",
    "\n",
    "Пустые строки столбца total_income составляют почти 11% от всех строк датасета, их удаление может сказаться на итоговом выводе, поставим вместо пропусков медиану дохода по каждому виду занятости. Так же запоним медианными значениями столбец days_employed, хотя возможно данные из него нам не пригодятся.\n",
    "\n",
    "Сначала посчитаем медиану по каждому типу занятости"
   ]
  },
  {
   "cell_type": "code",
   "execution_count": 3,
   "metadata": {},
   "outputs": [
    {
     "name": "stdout",
     "output_type": "stream",
     "text": [
      "<class 'pandas.core.frame.DataFrame'>\n",
      "RangeIndex: 21525 entries, 0 to 21524\n",
      "Data columns (total 12 columns):\n",
      "children            21525 non-null int64\n",
      "days_employed       21525 non-null float64\n",
      "dob_years           21525 non-null int64\n",
      "education           21525 non-null object\n",
      "education_id        21525 non-null int64\n",
      "family_status       21525 non-null object\n",
      "family_status_id    21525 non-null int64\n",
      "gender              21525 non-null object\n",
      "income_type         21525 non-null object\n",
      "debt                21525 non-null int64\n",
      "total_income        21525 non-null float64\n",
      "purpose             21525 non-null object\n",
      "dtypes: float64(2), int64(5), object(5)\n",
      "memory usage: 2.0+ MB\n"
     ]
    }
   ],
   "source": [
    "df_transformed = df.groupby('income_type')['total_income'].transform('median') # создадим датасет в котором соберем значения медианы по каждому типу занятости \n",
    "df['total_income'] = df['total_income'].fillna(df_transformed) # заменим пропуски на данный из датасета data_transformed\n",
    "df['days_employed'] = df['days_employed'].fillna(df['days_employed'].median()) # замена значений days_employed\n",
    "df.info()"
   ]
  },
  {
   "cell_type": "markdown",
   "metadata": {},
   "source": [
    "**Вывод** \n",
    "\n",
    "В датасете больше нет пустых строк."
   ]
  },
  {
   "cell_type": "markdown",
   "metadata": {},
   "source": [
    "### Замена типа данных\n",
    "В столбце total_income находятся данные типа float, их лучше заменить на int, так как в таком формате с ними удобнее работать и читать."
   ]
  },
  {
   "cell_type": "code",
   "execution_count": 4,
   "metadata": {},
   "outputs": [
    {
     "data": {
      "text/html": [
       "<div>\n",
       "<style scoped>\n",
       "    .dataframe tbody tr th:only-of-type {\n",
       "        vertical-align: middle;\n",
       "    }\n",
       "\n",
       "    .dataframe tbody tr th {\n",
       "        vertical-align: top;\n",
       "    }\n",
       "\n",
       "    .dataframe thead th {\n",
       "        text-align: right;\n",
       "    }\n",
       "</style>\n",
       "<table border=\"1\" class=\"dataframe\">\n",
       "  <thead>\n",
       "    <tr style=\"text-align: right;\">\n",
       "      <th></th>\n",
       "      <th>children</th>\n",
       "      <th>days_employed</th>\n",
       "      <th>dob_years</th>\n",
       "      <th>education</th>\n",
       "      <th>education_id</th>\n",
       "      <th>family_status</th>\n",
       "      <th>family_status_id</th>\n",
       "      <th>gender</th>\n",
       "      <th>income_type</th>\n",
       "      <th>debt</th>\n",
       "      <th>total_income</th>\n",
       "      <th>purpose</th>\n",
       "    </tr>\n",
       "  </thead>\n",
       "  <tbody>\n",
       "    <tr>\n",
       "      <td>0</td>\n",
       "      <td>1</td>\n",
       "      <td>-8437.673028</td>\n",
       "      <td>42</td>\n",
       "      <td>высшее</td>\n",
       "      <td>0</td>\n",
       "      <td>женат / замужем</td>\n",
       "      <td>0</td>\n",
       "      <td>F</td>\n",
       "      <td>сотрудник</td>\n",
       "      <td>0</td>\n",
       "      <td>253875</td>\n",
       "      <td>покупка жилья</td>\n",
       "    </tr>\n",
       "    <tr>\n",
       "      <td>1</td>\n",
       "      <td>1</td>\n",
       "      <td>-4024.803754</td>\n",
       "      <td>36</td>\n",
       "      <td>среднее</td>\n",
       "      <td>1</td>\n",
       "      <td>женат / замужем</td>\n",
       "      <td>0</td>\n",
       "      <td>F</td>\n",
       "      <td>сотрудник</td>\n",
       "      <td>0</td>\n",
       "      <td>112080</td>\n",
       "      <td>приобретение автомобиля</td>\n",
       "    </tr>\n",
       "    <tr>\n",
       "      <td>2</td>\n",
       "      <td>0</td>\n",
       "      <td>-5623.422610</td>\n",
       "      <td>33</td>\n",
       "      <td>Среднее</td>\n",
       "      <td>1</td>\n",
       "      <td>женат / замужем</td>\n",
       "      <td>0</td>\n",
       "      <td>M</td>\n",
       "      <td>сотрудник</td>\n",
       "      <td>0</td>\n",
       "      <td>145885</td>\n",
       "      <td>покупка жилья</td>\n",
       "    </tr>\n",
       "    <tr>\n",
       "      <td>3</td>\n",
       "      <td>3</td>\n",
       "      <td>-4124.747207</td>\n",
       "      <td>32</td>\n",
       "      <td>среднее</td>\n",
       "      <td>1</td>\n",
       "      <td>женат / замужем</td>\n",
       "      <td>0</td>\n",
       "      <td>M</td>\n",
       "      <td>сотрудник</td>\n",
       "      <td>0</td>\n",
       "      <td>267628</td>\n",
       "      <td>дополнительное образование</td>\n",
       "    </tr>\n",
       "    <tr>\n",
       "      <td>4</td>\n",
       "      <td>0</td>\n",
       "      <td>340266.072047</td>\n",
       "      <td>53</td>\n",
       "      <td>среднее</td>\n",
       "      <td>1</td>\n",
       "      <td>гражданский брак</td>\n",
       "      <td>1</td>\n",
       "      <td>F</td>\n",
       "      <td>пенсионер</td>\n",
       "      <td>0</td>\n",
       "      <td>158616</td>\n",
       "      <td>сыграть свадьбу</td>\n",
       "    </tr>\n",
       "    <tr>\n",
       "      <td>...</td>\n",
       "      <td>...</td>\n",
       "      <td>...</td>\n",
       "      <td>...</td>\n",
       "      <td>...</td>\n",
       "      <td>...</td>\n",
       "      <td>...</td>\n",
       "      <td>...</td>\n",
       "      <td>...</td>\n",
       "      <td>...</td>\n",
       "      <td>...</td>\n",
       "      <td>...</td>\n",
       "      <td>...</td>\n",
       "    </tr>\n",
       "    <tr>\n",
       "      <td>21520</td>\n",
       "      <td>1</td>\n",
       "      <td>-4529.316663</td>\n",
       "      <td>43</td>\n",
       "      <td>среднее</td>\n",
       "      <td>1</td>\n",
       "      <td>гражданский брак</td>\n",
       "      <td>1</td>\n",
       "      <td>F</td>\n",
       "      <td>компаньон</td>\n",
       "      <td>0</td>\n",
       "      <td>224791</td>\n",
       "      <td>операции с жильем</td>\n",
       "    </tr>\n",
       "    <tr>\n",
       "      <td>21521</td>\n",
       "      <td>0</td>\n",
       "      <td>343937.404131</td>\n",
       "      <td>67</td>\n",
       "      <td>среднее</td>\n",
       "      <td>1</td>\n",
       "      <td>женат / замужем</td>\n",
       "      <td>0</td>\n",
       "      <td>F</td>\n",
       "      <td>пенсионер</td>\n",
       "      <td>0</td>\n",
       "      <td>155999</td>\n",
       "      <td>сделка с автомобилем</td>\n",
       "    </tr>\n",
       "    <tr>\n",
       "      <td>21522</td>\n",
       "      <td>1</td>\n",
       "      <td>-2113.346888</td>\n",
       "      <td>38</td>\n",
       "      <td>среднее</td>\n",
       "      <td>1</td>\n",
       "      <td>гражданский брак</td>\n",
       "      <td>1</td>\n",
       "      <td>M</td>\n",
       "      <td>сотрудник</td>\n",
       "      <td>1</td>\n",
       "      <td>89672</td>\n",
       "      <td>недвижимость</td>\n",
       "    </tr>\n",
       "    <tr>\n",
       "      <td>21523</td>\n",
       "      <td>3</td>\n",
       "      <td>-3112.481705</td>\n",
       "      <td>38</td>\n",
       "      <td>среднее</td>\n",
       "      <td>1</td>\n",
       "      <td>женат / замужем</td>\n",
       "      <td>0</td>\n",
       "      <td>M</td>\n",
       "      <td>сотрудник</td>\n",
       "      <td>1</td>\n",
       "      <td>244093</td>\n",
       "      <td>на покупку своего автомобиля</td>\n",
       "    </tr>\n",
       "    <tr>\n",
       "      <td>21524</td>\n",
       "      <td>2</td>\n",
       "      <td>-1984.507589</td>\n",
       "      <td>40</td>\n",
       "      <td>среднее</td>\n",
       "      <td>1</td>\n",
       "      <td>женат / замужем</td>\n",
       "      <td>0</td>\n",
       "      <td>F</td>\n",
       "      <td>сотрудник</td>\n",
       "      <td>0</td>\n",
       "      <td>82047</td>\n",
       "      <td>на покупку автомобиля</td>\n",
       "    </tr>\n",
       "  </tbody>\n",
       "</table>\n",
       "<p>21525 rows × 12 columns</p>\n",
       "</div>"
      ],
      "text/plain": [
       "       children  days_employed  dob_years education  education_id  \\\n",
       "0             1   -8437.673028         42    высшее             0   \n",
       "1             1   -4024.803754         36   среднее             1   \n",
       "2             0   -5623.422610         33   Среднее             1   \n",
       "3             3   -4124.747207         32   среднее             1   \n",
       "4             0  340266.072047         53   среднее             1   \n",
       "...         ...            ...        ...       ...           ...   \n",
       "21520         1   -4529.316663         43   среднее             1   \n",
       "21521         0  343937.404131         67   среднее             1   \n",
       "21522         1   -2113.346888         38   среднее             1   \n",
       "21523         3   -3112.481705         38   среднее             1   \n",
       "21524         2   -1984.507589         40   среднее             1   \n",
       "\n",
       "          family_status  family_status_id gender income_type  debt  \\\n",
       "0       женат / замужем                 0      F   сотрудник     0   \n",
       "1       женат / замужем                 0      F   сотрудник     0   \n",
       "2       женат / замужем                 0      M   сотрудник     0   \n",
       "3       женат / замужем                 0      M   сотрудник     0   \n",
       "4      гражданский брак                 1      F   пенсионер     0   \n",
       "...                 ...               ...    ...         ...   ...   \n",
       "21520  гражданский брак                 1      F   компаньон     0   \n",
       "21521   женат / замужем                 0      F   пенсионер     0   \n",
       "21522  гражданский брак                 1      M   сотрудник     1   \n",
       "21523   женат / замужем                 0      M   сотрудник     1   \n",
       "21524   женат / замужем                 0      F   сотрудник     0   \n",
       "\n",
       "       total_income                       purpose  \n",
       "0            253875                 покупка жилья  \n",
       "1            112080       приобретение автомобиля  \n",
       "2            145885                 покупка жилья  \n",
       "3            267628    дополнительное образование  \n",
       "4            158616               сыграть свадьбу  \n",
       "...             ...                           ...  \n",
       "21520        224791             операции с жильем  \n",
       "21521        155999          сделка с автомобилем  \n",
       "21522         89672                  недвижимость  \n",
       "21523        244093  на покупку своего автомобиля  \n",
       "21524         82047         на покупку автомобиля  \n",
       "\n",
       "[21525 rows x 12 columns]"
      ]
     },
     "execution_count": 4,
     "metadata": {},
     "output_type": "execute_result"
    }
   ],
   "source": [
    "df['total_income'] = df['total_income'].astype('int') # меняем тип данных на int методом astype, он подходит для этих целей. \n",
    "df"
   ]
  },
  {
   "cell_type": "markdown",
   "metadata": {},
   "source": [
    "**Вывод**\n",
    "\n",
    "Теперь с данными в столбце total_income удобнее работать."
   ]
  },
  {
   "cell_type": "markdown",
   "metadata": {},
   "source": [
    "### Обработка дубликатов\n",
    "Проверяем наличие явных дубликатов:"
   ]
  },
  {
   "cell_type": "code",
   "execution_count": 5,
   "metadata": {
    "scrolled": false
   },
   "outputs": [
    {
     "data": {
      "text/plain": [
       "54"
      ]
     },
     "execution_count": 5,
     "metadata": {},
     "output_type": "execute_result"
    }
   ],
   "source": [
    "df.duplicated().sum() # подсчёт явных дубликатов"
   ]
  },
  {
   "cell_type": "markdown",
   "metadata": {
    "scrolled": true
   },
   "source": [
    "Убираем явные дубликаты:"
   ]
  },
  {
   "cell_type": "code",
   "execution_count": 6,
   "metadata": {
    "scrolled": true
   },
   "outputs": [
    {
     "data": {
      "text/html": [
       "<div>\n",
       "<style scoped>\n",
       "    .dataframe tbody tr th:only-of-type {\n",
       "        vertical-align: middle;\n",
       "    }\n",
       "\n",
       "    .dataframe tbody tr th {\n",
       "        vertical-align: top;\n",
       "    }\n",
       "\n",
       "    .dataframe thead th {\n",
       "        text-align: right;\n",
       "    }\n",
       "</style>\n",
       "<table border=\"1\" class=\"dataframe\">\n",
       "  <thead>\n",
       "    <tr style=\"text-align: right;\">\n",
       "      <th></th>\n",
       "      <th>children</th>\n",
       "      <th>days_employed</th>\n",
       "      <th>dob_years</th>\n",
       "      <th>education</th>\n",
       "      <th>education_id</th>\n",
       "      <th>family_status</th>\n",
       "      <th>family_status_id</th>\n",
       "      <th>gender</th>\n",
       "      <th>income_type</th>\n",
       "      <th>debt</th>\n",
       "      <th>total_income</th>\n",
       "      <th>purpose</th>\n",
       "    </tr>\n",
       "  </thead>\n",
       "  <tbody>\n",
       "    <tr>\n",
       "      <td>0</td>\n",
       "      <td>1</td>\n",
       "      <td>-8437.673028</td>\n",
       "      <td>42</td>\n",
       "      <td>высшее</td>\n",
       "      <td>0</td>\n",
       "      <td>женат / замужем</td>\n",
       "      <td>0</td>\n",
       "      <td>F</td>\n",
       "      <td>сотрудник</td>\n",
       "      <td>0</td>\n",
       "      <td>253875</td>\n",
       "      <td>покупка жилья</td>\n",
       "    </tr>\n",
       "    <tr>\n",
       "      <td>1</td>\n",
       "      <td>1</td>\n",
       "      <td>-4024.803754</td>\n",
       "      <td>36</td>\n",
       "      <td>среднее</td>\n",
       "      <td>1</td>\n",
       "      <td>женат / замужем</td>\n",
       "      <td>0</td>\n",
       "      <td>F</td>\n",
       "      <td>сотрудник</td>\n",
       "      <td>0</td>\n",
       "      <td>112080</td>\n",
       "      <td>приобретение автомобиля</td>\n",
       "    </tr>\n",
       "    <tr>\n",
       "      <td>2</td>\n",
       "      <td>0</td>\n",
       "      <td>-5623.422610</td>\n",
       "      <td>33</td>\n",
       "      <td>Среднее</td>\n",
       "      <td>1</td>\n",
       "      <td>женат / замужем</td>\n",
       "      <td>0</td>\n",
       "      <td>M</td>\n",
       "      <td>сотрудник</td>\n",
       "      <td>0</td>\n",
       "      <td>145885</td>\n",
       "      <td>покупка жилья</td>\n",
       "    </tr>\n",
       "    <tr>\n",
       "      <td>3</td>\n",
       "      <td>3</td>\n",
       "      <td>-4124.747207</td>\n",
       "      <td>32</td>\n",
       "      <td>среднее</td>\n",
       "      <td>1</td>\n",
       "      <td>женат / замужем</td>\n",
       "      <td>0</td>\n",
       "      <td>M</td>\n",
       "      <td>сотрудник</td>\n",
       "      <td>0</td>\n",
       "      <td>267628</td>\n",
       "      <td>дополнительное образование</td>\n",
       "    </tr>\n",
       "    <tr>\n",
       "      <td>4</td>\n",
       "      <td>0</td>\n",
       "      <td>340266.072047</td>\n",
       "      <td>53</td>\n",
       "      <td>среднее</td>\n",
       "      <td>1</td>\n",
       "      <td>гражданский брак</td>\n",
       "      <td>1</td>\n",
       "      <td>F</td>\n",
       "      <td>пенсионер</td>\n",
       "      <td>0</td>\n",
       "      <td>158616</td>\n",
       "      <td>сыграть свадьбу</td>\n",
       "    </tr>\n",
       "    <tr>\n",
       "      <td>...</td>\n",
       "      <td>...</td>\n",
       "      <td>...</td>\n",
       "      <td>...</td>\n",
       "      <td>...</td>\n",
       "      <td>...</td>\n",
       "      <td>...</td>\n",
       "      <td>...</td>\n",
       "      <td>...</td>\n",
       "      <td>...</td>\n",
       "      <td>...</td>\n",
       "      <td>...</td>\n",
       "      <td>...</td>\n",
       "    </tr>\n",
       "    <tr>\n",
       "      <td>21466</td>\n",
       "      <td>1</td>\n",
       "      <td>-4529.316663</td>\n",
       "      <td>43</td>\n",
       "      <td>среднее</td>\n",
       "      <td>1</td>\n",
       "      <td>гражданский брак</td>\n",
       "      <td>1</td>\n",
       "      <td>F</td>\n",
       "      <td>компаньон</td>\n",
       "      <td>0</td>\n",
       "      <td>224791</td>\n",
       "      <td>операции с жильем</td>\n",
       "    </tr>\n",
       "    <tr>\n",
       "      <td>21467</td>\n",
       "      <td>0</td>\n",
       "      <td>343937.404131</td>\n",
       "      <td>67</td>\n",
       "      <td>среднее</td>\n",
       "      <td>1</td>\n",
       "      <td>женат / замужем</td>\n",
       "      <td>0</td>\n",
       "      <td>F</td>\n",
       "      <td>пенсионер</td>\n",
       "      <td>0</td>\n",
       "      <td>155999</td>\n",
       "      <td>сделка с автомобилем</td>\n",
       "    </tr>\n",
       "    <tr>\n",
       "      <td>21468</td>\n",
       "      <td>1</td>\n",
       "      <td>-2113.346888</td>\n",
       "      <td>38</td>\n",
       "      <td>среднее</td>\n",
       "      <td>1</td>\n",
       "      <td>гражданский брак</td>\n",
       "      <td>1</td>\n",
       "      <td>M</td>\n",
       "      <td>сотрудник</td>\n",
       "      <td>1</td>\n",
       "      <td>89672</td>\n",
       "      <td>недвижимость</td>\n",
       "    </tr>\n",
       "    <tr>\n",
       "      <td>21469</td>\n",
       "      <td>3</td>\n",
       "      <td>-3112.481705</td>\n",
       "      <td>38</td>\n",
       "      <td>среднее</td>\n",
       "      <td>1</td>\n",
       "      <td>женат / замужем</td>\n",
       "      <td>0</td>\n",
       "      <td>M</td>\n",
       "      <td>сотрудник</td>\n",
       "      <td>1</td>\n",
       "      <td>244093</td>\n",
       "      <td>на покупку своего автомобиля</td>\n",
       "    </tr>\n",
       "    <tr>\n",
       "      <td>21470</td>\n",
       "      <td>2</td>\n",
       "      <td>-1984.507589</td>\n",
       "      <td>40</td>\n",
       "      <td>среднее</td>\n",
       "      <td>1</td>\n",
       "      <td>женат / замужем</td>\n",
       "      <td>0</td>\n",
       "      <td>F</td>\n",
       "      <td>сотрудник</td>\n",
       "      <td>0</td>\n",
       "      <td>82047</td>\n",
       "      <td>на покупку автомобиля</td>\n",
       "    </tr>\n",
       "  </tbody>\n",
       "</table>\n",
       "<p>21471 rows × 12 columns</p>\n",
       "</div>"
      ],
      "text/plain": [
       "       children  days_employed  dob_years education  education_id  \\\n",
       "0             1   -8437.673028         42    высшее             0   \n",
       "1             1   -4024.803754         36   среднее             1   \n",
       "2             0   -5623.422610         33   Среднее             1   \n",
       "3             3   -4124.747207         32   среднее             1   \n",
       "4             0  340266.072047         53   среднее             1   \n",
       "...         ...            ...        ...       ...           ...   \n",
       "21466         1   -4529.316663         43   среднее             1   \n",
       "21467         0  343937.404131         67   среднее             1   \n",
       "21468         1   -2113.346888         38   среднее             1   \n",
       "21469         3   -3112.481705         38   среднее             1   \n",
       "21470         2   -1984.507589         40   среднее             1   \n",
       "\n",
       "          family_status  family_status_id gender income_type  debt  \\\n",
       "0       женат / замужем                 0      F   сотрудник     0   \n",
       "1       женат / замужем                 0      F   сотрудник     0   \n",
       "2       женат / замужем                 0      M   сотрудник     0   \n",
       "3       женат / замужем                 0      M   сотрудник     0   \n",
       "4      гражданский брак                 1      F   пенсионер     0   \n",
       "...                 ...               ...    ...         ...   ...   \n",
       "21466  гражданский брак                 1      F   компаньон     0   \n",
       "21467   женат / замужем                 0      F   пенсионер     0   \n",
       "21468  гражданский брак                 1      M   сотрудник     1   \n",
       "21469   женат / замужем                 0      M   сотрудник     1   \n",
       "21470   женат / замужем                 0      F   сотрудник     0   \n",
       "\n",
       "       total_income                       purpose  \n",
       "0            253875                 покупка жилья  \n",
       "1            112080       приобретение автомобиля  \n",
       "2            145885                 покупка жилья  \n",
       "3            267628    дополнительное образование  \n",
       "4            158616               сыграть свадьбу  \n",
       "...             ...                           ...  \n",
       "21466        224791             операции с жильем  \n",
       "21467        155999          сделка с автомобилем  \n",
       "21468         89672                  недвижимость  \n",
       "21469        244093  на покупку своего автомобиля  \n",
       "21470         82047         на покупку автомобиля  \n",
       "\n",
       "[21471 rows x 12 columns]"
      ]
     },
     "execution_count": 6,
     "metadata": {},
     "output_type": "execute_result"
    }
   ],
   "source": [
    "df = df.drop_duplicates().reset_index(drop= True)  # удаление дубликатов методом drop_duplicates() и восстановление индексации строк\n",
    "df"
   ]
  },
  {
   "cell_type": "markdown",
   "metadata": {
    "scrolled": true
   },
   "source": [
    "В столбце education есть слова начинающиеся с заглавной буквы, лучше проверить другие столбцы на схожие проблемы в данных."
   ]
  },
  {
   "cell_type": "code",
   "execution_count": 7,
   "metadata": {
    "scrolled": true
   },
   "outputs": [
    {
     "data": {
      "text/plain": [
       "array(['высшее', 'среднее', 'Среднее', 'СРЕДНЕЕ', 'ВЫСШЕЕ',\n",
       "       'неоконченное высшее', 'начальное', 'Высшее',\n",
       "       'НЕОКОНЧЕННОЕ ВЫСШЕЕ', 'Неоконченное высшее', 'НАЧАЛЬНОЕ',\n",
       "       'Начальное', 'Ученая степень', 'УЧЕНАЯ СТЕПЕНЬ', 'ученая степень'],\n",
       "      dtype=object)"
      ]
     },
     "execution_count": 7,
     "metadata": {},
     "output_type": "execute_result"
    }
   ],
   "source": [
    " df['education'].unique() "
   ]
  },
  {
   "cell_type": "code",
   "execution_count": 8,
   "metadata": {
    "scrolled": true
   },
   "outputs": [
    {
     "data": {
      "text/plain": [
       "array(['женат / замужем', 'гражданский брак', 'вдовец / вдова',\n",
       "       'в разводе', 'Не женат / не замужем'], dtype=object)"
      ]
     },
     "execution_count": 8,
     "metadata": {},
     "output_type": "execute_result"
    }
   ],
   "source": [
    " df['family_status'].unique() \n",
    "    "
   ]
  },
  {
   "cell_type": "code",
   "execution_count": 9,
   "metadata": {
    "scrolled": true
   },
   "outputs": [
    {
     "data": {
      "text/plain": [
       "array(['сотрудник', 'пенсионер', 'компаньон', 'госслужащий',\n",
       "       'безработный', 'предприниматель', 'студент', 'в декрете'],\n",
       "      dtype=object)"
      ]
     },
     "execution_count": 9,
     "metadata": {},
     "output_type": "execute_result"
    }
   ],
   "source": [
    "df['income_type'].unique() "
   ]
  },
  {
   "cell_type": "code",
   "execution_count": 10,
   "metadata": {
    "scrolled": true
   },
   "outputs": [
    {
     "data": {
      "text/plain": [
       "array(['покупка жилья', 'приобретение автомобиля',\n",
       "       'дополнительное образование', 'сыграть свадьбу',\n",
       "       'операции с жильем', 'образование', 'на проведение свадьбы',\n",
       "       'покупка жилья для семьи', 'покупка недвижимости',\n",
       "       'покупка коммерческой недвижимости', 'покупка жилой недвижимости',\n",
       "       'строительство собственной недвижимости', 'недвижимость',\n",
       "       'строительство недвижимости', 'на покупку подержанного автомобиля',\n",
       "       'на покупку своего автомобиля',\n",
       "       'операции с коммерческой недвижимостью',\n",
       "       'строительство жилой недвижимости', 'жилье',\n",
       "       'операции со своей недвижимостью', 'автомобили',\n",
       "       'заняться образованием', 'сделка с подержанным автомобилем',\n",
       "       'получение образования', 'автомобиль', 'свадьба',\n",
       "       'получение дополнительного образования', 'покупка своего жилья',\n",
       "       'операции с недвижимостью', 'получение высшего образования',\n",
       "       'свой автомобиль', 'сделка с автомобилем',\n",
       "       'профильное образование', 'высшее образование',\n",
       "       'покупка жилья для сдачи', 'на покупку автомобиля', 'ремонт жилью',\n",
       "       'заняться высшим образованием'], dtype=object)"
      ]
     },
     "execution_count": 10,
     "metadata": {},
     "output_type": "execute_result"
    }
   ],
   "source": [
    "df['purpose'].unique() "
   ]
  },
  {
   "cell_type": "markdown",
   "metadata": {
    "scrolled": true
   },
   "source": [
    "Похоже проблема характерная только для столбца education, скорее всего его заполняют вручную, заменим все буквы столбца на строчные:"
   ]
  },
  {
   "cell_type": "code",
   "execution_count": 11,
   "metadata": {
    "scrolled": true
   },
   "outputs": [
    {
     "data": {
      "text/plain": [
       "array(['высшее', 'среднее', 'неоконченное высшее', 'начальное',\n",
       "       'ученая степень'], dtype=object)"
      ]
     },
     "execution_count": 11,
     "metadata": {},
     "output_type": "execute_result"
    }
   ],
   "source": [
    "df['education'] = df['education'].str.lower() # меняем регистр\n",
    "df['education'].unique() # проверка значений столбца"
   ]
  },
  {
   "cell_type": "markdown",
   "metadata": {},
   "source": [
    "**Вывод**\n",
    "\n",
    "Явных дубликатов в таблице больше нет, так же значения столбца education привели к единому стандарту."
   ]
  },
  {
   "cell_type": "markdown",
   "metadata": {},
   "source": [
    "### Лемматизация\n",
    "\n",
    "В столбце purpose цель кредита судя по всему записывалась в свободной форме, но её нужно привести к определенным категориям. Сделаем лемматизацию столбца."
   ]
  },
  {
   "cell_type": "code",
   "execution_count": 12,
   "metadata": {
    "scrolled": true
   },
   "outputs": [
    {
     "data": {
      "text/plain": [
       "array(['покупка   жилье \\n', 'приобретение   автомобиль \\n',\n",
       "       'дополнительный   образование \\n', 'сыграть   свадьба \\n',\n",
       "       'операция   с   жилье \\n', 'образование \\n',\n",
       "       'на   проведение   свадьба \\n', 'покупка   жилье   для   семья \\n',\n",
       "       'покупка   недвижимость \\n',\n",
       "       'покупка   коммерческий   недвижимость \\n',\n",
       "       'покупка   жилой   недвижимость \\n',\n",
       "       'строительство   собственный   недвижимость \\n', 'недвижимость \\n',\n",
       "       'строительство   недвижимость \\n',\n",
       "       'на   покупка   подержать   автомобиль \\n',\n",
       "       'на   покупка   свой   автомобиль \\n',\n",
       "       'операция   с   коммерческий   недвижимость \\n',\n",
       "       'строительство   жилой   недвижимость \\n', 'жилье \\n',\n",
       "       'операция   со   свой   недвижимость \\n', 'автомобиль \\n',\n",
       "       'заниматься   образование \\n',\n",
       "       'сделка   с   подержанный   автомобиль \\n',\n",
       "       'получение   образование \\n', 'свадьба \\n',\n",
       "       'получение   дополнительный   образование \\n',\n",
       "       'покупка   свой   жилье \\n', 'операция   с   недвижимость \\n',\n",
       "       'получение   высокий   образование \\n', 'свой   автомобиль \\n',\n",
       "       'сделка   с   автомобиль \\n', 'профильный   образование \\n',\n",
       "       'высокий   образование \\n', 'покупка   жилье   для   сдача \\n',\n",
       "       'на   покупка   автомобиль \\n', 'ремонт   жилье \\n',\n",
       "       'заниматься   высокий   образование \\n'], dtype=object)"
      ]
     },
     "execution_count": 12,
     "metadata": {},
     "output_type": "execute_result"
    }
   ],
   "source": [
    "from pymystem3 import Mystem # импортируем из библиотеки pymystem3 инструмент Mystem\n",
    "m = Mystem() \n",
    "def lemma(text): # пишем функцию которая преобразует данные столбца в леммы\n",
    "    row = ' '.join(m.lemmatize(text))\n",
    "    return row\n",
    "df['purpose'] = df['purpose'].apply(lemma) # применяем фунцию к столбцу\n",
    "df['purpose'].unique() # проверяем сработал ли лемматизация"
   ]
  },
  {
   "cell_type": "markdown",
   "metadata": {},
   "source": [
    "**Вывод**\n",
    "\n",
    "После лемматизации можно выделить четыре основных категории:\n",
    "* Покупка недвижимости\n",
    "* Автокредит\n",
    "* Образование\n",
    "* Свадьба\n",
    "\n",
    "Есть категории, по которым лучше уточнить цель кредита, к примеру, \"строительство   жилой   недвижимость\". Данная категория может быть воспринята как покупка стройматериалов или нецелевой кредит и как покупка недвижимости в \"долевке\"(Покупка недвижимости), так как нельзя уточнить информацию у заказчика отнесем её к Покупке недвижимости, анологичным способом распределим другие сомнительные варианты. "
   ]
  },
  {
   "cell_type": "markdown",
   "metadata": {},
   "source": [
    "### Категоризация данных\n",
    "Лемматизация произведена, можно приступить к разделению данных на категории."
   ]
  },
  {
   "cell_type": "code",
   "execution_count": 13,
   "metadata": {},
   "outputs": [
    {
     "data": {
      "text/plain": [
       "array(['покупка недвижимости', 'автокредит', 'образование', 'свадьба'],\n",
       "      dtype=object)"
      ]
     },
     "execution_count": 13,
     "metadata": {},
     "output_type": "execute_result"
    }
   ],
   "source": [
    "def category(row): # создаем функцию, которая приведет данные в единый формат.\n",
    "    if 'жилье' in row:\n",
    "        return 'покупка недвижимости'\n",
    "    if 'недвижимость' in row:\n",
    "        return 'покупка недвижимости'\n",
    "    if 'автомобиль' in row:\n",
    "        return 'автокредит'\n",
    "    if 'свадьба' in row:\n",
    "        return 'свадьба'\n",
    "    if 'образование' in row:\n",
    "        return 'образование'\n",
    "df['purpose'] = df['purpose'].apply(category) # применяем функцию к столбцу purpose\n",
    "df['purpose'].unique() # проверяем все ли значения столбца были изменены"
   ]
  },
  {
   "cell_type": "markdown",
   "metadata": {},
   "source": [
    "**Вывод**\n",
    "\n",
    "Данные приведены в более удобный для чтения вид, можно приступить к анализу."
   ]
  },
  {
   "cell_type": "markdown",
   "metadata": {},
   "source": [
    "## Шаг 3. Ответьте на вопросы"
   ]
  },
  {
   "cell_type": "markdown",
   "metadata": {},
   "source": [
    "- Есть ли зависимость между наличием детей и возвратом кредита в срок?\n",
    "\n",
    "Для ответа на вопрос проверим какие значения столбца есть в датасете."
   ]
  },
  {
   "cell_type": "code",
   "execution_count": 14,
   "metadata": {},
   "outputs": [
    {
     "data": {
      "text/plain": [
       "array([ 1,  0,  3,  2, -1,  4, 20,  5])"
      ]
     },
     "execution_count": 14,
     "metadata": {},
     "output_type": "execute_result"
    }
   ],
   "source": [
    "df['children'].unique() # смотрим значения столбца для разделения на группы"
   ]
  },
  {
   "cell_type": "code",
   "execution_count": 15,
   "metadata": {},
   "outputs": [
    {
     "data": {
      "text/plain": [
       "children            47\n",
       "days_employed       47\n",
       "dob_years           47\n",
       "education           47\n",
       "education_id        47\n",
       "family_status       47\n",
       "family_status_id    47\n",
       "gender              47\n",
       "income_type         47\n",
       "debt                47\n",
       "total_income        47\n",
       "purpose             47\n",
       "dtype: int64"
      ]
     },
     "execution_count": 15,
     "metadata": {},
     "output_type": "execute_result"
    }
   ],
   "source": [
    "df[df['children'] == -1].count() # подсчитаем количество сомнительных значений"
   ]
  },
  {
   "cell_type": "markdown",
   "metadata": {},
   "source": [
    "В столбце есть значения -1, нельзя сказать, что они значит, так как оно может означать как ошибку так и потерю ребенка. Уточнить не получится, поэтому оставим данные как есть и будем учитывать вместе со значением ноль, тем более их кол-во составляет всего 0.2% и веса в итоге они не будут иметь. Напишем функцию, которая пройдется по столбцам children и debt и разделит данные:"
   ]
  },
  {
   "cell_type": "code",
   "execution_count": 16,
   "metadata": {},
   "outputs": [
    {
     "data": {
      "text/html": [
       "<div>\n",
       "<style scoped>\n",
       "    .dataframe tbody tr th:only-of-type {\n",
       "        vertical-align: middle;\n",
       "    }\n",
       "\n",
       "    .dataframe tbody tr th {\n",
       "        vertical-align: top;\n",
       "    }\n",
       "\n",
       "    .dataframe thead th {\n",
       "        text-align: right;\n",
       "    }\n",
       "</style>\n",
       "<table border=\"1\" class=\"dataframe\">\n",
       "  <thead>\n",
       "    <tr style=\"text-align: right;\">\n",
       "      <th>addiction_children</th>\n",
       "      <th>без детей, долг</th>\n",
       "      <th>без детей, нет долга</th>\n",
       "      <th>есть  дети, долг</th>\n",
       "      <th>есть  дети, нет долга</th>\n",
       "    </tr>\n",
       "    <tr>\n",
       "      <th>child</th>\n",
       "      <th></th>\n",
       "      <th></th>\n",
       "      <th></th>\n",
       "      <th></th>\n",
       "    </tr>\n",
       "  </thead>\n",
       "  <tbody>\n",
       "    <tr>\n",
       "      <td>есть дети</td>\n",
       "      <td>NaN</td>\n",
       "      <td>NaN</td>\n",
       "      <td>677.0</td>\n",
       "      <td>6640.0</td>\n",
       "    </tr>\n",
       "    <tr>\n",
       "      <td>нет детей</td>\n",
       "      <td>1064.0</td>\n",
       "      <td>13090.0</td>\n",
       "      <td>NaN</td>\n",
       "      <td>NaN</td>\n",
       "    </tr>\n",
       "  </tbody>\n",
       "</table>\n",
       "</div>"
      ],
      "text/plain": [
       "addiction_children  без детей, долг  без детей, нет долга  есть  дети, долг  \\\n",
       "child                                                                         \n",
       "есть дети                       NaN                   NaN             677.0   \n",
       "нет детей                    1064.0               13090.0               NaN   \n",
       "\n",
       "addiction_children  есть  дети, нет долга  \n",
       "child                                      \n",
       "есть дети                          6640.0  \n",
       "нет детей                             NaN  "
      ]
     },
     "execution_count": 16,
     "metadata": {},
     "output_type": "execute_result"
    }
   ],
   "source": [
    "def debt_children(raw): # создаем функцию для группировки данных\n",
    "    children = raw['children']\n",
    "    debt = raw['debt']\n",
    "    if children <= 0:\n",
    "        if debt == 1:\n",
    "            return 'без детей, долг'\n",
    "    if children <= 0:\n",
    "        if debt == 0:\n",
    "            return 'без детей, нет долга' \n",
    "    if children > 0:\n",
    "        if debt == 0:\n",
    "            return 'есть  дети, нет долга'\n",
    "    if 0 < children > 0:\n",
    "        if debt == 1:\n",
    "            return 'есть  дети, долг'\n",
    "        \n",
    "df['addiction_children'] = df.apply(debt_children, axis = 1) # применяем функцию к столбцу\n",
    "\n",
    "def child(raw): # создаем функцию для группировки данных для сводной таблицы\n",
    "    children = raw['children']\n",
    "    if children <= 0:\n",
    "        return 'нет детей'\n",
    "    if children > 0:\n",
    "        return 'есть дети' \n",
    "df['child'] = df.apply(child, axis = 1)   \n",
    "\n",
    "df.pivot_table(index=['child'], columns='addiction_children', values='total_income', aggfunc='count') # выводим на экран сводную таблицу"
   ]
  },
  {
   "cell_type": "markdown",
   "metadata": {},
   "source": [
    "Так как количественно группы не равны лучше будет перевести количество должников в каждой в проценты и сравнить:"
   ]
  },
  {
   "cell_type": "code",
   "execution_count": 17,
   "metadata": {},
   "outputs": [
    {
     "data": {
      "text/plain": [
       "'без детей, долг:'"
      ]
     },
     "metadata": {},
     "output_type": "display_data"
    },
    {
     "data": {
      "text/plain": [
       "7.51730959446093"
      ]
     },
     "metadata": {},
     "output_type": "display_data"
    },
    {
     "data": {
      "text/plain": [
       "'есть  дети, долг:'"
      ]
     },
     "metadata": {},
     "output_type": "display_data"
    },
    {
     "data": {
      "text/plain": [
       "9.25242585759191"
      ]
     },
     "metadata": {},
     "output_type": "display_data"
    }
   ],
   "source": [
    "no_childe_debt = 1064/14154*100 # процент 'без детей, долг'\n",
    "childe_debt = 677/7317*100 # процент 'среднее кол-во детей, долг'\n",
    "\n",
    "display('без детей, долг:', no_childe_debt, 'есть  дети, долг:', childe_debt)\n"
   ]
  },
  {
   "cell_type": "markdown",
   "metadata": {},
   "source": [
    "**Вывод**\n",
    "\n",
    "В итоге мы видим, что есть зависимость между долгом и детьми у заемщика, возможно это связано с тратами на содержание детей. "
   ]
  },
  {
   "cell_type": "markdown",
   "metadata": {},
   "source": [
    "- Есть ли зависимость между семейным положением и возвратом кредита в срок?\n",
    "\n",
    "Аналогично предыдущему вопросу проведем анализ:"
   ]
  },
  {
   "cell_type": "code",
   "execution_count": 18,
   "metadata": {},
   "outputs": [
    {
     "data": {
      "text/html": [
       "<div>\n",
       "<style scoped>\n",
       "    .dataframe tbody tr th:only-of-type {\n",
       "        vertical-align: middle;\n",
       "    }\n",
       "\n",
       "    .dataframe tbody tr th {\n",
       "        vertical-align: top;\n",
       "    }\n",
       "\n",
       "    .dataframe thead th {\n",
       "        text-align: right;\n",
       "    }\n",
       "</style>\n",
       "<table border=\"1\" class=\"dataframe\">\n",
       "  <thead>\n",
       "    <tr style=\"text-align: right;\">\n",
       "      <th>addiction_family</th>\n",
       "      <th>в браке, долг</th>\n",
       "      <th>в браке, нет долга</th>\n",
       "      <th>в разводе, долг</th>\n",
       "      <th>в разводе, нет долга</th>\n",
       "      <th>вдовец, долг</th>\n",
       "      <th>вдовец, нет долга</th>\n",
       "      <th>не в браке, долг</th>\n",
       "      <th>не в браке, нет долга</th>\n",
       "      <th>холост, долг</th>\n",
       "      <th>холост, нет долга</th>\n",
       "    </tr>\n",
       "    <tr>\n",
       "      <th>family_status</th>\n",
       "      <th></th>\n",
       "      <th></th>\n",
       "      <th></th>\n",
       "      <th></th>\n",
       "      <th></th>\n",
       "      <th></th>\n",
       "      <th></th>\n",
       "      <th></th>\n",
       "      <th></th>\n",
       "      <th></th>\n",
       "    </tr>\n",
       "  </thead>\n",
       "  <tbody>\n",
       "    <tr>\n",
       "      <td>Не женат / не замужем</td>\n",
       "      <td>NaN</td>\n",
       "      <td>NaN</td>\n",
       "      <td>NaN</td>\n",
       "      <td>NaN</td>\n",
       "      <td>NaN</td>\n",
       "      <td>NaN</td>\n",
       "      <td>NaN</td>\n",
       "      <td>NaN</td>\n",
       "      <td>274.0</td>\n",
       "      <td>2536.0</td>\n",
       "    </tr>\n",
       "    <tr>\n",
       "      <td>в разводе</td>\n",
       "      <td>NaN</td>\n",
       "      <td>NaN</td>\n",
       "      <td>85.0</td>\n",
       "      <td>1110.0</td>\n",
       "      <td>NaN</td>\n",
       "      <td>NaN</td>\n",
       "      <td>NaN</td>\n",
       "      <td>NaN</td>\n",
       "      <td>NaN</td>\n",
       "      <td>NaN</td>\n",
       "    </tr>\n",
       "    <tr>\n",
       "      <td>вдовец / вдова</td>\n",
       "      <td>NaN</td>\n",
       "      <td>NaN</td>\n",
       "      <td>NaN</td>\n",
       "      <td>NaN</td>\n",
       "      <td>63.0</td>\n",
       "      <td>896.0</td>\n",
       "      <td>NaN</td>\n",
       "      <td>NaN</td>\n",
       "      <td>NaN</td>\n",
       "      <td>NaN</td>\n",
       "    </tr>\n",
       "    <tr>\n",
       "      <td>гражданский брак</td>\n",
       "      <td>NaN</td>\n",
       "      <td>NaN</td>\n",
       "      <td>NaN</td>\n",
       "      <td>NaN</td>\n",
       "      <td>NaN</td>\n",
       "      <td>NaN</td>\n",
       "      <td>388.0</td>\n",
       "      <td>3775.0</td>\n",
       "      <td>NaN</td>\n",
       "      <td>NaN</td>\n",
       "    </tr>\n",
       "    <tr>\n",
       "      <td>женат / замужем</td>\n",
       "      <td>931.0</td>\n",
       "      <td>11413.0</td>\n",
       "      <td>NaN</td>\n",
       "      <td>NaN</td>\n",
       "      <td>NaN</td>\n",
       "      <td>NaN</td>\n",
       "      <td>NaN</td>\n",
       "      <td>NaN</td>\n",
       "      <td>NaN</td>\n",
       "      <td>NaN</td>\n",
       "    </tr>\n",
       "  </tbody>\n",
       "</table>\n",
       "</div>"
      ],
      "text/plain": [
       "addiction_family       в браке, долг  в браке, нет долга  в разводе, долг  \\\n",
       "family_status                                                               \n",
       "Не женат / не замужем            NaN                 NaN              NaN   \n",
       "в разводе                        NaN                 NaN             85.0   \n",
       "вдовец / вдова                   NaN                 NaN              NaN   \n",
       "гражданский брак                 NaN                 NaN              NaN   \n",
       "женат / замужем                931.0             11413.0              NaN   \n",
       "\n",
       "addiction_family       в разводе, нет долга  вдовец, долг  вдовец, нет долга  \\\n",
       "family_status                                                                  \n",
       "Не женат / не замужем                   NaN           NaN                NaN   \n",
       "в разводе                            1110.0           NaN                NaN   \n",
       "вдовец / вдова                          NaN          63.0              896.0   \n",
       "гражданский брак                        NaN           NaN                NaN   \n",
       "женат / замужем                         NaN           NaN                NaN   \n",
       "\n",
       "addiction_family       не в браке, долг  не в браке, нет долга  холост, долг  \\\n",
       "family_status                                                                  \n",
       "Не женат / не замужем               NaN                    NaN         274.0   \n",
       "в разводе                           NaN                    NaN           NaN   \n",
       "вдовец / вдова                      NaN                    NaN           NaN   \n",
       "гражданский брак                  388.0                 3775.0           NaN   \n",
       "женат / замужем                     NaN                    NaN           NaN   \n",
       "\n",
       "addiction_family       холост, нет долга  \n",
       "family_status                             \n",
       "Не женат / не замужем             2536.0  \n",
       "в разводе                            NaN  \n",
       "вдовец / вдова                       NaN  \n",
       "гражданский брак                     NaN  \n",
       "женат / замужем                      NaN  "
      ]
     },
     "execution_count": 18,
     "metadata": {},
     "output_type": "execute_result"
    }
   ],
   "source": [
    "def debt_family(raw): # создаем функцию для группировки данных\n",
    "    family = raw['family_status']\n",
    "    debt = raw['debt']\n",
    "    if family == 'женат / замужем':\n",
    "        if debt == 1:\n",
    "            return 'в браке, долг'\n",
    "    if family == 'женат / замужем':\n",
    "        if debt == 0:\n",
    "            return 'в браке, нет долга' \n",
    "    if family == 'гражданский брак':\n",
    "        if debt == 1:\n",
    "            return 'не в браке, долг'\n",
    "    if family == 'гражданский брак':\n",
    "        if debt == 0:\n",
    "            return 'не в браке, нет долга'\n",
    "    if family == 'вдовец / вдова':\n",
    "        if debt == 1:\n",
    "            return 'вдовец, долг'\n",
    "    if family == 'вдовец / вдова':\n",
    "        if debt == 0:\n",
    "            return 'вдовец, нет долга'\n",
    "    if family == 'в разводе':\n",
    "        if debt == 1:\n",
    "            return 'в разводе, долг'\n",
    "    if family == 'в разводе':\n",
    "        if debt == 0:\n",
    "            return 'в разводе, нет долга' \n",
    "    if family == 'Не женат / не замужем':\n",
    "        if debt == 1:\n",
    "            return 'холост, долг'\n",
    "    if family == 'Не женат / не замужем':\n",
    "        if debt == 0:\n",
    "            return 'холост, нет долга'    \n",
    "df['addiction_family'] = df.apply(debt_family, axis = 1) # применяем функцию к столбцу\n",
    "df.pivot_table(index=['family_status'], columns='addiction_family', values='total_income', aggfunc='count') # выводим на экран сводную таблицу"
   ]
  },
  {
   "cell_type": "code",
   "execution_count": 19,
   "metadata": {},
   "outputs": [
    {
     "data": {
      "text/plain": [
       "['в браке, долг:',\n",
       " 7.542125729099157,\n",
       " 'не в браке, долг:',\n",
       " 9.320201777564256,\n",
       " 'холост, долг:',\n",
       " 9.750889679715302,\n",
       " 'в разводе, долг:',\n",
       " 7.112970711297072,\n",
       " 'вдовец, долг:',\n",
       " 6.569343065693431]"
      ]
     },
     "metadata": {},
     "output_type": "display_data"
    }
   ],
   "source": [
    "merried_debt = 931/12344*100 # процент 'в браке, долг'\n",
    "unmerried_debt = 388/4163*100 # процент 'не в браке, долг'\n",
    "single_debt = 274/2810*100 # процент 'холост, долг'\n",
    "divorced_debt = 85/1195*100 # процент 'в разводе, долг'\n",
    "widow_debt = 63/959*100 # процент 'вдовец, долг'\n",
    "display(['в браке, долг:', merried_debt, 'не в браке, долг:', unmerried_debt, 'холост, долг:', single_debt, 'в разводе, долг:', divorced_debt, 'вдовец, долг:', widow_debt] )"
   ]
  },
  {
   "cell_type": "markdown",
   "metadata": {},
   "source": [
    "**Вывод**\n",
    "\n",
    "Судя по данным чаще всего имеют долги люди находящиеся в гражданском браке и холостые, в остальных группах процент должников ниже."
   ]
  },
  {
   "cell_type": "markdown",
   "metadata": {},
   "source": [
    "- Есть ли зависимость между уровнем дохода и возвратом кредита в срок?\n",
    "\n",
    "Так как у нас нет данных от клиента о том как сгруппировать доходы и нам неизвестна страна в которой брали срез, чтобы посмотреть статистические данные в интернете, рассчитаем группы математическим методом, возьмем значение медианы и разделиме её на два, чтобы получить шаг которым мы разделим доход на четыре четверти, таким образом мы получим четыре группы: низкий доход, доход ниже среднего, доход выше среднего, высокий доход."
   ]
  },
  {
   "cell_type": "code",
   "execution_count": 20,
   "metadata": {},
   "outputs": [
    {
     "data": {
      "text/plain": [
       "71297.0"
      ]
     },
     "execution_count": 20,
     "metadata": {},
     "output_type": "execute_result"
    }
   ],
   "source": [
    "df['total_income'].median()/2 # считаем медиану столбца total_income и делим "
   ]
  },
  {
   "cell_type": "code",
   "execution_count": 21,
   "metadata": {},
   "outputs": [
    {
     "data": {
      "text/html": [
       "<div>\n",
       "<style scoped>\n",
       "    .dataframe tbody tr th:only-of-type {\n",
       "        vertical-align: middle;\n",
       "    }\n",
       "\n",
       "    .dataframe tbody tr th {\n",
       "        vertical-align: top;\n",
       "    }\n",
       "\n",
       "    .dataframe thead th {\n",
       "        text-align: right;\n",
       "    }\n",
       "</style>\n",
       "<table border=\"1\" class=\"dataframe\">\n",
       "  <thead>\n",
       "    <tr style=\"text-align: right;\">\n",
       "      <th>addiction_income</th>\n",
       "      <th>высокий доход, долг</th>\n",
       "      <th>высокий доход, нет долга</th>\n",
       "      <th>доход выше среднего, долг</th>\n",
       "      <th>доход выше среднего, нет долга</th>\n",
       "      <th>доход ниже среднего, долг</th>\n",
       "      <th>доход ниже среднего, нет долга</th>\n",
       "      <th>низкий доход, долг</th>\n",
       "      <th>низкий доход, нет долга</th>\n",
       "    </tr>\n",
       "    <tr>\n",
       "      <th>debt</th>\n",
       "      <th></th>\n",
       "      <th></th>\n",
       "      <th></th>\n",
       "      <th></th>\n",
       "      <th></th>\n",
       "      <th></th>\n",
       "      <th></th>\n",
       "      <th></th>\n",
       "    </tr>\n",
       "  </thead>\n",
       "  <tbody>\n",
       "    <tr>\n",
       "      <td>0</td>\n",
       "      <td>NaN</td>\n",
       "      <td>4016.0</td>\n",
       "      <td>NaN</td>\n",
       "      <td>5766.0</td>\n",
       "      <td>NaN</td>\n",
       "      <td>7499.0</td>\n",
       "      <td>NaN</td>\n",
       "      <td>1470.0</td>\n",
       "    </tr>\n",
       "    <tr>\n",
       "      <td>1</td>\n",
       "      <td>304.0</td>\n",
       "      <td>NaN</td>\n",
       "      <td>500.0</td>\n",
       "      <td>NaN</td>\n",
       "      <td>828.0</td>\n",
       "      <td>NaN</td>\n",
       "      <td>109.0</td>\n",
       "      <td>NaN</td>\n",
       "    </tr>\n",
       "  </tbody>\n",
       "</table>\n",
       "</div>"
      ],
      "text/plain": [
       "addiction_income  высокий доход, долг  высокий доход, нет долга  \\\n",
       "debt                                                              \n",
       "0                                 NaN                    4016.0   \n",
       "1                               304.0                       NaN   \n",
       "\n",
       "addiction_income  доход выше среднего, долг  доход выше среднего, нет долга  \\\n",
       "debt                                                                          \n",
       "0                                       NaN                          5766.0   \n",
       "1                                     500.0                             NaN   \n",
       "\n",
       "addiction_income  доход ниже среднего, долг  доход ниже среднего, нет долга  \\\n",
       "debt                                                                          \n",
       "0                                       NaN                          7499.0   \n",
       "1                                     828.0                             NaN   \n",
       "\n",
       "addiction_income  низкий доход, долг  низкий доход, нет долга  \n",
       "debt                                                           \n",
       "0                                NaN                   1470.0  \n",
       "1                              109.0                      NaN  "
      ]
     },
     "execution_count": 21,
     "metadata": {},
     "output_type": "execute_result"
    }
   ],
   "source": [
    "def debt_income(raw): # создаем функцию для группировки данных\n",
    "    income = raw['total_income']\n",
    "    debt = raw['debt']\n",
    "    if income < 71297:\n",
    "        if debt == 1:\n",
    "            return 'низкий доход, долг'\n",
    "    if income < 71297:\n",
    "        if debt == 0:\n",
    "            return 'низкий доход, нет долга' \n",
    "    if 71297 < income < 145017:\n",
    "        if debt == 1:\n",
    "            return 'доход ниже среднего, долг'\n",
    "    if 71297 < income < 142594:\n",
    "        if debt == 0:\n",
    "            return 'доход ниже среднего, нет долга'\n",
    "    if 142594 < income < 213891:\n",
    "        if debt == 1:\n",
    "            return 'доход выше среднего, долг'\n",
    "    if 142594 < income < 213891:\n",
    "        if debt == 0:\n",
    "            return 'доход выше среднего, нет долга' \n",
    "    if 213891 < income:\n",
    "        if debt == 1:\n",
    "            return 'высокий доход, долг'\n",
    "    if 213891 < income:\n",
    "        if debt == 0:\n",
    "            return 'высокий доход, нет долга'     \n",
    "df['addiction_income'] = df.apply(debt_income, axis = 1) # применяем функцию к столбцу\n",
    "df.pivot_table(index=['debt'], columns='addiction_income', values='total_income', aggfunc='count') # выводим на экран сводную таблицу"
   ]
  },
  {
   "cell_type": "code",
   "execution_count": 22,
   "metadata": {},
   "outputs": [
    {
     "data": {
      "text/plain": [
       "'низкий доход, долг:'"
      ]
     },
     "metadata": {},
     "output_type": "display_data"
    },
    {
     "data": {
      "text/plain": [
       "6.903103229892336"
      ]
     },
     "metadata": {},
     "output_type": "display_data"
    },
    {
     "data": {
      "text/plain": [
       "'доход ниже среднего, долг:'"
      ]
     },
     "metadata": {},
     "output_type": "display_data"
    },
    {
     "data": {
      "text/plain": [
       "9.943557103398582"
      ]
     },
     "metadata": {},
     "output_type": "display_data"
    },
    {
     "data": {
      "text/plain": [
       "'доход выше среднего, долг:'"
      ]
     },
     "metadata": {},
     "output_type": "display_data"
    },
    {
     "data": {
      "text/plain": [
       "7.979572294924991"
      ]
     },
     "metadata": {},
     "output_type": "display_data"
    },
    {
     "data": {
      "text/plain": [
       "'высокий доход, долг:'"
      ]
     },
     "metadata": {},
     "output_type": "display_data"
    },
    {
     "data": {
      "text/plain": [
       "7.037037037037037"
      ]
     },
     "metadata": {},
     "output_type": "display_data"
    }
   ],
   "source": [
    "low_salary_debt = 109/1579*100 # процент 'низкий доход, долг'\n",
    "lower_middle_debt = 828/8327*100 # процент 'доход ниже среднего, долг'\n",
    "upper_middle_debt = 500/6266*100 # процент 'доход выше среднего, долг' \n",
    "high_salary_debt = 304/4320*100 # процент 'высокий доход, долг'\n",
    "\n",
    "display('низкий доход, долг:', low_salary_debt, 'доход ниже среднего, долг:', lower_middle_debt, 'доход выше среднего, долг:', upper_middle_debt, 'высокий доход, долг:', high_salary_debt)\n"
   ]
  },
  {
   "cell_type": "markdown",
   "metadata": {},
   "source": [
    "**Вывод**\n",
    "\n",
    "Из выше указанного анализа видно, что люди с высоким, выше среднего и низким доходом более ответственно относятся к выплате кредита, возможно это связанно с тем что люди с низким доходом более тщательно планируют свои расходы, а люди с высоким и доходом выше среднего имеют достаточно свободных средств для закрытия кредита."
   ]
  },
  {
   "cell_type": "markdown",
   "metadata": {},
   "source": [
    "- Как разные цели кредита влияют на его возврат в срок?"
   ]
  },
  {
   "cell_type": "code",
   "execution_count": 23,
   "metadata": {},
   "outputs": [
    {
     "data": {
      "text/html": [
       "<div>\n",
       "<style scoped>\n",
       "    .dataframe tbody tr th:only-of-type {\n",
       "        vertical-align: middle;\n",
       "    }\n",
       "\n",
       "    .dataframe tbody tr th {\n",
       "        vertical-align: top;\n",
       "    }\n",
       "\n",
       "    .dataframe thead th {\n",
       "        text-align: right;\n",
       "    }\n",
       "</style>\n",
       "<table border=\"1\" class=\"dataframe\">\n",
       "  <thead>\n",
       "    <tr style=\"text-align: right;\">\n",
       "      <th>addiction_purpose</th>\n",
       "      <th>автокредит, долг</th>\n",
       "      <th>автокредит, нет долга</th>\n",
       "      <th>недвижимость, долг</th>\n",
       "      <th>недвижимость, нет долга</th>\n",
       "      <th>образование, долг</th>\n",
       "      <th>образование, нет долга</th>\n",
       "      <th>свадьба, долг</th>\n",
       "      <th>свадьба, нет долга</th>\n",
       "    </tr>\n",
       "    <tr>\n",
       "      <th>purpose</th>\n",
       "      <th></th>\n",
       "      <th></th>\n",
       "      <th></th>\n",
       "      <th></th>\n",
       "      <th></th>\n",
       "      <th></th>\n",
       "      <th></th>\n",
       "      <th></th>\n",
       "    </tr>\n",
       "  </thead>\n",
       "  <tbody>\n",
       "    <tr>\n",
       "      <td>автокредит</td>\n",
       "      <td>403.0</td>\n",
       "      <td>3905.0</td>\n",
       "      <td>NaN</td>\n",
       "      <td>NaN</td>\n",
       "      <td>NaN</td>\n",
       "      <td>NaN</td>\n",
       "      <td>NaN</td>\n",
       "      <td>NaN</td>\n",
       "    </tr>\n",
       "    <tr>\n",
       "      <td>образование</td>\n",
       "      <td>NaN</td>\n",
       "      <td>NaN</td>\n",
       "      <td>NaN</td>\n",
       "      <td>NaN</td>\n",
       "      <td>370.0</td>\n",
       "      <td>3644.0</td>\n",
       "      <td>NaN</td>\n",
       "      <td>NaN</td>\n",
       "    </tr>\n",
       "    <tr>\n",
       "      <td>покупка недвижимости</td>\n",
       "      <td>NaN</td>\n",
       "      <td>NaN</td>\n",
       "      <td>782.0</td>\n",
       "      <td>10032.0</td>\n",
       "      <td>NaN</td>\n",
       "      <td>NaN</td>\n",
       "      <td>NaN</td>\n",
       "      <td>NaN</td>\n",
       "    </tr>\n",
       "    <tr>\n",
       "      <td>свадьба</td>\n",
       "      <td>NaN</td>\n",
       "      <td>NaN</td>\n",
       "      <td>NaN</td>\n",
       "      <td>NaN</td>\n",
       "      <td>NaN</td>\n",
       "      <td>NaN</td>\n",
       "      <td>186.0</td>\n",
       "      <td>2149.0</td>\n",
       "    </tr>\n",
       "  </tbody>\n",
       "</table>\n",
       "</div>"
      ],
      "text/plain": [
       "addiction_purpose     автокредит, долг  автокредит, нет долга  \\\n",
       "purpose                                                         \n",
       "автокредит                       403.0                 3905.0   \n",
       "образование                        NaN                    NaN   \n",
       "покупка недвижимости               NaN                    NaN   \n",
       "свадьба                            NaN                    NaN   \n",
       "\n",
       "addiction_purpose     недвижимость, долг  недвижимость, нет долга  \\\n",
       "purpose                                                             \n",
       "автокредит                           NaN                      NaN   \n",
       "образование                          NaN                      NaN   \n",
       "покупка недвижимости               782.0                  10032.0   \n",
       "свадьба                              NaN                      NaN   \n",
       "\n",
       "addiction_purpose     образование, долг  образование, нет долга  \\\n",
       "purpose                                                           \n",
       "автокредит                          NaN                     NaN   \n",
       "образование                       370.0                  3644.0   \n",
       "покупка недвижимости                NaN                     NaN   \n",
       "свадьба                             NaN                     NaN   \n",
       "\n",
       "addiction_purpose     свадьба, долг  свадьба, нет долга  \n",
       "purpose                                                  \n",
       "автокредит                      NaN                 NaN  \n",
       "образование                     NaN                 NaN  \n",
       "покупка недвижимости            NaN                 NaN  \n",
       "свадьба                       186.0              2149.0  "
      ]
     },
     "execution_count": 23,
     "metadata": {},
     "output_type": "execute_result"
    }
   ],
   "source": [
    "def debt_purpose(raw): # создаем функцию для группировки данных\n",
    "    purpose = raw['purpose']\n",
    "    debt = raw['debt']\n",
    "    if purpose == 'покупка недвижимости':\n",
    "        if debt == 1:\n",
    "            return 'недвижимость, долг'\n",
    "    if purpose == 'покупка недвижимости':\n",
    "        if debt == 0:\n",
    "            return 'недвижимость, нет долга' \n",
    "    if purpose == 'автокредит':\n",
    "        if debt == 1:\n",
    "            return 'автокредит, долг'\n",
    "    if purpose == 'автокредит':\n",
    "        if debt == 0:\n",
    "            return 'автокредит, нет долга'\n",
    "    if purpose == 'образование':\n",
    "        if debt == 1:\n",
    "            return 'образование, долг'\n",
    "    if purpose == 'образование':\n",
    "        if debt == 0:\n",
    "            return 'образование, нет долга'\n",
    "    if purpose == 'свадьба':\n",
    "        if debt == 1:\n",
    "            return 'свадьба, долг'\n",
    "    if purpose == 'свадьба':\n",
    "        if debt == 0:\n",
    "            return 'свадьба, нет долга' \n",
    "    \n",
    "df['addiction_purpose'] = df.apply(debt_purpose, axis = 1) # применяем функцию к столбцу\n",
    "\n",
    "df.pivot_table(index=['purpose'], columns='addiction_purpose', values='total_income', aggfunc='count') # выводим на экран сводную таблицу"
   ]
  },
  {
   "cell_type": "code",
   "execution_count": 24,
   "metadata": {},
   "outputs": [
    {
     "data": {
      "text/plain": [
       "['недвижимость, долг:',\n",
       " 7.231366746809691,\n",
       " 'автокредит, долг:',\n",
       " 9.35468895078923,\n",
       " 'образование, долг:',\n",
       " 9.217737917289487,\n",
       " 'свадьба, долг:',\n",
       " 7.965738758029979]"
      ]
     },
     "metadata": {},
     "output_type": "display_data"
    }
   ],
   "source": [
    "real_estate_debt = 782/10814*100 # процент 'недвижимость, долг'\n",
    "auto_debt = 403/4308*100 # процент 'автокредит, долг'\n",
    "education_debt = 370/4014*100 # процент 'образование, долг'\n",
    "marriage_debt = 186/2335*100 # процент 'свадьба, долг'\n",
    "display(['недвижимость, долг:', real_estate_debt, 'автокредит, долг:', auto_debt, 'образование, долг:', education_debt, 'свадьба, долг:', marriage_debt])"
   ]
  },
  {
   "cell_type": "markdown",
   "metadata": {},
   "source": [
    "**Вывод**\n",
    "\n",
    "Чаще всего заемщики имеют долги по автокредитам и образованию. В случае с автокредитом это может быть связано с тем, что транспортное средство можно легко повредить или довести до полной гибели, в следствии этого заемщик может либо не захотеть платить, либо у него может не хватить денег. Образование долгосрочный процесс и возможно долги связаны с тем, что не всегда после окончания учебы получается устроиться на работу."
   ]
  },
  {
   "cell_type": "markdown",
   "metadata": {},
   "source": [
    "## Шаг 4. Общий вывод\n",
    "\n",
    "По вышеуказанным данным рекомендую учесть в кредитном скорринге, что заемщики с детьми, а также холостые или находящиеся в гражданском браке чаще имею долги по кредиту. Так же помимо заявленных заказчиком параметров предлагаю учесть в скорринге цель кредита: автокредит, образование, так как в этих категориях чаще всего имеют долги по возврату кредита, помимо этого для скоринга предлагаю рассмотреть другой рассчет ставки кредита для клиентов с доходами ниже среднего, ввиду более высокого количества долгов при возврате средств."
   ]
  }
 ],
 "metadata": {
  "ExecuteTimeLog": [
   {
    "duration": 60,
    "start_time": "2021-11-26T13:18:31.512Z"
   },
   {
    "duration": 10,
    "start_time": "2021-11-26T13:19:25.056Z"
   },
   {
    "duration": 89,
    "start_time": "2021-11-26T13:41:13.881Z"
   },
   {
    "duration": 86,
    "start_time": "2021-11-26T13:41:24.067Z"
   },
   {
    "duration": 77,
    "start_time": "2021-11-26T13:41:36.943Z"
   },
   {
    "duration": 315,
    "start_time": "2021-11-27T11:02:03.486Z"
   },
   {
    "duration": 859,
    "start_time": "2021-11-27T11:02:15.311Z"
   },
   {
    "duration": 17,
    "start_time": "2021-11-27T11:02:16.172Z"
   },
   {
    "duration": 7,
    "start_time": "2021-11-27T11:05:29.331Z"
   },
   {
    "duration": 63,
    "start_time": "2021-11-27T11:13:04.302Z"
   },
   {
    "duration": 10,
    "start_time": "2021-11-27T11:13:04.367Z"
   },
   {
    "duration": 296,
    "start_time": "2021-11-27T11:20:33.561Z"
   },
   {
    "duration": 61,
    "start_time": "2021-11-27T11:21:08.191Z"
   },
   {
    "duration": 11,
    "start_time": "2021-11-27T11:21:08.253Z"
   },
   {
    "duration": 290,
    "start_time": "2021-11-27T11:21:08.266Z"
   },
   {
    "duration": -99,
    "start_time": "2021-11-27T11:21:08.657Z"
   },
   {
    "duration": 294,
    "start_time": "2021-11-27T11:21:18.866Z"
   },
   {
    "duration": 269,
    "start_time": "2021-11-27T11:23:11.408Z"
   },
   {
    "duration": 65,
    "start_time": "2021-11-27T11:24:40.802Z"
   },
   {
    "duration": 10,
    "start_time": "2021-11-27T11:24:40.869Z"
   },
   {
    "duration": 282,
    "start_time": "2021-11-27T11:24:45.243Z"
   },
   {
    "duration": 319,
    "start_time": "2021-11-27T11:28:16.206Z"
   },
   {
    "duration": 268,
    "start_time": "2021-11-27T11:28:57.068Z"
   },
   {
    "duration": 283,
    "start_time": "2021-11-27T11:29:05.101Z"
   },
   {
    "duration": 6,
    "start_time": "2021-11-27T11:33:27.366Z"
   },
   {
    "duration": 65,
    "start_time": "2021-11-27T11:33:31.946Z"
   },
   {
    "duration": 10,
    "start_time": "2021-11-27T11:33:32.013Z"
   },
   {
    "duration": 20,
    "start_time": "2021-11-27T11:33:32.025Z"
   },
   {
    "duration": 295,
    "start_time": "2021-11-27T11:33:32.046Z"
   },
   {
    "duration": 4,
    "start_time": "2021-11-27T11:35:54.433Z"
   },
   {
    "duration": 22,
    "start_time": "2021-11-27T11:35:59.202Z"
   },
   {
    "duration": 13,
    "start_time": "2021-11-27T11:36:07.639Z"
   },
   {
    "duration": 4,
    "start_time": "2021-11-27T11:36:15.900Z"
   },
   {
    "duration": 20,
    "start_time": "2021-11-27T11:36:25.145Z"
   },
   {
    "duration": 12,
    "start_time": "2021-11-27T11:39:14.284Z"
   },
   {
    "duration": 20,
    "start_time": "2021-11-27T11:40:05.633Z"
   },
   {
    "duration": 16,
    "start_time": "2021-11-27T11:42:31.199Z"
   },
   {
    "duration": 14,
    "start_time": "2021-11-27T11:42:54.632Z"
   },
   {
    "duration": 17,
    "start_time": "2021-11-27T11:49:39.138Z"
   },
   {
    "duration": 34,
    "start_time": "2021-11-27T11:49:45.420Z"
   },
   {
    "duration": 5,
    "start_time": "2021-11-27T12:02:28.883Z"
   },
   {
    "duration": 7,
    "start_time": "2021-11-27T12:02:50.917Z"
   },
   {
    "duration": 6,
    "start_time": "2021-11-27T12:06:32.993Z"
   },
   {
    "duration": 5,
    "start_time": "2021-11-27T12:06:35.233Z"
   },
   {
    "duration": 5,
    "start_time": "2021-11-27T12:07:15.879Z"
   },
   {
    "duration": 12,
    "start_time": "2021-11-27T12:09:08.189Z"
   },
   {
    "duration": 13,
    "start_time": "2021-11-27T12:09:09.920Z"
   },
   {
    "duration": 29,
    "start_time": "2021-11-27T12:09:13.528Z"
   },
   {
    "duration": 15,
    "start_time": "2021-11-27T12:09:28.551Z"
   },
   {
    "duration": 13,
    "start_time": "2021-11-27T12:17:27.792Z"
   },
   {
    "duration": 12,
    "start_time": "2021-11-27T12:17:44.793Z"
   },
   {
    "duration": 14,
    "start_time": "2021-11-27T12:27:05.324Z"
   },
   {
    "duration": 64,
    "start_time": "2021-11-27T12:28:23.654Z"
   },
   {
    "duration": 12,
    "start_time": "2021-11-27T12:28:23.720Z"
   },
   {
    "duration": 16,
    "start_time": "2021-11-27T12:28:23.734Z"
   },
   {
    "duration": 20,
    "start_time": "2021-11-27T12:28:23.753Z"
   },
   {
    "duration": 16,
    "start_time": "2021-11-27T12:28:23.775Z"
   },
   {
    "duration": 61,
    "start_time": "2021-11-27T12:28:23.794Z"
   },
   {
    "duration": 5,
    "start_time": "2021-11-27T12:28:23.857Z"
   },
   {
    "duration": 6,
    "start_time": "2021-11-27T12:28:23.865Z"
   },
   {
    "duration": 5,
    "start_time": "2021-11-27T12:28:23.873Z"
   },
   {
    "duration": 5,
    "start_time": "2021-11-27T12:28:23.880Z"
   },
   {
    "duration": 15,
    "start_time": "2021-11-27T12:28:23.886Z"
   },
   {
    "duration": 339,
    "start_time": "2021-11-27T12:33:14.250Z"
   },
   {
    "duration": 278,
    "start_time": "2021-11-27T12:33:24.068Z"
   },
   {
    "duration": 279,
    "start_time": "2021-11-27T12:35:42.230Z"
   },
   {
    "duration": 104,
    "start_time": "2021-11-27T12:36:31.755Z"
   },
   {
    "duration": 283,
    "start_time": "2021-11-27T12:36:35.262Z"
   },
   {
    "duration": 282,
    "start_time": "2021-11-27T12:39:09.519Z"
   },
   {
    "duration": 644,
    "start_time": "2021-11-27T12:42:17.051Z"
   },
   {
    "duration": 92,
    "start_time": "2021-11-27T12:42:24.031Z"
   },
   {
    "duration": 286,
    "start_time": "2021-11-27T12:42:37.800Z"
   },
   {
    "duration": 292,
    "start_time": "2021-11-27T12:43:01.920Z"
   },
   {
    "duration": 287,
    "start_time": "2021-11-27T12:43:33.179Z"
   },
   {
    "duration": 262,
    "start_time": "2021-11-27T12:44:58.360Z"
   },
   {
    "duration": 377,
    "start_time": "2021-11-27T12:46:19.087Z"
   },
   {
    "duration": 272,
    "start_time": "2021-11-27T12:48:31.388Z"
   },
   {
    "duration": 257,
    "start_time": "2021-11-27T12:56:38.732Z"
   },
   {
    "duration": 274,
    "start_time": "2021-11-27T13:02:22.676Z"
   },
   {
    "duration": 65,
    "start_time": "2021-11-27T13:02:39.647Z"
   },
   {
    "duration": 11,
    "start_time": "2021-11-27T13:02:39.714Z"
   },
   {
    "duration": 22,
    "start_time": "2021-11-27T13:02:39.727Z"
   },
   {
    "duration": 20,
    "start_time": "2021-11-27T13:02:39.750Z"
   },
   {
    "duration": 16,
    "start_time": "2021-11-27T13:02:39.771Z"
   },
   {
    "duration": 32,
    "start_time": "2021-11-27T13:02:39.788Z"
   },
   {
    "duration": 5,
    "start_time": "2021-11-27T13:02:39.845Z"
   },
   {
    "duration": 6,
    "start_time": "2021-11-27T13:02:39.852Z"
   },
   {
    "duration": 7,
    "start_time": "2021-11-27T13:02:39.859Z"
   },
   {
    "duration": 6,
    "start_time": "2021-11-27T13:02:39.867Z"
   },
   {
    "duration": 16,
    "start_time": "2021-11-27T13:02:39.874Z"
   },
   {
    "duration": 288,
    "start_time": "2021-11-27T13:02:39.891Z"
   },
   {
    "duration": 3735,
    "start_time": "2021-11-27T13:03:14.021Z"
   },
   {
    "duration": 4034,
    "start_time": "2021-11-27T13:03:18.229Z"
   },
   {
    "duration": 3610,
    "start_time": "2021-11-27T13:04:09.325Z"
   },
   {
    "duration": 3828,
    "start_time": "2021-11-27T13:04:16.400Z"
   },
   {
    "duration": 3574,
    "start_time": "2021-11-27T13:20:59.542Z"
   },
   {
    "duration": 3517,
    "start_time": "2021-11-27T13:21:15.783Z"
   },
   {
    "duration": 3664,
    "start_time": "2021-11-27T13:21:25.165Z"
   },
   {
    "duration": 10,
    "start_time": "2021-11-27T13:24:52.923Z"
   },
   {
    "duration": 24,
    "start_time": "2021-11-27T13:25:02.735Z"
   },
   {
    "duration": 2267,
    "start_time": "2021-11-27T13:25:19.824Z"
   },
   {
    "duration": 65,
    "start_time": "2021-11-27T13:25:30.136Z"
   },
   {
    "duration": 10,
    "start_time": "2021-11-27T13:25:30.203Z"
   },
   {
    "duration": 21,
    "start_time": "2021-11-27T13:25:30.215Z"
   },
   {
    "duration": 23,
    "start_time": "2021-11-27T13:25:30.237Z"
   },
   {
    "duration": 19,
    "start_time": "2021-11-27T13:25:30.262Z"
   },
   {
    "duration": 42,
    "start_time": "2021-11-27T13:25:30.283Z"
   },
   {
    "duration": 22,
    "start_time": "2021-11-27T13:25:30.326Z"
   },
   {
    "duration": 19,
    "start_time": "2021-11-27T13:25:30.350Z"
   },
   {
    "duration": 23,
    "start_time": "2021-11-27T13:25:30.371Z"
   },
   {
    "duration": 24,
    "start_time": "2021-11-27T13:25:30.396Z"
   },
   {
    "duration": 35,
    "start_time": "2021-11-27T13:25:30.422Z"
   },
   {
    "duration": 3585,
    "start_time": "2021-11-27T13:25:30.459Z"
   },
   {
    "duration": 26,
    "start_time": "2021-11-27T13:25:34.046Z"
   },
   {
    "duration": 9,
    "start_time": "2021-11-27T13:26:02.020Z"
   },
   {
    "duration": 10,
    "start_time": "2021-11-27T13:26:14.304Z"
   },
   {
    "duration": 10,
    "start_time": "2021-11-27T13:26:17.415Z"
   },
   {
    "duration": 10,
    "start_time": "2021-11-27T13:26:48.637Z"
   },
   {
    "duration": 9,
    "start_time": "2021-11-27T13:26:54.561Z"
   },
   {
    "duration": 10,
    "start_time": "2021-11-27T13:30:13.318Z"
   },
   {
    "duration": 14,
    "start_time": "2021-11-27T13:32:04.474Z"
   },
   {
    "duration": 10,
    "start_time": "2021-11-27T13:34:30.788Z"
   },
   {
    "duration": 9,
    "start_time": "2021-11-27T13:34:52.153Z"
   },
   {
    "duration": 10,
    "start_time": "2021-11-27T13:45:01.931Z"
   },
   {
    "duration": 1189,
    "start_time": "2021-11-27T13:47:36.333Z"
   },
   {
    "duration": 91,
    "start_time": "2021-11-27T13:49:54.222Z"
   },
   {
    "duration": 16,
    "start_time": "2021-11-27T13:50:01.007Z"
   },
   {
    "duration": 15,
    "start_time": "2021-11-27T13:50:04.235Z"
   },
   {
    "duration": 10,
    "start_time": "2021-11-27T13:50:17.320Z"
   },
   {
    "duration": 1012,
    "start_time": "2021-11-27T13:54:22.124Z"
   },
   {
    "duration": 23,
    "start_time": "2021-11-27T14:12:11.319Z"
   },
   {
    "duration": 66,
    "start_time": "2021-11-27T14:12:32.388Z"
   },
   {
    "duration": 10,
    "start_time": "2021-11-27T14:12:32.455Z"
   },
   {
    "duration": 32,
    "start_time": "2021-11-27T14:12:32.467Z"
   },
   {
    "duration": 19,
    "start_time": "2021-11-27T14:12:32.501Z"
   },
   {
    "duration": 22,
    "start_time": "2021-11-27T14:12:32.522Z"
   },
   {
    "duration": 34,
    "start_time": "2021-11-27T14:12:32.546Z"
   },
   {
    "duration": 4,
    "start_time": "2021-11-27T14:12:32.581Z"
   },
   {
    "duration": 10,
    "start_time": "2021-11-27T14:12:32.587Z"
   },
   {
    "duration": 15,
    "start_time": "2021-11-27T14:12:32.599Z"
   },
   {
    "duration": 19,
    "start_time": "2021-11-27T14:12:32.615Z"
   },
   {
    "duration": 20,
    "start_time": "2021-11-27T14:12:32.635Z"
   },
   {
    "duration": 3552,
    "start_time": "2021-11-27T14:12:32.656Z"
   },
   {
    "duration": 6835,
    "start_time": "2021-11-27T14:12:36.211Z"
   },
   {
    "duration": 1013,
    "start_time": "2021-11-27T14:14:00.548Z"
   },
   {
    "duration": 42,
    "start_time": "2021-11-27T14:14:24.521Z"
   },
   {
    "duration": 10,
    "start_time": "2021-11-27T14:14:35.418Z"
   },
   {
    "duration": 27,
    "start_time": "2021-11-27T14:14:53.685Z"
   },
   {
    "duration": 10,
    "start_time": "2021-11-27T14:15:05.727Z"
   },
   {
    "duration": 1226,
    "start_time": "2021-11-27T14:20:52.884Z"
   },
   {
    "duration": 1435,
    "start_time": "2021-11-27T14:21:00.016Z"
   },
   {
    "duration": 70,
    "start_time": "2021-11-27T14:21:04.144Z"
   },
   {
    "duration": 10,
    "start_time": "2021-11-27T14:21:04.216Z"
   },
   {
    "duration": 35,
    "start_time": "2021-11-27T14:21:04.229Z"
   },
   {
    "duration": 34,
    "start_time": "2021-11-27T14:21:04.266Z"
   },
   {
    "duration": 33,
    "start_time": "2021-11-27T14:21:04.302Z"
   },
   {
    "duration": 44,
    "start_time": "2021-11-27T14:21:04.336Z"
   },
   {
    "duration": 16,
    "start_time": "2021-11-27T14:21:04.381Z"
   },
   {
    "duration": 33,
    "start_time": "2021-11-27T14:21:04.400Z"
   },
   {
    "duration": 25,
    "start_time": "2021-11-27T14:21:04.435Z"
   },
   {
    "duration": 43,
    "start_time": "2021-11-27T14:21:04.462Z"
   },
   {
    "duration": 42,
    "start_time": "2021-11-27T14:21:04.507Z"
   },
   {
    "duration": 3550,
    "start_time": "2021-11-27T14:21:04.551Z"
   },
   {
    "duration": 697,
    "start_time": "2021-11-27T14:21:08.104Z"
   },
   {
    "duration": 12,
    "start_time": "2021-11-27T14:21:40.793Z"
   },
   {
    "duration": 71,
    "start_time": "2021-11-27T14:54:09.370Z"
   },
   {
    "duration": 11,
    "start_time": "2021-11-27T14:54:09.444Z"
   },
   {
    "duration": 37,
    "start_time": "2021-11-27T14:54:09.457Z"
   },
   {
    "duration": 49,
    "start_time": "2021-11-27T14:54:09.496Z"
   },
   {
    "duration": 24,
    "start_time": "2021-11-27T14:54:09.547Z"
   },
   {
    "duration": 38,
    "start_time": "2021-11-27T14:54:09.573Z"
   },
   {
    "duration": 9,
    "start_time": "2021-11-27T14:54:09.612Z"
   },
   {
    "duration": 32,
    "start_time": "2021-11-27T14:54:09.623Z"
   },
   {
    "duration": 28,
    "start_time": "2021-11-27T14:54:09.657Z"
   },
   {
    "duration": 21,
    "start_time": "2021-11-27T14:54:09.688Z"
   },
   {
    "duration": 45,
    "start_time": "2021-11-27T14:54:09.711Z"
   },
   {
    "duration": 3158,
    "start_time": "2021-11-27T14:54:09.758Z"
   },
   {
    "duration": 12,
    "start_time": "2021-11-27T14:54:12.918Z"
   },
   {
    "duration": 11,
    "start_time": "2021-11-27T14:54:42.093Z"
   },
   {
    "duration": 11,
    "start_time": "2021-11-27T14:55:03.954Z"
   },
   {
    "duration": 1205,
    "start_time": "2021-11-27T14:55:28.158Z"
   },
   {
    "duration": 1408,
    "start_time": "2021-11-27T14:56:01.617Z"
   },
   {
    "duration": 1432,
    "start_time": "2021-11-27T14:56:18.429Z"
   },
   {
    "duration": 74,
    "start_time": "2021-11-27T14:59:46.360Z"
   },
   {
    "duration": 11,
    "start_time": "2021-11-27T14:59:46.437Z"
   },
   {
    "duration": 13,
    "start_time": "2021-11-27T14:59:46.451Z"
   },
   {
    "duration": 20,
    "start_time": "2021-11-27T14:59:46.467Z"
   },
   {
    "duration": 16,
    "start_time": "2021-11-27T14:59:46.489Z"
   },
   {
    "duration": 64,
    "start_time": "2021-11-27T14:59:46.507Z"
   },
   {
    "duration": 6,
    "start_time": "2021-11-27T14:59:46.573Z"
   },
   {
    "duration": 7,
    "start_time": "2021-11-27T14:59:46.580Z"
   },
   {
    "duration": 5,
    "start_time": "2021-11-27T14:59:46.590Z"
   },
   {
    "duration": 7,
    "start_time": "2021-11-27T14:59:46.597Z"
   },
   {
    "duration": 51,
    "start_time": "2021-11-27T14:59:46.606Z"
   },
   {
    "duration": 3710,
    "start_time": "2021-11-27T14:59:46.659Z"
   },
   {
    "duration": 12,
    "start_time": "2021-11-27T14:59:50.371Z"
   },
   {
    "duration": 71,
    "start_time": "2021-11-27T15:00:47.723Z"
   },
   {
    "duration": 11,
    "start_time": "2021-11-27T15:00:47.796Z"
   },
   {
    "duration": 33,
    "start_time": "2021-11-27T15:00:47.809Z"
   },
   {
    "duration": 21,
    "start_time": "2021-11-27T15:00:47.845Z"
   },
   {
    "duration": 26,
    "start_time": "2021-11-27T15:00:47.868Z"
   },
   {
    "duration": 33,
    "start_time": "2021-11-27T15:00:47.896Z"
   },
   {
    "duration": 14,
    "start_time": "2021-11-27T15:00:47.930Z"
   },
   {
    "duration": 12,
    "start_time": "2021-11-27T15:00:47.945Z"
   },
   {
    "duration": 12,
    "start_time": "2021-11-27T15:00:47.959Z"
   },
   {
    "duration": 25,
    "start_time": "2021-11-27T15:00:47.972Z"
   },
   {
    "duration": 18,
    "start_time": "2021-11-27T15:00:47.999Z"
   },
   {
    "duration": 3513,
    "start_time": "2021-11-27T15:00:48.019Z"
   },
   {
    "duration": 13,
    "start_time": "2021-11-27T15:00:51.544Z"
   },
   {
    "duration": 69,
    "start_time": "2021-11-27T15:04:50.224Z"
   },
   {
    "duration": 9,
    "start_time": "2021-11-27T15:04:50.295Z"
   },
   {
    "duration": 14,
    "start_time": "2021-11-27T15:04:50.306Z"
   },
   {
    "duration": 42,
    "start_time": "2021-11-27T15:04:50.322Z"
   },
   {
    "duration": 15,
    "start_time": "2021-11-27T15:04:50.366Z"
   },
   {
    "duration": 30,
    "start_time": "2021-11-27T15:04:50.383Z"
   },
   {
    "duration": 5,
    "start_time": "2021-11-27T15:04:50.415Z"
   },
   {
    "duration": 26,
    "start_time": "2021-11-27T15:04:50.422Z"
   },
   {
    "duration": 7,
    "start_time": "2021-11-27T15:04:50.450Z"
   },
   {
    "duration": 14,
    "start_time": "2021-11-27T15:04:50.459Z"
   },
   {
    "duration": 18,
    "start_time": "2021-11-27T15:04:50.474Z"
   },
   {
    "duration": 3475,
    "start_time": "2021-11-27T15:04:50.494Z"
   },
   {
    "duration": 14,
    "start_time": "2021-11-27T15:04:53.970Z"
   },
   {
    "duration": 214,
    "start_time": "2021-11-28T04:47:30.757Z"
   },
   {
    "duration": 628,
    "start_time": "2021-11-28T04:47:34.913Z"
   },
   {
    "duration": 10,
    "start_time": "2021-11-28T04:47:35.544Z"
   },
   {
    "duration": 13,
    "start_time": "2021-11-28T04:47:35.556Z"
   },
   {
    "duration": 37,
    "start_time": "2021-11-28T04:47:35.571Z"
   },
   {
    "duration": 15,
    "start_time": "2021-11-28T04:47:35.610Z"
   },
   {
    "duration": 32,
    "start_time": "2021-11-28T04:47:35.627Z"
   },
   {
    "duration": 32,
    "start_time": "2021-11-28T04:47:35.661Z"
   },
   {
    "duration": 5,
    "start_time": "2021-11-28T04:47:35.695Z"
   },
   {
    "duration": 6,
    "start_time": "2021-11-28T04:47:35.702Z"
   },
   {
    "duration": 7,
    "start_time": "2021-11-28T04:47:35.709Z"
   },
   {
    "duration": 17,
    "start_time": "2021-11-28T04:47:35.717Z"
   },
   {
    "duration": 3611,
    "start_time": "2021-11-28T04:47:35.736Z"
   },
   {
    "duration": 43,
    "start_time": "2021-11-28T04:47:39.349Z"
   },
   {
    "duration": 13,
    "start_time": "2021-11-28T04:48:12.356Z"
   },
   {
    "duration": 67,
    "start_time": "2021-11-28T04:48:20.428Z"
   },
   {
    "duration": 11,
    "start_time": "2021-11-28T04:48:20.497Z"
   },
   {
    "duration": 16,
    "start_time": "2021-11-28T04:48:20.510Z"
   },
   {
    "duration": 20,
    "start_time": "2021-11-28T04:48:20.528Z"
   },
   {
    "duration": 47,
    "start_time": "2021-11-28T04:48:20.550Z"
   },
   {
    "duration": 32,
    "start_time": "2021-11-28T04:48:20.599Z"
   },
   {
    "duration": 4,
    "start_time": "2021-11-28T04:48:20.633Z"
   },
   {
    "duration": 6,
    "start_time": "2021-11-28T04:48:20.639Z"
   },
   {
    "duration": 5,
    "start_time": "2021-11-28T04:48:20.646Z"
   },
   {
    "duration": 6,
    "start_time": "2021-11-28T04:48:20.652Z"
   },
   {
    "duration": 15,
    "start_time": "2021-11-28T04:48:20.691Z"
   },
   {
    "duration": 3654,
    "start_time": "2021-11-28T04:48:20.708Z"
   },
   {
    "duration": 29,
    "start_time": "2021-11-28T04:48:24.363Z"
   },
   {
    "duration": 13,
    "start_time": "2021-11-28T04:51:09.895Z"
   },
   {
    "duration": 797,
    "start_time": "2021-11-28T04:51:12.274Z"
   },
   {
    "duration": 771,
    "start_time": "2021-11-28T04:51:23.108Z"
   },
   {
    "duration": 794,
    "start_time": "2021-11-28T04:51:26.665Z"
   },
   {
    "duration": 81,
    "start_time": "2021-11-28T04:51:29.931Z"
   },
   {
    "duration": 11,
    "start_time": "2021-11-28T04:51:30.014Z"
   },
   {
    "duration": 17,
    "start_time": "2021-11-28T04:51:30.028Z"
   },
   {
    "duration": 19,
    "start_time": "2021-11-28T04:51:30.047Z"
   },
   {
    "duration": 18,
    "start_time": "2021-11-28T04:51:30.092Z"
   },
   {
    "duration": 33,
    "start_time": "2021-11-28T04:51:30.112Z"
   },
   {
    "duration": 5,
    "start_time": "2021-11-28T04:51:30.147Z"
   },
   {
    "duration": 7,
    "start_time": "2021-11-28T04:51:30.153Z"
   },
   {
    "duration": 33,
    "start_time": "2021-11-28T04:51:30.162Z"
   },
   {
    "duration": 6,
    "start_time": "2021-11-28T04:51:30.197Z"
   },
   {
    "duration": 18,
    "start_time": "2021-11-28T04:51:30.204Z"
   },
   {
    "duration": 3412,
    "start_time": "2021-11-28T04:51:30.225Z"
   },
   {
    "duration": 14,
    "start_time": "2021-11-28T04:51:33.639Z"
   },
   {
    "duration": 5,
    "start_time": "2021-11-28T04:59:15.760Z"
   },
   {
    "duration": 5,
    "start_time": "2021-11-28T04:59:33.303Z"
   },
   {
    "duration": 8,
    "start_time": "2021-11-28T05:04:10.843Z"
   },
   {
    "duration": 10,
    "start_time": "2021-11-28T05:04:21.588Z"
   },
   {
    "duration": 7,
    "start_time": "2021-11-28T05:04:28.736Z"
   },
   {
    "duration": 8,
    "start_time": "2021-11-28T05:06:40.692Z"
   },
   {
    "duration": 12,
    "start_time": "2021-11-28T05:06:46.214Z"
   },
   {
    "duration": 9,
    "start_time": "2021-11-28T05:06:53.538Z"
   },
   {
    "duration": 9,
    "start_time": "2021-11-28T05:06:59.541Z"
   },
   {
    "duration": 7,
    "start_time": "2021-11-28T05:09:19.836Z"
   },
   {
    "duration": 26,
    "start_time": "2021-11-28T05:11:17.387Z"
   },
   {
    "duration": 35,
    "start_time": "2021-11-28T05:15:34.082Z"
   },
   {
    "duration": 10,
    "start_time": "2021-11-28T05:15:45.036Z"
   },
   {
    "duration": 56,
    "start_time": "2021-11-28T05:15:50.195Z"
   },
   {
    "duration": 9,
    "start_time": "2021-11-28T05:16:16.919Z"
   },
   {
    "duration": 7,
    "start_time": "2021-11-28T05:16:30.784Z"
   },
   {
    "duration": 6,
    "start_time": "2021-11-28T05:16:37.492Z"
   },
   {
    "duration": 74,
    "start_time": "2021-11-28T05:16:40.977Z"
   },
   {
    "duration": 10,
    "start_time": "2021-11-28T05:16:41.053Z"
   },
   {
    "duration": 38,
    "start_time": "2021-11-28T05:16:41.065Z"
   },
   {
    "duration": 19,
    "start_time": "2021-11-28T05:16:41.105Z"
   },
   {
    "duration": 14,
    "start_time": "2021-11-28T05:16:41.126Z"
   },
   {
    "duration": 53,
    "start_time": "2021-11-28T05:16:41.142Z"
   },
   {
    "duration": 5,
    "start_time": "2021-11-28T05:16:41.197Z"
   },
   {
    "duration": 5,
    "start_time": "2021-11-28T05:16:41.204Z"
   },
   {
    "duration": 5,
    "start_time": "2021-11-28T05:16:41.210Z"
   },
   {
    "duration": 5,
    "start_time": "2021-11-28T05:16:41.217Z"
   },
   {
    "duration": 14,
    "start_time": "2021-11-28T05:16:41.223Z"
   },
   {
    "duration": 3486,
    "start_time": "2021-11-28T05:16:41.239Z"
   },
   {
    "duration": 14,
    "start_time": "2021-11-28T05:16:44.727Z"
   },
   {
    "duration": 27,
    "start_time": "2021-11-28T05:16:44.742Z"
   },
   {
    "duration": 19,
    "start_time": "2021-11-28T05:16:44.771Z"
   },
   {
    "duration": 9,
    "start_time": "2021-11-28T05:16:51.829Z"
   },
   {
    "duration": 7,
    "start_time": "2021-11-28T05:17:09.070Z"
   },
   {
    "duration": 7,
    "start_time": "2021-11-28T05:17:15.344Z"
   },
   {
    "duration": 8,
    "start_time": "2021-11-28T05:17:17.070Z"
   },
   {
    "duration": 22,
    "start_time": "2021-11-28T05:21:03.056Z"
   },
   {
    "duration": 21,
    "start_time": "2021-11-28T05:21:21.670Z"
   },
   {
    "duration": 8,
    "start_time": "2021-11-28T05:45:07.074Z"
   },
   {
    "duration": 186,
    "start_time": "2021-11-28T06:00:27.467Z"
   },
   {
    "duration": 349,
    "start_time": "2021-11-28T06:00:43.307Z"
   },
   {
    "duration": 350,
    "start_time": "2021-11-28T06:00:53.451Z"
   },
   {
    "duration": 22,
    "start_time": "2021-11-28T06:04:37.716Z"
   },
   {
    "duration": 10,
    "start_time": "2021-11-28T06:04:43.694Z"
   },
   {
    "duration": 17,
    "start_time": "2021-11-28T06:06:37.216Z"
   },
   {
    "duration": 20,
    "start_time": "2021-11-28T06:07:26.010Z"
   },
   {
    "duration": 24,
    "start_time": "2021-11-28T06:07:54.221Z"
   },
   {
    "duration": 26,
    "start_time": "2021-11-28T06:08:40.809Z"
   },
   {
    "duration": 29,
    "start_time": "2021-11-28T06:09:35.503Z"
   },
   {
    "duration": 164,
    "start_time": "2021-11-28T06:12:59.868Z"
   },
   {
    "duration": 29,
    "start_time": "2021-11-28T06:23:54.529Z"
   },
   {
    "duration": 333,
    "start_time": "2021-11-28T06:24:10.849Z"
   },
   {
    "duration": 197,
    "start_time": "2021-11-28T06:27:35.615Z"
   },
   {
    "duration": 63,
    "start_time": "2021-11-28T06:27:49.775Z"
   },
   {
    "duration": 213,
    "start_time": "2021-11-28T06:27:54.285Z"
   },
   {
    "duration": 29,
    "start_time": "2021-11-28T06:28:21.156Z"
   },
   {
    "duration": 164,
    "start_time": "2021-11-28T06:32:12.174Z"
   },
   {
    "duration": 84,
    "start_time": "2021-11-28T06:32:35.882Z"
   },
   {
    "duration": 429,
    "start_time": "2021-11-28T06:54:01.957Z"
   },
   {
    "duration": 358,
    "start_time": "2021-11-28T06:54:41.088Z"
   },
   {
    "duration": 58,
    "start_time": "2021-11-28T06:58:09.534Z"
   },
   {
    "duration": 72,
    "start_time": "2021-11-28T06:58:19.326Z"
   },
   {
    "duration": 8,
    "start_time": "2021-11-28T06:58:28.068Z"
   },
   {
    "duration": 7,
    "start_time": "2021-11-28T06:59:28.617Z"
   },
   {
    "duration": 68,
    "start_time": "2021-11-28T07:02:47.779Z"
   },
   {
    "duration": 74,
    "start_time": "2021-11-28T07:12:18.757Z"
   },
   {
    "duration": 5,
    "start_time": "2021-11-28T07:20:57.379Z"
   },
   {
    "duration": 347,
    "start_time": "2021-11-28T07:26:49.356Z"
   },
   {
    "duration": 7,
    "start_time": "2021-11-28T07:27:29.707Z"
   },
   {
    "duration": 349,
    "start_time": "2021-11-28T07:29:07.926Z"
   },
   {
    "duration": 7,
    "start_time": "2021-11-28T07:29:10.815Z"
   },
   {
    "duration": 18,
    "start_time": "2021-11-28T07:29:13.425Z"
   },
   {
    "duration": 58,
    "start_time": "2021-11-28T07:30:11.579Z"
   },
   {
    "duration": 316,
    "start_time": "2021-11-28T07:36:34.929Z"
   },
   {
    "duration": 300,
    "start_time": "2021-11-28T07:37:21.961Z"
   },
   {
    "duration": 361,
    "start_time": "2021-11-28T07:37:55.430Z"
   },
   {
    "duration": 11,
    "start_time": "2021-11-28T07:38:13.322Z"
   },
   {
    "duration": 10,
    "start_time": "2021-11-28T07:38:24.382Z"
   },
   {
    "duration": 318,
    "start_time": "2021-11-28T07:39:28.317Z"
   },
   {
    "duration": 81,
    "start_time": "2021-11-28T07:39:56.159Z"
   },
   {
    "duration": 76,
    "start_time": "2021-11-28T07:51:56.878Z"
   },
   {
    "duration": 67,
    "start_time": "2021-11-28T07:55:20.896Z"
   },
   {
    "duration": 373,
    "start_time": "2021-11-28T08:01:23.873Z"
   },
   {
    "duration": 71,
    "start_time": "2021-11-28T08:10:39.052Z"
   },
   {
    "duration": 79,
    "start_time": "2021-11-28T08:15:14.585Z"
   },
   {
    "duration": 74,
    "start_time": "2021-11-28T08:15:21.913Z"
   },
   {
    "duration": 60,
    "start_time": "2021-11-28T08:17:48.205Z"
   },
   {
    "duration": 81,
    "start_time": "2021-11-28T08:25:37.433Z"
   },
   {
    "duration": 23,
    "start_time": "2021-11-28T08:39:54.912Z"
   },
   {
    "duration": 47,
    "start_time": "2021-11-28T08:43:09.224Z"
   },
   {
    "duration": 48,
    "start_time": "2021-11-28T08:43:12.564Z"
   },
   {
    "duration": 280,
    "start_time": "2021-11-28T13:59:32.624Z"
   },
   {
    "duration": 710,
    "start_time": "2021-11-28T13:59:36.760Z"
   },
   {
    "duration": 12,
    "start_time": "2021-11-28T13:59:37.472Z"
   },
   {
    "duration": 16,
    "start_time": "2021-11-28T13:59:37.487Z"
   },
   {
    "duration": 21,
    "start_time": "2021-11-28T13:59:37.505Z"
   },
   {
    "duration": 57,
    "start_time": "2021-11-28T13:59:37.529Z"
   },
   {
    "duration": 52,
    "start_time": "2021-11-28T13:59:37.588Z"
   },
   {
    "duration": 23,
    "start_time": "2021-11-28T13:59:37.642Z"
   },
   {
    "duration": 9,
    "start_time": "2021-11-28T13:59:37.667Z"
   },
   {
    "duration": 25,
    "start_time": "2021-11-28T13:59:37.680Z"
   },
   {
    "duration": 26,
    "start_time": "2021-11-28T13:59:37.708Z"
   },
   {
    "duration": 25,
    "start_time": "2021-11-28T13:59:37.736Z"
   },
   {
    "duration": 4272,
    "start_time": "2021-11-28T13:59:37.763Z"
   },
   {
    "duration": 33,
    "start_time": "2021-11-28T13:59:42.038Z"
   },
   {
    "duration": 7,
    "start_time": "2021-11-28T13:59:42.072Z"
   },
   {
    "duration": 19,
    "start_time": "2021-11-28T13:59:42.081Z"
   },
   {
    "duration": 629,
    "start_time": "2021-11-28T13:59:42.102Z"
   },
   {
    "duration": 11,
    "start_time": "2021-11-28T13:59:42.733Z"
   },
   {
    "duration": 239,
    "start_time": "2021-11-28T13:59:42.747Z"
   },
   {
    "duration": 623,
    "start_time": "2021-11-28T13:59:42.988Z"
   },
   {
    "duration": 11,
    "start_time": "2021-11-28T13:59:43.613Z"
   },
   {
    "duration": 91,
    "start_time": "2021-11-28T13:59:43.625Z"
   },
   {
    "duration": 6,
    "start_time": "2021-11-28T13:59:43.718Z"
   },
   {
    "duration": 409,
    "start_time": "2021-11-28T13:59:43.726Z"
   },
   {
    "duration": 8,
    "start_time": "2021-11-28T13:59:44.137Z"
   },
   {
    "duration": 77,
    "start_time": "2021-11-28T13:59:44.146Z"
   },
   {
    "duration": 571,
    "start_time": "2021-11-28T13:59:44.225Z"
   },
   {
    "duration": 8,
    "start_time": "2021-11-28T13:59:44.799Z"
   },
   {
    "duration": 91,
    "start_time": "2021-11-28T13:59:44.809Z"
   },
   {
    "duration": 26,
    "start_time": "2021-11-28T14:02:24.227Z"
   },
   {
    "duration": 26,
    "start_time": "2021-11-28T14:02:40.642Z"
   },
   {
    "duration": 24,
    "start_time": "2021-11-28T14:03:04.952Z"
   },
   {
    "duration": 19,
    "start_time": "2021-11-28T14:06:52.999Z"
   },
   {
    "duration": 2282,
    "start_time": "2021-11-28T14:09:20.689Z"
   },
   {
    "duration": 72,
    "start_time": "2021-11-28T14:09:31.500Z"
   },
   {
    "duration": 12,
    "start_time": "2021-11-28T14:09:31.574Z"
   },
   {
    "duration": 36,
    "start_time": "2021-11-28T14:09:31.588Z"
   },
   {
    "duration": 50,
    "start_time": "2021-11-28T14:09:31.626Z"
   },
   {
    "duration": 36,
    "start_time": "2021-11-28T14:09:31.678Z"
   },
   {
    "duration": 37,
    "start_time": "2021-11-28T14:09:31.715Z"
   },
   {
    "duration": 10,
    "start_time": "2021-11-28T14:09:31.754Z"
   },
   {
    "duration": 24,
    "start_time": "2021-11-28T14:09:31.766Z"
   },
   {
    "duration": 43,
    "start_time": "2021-11-28T14:09:31.793Z"
   },
   {
    "duration": 17,
    "start_time": "2021-11-28T14:09:31.838Z"
   },
   {
    "duration": 29,
    "start_time": "2021-11-28T14:09:31.857Z"
   },
   {
    "duration": 3951,
    "start_time": "2021-11-28T14:09:31.888Z"
   },
   {
    "duration": 30,
    "start_time": "2021-11-28T14:09:35.841Z"
   },
   {
    "duration": 27,
    "start_time": "2021-11-28T14:09:35.873Z"
   },
   {
    "duration": 19,
    "start_time": "2021-11-28T14:09:35.903Z"
   },
   {
    "duration": 363,
    "start_time": "2021-11-28T14:09:35.924Z"
   },
   {
    "duration": 7,
    "start_time": "2021-11-28T14:09:36.289Z"
   },
   {
    "duration": 93,
    "start_time": "2021-11-28T14:09:36.297Z"
   },
   {
    "duration": 384,
    "start_time": "2021-11-28T14:09:36.392Z"
   },
   {
    "duration": 8,
    "start_time": "2021-11-28T14:09:36.778Z"
   },
   {
    "duration": 91,
    "start_time": "2021-11-28T14:09:36.789Z"
   },
   {
    "duration": 6,
    "start_time": "2021-11-28T14:09:36.882Z"
   },
   {
    "duration": 390,
    "start_time": "2021-11-28T14:09:36.891Z"
   },
   {
    "duration": 7,
    "start_time": "2021-11-28T14:09:37.282Z"
   },
   {
    "duration": 93,
    "start_time": "2021-11-28T14:09:37.291Z"
   },
   {
    "duration": 610,
    "start_time": "2021-11-28T14:09:37.386Z"
   },
   {
    "duration": 11,
    "start_time": "2021-11-28T14:09:38.000Z"
   },
   {
    "duration": 130,
    "start_time": "2021-11-28T14:09:38.014Z"
   },
   {
    "duration": 5,
    "start_time": "2021-11-28T14:12:15.689Z"
   },
   {
    "duration": 627,
    "start_time": "2021-11-28T14:14:28.831Z"
   },
   {
    "duration": 82,
    "start_time": "2021-11-28T14:18:32.640Z"
   },
   {
    "duration": 90,
    "start_time": "2021-11-28T14:22:25.666Z"
   },
   {
    "duration": 9,
    "start_time": "2021-11-28T14:22:32.995Z"
   },
   {
    "duration": 84,
    "start_time": "2021-11-28T14:34:24.967Z"
   },
   {
    "duration": 10,
    "start_time": "2021-11-28T14:34:34.852Z"
   },
   {
    "duration": 5,
    "start_time": "2021-11-28T14:40:42.588Z"
   },
   {
    "duration": 7,
    "start_time": "2021-11-28T14:45:01.971Z"
   },
   {
    "duration": 9,
    "start_time": "2021-11-28T14:45:14.153Z"
   },
   {
    "duration": 136,
    "start_time": "2021-11-28T14:55:22.509Z"
   },
   {
    "duration": 76,
    "start_time": "2021-11-28T14:56:15.120Z"
   },
   {
    "duration": 5,
    "start_time": "2021-11-28T14:56:30.414Z"
   },
   {
    "duration": 73,
    "start_time": "2021-11-28T15:13:04.606Z"
   },
   {
    "duration": 11,
    "start_time": "2021-11-28T15:13:04.681Z"
   },
   {
    "duration": 15,
    "start_time": "2021-11-28T15:13:04.694Z"
   },
   {
    "duration": 21,
    "start_time": "2021-11-28T15:13:04.712Z"
   },
   {
    "duration": 19,
    "start_time": "2021-11-28T15:13:04.764Z"
   },
   {
    "duration": 42,
    "start_time": "2021-11-28T15:13:04.786Z"
   },
   {
    "duration": 33,
    "start_time": "2021-11-28T15:13:04.830Z"
   },
   {
    "duration": 6,
    "start_time": "2021-11-28T15:13:04.865Z"
   },
   {
    "duration": 9,
    "start_time": "2021-11-28T15:13:04.874Z"
   },
   {
    "duration": 8,
    "start_time": "2021-11-28T15:13:04.885Z"
   },
   {
    "duration": 23,
    "start_time": "2021-11-28T15:13:04.895Z"
   },
   {
    "duration": 3971,
    "start_time": "2021-11-28T15:13:04.920Z"
   },
   {
    "duration": 16,
    "start_time": "2021-11-28T15:13:08.894Z"
   },
   {
    "duration": 6,
    "start_time": "2021-11-28T15:13:08.911Z"
   },
   {
    "duration": 12,
    "start_time": "2021-11-28T15:13:08.918Z"
   },
   {
    "duration": 412,
    "start_time": "2021-11-28T15:13:08.932Z"
   },
   {
    "duration": 8,
    "start_time": "2021-11-28T15:13:09.346Z"
   },
   {
    "duration": 10,
    "start_time": "2021-11-28T15:13:09.363Z"
   },
   {
    "duration": 399,
    "start_time": "2021-11-28T15:13:09.375Z"
   },
   {
    "duration": 7,
    "start_time": "2021-11-28T15:13:09.776Z"
   },
   {
    "duration": 27,
    "start_time": "2021-11-28T15:13:09.785Z"
   },
   {
    "duration": 26,
    "start_time": "2021-11-28T15:13:09.813Z"
   },
   {
    "duration": 388,
    "start_time": "2021-11-28T15:13:09.841Z"
   },
   {
    "duration": 8,
    "start_time": "2021-11-28T15:13:10.230Z"
   },
   {
    "duration": 27,
    "start_time": "2021-11-28T15:13:10.239Z"
   },
   {
    "duration": 496,
    "start_time": "2021-11-28T15:13:10.268Z"
   },
   {
    "duration": 10,
    "start_time": "2021-11-28T15:13:10.767Z"
   },
   {
    "duration": 6,
    "start_time": "2021-11-28T15:13:10.780Z"
   },
   {
    "duration": 996,
    "start_time": "2021-11-29T06:26:18.151Z"
   },
   {
    "duration": 26,
    "start_time": "2021-11-29T06:26:19.150Z"
   },
   {
    "duration": 20,
    "start_time": "2021-11-29T06:26:19.179Z"
   },
   {
    "duration": 33,
    "start_time": "2021-11-29T06:26:19.202Z"
   },
   {
    "duration": 25,
    "start_time": "2021-11-29T06:26:19.268Z"
   },
   {
    "duration": 73,
    "start_time": "2021-11-29T06:26:19.296Z"
   },
   {
    "duration": 7,
    "start_time": "2021-11-29T06:26:19.371Z"
   },
   {
    "duration": 9,
    "start_time": "2021-11-29T06:26:19.381Z"
   },
   {
    "duration": 8,
    "start_time": "2021-11-29T06:26:19.393Z"
   },
   {
    "duration": 10,
    "start_time": "2021-11-29T06:26:19.404Z"
   },
   {
    "duration": 67,
    "start_time": "2021-11-29T06:26:19.416Z"
   },
   {
    "duration": 4629,
    "start_time": "2021-11-29T06:26:19.486Z"
   },
   {
    "duration": 23,
    "start_time": "2021-11-29T06:26:24.118Z"
   },
   {
    "duration": 6,
    "start_time": "2021-11-29T06:26:24.169Z"
   },
   {
    "duration": 11,
    "start_time": "2021-11-29T06:26:24.178Z"
   },
   {
    "duration": 657,
    "start_time": "2021-11-29T06:26:24.192Z"
   },
   {
    "duration": 21,
    "start_time": "2021-11-29T06:26:24.851Z"
   },
   {
    "duration": 15,
    "start_time": "2021-11-29T06:26:24.875Z"
   },
   {
    "duration": 701,
    "start_time": "2021-11-29T06:26:24.892Z"
   },
   {
    "duration": 9,
    "start_time": "2021-11-29T06:26:25.596Z"
   },
   {
    "duration": 8,
    "start_time": "2021-11-29T06:26:25.607Z"
   },
   {
    "duration": 15,
    "start_time": "2021-11-29T06:26:25.618Z"
   },
   {
    "duration": 662,
    "start_time": "2021-11-29T06:26:25.635Z"
   },
   {
    "duration": 9,
    "start_time": "2021-11-29T06:26:26.300Z"
   },
   {
    "duration": 13,
    "start_time": "2021-11-29T06:26:26.311Z"
   },
   {
    "duration": 685,
    "start_time": "2021-11-29T06:26:26.327Z"
   },
   {
    "duration": 9,
    "start_time": "2021-11-29T06:26:27.017Z"
   },
   {
    "duration": 11,
    "start_time": "2021-11-29T06:26:27.029Z"
   },
   {
    "duration": 303,
    "start_time": "2021-11-30T10:02:56.608Z"
   },
   {
    "duration": 674,
    "start_time": "2021-11-30T10:02:59.807Z"
   },
   {
    "duration": 10,
    "start_time": "2021-11-30T10:03:00.483Z"
   },
   {
    "duration": 56,
    "start_time": "2021-11-30T10:03:00.494Z"
   },
   {
    "duration": 1179,
    "start_time": "2021-11-30T10:03:00.551Z"
   },
   {
    "duration": -99,
    "start_time": "2021-11-30T10:03:01.833Z"
   },
   {
    "duration": -102,
    "start_time": "2021-11-30T10:03:01.837Z"
   },
   {
    "duration": -104,
    "start_time": "2021-11-30T10:03:01.841Z"
   },
   {
    "duration": -109,
    "start_time": "2021-11-30T10:03:01.847Z"
   },
   {
    "duration": -113,
    "start_time": "2021-11-30T10:03:01.852Z"
   },
   {
    "duration": -114,
    "start_time": "2021-11-30T10:03:01.855Z"
   },
   {
    "duration": -126,
    "start_time": "2021-11-30T10:03:01.868Z"
   },
   {
    "duration": -128,
    "start_time": "2021-11-30T10:03:01.872Z"
   },
   {
    "duration": -131,
    "start_time": "2021-11-30T10:03:01.876Z"
   },
   {
    "duration": -134,
    "start_time": "2021-11-30T10:03:01.880Z"
   },
   {
    "duration": -136,
    "start_time": "2021-11-30T10:03:01.884Z"
   },
   {
    "duration": -139,
    "start_time": "2021-11-30T10:03:01.888Z"
   },
   {
    "duration": -143,
    "start_time": "2021-11-30T10:03:01.893Z"
   },
   {
    "duration": -146,
    "start_time": "2021-11-30T10:03:01.898Z"
   },
   {
    "duration": -148,
    "start_time": "2021-11-30T10:03:01.901Z"
   },
   {
    "duration": -157,
    "start_time": "2021-11-30T10:03:01.912Z"
   },
   {
    "duration": -160,
    "start_time": "2021-11-30T10:03:01.916Z"
   },
   {
    "duration": -188,
    "start_time": "2021-11-30T10:03:01.946Z"
   },
   {
    "duration": -196,
    "start_time": "2021-11-30T10:03:01.955Z"
   },
   {
    "duration": -199,
    "start_time": "2021-11-30T10:03:01.959Z"
   },
   {
    "duration": -200,
    "start_time": "2021-11-30T10:03:01.962Z"
   },
   {
    "duration": -203,
    "start_time": "2021-11-30T10:03:01.966Z"
   },
   {
    "duration": -205,
    "start_time": "2021-11-30T10:03:01.969Z"
   },
   {
    "duration": -206,
    "start_time": "2021-11-30T10:03:01.972Z"
   },
   {
    "duration": 42,
    "start_time": "2021-11-30T10:03:25.088Z"
   },
   {
    "duration": 25,
    "start_time": "2021-11-30T10:04:00.409Z"
   },
   {
    "duration": 63,
    "start_time": "2021-11-30T10:04:03.621Z"
   },
   {
    "duration": 9,
    "start_time": "2021-11-30T10:04:03.686Z"
   },
   {
    "duration": 50,
    "start_time": "2021-11-30T10:04:03.697Z"
   },
   {
    "duration": 18,
    "start_time": "2021-11-30T10:04:03.749Z"
   },
   {
    "duration": 14,
    "start_time": "2021-11-30T10:04:03.768Z"
   },
   {
    "duration": 29,
    "start_time": "2021-11-30T10:04:03.783Z"
   },
   {
    "duration": 4,
    "start_time": "2021-11-30T10:04:03.814Z"
   },
   {
    "duration": 4,
    "start_time": "2021-11-30T10:04:03.845Z"
   },
   {
    "duration": 11,
    "start_time": "2021-11-30T10:04:03.851Z"
   },
   {
    "duration": 6,
    "start_time": "2021-11-30T10:04:03.864Z"
   },
   {
    "duration": 16,
    "start_time": "2021-11-30T10:04:03.872Z"
   },
   {
    "duration": 3355,
    "start_time": "2021-11-30T10:04:03.890Z"
   },
   {
    "duration": 13,
    "start_time": "2021-11-30T10:04:07.247Z"
   },
   {
    "duration": 42,
    "start_time": "2021-11-30T10:04:07.261Z"
   },
   {
    "duration": 33,
    "start_time": "2021-11-30T10:04:07.304Z"
   },
   {
    "duration": 370,
    "start_time": "2021-11-30T10:04:07.339Z"
   },
   {
    "duration": 7,
    "start_time": "2021-11-30T10:04:07.711Z"
   },
   {
    "duration": 26,
    "start_time": "2021-11-30T10:04:07.719Z"
   },
   {
    "duration": 375,
    "start_time": "2021-11-30T10:04:07.746Z"
   },
   {
    "duration": 7,
    "start_time": "2021-11-30T10:04:08.122Z"
   },
   {
    "duration": 17,
    "start_time": "2021-11-30T10:04:08.130Z"
   },
   {
    "duration": 9,
    "start_time": "2021-11-30T10:04:08.149Z"
   },
   {
    "duration": 362,
    "start_time": "2021-11-30T10:04:08.161Z"
   },
   {
    "duration": 7,
    "start_time": "2021-11-30T10:04:08.524Z"
   },
   {
    "duration": 9,
    "start_time": "2021-11-30T10:04:08.545Z"
   },
   {
    "duration": 367,
    "start_time": "2021-11-30T10:04:08.555Z"
   },
   {
    "duration": 6,
    "start_time": "2021-11-30T10:04:08.924Z"
   },
   {
    "duration": 27,
    "start_time": "2021-11-30T10:04:08.931Z"
   },
   {
    "duration": 12,
    "start_time": "2021-11-30T10:15:24.657Z"
   },
   {
    "duration": 9,
    "start_time": "2021-11-30T10:15:32.539Z"
   },
   {
    "duration": 11,
    "start_time": "2021-11-30T10:15:37.650Z"
   },
   {
    "duration": 7,
    "start_time": "2021-11-30T10:22:23.920Z"
   },
   {
    "duration": 7,
    "start_time": "2021-11-30T10:22:25.934Z"
   },
   {
    "duration": 11,
    "start_time": "2021-11-30T10:30:34.627Z"
   },
   {
    "duration": 8,
    "start_time": "2021-11-30T10:30:49.794Z"
   },
   {
    "duration": 11,
    "start_time": "2021-11-30T10:41:02.833Z"
   },
   {
    "duration": 16,
    "start_time": "2021-11-30T10:41:30.474Z"
   },
   {
    "duration": 18,
    "start_time": "2021-11-30T10:50:09.613Z"
   },
   {
    "duration": 19,
    "start_time": "2021-11-30T10:50:15.024Z"
   },
   {
    "duration": 19,
    "start_time": "2021-11-30T10:51:26.020Z"
   },
   {
    "duration": 379,
    "start_time": "2021-11-30T11:03:19.790Z"
   },
   {
    "duration": 8,
    "start_time": "2021-11-30T11:03:26.492Z"
   },
   {
    "duration": 9,
    "start_time": "2021-11-30T11:04:23.128Z"
   },
   {
    "duration": 7,
    "start_time": "2021-11-30T11:04:52.307Z"
   },
   {
    "duration": 302,
    "start_time": "2021-11-30T11:07:19.857Z"
   },
   {
    "duration": 5,
    "start_time": "2021-11-30T11:07:25.945Z"
   },
   {
    "duration": 5,
    "start_time": "2021-11-30T11:21:10.329Z"
   },
   {
    "duration": 5,
    "start_time": "2021-11-30T11:22:33.348Z"
   },
   {
    "duration": 5,
    "start_time": "2021-11-30T11:22:46.368Z"
   },
   {
    "duration": 4,
    "start_time": "2021-11-30T11:24:32.550Z"
   },
   {
    "duration": 5,
    "start_time": "2021-11-30T11:28:04.404Z"
   },
   {
    "duration": 590,
    "start_time": "2021-11-30T11:39:04.604Z"
   },
   {
    "duration": 620,
    "start_time": "2021-11-30T11:42:36.516Z"
   },
   {
    "duration": 8,
    "start_time": "2021-11-30T11:43:12.305Z"
   },
   {
    "duration": 10,
    "start_time": "2021-11-30T11:57:48.873Z"
   },
   {
    "duration": 11,
    "start_time": "2021-11-30T11:58:54.071Z"
   },
   {
    "duration": 25,
    "start_time": "2021-11-30T12:36:09.974Z"
   },
   {
    "duration": 24,
    "start_time": "2021-11-30T12:36:17.950Z"
   },
   {
    "duration": 24,
    "start_time": "2021-11-30T12:36:35.615Z"
   },
   {
    "duration": 7,
    "start_time": "2021-11-30T12:39:24.102Z"
   },
   {
    "duration": 30,
    "start_time": "2021-11-30T13:02:37.980Z"
   },
   {
    "duration": 34,
    "start_time": "2021-11-30T13:03:15.357Z"
   },
   {
    "duration": 29,
    "start_time": "2021-11-30T13:03:35.725Z"
   },
   {
    "duration": 43,
    "start_time": "2021-11-30T13:08:24.346Z"
   },
   {
    "duration": 316,
    "start_time": "2021-11-30T13:16:31.173Z"
   },
   {
    "duration": 33,
    "start_time": "2021-11-30T13:16:51.418Z"
   },
   {
    "duration": 20,
    "start_time": "2021-11-30T13:43:24.112Z"
   },
   {
    "duration": 532,
    "start_time": "2021-12-01T05:37:11.427Z"
   },
   {
    "duration": 1234,
    "start_time": "2021-12-01T05:37:17.114Z"
   },
   {
    "duration": 11,
    "start_time": "2021-12-01T05:37:18.349Z"
   },
   {
    "duration": 377,
    "start_time": "2021-12-01T05:37:20.832Z"
   },
   {
    "duration": 18,
    "start_time": "2021-12-01T05:37:43.961Z"
   },
   {
    "duration": 69,
    "start_time": "2021-12-01T05:38:01.073Z"
   },
   {
    "duration": 12,
    "start_time": "2021-12-01T05:38:01.144Z"
   },
   {
    "duration": 33,
    "start_time": "2021-12-01T05:38:01.158Z"
   },
   {
    "duration": 28,
    "start_time": "2021-12-01T05:38:01.193Z"
   },
   {
    "duration": 17,
    "start_time": "2021-12-01T05:38:01.223Z"
   },
   {
    "duration": 43,
    "start_time": "2021-12-01T05:38:01.242Z"
   },
   {
    "duration": 22,
    "start_time": "2021-12-01T05:38:01.287Z"
   },
   {
    "duration": 31,
    "start_time": "2021-12-01T05:38:01.311Z"
   },
   {
    "duration": 18,
    "start_time": "2021-12-01T05:38:01.344Z"
   },
   {
    "duration": 42,
    "start_time": "2021-12-01T05:38:01.364Z"
   },
   {
    "duration": 35,
    "start_time": "2021-12-01T05:38:01.408Z"
   },
   {
    "duration": 3704,
    "start_time": "2021-12-01T05:38:01.445Z"
   },
   {
    "duration": 16,
    "start_time": "2021-12-01T05:38:05.151Z"
   },
   {
    "duration": 9,
    "start_time": "2021-12-01T05:38:05.169Z"
   },
   {
    "duration": 28,
    "start_time": "2021-12-01T05:38:05.179Z"
   },
   {
    "duration": 379,
    "start_time": "2021-12-01T05:38:05.209Z"
   },
   {
    "duration": 7,
    "start_time": "2021-12-01T05:38:05.590Z"
   },
   {
    "duration": 17,
    "start_time": "2021-12-01T05:38:05.598Z"
   },
   {
    "duration": 407,
    "start_time": "2021-12-01T05:38:05.617Z"
   },
   {
    "duration": 8,
    "start_time": "2021-12-01T05:38:06.027Z"
   },
   {
    "duration": 10,
    "start_time": "2021-12-01T05:38:06.036Z"
   },
   {
    "duration": 15,
    "start_time": "2021-12-01T05:38:06.048Z"
   },
   {
    "duration": 465,
    "start_time": "2021-12-01T05:38:06.067Z"
   },
   {
    "duration": 24,
    "start_time": "2021-12-01T05:38:06.534Z"
   },
   {
    "duration": 11,
    "start_time": "2021-12-01T05:38:06.560Z"
   },
   {
    "duration": 407,
    "start_time": "2021-12-01T05:38:06.572Z"
   },
   {
    "duration": 24,
    "start_time": "2021-12-01T05:38:06.982Z"
   },
   {
    "duration": 6,
    "start_time": "2021-12-01T05:38:07.008Z"
   },
   {
    "duration": 40,
    "start_time": "2021-12-01T05:38:07.016Z"
   },
   {
    "duration": 377,
    "start_time": "2021-12-01T12:53:03.577Z"
   },
   {
    "duration": 716,
    "start_time": "2021-12-01T12:53:06.324Z"
   },
   {
    "duration": 10,
    "start_time": "2021-12-01T12:53:07.042Z"
   },
   {
    "duration": 21,
    "start_time": "2021-12-01T12:53:07.055Z"
   },
   {
    "duration": 20,
    "start_time": "2021-12-01T12:53:07.077Z"
   },
   {
    "duration": 17,
    "start_time": "2021-12-01T12:53:07.098Z"
   },
   {
    "duration": 68,
    "start_time": "2021-12-01T12:53:07.117Z"
   },
   {
    "duration": 5,
    "start_time": "2021-12-01T12:53:07.188Z"
   },
   {
    "duration": 7,
    "start_time": "2021-12-01T12:53:07.195Z"
   },
   {
    "duration": 5,
    "start_time": "2021-12-01T12:53:07.205Z"
   },
   {
    "duration": 8,
    "start_time": "2021-12-01T12:53:07.211Z"
   },
   {
    "duration": 49,
    "start_time": "2021-12-01T12:53:07.221Z"
   },
   {
    "duration": 4448,
    "start_time": "2021-12-01T12:53:07.272Z"
   },
   {
    "duration": 14,
    "start_time": "2021-12-01T12:53:11.722Z"
   },
   {
    "duration": 25,
    "start_time": "2021-12-01T12:53:11.738Z"
   },
   {
    "duration": 9,
    "start_time": "2021-12-01T12:53:11.765Z"
   },
   {
    "duration": 461,
    "start_time": "2021-12-01T12:53:11.776Z"
   },
   {
    "duration": -114,
    "start_time": "2021-12-01T12:53:12.353Z"
   },
   {
    "duration": -128,
    "start_time": "2021-12-01T12:53:12.368Z"
   },
   {
    "duration": -132,
    "start_time": "2021-12-01T12:53:12.373Z"
   },
   {
    "duration": -141,
    "start_time": "2021-12-01T12:53:12.384Z"
   },
   {
    "duration": -153,
    "start_time": "2021-12-01T12:53:12.397Z"
   },
   {
    "duration": -162,
    "start_time": "2021-12-01T12:53:12.407Z"
   },
   {
    "duration": -168,
    "start_time": "2021-12-01T12:53:12.414Z"
   },
   {
    "duration": -178,
    "start_time": "2021-12-01T12:53:12.425Z"
   },
   {
    "duration": -181,
    "start_time": "2021-12-01T12:53:12.429Z"
   },
   {
    "duration": -191,
    "start_time": "2021-12-01T12:53:12.440Z"
   },
   {
    "duration": -197,
    "start_time": "2021-12-01T12:53:12.447Z"
   },
   {
    "duration": -210,
    "start_time": "2021-12-01T12:53:12.461Z"
   },
   {
    "duration": -214,
    "start_time": "2021-12-01T12:53:12.466Z"
   },
   {
    "duration": 5,
    "start_time": "2021-12-01T12:53:24.916Z"
   },
   {
    "duration": 69,
    "start_time": "2021-12-01T12:53:47.667Z"
   },
   {
    "duration": 26,
    "start_time": "2021-12-01T12:53:47.738Z"
   },
   {
    "duration": 18,
    "start_time": "2021-12-01T12:53:47.766Z"
   },
   {
    "duration": 19,
    "start_time": "2021-12-01T12:53:47.785Z"
   },
   {
    "duration": 15,
    "start_time": "2021-12-01T12:53:47.806Z"
   },
   {
    "duration": 70,
    "start_time": "2021-12-01T12:53:47.823Z"
   },
   {
    "duration": 5,
    "start_time": "2021-12-01T12:53:47.895Z"
   },
   {
    "duration": 12,
    "start_time": "2021-12-01T12:53:47.901Z"
   },
   {
    "duration": 6,
    "start_time": "2021-12-01T12:53:47.916Z"
   },
   {
    "duration": 28,
    "start_time": "2021-12-01T12:53:47.924Z"
   },
   {
    "duration": 16,
    "start_time": "2021-12-01T12:53:47.964Z"
   },
   {
    "duration": 4181,
    "start_time": "2021-12-01T12:53:47.982Z"
   },
   {
    "duration": 23,
    "start_time": "2021-12-01T12:53:52.166Z"
   },
   {
    "duration": 15,
    "start_time": "2021-12-01T12:53:52.191Z"
   },
   {
    "duration": 29,
    "start_time": "2021-12-01T12:53:52.208Z"
   },
   {
    "duration": 503,
    "start_time": "2021-12-01T12:53:52.239Z"
   },
   {
    "duration": -377,
    "start_time": "2021-12-01T12:53:53.121Z"
   },
   {
    "duration": -381,
    "start_time": "2021-12-01T12:53:53.126Z"
   },
   {
    "duration": -434,
    "start_time": "2021-12-01T12:53:53.180Z"
   },
   {
    "duration": -445,
    "start_time": "2021-12-01T12:53:53.192Z"
   },
   {
    "duration": -449,
    "start_time": "2021-12-01T12:53:53.197Z"
   },
   {
    "duration": -499,
    "start_time": "2021-12-01T12:53:53.248Z"
   },
   {
    "duration": -507,
    "start_time": "2021-12-01T12:53:53.257Z"
   },
   {
    "duration": -511,
    "start_time": "2021-12-01T12:53:53.262Z"
   },
   {
    "duration": -514,
    "start_time": "2021-12-01T12:53:53.266Z"
   },
   {
    "duration": -518,
    "start_time": "2021-12-01T12:53:53.271Z"
   },
   {
    "duration": -520,
    "start_time": "2021-12-01T12:53:53.275Z"
   },
   {
    "duration": -564,
    "start_time": "2021-12-01T12:53:53.320Z"
   },
   {
    "duration": -566,
    "start_time": "2021-12-01T12:53:53.323Z"
   },
   {
    "duration": 6,
    "start_time": "2021-12-01T12:59:22.704Z"
   },
   {
    "duration": 392,
    "start_time": "2021-12-01T13:01:59.119Z"
   },
   {
    "duration": 31,
    "start_time": "2021-12-01T13:02:04.173Z"
   },
   {
    "duration": 13,
    "start_time": "2021-12-01T13:04:42.757Z"
   },
   {
    "duration": 13,
    "start_time": "2021-12-01T13:04:52.221Z"
   },
   {
    "duration": 69,
    "start_time": "2021-12-01T13:06:20.769Z"
   },
   {
    "duration": 29,
    "start_time": "2021-12-01T13:06:20.840Z"
   },
   {
    "duration": 23,
    "start_time": "2021-12-01T13:06:20.872Z"
   },
   {
    "duration": 27,
    "start_time": "2021-12-01T13:06:20.898Z"
   },
   {
    "duration": 46,
    "start_time": "2021-12-01T13:06:20.928Z"
   },
   {
    "duration": 35,
    "start_time": "2021-12-01T13:06:20.976Z"
   },
   {
    "duration": 6,
    "start_time": "2021-12-01T13:06:21.014Z"
   },
   {
    "duration": 6,
    "start_time": "2021-12-01T13:06:21.023Z"
   },
   {
    "duration": 33,
    "start_time": "2021-12-01T13:06:21.032Z"
   },
   {
    "duration": 17,
    "start_time": "2021-12-01T13:06:21.068Z"
   },
   {
    "duration": 22,
    "start_time": "2021-12-01T13:06:21.087Z"
   },
   {
    "duration": 4419,
    "start_time": "2021-12-01T13:06:21.111Z"
   },
   {
    "duration": 21,
    "start_time": "2021-12-01T13:06:25.533Z"
   },
   {
    "duration": 10,
    "start_time": "2021-12-01T13:06:25.564Z"
   },
   {
    "duration": 11,
    "start_time": "2021-12-01T13:06:25.576Z"
   },
   {
    "duration": 517,
    "start_time": "2021-12-01T13:06:25.589Z"
   },
   {
    "duration": -1048,
    "start_time": "2021-12-01T13:06:27.156Z"
   },
   {
    "duration": -1054,
    "start_time": "2021-12-01T13:06:27.163Z"
   },
   {
    "duration": -1056,
    "start_time": "2021-12-01T13:06:27.166Z"
   },
   {
    "duration": -1059,
    "start_time": "2021-12-01T13:06:27.170Z"
   },
   {
    "duration": -1062,
    "start_time": "2021-12-01T13:06:27.174Z"
   },
   {
    "duration": -1088,
    "start_time": "2021-12-01T13:06:27.201Z"
   },
   {
    "duration": -1091,
    "start_time": "2021-12-01T13:06:27.205Z"
   },
   {
    "duration": -1092,
    "start_time": "2021-12-01T13:06:27.207Z"
   },
   {
    "duration": -1096,
    "start_time": "2021-12-01T13:06:27.212Z"
   },
   {
    "duration": -1101,
    "start_time": "2021-12-01T13:06:27.218Z"
   },
   {
    "duration": -1103,
    "start_time": "2021-12-01T13:06:27.221Z"
   },
   {
    "duration": -1105,
    "start_time": "2021-12-01T13:06:27.224Z"
   },
   {
    "duration": -1114,
    "start_time": "2021-12-01T13:06:27.234Z"
   },
   {
    "duration": 369,
    "start_time": "2021-12-01T13:06:45.346Z"
   },
   {
    "duration": 38,
    "start_time": "2021-12-01T13:06:48.426Z"
   },
   {
    "duration": 11,
    "start_time": "2021-12-01T13:06:51.139Z"
   },
   {
    "duration": 31,
    "start_time": "2021-12-01T13:11:04.808Z"
   },
   {
    "duration": -55,
    "start_time": "2021-12-01T13:12:05.753Z"
   },
   {
    "duration": -62,
    "start_time": "2021-12-01T13:12:14.507Z"
   },
   {
    "duration": -65,
    "start_time": "2021-12-01T13:12:14.512Z"
   },
   {
    "duration": -70,
    "start_time": "2021-12-01T13:12:14.518Z"
   },
   {
    "duration": -73,
    "start_time": "2021-12-01T13:12:14.523Z"
   },
   {
    "duration": -77,
    "start_time": "2021-12-01T13:12:14.528Z"
   },
   {
    "duration": -81,
    "start_time": "2021-12-01T13:12:14.534Z"
   },
   {
    "duration": -86,
    "start_time": "2021-12-01T13:12:14.540Z"
   },
   {
    "duration": -100,
    "start_time": "2021-12-01T13:12:14.555Z"
   },
   {
    "duration": -111,
    "start_time": "2021-12-01T13:12:14.568Z"
   },
   {
    "duration": -123,
    "start_time": "2021-12-01T13:12:14.581Z"
   },
   {
    "duration": -130,
    "start_time": "2021-12-01T13:12:14.590Z"
   },
   {
    "duration": -135,
    "start_time": "2021-12-01T13:12:14.596Z"
   },
   {
    "duration": -148,
    "start_time": "2021-12-01T13:12:14.610Z"
   },
   {
    "duration": -150,
    "start_time": "2021-12-01T13:12:14.614Z"
   },
   {
    "duration": -153,
    "start_time": "2021-12-01T13:12:14.618Z"
   },
   {
    "duration": -158,
    "start_time": "2021-12-01T13:12:14.625Z"
   },
   {
    "duration": -176,
    "start_time": "2021-12-01T13:12:14.644Z"
   },
   {
    "duration": -181,
    "start_time": "2021-12-01T13:12:14.650Z"
   },
   {
    "duration": -190,
    "start_time": "2021-12-01T13:12:14.661Z"
   },
   {
    "duration": -194,
    "start_time": "2021-12-01T13:12:14.666Z"
   },
   {
    "duration": -212,
    "start_time": "2021-12-01T13:12:14.685Z"
   },
   {
    "duration": -224,
    "start_time": "2021-12-01T13:12:14.698Z"
   },
   {
    "duration": -239,
    "start_time": "2021-12-01T13:12:14.714Z"
   },
   {
    "duration": -249,
    "start_time": "2021-12-01T13:12:14.725Z"
   },
   {
    "duration": -250,
    "start_time": "2021-12-01T13:12:14.728Z"
   },
   {
    "duration": -262,
    "start_time": "2021-12-01T13:12:14.741Z"
   },
   {
    "duration": -264,
    "start_time": "2021-12-01T13:12:14.744Z"
   },
   {
    "duration": -266,
    "start_time": "2021-12-01T13:12:14.748Z"
   },
   {
    "duration": 67,
    "start_time": "2021-12-01T13:14:27.192Z"
   },
   {
    "duration": 10,
    "start_time": "2021-12-01T13:14:27.261Z"
   },
   {
    "duration": 32,
    "start_time": "2021-12-01T13:14:27.274Z"
   },
   {
    "duration": 30,
    "start_time": "2021-12-01T13:14:27.309Z"
   },
   {
    "duration": 33,
    "start_time": "2021-12-01T13:14:27.341Z"
   },
   {
    "duration": 32,
    "start_time": "2021-12-01T13:14:27.376Z"
   },
   {
    "duration": 5,
    "start_time": "2021-12-01T13:14:27.410Z"
   },
   {
    "duration": 11,
    "start_time": "2021-12-01T13:14:27.417Z"
   },
   {
    "duration": 5,
    "start_time": "2021-12-01T13:14:27.431Z"
   },
   {
    "duration": 6,
    "start_time": "2021-12-01T13:14:27.463Z"
   },
   {
    "duration": 19,
    "start_time": "2021-12-01T13:14:27.471Z"
   },
   {
    "duration": 4160,
    "start_time": "2021-12-01T13:14:27.492Z"
   },
   {
    "duration": 16,
    "start_time": "2021-12-01T13:14:31.663Z"
   },
   {
    "duration": 26,
    "start_time": "2021-12-01T13:14:31.681Z"
   },
   {
    "duration": 32,
    "start_time": "2021-12-01T13:14:31.709Z"
   },
   {
    "duration": 434,
    "start_time": "2021-12-01T13:14:31.743Z"
   },
   {
    "duration": -52,
    "start_time": "2021-12-01T13:14:32.231Z"
   },
   {
    "duration": -62,
    "start_time": "2021-12-01T13:14:32.243Z"
   },
   {
    "duration": -63,
    "start_time": "2021-12-01T13:14:32.246Z"
   },
   {
    "duration": -67,
    "start_time": "2021-12-01T13:14:32.251Z"
   },
   {
    "duration": -69,
    "start_time": "2021-12-01T13:14:32.255Z"
   },
   {
    "duration": -71,
    "start_time": "2021-12-01T13:14:32.258Z"
   },
   {
    "duration": -73,
    "start_time": "2021-12-01T13:14:32.261Z"
   },
   {
    "duration": -74,
    "start_time": "2021-12-01T13:14:32.264Z"
   },
   {
    "duration": -75,
    "start_time": "2021-12-01T13:14:32.266Z"
   },
   {
    "duration": -77,
    "start_time": "2021-12-01T13:14:32.269Z"
   },
   {
    "duration": -78,
    "start_time": "2021-12-01T13:14:32.271Z"
   },
   {
    "duration": -79,
    "start_time": "2021-12-01T13:14:32.274Z"
   },
   {
    "duration": 595,
    "start_time": "2021-12-01T13:15:36.081Z"
   },
   {
    "duration": 99,
    "start_time": "2021-12-01T13:15:43.380Z"
   },
   {
    "duration": 17,
    "start_time": "2021-12-01T13:15:43.481Z"
   },
   {
    "duration": 25,
    "start_time": "2021-12-01T13:15:43.501Z"
   },
   {
    "duration": 51,
    "start_time": "2021-12-01T13:15:43.528Z"
   },
   {
    "duration": 19,
    "start_time": "2021-12-01T13:15:43.581Z"
   },
   {
    "duration": 69,
    "start_time": "2021-12-01T13:15:43.603Z"
   },
   {
    "duration": 6,
    "start_time": "2021-12-01T13:15:43.674Z"
   },
   {
    "duration": 8,
    "start_time": "2021-12-01T13:15:43.683Z"
   },
   {
    "duration": 18,
    "start_time": "2021-12-01T13:15:43.693Z"
   },
   {
    "duration": 7,
    "start_time": "2021-12-01T13:15:43.713Z"
   },
   {
    "duration": 41,
    "start_time": "2021-12-01T13:15:43.722Z"
   },
   {
    "duration": 3963,
    "start_time": "2021-12-01T13:15:43.765Z"
   },
   {
    "duration": 34,
    "start_time": "2021-12-01T13:15:47.730Z"
   },
   {
    "duration": 5,
    "start_time": "2021-12-01T13:15:47.767Z"
   },
   {
    "duration": 21,
    "start_time": "2021-12-01T13:15:47.773Z"
   },
   {
    "duration": 609,
    "start_time": "2021-12-01T13:15:47.796Z"
   },
   {
    "duration": 18,
    "start_time": "2021-12-01T13:15:48.407Z"
   },
   {
    "duration": 41,
    "start_time": "2021-12-01T13:15:48.427Z"
   },
   {
    "duration": 703,
    "start_time": "2021-12-01T13:15:48.470Z"
   },
   {
    "duration": 10,
    "start_time": "2021-12-01T13:15:49.176Z"
   },
   {
    "duration": 15,
    "start_time": "2021-12-01T13:15:49.188Z"
   },
   {
    "duration": 16,
    "start_time": "2021-12-01T13:15:49.205Z"
   },
   {
    "duration": 628,
    "start_time": "2021-12-01T13:15:49.225Z"
   },
   {
    "duration": 27,
    "start_time": "2021-12-01T13:15:49.856Z"
   },
   {
    "duration": 10,
    "start_time": "2021-12-01T13:15:49.885Z"
   },
   {
    "duration": 410,
    "start_time": "2021-12-01T13:15:49.897Z"
   },
   {
    "duration": 8,
    "start_time": "2021-12-01T13:15:50.309Z"
   },
   {
    "duration": 8,
    "start_time": "2021-12-01T13:15:50.319Z"
   },
   {
    "duration": 27,
    "start_time": "2021-12-01T13:18:36.485Z"
   },
   {
    "duration": 22,
    "start_time": "2021-12-01T13:18:53.821Z"
   },
   {
    "duration": 23,
    "start_time": "2021-12-01T13:24:06.044Z"
   },
   {
    "duration": 25,
    "start_time": "2021-12-01T13:28:20.569Z"
   },
   {
    "duration": 8,
    "start_time": "2021-12-01T13:29:35.072Z"
   },
   {
    "duration": 256,
    "start_time": "2021-12-01T13:41:41.197Z"
   },
   {
    "duration": 74,
    "start_time": "2021-12-01T13:42:13.922Z"
   },
   {
    "duration": 12,
    "start_time": "2021-12-01T13:42:13.998Z"
   },
   {
    "duration": 19,
    "start_time": "2021-12-01T13:42:14.012Z"
   },
   {
    "duration": 56,
    "start_time": "2021-12-01T13:42:14.034Z"
   },
   {
    "duration": 24,
    "start_time": "2021-12-01T13:42:14.092Z"
   },
   {
    "duration": 64,
    "start_time": "2021-12-01T13:42:14.118Z"
   },
   {
    "duration": 7,
    "start_time": "2021-12-01T13:42:14.184Z"
   },
   {
    "duration": 7,
    "start_time": "2021-12-01T13:42:14.195Z"
   },
   {
    "duration": 5,
    "start_time": "2021-12-01T13:42:14.205Z"
   },
   {
    "duration": 8,
    "start_time": "2021-12-01T13:42:14.212Z"
   },
   {
    "duration": 55,
    "start_time": "2021-12-01T13:42:14.222Z"
   },
   {
    "duration": 4166,
    "start_time": "2021-12-01T13:42:14.279Z"
   },
   {
    "duration": 24,
    "start_time": "2021-12-01T13:42:18.448Z"
   },
   {
    "duration": 12,
    "start_time": "2021-12-01T13:42:18.474Z"
   },
   {
    "duration": 10,
    "start_time": "2021-12-01T13:42:18.488Z"
   },
   {
    "duration": 402,
    "start_time": "2021-12-01T13:42:18.500Z"
   },
   {
    "duration": 262,
    "start_time": "2021-12-01T13:42:18.905Z"
   },
   {
    "duration": 8,
    "start_time": "2021-12-01T13:42:19.170Z"
   },
   {
    "duration": 29,
    "start_time": "2021-12-01T13:42:19.181Z"
   },
   {
    "duration": 614,
    "start_time": "2021-12-01T13:42:19.213Z"
   },
   {
    "duration": 50,
    "start_time": "2021-12-01T13:42:19.829Z"
   },
   {
    "duration": 11,
    "start_time": "2021-12-01T13:42:19.881Z"
   },
   {
    "duration": 6,
    "start_time": "2021-12-01T13:42:19.896Z"
   },
   {
    "duration": 9,
    "start_time": "2021-12-01T13:42:19.904Z"
   },
   {
    "duration": 418,
    "start_time": "2021-12-01T13:42:19.916Z"
   },
   {
    "duration": 8,
    "start_time": "2021-12-01T13:42:20.336Z"
   },
   {
    "duration": 25,
    "start_time": "2021-12-01T13:42:20.346Z"
   },
   {
    "duration": 407,
    "start_time": "2021-12-01T13:42:20.373Z"
   },
   {
    "duration": 27,
    "start_time": "2021-12-01T13:42:20.783Z"
   },
   {
    "duration": 11,
    "start_time": "2021-12-01T13:42:20.812Z"
   },
   {
    "duration": 19,
    "start_time": "2021-12-01T13:42:20.825Z"
   },
   {
    "duration": 376,
    "start_time": "2021-12-01T13:45:07.281Z"
   },
   {
    "duration": 598,
    "start_time": "2021-12-01T13:47:02.450Z"
   },
   {
    "duration": 368,
    "start_time": "2021-12-01T13:48:20.179Z"
   },
   {
    "duration": 1059,
    "start_time": "2021-12-02T11:10:07.847Z"
   },
   {
    "duration": 33,
    "start_time": "2021-12-02T11:10:08.910Z"
   },
   {
    "duration": 42,
    "start_time": "2021-12-02T11:10:08.949Z"
   },
   {
    "duration": 63,
    "start_time": "2021-12-02T11:10:08.994Z"
   },
   {
    "duration": 25,
    "start_time": "2021-12-02T11:10:09.060Z"
   },
   {
    "duration": 77,
    "start_time": "2021-12-02T11:10:09.087Z"
   },
   {
    "duration": 7,
    "start_time": "2021-12-02T11:10:09.167Z"
   },
   {
    "duration": 8,
    "start_time": "2021-12-02T11:10:09.178Z"
   },
   {
    "duration": 42,
    "start_time": "2021-12-02T11:10:09.189Z"
   },
   {
    "duration": 8,
    "start_time": "2021-12-02T11:10:09.233Z"
   },
   {
    "duration": 22,
    "start_time": "2021-12-02T11:10:09.244Z"
   },
   {
    "duration": 4902,
    "start_time": "2021-12-02T11:10:09.269Z"
   },
   {
    "duration": 22,
    "start_time": "2021-12-02T11:10:14.174Z"
   },
   {
    "duration": 33,
    "start_time": "2021-12-02T11:10:14.199Z"
   },
   {
    "duration": 12,
    "start_time": "2021-12-02T11:10:14.235Z"
   },
   {
    "duration": 1709,
    "start_time": "2021-12-02T11:10:14.250Z"
   },
   {
    "duration": -108,
    "start_time": "2021-12-02T11:10:16.070Z"
   },
   {
    "duration": -110,
    "start_time": "2021-12-02T11:10:16.074Z"
   },
   {
    "duration": -112,
    "start_time": "2021-12-02T11:10:16.078Z"
   },
   {
    "duration": -124,
    "start_time": "2021-12-02T11:10:16.092Z"
   },
   {
    "duration": -130,
    "start_time": "2021-12-02T11:10:16.099Z"
   },
   {
    "duration": -130,
    "start_time": "2021-12-02T11:10:16.101Z"
   },
   {
    "duration": -133,
    "start_time": "2021-12-02T11:10:16.105Z"
   },
   {
    "duration": -134,
    "start_time": "2021-12-02T11:10:16.108Z"
   },
   {
    "duration": -138,
    "start_time": "2021-12-02T11:10:16.114Z"
   },
   {
    "duration": 1068,
    "start_time": "2021-12-02T11:11:09.643Z"
   },
   {
    "duration": 675,
    "start_time": "2021-12-02T11:11:20.361Z"
   },
   {
    "duration": 7,
    "start_time": "2021-12-02T11:12:12.465Z"
   },
   {
    "duration": 24,
    "start_time": "2021-12-02T11:12:46.160Z"
   },
   {
    "duration": 2042,
    "start_time": "2021-12-02T11:14:06.895Z"
   },
   {
    "duration": 7,
    "start_time": "2021-12-02T11:14:26.127Z"
   },
   {
    "duration": 980,
    "start_time": "2021-12-02T11:32:26.113Z"
   },
   {
    "duration": 729,
    "start_time": "2021-12-02T11:32:41.385Z"
   },
   {
    "duration": 95,
    "start_time": "2021-12-02T11:32:51.905Z"
   },
   {
    "duration": 33,
    "start_time": "2021-12-02T11:32:52.003Z"
   },
   {
    "duration": 42,
    "start_time": "2021-12-02T11:32:52.042Z"
   },
   {
    "duration": 76,
    "start_time": "2021-12-02T11:32:52.087Z"
   },
   {
    "duration": 43,
    "start_time": "2021-12-02T11:32:52.166Z"
   },
   {
    "duration": 115,
    "start_time": "2021-12-02T11:32:52.231Z"
   },
   {
    "duration": 8,
    "start_time": "2021-12-02T11:32:52.348Z"
   },
   {
    "duration": 8,
    "start_time": "2021-12-02T11:32:52.361Z"
   },
   {
    "duration": 13,
    "start_time": "2021-12-02T11:32:52.373Z"
   },
   {
    "duration": 11,
    "start_time": "2021-12-02T11:32:52.430Z"
   },
   {
    "duration": 34,
    "start_time": "2021-12-02T11:32:52.462Z"
   },
   {
    "duration": 5776,
    "start_time": "2021-12-02T11:32:52.499Z"
   },
   {
    "duration": 63,
    "start_time": "2021-12-02T11:32:58.280Z"
   },
   {
    "duration": 6,
    "start_time": "2021-12-02T11:32:58.345Z"
   },
   {
    "duration": 15,
    "start_time": "2021-12-02T11:32:58.354Z"
   },
   {
    "duration": 1386,
    "start_time": "2021-12-02T11:32:58.372Z"
   },
   {
    "duration": 12,
    "start_time": "2021-12-02T11:32:59.761Z"
   },
   {
    "duration": 912,
    "start_time": "2021-12-02T11:32:59.776Z"
   },
   {
    "duration": 13,
    "start_time": "2021-12-02T11:33:00.691Z"
   },
   {
    "duration": 50,
    "start_time": "2021-12-02T11:33:00.708Z"
   },
   {
    "duration": 821,
    "start_time": "2021-12-02T11:33:00.761Z"
   },
   {
    "duration": 48,
    "start_time": "2021-12-02T11:33:01.585Z"
   },
   {
    "duration": 741,
    "start_time": "2021-12-02T11:33:01.638Z"
   },
   {
    "duration": 7,
    "start_time": "2021-12-02T11:33:02.381Z"
   },
   {
    "duration": 618,
    "start_time": "2021-12-02T16:37:45.502Z"
   },
   {
    "duration": 10,
    "start_time": "2021-12-02T16:37:46.122Z"
   },
   {
    "duration": 24,
    "start_time": "2021-12-02T16:37:46.133Z"
   },
   {
    "duration": 18,
    "start_time": "2021-12-02T16:37:46.159Z"
   },
   {
    "duration": 30,
    "start_time": "2021-12-02T16:37:46.178Z"
   },
   {
    "duration": 36,
    "start_time": "2021-12-02T16:37:46.209Z"
   },
   {
    "duration": 4,
    "start_time": "2021-12-02T16:37:46.246Z"
   },
   {
    "duration": 17,
    "start_time": "2021-12-02T16:37:46.253Z"
   },
   {
    "duration": 11,
    "start_time": "2021-12-02T16:37:46.272Z"
   },
   {
    "duration": 17,
    "start_time": "2021-12-02T16:37:46.284Z"
   },
   {
    "duration": 17,
    "start_time": "2021-12-02T16:37:46.303Z"
   },
   {
    "duration": 3375,
    "start_time": "2021-12-02T16:37:46.322Z"
   },
   {
    "duration": 14,
    "start_time": "2021-12-02T16:37:49.699Z"
   },
   {
    "duration": 29,
    "start_time": "2021-12-02T16:37:49.714Z"
   },
   {
    "duration": 19,
    "start_time": "2021-12-02T16:37:49.745Z"
   },
   {
    "duration": 590,
    "start_time": "2021-12-02T16:37:49.766Z"
   },
   {
    "duration": 7,
    "start_time": "2021-12-02T16:37:50.358Z"
   },
   {
    "duration": 378,
    "start_time": "2021-12-02T16:37:50.366Z"
   },
   {
    "duration": 5,
    "start_time": "2021-12-02T16:37:50.745Z"
   },
   {
    "duration": 11,
    "start_time": "2021-12-02T16:37:50.752Z"
   },
   {
    "duration": 373,
    "start_time": "2021-12-02T16:37:50.765Z"
   },
   {
    "duration": 12,
    "start_time": "2021-12-02T16:37:51.139Z"
   },
   {
    "duration": 383,
    "start_time": "2021-12-02T16:37:51.153Z"
   },
   {
    "duration": 4,
    "start_time": "2021-12-02T16:37:51.538Z"
   },
   {
    "duration": 609,
    "start_time": "2021-12-02T16:38:53.320Z"
   },
   {
    "duration": 10,
    "start_time": "2021-12-02T16:38:53.931Z"
   },
   {
    "duration": 36,
    "start_time": "2021-12-02T16:38:53.942Z"
   },
   {
    "duration": 20,
    "start_time": "2021-12-02T16:38:53.980Z"
   },
   {
    "duration": 16,
    "start_time": "2021-12-02T16:38:54.001Z"
   },
   {
    "duration": 31,
    "start_time": "2021-12-02T16:38:54.019Z"
   },
   {
    "duration": 4,
    "start_time": "2021-12-02T16:38:54.052Z"
   },
   {
    "duration": 16,
    "start_time": "2021-12-02T16:38:54.058Z"
   },
   {
    "duration": 4,
    "start_time": "2021-12-02T16:38:54.093Z"
   },
   {
    "duration": 7,
    "start_time": "2021-12-02T16:38:54.099Z"
   },
   {
    "duration": 21,
    "start_time": "2021-12-02T16:38:54.108Z"
   },
   {
    "duration": 3462,
    "start_time": "2021-12-02T16:38:54.130Z"
   },
   {
    "duration": 14,
    "start_time": "2021-12-02T16:38:57.594Z"
   },
   {
    "duration": 5,
    "start_time": "2021-12-02T16:38:57.609Z"
   },
   {
    "duration": 11,
    "start_time": "2021-12-02T16:38:57.615Z"
   },
   {
    "duration": 593,
    "start_time": "2021-12-02T16:38:57.627Z"
   },
   {
    "duration": 7,
    "start_time": "2021-12-02T16:38:58.222Z"
   },
   {
    "duration": 406,
    "start_time": "2021-12-02T16:38:58.231Z"
   },
   {
    "duration": 5,
    "start_time": "2021-12-02T16:38:58.639Z"
   },
   {
    "duration": 27,
    "start_time": "2021-12-02T16:38:58.646Z"
   },
   {
    "duration": 375,
    "start_time": "2021-12-02T16:38:58.675Z"
   },
   {
    "duration": 10,
    "start_time": "2021-12-02T16:38:59.052Z"
   },
   {
    "duration": 387,
    "start_time": "2021-12-02T16:38:59.063Z"
   },
   {
    "duration": 4,
    "start_time": "2021-12-02T16:38:59.451Z"
   }
  ],
  "kernelspec": {
   "display_name": "Python 3 (ipykernel)",
   "language": "python",
   "name": "python3"
  },
  "language_info": {
   "codemirror_mode": {
    "name": "ipython",
    "version": 3
   },
   "file_extension": ".py",
   "mimetype": "text/x-python",
   "name": "python",
   "nbconvert_exporter": "python",
   "pygments_lexer": "ipython3",
   "version": "3.10.5"
  },
  "toc": {
   "base_numbering": 1,
   "nav_menu": {},
   "number_sections": true,
   "sideBar": true,
   "skip_h1_title": true,
   "title_cell": "Table of Contents",
   "title_sidebar": "Contents",
   "toc_cell": false,
   "toc_position": {},
   "toc_section_display": true,
   "toc_window_display": false
  }
 },
 "nbformat": 4,
 "nbformat_minor": 2
}
