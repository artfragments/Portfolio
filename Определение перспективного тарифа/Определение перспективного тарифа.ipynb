{
 "cells": [
  {
   "cell_type": "markdown",
   "metadata": {},
   "source": [
    "# Определение перспективного тарифа для телеком-компании\n",
    "\n",
    "Клиенты предлагают два тарифных плана: «Смарт» и «Ультра». Чтобы скорректировать рекламный бюджет, коммерческий департамент хочет понять, какой тариф приносит больше денег. Предоставлена выборка из 500 клиентов для анализа, по каждому из них есть отдельные датасеты с использованными ими минутами, трафиком и кол-вом сообщений за года, так же предоставлена подробная информация по каждому тарифу.\n",
    "\n",
    "Анализ данных будет проведен в несколько этапов:\n",
    "* Изучение данных\n",
    "* Предобработка данных\n",
    "* Анализ данных\n",
    "* Проверка гипотез\n",
    "* Общий вывод"
   ]
  },
  {
   "cell_type": "markdown",
   "metadata": {},
   "source": [
    "## Изучение данных из файлов"
   ]
  },
  {
   "cell_type": "code",
   "execution_count": 1,
   "metadata": {},
   "outputs": [
    {
     "data": {
      "text/html": [
       "<div>\n",
       "<style scoped>\n",
       "    .dataframe tbody tr th:only-of-type {\n",
       "        vertical-align: middle;\n",
       "    }\n",
       "\n",
       "    .dataframe tbody tr th {\n",
       "        vertical-align: top;\n",
       "    }\n",
       "\n",
       "    .dataframe thead th {\n",
       "        text-align: right;\n",
       "    }\n",
       "</style>\n",
       "<table border=\"1\" class=\"dataframe\">\n",
       "  <thead>\n",
       "    <tr style=\"text-align: right;\">\n",
       "      <th></th>\n",
       "      <th>user_id</th>\n",
       "      <th>age</th>\n",
       "      <th>churn_date</th>\n",
       "      <th>city</th>\n",
       "      <th>first_name</th>\n",
       "      <th>last_name</th>\n",
       "      <th>reg_date</th>\n",
       "      <th>tariff</th>\n",
       "    </tr>\n",
       "  </thead>\n",
       "  <tbody>\n",
       "    <tr>\n",
       "      <td>0</td>\n",
       "      <td>1000</td>\n",
       "      <td>52</td>\n",
       "      <td>NaN</td>\n",
       "      <td>Краснодар</td>\n",
       "      <td>Рафаил</td>\n",
       "      <td>Верещагин</td>\n",
       "      <td>2018-05-25</td>\n",
       "      <td>ultra</td>\n",
       "    </tr>\n",
       "    <tr>\n",
       "      <td>1</td>\n",
       "      <td>1001</td>\n",
       "      <td>41</td>\n",
       "      <td>NaN</td>\n",
       "      <td>Москва</td>\n",
       "      <td>Иван</td>\n",
       "      <td>Ежов</td>\n",
       "      <td>2018-11-01</td>\n",
       "      <td>smart</td>\n",
       "    </tr>\n",
       "    <tr>\n",
       "      <td>2</td>\n",
       "      <td>1002</td>\n",
       "      <td>59</td>\n",
       "      <td>NaN</td>\n",
       "      <td>Стерлитамак</td>\n",
       "      <td>Евгений</td>\n",
       "      <td>Абрамович</td>\n",
       "      <td>2018-06-17</td>\n",
       "      <td>smart</td>\n",
       "    </tr>\n",
       "    <tr>\n",
       "      <td>3</td>\n",
       "      <td>1003</td>\n",
       "      <td>23</td>\n",
       "      <td>NaN</td>\n",
       "      <td>Москва</td>\n",
       "      <td>Белла</td>\n",
       "      <td>Белякова</td>\n",
       "      <td>2018-08-17</td>\n",
       "      <td>ultra</td>\n",
       "    </tr>\n",
       "    <tr>\n",
       "      <td>4</td>\n",
       "      <td>1004</td>\n",
       "      <td>68</td>\n",
       "      <td>NaN</td>\n",
       "      <td>Новокузнецк</td>\n",
       "      <td>Татьяна</td>\n",
       "      <td>Авдеенко</td>\n",
       "      <td>2018-05-14</td>\n",
       "      <td>ultra</td>\n",
       "    </tr>\n",
       "    <tr>\n",
       "      <td>...</td>\n",
       "      <td>...</td>\n",
       "      <td>...</td>\n",
       "      <td>...</td>\n",
       "      <td>...</td>\n",
       "      <td>...</td>\n",
       "      <td>...</td>\n",
       "      <td>...</td>\n",
       "      <td>...</td>\n",
       "    </tr>\n",
       "    <tr>\n",
       "      <td>495</td>\n",
       "      <td>1495</td>\n",
       "      <td>65</td>\n",
       "      <td>NaN</td>\n",
       "      <td>Иркутск</td>\n",
       "      <td>Авксентий</td>\n",
       "      <td>Фокин</td>\n",
       "      <td>2018-08-28</td>\n",
       "      <td>ultra</td>\n",
       "    </tr>\n",
       "    <tr>\n",
       "      <td>496</td>\n",
       "      <td>1496</td>\n",
       "      <td>36</td>\n",
       "      <td>NaN</td>\n",
       "      <td>Вологда</td>\n",
       "      <td>Трифон</td>\n",
       "      <td>Блохин</td>\n",
       "      <td>2018-01-27</td>\n",
       "      <td>smart</td>\n",
       "    </tr>\n",
       "    <tr>\n",
       "      <td>497</td>\n",
       "      <td>1497</td>\n",
       "      <td>32</td>\n",
       "      <td>NaN</td>\n",
       "      <td>Челябинск</td>\n",
       "      <td>Каролина</td>\n",
       "      <td>Агеева</td>\n",
       "      <td>2018-10-09</td>\n",
       "      <td>smart</td>\n",
       "    </tr>\n",
       "    <tr>\n",
       "      <td>498</td>\n",
       "      <td>1498</td>\n",
       "      <td>68</td>\n",
       "      <td>2018-10-25</td>\n",
       "      <td>Владикавказ</td>\n",
       "      <td>Всеволод</td>\n",
       "      <td>Акимчин</td>\n",
       "      <td>2018-07-19</td>\n",
       "      <td>smart</td>\n",
       "    </tr>\n",
       "    <tr>\n",
       "      <td>499</td>\n",
       "      <td>1499</td>\n",
       "      <td>35</td>\n",
       "      <td>NaN</td>\n",
       "      <td>Пермь</td>\n",
       "      <td>Гектор</td>\n",
       "      <td>Корнилов</td>\n",
       "      <td>2018-09-27</td>\n",
       "      <td>smart</td>\n",
       "    </tr>\n",
       "  </tbody>\n",
       "</table>\n",
       "<p>500 rows × 8 columns</p>\n",
       "</div>"
      ],
      "text/plain": [
       "     user_id  age  churn_date         city first_name  last_name    reg_date  \\\n",
       "0       1000   52         NaN    Краснодар     Рафаил  Верещагин  2018-05-25   \n",
       "1       1001   41         NaN       Москва       Иван       Ежов  2018-11-01   \n",
       "2       1002   59         NaN  Стерлитамак    Евгений  Абрамович  2018-06-17   \n",
       "3       1003   23         NaN       Москва      Белла   Белякова  2018-08-17   \n",
       "4       1004   68         NaN  Новокузнецк    Татьяна   Авдеенко  2018-05-14   \n",
       "..       ...  ...         ...          ...        ...        ...         ...   \n",
       "495     1495   65         NaN      Иркутск  Авксентий      Фокин  2018-08-28   \n",
       "496     1496   36         NaN      Вологда     Трифон     Блохин  2018-01-27   \n",
       "497     1497   32         NaN    Челябинск   Каролина     Агеева  2018-10-09   \n",
       "498     1498   68  2018-10-25  Владикавказ   Всеволод    Акимчин  2018-07-19   \n",
       "499     1499   35         NaN        Пермь     Гектор   Корнилов  2018-09-27   \n",
       "\n",
       "    tariff  \n",
       "0    ultra  \n",
       "1    smart  \n",
       "2    smart  \n",
       "3    ultra  \n",
       "4    ultra  \n",
       "..     ...  \n",
       "495  ultra  \n",
       "496  smart  \n",
       "497  smart  \n",
       "498  smart  \n",
       "499  smart  \n",
       "\n",
       "[500 rows x 8 columns]"
      ]
     },
     "execution_count": 1,
     "metadata": {},
     "output_type": "execute_result"
    }
   ],
   "source": [
    "import pandas as pd\n",
    "data_users = pd.read_csv('/datasets/users.csv')\n",
    "data_users"
   ]
  },
  {
   "cell_type": "code",
   "execution_count": 2,
   "metadata": {},
   "outputs": [
    {
     "name": "stdout",
     "output_type": "stream",
     "text": [
      "<class 'pandas.core.frame.DataFrame'>\n",
      "RangeIndex: 500 entries, 0 to 499\n",
      "Data columns (total 8 columns):\n",
      "user_id       500 non-null int64\n",
      "age           500 non-null int64\n",
      "churn_date    38 non-null object\n",
      "city          500 non-null object\n",
      "first_name    500 non-null object\n",
      "last_name     500 non-null object\n",
      "reg_date      500 non-null object\n",
      "tariff        500 non-null object\n",
      "dtypes: int64(2), object(6)\n",
      "memory usage: 31.4+ KB\n"
     ]
    }
   ],
   "source": [
    "data_users.info()"
   ]
  },
  {
   "cell_type": "markdown",
   "metadata": {},
   "source": [
    "В этом датасете не видно особых проблем с данными, единственное, NaN возможно стоит заменить на фразу \"Действующий\", так как по условиям задачи если в столбце пустые значения значит абонент не перестал пользоваться тарифом."
   ]
  },
  {
   "cell_type": "code",
   "execution_count": 3,
   "metadata": {},
   "outputs": [
    {
     "data": {
      "text/html": [
       "<div>\n",
       "<style scoped>\n",
       "    .dataframe tbody tr th:only-of-type {\n",
       "        vertical-align: middle;\n",
       "    }\n",
       "\n",
       "    .dataframe tbody tr th {\n",
       "        vertical-align: top;\n",
       "    }\n",
       "\n",
       "    .dataframe thead th {\n",
       "        text-align: right;\n",
       "    }\n",
       "</style>\n",
       "<table border=\"1\" class=\"dataframe\">\n",
       "  <thead>\n",
       "    <tr style=\"text-align: right;\">\n",
       "      <th></th>\n",
       "      <th>messages_included</th>\n",
       "      <th>mb_per_month_included</th>\n",
       "      <th>minutes_included</th>\n",
       "      <th>rub_monthly_fee</th>\n",
       "      <th>rub_per_gb</th>\n",
       "      <th>rub_per_message</th>\n",
       "      <th>rub_per_minute</th>\n",
       "      <th>tariff_name</th>\n",
       "    </tr>\n",
       "  </thead>\n",
       "  <tbody>\n",
       "    <tr>\n",
       "      <td>0</td>\n",
       "      <td>50</td>\n",
       "      <td>15360</td>\n",
       "      <td>500</td>\n",
       "      <td>550</td>\n",
       "      <td>200</td>\n",
       "      <td>3</td>\n",
       "      <td>3</td>\n",
       "      <td>smart</td>\n",
       "    </tr>\n",
       "    <tr>\n",
       "      <td>1</td>\n",
       "      <td>1000</td>\n",
       "      <td>30720</td>\n",
       "      <td>3000</td>\n",
       "      <td>1950</td>\n",
       "      <td>150</td>\n",
       "      <td>1</td>\n",
       "      <td>1</td>\n",
       "      <td>ultra</td>\n",
       "    </tr>\n",
       "  </tbody>\n",
       "</table>\n",
       "</div>"
      ],
      "text/plain": [
       "   messages_included  mb_per_month_included  minutes_included  \\\n",
       "0                 50                  15360               500   \n",
       "1               1000                  30720              3000   \n",
       "\n",
       "   rub_monthly_fee  rub_per_gb  rub_per_message  rub_per_minute tariff_name  \n",
       "0              550         200                3               3       smart  \n",
       "1             1950         150                1               1       ultra  "
      ]
     },
     "execution_count": 3,
     "metadata": {},
     "output_type": "execute_result"
    }
   ],
   "source": [
    "data_tarrifs = pd.read_csv('/datasets/tariffs.csv')\n",
    "data_tarrifs"
   ]
  },
  {
   "cell_type": "markdown",
   "metadata": {},
   "source": [
    "Так же никаких проблем с данными не наблюдается, это всего лишь данные о тарифах. Можно соединить с остальным датасетом по столбцу tariff_name."
   ]
  },
  {
   "cell_type": "code",
   "execution_count": 4,
   "metadata": {},
   "outputs": [
    {
     "data": {
      "text/html": [
       "<div>\n",
       "<style scoped>\n",
       "    .dataframe tbody tr th:only-of-type {\n",
       "        vertical-align: middle;\n",
       "    }\n",
       "\n",
       "    .dataframe tbody tr th {\n",
       "        vertical-align: top;\n",
       "    }\n",
       "\n",
       "    .dataframe thead th {\n",
       "        text-align: right;\n",
       "    }\n",
       "</style>\n",
       "<table border=\"1\" class=\"dataframe\">\n",
       "  <thead>\n",
       "    <tr style=\"text-align: right;\">\n",
       "      <th></th>\n",
       "      <th>id</th>\n",
       "      <th>call_date</th>\n",
       "      <th>duration</th>\n",
       "      <th>user_id</th>\n",
       "    </tr>\n",
       "  </thead>\n",
       "  <tbody>\n",
       "    <tr>\n",
       "      <td>0</td>\n",
       "      <td>1000_0</td>\n",
       "      <td>2018-07-25</td>\n",
       "      <td>0.00</td>\n",
       "      <td>1000</td>\n",
       "    </tr>\n",
       "    <tr>\n",
       "      <td>1</td>\n",
       "      <td>1000_1</td>\n",
       "      <td>2018-08-17</td>\n",
       "      <td>0.00</td>\n",
       "      <td>1000</td>\n",
       "    </tr>\n",
       "    <tr>\n",
       "      <td>2</td>\n",
       "      <td>1000_2</td>\n",
       "      <td>2018-06-11</td>\n",
       "      <td>2.85</td>\n",
       "      <td>1000</td>\n",
       "    </tr>\n",
       "    <tr>\n",
       "      <td>3</td>\n",
       "      <td>1000_3</td>\n",
       "      <td>2018-09-21</td>\n",
       "      <td>13.80</td>\n",
       "      <td>1000</td>\n",
       "    </tr>\n",
       "    <tr>\n",
       "      <td>4</td>\n",
       "      <td>1000_4</td>\n",
       "      <td>2018-12-15</td>\n",
       "      <td>5.18</td>\n",
       "      <td>1000</td>\n",
       "    </tr>\n",
       "    <tr>\n",
       "      <td>...</td>\n",
       "      <td>...</td>\n",
       "      <td>...</td>\n",
       "      <td>...</td>\n",
       "      <td>...</td>\n",
       "    </tr>\n",
       "    <tr>\n",
       "      <td>202602</td>\n",
       "      <td>1499_215</td>\n",
       "      <td>2018-12-26</td>\n",
       "      <td>0.76</td>\n",
       "      <td>1499</td>\n",
       "    </tr>\n",
       "    <tr>\n",
       "      <td>202603</td>\n",
       "      <td>1499_216</td>\n",
       "      <td>2018-10-18</td>\n",
       "      <td>18.83</td>\n",
       "      <td>1499</td>\n",
       "    </tr>\n",
       "    <tr>\n",
       "      <td>202604</td>\n",
       "      <td>1499_217</td>\n",
       "      <td>2018-11-10</td>\n",
       "      <td>10.81</td>\n",
       "      <td>1499</td>\n",
       "    </tr>\n",
       "    <tr>\n",
       "      <td>202605</td>\n",
       "      <td>1499_218</td>\n",
       "      <td>2018-10-06</td>\n",
       "      <td>4.27</td>\n",
       "      <td>1499</td>\n",
       "    </tr>\n",
       "    <tr>\n",
       "      <td>202606</td>\n",
       "      <td>1499_219</td>\n",
       "      <td>2018-12-14</td>\n",
       "      <td>19.62</td>\n",
       "      <td>1499</td>\n",
       "    </tr>\n",
       "  </tbody>\n",
       "</table>\n",
       "<p>202607 rows × 4 columns</p>\n",
       "</div>"
      ],
      "text/plain": [
       "              id   call_date  duration  user_id\n",
       "0         1000_0  2018-07-25      0.00     1000\n",
       "1         1000_1  2018-08-17      0.00     1000\n",
       "2         1000_2  2018-06-11      2.85     1000\n",
       "3         1000_3  2018-09-21     13.80     1000\n",
       "4         1000_4  2018-12-15      5.18     1000\n",
       "...          ...         ...       ...      ...\n",
       "202602  1499_215  2018-12-26      0.76     1499\n",
       "202603  1499_216  2018-10-18     18.83     1499\n",
       "202604  1499_217  2018-11-10     10.81     1499\n",
       "202605  1499_218  2018-10-06      4.27     1499\n",
       "202606  1499_219  2018-12-14     19.62     1499\n",
       "\n",
       "[202607 rows x 4 columns]"
      ]
     },
     "execution_count": 4,
     "metadata": {},
     "output_type": "execute_result"
    }
   ],
   "source": [
    "data_calls = pd.read_csv('/datasets/calls.csv')\n",
    "data_calls"
   ]
  },
  {
   "cell_type": "code",
   "execution_count": 5,
   "metadata": {},
   "outputs": [
    {
     "name": "stdout",
     "output_type": "stream",
     "text": [
      "<class 'pandas.core.frame.DataFrame'>\n",
      "RangeIndex: 202607 entries, 0 to 202606\n",
      "Data columns (total 4 columns):\n",
      "id           202607 non-null object\n",
      "call_date    202607 non-null object\n",
      "duration     202607 non-null float64\n",
      "user_id      202607 non-null int64\n",
      "dtypes: float64(1), int64(1), object(2)\n",
      "memory usage: 6.2+ MB\n"
     ]
    }
   ],
   "source": [
    "data_calls.info()"
   ]
  },
  {
   "cell_type": "markdown",
   "metadata": {},
   "source": [
    "В этом датасете собраны все звонки пользователе, пропусков нет, но нужно будет округлить время каждого звонка до минут в большую сторону и добавить в общий дата сет суммарное время по месяцам по каждому пользователю."
   ]
  },
  {
   "cell_type": "code",
   "execution_count": 6,
   "metadata": {},
   "outputs": [
    {
     "data": {
      "text/html": [
       "<div>\n",
       "<style scoped>\n",
       "    .dataframe tbody tr th:only-of-type {\n",
       "        vertical-align: middle;\n",
       "    }\n",
       "\n",
       "    .dataframe tbody tr th {\n",
       "        vertical-align: top;\n",
       "    }\n",
       "\n",
       "    .dataframe thead th {\n",
       "        text-align: right;\n",
       "    }\n",
       "</style>\n",
       "<table border=\"1\" class=\"dataframe\">\n",
       "  <thead>\n",
       "    <tr style=\"text-align: right;\">\n",
       "      <th></th>\n",
       "      <th>id</th>\n",
       "      <th>message_date</th>\n",
       "      <th>user_id</th>\n",
       "    </tr>\n",
       "  </thead>\n",
       "  <tbody>\n",
       "    <tr>\n",
       "      <td>0</td>\n",
       "      <td>1000_0</td>\n",
       "      <td>2018-06-27</td>\n",
       "      <td>1000</td>\n",
       "    </tr>\n",
       "    <tr>\n",
       "      <td>1</td>\n",
       "      <td>1000_1</td>\n",
       "      <td>2018-10-08</td>\n",
       "      <td>1000</td>\n",
       "    </tr>\n",
       "    <tr>\n",
       "      <td>2</td>\n",
       "      <td>1000_2</td>\n",
       "      <td>2018-08-04</td>\n",
       "      <td>1000</td>\n",
       "    </tr>\n",
       "    <tr>\n",
       "      <td>3</td>\n",
       "      <td>1000_3</td>\n",
       "      <td>2018-06-16</td>\n",
       "      <td>1000</td>\n",
       "    </tr>\n",
       "    <tr>\n",
       "      <td>4</td>\n",
       "      <td>1000_4</td>\n",
       "      <td>2018-12-05</td>\n",
       "      <td>1000</td>\n",
       "    </tr>\n",
       "    <tr>\n",
       "      <td>...</td>\n",
       "      <td>...</td>\n",
       "      <td>...</td>\n",
       "      <td>...</td>\n",
       "    </tr>\n",
       "    <tr>\n",
       "      <td>123031</td>\n",
       "      <td>1499_179</td>\n",
       "      <td>2018-12-12</td>\n",
       "      <td>1499</td>\n",
       "    </tr>\n",
       "    <tr>\n",
       "      <td>123032</td>\n",
       "      <td>1499_180</td>\n",
       "      <td>2018-09-28</td>\n",
       "      <td>1499</td>\n",
       "    </tr>\n",
       "    <tr>\n",
       "      <td>123033</td>\n",
       "      <td>1499_181</td>\n",
       "      <td>2018-09-27</td>\n",
       "      <td>1499</td>\n",
       "    </tr>\n",
       "    <tr>\n",
       "      <td>123034</td>\n",
       "      <td>1499_182</td>\n",
       "      <td>2018-11-15</td>\n",
       "      <td>1499</td>\n",
       "    </tr>\n",
       "    <tr>\n",
       "      <td>123035</td>\n",
       "      <td>1499_183</td>\n",
       "      <td>2018-11-16</td>\n",
       "      <td>1499</td>\n",
       "    </tr>\n",
       "  </tbody>\n",
       "</table>\n",
       "<p>123036 rows × 3 columns</p>\n",
       "</div>"
      ],
      "text/plain": [
       "              id message_date  user_id\n",
       "0         1000_0   2018-06-27     1000\n",
       "1         1000_1   2018-10-08     1000\n",
       "2         1000_2   2018-08-04     1000\n",
       "3         1000_3   2018-06-16     1000\n",
       "4         1000_4   2018-12-05     1000\n",
       "...          ...          ...      ...\n",
       "123031  1499_179   2018-12-12     1499\n",
       "123032  1499_180   2018-09-28     1499\n",
       "123033  1499_181   2018-09-27     1499\n",
       "123034  1499_182   2018-11-15     1499\n",
       "123035  1499_183   2018-11-16     1499\n",
       "\n",
       "[123036 rows x 3 columns]"
      ]
     },
     "execution_count": 6,
     "metadata": {},
     "output_type": "execute_result"
    }
   ],
   "source": [
    "data_messages = pd.read_csv('/datasets/messages.csv')\n",
    "data_messages"
   ]
  },
  {
   "cell_type": "code",
   "execution_count": 7,
   "metadata": {},
   "outputs": [
    {
     "name": "stdout",
     "output_type": "stream",
     "text": [
      "<class 'pandas.core.frame.DataFrame'>\n",
      "RangeIndex: 123036 entries, 0 to 123035\n",
      "Data columns (total 3 columns):\n",
      "id              123036 non-null object\n",
      "message_date    123036 non-null object\n",
      "user_id         123036 non-null int64\n",
      "dtypes: int64(1), object(2)\n",
      "memory usage: 2.8+ MB\n"
     ]
    }
   ],
   "source": [
    "data_messages.info()"
   ]
  },
  {
   "cell_type": "markdown",
   "metadata": {},
   "source": [
    "Так же данные не являются проблемными, по каждому пользователю нужно посчитать количество сообщений по месяцам и добавить в общий датасет."
   ]
  },
  {
   "cell_type": "code",
   "execution_count": 8,
   "metadata": {},
   "outputs": [
    {
     "data": {
      "text/html": [
       "<div>\n",
       "<style scoped>\n",
       "    .dataframe tbody tr th:only-of-type {\n",
       "        vertical-align: middle;\n",
       "    }\n",
       "\n",
       "    .dataframe tbody tr th {\n",
       "        vertical-align: top;\n",
       "    }\n",
       "\n",
       "    .dataframe thead th {\n",
       "        text-align: right;\n",
       "    }\n",
       "</style>\n",
       "<table border=\"1\" class=\"dataframe\">\n",
       "  <thead>\n",
       "    <tr style=\"text-align: right;\">\n",
       "      <th></th>\n",
       "      <th>Unnamed: 0</th>\n",
       "      <th>id</th>\n",
       "      <th>mb_used</th>\n",
       "      <th>session_date</th>\n",
       "      <th>user_id</th>\n",
       "    </tr>\n",
       "  </thead>\n",
       "  <tbody>\n",
       "    <tr>\n",
       "      <td>0</td>\n",
       "      <td>0</td>\n",
       "      <td>1000_0</td>\n",
       "      <td>112.95</td>\n",
       "      <td>2018-11-25</td>\n",
       "      <td>1000</td>\n",
       "    </tr>\n",
       "    <tr>\n",
       "      <td>1</td>\n",
       "      <td>1</td>\n",
       "      <td>1000_1</td>\n",
       "      <td>1052.81</td>\n",
       "      <td>2018-09-07</td>\n",
       "      <td>1000</td>\n",
       "    </tr>\n",
       "    <tr>\n",
       "      <td>2</td>\n",
       "      <td>2</td>\n",
       "      <td>1000_2</td>\n",
       "      <td>1197.26</td>\n",
       "      <td>2018-06-25</td>\n",
       "      <td>1000</td>\n",
       "    </tr>\n",
       "    <tr>\n",
       "      <td>3</td>\n",
       "      <td>3</td>\n",
       "      <td>1000_3</td>\n",
       "      <td>550.27</td>\n",
       "      <td>2018-08-22</td>\n",
       "      <td>1000</td>\n",
       "    </tr>\n",
       "    <tr>\n",
       "      <td>4</td>\n",
       "      <td>4</td>\n",
       "      <td>1000_4</td>\n",
       "      <td>302.56</td>\n",
       "      <td>2018-09-24</td>\n",
       "      <td>1000</td>\n",
       "    </tr>\n",
       "    <tr>\n",
       "      <td>...</td>\n",
       "      <td>...</td>\n",
       "      <td>...</td>\n",
       "      <td>...</td>\n",
       "      <td>...</td>\n",
       "      <td>...</td>\n",
       "    </tr>\n",
       "    <tr>\n",
       "      <td>149391</td>\n",
       "      <td>149391</td>\n",
       "      <td>1499_152</td>\n",
       "      <td>318.90</td>\n",
       "      <td>2018-10-03</td>\n",
       "      <td>1499</td>\n",
       "    </tr>\n",
       "    <tr>\n",
       "      <td>149392</td>\n",
       "      <td>149392</td>\n",
       "      <td>1499_153</td>\n",
       "      <td>490.13</td>\n",
       "      <td>2018-12-14</td>\n",
       "      <td>1499</td>\n",
       "    </tr>\n",
       "    <tr>\n",
       "      <td>149393</td>\n",
       "      <td>149393</td>\n",
       "      <td>1499_154</td>\n",
       "      <td>0.00</td>\n",
       "      <td>2018-10-27</td>\n",
       "      <td>1499</td>\n",
       "    </tr>\n",
       "    <tr>\n",
       "      <td>149394</td>\n",
       "      <td>149394</td>\n",
       "      <td>1499_155</td>\n",
       "      <td>1246.32</td>\n",
       "      <td>2018-11-26</td>\n",
       "      <td>1499</td>\n",
       "    </tr>\n",
       "    <tr>\n",
       "      <td>149395</td>\n",
       "      <td>149395</td>\n",
       "      <td>1499_156</td>\n",
       "      <td>544.37</td>\n",
       "      <td>2018-10-26</td>\n",
       "      <td>1499</td>\n",
       "    </tr>\n",
       "  </tbody>\n",
       "</table>\n",
       "<p>149396 rows × 5 columns</p>\n",
       "</div>"
      ],
      "text/plain": [
       "        Unnamed: 0        id  mb_used session_date  user_id\n",
       "0                0    1000_0   112.95   2018-11-25     1000\n",
       "1                1    1000_1  1052.81   2018-09-07     1000\n",
       "2                2    1000_2  1197.26   2018-06-25     1000\n",
       "3                3    1000_3   550.27   2018-08-22     1000\n",
       "4                4    1000_4   302.56   2018-09-24     1000\n",
       "...            ...       ...      ...          ...      ...\n",
       "149391      149391  1499_152   318.90   2018-10-03     1499\n",
       "149392      149392  1499_153   490.13   2018-12-14     1499\n",
       "149393      149393  1499_154     0.00   2018-10-27     1499\n",
       "149394      149394  1499_155  1246.32   2018-11-26     1499\n",
       "149395      149395  1499_156   544.37   2018-10-26     1499\n",
       "\n",
       "[149396 rows x 5 columns]"
      ]
     },
     "execution_count": 8,
     "metadata": {},
     "output_type": "execute_result"
    }
   ],
   "source": [
    "data_internet = pd.read_csv('/datasets/internet.csv')\n",
    "data_internet"
   ]
  },
  {
   "cell_type": "code",
   "execution_count": 9,
   "metadata": {},
   "outputs": [
    {
     "name": "stdout",
     "output_type": "stream",
     "text": [
      "<class 'pandas.core.frame.DataFrame'>\n",
      "RangeIndex: 149396 entries, 0 to 149395\n",
      "Data columns (total 5 columns):\n",
      "Unnamed: 0      149396 non-null int64\n",
      "id              149396 non-null object\n",
      "mb_used         149396 non-null float64\n",
      "session_date    149396 non-null object\n",
      "user_id         149396 non-null int64\n",
      "dtypes: float64(1), int64(2), object(2)\n",
      "memory usage: 5.7+ MB\n"
     ]
    }
   ],
   "source": [
    "data_internet.info()"
   ]
  },
  {
   "cell_type": "markdown",
   "metadata": {},
   "source": [
    "Так же данные доработки не требуют кроме округления до мегабайт в большую сторону и добавления суммарных данных по месяцам в общий датасет."
   ]
  },
  {
   "cell_type": "markdown",
   "metadata": {},
   "source": [
    "## Предобработка данных\n",
    "\n",
    "Создадим один датасет с оплатами пользователей по месяцам."
   ]
  },
  {
   "cell_type": "markdown",
   "metadata": {},
   "source": [
    "В датасете data_calls округлим время в большую сторону, заменим даты на название месяца(данные даны за год, так что он на не нужен), добавим данные по тарифам каждому из пользователей, далее создадим сводную таблицу где по каждому пользователю по месяцам будет показано то сколько минут он использовал, вычтем лимит по тарифу и посчитаем перерасход в рублях."
   ]
  },
  {
   "cell_type": "code",
   "execution_count": 10,
   "metadata": {},
   "outputs": [
    {
     "data": {
      "text/html": [
       "<div>\n",
       "<style scoped>\n",
       "    .dataframe tbody tr th:only-of-type {\n",
       "        vertical-align: middle;\n",
       "    }\n",
       "\n",
       "    .dataframe tbody tr th {\n",
       "        vertical-align: top;\n",
       "    }\n",
       "\n",
       "    .dataframe thead th {\n",
       "        text-align: right;\n",
       "    }\n",
       "</style>\n",
       "<table border=\"1\" class=\"dataframe\">\n",
       "  <thead>\n",
       "    <tr style=\"text-align: right;\">\n",
       "      <th>tariff</th>\n",
       "      <th>user_id</th>\n",
       "      <th>month</th>\n",
       "      <th>smart_call_time</th>\n",
       "      <th>ultra_call_time</th>\n",
       "      <th>smart_call_payment</th>\n",
       "      <th>ultra_call_payment</th>\n",
       "    </tr>\n",
       "  </thead>\n",
       "  <tbody>\n",
       "    <tr>\n",
       "      <td>0</td>\n",
       "      <td>1000</td>\n",
       "      <td>10</td>\n",
       "      <td>0.0</td>\n",
       "      <td>350.0</td>\n",
       "      <td>0.0</td>\n",
       "      <td>0.0</td>\n",
       "    </tr>\n",
       "    <tr>\n",
       "      <td>1</td>\n",
       "      <td>1000</td>\n",
       "      <td>11</td>\n",
       "      <td>0.0</td>\n",
       "      <td>338.0</td>\n",
       "      <td>0.0</td>\n",
       "      <td>0.0</td>\n",
       "    </tr>\n",
       "    <tr>\n",
       "      <td>2</td>\n",
       "      <td>1000</td>\n",
       "      <td>12</td>\n",
       "      <td>0.0</td>\n",
       "      <td>333.0</td>\n",
       "      <td>0.0</td>\n",
       "      <td>0.0</td>\n",
       "    </tr>\n",
       "    <tr>\n",
       "      <td>3</td>\n",
       "      <td>1000</td>\n",
       "      <td>5</td>\n",
       "      <td>0.0</td>\n",
       "      <td>159.0</td>\n",
       "      <td>0.0</td>\n",
       "      <td>0.0</td>\n",
       "    </tr>\n",
       "    <tr>\n",
       "      <td>4</td>\n",
       "      <td>1000</td>\n",
       "      <td>6</td>\n",
       "      <td>0.0</td>\n",
       "      <td>172.0</td>\n",
       "      <td>0.0</td>\n",
       "      <td>0.0</td>\n",
       "    </tr>\n",
       "    <tr>\n",
       "      <td>...</td>\n",
       "      <td>...</td>\n",
       "      <td>...</td>\n",
       "      <td>...</td>\n",
       "      <td>...</td>\n",
       "      <td>...</td>\n",
       "      <td>...</td>\n",
       "    </tr>\n",
       "    <tr>\n",
       "      <td>3169</td>\n",
       "      <td>1498</td>\n",
       "      <td>9</td>\n",
       "      <td>471.0</td>\n",
       "      <td>0.0</td>\n",
       "      <td>0.0</td>\n",
       "      <td>0.0</td>\n",
       "    </tr>\n",
       "    <tr>\n",
       "      <td>3170</td>\n",
       "      <td>1499</td>\n",
       "      <td>10</td>\n",
       "      <td>449.0</td>\n",
       "      <td>0.0</td>\n",
       "      <td>0.0</td>\n",
       "      <td>0.0</td>\n",
       "    </tr>\n",
       "    <tr>\n",
       "      <td>3171</td>\n",
       "      <td>1499</td>\n",
       "      <td>11</td>\n",
       "      <td>612.0</td>\n",
       "      <td>0.0</td>\n",
       "      <td>336.0</td>\n",
       "      <td>0.0</td>\n",
       "    </tr>\n",
       "    <tr>\n",
       "      <td>3172</td>\n",
       "      <td>1499</td>\n",
       "      <td>12</td>\n",
       "      <td>492.0</td>\n",
       "      <td>0.0</td>\n",
       "      <td>0.0</td>\n",
       "      <td>0.0</td>\n",
       "    </tr>\n",
       "    <tr>\n",
       "      <td>3173</td>\n",
       "      <td>1499</td>\n",
       "      <td>9</td>\n",
       "      <td>70.0</td>\n",
       "      <td>0.0</td>\n",
       "      <td>0.0</td>\n",
       "      <td>0.0</td>\n",
       "    </tr>\n",
       "  </tbody>\n",
       "</table>\n",
       "<p>3174 rows × 6 columns</p>\n",
       "</div>"
      ],
      "text/plain": [
       "tariff  user_id month  smart_call_time  ultra_call_time  smart_call_payment  \\\n",
       "0          1000    10              0.0            350.0                 0.0   \n",
       "1          1000    11              0.0            338.0                 0.0   \n",
       "2          1000    12              0.0            333.0                 0.0   \n",
       "3          1000     5              0.0            159.0                 0.0   \n",
       "4          1000     6              0.0            172.0                 0.0   \n",
       "...         ...   ...              ...              ...                 ...   \n",
       "3169       1498     9            471.0              0.0                 0.0   \n",
       "3170       1499    10            449.0              0.0                 0.0   \n",
       "3171       1499    11            612.0              0.0               336.0   \n",
       "3172       1499    12            492.0              0.0                 0.0   \n",
       "3173       1499     9             70.0              0.0                 0.0   \n",
       "\n",
       "tariff  ultra_call_payment  \n",
       "0                      0.0  \n",
       "1                      0.0  \n",
       "2                      0.0  \n",
       "3                      0.0  \n",
       "4                      0.0  \n",
       "...                    ...  \n",
       "3169                   0.0  \n",
       "3170                   0.0  \n",
       "3171                   0.0  \n",
       "3172                   0.0  \n",
       "3173                   0.0  \n",
       "\n",
       "[3174 rows x 6 columns]"
      ]
     },
     "execution_count": 10,
     "metadata": {},
     "output_type": "execute_result"
    }
   ],
   "source": [
    "import math\n",
    "data_calls['duration'] = data_calls['duration'].apply(math.ceil)\n",
    "def date_change(row): # создадим фунцию, чтобы заменить даты на месяца.\n",
    "    if '2018-01' in row:\n",
    "        return '1'\n",
    "    if '2018-02' in row:\n",
    "        return '2'\n",
    "    if '2018-03' in row:\n",
    "        return '3'\n",
    "    if '2018-04' in row:\n",
    "        return '4'\n",
    "    if '2018-05' in row:\n",
    "        return '5'\n",
    "    if '2018-06' in row:\n",
    "        return '6'\n",
    "    if '2018-07' in row:\n",
    "        return '7'\n",
    "    if '2018-08' in row:\n",
    "        return '8'\n",
    "    if '2018-09' in row:\n",
    "        return '9'\n",
    "    if '2018-10' in row:\n",
    "        return '10'\n",
    "    if '2018-11' in row:\n",
    "        return '11'\n",
    "    if '2018-12' in row:\n",
    "        return '12'\n",
    "    \n",
    "data_calls['call_date'] = data_calls['call_date'].apply(date_change) # меняем дату\n",
    "tariff = data_users[['user_id', 'tariff']] # создаем отдельный датасет с тарифами пользователей\n",
    "data_calls = data_calls.merge(tariff, on='user_id') # соеденяем тарифы с датасетом со звонками\n",
    "data_calls = data_calls.rename(columns={'call_date':'month'}) # меняем название столбца для удобства\n",
    "data_calls_pivot = data_calls.pivot_table(index=['user_id', 'month'], columns = 'tariff', values='duration', aggfunc='sum') # делаем сводную таблицу\n",
    "data_calls_pivot['smart_call_payment'] = (data_calls_pivot['smart'] - 500) * 3 # вычитаем лимит из общего числа и умножаем на тариф за перерасход\n",
    "data_calls_pivot['ultra_call_payment'] = (data_calls_pivot['ultra'] - 3000) * 1\n",
    "data_calls_pivot[data_calls_pivot < 0] = 0 # значения менее нуля меняем на ноль\n",
    "data_calls_pivot = data_calls_pivot.rename(columns={'smart':'smart_call_time', 'ultra':'ultra_call_time'}) # меняем название, чтобы с итоговом датасете отличить одни данные от других\n",
    "data_calls_pivot =  data_calls_pivot.fillna(value=0).reset_index() # Значения NaN заполняем на 0\n",
    "data_calls_pivot"
   ]
  },
  {
   "cell_type": "markdown",
   "metadata": {},
   "source": [
    "Тоже самое сделаем с датасетом с трафиком."
   ]
  },
  {
   "cell_type": "code",
   "execution_count": 11,
   "metadata": {},
   "outputs": [
    {
     "data": {
      "text/html": [
       "<div>\n",
       "<style scoped>\n",
       "    .dataframe tbody tr th:only-of-type {\n",
       "        vertical-align: middle;\n",
       "    }\n",
       "\n",
       "    .dataframe tbody tr th {\n",
       "        vertical-align: top;\n",
       "    }\n",
       "\n",
       "    .dataframe thead th {\n",
       "        text-align: right;\n",
       "    }\n",
       "</style>\n",
       "<table border=\"1\" class=\"dataframe\">\n",
       "  <thead>\n",
       "    <tr style=\"text-align: right;\">\n",
       "      <th>tariff</th>\n",
       "      <th>user_id</th>\n",
       "      <th>month</th>\n",
       "      <th>smart_internet_gb</th>\n",
       "      <th>ultra_internet_gb</th>\n",
       "      <th>smart_internet_payment</th>\n",
       "      <th>ultra_internet_payment</th>\n",
       "    </tr>\n",
       "  </thead>\n",
       "  <tbody>\n",
       "    <tr>\n",
       "      <td>0</td>\n",
       "      <td>1000</td>\n",
       "      <td>10</td>\n",
       "      <td>0.0</td>\n",
       "      <td>15.0</td>\n",
       "      <td>0.0</td>\n",
       "      <td>0.0</td>\n",
       "    </tr>\n",
       "    <tr>\n",
       "      <td>1</td>\n",
       "      <td>1000</td>\n",
       "      <td>11</td>\n",
       "      <td>0.0</td>\n",
       "      <td>15.0</td>\n",
       "      <td>0.0</td>\n",
       "      <td>0.0</td>\n",
       "    </tr>\n",
       "    <tr>\n",
       "      <td>2</td>\n",
       "      <td>1000</td>\n",
       "      <td>12</td>\n",
       "      <td>0.0</td>\n",
       "      <td>10.0</td>\n",
       "      <td>0.0</td>\n",
       "      <td>0.0</td>\n",
       "    </tr>\n",
       "    <tr>\n",
       "      <td>3</td>\n",
       "      <td>1000</td>\n",
       "      <td>5</td>\n",
       "      <td>0.0</td>\n",
       "      <td>3.0</td>\n",
       "      <td>0.0</td>\n",
       "      <td>0.0</td>\n",
       "    </tr>\n",
       "    <tr>\n",
       "      <td>4</td>\n",
       "      <td>1000</td>\n",
       "      <td>6</td>\n",
       "      <td>0.0</td>\n",
       "      <td>23.0</td>\n",
       "      <td>0.0</td>\n",
       "      <td>0.0</td>\n",
       "    </tr>\n",
       "    <tr>\n",
       "      <td>...</td>\n",
       "      <td>...</td>\n",
       "      <td>...</td>\n",
       "      <td>...</td>\n",
       "      <td>...</td>\n",
       "      <td>...</td>\n",
       "      <td>...</td>\n",
       "    </tr>\n",
       "    <tr>\n",
       "      <td>3198</td>\n",
       "      <td>1498</td>\n",
       "      <td>9</td>\n",
       "      <td>22.0</td>\n",
       "      <td>0.0</td>\n",
       "      <td>1400.0</td>\n",
       "      <td>0.0</td>\n",
       "    </tr>\n",
       "    <tr>\n",
       "      <td>3199</td>\n",
       "      <td>1499</td>\n",
       "      <td>10</td>\n",
       "      <td>18.0</td>\n",
       "      <td>0.0</td>\n",
       "      <td>600.0</td>\n",
       "      <td>0.0</td>\n",
       "    </tr>\n",
       "    <tr>\n",
       "      <td>3200</td>\n",
       "      <td>1499</td>\n",
       "      <td>11</td>\n",
       "      <td>18.0</td>\n",
       "      <td>0.0</td>\n",
       "      <td>600.0</td>\n",
       "      <td>0.0</td>\n",
       "    </tr>\n",
       "    <tr>\n",
       "      <td>3201</td>\n",
       "      <td>1499</td>\n",
       "      <td>12</td>\n",
       "      <td>13.0</td>\n",
       "      <td>0.0</td>\n",
       "      <td>0.0</td>\n",
       "      <td>0.0</td>\n",
       "    </tr>\n",
       "    <tr>\n",
       "      <td>3202</td>\n",
       "      <td>1499</td>\n",
       "      <td>9</td>\n",
       "      <td>2.0</td>\n",
       "      <td>0.0</td>\n",
       "      <td>0.0</td>\n",
       "      <td>0.0</td>\n",
       "    </tr>\n",
       "  </tbody>\n",
       "</table>\n",
       "<p>3203 rows × 6 columns</p>\n",
       "</div>"
      ],
      "text/plain": [
       "tariff  user_id month  smart_internet_gb  ultra_internet_gb  \\\n",
       "0          1000    10                0.0               15.0   \n",
       "1          1000    11                0.0               15.0   \n",
       "2          1000    12                0.0               10.0   \n",
       "3          1000     5                0.0                3.0   \n",
       "4          1000     6                0.0               23.0   \n",
       "...         ...   ...                ...                ...   \n",
       "3198       1498     9               22.0                0.0   \n",
       "3199       1499    10               18.0                0.0   \n",
       "3200       1499    11               18.0                0.0   \n",
       "3201       1499    12               13.0                0.0   \n",
       "3202       1499     9                2.0                0.0   \n",
       "\n",
       "tariff  smart_internet_payment  ultra_internet_payment  \n",
       "0                          0.0                     0.0  \n",
       "1                          0.0                     0.0  \n",
       "2                          0.0                     0.0  \n",
       "3                          0.0                     0.0  \n",
       "4                          0.0                     0.0  \n",
       "...                        ...                     ...  \n",
       "3198                    1400.0                     0.0  \n",
       "3199                     600.0                     0.0  \n",
       "3200                     600.0                     0.0  \n",
       "3201                       0.0                     0.0  \n",
       "3202                       0.0                     0.0  \n",
       "\n",
       "[3203 rows x 6 columns]"
      ]
     },
     "execution_count": 11,
     "metadata": {},
     "output_type": "execute_result"
    }
   ],
   "source": [
    "import numpy as np\n",
    "data_internet['session_date'] = data_internet['session_date'].apply(date_change)\n",
    "data_internet = data_internet.merge(tariff, on='user_id')\n",
    "data_internet = data_internet.rename(columns={'session_date':'month'})\n",
    "data_internet_pivot = data_internet.pivot_table(index=['user_id', 'month'], columns = 'tariff', values='mb_used', aggfunc='sum')\n",
    "data_internet_pivot['smart'] = np.ceil(data_internet_pivot['smart']/1024)\n",
    "data_internet_pivot['ultra'] = np.ceil(data_internet_pivot['ultra']/1024)\n",
    "data_internet_pivot['smart_internet_payment'] = (data_internet_pivot['smart'] - 15) * (200)\n",
    "data_internet_pivot['ultra_internet_payment'] = (data_internet_pivot['ultra'] - 30) * (150)\n",
    "data_internet_pivot[data_internet_pivot < 0] = 0\n",
    "data_internet_pivot = data_internet_pivot.rename(columns={'smart':'smart_internet_gb', 'ultra':'ultra_internet_gb'})\n",
    "data_internet_pivot = data_internet_pivot.fillna(value=0).reset_index()\n",
    "data_internet_pivot"
   ]
  },
  {
   "cell_type": "markdown",
   "metadata": {},
   "source": [
    "Аналогично посчитаем сообщения."
   ]
  },
  {
   "cell_type": "code",
   "execution_count": 12,
   "metadata": {},
   "outputs": [
    {
     "data": {
      "text/html": [
       "<div>\n",
       "<style scoped>\n",
       "    .dataframe tbody tr th:only-of-type {\n",
       "        vertical-align: middle;\n",
       "    }\n",
       "\n",
       "    .dataframe tbody tr th {\n",
       "        vertical-align: top;\n",
       "    }\n",
       "\n",
       "    .dataframe thead th {\n",
       "        text-align: right;\n",
       "    }\n",
       "</style>\n",
       "<table border=\"1\" class=\"dataframe\">\n",
       "  <thead>\n",
       "    <tr style=\"text-align: right;\">\n",
       "      <th>tariff</th>\n",
       "      <th>user_id</th>\n",
       "      <th>month</th>\n",
       "      <th>smart_messages_amount</th>\n",
       "      <th>ultra_messages_amount</th>\n",
       "      <th>smart_messages_payment</th>\n",
       "      <th>ultra_messages_payment</th>\n",
       "    </tr>\n",
       "  </thead>\n",
       "  <tbody>\n",
       "    <tr>\n",
       "      <td>0</td>\n",
       "      <td>1000</td>\n",
       "      <td>10</td>\n",
       "      <td>0.0</td>\n",
       "      <td>73.0</td>\n",
       "      <td>0.0</td>\n",
       "      <td>0.0</td>\n",
       "    </tr>\n",
       "    <tr>\n",
       "      <td>1</td>\n",
       "      <td>1000</td>\n",
       "      <td>11</td>\n",
       "      <td>0.0</td>\n",
       "      <td>58.0</td>\n",
       "      <td>0.0</td>\n",
       "      <td>0.0</td>\n",
       "    </tr>\n",
       "    <tr>\n",
       "      <td>2</td>\n",
       "      <td>1000</td>\n",
       "      <td>12</td>\n",
       "      <td>0.0</td>\n",
       "      <td>70.0</td>\n",
       "      <td>0.0</td>\n",
       "      <td>0.0</td>\n",
       "    </tr>\n",
       "    <tr>\n",
       "      <td>3</td>\n",
       "      <td>1000</td>\n",
       "      <td>5</td>\n",
       "      <td>0.0</td>\n",
       "      <td>22.0</td>\n",
       "      <td>0.0</td>\n",
       "      <td>0.0</td>\n",
       "    </tr>\n",
       "    <tr>\n",
       "      <td>4</td>\n",
       "      <td>1000</td>\n",
       "      <td>6</td>\n",
       "      <td>0.0</td>\n",
       "      <td>60.0</td>\n",
       "      <td>0.0</td>\n",
       "      <td>0.0</td>\n",
       "    </tr>\n",
       "    <tr>\n",
       "      <td>...</td>\n",
       "      <td>...</td>\n",
       "      <td>...</td>\n",
       "      <td>...</td>\n",
       "      <td>...</td>\n",
       "      <td>...</td>\n",
       "      <td>...</td>\n",
       "    </tr>\n",
       "    <tr>\n",
       "      <td>2712</td>\n",
       "      <td>1498</td>\n",
       "      <td>9</td>\n",
       "      <td>44.0</td>\n",
       "      <td>0.0</td>\n",
       "      <td>0.0</td>\n",
       "      <td>0.0</td>\n",
       "    </tr>\n",
       "    <tr>\n",
       "      <td>2713</td>\n",
       "      <td>1499</td>\n",
       "      <td>10</td>\n",
       "      <td>48.0</td>\n",
       "      <td>0.0</td>\n",
       "      <td>0.0</td>\n",
       "      <td>0.0</td>\n",
       "    </tr>\n",
       "    <tr>\n",
       "      <td>2714</td>\n",
       "      <td>1499</td>\n",
       "      <td>11</td>\n",
       "      <td>59.0</td>\n",
       "      <td>0.0</td>\n",
       "      <td>27.0</td>\n",
       "      <td>0.0</td>\n",
       "    </tr>\n",
       "    <tr>\n",
       "      <td>2715</td>\n",
       "      <td>1499</td>\n",
       "      <td>12</td>\n",
       "      <td>66.0</td>\n",
       "      <td>0.0</td>\n",
       "      <td>48.0</td>\n",
       "      <td>0.0</td>\n",
       "    </tr>\n",
       "    <tr>\n",
       "      <td>2716</td>\n",
       "      <td>1499</td>\n",
       "      <td>9</td>\n",
       "      <td>11.0</td>\n",
       "      <td>0.0</td>\n",
       "      <td>0.0</td>\n",
       "      <td>0.0</td>\n",
       "    </tr>\n",
       "  </tbody>\n",
       "</table>\n",
       "<p>2717 rows × 6 columns</p>\n",
       "</div>"
      ],
      "text/plain": [
       "tariff  user_id month  smart_messages_amount  ultra_messages_amount  \\\n",
       "0          1000    10                    0.0                   73.0   \n",
       "1          1000    11                    0.0                   58.0   \n",
       "2          1000    12                    0.0                   70.0   \n",
       "3          1000     5                    0.0                   22.0   \n",
       "4          1000     6                    0.0                   60.0   \n",
       "...         ...   ...                    ...                    ...   \n",
       "2712       1498     9                   44.0                    0.0   \n",
       "2713       1499    10                   48.0                    0.0   \n",
       "2714       1499    11                   59.0                    0.0   \n",
       "2715       1499    12                   66.0                    0.0   \n",
       "2716       1499     9                   11.0                    0.0   \n",
       "\n",
       "tariff  smart_messages_payment  ultra_messages_payment  \n",
       "0                          0.0                     0.0  \n",
       "1                          0.0                     0.0  \n",
       "2                          0.0                     0.0  \n",
       "3                          0.0                     0.0  \n",
       "4                          0.0                     0.0  \n",
       "...                        ...                     ...  \n",
       "2712                       0.0                     0.0  \n",
       "2713                       0.0                     0.0  \n",
       "2714                      27.0                     0.0  \n",
       "2715                      48.0                     0.0  \n",
       "2716                       0.0                     0.0  \n",
       "\n",
       "[2717 rows x 6 columns]"
      ]
     },
     "execution_count": 12,
     "metadata": {},
     "output_type": "execute_result"
    }
   ],
   "source": [
    "data_messages['message_date'] = data_messages['message_date'].apply(date_change)\n",
    "data_messages = data_messages.merge(tariff, on='user_id')\n",
    "data_messages = data_messages.rename(columns={'message_date':'month'})\n",
    "data_messages_pivot = data_messages.pivot_table(index=['user_id', 'month'], columns = 'tariff', values = 'id', aggfunc='count')\n",
    "data_messages_pivot['smart_messages_payment'] = (data_messages_pivot['smart'] - 50) * 3\n",
    "data_messages_pivot['ultra_messages_payment'] = (data_messages_pivot['ultra'] - 1000) * 1\n",
    "data_messages_pivot[data_messages_pivot < 0] = 0\n",
    "data_messages_pivot = data_messages_pivot.fillna(value=0).reset_index()\n",
    "data_messages_pivot = data_messages_pivot.rename(columns={'smart':'smart_messages_amount', 'ultra':'ultra_messages_amount'})\n",
    "data_messages_pivot"
   ]
  },
  {
   "cell_type": "markdown",
   "metadata": {},
   "source": [
    "Теперь соединим все три датасета в один и создадим в нем столбец в котором будет находиться сумма с итоговой выручкой с клиента за каждый месяц."
   ]
  },
  {
   "cell_type": "code",
   "execution_count": 13,
   "metadata": {},
   "outputs": [
    {
     "data": {
      "text/html": [
       "<div>\n",
       "<style scoped>\n",
       "    .dataframe tbody tr th:only-of-type {\n",
       "        vertical-align: middle;\n",
       "    }\n",
       "\n",
       "    .dataframe tbody tr th {\n",
       "        vertical-align: top;\n",
       "    }\n",
       "\n",
       "    .dataframe thead th {\n",
       "        text-align: right;\n",
       "    }\n",
       "</style>\n",
       "<table border=\"1\" class=\"dataframe\">\n",
       "  <thead>\n",
       "    <tr style=\"text-align: right;\">\n",
       "      <th></th>\n",
       "      <th>user_id</th>\n",
       "      <th>month</th>\n",
       "      <th>tariff</th>\n",
       "      <th>call_time</th>\n",
       "      <th>internet_gb</th>\n",
       "      <th>messages_amount</th>\n",
       "      <th>call_payment</th>\n",
       "      <th>internet_payment</th>\n",
       "      <th>messages_payment</th>\n",
       "      <th>pre_total</th>\n",
       "      <th>paymen_per_month</th>\n",
       "      <th>total</th>\n",
       "      <th>age</th>\n",
       "      <th>churn_date</th>\n",
       "      <th>city</th>\n",
       "      <th>first_name</th>\n",
       "      <th>last_name</th>\n",
       "      <th>reg_date</th>\n",
       "    </tr>\n",
       "  </thead>\n",
       "  <tbody>\n",
       "    <tr>\n",
       "      <td>0</td>\n",
       "      <td>1000</td>\n",
       "      <td>10</td>\n",
       "      <td>ultra</td>\n",
       "      <td>350</td>\n",
       "      <td>15</td>\n",
       "      <td>73</td>\n",
       "      <td>0.0</td>\n",
       "      <td>0.0</td>\n",
       "      <td>0.0</td>\n",
       "      <td>0.0</td>\n",
       "      <td>1950</td>\n",
       "      <td>1950.0</td>\n",
       "      <td>52</td>\n",
       "      <td>Действующий</td>\n",
       "      <td>Краснодар</td>\n",
       "      <td>Рафаил</td>\n",
       "      <td>Верещагин</td>\n",
       "      <td>2018-05-25</td>\n",
       "    </tr>\n",
       "    <tr>\n",
       "      <td>1</td>\n",
       "      <td>1000</td>\n",
       "      <td>11</td>\n",
       "      <td>ultra</td>\n",
       "      <td>338</td>\n",
       "      <td>15</td>\n",
       "      <td>58</td>\n",
       "      <td>0.0</td>\n",
       "      <td>0.0</td>\n",
       "      <td>0.0</td>\n",
       "      <td>0.0</td>\n",
       "      <td>1950</td>\n",
       "      <td>1950.0</td>\n",
       "      <td>52</td>\n",
       "      <td>Действующий</td>\n",
       "      <td>Краснодар</td>\n",
       "      <td>Рафаил</td>\n",
       "      <td>Верещагин</td>\n",
       "      <td>2018-05-25</td>\n",
       "    </tr>\n",
       "    <tr>\n",
       "      <td>2</td>\n",
       "      <td>1000</td>\n",
       "      <td>12</td>\n",
       "      <td>ultra</td>\n",
       "      <td>333</td>\n",
       "      <td>10</td>\n",
       "      <td>70</td>\n",
       "      <td>0.0</td>\n",
       "      <td>0.0</td>\n",
       "      <td>0.0</td>\n",
       "      <td>0.0</td>\n",
       "      <td>1950</td>\n",
       "      <td>1950.0</td>\n",
       "      <td>52</td>\n",
       "      <td>Действующий</td>\n",
       "      <td>Краснодар</td>\n",
       "      <td>Рафаил</td>\n",
       "      <td>Верещагин</td>\n",
       "      <td>2018-05-25</td>\n",
       "    </tr>\n",
       "    <tr>\n",
       "      <td>3</td>\n",
       "      <td>1000</td>\n",
       "      <td>5</td>\n",
       "      <td>ultra</td>\n",
       "      <td>159</td>\n",
       "      <td>3</td>\n",
       "      <td>22</td>\n",
       "      <td>0.0</td>\n",
       "      <td>0.0</td>\n",
       "      <td>0.0</td>\n",
       "      <td>0.0</td>\n",
       "      <td>1950</td>\n",
       "      <td>1950.0</td>\n",
       "      <td>52</td>\n",
       "      <td>Действующий</td>\n",
       "      <td>Краснодар</td>\n",
       "      <td>Рафаил</td>\n",
       "      <td>Верещагин</td>\n",
       "      <td>2018-05-25</td>\n",
       "    </tr>\n",
       "    <tr>\n",
       "      <td>4</td>\n",
       "      <td>1000</td>\n",
       "      <td>6</td>\n",
       "      <td>ultra</td>\n",
       "      <td>172</td>\n",
       "      <td>23</td>\n",
       "      <td>60</td>\n",
       "      <td>0.0</td>\n",
       "      <td>0.0</td>\n",
       "      <td>0.0</td>\n",
       "      <td>0.0</td>\n",
       "      <td>1950</td>\n",
       "      <td>1950.0</td>\n",
       "      <td>52</td>\n",
       "      <td>Действующий</td>\n",
       "      <td>Краснодар</td>\n",
       "      <td>Рафаил</td>\n",
       "      <td>Верещагин</td>\n",
       "      <td>2018-05-25</td>\n",
       "    </tr>\n",
       "    <tr>\n",
       "      <td>...</td>\n",
       "      <td>...</td>\n",
       "      <td>...</td>\n",
       "      <td>...</td>\n",
       "      <td>...</td>\n",
       "      <td>...</td>\n",
       "      <td>...</td>\n",
       "      <td>...</td>\n",
       "      <td>...</td>\n",
       "      <td>...</td>\n",
       "      <td>...</td>\n",
       "      <td>...</td>\n",
       "      <td>...</td>\n",
       "      <td>...</td>\n",
       "      <td>...</td>\n",
       "      <td>...</td>\n",
       "      <td>...</td>\n",
       "      <td>...</td>\n",
       "      <td>...</td>\n",
       "    </tr>\n",
       "    <tr>\n",
       "      <td>3209</td>\n",
       "      <td>1489</td>\n",
       "      <td>10</td>\n",
       "      <td>smart</td>\n",
       "      <td>0</td>\n",
       "      <td>20</td>\n",
       "      <td>21</td>\n",
       "      <td>0.0</td>\n",
       "      <td>1000.0</td>\n",
       "      <td>0.0</td>\n",
       "      <td>1000.0</td>\n",
       "      <td>550</td>\n",
       "      <td>1550.0</td>\n",
       "      <td>35</td>\n",
       "      <td>Действующий</td>\n",
       "      <td>Санкт-Петербург</td>\n",
       "      <td>Павел</td>\n",
       "      <td>Гончаров</td>\n",
       "      <td>2018-08-15</td>\n",
       "    </tr>\n",
       "    <tr>\n",
       "      <td>3210</td>\n",
       "      <td>1489</td>\n",
       "      <td>11</td>\n",
       "      <td>smart</td>\n",
       "      <td>0</td>\n",
       "      <td>18</td>\n",
       "      <td>20</td>\n",
       "      <td>0.0</td>\n",
       "      <td>600.0</td>\n",
       "      <td>0.0</td>\n",
       "      <td>600.0</td>\n",
       "      <td>550</td>\n",
       "      <td>1150.0</td>\n",
       "      <td>35</td>\n",
       "      <td>Действующий</td>\n",
       "      <td>Санкт-Петербург</td>\n",
       "      <td>Павел</td>\n",
       "      <td>Гончаров</td>\n",
       "      <td>2018-08-15</td>\n",
       "    </tr>\n",
       "    <tr>\n",
       "      <td>3211</td>\n",
       "      <td>1489</td>\n",
       "      <td>12</td>\n",
       "      <td>smart</td>\n",
       "      <td>0</td>\n",
       "      <td>17</td>\n",
       "      <td>35</td>\n",
       "      <td>0.0</td>\n",
       "      <td>400.0</td>\n",
       "      <td>0.0</td>\n",
       "      <td>400.0</td>\n",
       "      <td>550</td>\n",
       "      <td>950.0</td>\n",
       "      <td>35</td>\n",
       "      <td>Действующий</td>\n",
       "      <td>Санкт-Петербург</td>\n",
       "      <td>Павел</td>\n",
       "      <td>Гончаров</td>\n",
       "      <td>2018-08-15</td>\n",
       "    </tr>\n",
       "    <tr>\n",
       "      <td>3212</td>\n",
       "      <td>1489</td>\n",
       "      <td>8</td>\n",
       "      <td>smart</td>\n",
       "      <td>0</td>\n",
       "      <td>11</td>\n",
       "      <td>17</td>\n",
       "      <td>0.0</td>\n",
       "      <td>0.0</td>\n",
       "      <td>0.0</td>\n",
       "      <td>0.0</td>\n",
       "      <td>550</td>\n",
       "      <td>550.0</td>\n",
       "      <td>35</td>\n",
       "      <td>Действующий</td>\n",
       "      <td>Санкт-Петербург</td>\n",
       "      <td>Павел</td>\n",
       "      <td>Гончаров</td>\n",
       "      <td>2018-08-15</td>\n",
       "    </tr>\n",
       "    <tr>\n",
       "      <td>3213</td>\n",
       "      <td>1489</td>\n",
       "      <td>9</td>\n",
       "      <td>smart</td>\n",
       "      <td>0</td>\n",
       "      <td>17</td>\n",
       "      <td>32</td>\n",
       "      <td>0.0</td>\n",
       "      <td>400.0</td>\n",
       "      <td>0.0</td>\n",
       "      <td>400.0</td>\n",
       "      <td>550</td>\n",
       "      <td>950.0</td>\n",
       "      <td>35</td>\n",
       "      <td>Действующий</td>\n",
       "      <td>Санкт-Петербург</td>\n",
       "      <td>Павел</td>\n",
       "      <td>Гончаров</td>\n",
       "      <td>2018-08-15</td>\n",
       "    </tr>\n",
       "  </tbody>\n",
       "</table>\n",
       "<p>3214 rows × 18 columns</p>\n",
       "</div>"
      ],
      "text/plain": [
       "      user_id month tariff  call_time  internet_gb  messages_amount  \\\n",
       "0        1000    10  ultra        350           15               73   \n",
       "1        1000    11  ultra        338           15               58   \n",
       "2        1000    12  ultra        333           10               70   \n",
       "3        1000     5  ultra        159            3               22   \n",
       "4        1000     6  ultra        172           23               60   \n",
       "...       ...   ...    ...        ...          ...              ...   \n",
       "3209     1489    10  smart          0           20               21   \n",
       "3210     1489    11  smart          0           18               20   \n",
       "3211     1489    12  smart          0           17               35   \n",
       "3212     1489     8  smart          0           11               17   \n",
       "3213     1489     9  smart          0           17               32   \n",
       "\n",
       "      call_payment  internet_payment  messages_payment  pre_total  \\\n",
       "0              0.0               0.0               0.0        0.0   \n",
       "1              0.0               0.0               0.0        0.0   \n",
       "2              0.0               0.0               0.0        0.0   \n",
       "3              0.0               0.0               0.0        0.0   \n",
       "4              0.0               0.0               0.0        0.0   \n",
       "...            ...               ...               ...        ...   \n",
       "3209           0.0            1000.0               0.0     1000.0   \n",
       "3210           0.0             600.0               0.0      600.0   \n",
       "3211           0.0             400.0               0.0      400.0   \n",
       "3212           0.0               0.0               0.0        0.0   \n",
       "3213           0.0             400.0               0.0      400.0   \n",
       "\n",
       "      paymen_per_month   total  age   churn_date             city first_name  \\\n",
       "0                 1950  1950.0   52  Действующий        Краснодар     Рафаил   \n",
       "1                 1950  1950.0   52  Действующий        Краснодар     Рафаил   \n",
       "2                 1950  1950.0   52  Действующий        Краснодар     Рафаил   \n",
       "3                 1950  1950.0   52  Действующий        Краснодар     Рафаил   \n",
       "4                 1950  1950.0   52  Действующий        Краснодар     Рафаил   \n",
       "...                ...     ...  ...          ...              ...        ...   \n",
       "3209               550  1550.0   35  Действующий  Санкт-Петербург      Павел   \n",
       "3210               550  1150.0   35  Действующий  Санкт-Петербург      Павел   \n",
       "3211               550   950.0   35  Действующий  Санкт-Петербург      Павел   \n",
       "3212               550   550.0   35  Действующий  Санкт-Петербург      Павел   \n",
       "3213               550   950.0   35  Действующий  Санкт-Петербург      Павел   \n",
       "\n",
       "      last_name    reg_date  \n",
       "0     Верещагин  2018-05-25  \n",
       "1     Верещагин  2018-05-25  \n",
       "2     Верещагин  2018-05-25  \n",
       "3     Верещагин  2018-05-25  \n",
       "4     Верещагин  2018-05-25  \n",
       "...         ...         ...  \n",
       "3209   Гончаров  2018-08-15  \n",
       "3210   Гончаров  2018-08-15  \n",
       "3211   Гончаров  2018-08-15  \n",
       "3212   Гончаров  2018-08-15  \n",
       "3213   Гончаров  2018-08-15  \n",
       "\n",
       "[3214 rows x 18 columns]"
      ]
     },
     "execution_count": 13,
     "metadata": {},
     "output_type": "execute_result"
    }
   ],
   "source": [
    "df = pd.merge(data_calls_pivot, data_internet_pivot, on=['user_id', 'month'], how='outer') # соеденим датасеты по очереди\n",
    "df = pd.merge(df, data_messages_pivot, on=['user_id', 'month'], how='outer')\n",
    "df = pd.merge(df, data_users, on='user_id')\n",
    "df['churn_date'] = df['churn_date'].fillna(value='Действующий') # заменим пустые значения на фразу\n",
    "df = df.fillna(value='0') # заменим все остальняе значения на нули\n",
    "df['smart_internet_payment'] = df['smart_internet_payment'].astype('float') # сменим тип данных в столбцах\n",
    "df['smart_call_payment'] = df['smart_call_payment'].astype('float')\n",
    "df['smart_messages_payment'] = df['smart_messages_payment'].astype('float')\n",
    "df['ultra_internet_payment'] = df['ultra_internet_payment'].astype('float')\n",
    "df['ultra_call_payment'] = df['ultra_call_payment'].astype('float')\n",
    "df['ultra_messages_payment'] = df['ultra_messages_payment'].astype('float')\n",
    "df['pre_total'] = df['smart_internet_payment'] + df['smart_call_payment'] + df['smart_messages_payment'] + df['ultra_internet_payment'] + df['ultra_call_payment'] + df['ultra_messages_payment']\n",
    "# создадим столбец с суммой всех пользователей, которые доплатили сверх лимита\n",
    "\n",
    "def month_payment(row): # создадим фунцию которая добавит помесячную плату\n",
    "    if 'ultra' in row:\n",
    "        return 1950\n",
    "    if 'smart' in row:\n",
    "        return 550\n",
    "    \n",
    "df['paymen_per_month'] = df['tariff'].apply(month_payment) # создадим столбец с помесячной платой\n",
    "df['total'] = df['pre_total'] + df['paymen_per_month'] # создадим столбец с итговой суммой, которую оплатил каждый пользователь в месяц\n",
    "df = df.round(decimals=2) # оставим во всех числовых значениях не более двух знаков полсе запятой\n",
    "df['call_payment'] = df['smart_call_payment'] + df['ultra_call_payment'] # отдельные столбца по каждому тарифу нас уже не понадобятся, поэтому объединим их\n",
    "df['internet_payment'] = df['smart_internet_payment'] + df['ultra_internet_payment']\n",
    "df['messages_payment'] = df['smart_messages_payment'] + df['ultra_messages_payment']\n",
    "df['call_time'] = df['smart_call_time'] + df['ultra_call_time'] # отдельные столбца по каждому тарифу нас уже не понадобятся, поэтому объединим их\n",
    "df['internet_gb'] = df['smart_internet_gb'] + df['ultra_internet_gb']\n",
    "df['messages_amount'] = df['smart_messages_amount'] + df['ultra_messages_amount']\n",
    "df['call_time'] = df['call_time'].astype('int') # сменим тип их данных\n",
    "df['internet_gb'] = df['internet_gb'].astype('int')\n",
    "df['messages_amount'] = df['messages_amount'].astype('int')\n",
    "df = df[['user_id', 'month','tariff', 'call_time', 'internet_gb', 'messages_amount', 'call_payment', 'internet_payment', 'messages_payment', 'pre_total', 'paymen_per_month', 'total', 'age', 'churn_date', 'city', 'first_name', 'last_name', 'reg_date']]\n",
    "# изменим распложение столбцов и уберем лишние\n",
    "df"
   ]
  },
  {
   "cell_type": "markdown",
   "metadata": {},
   "source": [
    "В итоге получен общий датасет с итоговыми суммами."
   ]
  },
  {
   "cell_type": "code",
   "execution_count": 14,
   "metadata": {},
   "outputs": [
    {
     "data": {
      "text/html": [
       "<div>\n",
       "<style scoped>\n",
       "    .dataframe tbody tr th:only-of-type {\n",
       "        vertical-align: middle;\n",
       "    }\n",
       "\n",
       "    .dataframe tbody tr th {\n",
       "        vertical-align: top;\n",
       "    }\n",
       "\n",
       "    .dataframe thead th {\n",
       "        text-align: right;\n",
       "    }\n",
       "</style>\n",
       "<table border=\"1\" class=\"dataframe\">\n",
       "  <thead>\n",
       "    <tr style=\"text-align: right;\">\n",
       "      <th></th>\n",
       "      <th>user_id</th>\n",
       "      <th>month</th>\n",
       "      <th>tariff</th>\n",
       "      <th>call_time</th>\n",
       "      <th>internet_gb</th>\n",
       "      <th>messages_amount</th>\n",
       "      <th>call_payment</th>\n",
       "      <th>internet_payment</th>\n",
       "      <th>messages_payment</th>\n",
       "      <th>pre_total</th>\n",
       "      <th>paymen_per_month</th>\n",
       "      <th>total</th>\n",
       "      <th>age</th>\n",
       "      <th>churn_date</th>\n",
       "      <th>city</th>\n",
       "      <th>first_name</th>\n",
       "      <th>last_name</th>\n",
       "      <th>reg_date</th>\n",
       "    </tr>\n",
       "  </thead>\n",
       "  <tbody>\n",
       "    <tr>\n",
       "      <td>855</td>\n",
       "      <td>1138</td>\n",
       "      <td>10</td>\n",
       "      <td>smart</td>\n",
       "      <td>562</td>\n",
       "      <td>27</td>\n",
       "      <td>9</td>\n",
       "      <td>186.0</td>\n",
       "      <td>2400.0</td>\n",
       "      <td>0.0</td>\n",
       "      <td>2586.0</td>\n",
       "      <td>550</td>\n",
       "      <td>3136.0</td>\n",
       "      <td>23</td>\n",
       "      <td>Действующий</td>\n",
       "      <td>Екатеринбург</td>\n",
       "      <td>Леся</td>\n",
       "      <td>Ерофеева</td>\n",
       "      <td>2018-07-13</td>\n",
       "    </tr>\n",
       "    <tr>\n",
       "      <td>856</td>\n",
       "      <td>1138</td>\n",
       "      <td>11</td>\n",
       "      <td>smart</td>\n",
       "      <td>526</td>\n",
       "      <td>22</td>\n",
       "      <td>7</td>\n",
       "      <td>78.0</td>\n",
       "      <td>1400.0</td>\n",
       "      <td>0.0</td>\n",
       "      <td>1478.0</td>\n",
       "      <td>550</td>\n",
       "      <td>2028.0</td>\n",
       "      <td>23</td>\n",
       "      <td>Действующий</td>\n",
       "      <td>Екатеринбург</td>\n",
       "      <td>Леся</td>\n",
       "      <td>Ерофеева</td>\n",
       "      <td>2018-07-13</td>\n",
       "    </tr>\n",
       "    <tr>\n",
       "      <td>857</td>\n",
       "      <td>1138</td>\n",
       "      <td>12</td>\n",
       "      <td>smart</td>\n",
       "      <td>527</td>\n",
       "      <td>25</td>\n",
       "      <td>8</td>\n",
       "      <td>81.0</td>\n",
       "      <td>2000.0</td>\n",
       "      <td>0.0</td>\n",
       "      <td>2081.0</td>\n",
       "      <td>550</td>\n",
       "      <td>2631.0</td>\n",
       "      <td>23</td>\n",
       "      <td>Действующий</td>\n",
       "      <td>Екатеринбург</td>\n",
       "      <td>Леся</td>\n",
       "      <td>Ерофеева</td>\n",
       "      <td>2018-07-13</td>\n",
       "    </tr>\n",
       "    <tr>\n",
       "      <td>858</td>\n",
       "      <td>1138</td>\n",
       "      <td>7</td>\n",
       "      <td>smart</td>\n",
       "      <td>483</td>\n",
       "      <td>16</td>\n",
       "      <td>7</td>\n",
       "      <td>0.0</td>\n",
       "      <td>200.0</td>\n",
       "      <td>0.0</td>\n",
       "      <td>200.0</td>\n",
       "      <td>550</td>\n",
       "      <td>750.0</td>\n",
       "      <td>23</td>\n",
       "      <td>Действующий</td>\n",
       "      <td>Екатеринбург</td>\n",
       "      <td>Леся</td>\n",
       "      <td>Ерофеева</td>\n",
       "      <td>2018-07-13</td>\n",
       "    </tr>\n",
       "    <tr>\n",
       "      <td>859</td>\n",
       "      <td>1138</td>\n",
       "      <td>8</td>\n",
       "      <td>smart</td>\n",
       "      <td>859</td>\n",
       "      <td>29</td>\n",
       "      <td>3</td>\n",
       "      <td>1077.0</td>\n",
       "      <td>2800.0</td>\n",
       "      <td>0.0</td>\n",
       "      <td>3877.0</td>\n",
       "      <td>550</td>\n",
       "      <td>4427.0</td>\n",
       "      <td>23</td>\n",
       "      <td>Действующий</td>\n",
       "      <td>Екатеринбург</td>\n",
       "      <td>Леся</td>\n",
       "      <td>Ерофеева</td>\n",
       "      <td>2018-07-13</td>\n",
       "    </tr>\n",
       "    <tr>\n",
       "      <td>860</td>\n",
       "      <td>1138</td>\n",
       "      <td>9</td>\n",
       "      <td>smart</td>\n",
       "      <td>701</td>\n",
       "      <td>24</td>\n",
       "      <td>2</td>\n",
       "      <td>603.0</td>\n",
       "      <td>1800.0</td>\n",
       "      <td>0.0</td>\n",
       "      <td>2403.0</td>\n",
       "      <td>550</td>\n",
       "      <td>2953.0</td>\n",
       "      <td>23</td>\n",
       "      <td>Действующий</td>\n",
       "      <td>Екатеринбург</td>\n",
       "      <td>Леся</td>\n",
       "      <td>Ерофеева</td>\n",
       "      <td>2018-07-13</td>\n",
       "    </tr>\n",
       "  </tbody>\n",
       "</table>\n",
       "</div>"
      ],
      "text/plain": [
       "     user_id month tariff  call_time  internet_gb  messages_amount  \\\n",
       "855     1138    10  smart        562           27                9   \n",
       "856     1138    11  smart        526           22                7   \n",
       "857     1138    12  smart        527           25                8   \n",
       "858     1138     7  smart        483           16                7   \n",
       "859     1138     8  smart        859           29                3   \n",
       "860     1138     9  smart        701           24                2   \n",
       "\n",
       "     call_payment  internet_payment  messages_payment  pre_total  \\\n",
       "855         186.0            2400.0               0.0     2586.0   \n",
       "856          78.0            1400.0               0.0     1478.0   \n",
       "857          81.0            2000.0               0.0     2081.0   \n",
       "858           0.0             200.0               0.0      200.0   \n",
       "859        1077.0            2800.0               0.0     3877.0   \n",
       "860         603.0            1800.0               0.0     2403.0   \n",
       "\n",
       "     paymen_per_month   total  age   churn_date          city first_name  \\\n",
       "855               550  3136.0   23  Действующий  Екатеринбург       Леся   \n",
       "856               550  2028.0   23  Действующий  Екатеринбург       Леся   \n",
       "857               550  2631.0   23  Действующий  Екатеринбург       Леся   \n",
       "858               550   750.0   23  Действующий  Екатеринбург       Леся   \n",
       "859               550  4427.0   23  Действующий  Екатеринбург       Леся   \n",
       "860               550  2953.0   23  Действующий  Екатеринбург       Леся   \n",
       "\n",
       "    last_name    reg_date  \n",
       "855  Ерофеева  2018-07-13  \n",
       "856  Ерофеева  2018-07-13  \n",
       "857  Ерофеева  2018-07-13  \n",
       "858  Ерофеева  2018-07-13  \n",
       "859  Ерофеева  2018-07-13  \n",
       "860  Ерофеева  2018-07-13  "
      ]
     },
     "execution_count": 14,
     "metadata": {},
     "output_type": "execute_result"
    }
   ],
   "source": [
    "df[df['user_id']==1138]"
   ]
  },
  {
   "cell_type": "markdown",
   "metadata": {},
   "source": [
    "## Анализ данных"
   ]
  },
  {
   "cell_type": "markdown",
   "metadata": {},
   "source": [
    "Разделим датасет на два для анализа тарифов ultra и smart."
   ]
  },
  {
   "cell_type": "code",
   "execution_count": 15,
   "metadata": {},
   "outputs": [],
   "source": [
    "df_ultra = df.query('tariff == \"ultra\"')\n",
    "df_smart = df.query('tariff == \"smart\"')"
   ]
  },
  {
   "cell_type": "markdown",
   "metadata": {},
   "source": [
    "Теперь построим графики и проанализируем звонки, сообщения и интернет трафик по месяцам. "
   ]
  },
  {
   "cell_type": "markdown",
   "metadata": {},
   "source": [
    "### Анализ звонков"
   ]
  },
  {
   "cell_type": "markdown",
   "metadata": {},
   "source": [
    "Для анализа среднего, дисперсии и среднего отклонения построим графики:"
   ]
  },
  {
   "cell_type": "code",
   "execution_count": 16,
   "metadata": {},
   "outputs": [
    {
     "data": {
      "image/png": "[encoded data removed]",
      "text/plain": [
       "<Figure size 432x288 with 1 Axes>"
      ]
     },
     "metadata": {
      "needs_background": "light"
     },
     "output_type": "display_data"
    }
   ],
   "source": [
    "import matplotlib.pyplot as plt\n",
    "df_ultra_call = df_ultra.pivot_table(index=['month'], values='call_time', aggfunc='mean').reset_index()\n",
    "df_smart_call = df_smart.pivot_table(index=['month'], values='call_time', aggfunc='mean').reset_index()\n",
    "plt.plot(df_ultra_call['call_time'], label = 'ultra')\n",
    "plt.plot(df_smart_call['call_time'], label = 'smart')\n",
    "plt.legend()\n",
    "plt.title('Звонки по месяцам, среднее')\n",
    "plt.show()"
   ]
  },
  {
   "cell_type": "code",
   "execution_count": 17,
   "metadata": {},
   "outputs": [
    {
     "data": {
      "image/png": "[encoded data removed]",
      "text/plain": [
       "<Figure size 432x288 with 1 Axes>"
      ]
     },
     "metadata": {
      "needs_background": "light"
     },
     "output_type": "display_data"
    }
   ],
   "source": [
    "df_ultra_call_std = df_ultra.pivot_table(index=['month'], values='call_time', aggfunc=np.std).reset_index()\n",
    "df_smart_call_std = df_smart.pivot_table(index=['month'], values='call_time', aggfunc=np.std).reset_index()\n",
    "plt.plot(df_ultra_call_std['call_time'], label = 'ultra')\n",
    "plt.plot(df_smart_call_std['call_time'], label = 'smart')\n",
    "plt.title('Звонки по месяцам, среднее отклонение')\n",
    "plt.legend()\n",
    "plt.show()"
   ]
  },
  {
   "cell_type": "code",
   "execution_count": 18,
   "metadata": {},
   "outputs": [
    {
     "data": {
      "image/png": "[encoded data removed]",
      "text/plain": [
       "<Figure size 432x288 with 1 Axes>"
      ]
     },
     "metadata": {
      "needs_background": "light"
     },
     "output_type": "display_data"
    }
   ],
   "source": [
    "df_ultra_call_var = df_ultra.pivot_table(index=['month'], values='call_time', aggfunc=np.var).reset_index()\n",
    "df_smart_call_var = df_smart.pivot_table(index=['month'], values='call_time', aggfunc=np.var).reset_index()\n",
    "plt.plot(df_ultra_call_var['call_time'], label = 'ultra')\n",
    "plt.plot(df_smart_call_var['call_time'], label = 'smart')\n",
    "plt.title('Звонки по месяцам, дисперсия')\n",
    "plt.legend()\n",
    "plt.show()"
   ]
  },
  {
   "cell_type": "markdown",
   "metadata": {},
   "source": [
    "Графики показывают, что в среднем абоненты тарифа ultra тратят больше минут на разговоры при этом стандартное отклонение и дисперсия показывают, что разброс данных по пользователям этого тарифа гораздо выше. Скорее всего такое поведение связано с тем что у пользователей ultra минутный пакет в разы больше и они могут его использовать не думаю о превышении лимита. По какой-то причине в апреле идет резкий провал в графике, скорее всего это связано со сбоями связи."
   ]
  },
  {
   "cell_type": "markdown",
   "metadata": {},
   "source": [
    "### Анализ трафика"
   ]
  },
  {
   "cell_type": "code",
   "execution_count": 19,
   "metadata": {},
   "outputs": [
    {
     "data": {
      "image/png": "[encoded data removed]",
      "text/plain": [
       "<Figure size 432x288 with 1 Axes>"
      ]
     },
     "metadata": {
      "needs_background": "light"
     },
     "output_type": "display_data"
    }
   ],
   "source": [
    "df_ultra_internet = df_ultra.pivot_table(index=['month'], values='internet_gb', aggfunc='mean').reset_index()\n",
    "df_smart_internet = df_smart.pivot_table(index=['month'], values='internet_gb', aggfunc='mean').reset_index()\n",
    "plt.plot(df_ultra_internet['internet_gb'], label = 'ultra')\n",
    "plt.plot(df_smart_internet['internet_gb'], label = 'smart')\n",
    "plt.legend()\n",
    "plt.title('Трафик по месяцам, среднее')\n",
    "plt.show()"
   ]
  },
  {
   "cell_type": "code",
   "execution_count": 20,
   "metadata": {},
   "outputs": [
    {
     "data": {
      "image/png": "[encoded data removed]",
      "text/plain": [
       "<Figure size 432x288 with 1 Axes>"
      ]
     },
     "metadata": {
      "needs_background": "light"
     },
     "output_type": "display_data"
    }
   ],
   "source": [
    "df_ultra_internet_std = df_ultra.pivot_table(index=['month'], values='internet_gb', aggfunc=np.std).reset_index()\n",
    "df_smart_internet_std = df_smart.pivot_table(index=['month'], values='internet_gb', aggfunc=np.std).reset_index()\n",
    "plt.plot(df_ultra_internet_std['internet_gb'], label = 'ultra')\n",
    "plt.plot(df_smart_internet_std['internet_gb'], label = 'smart')\n",
    "plt.legend()\n",
    "plt.title('Трафик по месяцам, стандартное отклонение')\n",
    "plt.show()"
   ]
  },
  {
   "cell_type": "code",
   "execution_count": 21,
   "metadata": {},
   "outputs": [
    {
     "data": {
      "image/png": "[encoded data removed]",
      "text/plain": [
       "<Figure size 432x288 with 1 Axes>"
      ]
     },
     "metadata": {
      "needs_background": "light"
     },
     "output_type": "display_data"
    }
   ],
   "source": [
    "df_ultra_internet_var = df_ultra.pivot_table(index=['month'], values='internet_gb', aggfunc=np.var).reset_index()\n",
    "df_smart_internet_var = df_smart.pivot_table(index=['month'], values='internet_gb', aggfunc=np.var).reset_index()\n",
    "plt.plot(df_ultra_internet_var['internet_gb'], label = 'ultra')\n",
    "plt.plot(df_smart_internet_var['internet_gb'], label = 'smart')\n",
    "plt.legend()\n",
    "plt.title('Трафик по месяцам, дисперсия')\n",
    "plt.show()"
   ]
  },
  {
   "cell_type": "markdown",
   "metadata": {},
   "source": [
    "Аналогично минутам абоненты тарифа ultra тратят больше, дисперсия и стандартное отклонение гораздо выше у пользователей ultra. Так же в апреле есть резкое падение использование трафика."
   ]
  },
  {
   "cell_type": "markdown",
   "metadata": {},
   "source": [
    "### Анализ сообщений"
   ]
  },
  {
   "cell_type": "code",
   "execution_count": 22,
   "metadata": {},
   "outputs": [
    {
     "data": {
      "image/png": "[encoded data removed]",
      "text/plain": [
       "<Figure size 432x288 with 1 Axes>"
      ]
     },
     "metadata": {
      "needs_background": "light"
     },
     "output_type": "display_data"
    }
   ],
   "source": [
    "df_ultra_messages = df_ultra.pivot_table(index=['month'], values='messages_amount', aggfunc='mean').reset_index()\n",
    "df_smart_messages = df_smart.pivot_table(index=['month'], values='messages_amount', aggfunc='mean').reset_index()\n",
    "plt.plot(df_ultra_messages['messages_amount'], label = 'ultra')\n",
    "plt.plot(df_smart_messages['messages_amount'], label = 'smart')\n",
    "plt.legend()\n",
    "plt.title('Сообщения по месяцам')\n",
    "plt.show()"
   ]
  },
  {
   "cell_type": "code",
   "execution_count": 23,
   "metadata": {},
   "outputs": [
    {
     "data": {
      "image/png": "[encoded data removed]",
      "text/plain": [
       "<Figure size 432x288 with 1 Axes>"
      ]
     },
     "metadata": {
      "needs_background": "light"
     },
     "output_type": "display_data"
    }
   ],
   "source": [
    "df_ultra_messages_std = df_ultra.pivot_table(index=['month'], values='messages_amount', aggfunc=np.std).reset_index()\n",
    "df_smart_messages_std = df_smart.pivot_table(index=['month'], values='messages_amount', aggfunc=np.std).reset_index()\n",
    "plt.plot(df_ultra_messages_std['messages_amount'], label = 'ultra')\n",
    "plt.plot(df_smart_messages_std['messages_amount'], label = 'smart')\n",
    "plt.legend()\n",
    "plt.title('Сообщения по месяцам, стандартное отклонение')\n",
    "plt.show()"
   ]
  },
  {
   "cell_type": "code",
   "execution_count": 24,
   "metadata": {},
   "outputs": [
    {
     "data": {
      "image/png": "[encoded data removed]",
      "text/plain": [
       "<Figure size 432x288 with 1 Axes>"
      ]
     },
     "metadata": {
      "needs_background": "light"
     },
     "output_type": "display_data"
    }
   ],
   "source": [
    "df_ultra_messages_var = df_ultra.pivot_table(index=['month'], values='messages_amount', aggfunc=np.var).reset_index()\n",
    "df_smart_messages_var = df_smart.pivot_table(index=['month'], values='messages_amount', aggfunc=np.var).reset_index()\n",
    "plt.plot(df_ultra_messages_var['messages_amount'], label = 'ultra')\n",
    "plt.plot(df_smart_messages_var['messages_amount'], label = 'smart')\n",
    "plt.legend()\n",
    "plt.title('Сообщения по месяцам, дисперсия')\n",
    "plt.show()"
   ]
  },
  {
   "cell_type": "markdown",
   "metadata": {},
   "source": [
    "Картина схожа с другими данными, пользователи ultra  отправляют больше сообщений и разброс данных у них выше. Так же наблюдается провал в апреле."
   ]
  },
  {
   "cell_type": "markdown",
   "metadata": {},
   "source": [
    "### Анализ количества оказанных усулуг."
   ]
  },
  {
   "cell_type": "code",
   "execution_count": 25,
   "metadata": {},
   "outputs": [
    {
     "data": {
      "image/png": "[encoded data removed]",
      "text/plain": [
       "<Figure size 432x288 with 1 Axes>"
      ]
     },
     "metadata": {
      "needs_background": "light"
     },
     "output_type": "display_data"
    }
   ],
   "source": [
    "ax = df_ultra['call_time'].plot(bins = 100, kind = 'hist', alpha=0.5, label = 'ultra')\n",
    "df_smart['call_time'].plot(bins = 100, kind = 'hist', alpha=0.5, label = 'smart', ax=ax)\n",
    "plt.legend()\n",
    "plt.title('Звонки')\n",
    "plt.show()"
   ]
  },
  {
   "cell_type": "markdown",
   "metadata": {},
   "source": [
    "Большинство абонентов smart тратят минуты в близко к своему лимиту или слегка превысив его, в то время как пользователи ultra его не превышают. Не все пользователи и не всегда пользуются данной услугой. "
   ]
  },
  {
   "cell_type": "code",
   "execution_count": 26,
   "metadata": {},
   "outputs": [
    {
     "data": {
      "image/png": "[encoded data removed]",
      "text/plain": [
       "<Figure size 432x288 with 1 Axes>"
      ]
     },
     "metadata": {
      "needs_background": "light"
     },
     "output_type": "display_data"
    }
   ],
   "source": [
    "ax = df_ultra['internet_gb'].plot(bins = 100, kind = 'hist', alpha=0.5, label = 'ultra')\n",
    "df_smart['internet_gb'].plot(bins = 100, kind = 'hist', alpha=0.5, label = 'smart', ax=ax)\n",
    "plt.legend()\n",
    "plt.title('Трафик')\n",
    "plt.show()\n"
   ]
  },
  {
   "cell_type": "markdown",
   "metadata": {},
   "source": [
    "Большинство абонентов тарифа smart чаще превышают свой лимит в 15 gb, в то время как большинство абонентов ultra остаются в своем лимите 30 gb."
   ]
  },
  {
   "cell_type": "code",
   "execution_count": 27,
   "metadata": {},
   "outputs": [
    {
     "data": {
      "image/png": "[encoded data removed]",
      "text/plain": [
       "<Figure size 432x288 with 1 Axes>"
      ]
     },
     "metadata": {
      "needs_background": "light"
     },
     "output_type": "display_data"
    }
   ],
   "source": [
    "ax = df_ultra['messages_amount'].plot(bins = 100, kind = 'hist', alpha=0.5, label = 'ultra')\n",
    "df_smart['messages_amount'].plot(bins = 100, kind = 'hist', alpha=0.5, label = 'smart', ax=ax)\n",
    "plt.legend()\n",
    "plt.title('Сообщения')\n",
    "plt.show()"
   ]
  },
  {
   "cell_type": "markdown",
   "metadata": {},
   "source": [
    "Абоненты обоих тарифов в большинстве тратят не более 50 сообщений в месяц. Так же по графику видно, что клиенты обоих тарифов часто вообще не отправляют сообщения."
   ]
  },
  {
   "cell_type": "markdown",
   "metadata": {},
   "source": [
    "**Вывод** \n",
    "\n",
    "Из графиков можно сделать выводы, что пользователи тарифа ultra неравномерно используют пакет предложенный им, это связано с большим диапазоном лимита, его они как правило не превышают, в свою очередь пользователи тарифов smart чаще превышают лимиты, так же видно то что в апреле у операторов связи наблюдался провал в использовании услуг. Хотелось бы отметить так же, что сообщениями абоненты пользуются редко."
   ]
  },
  {
   "cell_type": "markdown",
   "metadata": {},
   "source": [
    "## Проверка гипотез "
   ]
  },
  {
   "cell_type": "markdown",
   "metadata": {},
   "source": [
    "По представленной выборке можно выдвинуть две гипотезы:\n",
    "* средняя выручка пользователей тарифов «Ультра» и «Смарт» различаются;\n",
    "* средняя выручка пользователей из Москвы отличается от выручки пользователей из других регионов.\n",
    "\n",
    "Для проверки обеих гипотез создадим по два датасета и выдвинем по нулевой гипотезе, которые будут говорить о равенстве двух выборок, если результат будет меньше 5%, то опровергаем нулевую гипотезу и принимаем альтернативные, которыми являются вышеобозначенные."
   ]
  },
  {
   "cell_type": "markdown",
   "metadata": {},
   "source": [
    "### Проверка гипотезы:  средняя выручка пользователей тарифов «Ультра» и «Смарт» различаются"
   ]
  },
  {
   "cell_type": "markdown",
   "metadata": {},
   "source": [
    "Создадим выборку с выручкой по тарифам."
   ]
  },
  {
   "cell_type": "code",
   "execution_count": 28,
   "metadata": {},
   "outputs": [],
   "source": [
    "df_ultra_for_test = df_ultra['total']\n",
    "df_smart_for_test = df_smart['total']"
   ]
  },
  {
   "cell_type": "markdown",
   "metadata": {},
   "source": [
    "Далее введем нулевую гипотезу: выручка пользователей тарифов равны. Проверим данную гипотезу, отбросим в том случае если результат будет меньше 5%. Аргумент equal_var лучше указать как False, так в данном случае исследуются две выборки с тарифами высокой и низкой ценовой категории, соответственно, поведение пользователей может различаться как и дисперсия."
   ]
  },
  {
   "cell_type": "code",
   "execution_count": 29,
   "metadata": {},
   "outputs": [
    {
     "name": "stdout",
     "output_type": "stream",
     "text": [
      "p-значение:  4.2606313931076085e-250\n",
      "Отвергаем нулевую гипотезу\n"
     ]
    }
   ],
   "source": [
    "from scipy import stats as st\n",
    "import numpy as np\n",
    "\n",
    "alpha = .05\n",
    "result_first = st.ttest_ind(df_ultra_for_test, df_smart_for_test, equal_var=False)\n",
    "\n",
    "print('p-значение: ', result_first.pvalue)\n",
    "\n",
    "if result_first.pvalue < alpha:\n",
    "    print(\"Отвергаем нулевую гипотезу\")\n",
    "else:\n",
    "    print(\"Не получилось отвергнуть нулевую гипотезу\") "
   ]
  },
  {
   "cell_type": "markdown",
   "metadata": {},
   "source": [
    "По результату теста отвергаем нулевую гипотезу и принимаем альтернативную, которая гласит, что выручка пользователей двух тарифов отличается."
   ]
  },
  {
   "cell_type": "markdown",
   "metadata": {},
   "source": [
    "### Проверка гипотезы: средняя выручка пользователей из Москвы отличается от выручки пользователей из других регионов"
   ]
  },
  {
   "cell_type": "markdown",
   "metadata": {},
   "source": [
    "Создадим выборки в одной из которых будет выручка пользователей из Москвы, а в другой из других регионов."
   ]
  },
  {
   "cell_type": "code",
   "execution_count": 30,
   "metadata": {},
   "outputs": [],
   "source": [
    "df_moscow = df.query('city == \"Москва\"')['total']\n",
    "df_other = df.query('city != \"Москва\"')['total']"
   ]
  },
  {
   "cell_type": "markdown",
   "metadata": {},
   "source": [
    "Далее введем нулевую гипотезу: выручка пользователей разных регионов равны. Проверим данную гипотезу, отбросим в том случае если результат будет меньше 5%. Аргумент equal_var лучше указать как False, так в данном случае исследуются две выборки в которых содержатся данные пользователей из разных городов, соответственно, поведение пользователей может различаться как и дисперсия."
   ]
  },
  {
   "cell_type": "code",
   "execution_count": 31,
   "metadata": {},
   "outputs": [
    {
     "name": "stdout",
     "output_type": "stream",
     "text": [
      "p-значение:  0.5257376663729298\n",
      "Не получилось отвергнуть нулевую гипотезу\n"
     ]
    }
   ],
   "source": [
    "alpha = .05\n",
    "result_first = st.ttest_ind(df_moscow, df_other, equal_var=False)\n",
    "\n",
    "print('p-значение: ', result_first.pvalue)\n",
    "\n",
    "if result_first.pvalue < alpha:\n",
    "    print(\"Отвергаем нулевую гипотезу\")\n",
    "else:\n",
    "    print(\"Не получилось отвергнуть нулевую гипотезу\") "
   ]
  },
  {
   "cell_type": "markdown",
   "metadata": {},
   "source": [
    "По реультату теста принимаем нулевую гипотезу, выручка абонентов Москвы и регионов может быть одинаковой."
   ]
  },
  {
   "cell_type": "markdown",
   "metadata": {},
   "source": [
    "### Анализ по результатам проверки гипотез"
   ]
  },
  {
   "cell_type": "markdown",
   "metadata": {},
   "source": [
    "В результате проверки гипотез мы можем предположить, что выручка с пользователей разных тарифов по месяцам различается, посмотрим это на графике:"
   ]
  },
  {
   "cell_type": "code",
   "execution_count": 32,
   "metadata": {},
   "outputs": [
    {
     "data": {
      "image/png": "[encoded data removed]",
      "text/plain": [
       "<Figure size 432x288 with 1 Axes>"
      ]
     },
     "metadata": {
      "needs_background": "light"
     },
     "output_type": "display_data"
    }
   ],
   "source": [
    "df_ultra_earnings = df_ultra.pivot_table(index='month', values='total', aggfunc='sum').reset_index()\n",
    "df_smart_earnings = df_smart.pivot_table(index='month', values='total', aggfunc='sum').reset_index()\n",
    "plt.plot(df_ultra_earnings['total'], label = 'ultra')\n",
    "plt.plot(df_smart_earnings['total'], label = 'smart')\n",
    "plt.legend()\n",
    "plt.title('Выручка по месяцам, тариф ultra и smart')\n",
    "plt.show()"
   ]
  },
  {
   "cell_type": "markdown",
   "metadata": {},
   "source": [
    "На графике видно, что пользователи тарифов ultra и smart приносят не одинаковую выручку, видно, что после апреля выручка с пользователей ultra выше, так же видно, что по какой-то причине выручка в апреле упала. \n",
    "\n",
    "Построим аналогичный график для пользователей Москвы и регионов:"
   ]
  },
  {
   "cell_type": "code",
   "execution_count": 33,
   "metadata": {},
   "outputs": [
    {
     "data": {
      "image/png": "[encoded data removed]",
      "text/plain": [
       "<Figure size 432x288 with 1 Axes>"
      ]
     },
     "metadata": {
      "needs_background": "light"
     },
     "output_type": "display_data"
    }
   ],
   "source": [
    "df_moscow_earnings = df.query('city == \"Москва\"')\n",
    "df_other_earnings = df.query('city != \"Москва\"')\n",
    "df_moscow_earnings = df_moscow_earnings.pivot_table(index='month', values='total', aggfunc= 'sum').reset_index()\n",
    "df_other_earnings = df_other_earnings.pivot_table(index='month', values='total', aggfunc= 'sum').reset_index()\n",
    "plt.plot(df_moscow_earnings['total'], label = 'Moscow')\n",
    "plt.plot(df_other_earnings['total'], label = 'Other')\n",
    "plt.legend()\n",
    "plt.title('Выручка по месяцам, Москва и регионы')\n",
    "plt.show()"
   ]
  },
  {
   "cell_type": "markdown",
   "metadata": {},
   "source": [
    "На основе выборки можно сказать, что абоненты из Москвы приносят больше выручки чем абоненты из регионов."
   ]
  },
  {
   "cell_type": "markdown",
   "metadata": {},
   "source": [
    "## Общий вывод\n",
    "\n",
    "Из анализа предложенной выборки можно предположить, что абоненты тарифа Ultra приносят выручку больше чем абоненты тарифа Smart, так же абоненты из Москвы могут приносить столько же денег сколько и абоненты регионов. Можно сказать, что пользователи тарифа ultra неравномерно используют пакет предложенный им тарифом, это связано с большим диапазоном лимита, его они как правило не превышают, в то время как пользователи smart чаще превышают лимиты. Хотелось бы отметить так же, что сообщениями абоненты пользуются редко. \n",
    "\n",
    "На основе выборки рекомендую:\n",
    "* увеличить направленность рекламы на продажу тарифа smart;\n",
    "* выяснить причину провала во всех услугах в апреле, если оно не является сезонным, так как это спровоцировало падение выручки."
   ]
  }
 ],
 "metadata": {
  "ExecuteTimeLog": [
   {
    "duration": 648,
    "start_time": "2021-12-26T16:02:05.555Z"
   },
   {
    "duration": 27,
    "start_time": "2021-12-26T16:02:10.290Z"
   },
   {
    "duration": 43,
    "start_time": "2021-12-26T16:02:13.342Z"
   },
   {
    "duration": 36,
    "start_time": "2021-12-26T16:03:16.848Z"
   },
   {
    "duration": 34,
    "start_time": "2021-12-26T16:04:04.101Z"
   },
   {
    "duration": 37,
    "start_time": "2021-12-26T16:04:09.632Z"
   },
   {
    "duration": 9,
    "start_time": "2021-12-26T16:05:20.640Z"
   },
   {
    "duration": 6,
    "start_time": "2021-12-26T16:05:27.534Z"
   },
   {
    "duration": 22,
    "start_time": "2021-12-26T16:10:29.444Z"
   },
   {
    "duration": 37,
    "start_time": "2021-12-26T16:11:37.755Z"
   },
   {
    "duration": 6,
    "start_time": "2021-12-26T16:11:40.111Z"
   },
   {
    "duration": 27,
    "start_time": "2021-12-26T16:11:45.548Z"
   },
   {
    "duration": 154,
    "start_time": "2021-12-26T16:14:42.972Z"
   },
   {
    "duration": 22,
    "start_time": "2021-12-26T16:15:33.870Z"
   },
   {
    "duration": 95,
    "start_time": "2021-12-26T16:19:39.417Z"
   },
   {
    "duration": 15,
    "start_time": "2021-12-26T16:20:05.686Z"
   },
   {
    "duration": 1823,
    "start_time": "2021-12-26T16:22:51.290Z"
   },
   {
    "duration": 1885,
    "start_time": "2021-12-26T16:22:53.544Z"
   },
   {
    "duration": 146,
    "start_time": "2021-12-26T16:23:12.451Z"
   },
   {
    "duration": 30,
    "start_time": "2021-12-26T16:31:26.034Z"
   },
   {
    "duration": 4,
    "start_time": "2021-12-26T16:38:04.261Z"
   },
   {
    "duration": 14,
    "start_time": "2021-12-26T16:38:10.128Z"
   },
   {
    "duration": 69,
    "start_time": "2021-12-26T16:44:15.932Z"
   },
   {
    "duration": 61,
    "start_time": "2021-12-26T16:44:20.426Z"
   },
   {
    "duration": 66,
    "start_time": "2021-12-26T16:46:04.609Z"
   },
   {
    "duration": 52,
    "start_time": "2021-12-26T16:47:44.086Z"
   },
   {
    "duration": 62,
    "start_time": "2021-12-26T16:47:48.278Z"
   },
   {
    "duration": 38,
    "start_time": "2021-12-26T16:47:53.598Z"
   },
   {
    "duration": 6,
    "start_time": "2021-12-26T16:47:53.638Z"
   },
   {
    "duration": 28,
    "start_time": "2021-12-26T16:47:53.646Z"
   },
   {
    "duration": 171,
    "start_time": "2021-12-26T16:47:53.676Z"
   },
   {
    "duration": 29,
    "start_time": "2021-12-26T16:47:53.849Z"
   },
   {
    "duration": 102,
    "start_time": "2021-12-26T16:47:53.880Z"
   },
   {
    "duration": 16,
    "start_time": "2021-12-26T16:47:53.984Z"
   },
   {
    "duration": 159,
    "start_time": "2021-12-26T16:47:54.002Z"
   },
   {
    "duration": 21,
    "start_time": "2021-12-26T16:47:54.163Z"
   },
   {
    "duration": 16,
    "start_time": "2021-12-26T16:47:54.185Z"
   },
   {
    "duration": 104,
    "start_time": "2021-12-26T16:47:54.203Z"
   },
   {
    "duration": 81,
    "start_time": "2021-12-26T16:49:18.510Z"
   },
   {
    "duration": 61,
    "start_time": "2021-12-26T16:49:22.828Z"
   },
   {
    "duration": 69,
    "start_time": "2021-12-26T16:51:17.714Z"
   },
   {
    "duration": 1133,
    "start_time": "2021-12-26T16:51:24.566Z"
   },
   {
    "duration": 319,
    "start_time": "2021-12-26T16:55:42.660Z"
   },
   {
    "duration": 353,
    "start_time": "2021-12-26T16:57:08.236Z"
   },
   {
    "duration": 160,
    "start_time": "2021-12-26T16:58:07.823Z"
   },
   {
    "duration": 2261,
    "start_time": "2021-12-26T17:07:38.231Z"
   },
   {
    "duration": 43,
    "start_time": "2021-12-26T17:11:55.690Z"
   },
   {
    "duration": 8,
    "start_time": "2021-12-26T17:11:55.736Z"
   },
   {
    "duration": 24,
    "start_time": "2021-12-26T17:11:55.747Z"
   },
   {
    "duration": 161,
    "start_time": "2021-12-26T17:11:55.773Z"
   },
   {
    "duration": 31,
    "start_time": "2021-12-26T17:11:55.936Z"
   },
   {
    "duration": 108,
    "start_time": "2021-12-26T17:11:55.969Z"
   },
   {
    "duration": 15,
    "start_time": "2021-12-26T17:11:56.079Z"
   },
   {
    "duration": 143,
    "start_time": "2021-12-26T17:11:56.095Z"
   },
   {
    "duration": 27,
    "start_time": "2021-12-26T17:11:56.240Z"
   },
   {
    "duration": 46,
    "start_time": "2021-12-26T17:11:56.269Z"
   },
   {
    "duration": 182,
    "start_time": "2021-12-26T17:11:56.317Z"
   },
   {
    "duration": 200,
    "start_time": "2021-12-26T17:15:38.806Z"
   },
   {
    "duration": 37,
    "start_time": "2021-12-26T17:16:57.987Z"
   },
   {
    "duration": 5,
    "start_time": "2021-12-26T17:16:58.026Z"
   },
   {
    "duration": 23,
    "start_time": "2021-12-26T17:16:58.033Z"
   },
   {
    "duration": 150,
    "start_time": "2021-12-26T17:16:58.058Z"
   },
   {
    "duration": 20,
    "start_time": "2021-12-26T17:16:58.209Z"
   },
   {
    "duration": 110,
    "start_time": "2021-12-26T17:16:58.230Z"
   },
   {
    "duration": 19,
    "start_time": "2021-12-26T17:16:58.341Z"
   },
   {
    "duration": 149,
    "start_time": "2021-12-26T17:16:58.363Z"
   },
   {
    "duration": 17,
    "start_time": "2021-12-26T17:16:58.514Z"
   },
   {
    "duration": 12,
    "start_time": "2021-12-26T17:16:58.532Z"
   },
   {
    "duration": 134,
    "start_time": "2021-12-26T17:16:58.546Z"
   },
   {
    "duration": 203,
    "start_time": "2021-12-26T17:17:07.806Z"
   },
   {
    "duration": 50,
    "start_time": "2021-12-26T17:18:29.838Z"
   },
   {
    "duration": 6,
    "start_time": "2021-12-26T17:18:29.890Z"
   },
   {
    "duration": 23,
    "start_time": "2021-12-26T17:18:29.898Z"
   },
   {
    "duration": 168,
    "start_time": "2021-12-26T17:18:29.923Z"
   },
   {
    "duration": 21,
    "start_time": "2021-12-26T17:18:30.093Z"
   },
   {
    "duration": 98,
    "start_time": "2021-12-26T17:18:30.116Z"
   },
   {
    "duration": 14,
    "start_time": "2021-12-26T17:18:30.215Z"
   },
   {
    "duration": 151,
    "start_time": "2021-12-26T17:18:30.231Z"
   },
   {
    "duration": 17,
    "start_time": "2021-12-26T17:18:30.384Z"
   },
   {
    "duration": 16,
    "start_time": "2021-12-26T17:18:30.403Z"
   },
   {
    "duration": 207,
    "start_time": "2021-12-26T17:18:30.420Z"
   },
   {
    "duration": -911,
    "start_time": "2021-12-26T17:19:03.804Z"
   },
   {
    "duration": -915,
    "start_time": "2021-12-26T17:19:03.809Z"
   },
   {
    "duration": -917,
    "start_time": "2021-12-26T17:19:03.813Z"
   },
   {
    "duration": -920,
    "start_time": "2021-12-26T17:19:03.817Z"
   },
   {
    "duration": -922,
    "start_time": "2021-12-26T17:19:03.820Z"
   },
   {
    "duration": -922,
    "start_time": "2021-12-26T17:19:03.822Z"
   },
   {
    "duration": -923,
    "start_time": "2021-12-26T17:19:03.824Z"
   },
   {
    "duration": -922,
    "start_time": "2021-12-26T17:19:03.825Z"
   },
   {
    "duration": -923,
    "start_time": "2021-12-26T17:19:03.827Z"
   },
   {
    "duration": -923,
    "start_time": "2021-12-26T17:19:03.828Z"
   },
   {
    "duration": -923,
    "start_time": "2021-12-26T17:19:03.830Z"
   },
   {
    "duration": 39,
    "start_time": "2021-12-26T17:19:15.492Z"
   },
   {
    "duration": 7,
    "start_time": "2021-12-26T17:19:15.533Z"
   },
   {
    "duration": 38,
    "start_time": "2021-12-26T17:19:15.543Z"
   },
   {
    "duration": 181,
    "start_time": "2021-12-26T17:19:15.583Z"
   },
   {
    "duration": 27,
    "start_time": "2021-12-26T17:19:15.766Z"
   },
   {
    "duration": 104,
    "start_time": "2021-12-26T17:19:15.795Z"
   },
   {
    "duration": 22,
    "start_time": "2021-12-26T17:19:15.901Z"
   },
   {
    "duration": 163,
    "start_time": "2021-12-26T17:19:15.926Z"
   },
   {
    "duration": 20,
    "start_time": "2021-12-26T17:19:16.091Z"
   },
   {
    "duration": 19,
    "start_time": "2021-12-26T17:19:16.114Z"
   },
   {
    "duration": 243,
    "start_time": "2021-12-26T17:19:16.135Z"
   },
   {
    "duration": 918,
    "start_time": "2021-12-27T05:52:36.833Z"
   },
   {
    "duration": 234,
    "start_time": "2021-12-27T05:52:37.519Z"
   },
   {
    "duration": 231,
    "start_time": "2021-12-27T05:52:37.523Z"
   },
   {
    "duration": 229,
    "start_time": "2021-12-27T05:52:37.526Z"
   },
   {
    "duration": 213,
    "start_time": "2021-12-27T05:52:37.544Z"
   },
   {
    "duration": 212,
    "start_time": "2021-12-27T05:52:37.546Z"
   },
   {
    "duration": 211,
    "start_time": "2021-12-27T05:52:37.548Z"
   },
   {
    "duration": 211,
    "start_time": "2021-12-27T05:52:37.549Z"
   },
   {
    "duration": 210,
    "start_time": "2021-12-27T05:52:37.551Z"
   },
   {
    "duration": 209,
    "start_time": "2021-12-27T05:52:37.553Z"
   },
   {
    "duration": 209,
    "start_time": "2021-12-27T05:52:37.554Z"
   },
   {
    "duration": 269,
    "start_time": "2021-12-27T05:52:51.890Z"
   },
   {
    "duration": 239,
    "start_time": "2021-12-27T05:52:51.922Z"
   },
   {
    "duration": 237,
    "start_time": "2021-12-27T05:52:51.925Z"
   },
   {
    "duration": 232,
    "start_time": "2021-12-27T05:52:51.931Z"
   },
   {
    "duration": 229,
    "start_time": "2021-12-27T05:52:51.935Z"
   },
   {
    "duration": 210,
    "start_time": "2021-12-27T05:52:51.955Z"
   },
   {
    "duration": 208,
    "start_time": "2021-12-27T05:52:51.958Z"
   },
   {
    "duration": 206,
    "start_time": "2021-12-27T05:52:51.961Z"
   },
   {
    "duration": 204,
    "start_time": "2021-12-27T05:52:51.964Z"
   },
   {
    "duration": 203,
    "start_time": "2021-12-27T05:52:51.966Z"
   },
   {
    "duration": 150,
    "start_time": "2021-12-27T05:52:52.020Z"
   },
   {
    "duration": 43,
    "start_time": "2021-12-27T05:53:05.965Z"
   },
   {
    "duration": 6,
    "start_time": "2021-12-27T05:53:06.009Z"
   },
   {
    "duration": 25,
    "start_time": "2021-12-27T05:53:06.017Z"
   },
   {
    "duration": 146,
    "start_time": "2021-12-27T05:53:06.044Z"
   },
   {
    "duration": 18,
    "start_time": "2021-12-27T05:53:06.191Z"
   },
   {
    "duration": 91,
    "start_time": "2021-12-27T05:53:06.210Z"
   },
   {
    "duration": 13,
    "start_time": "2021-12-27T05:53:06.302Z"
   },
   {
    "duration": 129,
    "start_time": "2021-12-27T05:53:06.317Z"
   },
   {
    "duration": 16,
    "start_time": "2021-12-27T05:53:06.448Z"
   },
   {
    "duration": 12,
    "start_time": "2021-12-27T05:53:06.465Z"
   },
   {
    "duration": 183,
    "start_time": "2021-12-27T05:53:06.478Z"
   },
   {
    "duration": 6126,
    "start_time": "2021-12-27T05:54:36.823Z"
   },
   {
    "duration": 6237,
    "start_time": "2021-12-27T05:55:36.516Z"
   },
   {
    "duration": 6897,
    "start_time": "2021-12-27T05:55:47.908Z"
   },
   {
    "duration": 7178,
    "start_time": "2021-12-27T06:03:28.410Z"
   },
   {
    "duration": 38,
    "start_time": "2021-12-27T06:03:36.653Z"
   },
   {
    "duration": 20,
    "start_time": "2021-12-27T06:03:36.693Z"
   },
   {
    "duration": 52,
    "start_time": "2021-12-27T06:03:36.715Z"
   },
   {
    "duration": 159,
    "start_time": "2021-12-27T06:03:36.768Z"
   },
   {
    "duration": 18,
    "start_time": "2021-12-27T06:03:36.928Z"
   },
   {
    "duration": 110,
    "start_time": "2021-12-27T06:03:36.947Z"
   },
   {
    "duration": 12,
    "start_time": "2021-12-27T06:03:37.058Z"
   },
   {
    "duration": 150,
    "start_time": "2021-12-27T06:03:37.072Z"
   },
   {
    "duration": 14,
    "start_time": "2021-12-27T06:03:37.224Z"
   },
   {
    "duration": 39,
    "start_time": "2021-12-27T06:03:37.241Z"
   },
   {
    "duration": 199,
    "start_time": "2021-12-27T06:03:37.282Z"
   },
   {
    "duration": 39,
    "start_time": "2021-12-27T06:04:15.364Z"
   },
   {
    "duration": 6,
    "start_time": "2021-12-27T06:04:15.405Z"
   },
   {
    "duration": 28,
    "start_time": "2021-12-27T06:04:15.413Z"
   },
   {
    "duration": 147,
    "start_time": "2021-12-27T06:04:15.443Z"
   },
   {
    "duration": 20,
    "start_time": "2021-12-27T06:04:15.591Z"
   },
   {
    "duration": 90,
    "start_time": "2021-12-27T06:04:15.612Z"
   },
   {
    "duration": 13,
    "start_time": "2021-12-27T06:04:15.704Z"
   },
   {
    "duration": 126,
    "start_time": "2021-12-27T06:04:15.719Z"
   },
   {
    "duration": 16,
    "start_time": "2021-12-27T06:04:15.847Z"
   },
   {
    "duration": 12,
    "start_time": "2021-12-27T06:04:15.864Z"
   },
   {
    "duration": 189,
    "start_time": "2021-12-27T06:04:15.878Z"
   },
   {
    "duration": 411,
    "start_time": "2021-12-27T06:09:46.187Z"
   },
   {
    "duration": 1507,
    "start_time": "2021-12-27T06:13:44.185Z"
   },
   {
    "duration": 1304,
    "start_time": "2021-12-27T06:16:19.702Z"
   },
   {
    "duration": 1265,
    "start_time": "2021-12-27T06:18:55.813Z"
   },
   {
    "duration": 42,
    "start_time": "2021-12-27T06:19:00.841Z"
   },
   {
    "duration": 14,
    "start_time": "2021-12-27T06:19:00.886Z"
   },
   {
    "duration": 39,
    "start_time": "2021-12-27T06:19:00.902Z"
   },
   {
    "duration": 158,
    "start_time": "2021-12-27T06:19:00.942Z"
   },
   {
    "duration": 20,
    "start_time": "2021-12-27T06:19:01.101Z"
   },
   {
    "duration": 111,
    "start_time": "2021-12-27T06:19:01.122Z"
   },
   {
    "duration": 14,
    "start_time": "2021-12-27T06:19:01.235Z"
   },
   {
    "duration": 147,
    "start_time": "2021-12-27T06:19:01.251Z"
   },
   {
    "duration": 16,
    "start_time": "2021-12-27T06:19:01.400Z"
   },
   {
    "duration": 34,
    "start_time": "2021-12-27T06:19:01.418Z"
   },
   {
    "duration": 208,
    "start_time": "2021-12-27T06:19:01.454Z"
   },
   {
    "duration": 127,
    "start_time": "2021-12-27T06:25:18.487Z"
   },
   {
    "duration": 125,
    "start_time": "2021-12-27T06:25:56.126Z"
   },
   {
    "duration": 40,
    "start_time": "2021-12-27T06:26:00.151Z"
   },
   {
    "duration": 9,
    "start_time": "2021-12-27T06:26:00.193Z"
   },
   {
    "duration": 26,
    "start_time": "2021-12-27T06:26:00.204Z"
   },
   {
    "duration": 171,
    "start_time": "2021-12-27T06:26:00.233Z"
   },
   {
    "duration": 21,
    "start_time": "2021-12-27T06:26:00.406Z"
   },
   {
    "duration": 112,
    "start_time": "2021-12-27T06:26:00.429Z"
   },
   {
    "duration": 16,
    "start_time": "2021-12-27T06:26:00.542Z"
   },
   {
    "duration": 151,
    "start_time": "2021-12-27T06:26:00.561Z"
   },
   {
    "duration": 30,
    "start_time": "2021-12-27T06:26:00.714Z"
   },
   {
    "duration": 13,
    "start_time": "2021-12-27T06:26:00.746Z"
   },
   {
    "duration": 208,
    "start_time": "2021-12-27T06:26:00.761Z"
   },
   {
    "duration": 154,
    "start_time": "2021-12-27T06:26:00.971Z"
   },
   {
    "duration": 80,
    "start_time": "2021-12-27T06:30:15.382Z"
   },
   {
    "duration": 90,
    "start_time": "2021-12-27T06:56:51.539Z"
   },
   {
    "duration": 37,
    "start_time": "2021-12-27T06:56:54.437Z"
   },
   {
    "duration": 6,
    "start_time": "2021-12-27T06:56:54.475Z"
   },
   {
    "duration": 22,
    "start_time": "2021-12-27T06:56:54.483Z"
   },
   {
    "duration": 138,
    "start_time": "2021-12-27T06:56:54.507Z"
   },
   {
    "duration": 18,
    "start_time": "2021-12-27T06:56:54.647Z"
   },
   {
    "duration": 89,
    "start_time": "2021-12-27T06:56:54.667Z"
   },
   {
    "duration": 13,
    "start_time": "2021-12-27T06:56:54.757Z"
   },
   {
    "duration": 123,
    "start_time": "2021-12-27T06:56:54.772Z"
   },
   {
    "duration": 16,
    "start_time": "2021-12-27T06:56:54.896Z"
   },
   {
    "duration": 29,
    "start_time": "2021-12-27T06:56:54.913Z"
   },
   {
    "duration": 99,
    "start_time": "2021-12-27T06:56:54.943Z"
   },
   {
    "duration": 89,
    "start_time": "2021-12-27T06:56:54.955Z"
   },
   {
    "duration": 88,
    "start_time": "2021-12-27T06:56:54.957Z"
   },
   {
    "duration": 307,
    "start_time": "2021-12-27T06:57:42.893Z"
   },
   {
    "duration": 92,
    "start_time": "2021-12-27T06:59:54.736Z"
   },
   {
    "duration": 1267,
    "start_time": "2021-12-27T07:02:24.872Z"
   },
   {
    "duration": 38,
    "start_time": "2021-12-27T07:02:30.935Z"
   },
   {
    "duration": 5,
    "start_time": "2021-12-27T07:02:30.975Z"
   },
   {
    "duration": 36,
    "start_time": "2021-12-27T07:02:30.982Z"
   },
   {
    "duration": 166,
    "start_time": "2021-12-27T07:02:31.020Z"
   },
   {
    "duration": 20,
    "start_time": "2021-12-27T07:02:31.188Z"
   },
   {
    "duration": 113,
    "start_time": "2021-12-27T07:02:31.210Z"
   },
   {
    "duration": 20,
    "start_time": "2021-12-27T07:02:31.325Z"
   },
   {
    "duration": 139,
    "start_time": "2021-12-27T07:02:31.348Z"
   },
   {
    "duration": 18,
    "start_time": "2021-12-27T07:02:31.489Z"
   },
   {
    "duration": 37,
    "start_time": "2021-12-27T07:02:31.509Z"
   },
   {
    "duration": 207,
    "start_time": "2021-12-27T07:02:31.548Z"
   },
   {
    "duration": 157,
    "start_time": "2021-12-27T07:02:31.756Z"
   },
   {
    "duration": 90,
    "start_time": "2021-12-27T07:02:31.915Z"
   },
   {
    "duration": 403,
    "start_time": "2021-12-27T07:03:47.871Z"
   },
   {
    "duration": 38,
    "start_time": "2021-12-27T07:03:53.256Z"
   },
   {
    "duration": 19,
    "start_time": "2021-12-27T07:03:53.296Z"
   },
   {
    "duration": 41,
    "start_time": "2021-12-27T07:03:53.317Z"
   },
   {
    "duration": 154,
    "start_time": "2021-12-27T07:03:53.360Z"
   },
   {
    "duration": 30,
    "start_time": "2021-12-27T07:03:53.516Z"
   },
   {
    "duration": 89,
    "start_time": "2021-12-27T07:03:53.547Z"
   },
   {
    "duration": 13,
    "start_time": "2021-12-27T07:03:53.638Z"
   },
   {
    "duration": 140,
    "start_time": "2021-12-27T07:03:53.652Z"
   },
   {
    "duration": 15,
    "start_time": "2021-12-27T07:03:53.794Z"
   },
   {
    "duration": 34,
    "start_time": "2021-12-27T07:03:53.811Z"
   },
   {
    "duration": 453,
    "start_time": "2021-12-27T07:03:53.848Z"
   },
   {
    "duration": -28,
    "start_time": "2021-12-27T07:03:54.331Z"
   },
   {
    "duration": -29,
    "start_time": "2021-12-27T07:03:54.333Z"
   },
   {
    "duration": 169,
    "start_time": "2021-12-27T07:05:13.279Z"
   },
   {
    "duration": 994,
    "start_time": "2021-12-27T09:35:22.860Z"
   },
   {
    "duration": 9,
    "start_time": "2021-12-27T09:35:23.857Z"
   },
   {
    "duration": 48,
    "start_time": "2021-12-27T09:35:23.869Z"
   },
   {
    "duration": 213,
    "start_time": "2021-12-27T09:35:23.920Z"
   },
   {
    "duration": 28,
    "start_time": "2021-12-27T09:35:24.136Z"
   },
   {
    "duration": 133,
    "start_time": "2021-12-27T09:35:24.166Z"
   },
   {
    "duration": 23,
    "start_time": "2021-12-27T09:35:24.301Z"
   },
   {
    "duration": 190,
    "start_time": "2021-12-27T09:35:24.327Z"
   },
   {
    "duration": 22,
    "start_time": "2021-12-27T09:35:24.523Z"
   },
   {
    "duration": 22,
    "start_time": "2021-12-27T09:35:24.548Z"
   },
   {
    "duration": 313,
    "start_time": "2021-12-27T09:35:24.573Z"
   },
   {
    "duration": 380,
    "start_time": "2021-12-27T09:35:24.889Z"
   },
   {
    "duration": 132,
    "start_time": "2021-12-27T09:35:25.275Z"
   },
   {
    "duration": 8280,
    "start_time": "2021-12-27T09:36:35.914Z"
   },
   {
    "duration": 8801,
    "start_time": "2021-12-27T09:37:20.720Z"
   },
   {
    "duration": 14,
    "start_time": "2021-12-27T09:41:20.973Z"
   },
   {
    "duration": 24,
    "start_time": "2021-12-27T09:42:30.037Z"
   },
   {
    "duration": 21,
    "start_time": "2021-12-27T09:42:46.580Z"
   },
   {
    "duration": 41,
    "start_time": "2021-12-27T09:50:49.422Z"
   },
   {
    "duration": 9,
    "start_time": "2021-12-27T09:50:49.465Z"
   },
   {
    "duration": 35,
    "start_time": "2021-12-27T09:50:49.479Z"
   },
   {
    "duration": 208,
    "start_time": "2021-12-27T09:50:49.517Z"
   },
   {
    "duration": 40,
    "start_time": "2021-12-27T09:50:49.728Z"
   },
   {
    "duration": 138,
    "start_time": "2021-12-27T09:50:49.771Z"
   },
   {
    "duration": 25,
    "start_time": "2021-12-27T09:50:49.912Z"
   },
   {
    "duration": 195,
    "start_time": "2021-12-27T09:50:49.941Z"
   },
   {
    "duration": 24,
    "start_time": "2021-12-27T09:50:50.138Z"
   },
   {
    "duration": 20,
    "start_time": "2021-12-27T09:50:50.164Z"
   },
   {
    "duration": 505,
    "start_time": "2021-12-27T09:50:50.187Z"
   },
   {
    "duration": 209,
    "start_time": "2021-12-27T09:50:50.694Z"
   },
   {
    "duration": 139,
    "start_time": "2021-12-27T09:50:50.905Z"
   },
   {
    "duration": 10,
    "start_time": "2021-12-27T09:50:51.047Z"
   },
   {
    "duration": 37,
    "start_time": "2021-12-27T09:50:58.176Z"
   },
   {
    "duration": 19,
    "start_time": "2021-12-27T09:51:31.134Z"
   },
   {
    "duration": 44,
    "start_time": "2021-12-27T09:52:34.364Z"
   },
   {
    "duration": 8,
    "start_time": "2021-12-27T09:52:34.410Z"
   },
   {
    "duration": 42,
    "start_time": "2021-12-27T09:52:34.421Z"
   },
   {
    "duration": 211,
    "start_time": "2021-12-27T09:52:34.465Z"
   },
   {
    "duration": 26,
    "start_time": "2021-12-27T09:52:34.678Z"
   },
   {
    "duration": 133,
    "start_time": "2021-12-27T09:52:34.706Z"
   },
   {
    "duration": 19,
    "start_time": "2021-12-27T09:52:34.841Z"
   },
   {
    "duration": 183,
    "start_time": "2021-12-27T09:52:34.863Z"
   },
   {
    "duration": 21,
    "start_time": "2021-12-27T09:52:35.049Z"
   },
   {
    "duration": 19,
    "start_time": "2021-12-27T09:52:35.073Z"
   },
   {
    "duration": 290,
    "start_time": "2021-12-27T09:52:35.095Z"
   },
   {
    "duration": 207,
    "start_time": "2021-12-27T09:52:35.388Z"
   },
   {
    "duration": 136,
    "start_time": "2021-12-27T09:52:35.598Z"
   },
   {
    "duration": 19,
    "start_time": "2021-12-27T09:52:35.737Z"
   },
   {
    "duration": 610,
    "start_time": "2021-12-27T09:53:56.488Z"
   },
   {
    "duration": 48,
    "start_time": "2021-12-27T09:54:01.994Z"
   },
   {
    "duration": 8,
    "start_time": "2021-12-27T09:54:02.045Z"
   },
   {
    "duration": 33,
    "start_time": "2021-12-27T09:54:02.056Z"
   },
   {
    "duration": 300,
    "start_time": "2021-12-27T09:54:02.091Z"
   },
   {
    "duration": 35,
    "start_time": "2021-12-27T09:54:02.394Z"
   },
   {
    "duration": 127,
    "start_time": "2021-12-27T09:54:02.432Z"
   },
   {
    "duration": 20,
    "start_time": "2021-12-27T09:54:02.561Z"
   },
   {
    "duration": 193,
    "start_time": "2021-12-27T09:54:02.584Z"
   },
   {
    "duration": 23,
    "start_time": "2021-12-27T09:54:02.780Z"
   },
   {
    "duration": 20,
    "start_time": "2021-12-27T09:54:02.823Z"
   },
   {
    "duration": 342,
    "start_time": "2021-12-27T09:54:02.845Z"
   },
   {
    "duration": 215,
    "start_time": "2021-12-27T09:54:03.189Z"
   },
   {
    "duration": 139,
    "start_time": "2021-12-27T09:54:03.406Z"
   },
   {
    "duration": 16,
    "start_time": "2021-12-27T09:54:03.548Z"
   },
   {
    "duration": 47,
    "start_time": "2021-12-27T09:54:38.802Z"
   },
   {
    "duration": 9,
    "start_time": "2021-12-27T09:54:38.852Z"
   },
   {
    "duration": 34,
    "start_time": "2021-12-27T09:54:38.864Z"
   },
   {
    "duration": 222,
    "start_time": "2021-12-27T09:54:38.901Z"
   },
   {
    "duration": 26,
    "start_time": "2021-12-27T09:54:39.125Z"
   },
   {
    "duration": 131,
    "start_time": "2021-12-27T09:54:39.154Z"
   },
   {
    "duration": 20,
    "start_time": "2021-12-27T09:54:39.287Z"
   },
   {
    "duration": 188,
    "start_time": "2021-12-27T09:54:39.325Z"
   },
   {
    "duration": 28,
    "start_time": "2021-12-27T09:54:39.516Z"
   },
   {
    "duration": 22,
    "start_time": "2021-12-27T09:54:39.547Z"
   },
   {
    "duration": 549,
    "start_time": "2021-12-27T09:54:39.572Z"
   },
   {
    "duration": -26,
    "start_time": "2021-12-27T09:54:40.150Z"
   },
   {
    "duration": -28,
    "start_time": "2021-12-27T09:54:40.154Z"
   },
   {
    "duration": -44,
    "start_time": "2021-12-27T09:54:40.172Z"
   },
   {
    "duration": 600,
    "start_time": "2021-12-27T09:54:44.827Z"
   },
   {
    "duration": 1436,
    "start_time": "2021-12-27T09:55:07.836Z"
   },
   {
    "duration": 41,
    "start_time": "2021-12-27T09:55:12.441Z"
   },
   {
    "duration": 8,
    "start_time": "2021-12-27T09:55:12.484Z"
   },
   {
    "duration": 25,
    "start_time": "2021-12-27T09:55:12.495Z"
   },
   {
    "duration": 194,
    "start_time": "2021-12-27T09:55:12.523Z"
   },
   {
    "duration": 26,
    "start_time": "2021-12-27T09:55:12.723Z"
   },
   {
    "duration": 127,
    "start_time": "2021-12-27T09:55:12.751Z"
   },
   {
    "duration": 17,
    "start_time": "2021-12-27T09:55:12.881Z"
   },
   {
    "duration": 193,
    "start_time": "2021-12-27T09:55:12.901Z"
   },
   {
    "duration": 33,
    "start_time": "2021-12-27T09:55:13.097Z"
   },
   {
    "duration": 22,
    "start_time": "2021-12-27T09:55:13.133Z"
   },
   {
    "duration": 403,
    "start_time": "2021-12-27T09:55:13.158Z"
   },
   {
    "duration": 201,
    "start_time": "2021-12-27T09:55:13.563Z"
   },
   {
    "duration": 132,
    "start_time": "2021-12-27T09:55:13.767Z"
   },
   {
    "duration": 30,
    "start_time": "2021-12-27T09:55:13.902Z"
   },
   {
    "duration": 54,
    "start_time": "2021-12-27T10:07:24.041Z"
   },
   {
    "duration": 8,
    "start_time": "2021-12-27T10:07:24.099Z"
   },
   {
    "duration": 25,
    "start_time": "2021-12-27T10:07:24.109Z"
   },
   {
    "duration": 197,
    "start_time": "2021-12-27T10:07:24.138Z"
   },
   {
    "duration": 25,
    "start_time": "2021-12-27T10:07:24.338Z"
   },
   {
    "duration": 134,
    "start_time": "2021-12-27T10:07:24.366Z"
   },
   {
    "duration": 28,
    "start_time": "2021-12-27T10:07:24.502Z"
   },
   {
    "duration": 178,
    "start_time": "2021-12-27T10:07:24.535Z"
   },
   {
    "duration": 26,
    "start_time": "2021-12-27T10:07:24.716Z"
   },
   {
    "duration": 19,
    "start_time": "2021-12-27T10:07:24.744Z"
   },
   {
    "duration": 361,
    "start_time": "2021-12-27T10:07:24.765Z"
   },
   {
    "duration": 205,
    "start_time": "2021-12-27T10:07:25.128Z"
   },
   {
    "duration": 128,
    "start_time": "2021-12-27T10:07:25.335Z"
   },
   {
    "duration": 16,
    "start_time": "2021-12-27T10:07:25.465Z"
   },
   {
    "duration": 92,
    "start_time": "2021-12-27T10:08:49.187Z"
   },
   {
    "duration": 650,
    "start_time": "2021-12-27T10:08:56.058Z"
   },
   {
    "duration": 41,
    "start_time": "2021-12-27T10:08:58.983Z"
   },
   {
    "duration": 9,
    "start_time": "2021-12-27T10:08:59.027Z"
   },
   {
    "duration": 23,
    "start_time": "2021-12-27T10:08:59.039Z"
   },
   {
    "duration": 223,
    "start_time": "2021-12-27T10:08:59.065Z"
   },
   {
    "duration": 38,
    "start_time": "2021-12-27T10:08:59.290Z"
   },
   {
    "duration": 115,
    "start_time": "2021-12-27T10:08:59.330Z"
   },
   {
    "duration": 20,
    "start_time": "2021-12-27T10:08:59.448Z"
   },
   {
    "duration": 205,
    "start_time": "2021-12-27T10:08:59.472Z"
   },
   {
    "duration": 22,
    "start_time": "2021-12-27T10:08:59.680Z"
   },
   {
    "duration": 21,
    "start_time": "2021-12-27T10:08:59.723Z"
   },
   {
    "duration": 361,
    "start_time": "2021-12-27T10:08:59.747Z"
   },
   {
    "duration": 215,
    "start_time": "2021-12-27T10:09:00.111Z"
   },
   {
    "duration": 138,
    "start_time": "2021-12-27T10:09:00.328Z"
   },
   {
    "duration": 16,
    "start_time": "2021-12-27T10:09:00.469Z"
   },
   {
    "duration": 574,
    "start_time": "2021-12-27T10:13:12.352Z"
   },
   {
    "duration": 1647,
    "start_time": "2021-12-27T10:13:32.272Z"
   },
   {
    "duration": 41,
    "start_time": "2021-12-27T10:13:38.492Z"
   },
   {
    "duration": 10,
    "start_time": "2021-12-27T10:13:38.535Z"
   },
   {
    "duration": 29,
    "start_time": "2021-12-27T10:13:38.548Z"
   },
   {
    "duration": 201,
    "start_time": "2021-12-27T10:13:38.579Z"
   },
   {
    "duration": 26,
    "start_time": "2021-12-27T10:13:38.782Z"
   },
   {
    "duration": 108,
    "start_time": "2021-12-27T10:13:38.824Z"
   },
   {
    "duration": 18,
    "start_time": "2021-12-27T10:13:38.935Z"
   },
   {
    "duration": 192,
    "start_time": "2021-12-27T10:13:38.957Z"
   },
   {
    "duration": 23,
    "start_time": "2021-12-27T10:13:39.152Z"
   },
   {
    "duration": 46,
    "start_time": "2021-12-27T10:13:39.178Z"
   },
   {
    "duration": 636,
    "start_time": "2021-12-27T10:13:39.228Z"
   },
   {
    "duration": -138,
    "start_time": "2021-12-27T10:13:40.004Z"
   },
   {
    "duration": -163,
    "start_time": "2021-12-27T10:13:40.031Z"
   },
   {
    "duration": -164,
    "start_time": "2021-12-27T10:13:40.033Z"
   },
   {
    "duration": 595,
    "start_time": "2021-12-27T10:13:49.865Z"
   },
   {
    "duration": 40,
    "start_time": "2021-12-27T10:13:55.892Z"
   },
   {
    "duration": 8,
    "start_time": "2021-12-27T10:13:55.935Z"
   },
   {
    "duration": 24,
    "start_time": "2021-12-27T10:13:55.945Z"
   },
   {
    "duration": 206,
    "start_time": "2021-12-27T10:13:55.972Z"
   },
   {
    "duration": 26,
    "start_time": "2021-12-27T10:13:56.180Z"
   },
   {
    "duration": 210,
    "start_time": "2021-12-27T10:13:56.223Z"
   },
   {
    "duration": 18,
    "start_time": "2021-12-27T10:13:56.436Z"
   },
   {
    "duration": 187,
    "start_time": "2021-12-27T10:13:56.457Z"
   },
   {
    "duration": 22,
    "start_time": "2021-12-27T10:13:56.646Z"
   },
   {
    "duration": 31,
    "start_time": "2021-12-27T10:13:56.671Z"
   },
   {
    "duration": 341,
    "start_time": "2021-12-27T10:13:56.705Z"
   },
   {
    "duration": 205,
    "start_time": "2021-12-27T10:13:57.048Z"
   },
   {
    "duration": 129,
    "start_time": "2021-12-27T10:13:57.256Z"
   },
   {
    "duration": 17,
    "start_time": "2021-12-27T10:13:57.387Z"
   },
   {
    "duration": 761,
    "start_time": "2021-12-27T10:14:40.136Z"
   },
   {
    "duration": 41,
    "start_time": "2021-12-27T10:14:42.953Z"
   },
   {
    "duration": 9,
    "start_time": "2021-12-27T10:14:42.998Z"
   },
   {
    "duration": 47,
    "start_time": "2021-12-27T10:14:43.011Z"
   },
   {
    "duration": 290,
    "start_time": "2021-12-27T10:14:43.061Z"
   },
   {
    "duration": 42,
    "start_time": "2021-12-27T10:14:43.354Z"
   },
   {
    "duration": 173,
    "start_time": "2021-12-27T10:14:43.398Z"
   },
   {
    "duration": 28,
    "start_time": "2021-12-27T10:14:43.574Z"
   },
   {
    "duration": 252,
    "start_time": "2021-12-27T10:14:43.605Z"
   },
   {
    "duration": 32,
    "start_time": "2021-12-27T10:14:43.862Z"
   },
   {
    "duration": 42,
    "start_time": "2021-12-27T10:14:43.897Z"
   },
   {
    "duration": 543,
    "start_time": "2021-12-27T10:14:43.942Z"
   },
   {
    "duration": 361,
    "start_time": "2021-12-27T10:14:44.488Z"
   },
   {
    "duration": 210,
    "start_time": "2021-12-27T10:14:44.851Z"
   },
   {
    "duration": 21,
    "start_time": "2021-12-27T10:14:45.064Z"
   },
   {
    "duration": 951,
    "start_time": "2021-12-27T10:15:00.760Z"
   },
   {
    "duration": 46,
    "start_time": "2021-12-27T10:15:04.085Z"
   },
   {
    "duration": 18,
    "start_time": "2021-12-27T10:15:04.134Z"
   },
   {
    "duration": 60,
    "start_time": "2021-12-27T10:15:04.156Z"
   },
   {
    "duration": 290,
    "start_time": "2021-12-27T10:15:04.220Z"
   },
   {
    "duration": 34,
    "start_time": "2021-12-27T10:15:04.513Z"
   },
   {
    "duration": 135,
    "start_time": "2021-12-27T10:15:04.550Z"
   },
   {
    "duration": 19,
    "start_time": "2021-12-27T10:15:04.688Z"
   },
   {
    "duration": 190,
    "start_time": "2021-12-27T10:15:04.723Z"
   },
   {
    "duration": 38,
    "start_time": "2021-12-27T10:15:04.916Z"
   },
   {
    "duration": 51,
    "start_time": "2021-12-27T10:15:04.957Z"
   },
   {
    "duration": 581,
    "start_time": "2021-12-27T10:15:05.011Z"
   },
   {
    "duration": 359,
    "start_time": "2021-12-27T10:15:05.595Z"
   },
   {
    "duration": 214,
    "start_time": "2021-12-27T10:15:05.957Z"
   },
   {
    "duration": 21,
    "start_time": "2021-12-27T10:15:06.174Z"
   },
   {
    "duration": 951,
    "start_time": "2021-12-27T10:16:08.057Z"
   },
   {
    "duration": 47,
    "start_time": "2021-12-27T10:16:44.299Z"
   },
   {
    "duration": 10,
    "start_time": "2021-12-27T10:16:44.349Z"
   },
   {
    "duration": 29,
    "start_time": "2021-12-27T10:16:44.363Z"
   },
   {
    "duration": 284,
    "start_time": "2021-12-27T10:16:44.395Z"
   },
   {
    "duration": 42,
    "start_time": "2021-12-27T10:16:44.682Z"
   },
   {
    "duration": 111,
    "start_time": "2021-12-27T10:16:44.727Z"
   },
   {
    "duration": 18,
    "start_time": "2021-12-27T10:16:44.840Z"
   },
   {
    "duration": 190,
    "start_time": "2021-12-27T10:16:44.862Z"
   },
   {
    "duration": 22,
    "start_time": "2021-12-27T10:16:45.055Z"
   },
   {
    "duration": 42,
    "start_time": "2021-12-27T10:16:45.080Z"
   },
   {
    "duration": 340,
    "start_time": "2021-12-27T10:16:45.124Z"
   },
   {
    "duration": 208,
    "start_time": "2021-12-27T10:16:45.466Z"
   },
   {
    "duration": 132,
    "start_time": "2021-12-27T10:16:45.677Z"
   },
   {
    "duration": 22,
    "start_time": "2021-12-27T10:16:45.811Z"
   },
   {
    "duration": 44,
    "start_time": "2021-12-27T10:19:09.742Z"
   },
   {
    "duration": 8,
    "start_time": "2021-12-27T10:19:09.789Z"
   },
   {
    "duration": 29,
    "start_time": "2021-12-27T10:19:09.801Z"
   },
   {
    "duration": 195,
    "start_time": "2021-12-27T10:19:09.833Z"
   },
   {
    "duration": 26,
    "start_time": "2021-12-27T10:19:10.030Z"
   },
   {
    "duration": 120,
    "start_time": "2021-12-27T10:19:10.058Z"
   },
   {
    "duration": 18,
    "start_time": "2021-12-27T10:19:10.181Z"
   },
   {
    "duration": 203,
    "start_time": "2021-12-27T10:19:10.202Z"
   },
   {
    "duration": 27,
    "start_time": "2021-12-27T10:19:10.408Z"
   },
   {
    "duration": 20,
    "start_time": "2021-12-27T10:19:10.438Z"
   },
   {
    "duration": 368,
    "start_time": "2021-12-27T10:19:10.460Z"
   },
   {
    "duration": 220,
    "start_time": "2021-12-27T10:19:10.831Z"
   },
   {
    "duration": 132,
    "start_time": "2021-12-27T10:19:11.053Z"
   },
   {
    "duration": 17,
    "start_time": "2021-12-27T10:19:11.188Z"
   },
   {
    "duration": 42,
    "start_time": "2021-12-27T10:21:25.071Z"
   },
   {
    "duration": 9,
    "start_time": "2021-12-27T10:21:25.115Z"
   },
   {
    "duration": 41,
    "start_time": "2021-12-27T10:21:25.127Z"
   },
   {
    "duration": 215,
    "start_time": "2021-12-27T10:21:25.171Z"
   },
   {
    "duration": 37,
    "start_time": "2021-12-27T10:21:25.388Z"
   },
   {
    "duration": 112,
    "start_time": "2021-12-27T10:21:25.428Z"
   },
   {
    "duration": 19,
    "start_time": "2021-12-27T10:21:25.542Z"
   },
   {
    "duration": 188,
    "start_time": "2021-12-27T10:21:25.565Z"
   },
   {
    "duration": 22,
    "start_time": "2021-12-27T10:21:25.756Z"
   },
   {
    "duration": 42,
    "start_time": "2021-12-27T10:21:25.781Z"
   },
   {
    "duration": 622,
    "start_time": "2021-12-27T10:21:25.826Z"
   },
   {
    "duration": -27,
    "start_time": "2021-12-27T10:21:26.477Z"
   },
   {
    "duration": -54,
    "start_time": "2021-12-27T10:21:26.506Z"
   },
   {
    "duration": -55,
    "start_time": "2021-12-27T10:21:26.508Z"
   },
   {
    "duration": 301,
    "start_time": "2021-12-27T10:21:45.427Z"
   },
   {
    "duration": 49,
    "start_time": "2021-12-27T10:21:49.205Z"
   },
   {
    "duration": 12,
    "start_time": "2021-12-27T10:21:49.258Z"
   },
   {
    "duration": 51,
    "start_time": "2021-12-27T10:21:49.274Z"
   },
   {
    "duration": 288,
    "start_time": "2021-12-27T10:21:49.329Z"
   },
   {
    "duration": 40,
    "start_time": "2021-12-27T10:21:49.624Z"
   },
   {
    "duration": 178,
    "start_time": "2021-12-27T10:21:49.667Z"
   },
   {
    "duration": 28,
    "start_time": "2021-12-27T10:21:49.848Z"
   },
   {
    "duration": 255,
    "start_time": "2021-12-27T10:21:49.880Z"
   },
   {
    "duration": 32,
    "start_time": "2021-12-27T10:21:50.139Z"
   },
   {
    "duration": 49,
    "start_time": "2021-12-27T10:21:50.174Z"
   },
   {
    "duration": 340,
    "start_time": "2021-12-27T10:21:50.226Z"
   },
   {
    "duration": -32,
    "start_time": "2021-12-27T10:21:50.601Z"
   },
   {
    "duration": -33,
    "start_time": "2021-12-27T10:21:50.603Z"
   },
   {
    "duration": -51,
    "start_time": "2021-12-27T10:21:50.623Z"
   },
   {
    "duration": 42,
    "start_time": "2021-12-27T10:22:19.448Z"
   },
   {
    "duration": 10,
    "start_time": "2021-12-27T10:22:19.493Z"
   },
   {
    "duration": 25,
    "start_time": "2021-12-27T10:22:19.507Z"
   },
   {
    "duration": 189,
    "start_time": "2021-12-27T10:22:19.535Z"
   },
   {
    "duration": 26,
    "start_time": "2021-12-27T10:22:19.727Z"
   },
   {
    "duration": 118,
    "start_time": "2021-12-27T10:22:19.756Z"
   },
   {
    "duration": 18,
    "start_time": "2021-12-27T10:22:19.876Z"
   },
   {
    "duration": 279,
    "start_time": "2021-12-27T10:22:19.897Z"
   },
   {
    "duration": 21,
    "start_time": "2021-12-27T10:22:20.179Z"
   },
   {
    "duration": 32,
    "start_time": "2021-12-27T10:22:20.202Z"
   },
   {
    "duration": 344,
    "start_time": "2021-12-27T10:22:20.236Z"
   },
   {
    "duration": 209,
    "start_time": "2021-12-27T10:22:20.582Z"
   },
   {
    "duration": 134,
    "start_time": "2021-12-27T10:22:20.793Z"
   },
   {
    "duration": 11,
    "start_time": "2021-12-27T10:22:20.929Z"
   },
   {
    "duration": 46,
    "start_time": "2021-12-27T10:22:29.632Z"
   },
   {
    "duration": 8,
    "start_time": "2021-12-27T10:22:29.681Z"
   },
   {
    "duration": 25,
    "start_time": "2021-12-27T10:22:29.692Z"
   },
   {
    "duration": 188,
    "start_time": "2021-12-27T10:22:29.720Z"
   },
   {
    "duration": 36,
    "start_time": "2021-12-27T10:22:29.910Z"
   },
   {
    "duration": 116,
    "start_time": "2021-12-27T10:22:29.949Z"
   },
   {
    "duration": 20,
    "start_time": "2021-12-27T10:22:30.067Z"
   },
   {
    "duration": 187,
    "start_time": "2021-12-27T10:22:30.090Z"
   },
   {
    "duration": 23,
    "start_time": "2021-12-27T10:22:30.279Z"
   },
   {
    "duration": 37,
    "start_time": "2021-12-27T10:22:30.304Z"
   },
   {
    "duration": 334,
    "start_time": "2021-12-27T10:22:30.343Z"
   },
   {
    "duration": 212,
    "start_time": "2021-12-27T10:22:30.679Z"
   },
   {
    "duration": 136,
    "start_time": "2021-12-27T10:22:30.894Z"
   },
   {
    "duration": 15,
    "start_time": "2021-12-27T10:22:31.033Z"
   },
   {
    "duration": 40,
    "start_time": "2021-12-27T10:25:06.535Z"
   },
   {
    "duration": 9,
    "start_time": "2021-12-27T10:25:06.578Z"
   },
   {
    "duration": 23,
    "start_time": "2021-12-27T10:25:06.590Z"
   },
   {
    "duration": 260,
    "start_time": "2021-12-27T10:25:06.616Z"
   },
   {
    "duration": 48,
    "start_time": "2021-12-27T10:25:06.879Z"
   },
   {
    "duration": 157,
    "start_time": "2021-12-27T10:25:06.930Z"
   },
   {
    "duration": 36,
    "start_time": "2021-12-27T10:25:07.090Z"
   },
   {
    "duration": 244,
    "start_time": "2021-12-27T10:25:07.129Z"
   },
   {
    "duration": 46,
    "start_time": "2021-12-27T10:25:07.377Z"
   },
   {
    "duration": 26,
    "start_time": "2021-12-27T10:25:07.426Z"
   },
   {
    "duration": 570,
    "start_time": "2021-12-27T10:25:07.455Z"
   },
   {
    "duration": 357,
    "start_time": "2021-12-27T10:25:08.027Z"
   },
   {
    "duration": 208,
    "start_time": "2021-12-27T10:25:08.387Z"
   },
   {
    "duration": 28,
    "start_time": "2021-12-27T10:25:08.598Z"
   },
   {
    "duration": 48,
    "start_time": "2021-12-27T10:25:42.074Z"
   },
   {
    "duration": 11,
    "start_time": "2021-12-27T10:25:42.125Z"
   },
   {
    "duration": 43,
    "start_time": "2021-12-27T10:25:42.139Z"
   },
   {
    "duration": 274,
    "start_time": "2021-12-27T10:25:42.185Z"
   },
   {
    "duration": 40,
    "start_time": "2021-12-27T10:25:42.461Z"
   },
   {
    "duration": 134,
    "start_time": "2021-12-27T10:25:42.504Z"
   },
   {
    "duration": 18,
    "start_time": "2021-12-27T10:25:42.641Z"
   },
   {
    "duration": 182,
    "start_time": "2021-12-27T10:25:42.663Z"
   },
   {
    "duration": 22,
    "start_time": "2021-12-27T10:25:42.848Z"
   },
   {
    "duration": 20,
    "start_time": "2021-12-27T10:25:42.872Z"
   },
   {
    "duration": 376,
    "start_time": "2021-12-27T10:25:42.894Z"
   },
   {
    "duration": 215,
    "start_time": "2021-12-27T10:25:43.272Z"
   },
   {
    "duration": 133,
    "start_time": "2021-12-27T10:25:43.491Z"
   },
   {
    "duration": 16,
    "start_time": "2021-12-27T10:25:43.627Z"
   },
   {
    "duration": 609,
    "start_time": "2021-12-27T10:27:59.179Z"
   },
   {
    "duration": 40,
    "start_time": "2021-12-27T10:28:02.282Z"
   },
   {
    "duration": 8,
    "start_time": "2021-12-27T10:28:02.325Z"
   },
   {
    "duration": 28,
    "start_time": "2021-12-27T10:28:02.336Z"
   },
   {
    "duration": 209,
    "start_time": "2021-12-27T10:28:02.367Z"
   },
   {
    "duration": 25,
    "start_time": "2021-12-27T10:28:02.579Z"
   },
   {
    "duration": 110,
    "start_time": "2021-12-27T10:28:02.624Z"
   },
   {
    "duration": 18,
    "start_time": "2021-12-27T10:28:02.737Z"
   },
   {
    "duration": 185,
    "start_time": "2021-12-27T10:28:02.759Z"
   },
   {
    "duration": 24,
    "start_time": "2021-12-27T10:28:02.947Z"
   },
   {
    "duration": 21,
    "start_time": "2021-12-27T10:28:02.973Z"
   },
   {
    "duration": 359,
    "start_time": "2021-12-27T10:28:03.024Z"
   },
   {
    "duration": 206,
    "start_time": "2021-12-27T10:28:03.386Z"
   },
   {
    "duration": 132,
    "start_time": "2021-12-27T10:28:03.594Z"
   },
   {
    "duration": 21,
    "start_time": "2021-12-27T10:28:03.729Z"
   },
   {
    "duration": 793,
    "start_time": "2021-12-27T10:34:17.235Z"
   },
   {
    "duration": 44,
    "start_time": "2021-12-27T10:34:19.743Z"
   },
   {
    "duration": 10,
    "start_time": "2021-12-27T10:34:19.790Z"
   },
   {
    "duration": 34,
    "start_time": "2021-12-27T10:34:19.803Z"
   },
   {
    "duration": 214,
    "start_time": "2021-12-27T10:34:19.840Z"
   },
   {
    "duration": 28,
    "start_time": "2021-12-27T10:34:20.057Z"
   },
   {
    "duration": 175,
    "start_time": "2021-12-27T10:34:20.088Z"
   },
   {
    "duration": 20,
    "start_time": "2021-12-27T10:34:20.265Z"
   },
   {
    "duration": 202,
    "start_time": "2021-12-27T10:34:20.289Z"
   },
   {
    "duration": 31,
    "start_time": "2021-12-27T10:34:20.494Z"
   },
   {
    "duration": 31,
    "start_time": "2021-12-27T10:34:20.528Z"
   },
   {
    "duration": 396,
    "start_time": "2021-12-27T10:34:20.562Z"
   },
   {
    "duration": 229,
    "start_time": "2021-12-27T10:34:20.961Z"
   },
   {
    "duration": 136,
    "start_time": "2021-12-27T10:34:21.193Z"
   },
   {
    "duration": 22,
    "start_time": "2021-12-27T10:34:21.331Z"
   },
   {
    "duration": 1052,
    "start_time": "2021-12-27T10:34:57.353Z"
   },
   {
    "duration": 46,
    "start_time": "2021-12-27T10:35:00.908Z"
   },
   {
    "duration": 11,
    "start_time": "2021-12-27T10:35:00.957Z"
   },
   {
    "duration": 25,
    "start_time": "2021-12-27T10:35:00.971Z"
   },
   {
    "duration": 317,
    "start_time": "2021-12-27T10:35:01.000Z"
   },
   {
    "duration": 43,
    "start_time": "2021-12-27T10:35:01.324Z"
   },
   {
    "duration": 180,
    "start_time": "2021-12-27T10:35:01.370Z"
   },
   {
    "duration": 30,
    "start_time": "2021-12-27T10:35:01.554Z"
   },
   {
    "duration": 201,
    "start_time": "2021-12-27T10:35:01.588Z"
   },
   {
    "duration": 32,
    "start_time": "2021-12-27T10:35:01.792Z"
   },
   {
    "duration": 20,
    "start_time": "2021-12-27T10:35:01.827Z"
   },
   {
    "duration": 404,
    "start_time": "2021-12-27T10:35:01.850Z"
   },
   {
    "duration": 361,
    "start_time": "2021-12-27T10:35:02.257Z"
   },
   {
    "duration": 203,
    "start_time": "2021-12-27T10:35:02.624Z"
   },
   {
    "duration": 20,
    "start_time": "2021-12-27T10:35:02.831Z"
   },
   {
    "duration": 43,
    "start_time": "2021-12-27T10:38:32.130Z"
   },
   {
    "duration": 9,
    "start_time": "2021-12-27T10:38:32.176Z"
   },
   {
    "duration": 30,
    "start_time": "2021-12-27T10:38:32.189Z"
   },
   {
    "duration": 215,
    "start_time": "2021-12-27T10:38:32.223Z"
   },
   {
    "duration": 27,
    "start_time": "2021-12-27T10:38:32.440Z"
   },
   {
    "duration": 123,
    "start_time": "2021-12-27T10:38:32.469Z"
   },
   {
    "duration": 29,
    "start_time": "2021-12-27T10:38:32.595Z"
   },
   {
    "duration": 194,
    "start_time": "2021-12-27T10:38:32.628Z"
   },
   {
    "duration": 22,
    "start_time": "2021-12-27T10:38:32.825Z"
   },
   {
    "duration": 21,
    "start_time": "2021-12-27T10:38:32.849Z"
   },
   {
    "duration": 618,
    "start_time": "2021-12-27T10:38:32.872Z"
   },
   {
    "duration": 367,
    "start_time": "2021-12-27T10:38:33.492Z"
   },
   {
    "duration": 131,
    "start_time": "2021-12-27T10:38:33.862Z"
   },
   {
    "duration": 30,
    "start_time": "2021-12-27T10:38:33.995Z"
   },
   {
    "duration": 42,
    "start_time": "2021-12-27T10:41:09.777Z"
   },
   {
    "duration": 12,
    "start_time": "2021-12-27T10:41:09.822Z"
   },
   {
    "duration": 28,
    "start_time": "2021-12-27T10:41:09.838Z"
   },
   {
    "duration": 276,
    "start_time": "2021-12-27T10:41:09.869Z"
   },
   {
    "duration": 28,
    "start_time": "2021-12-27T10:41:10.149Z"
   },
   {
    "duration": 139,
    "start_time": "2021-12-27T10:41:10.180Z"
   },
   {
    "duration": 21,
    "start_time": "2021-12-27T10:41:10.322Z"
   },
   {
    "duration": 200,
    "start_time": "2021-12-27T10:41:10.347Z"
   },
   {
    "duration": 23,
    "start_time": "2021-12-27T10:41:10.550Z"
   },
   {
    "duration": 20,
    "start_time": "2021-12-27T10:41:10.576Z"
   },
   {
    "duration": 677,
    "start_time": "2021-12-27T10:41:10.622Z"
   },
   {
    "duration": -24,
    "start_time": "2021-12-27T10:41:11.326Z"
   },
   {
    "duration": -36,
    "start_time": "2021-12-27T10:41:11.340Z"
   },
   {
    "duration": -50,
    "start_time": "2021-12-27T10:41:11.357Z"
   },
   {
    "duration": 40,
    "start_time": "2021-12-27T10:41:20.487Z"
   },
   {
    "duration": 24,
    "start_time": "2021-12-27T10:41:20.529Z"
   },
   {
    "duration": 52,
    "start_time": "2021-12-27T10:41:20.556Z"
   },
   {
    "duration": 257,
    "start_time": "2021-12-27T10:41:20.612Z"
   },
   {
    "duration": 26,
    "start_time": "2021-12-27T10:41:20.871Z"
   },
   {
    "duration": 139,
    "start_time": "2021-12-27T10:41:20.899Z"
   },
   {
    "duration": 19,
    "start_time": "2021-12-27T10:41:21.041Z"
   },
   {
    "duration": 196,
    "start_time": "2021-12-27T10:41:21.062Z"
   },
   {
    "duration": 22,
    "start_time": "2021-12-27T10:41:21.261Z"
   },
   {
    "duration": 44,
    "start_time": "2021-12-27T10:41:21.285Z"
   },
   {
    "duration": 377,
    "start_time": "2021-12-27T10:41:21.332Z"
   },
   {
    "duration": 214,
    "start_time": "2021-12-27T10:41:21.711Z"
   },
   {
    "duration": 131,
    "start_time": "2021-12-27T10:41:21.927Z"
   },
   {
    "duration": 21,
    "start_time": "2021-12-27T10:41:22.061Z"
   },
   {
    "duration": 41,
    "start_time": "2021-12-27T10:46:57.082Z"
   },
   {
    "duration": 9,
    "start_time": "2021-12-27T10:46:57.126Z"
   },
   {
    "duration": 27,
    "start_time": "2021-12-27T10:46:57.138Z"
   },
   {
    "duration": 224,
    "start_time": "2021-12-27T10:46:57.168Z"
   },
   {
    "duration": 36,
    "start_time": "2021-12-27T10:46:57.394Z"
   },
   {
    "duration": 123,
    "start_time": "2021-12-27T10:46:57.433Z"
   },
   {
    "duration": 22,
    "start_time": "2021-12-27T10:46:57.559Z"
   },
   {
    "duration": 199,
    "start_time": "2021-12-27T10:46:57.586Z"
   },
   {
    "duration": 44,
    "start_time": "2021-12-27T10:46:57.788Z"
   },
   {
    "duration": 28,
    "start_time": "2021-12-27T10:46:57.835Z"
   },
   {
    "duration": 537,
    "start_time": "2021-12-27T10:46:57.865Z"
   },
   {
    "duration": 377,
    "start_time": "2021-12-27T10:46:58.405Z"
   },
   {
    "duration": 216,
    "start_time": "2021-12-27T10:46:58.785Z"
   },
   {
    "duration": 36,
    "start_time": "2021-12-27T10:46:59.004Z"
   },
   {
    "duration": 42,
    "start_time": "2021-12-27T10:47:21.212Z"
   },
   {
    "duration": 9,
    "start_time": "2021-12-27T10:47:21.256Z"
   },
   {
    "duration": 32,
    "start_time": "2021-12-27T10:47:21.268Z"
   },
   {
    "duration": 220,
    "start_time": "2021-12-27T10:47:21.304Z"
   },
   {
    "duration": 28,
    "start_time": "2021-12-27T10:47:21.527Z"
   },
   {
    "duration": 125,
    "start_time": "2021-12-27T10:47:21.557Z"
   },
   {
    "duration": 19,
    "start_time": "2021-12-27T10:47:21.685Z"
   },
   {
    "duration": 200,
    "start_time": "2021-12-27T10:47:21.707Z"
   },
   {
    "duration": 37,
    "start_time": "2021-12-27T10:47:21.910Z"
   },
   {
    "duration": 21,
    "start_time": "2021-12-27T10:47:21.950Z"
   },
   {
    "duration": 409,
    "start_time": "2021-12-27T10:47:21.975Z"
   },
   {
    "duration": 217,
    "start_time": "2021-12-27T10:47:22.386Z"
   },
   {
    "duration": 142,
    "start_time": "2021-12-27T10:47:22.606Z"
   },
   {
    "duration": 17,
    "start_time": "2021-12-27T10:47:22.751Z"
   },
   {
    "duration": 700,
    "start_time": "2021-12-27T10:47:55.216Z"
   },
   {
    "duration": 42,
    "start_time": "2021-12-27T10:47:58.620Z"
   },
   {
    "duration": 9,
    "start_time": "2021-12-27T10:47:58.664Z"
   },
   {
    "duration": 46,
    "start_time": "2021-12-27T10:47:58.676Z"
   },
   {
    "duration": 245,
    "start_time": "2021-12-27T10:47:58.724Z"
   },
   {
    "duration": 26,
    "start_time": "2021-12-27T10:47:58.971Z"
   },
   {
    "duration": 153,
    "start_time": "2021-12-27T10:47:58.999Z"
   },
   {
    "duration": 21,
    "start_time": "2021-12-27T10:47:59.154Z"
   },
   {
    "duration": 206,
    "start_time": "2021-12-27T10:47:59.180Z"
   },
   {
    "duration": 39,
    "start_time": "2021-12-27T10:47:59.389Z"
   },
   {
    "duration": 24,
    "start_time": "2021-12-27T10:47:59.431Z"
   },
   {
    "duration": 386,
    "start_time": "2021-12-27T10:47:59.459Z"
   },
   {
    "duration": 230,
    "start_time": "2021-12-27T10:47:59.847Z"
   },
   {
    "duration": 136,
    "start_time": "2021-12-27T10:48:00.080Z"
   },
   {
    "duration": 17,
    "start_time": "2021-12-27T10:48:00.224Z"
   },
   {
    "duration": 666,
    "start_time": "2021-12-27T10:48:12.103Z"
   },
   {
    "duration": 42,
    "start_time": "2021-12-27T10:48:15.764Z"
   },
   {
    "duration": 8,
    "start_time": "2021-12-27T10:48:15.809Z"
   },
   {
    "duration": 60,
    "start_time": "2021-12-27T10:48:15.820Z"
   },
   {
    "duration": 259,
    "start_time": "2021-12-27T10:48:15.883Z"
   },
   {
    "duration": 26,
    "start_time": "2021-12-27T10:48:16.144Z"
   },
   {
    "duration": 147,
    "start_time": "2021-12-27T10:48:16.173Z"
   },
   {
    "duration": 20,
    "start_time": "2021-12-27T10:48:16.323Z"
   },
   {
    "duration": 213,
    "start_time": "2021-12-27T10:48:16.346Z"
   },
   {
    "duration": 23,
    "start_time": "2021-12-27T10:48:16.564Z"
   },
   {
    "duration": 60,
    "start_time": "2021-12-27T10:48:16.590Z"
   },
   {
    "duration": 423,
    "start_time": "2021-12-27T10:48:16.653Z"
   },
   {
    "duration": 219,
    "start_time": "2021-12-27T10:48:17.078Z"
   },
   {
    "duration": 134,
    "start_time": "2021-12-27T10:48:17.300Z"
   },
   {
    "duration": 21,
    "start_time": "2021-12-27T10:48:17.437Z"
   },
   {
    "duration": 41,
    "start_time": "2021-12-27T10:49:10.835Z"
   },
   {
    "duration": 8,
    "start_time": "2021-12-27T10:49:10.879Z"
   },
   {
    "duration": 24,
    "start_time": "2021-12-27T10:49:10.890Z"
   },
   {
    "duration": 193,
    "start_time": "2021-12-27T10:49:10.916Z"
   },
   {
    "duration": 31,
    "start_time": "2021-12-27T10:49:11.112Z"
   },
   {
    "duration": 126,
    "start_time": "2021-12-27T10:49:11.146Z"
   },
   {
    "duration": 17,
    "start_time": "2021-12-27T10:49:11.275Z"
   },
   {
    "duration": 180,
    "start_time": "2021-12-27T10:49:11.296Z"
   },
   {
    "duration": 23,
    "start_time": "2021-12-27T10:49:11.479Z"
   },
   {
    "duration": 33,
    "start_time": "2021-12-27T10:49:11.505Z"
   },
   {
    "duration": 392,
    "start_time": "2021-12-27T10:49:11.541Z"
   },
   {
    "duration": 212,
    "start_time": "2021-12-27T10:49:11.935Z"
   },
   {
    "duration": 136,
    "start_time": "2021-12-27T10:49:12.149Z"
   },
   {
    "duration": 21,
    "start_time": "2021-12-27T10:49:12.287Z"
   },
   {
    "duration": 50,
    "start_time": "2021-12-27T10:50:17.467Z"
   },
   {
    "duration": 17,
    "start_time": "2021-12-27T10:50:17.520Z"
   },
   {
    "duration": 27,
    "start_time": "2021-12-27T10:50:17.540Z"
   },
   {
    "duration": 223,
    "start_time": "2021-12-27T10:50:17.569Z"
   },
   {
    "duration": 51,
    "start_time": "2021-12-27T10:50:17.795Z"
   },
   {
    "duration": 120,
    "start_time": "2021-12-27T10:50:17.851Z"
   },
   {
    "duration": 19,
    "start_time": "2021-12-27T10:50:17.973Z"
   },
   {
    "duration": 237,
    "start_time": "2021-12-27T10:50:17.995Z"
   },
   {
    "duration": 26,
    "start_time": "2021-12-27T10:50:18.236Z"
   },
   {
    "duration": 21,
    "start_time": "2021-12-27T10:50:18.265Z"
   },
   {
    "duration": 413,
    "start_time": "2021-12-27T10:50:18.288Z"
   },
   {
    "duration": 233,
    "start_time": "2021-12-27T10:50:18.704Z"
   },
   {
    "duration": 134,
    "start_time": "2021-12-27T10:50:18.940Z"
   },
   {
    "duration": 16,
    "start_time": "2021-12-27T10:50:19.077Z"
   },
   {
    "duration": 46,
    "start_time": "2021-12-27T10:51:04.883Z"
   },
   {
    "duration": 10,
    "start_time": "2021-12-27T10:51:04.932Z"
   },
   {
    "duration": 45,
    "start_time": "2021-12-27T10:51:04.946Z"
   },
   {
    "duration": 223,
    "start_time": "2021-12-27T10:51:04.995Z"
   },
   {
    "duration": 33,
    "start_time": "2021-12-27T10:51:05.220Z"
   },
   {
    "duration": 132,
    "start_time": "2021-12-27T10:51:05.256Z"
   },
   {
    "duration": 35,
    "start_time": "2021-12-27T10:51:05.391Z"
   },
   {
    "duration": 192,
    "start_time": "2021-12-27T10:51:05.430Z"
   },
   {
    "duration": 35,
    "start_time": "2021-12-27T10:51:05.626Z"
   },
   {
    "duration": 23,
    "start_time": "2021-12-27T10:51:05.664Z"
   },
   {
    "duration": 427,
    "start_time": "2021-12-27T10:51:05.689Z"
   },
   {
    "duration": 236,
    "start_time": "2021-12-27T10:51:06.119Z"
   },
   {
    "duration": 152,
    "start_time": "2021-12-27T10:51:06.357Z"
   },
   {
    "duration": 30,
    "start_time": "2021-12-27T10:51:06.511Z"
   },
   {
    "duration": 40,
    "start_time": "2021-12-27T11:04:30.835Z"
   },
   {
    "duration": 12,
    "start_time": "2021-12-27T11:04:30.877Z"
   },
   {
    "duration": 30,
    "start_time": "2021-12-27T11:04:30.892Z"
   },
   {
    "duration": 218,
    "start_time": "2021-12-27T11:04:30.925Z"
   },
   {
    "duration": 27,
    "start_time": "2021-12-27T11:04:31.146Z"
   },
   {
    "duration": 126,
    "start_time": "2021-12-27T11:04:31.175Z"
   },
   {
    "duration": 27,
    "start_time": "2021-12-27T11:04:31.304Z"
   },
   {
    "duration": 193,
    "start_time": "2021-12-27T11:04:31.334Z"
   },
   {
    "duration": 27,
    "start_time": "2021-12-27T11:04:31.531Z"
   },
   {
    "duration": 22,
    "start_time": "2021-12-27T11:04:31.561Z"
   },
   {
    "duration": 402,
    "start_time": "2021-12-27T11:04:31.586Z"
   },
   {
    "duration": 405,
    "start_time": "2021-12-27T11:04:31.991Z"
   },
   {
    "duration": -71,
    "start_time": "2021-12-27T11:04:32.470Z"
   },
   {
    "duration": 553,
    "start_time": "2021-12-27T11:17:35.269Z"
   },
   {
    "duration": 52,
    "start_time": "2021-12-27T11:17:38.590Z"
   },
   {
    "duration": 11,
    "start_time": "2021-12-27T11:17:38.645Z"
   },
   {
    "duration": 30,
    "start_time": "2021-12-27T11:17:38.660Z"
   },
   {
    "duration": 253,
    "start_time": "2021-12-27T11:17:38.693Z"
   },
   {
    "duration": 26,
    "start_time": "2021-12-27T11:17:38.949Z"
   },
   {
    "duration": 132,
    "start_time": "2021-12-27T11:17:38.977Z"
   },
   {
    "duration": 29,
    "start_time": "2021-12-27T11:17:39.112Z"
   },
   {
    "duration": 212,
    "start_time": "2021-12-27T11:17:39.145Z"
   },
   {
    "duration": 25,
    "start_time": "2021-12-27T11:17:39.359Z"
   },
   {
    "duration": 29,
    "start_time": "2021-12-27T11:17:39.386Z"
   },
   {
    "duration": 450,
    "start_time": "2021-12-27T11:17:39.432Z"
   },
   {
    "duration": 393,
    "start_time": "2021-12-27T11:17:39.884Z"
   },
   {
    "duration": 150,
    "start_time": "2021-12-27T11:17:40.280Z"
   },
   {
    "duration": 47,
    "start_time": "2021-12-27T11:18:31.210Z"
   },
   {
    "duration": 11,
    "start_time": "2021-12-27T11:18:31.260Z"
   },
   {
    "duration": 42,
    "start_time": "2021-12-27T11:18:31.275Z"
   },
   {
    "duration": 215,
    "start_time": "2021-12-27T11:18:31.323Z"
   },
   {
    "duration": 26,
    "start_time": "2021-12-27T11:18:31.541Z"
   },
   {
    "duration": 130,
    "start_time": "2021-12-27T11:18:31.569Z"
   },
   {
    "duration": 26,
    "start_time": "2021-12-27T11:18:31.702Z"
   },
   {
    "duration": 197,
    "start_time": "2021-12-27T11:18:31.734Z"
   },
   {
    "duration": 29,
    "start_time": "2021-12-27T11:18:31.934Z"
   },
   {
    "duration": 20,
    "start_time": "2021-12-27T11:18:31.965Z"
   },
   {
    "duration": 421,
    "start_time": "2021-12-27T11:18:31.987Z"
   },
   {
    "duration": 304,
    "start_time": "2021-12-27T11:18:32.411Z"
   },
   {
    "duration": 153,
    "start_time": "2021-12-27T11:18:32.722Z"
   },
   {
    "duration": 469,
    "start_time": "2021-12-27T11:21:09.860Z"
   },
   {
    "duration": 103,
    "start_time": "2021-12-27T11:26:52.212Z"
   },
   {
    "duration": 40,
    "start_time": "2021-12-27T11:27:01.340Z"
   },
   {
    "duration": 8,
    "start_time": "2021-12-27T11:27:01.383Z"
   },
   {
    "duration": 38,
    "start_time": "2021-12-27T11:27:01.394Z"
   },
   {
    "duration": 236,
    "start_time": "2021-12-27T11:27:01.435Z"
   },
   {
    "duration": 27,
    "start_time": "2021-12-27T11:27:01.673Z"
   },
   {
    "duration": 139,
    "start_time": "2021-12-27T11:27:01.702Z"
   },
   {
    "duration": 20,
    "start_time": "2021-12-27T11:27:01.844Z"
   },
   {
    "duration": 223,
    "start_time": "2021-12-27T11:27:01.867Z"
   },
   {
    "duration": 41,
    "start_time": "2021-12-27T11:27:02.093Z"
   },
   {
    "duration": 21,
    "start_time": "2021-12-27T11:27:02.137Z"
   },
   {
    "duration": 388,
    "start_time": "2021-12-27T11:27:02.161Z"
   },
   {
    "duration": 314,
    "start_time": "2021-12-27T11:27:02.552Z"
   },
   {
    "duration": 110,
    "start_time": "2021-12-27T11:27:02.869Z"
   },
   {
    "duration": 8380,
    "start_time": "2021-12-27T11:27:12.596Z"
   },
   {
    "duration": 41,
    "start_time": "2021-12-27T11:27:22.968Z"
   },
   {
    "duration": 9,
    "start_time": "2021-12-27T11:27:23.012Z"
   },
   {
    "duration": 40,
    "start_time": "2021-12-27T11:27:23.024Z"
   },
   {
    "duration": 250,
    "start_time": "2021-12-27T11:27:23.067Z"
   },
   {
    "duration": 35,
    "start_time": "2021-12-27T11:27:23.320Z"
   },
   {
    "duration": 132,
    "start_time": "2021-12-27T11:27:23.357Z"
   },
   {
    "duration": 31,
    "start_time": "2021-12-27T11:27:23.492Z"
   },
   {
    "duration": 190,
    "start_time": "2021-12-27T11:27:23.527Z"
   },
   {
    "duration": 29,
    "start_time": "2021-12-27T11:27:23.723Z"
   },
   {
    "duration": 36,
    "start_time": "2021-12-27T11:27:23.755Z"
   },
   {
    "duration": 394,
    "start_time": "2021-12-27T11:27:23.794Z"
   },
   {
    "duration": 329,
    "start_time": "2021-12-27T11:27:24.190Z"
   },
   {
    "duration": 9125,
    "start_time": "2021-12-27T11:27:24.523Z"
   },
   {
    "duration": 551,
    "start_time": "2021-12-27T11:28:56.716Z"
   },
   {
    "duration": 41,
    "start_time": "2021-12-27T11:28:59.663Z"
   },
   {
    "duration": 9,
    "start_time": "2021-12-27T11:28:59.707Z"
   },
   {
    "duration": 37,
    "start_time": "2021-12-27T11:28:59.720Z"
   },
   {
    "duration": 285,
    "start_time": "2021-12-27T11:28:59.760Z"
   },
   {
    "duration": 42,
    "start_time": "2021-12-27T11:29:00.048Z"
   },
   {
    "duration": 137,
    "start_time": "2021-12-27T11:29:00.093Z"
   },
   {
    "duration": 23,
    "start_time": "2021-12-27T11:29:00.232Z"
   },
   {
    "duration": 210,
    "start_time": "2021-12-27T11:29:00.258Z"
   },
   {
    "duration": 26,
    "start_time": "2021-12-27T11:29:00.470Z"
   },
   {
    "duration": 46,
    "start_time": "2021-12-27T11:29:00.498Z"
   },
   {
    "duration": 410,
    "start_time": "2021-12-27T11:29:00.547Z"
   },
   {
    "duration": 324,
    "start_time": "2021-12-27T11:29:00.959Z"
   },
   {
    "duration": 191,
    "start_time": "2021-12-27T11:29:01.285Z"
   },
   {
    "duration": 482,
    "start_time": "2021-12-27T11:29:39.098Z"
   },
   {
    "duration": 1551,
    "start_time": "2021-12-27T11:29:52.330Z"
   },
   {
    "duration": 1653,
    "start_time": "2021-12-27T11:30:12.980Z"
   },
   {
    "duration": 41,
    "start_time": "2021-12-27T11:30:22.444Z"
   },
   {
    "duration": 12,
    "start_time": "2021-12-27T11:30:22.488Z"
   },
   {
    "duration": 35,
    "start_time": "2021-12-27T11:30:22.503Z"
   },
   {
    "duration": 220,
    "start_time": "2021-12-27T11:30:22.540Z"
   },
   {
    "duration": 27,
    "start_time": "2021-12-27T11:30:22.763Z"
   },
   {
    "duration": 133,
    "start_time": "2021-12-27T11:30:22.792Z"
   },
   {
    "duration": 18,
    "start_time": "2021-12-27T11:30:22.928Z"
   },
   {
    "duration": 210,
    "start_time": "2021-12-27T11:30:22.950Z"
   },
   {
    "duration": 40,
    "start_time": "2021-12-27T11:30:23.163Z"
   },
   {
    "duration": 47,
    "start_time": "2021-12-27T11:30:23.207Z"
   },
   {
    "duration": 413,
    "start_time": "2021-12-27T11:30:23.277Z"
   },
   {
    "duration": 433,
    "start_time": "2021-12-27T11:30:23.694Z"
   },
   {
    "duration": 8605,
    "start_time": "2021-12-27T11:30:24.130Z"
   },
   {
    "duration": 76,
    "start_time": "2021-12-27T11:59:58.549Z"
   },
   {
    "duration": 8,
    "start_time": "2021-12-27T11:59:58.628Z"
   },
   {
    "duration": 32,
    "start_time": "2021-12-27T11:59:58.638Z"
   },
   {
    "duration": 209,
    "start_time": "2021-12-27T11:59:58.672Z"
   },
   {
    "duration": 40,
    "start_time": "2021-12-27T11:59:58.883Z"
   },
   {
    "duration": 112,
    "start_time": "2021-12-27T11:59:58.925Z"
   },
   {
    "duration": 19,
    "start_time": "2021-12-27T11:59:59.039Z"
   },
   {
    "duration": 198,
    "start_time": "2021-12-27T11:59:59.062Z"
   },
   {
    "duration": 22,
    "start_time": "2021-12-27T11:59:59.262Z"
   },
   {
    "duration": 41,
    "start_time": "2021-12-27T11:59:59.286Z"
   },
   {
    "duration": 372,
    "start_time": "2021-12-27T11:59:59.330Z"
   },
   {
    "duration": 302,
    "start_time": "2021-12-27T11:59:59.705Z"
   },
   {
    "duration": 202,
    "start_time": "2021-12-27T12:00:00.009Z"
   },
   {
    "duration": 439,
    "start_time": "2021-12-27T12:01:23.858Z"
   },
   {
    "duration": 62,
    "start_time": "2021-12-27T12:01:27.677Z"
   },
   {
    "duration": 9,
    "start_time": "2021-12-27T12:01:27.742Z"
   },
   {
    "duration": 23,
    "start_time": "2021-12-27T12:01:27.754Z"
   },
   {
    "duration": 220,
    "start_time": "2021-12-27T12:01:27.780Z"
   },
   {
    "duration": 34,
    "start_time": "2021-12-27T12:01:28.002Z"
   },
   {
    "duration": 122,
    "start_time": "2021-12-27T12:01:28.039Z"
   },
   {
    "duration": 24,
    "start_time": "2021-12-27T12:01:28.164Z"
   },
   {
    "duration": 287,
    "start_time": "2021-12-27T12:01:28.192Z"
   },
   {
    "duration": 41,
    "start_time": "2021-12-27T12:01:28.482Z"
   },
   {
    "duration": 22,
    "start_time": "2021-12-27T12:01:28.526Z"
   },
   {
    "duration": 391,
    "start_time": "2021-12-27T12:01:28.550Z"
   },
   {
    "duration": 319,
    "start_time": "2021-12-27T12:01:28.943Z"
   },
   {
    "duration": 8126,
    "start_time": "2021-12-27T12:01:29.264Z"
   },
   {
    "duration": 476,
    "start_time": "2021-12-27T12:03:57.643Z"
   },
   {
    "duration": 62,
    "start_time": "2021-12-27T12:04:01.393Z"
   },
   {
    "duration": 11,
    "start_time": "2021-12-27T12:04:01.458Z"
   },
   {
    "duration": 35,
    "start_time": "2021-12-27T12:04:01.473Z"
   },
   {
    "duration": 282,
    "start_time": "2021-12-27T12:04:01.511Z"
   },
   {
    "duration": 52,
    "start_time": "2021-12-27T12:04:01.797Z"
   },
   {
    "duration": 164,
    "start_time": "2021-12-27T12:04:01.851Z"
   },
   {
    "duration": 32,
    "start_time": "2021-12-27T12:04:02.019Z"
   },
   {
    "duration": 204,
    "start_time": "2021-12-27T12:04:02.056Z"
   },
   {
    "duration": 22,
    "start_time": "2021-12-27T12:04:02.263Z"
   },
   {
    "duration": 45,
    "start_time": "2021-12-27T12:04:02.288Z"
   },
   {
    "duration": 448,
    "start_time": "2021-12-27T12:04:02.339Z"
   },
   {
    "duration": 328,
    "start_time": "2021-12-27T12:04:02.789Z"
   },
   {
    "duration": 7126,
    "start_time": "2021-12-27T12:04:03.119Z"
   },
   {
    "duration": 66,
    "start_time": "2021-12-27T12:06:43.025Z"
   },
   {
    "duration": 8,
    "start_time": "2021-12-27T12:06:43.094Z"
   },
   {
    "duration": 26,
    "start_time": "2021-12-27T12:06:43.105Z"
   },
   {
    "duration": 243,
    "start_time": "2021-12-27T12:06:43.134Z"
   },
   {
    "duration": 48,
    "start_time": "2021-12-27T12:06:43.379Z"
   },
   {
    "duration": 128,
    "start_time": "2021-12-27T12:06:43.430Z"
   },
   {
    "duration": 19,
    "start_time": "2021-12-27T12:06:43.561Z"
   },
   {
    "duration": 208,
    "start_time": "2021-12-27T12:06:43.583Z"
   },
   {
    "duration": 38,
    "start_time": "2021-12-27T12:06:43.794Z"
   },
   {
    "duration": 21,
    "start_time": "2021-12-27T12:06:43.835Z"
   },
   {
    "duration": 413,
    "start_time": "2021-12-27T12:06:43.858Z"
   },
   {
    "duration": 315,
    "start_time": "2021-12-27T12:06:44.274Z"
   },
   {
    "duration": 8366,
    "start_time": "2021-12-27T12:06:44.592Z"
   },
   {
    "duration": 550,
    "start_time": "2021-12-27T12:07:18.754Z"
   },
   {
    "duration": 55,
    "start_time": "2021-12-27T12:07:21.849Z"
   },
   {
    "duration": 10,
    "start_time": "2021-12-27T12:07:21.907Z"
   },
   {
    "duration": 48,
    "start_time": "2021-12-27T12:07:21.920Z"
   },
   {
    "duration": 238,
    "start_time": "2021-12-27T12:07:21.970Z"
   },
   {
    "duration": 38,
    "start_time": "2021-12-27T12:07:22.210Z"
   },
   {
    "duration": 144,
    "start_time": "2021-12-27T12:07:22.250Z"
   },
   {
    "duration": 19,
    "start_time": "2021-12-27T12:07:22.396Z"
   },
   {
    "duration": 227,
    "start_time": "2021-12-27T12:07:22.423Z"
   },
   {
    "duration": 35,
    "start_time": "2021-12-27T12:07:22.654Z"
   },
   {
    "duration": 45,
    "start_time": "2021-12-27T12:07:22.692Z"
   },
   {
    "duration": 477,
    "start_time": "2021-12-27T12:07:22.740Z"
   },
   {
    "duration": 334,
    "start_time": "2021-12-27T12:07:23.224Z"
   },
   {
    "duration": 795,
    "start_time": "2021-12-27T12:07:23.561Z"
   },
   {
    "duration": 486,
    "start_time": "2021-12-27T12:07:32.771Z"
   },
   {
    "duration": 60,
    "start_time": "2021-12-27T12:07:35.778Z"
   },
   {
    "duration": 8,
    "start_time": "2021-12-27T12:07:35.841Z"
   },
   {
    "duration": 29,
    "start_time": "2021-12-27T12:07:35.853Z"
   },
   {
    "duration": 208,
    "start_time": "2021-12-27T12:07:35.884Z"
   },
   {
    "duration": 37,
    "start_time": "2021-12-27T12:07:36.095Z"
   },
   {
    "duration": 128,
    "start_time": "2021-12-27T12:07:36.135Z"
   },
   {
    "duration": 19,
    "start_time": "2021-12-27T12:07:36.265Z"
   },
   {
    "duration": 200,
    "start_time": "2021-12-27T12:07:36.287Z"
   },
   {
    "duration": 38,
    "start_time": "2021-12-27T12:07:36.490Z"
   },
   {
    "duration": 22,
    "start_time": "2021-12-27T12:07:36.530Z"
   },
   {
    "duration": 428,
    "start_time": "2021-12-27T12:07:36.555Z"
   },
   {
    "duration": 332,
    "start_time": "2021-12-27T12:07:36.985Z"
   },
   {
    "duration": 187,
    "start_time": "2021-12-27T12:07:37.320Z"
   },
   {
    "duration": 465,
    "start_time": "2021-12-27T12:08:34.138Z"
   },
   {
    "duration": 52,
    "start_time": "2021-12-27T12:08:37.874Z"
   },
   {
    "duration": 13,
    "start_time": "2021-12-27T12:08:37.929Z"
   },
   {
    "duration": 26,
    "start_time": "2021-12-27T12:08:37.946Z"
   },
   {
    "duration": 236,
    "start_time": "2021-12-27T12:08:37.976Z"
   },
   {
    "duration": 42,
    "start_time": "2021-12-27T12:08:38.215Z"
   },
   {
    "duration": 127,
    "start_time": "2021-12-27T12:08:38.260Z"
   },
   {
    "duration": 19,
    "start_time": "2021-12-27T12:08:38.389Z"
   },
   {
    "duration": 220,
    "start_time": "2021-12-27T12:08:38.430Z"
   },
   {
    "duration": 23,
    "start_time": "2021-12-27T12:08:38.653Z"
   },
   {
    "duration": 21,
    "start_time": "2021-12-27T12:08:38.678Z"
   },
   {
    "duration": 402,
    "start_time": "2021-12-27T12:08:38.724Z"
   },
   {
    "duration": 314,
    "start_time": "2021-12-27T12:08:39.129Z"
   },
   {
    "duration": 177,
    "start_time": "2021-12-27T12:08:39.446Z"
   },
   {
    "duration": 456,
    "start_time": "2021-12-27T12:10:04.153Z"
   },
   {
    "duration": 70,
    "start_time": "2021-12-27T12:10:07.997Z"
   },
   {
    "duration": 8,
    "start_time": "2021-12-27T12:10:08.070Z"
   },
   {
    "duration": 24,
    "start_time": "2021-12-27T12:10:08.082Z"
   },
   {
    "duration": 262,
    "start_time": "2021-12-27T12:10:08.108Z"
   },
   {
    "duration": 29,
    "start_time": "2021-12-27T12:10:08.373Z"
   },
   {
    "duration": 139,
    "start_time": "2021-12-27T12:10:08.404Z"
   },
   {
    "duration": 21,
    "start_time": "2021-12-27T12:10:08.545Z"
   },
   {
    "duration": 300,
    "start_time": "2021-12-27T12:10:08.571Z"
   },
   {
    "duration": 50,
    "start_time": "2021-12-27T12:10:08.875Z"
   },
   {
    "duration": 32,
    "start_time": "2021-12-27T12:10:08.928Z"
   },
   {
    "duration": 401,
    "start_time": "2021-12-27T12:10:08.962Z"
   },
   {
    "duration": 383,
    "start_time": "2021-12-27T12:10:09.366Z"
   },
   {
    "duration": 11918,
    "start_time": "2021-12-27T12:10:09.752Z"
   },
   {
    "duration": 571,
    "start_time": "2021-12-27T12:11:32.233Z"
   },
   {
    "duration": 56,
    "start_time": "2021-12-27T12:11:35.046Z"
   },
   {
    "duration": 16,
    "start_time": "2021-12-27T12:11:35.104Z"
   },
   {
    "duration": 33,
    "start_time": "2021-12-27T12:11:35.130Z"
   },
   {
    "duration": 228,
    "start_time": "2021-12-27T12:11:35.167Z"
   },
   {
    "duration": 42,
    "start_time": "2021-12-27T12:11:35.398Z"
   },
   {
    "duration": 141,
    "start_time": "2021-12-27T12:11:35.443Z"
   },
   {
    "duration": 40,
    "start_time": "2021-12-27T12:11:35.587Z"
   },
   {
    "duration": 199,
    "start_time": "2021-12-27T12:11:35.631Z"
   },
   {
    "duration": 25,
    "start_time": "2021-12-27T12:11:35.833Z"
   },
   {
    "duration": 21,
    "start_time": "2021-12-27T12:11:35.860Z"
   },
   {
    "duration": 426,
    "start_time": "2021-12-27T12:11:35.883Z"
   },
   {
    "duration": 326,
    "start_time": "2021-12-27T12:11:36.311Z"
   },
   {
    "duration": 7923,
    "start_time": "2021-12-27T12:11:36.640Z"
   },
   {
    "duration": 458,
    "start_time": "2021-12-27T12:11:58.833Z"
   },
   {
    "duration": 56,
    "start_time": "2021-12-27T12:12:01.796Z"
   },
   {
    "duration": 9,
    "start_time": "2021-12-27T12:12:01.854Z"
   },
   {
    "duration": 27,
    "start_time": "2021-12-27T12:12:01.865Z"
   },
   {
    "duration": 240,
    "start_time": "2021-12-27T12:12:01.895Z"
   },
   {
    "duration": 33,
    "start_time": "2021-12-27T12:12:02.138Z"
   },
   {
    "duration": 131,
    "start_time": "2021-12-27T12:12:02.173Z"
   },
   {
    "duration": 30,
    "start_time": "2021-12-27T12:12:02.306Z"
   },
   {
    "duration": 216,
    "start_time": "2021-12-27T12:12:02.345Z"
   },
   {
    "duration": 23,
    "start_time": "2021-12-27T12:12:02.563Z"
   },
   {
    "duration": 58,
    "start_time": "2021-12-27T12:12:02.589Z"
   },
   {
    "duration": 502,
    "start_time": "2021-12-27T12:12:02.650Z"
   },
   {
    "duration": 332,
    "start_time": "2021-12-27T12:12:03.155Z"
   },
   {
    "duration": 177,
    "start_time": "2021-12-27T12:12:03.490Z"
   },
   {
    "duration": 683,
    "start_time": "2021-12-27T12:12:28.215Z"
   },
   {
    "duration": 51,
    "start_time": "2021-12-27T12:12:31.413Z"
   },
   {
    "duration": 9,
    "start_time": "2021-12-27T12:12:31.466Z"
   },
   {
    "duration": 35,
    "start_time": "2021-12-27T12:12:31.478Z"
   },
   {
    "duration": 231,
    "start_time": "2021-12-27T12:12:31.516Z"
   },
   {
    "duration": 29,
    "start_time": "2021-12-27T12:12:31.749Z"
   },
   {
    "duration": 131,
    "start_time": "2021-12-27T12:12:31.781Z"
   },
   {
    "duration": 34,
    "start_time": "2021-12-27T12:12:31.915Z"
   },
   {
    "duration": 208,
    "start_time": "2021-12-27T12:12:31.955Z"
   },
   {
    "duration": 24,
    "start_time": "2021-12-27T12:12:32.166Z"
   },
   {
    "duration": 54,
    "start_time": "2021-12-27T12:12:32.194Z"
   },
   {
    "duration": 439,
    "start_time": "2021-12-27T12:12:32.251Z"
   },
   {
    "duration": 314,
    "start_time": "2021-12-27T12:12:32.692Z"
   },
   {
    "duration": 187,
    "start_time": "2021-12-27T12:12:33.009Z"
   },
   {
    "duration": 545,
    "start_time": "2021-12-27T12:13:23.214Z"
   },
   {
    "duration": 1841,
    "start_time": "2021-12-27T12:13:49.232Z"
   },
   {
    "duration": 51,
    "start_time": "2021-12-27T12:13:52.572Z"
   },
   {
    "duration": 10,
    "start_time": "2021-12-27T12:13:52.627Z"
   },
   {
    "duration": 39,
    "start_time": "2021-12-27T12:13:52.642Z"
   },
   {
    "duration": 271,
    "start_time": "2021-12-27T12:13:52.684Z"
   },
   {
    "duration": 34,
    "start_time": "2021-12-27T12:13:52.958Z"
   },
   {
    "duration": 134,
    "start_time": "2021-12-27T12:13:52.995Z"
   },
   {
    "duration": 46,
    "start_time": "2021-12-27T12:13:53.134Z"
   },
   {
    "duration": 280,
    "start_time": "2021-12-27T12:13:53.183Z"
   },
   {
    "duration": 24,
    "start_time": "2021-12-27T12:13:53.466Z"
   },
   {
    "duration": 43,
    "start_time": "2021-12-27T12:13:53.493Z"
   },
   {
    "duration": 633,
    "start_time": "2021-12-27T12:13:53.539Z"
   },
   {
    "duration": 475,
    "start_time": "2021-12-27T12:13:54.174Z"
   },
   {
    "duration": 202,
    "start_time": "2021-12-27T12:13:54.652Z"
   },
   {
    "duration": 303,
    "start_time": "2021-12-27T13:01:18.025Z"
   },
   {
    "duration": 64,
    "start_time": "2021-12-27T13:01:21.028Z"
   },
   {
    "duration": 12,
    "start_time": "2021-12-27T13:01:21.095Z"
   },
   {
    "duration": 55,
    "start_time": "2021-12-27T13:01:21.111Z"
   },
   {
    "duration": 237,
    "start_time": "2021-12-27T13:01:21.170Z"
   },
   {
    "duration": 53,
    "start_time": "2021-12-27T13:01:21.411Z"
   },
   {
    "duration": 137,
    "start_time": "2021-12-27T13:01:21.467Z"
   },
   {
    "duration": 34,
    "start_time": "2021-12-27T13:01:21.607Z"
   },
   {
    "duration": 212,
    "start_time": "2021-12-27T13:01:21.644Z"
   },
   {
    "duration": 38,
    "start_time": "2021-12-27T13:01:21.861Z"
   },
   {
    "duration": 46,
    "start_time": "2021-12-27T13:01:21.901Z"
   },
   {
    "duration": 431,
    "start_time": "2021-12-27T13:01:21.950Z"
   },
   {
    "duration": 352,
    "start_time": "2021-12-27T13:01:22.384Z"
   },
   {
    "duration": 234,
    "start_time": "2021-12-27T13:01:22.739Z"
   },
   {
    "duration": 206,
    "start_time": "2021-12-27T13:01:22.976Z"
   },
   {
    "duration": 51,
    "start_time": "2021-12-27T13:03:28.690Z"
   },
   {
    "duration": 8,
    "start_time": "2021-12-27T13:03:28.744Z"
   },
   {
    "duration": 24,
    "start_time": "2021-12-27T13:03:28.756Z"
   },
   {
    "duration": 229,
    "start_time": "2021-12-27T13:03:28.783Z"
   },
   {
    "duration": 40,
    "start_time": "2021-12-27T13:03:29.015Z"
   },
   {
    "duration": 136,
    "start_time": "2021-12-27T13:03:29.058Z"
   },
   {
    "duration": 18,
    "start_time": "2021-12-27T13:03:29.197Z"
   },
   {
    "duration": 206,
    "start_time": "2021-12-27T13:03:29.225Z"
   },
   {
    "duration": 25,
    "start_time": "2021-12-27T13:03:29.434Z"
   },
   {
    "duration": 20,
    "start_time": "2021-12-27T13:03:29.461Z"
   },
   {
    "duration": 423,
    "start_time": "2021-12-27T13:03:29.483Z"
   },
   {
    "duration": 330,
    "start_time": "2021-12-27T13:03:29.908Z"
   },
   {
    "duration": 208,
    "start_time": "2021-12-27T13:03:30.241Z"
   },
   {
    "duration": 112,
    "start_time": "2021-12-27T13:03:30.451Z"
   },
   {
    "duration": 95,
    "start_time": "2021-12-27T13:03:48.561Z"
   },
   {
    "duration": 59,
    "start_time": "2021-12-27T13:03:54.912Z"
   },
   {
    "duration": 10,
    "start_time": "2021-12-27T13:03:54.974Z"
   },
   {
    "duration": 26,
    "start_time": "2021-12-27T13:03:54.988Z"
   },
   {
    "duration": 215,
    "start_time": "2021-12-27T13:03:55.017Z"
   },
   {
    "duration": 29,
    "start_time": "2021-12-27T13:03:55.237Z"
   },
   {
    "duration": 139,
    "start_time": "2021-12-27T13:03:55.269Z"
   },
   {
    "duration": 29,
    "start_time": "2021-12-27T13:03:55.411Z"
   },
   {
    "duration": 188,
    "start_time": "2021-12-27T13:03:55.443Z"
   },
   {
    "duration": 25,
    "start_time": "2021-12-27T13:03:55.635Z"
   },
   {
    "duration": 23,
    "start_time": "2021-12-27T13:03:55.663Z"
   },
   {
    "duration": 407,
    "start_time": "2021-12-27T13:03:55.689Z"
   },
   {
    "duration": 317,
    "start_time": "2021-12-27T13:03:56.099Z"
   },
   {
    "duration": 200,
    "start_time": "2021-12-27T13:03:56.418Z"
   },
   {
    "duration": 107,
    "start_time": "2021-12-27T13:03:56.621Z"
   },
   {
    "duration": 56,
    "start_time": "2021-12-27T13:04:04.209Z"
   },
   {
    "duration": 9,
    "start_time": "2021-12-27T13:04:04.268Z"
   },
   {
    "duration": 32,
    "start_time": "2021-12-27T13:04:04.280Z"
   },
   {
    "duration": 224,
    "start_time": "2021-12-27T13:04:04.315Z"
   },
   {
    "duration": 27,
    "start_time": "2021-12-27T13:04:04.541Z"
   },
   {
    "duration": 128,
    "start_time": "2021-12-27T13:04:04.571Z"
   },
   {
    "duration": 32,
    "start_time": "2021-12-27T13:04:04.701Z"
   },
   {
    "duration": 194,
    "start_time": "2021-12-27T13:04:04.737Z"
   },
   {
    "duration": 27,
    "start_time": "2021-12-27T13:04:04.934Z"
   },
   {
    "duration": 21,
    "start_time": "2021-12-27T13:04:04.964Z"
   },
   {
    "duration": 514,
    "start_time": "2021-12-27T13:04:04.988Z"
   },
   {
    "duration": 400,
    "start_time": "2021-12-27T13:04:05.505Z"
   },
   {
    "duration": 206,
    "start_time": "2021-12-27T13:04:05.908Z"
   },
   {
    "duration": 303,
    "start_time": "2021-12-27T13:04:06.117Z"
   },
   {
    "duration": 49,
    "start_time": "2021-12-27T13:05:15.488Z"
   },
   {
    "duration": 14,
    "start_time": "2021-12-27T13:05:15.540Z"
   },
   {
    "duration": 24,
    "start_time": "2021-12-27T13:05:15.557Z"
   },
   {
    "duration": 297,
    "start_time": "2021-12-27T13:05:15.584Z"
   },
   {
    "duration": 49,
    "start_time": "2021-12-27T13:05:15.884Z"
   },
   {
    "duration": 124,
    "start_time": "2021-12-27T13:05:15.936Z"
   },
   {
    "duration": 18,
    "start_time": "2021-12-27T13:05:16.063Z"
   },
   {
    "duration": 214,
    "start_time": "2021-12-27T13:05:16.084Z"
   },
   {
    "duration": 32,
    "start_time": "2021-12-27T13:05:16.300Z"
   },
   {
    "duration": 26,
    "start_time": "2021-12-27T13:05:16.335Z"
   },
   {
    "duration": 432,
    "start_time": "2021-12-27T13:05:16.363Z"
   },
   {
    "duration": 312,
    "start_time": "2021-12-27T13:05:16.798Z"
   },
   {
    "duration": 207,
    "start_time": "2021-12-27T13:05:17.112Z"
   },
   {
    "duration": 334,
    "start_time": "2021-12-27T13:05:17.324Z"
   },
   {
    "duration": 528,
    "start_time": "2021-12-27T13:05:38.611Z"
   },
   {
    "duration": 46,
    "start_time": "2021-12-27T13:05:41.469Z"
   },
   {
    "duration": 18,
    "start_time": "2021-12-27T13:05:41.518Z"
   },
   {
    "duration": 24,
    "start_time": "2021-12-27T13:05:41.539Z"
   },
   {
    "duration": 212,
    "start_time": "2021-12-27T13:05:41.565Z"
   },
   {
    "duration": 25,
    "start_time": "2021-12-27T13:05:41.779Z"
   },
   {
    "duration": 135,
    "start_time": "2021-12-27T13:05:41.806Z"
   },
   {
    "duration": 18,
    "start_time": "2021-12-27T13:05:41.943Z"
   },
   {
    "duration": 200,
    "start_time": "2021-12-27T13:05:41.966Z"
   },
   {
    "duration": 23,
    "start_time": "2021-12-27T13:05:42.168Z"
   },
   {
    "duration": 46,
    "start_time": "2021-12-27T13:05:42.194Z"
   },
   {
    "duration": 394,
    "start_time": "2021-12-27T13:05:42.243Z"
   },
   {
    "duration": 309,
    "start_time": "2021-12-27T13:05:42.640Z"
   },
   {
    "duration": 212,
    "start_time": "2021-12-27T13:05:42.952Z"
   },
   {
    "duration": 298,
    "start_time": "2021-12-27T13:05:43.167Z"
   },
   {
    "duration": 14,
    "start_time": "2021-12-27T13:06:02.885Z"
   },
   {
    "duration": 18,
    "start_time": "2021-12-27T13:06:36.948Z"
   },
   {
    "duration": 490,
    "start_time": "2021-12-27T13:06:41.813Z"
   },
   {
    "duration": 9,
    "start_time": "2021-12-27T13:06:42.306Z"
   },
   {
    "duration": 905,
    "start_time": "2021-12-27T13:06:42.318Z"
   },
   {
    "duration": 315,
    "start_time": "2021-12-27T13:06:43.233Z"
   },
   {
    "duration": 29,
    "start_time": "2021-12-27T13:06:43.551Z"
   },
   {
    "duration": 161,
    "start_time": "2021-12-27T13:06:43.583Z"
   },
   {
    "duration": 23,
    "start_time": "2021-12-27T13:06:43.747Z"
   },
   {
    "duration": 271,
    "start_time": "2021-12-27T13:06:43.773Z"
   },
   {
    "duration": 35,
    "start_time": "2021-12-27T13:06:44.049Z"
   },
   {
    "duration": 56,
    "start_time": "2021-12-27T13:06:44.087Z"
   },
   {
    "duration": 406,
    "start_time": "2021-12-27T13:06:44.146Z"
   },
   {
    "duration": 338,
    "start_time": "2021-12-27T13:06:44.555Z"
   },
   {
    "duration": 209,
    "start_time": "2021-12-27T13:06:44.896Z"
   },
   {
    "duration": 21,
    "start_time": "2021-12-27T13:06:45.108Z"
   },
   {
    "duration": 552,
    "start_time": "2021-12-27T13:06:53.464Z"
   },
   {
    "duration": 293,
    "start_time": "2021-12-27T13:13:06.037Z"
   },
   {
    "duration": 62,
    "start_time": "2021-12-27T13:13:09.837Z"
   },
   {
    "duration": 8,
    "start_time": "2021-12-27T13:13:09.902Z"
   },
   {
    "duration": 30,
    "start_time": "2021-12-27T13:13:09.914Z"
   },
   {
    "duration": 216,
    "start_time": "2021-12-27T13:13:09.947Z"
   },
   {
    "duration": 26,
    "start_time": "2021-12-27T13:13:10.165Z"
   },
   {
    "duration": 147,
    "start_time": "2021-12-27T13:13:10.193Z"
   },
   {
    "duration": 27,
    "start_time": "2021-12-27T13:13:10.343Z"
   },
   {
    "duration": 253,
    "start_time": "2021-12-27T13:13:10.376Z"
   },
   {
    "duration": 27,
    "start_time": "2021-12-27T13:13:10.632Z"
   },
   {
    "duration": 21,
    "start_time": "2021-12-27T13:13:10.662Z"
   },
   {
    "duration": 409,
    "start_time": "2021-12-27T13:13:10.686Z"
   },
   {
    "duration": 304,
    "start_time": "2021-12-27T13:13:11.098Z"
   },
   {
    "duration": 200,
    "start_time": "2021-12-27T13:13:11.405Z"
   },
   {
    "duration": 304,
    "start_time": "2021-12-27T13:13:11.608Z"
   },
   {
    "duration": 87,
    "start_time": "2021-12-27T13:13:57.892Z"
   },
   {
    "duration": 448,
    "start_time": "2021-12-27T13:14:02.362Z"
   },
   {
    "duration": 47,
    "start_time": "2021-12-27T13:14:14.177Z"
   },
   {
    "duration": 13,
    "start_time": "2021-12-27T13:14:14.229Z"
   },
   {
    "duration": 24,
    "start_time": "2021-12-27T13:14:14.245Z"
   },
   {
    "duration": 218,
    "start_time": "2021-12-27T13:14:14.272Z"
   },
   {
    "duration": 40,
    "start_time": "2021-12-27T13:14:14.492Z"
   },
   {
    "duration": 117,
    "start_time": "2021-12-27T13:14:14.535Z"
   },
   {
    "duration": 18,
    "start_time": "2021-12-27T13:14:14.655Z"
   },
   {
    "duration": 203,
    "start_time": "2021-12-27T13:14:14.677Z"
   },
   {
    "duration": 22,
    "start_time": "2021-12-27T13:14:14.883Z"
   },
   {
    "duration": 25,
    "start_time": "2021-12-27T13:14:14.926Z"
   },
   {
    "duration": 391,
    "start_time": "2021-12-27T13:14:14.953Z"
   },
   {
    "duration": 305,
    "start_time": "2021-12-27T13:14:15.347Z"
   },
   {
    "duration": 201,
    "start_time": "2021-12-27T13:14:15.654Z"
   },
   {
    "duration": 104,
    "start_time": "2021-12-27T13:14:15.858Z"
   },
   {
    "duration": 47,
    "start_time": "2021-12-27T13:24:01.259Z"
   },
   {
    "duration": 9,
    "start_time": "2021-12-27T13:24:01.308Z"
   },
   {
    "duration": 55,
    "start_time": "2021-12-27T13:24:01.320Z"
   },
   {
    "duration": 215,
    "start_time": "2021-12-27T13:24:01.378Z"
   },
   {
    "duration": 31,
    "start_time": "2021-12-27T13:24:01.596Z"
   },
   {
    "duration": 136,
    "start_time": "2021-12-27T13:24:01.630Z"
   },
   {
    "duration": 19,
    "start_time": "2021-12-27T13:24:01.769Z"
   },
   {
    "duration": 208,
    "start_time": "2021-12-27T13:24:01.791Z"
   },
   {
    "duration": 42,
    "start_time": "2021-12-27T13:24:02.001Z"
   },
   {
    "duration": 36,
    "start_time": "2021-12-27T13:24:02.046Z"
   },
   {
    "duration": 396,
    "start_time": "2021-12-27T13:24:02.084Z"
   },
   {
    "duration": 325,
    "start_time": "2021-12-27T13:24:02.483Z"
   },
   {
    "duration": 219,
    "start_time": "2021-12-27T13:24:02.811Z"
   },
   {
    "duration": 415,
    "start_time": "2021-12-27T13:24:03.032Z"
   },
   {
    "duration": 48,
    "start_time": "2021-12-27T13:24:17.974Z"
   },
   {
    "duration": 9,
    "start_time": "2021-12-27T13:24:18.031Z"
   },
   {
    "duration": 36,
    "start_time": "2021-12-27T13:24:18.044Z"
   },
   {
    "duration": 221,
    "start_time": "2021-12-27T13:24:18.082Z"
   },
   {
    "duration": 37,
    "start_time": "2021-12-27T13:24:18.305Z"
   },
   {
    "duration": 135,
    "start_time": "2021-12-27T13:24:18.348Z"
   },
   {
    "duration": 20,
    "start_time": "2021-12-27T13:24:18.486Z"
   },
   {
    "duration": 210,
    "start_time": "2021-12-27T13:24:18.509Z"
   },
   {
    "duration": 35,
    "start_time": "2021-12-27T13:24:18.721Z"
   },
   {
    "duration": 20,
    "start_time": "2021-12-27T13:24:18.758Z"
   },
   {
    "duration": 423,
    "start_time": "2021-12-27T13:24:18.780Z"
   },
   {
    "duration": 335,
    "start_time": "2021-12-27T13:24:19.205Z"
   },
   {
    "duration": 212,
    "start_time": "2021-12-27T13:24:19.543Z"
   },
   {
    "duration": 350,
    "start_time": "2021-12-27T13:24:19.757Z"
   },
   {
    "duration": 55,
    "start_time": "2021-12-27T13:25:29.097Z"
   },
   {
    "duration": 10,
    "start_time": "2021-12-27T13:25:29.155Z"
   },
   {
    "duration": 24,
    "start_time": "2021-12-27T13:25:29.168Z"
   },
   {
    "duration": 231,
    "start_time": "2021-12-27T13:25:29.195Z"
   },
   {
    "duration": 38,
    "start_time": "2021-12-27T13:25:29.429Z"
   },
   {
    "duration": 127,
    "start_time": "2021-12-27T13:25:29.469Z"
   },
   {
    "duration": 46,
    "start_time": "2021-12-27T13:25:29.599Z"
   },
   {
    "duration": 190,
    "start_time": "2021-12-27T13:25:29.649Z"
   },
   {
    "duration": 25,
    "start_time": "2021-12-27T13:25:29.843Z"
   },
   {
    "duration": 19,
    "start_time": "2021-12-27T13:25:29.870Z"
   },
   {
    "duration": 418,
    "start_time": "2021-12-27T13:25:29.891Z"
   },
   {
    "duration": 306,
    "start_time": "2021-12-27T13:25:30.311Z"
   },
   {
    "duration": 192,
    "start_time": "2021-12-27T13:25:30.623Z"
   },
   {
    "duration": 7840,
    "start_time": "2021-12-27T13:25:30.818Z"
   },
   {
    "duration": 34,
    "start_time": "2021-12-27T13:33:28.877Z"
   },
   {
    "duration": -32,
    "start_time": "2021-12-27T13:33:59.558Z"
   },
   {
    "duration": -96,
    "start_time": "2021-12-27T13:33:59.625Z"
   },
   {
    "duration": -99,
    "start_time": "2021-12-27T13:33:59.631Z"
   },
   {
    "duration": -97,
    "start_time": "2021-12-27T13:33:59.633Z"
   },
   {
    "duration": -93,
    "start_time": "2021-12-27T13:33:59.638Z"
   },
   {
    "duration": -95,
    "start_time": "2021-12-27T13:33:59.642Z"
   },
   {
    "duration": -103,
    "start_time": "2021-12-27T13:33:59.652Z"
   },
   {
    "duration": -103,
    "start_time": "2021-12-27T13:33:59.653Z"
   },
   {
    "duration": -107,
    "start_time": "2021-12-27T13:33:59.659Z"
   },
   {
    "duration": -113,
    "start_time": "2021-12-27T13:33:59.669Z"
   },
   {
    "duration": -127,
    "start_time": "2021-12-27T13:33:59.685Z"
   },
   {
    "duration": -134,
    "start_time": "2021-12-27T13:33:59.693Z"
   },
   {
    "duration": -141,
    "start_time": "2021-12-27T13:33:59.702Z"
   },
   {
    "duration": -143,
    "start_time": "2021-12-27T13:33:59.706Z"
   },
   {
    "duration": 43,
    "start_time": "2021-12-27T13:34:15.019Z"
   },
   {
    "duration": 10,
    "start_time": "2021-12-27T13:34:15.065Z"
   },
   {
    "duration": 30,
    "start_time": "2021-12-27T13:34:15.079Z"
   },
   {
    "duration": 220,
    "start_time": "2021-12-27T13:34:15.124Z"
   },
   {
    "duration": 29,
    "start_time": "2021-12-27T13:34:15.347Z"
   },
   {
    "duration": 137,
    "start_time": "2021-12-27T13:34:15.379Z"
   },
   {
    "duration": 28,
    "start_time": "2021-12-27T13:34:15.519Z"
   },
   {
    "duration": 203,
    "start_time": "2021-12-27T13:34:15.551Z"
   },
   {
    "duration": 24,
    "start_time": "2021-12-27T13:34:15.757Z"
   },
   {
    "duration": 41,
    "start_time": "2021-12-27T13:34:15.784Z"
   },
   {
    "duration": 390,
    "start_time": "2021-12-27T13:34:15.828Z"
   },
   {
    "duration": 314,
    "start_time": "2021-12-27T13:34:16.224Z"
   },
   {
    "duration": 204,
    "start_time": "2021-12-27T13:34:16.541Z"
   },
   {
    "duration": 35,
    "start_time": "2021-12-27T13:34:16.748Z"
   },
   {
    "duration": 47,
    "start_time": "2021-12-27T13:36:05.742Z"
   },
   {
    "duration": 19,
    "start_time": "2021-12-27T13:36:05.791Z"
   },
   {
    "duration": 37,
    "start_time": "2021-12-27T13:36:05.813Z"
   },
   {
    "duration": 215,
    "start_time": "2021-12-27T13:36:05.853Z"
   },
   {
    "duration": 27,
    "start_time": "2021-12-27T13:36:06.070Z"
   },
   {
    "duration": 128,
    "start_time": "2021-12-27T13:36:06.099Z"
   },
   {
    "duration": 24,
    "start_time": "2021-12-27T13:36:06.230Z"
   },
   {
    "duration": 210,
    "start_time": "2021-12-27T13:36:06.257Z"
   },
   {
    "duration": 23,
    "start_time": "2021-12-27T13:36:06.471Z"
   },
   {
    "duration": 47,
    "start_time": "2021-12-27T13:36:06.497Z"
   },
   {
    "duration": 399,
    "start_time": "2021-12-27T13:36:06.547Z"
   },
   {
    "duration": 311,
    "start_time": "2021-12-27T13:36:06.949Z"
   },
   {
    "duration": 203,
    "start_time": "2021-12-27T13:36:07.263Z"
   },
   {
    "duration": 34,
    "start_time": "2021-12-27T13:36:07.469Z"
   },
   {
    "duration": 43,
    "start_time": "2021-12-27T13:37:23.716Z"
   },
   {
    "duration": 54,
    "start_time": "2021-12-27T13:37:28.809Z"
   },
   {
    "duration": 9,
    "start_time": "2021-12-27T13:37:28.866Z"
   },
   {
    "duration": 23,
    "start_time": "2021-12-27T13:37:28.879Z"
   },
   {
    "duration": 324,
    "start_time": "2021-12-27T13:37:28.905Z"
   },
   {
    "duration": 31,
    "start_time": "2021-12-27T13:37:29.233Z"
   },
   {
    "duration": 130,
    "start_time": "2021-12-27T13:37:29.267Z"
   },
   {
    "duration": 23,
    "start_time": "2021-12-27T13:37:29.400Z"
   },
   {
    "duration": 214,
    "start_time": "2021-12-27T13:37:29.427Z"
   },
   {
    "duration": 35,
    "start_time": "2021-12-27T13:37:29.644Z"
   },
   {
    "duration": 51,
    "start_time": "2021-12-27T13:37:29.682Z"
   },
   {
    "duration": 382,
    "start_time": "2021-12-27T13:37:29.735Z"
   },
   {
    "duration": 314,
    "start_time": "2021-12-27T13:37:30.120Z"
   },
   {
    "duration": 203,
    "start_time": "2021-12-27T13:37:30.437Z"
   },
   {
    "duration": 35,
    "start_time": "2021-12-27T13:37:30.642Z"
   },
   {
    "duration": 48,
    "start_time": "2021-12-27T13:37:48.898Z"
   },
   {
    "duration": 9,
    "start_time": "2021-12-27T13:37:48.949Z"
   },
   {
    "duration": 30,
    "start_time": "2021-12-27T13:37:48.961Z"
   },
   {
    "duration": 226,
    "start_time": "2021-12-27T13:37:48.994Z"
   },
   {
    "duration": 34,
    "start_time": "2021-12-27T13:37:49.224Z"
   },
   {
    "duration": 132,
    "start_time": "2021-12-27T13:37:49.260Z"
   },
   {
    "duration": 33,
    "start_time": "2021-12-27T13:37:49.395Z"
   },
   {
    "duration": 200,
    "start_time": "2021-12-27T13:37:49.432Z"
   },
   {
    "duration": 28,
    "start_time": "2021-12-27T13:37:49.635Z"
   },
   {
    "duration": 30,
    "start_time": "2021-12-27T13:37:49.667Z"
   },
   {
    "duration": 389,
    "start_time": "2021-12-27T13:37:49.727Z"
   },
   {
    "duration": 484,
    "start_time": "2021-12-27T13:37:50.119Z"
   },
   {
    "duration": 302,
    "start_time": "2021-12-27T13:37:50.607Z"
   },
   {
    "duration": 119,
    "start_time": "2021-12-27T13:37:50.912Z"
   },
   {
    "duration": 44,
    "start_time": "2021-12-27T13:37:58.702Z"
   },
   {
    "duration": 10,
    "start_time": "2021-12-27T13:37:58.749Z"
   },
   {
    "duration": 23,
    "start_time": "2021-12-27T13:37:58.764Z"
   },
   {
    "duration": 242,
    "start_time": "2021-12-27T13:37:58.791Z"
   },
   {
    "duration": 33,
    "start_time": "2021-12-27T13:37:59.038Z"
   },
   {
    "duration": 134,
    "start_time": "2021-12-27T13:37:59.074Z"
   },
   {
    "duration": 27,
    "start_time": "2021-12-27T13:37:59.211Z"
   },
   {
    "duration": 211,
    "start_time": "2021-12-27T13:37:59.244Z"
   },
   {
    "duration": 24,
    "start_time": "2021-12-27T13:37:59.459Z"
   },
   {
    "duration": 56,
    "start_time": "2021-12-27T13:37:59.487Z"
   },
   {
    "duration": 426,
    "start_time": "2021-12-27T13:37:59.547Z"
   },
   {
    "duration": 379,
    "start_time": "2021-12-27T13:37:59.976Z"
   },
   {
    "duration": 225,
    "start_time": "2021-12-27T13:38:00.359Z"
   },
   {
    "duration": 2125,
    "start_time": "2021-12-27T13:38:00.587Z"
   },
   {
    "duration": 47,
    "start_time": "2021-12-27T13:38:37.384Z"
   },
   {
    "duration": 24,
    "start_time": "2021-12-27T13:38:37.434Z"
   },
   {
    "duration": 37,
    "start_time": "2021-12-27T13:38:37.462Z"
   },
   {
    "duration": 223,
    "start_time": "2021-12-27T13:38:37.501Z"
   },
   {
    "duration": 33,
    "start_time": "2021-12-27T13:38:37.727Z"
   },
   {
    "duration": 136,
    "start_time": "2021-12-27T13:38:37.763Z"
   },
   {
    "duration": 28,
    "start_time": "2021-12-27T13:38:37.901Z"
   },
   {
    "duration": 182,
    "start_time": "2021-12-27T13:38:37.933Z"
   },
   {
    "duration": 28,
    "start_time": "2021-12-27T13:38:38.118Z"
   },
   {
    "duration": 58,
    "start_time": "2021-12-27T13:38:38.149Z"
   },
   {
    "duration": 397,
    "start_time": "2021-12-27T13:38:38.209Z"
   },
   {
    "duration": 302,
    "start_time": "2021-12-27T13:38:38.609Z"
   },
   {
    "duration": 195,
    "start_time": "2021-12-27T13:38:38.922Z"
   },
   {
    "duration": 2356,
    "start_time": "2021-12-27T13:38:39.123Z"
   },
   {
    "duration": 39,
    "start_time": "2021-12-27T13:38:50.038Z"
   },
   {
    "duration": 9,
    "start_time": "2021-12-27T13:38:50.080Z"
   },
   {
    "duration": 33,
    "start_time": "2021-12-27T13:38:50.092Z"
   },
   {
    "duration": 218,
    "start_time": "2021-12-27T13:38:50.128Z"
   },
   {
    "duration": 29,
    "start_time": "2021-12-27T13:38:50.349Z"
   },
   {
    "duration": 144,
    "start_time": "2021-12-27T13:38:50.381Z"
   },
   {
    "duration": 26,
    "start_time": "2021-12-27T13:38:50.530Z"
   },
   {
    "duration": 213,
    "start_time": "2021-12-27T13:38:50.559Z"
   },
   {
    "duration": 21,
    "start_time": "2021-12-27T13:38:50.776Z"
   },
   {
    "duration": 45,
    "start_time": "2021-12-27T13:38:50.801Z"
   },
   {
    "duration": 403,
    "start_time": "2021-12-27T13:38:50.848Z"
   },
   {
    "duration": 371,
    "start_time": "2021-12-27T13:38:51.253Z"
   },
   {
    "duration": 237,
    "start_time": "2021-12-27T13:38:51.628Z"
   },
   {
    "duration": 7324,
    "start_time": "2021-12-27T13:38:51.870Z"
   },
   {
    "duration": 6923,
    "start_time": "2021-12-27T13:41:16.338Z"
   },
   {
    "duration": 7781,
    "start_time": "2021-12-27T13:42:43.367Z"
   },
   {
    "duration": 41,
    "start_time": "2021-12-27T13:42:51.376Z"
   },
   {
    "duration": 13,
    "start_time": "2021-12-27T13:42:51.420Z"
   },
   {
    "duration": 32,
    "start_time": "2021-12-27T13:42:51.437Z"
   },
   {
    "duration": 216,
    "start_time": "2021-12-27T13:42:51.472Z"
   },
   {
    "duration": 44,
    "start_time": "2021-12-27T13:42:51.690Z"
   },
   {
    "duration": 125,
    "start_time": "2021-12-27T13:42:51.737Z"
   },
   {
    "duration": 20,
    "start_time": "2021-12-27T13:42:51.865Z"
   },
   {
    "duration": 216,
    "start_time": "2021-12-27T13:42:51.888Z"
   },
   {
    "duration": 35,
    "start_time": "2021-12-27T13:42:52.109Z"
   },
   {
    "duration": 30,
    "start_time": "2021-12-27T13:42:52.148Z"
   },
   {
    "duration": 397,
    "start_time": "2021-12-27T13:42:52.181Z"
   },
   {
    "duration": 314,
    "start_time": "2021-12-27T13:42:52.581Z"
   },
   {
    "duration": 216,
    "start_time": "2021-12-27T13:42:52.897Z"
   },
   {
    "duration": 6935,
    "start_time": "2021-12-27T13:42:53.123Z"
   },
   {
    "duration": 43,
    "start_time": "2021-12-27T13:52:07.970Z"
   },
   {
    "duration": 9,
    "start_time": "2021-12-27T13:52:08.016Z"
   },
   {
    "duration": 25,
    "start_time": "2021-12-27T13:52:08.028Z"
   },
   {
    "duration": 250,
    "start_time": "2021-12-27T13:52:08.056Z"
   },
   {
    "duration": 30,
    "start_time": "2021-12-27T13:52:08.308Z"
   },
   {
    "duration": 120,
    "start_time": "2021-12-27T13:52:08.341Z"
   },
   {
    "duration": 17,
    "start_time": "2021-12-27T13:52:08.464Z"
   },
   {
    "duration": 190,
    "start_time": "2021-12-27T13:52:08.485Z"
   },
   {
    "duration": 22,
    "start_time": "2021-12-27T13:52:08.678Z"
   },
   {
    "duration": 35,
    "start_time": "2021-12-27T13:52:08.703Z"
   },
   {
    "duration": 351,
    "start_time": "2021-12-27T13:52:08.741Z"
   },
   {
    "duration": 282,
    "start_time": "2021-12-27T13:52:09.095Z"
   },
   {
    "duration": 189,
    "start_time": "2021-12-27T13:52:09.379Z"
   },
   {
    "duration": 281,
    "start_time": "2021-12-27T13:52:09.571Z"
   },
   {
    "duration": 280,
    "start_time": "2021-12-27T13:53:37.115Z"
   },
   {
    "duration": 42,
    "start_time": "2021-12-27T13:53:39.799Z"
   },
   {
    "duration": 9,
    "start_time": "2021-12-27T13:53:39.843Z"
   },
   {
    "duration": 50,
    "start_time": "2021-12-27T13:53:39.855Z"
   },
   {
    "duration": 206,
    "start_time": "2021-12-27T13:53:39.909Z"
   },
   {
    "duration": 30,
    "start_time": "2021-12-27T13:53:40.122Z"
   },
   {
    "duration": 132,
    "start_time": "2021-12-27T13:53:40.155Z"
   },
   {
    "duration": 20,
    "start_time": "2021-12-27T13:53:40.290Z"
   },
   {
    "duration": 175,
    "start_time": "2021-12-27T13:53:40.326Z"
   },
   {
    "duration": 29,
    "start_time": "2021-12-27T13:53:40.504Z"
   },
   {
    "duration": 24,
    "start_time": "2021-12-27T13:53:40.536Z"
   },
   {
    "duration": 363,
    "start_time": "2021-12-27T13:53:40.563Z"
   },
   {
    "duration": 275,
    "start_time": "2021-12-27T13:53:40.929Z"
   },
   {
    "duration": 187,
    "start_time": "2021-12-27T13:53:41.207Z"
   },
   {
    "duration": 282,
    "start_time": "2021-12-27T13:53:41.396Z"
   },
   {
    "duration": 42,
    "start_time": "2021-12-27T13:54:06.360Z"
   },
   {
    "duration": 10,
    "start_time": "2021-12-27T13:54:06.404Z"
   },
   {
    "duration": 35,
    "start_time": "2021-12-27T13:54:06.417Z"
   },
   {
    "duration": 209,
    "start_time": "2021-12-27T13:54:06.455Z"
   },
   {
    "duration": 29,
    "start_time": "2021-12-27T13:54:06.666Z"
   },
   {
    "duration": 123,
    "start_time": "2021-12-27T13:54:06.697Z"
   },
   {
    "duration": 18,
    "start_time": "2021-12-27T13:54:06.823Z"
   },
   {
    "duration": 197,
    "start_time": "2021-12-27T13:54:06.845Z"
   },
   {
    "duration": 24,
    "start_time": "2021-12-27T13:54:07.045Z"
   },
   {
    "duration": 20,
    "start_time": "2021-12-27T13:54:07.073Z"
   },
   {
    "duration": 408,
    "start_time": "2021-12-27T13:54:07.095Z"
   },
   {
    "duration": 299,
    "start_time": "2021-12-27T13:54:07.506Z"
   },
   {
    "duration": 191,
    "start_time": "2021-12-27T13:54:07.808Z"
   },
   {
    "duration": 47,
    "start_time": "2021-12-27T13:54:08.002Z"
   },
   {
    "duration": 322,
    "start_time": "2021-12-27T13:54:57.826Z"
   },
   {
    "duration": 40,
    "start_time": "2021-12-27T13:55:00.701Z"
   },
   {
    "duration": 19,
    "start_time": "2021-12-27T13:55:00.743Z"
   },
   {
    "duration": 47,
    "start_time": "2021-12-27T13:55:00.765Z"
   },
   {
    "duration": 221,
    "start_time": "2021-12-27T13:55:00.815Z"
   },
   {
    "duration": 26,
    "start_time": "2021-12-27T13:55:01.039Z"
   },
   {
    "duration": 141,
    "start_time": "2021-12-27T13:55:01.068Z"
   },
   {
    "duration": 21,
    "start_time": "2021-12-27T13:55:01.212Z"
   },
   {
    "duration": 207,
    "start_time": "2021-12-27T13:55:01.236Z"
   },
   {
    "duration": 21,
    "start_time": "2021-12-27T13:55:01.446Z"
   },
   {
    "duration": 41,
    "start_time": "2021-12-27T13:55:01.469Z"
   },
   {
    "duration": 367,
    "start_time": "2021-12-27T13:55:01.512Z"
   },
   {
    "duration": 293,
    "start_time": "2021-12-27T13:55:01.881Z"
   },
   {
    "duration": 189,
    "start_time": "2021-12-27T13:55:02.176Z"
   },
   {
    "duration": 315,
    "start_time": "2021-12-27T13:55:02.367Z"
   },
   {
    "duration": 46,
    "start_time": "2021-12-27T13:56:18.440Z"
   },
   {
    "duration": 9,
    "start_time": "2021-12-27T13:56:18.490Z"
   },
   {
    "duration": 35,
    "start_time": "2021-12-27T13:56:18.502Z"
   },
   {
    "duration": 208,
    "start_time": "2021-12-27T13:56:18.541Z"
   },
   {
    "duration": 31,
    "start_time": "2021-12-27T13:56:18.752Z"
   },
   {
    "duration": 132,
    "start_time": "2021-12-27T13:56:18.786Z"
   },
   {
    "duration": 18,
    "start_time": "2021-12-27T13:56:18.921Z"
   },
   {
    "duration": 182,
    "start_time": "2021-12-27T13:56:18.942Z"
   },
   {
    "duration": 23,
    "start_time": "2021-12-27T13:56:19.127Z"
   },
   {
    "duration": 20,
    "start_time": "2021-12-27T13:56:19.153Z"
   },
   {
    "duration": 392,
    "start_time": "2021-12-27T13:56:19.175Z"
   },
   {
    "duration": 311,
    "start_time": "2021-12-27T13:56:19.569Z"
   },
   {
    "duration": 204,
    "start_time": "2021-12-27T13:56:19.883Z"
   },
   {
    "duration": 57,
    "start_time": "2021-12-27T13:56:20.089Z"
   },
   {
    "duration": -46,
    "start_time": "2021-12-27T13:59:04.995Z"
   },
   {
    "duration": -52,
    "start_time": "2021-12-27T13:59:05.003Z"
   },
   {
    "duration": -54,
    "start_time": "2021-12-27T13:59:05.007Z"
   },
   {
    "duration": -54,
    "start_time": "2021-12-27T13:59:05.009Z"
   },
   {
    "duration": -56,
    "start_time": "2021-12-27T13:59:05.012Z"
   },
   {
    "duration": -57,
    "start_time": "2021-12-27T13:59:05.014Z"
   },
   {
    "duration": -58,
    "start_time": "2021-12-27T13:59:05.017Z"
   },
   {
    "duration": -59,
    "start_time": "2021-12-27T13:59:05.019Z"
   },
   {
    "duration": -59,
    "start_time": "2021-12-27T13:59:05.020Z"
   },
   {
    "duration": -59,
    "start_time": "2021-12-27T13:59:05.021Z"
   },
   {
    "duration": -77,
    "start_time": "2021-12-27T13:59:05.041Z"
   },
   {
    "duration": -78,
    "start_time": "2021-12-27T13:59:05.043Z"
   },
   {
    "duration": -79,
    "start_time": "2021-12-27T13:59:05.045Z"
   },
   {
    "duration": -80,
    "start_time": "2021-12-27T13:59:05.047Z"
   },
   {
    "duration": 39,
    "start_time": "2021-12-27T13:59:33.226Z"
   },
   {
    "duration": 8,
    "start_time": "2021-12-27T13:59:33.268Z"
   },
   {
    "duration": 24,
    "start_time": "2021-12-27T13:59:33.279Z"
   },
   {
    "duration": 205,
    "start_time": "2021-12-27T13:59:33.307Z"
   },
   {
    "duration": 33,
    "start_time": "2021-12-27T13:59:33.514Z"
   },
   {
    "duration": 124,
    "start_time": "2021-12-27T13:59:33.549Z"
   },
   {
    "duration": 18,
    "start_time": "2021-12-27T13:59:33.675Z"
   },
   {
    "duration": 193,
    "start_time": "2021-12-27T13:59:33.699Z"
   },
   {
    "duration": 31,
    "start_time": "2021-12-27T13:59:33.895Z"
   },
   {
    "duration": 19,
    "start_time": "2021-12-27T13:59:33.928Z"
   },
   {
    "duration": 378,
    "start_time": "2021-12-27T13:59:33.950Z"
   },
   {
    "duration": 293,
    "start_time": "2021-12-27T13:59:34.331Z"
   },
   {
    "duration": 191,
    "start_time": "2021-12-27T13:59:34.627Z"
   },
   {
    "duration": 42,
    "start_time": "2021-12-27T13:59:34.824Z"
   },
   {
    "duration": 366,
    "start_time": "2021-12-28T06:39:45.106Z"
   },
   {
    "duration": 685,
    "start_time": "2021-12-28T06:39:47.436Z"
   },
   {
    "duration": 6,
    "start_time": "2021-12-28T06:39:48.122Z"
   },
   {
    "duration": 21,
    "start_time": "2021-12-28T06:39:48.130Z"
   },
   {
    "duration": 147,
    "start_time": "2021-12-28T06:39:48.152Z"
   },
   {
    "duration": 19,
    "start_time": "2021-12-28T06:39:48.301Z"
   },
   {
    "duration": 92,
    "start_time": "2021-12-28T06:39:48.322Z"
   },
   {
    "duration": 15,
    "start_time": "2021-12-28T06:39:48.416Z"
   },
   {
    "duration": 130,
    "start_time": "2021-12-28T06:39:48.433Z"
   },
   {
    "duration": 16,
    "start_time": "2021-12-28T06:39:48.565Z"
   },
   {
    "duration": 14,
    "start_time": "2021-12-28T06:39:48.583Z"
   },
   {
    "duration": 269,
    "start_time": "2021-12-28T06:39:48.599Z"
   },
   {
    "duration": 179,
    "start_time": "2021-12-28T06:39:48.870Z"
   },
   {
    "duration": 3,
    "start_time": "2021-12-28T06:39:49.051Z"
   },
   {
    "duration": 8,
    "start_time": "2021-12-28T06:39:49.056Z"
   },
   {
    "duration": 548,
    "start_time": "2021-12-28T06:48:30.675Z"
   },
   {
    "duration": 1556,
    "start_time": "2021-12-28T06:48:39.153Z"
   },
   {
    "duration": 43,
    "start_time": "2021-12-28T06:48:57.310Z"
   },
   {
    "duration": 6,
    "start_time": "2021-12-28T06:48:57.355Z"
   },
   {
    "duration": 27,
    "start_time": "2021-12-28T06:48:57.362Z"
   },
   {
    "duration": 149,
    "start_time": "2021-12-28T06:48:57.391Z"
   },
   {
    "duration": 20,
    "start_time": "2021-12-28T06:48:57.541Z"
   },
   {
    "duration": 89,
    "start_time": "2021-12-28T06:48:57.562Z"
   },
   {
    "duration": 15,
    "start_time": "2021-12-28T06:48:57.653Z"
   },
   {
    "duration": 138,
    "start_time": "2021-12-28T06:48:57.671Z"
   },
   {
    "duration": 25,
    "start_time": "2021-12-28T06:48:57.812Z"
   },
   {
    "duration": 13,
    "start_time": "2021-12-28T06:48:57.839Z"
   },
   {
    "duration": 261,
    "start_time": "2021-12-28T06:48:57.855Z"
   },
   {
    "duration": 180,
    "start_time": "2021-12-28T06:48:58.118Z"
   },
   {
    "duration": 3,
    "start_time": "2021-12-28T06:48:58.300Z"
   },
   {
    "duration": 7,
    "start_time": "2021-12-28T06:48:58.304Z"
   },
   {
    "duration": 62,
    "start_time": "2021-12-28T12:21:46.864Z"
   },
   {
    "duration": 9,
    "start_time": "2021-12-28T12:21:46.928Z"
   },
   {
    "duration": 22,
    "start_time": "2021-12-28T12:21:46.939Z"
   },
   {
    "duration": 137,
    "start_time": "2021-12-28T12:21:46.963Z"
   },
   {
    "duration": 26,
    "start_time": "2021-12-28T12:21:47.102Z"
   },
   {
    "duration": 81,
    "start_time": "2021-12-28T12:21:47.130Z"
   },
   {
    "duration": 17,
    "start_time": "2021-12-28T12:21:47.212Z"
   },
   {
    "duration": 121,
    "start_time": "2021-12-28T12:21:47.231Z"
   },
   {
    "duration": 15,
    "start_time": "2021-12-28T12:21:47.354Z"
   },
   {
    "duration": 13,
    "start_time": "2021-12-28T12:21:47.371Z"
   },
   {
    "duration": 233,
    "start_time": "2021-12-28T12:21:47.385Z"
   },
   {
    "duration": 173,
    "start_time": "2021-12-28T12:21:47.620Z"
   },
   {
    "duration": 109,
    "start_time": "2021-12-28T12:21:47.795Z"
   },
   {
    "duration": 2,
    "start_time": "2021-12-28T12:21:47.905Z"
   },
   {
    "duration": 482,
    "start_time": "2021-12-28T12:28:20.703Z"
   },
   {
    "duration": 45,
    "start_time": "2021-12-28T12:28:24.003Z"
   },
   {
    "duration": 7,
    "start_time": "2021-12-28T12:28:24.050Z"
   },
   {
    "duration": 26,
    "start_time": "2021-12-28T12:28:24.059Z"
   },
   {
    "duration": 194,
    "start_time": "2021-12-28T12:28:24.088Z"
   },
   {
    "duration": 22,
    "start_time": "2021-12-28T12:28:24.284Z"
   },
   {
    "duration": 93,
    "start_time": "2021-12-28T12:28:24.308Z"
   },
   {
    "duration": 24,
    "start_time": "2021-12-28T12:28:24.403Z"
   },
   {
    "duration": 131,
    "start_time": "2021-12-28T12:28:24.429Z"
   },
   {
    "duration": 17,
    "start_time": "2021-12-28T12:28:24.562Z"
   },
   {
    "duration": 14,
    "start_time": "2021-12-28T12:28:24.581Z"
   },
   {
    "duration": 232,
    "start_time": "2021-12-28T12:28:24.596Z"
   },
   {
    "duration": 163,
    "start_time": "2021-12-28T12:28:24.830Z"
   },
   {
    "duration": 111,
    "start_time": "2021-12-28T12:28:24.995Z"
   },
   {
    "duration": 2,
    "start_time": "2021-12-28T12:28:25.108Z"
   },
   {
    "duration": 479,
    "start_time": "2021-12-28T12:28:38.932Z"
   },
   {
    "duration": 45,
    "start_time": "2021-12-28T12:37:44.742Z"
   },
   {
    "duration": 7,
    "start_time": "2021-12-28T12:37:44.789Z"
   },
   {
    "duration": 25,
    "start_time": "2021-12-28T12:37:44.798Z"
   },
   {
    "duration": 147,
    "start_time": "2021-12-28T12:37:44.826Z"
   },
   {
    "duration": 21,
    "start_time": "2021-12-28T12:37:44.975Z"
   },
   {
    "duration": 93,
    "start_time": "2021-12-28T12:37:44.998Z"
   },
   {
    "duration": 14,
    "start_time": "2021-12-28T12:37:45.093Z"
   },
   {
    "duration": 136,
    "start_time": "2021-12-28T12:37:45.109Z"
   },
   {
    "duration": 16,
    "start_time": "2021-12-28T12:37:45.247Z"
   },
   {
    "duration": 330,
    "start_time": "2021-12-28T12:37:45.265Z"
   },
   {
    "duration": -66,
    "start_time": "2021-12-28T12:37:45.663Z"
   },
   {
    "duration": -68,
    "start_time": "2021-12-28T12:37:45.666Z"
   },
   {
    "duration": -71,
    "start_time": "2021-12-28T12:37:45.670Z"
   },
   {
    "duration": -78,
    "start_time": "2021-12-28T12:37:45.678Z"
   },
   {
    "duration": 70,
    "start_time": "2021-12-28T13:19:11.250Z"
   },
   {
    "duration": 6,
    "start_time": "2021-12-28T13:19:11.322Z"
   },
   {
    "duration": 20,
    "start_time": "2021-12-28T13:19:11.330Z"
   },
   {
    "duration": 136,
    "start_time": "2021-12-28T13:19:11.352Z"
   },
   {
    "duration": 20,
    "start_time": "2021-12-28T13:19:11.490Z"
   },
   {
    "duration": 85,
    "start_time": "2021-12-28T13:19:11.512Z"
   },
   {
    "duration": 13,
    "start_time": "2021-12-28T13:19:11.599Z"
   },
   {
    "duration": 122,
    "start_time": "2021-12-28T13:19:11.627Z"
   },
   {
    "duration": 16,
    "start_time": "2021-12-28T13:19:11.752Z"
   },
   {
    "duration": 301,
    "start_time": "2021-12-28T13:19:11.770Z"
   },
   {
    "duration": -137,
    "start_time": "2021-12-28T13:19:12.210Z"
   },
   {
    "duration": -154,
    "start_time": "2021-12-28T13:19:12.228Z"
   },
   {
    "duration": -154,
    "start_time": "2021-12-28T13:19:12.230Z"
   },
   {
    "duration": -156,
    "start_time": "2021-12-28T13:19:12.233Z"
   },
   {
    "duration": 53,
    "start_time": "2021-12-28T13:19:35.794Z"
   },
   {
    "duration": 5,
    "start_time": "2021-12-28T13:19:35.849Z"
   },
   {
    "duration": 19,
    "start_time": "2021-12-28T13:19:35.857Z"
   },
   {
    "duration": 142,
    "start_time": "2021-12-28T13:19:35.878Z"
   },
   {
    "duration": 24,
    "start_time": "2021-12-28T13:19:36.022Z"
   },
   {
    "duration": 90,
    "start_time": "2021-12-28T13:19:36.048Z"
   },
   {
    "duration": 13,
    "start_time": "2021-12-28T13:19:36.140Z"
   },
   {
    "duration": 131,
    "start_time": "2021-12-28T13:19:36.154Z"
   },
   {
    "duration": 16,
    "start_time": "2021-12-28T13:19:36.287Z"
   },
   {
    "duration": 27,
    "start_time": "2021-12-28T13:19:36.305Z"
   },
   {
    "duration": 235,
    "start_time": "2021-12-28T13:19:36.333Z"
   },
   {
    "duration": 181,
    "start_time": "2021-12-28T13:19:36.570Z"
   },
   {
    "duration": 106,
    "start_time": "2021-12-28T13:19:36.753Z"
   },
   {
    "duration": 2,
    "start_time": "2021-12-28T13:19:36.860Z"
   },
   {
    "duration": 607,
    "start_time": "2021-12-28T13:21:17.765Z"
   },
   {
    "duration": 1847,
    "start_time": "2021-12-28T13:21:20.473Z"
   },
   {
    "duration": 43,
    "start_time": "2021-12-28T13:21:28.484Z"
   },
   {
    "duration": 5,
    "start_time": "2021-12-28T13:21:28.529Z"
   },
   {
    "duration": 20,
    "start_time": "2021-12-28T13:21:28.536Z"
   },
   {
    "duration": 146,
    "start_time": "2021-12-28T13:21:28.557Z"
   },
   {
    "duration": 24,
    "start_time": "2021-12-28T13:21:28.704Z"
   },
   {
    "duration": 85,
    "start_time": "2021-12-28T13:21:28.729Z"
   },
   {
    "duration": 12,
    "start_time": "2021-12-28T13:21:28.816Z"
   },
   {
    "duration": 122,
    "start_time": "2021-12-28T13:21:28.831Z"
   },
   {
    "duration": 16,
    "start_time": "2021-12-28T13:21:28.954Z"
   },
   {
    "duration": 12,
    "start_time": "2021-12-28T13:21:28.971Z"
   },
   {
    "duration": 238,
    "start_time": "2021-12-28T13:21:28.984Z"
   },
   {
    "duration": 169,
    "start_time": "2021-12-28T13:21:29.227Z"
   },
   {
    "duration": 111,
    "start_time": "2021-12-28T13:21:29.398Z"
   },
   {
    "duration": 2,
    "start_time": "2021-12-28T13:21:29.510Z"
   },
   {
    "duration": 464,
    "start_time": "2021-12-28T13:25:36.254Z"
   },
   {
    "duration": 52,
    "start_time": "2021-12-28T13:25:39.077Z"
   },
   {
    "duration": 6,
    "start_time": "2021-12-28T13:25:39.131Z"
   },
   {
    "duration": 32,
    "start_time": "2021-12-28T13:25:39.138Z"
   },
   {
    "duration": 187,
    "start_time": "2021-12-28T13:25:39.172Z"
   },
   {
    "duration": 21,
    "start_time": "2021-12-28T13:25:39.361Z"
   },
   {
    "duration": 86,
    "start_time": "2021-12-28T13:25:39.383Z"
   },
   {
    "duration": 13,
    "start_time": "2021-12-28T13:25:39.471Z"
   },
   {
    "duration": 126,
    "start_time": "2021-12-28T13:25:39.486Z"
   },
   {
    "duration": 16,
    "start_time": "2021-12-28T13:25:39.614Z"
   },
   {
    "duration": 12,
    "start_time": "2021-12-28T13:25:39.631Z"
   },
   {
    "duration": 239,
    "start_time": "2021-12-28T13:25:39.645Z"
   },
   {
    "duration": 180,
    "start_time": "2021-12-28T13:25:39.886Z"
   },
   {
    "duration": 114,
    "start_time": "2021-12-28T13:25:40.068Z"
   },
   {
    "duration": 2,
    "start_time": "2021-12-28T13:25:40.184Z"
   },
   {
    "duration": 505,
    "start_time": "2021-12-28T13:26:00.914Z"
   },
   {
    "duration": 44,
    "start_time": "2021-12-28T13:26:05.027Z"
   },
   {
    "duration": 6,
    "start_time": "2021-12-28T13:26:05.073Z"
   },
   {
    "duration": 22,
    "start_time": "2021-12-28T13:26:05.081Z"
   },
   {
    "duration": 153,
    "start_time": "2021-12-28T13:26:05.105Z"
   },
   {
    "duration": 19,
    "start_time": "2021-12-28T13:26:05.260Z"
   },
   {
    "duration": 93,
    "start_time": "2021-12-28T13:26:05.281Z"
   },
   {
    "duration": 14,
    "start_time": "2021-12-28T13:26:05.375Z"
   },
   {
    "duration": 132,
    "start_time": "2021-12-28T13:26:05.391Z"
   },
   {
    "duration": 36,
    "start_time": "2021-12-28T13:26:05.532Z"
   },
   {
    "duration": 100,
    "start_time": "2021-12-28T13:26:05.571Z"
   },
   {
    "duration": 417,
    "start_time": "2021-12-28T13:26:05.676Z"
   },
   {
    "duration": 174,
    "start_time": "2021-12-28T13:26:06.095Z"
   },
   {
    "duration": 108,
    "start_time": "2021-12-28T13:26:06.271Z"
   },
   {
    "duration": 3,
    "start_time": "2021-12-28T13:26:06.380Z"
   },
   {
    "duration": 43,
    "start_time": "2021-12-28T13:34:55.362Z"
   },
   {
    "duration": 6,
    "start_time": "2021-12-28T13:34:55.406Z"
   },
   {
    "duration": 21,
    "start_time": "2021-12-28T13:34:55.413Z"
   },
   {
    "duration": 142,
    "start_time": "2021-12-28T13:34:55.436Z"
   },
   {
    "duration": 20,
    "start_time": "2021-12-28T13:34:55.579Z"
   },
   {
    "duration": 90,
    "start_time": "2021-12-28T13:34:55.601Z"
   },
   {
    "duration": 13,
    "start_time": "2021-12-28T13:34:55.693Z"
   },
   {
    "duration": 139,
    "start_time": "2021-12-28T13:34:55.707Z"
   },
   {
    "duration": 16,
    "start_time": "2021-12-28T13:34:55.848Z"
   },
   {
    "duration": 12,
    "start_time": "2021-12-28T13:34:55.866Z"
   },
   {
    "duration": 233,
    "start_time": "2021-12-28T13:34:55.880Z"
   },
   {
    "duration": 466,
    "start_time": "2021-12-28T13:34:56.114Z"
   },
   {
    "duration": -185,
    "start_time": "2021-12-28T13:34:56.767Z"
   },
   {
    "duration": -185,
    "start_time": "2021-12-28T13:34:56.768Z"
   },
   {
    "duration": 45,
    "start_time": "2021-12-28T13:35:41.390Z"
   },
   {
    "duration": 7,
    "start_time": "2021-12-28T13:35:41.437Z"
   },
   {
    "duration": 23,
    "start_time": "2021-12-28T13:35:41.447Z"
   },
   {
    "duration": 138,
    "start_time": "2021-12-28T13:35:41.472Z"
   },
   {
    "duration": 21,
    "start_time": "2021-12-28T13:35:41.611Z"
   },
   {
    "duration": 87,
    "start_time": "2021-12-28T13:35:41.633Z"
   },
   {
    "duration": 14,
    "start_time": "2021-12-28T13:35:41.722Z"
   },
   {
    "duration": 129,
    "start_time": "2021-12-28T13:35:41.738Z"
   },
   {
    "duration": 16,
    "start_time": "2021-12-28T13:35:41.869Z"
   },
   {
    "duration": 16,
    "start_time": "2021-12-28T13:35:41.887Z"
   },
   {
    "duration": 238,
    "start_time": "2021-12-28T13:35:41.905Z"
   },
   {
    "duration": 452,
    "start_time": "2021-12-28T13:35:42.145Z"
   },
   {
    "duration": -225,
    "start_time": "2021-12-28T13:35:42.824Z"
   },
   {
    "duration": -225,
    "start_time": "2021-12-28T13:35:42.825Z"
   },
   {
    "duration": 42,
    "start_time": "2021-12-28T13:35:51.803Z"
   },
   {
    "duration": 6,
    "start_time": "2021-12-28T13:35:51.847Z"
   },
   {
    "duration": 20,
    "start_time": "2021-12-28T13:35:51.855Z"
   },
   {
    "duration": 138,
    "start_time": "2021-12-28T13:35:51.877Z"
   },
   {
    "duration": 19,
    "start_time": "2021-12-28T13:35:52.016Z"
   },
   {
    "duration": 81,
    "start_time": "2021-12-28T13:35:52.036Z"
   },
   {
    "duration": 13,
    "start_time": "2021-12-28T13:35:52.119Z"
   },
   {
    "duration": 121,
    "start_time": "2021-12-28T13:35:52.134Z"
   },
   {
    "duration": 16,
    "start_time": "2021-12-28T13:35:52.258Z"
   },
   {
    "duration": 12,
    "start_time": "2021-12-28T13:35:52.276Z"
   },
   {
    "duration": 243,
    "start_time": "2021-12-28T13:35:52.289Z"
   },
   {
    "duration": 459,
    "start_time": "2021-12-28T13:35:52.534Z"
   },
   {
    "duration": -188,
    "start_time": "2021-12-28T13:35:53.183Z"
   },
   {
    "duration": -189,
    "start_time": "2021-12-28T13:35:53.186Z"
   },
   {
    "duration": 44,
    "start_time": "2021-12-28T13:36:50.284Z"
   },
   {
    "duration": 16,
    "start_time": "2021-12-28T13:36:50.330Z"
   },
   {
    "duration": 43,
    "start_time": "2021-12-28T13:36:50.348Z"
   },
   {
    "duration": 164,
    "start_time": "2021-12-28T13:36:50.394Z"
   },
   {
    "duration": 19,
    "start_time": "2021-12-28T13:36:50.560Z"
   },
   {
    "duration": 89,
    "start_time": "2021-12-28T13:36:50.581Z"
   },
   {
    "duration": 13,
    "start_time": "2021-12-28T13:36:50.671Z"
   },
   {
    "duration": 126,
    "start_time": "2021-12-28T13:36:50.686Z"
   },
   {
    "duration": 23,
    "start_time": "2021-12-28T13:36:50.814Z"
   },
   {
    "duration": 16,
    "start_time": "2021-12-28T13:36:50.839Z"
   },
   {
    "duration": 243,
    "start_time": "2021-12-28T13:36:50.857Z"
   },
   {
    "duration": 187,
    "start_time": "2021-12-28T13:36:51.101Z"
   },
   {
    "duration": 110,
    "start_time": "2021-12-28T13:36:51.290Z"
   },
   {
    "duration": 3,
    "start_time": "2021-12-28T13:36:51.401Z"
   },
   {
    "duration": 61,
    "start_time": "2021-12-28T13:41:42.479Z"
   },
   {
    "duration": 6,
    "start_time": "2021-12-28T13:41:42.541Z"
   },
   {
    "duration": 28,
    "start_time": "2021-12-28T13:41:42.550Z"
   },
   {
    "duration": 157,
    "start_time": "2021-12-28T13:41:42.580Z"
   },
   {
    "duration": 20,
    "start_time": "2021-12-28T13:41:42.739Z"
   },
   {
    "duration": 93,
    "start_time": "2021-12-28T13:41:42.761Z"
   },
   {
    "duration": 15,
    "start_time": "2021-12-28T13:41:42.855Z"
   },
   {
    "duration": 134,
    "start_time": "2021-12-28T13:41:42.873Z"
   },
   {
    "duration": 20,
    "start_time": "2021-12-28T13:41:43.009Z"
   },
   {
    "duration": 11,
    "start_time": "2021-12-28T13:41:43.031Z"
   },
   {
    "duration": 237,
    "start_time": "2021-12-28T13:41:43.044Z"
   },
   {
    "duration": 181,
    "start_time": "2021-12-28T13:41:43.283Z"
   },
   {
    "duration": 404,
    "start_time": "2021-12-28T13:41:43.466Z"
   },
   {
    "duration": -196,
    "start_time": "2021-12-28T13:41:44.068Z"
   },
   {
    "duration": 51,
    "start_time": "2021-12-28T13:44:28.952Z"
   },
   {
    "duration": 5,
    "start_time": "2021-12-28T13:44:29.005Z"
   },
   {
    "duration": 28,
    "start_time": "2021-12-28T13:44:29.012Z"
   },
   {
    "duration": 212,
    "start_time": "2021-12-28T13:44:29.041Z"
   },
   {
    "duration": 19,
    "start_time": "2021-12-28T13:44:29.254Z"
   },
   {
    "duration": 102,
    "start_time": "2021-12-28T13:44:29.274Z"
   },
   {
    "duration": 13,
    "start_time": "2021-12-28T13:44:29.377Z"
   },
   {
    "duration": 123,
    "start_time": "2021-12-28T13:44:29.392Z"
   },
   {
    "duration": 19,
    "start_time": "2021-12-28T13:44:29.517Z"
   },
   {
    "duration": 24,
    "start_time": "2021-12-28T13:44:29.538Z"
   },
   {
    "duration": 243,
    "start_time": "2021-12-28T13:44:29.564Z"
   },
   {
    "duration": 179,
    "start_time": "2021-12-28T13:44:29.809Z"
   },
   {
    "duration": 405,
    "start_time": "2021-12-28T13:44:29.989Z"
   },
   {
    "duration": -215,
    "start_time": "2021-12-28T13:44:30.611Z"
   },
   {
    "duration": 43,
    "start_time": "2021-12-28T13:50:39.876Z"
   },
   {
    "duration": 18,
    "start_time": "2021-12-28T13:50:39.921Z"
   },
   {
    "duration": 44,
    "start_time": "2021-12-28T13:50:39.941Z"
   },
   {
    "duration": 226,
    "start_time": "2021-12-28T13:50:39.987Z"
   },
   {
    "duration": 24,
    "start_time": "2021-12-28T13:50:40.215Z"
   },
   {
    "duration": 100,
    "start_time": "2021-12-28T13:50:40.240Z"
   },
   {
    "duration": 17,
    "start_time": "2021-12-28T13:50:40.342Z"
   },
   {
    "duration": 169,
    "start_time": "2021-12-28T13:50:40.361Z"
   },
   {
    "duration": 16,
    "start_time": "2021-12-28T13:50:40.532Z"
   },
   {
    "duration": 43,
    "start_time": "2021-12-28T13:50:40.550Z"
   },
   {
    "duration": 1751,
    "start_time": "2021-12-28T13:50:40.595Z"
   },
   {
    "duration": -252,
    "start_time": "2021-12-28T13:50:42.600Z"
   },
   {
    "duration": -252,
    "start_time": "2021-12-28T13:50:42.602Z"
   },
   {
    "duration": -253,
    "start_time": "2021-12-28T13:50:42.604Z"
   },
   {
    "duration": 44,
    "start_time": "2021-12-28T13:51:14.674Z"
   },
   {
    "duration": 6,
    "start_time": "2021-12-28T13:51:14.720Z"
   },
   {
    "duration": 22,
    "start_time": "2021-12-28T13:51:14.729Z"
   },
   {
    "duration": 144,
    "start_time": "2021-12-28T13:51:14.754Z"
   },
   {
    "duration": 28,
    "start_time": "2021-12-28T13:51:14.900Z"
   },
   {
    "duration": 84,
    "start_time": "2021-12-28T13:51:14.929Z"
   },
   {
    "duration": 16,
    "start_time": "2021-12-28T13:51:15.015Z"
   },
   {
    "duration": 135,
    "start_time": "2021-12-28T13:51:15.033Z"
   },
   {
    "duration": 16,
    "start_time": "2021-12-28T13:51:15.170Z"
   },
   {
    "duration": 12,
    "start_time": "2021-12-28T13:51:15.188Z"
   },
   {
    "duration": 238,
    "start_time": "2021-12-28T13:51:15.202Z"
   },
   {
    "duration": 183,
    "start_time": "2021-12-28T13:51:15.441Z"
   },
   {
    "duration": 389,
    "start_time": "2021-12-28T13:51:15.626Z"
   },
   {
    "duration": -251,
    "start_time": "2021-12-28T13:51:16.268Z"
   },
   {
    "duration": 43,
    "start_time": "2021-12-28T13:51:39.954Z"
   },
   {
    "duration": 7,
    "start_time": "2021-12-28T13:51:39.998Z"
   },
   {
    "duration": 23,
    "start_time": "2021-12-28T13:51:40.006Z"
   },
   {
    "duration": 138,
    "start_time": "2021-12-28T13:51:40.030Z"
   },
   {
    "duration": 19,
    "start_time": "2021-12-28T13:51:40.170Z"
   },
   {
    "duration": 92,
    "start_time": "2021-12-28T13:51:40.190Z"
   },
   {
    "duration": 13,
    "start_time": "2021-12-28T13:51:40.284Z"
   },
   {
    "duration": 135,
    "start_time": "2021-12-28T13:51:40.299Z"
   },
   {
    "duration": 16,
    "start_time": "2021-12-28T13:51:40.435Z"
   },
   {
    "duration": 26,
    "start_time": "2021-12-28T13:51:40.452Z"
   },
   {
    "duration": 226,
    "start_time": "2021-12-28T13:51:40.480Z"
   },
   {
    "duration": 175,
    "start_time": "2021-12-28T13:51:40.708Z"
   },
   {
    "duration": 405,
    "start_time": "2021-12-28T13:51:40.884Z"
   },
   {
    "duration": -197,
    "start_time": "2021-12-28T13:51:41.488Z"
   },
   {
    "duration": 43,
    "start_time": "2021-12-28T13:52:12.514Z"
   },
   {
    "duration": 5,
    "start_time": "2021-12-28T13:52:12.558Z"
   },
   {
    "duration": 22,
    "start_time": "2021-12-28T13:52:12.565Z"
   },
   {
    "duration": 143,
    "start_time": "2021-12-28T13:52:12.589Z"
   },
   {
    "duration": 18,
    "start_time": "2021-12-28T13:52:12.734Z"
   },
   {
    "duration": 85,
    "start_time": "2021-12-28T13:52:12.754Z"
   },
   {
    "duration": 13,
    "start_time": "2021-12-28T13:52:12.840Z"
   },
   {
    "duration": 126,
    "start_time": "2021-12-28T13:52:12.855Z"
   },
   {
    "duration": 15,
    "start_time": "2021-12-28T13:52:12.983Z"
   },
   {
    "duration": 28,
    "start_time": "2021-12-28T13:52:13.000Z"
   },
   {
    "duration": 229,
    "start_time": "2021-12-28T13:52:13.029Z"
   },
   {
    "duration": 195,
    "start_time": "2021-12-28T13:52:13.260Z"
   },
   {
    "duration": 380,
    "start_time": "2021-12-28T13:52:13.456Z"
   },
   {
    "duration": -201,
    "start_time": "2021-12-28T13:52:14.039Z"
   },
   {
    "duration": 50,
    "start_time": "2021-12-28T13:52:54.337Z"
   },
   {
    "duration": 7,
    "start_time": "2021-12-28T13:52:54.389Z"
   },
   {
    "duration": 30,
    "start_time": "2021-12-28T13:52:54.399Z"
   },
   {
    "duration": 202,
    "start_time": "2021-12-28T13:52:54.431Z"
   },
   {
    "duration": 32,
    "start_time": "2021-12-28T13:52:54.635Z"
   },
   {
    "duration": 87,
    "start_time": "2021-12-28T13:52:54.669Z"
   },
   {
    "duration": 15,
    "start_time": "2021-12-28T13:52:54.757Z"
   },
   {
    "duration": 128,
    "start_time": "2021-12-28T13:52:54.774Z"
   },
   {
    "duration": 24,
    "start_time": "2021-12-28T13:52:54.904Z"
   },
   {
    "duration": 12,
    "start_time": "2021-12-28T13:52:54.929Z"
   },
   {
    "duration": 239,
    "start_time": "2021-12-28T13:52:54.942Z"
   },
   {
    "duration": 176,
    "start_time": "2021-12-28T13:52:55.182Z"
   },
   {
    "duration": 404,
    "start_time": "2021-12-28T13:52:55.360Z"
   },
   {
    "duration": -138,
    "start_time": "2021-12-28T13:52:55.904Z"
   },
   {
    "duration": 44,
    "start_time": "2021-12-28T13:53:08.541Z"
   },
   {
    "duration": 6,
    "start_time": "2021-12-28T13:53:08.586Z"
   },
   {
    "duration": 25,
    "start_time": "2021-12-28T13:53:08.594Z"
   },
   {
    "duration": 137,
    "start_time": "2021-12-28T13:53:08.620Z"
   },
   {
    "duration": 18,
    "start_time": "2021-12-28T13:53:08.759Z"
   },
   {
    "duration": 81,
    "start_time": "2021-12-28T13:53:08.779Z"
   },
   {
    "duration": 13,
    "start_time": "2021-12-28T13:53:08.862Z"
   },
   {
    "duration": 120,
    "start_time": "2021-12-28T13:53:08.876Z"
   },
   {
    "duration": 16,
    "start_time": "2021-12-28T13:53:08.998Z"
   },
   {
    "duration": 22,
    "start_time": "2021-12-28T13:53:09.015Z"
   },
   {
    "duration": 242,
    "start_time": "2021-12-28T13:53:09.038Z"
   },
   {
    "duration": 187,
    "start_time": "2021-12-28T13:53:09.282Z"
   },
   {
    "duration": 428,
    "start_time": "2021-12-28T13:53:09.471Z"
   },
   {
    "duration": -236,
    "start_time": "2021-12-28T13:53:10.137Z"
   },
   {
    "duration": 48,
    "start_time": "2021-12-28T13:54:02.991Z"
   },
   {
    "duration": 8,
    "start_time": "2021-12-28T13:54:03.041Z"
   },
   {
    "duration": 24,
    "start_time": "2021-12-28T13:54:03.051Z"
   },
   {
    "duration": 176,
    "start_time": "2021-12-28T13:54:03.078Z"
   },
   {
    "duration": 19,
    "start_time": "2021-12-28T13:54:03.256Z"
   },
   {
    "duration": 94,
    "start_time": "2021-12-28T13:54:03.276Z"
   },
   {
    "duration": 14,
    "start_time": "2021-12-28T13:54:03.372Z"
   },
   {
    "duration": 130,
    "start_time": "2021-12-28T13:54:03.389Z"
   },
   {
    "duration": 20,
    "start_time": "2021-12-28T13:54:03.520Z"
   },
   {
    "duration": 13,
    "start_time": "2021-12-28T13:54:03.541Z"
   },
   {
    "duration": 249,
    "start_time": "2021-12-28T13:54:03.555Z"
   },
   {
    "duration": 186,
    "start_time": "2021-12-28T13:54:03.806Z"
   },
   {
    "duration": 135,
    "start_time": "2021-12-28T13:54:03.993Z"
   },
   {
    "duration": 827,
    "start_time": "2021-12-28T13:54:04.130Z"
   },
   {
    "duration": -190,
    "start_time": "2021-12-28T13:54:59.005Z"
   },
   {
    "duration": 34,
    "start_time": "2021-12-28T13:55:00.168Z"
   },
   {
    "duration": 14,
    "start_time": "2021-12-28T13:55:00.204Z"
   },
   {
    "duration": 33,
    "start_time": "2021-12-28T13:55:00.220Z"
   },
   {
    "duration": 153,
    "start_time": "2021-12-28T13:55:00.255Z"
   },
   {
    "duration": 28,
    "start_time": "2021-12-28T13:55:00.410Z"
   },
   {
    "duration": 81,
    "start_time": "2021-12-28T13:55:00.440Z"
   },
   {
    "duration": 13,
    "start_time": "2021-12-28T13:55:00.522Z"
   },
   {
    "duration": 130,
    "start_time": "2021-12-28T13:55:00.538Z"
   },
   {
    "duration": 15,
    "start_time": "2021-12-28T13:55:00.670Z"
   },
   {
    "duration": 20,
    "start_time": "2021-12-28T13:55:00.687Z"
   },
   {
    "duration": 250,
    "start_time": "2021-12-28T13:55:00.709Z"
   },
   {
    "duration": 195,
    "start_time": "2021-12-28T13:55:00.961Z"
   },
   {
    "duration": 118,
    "start_time": "2021-12-28T13:55:01.157Z"
   },
   {
    "duration": 830,
    "start_time": "2021-12-28T13:55:01.277Z"
   },
   {
    "duration": 844,
    "start_time": "2021-12-28T15:22:12.462Z"
   },
   {
    "duration": 10,
    "start_time": "2021-12-28T15:22:13.309Z"
   },
   {
    "duration": 28,
    "start_time": "2021-12-28T15:22:13.322Z"
   },
   {
    "duration": 233,
    "start_time": "2021-12-28T15:22:13.353Z"
   },
   {
    "duration": 31,
    "start_time": "2021-12-28T15:22:13.588Z"
   },
   {
    "duration": 214,
    "start_time": "2021-12-28T15:22:13.622Z"
   },
   {
    "duration": 43,
    "start_time": "2021-12-28T15:22:13.840Z"
   },
   {
    "duration": 288,
    "start_time": "2021-12-28T15:22:13.886Z"
   },
   {
    "duration": 23,
    "start_time": "2021-12-28T15:22:14.178Z"
   },
   {
    "duration": 22,
    "start_time": "2021-12-28T15:22:14.205Z"
   },
   {
    "duration": 425,
    "start_time": "2021-12-28T15:22:14.259Z"
   },
   {
    "duration": 317,
    "start_time": "2021-12-28T15:22:14.688Z"
   },
   {
    "duration": 202,
    "start_time": "2021-12-28T15:22:15.007Z"
   },
   {
    "duration": 550,
    "start_time": "2021-12-28T15:22:15.211Z"
   },
   {
    "duration": 46,
    "start_time": "2021-12-28T15:23:16.412Z"
   },
   {
    "duration": 13,
    "start_time": "2021-12-28T15:23:16.463Z"
   },
   {
    "duration": 33,
    "start_time": "2021-12-28T15:23:16.482Z"
   },
   {
    "duration": 234,
    "start_time": "2021-12-28T15:23:16.518Z"
   },
   {
    "duration": 33,
    "start_time": "2021-12-28T15:23:16.754Z"
   },
   {
    "duration": 148,
    "start_time": "2021-12-28T15:23:16.789Z"
   },
   {
    "duration": 28,
    "start_time": "2021-12-28T15:23:16.940Z"
   },
   {
    "duration": 214,
    "start_time": "2021-12-28T15:23:16.973Z"
   },
   {
    "duration": 23,
    "start_time": "2021-12-28T15:23:17.191Z"
   },
   {
    "duration": 53,
    "start_time": "2021-12-28T15:23:17.216Z"
   },
   {
    "duration": 450,
    "start_time": "2021-12-28T15:23:17.272Z"
   },
   {
    "duration": 350,
    "start_time": "2021-12-28T15:23:17.725Z"
   },
   {
    "duration": 231,
    "start_time": "2021-12-28T15:23:18.078Z"
   },
   {
    "duration": 434,
    "start_time": "2021-12-28T15:23:18.311Z"
   },
   {
    "duration": 54,
    "start_time": "2021-12-28T15:32:39.331Z"
   },
   {
    "duration": 14,
    "start_time": "2021-12-28T15:32:39.389Z"
   },
   {
    "duration": 27,
    "start_time": "2021-12-28T15:32:39.406Z"
   },
   {
    "duration": 242,
    "start_time": "2021-12-28T15:32:39.436Z"
   },
   {
    "duration": 27,
    "start_time": "2021-12-28T15:32:39.681Z"
   },
   {
    "duration": 150,
    "start_time": "2021-12-28T15:32:39.711Z"
   },
   {
    "duration": 27,
    "start_time": "2021-12-28T15:32:39.864Z"
   },
   {
    "duration": 216,
    "start_time": "2021-12-28T15:32:39.894Z"
   },
   {
    "duration": 25,
    "start_time": "2021-12-28T15:32:40.115Z"
   },
   {
    "duration": 28,
    "start_time": "2021-12-28T15:32:40.158Z"
   },
   {
    "duration": 421,
    "start_time": "2021-12-28T15:32:40.188Z"
   },
   {
    "duration": 347,
    "start_time": "2021-12-28T15:32:40.612Z"
   },
   {
    "duration": 231,
    "start_time": "2021-12-28T15:32:40.962Z"
   },
   {
    "duration": 5,
    "start_time": "2021-12-28T15:32:41.196Z"
   },
   {
    "duration": -2494,
    "start_time": "2021-12-28T15:33:00.251Z"
   },
   {
    "duration": -2493,
    "start_time": "2021-12-28T15:33:00.253Z"
   },
   {
    "duration": -2492,
    "start_time": "2021-12-28T15:33:00.254Z"
   },
   {
    "duration": -2491,
    "start_time": "2021-12-28T15:33:00.255Z"
   },
   {
    "duration": -2493,
    "start_time": "2021-12-28T15:33:00.259Z"
   },
   {
    "duration": -2492,
    "start_time": "2021-12-28T15:33:00.261Z"
   },
   {
    "duration": -2491,
    "start_time": "2021-12-28T15:33:00.263Z"
   },
   {
    "duration": -2491,
    "start_time": "2021-12-28T15:33:00.265Z"
   },
   {
    "duration": -2489,
    "start_time": "2021-12-28T15:33:00.266Z"
   },
   {
    "duration": -2486,
    "start_time": "2021-12-28T15:33:00.267Z"
   },
   {
    "duration": -2486,
    "start_time": "2021-12-28T15:33:00.269Z"
   },
   {
    "duration": -2484,
    "start_time": "2021-12-28T15:33:00.270Z"
   },
   {
    "duration": -2483,
    "start_time": "2021-12-28T15:33:00.271Z"
   },
   {
    "duration": -2482,
    "start_time": "2021-12-28T15:33:00.272Z"
   },
   {
    "duration": 45,
    "start_time": "2021-12-28T15:33:12.459Z"
   },
   {
    "duration": 8,
    "start_time": "2021-12-28T15:33:12.507Z"
   },
   {
    "duration": 29,
    "start_time": "2021-12-28T15:33:12.518Z"
   },
   {
    "duration": 223,
    "start_time": "2021-12-28T15:33:12.549Z"
   },
   {
    "duration": 29,
    "start_time": "2021-12-28T15:33:12.775Z"
   },
   {
    "duration": 133,
    "start_time": "2021-12-28T15:33:12.806Z"
   },
   {
    "duration": 31,
    "start_time": "2021-12-28T15:33:12.943Z"
   },
   {
    "duration": 183,
    "start_time": "2021-12-28T15:33:12.976Z"
   },
   {
    "duration": 23,
    "start_time": "2021-12-28T15:33:13.163Z"
   },
   {
    "duration": 32,
    "start_time": "2021-12-28T15:33:13.189Z"
   },
   {
    "duration": 735,
    "start_time": "2021-12-28T15:33:13.224Z"
   },
   {
    "duration": 311,
    "start_time": "2021-12-28T15:33:13.962Z"
   },
   {
    "duration": 231,
    "start_time": "2021-12-28T15:33:14.276Z"
   },
   {
    "duration": 4,
    "start_time": "2021-12-28T15:33:14.510Z"
   },
   {
    "duration": 47,
    "start_time": "2021-12-28T15:34:24.210Z"
   },
   {
    "duration": 14,
    "start_time": "2021-12-28T15:34:24.260Z"
   },
   {
    "duration": 31,
    "start_time": "2021-12-28T15:34:24.277Z"
   },
   {
    "duration": 214,
    "start_time": "2021-12-28T15:34:24.311Z"
   },
   {
    "duration": 34,
    "start_time": "2021-12-28T15:34:24.527Z"
   },
   {
    "duration": 130,
    "start_time": "2021-12-28T15:34:24.564Z"
   },
   {
    "duration": 19,
    "start_time": "2021-12-28T15:34:24.696Z"
   },
   {
    "duration": 210,
    "start_time": "2021-12-28T15:34:24.717Z"
   },
   {
    "duration": 32,
    "start_time": "2021-12-28T15:34:24.931Z"
   },
   {
    "duration": 22,
    "start_time": "2021-12-28T15:34:24.966Z"
   },
   {
    "duration": 413,
    "start_time": "2021-12-28T15:34:24.991Z"
   },
   {
    "duration": 301,
    "start_time": "2021-12-28T15:34:25.407Z"
   },
   {
    "duration": 217,
    "start_time": "2021-12-28T15:34:25.710Z"
   },
   {
    "duration": 3,
    "start_time": "2021-12-28T15:34:25.929Z"
   },
   {
    "duration": 10693,
    "start_time": "2021-12-28T15:47:54.042Z"
   },
   {
    "duration": 46,
    "start_time": "2021-12-28T15:53:52.753Z"
   },
   {
    "duration": 8,
    "start_time": "2021-12-28T15:53:52.801Z"
   },
   {
    "duration": 26,
    "start_time": "2021-12-28T15:53:52.813Z"
   },
   {
    "duration": 219,
    "start_time": "2021-12-28T15:53:52.842Z"
   },
   {
    "duration": 27,
    "start_time": "2021-12-28T15:53:53.064Z"
   },
   {
    "duration": 141,
    "start_time": "2021-12-28T15:53:53.094Z"
   },
   {
    "duration": 28,
    "start_time": "2021-12-28T15:53:53.237Z"
   },
   {
    "duration": 200,
    "start_time": "2021-12-28T15:53:53.268Z"
   },
   {
    "duration": 24,
    "start_time": "2021-12-28T15:53:53.471Z"
   },
   {
    "duration": 410,
    "start_time": "2021-12-28T15:53:53.497Z"
   },
   {
    "duration": 326,
    "start_time": "2021-12-28T15:53:53.910Z"
   },
   {
    "duration": 192,
    "start_time": "2021-12-28T15:53:54.239Z"
   },
   {
    "duration": 9717,
    "start_time": "2021-12-28T15:53:54.433Z"
   },
   {
    "duration": 46,
    "start_time": "2021-12-28T15:54:26.125Z"
   },
   {
    "duration": 11,
    "start_time": "2021-12-28T15:54:26.175Z"
   },
   {
    "duration": 32,
    "start_time": "2021-12-28T15:54:26.190Z"
   },
   {
    "duration": 225,
    "start_time": "2021-12-28T15:54:26.226Z"
   },
   {
    "duration": 29,
    "start_time": "2021-12-28T15:54:26.458Z"
   },
   {
    "duration": 134,
    "start_time": "2021-12-28T15:54:26.489Z"
   },
   {
    "duration": 20,
    "start_time": "2021-12-28T15:54:26.625Z"
   },
   {
    "duration": 192,
    "start_time": "2021-12-28T15:54:26.661Z"
   },
   {
    "duration": 22,
    "start_time": "2021-12-28T15:54:26.859Z"
   },
   {
    "duration": 410,
    "start_time": "2021-12-28T15:54:26.884Z"
   },
   {
    "duration": 302,
    "start_time": "2021-12-28T15:54:27.297Z"
   },
   {
    "duration": 189,
    "start_time": "2021-12-28T15:54:27.602Z"
   },
   {
    "duration": 10322,
    "start_time": "2021-12-28T15:54:27.793Z"
   },
   {
    "duration": 45,
    "start_time": "2021-12-28T15:54:51.420Z"
   },
   {
    "duration": 50,
    "start_time": "2021-12-28T15:55:44.922Z"
   },
   {
    "duration": 12,
    "start_time": "2021-12-28T15:55:44.976Z"
   },
   {
    "duration": 26,
    "start_time": "2021-12-28T15:55:44.990Z"
   },
   {
    "duration": 249,
    "start_time": "2021-12-28T15:55:45.019Z"
   },
   {
    "duration": 33,
    "start_time": "2021-12-28T15:55:45.271Z"
   },
   {
    "duration": 160,
    "start_time": "2021-12-28T15:55:45.307Z"
   },
   {
    "duration": 30,
    "start_time": "2021-12-28T15:55:45.470Z"
   },
   {
    "duration": 246,
    "start_time": "2021-12-28T15:55:45.504Z"
   },
   {
    "duration": 33,
    "start_time": "2021-12-28T15:55:45.760Z"
   },
   {
    "duration": 450,
    "start_time": "2021-12-28T15:55:45.796Z"
   },
   {
    "duration": 352,
    "start_time": "2021-12-28T15:55:46.249Z"
   },
   {
    "duration": 219,
    "start_time": "2021-12-28T15:55:46.604Z"
   },
   {
    "duration": 427,
    "start_time": "2021-12-28T15:55:46.825Z"
   },
   {
    "duration": 48,
    "start_time": "2021-12-28T15:56:23.176Z"
   },
   {
    "duration": 9,
    "start_time": "2021-12-28T15:56:23.228Z"
   },
   {
    "duration": 28,
    "start_time": "2021-12-28T15:56:23.240Z"
   },
   {
    "duration": 239,
    "start_time": "2021-12-28T15:56:23.271Z"
   },
   {
    "duration": 28,
    "start_time": "2021-12-28T15:56:23.513Z"
   },
   {
    "duration": 199,
    "start_time": "2021-12-28T15:56:23.561Z"
   },
   {
    "duration": 31,
    "start_time": "2021-12-28T15:56:23.764Z"
   },
   {
    "duration": 199,
    "start_time": "2021-12-28T15:56:23.798Z"
   },
   {
    "duration": 22,
    "start_time": "2021-12-28T15:56:24.001Z"
   },
   {
    "duration": 403,
    "start_time": "2021-12-28T15:56:24.027Z"
   },
   {
    "duration": 320,
    "start_time": "2021-12-28T15:56:24.433Z"
   },
   {
    "duration": 201,
    "start_time": "2021-12-28T15:56:24.759Z"
   },
   {
    "duration": 46,
    "start_time": "2021-12-28T15:56:24.964Z"
   },
   {
    "duration": 46,
    "start_time": "2021-12-28T15:56:34.930Z"
   },
   {
    "duration": 10,
    "start_time": "2021-12-28T15:56:34.979Z"
   },
   {
    "duration": 38,
    "start_time": "2021-12-28T15:56:34.992Z"
   },
   {
    "duration": 217,
    "start_time": "2021-12-28T15:56:35.034Z"
   },
   {
    "duration": 43,
    "start_time": "2021-12-28T15:56:35.254Z"
   },
   {
    "duration": 134,
    "start_time": "2021-12-28T15:56:35.299Z"
   },
   {
    "duration": 27,
    "start_time": "2021-12-28T15:56:35.435Z"
   },
   {
    "duration": 209,
    "start_time": "2021-12-28T15:56:35.465Z"
   },
   {
    "duration": 23,
    "start_time": "2021-12-28T15:56:35.679Z"
   },
   {
    "duration": 443,
    "start_time": "2021-12-28T15:56:35.706Z"
   },
   {
    "duration": 340,
    "start_time": "2021-12-28T15:56:36.161Z"
   },
   {
    "duration": 219,
    "start_time": "2021-12-28T15:56:36.504Z"
   },
   {
    "duration": 468,
    "start_time": "2021-12-28T15:56:36.726Z"
   },
   {
    "duration": 38,
    "start_time": "2021-12-28T15:57:35.247Z"
   },
   {
    "duration": 46,
    "start_time": "2021-12-28T16:00:18.795Z"
   },
   {
    "duration": 9,
    "start_time": "2021-12-28T16:00:18.844Z"
   },
   {
    "duration": 33,
    "start_time": "2021-12-28T16:00:18.856Z"
   },
   {
    "duration": 212,
    "start_time": "2021-12-28T16:00:18.892Z"
   },
   {
    "duration": 29,
    "start_time": "2021-12-28T16:00:19.106Z"
   },
   {
    "duration": 134,
    "start_time": "2021-12-28T16:00:19.138Z"
   },
   {
    "duration": 23,
    "start_time": "2021-12-28T16:00:19.275Z"
   },
   {
    "duration": 217,
    "start_time": "2021-12-28T16:00:19.303Z"
   },
   {
    "duration": 36,
    "start_time": "2021-12-28T16:00:19.523Z"
   },
   {
    "duration": 404,
    "start_time": "2021-12-28T16:00:19.562Z"
   },
   {
    "duration": 317,
    "start_time": "2021-12-28T16:00:19.968Z"
   },
   {
    "duration": 197,
    "start_time": "2021-12-28T16:00:20.288Z"
   },
   {
    "duration": 413,
    "start_time": "2021-12-28T16:00:20.487Z"
   },
   {
    "duration": 47,
    "start_time": "2021-12-28T16:00:29.230Z"
   },
   {
    "duration": 10,
    "start_time": "2021-12-28T16:00:29.279Z"
   },
   {
    "duration": 27,
    "start_time": "2021-12-28T16:00:29.292Z"
   },
   {
    "duration": 254,
    "start_time": "2021-12-28T16:00:29.322Z"
   },
   {
    "duration": 26,
    "start_time": "2021-12-28T16:00:29.579Z"
   },
   {
    "duration": 146,
    "start_time": "2021-12-28T16:00:29.608Z"
   },
   {
    "duration": 19,
    "start_time": "2021-12-28T16:00:29.757Z"
   },
   {
    "duration": 208,
    "start_time": "2021-12-28T16:00:29.779Z"
   },
   {
    "duration": 26,
    "start_time": "2021-12-28T16:00:29.991Z"
   },
   {
    "duration": 406,
    "start_time": "2021-12-28T16:00:30.020Z"
   },
   {
    "duration": 334,
    "start_time": "2021-12-28T16:00:30.429Z"
   },
   {
    "duration": 206,
    "start_time": "2021-12-28T16:00:30.766Z"
   },
   {
    "duration": 50,
    "start_time": "2021-12-28T16:00:30.975Z"
   },
   {
    "duration": 45,
    "start_time": "2021-12-28T16:00:35.930Z"
   },
   {
    "duration": 610,
    "start_time": "2021-12-28T16:00:35.978Z"
   },
   {
    "duration": 29,
    "start_time": "2021-12-28T16:00:36.591Z"
   },
   {
    "duration": 212,
    "start_time": "2021-12-28T16:00:36.623Z"
   },
   {
    "duration": 32,
    "start_time": "2021-12-28T16:00:36.837Z"
   },
   {
    "duration": 132,
    "start_time": "2021-12-28T16:00:36.871Z"
   },
   {
    "duration": 20,
    "start_time": "2021-12-28T16:00:37.005Z"
   },
   {
    "duration": 233,
    "start_time": "2021-12-28T16:00:37.028Z"
   },
   {
    "duration": 22,
    "start_time": "2021-12-28T16:00:37.265Z"
   },
   {
    "duration": 670,
    "start_time": "2021-12-28T16:00:37.291Z"
   },
   {
    "duration": 302,
    "start_time": "2021-12-28T16:00:37.963Z"
   },
   {
    "duration": 197,
    "start_time": "2021-12-28T16:00:38.268Z"
   },
   {
    "duration": 63,
    "start_time": "2021-12-28T16:00:38.467Z"
   },
   {
    "duration": 54,
    "start_time": "2021-12-28T16:02:30.648Z"
   },
   {
    "duration": 23,
    "start_time": "2021-12-28T16:02:30.706Z"
   },
   {
    "duration": 32,
    "start_time": "2021-12-28T16:02:30.734Z"
   },
   {
    "duration": 229,
    "start_time": "2021-12-28T16:02:30.769Z"
   },
   {
    "duration": 27,
    "start_time": "2021-12-28T16:02:31.001Z"
   },
   {
    "duration": 152,
    "start_time": "2021-12-28T16:02:31.030Z"
   },
   {
    "duration": 21,
    "start_time": "2021-12-28T16:02:31.184Z"
   },
   {
    "duration": 209,
    "start_time": "2021-12-28T16:02:31.207Z"
   },
   {
    "duration": 23,
    "start_time": "2021-12-28T16:02:31.419Z"
   },
   {
    "duration": 385,
    "start_time": "2021-12-28T16:02:31.444Z"
   },
   {
    "duration": 307,
    "start_time": "2021-12-28T16:02:31.831Z"
   },
   {
    "duration": 196,
    "start_time": "2021-12-28T16:02:32.140Z"
   },
   {
    "duration": 50,
    "start_time": "2021-12-28T16:02:32.338Z"
   },
   {
    "duration": 59,
    "start_time": "2021-12-28T16:04:08.100Z"
   },
   {
    "duration": 9,
    "start_time": "2021-12-28T16:04:08.163Z"
   },
   {
    "duration": 29,
    "start_time": "2021-12-28T16:04:08.176Z"
   },
   {
    "duration": 232,
    "start_time": "2021-12-28T16:04:08.208Z"
   },
   {
    "duration": 34,
    "start_time": "2021-12-28T16:04:08.443Z"
   },
   {
    "duration": 127,
    "start_time": "2021-12-28T16:04:08.480Z"
   },
   {
    "duration": 18,
    "start_time": "2021-12-28T16:04:08.610Z"
   },
   {
    "duration": 197,
    "start_time": "2021-12-28T16:04:08.631Z"
   },
   {
    "duration": 30,
    "start_time": "2021-12-28T16:04:08.831Z"
   },
   {
    "duration": 396,
    "start_time": "2021-12-28T16:04:08.863Z"
   },
   {
    "duration": 312,
    "start_time": "2021-12-28T16:04:09.261Z"
   },
   {
    "duration": 199,
    "start_time": "2021-12-28T16:04:09.575Z"
   },
   {
    "duration": 29,
    "start_time": "2021-12-28T16:04:09.776Z"
   },
   {
    "duration": 48,
    "start_time": "2021-12-28T16:04:27.168Z"
   },
   {
    "duration": 8,
    "start_time": "2021-12-28T16:04:27.219Z"
   },
   {
    "duration": 27,
    "start_time": "2021-12-28T16:04:27.230Z"
   },
   {
    "duration": 238,
    "start_time": "2021-12-28T16:04:27.261Z"
   },
   {
    "duration": 26,
    "start_time": "2021-12-28T16:04:27.501Z"
   },
   {
    "duration": 154,
    "start_time": "2021-12-28T16:04:27.530Z"
   },
   {
    "duration": 19,
    "start_time": "2021-12-28T16:04:27.686Z"
   },
   {
    "duration": 209,
    "start_time": "2021-12-28T16:04:27.708Z"
   },
   {
    "duration": 22,
    "start_time": "2021-12-28T16:04:27.921Z"
   },
   {
    "duration": 414,
    "start_time": "2021-12-28T16:04:27.945Z"
   },
   {
    "duration": 340,
    "start_time": "2021-12-28T16:04:28.362Z"
   },
   {
    "duration": 207,
    "start_time": "2021-12-28T16:04:28.704Z"
   },
   {
    "duration": 26,
    "start_time": "2021-12-28T16:04:28.913Z"
   },
   {
    "duration": 47,
    "start_time": "2021-12-28T16:04:47.947Z"
   },
   {
    "duration": 8,
    "start_time": "2021-12-28T16:04:47.996Z"
   },
   {
    "duration": 27,
    "start_time": "2021-12-28T16:04:48.008Z"
   },
   {
    "duration": 211,
    "start_time": "2021-12-28T16:04:48.037Z"
   },
   {
    "duration": 33,
    "start_time": "2021-12-28T16:04:48.251Z"
   },
   {
    "duration": 133,
    "start_time": "2021-12-28T16:04:48.287Z"
   },
   {
    "duration": 20,
    "start_time": "2021-12-28T16:04:48.422Z"
   },
   {
    "duration": 182,
    "start_time": "2021-12-28T16:04:48.460Z"
   },
   {
    "duration": 30,
    "start_time": "2021-12-28T16:04:48.646Z"
   },
   {
    "duration": 380,
    "start_time": "2021-12-28T16:04:48.679Z"
   },
   {
    "duration": 299,
    "start_time": "2021-12-28T16:04:49.061Z"
   },
   {
    "duration": 189,
    "start_time": "2021-12-28T16:04:49.363Z"
   },
   {
    "duration": 137,
    "start_time": "2021-12-28T16:04:49.554Z"
   },
   {
    "duration": 46,
    "start_time": "2021-12-28T16:05:16.313Z"
   },
   {
    "duration": 11,
    "start_time": "2021-12-28T16:05:16.363Z"
   },
   {
    "duration": 28,
    "start_time": "2021-12-28T16:05:16.378Z"
   },
   {
    "duration": 230,
    "start_time": "2021-12-28T16:05:16.409Z"
   },
   {
    "duration": 52,
    "start_time": "2021-12-28T16:05:16.642Z"
   },
   {
    "duration": 140,
    "start_time": "2021-12-28T16:05:16.696Z"
   },
   {
    "duration": 31,
    "start_time": "2021-12-28T16:05:16.838Z"
   },
   {
    "duration": 226,
    "start_time": "2021-12-28T16:05:16.873Z"
   },
   {
    "duration": 23,
    "start_time": "2021-12-28T16:05:17.102Z"
   },
   {
    "duration": 500,
    "start_time": "2021-12-28T16:05:17.127Z"
   },
   {
    "duration": 329,
    "start_time": "2021-12-28T16:05:17.630Z"
   },
   {
    "duration": 208,
    "start_time": "2021-12-28T16:05:17.962Z"
   },
   {
    "duration": 50,
    "start_time": "2021-12-28T16:05:18.174Z"
   },
   {
    "duration": 51,
    "start_time": "2021-12-28T16:07:00.327Z"
   },
   {
    "duration": 45,
    "start_time": "2021-12-28T16:08:47.471Z"
   },
   {
    "duration": 10,
    "start_time": "2021-12-28T16:08:47.519Z"
   },
   {
    "duration": 28,
    "start_time": "2021-12-28T16:08:47.531Z"
   },
   {
    "duration": 214,
    "start_time": "2021-12-28T16:08:47.562Z"
   },
   {
    "duration": 27,
    "start_time": "2021-12-28T16:08:47.779Z"
   },
   {
    "duration": 146,
    "start_time": "2021-12-28T16:08:47.809Z"
   },
   {
    "duration": 23,
    "start_time": "2021-12-28T16:08:47.960Z"
   },
   {
    "duration": 213,
    "start_time": "2021-12-28T16:08:47.986Z"
   },
   {
    "duration": 24,
    "start_time": "2021-12-28T16:08:48.203Z"
   },
   {
    "duration": 411,
    "start_time": "2021-12-28T16:08:48.231Z"
   },
   {
    "duration": 343,
    "start_time": "2021-12-28T16:08:48.645Z"
   },
   {
    "duration": 214,
    "start_time": "2021-12-28T16:08:48.991Z"
   },
   {
    "duration": 407,
    "start_time": "2021-12-28T16:08:49.207Z"
   },
   {
    "duration": 46,
    "start_time": "2021-12-28T16:09:06.385Z"
   },
   {
    "duration": 9,
    "start_time": "2021-12-28T16:09:06.434Z"
   },
   {
    "duration": 28,
    "start_time": "2021-12-28T16:09:06.446Z"
   },
   {
    "duration": 221,
    "start_time": "2021-12-28T16:09:06.477Z"
   },
   {
    "duration": 28,
    "start_time": "2021-12-28T16:09:06.700Z"
   },
   {
    "duration": 142,
    "start_time": "2021-12-28T16:09:06.730Z"
   },
   {
    "duration": 20,
    "start_time": "2021-12-28T16:09:06.874Z"
   },
   {
    "duration": 222,
    "start_time": "2021-12-28T16:09:06.897Z"
   },
   {
    "duration": 23,
    "start_time": "2021-12-28T16:09:07.122Z"
   },
   {
    "duration": 666,
    "start_time": "2021-12-28T16:09:07.161Z"
   },
   {
    "duration": 529,
    "start_time": "2021-12-28T16:09:07.830Z"
   },
   {
    "duration": 316,
    "start_time": "2021-12-28T16:09:08.363Z"
   },
   {
    "duration": 82,
    "start_time": "2021-12-28T16:09:08.682Z"
   },
   {
    "duration": 50,
    "start_time": "2021-12-28T16:12:21.474Z"
   },
   {
    "duration": 9,
    "start_time": "2021-12-28T16:12:21.526Z"
   },
   {
    "duration": 34,
    "start_time": "2021-12-28T16:12:21.538Z"
   },
   {
    "duration": 229,
    "start_time": "2021-12-28T16:12:21.576Z"
   },
   {
    "duration": 30,
    "start_time": "2021-12-28T16:12:21.808Z"
   },
   {
    "duration": 137,
    "start_time": "2021-12-28T16:12:21.861Z"
   },
   {
    "duration": 19,
    "start_time": "2021-12-28T16:12:22.000Z"
   },
   {
    "duration": 225,
    "start_time": "2021-12-28T16:12:22.021Z"
   },
   {
    "duration": 41,
    "start_time": "2021-12-28T16:12:22.249Z"
   },
   {
    "duration": 461,
    "start_time": "2021-12-28T16:12:22.293Z"
   },
   {
    "duration": 351,
    "start_time": "2021-12-28T16:12:22.757Z"
   },
   {
    "duration": 210,
    "start_time": "2021-12-28T16:12:23.111Z"
   },
   {
    "duration": 11101,
    "start_time": "2021-12-28T16:12:23.323Z"
   },
   {
    "duration": 47,
    "start_time": "2021-12-28T16:12:50.997Z"
   },
   {
    "duration": 10,
    "start_time": "2021-12-28T16:12:51.048Z"
   },
   {
    "duration": 33,
    "start_time": "2021-12-28T16:12:51.062Z"
   },
   {
    "duration": 222,
    "start_time": "2021-12-28T16:12:51.098Z"
   },
   {
    "duration": 52,
    "start_time": "2021-12-28T16:12:51.324Z"
   },
   {
    "duration": 126,
    "start_time": "2021-12-28T16:12:51.378Z"
   },
   {
    "duration": 20,
    "start_time": "2021-12-28T16:12:51.506Z"
   },
   {
    "duration": 200,
    "start_time": "2021-12-28T16:12:51.528Z"
   },
   {
    "duration": 31,
    "start_time": "2021-12-28T16:12:51.732Z"
   },
   {
    "duration": 401,
    "start_time": "2021-12-28T16:12:51.765Z"
   },
   {
    "duration": 313,
    "start_time": "2021-12-28T16:12:52.169Z"
   },
   {
    "duration": 199,
    "start_time": "2021-12-28T16:12:52.484Z"
   },
   {
    "duration": 10211,
    "start_time": "2021-12-28T16:12:52.686Z"
   },
   {
    "duration": 45,
    "start_time": "2021-12-28T16:13:20.176Z"
   },
   {
    "duration": 8,
    "start_time": "2021-12-28T16:13:20.224Z"
   },
   {
    "duration": 27,
    "start_time": "2021-12-28T16:13:20.236Z"
   },
   {
    "duration": 233,
    "start_time": "2021-12-28T16:13:20.267Z"
   },
   {
    "duration": 33,
    "start_time": "2021-12-28T16:13:20.503Z"
   },
   {
    "duration": 166,
    "start_time": "2021-12-28T16:13:20.539Z"
   },
   {
    "duration": 24,
    "start_time": "2021-12-28T16:13:20.708Z"
   },
   {
    "duration": 211,
    "start_time": "2021-12-28T16:13:20.737Z"
   },
   {
    "duration": 29,
    "start_time": "2021-12-28T16:13:20.950Z"
   },
   {
    "duration": 442,
    "start_time": "2021-12-28T16:13:20.983Z"
   },
   {
    "duration": 320,
    "start_time": "2021-12-28T16:13:21.428Z"
   },
   {
    "duration": 200,
    "start_time": "2021-12-28T16:13:21.752Z"
   },
   {
    "duration": 75,
    "start_time": "2021-12-28T16:13:21.958Z"
   },
   {
    "duration": 77,
    "start_time": "2021-12-28T16:20:23.318Z"
   },
   {
    "duration": 47,
    "start_time": "2021-12-28T16:22:40.037Z"
   },
   {
    "duration": 9,
    "start_time": "2021-12-28T16:22:40.087Z"
   },
   {
    "duration": 29,
    "start_time": "2021-12-28T16:22:40.099Z"
   },
   {
    "duration": 219,
    "start_time": "2021-12-28T16:22:40.131Z"
   },
   {
    "duration": 31,
    "start_time": "2021-12-28T16:22:40.353Z"
   },
   {
    "duration": 138,
    "start_time": "2021-12-28T16:22:40.387Z"
   },
   {
    "duration": 19,
    "start_time": "2021-12-28T16:22:40.528Z"
   },
   {
    "duration": 185,
    "start_time": "2021-12-28T16:22:40.559Z"
   },
   {
    "duration": 26,
    "start_time": "2021-12-28T16:22:40.748Z"
   },
   {
    "duration": 416,
    "start_time": "2021-12-28T16:22:40.777Z"
   },
   {
    "duration": 335,
    "start_time": "2021-12-28T16:22:41.197Z"
   },
   {
    "duration": 194,
    "start_time": "2021-12-28T16:22:41.534Z"
   },
   {
    "duration": 86,
    "start_time": "2021-12-28T16:22:41.731Z"
   },
   {
    "duration": 86,
    "start_time": "2021-12-28T16:27:16.493Z"
   },
   {
    "duration": 56,
    "start_time": "2021-12-28T16:33:45.567Z"
   },
   {
    "duration": 11,
    "start_time": "2021-12-28T16:33:45.627Z"
   },
   {
    "duration": 35,
    "start_time": "2021-12-28T16:33:45.642Z"
   },
   {
    "duration": 227,
    "start_time": "2021-12-28T16:33:45.681Z"
   },
   {
    "duration": 26,
    "start_time": "2021-12-28T16:33:45.911Z"
   },
   {
    "duration": 146,
    "start_time": "2021-12-28T16:33:45.940Z"
   },
   {
    "duration": 20,
    "start_time": "2021-12-28T16:33:46.088Z"
   },
   {
    "duration": 282,
    "start_time": "2021-12-28T16:33:46.110Z"
   },
   {
    "duration": 34,
    "start_time": "2021-12-28T16:33:46.397Z"
   },
   {
    "duration": 408,
    "start_time": "2021-12-28T16:33:46.433Z"
   },
   {
    "duration": 317,
    "start_time": "2021-12-28T16:33:46.843Z"
   },
   {
    "duration": 196,
    "start_time": "2021-12-28T16:33:47.163Z"
   },
   {
    "duration": 84,
    "start_time": "2021-12-28T16:33:47.361Z"
   },
   {
    "duration": 82,
    "start_time": "2021-12-28T16:34:28.778Z"
   },
   {
    "duration": 658,
    "start_time": "2021-12-29T05:40:38.837Z"
   },
   {
    "duration": 6,
    "start_time": "2021-12-29T05:40:39.497Z"
   },
   {
    "duration": 20,
    "start_time": "2021-12-29T05:40:39.506Z"
   },
   {
    "duration": 158,
    "start_time": "2021-12-29T05:40:39.528Z"
   },
   {
    "duration": 21,
    "start_time": "2021-12-29T05:40:39.687Z"
   },
   {
    "duration": 99,
    "start_time": "2021-12-29T05:40:39.710Z"
   },
   {
    "duration": 15,
    "start_time": "2021-12-29T05:40:39.811Z"
   },
   {
    "duration": 147,
    "start_time": "2021-12-29T05:40:39.828Z"
   },
   {
    "duration": 17,
    "start_time": "2021-12-29T05:40:39.977Z"
   },
   {
    "duration": 289,
    "start_time": "2021-12-29T05:40:39.995Z"
   },
   {
    "duration": 192,
    "start_time": "2021-12-29T05:40:40.286Z"
   },
   {
    "duration": 117,
    "start_time": "2021-12-29T05:40:40.480Z"
   },
   {
    "duration": 6915,
    "start_time": "2021-12-29T05:40:40.599Z"
   },
   {
    "duration": 35,
    "start_time": "2021-12-29T05:41:10.917Z"
   },
   {
    "duration": 6,
    "start_time": "2021-12-29T05:41:10.954Z"
   },
   {
    "duration": 22,
    "start_time": "2021-12-29T05:41:10.962Z"
   },
   {
    "duration": 159,
    "start_time": "2021-12-29T05:41:10.986Z"
   },
   {
    "duration": 27,
    "start_time": "2021-12-29T05:41:11.146Z"
   },
   {
    "duration": 89,
    "start_time": "2021-12-29T05:41:11.175Z"
   },
   {
    "duration": 14,
    "start_time": "2021-12-29T05:41:11.266Z"
   },
   {
    "duration": 137,
    "start_time": "2021-12-29T05:41:11.282Z"
   },
   {
    "duration": 16,
    "start_time": "2021-12-29T05:41:11.421Z"
   },
   {
    "duration": 257,
    "start_time": "2021-12-29T05:41:11.439Z"
   },
   {
    "duration": 201,
    "start_time": "2021-12-29T05:41:11.698Z"
   },
   {
    "duration": 124,
    "start_time": "2021-12-29T05:41:11.901Z"
   },
   {
    "duration": 58,
    "start_time": "2021-12-29T05:41:12.026Z"
   },
   {
    "duration": 10,
    "start_time": "2021-12-29T06:01:12.658Z"
   },
   {
    "duration": 955,
    "start_time": "2021-12-29T10:01:33.338Z"
   },
   {
    "duration": 11,
    "start_time": "2021-12-29T10:01:34.295Z"
   },
   {
    "duration": 36,
    "start_time": "2021-12-29T10:01:34.310Z"
   },
   {
    "duration": 345,
    "start_time": "2021-12-29T10:01:34.349Z"
   },
   {
    "duration": 33,
    "start_time": "2021-12-29T10:01:34.697Z"
   },
   {
    "duration": 138,
    "start_time": "2021-12-29T10:01:34.732Z"
   },
   {
    "duration": 23,
    "start_time": "2021-12-29T10:01:34.876Z"
   },
   {
    "duration": 219,
    "start_time": "2021-12-29T10:01:34.902Z"
   },
   {
    "duration": 41,
    "start_time": "2021-12-29T10:01:35.124Z"
   },
   {
    "duration": 476,
    "start_time": "2021-12-29T10:01:35.167Z"
   },
   {
    "duration": 343,
    "start_time": "2021-12-29T10:01:35.645Z"
   },
   {
    "duration": 211,
    "start_time": "2021-12-29T10:01:35.991Z"
   },
   {
    "duration": 11125,
    "start_time": "2021-12-29T10:01:36.204Z"
   },
   {
    "duration": -97,
    "start_time": "2021-12-29T10:01:47.429Z"
   },
   {
    "duration": 56,
    "start_time": "2021-12-29T10:14:36.285Z"
   },
   {
    "duration": 12,
    "start_time": "2021-12-29T10:14:36.344Z"
   },
   {
    "duration": 35,
    "start_time": "2021-12-29T10:14:36.359Z"
   },
   {
    "duration": 286,
    "start_time": "2021-12-29T10:14:36.397Z"
   },
   {
    "duration": 51,
    "start_time": "2021-12-29T10:14:36.686Z"
   },
   {
    "duration": 186,
    "start_time": "2021-12-29T10:14:36.741Z"
   },
   {
    "duration": 48,
    "start_time": "2021-12-29T10:14:36.930Z"
   },
   {
    "duration": 262,
    "start_time": "2021-12-29T10:14:36.982Z"
   },
   {
    "duration": 43,
    "start_time": "2021-12-29T10:14:37.248Z"
   },
   {
    "duration": 454,
    "start_time": "2021-12-29T10:14:37.296Z"
   },
   {
    "duration": 503,
    "start_time": "2021-12-29T10:14:37.754Z"
   },
   {
    "duration": 300,
    "start_time": "2021-12-29T10:14:38.265Z"
   },
   {
    "duration": 459,
    "start_time": "2021-12-29T10:14:38.570Z"
   },
   {
    "duration": -89,
    "start_time": "2021-12-29T10:14:39.121Z"
   },
   {
    "duration": 47,
    "start_time": "2021-12-29T10:14:59.860Z"
   },
   {
    "duration": 10,
    "start_time": "2021-12-29T10:14:59.910Z"
   },
   {
    "duration": 26,
    "start_time": "2021-12-29T10:14:59.924Z"
   },
   {
    "duration": 242,
    "start_time": "2021-12-29T10:14:59.953Z"
   },
   {
    "duration": 27,
    "start_time": "2021-12-29T10:15:00.198Z"
   },
   {
    "duration": 155,
    "start_time": "2021-12-29T10:15:00.228Z"
   },
   {
    "duration": 20,
    "start_time": "2021-12-29T10:15:00.386Z"
   },
   {
    "duration": 227,
    "start_time": "2021-12-29T10:15:00.410Z"
   },
   {
    "duration": 43,
    "start_time": "2021-12-29T10:15:00.640Z"
   },
   {
    "duration": 436,
    "start_time": "2021-12-29T10:15:00.686Z"
   },
   {
    "duration": 345,
    "start_time": "2021-12-29T10:15:01.125Z"
   },
   {
    "duration": 304,
    "start_time": "2021-12-29T10:15:01.474Z"
   },
   {
    "duration": 368,
    "start_time": "2021-12-29T10:15:01.780Z"
   },
   {
    "duration": -95,
    "start_time": "2021-12-29T10:15:02.247Z"
   },
   {
    "duration": 49,
    "start_time": "2021-12-29T10:16:03.794Z"
   },
   {
    "duration": 9,
    "start_time": "2021-12-29T10:16:03.845Z"
   },
   {
    "duration": 29,
    "start_time": "2021-12-29T10:16:03.857Z"
   },
   {
    "duration": 226,
    "start_time": "2021-12-29T10:16:03.890Z"
   },
   {
    "duration": 47,
    "start_time": "2021-12-29T10:16:04.118Z"
   },
   {
    "duration": 150,
    "start_time": "2021-12-29T10:16:04.168Z"
   },
   {
    "duration": 21,
    "start_time": "2021-12-29T10:16:04.321Z"
   },
   {
    "duration": 210,
    "start_time": "2021-12-29T10:16:04.365Z"
   },
   {
    "duration": 29,
    "start_time": "2021-12-29T10:16:04.578Z"
   },
   {
    "duration": 468,
    "start_time": "2021-12-29T10:16:04.611Z"
   },
   {
    "duration": 333,
    "start_time": "2021-12-29T10:16:05.081Z"
   },
   {
    "duration": 225,
    "start_time": "2021-12-29T10:16:05.417Z"
   },
   {
    "duration": 111,
    "start_time": "2021-12-29T10:16:05.645Z"
   },
   {
    "duration": 15,
    "start_time": "2021-12-29T10:16:05.758Z"
   },
   {
    "duration": 56,
    "start_time": "2021-12-29T10:31:33.041Z"
   },
   {
    "duration": 10,
    "start_time": "2021-12-29T10:31:33.100Z"
   },
   {
    "duration": 35,
    "start_time": "2021-12-29T10:31:33.113Z"
   },
   {
    "duration": 317,
    "start_time": "2021-12-29T10:31:33.152Z"
   },
   {
    "duration": 38,
    "start_time": "2021-12-29T10:31:33.472Z"
   },
   {
    "duration": 140,
    "start_time": "2021-12-29T10:31:33.513Z"
   },
   {
    "duration": 35,
    "start_time": "2021-12-29T10:31:33.656Z"
   },
   {
    "duration": 279,
    "start_time": "2021-12-29T10:31:33.694Z"
   },
   {
    "duration": 24,
    "start_time": "2021-12-29T10:31:33.977Z"
   },
   {
    "duration": 447,
    "start_time": "2021-12-29T10:31:34.004Z"
   },
   {
    "duration": 350,
    "start_time": "2021-12-29T10:31:34.454Z"
   },
   {
    "duration": 215,
    "start_time": "2021-12-29T10:31:34.806Z"
   },
   {
    "duration": 111,
    "start_time": "2021-12-29T10:31:35.024Z"
   },
   {
    "duration": 79,
    "start_time": "2021-12-29T10:31:35.137Z"
   },
   {
    "duration": 80,
    "start_time": "2021-12-29T10:32:00.002Z"
   },
   {
    "duration": 48,
    "start_time": "2021-12-29T10:32:17.702Z"
   },
   {
    "duration": 9,
    "start_time": "2021-12-29T10:32:17.753Z"
   },
   {
    "duration": 33,
    "start_time": "2021-12-29T10:32:17.765Z"
   },
   {
    "duration": 232,
    "start_time": "2021-12-29T10:32:17.802Z"
   },
   {
    "duration": 41,
    "start_time": "2021-12-29T10:32:18.037Z"
   },
   {
    "duration": 132,
    "start_time": "2021-12-29T10:32:18.081Z"
   },
   {
    "duration": 18,
    "start_time": "2021-12-29T10:32:18.216Z"
   },
   {
    "duration": 212,
    "start_time": "2021-12-29T10:32:18.238Z"
   },
   {
    "duration": 27,
    "start_time": "2021-12-29T10:32:18.452Z"
   },
   {
    "duration": 429,
    "start_time": "2021-12-29T10:32:18.482Z"
   },
   {
    "duration": 365,
    "start_time": "2021-12-29T10:32:18.913Z"
   },
   {
    "duration": 221,
    "start_time": "2021-12-29T10:32:19.280Z"
   },
   {
    "duration": 117,
    "start_time": "2021-12-29T10:32:19.505Z"
   },
   {
    "duration": 82,
    "start_time": "2021-12-29T10:32:19.624Z"
   },
   {
    "duration": 48,
    "start_time": "2021-12-29T10:32:42.902Z"
   },
   {
    "duration": 9,
    "start_time": "2021-12-29T10:32:42.953Z"
   },
   {
    "duration": 32,
    "start_time": "2021-12-29T10:32:42.965Z"
   },
   {
    "duration": 225,
    "start_time": "2021-12-29T10:32:43.000Z"
   },
   {
    "duration": 44,
    "start_time": "2021-12-29T10:32:43.228Z"
   },
   {
    "duration": 130,
    "start_time": "2021-12-29T10:32:43.274Z"
   },
   {
    "duration": 19,
    "start_time": "2021-12-29T10:32:43.407Z"
   },
   {
    "duration": 212,
    "start_time": "2021-12-29T10:32:43.429Z"
   },
   {
    "duration": 46,
    "start_time": "2021-12-29T10:32:43.644Z"
   },
   {
    "duration": 414,
    "start_time": "2021-12-29T10:32:43.693Z"
   },
   {
    "duration": 446,
    "start_time": "2021-12-29T10:32:44.110Z"
   },
   {
    "duration": 216,
    "start_time": "2021-12-29T10:32:44.563Z"
   },
   {
    "duration": 107,
    "start_time": "2021-12-29T10:32:44.781Z"
   },
   {
    "duration": 47,
    "start_time": "2021-12-29T10:32:44.891Z"
   },
   {
    "duration": 51,
    "start_time": "2021-12-29T10:35:13.541Z"
   },
   {
    "duration": 9,
    "start_time": "2021-12-29T10:35:13.595Z"
   },
   {
    "duration": 37,
    "start_time": "2021-12-29T10:35:13.607Z"
   },
   {
    "duration": 235,
    "start_time": "2021-12-29T10:35:13.647Z"
   },
   {
    "duration": 28,
    "start_time": "2021-12-29T10:35:13.885Z"
   },
   {
    "duration": 149,
    "start_time": "2021-12-29T10:35:13.916Z"
   },
   {
    "duration": 27,
    "start_time": "2021-12-29T10:35:14.069Z"
   },
   {
    "duration": 216,
    "start_time": "2021-12-29T10:35:14.099Z"
   },
   {
    "duration": 51,
    "start_time": "2021-12-29T10:35:14.318Z"
   },
   {
    "duration": 421,
    "start_time": "2021-12-29T10:35:14.374Z"
   },
   {
    "duration": 333,
    "start_time": "2021-12-29T10:35:14.797Z"
   },
   {
    "duration": 210,
    "start_time": "2021-12-29T10:35:15.132Z"
   },
   {
    "duration": 117,
    "start_time": "2021-12-29T10:35:15.345Z"
   },
   {
    "duration": 66,
    "start_time": "2021-12-29T10:35:15.465Z"
   },
   {
    "duration": 69,
    "start_time": "2021-12-29T10:35:18.888Z"
   },
   {
    "duration": 75,
    "start_time": "2021-12-29T10:35:30.599Z"
   },
   {
    "duration": 11009,
    "start_time": "2021-12-29T10:56:12.466Z"
   },
   {
    "duration": 48,
    "start_time": "2021-12-29T11:09:34.640Z"
   },
   {
    "duration": 9,
    "start_time": "2021-12-29T11:09:34.691Z"
   },
   {
    "duration": 32,
    "start_time": "2021-12-29T11:09:34.703Z"
   },
   {
    "duration": 259,
    "start_time": "2021-12-29T11:09:34.738Z"
   },
   {
    "duration": 29,
    "start_time": "2021-12-29T11:09:35.000Z"
   },
   {
    "duration": 154,
    "start_time": "2021-12-29T11:09:35.032Z"
   },
   {
    "duration": 23,
    "start_time": "2021-12-29T11:09:35.188Z"
   },
   {
    "duration": 222,
    "start_time": "2021-12-29T11:09:35.215Z"
   },
   {
    "duration": 33,
    "start_time": "2021-12-29T11:09:35.440Z"
   },
   {
    "duration": 443,
    "start_time": "2021-12-29T11:09:35.476Z"
   },
   {
    "duration": 456,
    "start_time": "2021-12-29T11:09:35.921Z"
   },
   {
    "duration": 222,
    "start_time": "2021-12-29T11:09:36.380Z"
   },
   {
    "duration": 127,
    "start_time": "2021-12-29T11:09:36.606Z"
   },
   {
    "duration": 87,
    "start_time": "2021-12-29T11:09:36.736Z"
   },
   {
    "duration": 200,
    "start_time": "2021-12-29T11:09:36.826Z"
   },
   {
    "duration": 53,
    "start_time": "2021-12-29T11:09:44.182Z"
   },
   {
    "duration": 9,
    "start_time": "2021-12-29T11:09:44.237Z"
   },
   {
    "duration": 43,
    "start_time": "2021-12-29T11:09:44.249Z"
   },
   {
    "duration": 305,
    "start_time": "2021-12-29T11:09:44.296Z"
   },
   {
    "duration": 58,
    "start_time": "2021-12-29T11:09:44.604Z"
   },
   {
    "duration": 136,
    "start_time": "2021-12-29T11:09:44.665Z"
   },
   {
    "duration": 22,
    "start_time": "2021-12-29T11:09:44.804Z"
   },
   {
    "duration": 336,
    "start_time": "2021-12-29T11:09:44.830Z"
   },
   {
    "duration": 36,
    "start_time": "2021-12-29T11:09:45.170Z"
   },
   {
    "duration": 498,
    "start_time": "2021-12-29T11:09:45.209Z"
   },
   {
    "duration": 375,
    "start_time": "2021-12-29T11:09:45.710Z"
   },
   {
    "duration": 256,
    "start_time": "2021-12-29T11:09:46.088Z"
   },
   {
    "duration": 121,
    "start_time": "2021-12-29T11:09:46.347Z"
   },
   {
    "duration": 77,
    "start_time": "2021-12-29T11:09:46.471Z"
   },
   {
    "duration": 626,
    "start_time": "2021-12-29T11:09:46.551Z"
   },
   {
    "duration": -66,
    "start_time": "2021-12-29T11:11:19.819Z"
   },
   {
    "duration": -71,
    "start_time": "2021-12-29T11:11:19.826Z"
   },
   {
    "duration": -73,
    "start_time": "2021-12-29T11:11:19.829Z"
   },
   {
    "duration": -73,
    "start_time": "2021-12-29T11:11:19.831Z"
   },
   {
    "duration": -73,
    "start_time": "2021-12-29T11:11:19.833Z"
   },
   {
    "duration": -72,
    "start_time": "2021-12-29T11:11:19.834Z"
   },
   {
    "duration": -73,
    "start_time": "2021-12-29T11:11:19.836Z"
   },
   {
    "duration": -72,
    "start_time": "2021-12-29T11:11:19.837Z"
   },
   {
    "duration": -73,
    "start_time": "2021-12-29T11:11:19.839Z"
   },
   {
    "duration": -72,
    "start_time": "2021-12-29T11:11:19.840Z"
   },
   {
    "duration": -73,
    "start_time": "2021-12-29T11:11:19.842Z"
   },
   {
    "duration": -73,
    "start_time": "2021-12-29T11:11:19.844Z"
   },
   {
    "duration": -73,
    "start_time": "2021-12-29T11:11:19.845Z"
   },
   {
    "duration": -74,
    "start_time": "2021-12-29T11:11:19.847Z"
   },
   {
    "duration": -87,
    "start_time": "2021-12-29T11:11:19.862Z"
   },
   {
    "duration": 9906,
    "start_time": "2021-12-29T11:14:02.316Z"
   },
   {
    "duration": 49,
    "start_time": "2021-12-29T11:14:27.345Z"
   },
   {
    "duration": 8,
    "start_time": "2021-12-29T11:14:27.397Z"
   },
   {
    "duration": 91,
    "start_time": "2021-12-29T11:14:27.409Z"
   },
   {
    "duration": 228,
    "start_time": "2021-12-29T11:14:27.503Z"
   },
   {
    "duration": 45,
    "start_time": "2021-12-29T11:14:27.734Z"
   },
   {
    "duration": 147,
    "start_time": "2021-12-29T11:14:27.782Z"
   },
   {
    "duration": 32,
    "start_time": "2021-12-29T11:14:27.931Z"
   },
   {
    "duration": 290,
    "start_time": "2021-12-29T11:14:27.968Z"
   },
   {
    "duration": 28,
    "start_time": "2021-12-29T11:14:28.264Z"
   },
   {
    "duration": 498,
    "start_time": "2021-12-29T11:14:28.295Z"
   },
   {
    "duration": 329,
    "start_time": "2021-12-29T11:14:28.795Z"
   },
   {
    "duration": 228,
    "start_time": "2021-12-29T11:14:29.126Z"
   },
   {
    "duration": 147,
    "start_time": "2021-12-29T11:14:29.363Z"
   },
   {
    "duration": 90,
    "start_time": "2021-12-29T11:14:29.514Z"
   },
   {
    "duration": 9181,
    "start_time": "2021-12-29T11:14:29.607Z"
   },
   {
    "duration": 61,
    "start_time": "2021-12-29T11:15:04.835Z"
   },
   {
    "duration": 14,
    "start_time": "2021-12-29T11:15:04.900Z"
   },
   {
    "duration": 29,
    "start_time": "2021-12-29T11:15:04.920Z"
   },
   {
    "duration": 233,
    "start_time": "2021-12-29T11:15:04.964Z"
   },
   {
    "duration": 27,
    "start_time": "2021-12-29T11:15:05.200Z"
   },
   {
    "duration": 159,
    "start_time": "2021-12-29T11:15:05.230Z"
   },
   {
    "duration": 29,
    "start_time": "2021-12-29T11:15:05.392Z"
   },
   {
    "duration": 232,
    "start_time": "2021-12-29T11:15:05.425Z"
   },
   {
    "duration": 28,
    "start_time": "2021-12-29T11:15:05.660Z"
   },
   {
    "duration": 445,
    "start_time": "2021-12-29T11:15:05.690Z"
   },
   {
    "duration": 374,
    "start_time": "2021-12-29T11:15:06.137Z"
   },
   {
    "duration": 292,
    "start_time": "2021-12-29T11:15:06.514Z"
   },
   {
    "duration": 124,
    "start_time": "2021-12-29T11:15:06.809Z"
   },
   {
    "duration": 91,
    "start_time": "2021-12-29T11:15:06.935Z"
   },
   {
    "duration": 354,
    "start_time": "2021-12-29T11:15:07.028Z"
   },
   {
    "duration": 339,
    "start_time": "2021-12-29T11:18:47.057Z"
   },
   {
    "duration": 517,
    "start_time": "2021-12-29T11:18:56.937Z"
   },
   {
    "duration": 520,
    "start_time": "2021-12-29T11:19:03.010Z"
   },
   {
    "duration": 498,
    "start_time": "2021-12-29T11:19:08.265Z"
   },
   {
    "duration": 900,
    "start_time": "2021-12-29T11:19:31.024Z"
   },
   {
    "duration": 1341,
    "start_time": "2021-12-29T11:20:01.675Z"
   },
   {
    "duration": 515,
    "start_time": "2021-12-29T11:20:08.248Z"
   },
   {
    "duration": 360,
    "start_time": "2021-12-29T11:20:48.407Z"
   },
   {
    "duration": 571,
    "start_time": "2021-12-29T11:21:18.328Z"
   },
   {
    "duration": 482,
    "start_time": "2021-12-29T11:21:22.711Z"
   },
   {
    "duration": 277,
    "start_time": "2021-12-29T11:21:42.552Z"
   },
   {
    "duration": 59,
    "start_time": "2021-12-29T11:26:51.232Z"
   },
   {
    "duration": 13,
    "start_time": "2021-12-29T11:26:51.294Z"
   },
   {
    "duration": 57,
    "start_time": "2021-12-29T11:26:51.313Z"
   },
   {
    "duration": 272,
    "start_time": "2021-12-29T11:26:51.376Z"
   },
   {
    "duration": 60,
    "start_time": "2021-12-29T11:26:51.652Z"
   },
   {
    "duration": 181,
    "start_time": "2021-12-29T11:26:51.716Z"
   },
   {
    "duration": 30,
    "start_time": "2021-12-29T11:26:51.901Z"
   },
   {
    "duration": 283,
    "start_time": "2021-12-29T11:26:51.934Z"
   },
   {
    "duration": 46,
    "start_time": "2021-12-29T11:26:52.221Z"
   },
   {
    "duration": 526,
    "start_time": "2021-12-29T11:26:52.271Z"
   },
   {
    "duration": 458,
    "start_time": "2021-12-29T11:26:52.800Z"
   },
   {
    "duration": 307,
    "start_time": "2021-12-29T11:26:53.264Z"
   },
   {
    "duration": 160,
    "start_time": "2021-12-29T11:26:53.574Z"
   },
   {
    "duration": 102,
    "start_time": "2021-12-29T11:26:53.736Z"
   },
   {
    "duration": 374,
    "start_time": "2021-12-29T11:26:53.841Z"
   },
   {
    "duration": 316,
    "start_time": "2021-12-29T11:33:41.599Z"
   },
   {
    "duration": 418,
    "start_time": "2021-12-29T11:33:44.845Z"
   },
   {
    "duration": 392,
    "start_time": "2021-12-29T11:35:00.871Z"
   },
   {
    "duration": 302,
    "start_time": "2021-12-29T11:36:39.911Z"
   },
   {
    "duration": 341,
    "start_time": "2021-12-29T11:41:01.898Z"
   },
   {
    "duration": 467,
    "start_time": "2021-12-29T13:29:11.985Z"
   },
   {
    "duration": 54,
    "start_time": "2021-12-29T13:31:19.429Z"
   },
   {
    "duration": 11,
    "start_time": "2021-12-29T13:31:19.486Z"
   },
   {
    "duration": 29,
    "start_time": "2021-12-29T13:31:19.501Z"
   },
   {
    "duration": 259,
    "start_time": "2021-12-29T13:31:19.533Z"
   },
   {
    "duration": 28,
    "start_time": "2021-12-29T13:31:19.794Z"
   },
   {
    "duration": 145,
    "start_time": "2021-12-29T13:31:19.824Z"
   },
   {
    "duration": 22,
    "start_time": "2021-12-29T13:31:19.972Z"
   },
   {
    "duration": 215,
    "start_time": "2021-12-29T13:31:19.998Z"
   },
   {
    "duration": 26,
    "start_time": "2021-12-29T13:31:20.216Z"
   },
   {
    "duration": 433,
    "start_time": "2021-12-29T13:31:20.245Z"
   },
   {
    "duration": 328,
    "start_time": "2021-12-29T13:31:20.681Z"
   },
   {
    "duration": 216,
    "start_time": "2021-12-29T13:31:21.012Z"
   },
   {
    "duration": 120,
    "start_time": "2021-12-29T13:31:21.231Z"
   },
   {
    "duration": 77,
    "start_time": "2021-12-29T13:31:21.354Z"
   },
   {
    "duration": 352,
    "start_time": "2021-12-29T13:31:21.434Z"
   },
   {
    "duration": 340,
    "start_time": "2021-12-29T13:31:21.789Z"
   },
   {
    "duration": 398,
    "start_time": "2021-12-29T13:31:22.133Z"
   },
   {
    "duration": 289,
    "start_time": "2021-12-29T13:31:22.533Z"
   },
   {
    "duration": 300,
    "start_time": "2021-12-29T13:32:52.967Z"
   },
   {
    "duration": 331,
    "start_time": "2021-12-29T13:33:29.230Z"
   },
   {
    "duration": 820,
    "start_time": "2021-12-30T10:36:12.375Z"
   },
   {
    "duration": 10,
    "start_time": "2021-12-30T10:36:13.197Z"
   },
   {
    "duration": 26,
    "start_time": "2021-12-30T10:36:13.211Z"
   },
   {
    "duration": 213,
    "start_time": "2021-12-30T10:36:13.240Z"
   },
   {
    "duration": 27,
    "start_time": "2021-12-30T10:36:13.459Z"
   },
   {
    "duration": 139,
    "start_time": "2021-12-30T10:36:13.488Z"
   },
   {
    "duration": 30,
    "start_time": "2021-12-30T10:36:13.629Z"
   },
   {
    "duration": 196,
    "start_time": "2021-12-30T10:36:13.663Z"
   },
   {
    "duration": 24,
    "start_time": "2021-12-30T10:36:13.861Z"
   },
   {
    "duration": 423,
    "start_time": "2021-12-30T10:36:13.887Z"
   },
   {
    "duration": 306,
    "start_time": "2021-12-30T10:36:14.313Z"
   },
   {
    "duration": 193,
    "start_time": "2021-12-30T10:36:14.621Z"
   },
   {
    "duration": 107,
    "start_time": "2021-12-30T10:36:14.817Z"
   },
   {
    "duration": 82,
    "start_time": "2021-12-30T10:36:14.926Z"
   },
   {
    "duration": 387,
    "start_time": "2021-12-30T10:36:15.010Z"
   },
   {
    "duration": 307,
    "start_time": "2021-12-30T10:36:15.400Z"
   },
   {
    "duration": 305,
    "start_time": "2021-12-30T10:36:15.710Z"
   },
   {
    "duration": 488,
    "start_time": "2021-12-30T10:36:16.018Z"
   },
   {
    "duration": 353,
    "start_time": "2021-12-30T10:36:16.509Z"
   },
   {
    "duration": 10573,
    "start_time": "2021-12-30T10:36:16.865Z"
   },
   {
    "duration": -71,
    "start_time": "2021-12-30T10:36:27.511Z"
   },
   {
    "duration": 45,
    "start_time": "2021-12-30T10:36:56.824Z"
   },
   {
    "duration": 8,
    "start_time": "2021-12-30T10:36:56.872Z"
   },
   {
    "duration": 28,
    "start_time": "2021-12-30T10:36:56.882Z"
   },
   {
    "duration": 225,
    "start_time": "2021-12-30T10:36:56.913Z"
   },
   {
    "duration": 35,
    "start_time": "2021-12-30T10:36:57.141Z"
   },
   {
    "duration": 125,
    "start_time": "2021-12-30T10:36:57.179Z"
   },
   {
    "duration": 19,
    "start_time": "2021-12-30T10:36:57.307Z"
   },
   {
    "duration": 188,
    "start_time": "2021-12-30T10:36:57.330Z"
   },
   {
    "duration": 23,
    "start_time": "2021-12-30T10:36:57.521Z"
   },
   {
    "duration": 387,
    "start_time": "2021-12-30T10:36:57.560Z"
   },
   {
    "duration": 299,
    "start_time": "2021-12-30T10:36:57.949Z"
   },
   {
    "duration": 188,
    "start_time": "2021-12-30T10:36:58.250Z"
   },
   {
    "duration": 95,
    "start_time": "2021-12-30T10:36:58.441Z"
   },
   {
    "duration": 76,
    "start_time": "2021-12-30T10:36:58.539Z"
   },
   {
    "duration": 302,
    "start_time": "2021-12-30T10:36:58.617Z"
   },
   {
    "duration": 291,
    "start_time": "2021-12-30T10:36:58.921Z"
   },
   {
    "duration": 288,
    "start_time": "2021-12-30T10:36:59.214Z"
   },
   {
    "duration": 295,
    "start_time": "2021-12-30T10:36:59.504Z"
   },
   {
    "duration": 299,
    "start_time": "2021-12-30T10:36:59.801Z"
   },
   {
    "duration": 308,
    "start_time": "2021-12-30T10:37:00.103Z"
   },
   {
    "duration": 351,
    "start_time": "2021-12-30T10:37:00.415Z"
   },
   {
    "duration": 290,
    "start_time": "2021-12-30T10:48:05.031Z"
   },
   {
    "duration": 357,
    "start_time": "2021-12-30T10:48:08.125Z"
   },
   {
    "duration": 269,
    "start_time": "2021-12-30T10:48:10.011Z"
   },
   {
    "duration": 1059,
    "start_time": "2021-12-30T12:37:23.075Z"
   },
   {
    "duration": 348,
    "start_time": "2021-12-30T12:37:25.687Z"
   },
   {
    "duration": 10,
    "start_time": "2021-12-30T12:37:26.038Z"
   },
   {
    "duration": 27,
    "start_time": "2021-12-30T12:37:26.051Z"
   },
   {
    "duration": 215,
    "start_time": "2021-12-30T12:37:26.081Z"
   },
   {
    "duration": 26,
    "start_time": "2021-12-30T12:37:26.299Z"
   },
   {
    "duration": 141,
    "start_time": "2021-12-30T12:37:26.327Z"
   },
   {
    "duration": 21,
    "start_time": "2021-12-30T12:37:26.471Z"
   },
   {
    "duration": 197,
    "start_time": "2021-12-30T12:37:26.502Z"
   },
   {
    "duration": 22,
    "start_time": "2021-12-30T12:37:26.702Z"
   },
   {
    "duration": 429,
    "start_time": "2021-12-30T12:37:26.726Z"
   },
   {
    "duration": 304,
    "start_time": "2021-12-30T12:37:27.158Z"
   },
   {
    "duration": 189,
    "start_time": "2021-12-30T12:37:27.465Z"
   },
   {
    "duration": 107,
    "start_time": "2021-12-30T12:37:27.659Z"
   },
   {
    "duration": 11,
    "start_time": "2021-12-30T12:37:27.769Z"
   },
   {
    "duration": 317,
    "start_time": "2021-12-30T12:37:27.782Z"
   },
   {
    "duration": 287,
    "start_time": "2021-12-30T12:37:28.101Z"
   },
   {
    "duration": 294,
    "start_time": "2021-12-30T12:37:28.390Z"
   },
   {
    "duration": 363,
    "start_time": "2021-12-30T12:37:28.686Z"
   },
   {
    "duration": 319,
    "start_time": "2021-12-30T12:37:29.052Z"
   },
   {
    "duration": 293,
    "start_time": "2021-12-30T12:37:29.375Z"
   },
   {
    "duration": 316,
    "start_time": "2021-12-30T12:37:29.671Z"
   },
   {
    "duration": 311,
    "start_time": "2021-12-30T12:37:29.991Z"
   },
   {
    "duration": 375,
    "start_time": "2021-12-30T12:37:30.308Z"
   },
   {
    "duration": 309,
    "start_time": "2021-12-30T12:37:59.555Z"
   },
   {
    "duration": 281,
    "start_time": "2021-12-30T12:38:02.594Z"
   },
   {
    "duration": 63,
    "start_time": "2021-12-30T12:53:22.145Z"
   },
   {
    "duration": 9,
    "start_time": "2021-12-30T12:53:22.211Z"
   },
   {
    "duration": 33,
    "start_time": "2021-12-30T12:53:22.223Z"
   },
   {
    "duration": 218,
    "start_time": "2021-12-30T12:53:22.259Z"
   },
   {
    "duration": 28,
    "start_time": "2021-12-30T12:53:22.479Z"
   },
   {
    "duration": 136,
    "start_time": "2021-12-30T12:53:22.510Z"
   },
   {
    "duration": 23,
    "start_time": "2021-12-30T12:53:22.649Z"
   },
   {
    "duration": 200,
    "start_time": "2021-12-30T12:53:22.675Z"
   },
   {
    "duration": 24,
    "start_time": "2021-12-30T12:53:22.879Z"
   },
   {
    "duration": 549,
    "start_time": "2021-12-30T12:53:22.906Z"
   },
   {
    "duration": 836,
    "start_time": "2021-12-30T12:53:22.621Z"
   },
   {
    "duration": 835,
    "start_time": "2021-12-30T12:53:22.624Z"
   },
   {
    "duration": 834,
    "start_time": "2021-12-30T12:53:22.626Z"
   },
   {
    "duration": 834,
    "start_time": "2021-12-30T12:53:22.628Z"
   },
   {
    "duration": 833,
    "start_time": "2021-12-30T12:53:22.630Z"
   },
   {
    "duration": 832,
    "start_time": "2021-12-30T12:53:22.632Z"
   },
   {
    "duration": 832,
    "start_time": "2021-12-30T12:53:22.634Z"
   },
   {
    "duration": 831,
    "start_time": "2021-12-30T12:53:22.636Z"
   },
   {
    "duration": 830,
    "start_time": "2021-12-30T12:53:22.638Z"
   },
   {
    "duration": 830,
    "start_time": "2021-12-30T12:53:22.640Z"
   },
   {
    "duration": 830,
    "start_time": "2021-12-30T12:53:22.641Z"
   },
   {
    "duration": 829,
    "start_time": "2021-12-30T12:53:22.643Z"
   },
   {
    "duration": 830,
    "start_time": "2021-12-30T12:53:22.644Z"
   },
   {
    "duration": 56,
    "start_time": "2021-12-30T12:53:46.789Z"
   },
   {
    "duration": 9,
    "start_time": "2021-12-30T12:53:46.847Z"
   },
   {
    "duration": 27,
    "start_time": "2021-12-30T12:53:46.858Z"
   },
   {
    "duration": 200,
    "start_time": "2021-12-30T12:53:46.889Z"
   },
   {
    "duration": 29,
    "start_time": "2021-12-30T12:53:47.092Z"
   },
   {
    "duration": 131,
    "start_time": "2021-12-30T12:53:47.124Z"
   },
   {
    "duration": 21,
    "start_time": "2021-12-30T12:53:47.260Z"
   },
   {
    "duration": 194,
    "start_time": "2021-12-30T12:53:47.287Z"
   },
   {
    "duration": 22,
    "start_time": "2021-12-30T12:53:47.485Z"
   },
   {
    "duration": 418,
    "start_time": "2021-12-30T12:53:47.510Z"
   },
   {
    "duration": 313,
    "start_time": "2021-12-30T12:53:47.930Z"
   },
   {
    "duration": 181,
    "start_time": "2021-12-30T12:53:48.245Z"
   },
   {
    "duration": 101,
    "start_time": "2021-12-30T12:53:48.429Z"
   },
   {
    "duration": 10,
    "start_time": "2021-12-30T12:53:48.533Z"
   },
   {
    "duration": 299,
    "start_time": "2021-12-30T12:53:48.560Z"
   },
   {
    "duration": 305,
    "start_time": "2021-12-30T12:53:48.862Z"
   },
   {
    "duration": 368,
    "start_time": "2021-12-30T12:53:49.169Z"
   },
   {
    "duration": 300,
    "start_time": "2021-12-30T12:53:49.539Z"
   },
   {
    "duration": 310,
    "start_time": "2021-12-30T12:53:49.841Z"
   },
   {
    "duration": 290,
    "start_time": "2021-12-30T12:53:50.158Z"
   },
   {
    "duration": 302,
    "start_time": "2021-12-30T12:53:50.451Z"
   },
   {
    "duration": 304,
    "start_time": "2021-12-30T12:53:50.760Z"
   },
   {
    "duration": 286,
    "start_time": "2021-12-30T12:53:51.068Z"
   },
   {
    "duration": 324,
    "start_time": "2021-12-30T12:54:33.181Z"
   },
   {
    "duration": 60,
    "start_time": "2021-12-30T12:55:39.849Z"
   },
   {
    "duration": 9,
    "start_time": "2021-12-30T12:55:39.912Z"
   },
   {
    "duration": 28,
    "start_time": "2021-12-30T12:55:39.924Z"
   },
   {
    "duration": 225,
    "start_time": "2021-12-30T12:55:39.955Z"
   },
   {
    "duration": 26,
    "start_time": "2021-12-30T12:55:40.183Z"
   },
   {
    "duration": 129,
    "start_time": "2021-12-30T12:55:40.211Z"
   },
   {
    "duration": 27,
    "start_time": "2021-12-30T12:55:40.342Z"
   },
   {
    "duration": 219,
    "start_time": "2021-12-30T12:55:40.374Z"
   },
   {
    "duration": 24,
    "start_time": "2021-12-30T12:55:40.597Z"
   },
   {
    "duration": 421,
    "start_time": "2021-12-30T12:55:40.624Z"
   },
   {
    "duration": 311,
    "start_time": "2021-12-30T12:55:41.048Z"
   },
   {
    "duration": 189,
    "start_time": "2021-12-30T12:55:41.362Z"
   },
   {
    "duration": 95,
    "start_time": "2021-12-30T12:55:41.553Z"
   },
   {
    "duration": 18,
    "start_time": "2021-12-30T12:55:41.650Z"
   },
   {
    "duration": 299,
    "start_time": "2021-12-30T12:55:41.670Z"
   },
   {
    "duration": 295,
    "start_time": "2021-12-30T12:55:41.972Z"
   },
   {
    "duration": 392,
    "start_time": "2021-12-30T12:55:42.270Z"
   },
   {
    "duration": 333,
    "start_time": "2021-12-30T12:55:42.664Z"
   },
   {
    "duration": 304,
    "start_time": "2021-12-30T12:55:43.000Z"
   },
   {
    "duration": 293,
    "start_time": "2021-12-30T12:55:43.306Z"
   },
   {
    "duration": 327,
    "start_time": "2021-12-30T12:55:43.601Z"
   },
   {
    "duration": 308,
    "start_time": "2021-12-30T12:55:43.931Z"
   },
   {
    "duration": 291,
    "start_time": "2021-12-30T12:55:44.243Z"
   },
   {
    "duration": 291,
    "start_time": "2021-12-30T13:04:15.624Z"
   },
   {
    "duration": 408,
    "start_time": "2021-12-30T13:04:18.014Z"
   },
   {
    "duration": 291,
    "start_time": "2021-12-30T13:04:20.550Z"
   },
   {
    "duration": 590,
    "start_time": "2022-01-05T12:59:37.746Z"
   },
   {
    "duration": 6,
    "start_time": "2022-01-05T12:59:38.337Z"
   },
   {
    "duration": 34,
    "start_time": "2022-01-05T12:59:38.345Z"
   },
   {
    "duration": 148,
    "start_time": "2022-01-05T12:59:38.381Z"
   },
   {
    "duration": 18,
    "start_time": "2022-01-05T12:59:38.530Z"
   },
   {
    "duration": 86,
    "start_time": "2022-01-05T12:59:38.550Z"
   },
   {
    "duration": 13,
    "start_time": "2022-01-05T12:59:38.637Z"
   },
   {
    "duration": 128,
    "start_time": "2022-01-05T12:59:38.651Z"
   },
   {
    "duration": 17,
    "start_time": "2022-01-05T12:59:38.781Z"
   },
   {
    "duration": 251,
    "start_time": "2022-01-05T12:59:38.800Z"
   },
   {
    "duration": 183,
    "start_time": "2022-01-05T12:59:39.053Z"
   },
   {
    "duration": 121,
    "start_time": "2022-01-05T12:59:39.241Z"
   },
   {
    "duration": 50,
    "start_time": "2022-01-05T12:59:39.364Z"
   },
   {
    "duration": 7,
    "start_time": "2022-01-05T12:59:39.415Z"
   },
   {
    "duration": 242,
    "start_time": "2022-01-05T12:59:39.424Z"
   },
   {
    "duration": 169,
    "start_time": "2022-01-05T12:59:39.668Z"
   },
   {
    "duration": 175,
    "start_time": "2022-01-05T12:59:39.838Z"
   },
   {
    "duration": 212,
    "start_time": "2022-01-05T12:59:40.015Z"
   },
   {
    "duration": 169,
    "start_time": "2022-01-05T12:59:40.228Z"
   },
   {
    "duration": 163,
    "start_time": "2022-01-05T12:59:40.398Z"
   },
   {
    "duration": 169,
    "start_time": "2022-01-05T12:59:40.562Z"
   },
   {
    "duration": 162,
    "start_time": "2022-01-05T12:59:40.740Z"
   },
   {
    "duration": 158,
    "start_time": "2022-01-05T12:59:40.903Z"
   },
   {
    "duration": 119,
    "start_time": "2022-01-05T13:00:50.239Z"
   },
   {
    "duration": 36,
    "start_time": "2022-01-05T13:06:47.665Z"
   },
   {
    "duration": 9,
    "start_time": "2022-01-05T13:06:47.703Z"
   },
   {
    "duration": 24,
    "start_time": "2022-01-05T13:06:47.713Z"
   },
   {
    "duration": 149,
    "start_time": "2022-01-05T13:06:47.738Z"
   },
   {
    "duration": 19,
    "start_time": "2022-01-05T13:06:47.888Z"
   },
   {
    "duration": 97,
    "start_time": "2022-01-05T13:06:47.908Z"
   },
   {
    "duration": 12,
    "start_time": "2022-01-05T13:06:48.007Z"
   },
   {
    "duration": 136,
    "start_time": "2022-01-05T13:06:48.022Z"
   },
   {
    "duration": 15,
    "start_time": "2022-01-05T13:06:48.159Z"
   },
   {
    "duration": 236,
    "start_time": "2022-01-05T13:06:48.176Z"
   },
   {
    "duration": 192,
    "start_time": "2022-01-05T13:06:48.414Z"
   },
   {
    "duration": 115,
    "start_time": "2022-01-05T13:06:48.607Z"
   },
   {
    "duration": 54,
    "start_time": "2022-01-05T13:06:48.724Z"
   },
   {
    "duration": 7,
    "start_time": "2022-01-05T13:06:48.779Z"
   },
   {
    "duration": 170,
    "start_time": "2022-01-05T13:06:48.788Z"
   },
   {
    "duration": 166,
    "start_time": "2022-01-05T13:06:48.960Z"
   },
   {
    "duration": 171,
    "start_time": "2022-01-05T13:06:49.127Z"
   },
   {
    "duration": 238,
    "start_time": "2022-01-05T13:06:49.299Z"
   },
   {
    "duration": 448,
    "start_time": "2022-01-05T13:06:49.539Z"
   },
   {
    "duration": -1217,
    "start_time": "2022-01-05T13:06:51.206Z"
   },
   {
    "duration": -1220,
    "start_time": "2022-01-05T13:06:51.210Z"
   },
   {
    "duration": -1225,
    "start_time": "2022-01-05T13:06:51.217Z"
   },
   {
    "duration": -1227,
    "start_time": "2022-01-05T13:06:51.220Z"
   },
   {
    "duration": -1228,
    "start_time": "2022-01-05T13:06:51.222Z"
   },
   {
    "duration": 36,
    "start_time": "2022-01-05T13:07:18.419Z"
   },
   {
    "duration": 8,
    "start_time": "2022-01-05T13:07:18.457Z"
   },
   {
    "duration": 26,
    "start_time": "2022-01-05T13:07:18.466Z"
   },
   {
    "duration": 146,
    "start_time": "2022-01-05T13:07:18.495Z"
   },
   {
    "duration": 19,
    "start_time": "2022-01-05T13:07:18.643Z"
   },
   {
    "duration": 88,
    "start_time": "2022-01-05T13:07:18.664Z"
   },
   {
    "duration": 13,
    "start_time": "2022-01-05T13:07:18.753Z"
   },
   {
    "duration": 134,
    "start_time": "2022-01-05T13:07:18.768Z"
   },
   {
    "duration": 15,
    "start_time": "2022-01-05T13:07:18.903Z"
   },
   {
    "duration": 243,
    "start_time": "2022-01-05T13:07:18.919Z"
   },
   {
    "duration": 180,
    "start_time": "2022-01-05T13:07:19.164Z"
   },
   {
    "duration": 118,
    "start_time": "2022-01-05T13:07:19.346Z"
   },
   {
    "duration": 52,
    "start_time": "2022-01-05T13:07:19.466Z"
   },
   {
    "duration": 22,
    "start_time": "2022-01-05T13:07:19.519Z"
   },
   {
    "duration": 167,
    "start_time": "2022-01-05T13:07:19.542Z"
   },
   {
    "duration": 165,
    "start_time": "2022-01-05T13:07:19.710Z"
   },
   {
    "duration": 179,
    "start_time": "2022-01-05T13:07:19.877Z"
   },
   {
    "duration": 173,
    "start_time": "2022-01-05T13:07:20.058Z"
   },
   {
    "duration": 169,
    "start_time": "2022-01-05T13:07:20.240Z"
   },
   {
    "duration": 171,
    "start_time": "2022-01-05T13:07:20.410Z"
   },
   {
    "duration": 173,
    "start_time": "2022-01-05T13:07:20.583Z"
   },
   {
    "duration": 170,
    "start_time": "2022-01-05T13:07:20.757Z"
   },
   {
    "duration": 318,
    "start_time": "2022-01-05T13:07:20.928Z"
   },
   {
    "duration": -1216,
    "start_time": "2022-01-05T13:07:22.463Z"
   },
   {
    "duration": 38,
    "start_time": "2022-01-05T13:08:53.393Z"
   },
   {
    "duration": 8,
    "start_time": "2022-01-05T13:08:53.433Z"
   },
   {
    "duration": 22,
    "start_time": "2022-01-05T13:08:53.443Z"
   },
   {
    "duration": 155,
    "start_time": "2022-01-05T13:08:53.467Z"
   },
   {
    "duration": 24,
    "start_time": "2022-01-05T13:08:53.624Z"
   },
   {
    "duration": 98,
    "start_time": "2022-01-05T13:08:53.649Z"
   },
   {
    "duration": 15,
    "start_time": "2022-01-05T13:08:53.749Z"
   },
   {
    "duration": 135,
    "start_time": "2022-01-05T13:08:53.767Z"
   },
   {
    "duration": 15,
    "start_time": "2022-01-05T13:08:53.904Z"
   },
   {
    "duration": 246,
    "start_time": "2022-01-05T13:08:53.921Z"
   },
   {
    "duration": 192,
    "start_time": "2022-01-05T13:08:54.169Z"
   },
   {
    "duration": 117,
    "start_time": "2022-01-05T13:08:54.362Z"
   },
   {
    "duration": 50,
    "start_time": "2022-01-05T13:08:54.481Z"
   },
   {
    "duration": 7,
    "start_time": "2022-01-05T13:08:54.541Z"
   },
   {
    "duration": 165,
    "start_time": "2022-01-05T13:08:54.550Z"
   },
   {
    "duration": 227,
    "start_time": "2022-01-05T13:08:54.717Z"
   },
   {
    "duration": 176,
    "start_time": "2022-01-05T13:08:54.946Z"
   },
   {
    "duration": 186,
    "start_time": "2022-01-05T13:08:55.124Z"
   },
   {
    "duration": 178,
    "start_time": "2022-01-05T13:08:55.312Z"
   },
   {
    "duration": 168,
    "start_time": "2022-01-05T13:08:55.492Z"
   },
   {
    "duration": 172,
    "start_time": "2022-01-05T13:08:55.661Z"
   },
   {
    "duration": 164,
    "start_time": "2022-01-05T13:08:55.835Z"
   },
   {
    "duration": 162,
    "start_time": "2022-01-05T13:08:56.002Z"
   },
   {
    "duration": 380,
    "start_time": "2022-01-05T13:08:56.166Z"
   },
   {
    "duration": 109,
    "start_time": "2022-01-05T13:09:12.253Z"
   },
   {
    "duration": 137,
    "start_time": "2022-01-05T13:09:49.318Z"
   },
   {
    "duration": 188,
    "start_time": "2022-01-05T13:10:04.832Z"
   },
   {
    "duration": 228,
    "start_time": "2022-01-07T09:09:58.164Z"
   },
   {
    "duration": 602,
    "start_time": "2022-01-07T09:10:00.917Z"
   },
   {
    "duration": 7,
    "start_time": "2022-01-07T09:10:01.521Z"
   },
   {
    "duration": 42,
    "start_time": "2022-01-07T09:10:01.530Z"
   },
   {
    "duration": 177,
    "start_time": "2022-01-07T09:10:01.574Z"
   },
   {
    "duration": 20,
    "start_time": "2022-01-07T09:10:01.752Z"
   },
   {
    "duration": 95,
    "start_time": "2022-01-07T09:10:01.774Z"
   },
   {
    "duration": 21,
    "start_time": "2022-01-07T09:10:01.870Z"
   },
   {
    "duration": 155,
    "start_time": "2022-01-07T09:10:01.894Z"
   },
   {
    "duration": 17,
    "start_time": "2022-01-07T09:10:02.051Z"
   },
   {
    "duration": 293,
    "start_time": "2022-01-07T09:10:02.070Z"
   },
   {
    "duration": 214,
    "start_time": "2022-01-07T09:10:02.365Z"
   },
   {
    "duration": 128,
    "start_time": "2022-01-07T09:10:02.581Z"
   },
   {
    "duration": 54,
    "start_time": "2022-01-07T09:10:02.710Z"
   },
   {
    "duration": 28,
    "start_time": "2022-01-07T09:10:02.766Z"
   },
   {
    "duration": 258,
    "start_time": "2022-01-07T09:10:02.795Z"
   },
   {
    "duration": 205,
    "start_time": "2022-01-07T09:10:03.056Z"
   },
   {
    "duration": 222,
    "start_time": "2022-01-07T09:10:03.264Z"
   },
   {
    "duration": 243,
    "start_time": "2022-01-07T09:10:03.488Z"
   },
   {
    "duration": 202,
    "start_time": "2022-01-07T09:10:03.733Z"
   },
   {
    "duration": 195,
    "start_time": "2022-01-07T09:10:03.936Z"
   },
   {
    "duration": 201,
    "start_time": "2022-01-07T09:10:04.133Z"
   },
   {
    "duration": 199,
    "start_time": "2022-01-07T09:10:04.336Z"
   },
   {
    "duration": 192,
    "start_time": "2022-01-07T09:10:04.539Z"
   },
   {
    "duration": 3,
    "start_time": "2022-01-07T10:13:56.368Z"
   },
   {
    "duration": 647,
    "start_time": "2022-01-07T10:22:20.435Z"
   },
   {
    "duration": 189,
    "start_time": "2022-01-07T10:22:33.932Z"
   },
   {
    "duration": 5,
    "start_time": "2022-01-07T10:22:51.885Z"
   },
   {
    "duration": 6,
    "start_time": "2022-01-07T10:23:03.626Z"
   },
   {
    "duration": 8,
    "start_time": "2022-01-07T10:30:02.714Z"
   },
   {
    "duration": 6,
    "start_time": "2022-01-07T10:33:10.646Z"
   },
   {
    "duration": 5,
    "start_time": "2022-01-07T10:35:52.975Z"
   },
   {
    "duration": 5,
    "start_time": "2022-01-07T10:36:01.861Z"
   },
   {
    "duration": 32,
    "start_time": "2022-01-07T10:50:01.785Z"
   },
   {
    "duration": 29,
    "start_time": "2022-01-07T10:50:01.789Z"
   },
   {
    "duration": 29,
    "start_time": "2022-01-07T10:50:01.790Z"
   },
   {
    "duration": 28,
    "start_time": "2022-01-07T10:50:01.792Z"
   },
   {
    "duration": 27,
    "start_time": "2022-01-07T10:50:01.794Z"
   },
   {
    "duration": 26,
    "start_time": "2022-01-07T10:50:01.796Z"
   },
   {
    "duration": 25,
    "start_time": "2022-01-07T10:50:01.798Z"
   },
   {
    "duration": 25,
    "start_time": "2022-01-07T10:50:01.799Z"
   },
   {
    "duration": 24,
    "start_time": "2022-01-07T10:50:01.801Z"
   },
   {
    "duration": 24,
    "start_time": "2022-01-07T10:50:01.802Z"
   },
   {
    "duration": 19,
    "start_time": "2022-01-07T10:50:01.808Z"
   },
   {
    "duration": 18,
    "start_time": "2022-01-07T10:50:01.810Z"
   },
   {
    "duration": 18,
    "start_time": "2022-01-07T10:50:01.811Z"
   },
   {
    "duration": 17,
    "start_time": "2022-01-07T10:50:01.813Z"
   },
   {
    "duration": 17,
    "start_time": "2022-01-07T10:50:01.814Z"
   },
   {
    "duration": 17,
    "start_time": "2022-01-07T10:50:01.815Z"
   },
   {
    "duration": 3,
    "start_time": "2022-01-07T10:50:01.830Z"
   },
   {
    "duration": 3,
    "start_time": "2022-01-07T10:50:01.831Z"
   },
   {
    "duration": 2,
    "start_time": "2022-01-07T10:50:01.833Z"
   },
   {
    "duration": 2,
    "start_time": "2022-01-07T10:50:01.834Z"
   },
   {
    "duration": 1,
    "start_time": "2022-01-07T10:50:01.836Z"
   },
   {
    "duration": 2,
    "start_time": "2022-01-07T10:50:01.837Z"
   },
   {
    "duration": 2,
    "start_time": "2022-01-07T10:50:01.838Z"
   },
   {
    "duration": 2,
    "start_time": "2022-01-07T10:50:01.839Z"
   },
   {
    "duration": 1,
    "start_time": "2022-01-07T10:50:01.841Z"
   },
   {
    "duration": 1,
    "start_time": "2022-01-07T10:50:01.842Z"
   },
   {
    "duration": 1,
    "start_time": "2022-01-07T10:50:01.843Z"
   },
   {
    "duration": 1,
    "start_time": "2022-01-07T10:50:01.844Z"
   },
   {
    "duration": 62,
    "start_time": "2022-01-07T10:50:12.241Z"
   },
   {
    "duration": 6,
    "start_time": "2022-01-07T10:50:12.306Z"
   },
   {
    "duration": 31,
    "start_time": "2022-01-07T10:50:12.315Z"
   },
   {
    "duration": 168,
    "start_time": "2022-01-07T10:50:12.349Z"
   },
   {
    "duration": 19,
    "start_time": "2022-01-07T10:50:12.518Z"
   },
   {
    "duration": 101,
    "start_time": "2022-01-07T10:50:12.539Z"
   },
   {
    "duration": 14,
    "start_time": "2022-01-07T10:50:12.641Z"
   },
   {
    "duration": 136,
    "start_time": "2022-01-07T10:50:12.657Z"
   },
   {
    "duration": 16,
    "start_time": "2022-01-07T10:50:12.796Z"
   },
   {
    "duration": 279,
    "start_time": "2022-01-07T10:50:12.814Z"
   },
   {
    "duration": 227,
    "start_time": "2022-01-07T10:50:13.096Z"
   },
   {
    "duration": 134,
    "start_time": "2022-01-07T10:50:13.325Z"
   },
   {
    "duration": 48,
    "start_time": "2022-01-07T10:50:13.461Z"
   },
   {
    "duration": 8,
    "start_time": "2022-01-07T10:50:13.511Z"
   },
   {
    "duration": 202,
    "start_time": "2022-01-07T10:50:13.521Z"
   },
   {
    "duration": 193,
    "start_time": "2022-01-07T10:50:13.725Z"
   },
   {
    "duration": 204,
    "start_time": "2022-01-07T10:50:13.920Z"
   },
   {
    "duration": 207,
    "start_time": "2022-01-07T10:50:14.125Z"
   },
   {
    "duration": 207,
    "start_time": "2022-01-07T10:50:14.334Z"
   },
   {
    "duration": 209,
    "start_time": "2022-01-07T10:50:14.543Z"
   },
   {
    "duration": 227,
    "start_time": "2022-01-07T10:50:14.754Z"
   },
   {
    "duration": 202,
    "start_time": "2022-01-07T10:50:14.983Z"
   },
   {
    "duration": 190,
    "start_time": "2022-01-07T10:50:15.187Z"
   },
   {
    "duration": 6017,
    "start_time": "2022-01-07T10:50:15.379Z"
   },
   {
    "duration": 29,
    "start_time": "2022-01-07T10:50:21.370Z"
   },
   {
    "duration": 28,
    "start_time": "2022-01-07T10:50:21.372Z"
   },
   {
    "duration": 27,
    "start_time": "2022-01-07T10:50:21.374Z"
   },
   {
    "duration": 26,
    "start_time": "2022-01-07T10:50:21.376Z"
   },
   {
    "duration": 56,
    "start_time": "2022-01-07T10:50:57.852Z"
   },
   {
    "duration": 19,
    "start_time": "2022-01-07T10:51:26.492Z"
   },
   {
    "duration": 13,
    "start_time": "2022-01-07T10:51:26.499Z"
   },
   {
    "duration": 9,
    "start_time": "2022-01-07T10:51:26.504Z"
   },
   {
    "duration": 8,
    "start_time": "2022-01-07T10:51:26.506Z"
   },
   {
    "duration": 6,
    "start_time": "2022-01-07T10:51:26.509Z"
   },
   {
    "duration": 5,
    "start_time": "2022-01-07T10:51:26.511Z"
   },
   {
    "duration": 3,
    "start_time": "2022-01-07T10:51:26.514Z"
   },
   {
    "duration": 2,
    "start_time": "2022-01-07T10:51:26.516Z"
   },
   {
    "duration": 0,
    "start_time": "2022-01-07T10:51:26.519Z"
   },
   {
    "duration": -1,
    "start_time": "2022-01-07T10:51:26.521Z"
   },
   {
    "duration": -3,
    "start_time": "2022-01-07T10:51:26.524Z"
   },
   {
    "duration": -5,
    "start_time": "2022-01-07T10:51:26.527Z"
   },
   {
    "duration": -6,
    "start_time": "2022-01-07T10:51:26.529Z"
   },
   {
    "duration": -7,
    "start_time": "2022-01-07T10:51:26.531Z"
   },
   {
    "duration": -9,
    "start_time": "2022-01-07T10:51:26.534Z"
   },
   {
    "duration": -9,
    "start_time": "2022-01-07T10:51:26.535Z"
   },
   {
    "duration": -10,
    "start_time": "2022-01-07T10:51:26.537Z"
   },
   {
    "duration": -15,
    "start_time": "2022-01-07T10:51:26.543Z"
   },
   {
    "duration": -15,
    "start_time": "2022-01-07T10:51:26.545Z"
   },
   {
    "duration": -16,
    "start_time": "2022-01-07T10:51:26.547Z"
   },
   {
    "duration": -16,
    "start_time": "2022-01-07T10:51:26.548Z"
   },
   {
    "duration": -18,
    "start_time": "2022-01-07T10:51:26.550Z"
   },
   {
    "duration": -18,
    "start_time": "2022-01-07T10:51:26.551Z"
   },
   {
    "duration": -18,
    "start_time": "2022-01-07T10:51:26.552Z"
   },
   {
    "duration": -18,
    "start_time": "2022-01-07T10:51:26.553Z"
   },
   {
    "duration": -17,
    "start_time": "2022-01-07T10:51:26.554Z"
   },
   {
    "duration": -19,
    "start_time": "2022-01-07T10:51:26.556Z"
   },
   {
    "duration": -19,
    "start_time": "2022-01-07T10:51:26.557Z"
   },
   {
    "duration": 54,
    "start_time": "2022-01-07T10:51:31.972Z"
   },
   {
    "duration": 6,
    "start_time": "2022-01-07T10:51:32.028Z"
   },
   {
    "duration": 22,
    "start_time": "2022-01-07T10:51:32.036Z"
   },
   {
    "duration": 151,
    "start_time": "2022-01-07T10:51:32.060Z"
   },
   {
    "duration": 20,
    "start_time": "2022-01-07T10:51:32.213Z"
   },
   {
    "duration": 98,
    "start_time": "2022-01-07T10:51:32.235Z"
   },
   {
    "duration": 16,
    "start_time": "2022-01-07T10:51:32.335Z"
   },
   {
    "duration": 140,
    "start_time": "2022-01-07T10:51:32.354Z"
   },
   {
    "duration": 24,
    "start_time": "2022-01-07T10:51:32.496Z"
   },
   {
    "duration": 329,
    "start_time": "2022-01-07T10:51:32.522Z"
   },
   {
    "duration": 231,
    "start_time": "2022-01-07T10:51:32.854Z"
   },
   {
    "duration": 135,
    "start_time": "2022-01-07T10:51:33.087Z"
   },
   {
    "duration": 77,
    "start_time": "2022-01-07T10:51:33.225Z"
   },
   {
    "duration": 10,
    "start_time": "2022-01-07T10:51:33.305Z"
   },
   {
    "duration": 211,
    "start_time": "2022-01-07T10:51:33.317Z"
   },
   {
    "duration": 293,
    "start_time": "2022-01-07T10:51:33.530Z"
   },
   {
    "duration": 208,
    "start_time": "2022-01-07T10:51:33.825Z"
   },
   {
    "duration": 211,
    "start_time": "2022-01-07T10:51:34.036Z"
   },
   {
    "duration": 232,
    "start_time": "2022-01-07T10:51:34.248Z"
   },
   {
    "duration": 221,
    "start_time": "2022-01-07T10:51:34.482Z"
   },
   {
    "duration": 217,
    "start_time": "2022-01-07T10:51:34.705Z"
   },
   {
    "duration": 202,
    "start_time": "2022-01-07T10:51:34.924Z"
   },
   {
    "duration": 204,
    "start_time": "2022-01-07T10:51:35.129Z"
   },
   {
    "duration": 5323,
    "start_time": "2022-01-07T10:51:35.335Z"
   },
   {
    "duration": 28,
    "start_time": "2022-01-07T10:51:40.632Z"
   },
   {
    "duration": 27,
    "start_time": "2022-01-07T10:51:40.634Z"
   },
   {
    "duration": 27,
    "start_time": "2022-01-07T10:51:40.635Z"
   },
   {
    "duration": 27,
    "start_time": "2022-01-07T10:51:40.636Z"
   },
   {
    "duration": 21,
    "start_time": "2022-01-07T10:53:07.056Z"
   },
   {
    "duration": 20,
    "start_time": "2022-01-07T10:53:37.299Z"
   },
   {
    "duration": 355,
    "start_time": "2022-01-07T10:54:10.547Z"
   },
   {
    "duration": 354,
    "start_time": "2022-01-07T10:54:30.140Z"
   },
   {
    "duration": 43,
    "start_time": "2022-01-07T10:54:32.286Z"
   },
   {
    "duration": 5,
    "start_time": "2022-01-07T10:54:32.331Z"
   },
   {
    "duration": 22,
    "start_time": "2022-01-07T10:54:32.338Z"
   },
   {
    "duration": 151,
    "start_time": "2022-01-07T10:54:32.362Z"
   },
   {
    "duration": 21,
    "start_time": "2022-01-07T10:54:32.515Z"
   },
   {
    "duration": 98,
    "start_time": "2022-01-07T10:54:32.538Z"
   },
   {
    "duration": 13,
    "start_time": "2022-01-07T10:54:32.638Z"
   },
   {
    "duration": 139,
    "start_time": "2022-01-07T10:54:32.653Z"
   },
   {
    "duration": 17,
    "start_time": "2022-01-07T10:54:32.794Z"
   },
   {
    "duration": 271,
    "start_time": "2022-01-07T10:54:32.813Z"
   },
   {
    "duration": 206,
    "start_time": "2022-01-07T10:54:33.086Z"
   },
   {
    "duration": 120,
    "start_time": "2022-01-07T10:54:33.294Z"
   },
   {
    "duration": 54,
    "start_time": "2022-01-07T10:54:33.416Z"
   },
   {
    "duration": 24,
    "start_time": "2022-01-07T10:54:33.472Z"
   },
   {
    "duration": 190,
    "start_time": "2022-01-07T10:54:33.498Z"
   },
   {
    "duration": 262,
    "start_time": "2022-01-07T10:54:33.692Z"
   },
   {
    "duration": 218,
    "start_time": "2022-01-07T10:54:33.956Z"
   },
   {
    "duration": 203,
    "start_time": "2022-01-07T10:54:34.176Z"
   },
   {
    "duration": 200,
    "start_time": "2022-01-07T10:54:34.381Z"
   },
   {
    "duration": 197,
    "start_time": "2022-01-07T10:54:34.583Z"
   },
   {
    "duration": 194,
    "start_time": "2022-01-07T10:54:34.782Z"
   },
   {
    "duration": 195,
    "start_time": "2022-01-07T10:54:34.978Z"
   },
   {
    "duration": 179,
    "start_time": "2022-01-07T10:54:35.175Z"
   },
   {
    "duration": 356,
    "start_time": "2022-01-07T10:54:35.355Z"
   },
   {
    "duration": 74,
    "start_time": "2022-01-07T10:54:35.639Z"
   },
   {
    "duration": 71,
    "start_time": "2022-01-07T10:54:35.643Z"
   },
   {
    "duration": 68,
    "start_time": "2022-01-07T10:54:35.647Z"
   },
   {
    "duration": 63,
    "start_time": "2022-01-07T10:54:35.652Z"
   },
   {
    "duration": 43,
    "start_time": "2022-01-07T10:54:57.655Z"
   },
   {
    "duration": 5,
    "start_time": "2022-01-07T10:54:57.700Z"
   },
   {
    "duration": 20,
    "start_time": "2022-01-07T10:54:57.707Z"
   },
   {
    "duration": 145,
    "start_time": "2022-01-07T10:54:57.729Z"
   },
   {
    "duration": 23,
    "start_time": "2022-01-07T10:54:57.876Z"
   },
   {
    "duration": 93,
    "start_time": "2022-01-07T10:54:57.901Z"
   },
   {
    "duration": 14,
    "start_time": "2022-01-07T10:54:57.996Z"
   },
   {
    "duration": 160,
    "start_time": "2022-01-07T10:54:58.013Z"
   },
   {
    "duration": 26,
    "start_time": "2022-01-07T10:54:58.175Z"
   },
   {
    "duration": 269,
    "start_time": "2022-01-07T10:54:58.203Z"
   },
   {
    "duration": 197,
    "start_time": "2022-01-07T10:54:58.474Z"
   },
   {
    "duration": 126,
    "start_time": "2022-01-07T10:54:58.673Z"
   },
   {
    "duration": 53,
    "start_time": "2022-01-07T10:54:58.801Z"
   },
   {
    "duration": 7,
    "start_time": "2022-01-07T10:54:58.856Z"
   },
   {
    "duration": 205,
    "start_time": "2022-01-07T10:54:58.864Z"
   },
   {
    "duration": 198,
    "start_time": "2022-01-07T10:54:59.071Z"
   },
   {
    "duration": 286,
    "start_time": "2022-01-07T10:54:59.271Z"
   },
   {
    "duration": 206,
    "start_time": "2022-01-07T10:54:59.559Z"
   },
   {
    "duration": 212,
    "start_time": "2022-01-07T10:54:59.766Z"
   },
   {
    "duration": 227,
    "start_time": "2022-01-07T10:54:59.980Z"
   },
   {
    "duration": 208,
    "start_time": "2022-01-07T10:55:00.209Z"
   },
   {
    "duration": 203,
    "start_time": "2022-01-07T10:55:00.420Z"
   },
   {
    "duration": 192,
    "start_time": "2022-01-07T10:55:00.627Z"
   },
   {
    "duration": 208,
    "start_time": "2022-01-07T10:55:00.822Z"
   },
   {
    "duration": 3,
    "start_time": "2022-01-07T10:55:01.033Z"
   },
   {
    "duration": 33,
    "start_time": "2022-01-07T10:55:01.038Z"
   },
   {
    "duration": 9,
    "start_time": "2022-01-07T10:55:01.074Z"
   },
   {
    "duration": 14,
    "start_time": "2022-01-07T10:55:01.085Z"
   },
   {
    "duration": 192,
    "start_time": "2022-01-07T10:55:25.068Z"
   },
   {
    "duration": 203,
    "start_time": "2022-01-07T10:58:16.391Z"
   },
   {
    "duration": 193,
    "start_time": "2022-01-07T10:59:39.240Z"
   },
   {
    "duration": 265,
    "start_time": "2022-01-07T11:00:40.981Z"
   },
   {
    "duration": 197,
    "start_time": "2022-01-07T11:00:46.097Z"
   },
   {
    "duration": 209,
    "start_time": "2022-01-07T11:08:08.686Z"
   },
   {
    "duration": 203,
    "start_time": "2022-01-07T11:17:22.444Z"
   },
   {
    "duration": 194,
    "start_time": "2022-01-07T11:27:17.937Z"
   },
   {
    "duration": 195,
    "start_time": "2022-01-07T11:27:35.371Z"
   },
   {
    "duration": -13,
    "start_time": "2022-01-07T11:41:08.427Z"
   },
   {
    "duration": -13,
    "start_time": "2022-01-07T11:41:08.428Z"
   },
   {
    "duration": -14,
    "start_time": "2022-01-07T11:41:08.430Z"
   },
   {
    "duration": -14,
    "start_time": "2022-01-07T11:41:08.431Z"
   },
   {
    "duration": -15,
    "start_time": "2022-01-07T11:41:08.433Z"
   },
   {
    "duration": -15,
    "start_time": "2022-01-07T11:41:08.434Z"
   },
   {
    "duration": -16,
    "start_time": "2022-01-07T11:41:08.436Z"
   },
   {
    "duration": -17,
    "start_time": "2022-01-07T11:41:08.437Z"
   },
   {
    "duration": -17,
    "start_time": "2022-01-07T11:41:08.438Z"
   },
   {
    "duration": -17,
    "start_time": "2022-01-07T11:41:08.439Z"
   },
   {
    "duration": -17,
    "start_time": "2022-01-07T11:41:08.440Z"
   },
   {
    "duration": -18,
    "start_time": "2022-01-07T11:41:08.442Z"
   },
   {
    "duration": -18,
    "start_time": "2022-01-07T11:41:08.443Z"
   },
   {
    "duration": -18,
    "start_time": "2022-01-07T11:41:08.444Z"
   },
   {
    "duration": -18,
    "start_time": "2022-01-07T11:41:08.445Z"
   },
   {
    "duration": -19,
    "start_time": "2022-01-07T11:41:08.447Z"
   },
   {
    "duration": -44,
    "start_time": "2022-01-07T11:41:08.472Z"
   },
   {
    "duration": -45,
    "start_time": "2022-01-07T11:41:08.474Z"
   },
   {
    "duration": -45,
    "start_time": "2022-01-07T11:41:08.475Z"
   },
   {
    "duration": -46,
    "start_time": "2022-01-07T11:41:08.477Z"
   },
   {
    "duration": -46,
    "start_time": "2022-01-07T11:41:08.478Z"
   },
   {
    "duration": -47,
    "start_time": "2022-01-07T11:41:08.479Z"
   },
   {
    "duration": -48,
    "start_time": "2022-01-07T11:41:08.481Z"
   },
   {
    "duration": -48,
    "start_time": "2022-01-07T11:41:08.482Z"
   },
   {
    "duration": -48,
    "start_time": "2022-01-07T11:41:08.483Z"
   },
   {
    "duration": -49,
    "start_time": "2022-01-07T11:41:08.485Z"
   },
   {
    "duration": -49,
    "start_time": "2022-01-07T11:41:08.486Z"
   },
   {
    "duration": -50,
    "start_time": "2022-01-07T11:41:08.488Z"
   },
   {
    "duration": -51,
    "start_time": "2022-01-07T11:41:08.489Z"
   },
   {
    "duration": 45,
    "start_time": "2022-01-07T11:41:13.704Z"
   },
   {
    "duration": 7,
    "start_time": "2022-01-07T11:41:13.751Z"
   },
   {
    "duration": 26,
    "start_time": "2022-01-07T11:41:13.761Z"
   },
   {
    "duration": 154,
    "start_time": "2022-01-07T11:41:13.789Z"
   },
   {
    "duration": 20,
    "start_time": "2022-01-07T11:41:13.945Z"
   },
   {
    "duration": 96,
    "start_time": "2022-01-07T11:41:13.966Z"
   },
   {
    "duration": 27,
    "start_time": "2022-01-07T11:41:14.064Z"
   },
   {
    "duration": 141,
    "start_time": "2022-01-07T11:41:14.093Z"
   },
   {
    "duration": 17,
    "start_time": "2022-01-07T11:41:14.237Z"
   },
   {
    "duration": 264,
    "start_time": "2022-01-07T11:41:14.256Z"
   },
   {
    "duration": 215,
    "start_time": "2022-01-07T11:41:14.522Z"
   },
   {
    "duration": 122,
    "start_time": "2022-01-07T11:41:14.739Z"
   },
   {
    "duration": 75,
    "start_time": "2022-01-07T11:41:14.863Z"
   },
   {
    "duration": 9,
    "start_time": "2022-01-07T11:41:14.940Z"
   },
   {
    "duration": 216,
    "start_time": "2022-01-07T11:41:14.951Z"
   },
   {
    "duration": 200,
    "start_time": "2022-01-07T11:41:15.169Z"
   },
   {
    "duration": 210,
    "start_time": "2022-01-07T11:41:15.371Z"
   },
   {
    "duration": 215,
    "start_time": "2022-01-07T11:41:15.583Z"
   },
   {
    "duration": 285,
    "start_time": "2022-01-07T11:41:15.800Z"
   },
   {
    "duration": 199,
    "start_time": "2022-01-07T11:41:16.087Z"
   },
   {
    "duration": 189,
    "start_time": "2022-01-07T11:41:16.291Z"
   },
   {
    "duration": 213,
    "start_time": "2022-01-07T11:41:16.481Z"
   },
   {
    "duration": 204,
    "start_time": "2022-01-07T11:41:16.696Z"
   },
   {
    "duration": 2,
    "start_time": "2022-01-07T11:41:16.902Z"
   },
   {
    "duration": 8,
    "start_time": "2022-01-07T11:41:16.906Z"
   },
   {
    "duration": 10,
    "start_time": "2022-01-07T11:41:16.915Z"
   },
   {
    "duration": 7,
    "start_time": "2022-01-07T11:41:16.928Z"
   },
   {
    "duration": 215,
    "start_time": "2022-01-07T11:41:16.937Z"
   },
   {
    "duration": 246,
    "start_time": "2022-01-07T11:41:17.154Z"
   },
   {
    "duration": 36,
    "start_time": "2022-01-07T11:41:48.994Z"
   },
   {
    "duration": 6,
    "start_time": "2022-01-07T11:41:49.031Z"
   },
   {
    "duration": 21,
    "start_time": "2022-01-07T11:41:49.039Z"
   },
   {
    "duration": 153,
    "start_time": "2022-01-07T11:41:49.062Z"
   },
   {
    "duration": 20,
    "start_time": "2022-01-07T11:41:49.217Z"
   },
   {
    "duration": 100,
    "start_time": "2022-01-07T11:41:49.239Z"
   },
   {
    "duration": 14,
    "start_time": "2022-01-07T11:41:49.340Z"
   },
   {
    "duration": 144,
    "start_time": "2022-01-07T11:41:49.357Z"
   },
   {
    "duration": 16,
    "start_time": "2022-01-07T11:41:49.504Z"
   },
   {
    "duration": 272,
    "start_time": "2022-01-07T11:41:49.521Z"
   },
   {
    "duration": 211,
    "start_time": "2022-01-07T11:41:49.794Z"
   },
   {
    "duration": 131,
    "start_time": "2022-01-07T11:41:50.007Z"
   },
   {
    "duration": 66,
    "start_time": "2022-01-07T11:41:50.140Z"
   },
   {
    "duration": 9,
    "start_time": "2022-01-07T11:41:50.208Z"
   },
   {
    "duration": 202,
    "start_time": "2022-01-07T11:41:50.218Z"
   },
   {
    "duration": 199,
    "start_time": "2022-01-07T11:41:50.422Z"
   },
   {
    "duration": 205,
    "start_time": "2022-01-07T11:41:50.623Z"
   },
   {
    "duration": 281,
    "start_time": "2022-01-07T11:41:50.829Z"
   },
   {
    "duration": 210,
    "start_time": "2022-01-07T11:41:51.111Z"
   },
   {
    "duration": 196,
    "start_time": "2022-01-07T11:41:51.323Z"
   },
   {
    "duration": 197,
    "start_time": "2022-01-07T11:41:51.521Z"
   },
   {
    "duration": 206,
    "start_time": "2022-01-07T11:41:51.720Z"
   },
   {
    "duration": 193,
    "start_time": "2022-01-07T11:41:51.929Z"
   },
   {
    "duration": 3,
    "start_time": "2022-01-07T11:41:52.124Z"
   },
   {
    "duration": 15,
    "start_time": "2022-01-07T11:41:52.129Z"
   },
   {
    "duration": 32,
    "start_time": "2022-01-07T11:41:52.146Z"
   },
   {
    "duration": 19,
    "start_time": "2022-01-07T11:41:52.180Z"
   },
   {
    "duration": 204,
    "start_time": "2022-01-07T11:41:52.201Z"
   },
   {
    "duration": 202,
    "start_time": "2022-01-07T11:41:52.407Z"
   },
   {
    "duration": 45,
    "start_time": "2022-01-07T11:42:32.480Z"
   },
   {
    "duration": 10,
    "start_time": "2022-01-07T11:42:32.527Z"
   },
   {
    "duration": 20,
    "start_time": "2022-01-07T11:42:32.540Z"
   },
   {
    "duration": 158,
    "start_time": "2022-01-07T11:42:32.562Z"
   },
   {
    "duration": 22,
    "start_time": "2022-01-07T11:42:32.722Z"
   },
   {
    "duration": 105,
    "start_time": "2022-01-07T11:42:32.746Z"
   },
   {
    "duration": 15,
    "start_time": "2022-01-07T11:42:32.852Z"
   },
   {
    "duration": 145,
    "start_time": "2022-01-07T11:42:32.870Z"
   },
   {
    "duration": 18,
    "start_time": "2022-01-07T11:42:33.017Z"
   },
   {
    "duration": 297,
    "start_time": "2022-01-07T11:42:33.037Z"
   },
   {
    "duration": 206,
    "start_time": "2022-01-07T11:42:33.335Z"
   },
   {
    "duration": 132,
    "start_time": "2022-01-07T11:42:33.544Z"
   },
   {
    "duration": 61,
    "start_time": "2022-01-07T11:42:33.677Z"
   },
   {
    "duration": 8,
    "start_time": "2022-01-07T11:42:33.740Z"
   },
   {
    "duration": 204,
    "start_time": "2022-01-07T11:42:33.749Z"
   },
   {
    "duration": 201,
    "start_time": "2022-01-07T11:42:33.955Z"
   },
   {
    "duration": 291,
    "start_time": "2022-01-07T11:42:34.158Z"
   },
   {
    "duration": 214,
    "start_time": "2022-01-07T11:42:34.450Z"
   },
   {
    "duration": 205,
    "start_time": "2022-01-07T11:42:34.666Z"
   },
   {
    "duration": 201,
    "start_time": "2022-01-07T11:42:34.872Z"
   },
   {
    "duration": 196,
    "start_time": "2022-01-07T11:42:35.075Z"
   },
   {
    "duration": 199,
    "start_time": "2022-01-07T11:42:35.273Z"
   },
   {
    "duration": 202,
    "start_time": "2022-01-07T11:42:35.475Z"
   },
   {
    "duration": 3,
    "start_time": "2022-01-07T11:42:35.679Z"
   },
   {
    "duration": 10,
    "start_time": "2022-01-07T11:42:35.684Z"
   },
   {
    "duration": 10,
    "start_time": "2022-01-07T11:42:35.696Z"
   },
   {
    "duration": 5,
    "start_time": "2022-01-07T11:42:35.708Z"
   },
   {
    "duration": 222,
    "start_time": "2022-01-07T11:42:35.715Z"
   },
   {
    "duration": 215,
    "start_time": "2022-01-07T11:42:35.939Z"
   },
   {
    "duration": 44,
    "start_time": "2022-01-07T12:09:27.780Z"
   },
   {
    "duration": 5,
    "start_time": "2022-01-07T12:09:27.826Z"
   },
   {
    "duration": 21,
    "start_time": "2022-01-07T12:09:27.833Z"
   },
   {
    "duration": 166,
    "start_time": "2022-01-07T12:09:27.856Z"
   },
   {
    "duration": 22,
    "start_time": "2022-01-07T12:09:28.025Z"
   },
   {
    "duration": 110,
    "start_time": "2022-01-07T12:09:28.049Z"
   },
   {
    "duration": 14,
    "start_time": "2022-01-07T12:09:28.160Z"
   },
   {
    "duration": 141,
    "start_time": "2022-01-07T12:09:28.175Z"
   },
   {
    "duration": 16,
    "start_time": "2022-01-07T12:09:28.320Z"
   },
   {
    "duration": 276,
    "start_time": "2022-01-07T12:09:28.338Z"
   },
   {
    "duration": 208,
    "start_time": "2022-01-07T12:09:28.616Z"
   },
   {
    "duration": 126,
    "start_time": "2022-01-07T12:09:28.826Z"
   },
   {
    "duration": 62,
    "start_time": "2022-01-07T12:09:28.954Z"
   },
   {
    "duration": 7,
    "start_time": "2022-01-07T12:09:29.018Z"
   },
   {
    "duration": 197,
    "start_time": "2022-01-07T12:09:29.027Z"
   },
   {
    "duration": 200,
    "start_time": "2022-01-07T12:09:29.227Z"
   },
   {
    "duration": 289,
    "start_time": "2022-01-07T12:09:29.430Z"
   },
   {
    "duration": 220,
    "start_time": "2022-01-07T12:09:29.721Z"
   },
   {
    "duration": 220,
    "start_time": "2022-01-07T12:09:29.943Z"
   },
   {
    "duration": 199,
    "start_time": "2022-01-07T12:09:30.165Z"
   },
   {
    "duration": 199,
    "start_time": "2022-01-07T12:09:30.365Z"
   },
   {
    "duration": 206,
    "start_time": "2022-01-07T12:09:30.566Z"
   },
   {
    "duration": 187,
    "start_time": "2022-01-07T12:09:30.774Z"
   },
   {
    "duration": 4,
    "start_time": "2022-01-07T12:09:30.963Z"
   },
   {
    "duration": 22,
    "start_time": "2022-01-07T12:09:30.969Z"
   },
   {
    "duration": 8,
    "start_time": "2022-01-07T12:09:30.993Z"
   },
   {
    "duration": 9,
    "start_time": "2022-01-07T12:09:31.005Z"
   },
   {
    "duration": 222,
    "start_time": "2022-01-07T12:09:31.016Z"
   },
   {
    "duration": 217,
    "start_time": "2022-01-07T12:09:31.240Z"
   },
   {
    "duration": 821,
    "start_time": "2022-01-08T10:56:19.743Z"
   },
   {
    "duration": 10,
    "start_time": "2022-01-08T10:56:20.567Z"
   },
   {
    "duration": 30,
    "start_time": "2022-01-08T10:56:20.580Z"
   },
   {
    "duration": 298,
    "start_time": "2022-01-08T10:56:20.612Z"
   },
   {
    "duration": 44,
    "start_time": "2022-01-08T10:56:20.917Z"
   },
   {
    "duration": 134,
    "start_time": "2022-01-08T10:56:20.964Z"
   },
   {
    "duration": 23,
    "start_time": "2022-01-08T10:56:21.100Z"
   },
   {
    "duration": 193,
    "start_time": "2022-01-08T10:56:21.127Z"
   },
   {
    "duration": 22,
    "start_time": "2022-01-08T10:56:21.323Z"
   },
   {
    "duration": 436,
    "start_time": "2022-01-08T10:56:21.347Z"
   },
   {
    "duration": 314,
    "start_time": "2022-01-08T10:56:21.785Z"
   },
   {
    "duration": 201,
    "start_time": "2022-01-08T10:56:22.101Z"
   },
   {
    "duration": 92,
    "start_time": "2022-01-08T10:56:22.305Z"
   },
   {
    "duration": 19,
    "start_time": "2022-01-08T10:56:22.400Z"
   },
   {
    "duration": 424,
    "start_time": "2022-01-08T10:56:22.421Z"
   },
   {
    "duration": 301,
    "start_time": "2022-01-08T10:56:22.848Z"
   },
   {
    "duration": 328,
    "start_time": "2022-01-08T10:56:23.151Z"
   },
   {
    "duration": 374,
    "start_time": "2022-01-08T10:56:23.482Z"
   },
   {
    "duration": 344,
    "start_time": "2022-01-08T10:56:23.859Z"
   },
   {
    "duration": 314,
    "start_time": "2022-01-08T10:56:24.207Z"
   },
   {
    "duration": 357,
    "start_time": "2022-01-08T10:56:24.524Z"
   },
   {
    "duration": 337,
    "start_time": "2022-01-08T10:56:24.884Z"
   },
   {
    "duration": 313,
    "start_time": "2022-01-08T10:56:25.228Z"
   },
   {
    "duration": 5,
    "start_time": "2022-01-08T10:56:25.544Z"
   },
   {
    "duration": 550,
    "start_time": "2022-01-08T10:56:25.551Z"
   },
   {
    "duration": 20,
    "start_time": "2022-01-08T10:56:26.105Z"
   },
   {
    "duration": 9,
    "start_time": "2022-01-08T10:56:26.128Z"
   },
   {
    "duration": 351,
    "start_time": "2022-01-08T10:56:26.140Z"
   },
   {
    "duration": 333,
    "start_time": "2022-01-08T10:56:26.493Z"
   },
   {
    "duration": 27,
    "start_time": "2022-01-08T11:03:28.274Z"
   },
   {
    "duration": 654,
    "start_time": "2022-01-08T16:07:33.918Z"
   },
   {
    "duration": 6,
    "start_time": "2022-01-08T16:07:34.573Z"
   },
   {
    "duration": 21,
    "start_time": "2022-01-08T16:07:34.580Z"
   },
   {
    "duration": 140,
    "start_time": "2022-01-08T16:07:34.603Z"
   },
   {
    "duration": 21,
    "start_time": "2022-01-08T16:07:34.744Z"
   },
   {
    "duration": 191,
    "start_time": "2022-01-08T16:07:34.767Z"
   },
   {
    "duration": 12,
    "start_time": "2022-01-08T16:07:34.960Z"
   },
   {
    "duration": 123,
    "start_time": "2022-01-08T16:07:34.974Z"
   },
   {
    "duration": 14,
    "start_time": "2022-01-08T16:07:35.100Z"
   },
   {
    "duration": 255,
    "start_time": "2022-01-08T16:07:35.116Z"
   },
   {
    "duration": 142,
    "start_time": "2022-01-08T16:07:35.373Z"
   },
   {
    "duration": 111,
    "start_time": "2022-01-08T16:07:35.517Z"
   },
   {
    "duration": 56,
    "start_time": "2022-01-08T16:07:35.629Z"
   },
   {
    "duration": 6,
    "start_time": "2022-01-08T16:07:35.686Z"
   },
   {
    "duration": 234,
    "start_time": "2022-01-08T16:07:35.693Z"
   },
   {
    "duration": 164,
    "start_time": "2022-01-08T16:07:35.929Z"
   },
   {
    "duration": 172,
    "start_time": "2022-01-08T16:07:36.094Z"
   },
   {
    "duration": 212,
    "start_time": "2022-01-08T16:07:36.267Z"
   },
   {
    "duration": 172,
    "start_time": "2022-01-08T16:07:36.481Z"
   },
   {
    "duration": 160,
    "start_time": "2022-01-08T16:07:36.655Z"
   },
   {
    "duration": 161,
    "start_time": "2022-01-08T16:07:36.817Z"
   },
   {
    "duration": 180,
    "start_time": "2022-01-08T16:07:36.980Z"
   },
   {
    "duration": 160,
    "start_time": "2022-01-08T16:07:37.161Z"
   },
   {
    "duration": 4,
    "start_time": "2022-01-08T16:07:37.323Z"
   },
   {
    "duration": 384,
    "start_time": "2022-01-08T16:07:37.329Z"
   },
   {
    "duration": 6,
    "start_time": "2022-01-08T16:07:37.715Z"
   },
   {
    "duration": 8,
    "start_time": "2022-01-08T16:07:37.724Z"
   },
   {
    "duration": 171,
    "start_time": "2022-01-08T16:07:37.734Z"
   },
   {
    "duration": 191,
    "start_time": "2022-01-08T16:07:37.906Z"
   },
   {
    "duration": -116,
    "start_time": "2022-01-08T16:08:43.819Z"
   },
   {
    "duration": -118,
    "start_time": "2022-01-08T16:08:43.822Z"
   },
   {
    "duration": -124,
    "start_time": "2022-01-08T16:08:43.829Z"
   },
   {
    "duration": -126,
    "start_time": "2022-01-08T16:08:43.832Z"
   },
   {
    "duration": -128,
    "start_time": "2022-01-08T16:08:43.835Z"
   },
   {
    "duration": -129,
    "start_time": "2022-01-08T16:08:43.837Z"
   },
   {
    "duration": -130,
    "start_time": "2022-01-08T16:08:43.839Z"
   },
   {
    "duration": -132,
    "start_time": "2022-01-08T16:08:43.841Z"
   },
   {
    "duration": -133,
    "start_time": "2022-01-08T16:08:43.843Z"
   },
   {
    "duration": -133,
    "start_time": "2022-01-08T16:08:43.844Z"
   },
   {
    "duration": -134,
    "start_time": "2022-01-08T16:08:43.846Z"
   },
   {
    "duration": -135,
    "start_time": "2022-01-08T16:08:43.848Z"
   },
   {
    "duration": -135,
    "start_time": "2022-01-08T16:08:43.849Z"
   },
   {
    "duration": -136,
    "start_time": "2022-01-08T16:08:43.851Z"
   },
   {
    "duration": -145,
    "start_time": "2022-01-08T16:08:43.861Z"
   },
   {
    "duration": -145,
    "start_time": "2022-01-08T16:08:43.862Z"
   },
   {
    "duration": -146,
    "start_time": "2022-01-08T16:08:43.864Z"
   },
   {
    "duration": -146,
    "start_time": "2022-01-08T16:08:43.865Z"
   },
   {
    "duration": -146,
    "start_time": "2022-01-08T16:08:43.866Z"
   },
   {
    "duration": -148,
    "start_time": "2022-01-08T16:08:43.868Z"
   },
   {
    "duration": -148,
    "start_time": "2022-01-08T16:08:43.869Z"
   },
   {
    "duration": -149,
    "start_time": "2022-01-08T16:08:43.871Z"
   },
   {
    "duration": -150,
    "start_time": "2022-01-08T16:08:43.873Z"
   },
   {
    "duration": -150,
    "start_time": "2022-01-08T16:08:43.874Z"
   },
   {
    "duration": -151,
    "start_time": "2022-01-08T16:08:43.876Z"
   },
   {
    "duration": -151,
    "start_time": "2022-01-08T16:08:43.877Z"
   },
   {
    "duration": -152,
    "start_time": "2022-01-08T16:08:43.878Z"
   },
   {
    "duration": -153,
    "start_time": "2022-01-08T16:08:43.880Z"
   },
   {
    "duration": -160,
    "start_time": "2022-01-08T16:08:43.888Z"
   },
   {
    "duration": 49,
    "start_time": "2022-01-08T16:08:52.647Z"
   },
   {
    "duration": 5,
    "start_time": "2022-01-08T16:08:52.698Z"
   },
   {
    "duration": 22,
    "start_time": "2022-01-08T16:08:52.704Z"
   },
   {
    "duration": 140,
    "start_time": "2022-01-08T16:08:52.727Z"
   },
   {
    "duration": 18,
    "start_time": "2022-01-08T16:08:52.868Z"
   },
   {
    "duration": 81,
    "start_time": "2022-01-08T16:08:52.887Z"
   },
   {
    "duration": 12,
    "start_time": "2022-01-08T16:08:52.969Z"
   },
   {
    "duration": 116,
    "start_time": "2022-01-08T16:08:52.982Z"
   },
   {
    "duration": 14,
    "start_time": "2022-01-08T16:08:53.101Z"
   },
   {
    "duration": 233,
    "start_time": "2022-01-08T16:08:53.116Z"
   },
   {
    "duration": 132,
    "start_time": "2022-01-08T16:08:53.351Z"
   },
   {
    "duration": 112,
    "start_time": "2022-01-08T16:08:53.485Z"
   },
   {
    "duration": 9368,
    "start_time": "2022-01-08T16:08:53.598Z"
   },
   {
    "duration": -139,
    "start_time": "2022-01-08T16:09:03.107Z"
   },
   {
    "duration": -140,
    "start_time": "2022-01-08T16:09:03.109Z"
   },
   {
    "duration": -141,
    "start_time": "2022-01-08T16:09:03.111Z"
   },
   {
    "duration": -140,
    "start_time": "2022-01-08T16:09:03.112Z"
   },
   {
    "duration": -140,
    "start_time": "2022-01-08T16:09:03.113Z"
   },
   {
    "duration": -141,
    "start_time": "2022-01-08T16:09:03.115Z"
   },
   {
    "duration": -142,
    "start_time": "2022-01-08T16:09:03.117Z"
   },
   {
    "duration": -141,
    "start_time": "2022-01-08T16:09:03.118Z"
   },
   {
    "duration": -142,
    "start_time": "2022-01-08T16:09:03.120Z"
   },
   {
    "duration": -142,
    "start_time": "2022-01-08T16:09:03.121Z"
   },
   {
    "duration": -142,
    "start_time": "2022-01-08T16:09:03.123Z"
   },
   {
    "duration": -147,
    "start_time": "2022-01-08T16:09:03.129Z"
   },
   {
    "duration": -148,
    "start_time": "2022-01-08T16:09:03.132Z"
   },
   {
    "duration": -148,
    "start_time": "2022-01-08T16:09:03.133Z"
   },
   {
    "duration": -149,
    "start_time": "2022-01-08T16:09:03.135Z"
   },
   {
    "duration": -149,
    "start_time": "2022-01-08T16:09:03.137Z"
   },
   {
    "duration": -119,
    "start_time": "2022-01-08T16:09:35.000Z"
   },
   {
    "duration": -123,
    "start_time": "2022-01-08T16:09:35.005Z"
   },
   {
    "duration": -125,
    "start_time": "2022-01-08T16:09:35.009Z"
   },
   {
    "duration": -135,
    "start_time": "2022-01-08T16:09:35.020Z"
   },
   {
    "duration": -141,
    "start_time": "2022-01-08T16:09:35.027Z"
   },
   {
    "duration": -148,
    "start_time": "2022-01-08T16:09:35.035Z"
   },
   {
    "duration": -151,
    "start_time": "2022-01-08T16:09:35.040Z"
   },
   {
    "duration": -157,
    "start_time": "2022-01-08T16:09:35.047Z"
   },
   {
    "duration": -158,
    "start_time": "2022-01-08T16:09:35.049Z"
   },
   {
    "duration": -159,
    "start_time": "2022-01-08T16:09:35.051Z"
   },
   {
    "duration": -160,
    "start_time": "2022-01-08T16:09:35.053Z"
   },
   {
    "duration": -159,
    "start_time": "2022-01-08T16:09:35.054Z"
   },
   {
    "duration": -160,
    "start_time": "2022-01-08T16:09:35.056Z"
   },
   {
    "duration": -160,
    "start_time": "2022-01-08T16:09:35.057Z"
   },
   {
    "duration": -164,
    "start_time": "2022-01-08T16:09:35.063Z"
   },
   {
    "duration": -166,
    "start_time": "2022-01-08T16:09:35.066Z"
   },
   {
    "duration": -167,
    "start_time": "2022-01-08T16:09:35.068Z"
   },
   {
    "duration": -167,
    "start_time": "2022-01-08T16:09:35.069Z"
   },
   {
    "duration": -168,
    "start_time": "2022-01-08T16:09:35.071Z"
   },
   {
    "duration": -167,
    "start_time": "2022-01-08T16:09:35.072Z"
   },
   {
    "duration": -168,
    "start_time": "2022-01-08T16:09:35.074Z"
   },
   {
    "duration": -174,
    "start_time": "2022-01-08T16:09:35.081Z"
   },
   {
    "duration": -174,
    "start_time": "2022-01-08T16:09:35.082Z"
   },
   {
    "duration": -174,
    "start_time": "2022-01-08T16:09:35.084Z"
   },
   {
    "duration": -174,
    "start_time": "2022-01-08T16:09:35.085Z"
   },
   {
    "duration": -175,
    "start_time": "2022-01-08T16:09:35.087Z"
   },
   {
    "duration": -175,
    "start_time": "2022-01-08T16:09:35.089Z"
   },
   {
    "duration": -175,
    "start_time": "2022-01-08T16:09:35.090Z"
   },
   {
    "duration": -180,
    "start_time": "2022-01-08T16:09:35.096Z"
   },
   {
    "duration": 39,
    "start_time": "2022-01-08T16:09:45.631Z"
   },
   {
    "duration": 7,
    "start_time": "2022-01-08T16:09:45.672Z"
   },
   {
    "duration": 20,
    "start_time": "2022-01-08T16:09:45.681Z"
   },
   {
    "duration": 153,
    "start_time": "2022-01-08T16:09:45.703Z"
   },
   {
    "duration": 21,
    "start_time": "2022-01-08T16:09:45.858Z"
   },
   {
    "duration": 89,
    "start_time": "2022-01-08T16:09:45.881Z"
   },
   {
    "duration": 14,
    "start_time": "2022-01-08T16:09:45.971Z"
   },
   {
    "duration": 123,
    "start_time": "2022-01-08T16:09:45.986Z"
   },
   {
    "duration": 19,
    "start_time": "2022-01-08T16:09:46.112Z"
   },
   {
    "duration": 247,
    "start_time": "2022-01-08T16:09:46.134Z"
   },
   {
    "duration": 162,
    "start_time": "2022-01-08T16:09:46.382Z"
   },
   {
    "duration": 113,
    "start_time": "2022-01-08T16:09:46.546Z"
   },
   {
    "duration": 8389,
    "start_time": "2022-01-08T16:09:46.661Z"
   },
   {
    "duration": -120,
    "start_time": "2022-01-08T16:09:55.172Z"
   },
   {
    "duration": -120,
    "start_time": "2022-01-08T16:09:55.173Z"
   },
   {
    "duration": -121,
    "start_time": "2022-01-08T16:09:55.175Z"
   },
   {
    "duration": -121,
    "start_time": "2022-01-08T16:09:55.176Z"
   },
   {
    "duration": -122,
    "start_time": "2022-01-08T16:09:55.178Z"
   },
   {
    "duration": -122,
    "start_time": "2022-01-08T16:09:55.179Z"
   },
   {
    "duration": -123,
    "start_time": "2022-01-08T16:09:55.181Z"
   },
   {
    "duration": -128,
    "start_time": "2022-01-08T16:09:55.187Z"
   },
   {
    "duration": -130,
    "start_time": "2022-01-08T16:09:55.190Z"
   },
   {
    "duration": -131,
    "start_time": "2022-01-08T16:09:55.192Z"
   },
   {
    "duration": -132,
    "start_time": "2022-01-08T16:09:55.194Z"
   },
   {
    "duration": -145,
    "start_time": "2022-01-08T16:09:55.208Z"
   },
   {
    "duration": -146,
    "start_time": "2022-01-08T16:09:55.210Z"
   },
   {
    "duration": -147,
    "start_time": "2022-01-08T16:09:55.211Z"
   },
   {
    "duration": -147,
    "start_time": "2022-01-08T16:09:55.212Z"
   },
   {
    "duration": -148,
    "start_time": "2022-01-08T16:09:55.214Z"
   },
   {
    "duration": 41,
    "start_time": "2022-01-08T16:13:01.932Z"
   },
   {
    "duration": 5,
    "start_time": "2022-01-08T16:13:01.975Z"
   },
   {
    "duration": 23,
    "start_time": "2022-01-08T16:13:01.981Z"
   },
   {
    "duration": 147,
    "start_time": "2022-01-08T16:13:02.006Z"
   },
   {
    "duration": 17,
    "start_time": "2022-01-08T16:13:02.155Z"
   },
   {
    "duration": 78,
    "start_time": "2022-01-08T16:13:02.174Z"
   },
   {
    "duration": 12,
    "start_time": "2022-01-08T16:13:02.254Z"
   },
   {
    "duration": 117,
    "start_time": "2022-01-08T16:13:02.267Z"
   },
   {
    "duration": 15,
    "start_time": "2022-01-08T16:13:02.386Z"
   },
   {
    "duration": 243,
    "start_time": "2022-01-08T16:13:02.403Z"
   },
   {
    "duration": 131,
    "start_time": "2022-01-08T16:13:02.647Z"
   },
   {
    "duration": 109,
    "start_time": "2022-01-08T16:13:02.779Z"
   },
   {
    "duration": 57,
    "start_time": "2022-01-08T16:13:02.889Z"
   },
   {
    "duration": 6,
    "start_time": "2022-01-08T16:13:02.948Z"
   },
   {
    "duration": 187,
    "start_time": "2022-01-08T16:13:02.955Z"
   },
   {
    "duration": 166,
    "start_time": "2022-01-08T16:13:03.144Z"
   },
   {
    "duration": 170,
    "start_time": "2022-01-08T16:13:03.311Z"
   },
   {
    "duration": 165,
    "start_time": "2022-01-08T16:13:03.483Z"
   },
   {
    "duration": 171,
    "start_time": "2022-01-08T16:13:03.650Z"
   },
   {
    "duration": 164,
    "start_time": "2022-01-08T16:13:03.826Z"
   },
   {
    "duration": 165,
    "start_time": "2022-01-08T16:13:03.992Z"
   },
   {
    "duration": 170,
    "start_time": "2022-01-08T16:13:04.158Z"
   },
   {
    "duration": 226,
    "start_time": "2022-01-08T16:13:04.330Z"
   },
   {
    "duration": 3,
    "start_time": "2022-01-08T16:13:04.557Z"
   },
   {
    "duration": 6,
    "start_time": "2022-01-08T16:13:04.561Z"
   },
   {
    "duration": 7,
    "start_time": "2022-01-08T16:13:04.569Z"
   },
   {
    "duration": 5,
    "start_time": "2022-01-08T16:13:04.579Z"
   },
   {
    "duration": 181,
    "start_time": "2022-01-08T16:13:04.585Z"
   },
   {
    "duration": 174,
    "start_time": "2022-01-08T16:13:04.768Z"
   },
   {
    "duration": 41,
    "start_time": "2022-01-08T16:19:30.228Z"
   },
   {
    "duration": 5,
    "start_time": "2022-01-08T16:19:30.270Z"
   },
   {
    "duration": 21,
    "start_time": "2022-01-08T16:19:30.277Z"
   },
   {
    "duration": 139,
    "start_time": "2022-01-08T16:19:30.300Z"
   },
   {
    "duration": 18,
    "start_time": "2022-01-08T16:19:30.440Z"
   },
   {
    "duration": 87,
    "start_time": "2022-01-08T16:19:30.460Z"
   },
   {
    "duration": 14,
    "start_time": "2022-01-08T16:19:30.549Z"
   },
   {
    "duration": 139,
    "start_time": "2022-01-08T16:19:30.565Z"
   },
   {
    "duration": 15,
    "start_time": "2022-01-08T16:19:30.706Z"
   },
   {
    "duration": 216,
    "start_time": "2022-01-08T16:19:30.722Z"
   },
   {
    "duration": 136,
    "start_time": "2022-01-08T16:19:30.940Z"
   },
   {
    "duration": 115,
    "start_time": "2022-01-08T16:19:31.078Z"
   },
   {
    "duration": 77,
    "start_time": "2022-01-08T16:19:31.195Z"
   },
   {
    "duration": 7,
    "start_time": "2022-01-08T16:19:31.273Z"
   },
   {
    "duration": 375,
    "start_time": "2022-01-08T16:19:31.282Z"
   },
   {
    "duration": -143,
    "start_time": "2022-01-08T16:19:31.801Z"
   },
   {
    "duration": -144,
    "start_time": "2022-01-08T16:19:31.803Z"
   },
   {
    "duration": -145,
    "start_time": "2022-01-08T16:19:31.805Z"
   },
   {
    "duration": -145,
    "start_time": "2022-01-08T16:19:31.806Z"
   },
   {
    "duration": -146,
    "start_time": "2022-01-08T16:19:31.808Z"
   },
   {
    "duration": -146,
    "start_time": "2022-01-08T16:19:31.809Z"
   },
   {
    "duration": -147,
    "start_time": "2022-01-08T16:19:31.811Z"
   },
   {
    "duration": -159,
    "start_time": "2022-01-08T16:19:31.824Z"
   },
   {
    "duration": -160,
    "start_time": "2022-01-08T16:19:31.826Z"
   },
   {
    "duration": -160,
    "start_time": "2022-01-08T16:19:31.827Z"
   },
   {
    "duration": -161,
    "start_time": "2022-01-08T16:19:31.829Z"
   },
   {
    "duration": -160,
    "start_time": "2022-01-08T16:19:31.830Z"
   },
   {
    "duration": -162,
    "start_time": "2022-01-08T16:19:31.832Z"
   },
   {
    "duration": -163,
    "start_time": "2022-01-08T16:19:31.834Z"
   },
   {
    "duration": 40,
    "start_time": "2022-01-08T16:21:36.257Z"
   },
   {
    "duration": 5,
    "start_time": "2022-01-08T16:21:36.298Z"
   },
   {
    "duration": 23,
    "start_time": "2022-01-08T16:21:36.305Z"
   },
   {
    "duration": 132,
    "start_time": "2022-01-08T16:21:36.330Z"
   },
   {
    "duration": 19,
    "start_time": "2022-01-08T16:21:36.464Z"
   },
   {
    "duration": 83,
    "start_time": "2022-01-08T16:21:36.485Z"
   },
   {
    "duration": 14,
    "start_time": "2022-01-08T16:21:36.569Z"
   },
   {
    "duration": 119,
    "start_time": "2022-01-08T16:21:36.585Z"
   },
   {
    "duration": 24,
    "start_time": "2022-01-08T16:21:36.707Z"
   },
   {
    "duration": 215,
    "start_time": "2022-01-08T16:21:36.733Z"
   },
   {
    "duration": 140,
    "start_time": "2022-01-08T16:21:36.950Z"
   },
   {
    "duration": 111,
    "start_time": "2022-01-08T16:21:37.092Z"
   },
   {
    "duration": 87,
    "start_time": "2022-01-08T16:21:37.205Z"
   },
   {
    "duration": 6,
    "start_time": "2022-01-08T16:21:37.294Z"
   },
   {
    "duration": 466,
    "start_time": "2022-01-08T16:21:37.302Z"
   },
   {
    "duration": -178,
    "start_time": "2022-01-08T16:21:37.948Z"
   },
   {
    "duration": -180,
    "start_time": "2022-01-08T16:21:37.951Z"
   },
   {
    "duration": -181,
    "start_time": "2022-01-08T16:21:37.953Z"
   },
   {
    "duration": -183,
    "start_time": "2022-01-08T16:21:37.955Z"
   },
   {
    "duration": -183,
    "start_time": "2022-01-08T16:21:37.956Z"
   },
   {
    "duration": -184,
    "start_time": "2022-01-08T16:21:37.958Z"
   },
   {
    "duration": -185,
    "start_time": "2022-01-08T16:21:37.960Z"
   },
   {
    "duration": -185,
    "start_time": "2022-01-08T16:21:37.961Z"
   },
   {
    "duration": -187,
    "start_time": "2022-01-08T16:21:37.963Z"
   },
   {
    "duration": -199,
    "start_time": "2022-01-08T16:21:37.976Z"
   },
   {
    "duration": -201,
    "start_time": "2022-01-08T16:21:37.979Z"
   },
   {
    "duration": -202,
    "start_time": "2022-01-08T16:21:37.981Z"
   },
   {
    "duration": -203,
    "start_time": "2022-01-08T16:21:37.983Z"
   },
   {
    "duration": -204,
    "start_time": "2022-01-08T16:21:37.985Z"
   },
   {
    "duration": 25,
    "start_time": "2022-01-08T16:23:47.378Z"
   },
   {
    "duration": 42,
    "start_time": "2022-01-08T16:24:06.122Z"
   },
   {
    "duration": 7,
    "start_time": "2022-01-08T16:24:06.166Z"
   },
   {
    "duration": 21,
    "start_time": "2022-01-08T16:24:06.175Z"
   },
   {
    "duration": 136,
    "start_time": "2022-01-08T16:24:06.198Z"
   },
   {
    "duration": 19,
    "start_time": "2022-01-08T16:24:06.336Z"
   },
   {
    "duration": 82,
    "start_time": "2022-01-08T16:24:06.357Z"
   },
   {
    "duration": 14,
    "start_time": "2022-01-08T16:24:06.441Z"
   },
   {
    "duration": 125,
    "start_time": "2022-01-08T16:24:06.458Z"
   },
   {
    "duration": 15,
    "start_time": "2022-01-08T16:24:06.585Z"
   },
   {
    "duration": 226,
    "start_time": "2022-01-08T16:24:06.602Z"
   },
   {
    "duration": 133,
    "start_time": "2022-01-08T16:24:06.829Z"
   },
   {
    "duration": 106,
    "start_time": "2022-01-08T16:24:06.964Z"
   },
   {
    "duration": 78,
    "start_time": "2022-01-08T16:24:07.071Z"
   },
   {
    "duration": 24,
    "start_time": "2022-01-08T16:24:07.150Z"
   },
   {
    "duration": 411,
    "start_time": "2022-01-08T16:24:07.176Z"
   },
   {
    "duration": -148,
    "start_time": "2022-01-08T16:24:07.737Z"
   },
   {
    "duration": -149,
    "start_time": "2022-01-08T16:24:07.739Z"
   },
   {
    "duration": -150,
    "start_time": "2022-01-08T16:24:07.741Z"
   },
   {
    "duration": -152,
    "start_time": "2022-01-08T16:24:07.743Z"
   },
   {
    "duration": -152,
    "start_time": "2022-01-08T16:24:07.744Z"
   },
   {
    "duration": -153,
    "start_time": "2022-01-08T16:24:07.746Z"
   },
   {
    "duration": -154,
    "start_time": "2022-01-08T16:24:07.748Z"
   },
   {
    "duration": -155,
    "start_time": "2022-01-08T16:24:07.750Z"
   },
   {
    "duration": -155,
    "start_time": "2022-01-08T16:24:07.751Z"
   },
   {
    "duration": -155,
    "start_time": "2022-01-08T16:24:07.752Z"
   },
   {
    "duration": -156,
    "start_time": "2022-01-08T16:24:07.754Z"
   },
   {
    "duration": -157,
    "start_time": "2022-01-08T16:24:07.755Z"
   },
   {
    "duration": -158,
    "start_time": "2022-01-08T16:24:07.757Z"
   },
   {
    "duration": -173,
    "start_time": "2022-01-08T16:24:07.773Z"
   },
   {
    "duration": 11,
    "start_time": "2022-01-08T16:25:07.868Z"
   },
   {
    "duration": 69,
    "start_time": "2022-01-08T16:26:09.351Z"
   },
   {
    "duration": 40,
    "start_time": "2022-01-08T16:36:35.726Z"
   },
   {
    "duration": 5,
    "start_time": "2022-01-08T16:36:35.767Z"
   },
   {
    "duration": 20,
    "start_time": "2022-01-08T16:36:35.774Z"
   },
   {
    "duration": 137,
    "start_time": "2022-01-08T16:36:35.796Z"
   },
   {
    "duration": 17,
    "start_time": "2022-01-08T16:36:35.935Z"
   },
   {
    "duration": 83,
    "start_time": "2022-01-08T16:36:35.953Z"
   },
   {
    "duration": 12,
    "start_time": "2022-01-08T16:36:36.038Z"
   },
   {
    "duration": 122,
    "start_time": "2022-01-08T16:36:36.053Z"
   },
   {
    "duration": 14,
    "start_time": "2022-01-08T16:36:36.177Z"
   },
   {
    "duration": 225,
    "start_time": "2022-01-08T16:36:36.193Z"
   },
   {
    "duration": 135,
    "start_time": "2022-01-08T16:36:36.420Z"
   },
   {
    "duration": 112,
    "start_time": "2022-01-08T16:36:36.556Z"
   },
   {
    "duration": 9283,
    "start_time": "2022-01-08T16:36:36.670Z"
   },
   {
    "duration": -144,
    "start_time": "2022-01-08T16:36:46.099Z"
   },
   {
    "duration": -146,
    "start_time": "2022-01-08T16:36:46.102Z"
   },
   {
    "duration": -148,
    "start_time": "2022-01-08T16:36:46.104Z"
   },
   {
    "duration": -150,
    "start_time": "2022-01-08T16:36:46.107Z"
   },
   {
    "duration": -152,
    "start_time": "2022-01-08T16:36:46.110Z"
   },
   {
    "duration": -154,
    "start_time": "2022-01-08T16:36:46.113Z"
   },
   {
    "duration": -155,
    "start_time": "2022-01-08T16:36:46.115Z"
   },
   {
    "duration": -157,
    "start_time": "2022-01-08T16:36:46.117Z"
   },
   {
    "duration": -158,
    "start_time": "2022-01-08T16:36:46.119Z"
   },
   {
    "duration": -159,
    "start_time": "2022-01-08T16:36:46.121Z"
   },
   {
    "duration": -159,
    "start_time": "2022-01-08T16:36:46.122Z"
   },
   {
    "duration": -160,
    "start_time": "2022-01-08T16:36:46.124Z"
   },
   {
    "duration": -160,
    "start_time": "2022-01-08T16:36:46.125Z"
   },
   {
    "duration": -161,
    "start_time": "2022-01-08T16:36:46.127Z"
   },
   {
    "duration": -162,
    "start_time": "2022-01-08T16:36:46.128Z"
   },
   {
    "duration": -163,
    "start_time": "2022-01-08T16:36:46.130Z"
   },
   {
    "duration": 72,
    "start_time": "2022-01-08T16:37:59.896Z"
   },
   {
    "duration": 40,
    "start_time": "2022-01-08T16:38:06.123Z"
   },
   {
    "duration": 5,
    "start_time": "2022-01-08T16:38:06.165Z"
   },
   {
    "duration": 22,
    "start_time": "2022-01-08T16:38:06.171Z"
   },
   {
    "duration": 137,
    "start_time": "2022-01-08T16:38:06.194Z"
   },
   {
    "duration": 17,
    "start_time": "2022-01-08T16:38:06.333Z"
   },
   {
    "duration": 82,
    "start_time": "2022-01-08T16:38:06.352Z"
   },
   {
    "duration": 12,
    "start_time": "2022-01-08T16:38:06.436Z"
   },
   {
    "duration": 120,
    "start_time": "2022-01-08T16:38:06.450Z"
   },
   {
    "duration": 14,
    "start_time": "2022-01-08T16:38:06.572Z"
   },
   {
    "duration": 228,
    "start_time": "2022-01-08T16:38:06.588Z"
   },
   {
    "duration": 129,
    "start_time": "2022-01-08T16:38:06.818Z"
   },
   {
    "duration": 109,
    "start_time": "2022-01-08T16:38:06.948Z"
   },
   {
    "duration": 81,
    "start_time": "2022-01-08T16:38:07.058Z"
   },
   {
    "duration": 10,
    "start_time": "2022-01-08T16:38:07.140Z"
   },
   {
    "duration": 179,
    "start_time": "2022-01-08T16:38:07.151Z"
   },
   {
    "duration": 181,
    "start_time": "2022-01-08T16:38:07.331Z"
   },
   {
    "duration": 169,
    "start_time": "2022-01-08T16:38:07.514Z"
   },
   {
    "duration": 177,
    "start_time": "2022-01-08T16:38:07.685Z"
   },
   {
    "duration": 175,
    "start_time": "2022-01-08T16:38:07.864Z"
   },
   {
    "duration": 163,
    "start_time": "2022-01-08T16:38:08.041Z"
   },
   {
    "duration": 221,
    "start_time": "2022-01-08T16:38:08.205Z"
   },
   {
    "duration": 173,
    "start_time": "2022-01-08T16:38:08.427Z"
   },
   {
    "duration": 165,
    "start_time": "2022-01-08T16:38:08.603Z"
   },
   {
    "duration": 2,
    "start_time": "2022-01-08T16:38:08.770Z"
   },
   {
    "duration": 6,
    "start_time": "2022-01-08T16:38:08.774Z"
   },
   {
    "duration": 9,
    "start_time": "2022-01-08T16:38:08.781Z"
   },
   {
    "duration": 4,
    "start_time": "2022-01-08T16:38:08.792Z"
   },
   {
    "duration": 186,
    "start_time": "2022-01-08T16:38:08.797Z"
   },
   {
    "duration": 224,
    "start_time": "2022-01-08T16:38:08.984Z"
   },
   {
    "duration": 39,
    "start_time": "2022-01-08T16:39:05.673Z"
   },
   {
    "duration": 5,
    "start_time": "2022-01-08T16:39:05.714Z"
   },
   {
    "duration": 20,
    "start_time": "2022-01-08T16:39:05.721Z"
   },
   {
    "duration": 140,
    "start_time": "2022-01-08T16:39:05.743Z"
   },
   {
    "duration": 18,
    "start_time": "2022-01-08T16:39:05.885Z"
   },
   {
    "duration": 82,
    "start_time": "2022-01-08T16:39:05.905Z"
   },
   {
    "duration": 13,
    "start_time": "2022-01-08T16:39:05.988Z"
   },
   {
    "duration": 123,
    "start_time": "2022-01-08T16:39:06.004Z"
   },
   {
    "duration": 14,
    "start_time": "2022-01-08T16:39:06.129Z"
   },
   {
    "duration": 236,
    "start_time": "2022-01-08T16:39:06.145Z"
   },
   {
    "duration": 153,
    "start_time": "2022-01-08T16:39:06.383Z"
   },
   {
    "duration": 106,
    "start_time": "2022-01-08T16:39:06.537Z"
   },
   {
    "duration": 82,
    "start_time": "2022-01-08T16:39:06.645Z"
   },
   {
    "duration": 11,
    "start_time": "2022-01-08T16:39:06.728Z"
   },
   {
    "duration": 177,
    "start_time": "2022-01-08T16:39:06.740Z"
   },
   {
    "duration": 178,
    "start_time": "2022-01-08T16:39:06.919Z"
   },
   {
    "duration": 171,
    "start_time": "2022-01-08T16:39:07.099Z"
   },
   {
    "duration": 177,
    "start_time": "2022-01-08T16:39:07.272Z"
   },
   {
    "duration": 176,
    "start_time": "2022-01-08T16:39:07.451Z"
   },
   {
    "duration": 225,
    "start_time": "2022-01-08T16:39:07.629Z"
   },
   {
    "duration": 166,
    "start_time": "2022-01-08T16:39:07.856Z"
   },
   {
    "duration": 168,
    "start_time": "2022-01-08T16:39:08.024Z"
   },
   {
    "duration": 170,
    "start_time": "2022-01-08T16:39:08.195Z"
   },
   {
    "duration": 4,
    "start_time": "2022-01-08T16:39:08.367Z"
   },
   {
    "duration": 9,
    "start_time": "2022-01-08T16:39:08.372Z"
   },
   {
    "duration": 10,
    "start_time": "2022-01-08T16:39:08.382Z"
   },
   {
    "duration": 6,
    "start_time": "2022-01-08T16:39:08.393Z"
   },
   {
    "duration": 172,
    "start_time": "2022-01-08T16:39:08.401Z"
   },
   {
    "duration": 182,
    "start_time": "2022-01-08T16:39:08.575Z"
   },
   {
    "duration": 7,
    "start_time": "2022-01-08T16:39:33.470Z"
   },
   {
    "duration": 40,
    "start_time": "2022-01-08T16:43:37.221Z"
   },
   {
    "duration": 4,
    "start_time": "2022-01-08T16:43:37.263Z"
   },
   {
    "duration": 21,
    "start_time": "2022-01-08T16:43:37.269Z"
   },
   {
    "duration": 142,
    "start_time": "2022-01-08T16:43:37.292Z"
   },
   {
    "duration": 18,
    "start_time": "2022-01-08T16:43:37.436Z"
   },
   {
    "duration": 82,
    "start_time": "2022-01-08T16:43:37.455Z"
   },
   {
    "duration": 12,
    "start_time": "2022-01-08T16:43:37.539Z"
   },
   {
    "duration": 116,
    "start_time": "2022-01-08T16:43:37.554Z"
   },
   {
    "duration": 14,
    "start_time": "2022-01-08T16:43:37.672Z"
   },
   {
    "duration": 235,
    "start_time": "2022-01-08T16:43:37.687Z"
   },
   {
    "duration": 128,
    "start_time": "2022-01-08T16:43:37.924Z"
   },
   {
    "duration": 105,
    "start_time": "2022-01-08T16:43:38.053Z"
   },
   {
    "duration": 82,
    "start_time": "2022-01-08T16:43:38.160Z"
   },
   {
    "duration": 6,
    "start_time": "2022-01-08T16:43:38.244Z"
   },
   {
    "duration": 283,
    "start_time": "2022-01-08T16:43:38.252Z"
   },
   {
    "duration": 172,
    "start_time": "2022-01-08T16:43:38.536Z"
   },
   {
    "duration": 165,
    "start_time": "2022-01-08T16:43:38.710Z"
   },
   {
    "duration": 173,
    "start_time": "2022-01-08T16:43:38.876Z"
   },
   {
    "duration": 229,
    "start_time": "2022-01-08T16:43:39.050Z"
   },
   {
    "duration": 160,
    "start_time": "2022-01-08T16:43:39.281Z"
   },
   {
    "duration": 166,
    "start_time": "2022-01-08T16:43:39.443Z"
   },
   {
    "duration": 175,
    "start_time": "2022-01-08T16:43:39.611Z"
   },
   {
    "duration": 166,
    "start_time": "2022-01-08T16:43:39.789Z"
   },
   {
    "duration": 2,
    "start_time": "2022-01-08T16:43:39.957Z"
   },
   {
    "duration": 6,
    "start_time": "2022-01-08T16:43:39.961Z"
   },
   {
    "duration": 12,
    "start_time": "2022-01-08T16:43:39.969Z"
   },
   {
    "duration": 4,
    "start_time": "2022-01-08T16:43:39.982Z"
   },
   {
    "duration": 179,
    "start_time": "2022-01-08T16:43:39.988Z"
   },
   {
    "duration": 180,
    "start_time": "2022-01-08T16:43:40.169Z"
   },
   {
    "duration": 362,
    "start_time": "2022-01-08T16:54:42.066Z"
   },
   {
    "duration": 541,
    "start_time": "2022-01-08T16:54:46.946Z"
   },
   {
    "duration": 646,
    "start_time": "2022-01-08T17:01:06.186Z"
   },
   {
    "duration": 341,
    "start_time": "2022-01-08T17:01:37.333Z"
   },
   {
    "duration": 360,
    "start_time": "2022-01-08T17:03:27.995Z"
   },
   {
    "duration": 226,
    "start_time": "2022-01-08T17:03:40.743Z"
   },
   {
    "duration": 214,
    "start_time": "2022-01-08T17:04:00.693Z"
   },
   {
    "duration": 314,
    "start_time": "2022-01-08T17:04:17.243Z"
   },
   {
    "duration": 239,
    "start_time": "2022-01-08T17:05:45.978Z"
   },
   {
    "duration": 924,
    "start_time": "2022-01-09T09:06:41.284Z"
   },
   {
    "duration": 235,
    "start_time": "2022-01-09T09:06:44.198Z"
   },
   {
    "duration": 6,
    "start_time": "2022-01-09T09:06:44.435Z"
   },
   {
    "duration": 22,
    "start_time": "2022-01-09T09:06:44.443Z"
   },
   {
    "duration": 158,
    "start_time": "2022-01-09T09:06:44.467Z"
   },
   {
    "duration": 20,
    "start_time": "2022-01-09T09:06:44.626Z"
   },
   {
    "duration": 94,
    "start_time": "2022-01-09T09:06:44.648Z"
   },
   {
    "duration": 21,
    "start_time": "2022-01-09T09:06:44.743Z"
   },
   {
    "duration": 143,
    "start_time": "2022-01-09T09:06:44.766Z"
   },
   {
    "duration": 16,
    "start_time": "2022-01-09T09:06:44.911Z"
   },
   {
    "duration": 306,
    "start_time": "2022-01-09T09:06:44.929Z"
   },
   {
    "duration": 167,
    "start_time": "2022-01-09T09:06:45.237Z"
   },
   {
    "duration": 128,
    "start_time": "2022-01-09T09:06:45.406Z"
   },
   {
    "duration": 94,
    "start_time": "2022-01-09T09:06:45.536Z"
   },
   {
    "duration": 8,
    "start_time": "2022-01-09T09:06:45.631Z"
   },
   {
    "duration": 580,
    "start_time": "2022-01-09T09:06:45.640Z"
   },
   {
    "duration": -161,
    "start_time": "2022-01-09T09:06:46.383Z"
   },
   {
    "duration": -162,
    "start_time": "2022-01-09T09:06:46.385Z"
   },
   {
    "duration": -163,
    "start_time": "2022-01-09T09:06:46.387Z"
   },
   {
    "duration": -164,
    "start_time": "2022-01-09T09:06:46.389Z"
   },
   {
    "duration": -165,
    "start_time": "2022-01-09T09:06:46.391Z"
   },
   {
    "duration": -166,
    "start_time": "2022-01-09T09:06:46.393Z"
   },
   {
    "duration": -167,
    "start_time": "2022-01-09T09:06:46.395Z"
   },
   {
    "duration": -167,
    "start_time": "2022-01-09T09:06:46.396Z"
   },
   {
    "duration": -168,
    "start_time": "2022-01-09T09:06:46.398Z"
   },
   {
    "duration": -168,
    "start_time": "2022-01-09T09:06:46.399Z"
   },
   {
    "duration": -169,
    "start_time": "2022-01-09T09:06:46.401Z"
   },
   {
    "duration": -170,
    "start_time": "2022-01-09T09:06:46.403Z"
   },
   {
    "duration": -170,
    "start_time": "2022-01-09T09:06:46.405Z"
   },
   {
    "duration": -148,
    "start_time": "2022-01-09T09:06:46.407Z"
   },
   {
    "duration": 566,
    "start_time": "2022-01-09T09:07:08.735Z"
   },
   {
    "duration": 358,
    "start_time": "2022-01-09T09:15:26.064Z"
   },
   {
    "duration": 236,
    "start_time": "2022-01-09T09:15:34.504Z"
   },
   {
    "duration": 36,
    "start_time": "2022-01-09T09:15:37.741Z"
   },
   {
    "duration": 5,
    "start_time": "2022-01-09T09:15:37.779Z"
   },
   {
    "duration": 22,
    "start_time": "2022-01-09T09:15:37.786Z"
   },
   {
    "duration": 163,
    "start_time": "2022-01-09T09:15:37.810Z"
   },
   {
    "duration": 20,
    "start_time": "2022-01-09T09:15:37.975Z"
   },
   {
    "duration": 105,
    "start_time": "2022-01-09T09:15:37.997Z"
   },
   {
    "duration": 15,
    "start_time": "2022-01-09T09:15:38.104Z"
   },
   {
    "duration": 148,
    "start_time": "2022-01-09T09:15:38.122Z"
   },
   {
    "duration": 17,
    "start_time": "2022-01-09T09:15:38.272Z"
   },
   {
    "duration": 284,
    "start_time": "2022-01-09T09:15:38.291Z"
   },
   {
    "duration": 156,
    "start_time": "2022-01-09T09:15:38.577Z"
   },
   {
    "duration": 136,
    "start_time": "2022-01-09T09:15:38.735Z"
   },
   {
    "duration": 92,
    "start_time": "2022-01-09T09:15:38.873Z"
   },
   {
    "duration": 8,
    "start_time": "2022-01-09T09:15:38.967Z"
   },
   {
    "duration": 197,
    "start_time": "2022-01-09T09:15:38.977Z"
   },
   {
    "duration": 205,
    "start_time": "2022-01-09T09:15:39.176Z"
   },
   {
    "duration": 192,
    "start_time": "2022-01-09T09:15:39.382Z"
   },
   {
    "duration": 213,
    "start_time": "2022-01-09T09:15:39.575Z"
   },
   {
    "duration": 195,
    "start_time": "2022-01-09T09:15:39.789Z"
   },
   {
    "duration": 188,
    "start_time": "2022-01-09T09:15:39.986Z"
   },
   {
    "duration": 175,
    "start_time": "2022-01-09T09:15:40.176Z"
   },
   {
    "duration": 193,
    "start_time": "2022-01-09T09:15:40.352Z"
   },
   {
    "duration": 189,
    "start_time": "2022-01-09T09:15:40.548Z"
   },
   {
    "duration": 3,
    "start_time": "2022-01-09T09:15:40.739Z"
   },
   {
    "duration": 459,
    "start_time": "2022-01-09T09:15:40.744Z"
   },
   {
    "duration": 7,
    "start_time": "2022-01-09T09:15:41.205Z"
   },
   {
    "duration": 14,
    "start_time": "2022-01-09T09:15:41.214Z"
   },
   {
    "duration": 185,
    "start_time": "2022-01-09T09:15:41.229Z"
   },
   {
    "duration": 221,
    "start_time": "2022-01-09T09:15:41.416Z"
   },
   {
    "duration": 282,
    "start_time": "2022-01-09T09:24:44.431Z"
   },
   {
    "duration": 385,
    "start_time": "2022-01-09T09:24:58.014Z"
   },
   {
    "duration": 383,
    "start_time": "2022-01-09T09:25:17.750Z"
   },
   {
    "duration": 238,
    "start_time": "2022-01-09T09:25:42.134Z"
   },
   {
    "duration": 912,
    "start_time": "2022-01-09T09:36:04.335Z"
   },
   {
    "duration": 793,
    "start_time": "2022-01-09T09:36:11.767Z"
   },
   {
    "duration": 661,
    "start_time": "2022-01-09T09:36:54.736Z"
   },
   {
    "duration": 240,
    "start_time": "2022-01-09T09:37:18.501Z"
   },
   {
    "duration": 643,
    "start_time": "2022-01-09T09:38:02.667Z"
   },
   {
    "duration": 668,
    "start_time": "2022-01-09T09:38:19.891Z"
   },
   {
    "duration": 735,
    "start_time": "2022-01-09T09:39:58.928Z"
   },
   {
    "duration": 189,
    "start_time": "2022-01-09T09:40:11.030Z"
   },
   {
    "duration": 556,
    "start_time": "2022-01-09T09:40:19.596Z"
   },
   {
    "duration": 631,
    "start_time": "2022-01-09T09:40:52.900Z"
   },
   {
    "duration": 570,
    "start_time": "2022-01-09T09:41:40.164Z"
   },
   {
    "duration": 909,
    "start_time": "2022-01-09T09:58:13.150Z"
   },
   {
    "duration": 423,
    "start_time": "2022-01-09T09:58:29.882Z"
   },
   {
    "duration": 447,
    "start_time": "2022-01-09T09:58:50.935Z"
   },
   {
    "duration": 551,
    "start_time": "2022-01-09T10:00:41.564Z"
   },
   {
    "duration": 627,
    "start_time": "2022-01-09T10:17:46.958Z"
   },
   {
    "duration": 7,
    "start_time": "2022-01-09T10:17:47.586Z"
   },
   {
    "duration": 21,
    "start_time": "2022-01-09T10:17:47.595Z"
   },
   {
    "duration": 155,
    "start_time": "2022-01-09T10:17:47.618Z"
   },
   {
    "duration": 19,
    "start_time": "2022-01-09T10:17:47.774Z"
   },
   {
    "duration": 93,
    "start_time": "2022-01-09T10:17:47.794Z"
   },
   {
    "duration": 14,
    "start_time": "2022-01-09T10:17:47.889Z"
   },
   {
    "duration": 142,
    "start_time": "2022-01-09T10:17:47.905Z"
   },
   {
    "duration": 20,
    "start_time": "2022-01-09T10:17:48.049Z"
   },
   {
    "duration": 285,
    "start_time": "2022-01-09T10:17:48.071Z"
   },
   {
    "duration": 170,
    "start_time": "2022-01-09T10:17:48.357Z"
   },
   {
    "duration": 124,
    "start_time": "2022-01-09T10:17:48.528Z"
   },
   {
    "duration": 83,
    "start_time": "2022-01-09T10:17:48.653Z"
   },
   {
    "duration": 24,
    "start_time": "2022-01-09T10:17:48.737Z"
   },
   {
    "duration": 256,
    "start_time": "2022-01-09T10:17:48.763Z"
   },
   {
    "duration": 191,
    "start_time": "2022-01-09T10:17:49.021Z"
   },
   {
    "duration": 186,
    "start_time": "2022-01-09T10:17:49.213Z"
   },
   {
    "duration": 252,
    "start_time": "2022-01-09T10:17:49.401Z"
   },
   {
    "duration": 189,
    "start_time": "2022-01-09T10:17:49.655Z"
   },
   {
    "duration": 186,
    "start_time": "2022-01-09T10:17:49.845Z"
   },
   {
    "duration": 180,
    "start_time": "2022-01-09T10:17:50.032Z"
   },
   {
    "duration": 205,
    "start_time": "2022-01-09T10:17:50.214Z"
   },
   {
    "duration": 189,
    "start_time": "2022-01-09T10:17:50.422Z"
   },
   {
    "duration": 669,
    "start_time": "2022-01-09T10:17:50.613Z"
   },
   {
    "duration": 3,
    "start_time": "2022-01-09T10:17:51.284Z"
   },
   {
    "duration": 7,
    "start_time": "2022-01-09T10:17:51.289Z"
   },
   {
    "duration": 10,
    "start_time": "2022-01-09T10:17:51.297Z"
   },
   {
    "duration": 4,
    "start_time": "2022-01-09T10:17:51.309Z"
   },
   {
    "duration": 209,
    "start_time": "2022-01-09T10:17:51.315Z"
   },
   {
    "duration": 211,
    "start_time": "2022-01-09T10:17:51.525Z"
   },
   {
    "duration": 168,
    "start_time": "2022-01-09T10:18:05.829Z"
   },
   {
    "duration": 1539,
    "start_time": "2022-01-09T10:22:11.660Z"
   },
   {
    "duration": 45,
    "start_time": "2022-01-09T10:22:28.108Z"
   },
   {
    "duration": 8,
    "start_time": "2022-01-09T10:22:28.155Z"
   },
   {
    "duration": 41,
    "start_time": "2022-01-09T10:22:28.165Z"
   },
   {
    "duration": 175,
    "start_time": "2022-01-09T10:22:28.208Z"
   },
   {
    "duration": 22,
    "start_time": "2022-01-09T10:22:28.386Z"
   },
   {
    "duration": 114,
    "start_time": "2022-01-09T10:22:28.410Z"
   },
   {
    "duration": 16,
    "start_time": "2022-01-09T10:22:28.526Z"
   },
   {
    "duration": 170,
    "start_time": "2022-01-09T10:22:28.544Z"
   },
   {
    "duration": 18,
    "start_time": "2022-01-09T10:22:28.718Z"
   },
   {
    "duration": 311,
    "start_time": "2022-01-09T10:22:28.739Z"
   },
   {
    "duration": 167,
    "start_time": "2022-01-09T10:22:29.052Z"
   },
   {
    "duration": 129,
    "start_time": "2022-01-09T10:22:29.221Z"
   },
   {
    "duration": 92,
    "start_time": "2022-01-09T10:22:29.353Z"
   },
   {
    "duration": 17,
    "start_time": "2022-01-09T10:22:29.446Z"
   },
   {
    "duration": 205,
    "start_time": "2022-01-09T10:22:29.464Z"
   },
   {
    "duration": 222,
    "start_time": "2022-01-09T10:22:29.671Z"
   },
   {
    "duration": 314,
    "start_time": "2022-01-09T10:22:29.896Z"
   },
   {
    "duration": 288,
    "start_time": "2022-01-09T10:22:30.212Z"
   },
   {
    "duration": 198,
    "start_time": "2022-01-09T10:22:30.501Z"
   },
   {
    "duration": 187,
    "start_time": "2022-01-09T10:22:30.701Z"
   },
   {
    "duration": 392,
    "start_time": "2022-01-09T10:22:30.889Z"
   },
   {
    "duration": 321,
    "start_time": "2022-01-09T10:22:31.283Z"
   },
   {
    "duration": 208,
    "start_time": "2022-01-09T10:22:31.605Z"
   },
   {
    "duration": 405,
    "start_time": "2022-01-09T10:22:31.814Z"
   },
   {
    "duration": 3,
    "start_time": "2022-01-09T10:22:32.220Z"
   },
   {
    "duration": 25,
    "start_time": "2022-01-09T10:22:32.225Z"
   },
   {
    "duration": 28,
    "start_time": "2022-01-09T10:22:32.253Z"
   },
   {
    "duration": 15,
    "start_time": "2022-01-09T10:22:32.283Z"
   },
   {
    "duration": 199,
    "start_time": "2022-01-09T10:22:32.299Z"
   },
   {
    "duration": 214,
    "start_time": "2022-01-09T10:22:32.500Z"
   },
   {
    "duration": 705,
    "start_time": "2022-01-09T10:33:21.597Z"
   },
   {
    "duration": 607,
    "start_time": "2022-01-09T10:34:15.904Z"
   },
   {
    "duration": 31,
    "start_time": "2022-01-09T10:34:29.088Z"
   },
   {
    "duration": 700,
    "start_time": "2022-01-09T10:41:45.310Z"
   },
   {
    "duration": 873,
    "start_time": "2022-01-09T10:42:25.631Z"
   },
   {
    "duration": 878,
    "start_time": "2022-01-09T10:42:39.151Z"
   },
   {
    "duration": 594,
    "start_time": "2022-01-09T10:43:37.395Z"
   },
   {
    "duration": 720,
    "start_time": "2022-01-09T10:43:45.126Z"
   },
   {
    "duration": 553,
    "start_time": "2022-01-09T10:46:43.398Z"
   },
   {
    "duration": 661,
    "start_time": "2022-01-09T10:48:06.437Z"
   },
   {
    "duration": 570,
    "start_time": "2022-01-09T10:51:56.912Z"
   },
   {
    "duration": 787,
    "start_time": "2022-01-09T10:56:04.696Z"
   },
   {
    "duration": 4608,
    "start_time": "2022-01-09T10:59:25.081Z"
   },
   {
    "duration": 589,
    "start_time": "2022-01-09T11:00:23.904Z"
   },
   {
    "duration": 681,
    "start_time": "2022-01-09T11:03:54.183Z"
   },
   {
    "duration": 4588,
    "start_time": "2022-01-09T11:07:38.574Z"
   },
   {
    "duration": 116,
    "start_time": "2022-01-09T11:08:27.590Z"
   },
   {
    "duration": 745,
    "start_time": "2022-01-09T11:08:39.956Z"
   },
   {
    "duration": 663,
    "start_time": "2022-01-09T11:10:17.647Z"
   },
   {
    "duration": 558,
    "start_time": "2022-01-09T12:33:58.640Z"
   },
   {
    "duration": 888,
    "start_time": "2022-01-09T12:34:08.965Z"
   },
   {
    "duration": 887,
    "start_time": "2022-01-09T12:34:19.306Z"
   },
   {
    "duration": 38,
    "start_time": "2022-01-09T13:20:41.943Z"
   },
   {
    "duration": 7,
    "start_time": "2022-01-09T13:20:41.983Z"
   },
   {
    "duration": 32,
    "start_time": "2022-01-09T13:20:41.992Z"
   },
   {
    "duration": 156,
    "start_time": "2022-01-09T13:20:42.026Z"
   },
   {
    "duration": 20,
    "start_time": "2022-01-09T13:20:42.184Z"
   },
   {
    "duration": 91,
    "start_time": "2022-01-09T13:20:42.206Z"
   },
   {
    "duration": 15,
    "start_time": "2022-01-09T13:20:42.299Z"
   },
   {
    "duration": 145,
    "start_time": "2022-01-09T13:20:42.316Z"
   },
   {
    "duration": 17,
    "start_time": "2022-01-09T13:20:42.464Z"
   },
   {
    "duration": 269,
    "start_time": "2022-01-09T13:20:42.483Z"
   },
   {
    "duration": 173,
    "start_time": "2022-01-09T13:20:42.753Z"
   },
   {
    "duration": 136,
    "start_time": "2022-01-09T13:20:42.928Z"
   },
   {
    "duration": 81,
    "start_time": "2022-01-09T13:20:43.066Z"
   },
   {
    "duration": 19,
    "start_time": "2022-01-09T13:20:43.148Z"
   },
   {
    "duration": 205,
    "start_time": "2022-01-09T13:20:43.168Z"
   },
   {
    "duration": 203,
    "start_time": "2022-01-09T13:20:43.375Z"
   },
   {
    "duration": 190,
    "start_time": "2022-01-09T13:20:43.580Z"
   },
   {
    "duration": 198,
    "start_time": "2022-01-09T13:20:43.772Z"
   },
   {
    "duration": 192,
    "start_time": "2022-01-09T13:20:43.971Z"
   },
   {
    "duration": 180,
    "start_time": "2022-01-09T13:20:44.164Z"
   },
   {
    "duration": 187,
    "start_time": "2022-01-09T13:20:44.345Z"
   },
   {
    "duration": 302,
    "start_time": "2022-01-09T13:20:44.533Z"
   },
   {
    "duration": 197,
    "start_time": "2022-01-09T13:20:44.837Z"
   },
   {
    "duration": 605,
    "start_time": "2022-01-09T13:20:45.036Z"
   },
   {
    "duration": 562,
    "start_time": "2022-01-09T13:20:45.643Z"
   },
   {
    "duration": 579,
    "start_time": "2022-01-09T13:20:46.207Z"
   },
   {
    "duration": 2,
    "start_time": "2022-01-09T13:20:46.789Z"
   },
   {
    "duration": 22,
    "start_time": "2022-01-09T13:20:46.793Z"
   },
   {
    "duration": 18,
    "start_time": "2022-01-09T13:20:46.817Z"
   },
   {
    "duration": 13,
    "start_time": "2022-01-09T13:20:46.837Z"
   },
   {
    "duration": 318,
    "start_time": "2022-01-09T13:20:46.852Z"
   },
   {
    "duration": 214,
    "start_time": "2022-01-09T13:20:47.172Z"
   },
   {
    "duration": 283,
    "start_time": "2022-01-10T08:56:52.130Z"
   },
   {
    "duration": 516,
    "start_time": "2022-01-10T08:56:56.623Z"
   },
   {
    "duration": 10,
    "start_time": "2022-01-10T08:56:57.140Z"
   },
   {
    "duration": 22,
    "start_time": "2022-01-10T08:56:57.152Z"
   },
   {
    "duration": 150,
    "start_time": "2022-01-10T08:56:57.175Z"
   },
   {
    "duration": 21,
    "start_time": "2022-01-10T08:56:57.327Z"
   },
   {
    "duration": 93,
    "start_time": "2022-01-10T08:56:57.350Z"
   },
   {
    "duration": 16,
    "start_time": "2022-01-10T08:56:57.444Z"
   },
   {
    "duration": 136,
    "start_time": "2022-01-10T08:56:57.462Z"
   },
   {
    "duration": 17,
    "start_time": "2022-01-10T08:56:57.600Z"
   },
   {
    "duration": 254,
    "start_time": "2022-01-10T08:56:57.619Z"
   },
   {
    "duration": 132,
    "start_time": "2022-01-10T08:56:57.874Z"
   },
   {
    "duration": 105,
    "start_time": "2022-01-10T08:56:58.008Z"
   },
   {
    "duration": 61,
    "start_time": "2022-01-10T08:56:58.115Z"
   },
   {
    "duration": 14,
    "start_time": "2022-01-10T08:56:58.177Z"
   },
   {
    "duration": 8,
    "start_time": "2022-01-10T08:56:58.192Z"
   },
   {
    "duration": 402,
    "start_time": "2022-01-10T08:56:58.202Z"
   },
   {
    "duration": 175,
    "start_time": "2022-01-10T08:56:58.606Z"
   },
   {
    "duration": 202,
    "start_time": "2022-01-10T08:56:58.783Z"
   },
   {
    "duration": 173,
    "start_time": "2022-01-10T08:56:58.987Z"
   },
   {
    "duration": 175,
    "start_time": "2022-01-10T08:56:59.161Z"
   },
   {
    "duration": 167,
    "start_time": "2022-01-10T08:56:59.338Z"
   },
   {
    "duration": 162,
    "start_time": "2022-01-10T08:56:59.506Z"
   },
   {
    "duration": 176,
    "start_time": "2022-01-10T08:56:59.670Z"
   },
   {
    "duration": 175,
    "start_time": "2022-01-10T08:56:59.848Z"
   },
   {
    "duration": 1255,
    "start_time": "2022-01-10T08:57:00.027Z"
   },
   {
    "duration": 519,
    "start_time": "2022-01-10T08:57:01.283Z"
   },
   {
    "duration": 518,
    "start_time": "2022-01-10T08:57:01.804Z"
   },
   {
    "duration": 4,
    "start_time": "2022-01-10T08:57:02.323Z"
   },
   {
    "duration": 399,
    "start_time": "2022-01-10T08:57:02.328Z"
   },
   {
    "duration": 6,
    "start_time": "2022-01-10T08:57:02.729Z"
   },
   {
    "duration": 6,
    "start_time": "2022-01-10T08:57:02.737Z"
   },
   {
    "duration": 177,
    "start_time": "2022-01-10T08:57:02.745Z"
   },
   {
    "duration": 190,
    "start_time": "2022-01-10T08:57:02.926Z"
   },
   {
    "duration": 16,
    "start_time": "2022-01-10T08:59:30.814Z"
   },
   {
    "duration": 702,
    "start_time": "2022-01-10T09:48:23.359Z"
   },
   {
    "duration": 6,
    "start_time": "2022-01-10T09:48:24.062Z"
   },
   {
    "duration": 28,
    "start_time": "2022-01-10T09:48:24.070Z"
   },
   {
    "duration": 145,
    "start_time": "2022-01-10T09:48:24.099Z"
   },
   {
    "duration": 18,
    "start_time": "2022-01-10T09:48:24.245Z"
   },
   {
    "duration": 104,
    "start_time": "2022-01-10T09:48:24.264Z"
   },
   {
    "duration": 13,
    "start_time": "2022-01-10T09:48:24.369Z"
   },
   {
    "duration": 145,
    "start_time": "2022-01-10T09:48:24.384Z"
   },
   {
    "duration": 14,
    "start_time": "2022-01-10T09:48:24.531Z"
   },
   {
    "duration": 255,
    "start_time": "2022-01-10T09:48:24.547Z"
   },
   {
    "duration": 146,
    "start_time": "2022-01-10T09:48:24.803Z"
   },
   {
    "duration": 110,
    "start_time": "2022-01-10T09:48:24.951Z"
   },
   {
    "duration": 90,
    "start_time": "2022-01-10T09:48:25.063Z"
   },
   {
    "duration": 15,
    "start_time": "2022-01-10T09:48:25.155Z"
   },
   {
    "duration": 16,
    "start_time": "2022-01-10T09:48:25.171Z"
   },
   {
    "duration": 347,
    "start_time": "2022-01-10T09:48:25.189Z"
   },
   {
    "duration": 183,
    "start_time": "2022-01-10T09:48:25.537Z"
   },
   {
    "duration": 163,
    "start_time": "2022-01-10T09:48:25.721Z"
   },
   {
    "duration": 210,
    "start_time": "2022-01-10T09:48:25.886Z"
   },
   {
    "duration": 173,
    "start_time": "2022-01-10T09:48:26.097Z"
   },
   {
    "duration": 167,
    "start_time": "2022-01-10T09:48:26.271Z"
   },
   {
    "duration": 167,
    "start_time": "2022-01-10T09:48:26.440Z"
   },
   {
    "duration": 187,
    "start_time": "2022-01-10T09:48:26.610Z"
   },
   {
    "duration": 184,
    "start_time": "2022-01-10T09:48:26.799Z"
   },
   {
    "duration": 626,
    "start_time": "2022-01-10T09:48:26.984Z"
   },
   {
    "duration": 581,
    "start_time": "2022-01-10T09:48:27.612Z"
   },
   {
    "duration": 498,
    "start_time": "2022-01-10T09:48:28.194Z"
   },
   {
    "duration": 2,
    "start_time": "2022-01-10T09:48:28.694Z"
   },
   {
    "duration": 365,
    "start_time": "2022-01-10T09:48:28.698Z"
   },
   {
    "duration": 7,
    "start_time": "2022-01-10T09:48:29.064Z"
   },
   {
    "duration": 6,
    "start_time": "2022-01-10T09:48:29.073Z"
   },
   {
    "duration": 184,
    "start_time": "2022-01-10T09:48:29.080Z"
   },
   {
    "duration": 236,
    "start_time": "2022-01-10T09:48:29.266Z"
   }
  ],
  "kernelspec": {
   "display_name": "Python 3 (ipykernel)",
   "language": "python",
   "name": "python3"
  },
  "language_info": {
   "codemirror_mode": {
    "name": "ipython",
    "version": 3
   },
   "file_extension": ".py",
   "mimetype": "text/x-python",
   "name": "python",
   "nbconvert_exporter": "python",
   "pygments_lexer": "ipython3",
   "version": "3.10.5"
  },
  "toc": {
   "base_numbering": 1,
   "nav_menu": {},
   "number_sections": true,
   "sideBar": true,
   "skip_h1_title": true,
   "title_cell": "Table of Contents",
   "title_sidebar": "Contents",
   "toc_cell": false,
   "toc_position": {},
   "toc_section_display": true,
   "toc_window_display": true
  }
 },
 "nbformat": 4,
 "nbformat_minor": 2
}
